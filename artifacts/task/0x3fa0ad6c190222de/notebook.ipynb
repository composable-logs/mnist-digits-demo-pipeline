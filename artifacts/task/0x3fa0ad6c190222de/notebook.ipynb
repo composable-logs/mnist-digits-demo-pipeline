{
 "cells": [
  {
   "cell_type": "markdown",
   "id": "5d7af447",
   "metadata": {
    "papermill": {
     "duration": 0.005334,
     "end_time": "2023-07-19T06:35:58.827828",
     "exception": false,
     "start_time": "2023-07-19T06:35:58.822494",
     "status": "completed"
    },
    "tags": []
   },
   "source": [
    "# Benchmark model\n",
    "\n",
    "The purpose of this notebook is to benchmark persisted onnx-model (trained in the\n",
    "previous step) against evaluation set."
   ]
  },
  {
   "cell_type": "markdown",
   "id": "9a4333d6",
   "metadata": {
    "papermill": {
     "duration": 0.003749,
     "end_time": "2023-07-19T06:35:58.837991",
     "exception": false,
     "start_time": "2023-07-19T06:35:58.834242",
     "status": "completed"
    },
    "tags": []
   },
   "source": [
    "### Determine run parameters"
   ]
  },
  {
   "cell_type": "code",
   "execution_count": 1,
   "id": "07dbf7f9",
   "metadata": {
    "execution": {
     "iopub.execute_input": "2023-07-19T06:35:58.848216Z",
     "iopub.status.busy": "2023-07-19T06:35:58.847938Z",
     "iopub.status.idle": "2023-07-19T06:35:58.856640Z",
     "shell.execute_reply": "2023-07-19T06:35:58.856036Z"
    },
    "lines_to_next_cell": 0,
    "papermill": {
     "duration": 0.016634,
     "end_time": "2023-07-19T06:35:58.858515",
     "exception": false,
     "start_time": "2023-07-19T06:35:58.841881",
     "status": "completed"
    },
    "tags": []
   },
   "outputs": [],
   "source": [
    "# ----------------- Parameters for interactive development --------------\n",
    "P = {\n",
    "    \"workflow.data_lake_root\": \"/pipeline-outputs/data-lake\",\n",
    "    \"task.nr_train_images\": 600,\n",
    "}"
   ]
  },
  {
   "cell_type": "code",
   "execution_count": 2,
   "id": "e9b915ff",
   "metadata": {
    "execution": {
     "iopub.execute_input": "2023-07-19T06:35:58.867957Z",
     "iopub.status.busy": "2023-07-19T06:35:58.867714Z",
     "iopub.status.idle": "2023-07-19T06:35:58.871844Z",
     "shell.execute_reply": "2023-07-19T06:35:58.871271Z"
    },
    "lines_to_next_cell": 0,
    "papermill": {
     "duration": 0.010986,
     "end_time": "2023-07-19T06:35:58.873602",
     "exception": false,
     "start_time": "2023-07-19T06:35:58.862616",
     "status": "completed"
    },
    "tags": [
     "parameters"
    ]
   },
   "outputs": [],
   "source": [
    "# - During automated runs parameters will be injected in the below cell -"
   ]
  },
  {
   "cell_type": "code",
   "execution_count": 3,
   "id": "fed4a496",
   "metadata": {
    "execution": {
     "iopub.execute_input": "2023-07-19T06:35:58.883180Z",
     "iopub.status.busy": "2023-07-19T06:35:58.882876Z",
     "iopub.status.idle": "2023-07-19T06:35:58.886885Z",
     "shell.execute_reply": "2023-07-19T06:35:58.886317Z"
    },
    "papermill": {
     "duration": 0.010953,
     "end_time": "2023-07-19T06:35:58.888702",
     "exception": false,
     "start_time": "2023-07-19T06:35:58.877749",
     "status": "completed"
    },
    "tags": [
     "injected-parameters"
    ]
   },
   "outputs": [],
   "source": [
    "# Parameters\n",
    "P = {\n",
    "    \"task.nr_train_images\": 1000,\n",
    "    \"_parameters_actor_name\": \"parameter_for_task_0x3fa0ad6c190222de\",\n",
    "}\n"
   ]
  },
  {
   "cell_type": "code",
   "execution_count": 4,
   "id": "017169ae",
   "metadata": {
    "execution": {
     "iopub.execute_input": "2023-07-19T06:35:58.898406Z",
     "iopub.status.busy": "2023-07-19T06:35:58.898144Z",
     "iopub.status.idle": "2023-07-19T06:35:58.902452Z",
     "shell.execute_reply": "2023-07-19T06:35:58.901827Z"
    },
    "lines_to_next_cell": 0,
    "papermill": {
     "duration": 0.011317,
     "end_time": "2023-07-19T06:35:58.904316",
     "exception": false,
     "start_time": "2023-07-19T06:35:58.892999",
     "status": "completed"
    },
    "tags": []
   },
   "outputs": [],
   "source": [
    "# -----------------------------------------------------------------------"
   ]
  },
  {
   "cell_type": "markdown",
   "id": "b73d11f1",
   "metadata": {
    "papermill": {
     "duration": 0.004039,
     "end_time": "2023-07-19T06:35:58.912564",
     "exception": false,
     "start_time": "2023-07-19T06:35:58.908525",
     "status": "completed"
    },
    "tags": []
   },
   "source": [
    "---"
   ]
  },
  {
   "cell_type": "markdown",
   "id": "5a59f725",
   "metadata": {
    "lines_to_next_cell": 2,
    "papermill": {
     "duration": 0.004084,
     "end_time": "2023-07-19T06:35:58.928731",
     "exception": false,
     "start_time": "2023-07-19T06:35:58.924647",
     "status": "completed"
    },
    "tags": []
   },
   "source": [
    "### Notebook code"
   ]
  },
  {
   "cell_type": "code",
   "execution_count": 5,
   "id": "6a99c716",
   "metadata": {
    "execution": {
     "iopub.execute_input": "2023-07-19T06:35:58.939347Z",
     "iopub.status.busy": "2023-07-19T06:35:58.939075Z",
     "iopub.status.idle": "2023-07-19T06:35:59.832535Z",
     "shell.execute_reply": "2023-07-19T06:35:59.831812Z"
    },
    "papermill": {
     "duration": 0.901001,
     "end_time": "2023-07-19T06:35:59.834343",
     "exception": false,
     "start_time": "2023-07-19T06:35:58.933342",
     "status": "completed"
    },
    "tags": []
   },
   "outputs": [
    {
     "name": "stderr",
     "output_type": "stream",
     "text": [
      "2023-07-19 06:35:59,743\tINFO worker.py:1364 -- Connecting to existing Ray cluster at address: 172.17.0.2:56162...\n"
     ]
    },
    {
     "name": "stderr",
     "output_type": "stream",
     "text": [
      "2023-07-19 06:35:59,753\tINFO worker.py:1544 -- Connected to Ray cluster. View the dashboard at \u001b[1m\u001b[32mhttp://127.0.0.1:8265 \u001b[39m\u001b[22m\n"
     ]
    },
    {
     "name": "stderr",
     "output_type": "stream",
     "text": [
      "/home/host_user/.local/lib/python3.8/site-packages/ray/runtime_context.py:27: RayDeprecationWarning: This API is deprecated and may be removed in future Ray releases. You could suppress this warning by setting env variable PYTHONWARNINGS=\"ignore::DeprecationWarning\"\n",
      "Use get_job_id() instead\n",
      "  \"job_id\": self.job_id,\n",
      "/home/host_user/.local/lib/python3.8/site-packages/ray/runtime_context.py:28: RayDeprecationWarning: This API is deprecated and may be removed in future Ray releases. You could suppress this warning by setting env variable PYTHONWARNINGS=\"ignore::DeprecationWarning\"\n",
      "Use get_node_id() instead\n",
      "  \"node_id\": self.node_id,\n"
     ]
    }
   ],
   "source": [
    "import itertools as it\n",
    "\n",
    "#\n",
    "import numpy as np\n",
    "import matplotlib.pyplot as plt\n",
    "\n",
    "#\n",
    "from composable_logs.tasks.task_opentelemetry_logging import get_task_context\n",
    "\n",
    "#\n",
    "from common.io import datalake_root\n",
    "\n",
    "ctx = get_task_context(P)"
   ]
  },
  {
   "cell_type": "markdown",
   "id": "e21664c4",
   "metadata": {
    "papermill": {
     "duration": 0.004916,
     "end_time": "2023-07-19T06:35:59.854866",
     "exception": false,
     "start_time": "2023-07-19T06:35:59.849950",
     "status": "completed"
    },
    "tags": []
   },
   "source": [
    "## Load persisted onnx-model and evaluation data"
   ]
  },
  {
   "cell_type": "code",
   "execution_count": 6,
   "id": "e58f6c89",
   "metadata": {
    "execution": {
     "iopub.execute_input": "2023-07-19T06:35:59.865248Z",
     "iopub.status.busy": "2023-07-19T06:35:59.864962Z",
     "iopub.status.idle": "2023-07-19T06:35:59.869714Z",
     "shell.execute_reply": "2023-07-19T06:35:59.869148Z"
    },
    "papermill": {
     "duration": 0.012221,
     "end_time": "2023-07-19T06:35:59.871492",
     "exception": false,
     "start_time": "2023-07-19T06:35:59.859271",
     "status": "completed"
    },
    "tags": []
   },
   "outputs": [],
   "source": [
    "from common.io import read_onnx, get_onnx_inputs, get_onnx_outputs, read_numpy"
   ]
  },
  {
   "cell_type": "code",
   "execution_count": 7,
   "id": "58e86be0",
   "metadata": {
    "execution": {
     "iopub.execute_input": "2023-07-19T06:35:59.883989Z",
     "iopub.status.busy": "2023-07-19T06:35:59.883702Z",
     "iopub.status.idle": "2023-07-19T06:35:59.893092Z",
     "shell.execute_reply": "2023-07-19T06:35:59.892402Z"
    },
    "lines_to_next_cell": 0,
    "papermill": {
     "duration": 0.019235,
     "end_time": "2023-07-19T06:35:59.895065",
     "exception": false,
     "start_time": "2023-07-19T06:35:59.875830",
     "status": "completed"
    },
    "tags": []
   },
   "outputs": [],
   "source": [
    "onnx_inference_session = read_onnx(\n",
    "    datalake_root(ctx)\n",
    "    / \"models\"\n",
    "    / f\"nr_train_images={ctx.parameters['task.nr_train_images']}\"\n",
    "    / \"model.onnx\"\n",
    ")"
   ]
  },
  {
   "cell_type": "markdown",
   "id": "b9de7c5a",
   "metadata": {
    "papermill": {
     "duration": 0.004297,
     "end_time": "2023-07-19T06:35:59.903725",
     "exception": false,
     "start_time": "2023-07-19T06:35:59.899428",
     "status": "completed"
    },
    "tags": []
   },
   "source": [
    "### Record structure of inputs and outputs for ONNX model\n",
    "\n",
    "(this should likely be done in training notebook)"
   ]
  },
  {
   "cell_type": "code",
   "execution_count": 8,
   "id": "2ff55774",
   "metadata": {
    "execution": {
     "iopub.execute_input": "2023-07-19T06:35:59.913909Z",
     "iopub.status.busy": "2023-07-19T06:35:59.913630Z",
     "iopub.status.idle": "2023-07-19T06:35:59.920696Z",
     "shell.execute_reply": "2023-07-19T06:35:59.920134Z"
    },
    "papermill": {
     "duration": 0.014301,
     "end_time": "2023-07-19T06:35:59.922411",
     "exception": false,
     "start_time": "2023-07-19T06:35:59.908110",
     "status": "completed"
    },
    "tags": []
   },
   "outputs": [
    {
     "name": "stdout",
     "output_type": "stream",
     "text": [
      "{\n",
      "  \"inputs\": [\n",
      "    {\n",
      "      \"name\": \"float_input_8x8_image\",\n",
      "      \"shape\": [\n",
      "        null,\n",
      "        64\n",
      "      ],\n",
      "      \"type\": \"tensor(float)\"\n",
      "    }\n",
      "  ],\n",
      "  \"outputs\": [\n",
      "    {\n",
      "      \"name\": \"output_label\",\n",
      "      \"shape\": [\n",
      "        null\n",
      "      ],\n",
      "      \"type\": \"tensor(int64)\"\n",
      "    },\n",
      "    {\n",
      "      \"name\": \"output_probability\",\n",
      "      \"shape\": [],\n",
      "      \"type\": \"seq(map(int64,tensor(float)))\"\n",
      "    }\n",
      "  ]\n",
      "}\n"
     ]
    }
   ],
   "source": [
    "import json\n",
    "\n",
    "onnx_io = json.dumps(\n",
    "    {\n",
    "        \"inputs\": get_onnx_inputs(onnx_inference_session),\n",
    "        \"outputs\": get_onnx_outputs(onnx_inference_session),\n",
    "    },\n",
    "    indent=2,\n",
    ")\n",
    "\n",
    "\n",
    "ctx.log_artefact(\"onnx_io_structure.json\", onnx_io)\n",
    "print(onnx_io)"
   ]
  },
  {
   "cell_type": "markdown",
   "id": "d556f0f2",
   "metadata": {
    "papermill": {
     "duration": 0.004148,
     "end_time": "2023-07-19T06:35:59.930936",
     "exception": false,
     "start_time": "2023-07-19T06:35:59.926788",
     "status": "completed"
    },
    "tags": []
   },
   "source": [
    "### Evaluate model performance on evaluation data set"
   ]
  },
  {
   "cell_type": "code",
   "execution_count": 9,
   "id": "db8d871d",
   "metadata": {
    "execution": {
     "iopub.execute_input": "2023-07-19T06:35:59.941058Z",
     "iopub.status.busy": "2023-07-19T06:35:59.940773Z",
     "iopub.status.idle": "2023-07-19T06:35:59.952699Z",
     "shell.execute_reply": "2023-07-19T06:35:59.946017Z"
    },
    "papermill": {
     "duration": 0.019373,
     "end_time": "2023-07-19T06:35:59.954723",
     "exception": false,
     "start_time": "2023-07-19T06:35:59.935350",
     "status": "completed"
    },
    "tags": []
   },
   "outputs": [],
   "source": [
    "# load evaluation data\n",
    "X_test = read_numpy(datalake_root(ctx) / \"test-data\" / \"digits.numpy\")\n",
    "y_test = read_numpy(datalake_root(ctx) / \"test-data\" / \"labels.numpy\")"
   ]
  },
  {
   "cell_type": "code",
   "execution_count": 10,
   "id": "5b1222d5",
   "metadata": {
    "execution": {
     "iopub.execute_input": "2023-07-19T06:35:59.965025Z",
     "iopub.status.busy": "2023-07-19T06:35:59.964775Z",
     "iopub.status.idle": "2023-07-19T06:35:59.977967Z",
     "shell.execute_reply": "2023-07-19T06:35:59.977409Z"
    },
    "papermill": {
     "duration": 0.020549,
     "end_time": "2023-07-19T06:35:59.979903",
     "exception": false,
     "start_time": "2023-07-19T06:35:59.959354",
     "status": "completed"
    },
    "tags": []
   },
   "outputs": [],
   "source": [
    "def get_model_outputs(X, onnx_inference_session):\n",
    "    y_pred_labels, y_pred_map = onnx_inference_session.run(\n",
    "        [\"output_label\", \"output_probability\"],\n",
    "        {\"float_input_8x8_image\": X.astype(np.float32)},\n",
    "    )\n",
    "    y_pred_probs = np.array(\n",
    "        [[probabilities[digit] for digit in range(10)] for probabilities in y_pred_map]\n",
    "    )\n",
    "\n",
    "    assert y_pred_labels.shape == (X.shape[0],)\n",
    "    assert y_pred_probs.shape == (X.shape[0], 10)\n",
    "\n",
    "    return y_pred_labels, y_pred_probs\n",
    "\n",
    "\n",
    "# Note: as shown in the training notebook, the predicted labels and probabilities\n",
    "# computed below need not be compatible.\n",
    "y_pred_labels_test, y_pred_probs_test = get_model_outputs(\n",
    "    X_test, onnx_inference_session\n",
    ")"
   ]
  },
  {
   "cell_type": "markdown",
   "id": "aecbd094",
   "metadata": {
    "papermill": {
     "duration": 0.004486,
     "end_time": "2023-07-19T06:35:59.989134",
     "exception": false,
     "start_time": "2023-07-19T06:35:59.984648",
     "status": "completed"
    },
    "tags": []
   },
   "source": [
    "### Confusion matrix"
   ]
  },
  {
   "cell_type": "code",
   "execution_count": 11,
   "id": "788d4348",
   "metadata": {
    "execution": {
     "iopub.execute_input": "2023-07-19T06:35:59.999882Z",
     "iopub.status.busy": "2023-07-19T06:35:59.999606Z",
     "iopub.status.idle": "2023-07-19T06:36:00.003890Z",
     "shell.execute_reply": "2023-07-19T06:36:00.003299Z"
    },
    "papermill": {
     "duration": 0.012049,
     "end_time": "2023-07-19T06:36:00.005778",
     "exception": false,
     "start_time": "2023-07-19T06:35:59.993729",
     "status": "completed"
    },
    "tags": []
   },
   "outputs": [],
   "source": [
    "# TODO"
   ]
  },
  {
   "cell_type": "markdown",
   "id": "4c59cb5f",
   "metadata": {
    "papermill": {
     "duration": 0.004467,
     "end_time": "2023-07-19T06:36:00.015033",
     "exception": false,
     "start_time": "2023-07-19T06:36:00.010566",
     "status": "completed"
    },
    "tags": []
   },
   "source": [
    "### Plot predicted probabilities for each classifier over all evaluation digit images"
   ]
  },
  {
   "cell_type": "code",
   "execution_count": 12,
   "id": "71a4638e",
   "metadata": {
    "execution": {
     "iopub.execute_input": "2023-07-19T06:36:00.025909Z",
     "iopub.status.busy": "2023-07-19T06:36:00.025614Z",
     "iopub.status.idle": "2023-07-19T06:36:03.719012Z",
     "shell.execute_reply": "2023-07-19T06:36:03.718375Z"
    },
    "papermill": {
     "duration": 3.701242,
     "end_time": "2023-07-19T06:36:03.720769",
     "exception": false,
     "start_time": "2023-07-19T06:36:00.019527",
     "status": "completed"
    },
    "tags": []
   },
   "outputs": [
    {
     "data": {
      "image/png": "[encoded data removed]",
      "text/plain": [
       "<Figure size 1600x600 with 10 Axes>"
      ]
     },
     "metadata": {},
     "output_type": "display_data"
    }
   ],
   "source": [
    "def plot_per_digit_probabilities(y_pred_probs):\n",
    "    fig, axs = plt.subplots(nrows=2, ncols=5, figsize=(16, 6))\n",
    "\n",
    "    for (r, c), digit, ax in zip(\n",
    "        it.product(range(2), range(5)), range(10), axs.reshape(-1)\n",
    "    ):\n",
    "        ax.hist(y_pred_probs_test[:, digit], bins=20)\n",
    "\n",
    "        ax.set_title(f\"Digit {digit}\")\n",
    "        if r == 1 and c == 2:\n",
    "            ax.set_xlabel(\"probability\", fontsize=16)\n",
    "\n",
    "        if c == 0:\n",
    "            ax.set_ylabel(\"counts\", fontsize=16)\n",
    "        ax.set_yscale(\"log\")\n",
    "\n",
    "    fig.tight_layout()\n",
    "    fig.suptitle(\n",
    "        f\"Distributions of prediction probabilities for each digit \"\n",
    "        f\"(on evaluation data, n={y_pred_probs.shape[0]})\",\n",
    "        fontsize=20,\n",
    "    )\n",
    "    fig.tight_layout()\n",
    "    fig.show()\n",
    "\n",
    "    return fig\n",
    "\n",
    "\n",
    "fig = plot_per_digit_probabilities(y_pred_probs_test)"
   ]
  },
  {
   "cell_type": "markdown",
   "id": "af6e0878",
   "metadata": {
    "papermill": {
     "duration": 0.005625,
     "end_time": "2023-07-19T06:36:03.731931",
     "exception": false,
     "start_time": "2023-07-19T06:36:03.726306",
     "status": "completed"
    },
    "tags": []
   },
   "source": [
    "From the above distributions we see that most digits have clear separation between\n",
    "high and lower probabilities. Morover, in each case there is roughly an order of\n",
    "magnitude more of digits with low probabilities. This is compatible with digits\n",
    "being roughly evenly distributed in the data."
   ]
  },
  {
   "cell_type": "code",
   "execution_count": 13,
   "id": "3e1812ca",
   "metadata": {
    "execution": {
     "iopub.execute_input": "2023-07-19T06:36:03.743650Z",
     "iopub.status.busy": "2023-07-19T06:36:03.743377Z",
     "iopub.status.idle": "2023-07-19T06:36:04.355913Z",
     "shell.execute_reply": "2023-07-19T06:36:04.350753Z"
    },
    "papermill": {
     "duration": 0.625646,
     "end_time": "2023-07-19T06:36:04.362678",
     "exception": false,
     "start_time": "2023-07-19T06:36:03.737032",
     "status": "completed"
    },
    "tags": []
   },
   "outputs": [],
   "source": [
    "ctx.log_figure(\"per-digit-probabilities.png\", fig)"
   ]
  },
  {
   "cell_type": "markdown",
   "id": "61611f37",
   "metadata": {
    "papermill": {
     "duration": 0.005408,
     "end_time": "2023-07-19T06:36:04.374334",
     "exception": false,
     "start_time": "2023-07-19T06:36:04.368926",
     "status": "completed"
    },
    "tags": []
   },
   "source": [
    "### Plot ROC curves for individual one-vs-rest classifiers"
   ]
  },
  {
   "cell_type": "code",
   "execution_count": 14,
   "id": "d6761868",
   "metadata": {
    "execution": {
     "iopub.execute_input": "2023-07-19T06:36:04.387619Z",
     "iopub.status.busy": "2023-07-19T06:36:04.387311Z",
     "iopub.status.idle": "2023-07-19T06:36:04.684537Z",
     "shell.execute_reply": "2023-07-19T06:36:04.683846Z"
    },
    "papermill": {
     "duration": 0.306828,
     "end_time": "2023-07-19T06:36:04.686518",
     "exception": false,
     "start_time": "2023-07-19T06:36:04.379690",
     "status": "completed"
    },
    "tags": []
   },
   "outputs": [],
   "source": [
    "from sklearn import metrics"
   ]
  },
  {
   "cell_type": "code",
   "execution_count": 15,
   "id": "65bdcc6c",
   "metadata": {
    "execution": {
     "iopub.execute_input": "2023-07-19T06:36:04.699140Z",
     "iopub.status.busy": "2023-07-19T06:36:04.698720Z",
     "iopub.status.idle": "2023-07-19T06:36:06.402783Z",
     "shell.execute_reply": "2023-07-19T06:36:06.402174Z"
    },
    "papermill": {
     "duration": 1.712766,
     "end_time": "2023-07-19T06:36:06.404851",
     "exception": false,
     "start_time": "2023-07-19T06:36:04.692085",
     "status": "completed"
    },
    "tags": []
   },
   "outputs": [
    {
     "data": {
      "image/png": "[encoded data removed]",
      "text/plain": [
       "<Figure size 1600x800 with 10 Axes>"
      ]
     },
     "metadata": {},
     "output_type": "display_data"
    }
   ],
   "source": [
    "def plot_roc_curves(y, y_pred_probs):\n",
    "    # based on example code\n",
    "    # https://scikit-learn.org/stable/auto_examples/model_selection/plot_roc.html\n",
    "\n",
    "    fig, axs = plt.subplots(nrows=2, ncols=5, figsize=(16, 8))\n",
    "\n",
    "    roc_auc_dict = {}\n",
    "\n",
    "    for (r, c), digit, ax in zip(\n",
    "        it.product(range(2), range(5)), range(10), axs.reshape(-1)\n",
    "    ):\n",
    "        fpr, tpr, _ = metrics.roc_curve(y == digit, y_pred_probs[:, digit])\n",
    "        auc = metrics.auc(fpr, tpr)\n",
    "        roc_auc_dict[str(digit)] = auc\n",
    "\n",
    "        ax.plot(fpr, tpr, label=f\"ROC AUC={round(auc, 3)}\")\n",
    "\n",
    "        ax.set_title(f\"\\nDigit {digit}\", fontsize=16)\n",
    "        if r == 1:\n",
    "            ax.set_xlabel(\"FPR\", fontsize=18)\n",
    "\n",
    "        if c == 0:\n",
    "            ax.set_ylabel(\"TPR\", fontsize=18)\n",
    "\n",
    "        ax.set_xlim([-0.05, 1.05])\n",
    "        ax.set_ylim([-0.05, 1.05])\n",
    "        ax.legend(loc=\"lower right\", frameon=False, fontsize=14)\n",
    "\n",
    "    fig.tight_layout()\n",
    "    fig.suptitle(\n",
    "        f\"ROC plots for one-vs-rest performances \"\n",
    "        f\"(on evaluation data, n={y_pred_probs_test.shape[1]}\",\n",
    "        fontsize=22,\n",
    "    )\n",
    "    fig.tight_layout()\n",
    "    fig.show()\n",
    "\n",
    "    return roc_auc_dict, fig\n",
    "\n",
    "\n",
    "roc_auc_dict, fig = plot_roc_curves(y_test, y_pred_probs_test)"
   ]
  },
  {
   "cell_type": "code",
   "execution_count": 16,
   "id": "c8bc48ef",
   "metadata": {
    "execution": {
     "iopub.execute_input": "2023-07-19T06:36:06.420338Z",
     "iopub.status.busy": "2023-07-19T06:36:06.419598Z",
     "iopub.status.idle": "2023-07-19T06:36:06.848390Z",
     "shell.execute_reply": "2023-07-19T06:36:06.847796Z"
    },
    "papermill": {
     "duration": 0.43807,
     "end_time": "2023-07-19T06:36:06.850271",
     "exception": false,
     "start_time": "2023-07-19T06:36:06.412201",
     "status": "completed"
    },
    "tags": []
   },
   "outputs": [],
   "source": [
    "ctx.log_figure(\"per-digit-roc-curves.png\", fig)"
   ]
  },
  {
   "cell_type": "code",
   "execution_count": 17,
   "id": "788eddff",
   "metadata": {
    "execution": {
     "iopub.execute_input": "2023-07-19T06:36:06.864422Z",
     "iopub.status.busy": "2023-07-19T06:36:06.864150Z",
     "iopub.status.idle": "2023-07-19T06:36:06.871306Z",
     "shell.execute_reply": "2023-07-19T06:36:06.870112Z"
    },
    "papermill": {
     "duration": 0.016196,
     "end_time": "2023-07-19T06:36:06.872884",
     "exception": false,
     "start_time": "2023-07-19T06:36:06.856688",
     "status": "completed"
    },
    "tags": []
   },
   "outputs": [
    {
     "data": {
      "text/plain": [
       "{'0': 1.0,\n",
       " '1': 0.999025304592315,\n",
       " '2': 1.0,\n",
       " '3': 0.9998500468603562,\n",
       " '4': 0.9995808565767413,\n",
       " '5': 0.9994001874414246,\n",
       " '6': 0.999923792104862,\n",
       " '7': 0.9997713763145862,\n",
       " '8': 0.995546973518285,\n",
       " '9': 0.9996189605243103}"
      ]
     },
     "execution_count": 17,
     "metadata": {},
     "output_type": "execute_result"
    }
   ],
   "source": [
    "roc_auc_dict"
   ]
  },
  {
   "cell_type": "code",
   "execution_count": 18,
   "id": "51ac1a6b",
   "metadata": {
    "execution": {
     "iopub.execute_input": "2023-07-19T06:36:06.887385Z",
     "iopub.status.busy": "2023-07-19T06:36:06.886914Z",
     "iopub.status.idle": "2023-07-19T06:36:06.892743Z",
     "shell.execute_reply": "2023-07-19T06:36:06.892115Z"
    },
    "papermill": {
     "duration": 0.015049,
     "end_time": "2023-07-19T06:36:06.894461",
     "exception": false,
     "start_time": "2023-07-19T06:36:06.879412",
     "status": "completed"
    },
    "tags": []
   },
   "outputs": [
    {
     "name": "stdout",
     "output_type": "stream",
     "text": [
      " - Logging roc_auc_per_digit (json) : {'0': 1.0, '1': 0.999025304592315, '2': 1.0, '3': 0.9998500468603562, '4': 0.9995808565767413, '5': 0.9994001874414246, '6': 0.999923792104862, '7': 0.9997713763145862, '8': 0.995546973518285, '9': 0.9996189605243103}\n"
     ]
    }
   ],
   "source": [
    "ctx.log_value(\"roc_auc_per_digit\", roc_auc_dict)"
   ]
  },
  {
   "cell_type": "markdown",
   "id": "a86817b1",
   "metadata": {
    "papermill": {
     "duration": 0.006447,
     "end_time": "2023-07-19T06:36:06.907885",
     "exception": false,
     "start_time": "2023-07-19T06:36:06.901438",
     "status": "completed"
    },
    "tags": []
   },
   "source": [
    "### Compute and log mean ROC AUC score averaged over all digits"
   ]
  },
  {
   "cell_type": "code",
   "execution_count": 19,
   "id": "2f856d72",
   "metadata": {
    "execution": {
     "iopub.execute_input": "2023-07-19T06:36:06.922303Z",
     "iopub.status.busy": "2023-07-19T06:36:06.922012Z",
     "iopub.status.idle": "2023-07-19T06:36:06.940881Z",
     "shell.execute_reply": "2023-07-19T06:36:06.940297Z"
    },
    "papermill": {
     "duration": 0.028353,
     "end_time": "2023-07-19T06:36:06.942661",
     "exception": false,
     "start_time": "2023-07-19T06:36:06.914308",
     "status": "completed"
    },
    "tags": []
   },
   "outputs": [
    {
     "name": "stdout",
     "output_type": "stream",
     "text": [
      " - Logging roc_auc_class_mean (float) : 0.9992717497932881\n"
     ]
    }
   ],
   "source": [
    "roc_auc_macro = np.mean(list(roc_auc_dict.values()))\n",
    "\n",
    "ctx.log_float(\"roc_auc_class_mean\", roc_auc_macro)\n",
    "\n",
    "# assert that the same value can be computed directly using sklearn\n",
    "assert roc_auc_macro == metrics.roc_auc_score(\n",
    "    y_test, y_pred_probs_test, average=\"macro\", multi_class=\"ovr\"\n",
    ")"
   ]
  },
  {
   "cell_type": "code",
   "execution_count": 20,
   "id": "be11b54d",
   "metadata": {
    "execution": {
     "iopub.execute_input": "2023-07-19T06:36:06.957511Z",
     "iopub.status.busy": "2023-07-19T06:36:06.957198Z",
     "iopub.status.idle": "2023-07-19T06:36:06.961103Z",
     "shell.execute_reply": "2023-07-19T06:36:06.960567Z"
    },
    "lines_to_next_cell": 0,
    "papermill": {
     "duration": 0.013264,
     "end_time": "2023-07-19T06:36:06.962881",
     "exception": false,
     "start_time": "2023-07-19T06:36:06.949617",
     "status": "completed"
    },
    "tags": []
   },
   "outputs": [],
   "source": [
    "# ---"
   ]
  },
  {
   "cell_type": "code",
   "execution_count": null,
   "id": "aa9f4706",
   "metadata": {
    "papermill": {
     "duration": 0.00653,
     "end_time": "2023-07-19T06:36:06.976018",
     "exception": false,
     "start_time": "2023-07-19T06:36:06.969488",
     "status": "completed"
    },
    "tags": []
   },
   "outputs": [],
   "source": []
  }
 ],
 "metadata": {
  "jupytext": {
   "cell_metadata_filter": "tags,-all",
   "main_language": "python",
   "notebook_metadata_filter": "-all"
  },
  "language_info": {
   "codemirror_mode": {
    "name": "ipython",
    "version": 3
   },
   "file_extension": ".py",
   "mimetype": "text/x-python",
   "name": "python",
   "nbconvert_exporter": "python",
   "pygments_lexer": "ipython3",
   "version": "3.8.10"
  },
  "papermill": {
   "default_parameters": {},
   "duration": 11.249786,
   "end_time": "2023-07-19T06:36:08.726924",
   "environment_variables": {},
   "exception": null,
   "input_path": "/tmp/temp-notebook-805o90yb.ipynb",
   "output_path": "/tmp/temp-notebook-805o90yb.ipynb",
   "parameters": {
    "P": {
     "_parameters_actor_name": "parameter_for_task_0x3fa0ad6c190222de",
     "task.nr_train_images": 1000
    }
   },
   "start_time": "2023-07-19T06:35:57.477138",
   "version": "2.4.0"
  }
 },
 "nbformat": 4,
 "nbformat_minor": 5
}