{
 "cells": [
  {
   "cell_type": "markdown",
   "id": "e6116eb3",
   "metadata": {
    "papermill": {
     "duration": 0.006352,
     "end_time": "2023-07-27T06:35:02.283988",
     "exception": false,
     "start_time": "2023-07-27T06:35:02.277636",
     "status": "completed"
    },
    "tags": []
   },
   "source": [
    "# Benchmark model\n",
    "\n",
    "The purpose of this notebook is to benchmark persisted onnx-model (trained in the\n",
    "previous step) against evaluation set."
   ]
  },
  {
   "cell_type": "markdown",
   "id": "b7921fad",
   "metadata": {
    "papermill": {
     "duration": 0.003868,
     "end_time": "2023-07-27T06:35:02.295061",
     "exception": false,
     "start_time": "2023-07-27T06:35:02.291193",
     "status": "completed"
    },
    "tags": []
   },
   "source": [
    "### Determine run parameters"
   ]
  },
  {
   "cell_type": "code",
   "execution_count": 1,
   "id": "7b0f1c81",
   "metadata": {
    "execution": {
     "iopub.execute_input": "2023-07-27T06:35:02.311674Z",
     "iopub.status.busy": "2023-07-27T06:35:02.311369Z",
     "iopub.status.idle": "2023-07-27T06:35:02.320828Z",
     "shell.execute_reply": "2023-07-27T06:35:02.320170Z"
    },
    "lines_to_next_cell": 0,
    "papermill": {
     "duration": 0.024116,
     "end_time": "2023-07-27T06:35:02.323105",
     "exception": false,
     "start_time": "2023-07-27T06:35:02.298989",
     "status": "completed"
    },
    "tags": []
   },
   "outputs": [],
   "source": [
    "# ----------------- Parameters for interactive development --------------\n",
    "P = {\n",
    "    \"workflow.data_lake_root\": \"/pipeline-outputs/data-lake\",\n",
    "    \"task.nr_train_images\": 600,\n",
    "}"
   ]
  },
  {
   "cell_type": "code",
   "execution_count": 2,
   "id": "b2e0588e",
   "metadata": {
    "execution": {
     "iopub.execute_input": "2023-07-27T06:35:02.333077Z",
     "iopub.status.busy": "2023-07-27T06:35:02.332836Z",
     "iopub.status.idle": "2023-07-27T06:35:02.337540Z",
     "shell.execute_reply": "2023-07-27T06:35:02.336806Z"
    },
    "lines_to_next_cell": 0,
    "papermill": {
     "duration": 0.011858,
     "end_time": "2023-07-27T06:35:02.339428",
     "exception": false,
     "start_time": "2023-07-27T06:35:02.327570",
     "status": "completed"
    },
    "tags": [
     "parameters"
    ]
   },
   "outputs": [],
   "source": [
    "# - During automated runs parameters will be injected in the below cell -"
   ]
  },
  {
   "cell_type": "code",
   "execution_count": 3,
   "id": "f5fc0ba6",
   "metadata": {
    "execution": {
     "iopub.execute_input": "2023-07-27T06:35:02.348155Z",
     "iopub.status.busy": "2023-07-27T06:35:02.347940Z",
     "iopub.status.idle": "2023-07-27T06:35:02.352381Z",
     "shell.execute_reply": "2023-07-27T06:35:02.351798Z"
    },
    "papermill": {
     "duration": 0.010684,
     "end_time": "2023-07-27T06:35:02.353968",
     "exception": false,
     "start_time": "2023-07-27T06:35:02.343284",
     "status": "completed"
    },
    "tags": [
     "injected-parameters"
    ]
   },
   "outputs": [],
   "source": [
    "# Parameters\n",
    "P = {\n",
    "    \"task.nr_train_images\": 600,\n",
    "    \"_parameters_actor_name\": \"parameter_for_task_0x66542819cbfcc5de\",\n",
    "}\n"
   ]
  },
  {
   "cell_type": "code",
   "execution_count": 4,
   "id": "aef215b8",
   "metadata": {
    "execution": {
     "iopub.execute_input": "2023-07-27T06:35:02.367720Z",
     "iopub.status.busy": "2023-07-27T06:35:02.367469Z",
     "iopub.status.idle": "2023-07-27T06:35:02.371557Z",
     "shell.execute_reply": "2023-07-27T06:35:02.370991Z"
    },
    "lines_to_next_cell": 0,
    "papermill": {
     "duration": 0.015226,
     "end_time": "2023-07-27T06:35:02.373301",
     "exception": false,
     "start_time": "2023-07-27T06:35:02.358075",
     "status": "completed"
    },
    "tags": []
   },
   "outputs": [],
   "source": [
    "# -----------------------------------------------------------------------"
   ]
  },
  {
   "cell_type": "markdown",
   "id": "fd57f496",
   "metadata": {
    "papermill": {
     "duration": 0.004087,
     "end_time": "2023-07-27T06:35:02.381517",
     "exception": false,
     "start_time": "2023-07-27T06:35:02.377430",
     "status": "completed"
    },
    "tags": []
   },
   "source": [
    "---"
   ]
  },
  {
   "cell_type": "markdown",
   "id": "a1c5d658",
   "metadata": {
    "lines_to_next_cell": 2,
    "papermill": {
     "duration": 0.003884,
     "end_time": "2023-07-27T06:35:02.389252",
     "exception": false,
     "start_time": "2023-07-27T06:35:02.385368",
     "status": "completed"
    },
    "tags": []
   },
   "source": [
    "### Notebook code"
   ]
  },
  {
   "cell_type": "code",
   "execution_count": 5,
   "id": "ae699d0f",
   "metadata": {
    "execution": {
     "iopub.execute_input": "2023-07-27T06:35:02.398872Z",
     "iopub.status.busy": "2023-07-27T06:35:02.398611Z",
     "iopub.status.idle": "2023-07-27T06:35:03.315588Z",
     "shell.execute_reply": "2023-07-27T06:35:03.312504Z"
    },
    "papermill": {
     "duration": 0.926344,
     "end_time": "2023-07-27T06:35:03.319845",
     "exception": false,
     "start_time": "2023-07-27T06:35:02.393501",
     "status": "completed"
    },
    "tags": []
   },
   "outputs": [
    {
     "name": "stderr",
     "output_type": "stream",
     "text": [
      "2023-07-27 06:35:03,233\tINFO worker.py:1364 -- Connecting to existing Ray cluster at address: 172.17.0.2:46840...\n"
     ]
    },
    {
     "name": "stderr",
     "output_type": "stream",
     "text": [
      "2023-07-27 06:35:03,243\tINFO worker.py:1544 -- Connected to Ray cluster. View the dashboard at \u001b[1m\u001b[32mhttp://127.0.0.1:8265 \u001b[39m\u001b[22m\n"
     ]
    },
    {
     "name": "stderr",
     "output_type": "stream",
     "text": [
      "/home/host_user/.local/lib/python3.8/site-packages/ray/runtime_context.py:27: RayDeprecationWarning: This API is deprecated and may be removed in future Ray releases. You could suppress this warning by setting env variable PYTHONWARNINGS=\"ignore::DeprecationWarning\"\n",
      "Use get_job_id() instead\n",
      "  \"job_id\": self.job_id,\n",
      "/home/host_user/.local/lib/python3.8/site-packages/ray/runtime_context.py:28: RayDeprecationWarning: This API is deprecated and may be removed in future Ray releases. You could suppress this warning by setting env variable PYTHONWARNINGS=\"ignore::DeprecationWarning\"\n",
      "Use get_node_id() instead\n",
      "  \"node_id\": self.node_id,\n"
     ]
    }
   ],
   "source": [
    "import itertools as it\n",
    "\n",
    "#\n",
    "import numpy as np\n",
    "import matplotlib.pyplot as plt\n",
    "\n",
    "#\n",
    "from composable_logs.tasks.task_opentelemetry_logging import get_task_context\n",
    "\n",
    "#\n",
    "from common.io import datalake_root\n",
    "\n",
    "ctx = get_task_context(P)"
   ]
  },
  {
   "cell_type": "markdown",
   "id": "4c130f8e",
   "metadata": {
    "papermill": {
     "duration": 0.004122,
     "end_time": "2023-07-27T06:35:03.328766",
     "exception": false,
     "start_time": "2023-07-27T06:35:03.324644",
     "status": "completed"
    },
    "tags": []
   },
   "source": [
    "## Load persisted onnx-model and evaluation data"
   ]
  },
  {
   "cell_type": "code",
   "execution_count": 6,
   "id": "b17486c6",
   "metadata": {
    "execution": {
     "iopub.execute_input": "2023-07-27T06:35:03.355965Z",
     "iopub.status.busy": "2023-07-27T06:35:03.355578Z",
     "iopub.status.idle": "2023-07-27T06:35:03.360697Z",
     "shell.execute_reply": "2023-07-27T06:35:03.360019Z"
    },
    "papermill": {
     "duration": 0.012339,
     "end_time": "2023-07-27T06:35:03.362395",
     "exception": false,
     "start_time": "2023-07-27T06:35:03.350056",
     "status": "completed"
    },
    "tags": []
   },
   "outputs": [],
   "source": [
    "from common.io import read_onnx, get_onnx_inputs, get_onnx_outputs, read_numpy"
   ]
  },
  {
   "cell_type": "code",
   "execution_count": 7,
   "id": "d2fd0513",
   "metadata": {
    "execution": {
     "iopub.execute_input": "2023-07-27T06:35:03.372023Z",
     "iopub.status.busy": "2023-07-27T06:35:03.371803Z",
     "iopub.status.idle": "2023-07-27T06:35:03.380578Z",
     "shell.execute_reply": "2023-07-27T06:35:03.380019Z"
    },
    "lines_to_next_cell": 0,
    "papermill": {
     "duration": 0.015496,
     "end_time": "2023-07-27T06:35:03.382320",
     "exception": false,
     "start_time": "2023-07-27T06:35:03.366824",
     "status": "completed"
    },
    "tags": []
   },
   "outputs": [],
   "source": [
    "onnx_inference_session = read_onnx(\n",
    "    datalake_root(ctx)\n",
    "    / \"models\"\n",
    "    / f\"nr_train_images={ctx.parameters['task.nr_train_images']}\"\n",
    "    / \"model.onnx\"\n",
    ")"
   ]
  },
  {
   "cell_type": "markdown",
   "id": "54e1fb87",
   "metadata": {
    "papermill": {
     "duration": 0.004091,
     "end_time": "2023-07-27T06:35:03.390595",
     "exception": false,
     "start_time": "2023-07-27T06:35:03.386504",
     "status": "completed"
    },
    "tags": []
   },
   "source": [
    "### Record structure of inputs and outputs for ONNX model\n",
    "\n",
    "(this should likely be done in training notebook)"
   ]
  },
  {
   "cell_type": "code",
   "execution_count": 8,
   "id": "027a35ca",
   "metadata": {
    "execution": {
     "iopub.execute_input": "2023-07-27T06:35:03.400419Z",
     "iopub.status.busy": "2023-07-27T06:35:03.400205Z",
     "iopub.status.idle": "2023-07-27T06:35:03.406393Z",
     "shell.execute_reply": "2023-07-27T06:35:03.405816Z"
    },
    "papermill": {
     "duration": 0.013109,
     "end_time": "2023-07-27T06:35:03.408232",
     "exception": false,
     "start_time": "2023-07-27T06:35:03.395123",
     "status": "completed"
    },
    "tags": []
   },
   "outputs": [
    {
     "name": "stdout",
     "output_type": "stream",
     "text": [
      "{\n",
      "  \"inputs\": [\n",
      "    {\n",
      "      \"name\": \"float_input_8x8_image\",\n",
      "      \"shape\": [\n",
      "        null,\n",
      "        64\n",
      "      ],\n",
      "      \"type\": \"tensor(float)\"\n",
      "    }\n",
      "  ],\n",
      "  \"outputs\": [\n",
      "    {\n",
      "      \"name\": \"output_label\",\n",
      "      \"shape\": [\n",
      "        null\n",
      "      ],\n",
      "      \"type\": \"tensor(int64)\"\n",
      "    },\n",
      "    {\n",
      "      \"name\": \"output_probability\",\n",
      "      \"shape\": [],\n",
      "      \"type\": \"seq(map(int64,tensor(float)))\"\n",
      "    }\n",
      "  ]\n",
      "}\n"
     ]
    }
   ],
   "source": [
    "import json\n",
    "\n",
    "onnx_io = json.dumps(\n",
    "    {\n",
    "        \"inputs\": get_onnx_inputs(onnx_inference_session),\n",
    "        \"outputs\": get_onnx_outputs(onnx_inference_session),\n",
    "    },\n",
    "    indent=2,\n",
    ")\n",
    "\n",
    "\n",
    "ctx.log_artefact(\"onnx_io_structure.json\", onnx_io)\n",
    "print(onnx_io)"
   ]
  },
  {
   "cell_type": "markdown",
   "id": "1c34b990",
   "metadata": {
    "papermill": {
     "duration": 0.004178,
     "end_time": "2023-07-27T06:35:03.416599",
     "exception": false,
     "start_time": "2023-07-27T06:35:03.412421",
     "status": "completed"
    },
    "tags": []
   },
   "source": [
    "### Evaluate model performance on evaluation data set"
   ]
  },
  {
   "cell_type": "code",
   "execution_count": 9,
   "id": "23b12068",
   "metadata": {
    "execution": {
     "iopub.execute_input": "2023-07-27T06:35:03.426145Z",
     "iopub.status.busy": "2023-07-27T06:35:03.425932Z",
     "iopub.status.idle": "2023-07-27T06:35:03.431904Z",
     "shell.execute_reply": "2023-07-27T06:35:03.431246Z"
    },
    "papermill": {
     "duration": 0.012658,
     "end_time": "2023-07-27T06:35:03.433648",
     "exception": false,
     "start_time": "2023-07-27T06:35:03.420990",
     "status": "completed"
    },
    "tags": []
   },
   "outputs": [],
   "source": [
    "# load evaluation data\n",
    "X_test = read_numpy(datalake_root(ctx) / \"test-data\" / \"digits.numpy\")\n",
    "y_test = read_numpy(datalake_root(ctx) / \"test-data\" / \"labels.numpy\")"
   ]
  },
  {
   "cell_type": "code",
   "execution_count": 10,
   "id": "0d3b5f68",
   "metadata": {
    "execution": {
     "iopub.execute_input": "2023-07-27T06:35:03.445579Z",
     "iopub.status.busy": "2023-07-27T06:35:03.445367Z",
     "iopub.status.idle": "2023-07-27T06:35:03.457573Z",
     "shell.execute_reply": "2023-07-27T06:35:03.457023Z"
    },
    "papermill": {
     "duration": 0.019468,
     "end_time": "2023-07-27T06:35:03.459474",
     "exception": false,
     "start_time": "2023-07-27T06:35:03.440006",
     "status": "completed"
    },
    "tags": []
   },
   "outputs": [],
   "source": [
    "def get_model_outputs(X, onnx_inference_session):\n",
    "    y_pred_labels, y_pred_map = onnx_inference_session.run(\n",
    "        [\"output_label\", \"output_probability\"],\n",
    "        {\"float_input_8x8_image\": X.astype(np.float32)},\n",
    "    )\n",
    "    y_pred_probs = np.array(\n",
    "        [[probabilities[digit] for digit in range(10)] for probabilities in y_pred_map]\n",
    "    )\n",
    "\n",
    "    assert y_pred_labels.shape == (X.shape[0],)\n",
    "    assert y_pred_probs.shape == (X.shape[0], 10)\n",
    "\n",
    "    return y_pred_labels, y_pred_probs\n",
    "\n",
    "\n",
    "# Note: as shown in the training notebook, the predicted labels and probabilities\n",
    "# computed below need not be compatible.\n",
    "y_pred_labels_test, y_pred_probs_test = get_model_outputs(\n",
    "    X_test, onnx_inference_session\n",
    ")"
   ]
  },
  {
   "cell_type": "markdown",
   "id": "e2056a8e",
   "metadata": {
    "papermill": {
     "duration": 0.00468,
     "end_time": "2023-07-27T06:35:03.468670",
     "exception": false,
     "start_time": "2023-07-27T06:35:03.463990",
     "status": "completed"
    },
    "tags": []
   },
   "source": [
    "### Confusion matrix"
   ]
  },
  {
   "cell_type": "code",
   "execution_count": 11,
   "id": "747f4628",
   "metadata": {
    "execution": {
     "iopub.execute_input": "2023-07-27T06:35:03.478889Z",
     "iopub.status.busy": "2023-07-27T06:35:03.478623Z",
     "iopub.status.idle": "2023-07-27T06:35:03.483234Z",
     "shell.execute_reply": "2023-07-27T06:35:03.482573Z"
    },
    "papermill": {
     "duration": 0.012389,
     "end_time": "2023-07-27T06:35:03.485490",
     "exception": false,
     "start_time": "2023-07-27T06:35:03.473101",
     "status": "completed"
    },
    "tags": []
   },
   "outputs": [],
   "source": [
    "# TODO"
   ]
  },
  {
   "cell_type": "markdown",
   "id": "16d24d9d",
   "metadata": {
    "papermill": {
     "duration": 0.00456,
     "end_time": "2023-07-27T06:35:03.494553",
     "exception": false,
     "start_time": "2023-07-27T06:35:03.489993",
     "status": "completed"
    },
    "tags": []
   },
   "source": [
    "### Plot predicted probabilities for each classifier over all evaluation digit images"
   ]
  },
  {
   "cell_type": "code",
   "execution_count": 12,
   "id": "3402d7d2",
   "metadata": {
    "execution": {
     "iopub.execute_input": "2023-07-27T06:35:03.505442Z",
     "iopub.status.busy": "2023-07-27T06:35:03.505203Z",
     "iopub.status.idle": "2023-07-27T06:35:07.417735Z",
     "shell.execute_reply": "2023-07-27T06:35:07.417080Z"
    },
    "papermill": {
     "duration": 3.920097,
     "end_time": "2023-07-27T06:35:07.419561",
     "exception": false,
     "start_time": "2023-07-27T06:35:03.499464",
     "status": "completed"
    },
    "tags": []
   },
   "outputs": [
    {
     "data": {
      "image/png": "[encoded data removed]",
      "text/plain": [
       "<Figure size 1600x600 with 10 Axes>"
      ]
     },
     "metadata": {},
     "output_type": "display_data"
    }
   ],
   "source": [
    "def plot_per_digit_probabilities(y_pred_probs):\n",
    "    fig, axs = plt.subplots(nrows=2, ncols=5, figsize=(16, 6))\n",
    "\n",
    "    for (r, c), digit, ax in zip(\n",
    "        it.product(range(2), range(5)), range(10), axs.reshape(-1)\n",
    "    ):\n",
    "        ax.hist(y_pred_probs_test[:, digit], bins=20)\n",
    "\n",
    "        ax.set_title(f\"Digit {digit}\")\n",
    "        if r == 1 and c == 2:\n",
    "            ax.set_xlabel(\"probability\", fontsize=16)\n",
    "\n",
    "        if c == 0:\n",
    "            ax.set_ylabel(\"counts\", fontsize=16)\n",
    "        ax.set_yscale(\"log\")\n",
    "\n",
    "    fig.tight_layout()\n",
    "    fig.suptitle(\n",
    "        f\"Distributions of prediction probabilities for each digit \"\n",
    "        f\"(on evaluation data, n={y_pred_probs.shape[0]})\",\n",
    "        fontsize=20,\n",
    "    )\n",
    "    fig.tight_layout()\n",
    "    fig.show()\n",
    "\n",
    "    return fig\n",
    "\n",
    "\n",
    "fig = plot_per_digit_probabilities(y_pred_probs_test)"
   ]
  },
  {
   "cell_type": "markdown",
   "id": "da9c7839",
   "metadata": {
    "papermill": {
     "duration": 0.005461,
     "end_time": "2023-07-27T06:35:07.430547",
     "exception": false,
     "start_time": "2023-07-27T06:35:07.425086",
     "status": "completed"
    },
    "tags": []
   },
   "source": [
    "From the above distributions we see that most digits have clear separation between\n",
    "high and lower probabilities. Morover, in each case there is roughly an order of\n",
    "magnitude more of digits with low probabilities. This is compatible with digits\n",
    "being roughly evenly distributed in the data."
   ]
  },
  {
   "cell_type": "code",
   "execution_count": 13,
   "id": "d1a53575",
   "metadata": {
    "execution": {
     "iopub.execute_input": "2023-07-27T06:35:07.445141Z",
     "iopub.status.busy": "2023-07-27T06:35:07.444686Z",
     "iopub.status.idle": "2023-07-27T06:35:08.136663Z",
     "shell.execute_reply": "2023-07-27T06:35:08.135976Z"
    },
    "papermill": {
     "duration": 0.704053,
     "end_time": "2023-07-27T06:35:08.140365",
     "exception": false,
     "start_time": "2023-07-27T06:35:07.436312",
     "status": "completed"
    },
    "tags": []
   },
   "outputs": [],
   "source": [
    "ctx.log_figure(\"per-digit-probabilities.png\", fig)"
   ]
  },
  {
   "cell_type": "markdown",
   "id": "e3d43267",
   "metadata": {
    "papermill": {
     "duration": 0.005254,
     "end_time": "2023-07-27T06:35:08.151165",
     "exception": false,
     "start_time": "2023-07-27T06:35:08.145911",
     "status": "completed"
    },
    "tags": []
   },
   "source": [
    "### Plot ROC curves for individual one-vs-rest classifiers"
   ]
  },
  {
   "cell_type": "code",
   "execution_count": 14,
   "id": "caef15cf",
   "metadata": {
    "execution": {
     "iopub.execute_input": "2023-07-27T06:35:08.213029Z",
     "iopub.status.busy": "2023-07-27T06:35:08.212664Z",
     "iopub.status.idle": "2023-07-27T06:35:08.836602Z",
     "shell.execute_reply": "2023-07-27T06:35:08.835858Z"
    },
    "papermill": {
     "duration": 0.642925,
     "end_time": "2023-07-27T06:35:08.839076",
     "exception": false,
     "start_time": "2023-07-27T06:35:08.196151",
     "status": "completed"
    },
    "tags": []
   },
   "outputs": [],
   "source": [
    "from sklearn import metrics"
   ]
  },
  {
   "cell_type": "code",
   "execution_count": 15,
   "id": "55eb0308",
   "metadata": {
    "execution": {
     "iopub.execute_input": "2023-07-27T06:35:08.851925Z",
     "iopub.status.busy": "2023-07-27T06:35:08.851641Z",
     "iopub.status.idle": "2023-07-27T06:35:10.925890Z",
     "shell.execute_reply": "2023-07-27T06:35:10.925259Z"
    },
    "papermill": {
     "duration": 2.08298,
     "end_time": "2023-07-27T06:35:10.927931",
     "exception": false,
     "start_time": "2023-07-27T06:35:08.844951",
     "status": "completed"
    },
    "tags": []
   },
   "outputs": [
    {
     "data": {
      "image/png": "[encoded data removed]",
      "text/plain": [
       "<Figure size 1600x800 with 10 Axes>"
      ]
     },
     "metadata": {},
     "output_type": "display_data"
    }
   ],
   "source": [
    "def plot_roc_curves(y, y_pred_probs):\n",
    "    # based on example code\n",
    "    # https://scikit-learn.org/stable/auto_examples/model_selection/plot_roc.html\n",
    "\n",
    "    fig, axs = plt.subplots(nrows=2, ncols=5, figsize=(16, 8))\n",
    "\n",
    "    roc_auc_dict = {}\n",
    "\n",
    "    for (r, c), digit, ax in zip(\n",
    "        it.product(range(2), range(5)), range(10), axs.reshape(-1)\n",
    "    ):\n",
    "        fpr, tpr, _ = metrics.roc_curve(y == digit, y_pred_probs[:, digit])\n",
    "        auc = metrics.auc(fpr, tpr)\n",
    "        roc_auc_dict[str(digit)] = auc\n",
    "\n",
    "        ax.plot(fpr, tpr, label=f\"ROC AUC={round(auc, 3)}\")\n",
    "\n",
    "        ax.set_title(f\"\\nDigit {digit}\", fontsize=16)\n",
    "        if r == 1:\n",
    "            ax.set_xlabel(\"FPR\", fontsize=18)\n",
    "\n",
    "        if c == 0:\n",
    "            ax.set_ylabel(\"TPR\", fontsize=18)\n",
    "\n",
    "        ax.set_xlim([-0.05, 1.05])\n",
    "        ax.set_ylim([-0.05, 1.05])\n",
    "        ax.legend(loc=\"lower right\", frameon=False, fontsize=14)\n",
    "\n",
    "    fig.tight_layout()\n",
    "    fig.suptitle(\n",
    "        f\"ROC plots for one-vs-rest performances \"\n",
    "        f\"(on evaluation data, n={y_pred_probs_test.shape[1]}\",\n",
    "        fontsize=22,\n",
    "    )\n",
    "    fig.tight_layout()\n",
    "    fig.show()\n",
    "\n",
    "    return roc_auc_dict, fig\n",
    "\n",
    "\n",
    "roc_auc_dict, fig = plot_roc_curves(y_test, y_pred_probs_test)"
   ]
  },
  {
   "cell_type": "code",
   "execution_count": 16,
   "id": "7673ba5f",
   "metadata": {
    "execution": {
     "iopub.execute_input": "2023-07-27T06:35:10.956620Z",
     "iopub.status.busy": "2023-07-27T06:35:10.956319Z",
     "iopub.status.idle": "2023-07-27T06:35:11.412673Z",
     "shell.execute_reply": "2023-07-27T06:35:11.411972Z"
    },
    "papermill": {
     "duration": 0.477422,
     "end_time": "2023-07-27T06:35:11.416619",
     "exception": false,
     "start_time": "2023-07-27T06:35:10.939197",
     "status": "completed"
    },
    "tags": []
   },
   "outputs": [],
   "source": [
    "ctx.log_figure(\"per-digit-roc-curves.png\", fig)"
   ]
  },
  {
   "cell_type": "code",
   "execution_count": 17,
   "id": "24f924f0",
   "metadata": {
    "execution": {
     "iopub.execute_input": "2023-07-27T06:35:11.431221Z",
     "iopub.status.busy": "2023-07-27T06:35:11.430910Z",
     "iopub.status.idle": "2023-07-27T06:35:11.438089Z",
     "shell.execute_reply": "2023-07-27T06:35:11.437533Z"
    },
    "papermill": {
     "duration": 0.016232,
     "end_time": "2023-07-27T06:35:11.439778",
     "exception": false,
     "start_time": "2023-07-27T06:35:11.423546",
     "status": "completed"
    },
    "tags": []
   },
   "outputs": [
    {
     "data": {
      "text/plain": [
       "{'0': 1.0,\n",
       " '1': 0.9992502343017807,\n",
       " '2': 1.0,\n",
       " '3': 0.9998500468603562,\n",
       " '4': 0.9991617131534827,\n",
       " '5': 0.9988003748828491,\n",
       " '6': 0.999923792104862,\n",
       " '7': 0.9998475842097241,\n",
       " '8': 0.9944041614123582,\n",
       " '9': 0.9986663618350862}"
      ]
     },
     "execution_count": 17,
     "metadata": {},
     "output_type": "execute_result"
    }
   ],
   "source": [
    "roc_auc_dict"
   ]
  },
  {
   "cell_type": "code",
   "execution_count": 18,
   "id": "d8eb8e60",
   "metadata": {
    "execution": {
     "iopub.execute_input": "2023-07-27T06:35:11.453776Z",
     "iopub.status.busy": "2023-07-27T06:35:11.453542Z",
     "iopub.status.idle": "2023-07-27T06:35:11.459686Z",
     "shell.execute_reply": "2023-07-27T06:35:11.459146Z"
    },
    "papermill": {
     "duration": 0.014928,
     "end_time": "2023-07-27T06:35:11.461248",
     "exception": false,
     "start_time": "2023-07-27T06:35:11.446320",
     "status": "completed"
    },
    "tags": []
   },
   "outputs": [
    {
     "name": "stdout",
     "output_type": "stream",
     "text": [
      " - Logging roc_auc_per_digit (json) : {'0': 1.0, '1': 0.9992502343017807, '2': 1.0, '3': 0.9998500468603562, '4': 0.9991617131534827, '5': 0.9988003748828491, '6': 0.999923792104862, '7': 0.9998475842097241, '8': 0.9944041614123582, '9': 0.9986663618350862}\n"
     ]
    }
   ],
   "source": [
    "ctx.log_value(\"roc_auc_per_digit\", roc_auc_dict)"
   ]
  },
  {
   "cell_type": "markdown",
   "id": "f8d470e8",
   "metadata": {
    "papermill": {
     "duration": 0.006602,
     "end_time": "2023-07-27T06:35:11.474171",
     "exception": false,
     "start_time": "2023-07-27T06:35:11.467569",
     "status": "completed"
    },
    "tags": []
   },
   "source": [
    "### Compute and log mean ROC AUC score averaged over all digits"
   ]
  },
  {
   "cell_type": "code",
   "execution_count": 19,
   "id": "5f45e1b1",
   "metadata": {
    "execution": {
     "iopub.execute_input": "2023-07-27T06:35:11.488829Z",
     "iopub.status.busy": "2023-07-27T06:35:11.488573Z",
     "iopub.status.idle": "2023-07-27T06:35:11.501916Z",
     "shell.execute_reply": "2023-07-27T06:35:11.501275Z"
    },
    "papermill": {
     "duration": 0.023182,
     "end_time": "2023-07-27T06:35:11.503777",
     "exception": false,
     "start_time": "2023-07-27T06:35:11.480595",
     "status": "completed"
    },
    "tags": []
   },
   "outputs": [
    {
     "name": "stdout",
     "output_type": "stream",
     "text": [
      " - Logging roc_auc_class_mean (float) : 0.9989904268760499\n"
     ]
    }
   ],
   "source": [
    "roc_auc_macro = np.mean(list(roc_auc_dict.values()))\n",
    "\n",
    "ctx.log_float(\"roc_auc_class_mean\", roc_auc_macro)\n",
    "\n",
    "# assert that the same value can be computed directly using sklearn\n",
    "assert roc_auc_macro == metrics.roc_auc_score(\n",
    "    y_test, y_pred_probs_test, average=\"macro\", multi_class=\"ovr\"\n",
    ")"
   ]
  },
  {
   "cell_type": "code",
   "execution_count": 20,
   "id": "8355f605",
   "metadata": {
    "execution": {
     "iopub.execute_input": "2023-07-27T06:35:11.523308Z",
     "iopub.status.busy": "2023-07-27T06:35:11.523040Z",
     "iopub.status.idle": "2023-07-27T06:35:11.527084Z",
     "shell.execute_reply": "2023-07-27T06:35:11.526538Z"
    },
    "lines_to_next_cell": 0,
    "papermill": {
     "duration": 0.018278,
     "end_time": "2023-07-27T06:35:11.528836",
     "exception": false,
     "start_time": "2023-07-27T06:35:11.510558",
     "status": "completed"
    },
    "tags": []
   },
   "outputs": [],
   "source": [
    "# ---"
   ]
  },
  {
   "cell_type": "code",
   "execution_count": null,
   "id": "ba9495f8",
   "metadata": {
    "papermill": {
     "duration": 0.008059,
     "end_time": "2023-07-27T06:35:11.543946",
     "exception": false,
     "start_time": "2023-07-27T06:35:11.535887",
     "status": "completed"
    },
    "tags": []
   },
   "outputs": [],
   "source": []
  }
 ],
 "metadata": {
  "jupytext": {
   "cell_metadata_filter": "tags,-all",
   "main_language": "python",
   "notebook_metadata_filter": "-all"
  },
  "language_info": {
   "codemirror_mode": {
    "name": "ipython",
    "version": 3
   },
   "file_extension": ".py",
   "mimetype": "text/x-python",
   "name": "python",
   "nbconvert_exporter": "python",
   "pygments_lexer": "ipython3",
   "version": "3.8.10"
  },
  "papermill": {
   "default_parameters": {},
   "duration": 12.651732,
   "end_time": "2023-07-27T06:35:13.588770",
   "environment_variables": {},
   "exception": null,
   "input_path": "/tmp/temp-notebook-r5vsuluv.ipynb",
   "output_path": "/tmp/temp-notebook-r5vsuluv.ipynb",
   "parameters": {
    "P": {
     "_parameters_actor_name": "parameter_for_task_0x66542819cbfcc5de",
     "task.nr_train_images": 600
    }
   },
   "start_time": "2023-07-27T06:35:00.937038",
   "version": "2.4.0"
  }
 },
 "nbformat": 4,
 "nbformat_minor": 5
}