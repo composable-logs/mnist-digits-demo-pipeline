{
 "cells": [
  {
   "cell_type": "markdown",
   "id": "e421c94c",
   "metadata": {
    "papermill": {
     "duration": 0.006378,
     "end_time": "2023-07-27T06:34:47.451498",
     "exception": false,
     "start_time": "2023-07-27T06:34:47.445120",
     "status": "completed"
    },
    "tags": []
   },
   "source": [
    "# Benchmark model\n",
    "\n",
    "The purpose of this notebook is to benchmark persisted onnx-model (trained in the\n",
    "previous step) against evaluation set."
   ]
  },
  {
   "cell_type": "markdown",
   "id": "c1d9fdbf",
   "metadata": {
    "papermill": {
     "duration": 0.004207,
     "end_time": "2023-07-27T06:34:47.462592",
     "exception": false,
     "start_time": "2023-07-27T06:34:47.458385",
     "status": "completed"
    },
    "tags": []
   },
   "source": [
    "### Determine run parameters"
   ]
  },
  {
   "cell_type": "code",
   "execution_count": 1,
   "id": "38de70fc",
   "metadata": {
    "execution": {
     "iopub.execute_input": "2023-07-27T06:34:47.472951Z",
     "iopub.status.busy": "2023-07-27T06:34:47.472555Z",
     "iopub.status.idle": "2023-07-27T06:34:47.481763Z",
     "shell.execute_reply": "2023-07-27T06:34:47.481072Z"
    },
    "lines_to_next_cell": 0,
    "papermill": {
     "duration": 0.016983,
     "end_time": "2023-07-27T06:34:47.483786",
     "exception": false,
     "start_time": "2023-07-27T06:34:47.466803",
     "status": "completed"
    },
    "tags": []
   },
   "outputs": [],
   "source": [
    "# ----------------- Parameters for interactive development --------------\n",
    "P = {\n",
    "    \"workflow.data_lake_root\": \"/pipeline-outputs/data-lake\",\n",
    "    \"task.nr_train_images\": 600,\n",
    "}"
   ]
  },
  {
   "cell_type": "code",
   "execution_count": 2,
   "id": "a80f1873",
   "metadata": {
    "execution": {
     "iopub.execute_input": "2023-07-27T06:34:47.493520Z",
     "iopub.status.busy": "2023-07-27T06:34:47.493257Z",
     "iopub.status.idle": "2023-07-27T06:34:47.497262Z",
     "shell.execute_reply": "2023-07-27T06:34:47.496580Z"
    },
    "lines_to_next_cell": 0,
    "papermill": {
     "duration": 0.010982,
     "end_time": "2023-07-27T06:34:47.498937",
     "exception": false,
     "start_time": "2023-07-27T06:34:47.487955",
     "status": "completed"
    },
    "tags": [
     "parameters"
    ]
   },
   "outputs": [],
   "source": [
    "# - During automated runs parameters will be injected in the below cell -"
   ]
  },
  {
   "cell_type": "code",
   "execution_count": 3,
   "id": "783340bf",
   "metadata": {
    "execution": {
     "iopub.execute_input": "2023-07-27T06:34:47.518255Z",
     "iopub.status.busy": "2023-07-27T06:34:47.508906Z",
     "iopub.status.idle": "2023-07-27T06:34:47.522624Z",
     "shell.execute_reply": "2023-07-27T06:34:47.522040Z"
    },
    "papermill": {
     "duration": 0.020618,
     "end_time": "2023-07-27T06:34:47.524405",
     "exception": false,
     "start_time": "2023-07-27T06:34:47.503787",
     "status": "completed"
    },
    "tags": [
     "injected-parameters"
    ]
   },
   "outputs": [],
   "source": [
    "# Parameters\n",
    "P = {\n",
    "    \"task.nr_train_images\": 1000,\n",
    "    \"_parameters_actor_name\": \"parameter_for_task_0x5e63589d2bd41797\",\n",
    "}\n"
   ]
  },
  {
   "cell_type": "code",
   "execution_count": 4,
   "id": "ae184449",
   "metadata": {
    "execution": {
     "iopub.execute_input": "2023-07-27T06:34:47.536781Z",
     "iopub.status.busy": "2023-07-27T06:34:47.536512Z",
     "iopub.status.idle": "2023-07-27T06:34:47.540992Z",
     "shell.execute_reply": "2023-07-27T06:34:47.540335Z"
    },
    "lines_to_next_cell": 0,
    "papermill": {
     "duration": 0.011641,
     "end_time": "2023-07-27T06:34:47.542715",
     "exception": false,
     "start_time": "2023-07-27T06:34:47.531074",
     "status": "completed"
    },
    "tags": []
   },
   "outputs": [],
   "source": [
    "# -----------------------------------------------------------------------"
   ]
  },
  {
   "cell_type": "markdown",
   "id": "c736eb5f",
   "metadata": {
    "papermill": {
     "duration": 0.004463,
     "end_time": "2023-07-27T06:34:47.551433",
     "exception": false,
     "start_time": "2023-07-27T06:34:47.546970",
     "status": "completed"
    },
    "tags": []
   },
   "source": [
    "---"
   ]
  },
  {
   "cell_type": "markdown",
   "id": "9e608e4e",
   "metadata": {
    "lines_to_next_cell": 2,
    "papermill": {
     "duration": 0.004059,
     "end_time": "2023-07-27T06:34:47.559670",
     "exception": false,
     "start_time": "2023-07-27T06:34:47.555611",
     "status": "completed"
    },
    "tags": []
   },
   "source": [
    "### Notebook code"
   ]
  },
  {
   "cell_type": "code",
   "execution_count": 5,
   "id": "8f33f2f8",
   "metadata": {
    "execution": {
     "iopub.execute_input": "2023-07-27T06:34:47.569470Z",
     "iopub.status.busy": "2023-07-27T06:34:47.569184Z",
     "iopub.status.idle": "2023-07-27T06:34:48.582570Z",
     "shell.execute_reply": "2023-07-27T06:34:48.581748Z"
    },
    "papermill": {
     "duration": 1.020439,
     "end_time": "2023-07-27T06:34:48.584507",
     "exception": false,
     "start_time": "2023-07-27T06:34:47.564068",
     "status": "completed"
    },
    "tags": []
   },
   "outputs": [
    {
     "name": "stderr",
     "output_type": "stream",
     "text": [
      "2023-07-27 06:34:48,481\tINFO worker.py:1364 -- Connecting to existing Ray cluster at address: 172.17.0.2:46840...\n"
     ]
    },
    {
     "name": "stderr",
     "output_type": "stream",
     "text": [
      "2023-07-27 06:34:48,494\tINFO worker.py:1544 -- Connected to Ray cluster. View the dashboard at \u001b[1m\u001b[32mhttp://127.0.0.1:8265 \u001b[39m\u001b[22m\n"
     ]
    },
    {
     "name": "stderr",
     "output_type": "stream",
     "text": [
      "/home/host_user/.local/lib/python3.8/site-packages/ray/runtime_context.py:27: RayDeprecationWarning: This API is deprecated and may be removed in future Ray releases. You could suppress this warning by setting env variable PYTHONWARNINGS=\"ignore::DeprecationWarning\"\n",
      "Use get_job_id() instead\n",
      "  \"job_id\": self.job_id,\n",
      "/home/host_user/.local/lib/python3.8/site-packages/ray/runtime_context.py:28: RayDeprecationWarning: This API is deprecated and may be removed in future Ray releases. You could suppress this warning by setting env variable PYTHONWARNINGS=\"ignore::DeprecationWarning\"\n",
      "Use get_node_id() instead\n",
      "  \"node_id\": self.node_id,\n"
     ]
    }
   ],
   "source": [
    "import itertools as it\n",
    "\n",
    "#\n",
    "import numpy as np\n",
    "import matplotlib.pyplot as plt\n",
    "\n",
    "#\n",
    "from composable_logs.tasks.task_opentelemetry_logging import get_task_context\n",
    "\n",
    "#\n",
    "from common.io import datalake_root\n",
    "\n",
    "ctx = get_task_context(P)"
   ]
  },
  {
   "cell_type": "markdown",
   "id": "ce5456df",
   "metadata": {
    "papermill": {
     "duration": 0.00449,
     "end_time": "2023-07-27T06:34:48.595379",
     "exception": false,
     "start_time": "2023-07-27T06:34:48.590889",
     "status": "completed"
    },
    "tags": []
   },
   "source": [
    "## Load persisted onnx-model and evaluation data"
   ]
  },
  {
   "cell_type": "code",
   "execution_count": 6,
   "id": "39e29a2d",
   "metadata": {
    "execution": {
     "iopub.execute_input": "2023-07-27T06:34:48.606610Z",
     "iopub.status.busy": "2023-07-27T06:34:48.606314Z",
     "iopub.status.idle": "2023-07-27T06:34:48.610832Z",
     "shell.execute_reply": "2023-07-27T06:34:48.609841Z"
    },
    "papermill": {
     "duration": 0.01272,
     "end_time": "2023-07-27T06:34:48.612497",
     "exception": false,
     "start_time": "2023-07-27T06:34:48.599777",
     "status": "completed"
    },
    "tags": []
   },
   "outputs": [],
   "source": [
    "from common.io import read_onnx, get_onnx_inputs, get_onnx_outputs, read_numpy"
   ]
  },
  {
   "cell_type": "code",
   "execution_count": 7,
   "id": "a837a8d9",
   "metadata": {
    "execution": {
     "iopub.execute_input": "2023-07-27T06:34:48.627045Z",
     "iopub.status.busy": "2023-07-27T06:34:48.626816Z",
     "iopub.status.idle": "2023-07-27T06:34:48.635851Z",
     "shell.execute_reply": "2023-07-27T06:34:48.635296Z"
    },
    "lines_to_next_cell": 0,
    "papermill": {
     "duration": 0.020016,
     "end_time": "2023-07-27T06:34:48.637448",
     "exception": false,
     "start_time": "2023-07-27T06:34:48.617432",
     "status": "completed"
    },
    "tags": []
   },
   "outputs": [],
   "source": [
    "onnx_inference_session = read_onnx(\n",
    "    datalake_root(ctx)\n",
    "    / \"models\"\n",
    "    / f\"nr_train_images={ctx.parameters['task.nr_train_images']}\"\n",
    "    / \"model.onnx\"\n",
    ")"
   ]
  },
  {
   "cell_type": "markdown",
   "id": "abdc1bbc",
   "metadata": {
    "papermill": {
     "duration": 0.005719,
     "end_time": "2023-07-27T06:34:48.657813",
     "exception": false,
     "start_time": "2023-07-27T06:34:48.652094",
     "status": "completed"
    },
    "tags": []
   },
   "source": [
    "### Record structure of inputs and outputs for ONNX model\n",
    "\n",
    "(this should likely be done in training notebook)"
   ]
  },
  {
   "cell_type": "code",
   "execution_count": 8,
   "id": "827b7340",
   "metadata": {
    "execution": {
     "iopub.execute_input": "2023-07-27T06:34:48.668626Z",
     "iopub.status.busy": "2023-07-27T06:34:48.668360Z",
     "iopub.status.idle": "2023-07-27T06:34:48.675523Z",
     "shell.execute_reply": "2023-07-27T06:34:48.674863Z"
    },
    "papermill": {
     "duration": 0.015122,
     "end_time": "2023-07-27T06:34:48.677201",
     "exception": false,
     "start_time": "2023-07-27T06:34:48.662079",
     "status": "completed"
    },
    "tags": []
   },
   "outputs": [
    {
     "name": "stdout",
     "output_type": "stream",
     "text": [
      "{\n",
      "  \"inputs\": [\n",
      "    {\n",
      "      \"name\": \"float_input_8x8_image\",\n",
      "      \"shape\": [\n",
      "        null,\n",
      "        64\n",
      "      ],\n",
      "      \"type\": \"tensor(float)\"\n",
      "    }\n",
      "  ],\n",
      "  \"outputs\": [\n",
      "    {\n",
      "      \"name\": \"output_label\",\n",
      "      \"shape\": [\n",
      "        null\n",
      "      ],\n",
      "      \"type\": \"tensor(int64)\"\n",
      "    },\n",
      "    {\n",
      "      \"name\": \"output_probability\",\n",
      "      \"shape\": [],\n",
      "      \"type\": \"seq(map(int64,tensor(float)))\"\n",
      "    }\n",
      "  ]\n",
      "}\n"
     ]
    }
   ],
   "source": [
    "import json\n",
    "\n",
    "onnx_io = json.dumps(\n",
    "    {\n",
    "        \"inputs\": get_onnx_inputs(onnx_inference_session),\n",
    "        \"outputs\": get_onnx_outputs(onnx_inference_session),\n",
    "    },\n",
    "    indent=2,\n",
    ")\n",
    "\n",
    "\n",
    "ctx.log_artefact(\"onnx_io_structure.json\", onnx_io)\n",
    "print(onnx_io)"
   ]
  },
  {
   "cell_type": "markdown",
   "id": "6e1a4749",
   "metadata": {
    "papermill": {
     "duration": 0.004451,
     "end_time": "2023-07-27T06:34:48.685983",
     "exception": false,
     "start_time": "2023-07-27T06:34:48.681532",
     "status": "completed"
    },
    "tags": []
   },
   "source": [
    "### Evaluate model performance on evaluation data set"
   ]
  },
  {
   "cell_type": "code",
   "execution_count": 9,
   "id": "11831699",
   "metadata": {
    "execution": {
     "iopub.execute_input": "2023-07-27T06:34:48.696460Z",
     "iopub.status.busy": "2023-07-27T06:34:48.696153Z",
     "iopub.status.idle": "2023-07-27T06:34:48.703856Z",
     "shell.execute_reply": "2023-07-27T06:34:48.703213Z"
    },
    "papermill": {
     "duration": 0.015225,
     "end_time": "2023-07-27T06:34:48.705660",
     "exception": false,
     "start_time": "2023-07-27T06:34:48.690435",
     "status": "completed"
    },
    "tags": []
   },
   "outputs": [],
   "source": [
    "# load evaluation data\n",
    "X_test = read_numpy(datalake_root(ctx) / \"test-data\" / \"digits.numpy\")\n",
    "y_test = read_numpy(datalake_root(ctx) / \"test-data\" / \"labels.numpy\")"
   ]
  },
  {
   "cell_type": "code",
   "execution_count": 10,
   "id": "6ec18684",
   "metadata": {
    "execution": {
     "iopub.execute_input": "2023-07-27T06:34:48.726710Z",
     "iopub.status.busy": "2023-07-27T06:34:48.726437Z",
     "iopub.status.idle": "2023-07-27T06:34:48.773138Z",
     "shell.execute_reply": "2023-07-27T06:34:48.756634Z"
    },
    "papermill": {
     "duration": 0.060132,
     "end_time": "2023-07-27T06:34:48.776874",
     "exception": false,
     "start_time": "2023-07-27T06:34:48.716742",
     "status": "completed"
    },
    "tags": []
   },
   "outputs": [],
   "source": [
    "def get_model_outputs(X, onnx_inference_session):\n",
    "    y_pred_labels, y_pred_map = onnx_inference_session.run(\n",
    "        [\"output_label\", \"output_probability\"],\n",
    "        {\"float_input_8x8_image\": X.astype(np.float32)},\n",
    "    )\n",
    "    y_pred_probs = np.array(\n",
    "        [[probabilities[digit] for digit in range(10)] for probabilities in y_pred_map]\n",
    "    )\n",
    "\n",
    "    assert y_pred_labels.shape == (X.shape[0],)\n",
    "    assert y_pred_probs.shape == (X.shape[0], 10)\n",
    "\n",
    "    return y_pred_labels, y_pred_probs\n",
    "\n",
    "\n",
    "# Note: as shown in the training notebook, the predicted labels and probabilities\n",
    "# computed below need not be compatible.\n",
    "y_pred_labels_test, y_pred_probs_test = get_model_outputs(\n",
    "    X_test, onnx_inference_session\n",
    ")"
   ]
  },
  {
   "cell_type": "markdown",
   "id": "ee229bbd",
   "metadata": {
    "papermill": {
     "duration": 0.004535,
     "end_time": "2023-07-27T06:34:48.786409",
     "exception": false,
     "start_time": "2023-07-27T06:34:48.781874",
     "status": "completed"
    },
    "tags": []
   },
   "source": [
    "### Confusion matrix"
   ]
  },
  {
   "cell_type": "code",
   "execution_count": 11,
   "id": "905c19d3",
   "metadata": {
    "execution": {
     "iopub.execute_input": "2023-07-27T06:34:48.797490Z",
     "iopub.status.busy": "2023-07-27T06:34:48.797175Z",
     "iopub.status.idle": "2023-07-27T06:34:48.801856Z",
     "shell.execute_reply": "2023-07-27T06:34:48.801227Z"
    },
    "papermill": {
     "duration": 0.012618,
     "end_time": "2023-07-27T06:34:48.803711",
     "exception": false,
     "start_time": "2023-07-27T06:34:48.791093",
     "status": "completed"
    },
    "tags": []
   },
   "outputs": [],
   "source": [
    "# TODO"
   ]
  },
  {
   "cell_type": "markdown",
   "id": "b8e3a402",
   "metadata": {
    "papermill": {
     "duration": 0.004277,
     "end_time": "2023-07-27T06:34:48.812504",
     "exception": false,
     "start_time": "2023-07-27T06:34:48.808227",
     "status": "completed"
    },
    "tags": []
   },
   "source": [
    "### Plot predicted probabilities for each classifier over all evaluation digit images"
   ]
  },
  {
   "cell_type": "code",
   "execution_count": 12,
   "id": "f9988f7b",
   "metadata": {
    "execution": {
     "iopub.execute_input": "2023-07-27T06:34:48.822801Z",
     "iopub.status.busy": "2023-07-27T06:34:48.822561Z",
     "iopub.status.idle": "2023-07-27T06:34:52.805369Z",
     "shell.execute_reply": "2023-07-27T06:34:52.804282Z"
    },
    "papermill": {
     "duration": 3.990712,
     "end_time": "2023-07-27T06:34:52.807913",
     "exception": false,
     "start_time": "2023-07-27T06:34:48.817201",
     "status": "completed"
    },
    "tags": []
   },
   "outputs": [
    {
     "data": {
      "image/png": "[encoded data removed]",
      "text/plain": [
       "<Figure size 1600x600 with 10 Axes>"
      ]
     },
     "metadata": {},
     "output_type": "display_data"
    }
   ],
   "source": [
    "def plot_per_digit_probabilities(y_pred_probs):\n",
    "    fig, axs = plt.subplots(nrows=2, ncols=5, figsize=(16, 6))\n",
    "\n",
    "    for (r, c), digit, ax in zip(\n",
    "        it.product(range(2), range(5)), range(10), axs.reshape(-1)\n",
    "    ):\n",
    "        ax.hist(y_pred_probs_test[:, digit], bins=20)\n",
    "\n",
    "        ax.set_title(f\"Digit {digit}\")\n",
    "        if r == 1 and c == 2:\n",
    "            ax.set_xlabel(\"probability\", fontsize=16)\n",
    "\n",
    "        if c == 0:\n",
    "            ax.set_ylabel(\"counts\", fontsize=16)\n",
    "        ax.set_yscale(\"log\")\n",
    "\n",
    "    fig.tight_layout()\n",
    "    fig.suptitle(\n",
    "        f\"Distributions of prediction probabilities for each digit \"\n",
    "        f\"(on evaluation data, n={y_pred_probs.shape[0]})\",\n",
    "        fontsize=20,\n",
    "    )\n",
    "    fig.tight_layout()\n",
    "    fig.show()\n",
    "\n",
    "    return fig\n",
    "\n",
    "\n",
    "fig = plot_per_digit_probabilities(y_pred_probs_test)"
   ]
  },
  {
   "cell_type": "markdown",
   "id": "dc9ecb4b",
   "metadata": {
    "papermill": {
     "duration": 0.00523,
     "end_time": "2023-07-27T06:34:52.818940",
     "exception": false,
     "start_time": "2023-07-27T06:34:52.813710",
     "status": "completed"
    },
    "tags": []
   },
   "source": [
    "From the above distributions we see that most digits have clear separation between\n",
    "high and lower probabilities. Morover, in each case there is roughly an order of\n",
    "magnitude more of digits with low probabilities. This is compatible with digits\n",
    "being roughly evenly distributed in the data."
   ]
  },
  {
   "cell_type": "code",
   "execution_count": 13,
   "id": "bd477fb4",
   "metadata": {
    "execution": {
     "iopub.execute_input": "2023-07-27T06:34:52.832174Z",
     "iopub.status.busy": "2023-07-27T06:34:52.831680Z",
     "iopub.status.idle": "2023-07-27T06:34:53.906730Z",
     "shell.execute_reply": "2023-07-27T06:34:53.906067Z"
    },
    "papermill": {
     "duration": 1.084444,
     "end_time": "2023-07-27T06:34:53.909144",
     "exception": false,
     "start_time": "2023-07-27T06:34:52.824700",
     "status": "completed"
    },
    "tags": []
   },
   "outputs": [],
   "source": [
    "ctx.log_figure(\"per-digit-probabilities.png\", fig)"
   ]
  },
  {
   "cell_type": "markdown",
   "id": "4d919947",
   "metadata": {
    "papermill": {
     "duration": 0.005209,
     "end_time": "2023-07-27T06:34:53.920101",
     "exception": false,
     "start_time": "2023-07-27T06:34:53.914892",
     "status": "completed"
    },
    "tags": []
   },
   "source": [
    "### Plot ROC curves for individual one-vs-rest classifiers"
   ]
  },
  {
   "cell_type": "code",
   "execution_count": 14,
   "id": "f0faebe9",
   "metadata": {
    "execution": {
     "iopub.execute_input": "2023-07-27T06:34:53.933459Z",
     "iopub.status.busy": "2023-07-27T06:34:53.933149Z",
     "iopub.status.idle": "2023-07-27T06:34:54.264393Z",
     "shell.execute_reply": "2023-07-27T06:34:54.263569Z"
    },
    "papermill": {
     "duration": 0.340757,
     "end_time": "2023-07-27T06:34:54.266835",
     "exception": false,
     "start_time": "2023-07-27T06:34:53.926078",
     "status": "completed"
    },
    "tags": []
   },
   "outputs": [],
   "source": [
    "from sklearn import metrics"
   ]
  },
  {
   "cell_type": "code",
   "execution_count": 15,
   "id": "c9788e04",
   "metadata": {
    "execution": {
     "iopub.execute_input": "2023-07-27T06:34:54.279608Z",
     "iopub.status.busy": "2023-07-27T06:34:54.279342Z",
     "iopub.status.idle": "2023-07-27T06:34:56.207002Z",
     "shell.execute_reply": "2023-07-27T06:34:56.206248Z"
    },
    "papermill": {
     "duration": 1.936459,
     "end_time": "2023-07-27T06:34:56.209064",
     "exception": false,
     "start_time": "2023-07-27T06:34:54.272605",
     "status": "completed"
    },
    "tags": []
   },
   "outputs": [
    {
     "data": {
      "image/png": "[encoded data removed]",
      "text/plain": [
       "<Figure size 1600x800 with 10 Axes>"
      ]
     },
     "metadata": {},
     "output_type": "display_data"
    }
   ],
   "source": [
    "def plot_roc_curves(y, y_pred_probs):\n",
    "    # based on example code\n",
    "    # https://scikit-learn.org/stable/auto_examples/model_selection/plot_roc.html\n",
    "\n",
    "    fig, axs = plt.subplots(nrows=2, ncols=5, figsize=(16, 8))\n",
    "\n",
    "    roc_auc_dict = {}\n",
    "\n",
    "    for (r, c), digit, ax in zip(\n",
    "        it.product(range(2), range(5)), range(10), axs.reshape(-1)\n",
    "    ):\n",
    "        fpr, tpr, _ = metrics.roc_curve(y == digit, y_pred_probs[:, digit])\n",
    "        auc = metrics.auc(fpr, tpr)\n",
    "        roc_auc_dict[str(digit)] = auc\n",
    "\n",
    "        ax.plot(fpr, tpr, label=f\"ROC AUC={round(auc, 3)}\")\n",
    "\n",
    "        ax.set_title(f\"\\nDigit {digit}\", fontsize=16)\n",
    "        if r == 1:\n",
    "            ax.set_xlabel(\"FPR\", fontsize=18)\n",
    "\n",
    "        if c == 0:\n",
    "            ax.set_ylabel(\"TPR\", fontsize=18)\n",
    "\n",
    "        ax.set_xlim([-0.05, 1.05])\n",
    "        ax.set_ylim([-0.05, 1.05])\n",
    "        ax.legend(loc=\"lower right\", frameon=False, fontsize=14)\n",
    "\n",
    "    fig.tight_layout()\n",
    "    fig.suptitle(\n",
    "        f\"ROC plots for one-vs-rest performances \"\n",
    "        f\"(on evaluation data, n={y_pred_probs_test.shape[1]}\",\n",
    "        fontsize=22,\n",
    "    )\n",
    "    fig.tight_layout()\n",
    "    fig.show()\n",
    "\n",
    "    return roc_auc_dict, fig\n",
    "\n",
    "\n",
    "roc_auc_dict, fig = plot_roc_curves(y_test, y_pred_probs_test)"
   ]
  },
  {
   "cell_type": "code",
   "execution_count": 16,
   "id": "fd22aaa6",
   "metadata": {
    "execution": {
     "iopub.execute_input": "2023-07-27T06:34:56.225320Z",
     "iopub.status.busy": "2023-07-27T06:34:56.225036Z",
     "iopub.status.idle": "2023-07-27T06:34:56.622958Z",
     "shell.execute_reply": "2023-07-27T06:34:56.622254Z"
    },
    "papermill": {
     "duration": 0.408358,
     "end_time": "2023-07-27T06:34:56.625104",
     "exception": false,
     "start_time": "2023-07-27T06:34:56.216746",
     "status": "completed"
    },
    "tags": []
   },
   "outputs": [],
   "source": [
    "ctx.log_figure(\"per-digit-roc-curves.png\", fig)"
   ]
  },
  {
   "cell_type": "code",
   "execution_count": 17,
   "id": "8779c862",
   "metadata": {
    "execution": {
     "iopub.execute_input": "2023-07-27T06:34:56.639620Z",
     "iopub.status.busy": "2023-07-27T06:34:56.639366Z",
     "iopub.status.idle": "2023-07-27T06:34:56.645993Z",
     "shell.execute_reply": "2023-07-27T06:34:56.645447Z"
    },
    "papermill": {
     "duration": 0.01598,
     "end_time": "2023-07-27T06:34:56.647587",
     "exception": false,
     "start_time": "2023-07-27T06:34:56.631607",
     "status": "completed"
    },
    "tags": []
   },
   "outputs": [
    {
     "data": {
      "text/plain": [
       "{'0': 1.0,\n",
       " '1': 0.998912839737582,\n",
       " '2': 1.0,\n",
       " '3': 0.9998500468603562,\n",
       " '4': 0.9996189605243103,\n",
       " '5': 0.9994001874414246,\n",
       " '6': 0.999923792104862,\n",
       " '7': 0.9997713763145862,\n",
       " '8': 0.9949164564943254,\n",
       " '9': 0.9995427526291724}"
      ]
     },
     "execution_count": 17,
     "metadata": {},
     "output_type": "execute_result"
    }
   ],
   "source": [
    "roc_auc_dict"
   ]
  },
  {
   "cell_type": "code",
   "execution_count": 18,
   "id": "9ed7d1d5",
   "metadata": {
    "execution": {
     "iopub.execute_input": "2023-07-27T06:34:56.661276Z",
     "iopub.status.busy": "2023-07-27T06:34:56.661066Z",
     "iopub.status.idle": "2023-07-27T06:34:56.673021Z",
     "shell.execute_reply": "2023-07-27T06:34:56.672385Z"
    },
    "papermill": {
     "duration": 0.021023,
     "end_time": "2023-07-27T06:34:56.674852",
     "exception": false,
     "start_time": "2023-07-27T06:34:56.653829",
     "status": "completed"
    },
    "tags": []
   },
   "outputs": [
    {
     "name": "stdout",
     "output_type": "stream",
     "text": [
      " - Logging roc_auc_per_digit (json) : {'0': 1.0, '1': 0.998912839737582, '2': 1.0, '3': 0.9998500468603562, '4': 0.9996189605243103, '5': 0.9994001874414246, '6': 0.999923792104862, '7': 0.9997713763145862, '8': 0.9949164564943254, '9': 0.9995427526291724}\n"
     ]
    }
   ],
   "source": [
    "ctx.log_value(\"roc_auc_per_digit\", roc_auc_dict)"
   ]
  },
  {
   "cell_type": "markdown",
   "id": "75996010",
   "metadata": {
    "papermill": {
     "duration": 0.007056,
     "end_time": "2023-07-27T06:34:56.688573",
     "exception": false,
     "start_time": "2023-07-27T06:34:56.681517",
     "status": "completed"
    },
    "tags": []
   },
   "source": [
    "### Compute and log mean ROC AUC score averaged over all digits"
   ]
  },
  {
   "cell_type": "code",
   "execution_count": 19,
   "id": "e81b5202",
   "metadata": {
    "execution": {
     "iopub.execute_input": "2023-07-27T06:34:56.702798Z",
     "iopub.status.busy": "2023-07-27T06:34:56.702540Z",
     "iopub.status.idle": "2023-07-27T06:34:56.716010Z",
     "shell.execute_reply": "2023-07-27T06:34:56.715220Z"
    },
    "papermill": {
     "duration": 0.022607,
     "end_time": "2023-07-27T06:34:56.717720",
     "exception": false,
     "start_time": "2023-07-27T06:34:56.695113",
     "status": "completed"
    },
    "tags": []
   },
   "outputs": [
    {
     "name": "stdout",
     "output_type": "stream",
     "text": [
      " - Logging roc_auc_class_mean (float) : 0.999193641210662\n"
     ]
    }
   ],
   "source": [
    "roc_auc_macro = np.mean(list(roc_auc_dict.values()))\n",
    "\n",
    "ctx.log_float(\"roc_auc_class_mean\", roc_auc_macro)\n",
    "\n",
    "# assert that the same value can be computed directly using sklearn\n",
    "assert roc_auc_macro == metrics.roc_auc_score(\n",
    "    y_test, y_pred_probs_test, average=\"macro\", multi_class=\"ovr\"\n",
    ")"
   ]
  },
  {
   "cell_type": "code",
   "execution_count": 20,
   "id": "fb1aef0a",
   "metadata": {
    "execution": {
     "iopub.execute_input": "2023-07-27T06:34:56.735428Z",
     "iopub.status.busy": "2023-07-27T06:34:56.732653Z",
     "iopub.status.idle": "2023-07-27T06:34:56.743036Z",
     "shell.execute_reply": "2023-07-27T06:34:56.739679Z"
    },
    "lines_to_next_cell": 0,
    "papermill": {
     "duration": 0.02024,
     "end_time": "2023-07-27T06:34:56.745085",
     "exception": false,
     "start_time": "2023-07-27T06:34:56.724845",
     "status": "completed"
    },
    "tags": []
   },
   "outputs": [],
   "source": [
    "# ---"
   ]
  },
  {
   "cell_type": "code",
   "execution_count": null,
   "id": "cf2fe436",
   "metadata": {
    "papermill": {
     "duration": 0.006837,
     "end_time": "2023-07-27T06:34:56.760181",
     "exception": false,
     "start_time": "2023-07-27T06:34:56.753344",
     "status": "completed"
    },
    "tags": []
   },
   "outputs": [],
   "source": []
  }
 ],
 "metadata": {
  "jupytext": {
   "cell_metadata_filter": "tags,-all",
   "main_language": "python",
   "notebook_metadata_filter": "-all"
  },
  "language_info": {
   "codemirror_mode": {
    "name": "ipython",
    "version": 3
   },
   "file_extension": ".py",
   "mimetype": "text/x-python",
   "name": "python",
   "nbconvert_exporter": "python",
   "pygments_lexer": "ipython3",
   "version": "3.8.10"
  },
  "papermill": {
   "default_parameters": {},
   "duration": 12.8329,
   "end_time": "2023-07-27T06:34:58.800208",
   "environment_variables": {},
   "exception": null,
   "input_path": "/tmp/temp-notebook-3_0o12y0.ipynb",
   "output_path": "/tmp/temp-notebook-3_0o12y0.ipynb",
   "parameters": {
    "P": {
     "_parameters_actor_name": "parameter_for_task_0x5e63589d2bd41797",
     "task.nr_train_images": 1000
    }
   },
   "start_time": "2023-07-27T06:34:45.967308",
   "version": "2.4.0"
  }
 },
 "nbformat": 4,
 "nbformat_minor": 5
}