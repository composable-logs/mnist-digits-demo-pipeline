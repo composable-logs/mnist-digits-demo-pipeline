{
 "cells": [
  {
   "cell_type": "markdown",
   "id": "a09e1db0",
   "metadata": {
    "papermill": {
     "duration": 0.005347,
     "end_time": "2023-07-29T06:33:14.700576",
     "exception": false,
     "start_time": "2023-07-29T06:33:14.695229",
     "status": "completed"
    },
    "tags": []
   },
   "source": [
    "# Benchmark model\n",
    "\n",
    "The purpose of this notebook is to benchmark persisted onnx-model (trained in the\n",
    "previous step) against evaluation set."
   ]
  },
  {
   "cell_type": "markdown",
   "id": "81235b7c",
   "metadata": {
    "papermill": {
     "duration": 0.003866,
     "end_time": "2023-07-29T06:33:14.710377",
     "exception": false,
     "start_time": "2023-07-29T06:33:14.706511",
     "status": "completed"
    },
    "tags": []
   },
   "source": [
    "### Determine run parameters"
   ]
  },
  {
   "cell_type": "code",
   "execution_count": 1,
   "id": "4b835a0c",
   "metadata": {
    "execution": {
     "iopub.execute_input": "2023-07-29T06:33:14.719659Z",
     "iopub.status.busy": "2023-07-29T06:33:14.719040Z",
     "iopub.status.idle": "2023-07-29T06:33:14.726833Z",
     "shell.execute_reply": "2023-07-29T06:33:14.725397Z"
    },
    "lines_to_next_cell": 0,
    "papermill": {
     "duration": 0.01415,
     "end_time": "2023-07-29T06:33:14.728286",
     "exception": false,
     "start_time": "2023-07-29T06:33:14.714136",
     "status": "completed"
    },
    "tags": []
   },
   "outputs": [],
   "source": [
    "# ----------------- Parameters for interactive development --------------\n",
    "P = {\n",
    "    \"workflow.data_lake_root\": \"/pipeline-outputs/data-lake\",\n",
    "    \"task.nr_train_images\": 600,\n",
    "}"
   ]
  },
  {
   "cell_type": "code",
   "execution_count": 2,
   "id": "ceb7007e",
   "metadata": {
    "execution": {
     "iopub.execute_input": "2023-07-29T06:33:14.736968Z",
     "iopub.status.busy": "2023-07-29T06:33:14.736591Z",
     "iopub.status.idle": "2023-07-29T06:33:14.739501Z",
     "shell.execute_reply": "2023-07-29T06:33:14.738901Z"
    },
    "lines_to_next_cell": 0,
    "papermill": {
     "duration": 0.008863,
     "end_time": "2023-07-29T06:33:14.740888",
     "exception": false,
     "start_time": "2023-07-29T06:33:14.732025",
     "status": "completed"
    },
    "tags": [
     "parameters"
    ]
   },
   "outputs": [],
   "source": [
    "# - During automated runs parameters will be injected in the below cell -"
   ]
  },
  {
   "cell_type": "code",
   "execution_count": 3,
   "id": "ec973021",
   "metadata": {
    "execution": {
     "iopub.execute_input": "2023-07-29T06:33:14.749527Z",
     "iopub.status.busy": "2023-07-29T06:33:14.749324Z",
     "iopub.status.idle": "2023-07-29T06:33:14.757824Z",
     "shell.execute_reply": "2023-07-29T06:33:14.753854Z"
    },
    "papermill": {
     "duration": 0.01491,
     "end_time": "2023-07-29T06:33:14.759560",
     "exception": false,
     "start_time": "2023-07-29T06:33:14.744650",
     "status": "completed"
    },
    "tags": [
     "injected-parameters"
    ]
   },
   "outputs": [],
   "source": [
    "# Parameters\n",
    "P = {\n",
    "    \"task.nr_train_images\": 1200,\n",
    "    \"_parameters_actor_name\": \"parameter_for_task_0x8a7d67c56d011f6b\",\n",
    "}\n"
   ]
  },
  {
   "cell_type": "code",
   "execution_count": 4,
   "id": "2e1a9437",
   "metadata": {
    "execution": {
     "iopub.execute_input": "2023-07-29T06:33:14.768562Z",
     "iopub.status.busy": "2023-07-29T06:33:14.768040Z",
     "iopub.status.idle": "2023-07-29T06:33:14.770852Z",
     "shell.execute_reply": "2023-07-29T06:33:14.770250Z"
    },
    "lines_to_next_cell": 0,
    "papermill": {
     "duration": 0.008762,
     "end_time": "2023-07-29T06:33:14.772259",
     "exception": false,
     "start_time": "2023-07-29T06:33:14.763497",
     "status": "completed"
    },
    "tags": []
   },
   "outputs": [],
   "source": [
    "# -----------------------------------------------------------------------"
   ]
  },
  {
   "cell_type": "markdown",
   "id": "b0c34b19",
   "metadata": {
    "papermill": {
     "duration": 0.003835,
     "end_time": "2023-07-29T06:33:14.779918",
     "exception": false,
     "start_time": "2023-07-29T06:33:14.776083",
     "status": "completed"
    },
    "tags": []
   },
   "source": [
    "---"
   ]
  },
  {
   "cell_type": "markdown",
   "id": "8bb9820a",
   "metadata": {
    "lines_to_next_cell": 2,
    "papermill": {
     "duration": 0.003825,
     "end_time": "2023-07-29T06:33:14.787610",
     "exception": false,
     "start_time": "2023-07-29T06:33:14.783785",
     "status": "completed"
    },
    "tags": []
   },
   "source": [
    "### Notebook code"
   ]
  },
  {
   "cell_type": "code",
   "execution_count": 5,
   "id": "bcf330db",
   "metadata": {
    "execution": {
     "iopub.execute_input": "2023-07-29T06:33:14.796487Z",
     "iopub.status.busy": "2023-07-29T06:33:14.796074Z",
     "iopub.status.idle": "2023-07-29T06:33:15.615073Z",
     "shell.execute_reply": "2023-07-29T06:33:15.614162Z"
    },
    "papermill": {
     "duration": 0.82518,
     "end_time": "2023-07-29T06:33:15.616662",
     "exception": false,
     "start_time": "2023-07-29T06:33:14.791482",
     "status": "completed"
    },
    "tags": []
   },
   "outputs": [
    {
     "name": "stderr",
     "output_type": "stream",
     "text": [
      "2023-07-29 06:33:15,539\tINFO worker.py:1364 -- Connecting to existing Ray cluster at address: 172.17.0.2:60386...\n"
     ]
    },
    {
     "name": "stderr",
     "output_type": "stream",
     "text": [
      "2023-07-29 06:33:15,548\tINFO worker.py:1544 -- Connected to Ray cluster. View the dashboard at \u001b[1m\u001b[32mhttp://127.0.0.1:8265 \u001b[39m\u001b[22m\n"
     ]
    },
    {
     "name": "stderr",
     "output_type": "stream",
     "text": [
      "/home/host_user/.local/lib/python3.8/site-packages/ray/runtime_context.py:27: RayDeprecationWarning: This API is deprecated and may be removed in future Ray releases. You could suppress this warning by setting env variable PYTHONWARNINGS=\"ignore::DeprecationWarning\"\n",
      "Use get_job_id() instead\n",
      "  \"job_id\": self.job_id,\n",
      "/home/host_user/.local/lib/python3.8/site-packages/ray/runtime_context.py:28: RayDeprecationWarning: This API is deprecated and may be removed in future Ray releases. You could suppress this warning by setting env variable PYTHONWARNINGS=\"ignore::DeprecationWarning\"\n",
      "Use get_node_id() instead\n",
      "  \"node_id\": self.node_id,\n"
     ]
    }
   ],
   "source": [
    "import itertools as it\n",
    "\n",
    "#\n",
    "import numpy as np\n",
    "import matplotlib.pyplot as plt\n",
    "\n",
    "#\n",
    "from composable_logs.tasks.task_opentelemetry_logging import get_task_context\n",
    "\n",
    "#\n",
    "from common.io import datalake_root\n",
    "\n",
    "ctx = get_task_context(P)"
   ]
  },
  {
   "cell_type": "markdown",
   "id": "9b7799bf",
   "metadata": {
    "papermill": {
     "duration": 0.004118,
     "end_time": "2023-07-29T06:33:15.625431",
     "exception": false,
     "start_time": "2023-07-29T06:33:15.621313",
     "status": "completed"
    },
    "tags": []
   },
   "source": [
    "## Load persisted onnx-model and evaluation data"
   ]
  },
  {
   "cell_type": "code",
   "execution_count": 6,
   "id": "525eb11e",
   "metadata": {
    "execution": {
     "iopub.execute_input": "2023-07-29T06:33:15.635641Z",
     "iopub.status.busy": "2023-07-29T06:33:15.635138Z",
     "iopub.status.idle": "2023-07-29T06:33:15.638511Z",
     "shell.execute_reply": "2023-07-29T06:33:15.637915Z"
    },
    "papermill": {
     "duration": 0.01002,
     "end_time": "2023-07-29T06:33:15.639950",
     "exception": false,
     "start_time": "2023-07-29T06:33:15.629930",
     "status": "completed"
    },
    "tags": []
   },
   "outputs": [],
   "source": [
    "from common.io import read_onnx, get_onnx_inputs, get_onnx_outputs, read_numpy"
   ]
  },
  {
   "cell_type": "code",
   "execution_count": 7,
   "id": "d762d4bd",
   "metadata": {
    "execution": {
     "iopub.execute_input": "2023-07-29T06:33:15.650903Z",
     "iopub.status.busy": "2023-07-29T06:33:15.650321Z",
     "iopub.status.idle": "2023-07-29T06:33:15.658870Z",
     "shell.execute_reply": "2023-07-29T06:33:15.658191Z"
    },
    "lines_to_next_cell": 0,
    "papermill": {
     "duration": 0.015885,
     "end_time": "2023-07-29T06:33:15.660327",
     "exception": false,
     "start_time": "2023-07-29T06:33:15.644442",
     "status": "completed"
    },
    "tags": []
   },
   "outputs": [],
   "source": [
    "onnx_inference_session = read_onnx(\n",
    "    datalake_root(ctx)\n",
    "    / \"models\"\n",
    "    / f\"nr_train_images={ctx.parameters['task.nr_train_images']}\"\n",
    "    / \"model.onnx\"\n",
    ")"
   ]
  },
  {
   "cell_type": "markdown",
   "id": "07fbec0b",
   "metadata": {
    "papermill": {
     "duration": 0.004119,
     "end_time": "2023-07-29T06:33:15.668694",
     "exception": false,
     "start_time": "2023-07-29T06:33:15.664575",
     "status": "completed"
    },
    "tags": []
   },
   "source": [
    "### Record structure of inputs and outputs for ONNX model\n",
    "\n",
    "(this should likely be done in training notebook)"
   ]
  },
  {
   "cell_type": "code",
   "execution_count": 8,
   "id": "00f872d1",
   "metadata": {
    "execution": {
     "iopub.execute_input": "2023-07-29T06:33:15.678594Z",
     "iopub.status.busy": "2023-07-29T06:33:15.678171Z",
     "iopub.status.idle": "2023-07-29T06:33:15.682604Z",
     "shell.execute_reply": "2023-07-29T06:33:15.682093Z"
    },
    "papermill": {
     "duration": 0.014504,
     "end_time": "2023-07-29T06:33:15.687448",
     "exception": false,
     "start_time": "2023-07-29T06:33:15.672944",
     "status": "completed"
    },
    "tags": []
   },
   "outputs": [
    {
     "name": "stdout",
     "output_type": "stream",
     "text": [
      "{\n",
      "  \"inputs\": [\n",
      "    {\n",
      "      \"name\": \"float_input_8x8_image\",\n",
      "      \"shape\": [\n",
      "        null,\n",
      "        64\n",
      "      ],\n",
      "      \"type\": \"tensor(float)\"\n",
      "    }\n",
      "  ],\n",
      "  \"outputs\": [\n",
      "    {\n",
      "      \"name\": \"output_label\",\n",
      "      \"shape\": [\n",
      "        null\n",
      "      ],\n",
      "      \"type\": \"tensor(int64)\"\n",
      "    },\n",
      "    {\n",
      "      \"name\": \"output_probability\",\n",
      "      \"shape\": [],\n",
      "      \"type\": \"seq(map(int64,tensor(float)))\"\n",
      "    }\n",
      "  ]\n",
      "}\n"
     ]
    }
   ],
   "source": [
    "import json\n",
    "\n",
    "onnx_io = json.dumps(\n",
    "    {\n",
    "        \"inputs\": get_onnx_inputs(onnx_inference_session),\n",
    "        \"outputs\": get_onnx_outputs(onnx_inference_session),\n",
    "    },\n",
    "    indent=2,\n",
    ")\n",
    "\n",
    "\n",
    "ctx.log_artefact(\"onnx_io_structure.json\", onnx_io)\n",
    "print(onnx_io)"
   ]
  },
  {
   "cell_type": "markdown",
   "id": "9f85c460",
   "metadata": {
    "papermill": {
     "duration": 0.007102,
     "end_time": "2023-07-29T06:33:15.699683",
     "exception": false,
     "start_time": "2023-07-29T06:33:15.692581",
     "status": "completed"
    },
    "tags": []
   },
   "source": [
    "### Evaluate model performance on evaluation data set"
   ]
  },
  {
   "cell_type": "code",
   "execution_count": 9,
   "id": "c099a65a",
   "metadata": {
    "execution": {
     "iopub.execute_input": "2023-07-29T06:33:15.709919Z",
     "iopub.status.busy": "2023-07-29T06:33:15.709321Z",
     "iopub.status.idle": "2023-07-29T06:33:15.713821Z",
     "shell.execute_reply": "2023-07-29T06:33:15.713256Z"
    },
    "papermill": {
     "duration": 0.011353,
     "end_time": "2023-07-29T06:33:15.715387",
     "exception": false,
     "start_time": "2023-07-29T06:33:15.704034",
     "status": "completed"
    },
    "tags": []
   },
   "outputs": [],
   "source": [
    "# load evaluation data\n",
    "X_test = read_numpy(datalake_root(ctx) / \"test-data\" / \"digits.numpy\")\n",
    "y_test = read_numpy(datalake_root(ctx) / \"test-data\" / \"labels.numpy\")"
   ]
  },
  {
   "cell_type": "code",
   "execution_count": 10,
   "id": "7c5ef2ca",
   "metadata": {
    "execution": {
     "iopub.execute_input": "2023-07-29T06:33:15.725448Z",
     "iopub.status.busy": "2023-07-29T06:33:15.724912Z",
     "iopub.status.idle": "2023-07-29T06:33:15.737149Z",
     "shell.execute_reply": "2023-07-29T06:33:15.736633Z"
    },
    "papermill": {
     "duration": 0.019034,
     "end_time": "2023-07-29T06:33:15.738609",
     "exception": false,
     "start_time": "2023-07-29T06:33:15.719575",
     "status": "completed"
    },
    "tags": []
   },
   "outputs": [],
   "source": [
    "def get_model_outputs(X, onnx_inference_session):\n",
    "    y_pred_labels, y_pred_map = onnx_inference_session.run(\n",
    "        [\"output_label\", \"output_probability\"],\n",
    "        {\"float_input_8x8_image\": X.astype(np.float32)},\n",
    "    )\n",
    "    y_pred_probs = np.array(\n",
    "        [[probabilities[digit] for digit in range(10)] for probabilities in y_pred_map]\n",
    "    )\n",
    "\n",
    "    assert y_pred_labels.shape == (X.shape[0],)\n",
    "    assert y_pred_probs.shape == (X.shape[0], 10)\n",
    "\n",
    "    return y_pred_labels, y_pred_probs\n",
    "\n",
    "\n",
    "# Note: as shown in the training notebook, the predicted labels and probabilities\n",
    "# computed below need not be compatible.\n",
    "y_pred_labels_test, y_pred_probs_test = get_model_outputs(\n",
    "    X_test, onnx_inference_session\n",
    ")"
   ]
  },
  {
   "cell_type": "markdown",
   "id": "feba0a2b",
   "metadata": {
    "papermill": {
     "duration": 0.004188,
     "end_time": "2023-07-29T06:33:15.747368",
     "exception": false,
     "start_time": "2023-07-29T06:33:15.743180",
     "status": "completed"
    },
    "tags": []
   },
   "source": [
    "### Confusion matrix"
   ]
  },
  {
   "cell_type": "code",
   "execution_count": 11,
   "id": "f541a044",
   "metadata": {
    "execution": {
     "iopub.execute_input": "2023-07-29T06:33:15.757550Z",
     "iopub.status.busy": "2023-07-29T06:33:15.756975Z",
     "iopub.status.idle": "2023-07-29T06:33:15.759919Z",
     "shell.execute_reply": "2023-07-29T06:33:15.759375Z"
    },
    "papermill": {
     "duration": 0.009877,
     "end_time": "2023-07-29T06:33:15.761553",
     "exception": false,
     "start_time": "2023-07-29T06:33:15.751676",
     "status": "completed"
    },
    "tags": []
   },
   "outputs": [],
   "source": [
    "# TODO"
   ]
  },
  {
   "cell_type": "markdown",
   "id": "ae77f7a2",
   "metadata": {
    "papermill": {
     "duration": 0.004315,
     "end_time": "2023-07-29T06:33:15.770206",
     "exception": false,
     "start_time": "2023-07-29T06:33:15.765891",
     "status": "completed"
    },
    "tags": []
   },
   "source": [
    "### Plot predicted probabilities for each classifier over all evaluation digit images"
   ]
  },
  {
   "cell_type": "code",
   "execution_count": 12,
   "id": "2c6cba4c",
   "metadata": {
    "execution": {
     "iopub.execute_input": "2023-07-29T06:33:15.779977Z",
     "iopub.status.busy": "2023-07-29T06:33:15.779454Z",
     "iopub.status.idle": "2023-07-29T06:33:19.244067Z",
     "shell.execute_reply": "2023-07-29T06:33:19.243328Z"
    },
    "papermill": {
     "duration": 3.471409,
     "end_time": "2023-07-29T06:33:19.245822",
     "exception": false,
     "start_time": "2023-07-29T06:33:15.774413",
     "status": "completed"
    },
    "tags": []
   },
   "outputs": [
    {
     "data": {
      "image/png": "[encoded data removed]",
      "text/plain": [
       "<Figure size 1600x600 with 10 Axes>"
      ]
     },
     "metadata": {},
     "output_type": "display_data"
    }
   ],
   "source": [
    "def plot_per_digit_probabilities(y_pred_probs):\n",
    "    fig, axs = plt.subplots(nrows=2, ncols=5, figsize=(16, 6))\n",
    "\n",
    "    for (r, c), digit, ax in zip(\n",
    "        it.product(range(2), range(5)), range(10), axs.reshape(-1)\n",
    "    ):\n",
    "        ax.hist(y_pred_probs_test[:, digit], bins=20)\n",
    "\n",
    "        ax.set_title(f\"Digit {digit}\")\n",
    "        if r == 1 and c == 2:\n",
    "            ax.set_xlabel(\"probability\", fontsize=16)\n",
    "\n",
    "        if c == 0:\n",
    "            ax.set_ylabel(\"counts\", fontsize=16)\n",
    "        ax.set_yscale(\"log\")\n",
    "\n",
    "    fig.tight_layout()\n",
    "    fig.suptitle(\n",
    "        f\"Distributions of prediction probabilities for each digit \"\n",
    "        f\"(on evaluation data, n={y_pred_probs.shape[0]})\",\n",
    "        fontsize=20,\n",
    "    )\n",
    "    fig.tight_layout()\n",
    "    fig.show()\n",
    "\n",
    "    return fig\n",
    "\n",
    "\n",
    "fig = plot_per_digit_probabilities(y_pred_probs_test)"
   ]
  },
  {
   "cell_type": "markdown",
   "id": "74c1e049",
   "metadata": {
    "papermill": {
     "duration": 0.00509,
     "end_time": "2023-07-29T06:33:19.256435",
     "exception": false,
     "start_time": "2023-07-29T06:33:19.251345",
     "status": "completed"
    },
    "tags": []
   },
   "source": [
    "From the above distributions we see that most digits have clear separation between\n",
    "high and lower probabilities. Morover, in each case there is roughly an order of\n",
    "magnitude more of digits with low probabilities. This is compatible with digits\n",
    "being roughly evenly distributed in the data."
   ]
  },
  {
   "cell_type": "code",
   "execution_count": 13,
   "id": "1602c0c1",
   "metadata": {
    "execution": {
     "iopub.execute_input": "2023-07-29T06:33:19.268182Z",
     "iopub.status.busy": "2023-07-29T06:33:19.267644Z",
     "iopub.status.idle": "2023-07-29T06:33:19.850228Z",
     "shell.execute_reply": "2023-07-29T06:33:19.849393Z"
    },
    "papermill": {
     "duration": 0.590754,
     "end_time": "2023-07-29T06:33:19.852224",
     "exception": false,
     "start_time": "2023-07-29T06:33:19.261470",
     "status": "completed"
    },
    "tags": []
   },
   "outputs": [],
   "source": [
    "ctx.log_figure(\"per-digit-probabilities.png\", fig)"
   ]
  },
  {
   "cell_type": "markdown",
   "id": "94e47138",
   "metadata": {
    "papermill": {
     "duration": 0.005758,
     "end_time": "2023-07-29T06:33:19.863655",
     "exception": false,
     "start_time": "2023-07-29T06:33:19.857897",
     "status": "completed"
    },
    "tags": []
   },
   "source": [
    "### Plot ROC curves for individual one-vs-rest classifiers"
   ]
  },
  {
   "cell_type": "code",
   "execution_count": 14,
   "id": "547aca6a",
   "metadata": {
    "execution": {
     "iopub.execute_input": "2023-07-29T06:33:19.875655Z",
     "iopub.status.busy": "2023-07-29T06:33:19.875134Z",
     "iopub.status.idle": "2023-07-29T06:33:20.167825Z",
     "shell.execute_reply": "2023-07-29T06:33:20.166590Z"
    },
    "papermill": {
     "duration": 0.301043,
     "end_time": "2023-07-29T06:33:20.170036",
     "exception": false,
     "start_time": "2023-07-29T06:33:19.868993",
     "status": "completed"
    },
    "tags": []
   },
   "outputs": [],
   "source": [
    "from sklearn import metrics"
   ]
  },
  {
   "cell_type": "code",
   "execution_count": 15,
   "id": "f05a02e0",
   "metadata": {
    "execution": {
     "iopub.execute_input": "2023-07-29T06:33:20.183460Z",
     "iopub.status.busy": "2023-07-29T06:33:20.182992Z",
     "iopub.status.idle": "2023-07-29T06:33:21.860093Z",
     "shell.execute_reply": "2023-07-29T06:33:21.859497Z"
    },
    "papermill": {
     "duration": 1.686665,
     "end_time": "2023-07-29T06:33:21.863425",
     "exception": false,
     "start_time": "2023-07-29T06:33:20.176760",
     "status": "completed"
    },
    "tags": []
   },
   "outputs": [
    {
     "data": {
      "image/png": "[encoded data removed]",
      "text/plain": [
       "<Figure size 1600x800 with 10 Axes>"
      ]
     },
     "metadata": {},
     "output_type": "display_data"
    }
   ],
   "source": [
    "def plot_roc_curves(y, y_pred_probs):\n",
    "    # based on example code\n",
    "    # https://scikit-learn.org/stable/auto_examples/model_selection/plot_roc.html\n",
    "\n",
    "    fig, axs = plt.subplots(nrows=2, ncols=5, figsize=(16, 8))\n",
    "\n",
    "    roc_auc_dict = {}\n",
    "\n",
    "    for (r, c), digit, ax in zip(\n",
    "        it.product(range(2), range(5)), range(10), axs.reshape(-1)\n",
    "    ):\n",
    "        fpr, tpr, _ = metrics.roc_curve(y == digit, y_pred_probs[:, digit])\n",
    "        auc = metrics.auc(fpr, tpr)\n",
    "        roc_auc_dict[str(digit)] = auc\n",
    "\n",
    "        ax.plot(fpr, tpr, label=f\"ROC AUC={round(auc, 3)}\")\n",
    "\n",
    "        ax.set_title(f\"\\nDigit {digit}\", fontsize=16)\n",
    "        if r == 1:\n",
    "            ax.set_xlabel(\"FPR\", fontsize=18)\n",
    "\n",
    "        if c == 0:\n",
    "            ax.set_ylabel(\"TPR\", fontsize=18)\n",
    "\n",
    "        ax.set_xlim([-0.05, 1.05])\n",
    "        ax.set_ylim([-0.05, 1.05])\n",
    "        ax.legend(loc=\"lower right\", frameon=False, fontsize=14)\n",
    "\n",
    "    fig.tight_layout()\n",
    "    fig.suptitle(\n",
    "        f\"ROC plots for one-vs-rest performances \"\n",
    "        f\"(on evaluation data, n={y_pred_probs_test.shape[1]}\",\n",
    "        fontsize=22,\n",
    "    )\n",
    "    fig.tight_layout()\n",
    "    fig.show()\n",
    "\n",
    "    return roc_auc_dict, fig\n",
    "\n",
    "\n",
    "roc_auc_dict, fig = plot_roc_curves(y_test, y_pred_probs_test)"
   ]
  },
  {
   "cell_type": "code",
   "execution_count": 16,
   "id": "239f182d",
   "metadata": {
    "execution": {
     "iopub.execute_input": "2023-07-29T06:33:21.877525Z",
     "iopub.status.busy": "2023-07-29T06:33:21.877109Z",
     "iopub.status.idle": "2023-07-29T06:33:22.198851Z",
     "shell.execute_reply": "2023-07-29T06:33:22.198182Z"
    },
    "papermill": {
     "duration": 0.331104,
     "end_time": "2023-07-29T06:33:22.201014",
     "exception": false,
     "start_time": "2023-07-29T06:33:21.869910",
     "status": "completed"
    },
    "tags": []
   },
   "outputs": [],
   "source": [
    "ctx.log_figure(\"per-digit-roc-curves.png\", fig)"
   ]
  },
  {
   "cell_type": "code",
   "execution_count": 17,
   "id": "630ce490",
   "metadata": {
    "execution": {
     "iopub.execute_input": "2023-07-29T06:33:22.214854Z",
     "iopub.status.busy": "2023-07-29T06:33:22.214240Z",
     "iopub.status.idle": "2023-07-29T06:33:22.220676Z",
     "shell.execute_reply": "2023-07-29T06:33:22.220050Z"
    },
    "papermill": {
     "duration": 0.015002,
     "end_time": "2023-07-29T06:33:22.222295",
     "exception": false,
     "start_time": "2023-07-29T06:33:22.207293",
     "status": "completed"
    },
    "tags": []
   },
   "outputs": [
    {
     "data": {
      "text/plain": [
       "{'0': 1.0,\n",
       " '1': 0.9990627928772259,\n",
       " '2': 1.0,\n",
       " '3': 0.9998500468603562,\n",
       " '4': 0.9997713763145861,\n",
       " '5': 0.9996626054358013,\n",
       " '6': 0.999923792104862,\n",
       " '7': 0.9998475842097242,\n",
       " '8': 0.9958228247162673,\n",
       " '9': 0.9996570644718793}"
      ]
     },
     "execution_count": 17,
     "metadata": {},
     "output_type": "execute_result"
    }
   ],
   "source": [
    "roc_auc_dict"
   ]
  },
  {
   "cell_type": "code",
   "execution_count": 18,
   "id": "4d27f76c",
   "metadata": {
    "execution": {
     "iopub.execute_input": "2023-07-29T06:33:22.236038Z",
     "iopub.status.busy": "2023-07-29T06:33:22.235635Z",
     "iopub.status.idle": "2023-07-29T06:33:22.241802Z",
     "shell.execute_reply": "2023-07-29T06:33:22.240677Z"
    },
    "papermill": {
     "duration": 0.014582,
     "end_time": "2023-07-29T06:33:22.243253",
     "exception": false,
     "start_time": "2023-07-29T06:33:22.228671",
     "status": "completed"
    },
    "tags": []
   },
   "outputs": [
    {
     "name": "stdout",
     "output_type": "stream",
     "text": [
      " - Logging roc_auc_per_digit (json) : {'0': 1.0, '1': 0.9990627928772259, '2': 1.0, '3': 0.9998500468603562, '4': 0.9997713763145861, '5': 0.9996626054358013, '6': 0.999923792104862, '7': 0.9998475842097242, '8': 0.9958228247162673, '9': 0.9996570644718793}\n"
     ]
    }
   ],
   "source": [
    "ctx.log_value(\"roc_auc_per_digit\", roc_auc_dict)"
   ]
  },
  {
   "cell_type": "markdown",
   "id": "e34106a5",
   "metadata": {
    "papermill": {
     "duration": 0.006239,
     "end_time": "2023-07-29T06:33:22.255653",
     "exception": false,
     "start_time": "2023-07-29T06:33:22.249414",
     "status": "completed"
    },
    "tags": []
   },
   "source": [
    "### Compute and log mean ROC AUC score averaged over all digits"
   ]
  },
  {
   "cell_type": "code",
   "execution_count": 19,
   "id": "db6822c9",
   "metadata": {
    "execution": {
     "iopub.execute_input": "2023-07-29T06:33:22.269537Z",
     "iopub.status.busy": "2023-07-29T06:33:22.268915Z",
     "iopub.status.idle": "2023-07-29T06:33:22.283147Z",
     "shell.execute_reply": "2023-07-29T06:33:22.282461Z"
    },
    "papermill": {
     "duration": 0.022786,
     "end_time": "2023-07-29T06:33:22.284594",
     "exception": false,
     "start_time": "2023-07-29T06:33:22.261808",
     "status": "completed"
    },
    "tags": []
   },
   "outputs": [
    {
     "name": "stdout",
     "output_type": "stream",
     "text": [
      " - Logging roc_auc_class_mean (float) : 0.9993598086990703\n"
     ]
    }
   ],
   "source": [
    "roc_auc_macro = np.mean(list(roc_auc_dict.values()))\n",
    "\n",
    "ctx.log_float(\"roc_auc_class_mean\", roc_auc_macro)\n",
    "\n",
    "# assert that the same value can be computed directly using sklearn\n",
    "assert roc_auc_macro == metrics.roc_auc_score(\n",
    "    y_test, y_pred_probs_test, average=\"macro\", multi_class=\"ovr\"\n",
    ")"
   ]
  },
  {
   "cell_type": "code",
   "execution_count": 20,
   "id": "0e10879f",
   "metadata": {
    "execution": {
     "iopub.execute_input": "2023-07-29T06:33:22.299435Z",
     "iopub.status.busy": "2023-07-29T06:33:22.298853Z",
     "iopub.status.idle": "2023-07-29T06:33:22.302517Z",
     "shell.execute_reply": "2023-07-29T06:33:22.301168Z"
    },
    "lines_to_next_cell": 0,
    "papermill": {
     "duration": 0.012885,
     "end_time": "2023-07-29T06:33:22.303971",
     "exception": false,
     "start_time": "2023-07-29T06:33:22.291086",
     "status": "completed"
    },
    "tags": []
   },
   "outputs": [],
   "source": [
    "# ---"
   ]
  },
  {
   "cell_type": "code",
   "execution_count": null,
   "id": "d08f8801",
   "metadata": {
    "papermill": {
     "duration": 0.006432,
     "end_time": "2023-07-29T06:33:22.316750",
     "exception": false,
     "start_time": "2023-07-29T06:33:22.310318",
     "status": "completed"
    },
    "tags": []
   },
   "outputs": [],
   "source": []
  }
 ],
 "metadata": {
  "jupytext": {
   "cell_metadata_filter": "tags,-all",
   "main_language": "python",
   "notebook_metadata_filter": "-all"
  },
  "language_info": {
   "codemirror_mode": {
    "name": "ipython",
    "version": 3
   },
   "file_extension": ".py",
   "mimetype": "text/x-python",
   "name": "python",
   "nbconvert_exporter": "python",
   "pygments_lexer": "ipython3",
   "version": "3.8.10"
  },
  "papermill": {
   "default_parameters": {},
   "duration": 11.048062,
   "end_time": "2023-07-29T06:33:24.454714",
   "environment_variables": {},
   "exception": null,
   "input_path": "/tmp/temp-notebook-r93jyb5v.ipynb",
   "output_path": "/tmp/temp-notebook-r93jyb5v.ipynb",
   "parameters": {
    "P": {
     "_parameters_actor_name": "parameter_for_task_0x8a7d67c56d011f6b",
     "task.nr_train_images": 1200
    }
   },
   "start_time": "2023-07-29T06:33:13.406652",
   "version": "2.4.0"
  }
 },
 "nbformat": 4,
 "nbformat_minor": 5
}