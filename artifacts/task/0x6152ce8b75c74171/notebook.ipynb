{
 "cells": [
  {
   "cell_type": "markdown",
   "id": "3ea10a7f",
   "metadata": {
    "papermill": {
     "duration": 0.007375,
     "end_time": "2023-07-24T06:37:05.779006",
     "exception": false,
     "start_time": "2023-07-24T06:37:05.771631",
     "status": "completed"
    },
    "tags": []
   },
   "source": [
    "# Benchmark model\n",
    "\n",
    "The purpose of this notebook is to benchmark persisted onnx-model (trained in the\n",
    "previous step) against evaluation set."
   ]
  },
  {
   "cell_type": "markdown",
   "id": "a37b9002",
   "metadata": {
    "papermill": {
     "duration": 0.003959,
     "end_time": "2023-07-24T06:37:05.791663",
     "exception": false,
     "start_time": "2023-07-24T06:37:05.787704",
     "status": "completed"
    },
    "tags": []
   },
   "source": [
    "### Determine run parameters"
   ]
  },
  {
   "cell_type": "code",
   "execution_count": 1,
   "id": "f5bba44d",
   "metadata": {
    "execution": {
     "iopub.execute_input": "2023-07-24T06:37:05.801693Z",
     "iopub.status.busy": "2023-07-24T06:37:05.801383Z",
     "iopub.status.idle": "2023-07-24T06:37:05.810576Z",
     "shell.execute_reply": "2023-07-24T06:37:05.809943Z"
    },
    "lines_to_next_cell": 0,
    "papermill": {
     "duration": 0.017042,
     "end_time": "2023-07-24T06:37:05.812616",
     "exception": false,
     "start_time": "2023-07-24T06:37:05.795574",
     "status": "completed"
    },
    "tags": []
   },
   "outputs": [],
   "source": [
    "# ----------------- Parameters for interactive development --------------\n",
    "P = {\n",
    "    \"workflow.data_lake_root\": \"/pipeline-outputs/data-lake\",\n",
    "    \"task.nr_train_images\": 600,\n",
    "}"
   ]
  },
  {
   "cell_type": "code",
   "execution_count": 2,
   "id": "379a62a6",
   "metadata": {
    "execution": {
     "iopub.execute_input": "2023-07-24T06:37:05.823814Z",
     "iopub.status.busy": "2023-07-24T06:37:05.823527Z",
     "iopub.status.idle": "2023-07-24T06:37:05.828475Z",
     "shell.execute_reply": "2023-07-24T06:37:05.827784Z"
    },
    "lines_to_next_cell": 0,
    "papermill": {
     "duration": 0.012633,
     "end_time": "2023-07-24T06:37:05.830341",
     "exception": false,
     "start_time": "2023-07-24T06:37:05.817708",
     "status": "completed"
    },
    "tags": [
     "parameters"
    ]
   },
   "outputs": [],
   "source": [
    "# - During automated runs parameters will be injected in the below cell -"
   ]
  },
  {
   "cell_type": "code",
   "execution_count": 3,
   "id": "f5c16e6c",
   "metadata": {
    "execution": {
     "iopub.execute_input": "2023-07-24T06:37:05.840071Z",
     "iopub.status.busy": "2023-07-24T06:37:05.839803Z",
     "iopub.status.idle": "2023-07-24T06:37:05.844048Z",
     "shell.execute_reply": "2023-07-24T06:37:05.843450Z"
    },
    "papermill": {
     "duration": 0.011403,
     "end_time": "2023-07-24T06:37:05.845773",
     "exception": false,
     "start_time": "2023-07-24T06:37:05.834370",
     "status": "completed"
    },
    "tags": [
     "injected-parameters"
    ]
   },
   "outputs": [],
   "source": [
    "# Parameters\n",
    "P = {\n",
    "    \"task.nr_train_images\": 800,\n",
    "    \"_parameters_actor_name\": \"parameter_for_task_0x6152ce8b75c74171\",\n",
    "}\n"
   ]
  },
  {
   "cell_type": "code",
   "execution_count": 4,
   "id": "096dc9bf",
   "metadata": {
    "execution": {
     "iopub.execute_input": "2023-07-24T06:37:05.855338Z",
     "iopub.status.busy": "2023-07-24T06:37:05.855077Z",
     "iopub.status.idle": "2023-07-24T06:37:05.859458Z",
     "shell.execute_reply": "2023-07-24T06:37:05.858896Z"
    },
    "lines_to_next_cell": 0,
    "papermill": {
     "duration": 0.011329,
     "end_time": "2023-07-24T06:37:05.861219",
     "exception": false,
     "start_time": "2023-07-24T06:37:05.849890",
     "status": "completed"
    },
    "tags": []
   },
   "outputs": [],
   "source": [
    "# -----------------------------------------------------------------------"
   ]
  },
  {
   "cell_type": "markdown",
   "id": "41a559a3",
   "metadata": {
    "papermill": {
     "duration": 0.004149,
     "end_time": "2023-07-24T06:37:05.869449",
     "exception": false,
     "start_time": "2023-07-24T06:37:05.865300",
     "status": "completed"
    },
    "tags": []
   },
   "source": [
    "---"
   ]
  },
  {
   "cell_type": "markdown",
   "id": "31b46ede",
   "metadata": {
    "lines_to_next_cell": 2,
    "papermill": {
     "duration": 0.003912,
     "end_time": "2023-07-24T06:37:05.877312",
     "exception": false,
     "start_time": "2023-07-24T06:37:05.873400",
     "status": "completed"
    },
    "tags": []
   },
   "source": [
    "### Notebook code"
   ]
  },
  {
   "cell_type": "code",
   "execution_count": 5,
   "id": "3e778498",
   "metadata": {
    "execution": {
     "iopub.execute_input": "2023-07-24T06:37:05.887253Z",
     "iopub.status.busy": "2023-07-24T06:37:05.886966Z",
     "iopub.status.idle": "2023-07-24T06:37:06.791568Z",
     "shell.execute_reply": "2023-07-24T06:37:06.790289Z"
    },
    "papermill": {
     "duration": 0.911756,
     "end_time": "2023-07-24T06:37:06.793411",
     "exception": false,
     "start_time": "2023-07-24T06:37:05.881655",
     "status": "completed"
    },
    "tags": []
   },
   "outputs": [
    {
     "name": "stderr",
     "output_type": "stream",
     "text": [
      "2023-07-24 06:37:06,715\tINFO worker.py:1364 -- Connecting to existing Ray cluster at address: 172.17.0.2:55561...\n"
     ]
    },
    {
     "name": "stderr",
     "output_type": "stream",
     "text": [
      "2023-07-24 06:37:06,724\tINFO worker.py:1544 -- Connected to Ray cluster. View the dashboard at \u001b[1m\u001b[32mhttp://127.0.0.1:8265 \u001b[39m\u001b[22m\n"
     ]
    },
    {
     "name": "stderr",
     "output_type": "stream",
     "text": [
      "/home/host_user/.local/lib/python3.8/site-packages/ray/runtime_context.py:27: RayDeprecationWarning: This API is deprecated and may be removed in future Ray releases. You could suppress this warning by setting env variable PYTHONWARNINGS=\"ignore::DeprecationWarning\"\n",
      "Use get_job_id() instead\n",
      "  \"job_id\": self.job_id,\n",
      "/home/host_user/.local/lib/python3.8/site-packages/ray/runtime_context.py:28: RayDeprecationWarning: This API is deprecated and may be removed in future Ray releases. You could suppress this warning by setting env variable PYTHONWARNINGS=\"ignore::DeprecationWarning\"\n",
      "Use get_node_id() instead\n",
      "  \"node_id\": self.node_id,\n"
     ]
    }
   ],
   "source": [
    "import itertools as it\n",
    "\n",
    "#\n",
    "import numpy as np\n",
    "import matplotlib.pyplot as plt\n",
    "\n",
    "#\n",
    "from composable_logs.tasks.task_opentelemetry_logging import get_task_context\n",
    "\n",
    "#\n",
    "from common.io import datalake_root\n",
    "\n",
    "ctx = get_task_context(P)"
   ]
  },
  {
   "cell_type": "markdown",
   "id": "66a7a3d3",
   "metadata": {
    "papermill": {
     "duration": 0.00461,
     "end_time": "2023-07-24T06:37:06.803695",
     "exception": false,
     "start_time": "2023-07-24T06:37:06.799085",
     "status": "completed"
    },
    "tags": []
   },
   "source": [
    "## Load persisted onnx-model and evaluation data"
   ]
  },
  {
   "cell_type": "code",
   "execution_count": 6,
   "id": "95820cf8",
   "metadata": {
    "execution": {
     "iopub.execute_input": "2023-07-24T06:37:06.814570Z",
     "iopub.status.busy": "2023-07-24T06:37:06.814253Z",
     "iopub.status.idle": "2023-07-24T06:37:06.818113Z",
     "shell.execute_reply": "2023-07-24T06:37:06.817513Z"
    },
    "papermill": {
     "duration": 0.011236,
     "end_time": "2023-07-24T06:37:06.819856",
     "exception": false,
     "start_time": "2023-07-24T06:37:06.808620",
     "status": "completed"
    },
    "tags": []
   },
   "outputs": [],
   "source": [
    "from common.io import read_onnx, get_onnx_inputs, get_onnx_outputs, read_numpy"
   ]
  },
  {
   "cell_type": "code",
   "execution_count": 7,
   "id": "712dda51",
   "metadata": {
    "execution": {
     "iopub.execute_input": "2023-07-24T06:37:06.830798Z",
     "iopub.status.busy": "2023-07-24T06:37:06.830508Z",
     "iopub.status.idle": "2023-07-24T06:37:06.840201Z",
     "shell.execute_reply": "2023-07-24T06:37:06.839529Z"
    },
    "lines_to_next_cell": 0,
    "papermill": {
     "duration": 0.01744,
     "end_time": "2023-07-24T06:37:06.841993",
     "exception": false,
     "start_time": "2023-07-24T06:37:06.824553",
     "status": "completed"
    },
    "tags": []
   },
   "outputs": [],
   "source": [
    "onnx_inference_session = read_onnx(\n",
    "    datalake_root(ctx)\n",
    "    / \"models\"\n",
    "    / f\"nr_train_images={ctx.parameters['task.nr_train_images']}\"\n",
    "    / \"model.onnx\"\n",
    ")"
   ]
  },
  {
   "cell_type": "markdown",
   "id": "092e8ebd",
   "metadata": {
    "papermill": {
     "duration": 0.006838,
     "end_time": "2023-07-24T06:37:06.853449",
     "exception": false,
     "start_time": "2023-07-24T06:37:06.846611",
     "status": "completed"
    },
    "tags": []
   },
   "source": [
    "### Record structure of inputs and outputs for ONNX model\n",
    "\n",
    "(this should likely be done in training notebook)"
   ]
  },
  {
   "cell_type": "code",
   "execution_count": 8,
   "id": "adf992e0",
   "metadata": {
    "execution": {
     "iopub.execute_input": "2023-07-24T06:37:06.867070Z",
     "iopub.status.busy": "2023-07-24T06:37:06.866471Z",
     "iopub.status.idle": "2023-07-24T06:37:06.871519Z",
     "shell.execute_reply": "2023-07-24T06:37:06.870974Z"
    },
    "papermill": {
     "duration": 0.014243,
     "end_time": "2023-07-24T06:37:06.874008",
     "exception": false,
     "start_time": "2023-07-24T06:37:06.859765",
     "status": "completed"
    },
    "tags": []
   },
   "outputs": [
    {
     "name": "stdout",
     "output_type": "stream",
     "text": [
      "{\n",
      "  \"inputs\": [\n",
      "    {\n",
      "      \"name\": \"float_input_8x8_image\",\n",
      "      \"shape\": [\n",
      "        null,\n",
      "        64\n",
      "      ],\n",
      "      \"type\": \"tensor(float)\"\n",
      "    }\n",
      "  ],\n",
      "  \"outputs\": [\n",
      "    {\n",
      "      \"name\": \"output_label\",\n",
      "      \"shape\": [\n",
      "        null\n",
      "      ],\n",
      "      \"type\": \"tensor(int64)\"\n",
      "    },\n",
      "    {\n",
      "      \"name\": \"output_probability\",\n",
      "      \"shape\": [],\n",
      "      \"type\": \"seq(map(int64,tensor(float)))\"\n",
      "    }\n",
      "  ]\n",
      "}\n"
     ]
    }
   ],
   "source": [
    "import json\n",
    "\n",
    "onnx_io = json.dumps(\n",
    "    {\n",
    "        \"inputs\": get_onnx_inputs(onnx_inference_session),\n",
    "        \"outputs\": get_onnx_outputs(onnx_inference_session),\n",
    "    },\n",
    "    indent=2,\n",
    ")\n",
    "\n",
    "\n",
    "ctx.log_artefact(\"onnx_io_structure.json\", onnx_io)\n",
    "print(onnx_io)"
   ]
  },
  {
   "cell_type": "markdown",
   "id": "7e57c25e",
   "metadata": {
    "papermill": {
     "duration": 0.004377,
     "end_time": "2023-07-24T06:37:06.882787",
     "exception": false,
     "start_time": "2023-07-24T06:37:06.878410",
     "status": "completed"
    },
    "tags": []
   },
   "source": [
    "### Evaluate model performance on evaluation data set"
   ]
  },
  {
   "cell_type": "code",
   "execution_count": 9,
   "id": "fec95243",
   "metadata": {
    "execution": {
     "iopub.execute_input": "2023-07-24T06:37:06.893605Z",
     "iopub.status.busy": "2023-07-24T06:37:06.892660Z",
     "iopub.status.idle": "2023-07-24T06:37:06.897658Z",
     "shell.execute_reply": "2023-07-24T06:37:06.897078Z"
    },
    "papermill": {
     "duration": 0.011902,
     "end_time": "2023-07-24T06:37:06.899179",
     "exception": false,
     "start_time": "2023-07-24T06:37:06.887277",
     "status": "completed"
    },
    "tags": []
   },
   "outputs": [],
   "source": [
    "# load evaluation data\n",
    "X_test = read_numpy(datalake_root(ctx) / \"test-data\" / \"digits.numpy\")\n",
    "y_test = read_numpy(datalake_root(ctx) / \"test-data\" / \"labels.numpy\")"
   ]
  },
  {
   "cell_type": "code",
   "execution_count": 10,
   "id": "67990ae8",
   "metadata": {
    "execution": {
     "iopub.execute_input": "2023-07-24T06:37:06.909654Z",
     "iopub.status.busy": "2023-07-24T06:37:06.909266Z",
     "iopub.status.idle": "2023-07-24T06:37:06.921146Z",
     "shell.execute_reply": "2023-07-24T06:37:06.920432Z"
    },
    "papermill": {
     "duration": 0.019037,
     "end_time": "2023-07-24T06:37:06.922804",
     "exception": false,
     "start_time": "2023-07-24T06:37:06.903767",
     "status": "completed"
    },
    "tags": []
   },
   "outputs": [],
   "source": [
    "def get_model_outputs(X, onnx_inference_session):\n",
    "    y_pred_labels, y_pred_map = onnx_inference_session.run(\n",
    "        [\"output_label\", \"output_probability\"],\n",
    "        {\"float_input_8x8_image\": X.astype(np.float32)},\n",
    "    )\n",
    "    y_pred_probs = np.array(\n",
    "        [[probabilities[digit] for digit in range(10)] for probabilities in y_pred_map]\n",
    "    )\n",
    "\n",
    "    assert y_pred_labels.shape == (X.shape[0],)\n",
    "    assert y_pred_probs.shape == (X.shape[0], 10)\n",
    "\n",
    "    return y_pred_labels, y_pred_probs\n",
    "\n",
    "\n",
    "# Note: as shown in the training notebook, the predicted labels and probabilities\n",
    "# computed below need not be compatible.\n",
    "y_pred_labels_test, y_pred_probs_test = get_model_outputs(\n",
    "    X_test, onnx_inference_session\n",
    ")"
   ]
  },
  {
   "cell_type": "markdown",
   "id": "fca3abb3",
   "metadata": {
    "papermill": {
     "duration": 0.00456,
     "end_time": "2023-07-24T06:37:06.932132",
     "exception": false,
     "start_time": "2023-07-24T06:37:06.927572",
     "status": "completed"
    },
    "tags": []
   },
   "source": [
    "### Confusion matrix"
   ]
  },
  {
   "cell_type": "code",
   "execution_count": 11,
   "id": "0f9f9b86",
   "metadata": {
    "execution": {
     "iopub.execute_input": "2023-07-24T06:37:06.943158Z",
     "iopub.status.busy": "2023-07-24T06:37:06.942407Z",
     "iopub.status.idle": "2023-07-24T06:37:06.945708Z",
     "shell.execute_reply": "2023-07-24T06:37:06.945091Z"
    },
    "papermill": {
     "duration": 0.01062,
     "end_time": "2023-07-24T06:37:06.947181",
     "exception": false,
     "start_time": "2023-07-24T06:37:06.936561",
     "status": "completed"
    },
    "tags": []
   },
   "outputs": [],
   "source": [
    "# TODO"
   ]
  },
  {
   "cell_type": "markdown",
   "id": "ce3fd37e",
   "metadata": {
    "papermill": {
     "duration": 0.004451,
     "end_time": "2023-07-24T06:37:06.956246",
     "exception": false,
     "start_time": "2023-07-24T06:37:06.951795",
     "status": "completed"
    },
    "tags": []
   },
   "source": [
    "### Plot predicted probabilities for each classifier over all evaluation digit images"
   ]
  },
  {
   "cell_type": "code",
   "execution_count": 12,
   "id": "af2b7ea2",
   "metadata": {
    "execution": {
     "iopub.execute_input": "2023-07-24T06:37:06.969674Z",
     "iopub.status.busy": "2023-07-24T06:37:06.966241Z",
     "iopub.status.idle": "2023-07-24T06:37:10.669697Z",
     "shell.execute_reply": "2023-07-24T06:37:10.668944Z"
    },
    "papermill": {
     "duration": 3.711092,
     "end_time": "2023-07-24T06:37:10.671743",
     "exception": false,
     "start_time": "2023-07-24T06:37:06.960651",
     "status": "completed"
    },
    "tags": []
   },
   "outputs": [
    {
     "data": {
      "image/png": "[encoded data removed]",
      "text/plain": [
       "<Figure size 1600x600 with 10 Axes>"
      ]
     },
     "metadata": {},
     "output_type": "display_data"
    }
   ],
   "source": [
    "def plot_per_digit_probabilities(y_pred_probs):\n",
    "    fig, axs = plt.subplots(nrows=2, ncols=5, figsize=(16, 6))\n",
    "\n",
    "    for (r, c), digit, ax in zip(\n",
    "        it.product(range(2), range(5)), range(10), axs.reshape(-1)\n",
    "    ):\n",
    "        ax.hist(y_pred_probs_test[:, digit], bins=20)\n",
    "\n",
    "        ax.set_title(f\"Digit {digit}\")\n",
    "        if r == 1 and c == 2:\n",
    "            ax.set_xlabel(\"probability\", fontsize=16)\n",
    "\n",
    "        if c == 0:\n",
    "            ax.set_ylabel(\"counts\", fontsize=16)\n",
    "        ax.set_yscale(\"log\")\n",
    "\n",
    "    fig.tight_layout()\n",
    "    fig.suptitle(\n",
    "        f\"Distributions of prediction probabilities for each digit \"\n",
    "        f\"(on evaluation data, n={y_pred_probs.shape[0]})\",\n",
    "        fontsize=20,\n",
    "    )\n",
    "    fig.tight_layout()\n",
    "    fig.show()\n",
    "\n",
    "    return fig\n",
    "\n",
    "\n",
    "fig = plot_per_digit_probabilities(y_pred_probs_test)"
   ]
  },
  {
   "cell_type": "markdown",
   "id": "3987682c",
   "metadata": {
    "papermill": {
     "duration": 0.005321,
     "end_time": "2023-07-24T06:37:10.682935",
     "exception": false,
     "start_time": "2023-07-24T06:37:10.677614",
     "status": "completed"
    },
    "tags": []
   },
   "source": [
    "From the above distributions we see that most digits have clear separation between\n",
    "high and lower probabilities. Morover, in each case there is roughly an order of\n",
    "magnitude more of digits with low probabilities. This is compatible with digits\n",
    "being roughly evenly distributed in the data."
   ]
  },
  {
   "cell_type": "code",
   "execution_count": 13,
   "id": "75749fb6",
   "metadata": {
    "execution": {
     "iopub.execute_input": "2023-07-24T06:37:10.696126Z",
     "iopub.status.busy": "2023-07-24T06:37:10.695547Z",
     "iopub.status.idle": "2023-07-24T06:37:11.325786Z",
     "shell.execute_reply": "2023-07-24T06:37:11.325042Z"
    },
    "papermill": {
     "duration": 0.639252,
     "end_time": "2023-07-24T06:37:11.327828",
     "exception": false,
     "start_time": "2023-07-24T06:37:10.688576",
     "status": "completed"
    },
    "tags": []
   },
   "outputs": [],
   "source": [
    "ctx.log_figure(\"per-digit-probabilities.png\", fig)"
   ]
  },
  {
   "cell_type": "markdown",
   "id": "0c352c53",
   "metadata": {
    "papermill": {
     "duration": 0.00534,
     "end_time": "2023-07-24T06:37:11.339311",
     "exception": false,
     "start_time": "2023-07-24T06:37:11.333971",
     "status": "completed"
    },
    "tags": []
   },
   "source": [
    "### Plot ROC curves for individual one-vs-rest classifiers"
   ]
  },
  {
   "cell_type": "code",
   "execution_count": 14,
   "id": "f9e86b7a",
   "metadata": {
    "execution": {
     "iopub.execute_input": "2023-07-24T06:37:11.351932Z",
     "iopub.status.busy": "2023-07-24T06:37:11.351426Z",
     "iopub.status.idle": "2023-07-24T06:37:11.673444Z",
     "shell.execute_reply": "2023-07-24T06:37:11.672699Z"
    },
    "papermill": {
     "duration": 0.330796,
     "end_time": "2023-07-24T06:37:11.675693",
     "exception": false,
     "start_time": "2023-07-24T06:37:11.344897",
     "status": "completed"
    },
    "tags": []
   },
   "outputs": [],
   "source": [
    "from sklearn import metrics"
   ]
  },
  {
   "cell_type": "code",
   "execution_count": 15,
   "id": "0fe88f6c",
   "metadata": {
    "execution": {
     "iopub.execute_input": "2023-07-24T06:37:11.688644Z",
     "iopub.status.busy": "2023-07-24T06:37:11.688064Z",
     "iopub.status.idle": "2023-07-24T06:37:13.493190Z",
     "shell.execute_reply": "2023-07-24T06:37:13.492527Z"
    },
    "papermill": {
     "duration": 1.814479,
     "end_time": "2023-07-24T06:37:13.495836",
     "exception": false,
     "start_time": "2023-07-24T06:37:11.681357",
     "status": "completed"
    },
    "tags": []
   },
   "outputs": [
    {
     "data": {
      "image/png": "[encoded data removed]",
      "text/plain": [
       "<Figure size 1600x800 with 10 Axes>"
      ]
     },
     "metadata": {},
     "output_type": "display_data"
    }
   ],
   "source": [
    "def plot_roc_curves(y, y_pred_probs):\n",
    "    # based on example code\n",
    "    # https://scikit-learn.org/stable/auto_examples/model_selection/plot_roc.html\n",
    "\n",
    "    fig, axs = plt.subplots(nrows=2, ncols=5, figsize=(16, 8))\n",
    "\n",
    "    roc_auc_dict = {}\n",
    "\n",
    "    for (r, c), digit, ax in zip(\n",
    "        it.product(range(2), range(5)), range(10), axs.reshape(-1)\n",
    "    ):\n",
    "        fpr, tpr, _ = metrics.roc_curve(y == digit, y_pred_probs[:, digit])\n",
    "        auc = metrics.auc(fpr, tpr)\n",
    "        roc_auc_dict[str(digit)] = auc\n",
    "\n",
    "        ax.plot(fpr, tpr, label=f\"ROC AUC={round(auc, 3)}\")\n",
    "\n",
    "        ax.set_title(f\"\\nDigit {digit}\", fontsize=16)\n",
    "        if r == 1:\n",
    "            ax.set_xlabel(\"FPR\", fontsize=18)\n",
    "\n",
    "        if c == 0:\n",
    "            ax.set_ylabel(\"TPR\", fontsize=18)\n",
    "\n",
    "        ax.set_xlim([-0.05, 1.05])\n",
    "        ax.set_ylim([-0.05, 1.05])\n",
    "        ax.legend(loc=\"lower right\", frameon=False, fontsize=14)\n",
    "\n",
    "    fig.tight_layout()\n",
    "    fig.suptitle(\n",
    "        f\"ROC plots for one-vs-rest performances \"\n",
    "        f\"(on evaluation data, n={y_pred_probs_test.shape[1]}\",\n",
    "        fontsize=22,\n",
    "    )\n",
    "    fig.tight_layout()\n",
    "    fig.show()\n",
    "\n",
    "    return roc_auc_dict, fig\n",
    "\n",
    "\n",
    "roc_auc_dict, fig = plot_roc_curves(y_test, y_pred_probs_test)"
   ]
  },
  {
   "cell_type": "code",
   "execution_count": 16,
   "id": "4b92d85f",
   "metadata": {
    "execution": {
     "iopub.execute_input": "2023-07-24T06:37:13.511669Z",
     "iopub.status.busy": "2023-07-24T06:37:13.510793Z",
     "iopub.status.idle": "2023-07-24T06:37:13.845841Z",
     "shell.execute_reply": "2023-07-24T06:37:13.845079Z"
    },
    "papermill": {
     "duration": 0.345427,
     "end_time": "2023-07-24T06:37:13.848154",
     "exception": false,
     "start_time": "2023-07-24T06:37:13.502727",
     "status": "completed"
    },
    "tags": []
   },
   "outputs": [],
   "source": [
    "ctx.log_figure(\"per-digit-roc-curves.png\", fig)"
   ]
  },
  {
   "cell_type": "code",
   "execution_count": 17,
   "id": "ab031a03",
   "metadata": {
    "execution": {
     "iopub.execute_input": "2023-07-24T06:37:13.862924Z",
     "iopub.status.busy": "2023-07-24T06:37:13.862189Z",
     "iopub.status.idle": "2023-07-24T06:37:13.869722Z",
     "shell.execute_reply": "2023-07-24T06:37:13.869046Z"
    },
    "papermill": {
     "duration": 0.016578,
     "end_time": "2023-07-24T06:37:13.871253",
     "exception": false,
     "start_time": "2023-07-24T06:37:13.854675",
     "status": "completed"
    },
    "tags": []
   },
   "outputs": [
    {
     "data": {
      "text/plain": [
       "{'0': 1.0,\n",
       " '1': 0.9988003748828491,\n",
       " '2': 1.0,\n",
       " '3': 0.9998500468603562,\n",
       " '4': 0.9995046486816034,\n",
       " '5': 0.999025304592315,\n",
       " '6': 0.999961896052431,\n",
       " '7': 0.9998856881572931,\n",
       " '8': 0.9923549810844892,\n",
       " '9': 0.9993903368388964}"
      ]
     },
     "execution_count": 17,
     "metadata": {},
     "output_type": "execute_result"
    }
   ],
   "source": [
    "roc_auc_dict"
   ]
  },
  {
   "cell_type": "code",
   "execution_count": 18,
   "id": "4db0a3d1",
   "metadata": {
    "execution": {
     "iopub.execute_input": "2023-07-24T06:37:13.886515Z",
     "iopub.status.busy": "2023-07-24T06:37:13.885938Z",
     "iopub.status.idle": "2023-07-24T06:37:13.892030Z",
     "shell.execute_reply": "2023-07-24T06:37:13.891311Z"
    },
    "papermill": {
     "duration": 0.01553,
     "end_time": "2023-07-24T06:37:13.893787",
     "exception": false,
     "start_time": "2023-07-24T06:37:13.878257",
     "status": "completed"
    },
    "tags": []
   },
   "outputs": [
    {
     "name": "stdout",
     "output_type": "stream",
     "text": [
      " - Logging roc_auc_per_digit (json) : {'0': 1.0, '1': 0.9988003748828491, '2': 1.0, '3': 0.9998500468603562, '4': 0.9995046486816034, '5': 0.999025304592315, '6': 0.999961896052431, '7': 0.9998856881572931, '8': 0.9923549810844892, '9': 0.9993903368388964}\n"
     ]
    }
   ],
   "source": [
    "ctx.log_value(\"roc_auc_per_digit\", roc_auc_dict)"
   ]
  },
  {
   "cell_type": "markdown",
   "id": "25338ae8",
   "metadata": {
    "papermill": {
     "duration": 0.006694,
     "end_time": "2023-07-24T06:37:13.907306",
     "exception": false,
     "start_time": "2023-07-24T06:37:13.900612",
     "status": "completed"
    },
    "tags": []
   },
   "source": [
    "### Compute and log mean ROC AUC score averaged over all digits"
   ]
  },
  {
   "cell_type": "code",
   "execution_count": 19,
   "id": "e216b8fd",
   "metadata": {
    "execution": {
     "iopub.execute_input": "2023-07-24T06:37:13.922718Z",
     "iopub.status.busy": "2023-07-24T06:37:13.922017Z",
     "iopub.status.idle": "2023-07-24T06:37:13.936691Z",
     "shell.execute_reply": "2023-07-24T06:37:13.936028Z"
    },
    "papermill": {
     "duration": 0.024725,
     "end_time": "2023-07-24T06:37:13.938687",
     "exception": false,
     "start_time": "2023-07-24T06:37:13.913962",
     "status": "completed"
    },
    "tags": []
   },
   "outputs": [
    {
     "name": "stdout",
     "output_type": "stream",
     "text": [
      " - Logging roc_auc_class_mean (float) : 0.9988773277150234\n"
     ]
    }
   ],
   "source": [
    "roc_auc_macro = np.mean(list(roc_auc_dict.values()))\n",
    "\n",
    "ctx.log_float(\"roc_auc_class_mean\", roc_auc_macro)\n",
    "\n",
    "# assert that the same value can be computed directly using sklearn\n",
    "assert roc_auc_macro == metrics.roc_auc_score(\n",
    "    y_test, y_pred_probs_test, average=\"macro\", multi_class=\"ovr\"\n",
    ")"
   ]
  },
  {
   "cell_type": "code",
   "execution_count": 20,
   "id": "49d0ed3a",
   "metadata": {
    "execution": {
     "iopub.execute_input": "2023-07-24T06:37:13.954591Z",
     "iopub.status.busy": "2023-07-24T06:37:13.954107Z",
     "iopub.status.idle": "2023-07-24T06:37:13.959246Z",
     "shell.execute_reply": "2023-07-24T06:37:13.958469Z"
    },
    "lines_to_next_cell": 0,
    "papermill": {
     "duration": 0.020987,
     "end_time": "2023-07-24T06:37:13.966591",
     "exception": false,
     "start_time": "2023-07-24T06:37:13.945604",
     "status": "completed"
    },
    "tags": []
   },
   "outputs": [],
   "source": [
    "# ---"
   ]
  },
  {
   "cell_type": "code",
   "execution_count": null,
   "id": "90ae5ed8",
   "metadata": {
    "papermill": {
     "duration": 0.007116,
     "end_time": "2023-07-24T06:37:13.982630",
     "exception": false,
     "start_time": "2023-07-24T06:37:13.975514",
     "status": "completed"
    },
    "tags": []
   },
   "outputs": [],
   "source": []
  }
 ],
 "metadata": {
  "jupytext": {
   "cell_metadata_filter": "tags,-all",
   "main_language": "python",
   "notebook_metadata_filter": "-all"
  },
  "language_info": {
   "codemirror_mode": {
    "name": "ipython",
    "version": 3
   },
   "file_extension": ".py",
   "mimetype": "text/x-python",
   "name": "python",
   "nbconvert_exporter": "python",
   "pygments_lexer": "ipython3",
   "version": "3.8.10"
  },
  "papermill": {
   "default_parameters": {},
   "duration": 11.370564,
   "end_time": "2023-07-24T06:37:15.919427",
   "environment_variables": {},
   "exception": null,
   "input_path": "/tmp/temp-notebook-bjgxxxnw.ipynb",
   "output_path": "/tmp/temp-notebook-bjgxxxnw.ipynb",
   "parameters": {
    "P": {
     "_parameters_actor_name": "parameter_for_task_0x6152ce8b75c74171",
     "task.nr_train_images": 800
    }
   },
   "start_time": "2023-07-24T06:37:04.548863",
   "version": "2.4.0"
  }
 },
 "nbformat": 4,
 "nbformat_minor": 5
}