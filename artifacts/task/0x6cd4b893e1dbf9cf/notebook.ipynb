{
 "cells": [
  {
   "cell_type": "markdown",
   "id": "9b5436b2",
   "metadata": {
    "papermill": {
     "duration": 0.005849,
     "end_time": "2023-07-21T06:35:41.564413",
     "exception": false,
     "start_time": "2023-07-21T06:35:41.558564",
     "status": "completed"
    },
    "tags": []
   },
   "source": [
    "# Benchmark model\n",
    "\n",
    "The purpose of this notebook is to benchmark persisted onnx-model (trained in the\n",
    "previous step) against evaluation set."
   ]
  },
  {
   "cell_type": "markdown",
   "id": "6e065bdf",
   "metadata": {
    "papermill": {
     "duration": 0.003833,
     "end_time": "2023-07-21T06:35:41.574428",
     "exception": false,
     "start_time": "2023-07-21T06:35:41.570595",
     "status": "completed"
    },
    "tags": []
   },
   "source": [
    "### Determine run parameters"
   ]
  },
  {
   "cell_type": "code",
   "execution_count": 1,
   "id": "e86a4fca",
   "metadata": {
    "execution": {
     "iopub.execute_input": "2023-07-21T06:35:41.584110Z",
     "iopub.status.busy": "2023-07-21T06:35:41.583735Z",
     "iopub.status.idle": "2023-07-21T06:35:41.592082Z",
     "shell.execute_reply": "2023-07-21T06:35:41.591447Z"
    },
    "lines_to_next_cell": 0,
    "papermill": {
     "duration": 0.01559,
     "end_time": "2023-07-21T06:35:41.593889",
     "exception": false,
     "start_time": "2023-07-21T06:35:41.578299",
     "status": "completed"
    },
    "tags": []
   },
   "outputs": [],
   "source": [
    "# ----------------- Parameters for interactive development --------------\n",
    "P = {\n",
    "    \"workflow.data_lake_root\": \"/pipeline-outputs/data-lake\",\n",
    "    \"task.nr_train_images\": 600,\n",
    "}"
   ]
  },
  {
   "cell_type": "code",
   "execution_count": 2,
   "id": "658af242",
   "metadata": {
    "execution": {
     "iopub.execute_input": "2023-07-21T06:35:41.603244Z",
     "iopub.status.busy": "2023-07-21T06:35:41.603033Z",
     "iopub.status.idle": "2023-07-21T06:35:41.607071Z",
     "shell.execute_reply": "2023-07-21T06:35:41.606472Z"
    },
    "lines_to_next_cell": 0,
    "papermill": {
     "duration": 0.010833,
     "end_time": "2023-07-21T06:35:41.608674",
     "exception": false,
     "start_time": "2023-07-21T06:35:41.597841",
     "status": "completed"
    },
    "tags": [
     "parameters"
    ]
   },
   "outputs": [],
   "source": [
    "# - During automated runs parameters will be injected in the below cell -"
   ]
  },
  {
   "cell_type": "code",
   "execution_count": 3,
   "id": "f0fa46ef",
   "metadata": {
    "execution": {
     "iopub.execute_input": "2023-07-21T06:35:41.626901Z",
     "iopub.status.busy": "2023-07-21T06:35:41.626679Z",
     "iopub.status.idle": "2023-07-21T06:35:41.631463Z",
     "shell.execute_reply": "2023-07-21T06:35:41.630903Z"
    },
    "papermill": {
     "duration": 0.019936,
     "end_time": "2023-07-21T06:35:41.633008",
     "exception": false,
     "start_time": "2023-07-21T06:35:41.613072",
     "status": "completed"
    },
    "tags": [
     "injected-parameters"
    ]
   },
   "outputs": [],
   "source": [
    "# Parameters\n",
    "P = {\n",
    "    \"task.nr_train_images\": 600,\n",
    "    \"_parameters_actor_name\": \"parameter_for_task_0x6cd4b893e1dbf9cf\",\n",
    "}\n"
   ]
  },
  {
   "cell_type": "code",
   "execution_count": 4,
   "id": "49f346f6",
   "metadata": {
    "execution": {
     "iopub.execute_input": "2023-07-21T06:35:41.642006Z",
     "iopub.status.busy": "2023-07-21T06:35:41.641799Z",
     "iopub.status.idle": "2023-07-21T06:35:41.646123Z",
     "shell.execute_reply": "2023-07-21T06:35:41.645553Z"
    },
    "lines_to_next_cell": 0,
    "papermill": {
     "duration": 0.011085,
     "end_time": "2023-07-21T06:35:41.648156",
     "exception": false,
     "start_time": "2023-07-21T06:35:41.637071",
     "status": "completed"
    },
    "tags": []
   },
   "outputs": [],
   "source": [
    "# -----------------------------------------------------------------------"
   ]
  },
  {
   "cell_type": "markdown",
   "id": "695ceeef",
   "metadata": {
    "papermill": {
     "duration": 0.004249,
     "end_time": "2023-07-21T06:35:41.656634",
     "exception": false,
     "start_time": "2023-07-21T06:35:41.652385",
     "status": "completed"
    },
    "tags": []
   },
   "source": [
    "---"
   ]
  },
  {
   "cell_type": "markdown",
   "id": "f4414728",
   "metadata": {
    "lines_to_next_cell": 2,
    "papermill": {
     "duration": 0.003833,
     "end_time": "2023-07-21T06:35:41.664444",
     "exception": false,
     "start_time": "2023-07-21T06:35:41.660611",
     "status": "completed"
    },
    "tags": []
   },
   "source": [
    "### Notebook code"
   ]
  },
  {
   "cell_type": "code",
   "execution_count": 5,
   "id": "452ee63b",
   "metadata": {
    "execution": {
     "iopub.execute_input": "2023-07-21T06:35:41.673700Z",
     "iopub.status.busy": "2023-07-21T06:35:41.673453Z",
     "iopub.status.idle": "2023-07-21T06:35:42.693211Z",
     "shell.execute_reply": "2023-07-21T06:35:42.691478Z"
    },
    "papermill": {
     "duration": 1.026701,
     "end_time": "2023-07-21T06:35:42.695065",
     "exception": false,
     "start_time": "2023-07-21T06:35:41.668364",
     "status": "completed"
    },
    "tags": []
   },
   "outputs": [
    {
     "name": "stderr",
     "output_type": "stream",
     "text": [
      "2023-07-21 06:35:42,537\tINFO worker.py:1364 -- Connecting to existing Ray cluster at address: 172.17.0.2:34450...\n"
     ]
    },
    {
     "name": "stderr",
     "output_type": "stream",
     "text": [
      "2023-07-21 06:35:42,556\tINFO worker.py:1544 -- Connected to Ray cluster. View the dashboard at \u001b[1m\u001b[32mhttp://127.0.0.1:8265 \u001b[39m\u001b[22m\n"
     ]
    },
    {
     "name": "stderr",
     "output_type": "stream",
     "text": [
      "/home/host_user/.local/lib/python3.8/site-packages/ray/runtime_context.py:27: RayDeprecationWarning: This API is deprecated and may be removed in future Ray releases. You could suppress this warning by setting env variable PYTHONWARNINGS=\"ignore::DeprecationWarning\"\n",
      "Use get_job_id() instead\n",
      "  \"job_id\": self.job_id,\n",
      "/home/host_user/.local/lib/python3.8/site-packages/ray/runtime_context.py:28: RayDeprecationWarning: This API is deprecated and may be removed in future Ray releases. You could suppress this warning by setting env variable PYTHONWARNINGS=\"ignore::DeprecationWarning\"\n",
      "Use get_node_id() instead\n",
      "  \"node_id\": self.node_id,\n"
     ]
    }
   ],
   "source": [
    "import itertools as it\n",
    "\n",
    "#\n",
    "import numpy as np\n",
    "import matplotlib.pyplot as plt\n",
    "\n",
    "#\n",
    "from composable_logs.tasks.task_opentelemetry_logging import get_task_context\n",
    "\n",
    "#\n",
    "from common.io import datalake_root\n",
    "\n",
    "ctx = get_task_context(P)"
   ]
  },
  {
   "cell_type": "markdown",
   "id": "1c54120e",
   "metadata": {
    "papermill": {
     "duration": 0.004345,
     "end_time": "2023-07-21T06:35:42.704172",
     "exception": false,
     "start_time": "2023-07-21T06:35:42.699827",
     "status": "completed"
    },
    "tags": []
   },
   "source": [
    "## Load persisted onnx-model and evaluation data"
   ]
  },
  {
   "cell_type": "code",
   "execution_count": 6,
   "id": "eba81a1c",
   "metadata": {
    "execution": {
     "iopub.execute_input": "2023-07-21T06:35:42.714745Z",
     "iopub.status.busy": "2023-07-21T06:35:42.714455Z",
     "iopub.status.idle": "2023-07-21T06:35:42.719674Z",
     "shell.execute_reply": "2023-07-21T06:35:42.719096Z"
    },
    "papermill": {
     "duration": 0.013036,
     "end_time": "2023-07-21T06:35:42.721766",
     "exception": false,
     "start_time": "2023-07-21T06:35:42.708730",
     "status": "completed"
    },
    "tags": []
   },
   "outputs": [],
   "source": [
    "from common.io import read_onnx, get_onnx_inputs, get_onnx_outputs, read_numpy"
   ]
  },
  {
   "cell_type": "code",
   "execution_count": 7,
   "id": "2c161214",
   "metadata": {
    "execution": {
     "iopub.execute_input": "2023-07-21T06:35:42.732721Z",
     "iopub.status.busy": "2023-07-21T06:35:42.732488Z",
     "iopub.status.idle": "2023-07-21T06:35:42.741283Z",
     "shell.execute_reply": "2023-07-21T06:35:42.740714Z"
    },
    "lines_to_next_cell": 0,
    "papermill": {
     "duration": 0.016883,
     "end_time": "2023-07-21T06:35:42.742963",
     "exception": false,
     "start_time": "2023-07-21T06:35:42.726080",
     "status": "completed"
    },
    "tags": []
   },
   "outputs": [],
   "source": [
    "onnx_inference_session = read_onnx(\n",
    "    datalake_root(ctx)\n",
    "    / \"models\"\n",
    "    / f\"nr_train_images={ctx.parameters['task.nr_train_images']}\"\n",
    "    / \"model.onnx\"\n",
    ")"
   ]
  },
  {
   "cell_type": "markdown",
   "id": "be0659d3",
   "metadata": {
    "papermill": {
     "duration": 0.004159,
     "end_time": "2023-07-21T06:35:42.751560",
     "exception": false,
     "start_time": "2023-07-21T06:35:42.747401",
     "status": "completed"
    },
    "tags": []
   },
   "source": [
    "### Record structure of inputs and outputs for ONNX model\n",
    "\n",
    "(this should likely be done in training notebook)"
   ]
  },
  {
   "cell_type": "code",
   "execution_count": 8,
   "id": "7bce84f1",
   "metadata": {
    "execution": {
     "iopub.execute_input": "2023-07-21T06:35:42.762695Z",
     "iopub.status.busy": "2023-07-21T06:35:42.762424Z",
     "iopub.status.idle": "2023-07-21T06:35:42.769460Z",
     "shell.execute_reply": "2023-07-21T06:35:42.768868Z"
    },
    "papermill": {
     "duration": 0.01485,
     "end_time": "2023-07-21T06:35:42.771248",
     "exception": false,
     "start_time": "2023-07-21T06:35:42.756398",
     "status": "completed"
    },
    "tags": []
   },
   "outputs": [
    {
     "name": "stdout",
     "output_type": "stream",
     "text": [
      "{\n",
      "  \"inputs\": [\n",
      "    {\n",
      "      \"name\": \"float_input_8x8_image\",\n",
      "      \"shape\": [\n",
      "        null,\n",
      "        64\n",
      "      ],\n",
      "      \"type\": \"tensor(float)\"\n",
      "    }\n",
      "  ],\n",
      "  \"outputs\": [\n",
      "    {\n",
      "      \"name\": \"output_label\",\n",
      "      \"shape\": [\n",
      "        null\n",
      "      ],\n",
      "      \"type\": \"tensor(int64)\"\n",
      "    },\n",
      "    {\n",
      "      \"name\": \"output_probability\",\n",
      "      \"shape\": [],\n",
      "      \"type\": \"seq(map(int64,tensor(float)))\"\n",
      "    }\n",
      "  ]\n",
      "}\n"
     ]
    }
   ],
   "source": [
    "import json\n",
    "\n",
    "onnx_io = json.dumps(\n",
    "    {\n",
    "        \"inputs\": get_onnx_inputs(onnx_inference_session),\n",
    "        \"outputs\": get_onnx_outputs(onnx_inference_session),\n",
    "    },\n",
    "    indent=2,\n",
    ")\n",
    "\n",
    "\n",
    "ctx.log_artefact(\"onnx_io_structure.json\", onnx_io)\n",
    "print(onnx_io)"
   ]
  },
  {
   "cell_type": "markdown",
   "id": "4375e593",
   "metadata": {
    "papermill": {
     "duration": 0.019823,
     "end_time": "2023-07-21T06:35:42.796047",
     "exception": false,
     "start_time": "2023-07-21T06:35:42.776224",
     "status": "completed"
    },
    "tags": []
   },
   "source": [
    "### Evaluate model performance on evaluation data set"
   ]
  },
  {
   "cell_type": "code",
   "execution_count": 9,
   "id": "1478da6f",
   "metadata": {
    "execution": {
     "iopub.execute_input": "2023-07-21T06:35:42.806751Z",
     "iopub.status.busy": "2023-07-21T06:35:42.806468Z",
     "iopub.status.idle": "2023-07-21T06:35:42.812700Z",
     "shell.execute_reply": "2023-07-21T06:35:42.812138Z"
    },
    "papermill": {
     "duration": 0.01349,
     "end_time": "2023-07-21T06:35:42.814352",
     "exception": false,
     "start_time": "2023-07-21T06:35:42.800862",
     "status": "completed"
    },
    "tags": []
   },
   "outputs": [],
   "source": [
    "# load evaluation data\n",
    "X_test = read_numpy(datalake_root(ctx) / \"test-data\" / \"digits.numpy\")\n",
    "y_test = read_numpy(datalake_root(ctx) / \"test-data\" / \"labels.numpy\")"
   ]
  },
  {
   "cell_type": "code",
   "execution_count": 10,
   "id": "c5f22c18",
   "metadata": {
    "execution": {
     "iopub.execute_input": "2023-07-21T06:35:42.824730Z",
     "iopub.status.busy": "2023-07-21T06:35:42.824211Z",
     "iopub.status.idle": "2023-07-21T06:35:42.836908Z",
     "shell.execute_reply": "2023-07-21T06:35:42.836367Z"
    },
    "papermill": {
     "duration": 0.020164,
     "end_time": "2023-07-21T06:35:42.838823",
     "exception": false,
     "start_time": "2023-07-21T06:35:42.818659",
     "status": "completed"
    },
    "tags": []
   },
   "outputs": [],
   "source": [
    "def get_model_outputs(X, onnx_inference_session):\n",
    "    y_pred_labels, y_pred_map = onnx_inference_session.run(\n",
    "        [\"output_label\", \"output_probability\"],\n",
    "        {\"float_input_8x8_image\": X.astype(np.float32)},\n",
    "    )\n",
    "    y_pred_probs = np.array(\n",
    "        [[probabilities[digit] for digit in range(10)] for probabilities in y_pred_map]\n",
    "    )\n",
    "\n",
    "    assert y_pred_labels.shape == (X.shape[0],)\n",
    "    assert y_pred_probs.shape == (X.shape[0], 10)\n",
    "\n",
    "    return y_pred_labels, y_pred_probs\n",
    "\n",
    "\n",
    "# Note: as shown in the training notebook, the predicted labels and probabilities\n",
    "# computed below need not be compatible.\n",
    "y_pred_labels_test, y_pred_probs_test = get_model_outputs(\n",
    "    X_test, onnx_inference_session\n",
    ")"
   ]
  },
  {
   "cell_type": "markdown",
   "id": "e81ebe90",
   "metadata": {
    "papermill": {
     "duration": 0.004416,
     "end_time": "2023-07-21T06:35:42.847801",
     "exception": false,
     "start_time": "2023-07-21T06:35:42.843385",
     "status": "completed"
    },
    "tags": []
   },
   "source": [
    "### Confusion matrix"
   ]
  },
  {
   "cell_type": "code",
   "execution_count": 11,
   "id": "d627126e",
   "metadata": {
    "execution": {
     "iopub.execute_input": "2023-07-21T06:35:42.858949Z",
     "iopub.status.busy": "2023-07-21T06:35:42.858689Z",
     "iopub.status.idle": "2023-07-21T06:35:42.862915Z",
     "shell.execute_reply": "2023-07-21T06:35:42.862330Z"
    },
    "papermill": {
     "duration": 0.012635,
     "end_time": "2023-07-21T06:35:42.864776",
     "exception": false,
     "start_time": "2023-07-21T06:35:42.852141",
     "status": "completed"
    },
    "tags": []
   },
   "outputs": [],
   "source": [
    "# TODO"
   ]
  },
  {
   "cell_type": "markdown",
   "id": "fa536a27",
   "metadata": {
    "papermill": {
     "duration": 0.004401,
     "end_time": "2023-07-21T06:35:42.873744",
     "exception": false,
     "start_time": "2023-07-21T06:35:42.869343",
     "status": "completed"
    },
    "tags": []
   },
   "source": [
    "### Plot predicted probabilities for each classifier over all evaluation digit images"
   ]
  },
  {
   "cell_type": "code",
   "execution_count": 12,
   "id": "7bc7292a",
   "metadata": {
    "execution": {
     "iopub.execute_input": "2023-07-21T06:35:42.883794Z",
     "iopub.status.busy": "2023-07-21T06:35:42.883550Z",
     "iopub.status.idle": "2023-07-21T06:35:46.778716Z",
     "shell.execute_reply": "2023-07-21T06:35:46.777934Z"
    },
    "papermill": {
     "duration": 3.902108,
     "end_time": "2023-07-21T06:35:46.780417",
     "exception": false,
     "start_time": "2023-07-21T06:35:42.878309",
     "status": "completed"
    },
    "tags": []
   },
   "outputs": [
    {
     "data": {
      "image/png": "[encoded data removed]",
      "text/plain": [
       "<Figure size 1600x600 with 10 Axes>"
      ]
     },
     "metadata": {},
     "output_type": "display_data"
    }
   ],
   "source": [
    "def plot_per_digit_probabilities(y_pred_probs):\n",
    "    fig, axs = plt.subplots(nrows=2, ncols=5, figsize=(16, 6))\n",
    "\n",
    "    for (r, c), digit, ax in zip(\n",
    "        it.product(range(2), range(5)), range(10), axs.reshape(-1)\n",
    "    ):\n",
    "        ax.hist(y_pred_probs_test[:, digit], bins=20)\n",
    "\n",
    "        ax.set_title(f\"Digit {digit}\")\n",
    "        if r == 1 and c == 2:\n",
    "            ax.set_xlabel(\"probability\", fontsize=16)\n",
    "\n",
    "        if c == 0:\n",
    "            ax.set_ylabel(\"counts\", fontsize=16)\n",
    "        ax.set_yscale(\"log\")\n",
    "\n",
    "    fig.tight_layout()\n",
    "    fig.suptitle(\n",
    "        f\"Distributions of prediction probabilities for each digit \"\n",
    "        f\"(on evaluation data, n={y_pred_probs.shape[0]})\",\n",
    "        fontsize=20,\n",
    "    )\n",
    "    fig.tight_layout()\n",
    "    fig.show()\n",
    "\n",
    "    return fig\n",
    "\n",
    "\n",
    "fig = plot_per_digit_probabilities(y_pred_probs_test)"
   ]
  },
  {
   "cell_type": "markdown",
   "id": "68c945b4",
   "metadata": {
    "papermill": {
     "duration": 0.005127,
     "end_time": "2023-07-21T06:35:46.791339",
     "exception": false,
     "start_time": "2023-07-21T06:35:46.786212",
     "status": "completed"
    },
    "tags": []
   },
   "source": [
    "From the above distributions we see that most digits have clear separation between\n",
    "high and lower probabilities. Morover, in each case there is roughly an order of\n",
    "magnitude more of digits with low probabilities. This is compatible with digits\n",
    "being roughly evenly distributed in the data."
   ]
  },
  {
   "cell_type": "code",
   "execution_count": 13,
   "id": "a69f4755",
   "metadata": {
    "execution": {
     "iopub.execute_input": "2023-07-21T06:35:46.803919Z",
     "iopub.status.busy": "2023-07-21T06:35:46.803395Z",
     "iopub.status.idle": "2023-07-21T06:35:47.440321Z",
     "shell.execute_reply": "2023-07-21T06:35:47.436306Z"
    },
    "papermill": {
     "duration": 0.648477,
     "end_time": "2023-07-21T06:35:47.445099",
     "exception": false,
     "start_time": "2023-07-21T06:35:46.796622",
     "status": "completed"
    },
    "tags": []
   },
   "outputs": [],
   "source": [
    "ctx.log_figure(\"per-digit-probabilities.png\", fig)"
   ]
  },
  {
   "cell_type": "markdown",
   "id": "ede301aa",
   "metadata": {
    "papermill": {
     "duration": 0.005436,
     "end_time": "2023-07-21T06:35:47.462430",
     "exception": false,
     "start_time": "2023-07-21T06:35:47.456994",
     "status": "completed"
    },
    "tags": []
   },
   "source": [
    "### Plot ROC curves for individual one-vs-rest classifiers"
   ]
  },
  {
   "cell_type": "code",
   "execution_count": 14,
   "id": "93704050",
   "metadata": {
    "execution": {
     "iopub.execute_input": "2023-07-21T06:35:47.476601Z",
     "iopub.status.busy": "2023-07-21T06:35:47.474963Z",
     "iopub.status.idle": "2023-07-21T06:35:47.834404Z",
     "shell.execute_reply": "2023-07-21T06:35:47.833654Z"
    },
    "papermill": {
     "duration": 0.369195,
     "end_time": "2023-07-21T06:35:47.836848",
     "exception": false,
     "start_time": "2023-07-21T06:35:47.467653",
     "status": "completed"
    },
    "tags": []
   },
   "outputs": [],
   "source": [
    "from sklearn import metrics"
   ]
  },
  {
   "cell_type": "code",
   "execution_count": 15,
   "id": "169b6414",
   "metadata": {
    "execution": {
     "iopub.execute_input": "2023-07-21T06:35:47.850335Z",
     "iopub.status.busy": "2023-07-21T06:35:47.849885Z",
     "iopub.status.idle": "2023-07-21T06:35:50.116966Z",
     "shell.execute_reply": "2023-07-21T06:35:50.105135Z"
    },
    "papermill": {
     "duration": 2.307867,
     "end_time": "2023-07-21T06:35:50.150968",
     "exception": false,
     "start_time": "2023-07-21T06:35:47.843101",
     "status": "completed"
    },
    "tags": []
   },
   "outputs": [
    {
     "data": {
      "image/png": "[encoded data removed]",
      "text/plain": [
       "<Figure size 1600x800 with 10 Axes>"
      ]
     },
     "metadata": {},
     "output_type": "display_data"
    }
   ],
   "source": [
    "def plot_roc_curves(y, y_pred_probs):\n",
    "    # based on example code\n",
    "    # https://scikit-learn.org/stable/auto_examples/model_selection/plot_roc.html\n",
    "\n",
    "    fig, axs = plt.subplots(nrows=2, ncols=5, figsize=(16, 8))\n",
    "\n",
    "    roc_auc_dict = {}\n",
    "\n",
    "    for (r, c), digit, ax in zip(\n",
    "        it.product(range(2), range(5)), range(10), axs.reshape(-1)\n",
    "    ):\n",
    "        fpr, tpr, _ = metrics.roc_curve(y == digit, y_pred_probs[:, digit])\n",
    "        auc = metrics.auc(fpr, tpr)\n",
    "        roc_auc_dict[str(digit)] = auc\n",
    "\n",
    "        ax.plot(fpr, tpr, label=f\"ROC AUC={round(auc, 3)}\")\n",
    "\n",
    "        ax.set_title(f\"\\nDigit {digit}\", fontsize=16)\n",
    "        if r == 1:\n",
    "            ax.set_xlabel(\"FPR\", fontsize=18)\n",
    "\n",
    "        if c == 0:\n",
    "            ax.set_ylabel(\"TPR\", fontsize=18)\n",
    "\n",
    "        ax.set_xlim([-0.05, 1.05])\n",
    "        ax.set_ylim([-0.05, 1.05])\n",
    "        ax.legend(loc=\"lower right\", frameon=False, fontsize=14)\n",
    "\n",
    "    fig.tight_layout()\n",
    "    fig.suptitle(\n",
    "        f\"ROC plots for one-vs-rest performances \"\n",
    "        f\"(on evaluation data, n={y_pred_probs_test.shape[1]}\",\n",
    "        fontsize=22,\n",
    "    )\n",
    "    fig.tight_layout()\n",
    "    fig.show()\n",
    "\n",
    "    return roc_auc_dict, fig\n",
    "\n",
    "\n",
    "roc_auc_dict, fig = plot_roc_curves(y_test, y_pred_probs_test)"
   ]
  },
  {
   "cell_type": "code",
   "execution_count": 16,
   "id": "0f0d8d31",
   "metadata": {
    "execution": {
     "iopub.execute_input": "2023-07-21T06:35:50.233858Z",
     "iopub.status.busy": "2023-07-21T06:35:50.233543Z",
     "iopub.status.idle": "2023-07-21T06:35:50.687754Z",
     "shell.execute_reply": "2023-07-21T06:35:50.687119Z"
    },
    "papermill": {
     "duration": 0.472251,
     "end_time": "2023-07-21T06:35:50.691848",
     "exception": false,
     "start_time": "2023-07-21T06:35:50.219597",
     "status": "completed"
    },
    "tags": []
   },
   "outputs": [],
   "source": [
    "ctx.log_figure(\"per-digit-roc-curves.png\", fig)"
   ]
  },
  {
   "cell_type": "code",
   "execution_count": 17,
   "id": "208c42b6",
   "metadata": {
    "execution": {
     "iopub.execute_input": "2023-07-21T06:35:50.706491Z",
     "iopub.status.busy": "2023-07-21T06:35:50.706210Z",
     "iopub.status.idle": "2023-07-21T06:35:50.721758Z",
     "shell.execute_reply": "2023-07-21T06:35:50.721192Z"
    },
    "papermill": {
     "duration": 0.025044,
     "end_time": "2023-07-21T06:35:50.723490",
     "exception": false,
     "start_time": "2023-07-21T06:35:50.698446",
     "status": "completed"
    },
    "tags": []
   },
   "outputs": [
    {
     "data": {
      "text/plain": [
       "{'0': 1.0,\n",
       " '1': 0.9992127460168697,\n",
       " '2': 1.0,\n",
       " '3': 0.9997000937207123,\n",
       " '4': 0.9990092973632069,\n",
       " '5': 0.998875351452671,\n",
       " '6': 0.999961896052431,\n",
       " '7': 0.9998475842097241,\n",
       " '8': 0.9948376418663304,\n",
       " '9': 0.998818777625362}"
      ]
     },
     "execution_count": 17,
     "metadata": {},
     "output_type": "execute_result"
    }
   ],
   "source": [
    "roc_auc_dict"
   ]
  },
  {
   "cell_type": "code",
   "execution_count": 18,
   "id": "83343a7d",
   "metadata": {
    "execution": {
     "iopub.execute_input": "2023-07-21T06:35:50.737896Z",
     "iopub.status.busy": "2023-07-21T06:35:50.737622Z",
     "iopub.status.idle": "2023-07-21T06:35:50.743853Z",
     "shell.execute_reply": "2023-07-21T06:35:50.743285Z"
    },
    "papermill": {
     "duration": 0.01551,
     "end_time": "2023-07-21T06:35:50.745673",
     "exception": false,
     "start_time": "2023-07-21T06:35:50.730163",
     "status": "completed"
    },
    "tags": []
   },
   "outputs": [
    {
     "name": "stdout",
     "output_type": "stream",
     "text": [
      " - Logging roc_auc_per_digit (json) : {'0': 1.0, '1': 0.9992127460168697, '2': 1.0, '3': 0.9997000937207123, '4': 0.9990092973632069, '5': 0.998875351452671, '6': 0.999961896052431, '7': 0.9998475842097241, '8': 0.9948376418663304, '9': 0.998818777625362}\n"
     ]
    }
   ],
   "source": [
    "ctx.log_value(\"roc_auc_per_digit\", roc_auc_dict)"
   ]
  },
  {
   "cell_type": "markdown",
   "id": "b5330794",
   "metadata": {
    "papermill": {
     "duration": 0.006729,
     "end_time": "2023-07-21T06:35:50.759017",
     "exception": false,
     "start_time": "2023-07-21T06:35:50.752288",
     "status": "completed"
    },
    "tags": []
   },
   "source": [
    "### Compute and log mean ROC AUC score averaged over all digits"
   ]
  },
  {
   "cell_type": "code",
   "execution_count": 19,
   "id": "81c972bb",
   "metadata": {
    "execution": {
     "iopub.execute_input": "2023-07-21T06:35:50.773391Z",
     "iopub.status.busy": "2023-07-21T06:35:50.772838Z",
     "iopub.status.idle": "2023-07-21T06:35:50.785875Z",
     "shell.execute_reply": "2023-07-21T06:35:50.785277Z"
    },
    "papermill": {
     "duration": 0.022387,
     "end_time": "2023-07-21T06:35:50.787750",
     "exception": false,
     "start_time": "2023-07-21T06:35:50.765363",
     "status": "completed"
    },
    "tags": []
   },
   "outputs": [
    {
     "name": "stdout",
     "output_type": "stream",
     "text": [
      " - Logging roc_auc_class_mean (float) : 0.9990263388307307\n"
     ]
    }
   ],
   "source": [
    "roc_auc_macro = np.mean(list(roc_auc_dict.values()))\n",
    "\n",
    "ctx.log_float(\"roc_auc_class_mean\", roc_auc_macro)\n",
    "\n",
    "# assert that the same value can be computed directly using sklearn\n",
    "assert roc_auc_macro == metrics.roc_auc_score(\n",
    "    y_test, y_pred_probs_test, average=\"macro\", multi_class=\"ovr\"\n",
    ")"
   ]
  },
  {
   "cell_type": "code",
   "execution_count": 20,
   "id": "846a210b",
   "metadata": {
    "execution": {
     "iopub.execute_input": "2023-07-21T06:35:50.808855Z",
     "iopub.status.busy": "2023-07-21T06:35:50.808594Z",
     "iopub.status.idle": "2023-07-21T06:35:50.812225Z",
     "shell.execute_reply": "2023-07-21T06:35:50.811644Z"
    },
    "lines_to_next_cell": 0,
    "papermill": {
     "duration": 0.013078,
     "end_time": "2023-07-21T06:35:50.813922",
     "exception": false,
     "start_time": "2023-07-21T06:35:50.800844",
     "status": "completed"
    },
    "tags": []
   },
   "outputs": [],
   "source": [
    "# ---"
   ]
  },
  {
   "cell_type": "code",
   "execution_count": null,
   "id": "334793ab",
   "metadata": {
    "papermill": {
     "duration": 0.006788,
     "end_time": "2023-07-21T06:35:50.827221",
     "exception": false,
     "start_time": "2023-07-21T06:35:50.820433",
     "status": "completed"
    },
    "tags": []
   },
   "outputs": [],
   "source": []
  }
 ],
 "metadata": {
  "jupytext": {
   "cell_metadata_filter": "tags,-all",
   "main_language": "python",
   "notebook_metadata_filter": "-all"
  },
  "language_info": {
   "codemirror_mode": {
    "name": "ipython",
    "version": 3
   },
   "file_extension": ".py",
   "mimetype": "text/x-python",
   "name": "python",
   "nbconvert_exporter": "python",
   "pygments_lexer": "ipython3",
   "version": "3.8.10"
  },
  "papermill": {
   "default_parameters": {},
   "duration": 12.930731,
   "end_time": "2023-07-21T06:35:53.285312",
   "environment_variables": {},
   "exception": null,
   "input_path": "/tmp/temp-notebook-tm01uvi9.ipynb",
   "output_path": "/tmp/temp-notebook-tm01uvi9.ipynb",
   "parameters": {
    "P": {
     "_parameters_actor_name": "parameter_for_task_0x6cd4b893e1dbf9cf",
     "task.nr_train_images": 600
    }
   },
   "start_time": "2023-07-21T06:35:40.354581",
   "version": "2.4.0"
  }
 },
 "nbformat": 4,
 "nbformat_minor": 5
}