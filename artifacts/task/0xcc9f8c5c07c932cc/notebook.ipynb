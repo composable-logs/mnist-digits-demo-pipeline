{
 "cells": [
  {
   "cell_type": "markdown",
   "id": "3004e878",
   "metadata": {
    "papermill": {
     "duration": 0.005719,
     "end_time": "2023-07-21T06:35:58.409832",
     "exception": false,
     "start_time": "2023-07-21T06:35:58.404113",
     "status": "completed"
    },
    "tags": []
   },
   "source": [
    "# Benchmark model\n",
    "\n",
    "The purpose of this notebook is to benchmark persisted onnx-model (trained in the\n",
    "previous step) against evaluation set."
   ]
  },
  {
   "cell_type": "markdown",
   "id": "accb47d6",
   "metadata": {
    "papermill": {
     "duration": 0.004975,
     "end_time": "2023-07-21T06:35:58.421733",
     "exception": false,
     "start_time": "2023-07-21T06:35:58.416758",
     "status": "completed"
    },
    "tags": []
   },
   "source": [
    "### Determine run parameters"
   ]
  },
  {
   "cell_type": "code",
   "execution_count": 1,
   "id": "2e6cbd11",
   "metadata": {
    "execution": {
     "iopub.execute_input": "2023-07-21T06:35:58.431633Z",
     "iopub.status.busy": "2023-07-21T06:35:58.431328Z",
     "iopub.status.idle": "2023-07-21T06:35:58.439981Z",
     "shell.execute_reply": "2023-07-21T06:35:58.439396Z"
    },
    "lines_to_next_cell": 0,
    "papermill": {
     "duration": 0.016133,
     "end_time": "2023-07-21T06:35:58.441775",
     "exception": false,
     "start_time": "2023-07-21T06:35:58.425642",
     "status": "completed"
    },
    "tags": []
   },
   "outputs": [],
   "source": [
    "# ----------------- Parameters for interactive development --------------\n",
    "P = {\n",
    "    \"workflow.data_lake_root\": \"/pipeline-outputs/data-lake\",\n",
    "    \"task.nr_train_images\": 600,\n",
    "}"
   ]
  },
  {
   "cell_type": "code",
   "execution_count": 2,
   "id": "4cf5485a",
   "metadata": {
    "execution": {
     "iopub.execute_input": "2023-07-21T06:35:58.451836Z",
     "iopub.status.busy": "2023-07-21T06:35:58.451616Z",
     "iopub.status.idle": "2023-07-21T06:35:58.455690Z",
     "shell.execute_reply": "2023-07-21T06:35:58.455132Z"
    },
    "lines_to_next_cell": 0,
    "papermill": {
     "duration": 0.011773,
     "end_time": "2023-07-21T06:35:58.457310",
     "exception": false,
     "start_time": "2023-07-21T06:35:58.445537",
     "status": "completed"
    },
    "tags": [
     "parameters"
    ]
   },
   "outputs": [],
   "source": [
    "# - During automated runs parameters will be injected in the below cell -"
   ]
  },
  {
   "cell_type": "code",
   "execution_count": 3,
   "id": "e32f1306",
   "metadata": {
    "execution": {
     "iopub.execute_input": "2023-07-21T06:35:58.466363Z",
     "iopub.status.busy": "2023-07-21T06:35:58.466149Z",
     "iopub.status.idle": "2023-07-21T06:35:58.470175Z",
     "shell.execute_reply": "2023-07-21T06:35:58.469440Z"
    },
    "papermill": {
     "duration": 0.010477,
     "end_time": "2023-07-21T06:35:58.471777",
     "exception": false,
     "start_time": "2023-07-21T06:35:58.461300",
     "status": "completed"
    },
    "tags": [
     "injected-parameters"
    ]
   },
   "outputs": [],
   "source": [
    "# Parameters\n",
    "P = {\n",
    "    \"task.nr_train_images\": 800,\n",
    "    \"_parameters_actor_name\": \"parameter_for_task_0xcc9f8c5c07c932cc\",\n",
    "}\n"
   ]
  },
  {
   "cell_type": "code",
   "execution_count": 4,
   "id": "71c6cedb",
   "metadata": {
    "execution": {
     "iopub.execute_input": "2023-07-21T06:35:58.480779Z",
     "iopub.status.busy": "2023-07-21T06:35:58.480558Z",
     "iopub.status.idle": "2023-07-21T06:35:58.484250Z",
     "shell.execute_reply": "2023-07-21T06:35:58.483710Z"
    },
    "lines_to_next_cell": 0,
    "papermill": {
     "duration": 0.010256,
     "end_time": "2023-07-21T06:35:58.485977",
     "exception": false,
     "start_time": "2023-07-21T06:35:58.475721",
     "status": "completed"
    },
    "tags": []
   },
   "outputs": [],
   "source": [
    "# -----------------------------------------------------------------------"
   ]
  },
  {
   "cell_type": "markdown",
   "id": "ac0fa13f",
   "metadata": {
    "papermill": {
     "duration": 0.003974,
     "end_time": "2023-07-21T06:35:58.502250",
     "exception": false,
     "start_time": "2023-07-21T06:35:58.498276",
     "status": "completed"
    },
    "tags": []
   },
   "source": [
    "---"
   ]
  },
  {
   "cell_type": "markdown",
   "id": "ae088f0b",
   "metadata": {
    "lines_to_next_cell": 2,
    "papermill": {
     "duration": 0.004027,
     "end_time": "2023-07-21T06:35:58.510299",
     "exception": false,
     "start_time": "2023-07-21T06:35:58.506272",
     "status": "completed"
    },
    "tags": []
   },
   "source": [
    "### Notebook code"
   ]
  },
  {
   "cell_type": "code",
   "execution_count": 5,
   "id": "7a2ed2b7",
   "metadata": {
    "execution": {
     "iopub.execute_input": "2023-07-21T06:35:58.519868Z",
     "iopub.status.busy": "2023-07-21T06:35:58.519597Z",
     "iopub.status.idle": "2023-07-21T06:35:59.408247Z",
     "shell.execute_reply": "2023-07-21T06:35:59.407583Z"
    },
    "papermill": {
     "duration": 0.89573,
     "end_time": "2023-07-21T06:35:59.410035",
     "exception": false,
     "start_time": "2023-07-21T06:35:58.514305",
     "status": "completed"
    },
    "tags": []
   },
   "outputs": [
    {
     "name": "stderr",
     "output_type": "stream",
     "text": [
      "2023-07-21 06:35:59,329\tINFO worker.py:1364 -- Connecting to existing Ray cluster at address: 172.17.0.2:34450...\n"
     ]
    },
    {
     "name": "stderr",
     "output_type": "stream",
     "text": [
      "2023-07-21 06:35:59,337\tINFO worker.py:1544 -- Connected to Ray cluster. View the dashboard at \u001b[1m\u001b[32mhttp://127.0.0.1:8265 \u001b[39m\u001b[22m\n"
     ]
    },
    {
     "name": "stderr",
     "output_type": "stream",
     "text": [
      "/home/host_user/.local/lib/python3.8/site-packages/ray/runtime_context.py:27: RayDeprecationWarning: This API is deprecated and may be removed in future Ray releases. You could suppress this warning by setting env variable PYTHONWARNINGS=\"ignore::DeprecationWarning\"\n",
      "Use get_job_id() instead\n",
      "  \"job_id\": self.job_id,\n",
      "/home/host_user/.local/lib/python3.8/site-packages/ray/runtime_context.py:28: RayDeprecationWarning: This API is deprecated and may be removed in future Ray releases. You could suppress this warning by setting env variable PYTHONWARNINGS=\"ignore::DeprecationWarning\"\n",
      "Use get_node_id() instead\n",
      "  \"node_id\": self.node_id,\n"
     ]
    }
   ],
   "source": [
    "import itertools as it\n",
    "\n",
    "#\n",
    "import numpy as np\n",
    "import matplotlib.pyplot as plt\n",
    "\n",
    "#\n",
    "from composable_logs.tasks.task_opentelemetry_logging import get_task_context\n",
    "\n",
    "#\n",
    "from common.io import datalake_root\n",
    "\n",
    "ctx = get_task_context(P)"
   ]
  },
  {
   "cell_type": "markdown",
   "id": "6703fd6b",
   "metadata": {
    "papermill": {
     "duration": 0.004569,
     "end_time": "2023-07-21T06:35:59.439192",
     "exception": false,
     "start_time": "2023-07-21T06:35:59.434623",
     "status": "completed"
    },
    "tags": []
   },
   "source": [
    "## Load persisted onnx-model and evaluation data"
   ]
  },
  {
   "cell_type": "code",
   "execution_count": 6,
   "id": "156b6358",
   "metadata": {
    "execution": {
     "iopub.execute_input": "2023-07-21T06:35:59.449371Z",
     "iopub.status.busy": "2023-07-21T06:35:59.449093Z",
     "iopub.status.idle": "2023-07-21T06:35:59.453751Z",
     "shell.execute_reply": "2023-07-21T06:35:59.453153Z"
    },
    "papermill": {
     "duration": 0.011929,
     "end_time": "2023-07-21T06:35:59.455387",
     "exception": false,
     "start_time": "2023-07-21T06:35:59.443458",
     "status": "completed"
    },
    "tags": []
   },
   "outputs": [],
   "source": [
    "from common.io import read_onnx, get_onnx_inputs, get_onnx_outputs, read_numpy"
   ]
  },
  {
   "cell_type": "code",
   "execution_count": 7,
   "id": "4ba7ed71",
   "metadata": {
    "execution": {
     "iopub.execute_input": "2023-07-21T06:35:59.465317Z",
     "iopub.status.busy": "2023-07-21T06:35:59.465102Z",
     "iopub.status.idle": "2023-07-21T06:35:59.474072Z",
     "shell.execute_reply": "2023-07-21T06:35:59.473521Z"
    },
    "lines_to_next_cell": 0,
    "papermill": {
     "duration": 0.015778,
     "end_time": "2023-07-21T06:35:59.475807",
     "exception": false,
     "start_time": "2023-07-21T06:35:59.460029",
     "status": "completed"
    },
    "tags": []
   },
   "outputs": [],
   "source": [
    "onnx_inference_session = read_onnx(\n",
    "    datalake_root(ctx)\n",
    "    / \"models\"\n",
    "    / f\"nr_train_images={ctx.parameters['task.nr_train_images']}\"\n",
    "    / \"model.onnx\"\n",
    ")"
   ]
  },
  {
   "cell_type": "markdown",
   "id": "833a89d3",
   "metadata": {
    "papermill": {
     "duration": 0.004,
     "end_time": "2023-07-21T06:35:59.483889",
     "exception": false,
     "start_time": "2023-07-21T06:35:59.479889",
     "status": "completed"
    },
    "tags": []
   },
   "source": [
    "### Record structure of inputs and outputs for ONNX model\n",
    "\n",
    "(this should likely be done in training notebook)"
   ]
  },
  {
   "cell_type": "code",
   "execution_count": 8,
   "id": "66d00893",
   "metadata": {
    "execution": {
     "iopub.execute_input": "2023-07-21T06:35:59.493785Z",
     "iopub.status.busy": "2023-07-21T06:35:59.493557Z",
     "iopub.status.idle": "2023-07-21T06:35:59.500143Z",
     "shell.execute_reply": "2023-07-21T06:35:59.499621Z"
    },
    "papermill": {
     "duration": 0.013646,
     "end_time": "2023-07-21T06:35:59.501902",
     "exception": false,
     "start_time": "2023-07-21T06:35:59.488256",
     "status": "completed"
    },
    "tags": []
   },
   "outputs": [
    {
     "name": "stdout",
     "output_type": "stream",
     "text": [
      "{\n",
      "  \"inputs\": [\n",
      "    {\n",
      "      \"name\": \"float_input_8x8_image\",\n",
      "      \"shape\": [\n",
      "        null,\n",
      "        64\n",
      "      ],\n",
      "      \"type\": \"tensor(float)\"\n",
      "    }\n",
      "  ],\n",
      "  \"outputs\": [\n",
      "    {\n",
      "      \"name\": \"output_label\",\n",
      "      \"shape\": [\n",
      "        null\n",
      "      ],\n",
      "      \"type\": \"tensor(int64)\"\n",
      "    },\n",
      "    {\n",
      "      \"name\": \"output_probability\",\n",
      "      \"shape\": [],\n",
      "      \"type\": \"seq(map(int64,tensor(float)))\"\n",
      "    }\n",
      "  ]\n",
      "}\n"
     ]
    }
   ],
   "source": [
    "import json\n",
    "\n",
    "onnx_io = json.dumps(\n",
    "    {\n",
    "        \"inputs\": get_onnx_inputs(onnx_inference_session),\n",
    "        \"outputs\": get_onnx_outputs(onnx_inference_session),\n",
    "    },\n",
    "    indent=2,\n",
    ")\n",
    "\n",
    "\n",
    "ctx.log_artefact(\"onnx_io_structure.json\", onnx_io)\n",
    "print(onnx_io)"
   ]
  },
  {
   "cell_type": "markdown",
   "id": "bb8feb09",
   "metadata": {
    "papermill": {
     "duration": 0.004187,
     "end_time": "2023-07-21T06:35:59.510366",
     "exception": false,
     "start_time": "2023-07-21T06:35:59.506179",
     "status": "completed"
    },
    "tags": []
   },
   "source": [
    "### Evaluate model performance on evaluation data set"
   ]
  },
  {
   "cell_type": "code",
   "execution_count": 9,
   "id": "6b3fb86e",
   "metadata": {
    "execution": {
     "iopub.execute_input": "2023-07-21T06:35:59.520485Z",
     "iopub.status.busy": "2023-07-21T06:35:59.520230Z",
     "iopub.status.idle": "2023-07-21T06:35:59.526128Z",
     "shell.execute_reply": "2023-07-21T06:35:59.525457Z"
    },
    "papermill": {
     "duration": 0.013247,
     "end_time": "2023-07-21T06:35:59.527939",
     "exception": false,
     "start_time": "2023-07-21T06:35:59.514692",
     "status": "completed"
    },
    "tags": []
   },
   "outputs": [],
   "source": [
    "# load evaluation data\n",
    "X_test = read_numpy(datalake_root(ctx) / \"test-data\" / \"digits.numpy\")\n",
    "y_test = read_numpy(datalake_root(ctx) / \"test-data\" / \"labels.numpy\")"
   ]
  },
  {
   "cell_type": "code",
   "execution_count": 10,
   "id": "caa827ab",
   "metadata": {
    "execution": {
     "iopub.execute_input": "2023-07-21T06:35:59.540511Z",
     "iopub.status.busy": "2023-07-21T06:35:59.540283Z",
     "iopub.status.idle": "2023-07-21T06:35:59.556354Z",
     "shell.execute_reply": "2023-07-21T06:35:59.555693Z"
    },
    "papermill": {
     "duration": 0.027055,
     "end_time": "2023-07-21T06:35:59.559253",
     "exception": false,
     "start_time": "2023-07-21T06:35:59.532198",
     "status": "completed"
    },
    "tags": []
   },
   "outputs": [],
   "source": [
    "def get_model_outputs(X, onnx_inference_session):\n",
    "    y_pred_labels, y_pred_map = onnx_inference_session.run(\n",
    "        [\"output_label\", \"output_probability\"],\n",
    "        {\"float_input_8x8_image\": X.astype(np.float32)},\n",
    "    )\n",
    "    y_pred_probs = np.array(\n",
    "        [[probabilities[digit] for digit in range(10)] for probabilities in y_pred_map]\n",
    "    )\n",
    "\n",
    "    assert y_pred_labels.shape == (X.shape[0],)\n",
    "    assert y_pred_probs.shape == (X.shape[0], 10)\n",
    "\n",
    "    return y_pred_labels, y_pred_probs\n",
    "\n",
    "\n",
    "# Note: as shown in the training notebook, the predicted labels and probabilities\n",
    "# computed below need not be compatible.\n",
    "y_pred_labels_test, y_pred_probs_test = get_model_outputs(\n",
    "    X_test, onnx_inference_session\n",
    ")"
   ]
  },
  {
   "cell_type": "markdown",
   "id": "83cc2b72",
   "metadata": {
    "papermill": {
     "duration": 0.00455,
     "end_time": "2023-07-21T06:35:59.568318",
     "exception": false,
     "start_time": "2023-07-21T06:35:59.563768",
     "status": "completed"
    },
    "tags": []
   },
   "source": [
    "### Confusion matrix"
   ]
  },
  {
   "cell_type": "code",
   "execution_count": 11,
   "id": "7ec59d5d",
   "metadata": {
    "execution": {
     "iopub.execute_input": "2023-07-21T06:35:59.578617Z",
     "iopub.status.busy": "2023-07-21T06:35:59.578382Z",
     "iopub.status.idle": "2023-07-21T06:35:59.585860Z",
     "shell.execute_reply": "2023-07-21T06:35:59.581813Z"
    },
    "papermill": {
     "duration": 0.01586,
     "end_time": "2023-07-21T06:35:59.588795",
     "exception": false,
     "start_time": "2023-07-21T06:35:59.572935",
     "status": "completed"
    },
    "tags": []
   },
   "outputs": [],
   "source": [
    "# TODO"
   ]
  },
  {
   "cell_type": "markdown",
   "id": "61762eef",
   "metadata": {
    "papermill": {
     "duration": 0.004312,
     "end_time": "2023-07-21T06:35:59.597557",
     "exception": false,
     "start_time": "2023-07-21T06:35:59.593245",
     "status": "completed"
    },
    "tags": []
   },
   "source": [
    "### Plot predicted probabilities for each classifier over all evaluation digit images"
   ]
  },
  {
   "cell_type": "code",
   "execution_count": 12,
   "id": "7c1afefa",
   "metadata": {
    "execution": {
     "iopub.execute_input": "2023-07-21T06:35:59.607606Z",
     "iopub.status.busy": "2023-07-21T06:35:59.607382Z",
     "iopub.status.idle": "2023-07-21T06:36:03.549340Z",
     "shell.execute_reply": "2023-07-21T06:36:03.548724Z"
    },
    "papermill": {
     "duration": 3.950456,
     "end_time": "2023-07-21T06:36:03.552445",
     "exception": false,
     "start_time": "2023-07-21T06:35:59.601989",
     "status": "completed"
    },
    "tags": []
   },
   "outputs": [
    {
     "data": {
      "image/png": "[encoded data removed]",
      "text/plain": [
       "<Figure size 1600x600 with 10 Axes>"
      ]
     },
     "metadata": {},
     "output_type": "display_data"
    }
   ],
   "source": [
    "def plot_per_digit_probabilities(y_pred_probs):\n",
    "    fig, axs = plt.subplots(nrows=2, ncols=5, figsize=(16, 6))\n",
    "\n",
    "    for (r, c), digit, ax in zip(\n",
    "        it.product(range(2), range(5)), range(10), axs.reshape(-1)\n",
    "    ):\n",
    "        ax.hist(y_pred_probs_test[:, digit], bins=20)\n",
    "\n",
    "        ax.set_title(f\"Digit {digit}\")\n",
    "        if r == 1 and c == 2:\n",
    "            ax.set_xlabel(\"probability\", fontsize=16)\n",
    "\n",
    "        if c == 0:\n",
    "            ax.set_ylabel(\"counts\", fontsize=16)\n",
    "        ax.set_yscale(\"log\")\n",
    "\n",
    "    fig.tight_layout()\n",
    "    fig.suptitle(\n",
    "        f\"Distributions of prediction probabilities for each digit \"\n",
    "        f\"(on evaluation data, n={y_pred_probs.shape[0]})\",\n",
    "        fontsize=20,\n",
    "    )\n",
    "    fig.tight_layout()\n",
    "    fig.show()\n",
    "\n",
    "    return fig\n",
    "\n",
    "\n",
    "fig = plot_per_digit_probabilities(y_pred_probs_test)"
   ]
  },
  {
   "cell_type": "markdown",
   "id": "710e5863",
   "metadata": {
    "papermill": {
     "duration": 0.00514,
     "end_time": "2023-07-21T06:36:03.563824",
     "exception": false,
     "start_time": "2023-07-21T06:36:03.558684",
     "status": "completed"
    },
    "tags": []
   },
   "source": [
    "From the above distributions we see that most digits have clear separation between\n",
    "high and lower probabilities. Morover, in each case there is roughly an order of\n",
    "magnitude more of digits with low probabilities. This is compatible with digits\n",
    "being roughly evenly distributed in the data."
   ]
  },
  {
   "cell_type": "code",
   "execution_count": 13,
   "id": "bee67e63",
   "metadata": {
    "execution": {
     "iopub.execute_input": "2023-07-21T06:36:03.578268Z",
     "iopub.status.busy": "2023-07-21T06:36:03.576484Z",
     "iopub.status.idle": "2023-07-21T06:36:04.247671Z",
     "shell.execute_reply": "2023-07-21T06:36:04.242165Z"
    },
    "papermill": {
     "duration": 0.682102,
     "end_time": "2023-07-21T06:36:04.251145",
     "exception": false,
     "start_time": "2023-07-21T06:36:03.569043",
     "status": "completed"
    },
    "tags": []
   },
   "outputs": [],
   "source": [
    "ctx.log_figure(\"per-digit-probabilities.png\", fig)"
   ]
  },
  {
   "cell_type": "markdown",
   "id": "7a113041",
   "metadata": {
    "papermill": {
     "duration": 0.00573,
     "end_time": "2023-07-21T06:36:04.262699",
     "exception": false,
     "start_time": "2023-07-21T06:36:04.256969",
     "status": "completed"
    },
    "tags": []
   },
   "source": [
    "### Plot ROC curves for individual one-vs-rest classifiers"
   ]
  },
  {
   "cell_type": "code",
   "execution_count": 14,
   "id": "233428a5",
   "metadata": {
    "execution": {
     "iopub.execute_input": "2023-07-21T06:36:04.274673Z",
     "iopub.status.busy": "2023-07-21T06:36:04.274384Z",
     "iopub.status.idle": "2023-07-21T06:36:04.626875Z",
     "shell.execute_reply": "2023-07-21T06:36:04.626064Z"
    },
    "papermill": {
     "duration": 0.361432,
     "end_time": "2023-07-21T06:36:04.629240",
     "exception": false,
     "start_time": "2023-07-21T06:36:04.267808",
     "status": "completed"
    },
    "tags": []
   },
   "outputs": [],
   "source": [
    "from sklearn import metrics"
   ]
  },
  {
   "cell_type": "code",
   "execution_count": 15,
   "id": "abc39623",
   "metadata": {
    "execution": {
     "iopub.execute_input": "2023-07-21T06:36:04.645365Z",
     "iopub.status.busy": "2023-07-21T06:36:04.645068Z",
     "iopub.status.idle": "2023-07-21T06:36:06.579347Z",
     "shell.execute_reply": "2023-07-21T06:36:06.578485Z"
    },
    "papermill": {
     "duration": 1.943737,
     "end_time": "2023-07-21T06:36:06.581473",
     "exception": false,
     "start_time": "2023-07-21T06:36:04.637736",
     "status": "completed"
    },
    "tags": []
   },
   "outputs": [
    {
     "data": {
      "image/png": "[encoded data removed]",
      "text/plain": [
       "<Figure size 1600x800 with 10 Axes>"
      ]
     },
     "metadata": {},
     "output_type": "display_data"
    }
   ],
   "source": [
    "def plot_roc_curves(y, y_pred_probs):\n",
    "    # based on example code\n",
    "    # https://scikit-learn.org/stable/auto_examples/model_selection/plot_roc.html\n",
    "\n",
    "    fig, axs = plt.subplots(nrows=2, ncols=5, figsize=(16, 8))\n",
    "\n",
    "    roc_auc_dict = {}\n",
    "\n",
    "    for (r, c), digit, ax in zip(\n",
    "        it.product(range(2), range(5)), range(10), axs.reshape(-1)\n",
    "    ):\n",
    "        fpr, tpr, _ = metrics.roc_curve(y == digit, y_pred_probs[:, digit])\n",
    "        auc = metrics.auc(fpr, tpr)\n",
    "        roc_auc_dict[str(digit)] = auc\n",
    "\n",
    "        ax.plot(fpr, tpr, label=f\"ROC AUC={round(auc, 3)}\")\n",
    "\n",
    "        ax.set_title(f\"\\nDigit {digit}\", fontsize=16)\n",
    "        if r == 1:\n",
    "            ax.set_xlabel(\"FPR\", fontsize=18)\n",
    "\n",
    "        if c == 0:\n",
    "            ax.set_ylabel(\"TPR\", fontsize=18)\n",
    "\n",
    "        ax.set_xlim([-0.05, 1.05])\n",
    "        ax.set_ylim([-0.05, 1.05])\n",
    "        ax.legend(loc=\"lower right\", frameon=False, fontsize=14)\n",
    "\n",
    "    fig.tight_layout()\n",
    "    fig.suptitle(\n",
    "        f\"ROC plots for one-vs-rest performances \"\n",
    "        f\"(on evaluation data, n={y_pred_probs_test.shape[1]}\",\n",
    "        fontsize=22,\n",
    "    )\n",
    "    fig.tight_layout()\n",
    "    fig.show()\n",
    "\n",
    "    return roc_auc_dict, fig\n",
    "\n",
    "\n",
    "roc_auc_dict, fig = plot_roc_curves(y_test, y_pred_probs_test)"
   ]
  },
  {
   "cell_type": "code",
   "execution_count": 16,
   "id": "837760b2",
   "metadata": {
    "execution": {
     "iopub.execute_input": "2023-07-21T06:36:06.598164Z",
     "iopub.status.busy": "2023-07-21T06:36:06.597342Z",
     "iopub.status.idle": "2023-07-21T06:36:06.928211Z",
     "shell.execute_reply": "2023-07-21T06:36:06.927261Z"
    },
    "papermill": {
     "duration": 0.341258,
     "end_time": "2023-07-21T06:36:06.930463",
     "exception": false,
     "start_time": "2023-07-21T06:36:06.589205",
     "status": "completed"
    },
    "tags": []
   },
   "outputs": [],
   "source": [
    "ctx.log_figure(\"per-digit-roc-curves.png\", fig)"
   ]
  },
  {
   "cell_type": "code",
   "execution_count": 17,
   "id": "9a22f6bf",
   "metadata": {
    "execution": {
     "iopub.execute_input": "2023-07-21T06:36:06.949327Z",
     "iopub.status.busy": "2023-07-21T06:36:06.948584Z",
     "iopub.status.idle": "2023-07-21T06:36:06.955292Z",
     "shell.execute_reply": "2023-07-21T06:36:06.954695Z"
    },
    "papermill": {
     "duration": 0.018969,
     "end_time": "2023-07-21T06:36:06.957002",
     "exception": false,
     "start_time": "2023-07-21T06:36:06.938033",
     "status": "completed"
    },
    "tags": []
   },
   "outputs": [
    {
     "data": {
      "text/plain": [
       "{'0': 1.0,\n",
       " '1': 0.9988003748828491,\n",
       " '2': 1.0,\n",
       " '3': 0.9998125585754452,\n",
       " '4': 0.9995046486816034,\n",
       " '5': 0.9991752577319588,\n",
       " '6': 0.999961896052431,\n",
       " '7': 0.9998856881572931,\n",
       " '8': 0.992670239596469,\n",
       " '9': 0.9995046486816034}"
      ]
     },
     "execution_count": 17,
     "metadata": {},
     "output_type": "execute_result"
    }
   ],
   "source": [
    "roc_auc_dict"
   ]
  },
  {
   "cell_type": "code",
   "execution_count": 18,
   "id": "b95ce875",
   "metadata": {
    "execution": {
     "iopub.execute_input": "2023-07-21T06:36:06.976359Z",
     "iopub.status.busy": "2023-07-21T06:36:06.974466Z",
     "iopub.status.idle": "2023-07-21T06:36:06.980241Z",
     "shell.execute_reply": "2023-07-21T06:36:06.979652Z"
    },
    "papermill": {
     "duration": 0.019665,
     "end_time": "2023-07-21T06:36:06.983431",
     "exception": false,
     "start_time": "2023-07-21T06:36:06.963766",
     "status": "completed"
    },
    "tags": []
   },
   "outputs": [
    {
     "name": "stdout",
     "output_type": "stream",
     "text": [
      " - Logging roc_auc_per_digit (json) : {'0': 1.0, '1': 0.9988003748828491, '2': 1.0, '3': 0.9998125585754452, '4': 0.9995046486816034, '5': 0.9991752577319588, '6': 0.999961896052431, '7': 0.9998856881572931, '8': 0.992670239596469, '9': 0.9995046486816034}\n"
     ]
    }
   ],
   "source": [
    "ctx.log_value(\"roc_auc_per_digit\", roc_auc_dict)"
   ]
  },
  {
   "cell_type": "markdown",
   "id": "c197c131",
   "metadata": {
    "papermill": {
     "duration": 0.008975,
     "end_time": "2023-07-21T06:36:07.003895",
     "exception": false,
     "start_time": "2023-07-21T06:36:06.994920",
     "status": "completed"
    },
    "tags": []
   },
   "source": [
    "### Compute and log mean ROC AUC score averaged over all digits"
   ]
  },
  {
   "cell_type": "code",
   "execution_count": 19,
   "id": "3f403992",
   "metadata": {
    "execution": {
     "iopub.execute_input": "2023-07-21T06:36:07.026565Z",
     "iopub.status.busy": "2023-07-21T06:36:07.025777Z",
     "iopub.status.idle": "2023-07-21T06:36:07.044590Z",
     "shell.execute_reply": "2023-07-21T06:36:07.043832Z"
    },
    "papermill": {
     "duration": 0.028832,
     "end_time": "2023-07-21T06:36:07.046276",
     "exception": false,
     "start_time": "2023-07-21T06:36:07.017444",
     "status": "completed"
    },
    "tags": []
   },
   "outputs": [
    {
     "name": "stdout",
     "output_type": "stream",
     "text": [
      " - Logging roc_auc_class_mean (float) : 0.9989315312359652\n"
     ]
    }
   ],
   "source": [
    "roc_auc_macro = np.mean(list(roc_auc_dict.values()))\n",
    "\n",
    "ctx.log_float(\"roc_auc_class_mean\", roc_auc_macro)\n",
    "\n",
    "# assert that the same value can be computed directly using sklearn\n",
    "assert roc_auc_macro == metrics.roc_auc_score(\n",
    "    y_test, y_pred_probs_test, average=\"macro\", multi_class=\"ovr\"\n",
    ")"
   ]
  },
  {
   "cell_type": "code",
   "execution_count": 20,
   "id": "5245bc68",
   "metadata": {
    "execution": {
     "iopub.execute_input": "2023-07-21T06:36:07.064994Z",
     "iopub.status.busy": "2023-07-21T06:36:07.064658Z",
     "iopub.status.idle": "2023-07-21T06:36:07.069738Z",
     "shell.execute_reply": "2023-07-21T06:36:07.068971Z"
    },
    "lines_to_next_cell": 0,
    "papermill": {
     "duration": 0.016873,
     "end_time": "2023-07-21T06:36:07.071557",
     "exception": false,
     "start_time": "2023-07-21T06:36:07.054684",
     "status": "completed"
    },
    "tags": []
   },
   "outputs": [],
   "source": [
    "# ---"
   ]
  },
  {
   "cell_type": "code",
   "execution_count": null,
   "id": "69396c86",
   "metadata": {
    "papermill": {
     "duration": 0.007367,
     "end_time": "2023-07-21T06:36:07.090820",
     "exception": false,
     "start_time": "2023-07-21T06:36:07.083453",
     "status": "completed"
    },
    "tags": []
   },
   "outputs": [],
   "source": []
  }
 ],
 "metadata": {
  "jupytext": {
   "cell_metadata_filter": "tags,-all",
   "main_language": "python",
   "notebook_metadata_filter": "-all"
  },
  "language_info": {
   "codemirror_mode": {
    "name": "ipython",
    "version": 3
   },
   "file_extension": ".py",
   "mimetype": "text/x-python",
   "name": "python",
   "nbconvert_exporter": "python",
   "pygments_lexer": "ipython3",
   "version": "3.8.10"
  },
  "papermill": {
   "default_parameters": {},
   "duration": 11.963615,
   "end_time": "2023-07-21T06:36:09.048505",
   "environment_variables": {},
   "exception": null,
   "input_path": "/tmp/temp-notebook-lnas6erp.ipynb",
   "output_path": "/tmp/temp-notebook-lnas6erp.ipynb",
   "parameters": {
    "P": {
     "_parameters_actor_name": "parameter_for_task_0xcc9f8c5c07c932cc",
     "task.nr_train_images": 800
    }
   },
   "start_time": "2023-07-21T06:35:57.084890",
   "version": "2.4.0"
  }
 },
 "nbformat": 4,
 "nbformat_minor": 5
}