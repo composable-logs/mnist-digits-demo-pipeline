{
 "cells": [
  {
   "cell_type": "markdown",
   "id": "0c5ed83c",
   "metadata": {
    "papermill": {
     "duration": 0.005301,
     "end_time": "2023-07-23T06:34:49.375640",
     "exception": false,
     "start_time": "2023-07-23T06:34:49.370339",
     "status": "completed"
    },
    "tags": []
   },
   "source": [
    "# Benchmark model\n",
    "\n",
    "The purpose of this notebook is to benchmark persisted onnx-model (trained in the\n",
    "previous step) against evaluation set."
   ]
  },
  {
   "cell_type": "markdown",
   "id": "effed41b",
   "metadata": {
    "papermill": {
     "duration": 0.003717,
     "end_time": "2023-07-23T06:34:49.385385",
     "exception": false,
     "start_time": "2023-07-23T06:34:49.381668",
     "status": "completed"
    },
    "tags": []
   },
   "source": [
    "### Determine run parameters"
   ]
  },
  {
   "cell_type": "code",
   "execution_count": 1,
   "id": "c5fa24dc",
   "metadata": {
    "execution": {
     "iopub.execute_input": "2023-07-23T06:34:49.395276Z",
     "iopub.status.busy": "2023-07-23T06:34:49.394605Z",
     "iopub.status.idle": "2023-07-23T06:34:49.403309Z",
     "shell.execute_reply": "2023-07-23T06:34:49.402698Z"
    },
    "lines_to_next_cell": 0,
    "papermill": {
     "duration": 0.015384,
     "end_time": "2023-07-23T06:34:49.405049",
     "exception": false,
     "start_time": "2023-07-23T06:34:49.389665",
     "status": "completed"
    },
    "tags": []
   },
   "outputs": [],
   "source": [
    "# ----------------- Parameters for interactive development --------------\n",
    "P = {\n",
    "    \"workflow.data_lake_root\": \"/pipeline-outputs/data-lake\",\n",
    "    \"task.nr_train_images\": 600,\n",
    "}"
   ]
  },
  {
   "cell_type": "code",
   "execution_count": 2,
   "id": "b212227f",
   "metadata": {
    "execution": {
     "iopub.execute_input": "2023-07-23T06:34:49.415282Z",
     "iopub.status.busy": "2023-07-23T06:34:49.415024Z",
     "iopub.status.idle": "2023-07-23T06:34:49.419359Z",
     "shell.execute_reply": "2023-07-23T06:34:49.418823Z"
    },
    "lines_to_next_cell": 0,
    "papermill": {
     "duration": 0.011925,
     "end_time": "2023-07-23T06:34:49.420970",
     "exception": false,
     "start_time": "2023-07-23T06:34:49.409045",
     "status": "completed"
    },
    "tags": [
     "parameters"
    ]
   },
   "outputs": [],
   "source": [
    "# - During automated runs parameters will be injected in the below cell -"
   ]
  },
  {
   "cell_type": "code",
   "execution_count": 3,
   "id": "4bc921d5",
   "metadata": {
    "execution": {
     "iopub.execute_input": "2023-07-23T06:34:49.430421Z",
     "iopub.status.busy": "2023-07-23T06:34:49.430160Z",
     "iopub.status.idle": "2023-07-23T06:34:49.434759Z",
     "shell.execute_reply": "2023-07-23T06:34:49.434181Z"
    },
    "papermill": {
     "duration": 0.011476,
     "end_time": "2023-07-23T06:34:49.436507",
     "exception": false,
     "start_time": "2023-07-23T06:34:49.425031",
     "status": "completed"
    },
    "tags": [
     "injected-parameters"
    ]
   },
   "outputs": [],
   "source": [
    "# Parameters\n",
    "P = {\n",
    "    \"task.nr_train_images\": 800,\n",
    "    \"_parameters_actor_name\": \"parameter_for_task_0xb0de84cefc1afd84\",\n",
    "}\n"
   ]
  },
  {
   "cell_type": "code",
   "execution_count": 4,
   "id": "c865b436",
   "metadata": {
    "execution": {
     "iopub.execute_input": "2023-07-23T06:34:49.446082Z",
     "iopub.status.busy": "2023-07-23T06:34:49.445814Z",
     "iopub.status.idle": "2023-07-23T06:34:49.450192Z",
     "shell.execute_reply": "2023-07-23T06:34:49.449615Z"
    },
    "lines_to_next_cell": 0,
    "papermill": {
     "duration": 0.01124,
     "end_time": "2023-07-23T06:34:49.451871",
     "exception": false,
     "start_time": "2023-07-23T06:34:49.440631",
     "status": "completed"
    },
    "tags": []
   },
   "outputs": [],
   "source": [
    "# -----------------------------------------------------------------------"
   ]
  },
  {
   "cell_type": "markdown",
   "id": "6f2378b4",
   "metadata": {
    "papermill": {
     "duration": 0.00402,
     "end_time": "2023-07-23T06:34:49.459901",
     "exception": false,
     "start_time": "2023-07-23T06:34:49.455881",
     "status": "completed"
    },
    "tags": []
   },
   "source": [
    "---"
   ]
  },
  {
   "cell_type": "markdown",
   "id": "24f21e04",
   "metadata": {
    "lines_to_next_cell": 2,
    "papermill": {
     "duration": 0.00383,
     "end_time": "2023-07-23T06:34:49.467669",
     "exception": false,
     "start_time": "2023-07-23T06:34:49.463839",
     "status": "completed"
    },
    "tags": []
   },
   "source": [
    "### Notebook code"
   ]
  },
  {
   "cell_type": "code",
   "execution_count": 5,
   "id": "9e0554fb",
   "metadata": {
    "execution": {
     "iopub.execute_input": "2023-07-23T06:34:49.476988Z",
     "iopub.status.busy": "2023-07-23T06:34:49.476722Z",
     "iopub.status.idle": "2023-07-23T06:34:50.312726Z",
     "shell.execute_reply": "2023-07-23T06:34:50.312149Z"
    },
    "papermill": {
     "duration": 0.842755,
     "end_time": "2023-07-23T06:34:50.314364",
     "exception": false,
     "start_time": "2023-07-23T06:34:49.471609",
     "status": "completed"
    },
    "tags": []
   },
   "outputs": [
    {
     "name": "stderr",
     "output_type": "stream",
     "text": [
      "2023-07-23 06:34:50,245\tINFO worker.py:1364 -- Connecting to existing Ray cluster at address: 172.17.0.2:39285...\n"
     ]
    },
    {
     "name": "stderr",
     "output_type": "stream",
     "text": [
      "2023-07-23 06:34:50,253\tINFO worker.py:1544 -- Connected to Ray cluster. View the dashboard at \u001b[1m\u001b[32mhttp://127.0.0.1:8265 \u001b[39m\u001b[22m\n"
     ]
    },
    {
     "name": "stderr",
     "output_type": "stream",
     "text": [
      "/home/host_user/.local/lib/python3.8/site-packages/ray/runtime_context.py:27: RayDeprecationWarning: This API is deprecated and may be removed in future Ray releases. You could suppress this warning by setting env variable PYTHONWARNINGS=\"ignore::DeprecationWarning\"\n",
      "Use get_job_id() instead\n",
      "  \"job_id\": self.job_id,\n",
      "/home/host_user/.local/lib/python3.8/site-packages/ray/runtime_context.py:28: RayDeprecationWarning: This API is deprecated and may be removed in future Ray releases. You could suppress this warning by setting env variable PYTHONWARNINGS=\"ignore::DeprecationWarning\"\n",
      "Use get_node_id() instead\n",
      "  \"node_id\": self.node_id,\n"
     ]
    }
   ],
   "source": [
    "import itertools as it\n",
    "\n",
    "#\n",
    "import numpy as np\n",
    "import matplotlib.pyplot as plt\n",
    "\n",
    "#\n",
    "from composable_logs.tasks.task_opentelemetry_logging import get_task_context\n",
    "\n",
    "#\n",
    "from common.io import datalake_root\n",
    "\n",
    "ctx = get_task_context(P)"
   ]
  },
  {
   "cell_type": "markdown",
   "id": "44f87836",
   "metadata": {
    "papermill": {
     "duration": 0.004117,
     "end_time": "2023-07-23T06:34:50.322957",
     "exception": false,
     "start_time": "2023-07-23T06:34:50.318840",
     "status": "completed"
    },
    "tags": []
   },
   "source": [
    "## Load persisted onnx-model and evaluation data"
   ]
  },
  {
   "cell_type": "code",
   "execution_count": 6,
   "id": "dab883e3",
   "metadata": {
    "execution": {
     "iopub.execute_input": "2023-07-23T06:34:50.332458Z",
     "iopub.status.busy": "2023-07-23T06:34:50.332197Z",
     "iopub.status.idle": "2023-07-23T06:34:50.335268Z",
     "shell.execute_reply": "2023-07-23T06:34:50.334742Z"
    },
    "papermill": {
     "duration": 0.009639,
     "end_time": "2023-07-23T06:34:50.336744",
     "exception": false,
     "start_time": "2023-07-23T06:34:50.327105",
     "status": "completed"
    },
    "tags": []
   },
   "outputs": [],
   "source": [
    "from common.io import read_onnx, get_onnx_inputs, get_onnx_outputs, read_numpy"
   ]
  },
  {
   "cell_type": "code",
   "execution_count": 7,
   "id": "c1e769d6",
   "metadata": {
    "execution": {
     "iopub.execute_input": "2023-07-23T06:34:50.351284Z",
     "iopub.status.busy": "2023-07-23T06:34:50.350933Z",
     "iopub.status.idle": "2023-07-23T06:34:50.360513Z",
     "shell.execute_reply": "2023-07-23T06:34:50.359819Z"
    },
    "lines_to_next_cell": 0,
    "papermill": {
     "duration": 0.020637,
     "end_time": "2023-07-23T06:34:50.361910",
     "exception": false,
     "start_time": "2023-07-23T06:34:50.341273",
     "status": "completed"
    },
    "tags": []
   },
   "outputs": [],
   "source": [
    "onnx_inference_session = read_onnx(\n",
    "    datalake_root(ctx)\n",
    "    / \"models\"\n",
    "    / f\"nr_train_images={ctx.parameters['task.nr_train_images']}\"\n",
    "    / \"model.onnx\"\n",
    ")"
   ]
  },
  {
   "cell_type": "markdown",
   "id": "4b930d81",
   "metadata": {
    "papermill": {
     "duration": 0.004235,
     "end_time": "2023-07-23T06:34:50.370643",
     "exception": false,
     "start_time": "2023-07-23T06:34:50.366408",
     "status": "completed"
    },
    "tags": []
   },
   "source": [
    "### Record structure of inputs and outputs for ONNX model\n",
    "\n",
    "(this should likely be done in training notebook)"
   ]
  },
  {
   "cell_type": "code",
   "execution_count": 8,
   "id": "5583b65a",
   "metadata": {
    "execution": {
     "iopub.execute_input": "2023-07-23T06:34:50.380997Z",
     "iopub.status.busy": "2023-07-23T06:34:50.380250Z",
     "iopub.status.idle": "2023-07-23T06:34:50.385176Z",
     "shell.execute_reply": "2023-07-23T06:34:50.384653Z"
    },
    "papermill": {
     "duration": 0.011557,
     "end_time": "2023-07-23T06:34:50.386495",
     "exception": false,
     "start_time": "2023-07-23T06:34:50.374938",
     "status": "completed"
    },
    "tags": []
   },
   "outputs": [
    {
     "name": "stdout",
     "output_type": "stream",
     "text": [
      "{\n",
      "  \"inputs\": [\n",
      "    {\n",
      "      \"name\": \"float_input_8x8_image\",\n",
      "      \"shape\": [\n",
      "        null,\n",
      "        64\n",
      "      ],\n",
      "      \"type\": \"tensor(float)\"\n",
      "    }\n",
      "  ],\n",
      "  \"outputs\": [\n",
      "    {\n",
      "      \"name\": \"output_label\",\n",
      "      \"shape\": [\n",
      "        null\n",
      "      ],\n",
      "      \"type\": \"tensor(int64)\"\n",
      "    },\n",
      "    {\n",
      "      \"name\": \"output_probability\",\n",
      "      \"shape\": [],\n",
      "      \"type\": \"seq(map(int64,tensor(float)))\"\n",
      "    }\n",
      "  ]\n",
      "}\n"
     ]
    }
   ],
   "source": [
    "import json\n",
    "\n",
    "onnx_io = json.dumps(\n",
    "    {\n",
    "        \"inputs\": get_onnx_inputs(onnx_inference_session),\n",
    "        \"outputs\": get_onnx_outputs(onnx_inference_session),\n",
    "    },\n",
    "    indent=2,\n",
    ")\n",
    "\n",
    "\n",
    "ctx.log_artefact(\"onnx_io_structure.json\", onnx_io)\n",
    "print(onnx_io)"
   ]
  },
  {
   "cell_type": "markdown",
   "id": "5f8a3cd5",
   "metadata": {
    "papermill": {
     "duration": 0.004187,
     "end_time": "2023-07-23T06:34:50.395200",
     "exception": false,
     "start_time": "2023-07-23T06:34:50.391013",
     "status": "completed"
    },
    "tags": []
   },
   "source": [
    "### Evaluate model performance on evaluation data set"
   ]
  },
  {
   "cell_type": "code",
   "execution_count": 9,
   "id": "e6e58a1d",
   "metadata": {
    "execution": {
     "iopub.execute_input": "2023-07-23T06:34:50.405551Z",
     "iopub.status.busy": "2023-07-23T06:34:50.404809Z",
     "iopub.status.idle": "2023-07-23T06:34:50.409614Z",
     "shell.execute_reply": "2023-07-23T06:34:50.408971Z"
    },
    "papermill": {
     "duration": 0.011315,
     "end_time": "2023-07-23T06:34:50.410950",
     "exception": false,
     "start_time": "2023-07-23T06:34:50.399635",
     "status": "completed"
    },
    "tags": []
   },
   "outputs": [],
   "source": [
    "# load evaluation data\n",
    "X_test = read_numpy(datalake_root(ctx) / \"test-data\" / \"digits.numpy\")\n",
    "y_test = read_numpy(datalake_root(ctx) / \"test-data\" / \"labels.numpy\")"
   ]
  },
  {
   "cell_type": "code",
   "execution_count": 10,
   "id": "e94c4920",
   "metadata": {
    "execution": {
     "iopub.execute_input": "2023-07-23T06:34:50.420867Z",
     "iopub.status.busy": "2023-07-23T06:34:50.420220Z",
     "iopub.status.idle": "2023-07-23T06:34:50.432446Z",
     "shell.execute_reply": "2023-07-23T06:34:50.431844Z"
    },
    "papermill": {
     "duration": 0.018689,
     "end_time": "2023-07-23T06:34:50.433818",
     "exception": false,
     "start_time": "2023-07-23T06:34:50.415129",
     "status": "completed"
    },
    "tags": []
   },
   "outputs": [],
   "source": [
    "def get_model_outputs(X, onnx_inference_session):\n",
    "    y_pred_labels, y_pred_map = onnx_inference_session.run(\n",
    "        [\"output_label\", \"output_probability\"],\n",
    "        {\"float_input_8x8_image\": X.astype(np.float32)},\n",
    "    )\n",
    "    y_pred_probs = np.array(\n",
    "        [[probabilities[digit] for digit in range(10)] for probabilities in y_pred_map]\n",
    "    )\n",
    "\n",
    "    assert y_pred_labels.shape == (X.shape[0],)\n",
    "    assert y_pred_probs.shape == (X.shape[0], 10)\n",
    "\n",
    "    return y_pred_labels, y_pred_probs\n",
    "\n",
    "\n",
    "# Note: as shown in the training notebook, the predicted labels and probabilities\n",
    "# computed below need not be compatible.\n",
    "y_pred_labels_test, y_pred_probs_test = get_model_outputs(\n",
    "    X_test, onnx_inference_session\n",
    ")"
   ]
  },
  {
   "cell_type": "markdown",
   "id": "bc55f8e7",
   "metadata": {
    "papermill": {
     "duration": 0.004209,
     "end_time": "2023-07-23T06:34:50.442908",
     "exception": false,
     "start_time": "2023-07-23T06:34:50.438699",
     "status": "completed"
    },
    "tags": []
   },
   "source": [
    "### Confusion matrix"
   ]
  },
  {
   "cell_type": "code",
   "execution_count": 11,
   "id": "11444bc1",
   "metadata": {
    "execution": {
     "iopub.execute_input": "2023-07-23T06:34:50.457462Z",
     "iopub.status.busy": "2023-07-23T06:34:50.456817Z",
     "iopub.status.idle": "2023-07-23T06:34:50.460826Z",
     "shell.execute_reply": "2023-07-23T06:34:50.460210Z"
    },
    "papermill": {
     "duration": 0.015038,
     "end_time": "2023-07-23T06:34:50.462159",
     "exception": false,
     "start_time": "2023-07-23T06:34:50.447121",
     "status": "completed"
    },
    "tags": []
   },
   "outputs": [],
   "source": [
    "# TODO"
   ]
  },
  {
   "cell_type": "markdown",
   "id": "ce731d9f",
   "metadata": {
    "papermill": {
     "duration": 0.004298,
     "end_time": "2023-07-23T06:34:50.470928",
     "exception": false,
     "start_time": "2023-07-23T06:34:50.466630",
     "status": "completed"
    },
    "tags": []
   },
   "source": [
    "### Plot predicted probabilities for each classifier over all evaluation digit images"
   ]
  },
  {
   "cell_type": "code",
   "execution_count": 12,
   "id": "0c0aa028",
   "metadata": {
    "execution": {
     "iopub.execute_input": "2023-07-23T06:34:50.481156Z",
     "iopub.status.busy": "2023-07-23T06:34:50.480522Z",
     "iopub.status.idle": "2023-07-23T06:34:53.819319Z",
     "shell.execute_reply": "2023-07-23T06:34:53.818619Z"
    },
    "papermill": {
     "duration": 3.345747,
     "end_time": "2023-07-23T06:34:53.820945",
     "exception": false,
     "start_time": "2023-07-23T06:34:50.475198",
     "status": "completed"
    },
    "tags": []
   },
   "outputs": [
    {
     "data": {
      "image/png": "[encoded data removed]",
      "text/plain": [
       "<Figure size 1600x600 with 10 Axes>"
      ]
     },
     "metadata": {},
     "output_type": "display_data"
    }
   ],
   "source": [
    "def plot_per_digit_probabilities(y_pred_probs):\n",
    "    fig, axs = plt.subplots(nrows=2, ncols=5, figsize=(16, 6))\n",
    "\n",
    "    for (r, c), digit, ax in zip(\n",
    "        it.product(range(2), range(5)), range(10), axs.reshape(-1)\n",
    "    ):\n",
    "        ax.hist(y_pred_probs_test[:, digit], bins=20)\n",
    "\n",
    "        ax.set_title(f\"Digit {digit}\")\n",
    "        if r == 1 and c == 2:\n",
    "            ax.set_xlabel(\"probability\", fontsize=16)\n",
    "\n",
    "        if c == 0:\n",
    "            ax.set_ylabel(\"counts\", fontsize=16)\n",
    "        ax.set_yscale(\"log\")\n",
    "\n",
    "    fig.tight_layout()\n",
    "    fig.suptitle(\n",
    "        f\"Distributions of prediction probabilities for each digit \"\n",
    "        f\"(on evaluation data, n={y_pred_probs.shape[0]})\",\n",
    "        fontsize=20,\n",
    "    )\n",
    "    fig.tight_layout()\n",
    "    fig.show()\n",
    "\n",
    "    return fig\n",
    "\n",
    "\n",
    "fig = plot_per_digit_probabilities(y_pred_probs_test)"
   ]
  },
  {
   "cell_type": "markdown",
   "id": "ea4b4cb6",
   "metadata": {
    "papermill": {
     "duration": 0.00514,
     "end_time": "2023-07-23T06:34:53.832579",
     "exception": false,
     "start_time": "2023-07-23T06:34:53.827439",
     "status": "completed"
    },
    "tags": []
   },
   "source": [
    "From the above distributions we see that most digits have clear separation between\n",
    "high and lower probabilities. Morover, in each case there is roughly an order of\n",
    "magnitude more of digits with low probabilities. This is compatible with digits\n",
    "being roughly evenly distributed in the data."
   ]
  },
  {
   "cell_type": "code",
   "execution_count": 13,
   "id": "dd58021e",
   "metadata": {
    "execution": {
     "iopub.execute_input": "2023-07-23T06:34:53.844623Z",
     "iopub.status.busy": "2023-07-23T06:34:53.843929Z",
     "iopub.status.idle": "2023-07-23T06:34:54.400263Z",
     "shell.execute_reply": "2023-07-23T06:34:54.399568Z"
    },
    "papermill": {
     "duration": 0.564343,
     "end_time": "2023-07-23T06:34:54.402037",
     "exception": false,
     "start_time": "2023-07-23T06:34:53.837694",
     "status": "completed"
    },
    "tags": []
   },
   "outputs": [],
   "source": [
    "ctx.log_figure(\"per-digit-probabilities.png\", fig)"
   ]
  },
  {
   "cell_type": "markdown",
   "id": "5c79e179",
   "metadata": {
    "papermill": {
     "duration": 0.005117,
     "end_time": "2023-07-23T06:34:54.412594",
     "exception": false,
     "start_time": "2023-07-23T06:34:54.407477",
     "status": "completed"
    },
    "tags": []
   },
   "source": [
    "### Plot ROC curves for individual one-vs-rest classifiers"
   ]
  },
  {
   "cell_type": "code",
   "execution_count": 14,
   "id": "f41420bd",
   "metadata": {
    "execution": {
     "iopub.execute_input": "2023-07-23T06:34:54.424717Z",
     "iopub.status.busy": "2023-07-23T06:34:54.424197Z",
     "iopub.status.idle": "2023-07-23T06:34:54.713833Z",
     "shell.execute_reply": "2023-07-23T06:34:54.713161Z"
    },
    "papermill": {
     "duration": 0.297535,
     "end_time": "2023-07-23T06:34:54.715567",
     "exception": false,
     "start_time": "2023-07-23T06:34:54.418032",
     "status": "completed"
    },
    "tags": []
   },
   "outputs": [],
   "source": [
    "from sklearn import metrics"
   ]
  },
  {
   "cell_type": "code",
   "execution_count": 15,
   "id": "0d55301d",
   "metadata": {
    "execution": {
     "iopub.execute_input": "2023-07-23T06:34:54.728407Z",
     "iopub.status.busy": "2023-07-23T06:34:54.727613Z",
     "iopub.status.idle": "2023-07-23T06:34:56.363769Z",
     "shell.execute_reply": "2023-07-23T06:34:56.362657Z"
    },
    "papermill": {
     "duration": 1.644114,
     "end_time": "2023-07-23T06:34:56.365487",
     "exception": false,
     "start_time": "2023-07-23T06:34:54.721373",
     "status": "completed"
    },
    "tags": []
   },
   "outputs": [
    {
     "data": {
      "image/png": "[encoded data removed]",
      "text/plain": [
       "<Figure size 1600x800 with 10 Axes>"
      ]
     },
     "metadata": {},
     "output_type": "display_data"
    }
   ],
   "source": [
    "def plot_roc_curves(y, y_pred_probs):\n",
    "    # based on example code\n",
    "    # https://scikit-learn.org/stable/auto_examples/model_selection/plot_roc.html\n",
    "\n",
    "    fig, axs = plt.subplots(nrows=2, ncols=5, figsize=(16, 8))\n",
    "\n",
    "    roc_auc_dict = {}\n",
    "\n",
    "    for (r, c), digit, ax in zip(\n",
    "        it.product(range(2), range(5)), range(10), axs.reshape(-1)\n",
    "    ):\n",
    "        fpr, tpr, _ = metrics.roc_curve(y == digit, y_pred_probs[:, digit])\n",
    "        auc = metrics.auc(fpr, tpr)\n",
    "        roc_auc_dict[str(digit)] = auc\n",
    "\n",
    "        ax.plot(fpr, tpr, label=f\"ROC AUC={round(auc, 3)}\")\n",
    "\n",
    "        ax.set_title(f\"\\nDigit {digit}\", fontsize=16)\n",
    "        if r == 1:\n",
    "            ax.set_xlabel(\"FPR\", fontsize=18)\n",
    "\n",
    "        if c == 0:\n",
    "            ax.set_ylabel(\"TPR\", fontsize=18)\n",
    "\n",
    "        ax.set_xlim([-0.05, 1.05])\n",
    "        ax.set_ylim([-0.05, 1.05])\n",
    "        ax.legend(loc=\"lower right\", frameon=False, fontsize=14)\n",
    "\n",
    "    fig.tight_layout()\n",
    "    fig.suptitle(\n",
    "        f\"ROC plots for one-vs-rest performances \"\n",
    "        f\"(on evaluation data, n={y_pred_probs_test.shape[1]}\",\n",
    "        fontsize=22,\n",
    "    )\n",
    "    fig.tight_layout()\n",
    "    fig.show()\n",
    "\n",
    "    return roc_auc_dict, fig\n",
    "\n",
    "\n",
    "roc_auc_dict, fig = plot_roc_curves(y_test, y_pred_probs_test)"
   ]
  },
  {
   "cell_type": "code",
   "execution_count": 16,
   "id": "56a0dc5a",
   "metadata": {
    "execution": {
     "iopub.execute_input": "2023-07-23T06:34:56.380070Z",
     "iopub.status.busy": "2023-07-23T06:34:56.379307Z",
     "iopub.status.idle": "2023-07-23T06:34:56.684861Z",
     "shell.execute_reply": "2023-07-23T06:34:56.684155Z"
    },
    "papermill": {
     "duration": 0.314896,
     "end_time": "2023-07-23T06:34:56.686967",
     "exception": false,
     "start_time": "2023-07-23T06:34:56.372071",
     "status": "completed"
    },
    "tags": []
   },
   "outputs": [],
   "source": [
    "ctx.log_figure(\"per-digit-roc-curves.png\", fig)"
   ]
  },
  {
   "cell_type": "code",
   "execution_count": 17,
   "id": "0015e86d",
   "metadata": {
    "execution": {
     "iopub.execute_input": "2023-07-23T06:34:56.702924Z",
     "iopub.status.busy": "2023-07-23T06:34:56.702300Z",
     "iopub.status.idle": "2023-07-23T06:34:56.709203Z",
     "shell.execute_reply": "2023-07-23T06:34:56.708600Z"
    },
    "papermill": {
     "duration": 0.017584,
     "end_time": "2023-07-23T06:34:56.710802",
     "exception": false,
     "start_time": "2023-07-23T06:34:56.693218",
     "status": "completed"
    },
    "tags": []
   },
   "outputs": [
    {
     "data": {
      "text/plain": [
       "{'0': 1.0,\n",
       " '1': 0.9988003748828491,\n",
       " '2': 1.0,\n",
       " '3': 0.9998125585754452,\n",
       " '4': 0.9994665447340345,\n",
       " '5': 0.9991377694470478,\n",
       " '6': 0.999923792104862,\n",
       " '7': 0.9998856881572931,\n",
       " '8': 0.9932613493064313,\n",
       " '9': 0.9993903368388964}"
      ]
     },
     "execution_count": 17,
     "metadata": {},
     "output_type": "execute_result"
    }
   ],
   "source": [
    "roc_auc_dict"
   ]
  },
  {
   "cell_type": "code",
   "execution_count": 18,
   "id": "32aaaf46",
   "metadata": {
    "execution": {
     "iopub.execute_input": "2023-07-23T06:34:56.725067Z",
     "iopub.status.busy": "2023-07-23T06:34:56.724378Z",
     "iopub.status.idle": "2023-07-23T06:34:56.729528Z",
     "shell.execute_reply": "2023-07-23T06:34:56.728916Z"
    },
    "papermill": {
     "duration": 0.013624,
     "end_time": "2023-07-23T06:34:56.730931",
     "exception": false,
     "start_time": "2023-07-23T06:34:56.717307",
     "status": "completed"
    },
    "tags": []
   },
   "outputs": [
    {
     "name": "stdout",
     "output_type": "stream",
     "text": [
      " - Logging roc_auc_per_digit (json) : {'0': 1.0, '1': 0.9988003748828491, '2': 1.0, '3': 0.9998125585754452, '4': 0.9994665447340345, '5': 0.9991377694470478, '6': 0.999923792104862, '7': 0.9998856881572931, '8': 0.9932613493064313, '9': 0.9993903368388964}\n"
     ]
    }
   ],
   "source": [
    "ctx.log_value(\"roc_auc_per_digit\", roc_auc_dict)"
   ]
  },
  {
   "cell_type": "markdown",
   "id": "53480b07",
   "metadata": {
    "papermill": {
     "duration": 0.006262,
     "end_time": "2023-07-23T06:34:56.743508",
     "exception": false,
     "start_time": "2023-07-23T06:34:56.737246",
     "status": "completed"
    },
    "tags": []
   },
   "source": [
    "### Compute and log mean ROC AUC score averaged over all digits"
   ]
  },
  {
   "cell_type": "code",
   "execution_count": 19,
   "id": "47010adb",
   "metadata": {
    "execution": {
     "iopub.execute_input": "2023-07-23T06:34:56.757937Z",
     "iopub.status.busy": "2023-07-23T06:34:56.757267Z",
     "iopub.status.idle": "2023-07-23T06:34:56.771718Z",
     "shell.execute_reply": "2023-07-23T06:34:56.771007Z"
    },
    "papermill": {
     "duration": 0.023656,
     "end_time": "2023-07-23T06:34:56.773422",
     "exception": false,
     "start_time": "2023-07-23T06:34:56.749766",
     "status": "completed"
    },
    "tags": []
   },
   "outputs": [
    {
     "name": "stdout",
     "output_type": "stream",
     "text": [
      " - Logging roc_auc_class_mean (float) : 0.9989678414046861\n"
     ]
    }
   ],
   "source": [
    "roc_auc_macro = np.mean(list(roc_auc_dict.values()))\n",
    "\n",
    "ctx.log_float(\"roc_auc_class_mean\", roc_auc_macro)\n",
    "\n",
    "# assert that the same value can be computed directly using sklearn\n",
    "assert roc_auc_macro == metrics.roc_auc_score(\n",
    "    y_test, y_pred_probs_test, average=\"macro\", multi_class=\"ovr\"\n",
    ")"
   ]
  },
  {
   "cell_type": "code",
   "execution_count": 20,
   "id": "3db6f3af",
   "metadata": {
    "execution": {
     "iopub.execute_input": "2023-07-23T06:34:56.788280Z",
     "iopub.status.busy": "2023-07-23T06:34:56.787552Z",
     "iopub.status.idle": "2023-07-23T06:34:56.791594Z",
     "shell.execute_reply": "2023-07-23T06:34:56.791055Z"
    },
    "lines_to_next_cell": 0,
    "papermill": {
     "duration": 0.013034,
     "end_time": "2023-07-23T06:34:56.793138",
     "exception": false,
     "start_time": "2023-07-23T06:34:56.780104",
     "status": "completed"
    },
    "tags": []
   },
   "outputs": [],
   "source": [
    "# ---"
   ]
  },
  {
   "cell_type": "code",
   "execution_count": null,
   "id": "c5b68dab",
   "metadata": {
    "papermill": {
     "duration": 0.00719,
     "end_time": "2023-07-23T06:34:56.806818",
     "exception": false,
     "start_time": "2023-07-23T06:34:56.799628",
     "status": "completed"
    },
    "tags": []
   },
   "outputs": [],
   "source": []
  }
 ],
 "metadata": {
  "jupytext": {
   "cell_metadata_filter": "tags,-all",
   "main_language": "python",
   "notebook_metadata_filter": "-all"
  },
  "language_info": {
   "codemirror_mode": {
    "name": "ipython",
    "version": 3
   },
   "file_extension": ".py",
   "mimetype": "text/x-python",
   "name": "python",
   "nbconvert_exporter": "python",
   "pygments_lexer": "ipython3",
   "version": "3.8.10"
  },
  "papermill": {
   "default_parameters": {},
   "duration": 10.796261,
   "end_time": "2023-07-23T06:34:58.843106",
   "environment_variables": {},
   "exception": null,
   "input_path": "/tmp/temp-notebook-ck4u7pcm.ipynb",
   "output_path": "/tmp/temp-notebook-ck4u7pcm.ipynb",
   "parameters": {
    "P": {
     "_parameters_actor_name": "parameter_for_task_0xb0de84cefc1afd84",
     "task.nr_train_images": 800
    }
   },
   "start_time": "2023-07-23T06:34:48.046845",
   "version": "2.4.0"
  }
 },
 "nbformat": 4,
 "nbformat_minor": 5
}