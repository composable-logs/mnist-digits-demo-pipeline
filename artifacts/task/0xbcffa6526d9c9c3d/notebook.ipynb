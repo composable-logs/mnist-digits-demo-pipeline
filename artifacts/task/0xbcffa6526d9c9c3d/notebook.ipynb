{
 "cells": [
  {
   "cell_type": "markdown",
   "id": "adc5a6a1",
   "metadata": {
    "papermill": {
     "duration": 0.005671,
     "end_time": "2023-07-27T06:34:55.338148",
     "exception": false,
     "start_time": "2023-07-27T06:34:55.332477",
     "status": "completed"
    },
    "tags": []
   },
   "source": [
    "# Benchmark model\n",
    "\n",
    "The purpose of this notebook is to benchmark persisted onnx-model (trained in the\n",
    "previous step) against evaluation set."
   ]
  },
  {
   "cell_type": "markdown",
   "id": "60737cc9",
   "metadata": {
    "papermill": {
     "duration": 0.003958,
     "end_time": "2023-07-27T06:34:55.348667",
     "exception": false,
     "start_time": "2023-07-27T06:34:55.344709",
     "status": "completed"
    },
    "tags": []
   },
   "source": [
    "### Determine run parameters"
   ]
  },
  {
   "cell_type": "code",
   "execution_count": 1,
   "id": "80107385",
   "metadata": {
    "execution": {
     "iopub.execute_input": "2023-07-27T06:34:55.358485Z",
     "iopub.status.busy": "2023-07-27T06:34:55.358169Z",
     "iopub.status.idle": "2023-07-27T06:34:55.366084Z",
     "shell.execute_reply": "2023-07-27T06:34:55.365238Z"
    },
    "lines_to_next_cell": 0,
    "papermill": {
     "duration": 0.019732,
     "end_time": "2023-07-27T06:34:55.372400",
     "exception": false,
     "start_time": "2023-07-27T06:34:55.352668",
     "status": "completed"
    },
    "tags": []
   },
   "outputs": [],
   "source": [
    "# ----------------- Parameters for interactive development --------------\n",
    "P = {\n",
    "    \"workflow.data_lake_root\": \"/pipeline-outputs/data-lake\",\n",
    "    \"task.nr_train_images\": 600,\n",
    "}"
   ]
  },
  {
   "cell_type": "code",
   "execution_count": 2,
   "id": "8a276c97",
   "metadata": {
    "execution": {
     "iopub.execute_input": "2023-07-27T06:34:55.381559Z",
     "iopub.status.busy": "2023-07-27T06:34:55.381314Z",
     "iopub.status.idle": "2023-07-27T06:34:55.385440Z",
     "shell.execute_reply": "2023-07-27T06:34:55.384894Z"
    },
    "lines_to_next_cell": 0,
    "papermill": {
     "duration": 0.010741,
     "end_time": "2023-07-27T06:34:55.387047",
     "exception": false,
     "start_time": "2023-07-27T06:34:55.376306",
     "status": "completed"
    },
    "tags": [
     "parameters"
    ]
   },
   "outputs": [],
   "source": [
    "# - During automated runs parameters will be injected in the below cell -"
   ]
  },
  {
   "cell_type": "code",
   "execution_count": 3,
   "id": "12813384",
   "metadata": {
    "execution": {
     "iopub.execute_input": "2023-07-27T06:34:55.395865Z",
     "iopub.status.busy": "2023-07-27T06:34:55.395652Z",
     "iopub.status.idle": "2023-07-27T06:34:55.400159Z",
     "shell.execute_reply": "2023-07-27T06:34:55.399624Z"
    },
    "papermill": {
     "duration": 0.010873,
     "end_time": "2023-07-27T06:34:55.401724",
     "exception": false,
     "start_time": "2023-07-27T06:34:55.390851",
     "status": "completed"
    },
    "tags": [
     "injected-parameters"
    ]
   },
   "outputs": [],
   "source": [
    "# Parameters\n",
    "P = {\n",
    "    \"task.nr_train_images\": 1200,\n",
    "    \"_parameters_actor_name\": \"parameter_for_task_0xbcffa6526d9c9c3d\",\n",
    "}\n"
   ]
  },
  {
   "cell_type": "code",
   "execution_count": 4,
   "id": "4a7d7fac",
   "metadata": {
    "execution": {
     "iopub.execute_input": "2023-07-27T06:34:55.410614Z",
     "iopub.status.busy": "2023-07-27T06:34:55.410403Z",
     "iopub.status.idle": "2023-07-27T06:34:55.414197Z",
     "shell.execute_reply": "2023-07-27T06:34:55.413691Z"
    },
    "lines_to_next_cell": 0,
    "papermill": {
     "duration": 0.010369,
     "end_time": "2023-07-27T06:34:55.415992",
     "exception": false,
     "start_time": "2023-07-27T06:34:55.405623",
     "status": "completed"
    },
    "tags": []
   },
   "outputs": [],
   "source": [
    "# -----------------------------------------------------------------------"
   ]
  },
  {
   "cell_type": "markdown",
   "id": "0c8ed9e1",
   "metadata": {
    "papermill": {
     "duration": 0.005409,
     "end_time": "2023-07-27T06:34:55.425222",
     "exception": false,
     "start_time": "2023-07-27T06:34:55.419813",
     "status": "completed"
    },
    "tags": []
   },
   "source": [
    "---"
   ]
  },
  {
   "cell_type": "markdown",
   "id": "ac61ea5e",
   "metadata": {
    "lines_to_next_cell": 2,
    "papermill": {
     "duration": 0.003841,
     "end_time": "2023-07-27T06:34:55.432945",
     "exception": false,
     "start_time": "2023-07-27T06:34:55.429104",
     "status": "completed"
    },
    "tags": []
   },
   "source": [
    "### Notebook code"
   ]
  },
  {
   "cell_type": "code",
   "execution_count": 5,
   "id": "7b01ffd4",
   "metadata": {
    "execution": {
     "iopub.execute_input": "2023-07-27T06:34:55.442026Z",
     "iopub.status.busy": "2023-07-27T06:34:55.441791Z",
     "iopub.status.idle": "2023-07-27T06:34:56.351907Z",
     "shell.execute_reply": "2023-07-27T06:34:56.351190Z"
    },
    "papermill": {
     "duration": 0.917216,
     "end_time": "2023-07-27T06:34:56.354096",
     "exception": false,
     "start_time": "2023-07-27T06:34:55.436880",
     "status": "completed"
    },
    "tags": []
   },
   "outputs": [
    {
     "name": "stderr",
     "output_type": "stream",
     "text": [
      "2023-07-27 06:34:56,245\tINFO worker.py:1364 -- Connecting to existing Ray cluster at address: 172.17.0.2:46840...\n"
     ]
    },
    {
     "name": "stderr",
     "output_type": "stream",
     "text": [
      "2023-07-27 06:34:56,263\tINFO worker.py:1544 -- Connected to Ray cluster. View the dashboard at \u001b[1m\u001b[32mhttp://127.0.0.1:8265 \u001b[39m\u001b[22m\n"
     ]
    },
    {
     "name": "stderr",
     "output_type": "stream",
     "text": [
      "/home/host_user/.local/lib/python3.8/site-packages/ray/runtime_context.py:27: RayDeprecationWarning: This API is deprecated and may be removed in future Ray releases. You could suppress this warning by setting env variable PYTHONWARNINGS=\"ignore::DeprecationWarning\"\n",
      "Use get_job_id() instead\n",
      "  \"job_id\": self.job_id,\n",
      "/home/host_user/.local/lib/python3.8/site-packages/ray/runtime_context.py:28: RayDeprecationWarning: This API is deprecated and may be removed in future Ray releases. You could suppress this warning by setting env variable PYTHONWARNINGS=\"ignore::DeprecationWarning\"\n",
      "Use get_node_id() instead\n",
      "  \"node_id\": self.node_id,\n"
     ]
    }
   ],
   "source": [
    "import itertools as it\n",
    "\n",
    "#\n",
    "import numpy as np\n",
    "import matplotlib.pyplot as plt\n",
    "\n",
    "#\n",
    "from composable_logs.tasks.task_opentelemetry_logging import get_task_context\n",
    "\n",
    "#\n",
    "from common.io import datalake_root\n",
    "\n",
    "ctx = get_task_context(P)"
   ]
  },
  {
   "cell_type": "markdown",
   "id": "73b43bce",
   "metadata": {
    "papermill": {
     "duration": 0.004594,
     "end_time": "2023-07-27T06:34:56.363658",
     "exception": false,
     "start_time": "2023-07-27T06:34:56.359064",
     "status": "completed"
    },
    "tags": []
   },
   "source": [
    "## Load persisted onnx-model and evaluation data"
   ]
  },
  {
   "cell_type": "code",
   "execution_count": 6,
   "id": "0db36d7c",
   "metadata": {
    "execution": {
     "iopub.execute_input": "2023-07-27T06:34:56.373401Z",
     "iopub.status.busy": "2023-07-27T06:34:56.373150Z",
     "iopub.status.idle": "2023-07-27T06:34:56.377666Z",
     "shell.execute_reply": "2023-07-27T06:34:56.377086Z"
    },
    "papermill": {
     "duration": 0.01154,
     "end_time": "2023-07-27T06:34:56.379295",
     "exception": false,
     "start_time": "2023-07-27T06:34:56.367755",
     "status": "completed"
    },
    "tags": []
   },
   "outputs": [],
   "source": [
    "from common.io import read_onnx, get_onnx_inputs, get_onnx_outputs, read_numpy"
   ]
  },
  {
   "cell_type": "code",
   "execution_count": 7,
   "id": "e2bebac2",
   "metadata": {
    "execution": {
     "iopub.execute_input": "2023-07-27T06:34:56.389298Z",
     "iopub.status.busy": "2023-07-27T06:34:56.389075Z",
     "iopub.status.idle": "2023-07-27T06:34:56.411587Z",
     "shell.execute_reply": "2023-07-27T06:34:56.399810Z"
    },
    "lines_to_next_cell": 0,
    "papermill": {
     "duration": 0.038771,
     "end_time": "2023-07-27T06:34:56.422463",
     "exception": false,
     "start_time": "2023-07-27T06:34:56.383692",
     "status": "completed"
    },
    "tags": []
   },
   "outputs": [],
   "source": [
    "onnx_inference_session = read_onnx(\n",
    "    datalake_root(ctx)\n",
    "    / \"models\"\n",
    "    / f\"nr_train_images={ctx.parameters['task.nr_train_images']}\"\n",
    "    / \"model.onnx\"\n",
    ")"
   ]
  },
  {
   "cell_type": "markdown",
   "id": "e0a67dd9",
   "metadata": {
    "papermill": {
     "duration": 0.011584,
     "end_time": "2023-07-27T06:34:56.444537",
     "exception": false,
     "start_time": "2023-07-27T06:34:56.432953",
     "status": "completed"
    },
    "tags": []
   },
   "source": [
    "### Record structure of inputs and outputs for ONNX model\n",
    "\n",
    "(this should likely be done in training notebook)"
   ]
  },
  {
   "cell_type": "code",
   "execution_count": 8,
   "id": "0cb4a8d2",
   "metadata": {
    "execution": {
     "iopub.execute_input": "2023-07-27T06:34:56.466824Z",
     "iopub.status.busy": "2023-07-27T06:34:56.466505Z",
     "iopub.status.idle": "2023-07-27T06:34:56.473217Z",
     "shell.execute_reply": "2023-07-27T06:34:56.472573Z"
    },
    "papermill": {
     "duration": 0.014023,
     "end_time": "2023-07-27T06:34:56.474730",
     "exception": false,
     "start_time": "2023-07-27T06:34:56.460707",
     "status": "completed"
    },
    "tags": []
   },
   "outputs": [
    {
     "name": "stdout",
     "output_type": "stream",
     "text": [
      "{\n",
      "  \"inputs\": [\n",
      "    {\n",
      "      \"name\": \"float_input_8x8_image\",\n",
      "      \"shape\": [\n",
      "        null,\n",
      "        64\n",
      "      ],\n",
      "      \"type\": \"tensor(float)\"\n",
      "    }\n",
      "  ],\n",
      "  \"outputs\": [\n",
      "    {\n",
      "      \"name\": \"output_label\",\n",
      "      \"shape\": [\n",
      "        null\n",
      "      ],\n",
      "      \"type\": \"tensor(int64)\"\n",
      "    },\n",
      "    {\n",
      "      \"name\": \"output_probability\",\n",
      "      \"shape\": [],\n",
      "      \"type\": \"seq(map(int64,tensor(float)))\"\n",
      "    }\n",
      "  ]\n",
      "}\n"
     ]
    }
   ],
   "source": [
    "import json\n",
    "\n",
    "onnx_io = json.dumps(\n",
    "    {\n",
    "        \"inputs\": get_onnx_inputs(onnx_inference_session),\n",
    "        \"outputs\": get_onnx_outputs(onnx_inference_session),\n",
    "    },\n",
    "    indent=2,\n",
    ")\n",
    "\n",
    "\n",
    "ctx.log_artefact(\"onnx_io_structure.json\", onnx_io)\n",
    "print(onnx_io)"
   ]
  },
  {
   "cell_type": "markdown",
   "id": "55ec5109",
   "metadata": {
    "papermill": {
     "duration": 0.004431,
     "end_time": "2023-07-27T06:34:56.483552",
     "exception": false,
     "start_time": "2023-07-27T06:34:56.479121",
     "status": "completed"
    },
    "tags": []
   },
   "source": [
    "### Evaluate model performance on evaluation data set"
   ]
  },
  {
   "cell_type": "code",
   "execution_count": 9,
   "id": "62fc10f5",
   "metadata": {
    "execution": {
     "iopub.execute_input": "2023-07-27T06:34:56.495804Z",
     "iopub.status.busy": "2023-07-27T06:34:56.494591Z",
     "iopub.status.idle": "2023-07-27T06:34:56.501595Z",
     "shell.execute_reply": "2023-07-27T06:34:56.501040Z"
    },
    "papermill": {
     "duration": 0.015591,
     "end_time": "2023-07-27T06:34:56.503695",
     "exception": false,
     "start_time": "2023-07-27T06:34:56.488104",
     "status": "completed"
    },
    "tags": []
   },
   "outputs": [],
   "source": [
    "# load evaluation data\n",
    "X_test = read_numpy(datalake_root(ctx) / \"test-data\" / \"digits.numpy\")\n",
    "y_test = read_numpy(datalake_root(ctx) / \"test-data\" / \"labels.numpy\")"
   ]
  },
  {
   "cell_type": "code",
   "execution_count": 10,
   "id": "1aa94f4a",
   "metadata": {
    "execution": {
     "iopub.execute_input": "2023-07-27T06:34:56.513635Z",
     "iopub.status.busy": "2023-07-27T06:34:56.513417Z",
     "iopub.status.idle": "2023-07-27T06:34:56.527695Z",
     "shell.execute_reply": "2023-07-27T06:34:56.527120Z"
    },
    "papermill": {
     "duration": 0.021337,
     "end_time": "2023-07-27T06:34:56.529324",
     "exception": false,
     "start_time": "2023-07-27T06:34:56.507987",
     "status": "completed"
    },
    "tags": []
   },
   "outputs": [],
   "source": [
    "def get_model_outputs(X, onnx_inference_session):\n",
    "    y_pred_labels, y_pred_map = onnx_inference_session.run(\n",
    "        [\"output_label\", \"output_probability\"],\n",
    "        {\"float_input_8x8_image\": X.astype(np.float32)},\n",
    "    )\n",
    "    y_pred_probs = np.array(\n",
    "        [[probabilities[digit] for digit in range(10)] for probabilities in y_pred_map]\n",
    "    )\n",
    "\n",
    "    assert y_pred_labels.shape == (X.shape[0],)\n",
    "    assert y_pred_probs.shape == (X.shape[0], 10)\n",
    "\n",
    "    return y_pred_labels, y_pred_probs\n",
    "\n",
    "\n",
    "# Note: as shown in the training notebook, the predicted labels and probabilities\n",
    "# computed below need not be compatible.\n",
    "y_pred_labels_test, y_pred_probs_test = get_model_outputs(\n",
    "    X_test, onnx_inference_session\n",
    ")"
   ]
  },
  {
   "cell_type": "markdown",
   "id": "fdd3fd3a",
   "metadata": {
    "papermill": {
     "duration": 0.00427,
     "end_time": "2023-07-27T06:34:56.538136",
     "exception": false,
     "start_time": "2023-07-27T06:34:56.533866",
     "status": "completed"
    },
    "tags": []
   },
   "source": [
    "### Confusion matrix"
   ]
  },
  {
   "cell_type": "code",
   "execution_count": 11,
   "id": "3442aa7f",
   "metadata": {
    "execution": {
     "iopub.execute_input": "2023-07-27T06:34:56.548301Z",
     "iopub.status.busy": "2023-07-27T06:34:56.548075Z",
     "iopub.status.idle": "2023-07-27T06:34:56.552144Z",
     "shell.execute_reply": "2023-07-27T06:34:56.551608Z"
    },
    "papermill": {
     "duration": 0.011562,
     "end_time": "2023-07-27T06:34:56.553940",
     "exception": false,
     "start_time": "2023-07-27T06:34:56.542378",
     "status": "completed"
    },
    "tags": []
   },
   "outputs": [],
   "source": [
    "# TODO"
   ]
  },
  {
   "cell_type": "markdown",
   "id": "00eefb09",
   "metadata": {
    "papermill": {
     "duration": 0.004571,
     "end_time": "2023-07-27T06:34:56.569929",
     "exception": false,
     "start_time": "2023-07-27T06:34:56.565358",
     "status": "completed"
    },
    "tags": []
   },
   "source": [
    "### Plot predicted probabilities for each classifier over all evaluation digit images"
   ]
  },
  {
   "cell_type": "code",
   "execution_count": 12,
   "id": "325c9c6b",
   "metadata": {
    "execution": {
     "iopub.execute_input": "2023-07-27T06:34:56.580202Z",
     "iopub.status.busy": "2023-07-27T06:34:56.579867Z",
     "iopub.status.idle": "2023-07-27T06:35:00.734472Z",
     "shell.execute_reply": "2023-07-27T06:35:00.731230Z"
    },
    "papermill": {
     "duration": 4.165804,
     "end_time": "2023-07-27T06:35:00.740172",
     "exception": false,
     "start_time": "2023-07-27T06:34:56.574368",
     "status": "completed"
    },
    "tags": []
   },
   "outputs": [
    {
     "data": {
      "image/png": "[encoded data removed]",
      "text/plain": [
       "<Figure size 1600x600 with 10 Axes>"
      ]
     },
     "metadata": {},
     "output_type": "display_data"
    }
   ],
   "source": [
    "def plot_per_digit_probabilities(y_pred_probs):\n",
    "    fig, axs = plt.subplots(nrows=2, ncols=5, figsize=(16, 6))\n",
    "\n",
    "    for (r, c), digit, ax in zip(\n",
    "        it.product(range(2), range(5)), range(10), axs.reshape(-1)\n",
    "    ):\n",
    "        ax.hist(y_pred_probs_test[:, digit], bins=20)\n",
    "\n",
    "        ax.set_title(f\"Digit {digit}\")\n",
    "        if r == 1 and c == 2:\n",
    "            ax.set_xlabel(\"probability\", fontsize=16)\n",
    "\n",
    "        if c == 0:\n",
    "            ax.set_ylabel(\"counts\", fontsize=16)\n",
    "        ax.set_yscale(\"log\")\n",
    "\n",
    "    fig.tight_layout()\n",
    "    fig.suptitle(\n",
    "        f\"Distributions of prediction probabilities for each digit \"\n",
    "        f\"(on evaluation data, n={y_pred_probs.shape[0]})\",\n",
    "        fontsize=20,\n",
    "    )\n",
    "    fig.tight_layout()\n",
    "    fig.show()\n",
    "\n",
    "    return fig\n",
    "\n",
    "\n",
    "fig = plot_per_digit_probabilities(y_pred_probs_test)"
   ]
  },
  {
   "cell_type": "markdown",
   "id": "76b28e08",
   "metadata": {
    "papermill": {
     "duration": 0.011918,
     "end_time": "2023-07-27T06:35:00.763522",
     "exception": false,
     "start_time": "2023-07-27T06:35:00.751604",
     "status": "completed"
    },
    "tags": []
   },
   "source": [
    "From the above distributions we see that most digits have clear separation between\n",
    "high and lower probabilities. Morover, in each case there is roughly an order of\n",
    "magnitude more of digits with low probabilities. This is compatible with digits\n",
    "being roughly evenly distributed in the data."
   ]
  },
  {
   "cell_type": "code",
   "execution_count": 13,
   "id": "a39b3993",
   "metadata": {
    "execution": {
     "iopub.execute_input": "2023-07-27T06:35:00.788127Z",
     "iopub.status.busy": "2023-07-27T06:35:00.787809Z",
     "iopub.status.idle": "2023-07-27T06:35:01.479508Z",
     "shell.execute_reply": "2023-07-27T06:35:01.478667Z"
    },
    "papermill": {
     "duration": 0.712072,
     "end_time": "2023-07-27T06:35:01.487283",
     "exception": false,
     "start_time": "2023-07-27T06:35:00.775211",
     "status": "completed"
    },
    "tags": []
   },
   "outputs": [],
   "source": [
    "ctx.log_figure(\"per-digit-probabilities.png\", fig)"
   ]
  },
  {
   "cell_type": "markdown",
   "id": "aea600ca",
   "metadata": {
    "papermill": {
     "duration": 0.005855,
     "end_time": "2023-07-27T06:35:01.500613",
     "exception": false,
     "start_time": "2023-07-27T06:35:01.494758",
     "status": "completed"
    },
    "tags": []
   },
   "source": [
    "### Plot ROC curves for individual one-vs-rest classifiers"
   ]
  },
  {
   "cell_type": "code",
   "execution_count": 14,
   "id": "2700761c",
   "metadata": {
    "execution": {
     "iopub.execute_input": "2023-07-27T06:35:01.512754Z",
     "iopub.status.busy": "2023-07-27T06:35:01.512447Z",
     "iopub.status.idle": "2023-07-27T06:35:01.855394Z",
     "shell.execute_reply": "2023-07-27T06:35:01.854635Z"
    },
    "papermill": {
     "duration": 0.354919,
     "end_time": "2023-07-27T06:35:01.860749",
     "exception": false,
     "start_time": "2023-07-27T06:35:01.505830",
     "status": "completed"
    },
    "tags": []
   },
   "outputs": [],
   "source": [
    "from sklearn import metrics"
   ]
  },
  {
   "cell_type": "code",
   "execution_count": 15,
   "id": "72aa1f17",
   "metadata": {
    "execution": {
     "iopub.execute_input": "2023-07-27T06:35:01.873398Z",
     "iopub.status.busy": "2023-07-27T06:35:01.873123Z",
     "iopub.status.idle": "2023-07-27T06:35:03.815866Z",
     "shell.execute_reply": "2023-07-27T06:35:03.815212Z"
    },
    "papermill": {
     "duration": 1.951407,
     "end_time": "2023-07-27T06:35:03.817884",
     "exception": false,
     "start_time": "2023-07-27T06:35:01.866477",
     "status": "completed"
    },
    "tags": []
   },
   "outputs": [
    {
     "data": {
      "image/png": "[encoded data removed]",
      "text/plain": [
       "<Figure size 1600x800 with 10 Axes>"
      ]
     },
     "metadata": {},
     "output_type": "display_data"
    }
   ],
   "source": [
    "def plot_roc_curves(y, y_pred_probs):\n",
    "    # based on example code\n",
    "    # https://scikit-learn.org/stable/auto_examples/model_selection/plot_roc.html\n",
    "\n",
    "    fig, axs = plt.subplots(nrows=2, ncols=5, figsize=(16, 8))\n",
    "\n",
    "    roc_auc_dict = {}\n",
    "\n",
    "    for (r, c), digit, ax in zip(\n",
    "        it.product(range(2), range(5)), range(10), axs.reshape(-1)\n",
    "    ):\n",
    "        fpr, tpr, _ = metrics.roc_curve(y == digit, y_pred_probs[:, digit])\n",
    "        auc = metrics.auc(fpr, tpr)\n",
    "        roc_auc_dict[str(digit)] = auc\n",
    "\n",
    "        ax.plot(fpr, tpr, label=f\"ROC AUC={round(auc, 3)}\")\n",
    "\n",
    "        ax.set_title(f\"\\nDigit {digit}\", fontsize=16)\n",
    "        if r == 1:\n",
    "            ax.set_xlabel(\"FPR\", fontsize=18)\n",
    "\n",
    "        if c == 0:\n",
    "            ax.set_ylabel(\"TPR\", fontsize=18)\n",
    "\n",
    "        ax.set_xlim([-0.05, 1.05])\n",
    "        ax.set_ylim([-0.05, 1.05])\n",
    "        ax.legend(loc=\"lower right\", frameon=False, fontsize=14)\n",
    "\n",
    "    fig.tight_layout()\n",
    "    fig.suptitle(\n",
    "        f\"ROC plots for one-vs-rest performances \"\n",
    "        f\"(on evaluation data, n={y_pred_probs_test.shape[1]}\",\n",
    "        fontsize=22,\n",
    "    )\n",
    "    fig.tight_layout()\n",
    "    fig.show()\n",
    "\n",
    "    return roc_auc_dict, fig\n",
    "\n",
    "\n",
    "roc_auc_dict, fig = plot_roc_curves(y_test, y_pred_probs_test)"
   ]
  },
  {
   "cell_type": "code",
   "execution_count": 16,
   "id": "0d6345da",
   "metadata": {
    "execution": {
     "iopub.execute_input": "2023-07-27T06:35:03.833353Z",
     "iopub.status.busy": "2023-07-27T06:35:03.833082Z",
     "iopub.status.idle": "2023-07-27T06:35:04.200232Z",
     "shell.execute_reply": "2023-07-27T06:35:04.199560Z"
    },
    "papermill": {
     "duration": 0.377639,
     "end_time": "2023-07-27T06:35:04.202539",
     "exception": false,
     "start_time": "2023-07-27T06:35:03.824900",
     "status": "completed"
    },
    "tags": []
   },
   "outputs": [],
   "source": [
    "ctx.log_figure(\"per-digit-roc-curves.png\", fig)"
   ]
  },
  {
   "cell_type": "code",
   "execution_count": 17,
   "id": "6b3cbd66",
   "metadata": {
    "execution": {
     "iopub.execute_input": "2023-07-27T06:35:04.216920Z",
     "iopub.status.busy": "2023-07-27T06:35:04.216658Z",
     "iopub.status.idle": "2023-07-27T06:35:04.224039Z",
     "shell.execute_reply": "2023-07-27T06:35:04.223433Z"
    },
    "papermill": {
     "duration": 0.016474,
     "end_time": "2023-07-27T06:35:04.225710",
     "exception": false,
     "start_time": "2023-07-27T06:35:04.209236",
     "status": "completed"
    },
    "tags": []
   },
   "outputs": [
    {
     "data": {
      "text/plain": [
       "{'0': 1.0,\n",
       " '1': 0.9990627928772259,\n",
       " '2': 1.0,\n",
       " '3': 0.9998500468603562,\n",
       " '4': 0.9997332723670173,\n",
       " '5': 0.9997000937207123,\n",
       " '6': 0.999923792104862,\n",
       " '7': 0.9998475842097242,\n",
       " '8': 0.9957440100882724,\n",
       " '9': 0.9997332723670171}"
      ]
     },
     "execution_count": 17,
     "metadata": {},
     "output_type": "execute_result"
    }
   ],
   "source": [
    "roc_auc_dict"
   ]
  },
  {
   "cell_type": "code",
   "execution_count": 18,
   "id": "a013bfe3",
   "metadata": {
    "execution": {
     "iopub.execute_input": "2023-07-27T06:35:04.241279Z",
     "iopub.status.busy": "2023-07-27T06:35:04.241014Z",
     "iopub.status.idle": "2023-07-27T06:35:04.247385Z",
     "shell.execute_reply": "2023-07-27T06:35:04.246797Z"
    },
    "papermill": {
     "duration": 0.016227,
     "end_time": "2023-07-27T06:35:04.249111",
     "exception": false,
     "start_time": "2023-07-27T06:35:04.232884",
     "status": "completed"
    },
    "tags": []
   },
   "outputs": [
    {
     "name": "stdout",
     "output_type": "stream",
     "text": [
      " - Logging roc_auc_per_digit (json) : {'0': 1.0, '1': 0.9990627928772259, '2': 1.0, '3': 0.9998500468603562, '4': 0.9997332723670173, '5': 0.9997000937207123, '6': 0.999923792104862, '7': 0.9998475842097242, '8': 0.9957440100882724, '9': 0.9997332723670171}\n"
     ]
    }
   ],
   "source": [
    "ctx.log_value(\"roc_auc_per_digit\", roc_auc_dict)"
   ]
  },
  {
   "cell_type": "markdown",
   "id": "85f92317",
   "metadata": {
    "papermill": {
     "duration": 0.009977,
     "end_time": "2023-07-27T06:35:04.265617",
     "exception": false,
     "start_time": "2023-07-27T06:35:04.255640",
     "status": "completed"
    },
    "tags": []
   },
   "source": [
    "### Compute and log mean ROC AUC score averaged over all digits"
   ]
  },
  {
   "cell_type": "code",
   "execution_count": 19,
   "id": "ec739629",
   "metadata": {
    "execution": {
     "iopub.execute_input": "2023-07-27T06:35:04.280119Z",
     "iopub.status.busy": "2023-07-27T06:35:04.279856Z",
     "iopub.status.idle": "2023-07-27T06:35:04.293660Z",
     "shell.execute_reply": "2023-07-27T06:35:04.292981Z"
    },
    "papermill": {
     "duration": 0.023213,
     "end_time": "2023-07-27T06:35:04.295464",
     "exception": false,
     "start_time": "2023-07-27T06:35:04.272251",
     "status": "completed"
    },
    "tags": []
   },
   "outputs": [
    {
     "name": "stdout",
     "output_type": "stream",
     "text": [
      " - Logging roc_auc_class_mean (float) : 0.9993594864595187\n"
     ]
    }
   ],
   "source": [
    "roc_auc_macro = np.mean(list(roc_auc_dict.values()))\n",
    "\n",
    "ctx.log_float(\"roc_auc_class_mean\", roc_auc_macro)\n",
    "\n",
    "# assert that the same value can be computed directly using sklearn\n",
    "assert roc_auc_macro == metrics.roc_auc_score(\n",
    "    y_test, y_pred_probs_test, average=\"macro\", multi_class=\"ovr\"\n",
    ")"
   ]
  },
  {
   "cell_type": "code",
   "execution_count": 20,
   "id": "a3396240",
   "metadata": {
    "execution": {
     "iopub.execute_input": "2023-07-27T06:35:04.310177Z",
     "iopub.status.busy": "2023-07-27T06:35:04.309919Z",
     "iopub.status.idle": "2023-07-27T06:35:04.314181Z",
     "shell.execute_reply": "2023-07-27T06:35:04.313583Z"
    },
    "lines_to_next_cell": 0,
    "papermill": {
     "duration": 0.013851,
     "end_time": "2023-07-27T06:35:04.316021",
     "exception": false,
     "start_time": "2023-07-27T06:35:04.302170",
     "status": "completed"
    },
    "tags": []
   },
   "outputs": [],
   "source": [
    "# ---"
   ]
  },
  {
   "cell_type": "code",
   "execution_count": null,
   "id": "865b1c3d",
   "metadata": {
    "papermill": {
     "duration": 0.006912,
     "end_time": "2023-07-27T06:35:04.329837",
     "exception": false,
     "start_time": "2023-07-27T06:35:04.322925",
     "status": "completed"
    },
    "tags": []
   },
   "outputs": [],
   "source": []
  }
 ],
 "metadata": {
  "jupytext": {
   "cell_metadata_filter": "tags,-all",
   "main_language": "python",
   "notebook_metadata_filter": "-all"
  },
  "language_info": {
   "codemirror_mode": {
    "name": "ipython",
    "version": 3
   },
   "file_extension": ".py",
   "mimetype": "text/x-python",
   "name": "python",
   "nbconvert_exporter": "python",
   "pygments_lexer": "ipython3",
   "version": "3.8.10"
  },
  "papermill": {
   "default_parameters": {},
   "duration": 12.506965,
   "end_time": "2023-07-27T06:35:06.467894",
   "environment_variables": {},
   "exception": null,
   "input_path": "/tmp/temp-notebook-bjczzzbj.ipynb",
   "output_path": "/tmp/temp-notebook-bjczzzbj.ipynb",
   "parameters": {
    "P": {
     "_parameters_actor_name": "parameter_for_task_0xbcffa6526d9c9c3d",
     "task.nr_train_images": 1200
    }
   },
   "start_time": "2023-07-27T06:34:53.960929",
   "version": "2.4.0"
  }
 },
 "nbformat": 4,
 "nbformat_minor": 5
}