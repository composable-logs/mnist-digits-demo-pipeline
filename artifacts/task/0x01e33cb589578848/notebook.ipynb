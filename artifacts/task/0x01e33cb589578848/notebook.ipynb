{
 "cells": [
  {
   "cell_type": "markdown",
   "id": "09dc9c30",
   "metadata": {
    "papermill": {
     "duration": 0.004683,
     "end_time": "2023-07-18T06:38:13.166726",
     "exception": false,
     "start_time": "2023-07-18T06:38:13.162043",
     "status": "completed"
    },
    "tags": []
   },
   "source": [
    "# Summarize model performances\n",
    "\n",
    "This notebooks plots the performances (using averaged ROC AUC scores) for models\n",
    "trained with different training sets."
   ]
  },
  {
   "cell_type": "markdown",
   "id": "7571cd3c",
   "metadata": {
    "papermill": {
     "duration": 0.00278,
     "end_time": "2023-07-18T06:38:13.173239",
     "exception": false,
     "start_time": "2023-07-18T06:38:13.170459",
     "status": "completed"
    },
    "tags": []
   },
   "source": [
    "### Determine run parameters"
   ]
  },
  {
   "cell_type": "code",
   "execution_count": 1,
   "id": "a6a542d0",
   "metadata": {
    "execution": {
     "iopub.execute_input": "2023-07-18T06:38:13.180752Z",
     "iopub.status.busy": "2023-07-18T06:38:13.180149Z",
     "iopub.status.idle": "2023-07-18T06:38:13.191630Z",
     "shell.execute_reply": "2023-07-18T06:38:13.190875Z"
    },
    "lines_to_next_cell": 0,
    "papermill": {
     "duration": 0.017272,
     "end_time": "2023-07-18T06:38:13.193576",
     "exception": false,
     "start_time": "2023-07-18T06:38:13.176304",
     "status": "completed"
    },
    "tags": []
   },
   "outputs": [],
   "source": [
    "# ----------------- Parameters for interactive development --------------\n",
    "P = {\n",
    "    \"workflow.run_environment\": \"dev\",\n",
    "}"
   ]
  },
  {
   "cell_type": "code",
   "execution_count": 2,
   "id": "f122d76e",
   "metadata": {
    "execution": {
     "iopub.execute_input": "2023-07-18T06:38:13.202565Z",
     "iopub.status.busy": "2023-07-18T06:38:13.201886Z",
     "iopub.status.idle": "2023-07-18T06:38:13.205265Z",
     "shell.execute_reply": "2023-07-18T06:38:13.204680Z"
    },
    "lines_to_next_cell": 0,
    "papermill": {
     "duration": 0.009027,
     "end_time": "2023-07-18T06:38:13.207166",
     "exception": false,
     "start_time": "2023-07-18T06:38:13.198139",
     "status": "completed"
    },
    "tags": [
     "parameters"
    ]
   },
   "outputs": [],
   "source": [
    "# - During automated runs parameters will be injected in the below cell -"
   ]
  },
  {
   "cell_type": "code",
   "execution_count": 3,
   "id": "329e7351",
   "metadata": {
    "execution": {
     "iopub.execute_input": "2023-07-18T06:38:13.214619Z",
     "iopub.status.busy": "2023-07-18T06:38:13.213977Z",
     "iopub.status.idle": "2023-07-18T06:38:13.219088Z",
     "shell.execute_reply": "2023-07-18T06:38:13.218435Z"
    },
    "papermill": {
     "duration": 0.01072,
     "end_time": "2023-07-18T06:38:13.220645",
     "exception": false,
     "start_time": "2023-07-18T06:38:13.209925",
     "status": "completed"
    },
    "tags": [
     "injected-parameters"
    ]
   },
   "outputs": [],
   "source": [
    "# Parameters\n",
    "P = {\"_parameters_actor_name\": \"parameter_for_task_0x01e33cb589578848\"}\n"
   ]
  },
  {
   "cell_type": "code",
   "execution_count": 4,
   "id": "27beac25",
   "metadata": {
    "execution": {
     "iopub.execute_input": "2023-07-18T06:38:13.227635Z",
     "iopub.status.busy": "2023-07-18T06:38:13.227134Z",
     "iopub.status.idle": "2023-07-18T06:38:13.232041Z",
     "shell.execute_reply": "2023-07-18T06:38:13.231348Z"
    },
    "lines_to_next_cell": 0,
    "papermill": {
     "duration": 0.010374,
     "end_time": "2023-07-18T06:38:13.233738",
     "exception": false,
     "start_time": "2023-07-18T06:38:13.223364",
     "status": "completed"
    },
    "tags": []
   },
   "outputs": [],
   "source": [
    "# -----------------------------------------------------------------------"
   ]
  },
  {
   "cell_type": "markdown",
   "id": "462dfb26",
   "metadata": {
    "papermill": {
     "duration": 0.002658,
     "end_time": "2023-07-18T06:38:13.239216",
     "exception": false,
     "start_time": "2023-07-18T06:38:13.236558",
     "status": "completed"
    },
    "tags": []
   },
   "source": [
    "---"
   ]
  },
  {
   "cell_type": "markdown",
   "id": "2f35411d",
   "metadata": {
    "lines_to_next_cell": 2,
    "papermill": {
     "duration": 0.004112,
     "end_time": "2023-07-18T06:38:13.246046",
     "exception": false,
     "start_time": "2023-07-18T06:38:13.241934",
     "status": "completed"
    },
    "tags": []
   },
   "source": [
    "### Notebook code"
   ]
  },
  {
   "cell_type": "code",
   "execution_count": 5,
   "id": "6f80083d",
   "metadata": {
    "execution": {
     "iopub.execute_input": "2023-07-18T06:38:13.253655Z",
     "iopub.status.busy": "2023-07-18T06:38:13.252883Z",
     "iopub.status.idle": "2023-07-18T06:38:14.354572Z",
     "shell.execute_reply": "2023-07-18T06:38:14.353765Z"
    },
    "papermill": {
     "duration": 1.108007,
     "end_time": "2023-07-18T06:38:14.356890",
     "exception": false,
     "start_time": "2023-07-18T06:38:13.248883",
     "status": "completed"
    },
    "tags": []
   },
   "outputs": [],
   "source": [
    "#\n",
    "import pandas as pd\n",
    "import matplotlib.pyplot as plt\n",
    "\n",
    "#\n",
    "from composable_logs.tasks.task_opentelemetry_logging import get_task_context"
   ]
  },
  {
   "cell_type": "code",
   "execution_count": 6,
   "id": "ccb12703",
   "metadata": {
    "execution": {
     "iopub.execute_input": "2023-07-18T06:38:14.365654Z",
     "iopub.status.busy": "2023-07-18T06:38:14.364722Z",
     "iopub.status.idle": "2023-07-18T06:38:14.445938Z",
     "shell.execute_reply": "2023-07-18T06:38:14.444553Z"
    },
    "papermill": {
     "duration": 0.087633,
     "end_time": "2023-07-18T06:38:14.447971",
     "exception": false,
     "start_time": "2023-07-18T06:38:14.360338",
     "status": "completed"
    },
    "tags": []
   },
   "outputs": [
    {
     "name": "stderr",
     "output_type": "stream",
     "text": [
      "2023-07-18 06:38:14,368\tINFO worker.py:1364 -- Connecting to existing Ray cluster at address: 172.17.0.2:50938...\n"
     ]
    },
    {
     "name": "stderr",
     "output_type": "stream",
     "text": [
      "2023-07-18 06:38:14,376\tINFO worker.py:1544 -- Connected to Ray cluster. View the dashboard at \u001b[1m\u001b[32mhttp://127.0.0.1:8265 \u001b[39m\u001b[22m\n"
     ]
    },
    {
     "name": "stderr",
     "output_type": "stream",
     "text": [
      "/home/host_user/.local/lib/python3.8/site-packages/ray/runtime_context.py:27: RayDeprecationWarning: This API is deprecated and may be removed in future Ray releases. You could suppress this warning by setting env variable PYTHONWARNINGS=\"ignore::DeprecationWarning\"\n",
      "Use get_job_id() instead\n",
      "  \"job_id\": self.job_id,\n",
      "/home/host_user/.local/lib/python3.8/site-packages/ray/runtime_context.py:28: RayDeprecationWarning: This API is deprecated and may be removed in future Ray releases. You could suppress this warning by setting env variable PYTHONWARNINGS=\"ignore::DeprecationWarning\"\n",
      "Use get_node_id() instead\n",
      "  \"node_id\": self.node_id,\n"
     ]
    }
   ],
   "source": [
    "logger = get_task_context(P)"
   ]
  },
  {
   "cell_type": "code",
   "execution_count": 7,
   "id": "e93324d3",
   "metadata": {
    "execution": {
     "iopub.execute_input": "2023-07-18T06:38:14.456318Z",
     "iopub.status.busy": "2023-07-18T06:38:14.455528Z",
     "iopub.status.idle": "2023-07-18T06:38:14.459047Z",
     "shell.execute_reply": "2023-07-18T06:38:14.458472Z"
    },
    "papermill": {
     "duration": 0.0094,
     "end_time": "2023-07-18T06:38:14.460527",
     "exception": false,
     "start_time": "2023-07-18T06:38:14.451127",
     "status": "completed"
    },
    "tags": []
   },
   "outputs": [],
   "source": [
    "from composable_logs.tasks.task_opentelemetry_logging import get_logged_values\n",
    "from composable_logs.opentelemetry_helpers import _get_all_spans, Spans"
   ]
  },
  {
   "cell_type": "code",
   "execution_count": 8,
   "id": "52a68749",
   "metadata": {
    "execution": {
     "iopub.execute_input": "2023-07-18T06:38:14.468603Z",
     "iopub.status.busy": "2023-07-18T06:38:14.468076Z",
     "iopub.status.idle": "2023-07-18T06:38:14.477422Z",
     "shell.execute_reply": "2023-07-18T06:38:14.476647Z"
    },
    "papermill": {
     "duration": 0.015427,
     "end_time": "2023-07-18T06:38:14.479055",
     "exception": false,
     "start_time": "2023-07-18T06:38:14.463628",
     "status": "completed"
    },
    "tags": []
   },
   "outputs": [],
   "source": [
    "def get_model_benchmarks():\n",
    "    \"\"\"\n",
    "    Query the OpenTelemetry logs for *this pipeline run* and return\n",
    "    all key-values logged from all runs of the benchmark-model.py task\n",
    "\n",
    "    For testing a json file with OpenTelemetry spans (as an array)\n",
    "    can be used as follows:\n",
    "\n",
    "    - Create output directory `mkdir /tmp/spans`\n",
    "    - Run unit tests. This will create pipeline-outputs/opentelemetry-spans.json\n",
    "    - Convert this json-array into jsonl format as follows\n",
    "\n",
    "    jq -c '.[]' /pipeline-outputs/opentelemetry-spans.json > /tmp/spans/data.txt\n",
    "\n",
    "    \"\"\"\n",
    "    spans: Spans = Spans(_get_all_spans())\n",
    "    print(f\" - Found {len(spans)} spans\")\n",
    "\n",
    "    benchmark_spans = (\n",
    "        spans\n",
    "        # -\n",
    "        .filter([\"name\"], \"execute-task\")\n",
    "        # -\n",
    "        .filter([\"attributes\", \"task.id\"], \"benchmark-model\")\n",
    "    )\n",
    "\n",
    "    result = []\n",
    "    for s in benchmark_spans:\n",
    "        result.append(\n",
    "            {\n",
    "                \"span_id\": s[\"context\"][\"span_id\"],\n",
    "                \"nr_train_images\": s[\"attributes\"][\"task.nr_train_images\"],\n",
    "                \"data\": get_logged_values(spans.bound_under(s)),\n",
    "            }\n",
    "        )\n",
    "\n",
    "    return result\n",
    "\n",
    "\n",
    "def adjust_pandas(df):\n",
    "    def column_renamer(col_name: str) -> str:\n",
    "        return (\n",
    "            col_name\n",
    "            # -- 'data.roc_auc_per_digit.4' -> 'roc_auc.4'\n",
    "            .replace(\"data.roc_auc_per_digit\", \"roc_auc\")\n",
    "            # -- 'data.roc_auc_class_mean' -> 'roc_auc_mean'\n",
    "            .replace(\"data.roc_auc_class_mean\", \"roc_auc_mean\")\n",
    "        )\n",
    "\n",
    "    return df.rename(column_renamer, axis=\"columns\").sort_values(by=\"nr_train_images\")"
   ]
  },
  {
   "cell_type": "code",
   "execution_count": 9,
   "id": "cf558a33",
   "metadata": {
    "execution": {
     "iopub.execute_input": "2023-07-18T06:38:14.486978Z",
     "iopub.status.busy": "2023-07-18T06:38:14.486458Z",
     "iopub.status.idle": "2023-07-18T06:38:14.602496Z",
     "shell.execute_reply": "2023-07-18T06:38:14.601798Z"
    },
    "papermill": {
     "duration": 0.12224,
     "end_time": "2023-07-18T06:38:14.604587",
     "exception": false,
     "start_time": "2023-07-18T06:38:14.482347",
     "status": "completed"
    },
    "tags": []
   },
   "outputs": [
    {
     "name": "stdout",
     "output_type": "stream",
     "text": [
      " - Found 250 spans\n"
     ]
    }
   ],
   "source": [
    "\n",
    "df_data = adjust_pandas(pd.json_normalize(get_model_benchmarks()))"
   ]
  },
  {
   "cell_type": "code",
   "execution_count": 10,
   "id": "01de25a5",
   "metadata": {
    "execution": {
     "iopub.execute_input": "2023-07-18T06:38:14.613012Z",
     "iopub.status.busy": "2023-07-18T06:38:14.612545Z",
     "iopub.status.idle": "2023-07-18T06:38:14.647070Z",
     "shell.execute_reply": "2023-07-18T06:38:14.646399Z"
    },
    "papermill": {
     "duration": 0.040663,
     "end_time": "2023-07-18T06:38:14.648808",
     "exception": false,
     "start_time": "2023-07-18T06:38:14.608145",
     "status": "completed"
    },
    "tags": []
   },
   "outputs": [
    {
     "data": {
      "text/html": [
       "<div>\n",
       "<style scoped>\n",
       "    .dataframe tbody tr th:only-of-type {\n",
       "        vertical-align: middle;\n",
       "    }\n",
       "\n",
       "    .dataframe tbody tr th {\n",
       "        vertical-align: top;\n",
       "    }\n",
       "\n",
       "    .dataframe thead th {\n",
       "        text-align: right;\n",
       "    }\n",
       "</style>\n",
       "<table border=\"1\" class=\"dataframe\">\n",
       "  <thead>\n",
       "    <tr style=\"text-align: right;\">\n",
       "      <th></th>\n",
       "      <th>span_id</th>\n",
       "      <th>nr_train_images</th>\n",
       "      <th>roc_auc_mean</th>\n",
       "      <th>roc_auc.0</th>\n",
       "      <th>roc_auc.1</th>\n",
       "      <th>roc_auc.2</th>\n",
       "      <th>roc_auc.3</th>\n",
       "      <th>roc_auc.4</th>\n",
       "      <th>roc_auc.5</th>\n",
       "      <th>roc_auc.6</th>\n",
       "      <th>roc_auc.7</th>\n",
       "      <th>roc_auc.8</th>\n",
       "      <th>roc_auc.9</th>\n",
       "    </tr>\n",
       "  </thead>\n",
       "  <tbody>\n",
       "    <tr>\n",
       "      <th>1</th>\n",
       "      <td>0x9cd9a141340e9e72</td>\n",
       "      <td>600</td>\n",
       "      <td>0.9989</td>\n",
       "      <td>1.0</td>\n",
       "      <td>0.9992</td>\n",
       "      <td>1.0</td>\n",
       "      <td>0.9997</td>\n",
       "      <td>0.9992</td>\n",
       "      <td>0.9990</td>\n",
       "      <td>0.9999</td>\n",
       "      <td>0.9998</td>\n",
       "      <td>0.9939</td>\n",
       "      <td>0.9987</td>\n",
       "    </tr>\n",
       "    <tr>\n",
       "      <th>2</th>\n",
       "      <td>0xfba832ec3e3f4b89</td>\n",
       "      <td>800</td>\n",
       "      <td>0.9989</td>\n",
       "      <td>1.0</td>\n",
       "      <td>0.9988</td>\n",
       "      <td>1.0</td>\n",
       "      <td>0.9998</td>\n",
       "      <td>0.9995</td>\n",
       "      <td>0.9991</td>\n",
       "      <td>1.0000</td>\n",
       "      <td>0.9999</td>\n",
       "      <td>0.9926</td>\n",
       "      <td>0.9994</td>\n",
       "    </tr>\n",
       "    <tr>\n",
       "      <th>0</th>\n",
       "      <td>0x0d3f8f363daf3668</td>\n",
       "      <td>1000</td>\n",
       "      <td>0.9992</td>\n",
       "      <td>1.0</td>\n",
       "      <td>0.9990</td>\n",
       "      <td>1.0</td>\n",
       "      <td>0.9999</td>\n",
       "      <td>0.9996</td>\n",
       "      <td>0.9994</td>\n",
       "      <td>0.9999</td>\n",
       "      <td>0.9998</td>\n",
       "      <td>0.9951</td>\n",
       "      <td>0.9996</td>\n",
       "    </tr>\n",
       "    <tr>\n",
       "      <th>3</th>\n",
       "      <td>0x8a58c428bd27ba24</td>\n",
       "      <td>1200</td>\n",
       "      <td>0.9993</td>\n",
       "      <td>1.0</td>\n",
       "      <td>0.9990</td>\n",
       "      <td>1.0</td>\n",
       "      <td>0.9999</td>\n",
       "      <td>0.9998</td>\n",
       "      <td>0.9997</td>\n",
       "      <td>0.9999</td>\n",
       "      <td>0.9998</td>\n",
       "      <td>0.9956</td>\n",
       "      <td>0.9998</td>\n",
       "    </tr>\n",
       "  </tbody>\n",
       "</table>\n",
       "</div>"
      ],
      "text/plain": [
       "              span_id  nr_train_images  roc_auc_mean  roc_auc.0  roc_auc.1  \\\n",
       "1  0x9cd9a141340e9e72              600        0.9989        1.0     0.9992   \n",
       "2  0xfba832ec3e3f4b89              800        0.9989        1.0     0.9988   \n",
       "0  0x0d3f8f363daf3668             1000        0.9992        1.0     0.9990   \n",
       "3  0x8a58c428bd27ba24             1200        0.9993        1.0     0.9990   \n",
       "\n",
       "   roc_auc.2  roc_auc.3  roc_auc.4  roc_auc.5  roc_auc.6  roc_auc.7  \\\n",
       "1        1.0     0.9997     0.9992     0.9990     0.9999     0.9998   \n",
       "2        1.0     0.9998     0.9995     0.9991     1.0000     0.9999   \n",
       "0        1.0     0.9999     0.9996     0.9994     0.9999     0.9998   \n",
       "3        1.0     0.9999     0.9998     0.9997     0.9999     0.9998   \n",
       "\n",
       "   roc_auc.8  roc_auc.9  \n",
       "1     0.9939     0.9987  \n",
       "2     0.9926     0.9994  \n",
       "0     0.9951     0.9996  \n",
       "3     0.9956     0.9998  "
      ]
     },
     "execution_count": 10,
     "metadata": {},
     "output_type": "execute_result"
    }
   ],
   "source": [
    "df_data.round(4)"
   ]
  },
  {
   "cell_type": "code",
   "execution_count": 11,
   "id": "1f869af0",
   "metadata": {
    "execution": {
     "iopub.execute_input": "2023-07-18T06:38:14.657551Z",
     "iopub.status.busy": "2023-07-18T06:38:14.656982Z",
     "iopub.status.idle": "2023-07-18T06:38:14.872582Z",
     "shell.execute_reply": "2023-07-18T06:38:14.871600Z"
    },
    "papermill": {
     "duration": 0.223768,
     "end_time": "2023-07-18T06:38:14.876166",
     "exception": false,
     "start_time": "2023-07-18T06:38:14.652398",
     "status": "completed"
    },
    "tags": []
   },
   "outputs": [
    {
     "data": {
      "image/png": "[encoded data removed]",
      "text/plain": [
       "<Figure size 1600x400 with 1 Axes>"
      ]
     },
     "metadata": {},
     "output_type": "display_data"
    }
   ],
   "source": [
    "def plot_classifier_performance_summary(df_data):\n",
    "    fig, ax = plt.subplots(nrows=1, ncols=1, figsize=(16, 4), sharex=True)\n",
    "\n",
    "    #\n",
    "    ax.plot(\n",
    "        df_data[\"nr_train_images\"], df_data[\"roc_auc_mean\"], marker=\"o\", linestyle=\"--\"\n",
    "    )\n",
    "    ax.set_title(\n",
    "        f\"ROC AUC digit classifier performance on evaluation digits\", fontsize=17\n",
    "    )\n",
    "    ax.set_xlabel(\"Total number of digits in training set\", fontsize=14)\n",
    "    ax.set_ylabel(\"Mean ROC AUC\", fontsize=14)\n",
    "\n",
    "    fig.tight_layout()\n",
    "    fig.show()\n",
    "\n",
    "    return fig\n",
    "\n",
    "\n",
    "fig = plot_classifier_performance_summary(df_data)"
   ]
  },
  {
   "cell_type": "code",
   "execution_count": 12,
   "id": "2f7628bc",
   "metadata": {
    "execution": {
     "iopub.execute_input": "2023-07-18T06:38:14.889001Z",
     "iopub.status.busy": "2023-07-18T06:38:14.888553Z",
     "iopub.status.idle": "2023-07-18T06:38:14.966718Z",
     "shell.execute_reply": "2023-07-18T06:38:14.966103Z"
    },
    "papermill": {
     "duration": 0.088671,
     "end_time": "2023-07-18T06:38:14.969602",
     "exception": false,
     "start_time": "2023-07-18T06:38:14.880931",
     "status": "completed"
    },
    "tags": []
   },
   "outputs": [],
   "source": [
    "logger.log_figure(\"auc-roc-model-performances.png\", fig)"
   ]
  },
  {
   "cell_type": "code",
   "execution_count": 13,
   "id": "91cc639a",
   "metadata": {
    "execution": {
     "iopub.execute_input": "2023-07-18T06:38:14.981288Z",
     "iopub.status.busy": "2023-07-18T06:38:14.980960Z",
     "iopub.status.idle": "2023-07-18T06:38:14.985136Z",
     "shell.execute_reply": "2023-07-18T06:38:14.984483Z"
    },
    "papermill": {
     "duration": 0.016729,
     "end_time": "2023-07-18T06:38:14.991881",
     "exception": false,
     "start_time": "2023-07-18T06:38:14.975152",
     "status": "completed"
    },
    "tags": []
   },
   "outputs": [],
   "source": [
    "###"
   ]
  },
  {
   "cell_type": "code",
   "execution_count": null,
   "id": "d115886b",
   "metadata": {
    "papermill": {
     "duration": 0.005479,
     "end_time": "2023-07-18T06:38:15.002533",
     "exception": false,
     "start_time": "2023-07-18T06:38:14.997054",
     "status": "completed"
    },
    "tags": []
   },
   "outputs": [],
   "source": []
  }
 ],
 "metadata": {
  "jupytext": {
   "cell_metadata_filter": "tags,-all",
   "main_language": "python",
   "notebook_metadata_filter": "-all"
  },
  "language_info": {
   "codemirror_mode": {
    "name": "ipython",
    "version": 3
   },
   "file_extension": ".py",
   "mimetype": "text/x-python",
   "name": "python",
   "nbconvert_exporter": "python",
   "pygments_lexer": "ipython3",
   "version": "3.8.10"
  },
  "papermill": {
   "default_parameters": {},
   "duration": 5.24221,
   "end_time": "2023-07-18T06:38:17.039488",
   "environment_variables": {},
   "exception": null,
   "input_path": "/tmp/temp-notebook-0tcvng2_.ipynb",
   "output_path": "/tmp/temp-notebook-0tcvng2_.ipynb",
   "parameters": {
    "P": {
     "_parameters_actor_name": "parameter_for_task_0x01e33cb589578848"
    }
   },
   "start_time": "2023-07-18T06:38:11.797278",
   "version": "2.4.0"
  }
 },
 "nbformat": 4,
 "nbformat_minor": 5
}