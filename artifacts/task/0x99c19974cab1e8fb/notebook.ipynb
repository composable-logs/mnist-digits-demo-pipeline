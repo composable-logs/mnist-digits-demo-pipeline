{
 "cells": [
  {
   "cell_type": "markdown",
   "id": "9bcbedad",
   "metadata": {
    "papermill": {
     "duration": 0.00562,
     "end_time": "2023-07-28T06:34:53.255532",
     "exception": false,
     "start_time": "2023-07-28T06:34:53.249912",
     "status": "completed"
    },
    "tags": []
   },
   "source": [
    "# Benchmark model\n",
    "\n",
    "The purpose of this notebook is to benchmark persisted onnx-model (trained in the\n",
    "previous step) against evaluation set."
   ]
  },
  {
   "cell_type": "markdown",
   "id": "857f8ab0",
   "metadata": {
    "papermill": {
     "duration": 0.004145,
     "end_time": "2023-07-28T06:34:53.266531",
     "exception": false,
     "start_time": "2023-07-28T06:34:53.262386",
     "status": "completed"
    },
    "tags": []
   },
   "source": [
    "### Determine run parameters"
   ]
  },
  {
   "cell_type": "code",
   "execution_count": 1,
   "id": "83d33d75",
   "metadata": {
    "execution": {
     "iopub.execute_input": "2023-07-28T06:34:53.277546Z",
     "iopub.status.busy": "2023-07-28T06:34:53.277265Z",
     "iopub.status.idle": "2023-07-28T06:34:53.286345Z",
     "shell.execute_reply": "2023-07-28T06:34:53.285655Z"
    },
    "lines_to_next_cell": 0,
    "papermill": {
     "duration": 0.016773,
     "end_time": "2023-07-28T06:34:53.288314",
     "exception": false,
     "start_time": "2023-07-28T06:34:53.271541",
     "status": "completed"
    },
    "tags": []
   },
   "outputs": [],
   "source": [
    "# ----------------- Parameters for interactive development --------------\n",
    "P = {\n",
    "    \"workflow.data_lake_root\": \"/pipeline-outputs/data-lake\",\n",
    "    \"task.nr_train_images\": 600,\n",
    "}"
   ]
  },
  {
   "cell_type": "code",
   "execution_count": 2,
   "id": "318fe347",
   "metadata": {
    "execution": {
     "iopub.execute_input": "2023-07-28T06:34:53.298764Z",
     "iopub.status.busy": "2023-07-28T06:34:53.298492Z",
     "iopub.status.idle": "2023-07-28T06:34:53.309652Z",
     "shell.execute_reply": "2023-07-28T06:34:53.304740Z"
    },
    "lines_to_next_cell": 0,
    "papermill": {
     "duration": 0.019831,
     "end_time": "2023-07-28T06:34:53.312413",
     "exception": false,
     "start_time": "2023-07-28T06:34:53.292582",
     "status": "completed"
    },
    "tags": [
     "parameters"
    ]
   },
   "outputs": [],
   "source": [
    "# - During automated runs parameters will be injected in the below cell -"
   ]
  },
  {
   "cell_type": "code",
   "execution_count": 3,
   "id": "077fd2cf",
   "metadata": {
    "execution": {
     "iopub.execute_input": "2023-07-28T06:34:53.322433Z",
     "iopub.status.busy": "2023-07-28T06:34:53.322162Z",
     "iopub.status.idle": "2023-07-28T06:34:53.325511Z",
     "shell.execute_reply": "2023-07-28T06:34:53.324957Z"
    },
    "papermill": {
     "duration": 0.010785,
     "end_time": "2023-07-28T06:34:53.327476",
     "exception": false,
     "start_time": "2023-07-28T06:34:53.316691",
     "status": "completed"
    },
    "tags": [
     "injected-parameters"
    ]
   },
   "outputs": [],
   "source": [
    "# Parameters\n",
    "P = {\n",
    "    \"task.nr_train_images\": 800,\n",
    "    \"_parameters_actor_name\": \"parameter_for_task_0x99c19974cab1e8fb\",\n",
    "}\n"
   ]
  },
  {
   "cell_type": "code",
   "execution_count": 4,
   "id": "8af8a2fe",
   "metadata": {
    "execution": {
     "iopub.execute_input": "2023-07-28T06:34:53.338201Z",
     "iopub.status.busy": "2023-07-28T06:34:53.337934Z",
     "iopub.status.idle": "2023-07-28T06:34:53.342431Z",
     "shell.execute_reply": "2023-07-28T06:34:53.341807Z"
    },
    "lines_to_next_cell": 0,
    "papermill": {
     "duration": 0.01257,
     "end_time": "2023-07-28T06:34:53.344327",
     "exception": false,
     "start_time": "2023-07-28T06:34:53.331757",
     "status": "completed"
    },
    "tags": []
   },
   "outputs": [],
   "source": [
    "# -----------------------------------------------------------------------"
   ]
  },
  {
   "cell_type": "markdown",
   "id": "64b65a2d",
   "metadata": {
    "papermill": {
     "duration": 0.004285,
     "end_time": "2023-07-28T06:34:53.352974",
     "exception": false,
     "start_time": "2023-07-28T06:34:53.348689",
     "status": "completed"
    },
    "tags": []
   },
   "source": [
    "---"
   ]
  },
  {
   "cell_type": "markdown",
   "id": "9f1199c4",
   "metadata": {
    "lines_to_next_cell": 2,
    "papermill": {
     "duration": 0.004098,
     "end_time": "2023-07-28T06:34:53.361315",
     "exception": false,
     "start_time": "2023-07-28T06:34:53.357217",
     "status": "completed"
    },
    "tags": []
   },
   "source": [
    "### Notebook code"
   ]
  },
  {
   "cell_type": "code",
   "execution_count": 5,
   "id": "2bb63c87",
   "metadata": {
    "execution": {
     "iopub.execute_input": "2023-07-28T06:34:53.371616Z",
     "iopub.status.busy": "2023-07-28T06:34:53.371335Z",
     "iopub.status.idle": "2023-07-28T06:34:54.427617Z",
     "shell.execute_reply": "2023-07-28T06:34:54.426016Z"
    },
    "papermill": {
     "duration": 1.064384,
     "end_time": "2023-07-28T06:34:54.430102",
     "exception": false,
     "start_time": "2023-07-28T06:34:53.365718",
     "status": "completed"
    },
    "tags": []
   },
   "outputs": [
    {
     "name": "stderr",
     "output_type": "stream",
     "text": [
      "2023-07-28 06:34:54,310\tINFO worker.py:1364 -- Connecting to existing Ray cluster at address: 172.17.0.2:54600...\n"
     ]
    },
    {
     "name": "stderr",
     "output_type": "stream",
     "text": [
      "2023-07-28 06:34:54,328\tINFO worker.py:1544 -- Connected to Ray cluster. View the dashboard at \u001b[1m\u001b[32mhttp://127.0.0.1:8265 \u001b[39m\u001b[22m\n"
     ]
    },
    {
     "name": "stderr",
     "output_type": "stream",
     "text": [
      "/home/host_user/.local/lib/python3.8/site-packages/ray/runtime_context.py:27: RayDeprecationWarning: This API is deprecated and may be removed in future Ray releases. You could suppress this warning by setting env variable PYTHONWARNINGS=\"ignore::DeprecationWarning\"\n",
      "Use get_job_id() instead\n",
      "  \"job_id\": self.job_id,\n",
      "/home/host_user/.local/lib/python3.8/site-packages/ray/runtime_context.py:28: RayDeprecationWarning: This API is deprecated and may be removed in future Ray releases. You could suppress this warning by setting env variable PYTHONWARNINGS=\"ignore::DeprecationWarning\"\n",
      "Use get_node_id() instead\n",
      "  \"node_id\": self.node_id,\n"
     ]
    }
   ],
   "source": [
    "import itertools as it\n",
    "\n",
    "#\n",
    "import numpy as np\n",
    "import matplotlib.pyplot as plt\n",
    "\n",
    "#\n",
    "from composable_logs.tasks.task_opentelemetry_logging import get_task_context\n",
    "\n",
    "#\n",
    "from common.io import datalake_root\n",
    "\n",
    "ctx = get_task_context(P)"
   ]
  },
  {
   "cell_type": "markdown",
   "id": "6a7f1638",
   "metadata": {
    "papermill": {
     "duration": 0.004367,
     "end_time": "2023-07-28T06:34:54.439061",
     "exception": false,
     "start_time": "2023-07-28T06:34:54.434694",
     "status": "completed"
    },
    "tags": []
   },
   "source": [
    "## Load persisted onnx-model and evaluation data"
   ]
  },
  {
   "cell_type": "code",
   "execution_count": 6,
   "id": "06dbfd41",
   "metadata": {
    "execution": {
     "iopub.execute_input": "2023-07-28T06:34:54.469586Z",
     "iopub.status.busy": "2023-07-28T06:34:54.468988Z",
     "iopub.status.idle": "2023-07-28T06:34:54.475612Z",
     "shell.execute_reply": "2023-07-28T06:34:54.474045Z"
    },
    "papermill": {
     "duration": 0.016929,
     "end_time": "2023-07-28T06:34:54.477803",
     "exception": false,
     "start_time": "2023-07-28T06:34:54.460874",
     "status": "completed"
    },
    "tags": []
   },
   "outputs": [],
   "source": [
    "from common.io import read_onnx, get_onnx_inputs, get_onnx_outputs, read_numpy"
   ]
  },
  {
   "cell_type": "code",
   "execution_count": 7,
   "id": "0cf961d8",
   "metadata": {
    "execution": {
     "iopub.execute_input": "2023-07-28T06:34:54.488894Z",
     "iopub.status.busy": "2023-07-28T06:34:54.488607Z",
     "iopub.status.idle": "2023-07-28T06:34:54.502053Z",
     "shell.execute_reply": "2023-07-28T06:34:54.498074Z"
    },
    "lines_to_next_cell": 0,
    "papermill": {
     "duration": 0.021862,
     "end_time": "2023-07-28T06:34:54.504342",
     "exception": false,
     "start_time": "2023-07-28T06:34:54.482480",
     "status": "completed"
    },
    "tags": []
   },
   "outputs": [],
   "source": [
    "onnx_inference_session = read_onnx(\n",
    "    datalake_root(ctx)\n",
    "    / \"models\"\n",
    "    / f\"nr_train_images={ctx.parameters['task.nr_train_images']}\"\n",
    "    / \"model.onnx\"\n",
    ")"
   ]
  },
  {
   "cell_type": "markdown",
   "id": "72700b4c",
   "metadata": {
    "papermill": {
     "duration": 0.005004,
     "end_time": "2023-07-28T06:34:54.514882",
     "exception": false,
     "start_time": "2023-07-28T06:34:54.509878",
     "status": "completed"
    },
    "tags": []
   },
   "source": [
    "### Record structure of inputs and outputs for ONNX model\n",
    "\n",
    "(this should likely be done in training notebook)"
   ]
  },
  {
   "cell_type": "code",
   "execution_count": 8,
   "id": "a910f599",
   "metadata": {
    "execution": {
     "iopub.execute_input": "2023-07-28T06:34:54.526039Z",
     "iopub.status.busy": "2023-07-28T06:34:54.525746Z",
     "iopub.status.idle": "2023-07-28T06:34:54.533424Z",
     "shell.execute_reply": "2023-07-28T06:34:54.532730Z"
    },
    "papermill": {
     "duration": 0.015379,
     "end_time": "2023-07-28T06:34:54.535277",
     "exception": false,
     "start_time": "2023-07-28T06:34:54.519898",
     "status": "completed"
    },
    "tags": []
   },
   "outputs": [
    {
     "name": "stdout",
     "output_type": "stream",
     "text": [
      "{\n",
      "  \"inputs\": [\n",
      "    {\n",
      "      \"name\": \"float_input_8x8_image\",\n",
      "      \"shape\": [\n",
      "        null,\n",
      "        64\n",
      "      ],\n",
      "      \"type\": \"tensor(float)\"\n",
      "    }\n",
      "  ],\n",
      "  \"outputs\": [\n",
      "    {\n",
      "      \"name\": \"output_label\",\n",
      "      \"shape\": [\n",
      "        null\n",
      "      ],\n",
      "      \"type\": \"tensor(int64)\"\n",
      "    },\n",
      "    {\n",
      "      \"name\": \"output_probability\",\n",
      "      \"shape\": [],\n",
      "      \"type\": \"seq(map(int64,tensor(float)))\"\n",
      "    }\n",
      "  ]\n",
      "}\n"
     ]
    }
   ],
   "source": [
    "import json\n",
    "\n",
    "onnx_io = json.dumps(\n",
    "    {\n",
    "        \"inputs\": get_onnx_inputs(onnx_inference_session),\n",
    "        \"outputs\": get_onnx_outputs(onnx_inference_session),\n",
    "    },\n",
    "    indent=2,\n",
    ")\n",
    "\n",
    "\n",
    "ctx.log_artefact(\"onnx_io_structure.json\", onnx_io)\n",
    "print(onnx_io)"
   ]
  },
  {
   "cell_type": "markdown",
   "id": "dcef8859",
   "metadata": {
    "papermill": {
     "duration": 0.004665,
     "end_time": "2023-07-28T06:34:54.544803",
     "exception": false,
     "start_time": "2023-07-28T06:34:54.540138",
     "status": "completed"
    },
    "tags": []
   },
   "source": [
    "### Evaluate model performance on evaluation data set"
   ]
  },
  {
   "cell_type": "code",
   "execution_count": 9,
   "id": "0b448b2b",
   "metadata": {
    "execution": {
     "iopub.execute_input": "2023-07-28T06:34:54.558819Z",
     "iopub.status.busy": "2023-07-28T06:34:54.558524Z",
     "iopub.status.idle": "2023-07-28T06:34:54.565024Z",
     "shell.execute_reply": "2023-07-28T06:34:54.564368Z"
    },
    "papermill": {
     "duration": 0.015513,
     "end_time": "2023-07-28T06:34:54.567653",
     "exception": false,
     "start_time": "2023-07-28T06:34:54.552140",
     "status": "completed"
    },
    "tags": []
   },
   "outputs": [],
   "source": [
    "# load evaluation data\n",
    "X_test = read_numpy(datalake_root(ctx) / \"test-data\" / \"digits.numpy\")\n",
    "y_test = read_numpy(datalake_root(ctx) / \"test-data\" / \"labels.numpy\")"
   ]
  },
  {
   "cell_type": "code",
   "execution_count": 10,
   "id": "9bdce566",
   "metadata": {
    "execution": {
     "iopub.execute_input": "2023-07-28T06:34:54.578867Z",
     "iopub.status.busy": "2023-07-28T06:34:54.578590Z",
     "iopub.status.idle": "2023-07-28T06:34:54.593026Z",
     "shell.execute_reply": "2023-07-28T06:34:54.592279Z"
    },
    "papermill": {
     "duration": 0.022193,
     "end_time": "2023-07-28T06:34:54.594948",
     "exception": false,
     "start_time": "2023-07-28T06:34:54.572755",
     "status": "completed"
    },
    "tags": []
   },
   "outputs": [],
   "source": [
    "def get_model_outputs(X, onnx_inference_session):\n",
    "    y_pred_labels, y_pred_map = onnx_inference_session.run(\n",
    "        [\"output_label\", \"output_probability\"],\n",
    "        {\"float_input_8x8_image\": X.astype(np.float32)},\n",
    "    )\n",
    "    y_pred_probs = np.array(\n",
    "        [[probabilities[digit] for digit in range(10)] for probabilities in y_pred_map]\n",
    "    )\n",
    "\n",
    "    assert y_pred_labels.shape == (X.shape[0],)\n",
    "    assert y_pred_probs.shape == (X.shape[0], 10)\n",
    "\n",
    "    return y_pred_labels, y_pred_probs\n",
    "\n",
    "\n",
    "# Note: as shown in the training notebook, the predicted labels and probabilities\n",
    "# computed below need not be compatible.\n",
    "y_pred_labels_test, y_pred_probs_test = get_model_outputs(\n",
    "    X_test, onnx_inference_session\n",
    ")"
   ]
  },
  {
   "cell_type": "markdown",
   "id": "81686c93",
   "metadata": {
    "papermill": {
     "duration": 0.004688,
     "end_time": "2023-07-28T06:34:54.604875",
     "exception": false,
     "start_time": "2023-07-28T06:34:54.600187",
     "status": "completed"
    },
    "tags": []
   },
   "source": [
    "### Confusion matrix"
   ]
  },
  {
   "cell_type": "code",
   "execution_count": 11,
   "id": "e17f839b",
   "metadata": {
    "execution": {
     "iopub.execute_input": "2023-07-28T06:34:54.616811Z",
     "iopub.status.busy": "2023-07-28T06:34:54.616509Z",
     "iopub.status.idle": "2023-07-28T06:34:54.620835Z",
     "shell.execute_reply": "2023-07-28T06:34:54.620201Z"
    },
    "papermill": {
     "duration": 0.012645,
     "end_time": "2023-07-28T06:34:54.622499",
     "exception": false,
     "start_time": "2023-07-28T06:34:54.609854",
     "status": "completed"
    },
    "tags": []
   },
   "outputs": [],
   "source": [
    "# TODO"
   ]
  },
  {
   "cell_type": "markdown",
   "id": "c5ba3fef",
   "metadata": {
    "papermill": {
     "duration": 0.004984,
     "end_time": "2023-07-28T06:34:54.632464",
     "exception": false,
     "start_time": "2023-07-28T06:34:54.627480",
     "status": "completed"
    },
    "tags": []
   },
   "source": [
    "### Plot predicted probabilities for each classifier over all evaluation digit images"
   ]
  },
  {
   "cell_type": "code",
   "execution_count": 12,
   "id": "038e8d00",
   "metadata": {
    "execution": {
     "iopub.execute_input": "2023-07-28T06:34:54.643646Z",
     "iopub.status.busy": "2023-07-28T06:34:54.643343Z",
     "iopub.status.idle": "2023-07-28T06:34:58.535379Z",
     "shell.execute_reply": "2023-07-28T06:34:58.534682Z"
    },
    "papermill": {
     "duration": 3.900109,
     "end_time": "2023-07-28T06:34:58.537241",
     "exception": false,
     "start_time": "2023-07-28T06:34:54.637132",
     "status": "completed"
    },
    "tags": []
   },
   "outputs": [
    {
     "data": {
      "image/png": "[encoded data removed]",
      "text/plain": [
       "<Figure size 1600x600 with 10 Axes>"
      ]
     },
     "metadata": {},
     "output_type": "display_data"
    }
   ],
   "source": [
    "def plot_per_digit_probabilities(y_pred_probs):\n",
    "    fig, axs = plt.subplots(nrows=2, ncols=5, figsize=(16, 6))\n",
    "\n",
    "    for (r, c), digit, ax in zip(\n",
    "        it.product(range(2), range(5)), range(10), axs.reshape(-1)\n",
    "    ):\n",
    "        ax.hist(y_pred_probs_test[:, digit], bins=20)\n",
    "\n",
    "        ax.set_title(f\"Digit {digit}\")\n",
    "        if r == 1 and c == 2:\n",
    "            ax.set_xlabel(\"probability\", fontsize=16)\n",
    "\n",
    "        if c == 0:\n",
    "            ax.set_ylabel(\"counts\", fontsize=16)\n",
    "        ax.set_yscale(\"log\")\n",
    "\n",
    "    fig.tight_layout()\n",
    "    fig.suptitle(\n",
    "        f\"Distributions of prediction probabilities for each digit \"\n",
    "        f\"(on evaluation data, n={y_pred_probs.shape[0]})\",\n",
    "        fontsize=20,\n",
    "    )\n",
    "    fig.tight_layout()\n",
    "    fig.show()\n",
    "\n",
    "    return fig\n",
    "\n",
    "\n",
    "fig = plot_per_digit_probabilities(y_pred_probs_test)"
   ]
  },
  {
   "cell_type": "markdown",
   "id": "2afb91c6",
   "metadata": {
    "papermill": {
     "duration": 0.005432,
     "end_time": "2023-07-28T06:34:58.548431",
     "exception": false,
     "start_time": "2023-07-28T06:34:58.542999",
     "status": "completed"
    },
    "tags": []
   },
   "source": [
    "From the above distributions we see that most digits have clear separation between\n",
    "high and lower probabilities. Morover, in each case there is roughly an order of\n",
    "magnitude more of digits with low probabilities. This is compatible with digits\n",
    "being roughly evenly distributed in the data."
   ]
  },
  {
   "cell_type": "code",
   "execution_count": 13,
   "id": "b59b24e2",
   "metadata": {
    "execution": {
     "iopub.execute_input": "2023-07-28T06:34:58.561434Z",
     "iopub.status.busy": "2023-07-28T06:34:58.561141Z",
     "iopub.status.idle": "2023-07-28T06:34:59.469774Z",
     "shell.execute_reply": "2023-07-28T06:34:59.469011Z"
    },
    "papermill": {
     "duration": 0.923312,
     "end_time": "2023-07-28T06:34:59.477196",
     "exception": false,
     "start_time": "2023-07-28T06:34:58.553884",
     "status": "completed"
    },
    "tags": []
   },
   "outputs": [],
   "source": [
    "ctx.log_figure(\"per-digit-probabilities.png\", fig)"
   ]
  },
  {
   "cell_type": "markdown",
   "id": "88d1a7e0",
   "metadata": {
    "papermill": {
     "duration": 0.009849,
     "end_time": "2023-07-28T06:34:59.532594",
     "exception": false,
     "start_time": "2023-07-28T06:34:59.522745",
     "status": "completed"
    },
    "tags": []
   },
   "source": [
    "### Plot ROC curves for individual one-vs-rest classifiers"
   ]
  },
  {
   "cell_type": "code",
   "execution_count": 14,
   "id": "4690a6f1",
   "metadata": {
    "execution": {
     "iopub.execute_input": "2023-07-28T06:34:59.560193Z",
     "iopub.status.busy": "2023-07-28T06:34:59.559894Z",
     "iopub.status.idle": "2023-07-28T06:35:00.055534Z",
     "shell.execute_reply": "2023-07-28T06:35:00.054802Z"
    },
    "papermill": {
     "duration": 0.514824,
     "end_time": "2023-07-28T06:35:00.057593",
     "exception": false,
     "start_time": "2023-07-28T06:34:59.542769",
     "status": "completed"
    },
    "tags": []
   },
   "outputs": [],
   "source": [
    "from sklearn import metrics"
   ]
  },
  {
   "cell_type": "code",
   "execution_count": 15,
   "id": "ba204c51",
   "metadata": {
    "execution": {
     "iopub.execute_input": "2023-07-28T06:35:00.070478Z",
     "iopub.status.busy": "2023-07-28T06:35:00.070156Z",
     "iopub.status.idle": "2023-07-28T06:35:02.231770Z",
     "shell.execute_reply": "2023-07-28T06:35:02.231093Z"
    },
    "papermill": {
     "duration": 2.170577,
     "end_time": "2023-07-28T06:35:02.233783",
     "exception": false,
     "start_time": "2023-07-28T06:35:00.063206",
     "status": "completed"
    },
    "tags": []
   },
   "outputs": [
    {
     "data": {
      "image/png": "[encoded data removed]",
      "text/plain": [
       "<Figure size 1600x800 with 10 Axes>"
      ]
     },
     "metadata": {},
     "output_type": "display_data"
    }
   ],
   "source": [
    "def plot_roc_curves(y, y_pred_probs):\n",
    "    # based on example code\n",
    "    # https://scikit-learn.org/stable/auto_examples/model_selection/plot_roc.html\n",
    "\n",
    "    fig, axs = plt.subplots(nrows=2, ncols=5, figsize=(16, 8))\n",
    "\n",
    "    roc_auc_dict = {}\n",
    "\n",
    "    for (r, c), digit, ax in zip(\n",
    "        it.product(range(2), range(5)), range(10), axs.reshape(-1)\n",
    "    ):\n",
    "        fpr, tpr, _ = metrics.roc_curve(y == digit, y_pred_probs[:, digit])\n",
    "        auc = metrics.auc(fpr, tpr)\n",
    "        roc_auc_dict[str(digit)] = auc\n",
    "\n",
    "        ax.plot(fpr, tpr, label=f\"ROC AUC={round(auc, 3)}\")\n",
    "\n",
    "        ax.set_title(f\"\\nDigit {digit}\", fontsize=16)\n",
    "        if r == 1:\n",
    "            ax.set_xlabel(\"FPR\", fontsize=18)\n",
    "\n",
    "        if c == 0:\n",
    "            ax.set_ylabel(\"TPR\", fontsize=18)\n",
    "\n",
    "        ax.set_xlim([-0.05, 1.05])\n",
    "        ax.set_ylim([-0.05, 1.05])\n",
    "        ax.legend(loc=\"lower right\", frameon=False, fontsize=14)\n",
    "\n",
    "    fig.tight_layout()\n",
    "    fig.suptitle(\n",
    "        f\"ROC plots for one-vs-rest performances \"\n",
    "        f\"(on evaluation data, n={y_pred_probs_test.shape[1]}\",\n",
    "        fontsize=22,\n",
    "    )\n",
    "    fig.tight_layout()\n",
    "    fig.show()\n",
    "\n",
    "    return roc_auc_dict, fig\n",
    "\n",
    "\n",
    "roc_auc_dict, fig = plot_roc_curves(y_test, y_pred_probs_test)"
   ]
  },
  {
   "cell_type": "code",
   "execution_count": 16,
   "id": "5e776242",
   "metadata": {
    "execution": {
     "iopub.execute_input": "2023-07-28T06:35:02.248683Z",
     "iopub.status.busy": "2023-07-28T06:35:02.248388Z",
     "iopub.status.idle": "2023-07-28T06:35:02.698468Z",
     "shell.execute_reply": "2023-07-28T06:35:02.697769Z"
    },
    "papermill": {
     "duration": 0.460326,
     "end_time": "2023-07-28T06:35:02.700830",
     "exception": false,
     "start_time": "2023-07-28T06:35:02.240504",
     "status": "completed"
    },
    "tags": []
   },
   "outputs": [],
   "source": [
    "ctx.log_figure(\"per-digit-roc-curves.png\", fig)"
   ]
  },
  {
   "cell_type": "code",
   "execution_count": 17,
   "id": "7b10b50e",
   "metadata": {
    "execution": {
     "iopub.execute_input": "2023-07-28T06:35:02.715873Z",
     "iopub.status.busy": "2023-07-28T06:35:02.715579Z",
     "iopub.status.idle": "2023-07-28T06:35:02.722992Z",
     "shell.execute_reply": "2023-07-28T06:35:02.722383Z"
    },
    "papermill": {
     "duration": 0.016999,
     "end_time": "2023-07-28T06:35:02.724721",
     "exception": false,
     "start_time": "2023-07-28T06:35:02.707722",
     "status": "completed"
    },
    "tags": []
   },
   "outputs": [
    {
     "data": {
      "text/plain": [
       "{'0': 1.0,\n",
       " '1': 0.9988003748828491,\n",
       " '2': 1.0,\n",
       " '3': 0.9997750702905343,\n",
       " '4': 0.9995808565767414,\n",
       " '5': 0.9993626991565135,\n",
       " '6': 0.999923792104862,\n",
       " '7': 0.9998856881572931,\n",
       " '8': 0.9921185372005044,\n",
       " '9': 0.9995046486816034}"
      ]
     },
     "execution_count": 17,
     "metadata": {},
     "output_type": "execute_result"
    }
   ],
   "source": [
    "roc_auc_dict"
   ]
  },
  {
   "cell_type": "code",
   "execution_count": 18,
   "id": "507b8b98",
   "metadata": {
    "execution": {
     "iopub.execute_input": "2023-07-28T06:35:02.740167Z",
     "iopub.status.busy": "2023-07-28T06:35:02.739880Z",
     "iopub.status.idle": "2023-07-28T06:35:02.746309Z",
     "shell.execute_reply": "2023-07-28T06:35:02.745705Z"
    },
    "papermill": {
     "duration": 0.016484,
     "end_time": "2023-07-28T06:35:02.748245",
     "exception": false,
     "start_time": "2023-07-28T06:35:02.731761",
     "status": "completed"
    },
    "tags": []
   },
   "outputs": [
    {
     "name": "stdout",
     "output_type": "stream",
     "text": [
      " - Logging roc_auc_per_digit (json) : {'0': 1.0, '1': 0.9988003748828491, '2': 1.0, '3': 0.9997750702905343, '4': 0.9995808565767414, '5': 0.9993626991565135, '6': 0.999923792104862, '7': 0.9998856881572931, '8': 0.9921185372005044, '9': 0.9995046486816034}\n"
     ]
    }
   ],
   "source": [
    "ctx.log_value(\"roc_auc_per_digit\", roc_auc_dict)"
   ]
  },
  {
   "cell_type": "markdown",
   "id": "87d9b5ef",
   "metadata": {
    "papermill": {
     "duration": 0.007292,
     "end_time": "2023-07-28T06:35:02.762393",
     "exception": false,
     "start_time": "2023-07-28T06:35:02.755101",
     "status": "completed"
    },
    "tags": []
   },
   "source": [
    "### Compute and log mean ROC AUC score averaged over all digits"
   ]
  },
  {
   "cell_type": "code",
   "execution_count": 19,
   "id": "3548a055",
   "metadata": {
    "execution": {
     "iopub.execute_input": "2023-07-28T06:35:02.778654Z",
     "iopub.status.busy": "2023-07-28T06:35:02.778365Z",
     "iopub.status.idle": "2023-07-28T06:35:02.806532Z",
     "shell.execute_reply": "2023-07-28T06:35:02.805403Z"
    },
    "papermill": {
     "duration": 0.039467,
     "end_time": "2023-07-28T06:35:02.808578",
     "exception": false,
     "start_time": "2023-07-28T06:35:02.769111",
     "status": "completed"
    },
    "tags": []
   },
   "outputs": [
    {
     "name": "stdout",
     "output_type": "stream",
     "text": [
      " - Logging roc_auc_class_mean (float) : 0.99889516670509\n"
     ]
    }
   ],
   "source": [
    "roc_auc_macro = np.mean(list(roc_auc_dict.values()))\n",
    "\n",
    "ctx.log_float(\"roc_auc_class_mean\", roc_auc_macro)\n",
    "\n",
    "# assert that the same value can be computed directly using sklearn\n",
    "assert roc_auc_macro == metrics.roc_auc_score(\n",
    "    y_test, y_pred_probs_test, average=\"macro\", multi_class=\"ovr\"\n",
    ")"
   ]
  },
  {
   "cell_type": "code",
   "execution_count": 20,
   "id": "9bf63fa1",
   "metadata": {
    "execution": {
     "iopub.execute_input": "2023-07-28T06:35:02.824704Z",
     "iopub.status.busy": "2023-07-28T06:35:02.824414Z",
     "iopub.status.idle": "2023-07-28T06:35:02.828960Z",
     "shell.execute_reply": "2023-07-28T06:35:02.828367Z"
    },
    "lines_to_next_cell": 0,
    "papermill": {
     "duration": 0.014878,
     "end_time": "2023-07-28T06:35:02.830632",
     "exception": false,
     "start_time": "2023-07-28T06:35:02.815754",
     "status": "completed"
    },
    "tags": []
   },
   "outputs": [],
   "source": [
    "# ---"
   ]
  },
  {
   "cell_type": "code",
   "execution_count": null,
   "id": "4fea8b59",
   "metadata": {
    "papermill": {
     "duration": 0.006864,
     "end_time": "2023-07-28T06:35:02.844453",
     "exception": false,
     "start_time": "2023-07-28T06:35:02.837589",
     "status": "completed"
    },
    "tags": []
   },
   "outputs": [],
   "source": []
  }
 ],
 "metadata": {
  "jupytext": {
   "cell_metadata_filter": "tags,-all",
   "main_language": "python",
   "notebook_metadata_filter": "-all"
  },
  "language_info": {
   "codemirror_mode": {
    "name": "ipython",
    "version": 3
   },
   "file_extension": ".py",
   "mimetype": "text/x-python",
   "name": "python",
   "nbconvert_exporter": "python",
   "pygments_lexer": "ipython3",
   "version": "3.8.10"
  },
  "papermill": {
   "default_parameters": {},
   "duration": 13.142598,
   "end_time": "2023-07-28T06:35:04.889807",
   "environment_variables": {},
   "exception": null,
   "input_path": "/tmp/temp-notebook-951egy3d.ipynb",
   "output_path": "/tmp/temp-notebook-951egy3d.ipynb",
   "parameters": {
    "P": {
     "_parameters_actor_name": "parameter_for_task_0x99c19974cab1e8fb",
     "task.nr_train_images": 800
    }
   },
   "start_time": "2023-07-28T06:34:51.747209",
   "version": "2.4.0"
  }
 },
 "nbformat": 4,
 "nbformat_minor": 5
}