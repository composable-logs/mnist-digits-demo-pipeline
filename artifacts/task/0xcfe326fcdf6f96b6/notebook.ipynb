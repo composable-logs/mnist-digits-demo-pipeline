{
 "cells": [
  {
   "cell_type": "markdown",
   "id": "21080771",
   "metadata": {
    "papermill": {
     "duration": 0.005165,
     "end_time": "2023-07-19T06:36:09.634732",
     "exception": false,
     "start_time": "2023-07-19T06:36:09.629567",
     "status": "completed"
    },
    "tags": []
   },
   "source": [
    "# Benchmark model\n",
    "\n",
    "The purpose of this notebook is to benchmark persisted onnx-model (trained in the\n",
    "previous step) against evaluation set."
   ]
  },
  {
   "cell_type": "markdown",
   "id": "217d34ec",
   "metadata": {
    "papermill": {
     "duration": 0.003724,
     "end_time": "2023-07-19T06:36:09.644673",
     "exception": false,
     "start_time": "2023-07-19T06:36:09.640949",
     "status": "completed"
    },
    "tags": []
   },
   "source": [
    "### Determine run parameters"
   ]
  },
  {
   "cell_type": "code",
   "execution_count": 1,
   "id": "7ae3b07c",
   "metadata": {
    "execution": {
     "iopub.execute_input": "2023-07-19T06:36:09.653826Z",
     "iopub.status.busy": "2023-07-19T06:36:09.653216Z",
     "iopub.status.idle": "2023-07-19T06:36:09.660575Z",
     "shell.execute_reply": "2023-07-19T06:36:09.659945Z"
    },
    "lines_to_next_cell": 0,
    "papermill": {
     "duration": 0.013744,
     "end_time": "2023-07-19T06:36:09.662194",
     "exception": false,
     "start_time": "2023-07-19T06:36:09.648450",
     "status": "completed"
    },
    "tags": []
   },
   "outputs": [],
   "source": [
    "# ----------------- Parameters for interactive development --------------\n",
    "P = {\n",
    "    \"workflow.data_lake_root\": \"/pipeline-outputs/data-lake\",\n",
    "    \"task.nr_train_images\": 600,\n",
    "}"
   ]
  },
  {
   "cell_type": "code",
   "execution_count": 2,
   "id": "5c5a251d",
   "metadata": {
    "execution": {
     "iopub.execute_input": "2023-07-19T06:36:09.671222Z",
     "iopub.status.busy": "2023-07-19T06:36:09.670620Z",
     "iopub.status.idle": "2023-07-19T06:36:09.674237Z",
     "shell.execute_reply": "2023-07-19T06:36:09.673696Z"
    },
    "lines_to_next_cell": 0,
    "papermill": {
     "duration": 0.009775,
     "end_time": "2023-07-19T06:36:09.675789",
     "exception": false,
     "start_time": "2023-07-19T06:36:09.666014",
     "status": "completed"
    },
    "tags": [
     "parameters"
    ]
   },
   "outputs": [],
   "source": [
    "# - During automated runs parameters will be injected in the below cell -"
   ]
  },
  {
   "cell_type": "code",
   "execution_count": 3,
   "id": "14023f55",
   "metadata": {
    "execution": {
     "iopub.execute_input": "2023-07-19T06:36:09.684698Z",
     "iopub.status.busy": "2023-07-19T06:36:09.684474Z",
     "iopub.status.idle": "2023-07-19T06:36:09.688477Z",
     "shell.execute_reply": "2023-07-19T06:36:09.687907Z"
    },
    "papermill": {
     "duration": 0.010299,
     "end_time": "2023-07-19T06:36:09.689998",
     "exception": false,
     "start_time": "2023-07-19T06:36:09.679699",
     "status": "completed"
    },
    "tags": [
     "injected-parameters"
    ]
   },
   "outputs": [],
   "source": [
    "# Parameters\n",
    "P = {\n",
    "    \"task.nr_train_images\": 800,\n",
    "    \"_parameters_actor_name\": \"parameter_for_task_0xcfe326fcdf6f96b6\",\n",
    "}\n"
   ]
  },
  {
   "cell_type": "code",
   "execution_count": 4,
   "id": "7d0b39ae",
   "metadata": {
    "execution": {
     "iopub.execute_input": "2023-07-19T06:36:09.698989Z",
     "iopub.status.busy": "2023-07-19T06:36:09.698743Z",
     "iopub.status.idle": "2023-07-19T06:36:09.701627Z",
     "shell.execute_reply": "2023-07-19T06:36:09.701046Z"
    },
    "lines_to_next_cell": 0,
    "papermill": {
     "duration": 0.009153,
     "end_time": "2023-07-19T06:36:09.703073",
     "exception": false,
     "start_time": "2023-07-19T06:36:09.693920",
     "status": "completed"
    },
    "tags": []
   },
   "outputs": [],
   "source": [
    "# -----------------------------------------------------------------------"
   ]
  },
  {
   "cell_type": "markdown",
   "id": "990753ea",
   "metadata": {
    "papermill": {
     "duration": 0.003868,
     "end_time": "2023-07-19T06:36:09.710797",
     "exception": false,
     "start_time": "2023-07-19T06:36:09.706929",
     "status": "completed"
    },
    "tags": []
   },
   "source": [
    "---"
   ]
  },
  {
   "cell_type": "markdown",
   "id": "6a557cbf",
   "metadata": {
    "lines_to_next_cell": 2,
    "papermill": {
     "duration": 0.003831,
     "end_time": "2023-07-19T06:36:09.718355",
     "exception": false,
     "start_time": "2023-07-19T06:36:09.714524",
     "status": "completed"
    },
    "tags": []
   },
   "source": [
    "### Notebook code"
   ]
  },
  {
   "cell_type": "code",
   "execution_count": 5,
   "id": "2004c113",
   "metadata": {
    "execution": {
     "iopub.execute_input": "2023-07-19T06:36:09.731324Z",
     "iopub.status.busy": "2023-07-19T06:36:09.730999Z",
     "iopub.status.idle": "2023-07-19T06:36:10.540318Z",
     "shell.execute_reply": "2023-07-19T06:36:10.539029Z"
    },
    "papermill": {
     "duration": 0.820188,
     "end_time": "2023-07-19T06:36:10.542350",
     "exception": false,
     "start_time": "2023-07-19T06:36:09.722162",
     "status": "completed"
    },
    "tags": []
   },
   "outputs": [
    {
     "name": "stderr",
     "output_type": "stream",
     "text": [
      "2023-07-19 06:36:10,474\tINFO worker.py:1364 -- Connecting to existing Ray cluster at address: 172.17.0.2:56162...\n"
     ]
    },
    {
     "name": "stderr",
     "output_type": "stream",
     "text": [
      "2023-07-19 06:36:10,481\tINFO worker.py:1544 -- Connected to Ray cluster. View the dashboard at \u001b[1m\u001b[32mhttp://127.0.0.1:8265 \u001b[39m\u001b[22m\n"
     ]
    },
    {
     "name": "stderr",
     "output_type": "stream",
     "text": [
      "/home/host_user/.local/lib/python3.8/site-packages/ray/runtime_context.py:27: RayDeprecationWarning: This API is deprecated and may be removed in future Ray releases. You could suppress this warning by setting env variable PYTHONWARNINGS=\"ignore::DeprecationWarning\"\n",
      "Use get_job_id() instead\n",
      "  \"job_id\": self.job_id,\n",
      "/home/host_user/.local/lib/python3.8/site-packages/ray/runtime_context.py:28: RayDeprecationWarning: This API is deprecated and may be removed in future Ray releases. You could suppress this warning by setting env variable PYTHONWARNINGS=\"ignore::DeprecationWarning\"\n",
      "Use get_node_id() instead\n",
      "  \"node_id\": self.node_id,\n"
     ]
    }
   ],
   "source": [
    "import itertools as it\n",
    "\n",
    "#\n",
    "import numpy as np\n",
    "import matplotlib.pyplot as plt\n",
    "\n",
    "#\n",
    "from composable_logs.tasks.task_opentelemetry_logging import get_task_context\n",
    "\n",
    "#\n",
    "from common.io import datalake_root\n",
    "\n",
    "ctx = get_task_context(P)"
   ]
  },
  {
   "cell_type": "markdown",
   "id": "6bbc425d",
   "metadata": {
    "papermill": {
     "duration": 0.006271,
     "end_time": "2023-07-19T06:36:10.554117",
     "exception": false,
     "start_time": "2023-07-19T06:36:10.547846",
     "status": "completed"
    },
    "tags": []
   },
   "source": [
    "## Load persisted onnx-model and evaluation data"
   ]
  },
  {
   "cell_type": "code",
   "execution_count": 6,
   "id": "0eefa901",
   "metadata": {
    "execution": {
     "iopub.execute_input": "2023-07-19T06:36:10.567204Z",
     "iopub.status.busy": "2023-07-19T06:36:10.566565Z",
     "iopub.status.idle": "2023-07-19T06:36:10.571264Z",
     "shell.execute_reply": "2023-07-19T06:36:10.570678Z"
    },
    "papermill": {
     "duration": 0.011668,
     "end_time": "2023-07-19T06:36:10.573122",
     "exception": false,
     "start_time": "2023-07-19T06:36:10.561454",
     "status": "completed"
    },
    "tags": []
   },
   "outputs": [],
   "source": [
    "from common.io import read_onnx, get_onnx_inputs, get_onnx_outputs, read_numpy"
   ]
  },
  {
   "cell_type": "code",
   "execution_count": 7,
   "id": "f6e84c9e",
   "metadata": {
    "execution": {
     "iopub.execute_input": "2023-07-19T06:36:10.582565Z",
     "iopub.status.busy": "2023-07-19T06:36:10.582081Z",
     "iopub.status.idle": "2023-07-19T06:36:10.589831Z",
     "shell.execute_reply": "2023-07-19T06:36:10.589268Z"
    },
    "lines_to_next_cell": 0,
    "papermill": {
     "duration": 0.013979,
     "end_time": "2023-07-19T06:36:10.591222",
     "exception": false,
     "start_time": "2023-07-19T06:36:10.577243",
     "status": "completed"
    },
    "tags": []
   },
   "outputs": [],
   "source": [
    "onnx_inference_session = read_onnx(\n",
    "    datalake_root(ctx)\n",
    "    / \"models\"\n",
    "    / f\"nr_train_images={ctx.parameters['task.nr_train_images']}\"\n",
    "    / \"model.onnx\"\n",
    ")"
   ]
  },
  {
   "cell_type": "markdown",
   "id": "87c7bf64",
   "metadata": {
    "papermill": {
     "duration": 0.00398,
     "end_time": "2023-07-19T06:36:10.599445",
     "exception": false,
     "start_time": "2023-07-19T06:36:10.595465",
     "status": "completed"
    },
    "tags": []
   },
   "source": [
    "### Record structure of inputs and outputs for ONNX model\n",
    "\n",
    "(this should likely be done in training notebook)"
   ]
  },
  {
   "cell_type": "code",
   "execution_count": 8,
   "id": "a0713c84",
   "metadata": {
    "execution": {
     "iopub.execute_input": "2023-07-19T06:36:10.609267Z",
     "iopub.status.busy": "2023-07-19T06:36:10.608776Z",
     "iopub.status.idle": "2023-07-19T06:36:10.614712Z",
     "shell.execute_reply": "2023-07-19T06:36:10.613584Z"
    },
    "papermill": {
     "duration": 0.012511,
     "end_time": "2023-07-19T06:36:10.616108",
     "exception": false,
     "start_time": "2023-07-19T06:36:10.603597",
     "status": "completed"
    },
    "tags": []
   },
   "outputs": [
    {
     "name": "stdout",
     "output_type": "stream",
     "text": [
      "{\n",
      "  \"inputs\": [\n",
      "    {\n",
      "      \"name\": \"float_input_8x8_image\",\n",
      "      \"shape\": [\n",
      "        null,\n",
      "        64\n",
      "      ],\n",
      "      \"type\": \"tensor(float)\"\n",
      "    }\n",
      "  ],\n",
      "  \"outputs\": [\n",
      "    {\n",
      "      \"name\": \"output_label\",\n",
      "      \"shape\": [\n",
      "        null\n",
      "      ],\n",
      "      \"type\": \"tensor(int64)\"\n",
      "    },\n",
      "    {\n",
      "      \"name\": \"output_probability\",\n",
      "      \"shape\": [],\n",
      "      \"type\": \"seq(map(int64,tensor(float)))\"\n",
      "    }\n",
      "  ]\n",
      "}\n"
     ]
    }
   ],
   "source": [
    "import json\n",
    "\n",
    "onnx_io = json.dumps(\n",
    "    {\n",
    "        \"inputs\": get_onnx_inputs(onnx_inference_session),\n",
    "        \"outputs\": get_onnx_outputs(onnx_inference_session),\n",
    "    },\n",
    "    indent=2,\n",
    ")\n",
    "\n",
    "\n",
    "ctx.log_artefact(\"onnx_io_structure.json\", onnx_io)\n",
    "print(onnx_io)"
   ]
  },
  {
   "cell_type": "markdown",
   "id": "23699753",
   "metadata": {
    "papermill": {
     "duration": 0.004094,
     "end_time": "2023-07-19T06:36:10.624380",
     "exception": false,
     "start_time": "2023-07-19T06:36:10.620286",
     "status": "completed"
    },
    "tags": []
   },
   "source": [
    "### Evaluate model performance on evaluation data set"
   ]
  },
  {
   "cell_type": "code",
   "execution_count": 9,
   "id": "e2f9f735",
   "metadata": {
    "execution": {
     "iopub.execute_input": "2023-07-19T06:36:10.634396Z",
     "iopub.status.busy": "2023-07-19T06:36:10.633735Z",
     "iopub.status.idle": "2023-07-19T06:36:10.638060Z",
     "shell.execute_reply": "2023-07-19T06:36:10.637547Z"
    },
    "papermill": {
     "duration": 0.010874,
     "end_time": "2023-07-19T06:36:10.639481",
     "exception": false,
     "start_time": "2023-07-19T06:36:10.628607",
     "status": "completed"
    },
    "tags": []
   },
   "outputs": [],
   "source": [
    "# load evaluation data\n",
    "X_test = read_numpy(datalake_root(ctx) / \"test-data\" / \"digits.numpy\")\n",
    "y_test = read_numpy(datalake_root(ctx) / \"test-data\" / \"labels.numpy\")"
   ]
  },
  {
   "cell_type": "code",
   "execution_count": 10,
   "id": "84ec7180",
   "metadata": {
    "execution": {
     "iopub.execute_input": "2023-07-19T06:36:10.649609Z",
     "iopub.status.busy": "2023-07-19T06:36:10.649040Z",
     "iopub.status.idle": "2023-07-19T06:36:10.661288Z",
     "shell.execute_reply": "2023-07-19T06:36:10.660679Z"
    },
    "papermill": {
     "duration": 0.018965,
     "end_time": "2023-07-19T06:36:10.662875",
     "exception": false,
     "start_time": "2023-07-19T06:36:10.643910",
     "status": "completed"
    },
    "tags": []
   },
   "outputs": [],
   "source": [
    "def get_model_outputs(X, onnx_inference_session):\n",
    "    y_pred_labels, y_pred_map = onnx_inference_session.run(\n",
    "        [\"output_label\", \"output_probability\"],\n",
    "        {\"float_input_8x8_image\": X.astype(np.float32)},\n",
    "    )\n",
    "    y_pred_probs = np.array(\n",
    "        [[probabilities[digit] for digit in range(10)] for probabilities in y_pred_map]\n",
    "    )\n",
    "\n",
    "    assert y_pred_labels.shape == (X.shape[0],)\n",
    "    assert y_pred_probs.shape == (X.shape[0], 10)\n",
    "\n",
    "    return y_pred_labels, y_pred_probs\n",
    "\n",
    "\n",
    "# Note: as shown in the training notebook, the predicted labels and probabilities\n",
    "# computed below need not be compatible.\n",
    "y_pred_labels_test, y_pred_probs_test = get_model_outputs(\n",
    "    X_test, onnx_inference_session\n",
    ")"
   ]
  },
  {
   "cell_type": "markdown",
   "id": "5de1d9d1",
   "metadata": {
    "papermill": {
     "duration": 0.004204,
     "end_time": "2023-07-19T06:36:10.671672",
     "exception": false,
     "start_time": "2023-07-19T06:36:10.667468",
     "status": "completed"
    },
    "tags": []
   },
   "source": [
    "### Confusion matrix"
   ]
  },
  {
   "cell_type": "code",
   "execution_count": 11,
   "id": "a5416560",
   "metadata": {
    "execution": {
     "iopub.execute_input": "2023-07-19T06:36:10.682265Z",
     "iopub.status.busy": "2023-07-19T06:36:10.681629Z",
     "iopub.status.idle": "2023-07-19T06:36:10.685958Z",
     "shell.execute_reply": "2023-07-19T06:36:10.685370Z"
    },
    "papermill": {
     "duration": 0.011598,
     "end_time": "2023-07-19T06:36:10.687553",
     "exception": false,
     "start_time": "2023-07-19T06:36:10.675955",
     "status": "completed"
    },
    "tags": []
   },
   "outputs": [],
   "source": [
    "# TODO"
   ]
  },
  {
   "cell_type": "markdown",
   "id": "8f05425b",
   "metadata": {
    "papermill": {
     "duration": 0.004121,
     "end_time": "2023-07-19T06:36:10.695982",
     "exception": false,
     "start_time": "2023-07-19T06:36:10.691861",
     "status": "completed"
    },
    "tags": []
   },
   "source": [
    "### Plot predicted probabilities for each classifier over all evaluation digit images"
   ]
  },
  {
   "cell_type": "code",
   "execution_count": 12,
   "id": "2ce2964c",
   "metadata": {
    "execution": {
     "iopub.execute_input": "2023-07-19T06:36:10.705628Z",
     "iopub.status.busy": "2023-07-19T06:36:10.705130Z",
     "iopub.status.idle": "2023-07-19T06:36:14.047759Z",
     "shell.execute_reply": "2023-07-19T06:36:14.047044Z"
    },
    "papermill": {
     "duration": 3.349277,
     "end_time": "2023-07-19T06:36:14.049389",
     "exception": false,
     "start_time": "2023-07-19T06:36:10.700112",
     "status": "completed"
    },
    "tags": []
   },
   "outputs": [
    {
     "data": {
      "image/png": "[encoded data removed]",
      "text/plain": [
       "<Figure size 1600x600 with 10 Axes>"
      ]
     },
     "metadata": {},
     "output_type": "display_data"
    }
   ],
   "source": [
    "def plot_per_digit_probabilities(y_pred_probs):\n",
    "    fig, axs = plt.subplots(nrows=2, ncols=5, figsize=(16, 6))\n",
    "\n",
    "    for (r, c), digit, ax in zip(\n",
    "        it.product(range(2), range(5)), range(10), axs.reshape(-1)\n",
    "    ):\n",
    "        ax.hist(y_pred_probs_test[:, digit], bins=20)\n",
    "\n",
    "        ax.set_title(f\"Digit {digit}\")\n",
    "        if r == 1 and c == 2:\n",
    "            ax.set_xlabel(\"probability\", fontsize=16)\n",
    "\n",
    "        if c == 0:\n",
    "            ax.set_ylabel(\"counts\", fontsize=16)\n",
    "        ax.set_yscale(\"log\")\n",
    "\n",
    "    fig.tight_layout()\n",
    "    fig.suptitle(\n",
    "        f\"Distributions of prediction probabilities for each digit \"\n",
    "        f\"(on evaluation data, n={y_pred_probs.shape[0]})\",\n",
    "        fontsize=20,\n",
    "    )\n",
    "    fig.tight_layout()\n",
    "    fig.show()\n",
    "\n",
    "    return fig\n",
    "\n",
    "\n",
    "fig = plot_per_digit_probabilities(y_pred_probs_test)"
   ]
  },
  {
   "cell_type": "markdown",
   "id": "dc9de8d8",
   "metadata": {
    "papermill": {
     "duration": 0.005037,
     "end_time": "2023-07-19T06:36:14.059901",
     "exception": false,
     "start_time": "2023-07-19T06:36:14.054864",
     "status": "completed"
    },
    "tags": []
   },
   "source": [
    "From the above distributions we see that most digits have clear separation between\n",
    "high and lower probabilities. Morover, in each case there is roughly an order of\n",
    "magnitude more of digits with low probabilities. This is compatible with digits\n",
    "being roughly evenly distributed in the data."
   ]
  },
  {
   "cell_type": "code",
   "execution_count": 13,
   "id": "385e3950",
   "metadata": {
    "execution": {
     "iopub.execute_input": "2023-07-19T06:36:14.071411Z",
     "iopub.status.busy": "2023-07-19T06:36:14.070911Z",
     "iopub.status.idle": "2023-07-19T06:36:14.643169Z",
     "shell.execute_reply": "2023-07-19T06:36:14.642403Z"
    },
    "papermill": {
     "duration": 0.580074,
     "end_time": "2023-07-19T06:36:14.644964",
     "exception": false,
     "start_time": "2023-07-19T06:36:14.064890",
     "status": "completed"
    },
    "tags": []
   },
   "outputs": [],
   "source": [
    "ctx.log_figure(\"per-digit-probabilities.png\", fig)"
   ]
  },
  {
   "cell_type": "markdown",
   "id": "eee8ed08",
   "metadata": {
    "papermill": {
     "duration": 0.005264,
     "end_time": "2023-07-19T06:36:14.655949",
     "exception": false,
     "start_time": "2023-07-19T06:36:14.650685",
     "status": "completed"
    },
    "tags": []
   },
   "source": [
    "### Plot ROC curves for individual one-vs-rest classifiers"
   ]
  },
  {
   "cell_type": "code",
   "execution_count": 14,
   "id": "9b93d04f",
   "metadata": {
    "execution": {
     "iopub.execute_input": "2023-07-19T06:36:14.668125Z",
     "iopub.status.busy": "2023-07-19T06:36:14.667461Z",
     "iopub.status.idle": "2023-07-19T06:36:14.959490Z",
     "shell.execute_reply": "2023-07-19T06:36:14.958827Z"
    },
    "papermill": {
     "duration": 0.300162,
     "end_time": "2023-07-19T06:36:14.961467",
     "exception": false,
     "start_time": "2023-07-19T06:36:14.661305",
     "status": "completed"
    },
    "tags": []
   },
   "outputs": [],
   "source": [
    "from sklearn import metrics"
   ]
  },
  {
   "cell_type": "code",
   "execution_count": 15,
   "id": "0d8c0513",
   "metadata": {
    "execution": {
     "iopub.execute_input": "2023-07-19T06:36:14.973874Z",
     "iopub.status.busy": "2023-07-19T06:36:14.973358Z",
     "iopub.status.idle": "2023-07-19T06:36:16.607661Z",
     "shell.execute_reply": "2023-07-19T06:36:16.607061Z"
    },
    "papermill": {
     "duration": 1.642401,
     "end_time": "2023-07-19T06:36:16.609380",
     "exception": false,
     "start_time": "2023-07-19T06:36:14.966979",
     "status": "completed"
    },
    "tags": []
   },
   "outputs": [
    {
     "data": {
      "image/png": "[encoded data removed]",
      "text/plain": [
       "<Figure size 1600x800 with 10 Axes>"
      ]
     },
     "metadata": {},
     "output_type": "display_data"
    }
   ],
   "source": [
    "def plot_roc_curves(y, y_pred_probs):\n",
    "    # based on example code\n",
    "    # https://scikit-learn.org/stable/auto_examples/model_selection/plot_roc.html\n",
    "\n",
    "    fig, axs = plt.subplots(nrows=2, ncols=5, figsize=(16, 8))\n",
    "\n",
    "    roc_auc_dict = {}\n",
    "\n",
    "    for (r, c), digit, ax in zip(\n",
    "        it.product(range(2), range(5)), range(10), axs.reshape(-1)\n",
    "    ):\n",
    "        fpr, tpr, _ = metrics.roc_curve(y == digit, y_pred_probs[:, digit])\n",
    "        auc = metrics.auc(fpr, tpr)\n",
    "        roc_auc_dict[str(digit)] = auc\n",
    "\n",
    "        ax.plot(fpr, tpr, label=f\"ROC AUC={round(auc, 3)}\")\n",
    "\n",
    "        ax.set_title(f\"\\nDigit {digit}\", fontsize=16)\n",
    "        if r == 1:\n",
    "            ax.set_xlabel(\"FPR\", fontsize=18)\n",
    "\n",
    "        if c == 0:\n",
    "            ax.set_ylabel(\"TPR\", fontsize=18)\n",
    "\n",
    "        ax.set_xlim([-0.05, 1.05])\n",
    "        ax.set_ylim([-0.05, 1.05])\n",
    "        ax.legend(loc=\"lower right\", frameon=False, fontsize=14)\n",
    "\n",
    "    fig.tight_layout()\n",
    "    fig.suptitle(\n",
    "        f\"ROC plots for one-vs-rest performances \"\n",
    "        f\"(on evaluation data, n={y_pred_probs_test.shape[1]}\",\n",
    "        fontsize=22,\n",
    "    )\n",
    "    fig.tight_layout()\n",
    "    fig.show()\n",
    "\n",
    "    return roc_auc_dict, fig\n",
    "\n",
    "\n",
    "roc_auc_dict, fig = plot_roc_curves(y_test, y_pred_probs_test)"
   ]
  },
  {
   "cell_type": "code",
   "execution_count": 16,
   "id": "132b1038",
   "metadata": {
    "execution": {
     "iopub.execute_input": "2023-07-19T06:36:16.623839Z",
     "iopub.status.busy": "2023-07-19T06:36:16.623072Z",
     "iopub.status.idle": "2023-07-19T06:36:16.940366Z",
     "shell.execute_reply": "2023-07-19T06:36:16.939716Z"
    },
    "papermill": {
     "duration": 0.326632,
     "end_time": "2023-07-19T06:36:16.942468",
     "exception": false,
     "start_time": "2023-07-19T06:36:16.615836",
     "status": "completed"
    },
    "tags": []
   },
   "outputs": [],
   "source": [
    "ctx.log_figure(\"per-digit-roc-curves.png\", fig)"
   ]
  },
  {
   "cell_type": "code",
   "execution_count": 17,
   "id": "865fcafa",
   "metadata": {
    "execution": {
     "iopub.execute_input": "2023-07-19T06:36:16.956564Z",
     "iopub.status.busy": "2023-07-19T06:36:16.955924Z",
     "iopub.status.idle": "2023-07-19T06:36:16.960374Z",
     "shell.execute_reply": "2023-07-19T06:36:16.959857Z"
    },
    "papermill": {
     "duration": 0.012892,
     "end_time": "2023-07-19T06:36:16.961770",
     "exception": false,
     "start_time": "2023-07-19T06:36:16.948878",
     "status": "completed"
    },
    "tags": []
   },
   "outputs": [
    {
     "data": {
      "text/plain": [
       "{'0': 1.0,\n",
       " '1': 0.9988378631677601,\n",
       " '2': 1.0,\n",
       " '3': 0.9998500468603562,\n",
       " '4': 0.9995427526291724,\n",
       " '5': 0.9991377694470478,\n",
       " '6': 0.999961896052431,\n",
       " '7': 0.9998856881572931,\n",
       " '8': 0.9923549810844893,\n",
       " '9': 0.9994284407864655}"
      ]
     },
     "execution_count": 17,
     "metadata": {},
     "output_type": "execute_result"
    }
   ],
   "source": [
    "roc_auc_dict"
   ]
  },
  {
   "cell_type": "code",
   "execution_count": 18,
   "id": "13342d54",
   "metadata": {
    "execution": {
     "iopub.execute_input": "2023-07-19T06:36:16.976269Z",
     "iopub.status.busy": "2023-07-19T06:36:16.975885Z",
     "iopub.status.idle": "2023-07-19T06:36:16.981445Z",
     "shell.execute_reply": "2023-07-19T06:36:16.980794Z"
    },
    "papermill": {
     "duration": 0.014496,
     "end_time": "2023-07-19T06:36:16.983069",
     "exception": false,
     "start_time": "2023-07-19T06:36:16.968573",
     "status": "completed"
    },
    "tags": []
   },
   "outputs": [
    {
     "name": "stdout",
     "output_type": "stream",
     "text": [
      " - Logging roc_auc_per_digit (json) : {'0': 1.0, '1': 0.9988378631677601, '2': 1.0, '3': 0.9998500468603562, '4': 0.9995427526291724, '5': 0.9991377694470478, '6': 0.999961896052431, '7': 0.9998856881572931, '8': 0.9923549810844893, '9': 0.9994284407864655}\n"
     ]
    }
   ],
   "source": [
    "ctx.log_value(\"roc_auc_per_digit\", roc_auc_dict)"
   ]
  },
  {
   "cell_type": "markdown",
   "id": "79b38df0",
   "metadata": {
    "papermill": {
     "duration": 0.006406,
     "end_time": "2023-07-19T06:36:16.995913",
     "exception": false,
     "start_time": "2023-07-19T06:36:16.989507",
     "status": "completed"
    },
    "tags": []
   },
   "source": [
    "### Compute and log mean ROC AUC score averaged over all digits"
   ]
  },
  {
   "cell_type": "code",
   "execution_count": 19,
   "id": "e2d8ce29",
   "metadata": {
    "execution": {
     "iopub.execute_input": "2023-07-19T06:36:17.010479Z",
     "iopub.status.busy": "2023-07-19T06:36:17.009758Z",
     "iopub.status.idle": "2023-07-19T06:36:17.025917Z",
     "shell.execute_reply": "2023-07-19T06:36:17.025166Z"
    },
    "papermill": {
     "duration": 0.025247,
     "end_time": "2023-07-19T06:36:17.027558",
     "exception": false,
     "start_time": "2023-07-19T06:36:17.002311",
     "status": "completed"
    },
    "tags": []
   },
   "outputs": [
    {
     "name": "stdout",
     "output_type": "stream",
     "text": [
      " - Logging roc_auc_class_mean (float) : 0.9988999438185016\n"
     ]
    }
   ],
   "source": [
    "roc_auc_macro = np.mean(list(roc_auc_dict.values()))\n",
    "\n",
    "ctx.log_float(\"roc_auc_class_mean\", roc_auc_macro)\n",
    "\n",
    "# assert that the same value can be computed directly using sklearn\n",
    "assert roc_auc_macro == metrics.roc_auc_score(\n",
    "    y_test, y_pred_probs_test, average=\"macro\", multi_class=\"ovr\"\n",
    ")"
   ]
  },
  {
   "cell_type": "code",
   "execution_count": 20,
   "id": "449c992a",
   "metadata": {
    "execution": {
     "iopub.execute_input": "2023-07-19T06:36:17.045586Z",
     "iopub.status.busy": "2023-07-19T06:36:17.044811Z",
     "iopub.status.idle": "2023-07-19T06:36:17.047932Z",
     "shell.execute_reply": "2023-07-19T06:36:17.047404Z"
    },
    "lines_to_next_cell": 0,
    "papermill": {
     "duration": 0.012732,
     "end_time": "2023-07-19T06:36:17.049417",
     "exception": false,
     "start_time": "2023-07-19T06:36:17.036685",
     "status": "completed"
    },
    "tags": []
   },
   "outputs": [],
   "source": [
    "# ---"
   ]
  },
  {
   "cell_type": "code",
   "execution_count": null,
   "id": "855f328c",
   "metadata": {
    "papermill": {
     "duration": 0.006477,
     "end_time": "2023-07-19T06:36:17.062509",
     "exception": false,
     "start_time": "2023-07-19T06:36:17.056032",
     "status": "completed"
    },
    "tags": []
   },
   "outputs": [],
   "source": []
  }
 ],
 "metadata": {
  "jupytext": {
   "cell_metadata_filter": "tags,-all",
   "main_language": "python",
   "notebook_metadata_filter": "-all"
  },
  "language_info": {
   "codemirror_mode": {
    "name": "ipython",
    "version": 3
   },
   "file_extension": ".py",
   "mimetype": "text/x-python",
   "name": "python",
   "nbconvert_exporter": "python",
   "pygments_lexer": "ipython3",
   "version": "3.8.10"
  },
  "papermill": {
   "default_parameters": {},
   "duration": 10.720735,
   "end_time": "2023-07-19T06:36:18.997342",
   "environment_variables": {},
   "exception": null,
   "input_path": "/tmp/temp-notebook-rjyx25dj.ipynb",
   "output_path": "/tmp/temp-notebook-rjyx25dj.ipynb",
   "parameters": {
    "P": {
     "_parameters_actor_name": "parameter_for_task_0xcfe326fcdf6f96b6",
     "task.nr_train_images": 800
    }
   },
   "start_time": "2023-07-19T06:36:08.276607",
   "version": "2.4.0"
  }
 },
 "nbformat": 4,
 "nbformat_minor": 5
}