{
 "cells": [
  {
   "cell_type": "markdown",
   "id": "00e7f5e8",
   "metadata": {
    "papermill": {
     "duration": 0.004388,
     "end_time": "2023-07-21T06:36:24.954969",
     "exception": false,
     "start_time": "2023-07-21T06:36:24.950581",
     "status": "completed"
    },
    "tags": []
   },
   "source": [
    "# Summarize model performances\n",
    "\n",
    "This notebooks plots the performances (using averaged ROC AUC scores) for models\n",
    "trained with different training sets."
   ]
  },
  {
   "cell_type": "markdown",
   "id": "e72b283b",
   "metadata": {
    "papermill": {
     "duration": 0.002496,
     "end_time": "2023-07-21T06:36:24.961015",
     "exception": false,
     "start_time": "2023-07-21T06:36:24.958519",
     "status": "completed"
    },
    "tags": []
   },
   "source": [
    "### Determine run parameters"
   ]
  },
  {
   "cell_type": "code",
   "execution_count": 1,
   "id": "1d4016d4",
   "metadata": {
    "execution": {
     "iopub.execute_input": "2023-07-21T06:36:24.968390Z",
     "iopub.status.busy": "2023-07-21T06:36:24.967448Z",
     "iopub.status.idle": "2023-07-21T06:36:24.975591Z",
     "shell.execute_reply": "2023-07-21T06:36:24.974862Z"
    },
    "lines_to_next_cell": 0,
    "papermill": {
     "duration": 0.01353,
     "end_time": "2023-07-21T06:36:24.977243",
     "exception": false,
     "start_time": "2023-07-21T06:36:24.963713",
     "status": "completed"
    },
    "tags": []
   },
   "outputs": [],
   "source": [
    "# ----------------- Parameters for interactive development --------------\n",
    "P = {\n",
    "    \"workflow.run_environment\": \"dev\",\n",
    "}"
   ]
  },
  {
   "cell_type": "code",
   "execution_count": 2,
   "id": "bc74df2e",
   "metadata": {
    "execution": {
     "iopub.execute_input": "2023-07-21T06:36:24.985965Z",
     "iopub.status.busy": "2023-07-21T06:36:24.985256Z",
     "iopub.status.idle": "2023-07-21T06:36:24.988662Z",
     "shell.execute_reply": "2023-07-21T06:36:24.988116Z"
    },
    "lines_to_next_cell": 0,
    "papermill": {
     "duration": 0.008801,
     "end_time": "2023-07-21T06:36:24.990420",
     "exception": false,
     "start_time": "2023-07-21T06:36:24.981619",
     "status": "completed"
    },
    "tags": [
     "parameters"
    ]
   },
   "outputs": [],
   "source": [
    "# - During automated runs parameters will be injected in the below cell -"
   ]
  },
  {
   "cell_type": "code",
   "execution_count": 3,
   "id": "5ebb33b3",
   "metadata": {
    "execution": {
     "iopub.execute_input": "2023-07-21T06:36:24.997213Z",
     "iopub.status.busy": "2023-07-21T06:36:24.996602Z",
     "iopub.status.idle": "2023-07-21T06:36:25.000527Z",
     "shell.execute_reply": "2023-07-21T06:36:24.999632Z"
    },
    "papermill": {
     "duration": 0.009202,
     "end_time": "2023-07-21T06:36:25.002205",
     "exception": false,
     "start_time": "2023-07-21T06:36:24.993003",
     "status": "completed"
    },
    "tags": [
     "injected-parameters"
    ]
   },
   "outputs": [],
   "source": [
    "# Parameters\n",
    "P = {\"_parameters_actor_name\": \"parameter_for_task_0xb55aa626eaaaa2f1\"}\n"
   ]
  },
  {
   "cell_type": "code",
   "execution_count": 4,
   "id": "153df402",
   "metadata": {
    "execution": {
     "iopub.execute_input": "2023-07-21T06:36:25.009120Z",
     "iopub.status.busy": "2023-07-21T06:36:25.008500Z",
     "iopub.status.idle": "2023-07-21T06:36:25.011846Z",
     "shell.execute_reply": "2023-07-21T06:36:25.011241Z"
    },
    "lines_to_next_cell": 0,
    "papermill": {
     "duration": 0.008777,
     "end_time": "2023-07-21T06:36:25.013576",
     "exception": false,
     "start_time": "2023-07-21T06:36:25.004799",
     "status": "completed"
    },
    "tags": []
   },
   "outputs": [],
   "source": [
    "# -----------------------------------------------------------------------"
   ]
  },
  {
   "cell_type": "markdown",
   "id": "10a7ac22",
   "metadata": {
    "papermill": {
     "duration": 0.002525,
     "end_time": "2023-07-21T06:36:25.018685",
     "exception": false,
     "start_time": "2023-07-21T06:36:25.016160",
     "status": "completed"
    },
    "tags": []
   },
   "source": [
    "---"
   ]
  },
  {
   "cell_type": "markdown",
   "id": "c513a835",
   "metadata": {
    "lines_to_next_cell": 2,
    "papermill": {
     "duration": 0.002522,
     "end_time": "2023-07-21T06:36:25.023752",
     "exception": false,
     "start_time": "2023-07-21T06:36:25.021230",
     "status": "completed"
    },
    "tags": []
   },
   "source": [
    "### Notebook code"
   ]
  },
  {
   "cell_type": "code",
   "execution_count": 5,
   "id": "c9dbe1eb",
   "metadata": {
    "execution": {
     "iopub.execute_input": "2023-07-21T06:36:25.030999Z",
     "iopub.status.busy": "2023-07-21T06:36:25.030369Z",
     "iopub.status.idle": "2023-07-21T06:36:26.119088Z",
     "shell.execute_reply": "2023-07-21T06:36:26.118264Z"
    },
    "papermill": {
     "duration": 1.095058,
     "end_time": "2023-07-21T06:36:26.121474",
     "exception": false,
     "start_time": "2023-07-21T06:36:25.026416",
     "status": "completed"
    },
    "tags": []
   },
   "outputs": [],
   "source": [
    "#\n",
    "import pandas as pd\n",
    "import matplotlib.pyplot as plt\n",
    "\n",
    "#\n",
    "from composable_logs.tasks.task_opentelemetry_logging import get_task_context"
   ]
  },
  {
   "cell_type": "code",
   "execution_count": 6,
   "id": "09067e2d",
   "metadata": {
    "execution": {
     "iopub.execute_input": "2023-07-21T06:36:26.129440Z",
     "iopub.status.busy": "2023-07-21T06:36:26.128618Z",
     "iopub.status.idle": "2023-07-21T06:36:26.214439Z",
     "shell.execute_reply": "2023-07-21T06:36:26.213480Z"
    },
    "papermill": {
     "duration": 0.091598,
     "end_time": "2023-07-21T06:36:26.216176",
     "exception": false,
     "start_time": "2023-07-21T06:36:26.124578",
     "status": "completed"
    },
    "tags": []
   },
   "outputs": [
    {
     "name": "stderr",
     "output_type": "stream",
     "text": [
      "2023-07-21 06:36:26,132\tINFO worker.py:1364 -- Connecting to existing Ray cluster at address: 172.17.0.2:34450...\n"
     ]
    },
    {
     "name": "stderr",
     "output_type": "stream",
     "text": [
      "2023-07-21 06:36:26,141\tINFO worker.py:1544 -- Connected to Ray cluster. View the dashboard at \u001b[1m\u001b[32mhttp://127.0.0.1:8265 \u001b[39m\u001b[22m\n"
     ]
    },
    {
     "name": "stderr",
     "output_type": "stream",
     "text": [
      "/home/host_user/.local/lib/python3.8/site-packages/ray/runtime_context.py:27: RayDeprecationWarning: This API is deprecated and may be removed in future Ray releases. You could suppress this warning by setting env variable PYTHONWARNINGS=\"ignore::DeprecationWarning\"\n",
      "Use get_job_id() instead\n",
      "  \"job_id\": self.job_id,\n",
      "/home/host_user/.local/lib/python3.8/site-packages/ray/runtime_context.py:28: RayDeprecationWarning: This API is deprecated and may be removed in future Ray releases. You could suppress this warning by setting env variable PYTHONWARNINGS=\"ignore::DeprecationWarning\"\n",
      "Use get_node_id() instead\n",
      "  \"node_id\": self.node_id,\n"
     ]
    }
   ],
   "source": [
    "logger = get_task_context(P)"
   ]
  },
  {
   "cell_type": "code",
   "execution_count": 7,
   "id": "b813340c",
   "metadata": {
    "execution": {
     "iopub.execute_input": "2023-07-21T06:36:26.224346Z",
     "iopub.status.busy": "2023-07-21T06:36:26.223800Z",
     "iopub.status.idle": "2023-07-21T06:36:26.227496Z",
     "shell.execute_reply": "2023-07-21T06:36:26.226753Z"
    },
    "papermill": {
     "duration": 0.009878,
     "end_time": "2023-07-21T06:36:26.229330",
     "exception": false,
     "start_time": "2023-07-21T06:36:26.219452",
     "status": "completed"
    },
    "tags": []
   },
   "outputs": [],
   "source": [
    "from composable_logs.tasks.task_opentelemetry_logging import get_logged_values\n",
    "from composable_logs.opentelemetry_helpers import _get_all_spans, Spans"
   ]
  },
  {
   "cell_type": "code",
   "execution_count": 8,
   "id": "4819977f",
   "metadata": {
    "execution": {
     "iopub.execute_input": "2023-07-21T06:36:26.238372Z",
     "iopub.status.busy": "2023-07-21T06:36:26.237716Z",
     "iopub.status.idle": "2023-07-21T06:36:26.246706Z",
     "shell.execute_reply": "2023-07-21T06:36:26.245934Z"
    },
    "papermill": {
     "duration": 0.015564,
     "end_time": "2023-07-21T06:36:26.248504",
     "exception": false,
     "start_time": "2023-07-21T06:36:26.232940",
     "status": "completed"
    },
    "tags": []
   },
   "outputs": [],
   "source": [
    "def get_model_benchmarks():\n",
    "    \"\"\"\n",
    "    Query the OpenTelemetry logs for *this pipeline run* and return\n",
    "    all key-values logged from all runs of the benchmark-model.py task\n",
    "\n",
    "    For testing a json file with OpenTelemetry spans (as an array)\n",
    "    can be used as follows:\n",
    "\n",
    "    - Create output directory `mkdir /tmp/spans`\n",
    "    - Run unit tests. This will create pipeline-outputs/opentelemetry-spans.json\n",
    "    - Convert this json-array into jsonl format as follows\n",
    "\n",
    "    jq -c '.[]' /pipeline-outputs/opentelemetry-spans.json > /tmp/spans/data.txt\n",
    "\n",
    "    \"\"\"\n",
    "    spans: Spans = Spans(_get_all_spans())\n",
    "    print(f\" - Found {len(spans)} spans\")\n",
    "\n",
    "    benchmark_spans = (\n",
    "        spans\n",
    "        # -\n",
    "        .filter([\"name\"], \"execute-task\")\n",
    "        # -\n",
    "        .filter([\"attributes\", \"task.id\"], \"benchmark-model\")\n",
    "    )\n",
    "\n",
    "    result = []\n",
    "    for s in benchmark_spans:\n",
    "        result.append(\n",
    "            {\n",
    "                \"span_id\": s[\"context\"][\"span_id\"],\n",
    "                \"nr_train_images\": s[\"attributes\"][\"task.nr_train_images\"],\n",
    "                \"data\": get_logged_values(spans.bound_under(s)),\n",
    "            }\n",
    "        )\n",
    "\n",
    "    return result\n",
    "\n",
    "\n",
    "def adjust_pandas(df):\n",
    "    def column_renamer(col_name: str) -> str:\n",
    "        return (\n",
    "            col_name\n",
    "            # -- 'data.roc_auc_per_digit.4' -> 'roc_auc.4'\n",
    "            .replace(\"data.roc_auc_per_digit\", \"roc_auc\")\n",
    "            # -- 'data.roc_auc_class_mean' -> 'roc_auc_mean'\n",
    "            .replace(\"data.roc_auc_class_mean\", \"roc_auc_mean\")\n",
    "        )\n",
    "\n",
    "    return df.rename(column_renamer, axis=\"columns\").sort_values(by=\"nr_train_images\")"
   ]
  },
  {
   "cell_type": "code",
   "execution_count": 9,
   "id": "5d7227c3",
   "metadata": {
    "execution": {
     "iopub.execute_input": "2023-07-21T06:36:26.256746Z",
     "iopub.status.busy": "2023-07-21T06:36:26.256001Z",
     "iopub.status.idle": "2023-07-21T06:36:26.385555Z",
     "shell.execute_reply": "2023-07-21T06:36:26.384732Z"
    },
    "papermill": {
     "duration": 0.135524,
     "end_time": "2023-07-21T06:36:26.387377",
     "exception": false,
     "start_time": "2023-07-21T06:36:26.251853",
     "status": "completed"
    },
    "tags": []
   },
   "outputs": [
    {
     "name": "stdout",
     "output_type": "stream",
     "text": [
      " - Found 250 spans\n"
     ]
    }
   ],
   "source": [
    "\n",
    "df_data = adjust_pandas(pd.json_normalize(get_model_benchmarks()))"
   ]
  },
  {
   "cell_type": "code",
   "execution_count": 10,
   "id": "50d386f1",
   "metadata": {
    "execution": {
     "iopub.execute_input": "2023-07-21T06:36:26.395538Z",
     "iopub.status.busy": "2023-07-21T06:36:26.395225Z",
     "iopub.status.idle": "2023-07-21T06:36:26.426656Z",
     "shell.execute_reply": "2023-07-21T06:36:26.425887Z"
    },
    "papermill": {
     "duration": 0.037502,
     "end_time": "2023-07-21T06:36:26.428515",
     "exception": false,
     "start_time": "2023-07-21T06:36:26.391013",
     "status": "completed"
    },
    "tags": []
   },
   "outputs": [
    {
     "data": {
      "text/html": [
       "<div>\n",
       "<style scoped>\n",
       "    .dataframe tbody tr th:only-of-type {\n",
       "        vertical-align: middle;\n",
       "    }\n",
       "\n",
       "    .dataframe tbody tr th {\n",
       "        vertical-align: top;\n",
       "    }\n",
       "\n",
       "    .dataframe thead th {\n",
       "        text-align: right;\n",
       "    }\n",
       "</style>\n",
       "<table border=\"1\" class=\"dataframe\">\n",
       "  <thead>\n",
       "    <tr style=\"text-align: right;\">\n",
       "      <th></th>\n",
       "      <th>span_id</th>\n",
       "      <th>nr_train_images</th>\n",
       "      <th>roc_auc_mean</th>\n",
       "      <th>roc_auc.0</th>\n",
       "      <th>roc_auc.1</th>\n",
       "      <th>roc_auc.2</th>\n",
       "      <th>roc_auc.3</th>\n",
       "      <th>roc_auc.4</th>\n",
       "      <th>roc_auc.5</th>\n",
       "      <th>roc_auc.6</th>\n",
       "      <th>roc_auc.7</th>\n",
       "      <th>roc_auc.8</th>\n",
       "      <th>roc_auc.9</th>\n",
       "    </tr>\n",
       "  </thead>\n",
       "  <tbody>\n",
       "    <tr>\n",
       "      <th>3</th>\n",
       "      <td>0x6cd4b893e1dbf9cf</td>\n",
       "      <td>600</td>\n",
       "      <td>0.9990</td>\n",
       "      <td>1.0</td>\n",
       "      <td>0.9992</td>\n",
       "      <td>1.0</td>\n",
       "      <td>0.9997</td>\n",
       "      <td>0.9990</td>\n",
       "      <td>0.9989</td>\n",
       "      <td>1.0000</td>\n",
       "      <td>0.9998</td>\n",
       "      <td>0.9948</td>\n",
       "      <td>0.9988</td>\n",
       "    </tr>\n",
       "    <tr>\n",
       "      <th>2</th>\n",
       "      <td>0xcc9f8c5c07c932cc</td>\n",
       "      <td>800</td>\n",
       "      <td>0.9989</td>\n",
       "      <td>1.0</td>\n",
       "      <td>0.9988</td>\n",
       "      <td>1.0</td>\n",
       "      <td>0.9998</td>\n",
       "      <td>0.9995</td>\n",
       "      <td>0.9992</td>\n",
       "      <td>1.0000</td>\n",
       "      <td>0.9999</td>\n",
       "      <td>0.9927</td>\n",
       "      <td>0.9995</td>\n",
       "    </tr>\n",
       "    <tr>\n",
       "      <th>0</th>\n",
       "      <td>0x365f4bfce5213a68</td>\n",
       "      <td>1000</td>\n",
       "      <td>0.9992</td>\n",
       "      <td>1.0</td>\n",
       "      <td>0.9990</td>\n",
       "      <td>1.0</td>\n",
       "      <td>0.9999</td>\n",
       "      <td>0.9996</td>\n",
       "      <td>0.9994</td>\n",
       "      <td>0.9999</td>\n",
       "      <td>0.9998</td>\n",
       "      <td>0.9950</td>\n",
       "      <td>0.9996</td>\n",
       "    </tr>\n",
       "    <tr>\n",
       "      <th>1</th>\n",
       "      <td>0x72b590358e333f11</td>\n",
       "      <td>1200</td>\n",
       "      <td>0.9994</td>\n",
       "      <td>1.0</td>\n",
       "      <td>0.9991</td>\n",
       "      <td>1.0</td>\n",
       "      <td>0.9999</td>\n",
       "      <td>0.9997</td>\n",
       "      <td>0.9997</td>\n",
       "      <td>0.9999</td>\n",
       "      <td>0.9998</td>\n",
       "      <td>0.9958</td>\n",
       "      <td>0.9997</td>\n",
       "    </tr>\n",
       "  </tbody>\n",
       "</table>\n",
       "</div>"
      ],
      "text/plain": [
       "              span_id  nr_train_images  roc_auc_mean  roc_auc.0  roc_auc.1  \\\n",
       "3  0x6cd4b893e1dbf9cf              600        0.9990        1.0     0.9992   \n",
       "2  0xcc9f8c5c07c932cc              800        0.9989        1.0     0.9988   \n",
       "0  0x365f4bfce5213a68             1000        0.9992        1.0     0.9990   \n",
       "1  0x72b590358e333f11             1200        0.9994        1.0     0.9991   \n",
       "\n",
       "   roc_auc.2  roc_auc.3  roc_auc.4  roc_auc.5  roc_auc.6  roc_auc.7  \\\n",
       "3        1.0     0.9997     0.9990     0.9989     1.0000     0.9998   \n",
       "2        1.0     0.9998     0.9995     0.9992     1.0000     0.9999   \n",
       "0        1.0     0.9999     0.9996     0.9994     0.9999     0.9998   \n",
       "1        1.0     0.9999     0.9997     0.9997     0.9999     0.9998   \n",
       "\n",
       "   roc_auc.8  roc_auc.9  \n",
       "3     0.9948     0.9988  \n",
       "2     0.9927     0.9995  \n",
       "0     0.9950     0.9996  \n",
       "1     0.9958     0.9997  "
      ]
     },
     "execution_count": 10,
     "metadata": {},
     "output_type": "execute_result"
    }
   ],
   "source": [
    "df_data.round(4)"
   ]
  },
  {
   "cell_type": "code",
   "execution_count": 11,
   "id": "c4819cb5",
   "metadata": {
    "execution": {
     "iopub.execute_input": "2023-07-21T06:36:26.437068Z",
     "iopub.status.busy": "2023-07-21T06:36:26.436763Z",
     "iopub.status.idle": "2023-07-21T06:36:26.650477Z",
     "shell.execute_reply": "2023-07-21T06:36:26.649643Z"
    },
    "papermill": {
     "duration": 0.22021,
     "end_time": "2023-07-21T06:36:26.652451",
     "exception": false,
     "start_time": "2023-07-21T06:36:26.432241",
     "status": "completed"
    },
    "tags": []
   },
   "outputs": [
    {
     "data": {
      "image/png": "[encoded data removed]",
      "text/plain": [
       "<Figure size 1600x400 with 1 Axes>"
      ]
     },
     "metadata": {},
     "output_type": "display_data"
    }
   ],
   "source": [
    "def plot_classifier_performance_summary(df_data):\n",
    "    fig, ax = plt.subplots(nrows=1, ncols=1, figsize=(16, 4), sharex=True)\n",
    "\n",
    "    #\n",
    "    ax.plot(\n",
    "        df_data[\"nr_train_images\"], df_data[\"roc_auc_mean\"], marker=\"o\", linestyle=\"--\"\n",
    "    )\n",
    "    ax.set_title(\n",
    "        f\"ROC AUC digit classifier performance on evaluation digits\", fontsize=17\n",
    "    )\n",
    "    ax.set_xlabel(\"Total number of digits in training set\", fontsize=14)\n",
    "    ax.set_ylabel(\"Mean ROC AUC\", fontsize=14)\n",
    "\n",
    "    fig.tight_layout()\n",
    "    fig.show()\n",
    "\n",
    "    return fig\n",
    "\n",
    "\n",
    "fig = plot_classifier_performance_summary(df_data)"
   ]
  },
  {
   "cell_type": "code",
   "execution_count": 12,
   "id": "6b00f41b",
   "metadata": {
    "execution": {
     "iopub.execute_input": "2023-07-21T06:36:26.662912Z",
     "iopub.status.busy": "2023-07-21T06:36:26.662200Z",
     "iopub.status.idle": "2023-07-21T06:36:26.742932Z",
     "shell.execute_reply": "2023-07-21T06:36:26.742152Z"
    },
    "papermill": {
     "duration": 0.088077,
     "end_time": "2023-07-21T06:36:26.744858",
     "exception": false,
     "start_time": "2023-07-21T06:36:26.656781",
     "status": "completed"
    },
    "tags": []
   },
   "outputs": [],
   "source": [
    "logger.log_figure(\"auc-roc-model-performances.png\", fig)"
   ]
  },
  {
   "cell_type": "code",
   "execution_count": 13,
   "id": "a3cd86b9",
   "metadata": {
    "execution": {
     "iopub.execute_input": "2023-07-21T06:36:26.755142Z",
     "iopub.status.busy": "2023-07-21T06:36:26.754594Z",
     "iopub.status.idle": "2023-07-21T06:36:26.757984Z",
     "shell.execute_reply": "2023-07-21T06:36:26.757300Z"
    },
    "papermill": {
     "duration": 0.010386,
     "end_time": "2023-07-21T06:36:26.759588",
     "exception": false,
     "start_time": "2023-07-21T06:36:26.749202",
     "status": "completed"
    },
    "tags": []
   },
   "outputs": [],
   "source": [
    "###"
   ]
  },
  {
   "cell_type": "code",
   "execution_count": null,
   "id": "ea7d6575",
   "metadata": {
    "papermill": {
     "duration": 0.004239,
     "end_time": "2023-07-21T06:36:26.768446",
     "exception": false,
     "start_time": "2023-07-21T06:36:26.764207",
     "status": "completed"
    },
    "tags": []
   },
   "outputs": [],
   "source": []
  }
 ],
 "metadata": {
  "jupytext": {
   "cell_metadata_filter": "tags,-all",
   "main_language": "python",
   "notebook_metadata_filter": "-all"
  },
  "language_info": {
   "codemirror_mode": {
    "name": "ipython",
    "version": 3
   },
   "file_extension": ".py",
   "mimetype": "text/x-python",
   "name": "python",
   "nbconvert_exporter": "python",
   "pygments_lexer": "ipython3",
   "version": "3.8.10"
  },
  "papermill": {
   "default_parameters": {},
   "duration": 5.298704,
   "end_time": "2023-07-21T06:36:28.803019",
   "environment_variables": {},
   "exception": null,
   "input_path": "/tmp/temp-notebook-laikr6i0.ipynb",
   "output_path": "/tmp/temp-notebook-laikr6i0.ipynb",
   "parameters": {
    "P": {
     "_parameters_actor_name": "parameter_for_task_0xb55aa626eaaaa2f1"
    }
   },
   "start_time": "2023-07-21T06:36:23.504315",
   "version": "2.4.0"
  }
 },
 "nbformat": 4,
 "nbformat_minor": 5
}