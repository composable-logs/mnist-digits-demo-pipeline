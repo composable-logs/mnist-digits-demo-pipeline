{
 "cells": [
  {
   "cell_type": "markdown",
   "id": "630d2556",
   "metadata": {
    "papermill": {
     "duration": 0.00516,
     "end_time": "2023-07-25T06:36:27.800007",
     "exception": false,
     "start_time": "2023-07-25T06:36:27.794847",
     "status": "completed"
    },
    "tags": []
   },
   "source": [
    "# Benchmark model\n",
    "\n",
    "The purpose of this notebook is to benchmark persisted onnx-model (trained in the\n",
    "previous step) against evaluation set."
   ]
  },
  {
   "cell_type": "markdown",
   "id": "44d68145",
   "metadata": {
    "papermill": {
     "duration": 0.003739,
     "end_time": "2023-07-25T06:36:27.809627",
     "exception": false,
     "start_time": "2023-07-25T06:36:27.805888",
     "status": "completed"
    },
    "tags": []
   },
   "source": [
    "### Determine run parameters"
   ]
  },
  {
   "cell_type": "code",
   "execution_count": 1,
   "id": "987ec1ea",
   "metadata": {
    "execution": {
     "iopub.execute_input": "2023-07-25T06:36:27.818982Z",
     "iopub.status.busy": "2023-07-25T06:36:27.818500Z",
     "iopub.status.idle": "2023-07-25T06:36:27.825585Z",
     "shell.execute_reply": "2023-07-25T06:36:27.825027Z"
    },
    "lines_to_next_cell": 0,
    "papermill": {
     "duration": 0.013987,
     "end_time": "2023-07-25T06:36:27.827433",
     "exception": false,
     "start_time": "2023-07-25T06:36:27.813446",
     "status": "completed"
    },
    "tags": []
   },
   "outputs": [],
   "source": [
    "# ----------------- Parameters for interactive development --------------\n",
    "P = {\n",
    "    \"workflow.data_lake_root\": \"/pipeline-outputs/data-lake\",\n",
    "    \"task.nr_train_images\": 600,\n",
    "}"
   ]
  },
  {
   "cell_type": "code",
   "execution_count": 2,
   "id": "67431b4a",
   "metadata": {
    "execution": {
     "iopub.execute_input": "2023-07-25T06:36:27.836544Z",
     "iopub.status.busy": "2023-07-25T06:36:27.836280Z",
     "iopub.status.idle": "2023-07-25T06:36:27.844245Z",
     "shell.execute_reply": "2023-07-25T06:36:27.843665Z"
    },
    "lines_to_next_cell": 0,
    "papermill": {
     "duration": 0.014708,
     "end_time": "2023-07-25T06:36:27.845963",
     "exception": false,
     "start_time": "2023-07-25T06:36:27.831255",
     "status": "completed"
    },
    "tags": [
     "parameters"
    ]
   },
   "outputs": [],
   "source": [
    "# - During automated runs parameters will be injected in the below cell -"
   ]
  },
  {
   "cell_type": "code",
   "execution_count": 3,
   "id": "837223bd",
   "metadata": {
    "execution": {
     "iopub.execute_input": "2023-07-25T06:36:27.855657Z",
     "iopub.status.busy": "2023-07-25T06:36:27.855393Z",
     "iopub.status.idle": "2023-07-25T06:36:27.859933Z",
     "shell.execute_reply": "2023-07-25T06:36:27.859377Z"
    },
    "papermill": {
     "duration": 0.011666,
     "end_time": "2023-07-25T06:36:27.861682",
     "exception": false,
     "start_time": "2023-07-25T06:36:27.850016",
     "status": "completed"
    },
    "tags": [
     "injected-parameters"
    ]
   },
   "outputs": [],
   "source": [
    "# Parameters\n",
    "P = {\n",
    "    \"task.nr_train_images\": 800,\n",
    "    \"_parameters_actor_name\": \"parameter_for_task_0xda95f06d49400c65\",\n",
    "}\n"
   ]
  },
  {
   "cell_type": "code",
   "execution_count": 4,
   "id": "d668c819",
   "metadata": {
    "execution": {
     "iopub.execute_input": "2023-07-25T06:36:27.870922Z",
     "iopub.status.busy": "2023-07-25T06:36:27.870673Z",
     "iopub.status.idle": "2023-07-25T06:36:27.874748Z",
     "shell.execute_reply": "2023-07-25T06:36:27.874227Z"
    },
    "lines_to_next_cell": 0,
    "papermill": {
     "duration": 0.010637,
     "end_time": "2023-07-25T06:36:27.876479",
     "exception": false,
     "start_time": "2023-07-25T06:36:27.865842",
     "status": "completed"
    },
    "tags": []
   },
   "outputs": [],
   "source": [
    "# -----------------------------------------------------------------------"
   ]
  },
  {
   "cell_type": "markdown",
   "id": "99685803",
   "metadata": {
    "papermill": {
     "duration": 0.003834,
     "end_time": "2023-07-25T06:36:27.884202",
     "exception": false,
     "start_time": "2023-07-25T06:36:27.880368",
     "status": "completed"
    },
    "tags": []
   },
   "source": [
    "---"
   ]
  },
  {
   "cell_type": "markdown",
   "id": "7b6b074a",
   "metadata": {
    "lines_to_next_cell": 2,
    "papermill": {
     "duration": 0.00377,
     "end_time": "2023-07-25T06:36:27.892888",
     "exception": false,
     "start_time": "2023-07-25T06:36:27.889118",
     "status": "completed"
    },
    "tags": []
   },
   "source": [
    "### Notebook code"
   ]
  },
  {
   "cell_type": "code",
   "execution_count": 5,
   "id": "d42c77c1",
   "metadata": {
    "execution": {
     "iopub.execute_input": "2023-07-25T06:36:27.902211Z",
     "iopub.status.busy": "2023-07-25T06:36:27.901944Z",
     "iopub.status.idle": "2023-07-25T06:36:28.738159Z",
     "shell.execute_reply": "2023-07-25T06:36:28.737205Z"
    },
    "papermill": {
     "duration": 0.842731,
     "end_time": "2023-07-25T06:36:28.739717",
     "exception": false,
     "start_time": "2023-07-25T06:36:27.896986",
     "status": "completed"
    },
    "tags": []
   },
   "outputs": [
    {
     "name": "stderr",
     "output_type": "stream",
     "text": [
      "2023-07-25 06:36:28,666\tINFO worker.py:1364 -- Connecting to existing Ray cluster at address: 172.17.0.2:63822...\n"
     ]
    },
    {
     "name": "stderr",
     "output_type": "stream",
     "text": [
      "2023-07-25 06:36:28,674\tINFO worker.py:1544 -- Connected to Ray cluster. View the dashboard at \u001b[1m\u001b[32mhttp://127.0.0.1:8265 \u001b[39m\u001b[22m\n"
     ]
    },
    {
     "name": "stderr",
     "output_type": "stream",
     "text": [
      "/home/host_user/.local/lib/python3.8/site-packages/ray/runtime_context.py:27: RayDeprecationWarning: This API is deprecated and may be removed in future Ray releases. You could suppress this warning by setting env variable PYTHONWARNINGS=\"ignore::DeprecationWarning\"\n",
      "Use get_job_id() instead\n",
      "  \"job_id\": self.job_id,\n",
      "/home/host_user/.local/lib/python3.8/site-packages/ray/runtime_context.py:28: RayDeprecationWarning: This API is deprecated and may be removed in future Ray releases. You could suppress this warning by setting env variable PYTHONWARNINGS=\"ignore::DeprecationWarning\"\n",
      "Use get_node_id() instead\n",
      "  \"node_id\": self.node_id,\n"
     ]
    }
   ],
   "source": [
    "import itertools as it\n",
    "\n",
    "#\n",
    "import numpy as np\n",
    "import matplotlib.pyplot as plt\n",
    "\n",
    "#\n",
    "from composable_logs.tasks.task_opentelemetry_logging import get_task_context\n",
    "\n",
    "#\n",
    "from common.io import datalake_root\n",
    "\n",
    "ctx = get_task_context(P)"
   ]
  },
  {
   "cell_type": "markdown",
   "id": "fb2b41d3",
   "metadata": {
    "papermill": {
     "duration": 0.004064,
     "end_time": "2023-07-25T06:36:28.748368",
     "exception": false,
     "start_time": "2023-07-25T06:36:28.744304",
     "status": "completed"
    },
    "tags": []
   },
   "source": [
    "## Load persisted onnx-model and evaluation data"
   ]
  },
  {
   "cell_type": "code",
   "execution_count": 6,
   "id": "ac5c0554",
   "metadata": {
    "execution": {
     "iopub.execute_input": "2023-07-25T06:36:28.758269Z",
     "iopub.status.busy": "2023-07-25T06:36:28.757976Z",
     "iopub.status.idle": "2023-07-25T06:36:28.762447Z",
     "shell.execute_reply": "2023-07-25T06:36:28.761844Z"
    },
    "papermill": {
     "duration": 0.011027,
     "end_time": "2023-07-25T06:36:28.763890",
     "exception": false,
     "start_time": "2023-07-25T06:36:28.752863",
     "status": "completed"
    },
    "tags": []
   },
   "outputs": [],
   "source": [
    "from common.io import read_onnx, get_onnx_inputs, get_onnx_outputs, read_numpy"
   ]
  },
  {
   "cell_type": "code",
   "execution_count": 7,
   "id": "0af6851c",
   "metadata": {
    "execution": {
     "iopub.execute_input": "2023-07-25T06:36:28.773609Z",
     "iopub.status.busy": "2023-07-25T06:36:28.773265Z",
     "iopub.status.idle": "2023-07-25T06:36:28.781052Z",
     "shell.execute_reply": "2023-07-25T06:36:28.780508Z"
    },
    "lines_to_next_cell": 0,
    "papermill": {
     "duration": 0.014458,
     "end_time": "2023-07-25T06:36:28.782590",
     "exception": false,
     "start_time": "2023-07-25T06:36:28.768132",
     "status": "completed"
    },
    "tags": []
   },
   "outputs": [],
   "source": [
    "onnx_inference_session = read_onnx(\n",
    "    datalake_root(ctx)\n",
    "    / \"models\"\n",
    "    / f\"nr_train_images={ctx.parameters['task.nr_train_images']}\"\n",
    "    / \"model.onnx\"\n",
    ")"
   ]
  },
  {
   "cell_type": "markdown",
   "id": "1ca0545c",
   "metadata": {
    "papermill": {
     "duration": 0.004131,
     "end_time": "2023-07-25T06:36:28.790815",
     "exception": false,
     "start_time": "2023-07-25T06:36:28.786684",
     "status": "completed"
    },
    "tags": []
   },
   "source": [
    "### Record structure of inputs and outputs for ONNX model\n",
    "\n",
    "(this should likely be done in training notebook)"
   ]
  },
  {
   "cell_type": "code",
   "execution_count": 8,
   "id": "63e52ef9",
   "metadata": {
    "execution": {
     "iopub.execute_input": "2023-07-25T06:36:28.800324Z",
     "iopub.status.busy": "2023-07-25T06:36:28.799844Z",
     "iopub.status.idle": "2023-07-25T06:36:28.806367Z",
     "shell.execute_reply": "2023-07-25T06:36:28.805737Z"
    },
    "papermill": {
     "duration": 0.012975,
     "end_time": "2023-07-25T06:36:28.807925",
     "exception": false,
     "start_time": "2023-07-25T06:36:28.794950",
     "status": "completed"
    },
    "tags": []
   },
   "outputs": [
    {
     "name": "stdout",
     "output_type": "stream",
     "text": [
      "{\n",
      "  \"inputs\": [\n",
      "    {\n",
      "      \"name\": \"float_input_8x8_image\",\n",
      "      \"shape\": [\n",
      "        null,\n",
      "        64\n",
      "      ],\n",
      "      \"type\": \"tensor(float)\"\n",
      "    }\n",
      "  ],\n",
      "  \"outputs\": [\n",
      "    {\n",
      "      \"name\": \"output_label\",\n",
      "      \"shape\": [\n",
      "        null\n",
      "      ],\n",
      "      \"type\": \"tensor(int64)\"\n",
      "    },\n",
      "    {\n",
      "      \"name\": \"output_probability\",\n",
      "      \"shape\": [],\n",
      "      \"type\": \"seq(map(int64,tensor(float)))\"\n",
      "    }\n",
      "  ]\n",
      "}\n"
     ]
    }
   ],
   "source": [
    "import json\n",
    "\n",
    "onnx_io = json.dumps(\n",
    "    {\n",
    "        \"inputs\": get_onnx_inputs(onnx_inference_session),\n",
    "        \"outputs\": get_onnx_outputs(onnx_inference_session),\n",
    "    },\n",
    "    indent=2,\n",
    ")\n",
    "\n",
    "\n",
    "ctx.log_artefact(\"onnx_io_structure.json\", onnx_io)\n",
    "print(onnx_io)"
   ]
  },
  {
   "cell_type": "markdown",
   "id": "8cfda85c",
   "metadata": {
    "papermill": {
     "duration": 0.004102,
     "end_time": "2023-07-25T06:36:28.816268",
     "exception": false,
     "start_time": "2023-07-25T06:36:28.812166",
     "status": "completed"
    },
    "tags": []
   },
   "source": [
    "### Evaluate model performance on evaluation data set"
   ]
  },
  {
   "cell_type": "code",
   "execution_count": 9,
   "id": "dd7b04c6",
   "metadata": {
    "execution": {
     "iopub.execute_input": "2023-07-25T06:36:28.833586Z",
     "iopub.status.busy": "2023-07-25T06:36:28.833057Z",
     "iopub.status.idle": "2023-07-25T06:36:28.838795Z",
     "shell.execute_reply": "2023-07-25T06:36:28.838205Z"
    },
    "papermill": {
     "duration": 0.012775,
     "end_time": "2023-07-25T06:36:28.840322",
     "exception": false,
     "start_time": "2023-07-25T06:36:28.827547",
     "status": "completed"
    },
    "tags": []
   },
   "outputs": [],
   "source": [
    "# load evaluation data\n",
    "X_test = read_numpy(datalake_root(ctx) / \"test-data\" / \"digits.numpy\")\n",
    "y_test = read_numpy(datalake_root(ctx) / \"test-data\" / \"labels.numpy\")"
   ]
  },
  {
   "cell_type": "code",
   "execution_count": 10,
   "id": "a09002d3",
   "metadata": {
    "execution": {
     "iopub.execute_input": "2023-07-25T06:36:28.850515Z",
     "iopub.status.busy": "2023-07-25T06:36:28.849926Z",
     "iopub.status.idle": "2023-07-25T06:36:28.861723Z",
     "shell.execute_reply": "2023-07-25T06:36:28.861104Z"
    },
    "papermill": {
     "duration": 0.018402,
     "end_time": "2023-07-25T06:36:28.863151",
     "exception": false,
     "start_time": "2023-07-25T06:36:28.844749",
     "status": "completed"
    },
    "tags": []
   },
   "outputs": [],
   "source": [
    "def get_model_outputs(X, onnx_inference_session):\n",
    "    y_pred_labels, y_pred_map = onnx_inference_session.run(\n",
    "        [\"output_label\", \"output_probability\"],\n",
    "        {\"float_input_8x8_image\": X.astype(np.float32)},\n",
    "    )\n",
    "    y_pred_probs = np.array(\n",
    "        [[probabilities[digit] for digit in range(10)] for probabilities in y_pred_map]\n",
    "    )\n",
    "\n",
    "    assert y_pred_labels.shape == (X.shape[0],)\n",
    "    assert y_pred_probs.shape == (X.shape[0], 10)\n",
    "\n",
    "    return y_pred_labels, y_pred_probs\n",
    "\n",
    "\n",
    "# Note: as shown in the training notebook, the predicted labels and probabilities\n",
    "# computed below need not be compatible.\n",
    "y_pred_labels_test, y_pred_probs_test = get_model_outputs(\n",
    "    X_test, onnx_inference_session\n",
    ")"
   ]
  },
  {
   "cell_type": "markdown",
   "id": "1879bd1b",
   "metadata": {
    "papermill": {
     "duration": 0.004207,
     "end_time": "2023-07-25T06:36:28.871797",
     "exception": false,
     "start_time": "2023-07-25T06:36:28.867590",
     "status": "completed"
    },
    "tags": []
   },
   "source": [
    "### Confusion matrix"
   ]
  },
  {
   "cell_type": "code",
   "execution_count": 11,
   "id": "52a9aba2",
   "metadata": {
    "execution": {
     "iopub.execute_input": "2023-07-25T06:36:28.881761Z",
     "iopub.status.busy": "2023-07-25T06:36:28.881095Z",
     "iopub.status.idle": "2023-07-25T06:36:28.884095Z",
     "shell.execute_reply": "2023-07-25T06:36:28.883555Z"
    },
    "papermill": {
     "duration": 0.009531,
     "end_time": "2023-07-25T06:36:28.885473",
     "exception": false,
     "start_time": "2023-07-25T06:36:28.875942",
     "status": "completed"
    },
    "tags": []
   },
   "outputs": [],
   "source": [
    "# TODO"
   ]
  },
  {
   "cell_type": "markdown",
   "id": "599abdec",
   "metadata": {
    "papermill": {
     "duration": 0.004188,
     "end_time": "2023-07-25T06:36:28.894438",
     "exception": false,
     "start_time": "2023-07-25T06:36:28.890250",
     "status": "completed"
    },
    "tags": []
   },
   "source": [
    "### Plot predicted probabilities for each classifier over all evaluation digit images"
   ]
  },
  {
   "cell_type": "code",
   "execution_count": 12,
   "id": "b24e08dc",
   "metadata": {
    "execution": {
     "iopub.execute_input": "2023-07-25T06:36:28.904457Z",
     "iopub.status.busy": "2023-07-25T06:36:28.903845Z",
     "iopub.status.idle": "2023-07-25T06:36:32.311093Z",
     "shell.execute_reply": "2023-07-25T06:36:32.310369Z"
    },
    "papermill": {
     "duration": 3.414108,
     "end_time": "2023-07-25T06:36:32.312727",
     "exception": false,
     "start_time": "2023-07-25T06:36:28.898619",
     "status": "completed"
    },
    "tags": []
   },
   "outputs": [
    {
     "data": {
      "image/png": "[encoded data removed]",
      "text/plain": [
       "<Figure size 1600x600 with 10 Axes>"
      ]
     },
     "metadata": {},
     "output_type": "display_data"
    }
   ],
   "source": [
    "def plot_per_digit_probabilities(y_pred_probs):\n",
    "    fig, axs = plt.subplots(nrows=2, ncols=5, figsize=(16, 6))\n",
    "\n",
    "    for (r, c), digit, ax in zip(\n",
    "        it.product(range(2), range(5)), range(10), axs.reshape(-1)\n",
    "    ):\n",
    "        ax.hist(y_pred_probs_test[:, digit], bins=20)\n",
    "\n",
    "        ax.set_title(f\"Digit {digit}\")\n",
    "        if r == 1 and c == 2:\n",
    "            ax.set_xlabel(\"probability\", fontsize=16)\n",
    "\n",
    "        if c == 0:\n",
    "            ax.set_ylabel(\"counts\", fontsize=16)\n",
    "        ax.set_yscale(\"log\")\n",
    "\n",
    "    fig.tight_layout()\n",
    "    fig.suptitle(\n",
    "        f\"Distributions of prediction probabilities for each digit \"\n",
    "        f\"(on evaluation data, n={y_pred_probs.shape[0]})\",\n",
    "        fontsize=20,\n",
    "    )\n",
    "    fig.tight_layout()\n",
    "    fig.show()\n",
    "\n",
    "    return fig\n",
    "\n",
    "\n",
    "fig = plot_per_digit_probabilities(y_pred_probs_test)"
   ]
  },
  {
   "cell_type": "markdown",
   "id": "36baa80a",
   "metadata": {
    "papermill": {
     "duration": 0.004978,
     "end_time": "2023-07-25T06:36:32.323485",
     "exception": false,
     "start_time": "2023-07-25T06:36:32.318507",
     "status": "completed"
    },
    "tags": []
   },
   "source": [
    "From the above distributions we see that most digits have clear separation between\n",
    "high and lower probabilities. Morover, in each case there is roughly an order of\n",
    "magnitude more of digits with low probabilities. This is compatible with digits\n",
    "being roughly evenly distributed in the data."
   ]
  },
  {
   "cell_type": "code",
   "execution_count": 13,
   "id": "acf8000f",
   "metadata": {
    "execution": {
     "iopub.execute_input": "2023-07-25T06:36:32.334914Z",
     "iopub.status.busy": "2023-07-25T06:36:32.334539Z",
     "iopub.status.idle": "2023-07-25T06:36:32.904547Z",
     "shell.execute_reply": "2023-07-25T06:36:32.903865Z"
    },
    "papermill": {
     "duration": 0.577835,
     "end_time": "2023-07-25T06:36:32.906345",
     "exception": false,
     "start_time": "2023-07-25T06:36:32.328510",
     "status": "completed"
    },
    "tags": []
   },
   "outputs": [],
   "source": [
    "ctx.log_figure(\"per-digit-probabilities.png\", fig)"
   ]
  },
  {
   "cell_type": "markdown",
   "id": "82551b94",
   "metadata": {
    "papermill": {
     "duration": 0.005626,
     "end_time": "2023-07-25T06:36:32.917630",
     "exception": false,
     "start_time": "2023-07-25T06:36:32.912004",
     "status": "completed"
    },
    "tags": []
   },
   "source": [
    "### Plot ROC curves for individual one-vs-rest classifiers"
   ]
  },
  {
   "cell_type": "code",
   "execution_count": 14,
   "id": "dd4d4e63",
   "metadata": {
    "execution": {
     "iopub.execute_input": "2023-07-25T06:36:32.929851Z",
     "iopub.status.busy": "2023-07-25T06:36:32.929572Z",
     "iopub.status.idle": "2023-07-25T06:36:33.222802Z",
     "shell.execute_reply": "2023-07-25T06:36:33.222119Z"
    },
    "papermill": {
     "duration": 0.301225,
     "end_time": "2023-07-25T06:36:33.224536",
     "exception": false,
     "start_time": "2023-07-25T06:36:32.923311",
     "status": "completed"
    },
    "tags": []
   },
   "outputs": [],
   "source": [
    "from sklearn import metrics"
   ]
  },
  {
   "cell_type": "code",
   "execution_count": 15,
   "id": "e5b1e182",
   "metadata": {
    "execution": {
     "iopub.execute_input": "2023-07-25T06:36:33.238581Z",
     "iopub.status.busy": "2023-07-25T06:36:33.238042Z",
     "iopub.status.idle": "2023-07-25T06:36:34.923976Z",
     "shell.execute_reply": "2023-07-25T06:36:34.923353Z"
    },
    "papermill": {
     "duration": 1.69424,
     "end_time": "2023-07-25T06:36:34.925860",
     "exception": false,
     "start_time": "2023-07-25T06:36:33.231620",
     "status": "completed"
    },
    "tags": []
   },
   "outputs": [
    {
     "data": {
      "image/png": "[encoded data removed]",
      "text/plain": [
       "<Figure size 1600x800 with 10 Axes>"
      ]
     },
     "metadata": {},
     "output_type": "display_data"
    }
   ],
   "source": [
    "def plot_roc_curves(y, y_pred_probs):\n",
    "    # based on example code\n",
    "    # https://scikit-learn.org/stable/auto_examples/model_selection/plot_roc.html\n",
    "\n",
    "    fig, axs = plt.subplots(nrows=2, ncols=5, figsize=(16, 8))\n",
    "\n",
    "    roc_auc_dict = {}\n",
    "\n",
    "    for (r, c), digit, ax in zip(\n",
    "        it.product(range(2), range(5)), range(10), axs.reshape(-1)\n",
    "    ):\n",
    "        fpr, tpr, _ = metrics.roc_curve(y == digit, y_pred_probs[:, digit])\n",
    "        auc = metrics.auc(fpr, tpr)\n",
    "        roc_auc_dict[str(digit)] = auc\n",
    "\n",
    "        ax.plot(fpr, tpr, label=f\"ROC AUC={round(auc, 3)}\")\n",
    "\n",
    "        ax.set_title(f\"\\nDigit {digit}\", fontsize=16)\n",
    "        if r == 1:\n",
    "            ax.set_xlabel(\"FPR\", fontsize=18)\n",
    "\n",
    "        if c == 0:\n",
    "            ax.set_ylabel(\"TPR\", fontsize=18)\n",
    "\n",
    "        ax.set_xlim([-0.05, 1.05])\n",
    "        ax.set_ylim([-0.05, 1.05])\n",
    "        ax.legend(loc=\"lower right\", frameon=False, fontsize=14)\n",
    "\n",
    "    fig.tight_layout()\n",
    "    fig.suptitle(\n",
    "        f\"ROC plots for one-vs-rest performances \"\n",
    "        f\"(on evaluation data, n={y_pred_probs_test.shape[1]}\",\n",
    "        fontsize=22,\n",
    "    )\n",
    "    fig.tight_layout()\n",
    "    fig.show()\n",
    "\n",
    "    return roc_auc_dict, fig\n",
    "\n",
    "\n",
    "roc_auc_dict, fig = plot_roc_curves(y_test, y_pred_probs_test)"
   ]
  },
  {
   "cell_type": "code",
   "execution_count": 16,
   "id": "e341b7fd",
   "metadata": {
    "execution": {
     "iopub.execute_input": "2023-07-25T06:36:34.940226Z",
     "iopub.status.busy": "2023-07-25T06:36:34.939953Z",
     "iopub.status.idle": "2023-07-25T06:36:35.255414Z",
     "shell.execute_reply": "2023-07-25T06:36:35.254742Z"
    },
    "papermill": {
     "duration": 0.32513,
     "end_time": "2023-07-25T06:36:35.257668",
     "exception": false,
     "start_time": "2023-07-25T06:36:34.932538",
     "status": "completed"
    },
    "tags": []
   },
   "outputs": [],
   "source": [
    "ctx.log_figure(\"per-digit-roc-curves.png\", fig)"
   ]
  },
  {
   "cell_type": "code",
   "execution_count": 17,
   "id": "c7d6bfb2",
   "metadata": {
    "execution": {
     "iopub.execute_input": "2023-07-25T06:36:35.271984Z",
     "iopub.status.busy": "2023-07-25T06:36:35.271587Z",
     "iopub.status.idle": "2023-07-25T06:36:35.279840Z",
     "shell.execute_reply": "2023-07-25T06:36:35.279182Z"
    },
    "papermill": {
     "duration": 0.01744,
     "end_time": "2023-07-25T06:36:35.281533",
     "exception": false,
     "start_time": "2023-07-25T06:36:35.264093",
     "status": "completed"
    },
    "tags": []
   },
   "outputs": [
    {
     "data": {
      "text/plain": [
       "{'0': 1.0,\n",
       " '1': 0.9988003748828491,\n",
       " '2': 1.0,\n",
       " '3': 0.9998500468603562,\n",
       " '4': 0.9995808565767414,\n",
       " '5': 0.9990627928772259,\n",
       " '6': 0.999961896052431,\n",
       " '7': 0.9998856881572931,\n",
       " '8': 0.9927096469104666,\n",
       " '9': 0.9994665447340344}"
      ]
     },
     "execution_count": 17,
     "metadata": {},
     "output_type": "execute_result"
    }
   ],
   "source": [
    "roc_auc_dict"
   ]
  },
  {
   "cell_type": "code",
   "execution_count": 18,
   "id": "3e24a6ec",
   "metadata": {
    "execution": {
     "iopub.execute_input": "2023-07-25T06:36:35.296368Z",
     "iopub.status.busy": "2023-07-25T06:36:35.295843Z",
     "iopub.status.idle": "2023-07-25T06:36:35.301486Z",
     "shell.execute_reply": "2023-07-25T06:36:35.300812Z"
    },
    "papermill": {
     "duration": 0.014742,
     "end_time": "2023-07-25T06:36:35.302917",
     "exception": false,
     "start_time": "2023-07-25T06:36:35.288175",
     "status": "completed"
    },
    "tags": []
   },
   "outputs": [
    {
     "name": "stdout",
     "output_type": "stream",
     "text": [
      " - Logging roc_auc_per_digit (json) : {'0': 1.0, '1': 0.9988003748828491, '2': 1.0, '3': 0.9998500468603562, '4': 0.9995808565767414, '5': 0.9990627928772259, '6': 0.999961896052431, '7': 0.9998856881572931, '8': 0.9927096469104666, '9': 0.9994665447340344}\n"
     ]
    }
   ],
   "source": [
    "ctx.log_value(\"roc_auc_per_digit\", roc_auc_dict)"
   ]
  },
  {
   "cell_type": "markdown",
   "id": "73dc40b7",
   "metadata": {
    "papermill": {
     "duration": 0.006376,
     "end_time": "2023-07-25T06:36:35.315847",
     "exception": false,
     "start_time": "2023-07-25T06:36:35.309471",
     "status": "completed"
    },
    "tags": []
   },
   "source": [
    "### Compute and log mean ROC AUC score averaged over all digits"
   ]
  },
  {
   "cell_type": "code",
   "execution_count": 19,
   "id": "b92dbd6d",
   "metadata": {
    "execution": {
     "iopub.execute_input": "2023-07-25T06:36:35.330732Z",
     "iopub.status.busy": "2023-07-25T06:36:35.329855Z",
     "iopub.status.idle": "2023-07-25T06:36:35.340821Z",
     "shell.execute_reply": "2023-07-25T06:36:35.340215Z"
    },
    "papermill": {
     "duration": 0.020151,
     "end_time": "2023-07-25T06:36:35.342466",
     "exception": false,
     "start_time": "2023-07-25T06:36:35.322315",
     "status": "completed"
    },
    "tags": []
   },
   "outputs": [
    {
     "name": "stdout",
     "output_type": "stream",
     "text": [
      " - Logging roc_auc_class_mean (float) : 0.9989317847051398\n"
     ]
    }
   ],
   "source": [
    "roc_auc_macro = np.mean(list(roc_auc_dict.values()))\n",
    "\n",
    "ctx.log_float(\"roc_auc_class_mean\", roc_auc_macro)\n",
    "\n",
    "# assert that the same value can be computed directly using sklearn\n",
    "assert roc_auc_macro == metrics.roc_auc_score(\n",
    "    y_test, y_pred_probs_test, average=\"macro\", multi_class=\"ovr\"\n",
    ")"
   ]
  },
  {
   "cell_type": "code",
   "execution_count": 20,
   "id": "fdeb71c5",
   "metadata": {
    "execution": {
     "iopub.execute_input": "2023-07-25T06:36:35.357054Z",
     "iopub.status.busy": "2023-07-25T06:36:35.356678Z",
     "iopub.status.idle": "2023-07-25T06:36:35.361164Z",
     "shell.execute_reply": "2023-07-25T06:36:35.360577Z"
    },
    "lines_to_next_cell": 0,
    "papermill": {
     "duration": 0.013843,
     "end_time": "2023-07-25T06:36:35.362927",
     "exception": false,
     "start_time": "2023-07-25T06:36:35.349084",
     "status": "completed"
    },
    "tags": []
   },
   "outputs": [],
   "source": [
    "# ---"
   ]
  },
  {
   "cell_type": "code",
   "execution_count": null,
   "id": "139a53ba",
   "metadata": {
    "papermill": {
     "duration": 0.006529,
     "end_time": "2023-07-25T06:36:35.376059",
     "exception": false,
     "start_time": "2023-07-25T06:36:35.369530",
     "status": "completed"
    },
    "tags": []
   },
   "outputs": [],
   "source": []
  }
 ],
 "metadata": {
  "jupytext": {
   "cell_metadata_filter": "tags,-all",
   "main_language": "python",
   "notebook_metadata_filter": "-all"
  },
  "language_info": {
   "codemirror_mode": {
    "name": "ipython",
    "version": 3
   },
   "file_extension": ".py",
   "mimetype": "text/x-python",
   "name": "python",
   "nbconvert_exporter": "python",
   "pygments_lexer": "ipython3",
   "version": "3.8.10"
  },
  "papermill": {
   "default_parameters": {},
   "duration": 10.730176,
   "end_time": "2023-07-25T06:36:37.215464",
   "environment_variables": {},
   "exception": null,
   "input_path": "/tmp/temp-notebook-fjtzvo1t.ipynb",
   "output_path": "/tmp/temp-notebook-fjtzvo1t.ipynb",
   "parameters": {
    "P": {
     "_parameters_actor_name": "parameter_for_task_0xda95f06d49400c65",
     "task.nr_train_images": 800
    }
   },
   "start_time": "2023-07-25T06:36:26.485288",
   "version": "2.4.0"
  }
 },
 "nbformat": 4,
 "nbformat_minor": 5
}