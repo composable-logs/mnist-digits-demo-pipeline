{
 "cells": [
  {
   "cell_type": "markdown",
   "id": "dfdd0b35",
   "metadata": {
    "papermill": {
     "duration": 0.005677,
     "end_time": "2023-07-30T06:32:59.330658",
     "exception": false,
     "start_time": "2023-07-30T06:32:59.324981",
     "status": "completed"
    },
    "tags": []
   },
   "source": [
    "# Benchmark model\n",
    "\n",
    "The purpose of this notebook is to benchmark persisted onnx-model (trained in the\n",
    "previous step) against evaluation set."
   ]
  },
  {
   "cell_type": "markdown",
   "id": "456eee36",
   "metadata": {
    "papermill": {
     "duration": 0.004148,
     "end_time": "2023-07-30T06:32:59.341287",
     "exception": false,
     "start_time": "2023-07-30T06:32:59.337139",
     "status": "completed"
    },
    "tags": []
   },
   "source": [
    "### Determine run parameters"
   ]
  },
  {
   "cell_type": "code",
   "execution_count": 1,
   "id": "c80c6510",
   "metadata": {
    "execution": {
     "iopub.execute_input": "2023-07-30T06:32:59.351531Z",
     "iopub.status.busy": "2023-07-30T06:32:59.351251Z",
     "iopub.status.idle": "2023-07-30T06:32:59.359706Z",
     "shell.execute_reply": "2023-07-30T06:32:59.359124Z"
    },
    "lines_to_next_cell": 0,
    "papermill": {
     "duration": 0.015785,
     "end_time": "2023-07-30T06:32:59.361404",
     "exception": false,
     "start_time": "2023-07-30T06:32:59.345619",
     "status": "completed"
    },
    "tags": []
   },
   "outputs": [],
   "source": [
    "# ----------------- Parameters for interactive development --------------\n",
    "P = {\n",
    "    \"workflow.data_lake_root\": \"/pipeline-outputs/data-lake\",\n",
    "    \"task.nr_train_images\": 600,\n",
    "}"
   ]
  },
  {
   "cell_type": "code",
   "execution_count": 2,
   "id": "14bd7d9a",
   "metadata": {
    "execution": {
     "iopub.execute_input": "2023-07-30T06:32:59.371913Z",
     "iopub.status.busy": "2023-07-30T06:32:59.371685Z",
     "iopub.status.idle": "2023-07-30T06:32:59.375878Z",
     "shell.execute_reply": "2023-07-30T06:32:59.375349Z"
    },
    "lines_to_next_cell": 0,
    "papermill": {
     "duration": 0.011271,
     "end_time": "2023-07-30T06:32:59.377588",
     "exception": false,
     "start_time": "2023-07-30T06:32:59.366317",
     "status": "completed"
    },
    "tags": [
     "parameters"
    ]
   },
   "outputs": [],
   "source": [
    "# - During automated runs parameters will be injected in the below cell -"
   ]
  },
  {
   "cell_type": "code",
   "execution_count": 3,
   "id": "6942a969",
   "metadata": {
    "execution": {
     "iopub.execute_input": "2023-07-30T06:32:59.387717Z",
     "iopub.status.busy": "2023-07-30T06:32:59.387500Z",
     "iopub.status.idle": "2023-07-30T06:32:59.391599Z",
     "shell.execute_reply": "2023-07-30T06:32:59.390986Z"
    },
    "papermill": {
     "duration": 0.011728,
     "end_time": "2023-07-30T06:32:59.393581",
     "exception": false,
     "start_time": "2023-07-30T06:32:59.381853",
     "status": "completed"
    },
    "tags": [
     "injected-parameters"
    ]
   },
   "outputs": [],
   "source": [
    "# Parameters\n",
    "P = {\n",
    "    \"task.nr_train_images\": 600,\n",
    "    \"_parameters_actor_name\": \"parameter_for_task_0x49d162553b3c4bfb\",\n",
    "}\n"
   ]
  },
  {
   "cell_type": "code",
   "execution_count": 4,
   "id": "02a5285b",
   "metadata": {
    "execution": {
     "iopub.execute_input": "2023-07-30T06:32:59.403041Z",
     "iopub.status.busy": "2023-07-30T06:32:59.402811Z",
     "iopub.status.idle": "2023-07-30T06:32:59.406811Z",
     "shell.execute_reply": "2023-07-30T06:32:59.405897Z"
    },
    "lines_to_next_cell": 0,
    "papermill": {
     "duration": 0.014417,
     "end_time": "2023-07-30T06:32:59.412196",
     "exception": false,
     "start_time": "2023-07-30T06:32:59.397779",
     "status": "completed"
    },
    "tags": []
   },
   "outputs": [],
   "source": [
    "# -----------------------------------------------------------------------"
   ]
  },
  {
   "cell_type": "markdown",
   "id": "22a15e55",
   "metadata": {
    "papermill": {
     "duration": 0.004054,
     "end_time": "2023-07-30T06:32:59.422036",
     "exception": false,
     "start_time": "2023-07-30T06:32:59.417982",
     "status": "completed"
    },
    "tags": []
   },
   "source": [
    "---"
   ]
  },
  {
   "cell_type": "markdown",
   "id": "85b6afb6",
   "metadata": {
    "lines_to_next_cell": 2,
    "papermill": {
     "duration": 0.004002,
     "end_time": "2023-07-30T06:32:59.430012",
     "exception": false,
     "start_time": "2023-07-30T06:32:59.426010",
     "status": "completed"
    },
    "tags": []
   },
   "source": [
    "### Notebook code"
   ]
  },
  {
   "cell_type": "code",
   "execution_count": 5,
   "id": "17ca8915",
   "metadata": {
    "execution": {
     "iopub.execute_input": "2023-07-30T06:32:59.439730Z",
     "iopub.status.busy": "2023-07-30T06:32:59.439452Z",
     "iopub.status.idle": "2023-07-30T06:33:00.341453Z",
     "shell.execute_reply": "2023-07-30T06:33:00.340784Z"
    },
    "papermill": {
     "duration": 0.909476,
     "end_time": "2023-07-30T06:33:00.343559",
     "exception": false,
     "start_time": "2023-07-30T06:32:59.434083",
     "status": "completed"
    },
    "tags": []
   },
   "outputs": [
    {
     "name": "stderr",
     "output_type": "stream",
     "text": [
      "2023-07-30 06:33:00,253\tINFO worker.py:1364 -- Connecting to existing Ray cluster at address: 172.17.0.2:60649...\n"
     ]
    },
    {
     "name": "stderr",
     "output_type": "stream",
     "text": [
      "2023-07-30 06:33:00,266\tINFO worker.py:1544 -- Connected to Ray cluster. View the dashboard at \u001b[1m\u001b[32mhttp://127.0.0.1:8265 \u001b[39m\u001b[22m\n"
     ]
    },
    {
     "name": "stderr",
     "output_type": "stream",
     "text": [
      "/home/host_user/.local/lib/python3.8/site-packages/ray/runtime_context.py:27: RayDeprecationWarning: This API is deprecated and may be removed in future Ray releases. You could suppress this warning by setting env variable PYTHONWARNINGS=\"ignore::DeprecationWarning\"\n",
      "Use get_job_id() instead\n",
      "  \"job_id\": self.job_id,\n",
      "/home/host_user/.local/lib/python3.8/site-packages/ray/runtime_context.py:28: RayDeprecationWarning: This API is deprecated and may be removed in future Ray releases. You could suppress this warning by setting env variable PYTHONWARNINGS=\"ignore::DeprecationWarning\"\n",
      "Use get_node_id() instead\n",
      "  \"node_id\": self.node_id,\n"
     ]
    }
   ],
   "source": [
    "import itertools as it\n",
    "\n",
    "#\n",
    "import numpy as np\n",
    "import matplotlib.pyplot as plt\n",
    "\n",
    "#\n",
    "from composable_logs.tasks.task_opentelemetry_logging import get_task_context\n",
    "\n",
    "#\n",
    "from common.io import datalake_root\n",
    "\n",
    "ctx = get_task_context(P)"
   ]
  },
  {
   "cell_type": "markdown",
   "id": "bf0ed52b",
   "metadata": {
    "papermill": {
     "duration": 0.010499,
     "end_time": "2023-07-30T06:33:00.358748",
     "exception": false,
     "start_time": "2023-07-30T06:33:00.348249",
     "status": "completed"
    },
    "tags": []
   },
   "source": [
    "## Load persisted onnx-model and evaluation data"
   ]
  },
  {
   "cell_type": "code",
   "execution_count": 6,
   "id": "72469987",
   "metadata": {
    "execution": {
     "iopub.execute_input": "2023-07-30T06:33:00.372779Z",
     "iopub.status.busy": "2023-07-30T06:33:00.372480Z",
     "iopub.status.idle": "2023-07-30T06:33:00.377652Z",
     "shell.execute_reply": "2023-07-30T06:33:00.377067Z"
    },
    "papermill": {
     "duration": 0.015463,
     "end_time": "2023-07-30T06:33:00.379529",
     "exception": false,
     "start_time": "2023-07-30T06:33:00.364066",
     "status": "completed"
    },
    "tags": []
   },
   "outputs": [],
   "source": [
    "from common.io import read_onnx, get_onnx_inputs, get_onnx_outputs, read_numpy"
   ]
  },
  {
   "cell_type": "code",
   "execution_count": 7,
   "id": "ad9f0cc5",
   "metadata": {
    "execution": {
     "iopub.execute_input": "2023-07-30T06:33:00.390236Z",
     "iopub.status.busy": "2023-07-30T06:33:00.389919Z",
     "iopub.status.idle": "2023-07-30T06:33:00.399803Z",
     "shell.execute_reply": "2023-07-30T06:33:00.399181Z"
    },
    "lines_to_next_cell": 0,
    "papermill": {
     "duration": 0.017457,
     "end_time": "2023-07-30T06:33:00.401560",
     "exception": false,
     "start_time": "2023-07-30T06:33:00.384103",
     "status": "completed"
    },
    "tags": []
   },
   "outputs": [],
   "source": [
    "onnx_inference_session = read_onnx(\n",
    "    datalake_root(ctx)\n",
    "    / \"models\"\n",
    "    / f\"nr_train_images={ctx.parameters['task.nr_train_images']}\"\n",
    "    / \"model.onnx\"\n",
    ")"
   ]
  },
  {
   "cell_type": "markdown",
   "id": "f716c900",
   "metadata": {
    "papermill": {
     "duration": 0.004445,
     "end_time": "2023-07-30T06:33:00.410509",
     "exception": false,
     "start_time": "2023-07-30T06:33:00.406064",
     "status": "completed"
    },
    "tags": []
   },
   "source": [
    "### Record structure of inputs and outputs for ONNX model\n",
    "\n",
    "(this should likely be done in training notebook)"
   ]
  },
  {
   "cell_type": "code",
   "execution_count": 8,
   "id": "446bd082",
   "metadata": {
    "execution": {
     "iopub.execute_input": "2023-07-30T06:33:00.421133Z",
     "iopub.status.busy": "2023-07-30T06:33:00.420853Z",
     "iopub.status.idle": "2023-07-30T06:33:00.428115Z",
     "shell.execute_reply": "2023-07-30T06:33:00.427534Z"
    },
    "papermill": {
     "duration": 0.014389,
     "end_time": "2023-07-30T06:33:00.429772",
     "exception": false,
     "start_time": "2023-07-30T06:33:00.415383",
     "status": "completed"
    },
    "tags": []
   },
   "outputs": [
    {
     "name": "stdout",
     "output_type": "stream",
     "text": [
      "{\n",
      "  \"inputs\": [\n",
      "    {\n",
      "      \"name\": \"float_input_8x8_image\",\n",
      "      \"shape\": [\n",
      "        null,\n",
      "        64\n",
      "      ],\n",
      "      \"type\": \"tensor(float)\"\n",
      "    }\n",
      "  ],\n",
      "  \"outputs\": [\n",
      "    {\n",
      "      \"name\": \"output_label\",\n",
      "      \"shape\": [\n",
      "        null\n",
      "      ],\n",
      "      \"type\": \"tensor(int64)\"\n",
      "    },\n",
      "    {\n",
      "      \"name\": \"output_probability\",\n",
      "      \"shape\": [],\n",
      "      \"type\": \"seq(map(int64,tensor(float)))\"\n",
      "    }\n",
      "  ]\n",
      "}\n"
     ]
    }
   ],
   "source": [
    "import json\n",
    "\n",
    "onnx_io = json.dumps(\n",
    "    {\n",
    "        \"inputs\": get_onnx_inputs(onnx_inference_session),\n",
    "        \"outputs\": get_onnx_outputs(onnx_inference_session),\n",
    "    },\n",
    "    indent=2,\n",
    ")\n",
    "\n",
    "\n",
    "ctx.log_artefact(\"onnx_io_structure.json\", onnx_io)\n",
    "print(onnx_io)"
   ]
  },
  {
   "cell_type": "markdown",
   "id": "4bee9e33",
   "metadata": {
    "papermill": {
     "duration": 0.004456,
     "end_time": "2023-07-30T06:33:00.438937",
     "exception": false,
     "start_time": "2023-07-30T06:33:00.434481",
     "status": "completed"
    },
    "tags": []
   },
   "source": [
    "### Evaluate model performance on evaluation data set"
   ]
  },
  {
   "cell_type": "code",
   "execution_count": 9,
   "id": "23c8ef3a",
   "metadata": {
    "execution": {
     "iopub.execute_input": "2023-07-30T06:33:00.449824Z",
     "iopub.status.busy": "2023-07-30T06:33:00.449546Z",
     "iopub.status.idle": "2023-07-30T06:33:00.455381Z",
     "shell.execute_reply": "2023-07-30T06:33:00.454803Z"
    },
    "papermill": {
     "duration": 0.017122,
     "end_time": "2023-07-30T06:33:00.460661",
     "exception": false,
     "start_time": "2023-07-30T06:33:00.443539",
     "status": "completed"
    },
    "tags": []
   },
   "outputs": [],
   "source": [
    "# load evaluation data\n",
    "X_test = read_numpy(datalake_root(ctx) / \"test-data\" / \"digits.numpy\")\n",
    "y_test = read_numpy(datalake_root(ctx) / \"test-data\" / \"labels.numpy\")"
   ]
  },
  {
   "cell_type": "code",
   "execution_count": 10,
   "id": "a2c9868f",
   "metadata": {
    "execution": {
     "iopub.execute_input": "2023-07-30T06:33:00.472782Z",
     "iopub.status.busy": "2023-07-30T06:33:00.472480Z",
     "iopub.status.idle": "2023-07-30T06:33:00.485009Z",
     "shell.execute_reply": "2023-07-30T06:33:00.484441Z"
    },
    "papermill": {
     "duration": 0.021413,
     "end_time": "2023-07-30T06:33:00.487454",
     "exception": false,
     "start_time": "2023-07-30T06:33:00.466041",
     "status": "completed"
    },
    "tags": []
   },
   "outputs": [],
   "source": [
    "def get_model_outputs(X, onnx_inference_session):\n",
    "    y_pred_labels, y_pred_map = onnx_inference_session.run(\n",
    "        [\"output_label\", \"output_probability\"],\n",
    "        {\"float_input_8x8_image\": X.astype(np.float32)},\n",
    "    )\n",
    "    y_pred_probs = np.array(\n",
    "        [[probabilities[digit] for digit in range(10)] for probabilities in y_pred_map]\n",
    "    )\n",
    "\n",
    "    assert y_pred_labels.shape == (X.shape[0],)\n",
    "    assert y_pred_probs.shape == (X.shape[0], 10)\n",
    "\n",
    "    return y_pred_labels, y_pred_probs\n",
    "\n",
    "\n",
    "# Note: as shown in the training notebook, the predicted labels and probabilities\n",
    "# computed below need not be compatible.\n",
    "y_pred_labels_test, y_pred_probs_test = get_model_outputs(\n",
    "    X_test, onnx_inference_session\n",
    ")"
   ]
  },
  {
   "cell_type": "markdown",
   "id": "80efe5ea",
   "metadata": {
    "papermill": {
     "duration": 0.004506,
     "end_time": "2023-07-30T06:33:00.497275",
     "exception": false,
     "start_time": "2023-07-30T06:33:00.492769",
     "status": "completed"
    },
    "tags": []
   },
   "source": [
    "### Confusion matrix"
   ]
  },
  {
   "cell_type": "code",
   "execution_count": 11,
   "id": "13f63748",
   "metadata": {
    "execution": {
     "iopub.execute_input": "2023-07-30T06:33:00.507575Z",
     "iopub.status.busy": "2023-07-30T06:33:00.507316Z",
     "iopub.status.idle": "2023-07-30T06:33:00.511366Z",
     "shell.execute_reply": "2023-07-30T06:33:00.510820Z"
    },
    "papermill": {
     "duration": 0.011677,
     "end_time": "2023-07-30T06:33:00.513400",
     "exception": false,
     "start_time": "2023-07-30T06:33:00.501723",
     "status": "completed"
    },
    "tags": []
   },
   "outputs": [],
   "source": [
    "# TODO"
   ]
  },
  {
   "cell_type": "markdown",
   "id": "73be77a0",
   "metadata": {
    "papermill": {
     "duration": 0.004421,
     "end_time": "2023-07-30T06:33:00.522294",
     "exception": false,
     "start_time": "2023-07-30T06:33:00.517873",
     "status": "completed"
    },
    "tags": []
   },
   "source": [
    "### Plot predicted probabilities for each classifier over all evaluation digit images"
   ]
  },
  {
   "cell_type": "code",
   "execution_count": 12,
   "id": "78012f35",
   "metadata": {
    "execution": {
     "iopub.execute_input": "2023-07-30T06:33:00.532516Z",
     "iopub.status.busy": "2023-07-30T06:33:00.532264Z",
     "iopub.status.idle": "2023-07-30T06:33:04.719572Z",
     "shell.execute_reply": "2023-07-30T06:33:04.718641Z"
    },
    "papermill": {
     "duration": 4.194768,
     "end_time": "2023-07-30T06:33:04.721450",
     "exception": false,
     "start_time": "2023-07-30T06:33:00.526682",
     "status": "completed"
    },
    "tags": []
   },
   "outputs": [
    {
     "data": {
      "image/png": "[encoded data removed]",
      "text/plain": [
       "<Figure size 1600x600 with 10 Axes>"
      ]
     },
     "metadata": {},
     "output_type": "display_data"
    }
   ],
   "source": [
    "def plot_per_digit_probabilities(y_pred_probs):\n",
    "    fig, axs = plt.subplots(nrows=2, ncols=5, figsize=(16, 6))\n",
    "\n",
    "    for (r, c), digit, ax in zip(\n",
    "        it.product(range(2), range(5)), range(10), axs.reshape(-1)\n",
    "    ):\n",
    "        ax.hist(y_pred_probs_test[:, digit], bins=20)\n",
    "\n",
    "        ax.set_title(f\"Digit {digit}\")\n",
    "        if r == 1 and c == 2:\n",
    "            ax.set_xlabel(\"probability\", fontsize=16)\n",
    "\n",
    "        if c == 0:\n",
    "            ax.set_ylabel(\"counts\", fontsize=16)\n",
    "        ax.set_yscale(\"log\")\n",
    "\n",
    "    fig.tight_layout()\n",
    "    fig.suptitle(\n",
    "        f\"Distributions of prediction probabilities for each digit \"\n",
    "        f\"(on evaluation data, n={y_pred_probs.shape[0]})\",\n",
    "        fontsize=20,\n",
    "    )\n",
    "    fig.tight_layout()\n",
    "    fig.show()\n",
    "\n",
    "    return fig\n",
    "\n",
    "\n",
    "fig = plot_per_digit_probabilities(y_pred_probs_test)"
   ]
  },
  {
   "cell_type": "markdown",
   "id": "88bf7f45",
   "metadata": {
    "papermill": {
     "duration": 0.005323,
     "end_time": "2023-07-30T06:33:04.732571",
     "exception": false,
     "start_time": "2023-07-30T06:33:04.727248",
     "status": "completed"
    },
    "tags": []
   },
   "source": [
    "From the above distributions we see that most digits have clear separation between\n",
    "high and lower probabilities. Morover, in each case there is roughly an order of\n",
    "magnitude more of digits with low probabilities. This is compatible with digits\n",
    "being roughly evenly distributed in the data."
   ]
  },
  {
   "cell_type": "code",
   "execution_count": 13,
   "id": "b9b259c8",
   "metadata": {
    "execution": {
     "iopub.execute_input": "2023-07-30T06:33:04.745261Z",
     "iopub.status.busy": "2023-07-30T06:33:04.744579Z",
     "iopub.status.idle": "2023-07-30T06:33:05.355984Z",
     "shell.execute_reply": "2023-07-30T06:33:05.354757Z"
    },
    "papermill": {
     "duration": 0.620138,
     "end_time": "2023-07-30T06:33:05.358166",
     "exception": false,
     "start_time": "2023-07-30T06:33:04.738028",
     "status": "completed"
    },
    "tags": []
   },
   "outputs": [],
   "source": [
    "ctx.log_figure(\"per-digit-probabilities.png\", fig)"
   ]
  },
  {
   "cell_type": "markdown",
   "id": "d1af1f32",
   "metadata": {
    "papermill": {
     "duration": 0.005318,
     "end_time": "2023-07-30T06:33:05.369219",
     "exception": false,
     "start_time": "2023-07-30T06:33:05.363901",
     "status": "completed"
    },
    "tags": []
   },
   "source": [
    "### Plot ROC curves for individual one-vs-rest classifiers"
   ]
  },
  {
   "cell_type": "code",
   "execution_count": 14,
   "id": "b583e127",
   "metadata": {
    "execution": {
     "iopub.execute_input": "2023-07-30T06:33:05.381602Z",
     "iopub.status.busy": "2023-07-30T06:33:05.381248Z",
     "iopub.status.idle": "2023-07-30T06:33:05.692600Z",
     "shell.execute_reply": "2023-07-30T06:33:05.690278Z"
    },
    "papermill": {
     "duration": 0.320265,
     "end_time": "2023-07-30T06:33:05.694943",
     "exception": false,
     "start_time": "2023-07-30T06:33:05.374678",
     "status": "completed"
    },
    "tags": []
   },
   "outputs": [],
   "source": [
    "from sklearn import metrics"
   ]
  },
  {
   "cell_type": "code",
   "execution_count": 15,
   "id": "8fbd1989",
   "metadata": {
    "execution": {
     "iopub.execute_input": "2023-07-30T06:33:05.708086Z",
     "iopub.status.busy": "2023-07-30T06:33:05.707593Z",
     "iopub.status.idle": "2023-07-30T06:33:07.730507Z",
     "shell.execute_reply": "2023-07-30T06:33:07.729737Z"
    },
    "papermill": {
     "duration": 2.034381,
     "end_time": "2023-07-30T06:33:07.735066",
     "exception": false,
     "start_time": "2023-07-30T06:33:05.700685",
     "status": "completed"
    },
    "tags": []
   },
   "outputs": [
    {
     "data": {
      "image/png": "[encoded data removed]",
      "text/plain": [
       "<Figure size 1600x800 with 10 Axes>"
      ]
     },
     "metadata": {},
     "output_type": "display_data"
    }
   ],
   "source": [
    "def plot_roc_curves(y, y_pred_probs):\n",
    "    # based on example code\n",
    "    # https://scikit-learn.org/stable/auto_examples/model_selection/plot_roc.html\n",
    "\n",
    "    fig, axs = plt.subplots(nrows=2, ncols=5, figsize=(16, 8))\n",
    "\n",
    "    roc_auc_dict = {}\n",
    "\n",
    "    for (r, c), digit, ax in zip(\n",
    "        it.product(range(2), range(5)), range(10), axs.reshape(-1)\n",
    "    ):\n",
    "        fpr, tpr, _ = metrics.roc_curve(y == digit, y_pred_probs[:, digit])\n",
    "        auc = metrics.auc(fpr, tpr)\n",
    "        roc_auc_dict[str(digit)] = auc\n",
    "\n",
    "        ax.plot(fpr, tpr, label=f\"ROC AUC={round(auc, 3)}\")\n",
    "\n",
    "        ax.set_title(f\"\\nDigit {digit}\", fontsize=16)\n",
    "        if r == 1:\n",
    "            ax.set_xlabel(\"FPR\", fontsize=18)\n",
    "\n",
    "        if c == 0:\n",
    "            ax.set_ylabel(\"TPR\", fontsize=18)\n",
    "\n",
    "        ax.set_xlim([-0.05, 1.05])\n",
    "        ax.set_ylim([-0.05, 1.05])\n",
    "        ax.legend(loc=\"lower right\", frameon=False, fontsize=14)\n",
    "\n",
    "    fig.tight_layout()\n",
    "    fig.suptitle(\n",
    "        f\"ROC plots for one-vs-rest performances \"\n",
    "        f\"(on evaluation data, n={y_pred_probs_test.shape[1]}\",\n",
    "        fontsize=22,\n",
    "    )\n",
    "    fig.tight_layout()\n",
    "    fig.show()\n",
    "\n",
    "    return roc_auc_dict, fig\n",
    "\n",
    "\n",
    "roc_auc_dict, fig = plot_roc_curves(y_test, y_pred_probs_test)"
   ]
  },
  {
   "cell_type": "code",
   "execution_count": 16,
   "id": "37dfc4bc",
   "metadata": {
    "execution": {
     "iopub.execute_input": "2023-07-30T06:33:07.751245Z",
     "iopub.status.busy": "2023-07-30T06:33:07.750644Z",
     "iopub.status.idle": "2023-07-30T06:33:08.107473Z",
     "shell.execute_reply": "2023-07-30T06:33:08.106747Z"
    },
    "papermill": {
     "duration": 0.366736,
     "end_time": "2023-07-30T06:33:08.109593",
     "exception": false,
     "start_time": "2023-07-30T06:33:07.742857",
     "status": "completed"
    },
    "tags": []
   },
   "outputs": [],
   "source": [
    "ctx.log_figure(\"per-digit-roc-curves.png\", fig)"
   ]
  },
  {
   "cell_type": "code",
   "execution_count": 17,
   "id": "38ec04e1",
   "metadata": {
    "execution": {
     "iopub.execute_input": "2023-07-30T06:33:08.124465Z",
     "iopub.status.busy": "2023-07-30T06:33:08.124210Z",
     "iopub.status.idle": "2023-07-30T06:33:08.130753Z",
     "shell.execute_reply": "2023-07-30T06:33:08.130091Z"
    },
    "papermill": {
     "duration": 0.015763,
     "end_time": "2023-07-30T06:33:08.132376",
     "exception": false,
     "start_time": "2023-07-30T06:33:08.116613",
     "status": "completed"
    },
    "tags": []
   },
   "outputs": [
    {
     "data": {
      "text/plain": [
       "{'0': 1.0,\n",
       " '1': 0.9992127460168697,\n",
       " '2': 1.0,\n",
       " '3': 0.9998125585754452,\n",
       " '4': 0.9991236092059138,\n",
       " '5': 0.998912839737582,\n",
       " '6': 0.999923792104862,\n",
       " '7': 0.9998475842097241,\n",
       " '8': 0.9942859394703657,\n",
       " '9': 0.9987044657826551}"
      ]
     },
     "execution_count": 17,
     "metadata": {},
     "output_type": "execute_result"
    }
   ],
   "source": [
    "roc_auc_dict"
   ]
  },
  {
   "cell_type": "code",
   "execution_count": 18,
   "id": "734f7669",
   "metadata": {
    "execution": {
     "iopub.execute_input": "2023-07-30T06:33:08.149894Z",
     "iopub.status.busy": "2023-07-30T06:33:08.149645Z",
     "iopub.status.idle": "2023-07-30T06:33:08.155646Z",
     "shell.execute_reply": "2023-07-30T06:33:08.155087Z"
    },
    "papermill": {
     "duration": 0.018513,
     "end_time": "2023-07-30T06:33:08.157422",
     "exception": false,
     "start_time": "2023-07-30T06:33:08.138909",
     "status": "completed"
    },
    "tags": []
   },
   "outputs": [
    {
     "name": "stdout",
     "output_type": "stream",
     "text": [
      " - Logging roc_auc_per_digit (json) : {'0': 1.0, '1': 0.9992127460168697, '2': 1.0, '3': 0.9998125585754452, '4': 0.9991236092059138, '5': 0.998912839737582, '6': 0.999923792104862, '7': 0.9998475842097241, '8': 0.9942859394703657, '9': 0.9987044657826551}\n"
     ]
    }
   ],
   "source": [
    "ctx.log_value(\"roc_auc_per_digit\", roc_auc_dict)"
   ]
  },
  {
   "cell_type": "markdown",
   "id": "19b68308",
   "metadata": {
    "papermill": {
     "duration": 0.006676,
     "end_time": "2023-07-30T06:33:08.170656",
     "exception": false,
     "start_time": "2023-07-30T06:33:08.163980",
     "status": "completed"
    },
    "tags": []
   },
   "source": [
    "### Compute and log mean ROC AUC score averaged over all digits"
   ]
  },
  {
   "cell_type": "code",
   "execution_count": 19,
   "id": "dc035f59",
   "metadata": {
    "execution": {
     "iopub.execute_input": "2023-07-30T06:33:08.185587Z",
     "iopub.status.busy": "2023-07-30T06:33:08.185322Z",
     "iopub.status.idle": "2023-07-30T06:33:08.198257Z",
     "shell.execute_reply": "2023-07-30T06:33:08.197672Z"
    },
    "papermill": {
     "duration": 0.023483,
     "end_time": "2023-07-30T06:33:08.200651",
     "exception": false,
     "start_time": "2023-07-30T06:33:08.177168",
     "status": "completed"
    },
    "tags": []
   },
   "outputs": [
    {
     "name": "stdout",
     "output_type": "stream",
     "text": [
      " - Logging roc_auc_class_mean (float) : 0.9989823535103417\n"
     ]
    }
   ],
   "source": [
    "roc_auc_macro = np.mean(list(roc_auc_dict.values()))\n",
    "\n",
    "ctx.log_float(\"roc_auc_class_mean\", roc_auc_macro)\n",
    "\n",
    "# assert that the same value can be computed directly using sklearn\n",
    "assert roc_auc_macro == metrics.roc_auc_score(\n",
    "    y_test, y_pred_probs_test, average=\"macro\", multi_class=\"ovr\"\n",
    ")"
   ]
  },
  {
   "cell_type": "code",
   "execution_count": 20,
   "id": "1ea9aa6e",
   "metadata": {
    "execution": {
     "iopub.execute_input": "2023-07-30T06:33:08.215974Z",
     "iopub.status.busy": "2023-07-30T06:33:08.215718Z",
     "iopub.status.idle": "2023-07-30T06:33:08.219912Z",
     "shell.execute_reply": "2023-07-30T06:33:08.219369Z"
    },
    "lines_to_next_cell": 0,
    "papermill": {
     "duration": 0.014154,
     "end_time": "2023-07-30T06:33:08.221684",
     "exception": false,
     "start_time": "2023-07-30T06:33:08.207530",
     "status": "completed"
    },
    "tags": []
   },
   "outputs": [],
   "source": [
    "# ---"
   ]
  },
  {
   "cell_type": "code",
   "execution_count": null,
   "id": "55e20fe8",
   "metadata": {
    "papermill": {
     "duration": 0.006818,
     "end_time": "2023-07-30T06:33:08.235307",
     "exception": false,
     "start_time": "2023-07-30T06:33:08.228489",
     "status": "completed"
    },
    "tags": []
   },
   "outputs": [],
   "source": []
  }
 ],
 "metadata": {
  "jupytext": {
   "cell_metadata_filter": "tags,-all",
   "main_language": "python",
   "notebook_metadata_filter": "-all"
  },
  "language_info": {
   "codemirror_mode": {
    "name": "ipython",
    "version": 3
   },
   "file_extension": ".py",
   "mimetype": "text/x-python",
   "name": "python",
   "nbconvert_exporter": "python",
   "pygments_lexer": "ipython3",
   "version": "3.8.10"
  },
  "papermill": {
   "default_parameters": {},
   "duration": 12.49088,
   "end_time": "2023-07-30T06:33:10.582583",
   "environment_variables": {},
   "exception": null,
   "input_path": "/tmp/temp-notebook-jvralih_.ipynb",
   "output_path": "/tmp/temp-notebook-jvralih_.ipynb",
   "parameters": {
    "P": {
     "_parameters_actor_name": "parameter_for_task_0x49d162553b3c4bfb",
     "task.nr_train_images": 600
    }
   },
   "start_time": "2023-07-30T06:32:58.091703",
   "version": "2.4.0"
  }
 },
 "nbformat": 4,
 "nbformat_minor": 5
}