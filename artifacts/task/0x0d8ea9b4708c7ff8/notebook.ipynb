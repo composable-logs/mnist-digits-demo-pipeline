{
 "cells": [
  {
   "cell_type": "markdown",
   "id": "3279a522",
   "metadata": {
    "papermill": {
     "duration": 0.003605,
     "end_time": "2023-07-23T06:35:01.971721",
     "exception": false,
     "start_time": "2023-07-23T06:35:01.968116",
     "status": "completed"
    },
    "tags": []
   },
   "source": [
    "# Summarize model performances\n",
    "\n",
    "This notebooks plots the performances (using averaged ROC AUC scores) for models\n",
    "trained with different training sets."
   ]
  },
  {
   "cell_type": "markdown",
   "id": "ec5c6345",
   "metadata": {
    "papermill": {
     "duration": 0.002275,
     "end_time": "2023-07-23T06:35:01.976982",
     "exception": false,
     "start_time": "2023-07-23T06:35:01.974707",
     "status": "completed"
    },
    "tags": []
   },
   "source": [
    "### Determine run parameters"
   ]
  },
  {
   "cell_type": "code",
   "execution_count": 1,
   "id": "f7c37519",
   "metadata": {
    "execution": {
     "iopub.execute_input": "2023-07-23T06:35:01.982948Z",
     "iopub.status.busy": "2023-07-23T06:35:01.982573Z",
     "iopub.status.idle": "2023-07-23T06:35:01.990652Z",
     "shell.execute_reply": "2023-07-23T06:35:01.990052Z"
    },
    "lines_to_next_cell": 0,
    "papermill": {
     "duration": 0.012871,
     "end_time": "2023-07-23T06:35:01.992126",
     "exception": false,
     "start_time": "2023-07-23T06:35:01.979255",
     "status": "completed"
    },
    "tags": []
   },
   "outputs": [],
   "source": [
    "# ----------------- Parameters for interactive development --------------\n",
    "P = {\n",
    "    \"workflow.run_environment\": \"dev\",\n",
    "}"
   ]
  },
  {
   "cell_type": "code",
   "execution_count": 2,
   "id": "63d9933a",
   "metadata": {
    "execution": {
     "iopub.execute_input": "2023-07-23T06:35:02.000205Z",
     "iopub.status.busy": "2023-07-23T06:35:01.999492Z",
     "iopub.status.idle": "2023-07-23T06:35:02.002820Z",
     "shell.execute_reply": "2023-07-23T06:35:02.002199Z"
    },
    "lines_to_next_cell": 0,
    "papermill": {
     "duration": 0.008267,
     "end_time": "2023-07-23T06:35:02.004376",
     "exception": false,
     "start_time": "2023-07-23T06:35:01.996109",
     "status": "completed"
    },
    "tags": [
     "parameters"
    ]
   },
   "outputs": [],
   "source": [
    "# - During automated runs parameters will be injected in the below cell -"
   ]
  },
  {
   "cell_type": "code",
   "execution_count": 3,
   "id": "46fcb514",
   "metadata": {
    "execution": {
     "iopub.execute_input": "2023-07-23T06:35:02.010855Z",
     "iopub.status.busy": "2023-07-23T06:35:02.010263Z",
     "iopub.status.idle": "2023-07-23T06:35:02.013429Z",
     "shell.execute_reply": "2023-07-23T06:35:02.012909Z"
    },
    "papermill": {
     "duration": 0.008098,
     "end_time": "2023-07-23T06:35:02.014975",
     "exception": false,
     "start_time": "2023-07-23T06:35:02.006877",
     "status": "completed"
    },
    "tags": [
     "injected-parameters"
    ]
   },
   "outputs": [],
   "source": [
    "# Parameters\n",
    "P = {\"_parameters_actor_name\": \"parameter_for_task_0x0d8ea9b4708c7ff8\"}\n"
   ]
  },
  {
   "cell_type": "code",
   "execution_count": 4,
   "id": "530f9a19",
   "metadata": {
    "execution": {
     "iopub.execute_input": "2023-07-23T06:35:02.021704Z",
     "iopub.status.busy": "2023-07-23T06:35:02.021243Z",
     "iopub.status.idle": "2023-07-23T06:35:02.024231Z",
     "shell.execute_reply": "2023-07-23T06:35:02.023619Z"
    },
    "lines_to_next_cell": 0,
    "papermill": {
     "duration": 0.007842,
     "end_time": "2023-07-23T06:35:02.025599",
     "exception": false,
     "start_time": "2023-07-23T06:35:02.017757",
     "status": "completed"
    },
    "tags": []
   },
   "outputs": [],
   "source": [
    "# -----------------------------------------------------------------------"
   ]
  },
  {
   "cell_type": "markdown",
   "id": "f3bf6d05",
   "metadata": {
    "papermill": {
     "duration": 0.00243,
     "end_time": "2023-07-23T06:35:02.030527",
     "exception": false,
     "start_time": "2023-07-23T06:35:02.028097",
     "status": "completed"
    },
    "tags": []
   },
   "source": [
    "---"
   ]
  },
  {
   "cell_type": "markdown",
   "id": "728aaadf",
   "metadata": {
    "lines_to_next_cell": 2,
    "papermill": {
     "duration": 0.002393,
     "end_time": "2023-07-23T06:35:02.035398",
     "exception": false,
     "start_time": "2023-07-23T06:35:02.033005",
     "status": "completed"
    },
    "tags": []
   },
   "source": [
    "### Notebook code"
   ]
  },
  {
   "cell_type": "code",
   "execution_count": 5,
   "id": "cd3aaa50",
   "metadata": {
    "execution": {
     "iopub.execute_input": "2023-07-23T06:35:02.042063Z",
     "iopub.status.busy": "2023-07-23T06:35:02.041352Z",
     "iopub.status.idle": "2023-07-23T06:35:03.026992Z",
     "shell.execute_reply": "2023-07-23T06:35:03.026348Z"
    },
    "papermill": {
     "duration": 0.990948,
     "end_time": "2023-07-23T06:35:03.028906",
     "exception": false,
     "start_time": "2023-07-23T06:35:02.037958",
     "status": "completed"
    },
    "tags": []
   },
   "outputs": [],
   "source": [
    "#\n",
    "import pandas as pd\n",
    "import matplotlib.pyplot as plt\n",
    "\n",
    "#\n",
    "from composable_logs.tasks.task_opentelemetry_logging import get_task_context"
   ]
  },
  {
   "cell_type": "code",
   "execution_count": 6,
   "id": "17260b70",
   "metadata": {
    "execution": {
     "iopub.execute_input": "2023-07-23T06:35:03.036420Z",
     "iopub.status.busy": "2023-07-23T06:35:03.035685Z",
     "iopub.status.idle": "2023-07-23T06:35:03.114840Z",
     "shell.execute_reply": "2023-07-23T06:35:03.114186Z"
    },
    "papermill": {
     "duration": 0.08472,
     "end_time": "2023-07-23T06:35:03.116623",
     "exception": false,
     "start_time": "2023-07-23T06:35:03.031903",
     "status": "completed"
    },
    "tags": []
   },
   "outputs": [
    {
     "name": "stderr",
     "output_type": "stream",
     "text": [
      "2023-07-23 06:35:03,039\tINFO worker.py:1364 -- Connecting to existing Ray cluster at address: 172.17.0.2:39285...\n"
     ]
    },
    {
     "name": "stderr",
     "output_type": "stream",
     "text": [
      "2023-07-23 06:35:03,046\tINFO worker.py:1544 -- Connected to Ray cluster. View the dashboard at \u001b[1m\u001b[32mhttp://127.0.0.1:8265 \u001b[39m\u001b[22m\n"
     ]
    },
    {
     "name": "stderr",
     "output_type": "stream",
     "text": [
      "/home/host_user/.local/lib/python3.8/site-packages/ray/runtime_context.py:27: RayDeprecationWarning: This API is deprecated and may be removed in future Ray releases. You could suppress this warning by setting env variable PYTHONWARNINGS=\"ignore::DeprecationWarning\"\n",
      "Use get_job_id() instead\n",
      "  \"job_id\": self.job_id,\n",
      "/home/host_user/.local/lib/python3.8/site-packages/ray/runtime_context.py:28: RayDeprecationWarning: This API is deprecated and may be removed in future Ray releases. You could suppress this warning by setting env variable PYTHONWARNINGS=\"ignore::DeprecationWarning\"\n",
      "Use get_node_id() instead\n",
      "  \"node_id\": self.node_id,\n"
     ]
    }
   ],
   "source": [
    "logger = get_task_context(P)"
   ]
  },
  {
   "cell_type": "code",
   "execution_count": 7,
   "id": "13bd828d",
   "metadata": {
    "execution": {
     "iopub.execute_input": "2023-07-23T06:35:03.124170Z",
     "iopub.status.busy": "2023-07-23T06:35:03.123641Z",
     "iopub.status.idle": "2023-07-23T06:35:03.128117Z",
     "shell.execute_reply": "2023-07-23T06:35:03.127574Z"
    },
    "papermill": {
     "duration": 0.010076,
     "end_time": "2023-07-23T06:35:03.129642",
     "exception": false,
     "start_time": "2023-07-23T06:35:03.119566",
     "status": "completed"
    },
    "tags": []
   },
   "outputs": [],
   "source": [
    "from composable_logs.tasks.task_opentelemetry_logging import get_logged_values\n",
    "from composable_logs.opentelemetry_helpers import _get_all_spans, Spans"
   ]
  },
  {
   "cell_type": "code",
   "execution_count": 8,
   "id": "99cd6420",
   "metadata": {
    "execution": {
     "iopub.execute_input": "2023-07-23T06:35:03.136804Z",
     "iopub.status.busy": "2023-07-23T06:35:03.136449Z",
     "iopub.status.idle": "2023-07-23T06:35:03.144576Z",
     "shell.execute_reply": "2023-07-23T06:35:03.143734Z"
    },
    "papermill": {
     "duration": 0.013326,
     "end_time": "2023-07-23T06:35:03.146036",
     "exception": false,
     "start_time": "2023-07-23T06:35:03.132710",
     "status": "completed"
    },
    "tags": []
   },
   "outputs": [],
   "source": [
    "def get_model_benchmarks():\n",
    "    \"\"\"\n",
    "    Query the OpenTelemetry logs for *this pipeline run* and return\n",
    "    all key-values logged from all runs of the benchmark-model.py task\n",
    "\n",
    "    For testing a json file with OpenTelemetry spans (as an array)\n",
    "    can be used as follows:\n",
    "\n",
    "    - Create output directory `mkdir /tmp/spans`\n",
    "    - Run unit tests. This will create pipeline-outputs/opentelemetry-spans.json\n",
    "    - Convert this json-array into jsonl format as follows\n",
    "\n",
    "    jq -c '.[]' /pipeline-outputs/opentelemetry-spans.json > /tmp/spans/data.txt\n",
    "\n",
    "    \"\"\"\n",
    "    spans: Spans = Spans(_get_all_spans())\n",
    "    print(f\" - Found {len(spans)} spans\")\n",
    "\n",
    "    benchmark_spans = (\n",
    "        spans\n",
    "        # -\n",
    "        .filter([\"name\"], \"execute-task\")\n",
    "        # -\n",
    "        .filter([\"attributes\", \"task.id\"], \"benchmark-model\")\n",
    "    )\n",
    "\n",
    "    result = []\n",
    "    for s in benchmark_spans:\n",
    "        result.append(\n",
    "            {\n",
    "                \"span_id\": s[\"context\"][\"span_id\"],\n",
    "                \"nr_train_images\": s[\"attributes\"][\"task.nr_train_images\"],\n",
    "                \"data\": get_logged_values(spans.bound_under(s)),\n",
    "            }\n",
    "        )\n",
    "\n",
    "    return result\n",
    "\n",
    "\n",
    "def adjust_pandas(df):\n",
    "    def column_renamer(col_name: str) -> str:\n",
    "        return (\n",
    "            col_name\n",
    "            # -- 'data.roc_auc_per_digit.4' -> 'roc_auc.4'\n",
    "            .replace(\"data.roc_auc_per_digit\", \"roc_auc\")\n",
    "            # -- 'data.roc_auc_class_mean' -> 'roc_auc_mean'\n",
    "            .replace(\"data.roc_auc_class_mean\", \"roc_auc_mean\")\n",
    "        )\n",
    "\n",
    "    return df.rename(column_renamer, axis=\"columns\").sort_values(by=\"nr_train_images\")"
   ]
  },
  {
   "cell_type": "code",
   "execution_count": 9,
   "id": "9ad7605a",
   "metadata": {
    "execution": {
     "iopub.execute_input": "2023-07-23T06:35:03.153328Z",
     "iopub.status.busy": "2023-07-23T06:35:03.152821Z",
     "iopub.status.idle": "2023-07-23T06:35:03.246660Z",
     "shell.execute_reply": "2023-07-23T06:35:03.246021Z"
    },
    "papermill": {
     "duration": 0.099105,
     "end_time": "2023-07-23T06:35:03.248272",
     "exception": false,
     "start_time": "2023-07-23T06:35:03.149167",
     "status": "completed"
    },
    "tags": []
   },
   "outputs": [
    {
     "name": "stdout",
     "output_type": "stream",
     "text": [
      " - Found 250 spans\n"
     ]
    }
   ],
   "source": [
    "\n",
    "df_data = adjust_pandas(pd.json_normalize(get_model_benchmarks()))"
   ]
  },
  {
   "cell_type": "code",
   "execution_count": 10,
   "id": "3fa5182d",
   "metadata": {
    "execution": {
     "iopub.execute_input": "2023-07-23T06:35:03.255739Z",
     "iopub.status.busy": "2023-07-23T06:35:03.255308Z",
     "iopub.status.idle": "2023-07-23T06:35:03.280376Z",
     "shell.execute_reply": "2023-07-23T06:35:03.279053Z"
    },
    "papermill": {
     "duration": 0.030523,
     "end_time": "2023-07-23T06:35:03.281923",
     "exception": false,
     "start_time": "2023-07-23T06:35:03.251400",
     "status": "completed"
    },
    "tags": []
   },
   "outputs": [
    {
     "data": {
      "text/html": [
       "<div>\n",
       "<style scoped>\n",
       "    .dataframe tbody tr th:only-of-type {\n",
       "        vertical-align: middle;\n",
       "    }\n",
       "\n",
       "    .dataframe tbody tr th {\n",
       "        vertical-align: top;\n",
       "    }\n",
       "\n",
       "    .dataframe thead th {\n",
       "        text-align: right;\n",
       "    }\n",
       "</style>\n",
       "<table border=\"1\" class=\"dataframe\">\n",
       "  <thead>\n",
       "    <tr style=\"text-align: right;\">\n",
       "      <th></th>\n",
       "      <th>span_id</th>\n",
       "      <th>nr_train_images</th>\n",
       "      <th>roc_auc_mean</th>\n",
       "      <th>roc_auc.0</th>\n",
       "      <th>roc_auc.1</th>\n",
       "      <th>roc_auc.2</th>\n",
       "      <th>roc_auc.3</th>\n",
       "      <th>roc_auc.4</th>\n",
       "      <th>roc_auc.5</th>\n",
       "      <th>roc_auc.6</th>\n",
       "      <th>roc_auc.7</th>\n",
       "      <th>roc_auc.8</th>\n",
       "      <th>roc_auc.9</th>\n",
       "    </tr>\n",
       "  </thead>\n",
       "  <tbody>\n",
       "    <tr>\n",
       "      <th>2</th>\n",
       "      <td>0x6875ff34246d91e6</td>\n",
       "      <td>600</td>\n",
       "      <td>0.9991</td>\n",
       "      <td>1.0</td>\n",
       "      <td>0.9993</td>\n",
       "      <td>1.0</td>\n",
       "      <td>0.9999</td>\n",
       "      <td>0.9991</td>\n",
       "      <td>0.9990</td>\n",
       "      <td>0.9999</td>\n",
       "      <td>0.9998</td>\n",
       "      <td>0.9950</td>\n",
       "      <td>0.9987</td>\n",
       "    </tr>\n",
       "    <tr>\n",
       "      <th>0</th>\n",
       "      <td>0xb0de84cefc1afd84</td>\n",
       "      <td>800</td>\n",
       "      <td>0.9990</td>\n",
       "      <td>1.0</td>\n",
       "      <td>0.9988</td>\n",
       "      <td>1.0</td>\n",
       "      <td>0.9998</td>\n",
       "      <td>0.9995</td>\n",
       "      <td>0.9991</td>\n",
       "      <td>0.9999</td>\n",
       "      <td>0.9999</td>\n",
       "      <td>0.9933</td>\n",
       "      <td>0.9994</td>\n",
       "    </tr>\n",
       "    <tr>\n",
       "      <th>3</th>\n",
       "      <td>0x1f797ad9a53b1147</td>\n",
       "      <td>1000</td>\n",
       "      <td>0.9992</td>\n",
       "      <td>1.0</td>\n",
       "      <td>0.9989</td>\n",
       "      <td>1.0</td>\n",
       "      <td>0.9999</td>\n",
       "      <td>0.9997</td>\n",
       "      <td>0.9994</td>\n",
       "      <td>0.9999</td>\n",
       "      <td>0.9998</td>\n",
       "      <td>0.9948</td>\n",
       "      <td>0.9995</td>\n",
       "    </tr>\n",
       "    <tr>\n",
       "      <th>1</th>\n",
       "      <td>0x6a910e218b3a28e2</td>\n",
       "      <td>1200</td>\n",
       "      <td>0.9993</td>\n",
       "      <td>1.0</td>\n",
       "      <td>0.9990</td>\n",
       "      <td>1.0</td>\n",
       "      <td>0.9999</td>\n",
       "      <td>0.9998</td>\n",
       "      <td>0.9997</td>\n",
       "      <td>0.9999</td>\n",
       "      <td>0.9999</td>\n",
       "      <td>0.9955</td>\n",
       "      <td>0.9998</td>\n",
       "    </tr>\n",
       "  </tbody>\n",
       "</table>\n",
       "</div>"
      ],
      "text/plain": [
       "              span_id  nr_train_images  roc_auc_mean  roc_auc.0  roc_auc.1  \\\n",
       "2  0x6875ff34246d91e6              600        0.9991        1.0     0.9993   \n",
       "0  0xb0de84cefc1afd84              800        0.9990        1.0     0.9988   \n",
       "3  0x1f797ad9a53b1147             1000        0.9992        1.0     0.9989   \n",
       "1  0x6a910e218b3a28e2             1200        0.9993        1.0     0.9990   \n",
       "\n",
       "   roc_auc.2  roc_auc.3  roc_auc.4  roc_auc.5  roc_auc.6  roc_auc.7  \\\n",
       "2        1.0     0.9999     0.9991     0.9990     0.9999     0.9998   \n",
       "0        1.0     0.9998     0.9995     0.9991     0.9999     0.9999   \n",
       "3        1.0     0.9999     0.9997     0.9994     0.9999     0.9998   \n",
       "1        1.0     0.9999     0.9998     0.9997     0.9999     0.9999   \n",
       "\n",
       "   roc_auc.8  roc_auc.9  \n",
       "2     0.9950     0.9987  \n",
       "0     0.9933     0.9994  \n",
       "3     0.9948     0.9995  \n",
       "1     0.9955     0.9998  "
      ]
     },
     "execution_count": 10,
     "metadata": {},
     "output_type": "execute_result"
    }
   ],
   "source": [
    "df_data.round(4)"
   ]
  },
  {
   "cell_type": "code",
   "execution_count": 11,
   "id": "a419b2cd",
   "metadata": {
    "execution": {
     "iopub.execute_input": "2023-07-23T06:35:03.289961Z",
     "iopub.status.busy": "2023-07-23T06:35:03.289515Z",
     "iopub.status.idle": "2023-07-23T06:35:03.526982Z",
     "shell.execute_reply": "2023-07-23T06:35:03.526321Z"
    },
    "papermill": {
     "duration": 0.243378,
     "end_time": "2023-07-23T06:35:03.528608",
     "exception": false,
     "start_time": "2023-07-23T06:35:03.285230",
     "status": "completed"
    },
    "tags": []
   },
   "outputs": [
    {
     "data": {
      "image/png": "[encoded data removed]",
      "text/plain": [
       "<Figure size 1600x400 with 1 Axes>"
      ]
     },
     "metadata": {},
     "output_type": "display_data"
    }
   ],
   "source": [
    "def plot_classifier_performance_summary(df_data):\n",
    "    fig, ax = plt.subplots(nrows=1, ncols=1, figsize=(16, 4), sharex=True)\n",
    "\n",
    "    #\n",
    "    ax.plot(\n",
    "        df_data[\"nr_train_images\"], df_data[\"roc_auc_mean\"], marker=\"o\", linestyle=\"--\"\n",
    "    )\n",
    "    ax.set_title(\n",
    "        f\"ROC AUC digit classifier performance on evaluation digits\", fontsize=17\n",
    "    )\n",
    "    ax.set_xlabel(\"Total number of digits in training set\", fontsize=14)\n",
    "    ax.set_ylabel(\"Mean ROC AUC\", fontsize=14)\n",
    "\n",
    "    fig.tight_layout()\n",
    "    fig.show()\n",
    "\n",
    "    return fig\n",
    "\n",
    "\n",
    "fig = plot_classifier_performance_summary(df_data)"
   ]
  },
  {
   "cell_type": "code",
   "execution_count": 12,
   "id": "1e09fd65",
   "metadata": {
    "execution": {
     "iopub.execute_input": "2023-07-23T06:35:03.538303Z",
     "iopub.status.busy": "2023-07-23T06:35:03.537697Z",
     "iopub.status.idle": "2023-07-23T06:35:03.621647Z",
     "shell.execute_reply": "2023-07-23T06:35:03.621005Z"
    },
    "papermill": {
     "duration": 0.090543,
     "end_time": "2023-07-23T06:35:03.623368",
     "exception": false,
     "start_time": "2023-07-23T06:35:03.532825",
     "status": "completed"
    },
    "tags": []
   },
   "outputs": [],
   "source": [
    "logger.log_figure(\"auc-roc-model-performances.png\", fig)"
   ]
  },
  {
   "cell_type": "code",
   "execution_count": 13,
   "id": "01e23fee",
   "metadata": {
    "execution": {
     "iopub.execute_input": "2023-07-23T06:35:03.633297Z",
     "iopub.status.busy": "2023-07-23T06:35:03.633051Z",
     "iopub.status.idle": "2023-07-23T06:35:03.637028Z",
     "shell.execute_reply": "2023-07-23T06:35:03.636507Z"
    },
    "papermill": {
     "duration": 0.010617,
     "end_time": "2023-07-23T06:35:03.638319",
     "exception": false,
     "start_time": "2023-07-23T06:35:03.627702",
     "status": "completed"
    },
    "tags": []
   },
   "outputs": [],
   "source": [
    "###"
   ]
  },
  {
   "cell_type": "code",
   "execution_count": null,
   "id": "72f5648f",
   "metadata": {
    "papermill": {
     "duration": 0.00428,
     "end_time": "2023-07-23T06:35:03.646731",
     "exception": false,
     "start_time": "2023-07-23T06:35:03.642451",
     "status": "completed"
    },
    "tags": []
   },
   "outputs": [],
   "source": []
  }
 ],
 "metadata": {
  "jupytext": {
   "cell_metadata_filter": "tags,-all",
   "main_language": "python",
   "notebook_metadata_filter": "-all"
  },
  "language_info": {
   "codemirror_mode": {
    "name": "ipython",
    "version": 3
   },
   "file_extension": ".py",
   "mimetype": "text/x-python",
   "name": "python",
   "nbconvert_exporter": "python",
   "pygments_lexer": "ipython3",
   "version": "3.8.10"
  },
  "papermill": {
   "default_parameters": {},
   "duration": 4.987598,
   "end_time": "2023-07-23T06:35:05.677876",
   "environment_variables": {},
   "exception": null,
   "input_path": "/tmp/temp-notebook-a9o9dn4f.ipynb",
   "output_path": "/tmp/temp-notebook-a9o9dn4f.ipynb",
   "parameters": {
    "P": {
     "_parameters_actor_name": "parameter_for_task_0x0d8ea9b4708c7ff8"
    }
   },
   "start_time": "2023-07-23T06:35:00.690278",
   "version": "2.4.0"
  }
 },
 "nbformat": 4,
 "nbformat_minor": 5
}