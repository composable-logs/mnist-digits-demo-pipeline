{
 "cells": [
  {
   "cell_type": "markdown",
   "id": "6cf29cd8",
   "metadata": {
    "papermill": {
     "duration": 0.00578,
     "end_time": "2023-07-27T06:35:12.959977",
     "exception": false,
     "start_time": "2023-07-27T06:35:12.954197",
     "status": "completed"
    },
    "tags": []
   },
   "source": [
    "# Benchmark model\n",
    "\n",
    "The purpose of this notebook is to benchmark persisted onnx-model (trained in the\n",
    "previous step) against evaluation set."
   ]
  },
  {
   "cell_type": "markdown",
   "id": "664212d5",
   "metadata": {
    "papermill": {
     "duration": 0.00377,
     "end_time": "2023-07-27T06:35:12.970019",
     "exception": false,
     "start_time": "2023-07-27T06:35:12.966249",
     "status": "completed"
    },
    "tags": []
   },
   "source": [
    "### Determine run parameters"
   ]
  },
  {
   "cell_type": "code",
   "execution_count": 1,
   "id": "3e92dce7",
   "metadata": {
    "execution": {
     "iopub.execute_input": "2023-07-27T06:35:12.979212Z",
     "iopub.status.busy": "2023-07-27T06:35:12.978885Z",
     "iopub.status.idle": "2023-07-27T06:35:12.986093Z",
     "shell.execute_reply": "2023-07-27T06:35:12.985441Z"
    },
    "lines_to_next_cell": 0,
    "papermill": {
     "duration": 0.014,
     "end_time": "2023-07-27T06:35:12.987814",
     "exception": false,
     "start_time": "2023-07-27T06:35:12.973814",
     "status": "completed"
    },
    "tags": []
   },
   "outputs": [],
   "source": [
    "# ----------------- Parameters for interactive development --------------\n",
    "P = {\n",
    "    \"workflow.data_lake_root\": \"/pipeline-outputs/data-lake\",\n",
    "    \"task.nr_train_images\": 600,\n",
    "}"
   ]
  },
  {
   "cell_type": "code",
   "execution_count": 2,
   "id": "f35c4480",
   "metadata": {
    "execution": {
     "iopub.execute_input": "2023-07-27T06:35:12.996871Z",
     "iopub.status.busy": "2023-07-27T06:35:12.996447Z",
     "iopub.status.idle": "2023-07-27T06:35:13.000069Z",
     "shell.execute_reply": "2023-07-27T06:35:12.999280Z"
    },
    "lines_to_next_cell": 0,
    "papermill": {
     "duration": 0.00973,
     "end_time": "2023-07-27T06:35:13.001447",
     "exception": false,
     "start_time": "2023-07-27T06:35:12.991717",
     "status": "completed"
    },
    "tags": [
     "parameters"
    ]
   },
   "outputs": [],
   "source": [
    "# - During automated runs parameters will be injected in the below cell -"
   ]
  },
  {
   "cell_type": "code",
   "execution_count": 3,
   "id": "60d68982",
   "metadata": {
    "execution": {
     "iopub.execute_input": "2023-07-27T06:35:13.010649Z",
     "iopub.status.busy": "2023-07-27T06:35:13.010442Z",
     "iopub.status.idle": "2023-07-27T06:35:13.013316Z",
     "shell.execute_reply": "2023-07-27T06:35:13.012806Z"
    },
    "papermill": {
     "duration": 0.015768,
     "end_time": "2023-07-27T06:35:13.021308",
     "exception": false,
     "start_time": "2023-07-27T06:35:13.005540",
     "status": "completed"
    },
    "tags": [
     "injected-parameters"
    ]
   },
   "outputs": [],
   "source": [
    "# Parameters\n",
    "P = {\n",
    "    \"task.nr_train_images\": 800,\n",
    "    \"_parameters_actor_name\": \"parameter_for_task_0x62d86d6116eb9a83\",\n",
    "}\n"
   ]
  },
  {
   "cell_type": "code",
   "execution_count": 4,
   "id": "f53b4830",
   "metadata": {
    "execution": {
     "iopub.execute_input": "2023-07-27T06:35:13.030374Z",
     "iopub.status.busy": "2023-07-27T06:35:13.030136Z",
     "iopub.status.idle": "2023-07-27T06:35:13.034280Z",
     "shell.execute_reply": "2023-07-27T06:35:13.033700Z"
    },
    "lines_to_next_cell": 0,
    "papermill": {
     "duration": 0.010743,
     "end_time": "2023-07-27T06:35:13.036007",
     "exception": false,
     "start_time": "2023-07-27T06:35:13.025264",
     "status": "completed"
    },
    "tags": []
   },
   "outputs": [],
   "source": [
    "# -----------------------------------------------------------------------"
   ]
  },
  {
   "cell_type": "markdown",
   "id": "9e0d6b6a",
   "metadata": {
    "papermill": {
     "duration": 0.00407,
     "end_time": "2023-07-27T06:35:13.044247",
     "exception": false,
     "start_time": "2023-07-27T06:35:13.040177",
     "status": "completed"
    },
    "tags": []
   },
   "source": [
    "---"
   ]
  },
  {
   "cell_type": "markdown",
   "id": "15cfb56c",
   "metadata": {
    "lines_to_next_cell": 2,
    "papermill": {
     "duration": 0.003954,
     "end_time": "2023-07-27T06:35:13.052242",
     "exception": false,
     "start_time": "2023-07-27T06:35:13.048288",
     "status": "completed"
    },
    "tags": []
   },
   "source": [
    "### Notebook code"
   ]
  },
  {
   "cell_type": "code",
   "execution_count": 5,
   "id": "8a074bb9",
   "metadata": {
    "execution": {
     "iopub.execute_input": "2023-07-27T06:35:13.061815Z",
     "iopub.status.busy": "2023-07-27T06:35:13.061572Z",
     "iopub.status.idle": "2023-07-27T06:35:13.958964Z",
     "shell.execute_reply": "2023-07-27T06:35:13.957552Z"
    },
    "papermill": {
     "duration": 0.904382,
     "end_time": "2023-07-27T06:35:13.960827",
     "exception": false,
     "start_time": "2023-07-27T06:35:13.056445",
     "status": "completed"
    },
    "tags": []
   },
   "outputs": [
    {
     "name": "stderr",
     "output_type": "stream",
     "text": [
      "2023-07-27 06:35:13,886\tINFO worker.py:1364 -- Connecting to existing Ray cluster at address: 172.17.0.2:46840...\n"
     ]
    },
    {
     "name": "stderr",
     "output_type": "stream",
     "text": [
      "2023-07-27 06:35:13,896\tINFO worker.py:1544 -- Connected to Ray cluster. View the dashboard at \u001b[1m\u001b[32mhttp://127.0.0.1:8265 \u001b[39m\u001b[22m\n"
     ]
    },
    {
     "name": "stderr",
     "output_type": "stream",
     "text": [
      "/home/host_user/.local/lib/python3.8/site-packages/ray/runtime_context.py:27: RayDeprecationWarning: This API is deprecated and may be removed in future Ray releases. You could suppress this warning by setting env variable PYTHONWARNINGS=\"ignore::DeprecationWarning\"\n",
      "Use get_job_id() instead\n",
      "  \"job_id\": self.job_id,\n",
      "/home/host_user/.local/lib/python3.8/site-packages/ray/runtime_context.py:28: RayDeprecationWarning: This API is deprecated and may be removed in future Ray releases. You could suppress this warning by setting env variable PYTHONWARNINGS=\"ignore::DeprecationWarning\"\n",
      "Use get_node_id() instead\n",
      "  \"node_id\": self.node_id,\n"
     ]
    }
   ],
   "source": [
    "import itertools as it\n",
    "\n",
    "#\n",
    "import numpy as np\n",
    "import matplotlib.pyplot as plt\n",
    "\n",
    "#\n",
    "from composable_logs.tasks.task_opentelemetry_logging import get_task_context\n",
    "\n",
    "#\n",
    "from common.io import datalake_root\n",
    "\n",
    "ctx = get_task_context(P)"
   ]
  },
  {
   "cell_type": "markdown",
   "id": "33cf2e0c",
   "metadata": {
    "papermill": {
     "duration": 0.004155,
     "end_time": "2023-07-27T06:35:13.969575",
     "exception": false,
     "start_time": "2023-07-27T06:35:13.965420",
     "status": "completed"
    },
    "tags": []
   },
   "source": [
    "## Load persisted onnx-model and evaluation data"
   ]
  },
  {
   "cell_type": "code",
   "execution_count": 6,
   "id": "fe590158",
   "metadata": {
    "execution": {
     "iopub.execute_input": "2023-07-27T06:35:13.979874Z",
     "iopub.status.busy": "2023-07-27T06:35:13.979203Z",
     "iopub.status.idle": "2023-07-27T06:35:13.982501Z",
     "shell.execute_reply": "2023-07-27T06:35:13.981954Z"
    },
    "papermill": {
     "duration": 0.010459,
     "end_time": "2023-07-27T06:35:13.984344",
     "exception": false,
     "start_time": "2023-07-27T06:35:13.973885",
     "status": "completed"
    },
    "tags": []
   },
   "outputs": [],
   "source": [
    "from common.io import read_onnx, get_onnx_inputs, get_onnx_outputs, read_numpy"
   ]
  },
  {
   "cell_type": "code",
   "execution_count": 7,
   "id": "25900b1f",
   "metadata": {
    "execution": {
     "iopub.execute_input": "2023-07-27T06:35:14.000306Z",
     "iopub.status.busy": "2023-07-27T06:35:13.999610Z",
     "iopub.status.idle": "2023-07-27T06:35:14.011772Z",
     "shell.execute_reply": "2023-07-27T06:35:14.011032Z"
    },
    "lines_to_next_cell": 0,
    "papermill": {
     "duration": 0.024813,
     "end_time": "2023-07-27T06:35:14.013389",
     "exception": false,
     "start_time": "2023-07-27T06:35:13.988576",
     "status": "completed"
    },
    "tags": []
   },
   "outputs": [],
   "source": [
    "onnx_inference_session = read_onnx(\n",
    "    datalake_root(ctx)\n",
    "    / \"models\"\n",
    "    / f\"nr_train_images={ctx.parameters['task.nr_train_images']}\"\n",
    "    / \"model.onnx\"\n",
    ")"
   ]
  },
  {
   "cell_type": "markdown",
   "id": "cd92cf24",
   "metadata": {
    "papermill": {
     "duration": 0.004237,
     "end_time": "2023-07-27T06:35:14.022174",
     "exception": false,
     "start_time": "2023-07-27T06:35:14.017937",
     "status": "completed"
    },
    "tags": []
   },
   "source": [
    "### Record structure of inputs and outputs for ONNX model\n",
    "\n",
    "(this should likely be done in training notebook)"
   ]
  },
  {
   "cell_type": "code",
   "execution_count": 8,
   "id": "4e60acb8",
   "metadata": {
    "execution": {
     "iopub.execute_input": "2023-07-27T06:35:14.032100Z",
     "iopub.status.busy": "2023-07-27T06:35:14.031573Z",
     "iopub.status.idle": "2023-07-27T06:35:14.036418Z",
     "shell.execute_reply": "2023-07-27T06:35:14.035886Z"
    },
    "papermill": {
     "duration": 0.011844,
     "end_time": "2023-07-27T06:35:14.038250",
     "exception": false,
     "start_time": "2023-07-27T06:35:14.026406",
     "status": "completed"
    },
    "tags": []
   },
   "outputs": [
    {
     "name": "stdout",
     "output_type": "stream",
     "text": [
      "{\n",
      "  \"inputs\": [\n",
      "    {\n",
      "      \"name\": \"float_input_8x8_image\",\n",
      "      \"shape\": [\n",
      "        null,\n",
      "        64\n",
      "      ],\n",
      "      \"type\": \"tensor(float)\"\n",
      "    }\n",
      "  ],\n",
      "  \"outputs\": [\n",
      "    {\n",
      "      \"name\": \"output_label\",\n",
      "      \"shape\": [\n",
      "        null\n",
      "      ],\n",
      "      \"type\": \"tensor(int64)\"\n",
      "    },\n",
      "    {\n",
      "      \"name\": \"output_probability\",\n",
      "      \"shape\": [],\n",
      "      \"type\": \"seq(map(int64,tensor(float)))\"\n",
      "    }\n",
      "  ]\n",
      "}\n"
     ]
    }
   ],
   "source": [
    "import json\n",
    "\n",
    "onnx_io = json.dumps(\n",
    "    {\n",
    "        \"inputs\": get_onnx_inputs(onnx_inference_session),\n",
    "        \"outputs\": get_onnx_outputs(onnx_inference_session),\n",
    "    },\n",
    "    indent=2,\n",
    ")\n",
    "\n",
    "\n",
    "ctx.log_artefact(\"onnx_io_structure.json\", onnx_io)\n",
    "print(onnx_io)"
   ]
  },
  {
   "cell_type": "markdown",
   "id": "cde2cd0a",
   "metadata": {
    "papermill": {
     "duration": 0.004159,
     "end_time": "2023-07-27T06:35:14.046658",
     "exception": false,
     "start_time": "2023-07-27T06:35:14.042499",
     "status": "completed"
    },
    "tags": []
   },
   "source": [
    "### Evaluate model performance on evaluation data set"
   ]
  },
  {
   "cell_type": "code",
   "execution_count": 9,
   "id": "416e1de7",
   "metadata": {
    "execution": {
     "iopub.execute_input": "2023-07-27T06:35:14.057334Z",
     "iopub.status.busy": "2023-07-27T06:35:14.056591Z",
     "iopub.status.idle": "2023-07-27T06:35:14.061722Z",
     "shell.execute_reply": "2023-07-27T06:35:14.061029Z"
    },
    "papermill": {
     "duration": 0.012062,
     "end_time": "2023-07-27T06:35:14.063164",
     "exception": false,
     "start_time": "2023-07-27T06:35:14.051102",
     "status": "completed"
    },
    "tags": []
   },
   "outputs": [],
   "source": [
    "# load evaluation data\n",
    "X_test = read_numpy(datalake_root(ctx) / \"test-data\" / \"digits.numpy\")\n",
    "y_test = read_numpy(datalake_root(ctx) / \"test-data\" / \"labels.numpy\")"
   ]
  },
  {
   "cell_type": "code",
   "execution_count": 10,
   "id": "58f1b3dc",
   "metadata": {
    "execution": {
     "iopub.execute_input": "2023-07-27T06:35:14.074051Z",
     "iopub.status.busy": "2023-07-27T06:35:14.073438Z",
     "iopub.status.idle": "2023-07-27T06:35:14.087893Z",
     "shell.execute_reply": "2023-07-27T06:35:14.084474Z"
    },
    "papermill": {
     "duration": 0.021283,
     "end_time": "2023-07-27T06:35:14.089387",
     "exception": false,
     "start_time": "2023-07-27T06:35:14.068104",
     "status": "completed"
    },
    "tags": []
   },
   "outputs": [],
   "source": [
    "def get_model_outputs(X, onnx_inference_session):\n",
    "    y_pred_labels, y_pred_map = onnx_inference_session.run(\n",
    "        [\"output_label\", \"output_probability\"],\n",
    "        {\"float_input_8x8_image\": X.astype(np.float32)},\n",
    "    )\n",
    "    y_pred_probs = np.array(\n",
    "        [[probabilities[digit] for digit in range(10)] for probabilities in y_pred_map]\n",
    "    )\n",
    "\n",
    "    assert y_pred_labels.shape == (X.shape[0],)\n",
    "    assert y_pred_probs.shape == (X.shape[0], 10)\n",
    "\n",
    "    return y_pred_labels, y_pred_probs\n",
    "\n",
    "\n",
    "# Note: as shown in the training notebook, the predicted labels and probabilities\n",
    "# computed below need not be compatible.\n",
    "y_pred_labels_test, y_pred_probs_test = get_model_outputs(\n",
    "    X_test, onnx_inference_session\n",
    ")"
   ]
  },
  {
   "cell_type": "markdown",
   "id": "9a0efc68",
   "metadata": {
    "papermill": {
     "duration": 0.004261,
     "end_time": "2023-07-27T06:35:14.098210",
     "exception": false,
     "start_time": "2023-07-27T06:35:14.093949",
     "status": "completed"
    },
    "tags": []
   },
   "source": [
    "### Confusion matrix"
   ]
  },
  {
   "cell_type": "code",
   "execution_count": 11,
   "id": "9b74bf09",
   "metadata": {
    "execution": {
     "iopub.execute_input": "2023-07-27T06:35:14.110495Z",
     "iopub.status.busy": "2023-07-27T06:35:14.109977Z",
     "iopub.status.idle": "2023-07-27T06:35:14.113118Z",
     "shell.execute_reply": "2023-07-27T06:35:14.112576Z"
    },
    "papermill": {
     "duration": 0.010581,
     "end_time": "2023-07-27T06:35:14.114561",
     "exception": false,
     "start_time": "2023-07-27T06:35:14.103980",
     "status": "completed"
    },
    "tags": []
   },
   "outputs": [],
   "source": [
    "# TODO"
   ]
  },
  {
   "cell_type": "markdown",
   "id": "d322a857",
   "metadata": {
    "papermill": {
     "duration": 0.004303,
     "end_time": "2023-07-27T06:35:14.123326",
     "exception": false,
     "start_time": "2023-07-27T06:35:14.119023",
     "status": "completed"
    },
    "tags": []
   },
   "source": [
    "### Plot predicted probabilities for each classifier over all evaluation digit images"
   ]
  },
  {
   "cell_type": "code",
   "execution_count": 12,
   "id": "d3a42612",
   "metadata": {
    "execution": {
     "iopub.execute_input": "2023-07-27T06:35:14.133662Z",
     "iopub.status.busy": "2023-07-27T06:35:14.133070Z",
     "iopub.status.idle": "2023-07-27T06:35:17.713719Z",
     "shell.execute_reply": "2023-07-27T06:35:17.712990Z"
    },
    "papermill": {
     "duration": 3.587958,
     "end_time": "2023-07-27T06:35:17.715548",
     "exception": false,
     "start_time": "2023-07-27T06:35:14.127590",
     "status": "completed"
    },
    "tags": []
   },
   "outputs": [
    {
     "data": {
      "image/png": "[encoded data removed]",
      "text/plain": [
       "<Figure size 1600x600 with 10 Axes>"
      ]
     },
     "metadata": {},
     "output_type": "display_data"
    }
   ],
   "source": [
    "def plot_per_digit_probabilities(y_pred_probs):\n",
    "    fig, axs = plt.subplots(nrows=2, ncols=5, figsize=(16, 6))\n",
    "\n",
    "    for (r, c), digit, ax in zip(\n",
    "        it.product(range(2), range(5)), range(10), axs.reshape(-1)\n",
    "    ):\n",
    "        ax.hist(y_pred_probs_test[:, digit], bins=20)\n",
    "\n",
    "        ax.set_title(f\"Digit {digit}\")\n",
    "        if r == 1 and c == 2:\n",
    "            ax.set_xlabel(\"probability\", fontsize=16)\n",
    "\n",
    "        if c == 0:\n",
    "            ax.set_ylabel(\"counts\", fontsize=16)\n",
    "        ax.set_yscale(\"log\")\n",
    "\n",
    "    fig.tight_layout()\n",
    "    fig.suptitle(\n",
    "        f\"Distributions of prediction probabilities for each digit \"\n",
    "        f\"(on evaluation data, n={y_pred_probs.shape[0]})\",\n",
    "        fontsize=20,\n",
    "    )\n",
    "    fig.tight_layout()\n",
    "    fig.show()\n",
    "\n",
    "    return fig\n",
    "\n",
    "\n",
    "fig = plot_per_digit_probabilities(y_pred_probs_test)"
   ]
  },
  {
   "cell_type": "markdown",
   "id": "ec1c81d4",
   "metadata": {
    "papermill": {
     "duration": 0.005523,
     "end_time": "2023-07-27T06:35:17.726812",
     "exception": false,
     "start_time": "2023-07-27T06:35:17.721289",
     "status": "completed"
    },
    "tags": []
   },
   "source": [
    "From the above distributions we see that most digits have clear separation between\n",
    "high and lower probabilities. Morover, in each case there is roughly an order of\n",
    "magnitude more of digits with low probabilities. This is compatible with digits\n",
    "being roughly evenly distributed in the data."
   ]
  },
  {
   "cell_type": "code",
   "execution_count": 13,
   "id": "16879e88",
   "metadata": {
    "execution": {
     "iopub.execute_input": "2023-07-27T06:35:17.738737Z",
     "iopub.status.busy": "2023-07-27T06:35:17.737951Z",
     "iopub.status.idle": "2023-07-27T06:35:18.353328Z",
     "shell.execute_reply": "2023-07-27T06:35:18.352605Z"
    },
    "papermill": {
     "duration": 0.623534,
     "end_time": "2023-07-27T06:35:18.355421",
     "exception": false,
     "start_time": "2023-07-27T06:35:17.731887",
     "status": "completed"
    },
    "tags": []
   },
   "outputs": [],
   "source": [
    "ctx.log_figure(\"per-digit-probabilities.png\", fig)"
   ]
  },
  {
   "cell_type": "markdown",
   "id": "77be6d73",
   "metadata": {
    "papermill": {
     "duration": 0.005451,
     "end_time": "2023-07-27T06:35:18.367483",
     "exception": false,
     "start_time": "2023-07-27T06:35:18.362032",
     "status": "completed"
    },
    "tags": []
   },
   "source": [
    "### Plot ROC curves for individual one-vs-rest classifiers"
   ]
  },
  {
   "cell_type": "code",
   "execution_count": 14,
   "id": "dd099da1",
   "metadata": {
    "execution": {
     "iopub.execute_input": "2023-07-27T06:35:18.379716Z",
     "iopub.status.busy": "2023-07-27T06:35:18.379148Z",
     "iopub.status.idle": "2023-07-27T06:35:18.685732Z",
     "shell.execute_reply": "2023-07-27T06:35:18.684996Z"
    },
    "papermill": {
     "duration": 0.314893,
     "end_time": "2023-07-27T06:35:18.687734",
     "exception": false,
     "start_time": "2023-07-27T06:35:18.372841",
     "status": "completed"
    },
    "tags": []
   },
   "outputs": [],
   "source": [
    "from sklearn import metrics"
   ]
  },
  {
   "cell_type": "code",
   "execution_count": 15,
   "id": "e92a8e01",
   "metadata": {
    "execution": {
     "iopub.execute_input": "2023-07-27T06:35:18.700520Z",
     "iopub.status.busy": "2023-07-27T06:35:18.699873Z",
     "iopub.status.idle": "2023-07-27T06:35:20.440624Z",
     "shell.execute_reply": "2023-07-27T06:35:20.439919Z"
    },
    "papermill": {
     "duration": 1.749088,
     "end_time": "2023-07-27T06:35:20.442456",
     "exception": false,
     "start_time": "2023-07-27T06:35:18.693368",
     "status": "completed"
    },
    "tags": []
   },
   "outputs": [
    {
     "data": {
      "image/png": "[encoded data removed]",
      "text/plain": [
       "<Figure size 1600x800 with 10 Axes>"
      ]
     },
     "metadata": {},
     "output_type": "display_data"
    }
   ],
   "source": [
    "def plot_roc_curves(y, y_pred_probs):\n",
    "    # based on example code\n",
    "    # https://scikit-learn.org/stable/auto_examples/model_selection/plot_roc.html\n",
    "\n",
    "    fig, axs = plt.subplots(nrows=2, ncols=5, figsize=(16, 8))\n",
    "\n",
    "    roc_auc_dict = {}\n",
    "\n",
    "    for (r, c), digit, ax in zip(\n",
    "        it.product(range(2), range(5)), range(10), axs.reshape(-1)\n",
    "    ):\n",
    "        fpr, tpr, _ = metrics.roc_curve(y == digit, y_pred_probs[:, digit])\n",
    "        auc = metrics.auc(fpr, tpr)\n",
    "        roc_auc_dict[str(digit)] = auc\n",
    "\n",
    "        ax.plot(fpr, tpr, label=f\"ROC AUC={round(auc, 3)}\")\n",
    "\n",
    "        ax.set_title(f\"\\nDigit {digit}\", fontsize=16)\n",
    "        if r == 1:\n",
    "            ax.set_xlabel(\"FPR\", fontsize=18)\n",
    "\n",
    "        if c == 0:\n",
    "            ax.set_ylabel(\"TPR\", fontsize=18)\n",
    "\n",
    "        ax.set_xlim([-0.05, 1.05])\n",
    "        ax.set_ylim([-0.05, 1.05])\n",
    "        ax.legend(loc=\"lower right\", frameon=False, fontsize=14)\n",
    "\n",
    "    fig.tight_layout()\n",
    "    fig.suptitle(\n",
    "        f\"ROC plots for one-vs-rest performances \"\n",
    "        f\"(on evaluation data, n={y_pred_probs_test.shape[1]}\",\n",
    "        fontsize=22,\n",
    "    )\n",
    "    fig.tight_layout()\n",
    "    fig.show()\n",
    "\n",
    "    return roc_auc_dict, fig\n",
    "\n",
    "\n",
    "roc_auc_dict, fig = plot_roc_curves(y_test, y_pred_probs_test)"
   ]
  },
  {
   "cell_type": "code",
   "execution_count": 16,
   "id": "58f9767a",
   "metadata": {
    "execution": {
     "iopub.execute_input": "2023-07-27T06:35:20.457514Z",
     "iopub.status.busy": "2023-07-27T06:35:20.457222Z",
     "iopub.status.idle": "2023-07-27T06:35:20.776646Z",
     "shell.execute_reply": "2023-07-27T06:35:20.775900Z"
    },
    "papermill": {
     "duration": 0.32952,
     "end_time": "2023-07-27T06:35:20.779122",
     "exception": false,
     "start_time": "2023-07-27T06:35:20.449602",
     "status": "completed"
    },
    "tags": []
   },
   "outputs": [],
   "source": [
    "ctx.log_figure(\"per-digit-roc-curves.png\", fig)"
   ]
  },
  {
   "cell_type": "code",
   "execution_count": 17,
   "id": "94bf9cc2",
   "metadata": {
    "execution": {
     "iopub.execute_input": "2023-07-27T06:35:20.794009Z",
     "iopub.status.busy": "2023-07-27T06:35:20.793338Z",
     "iopub.status.idle": "2023-07-27T06:35:20.800431Z",
     "shell.execute_reply": "2023-07-27T06:35:20.799843Z"
    },
    "papermill": {
     "duration": 0.015889,
     "end_time": "2023-07-27T06:35:20.802061",
     "exception": false,
     "start_time": "2023-07-27T06:35:20.786172",
     "status": "completed"
    },
    "tags": []
   },
   "outputs": [
    {
     "data": {
      "text/plain": [
       "{'0': 1.0,\n",
       " '1': 0.9987628865979382,\n",
       " '2': 1.0,\n",
       " '3': 0.9997750702905343,\n",
       " '4': 0.9995046486816034,\n",
       " '5': 0.999025304592315,\n",
       " '6': 0.999961896052431,\n",
       " '7': 0.9998856881572931,\n",
       " '8': 0.9934583858764188,\n",
       " '9': 0.9993903368388964}"
      ]
     },
     "execution_count": 17,
     "metadata": {},
     "output_type": "execute_result"
    }
   ],
   "source": [
    "roc_auc_dict"
   ]
  },
  {
   "cell_type": "code",
   "execution_count": 18,
   "id": "abdc3eec",
   "metadata": {
    "execution": {
     "iopub.execute_input": "2023-07-27T06:35:20.816181Z",
     "iopub.status.busy": "2023-07-27T06:35:20.815680Z",
     "iopub.status.idle": "2023-07-27T06:35:20.821397Z",
     "shell.execute_reply": "2023-07-27T06:35:20.820693Z"
    },
    "papermill": {
     "duration": 0.014331,
     "end_time": "2023-07-27T06:35:20.822992",
     "exception": false,
     "start_time": "2023-07-27T06:35:20.808661",
     "status": "completed"
    },
    "tags": []
   },
   "outputs": [
    {
     "name": "stdout",
     "output_type": "stream",
     "text": [
      " - Logging roc_auc_per_digit (json) : {'0': 1.0, '1': 0.9987628865979382, '2': 1.0, '3': 0.9997750702905343, '4': 0.9995046486816034, '5': 0.999025304592315, '6': 0.999961896052431, '7': 0.9998856881572931, '8': 0.9934583858764188, '9': 0.9993903368388964}\n"
     ]
    }
   ],
   "source": [
    "ctx.log_value(\"roc_auc_per_digit\", roc_auc_dict)"
   ]
  },
  {
   "cell_type": "markdown",
   "id": "20d3ba56",
   "metadata": {
    "papermill": {
     "duration": 0.006237,
     "end_time": "2023-07-27T06:35:20.835767",
     "exception": false,
     "start_time": "2023-07-27T06:35:20.829530",
     "status": "completed"
    },
    "tags": []
   },
   "source": [
    "### Compute and log mean ROC AUC score averaged over all digits"
   ]
  },
  {
   "cell_type": "code",
   "execution_count": 19,
   "id": "0f9a006c",
   "metadata": {
    "execution": {
     "iopub.execute_input": "2023-07-27T06:35:20.849946Z",
     "iopub.status.busy": "2023-07-27T06:35:20.849330Z",
     "iopub.status.idle": "2023-07-27T06:35:20.861815Z",
     "shell.execute_reply": "2023-07-27T06:35:20.861126Z"
    },
    "papermill": {
     "duration": 0.021471,
     "end_time": "2023-07-27T06:35:20.863418",
     "exception": false,
     "start_time": "2023-07-27T06:35:20.841947",
     "status": "completed"
    },
    "tags": []
   },
   "outputs": [
    {
     "name": "stdout",
     "output_type": "stream",
     "text": [
      " - Logging roc_auc_class_mean (float) : 0.998976421708743\n"
     ]
    }
   ],
   "source": [
    "roc_auc_macro = np.mean(list(roc_auc_dict.values()))\n",
    "\n",
    "ctx.log_float(\"roc_auc_class_mean\", roc_auc_macro)\n",
    "\n",
    "# assert that the same value can be computed directly using sklearn\n",
    "assert roc_auc_macro == metrics.roc_auc_score(\n",
    "    y_test, y_pred_probs_test, average=\"macro\", multi_class=\"ovr\"\n",
    ")"
   ]
  },
  {
   "cell_type": "code",
   "execution_count": 20,
   "id": "ce5fec1f",
   "metadata": {
    "execution": {
     "iopub.execute_input": "2023-07-27T06:35:20.877436Z",
     "iopub.status.busy": "2023-07-27T06:35:20.877023Z",
     "iopub.status.idle": "2023-07-27T06:35:20.880019Z",
     "shell.execute_reply": "2023-07-27T06:35:20.879329Z"
    },
    "lines_to_next_cell": 0,
    "papermill": {
     "duration": 0.011843,
     "end_time": "2023-07-27T06:35:20.881619",
     "exception": false,
     "start_time": "2023-07-27T06:35:20.869776",
     "status": "completed"
    },
    "tags": []
   },
   "outputs": [],
   "source": [
    "# ---"
   ]
  },
  {
   "cell_type": "code",
   "execution_count": null,
   "id": "06d5f24a",
   "metadata": {
    "papermill": {
     "duration": 0.006723,
     "end_time": "2023-07-27T06:35:20.894728",
     "exception": false,
     "start_time": "2023-07-27T06:35:20.888005",
     "status": "completed"
    },
    "tags": []
   },
   "outputs": [],
   "source": []
  }
 ],
 "metadata": {
  "jupytext": {
   "cell_metadata_filter": "tags,-all",
   "main_language": "python",
   "notebook_metadata_filter": "-all"
  },
  "language_info": {
   "codemirror_mode": {
    "name": "ipython",
    "version": 3
   },
   "file_extension": ".py",
   "mimetype": "text/x-python",
   "name": "python",
   "nbconvert_exporter": "python",
   "pygments_lexer": "ipython3",
   "version": "3.8.10"
  },
  "papermill": {
   "default_parameters": {},
   "duration": 10.884135,
   "end_time": "2023-07-27T06:35:22.630091",
   "environment_variables": {},
   "exception": null,
   "input_path": "/tmp/temp-notebook-xz45ndg_.ipynb",
   "output_path": "/tmp/temp-notebook-xz45ndg_.ipynb",
   "parameters": {
    "P": {
     "_parameters_actor_name": "parameter_for_task_0x62d86d6116eb9a83",
     "task.nr_train_images": 800
    }
   },
   "start_time": "2023-07-27T06:35:11.745956",
   "version": "2.4.0"
  }
 },
 "nbformat": 4,
 "nbformat_minor": 5
}