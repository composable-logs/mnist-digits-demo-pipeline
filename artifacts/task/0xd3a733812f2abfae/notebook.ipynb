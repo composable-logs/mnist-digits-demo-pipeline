{
 "cells": [
  {
   "cell_type": "markdown",
   "id": "598d65b4",
   "metadata": {
    "papermill": {
     "duration": 0.004519,
     "end_time": "2023-07-26T06:36:09.934075",
     "exception": false,
     "start_time": "2023-07-26T06:36:09.929556",
     "status": "completed"
    },
    "tags": []
   },
   "source": [
    "# Summarize model performances\n",
    "\n",
    "This notebooks plots the performances (using averaged ROC AUC scores) for models\n",
    "trained with different training sets."
   ]
  },
  {
   "cell_type": "markdown",
   "id": "c9df64a4",
   "metadata": {
    "papermill": {
     "duration": 0.002781,
     "end_time": "2023-07-26T06:36:09.940330",
     "exception": false,
     "start_time": "2023-07-26T06:36:09.937549",
     "status": "completed"
    },
    "tags": []
   },
   "source": [
    "### Determine run parameters"
   ]
  },
  {
   "cell_type": "code",
   "execution_count": 1,
   "id": "183e93b8",
   "metadata": {
    "execution": {
     "iopub.execute_input": "2023-07-26T06:36:09.947983Z",
     "iopub.status.busy": "2023-07-26T06:36:09.947269Z",
     "iopub.status.idle": "2023-07-26T06:36:09.955503Z",
     "shell.execute_reply": "2023-07-26T06:36:09.954714Z"
    },
    "lines_to_next_cell": 0,
    "papermill": {
     "duration": 0.014152,
     "end_time": "2023-07-26T06:36:09.957309",
     "exception": false,
     "start_time": "2023-07-26T06:36:09.943157",
     "status": "completed"
    },
    "tags": []
   },
   "outputs": [],
   "source": [
    "# ----------------- Parameters for interactive development --------------\n",
    "P = {\n",
    "    \"workflow.run_environment\": \"dev\",\n",
    "}"
   ]
  },
  {
   "cell_type": "code",
   "execution_count": 2,
   "id": "fccf0237",
   "metadata": {
    "execution": {
     "iopub.execute_input": "2023-07-26T06:36:09.967062Z",
     "iopub.status.busy": "2023-07-26T06:36:09.966363Z",
     "iopub.status.idle": "2023-07-26T06:36:09.970510Z",
     "shell.execute_reply": "2023-07-26T06:36:09.969868Z"
    },
    "lines_to_next_cell": 0,
    "papermill": {
     "duration": 0.009799,
     "end_time": "2023-07-26T06:36:09.972315",
     "exception": false,
     "start_time": "2023-07-26T06:36:09.962516",
     "status": "completed"
    },
    "tags": [
     "parameters"
    ]
   },
   "outputs": [],
   "source": [
    "# - During automated runs parameters will be injected in the below cell -"
   ]
  },
  {
   "cell_type": "code",
   "execution_count": 3,
   "id": "698b9748",
   "metadata": {
    "execution": {
     "iopub.execute_input": "2023-07-26T06:36:09.979932Z",
     "iopub.status.busy": "2023-07-26T06:36:09.979171Z",
     "iopub.status.idle": "2023-07-26T06:36:09.982882Z",
     "shell.execute_reply": "2023-07-26T06:36:09.982133Z"
    },
    "papermill": {
     "duration": 0.009388,
     "end_time": "2023-07-26T06:36:09.984706",
     "exception": false,
     "start_time": "2023-07-26T06:36:09.975318",
     "status": "completed"
    },
    "tags": [
     "injected-parameters"
    ]
   },
   "outputs": [],
   "source": [
    "# Parameters\n",
    "P = {\"_parameters_actor_name\": \"parameter_for_task_0xd3a733812f2abfae\"}\n"
   ]
  },
  {
   "cell_type": "code",
   "execution_count": 4,
   "id": "dac8ff6d",
   "metadata": {
    "execution": {
     "iopub.execute_input": "2023-07-26T06:36:09.992313Z",
     "iopub.status.busy": "2023-07-26T06:36:09.991645Z",
     "iopub.status.idle": "2023-07-26T06:36:09.995164Z",
     "shell.execute_reply": "2023-07-26T06:36:09.994432Z"
    },
    "lines_to_next_cell": 0,
    "papermill": {
     "duration": 0.009146,
     "end_time": "2023-07-26T06:36:09.996789",
     "exception": false,
     "start_time": "2023-07-26T06:36:09.987643",
     "status": "completed"
    },
    "tags": []
   },
   "outputs": [],
   "source": [
    "# -----------------------------------------------------------------------"
   ]
  },
  {
   "cell_type": "markdown",
   "id": "a99b4eee",
   "metadata": {
    "papermill": {
     "duration": 0.003006,
     "end_time": "2023-07-26T06:36:10.003127",
     "exception": false,
     "start_time": "2023-07-26T06:36:10.000121",
     "status": "completed"
    },
    "tags": []
   },
   "source": [
    "---"
   ]
  },
  {
   "cell_type": "markdown",
   "id": "9375edb8",
   "metadata": {
    "lines_to_next_cell": 2,
    "papermill": {
     "duration": 0.003016,
     "end_time": "2023-07-26T06:36:10.010807",
     "exception": false,
     "start_time": "2023-07-26T06:36:10.007791",
     "status": "completed"
    },
    "tags": []
   },
   "source": [
    "### Notebook code"
   ]
  },
  {
   "cell_type": "code",
   "execution_count": 5,
   "id": "c1e5e69d",
   "metadata": {
    "execution": {
     "iopub.execute_input": "2023-07-26T06:36:10.018752Z",
     "iopub.status.busy": "2023-07-26T06:36:10.018144Z",
     "iopub.status.idle": "2023-07-26T06:36:11.232523Z",
     "shell.execute_reply": "2023-07-26T06:36:11.231720Z"
    },
    "papermill": {
     "duration": 1.220662,
     "end_time": "2023-07-26T06:36:11.234727",
     "exception": false,
     "start_time": "2023-07-26T06:36:10.014065",
     "status": "completed"
    },
    "tags": []
   },
   "outputs": [],
   "source": [
    "#\n",
    "import pandas as pd\n",
    "import matplotlib.pyplot as plt\n",
    "\n",
    "#\n",
    "from composable_logs.tasks.task_opentelemetry_logging import get_task_context"
   ]
  },
  {
   "cell_type": "code",
   "execution_count": 6,
   "id": "f5f39314",
   "metadata": {
    "execution": {
     "iopub.execute_input": "2023-07-26T06:36:11.243774Z",
     "iopub.status.busy": "2023-07-26T06:36:11.242946Z",
     "iopub.status.idle": "2023-07-26T06:36:11.338591Z",
     "shell.execute_reply": "2023-07-26T06:36:11.337810Z"
    },
    "papermill": {
     "duration": 0.102572,
     "end_time": "2023-07-26T06:36:11.340734",
     "exception": false,
     "start_time": "2023-07-26T06:36:11.238162",
     "status": "completed"
    },
    "tags": []
   },
   "outputs": [
    {
     "name": "stderr",
     "output_type": "stream",
     "text": [
      "2023-07-26 06:36:11,247\tINFO worker.py:1364 -- Connecting to existing Ray cluster at address: 172.17.0.2:62462...\n"
     ]
    },
    {
     "name": "stderr",
     "output_type": "stream",
     "text": [
      "2023-07-26 06:36:11,256\tINFO worker.py:1544 -- Connected to Ray cluster. View the dashboard at \u001b[1m\u001b[32mhttp://127.0.0.1:8265 \u001b[39m\u001b[22m\n"
     ]
    },
    {
     "name": "stderr",
     "output_type": "stream",
     "text": [
      "/home/host_user/.local/lib/python3.8/site-packages/ray/runtime_context.py:27: RayDeprecationWarning: This API is deprecated and may be removed in future Ray releases. You could suppress this warning by setting env variable PYTHONWARNINGS=\"ignore::DeprecationWarning\"\n",
      "Use get_job_id() instead\n",
      "  \"job_id\": self.job_id,\n",
      "/home/host_user/.local/lib/python3.8/site-packages/ray/runtime_context.py:28: RayDeprecationWarning: This API is deprecated and may be removed in future Ray releases. You could suppress this warning by setting env variable PYTHONWARNINGS=\"ignore::DeprecationWarning\"\n",
      "Use get_node_id() instead\n",
      "  \"node_id\": self.node_id,\n"
     ]
    }
   ],
   "source": [
    "logger = get_task_context(P)"
   ]
  },
  {
   "cell_type": "code",
   "execution_count": 7,
   "id": "143e23e7",
   "metadata": {
    "execution": {
     "iopub.execute_input": "2023-07-26T06:36:11.349981Z",
     "iopub.status.busy": "2023-07-26T06:36:11.349448Z",
     "iopub.status.idle": "2023-07-26T06:36:11.354909Z",
     "shell.execute_reply": "2023-07-26T06:36:11.354150Z"
    },
    "papermill": {
     "duration": 0.011835,
     "end_time": "2023-07-26T06:36:11.356781",
     "exception": false,
     "start_time": "2023-07-26T06:36:11.344946",
     "status": "completed"
    },
    "tags": []
   },
   "outputs": [],
   "source": [
    "from composable_logs.tasks.task_opentelemetry_logging import get_logged_values\n",
    "from composable_logs.opentelemetry_helpers import _get_all_spans, Spans"
   ]
  },
  {
   "cell_type": "code",
   "execution_count": 8,
   "id": "6ee53df3",
   "metadata": {
    "execution": {
     "iopub.execute_input": "2023-07-26T06:36:11.365321Z",
     "iopub.status.busy": "2023-07-26T06:36:11.364776Z",
     "iopub.status.idle": "2023-07-26T06:36:11.373693Z",
     "shell.execute_reply": "2023-07-26T06:36:11.373011Z"
    },
    "papermill": {
     "duration": 0.015501,
     "end_time": "2023-07-26T06:36:11.375684",
     "exception": false,
     "start_time": "2023-07-26T06:36:11.360183",
     "status": "completed"
    },
    "tags": []
   },
   "outputs": [],
   "source": [
    "def get_model_benchmarks():\n",
    "    \"\"\"\n",
    "    Query the OpenTelemetry logs for *this pipeline run* and return\n",
    "    all key-values logged from all runs of the benchmark-model.py task\n",
    "\n",
    "    For testing a json file with OpenTelemetry spans (as an array)\n",
    "    can be used as follows:\n",
    "\n",
    "    - Create output directory `mkdir /tmp/spans`\n",
    "    - Run unit tests. This will create pipeline-outputs/opentelemetry-spans.json\n",
    "    - Convert this json-array into jsonl format as follows\n",
    "\n",
    "    jq -c '.[]' /pipeline-outputs/opentelemetry-spans.json > /tmp/spans/data.txt\n",
    "\n",
    "    \"\"\"\n",
    "    spans: Spans = Spans(_get_all_spans())\n",
    "    print(f\" - Found {len(spans)} spans\")\n",
    "\n",
    "    benchmark_spans = (\n",
    "        spans\n",
    "        # -\n",
    "        .filter([\"name\"], \"execute-task\")\n",
    "        # -\n",
    "        .filter([\"attributes\", \"task.id\"], \"benchmark-model\")\n",
    "    )\n",
    "\n",
    "    result = []\n",
    "    for s in benchmark_spans:\n",
    "        result.append(\n",
    "            {\n",
    "                \"span_id\": s[\"context\"][\"span_id\"],\n",
    "                \"nr_train_images\": s[\"attributes\"][\"task.nr_train_images\"],\n",
    "                \"data\": get_logged_values(spans.bound_under(s)),\n",
    "            }\n",
    "        )\n",
    "\n",
    "    return result\n",
    "\n",
    "\n",
    "def adjust_pandas(df):\n",
    "    def column_renamer(col_name: str) -> str:\n",
    "        return (\n",
    "            col_name\n",
    "            # -- 'data.roc_auc_per_digit.4' -> 'roc_auc.4'\n",
    "            .replace(\"data.roc_auc_per_digit\", \"roc_auc\")\n",
    "            # -- 'data.roc_auc_class_mean' -> 'roc_auc_mean'\n",
    "            .replace(\"data.roc_auc_class_mean\", \"roc_auc_mean\")\n",
    "        )\n",
    "\n",
    "    return df.rename(column_renamer, axis=\"columns\").sort_values(by=\"nr_train_images\")"
   ]
  },
  {
   "cell_type": "code",
   "execution_count": 9,
   "id": "86fd9cbd",
   "metadata": {
    "execution": {
     "iopub.execute_input": "2023-07-26T06:36:11.384263Z",
     "iopub.status.busy": "2023-07-26T06:36:11.383742Z",
     "iopub.status.idle": "2023-07-26T06:36:11.506416Z",
     "shell.execute_reply": "2023-07-26T06:36:11.502929Z"
    },
    "papermill": {
     "duration": 0.129083,
     "end_time": "2023-07-26T06:36:11.508360",
     "exception": false,
     "start_time": "2023-07-26T06:36:11.379277",
     "status": "completed"
    },
    "tags": []
   },
   "outputs": [
    {
     "name": "stdout",
     "output_type": "stream",
     "text": [
      " - Found 250 spans\n"
     ]
    }
   ],
   "source": [
    "\n",
    "df_data = adjust_pandas(pd.json_normalize(get_model_benchmarks()))"
   ]
  },
  {
   "cell_type": "code",
   "execution_count": 10,
   "id": "80b87cdd",
   "metadata": {
    "execution": {
     "iopub.execute_input": "2023-07-26T06:36:11.517674Z",
     "iopub.status.busy": "2023-07-26T06:36:11.517146Z",
     "iopub.status.idle": "2023-07-26T06:36:11.548305Z",
     "shell.execute_reply": "2023-07-26T06:36:11.547486Z"
    },
    "papermill": {
     "duration": 0.037922,
     "end_time": "2023-07-26T06:36:11.550259",
     "exception": false,
     "start_time": "2023-07-26T06:36:11.512337",
     "status": "completed"
    },
    "tags": []
   },
   "outputs": [
    {
     "data": {
      "text/html": [
       "<div>\n",
       "<style scoped>\n",
       "    .dataframe tbody tr th:only-of-type {\n",
       "        vertical-align: middle;\n",
       "    }\n",
       "\n",
       "    .dataframe tbody tr th {\n",
       "        vertical-align: top;\n",
       "    }\n",
       "\n",
       "    .dataframe thead th {\n",
       "        text-align: right;\n",
       "    }\n",
       "</style>\n",
       "<table border=\"1\" class=\"dataframe\">\n",
       "  <thead>\n",
       "    <tr style=\"text-align: right;\">\n",
       "      <th></th>\n",
       "      <th>span_id</th>\n",
       "      <th>nr_train_images</th>\n",
       "      <th>roc_auc_mean</th>\n",
       "      <th>roc_auc.0</th>\n",
       "      <th>roc_auc.1</th>\n",
       "      <th>roc_auc.2</th>\n",
       "      <th>roc_auc.3</th>\n",
       "      <th>roc_auc.4</th>\n",
       "      <th>roc_auc.5</th>\n",
       "      <th>roc_auc.6</th>\n",
       "      <th>roc_auc.7</th>\n",
       "      <th>roc_auc.8</th>\n",
       "      <th>roc_auc.9</th>\n",
       "    </tr>\n",
       "  </thead>\n",
       "  <tbody>\n",
       "    <tr>\n",
       "      <th>2</th>\n",
       "      <td>0x39367a424d414237</td>\n",
       "      <td>600</td>\n",
       "      <td>0.9990</td>\n",
       "      <td>1.0</td>\n",
       "      <td>0.9991</td>\n",
       "      <td>1.0</td>\n",
       "      <td>0.9998</td>\n",
       "      <td>0.9992</td>\n",
       "      <td>0.9989</td>\n",
       "      <td>0.9999</td>\n",
       "      <td>0.9998</td>\n",
       "      <td>0.9946</td>\n",
       "      <td>0.9989</td>\n",
       "    </tr>\n",
       "    <tr>\n",
       "      <th>1</th>\n",
       "      <td>0xad87a0fc60ea21e5</td>\n",
       "      <td>800</td>\n",
       "      <td>0.9989</td>\n",
       "      <td>1.0</td>\n",
       "      <td>0.9988</td>\n",
       "      <td>1.0</td>\n",
       "      <td>0.9998</td>\n",
       "      <td>0.9995</td>\n",
       "      <td>0.9993</td>\n",
       "      <td>1.0000</td>\n",
       "      <td>0.9999</td>\n",
       "      <td>0.9926</td>\n",
       "      <td>0.9994</td>\n",
       "    </tr>\n",
       "    <tr>\n",
       "      <th>0</th>\n",
       "      <td>0xd828f4b06c97c312</td>\n",
       "      <td>1000</td>\n",
       "      <td>0.9992</td>\n",
       "      <td>1.0</td>\n",
       "      <td>0.9989</td>\n",
       "      <td>1.0</td>\n",
       "      <td>0.9999</td>\n",
       "      <td>0.9996</td>\n",
       "      <td>0.9994</td>\n",
       "      <td>0.9999</td>\n",
       "      <td>0.9997</td>\n",
       "      <td>0.9948</td>\n",
       "      <td>0.9996</td>\n",
       "    </tr>\n",
       "    <tr>\n",
       "      <th>3</th>\n",
       "      <td>0x088bb70861e2d6d6</td>\n",
       "      <td>1200</td>\n",
       "      <td>0.9994</td>\n",
       "      <td>1.0</td>\n",
       "      <td>0.9991</td>\n",
       "      <td>1.0</td>\n",
       "      <td>0.9999</td>\n",
       "      <td>0.9997</td>\n",
       "      <td>0.9997</td>\n",
       "      <td>0.9999</td>\n",
       "      <td>0.9998</td>\n",
       "      <td>0.9957</td>\n",
       "      <td>0.9998</td>\n",
       "    </tr>\n",
       "  </tbody>\n",
       "</table>\n",
       "</div>"
      ],
      "text/plain": [
       "              span_id  nr_train_images  roc_auc_mean  roc_auc.0  roc_auc.1  \\\n",
       "2  0x39367a424d414237              600        0.9990        1.0     0.9991   \n",
       "1  0xad87a0fc60ea21e5              800        0.9989        1.0     0.9988   \n",
       "0  0xd828f4b06c97c312             1000        0.9992        1.0     0.9989   \n",
       "3  0x088bb70861e2d6d6             1200        0.9994        1.0     0.9991   \n",
       "\n",
       "   roc_auc.2  roc_auc.3  roc_auc.4  roc_auc.5  roc_auc.6  roc_auc.7  \\\n",
       "2        1.0     0.9998     0.9992     0.9989     0.9999     0.9998   \n",
       "1        1.0     0.9998     0.9995     0.9993     1.0000     0.9999   \n",
       "0        1.0     0.9999     0.9996     0.9994     0.9999     0.9997   \n",
       "3        1.0     0.9999     0.9997     0.9997     0.9999     0.9998   \n",
       "\n",
       "   roc_auc.8  roc_auc.9  \n",
       "2     0.9946     0.9989  \n",
       "1     0.9926     0.9994  \n",
       "0     0.9948     0.9996  \n",
       "3     0.9957     0.9998  "
      ]
     },
     "execution_count": 10,
     "metadata": {},
     "output_type": "execute_result"
    }
   ],
   "source": [
    "df_data.round(4)"
   ]
  },
  {
   "cell_type": "code",
   "execution_count": 11,
   "id": "e219678a",
   "metadata": {
    "execution": {
     "iopub.execute_input": "2023-07-26T06:36:11.560105Z",
     "iopub.status.busy": "2023-07-26T06:36:11.559295Z",
     "iopub.status.idle": "2023-07-26T06:36:11.814329Z",
     "shell.execute_reply": "2023-07-26T06:36:11.813014Z"
    },
    "papermill": {
     "duration": 0.262182,
     "end_time": "2023-07-26T06:36:11.816509",
     "exception": false,
     "start_time": "2023-07-26T06:36:11.554327",
     "status": "completed"
    },
    "tags": []
   },
   "outputs": [
    {
     "data": {
      "image/png": "[encoded data removed]",
      "text/plain": [
       "<Figure size 1600x400 with 1 Axes>"
      ]
     },
     "metadata": {},
     "output_type": "display_data"
    }
   ],
   "source": [
    "def plot_classifier_performance_summary(df_data):\n",
    "    fig, ax = plt.subplots(nrows=1, ncols=1, figsize=(16, 4), sharex=True)\n",
    "\n",
    "    #\n",
    "    ax.plot(\n",
    "        df_data[\"nr_train_images\"], df_data[\"roc_auc_mean\"], marker=\"o\", linestyle=\"--\"\n",
    "    )\n",
    "    ax.set_title(\n",
    "        f\"ROC AUC digit classifier performance on evaluation digits\", fontsize=17\n",
    "    )\n",
    "    ax.set_xlabel(\"Total number of digits in training set\", fontsize=14)\n",
    "    ax.set_ylabel(\"Mean ROC AUC\", fontsize=14)\n",
    "\n",
    "    fig.tight_layout()\n",
    "    fig.show()\n",
    "\n",
    "    return fig\n",
    "\n",
    "\n",
    "fig = plot_classifier_performance_summary(df_data)"
   ]
  },
  {
   "cell_type": "code",
   "execution_count": 12,
   "id": "99fb6bad",
   "metadata": {
    "execution": {
     "iopub.execute_input": "2023-07-26T06:36:11.829941Z",
     "iopub.status.busy": "2023-07-26T06:36:11.829208Z",
     "iopub.status.idle": "2023-07-26T06:36:11.924780Z",
     "shell.execute_reply": "2023-07-26T06:36:11.923874Z"
    },
    "papermill": {
     "duration": 0.106919,
     "end_time": "2023-07-26T06:36:11.930090",
     "exception": false,
     "start_time": "2023-07-26T06:36:11.823171",
     "status": "completed"
    },
    "tags": []
   },
   "outputs": [],
   "source": [
    "logger.log_figure(\"auc-roc-model-performances.png\", fig)"
   ]
  },
  {
   "cell_type": "code",
   "execution_count": 13,
   "id": "dcfc6c7b",
   "metadata": {
    "execution": {
     "iopub.execute_input": "2023-07-26T06:36:11.941655Z",
     "iopub.status.busy": "2023-07-26T06:36:11.941220Z",
     "iopub.status.idle": "2023-07-26T06:36:11.945470Z",
     "shell.execute_reply": "2023-07-26T06:36:11.944674Z"
    },
    "papermill": {
     "duration": 0.012092,
     "end_time": "2023-07-26T06:36:11.947238",
     "exception": false,
     "start_time": "2023-07-26T06:36:11.935146",
     "status": "completed"
    },
    "tags": []
   },
   "outputs": [],
   "source": [
    "###"
   ]
  },
  {
   "cell_type": "code",
   "execution_count": null,
   "id": "f456b0a2",
   "metadata": {
    "papermill": {
     "duration": 0.004679,
     "end_time": "2023-07-26T06:36:11.956660",
     "exception": false,
     "start_time": "2023-07-26T06:36:11.951981",
     "status": "completed"
    },
    "tags": []
   },
   "outputs": [],
   "source": []
  }
 ],
 "metadata": {
  "jupytext": {
   "cell_metadata_filter": "tags,-all",
   "main_language": "python",
   "notebook_metadata_filter": "-all"
  },
  "language_info": {
   "codemirror_mode": {
    "name": "ipython",
    "version": 3
   },
   "file_extension": ".py",
   "mimetype": "text/x-python",
   "name": "python",
   "nbconvert_exporter": "python",
   "pygments_lexer": "ipython3",
   "version": "3.8.10"
  },
  "papermill": {
   "default_parameters": {},
   "duration": 5.520694,
   "end_time": "2023-07-26T06:36:13.897802",
   "environment_variables": {},
   "exception": null,
   "input_path": "/tmp/temp-notebook-cqp1lsf7.ipynb",
   "output_path": "/tmp/temp-notebook-cqp1lsf7.ipynb",
   "parameters": {
    "P": {
     "_parameters_actor_name": "parameter_for_task_0xd3a733812f2abfae"
    }
   },
   "start_time": "2023-07-26T06:36:08.377108",
   "version": "2.4.0"
  }
 },
 "nbformat": 4,
 "nbformat_minor": 5
}