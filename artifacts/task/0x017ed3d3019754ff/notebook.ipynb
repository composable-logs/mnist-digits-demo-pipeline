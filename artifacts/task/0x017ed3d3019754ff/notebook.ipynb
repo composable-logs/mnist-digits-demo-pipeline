{
 "cells": [
  {
   "cell_type": "markdown",
   "id": "634beb0e",
   "metadata": {
    "papermill": {
     "duration": 0.003807,
     "end_time": "2023-07-25T06:36:40.127134",
     "exception": false,
     "start_time": "2023-07-25T06:36:40.123327",
     "status": "completed"
    },
    "tags": []
   },
   "source": [
    "# Summarize model performances\n",
    "\n",
    "This notebooks plots the performances (using averaged ROC AUC scores) for models\n",
    "trained with different training sets."
   ]
  },
  {
   "cell_type": "markdown",
   "id": "84c438fa",
   "metadata": {
    "papermill": {
     "duration": 0.002323,
     "end_time": "2023-07-25T06:36:40.132412",
     "exception": false,
     "start_time": "2023-07-25T06:36:40.130089",
     "status": "completed"
    },
    "tags": []
   },
   "source": [
    "### Determine run parameters"
   ]
  },
  {
   "cell_type": "code",
   "execution_count": 1,
   "id": "b92170e4",
   "metadata": {
    "execution": {
     "iopub.execute_input": "2023-07-25T06:36:40.138837Z",
     "iopub.status.busy": "2023-07-25T06:36:40.138201Z",
     "iopub.status.idle": "2023-07-25T06:36:40.146826Z",
     "shell.execute_reply": "2023-07-25T06:36:40.146252Z"
    },
    "lines_to_next_cell": 0,
    "papermill": {
     "duration": 0.013723,
     "end_time": "2023-07-25T06:36:40.148504",
     "exception": false,
     "start_time": "2023-07-25T06:36:40.134781",
     "status": "completed"
    },
    "tags": []
   },
   "outputs": [],
   "source": [
    "# ----------------- Parameters for interactive development --------------\n",
    "P = {\n",
    "    \"workflow.run_environment\": \"dev\",\n",
    "}"
   ]
  },
  {
   "cell_type": "code",
   "execution_count": 2,
   "id": "6b3dd71a",
   "metadata": {
    "execution": {
     "iopub.execute_input": "2023-07-25T06:36:40.156985Z",
     "iopub.status.busy": "2023-07-25T06:36:40.156314Z",
     "iopub.status.idle": "2023-07-25T06:36:40.160325Z",
     "shell.execute_reply": "2023-07-25T06:36:40.159790Z"
    },
    "lines_to_next_cell": 0,
    "papermill": {
     "duration": 0.009173,
     "end_time": "2023-07-25T06:36:40.161878",
     "exception": false,
     "start_time": "2023-07-25T06:36:40.152705",
     "status": "completed"
    },
    "tags": [
     "parameters"
    ]
   },
   "outputs": [],
   "source": [
    "# - During automated runs parameters will be injected in the below cell -"
   ]
  },
  {
   "cell_type": "code",
   "execution_count": 3,
   "id": "7d3c88fe",
   "metadata": {
    "execution": {
     "iopub.execute_input": "2023-07-25T06:36:40.168029Z",
     "iopub.status.busy": "2023-07-25T06:36:40.167504Z",
     "iopub.status.idle": "2023-07-25T06:36:40.171541Z",
     "shell.execute_reply": "2023-07-25T06:36:40.170973Z"
    },
    "papermill": {
     "duration": 0.008821,
     "end_time": "2023-07-25T06:36:40.173171",
     "exception": false,
     "start_time": "2023-07-25T06:36:40.164350",
     "status": "completed"
    },
    "tags": [
     "injected-parameters"
    ]
   },
   "outputs": [],
   "source": [
    "# Parameters\n",
    "P = {\"_parameters_actor_name\": \"parameter_for_task_0x017ed3d3019754ff\"}\n"
   ]
  },
  {
   "cell_type": "code",
   "execution_count": 4,
   "id": "24af8c1f",
   "metadata": {
    "execution": {
     "iopub.execute_input": "2023-07-25T06:36:40.179511Z",
     "iopub.status.busy": "2023-07-25T06:36:40.178979Z",
     "iopub.status.idle": "2023-07-25T06:36:40.181946Z",
     "shell.execute_reply": "2023-07-25T06:36:40.181365Z"
    },
    "lines_to_next_cell": 0,
    "papermill": {
     "duration": 0.007863,
     "end_time": "2023-07-25T06:36:40.183548",
     "exception": false,
     "start_time": "2023-07-25T06:36:40.175685",
     "status": "completed"
    },
    "tags": []
   },
   "outputs": [],
   "source": [
    "# -----------------------------------------------------------------------"
   ]
  },
  {
   "cell_type": "markdown",
   "id": "c4a9a17c",
   "metadata": {
    "papermill": {
     "duration": 0.002462,
     "end_time": "2023-07-25T06:36:40.188523",
     "exception": false,
     "start_time": "2023-07-25T06:36:40.186061",
     "status": "completed"
    },
    "tags": []
   },
   "source": [
    "---"
   ]
  },
  {
   "cell_type": "markdown",
   "id": "12f888d7",
   "metadata": {
    "lines_to_next_cell": 2,
    "papermill": {
     "duration": 0.002632,
     "end_time": "2023-07-25T06:36:40.193658",
     "exception": false,
     "start_time": "2023-07-25T06:36:40.191026",
     "status": "completed"
    },
    "tags": []
   },
   "source": [
    "### Notebook code"
   ]
  },
  {
   "cell_type": "code",
   "execution_count": 5,
   "id": "83da335c",
   "metadata": {
    "execution": {
     "iopub.execute_input": "2023-07-25T06:36:40.200030Z",
     "iopub.status.busy": "2023-07-25T06:36:40.199690Z",
     "iopub.status.idle": "2023-07-25T06:36:41.187043Z",
     "shell.execute_reply": "2023-07-25T06:36:41.186372Z"
    },
    "papermill": {
     "duration": 0.99269,
     "end_time": "2023-07-25T06:36:41.188935",
     "exception": false,
     "start_time": "2023-07-25T06:36:40.196245",
     "status": "completed"
    },
    "tags": []
   },
   "outputs": [],
   "source": [
    "#\n",
    "import pandas as pd\n",
    "import matplotlib.pyplot as plt\n",
    "\n",
    "#\n",
    "from composable_logs.tasks.task_opentelemetry_logging import get_task_context"
   ]
  },
  {
   "cell_type": "code",
   "execution_count": 6,
   "id": "60aeb51a",
   "metadata": {
    "execution": {
     "iopub.execute_input": "2023-07-25T06:36:41.196968Z",
     "iopub.status.busy": "2023-07-25T06:36:41.196197Z",
     "iopub.status.idle": "2023-07-25T06:36:41.267208Z",
     "shell.execute_reply": "2023-07-25T06:36:41.266594Z"
    },
    "papermill": {
     "duration": 0.077002,
     "end_time": "2023-07-25T06:36:41.268849",
     "exception": false,
     "start_time": "2023-07-25T06:36:41.191847",
     "status": "completed"
    },
    "tags": []
   },
   "outputs": [
    {
     "name": "stderr",
     "output_type": "stream",
     "text": [
      "2023-07-25 06:36:41,199\tINFO worker.py:1364 -- Connecting to existing Ray cluster at address: 172.17.0.2:63822...\n"
     ]
    },
    {
     "name": "stderr",
     "output_type": "stream",
     "text": [
      "2023-07-25 06:36:41,207\tINFO worker.py:1544 -- Connected to Ray cluster. View the dashboard at \u001b[1m\u001b[32mhttp://127.0.0.1:8265 \u001b[39m\u001b[22m\n"
     ]
    },
    {
     "name": "stderr",
     "output_type": "stream",
     "text": [
      "/home/host_user/.local/lib/python3.8/site-packages/ray/runtime_context.py:27: RayDeprecationWarning: This API is deprecated and may be removed in future Ray releases. You could suppress this warning by setting env variable PYTHONWARNINGS=\"ignore::DeprecationWarning\"\n",
      "Use get_job_id() instead\n",
      "  \"job_id\": self.job_id,\n",
      "/home/host_user/.local/lib/python3.8/site-packages/ray/runtime_context.py:28: RayDeprecationWarning: This API is deprecated and may be removed in future Ray releases. You could suppress this warning by setting env variable PYTHONWARNINGS=\"ignore::DeprecationWarning\"\n",
      "Use get_node_id() instead\n",
      "  \"node_id\": self.node_id,\n"
     ]
    }
   ],
   "source": [
    "logger = get_task_context(P)"
   ]
  },
  {
   "cell_type": "code",
   "execution_count": 7,
   "id": "ee96bf96",
   "metadata": {
    "execution": {
     "iopub.execute_input": "2023-07-25T06:36:41.282623Z",
     "iopub.status.busy": "2023-07-25T06:36:41.281932Z",
     "iopub.status.idle": "2023-07-25T06:36:41.285883Z",
     "shell.execute_reply": "2023-07-25T06:36:41.285197Z"
    },
    "papermill": {
     "duration": 0.013322,
     "end_time": "2023-07-25T06:36:41.287765",
     "exception": false,
     "start_time": "2023-07-25T06:36:41.274443",
     "status": "completed"
    },
    "tags": []
   },
   "outputs": [],
   "source": [
    "from composable_logs.tasks.task_opentelemetry_logging import get_logged_values\n",
    "from composable_logs.opentelemetry_helpers import _get_all_spans, Spans"
   ]
  },
  {
   "cell_type": "code",
   "execution_count": 8,
   "id": "dc57b030",
   "metadata": {
    "execution": {
     "iopub.execute_input": "2023-07-25T06:36:41.295403Z",
     "iopub.status.busy": "2023-07-25T06:36:41.294909Z",
     "iopub.status.idle": "2023-07-25T06:36:41.301421Z",
     "shell.execute_reply": "2023-07-25T06:36:41.300850Z"
    },
    "papermill": {
     "duration": 0.012116,
     "end_time": "2023-07-25T06:36:41.302822",
     "exception": false,
     "start_time": "2023-07-25T06:36:41.290706",
     "status": "completed"
    },
    "tags": []
   },
   "outputs": [],
   "source": [
    "def get_model_benchmarks():\n",
    "    \"\"\"\n",
    "    Query the OpenTelemetry logs for *this pipeline run* and return\n",
    "    all key-values logged from all runs of the benchmark-model.py task\n",
    "\n",
    "    For testing a json file with OpenTelemetry spans (as an array)\n",
    "    can be used as follows:\n",
    "\n",
    "    - Create output directory `mkdir /tmp/spans`\n",
    "    - Run unit tests. This will create pipeline-outputs/opentelemetry-spans.json\n",
    "    - Convert this json-array into jsonl format as follows\n",
    "\n",
    "    jq -c '.[]' /pipeline-outputs/opentelemetry-spans.json > /tmp/spans/data.txt\n",
    "\n",
    "    \"\"\"\n",
    "    spans: Spans = Spans(_get_all_spans())\n",
    "    print(f\" - Found {len(spans)} spans\")\n",
    "\n",
    "    benchmark_spans = (\n",
    "        spans\n",
    "        # -\n",
    "        .filter([\"name\"], \"execute-task\")\n",
    "        # -\n",
    "        .filter([\"attributes\", \"task.id\"], \"benchmark-model\")\n",
    "    )\n",
    "\n",
    "    result = []\n",
    "    for s in benchmark_spans:\n",
    "        result.append(\n",
    "            {\n",
    "                \"span_id\": s[\"context\"][\"span_id\"],\n",
    "                \"nr_train_images\": s[\"attributes\"][\"task.nr_train_images\"],\n",
    "                \"data\": get_logged_values(spans.bound_under(s)),\n",
    "            }\n",
    "        )\n",
    "\n",
    "    return result\n",
    "\n",
    "\n",
    "def adjust_pandas(df):\n",
    "    def column_renamer(col_name: str) -> str:\n",
    "        return (\n",
    "            col_name\n",
    "            # -- 'data.roc_auc_per_digit.4' -> 'roc_auc.4'\n",
    "            .replace(\"data.roc_auc_per_digit\", \"roc_auc\")\n",
    "            # -- 'data.roc_auc_class_mean' -> 'roc_auc_mean'\n",
    "            .replace(\"data.roc_auc_class_mean\", \"roc_auc_mean\")\n",
    "        )\n",
    "\n",
    "    return df.rename(column_renamer, axis=\"columns\").sort_values(by=\"nr_train_images\")"
   ]
  },
  {
   "cell_type": "code",
   "execution_count": 9,
   "id": "f8108aec",
   "metadata": {
    "execution": {
     "iopub.execute_input": "2023-07-25T06:36:41.310357Z",
     "iopub.status.busy": "2023-07-25T06:36:41.309720Z",
     "iopub.status.idle": "2023-07-25T06:36:41.410599Z",
     "shell.execute_reply": "2023-07-25T06:36:41.409966Z"
    },
    "papermill": {
     "duration": 0.106268,
     "end_time": "2023-07-25T06:36:41.412283",
     "exception": false,
     "start_time": "2023-07-25T06:36:41.306015",
     "status": "completed"
    },
    "tags": []
   },
   "outputs": [
    {
     "name": "stdout",
     "output_type": "stream",
     "text": [
      " - Found 250 spans\n"
     ]
    }
   ],
   "source": [
    "\n",
    "df_data = adjust_pandas(pd.json_normalize(get_model_benchmarks()))"
   ]
  },
  {
   "cell_type": "code",
   "execution_count": 10,
   "id": "b7789967",
   "metadata": {
    "execution": {
     "iopub.execute_input": "2023-07-25T06:36:41.420278Z",
     "iopub.status.busy": "2023-07-25T06:36:41.419644Z",
     "iopub.status.idle": "2023-07-25T06:36:41.446330Z",
     "shell.execute_reply": "2023-07-25T06:36:41.445652Z"
    },
    "papermill": {
     "duration": 0.032632,
     "end_time": "2023-07-25T06:36:41.448047",
     "exception": false,
     "start_time": "2023-07-25T06:36:41.415415",
     "status": "completed"
    },
    "tags": []
   },
   "outputs": [
    {
     "data": {
      "text/html": [
       "<div>\n",
       "<style scoped>\n",
       "    .dataframe tbody tr th:only-of-type {\n",
       "        vertical-align: middle;\n",
       "    }\n",
       "\n",
       "    .dataframe tbody tr th {\n",
       "        vertical-align: top;\n",
       "    }\n",
       "\n",
       "    .dataframe thead th {\n",
       "        text-align: right;\n",
       "    }\n",
       "</style>\n",
       "<table border=\"1\" class=\"dataframe\">\n",
       "  <thead>\n",
       "    <tr style=\"text-align: right;\">\n",
       "      <th></th>\n",
       "      <th>span_id</th>\n",
       "      <th>nr_train_images</th>\n",
       "      <th>roc_auc_mean</th>\n",
       "      <th>roc_auc.0</th>\n",
       "      <th>roc_auc.1</th>\n",
       "      <th>roc_auc.2</th>\n",
       "      <th>roc_auc.3</th>\n",
       "      <th>roc_auc.4</th>\n",
       "      <th>roc_auc.5</th>\n",
       "      <th>roc_auc.6</th>\n",
       "      <th>roc_auc.7</th>\n",
       "      <th>roc_auc.8</th>\n",
       "      <th>roc_auc.9</th>\n",
       "    </tr>\n",
       "  </thead>\n",
       "  <tbody>\n",
       "    <tr>\n",
       "      <th>3</th>\n",
       "      <td>0xbca07ae4c6903055</td>\n",
       "      <td>600</td>\n",
       "      <td>0.9990</td>\n",
       "      <td>1.0</td>\n",
       "      <td>0.9992</td>\n",
       "      <td>1.0</td>\n",
       "      <td>0.9997</td>\n",
       "      <td>0.9991</td>\n",
       "      <td>0.9989</td>\n",
       "      <td>0.9999</td>\n",
       "      <td>0.9998</td>\n",
       "      <td>0.9948</td>\n",
       "      <td>0.9989</td>\n",
       "    </tr>\n",
       "    <tr>\n",
       "      <th>2</th>\n",
       "      <td>0xda95f06d49400c65</td>\n",
       "      <td>800</td>\n",
       "      <td>0.9989</td>\n",
       "      <td>1.0</td>\n",
       "      <td>0.9988</td>\n",
       "      <td>1.0</td>\n",
       "      <td>0.9999</td>\n",
       "      <td>0.9996</td>\n",
       "      <td>0.9991</td>\n",
       "      <td>1.0000</td>\n",
       "      <td>0.9999</td>\n",
       "      <td>0.9927</td>\n",
       "      <td>0.9995</td>\n",
       "    </tr>\n",
       "    <tr>\n",
       "      <th>0</th>\n",
       "      <td>0x27b1365d31ce4b6f</td>\n",
       "      <td>1000</td>\n",
       "      <td>0.9992</td>\n",
       "      <td>1.0</td>\n",
       "      <td>0.9990</td>\n",
       "      <td>1.0</td>\n",
       "      <td>0.9999</td>\n",
       "      <td>0.9996</td>\n",
       "      <td>0.9994</td>\n",
       "      <td>0.9999</td>\n",
       "      <td>0.9998</td>\n",
       "      <td>0.9949</td>\n",
       "      <td>0.9995</td>\n",
       "    </tr>\n",
       "    <tr>\n",
       "      <th>1</th>\n",
       "      <td>0x49296f4a16fbd628</td>\n",
       "      <td>1200</td>\n",
       "      <td>0.9993</td>\n",
       "      <td>1.0</td>\n",
       "      <td>0.9990</td>\n",
       "      <td>1.0</td>\n",
       "      <td>0.9999</td>\n",
       "      <td>0.9997</td>\n",
       "      <td>0.9996</td>\n",
       "      <td>0.9999</td>\n",
       "      <td>0.9998</td>\n",
       "      <td>0.9955</td>\n",
       "      <td>0.9997</td>\n",
       "    </tr>\n",
       "  </tbody>\n",
       "</table>\n",
       "</div>"
      ],
      "text/plain": [
       "              span_id  nr_train_images  roc_auc_mean  roc_auc.0  roc_auc.1  \\\n",
       "3  0xbca07ae4c6903055              600        0.9990        1.0     0.9992   \n",
       "2  0xda95f06d49400c65              800        0.9989        1.0     0.9988   \n",
       "0  0x27b1365d31ce4b6f             1000        0.9992        1.0     0.9990   \n",
       "1  0x49296f4a16fbd628             1200        0.9993        1.0     0.9990   \n",
       "\n",
       "   roc_auc.2  roc_auc.3  roc_auc.4  roc_auc.5  roc_auc.6  roc_auc.7  \\\n",
       "3        1.0     0.9997     0.9991     0.9989     0.9999     0.9998   \n",
       "2        1.0     0.9999     0.9996     0.9991     1.0000     0.9999   \n",
       "0        1.0     0.9999     0.9996     0.9994     0.9999     0.9998   \n",
       "1        1.0     0.9999     0.9997     0.9996     0.9999     0.9998   \n",
       "\n",
       "   roc_auc.8  roc_auc.9  \n",
       "3     0.9948     0.9989  \n",
       "2     0.9927     0.9995  \n",
       "0     0.9949     0.9995  \n",
       "1     0.9955     0.9997  "
      ]
     },
     "execution_count": 10,
     "metadata": {},
     "output_type": "execute_result"
    }
   ],
   "source": [
    "df_data.round(4)"
   ]
  },
  {
   "cell_type": "code",
   "execution_count": 11,
   "id": "a7d93891",
   "metadata": {
    "execution": {
     "iopub.execute_input": "2023-07-25T06:36:41.456629Z",
     "iopub.status.busy": "2023-07-25T06:36:41.456020Z",
     "iopub.status.idle": "2023-07-25T06:36:41.686985Z",
     "shell.execute_reply": "2023-07-25T06:36:41.686347Z"
    },
    "papermill": {
     "duration": 0.236892,
     "end_time": "2023-07-25T06:36:41.688836",
     "exception": false,
     "start_time": "2023-07-25T06:36:41.451944",
     "status": "completed"
    },
    "tags": []
   },
   "outputs": [
    {
     "data": {
      "image/png": "[encoded data removed]",
      "text/plain": [
       "<Figure size 1600x400 with 1 Axes>"
      ]
     },
     "metadata": {},
     "output_type": "display_data"
    }
   ],
   "source": [
    "def plot_classifier_performance_summary(df_data):\n",
    "    fig, ax = plt.subplots(nrows=1, ncols=1, figsize=(16, 4), sharex=True)\n",
    "\n",
    "    #\n",
    "    ax.plot(\n",
    "        df_data[\"nr_train_images\"], df_data[\"roc_auc_mean\"], marker=\"o\", linestyle=\"--\"\n",
    "    )\n",
    "    ax.set_title(\n",
    "        f\"ROC AUC digit classifier performance on evaluation digits\", fontsize=17\n",
    "    )\n",
    "    ax.set_xlabel(\"Total number of digits in training set\", fontsize=14)\n",
    "    ax.set_ylabel(\"Mean ROC AUC\", fontsize=14)\n",
    "\n",
    "    fig.tight_layout()\n",
    "    fig.show()\n",
    "\n",
    "    return fig\n",
    "\n",
    "\n",
    "fig = plot_classifier_performance_summary(df_data)"
   ]
  },
  {
   "cell_type": "code",
   "execution_count": 12,
   "id": "793dcce3",
   "metadata": {
    "execution": {
     "iopub.execute_input": "2023-07-25T06:36:41.699978Z",
     "iopub.status.busy": "2023-07-25T06:36:41.699699Z",
     "iopub.status.idle": "2023-07-25T06:36:41.785176Z",
     "shell.execute_reply": "2023-07-25T06:36:41.784487Z"
    },
    "papermill": {
     "duration": 0.092921,
     "end_time": "2023-07-25T06:36:41.787177",
     "exception": false,
     "start_time": "2023-07-25T06:36:41.694256",
     "status": "completed"
    },
    "tags": []
   },
   "outputs": [],
   "source": [
    "logger.log_figure(\"auc-roc-model-performances.png\", fig)"
   ]
  },
  {
   "cell_type": "code",
   "execution_count": 13,
   "id": "ba3db1ce",
   "metadata": {
    "execution": {
     "iopub.execute_input": "2023-07-25T06:36:41.801699Z",
     "iopub.status.busy": "2023-07-25T06:36:41.800902Z",
     "iopub.status.idle": "2023-07-25T06:36:41.804031Z",
     "shell.execute_reply": "2023-07-25T06:36:41.803494Z"
    },
    "papermill": {
     "duration": 0.013772,
     "end_time": "2023-07-25T06:36:41.805309",
     "exception": false,
     "start_time": "2023-07-25T06:36:41.791537",
     "status": "completed"
    },
    "tags": []
   },
   "outputs": [],
   "source": [
    "###"
   ]
  },
  {
   "cell_type": "code",
   "execution_count": null,
   "id": "a83e13b0",
   "metadata": {
    "papermill": {
     "duration": 0.004051,
     "end_time": "2023-07-25T06:36:41.813554",
     "exception": false,
     "start_time": "2023-07-25T06:36:41.809503",
     "status": "completed"
    },
    "tags": []
   },
   "outputs": [],
   "source": []
  }
 ],
 "metadata": {
  "jupytext": {
   "cell_metadata_filter": "tags,-all",
   "main_language": "python",
   "notebook_metadata_filter": "-all"
  },
  "language_info": {
   "codemirror_mode": {
    "name": "ipython",
    "version": 3
   },
   "file_extension": ".py",
   "mimetype": "text/x-python",
   "name": "python",
   "nbconvert_exporter": "python",
   "pygments_lexer": "ipython3",
   "version": "3.8.10"
  },
  "papermill": {
   "default_parameters": {},
   "duration": 4.811473,
   "end_time": "2023-07-25T06:36:43.846438",
   "environment_variables": {},
   "exception": null,
   "input_path": "/tmp/temp-notebook-tbip72jq.ipynb",
   "output_path": "/tmp/temp-notebook-tbip72jq.ipynb",
   "parameters": {
    "P": {
     "_parameters_actor_name": "parameter_for_task_0x017ed3d3019754ff"
    }
   },
   "start_time": "2023-07-25T06:36:39.034965",
   "version": "2.4.0"
  }
 },
 "nbformat": 4,
 "nbformat_minor": 5
}