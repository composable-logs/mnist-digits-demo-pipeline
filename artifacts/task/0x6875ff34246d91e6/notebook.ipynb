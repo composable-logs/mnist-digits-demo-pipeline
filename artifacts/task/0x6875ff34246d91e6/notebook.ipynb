{
 "cells": [
  {
   "cell_type": "markdown",
   "id": "65c9c0b8",
   "metadata": {
    "papermill": {
     "duration": 0.005201,
     "end_time": "2023-07-23T06:34:35.652697",
     "exception": false,
     "start_time": "2023-07-23T06:34:35.647496",
     "status": "completed"
    },
    "tags": []
   },
   "source": [
    "# Benchmark model\n",
    "\n",
    "The purpose of this notebook is to benchmark persisted onnx-model (trained in the\n",
    "previous step) against evaluation set."
   ]
  },
  {
   "cell_type": "markdown",
   "id": "ce93cb18",
   "metadata": {
    "papermill": {
     "duration": 0.003748,
     "end_time": "2023-07-23T06:34:35.662274",
     "exception": false,
     "start_time": "2023-07-23T06:34:35.658526",
     "status": "completed"
    },
    "tags": []
   },
   "source": [
    "### Determine run parameters"
   ]
  },
  {
   "cell_type": "code",
   "execution_count": 1,
   "id": "3933cbf2",
   "metadata": {
    "execution": {
     "iopub.execute_input": "2023-07-23T06:34:35.671507Z",
     "iopub.status.busy": "2023-07-23T06:34:35.670807Z",
     "iopub.status.idle": "2023-07-23T06:34:35.677799Z",
     "shell.execute_reply": "2023-07-23T06:34:35.677105Z"
    },
    "lines_to_next_cell": 0,
    "papermill": {
     "duration": 0.013278,
     "end_time": "2023-07-23T06:34:35.679282",
     "exception": false,
     "start_time": "2023-07-23T06:34:35.666004",
     "status": "completed"
    },
    "tags": []
   },
   "outputs": [],
   "source": [
    "# ----------------- Parameters for interactive development --------------\n",
    "P = {\n",
    "    \"workflow.data_lake_root\": \"/pipeline-outputs/data-lake\",\n",
    "    \"task.nr_train_images\": 600,\n",
    "}"
   ]
  },
  {
   "cell_type": "code",
   "execution_count": 2,
   "id": "bec448ef",
   "metadata": {
    "execution": {
     "iopub.execute_input": "2023-07-23T06:34:35.692930Z",
     "iopub.status.busy": "2023-07-23T06:34:35.692339Z",
     "iopub.status.idle": "2023-07-23T06:34:35.695457Z",
     "shell.execute_reply": "2023-07-23T06:34:35.694849Z"
    },
    "lines_to_next_cell": 0,
    "papermill": {
     "duration": 0.013439,
     "end_time": "2023-07-23T06:34:35.696833",
     "exception": false,
     "start_time": "2023-07-23T06:34:35.683394",
     "status": "completed"
    },
    "tags": [
     "parameters"
    ]
   },
   "outputs": [],
   "source": [
    "# - During automated runs parameters will be injected in the below cell -"
   ]
  },
  {
   "cell_type": "code",
   "execution_count": 3,
   "id": "1a18269e",
   "metadata": {
    "execution": {
     "iopub.execute_input": "2023-07-23T06:34:35.712507Z",
     "iopub.status.busy": "2023-07-23T06:34:35.712254Z",
     "iopub.status.idle": "2023-07-23T06:34:35.715488Z",
     "shell.execute_reply": "2023-07-23T06:34:35.714884Z"
    },
    "papermill": {
     "duration": 0.01641,
     "end_time": "2023-07-23T06:34:35.717089",
     "exception": false,
     "start_time": "2023-07-23T06:34:35.700679",
     "status": "completed"
    },
    "tags": [
     "injected-parameters"
    ]
   },
   "outputs": [],
   "source": [
    "# Parameters\n",
    "P = {\n",
    "    \"task.nr_train_images\": 600,\n",
    "    \"_parameters_actor_name\": \"parameter_for_task_0x6875ff34246d91e6\",\n",
    "}\n"
   ]
  },
  {
   "cell_type": "code",
   "execution_count": 4,
   "id": "c385bca0",
   "metadata": {
    "execution": {
     "iopub.execute_input": "2023-07-23T06:34:35.726141Z",
     "iopub.status.busy": "2023-07-23T06:34:35.725598Z",
     "iopub.status.idle": "2023-07-23T06:34:35.729095Z",
     "shell.execute_reply": "2023-07-23T06:34:35.728531Z"
    },
    "lines_to_next_cell": 0,
    "papermill": {
     "duration": 0.009276,
     "end_time": "2023-07-23T06:34:35.730395",
     "exception": false,
     "start_time": "2023-07-23T06:34:35.721119",
     "status": "completed"
    },
    "tags": []
   },
   "outputs": [],
   "source": [
    "# -----------------------------------------------------------------------"
   ]
  },
  {
   "cell_type": "markdown",
   "id": "a93a1c22",
   "metadata": {
    "papermill": {
     "duration": 0.003838,
     "end_time": "2023-07-23T06:34:35.738040",
     "exception": false,
     "start_time": "2023-07-23T06:34:35.734202",
     "status": "completed"
    },
    "tags": []
   },
   "source": [
    "---"
   ]
  },
  {
   "cell_type": "markdown",
   "id": "47f77600",
   "metadata": {
    "lines_to_next_cell": 2,
    "papermill": {
     "duration": 0.003696,
     "end_time": "2023-07-23T06:34:35.745696",
     "exception": false,
     "start_time": "2023-07-23T06:34:35.742000",
     "status": "completed"
    },
    "tags": []
   },
   "source": [
    "### Notebook code"
   ]
  },
  {
   "cell_type": "code",
   "execution_count": 5,
   "id": "4fef0ff3",
   "metadata": {
    "execution": {
     "iopub.execute_input": "2023-07-23T06:34:35.754481Z",
     "iopub.status.busy": "2023-07-23T06:34:35.754209Z",
     "iopub.status.idle": "2023-07-23T06:34:36.748453Z",
     "shell.execute_reply": "2023-07-23T06:34:36.747811Z"
    },
    "papermill": {
     "duration": 1.000717,
     "end_time": "2023-07-23T06:34:36.750222",
     "exception": false,
     "start_time": "2023-07-23T06:34:35.749505",
     "status": "completed"
    },
    "tags": []
   },
   "outputs": [
    {
     "name": "stderr",
     "output_type": "stream",
     "text": [
      "2023-07-23 06:34:36,649\tINFO worker.py:1364 -- Connecting to existing Ray cluster at address: 172.17.0.2:39285...\n"
     ]
    },
    {
     "name": "stderr",
     "output_type": "stream",
     "text": [
      "2023-07-23 06:34:36,659\tINFO worker.py:1544 -- Connected to Ray cluster. View the dashboard at \u001b[1m\u001b[32mhttp://127.0.0.1:8265 \u001b[39m\u001b[22m\n"
     ]
    },
    {
     "name": "stderr",
     "output_type": "stream",
     "text": [
      "/home/host_user/.local/lib/python3.8/site-packages/ray/runtime_context.py:27: RayDeprecationWarning: This API is deprecated and may be removed in future Ray releases. You could suppress this warning by setting env variable PYTHONWARNINGS=\"ignore::DeprecationWarning\"\n",
      "Use get_job_id() instead\n",
      "  \"job_id\": self.job_id,\n",
      "/home/host_user/.local/lib/python3.8/site-packages/ray/runtime_context.py:28: RayDeprecationWarning: This API is deprecated and may be removed in future Ray releases. You could suppress this warning by setting env variable PYTHONWARNINGS=\"ignore::DeprecationWarning\"\n",
      "Use get_node_id() instead\n",
      "  \"node_id\": self.node_id,\n"
     ]
    }
   ],
   "source": [
    "import itertools as it\n",
    "\n",
    "#\n",
    "import numpy as np\n",
    "import matplotlib.pyplot as plt\n",
    "\n",
    "#\n",
    "from composable_logs.tasks.task_opentelemetry_logging import get_task_context\n",
    "\n",
    "#\n",
    "from common.io import datalake_root\n",
    "\n",
    "ctx = get_task_context(P)"
   ]
  },
  {
   "cell_type": "markdown",
   "id": "de4023f9",
   "metadata": {
    "papermill": {
     "duration": 0.004204,
     "end_time": "2023-07-23T06:34:36.759419",
     "exception": false,
     "start_time": "2023-07-23T06:34:36.755215",
     "status": "completed"
    },
    "tags": []
   },
   "source": [
    "## Load persisted onnx-model and evaluation data"
   ]
  },
  {
   "cell_type": "code",
   "execution_count": 6,
   "id": "c6b245dd",
   "metadata": {
    "execution": {
     "iopub.execute_input": "2023-07-23T06:34:36.769630Z",
     "iopub.status.busy": "2023-07-23T06:34:36.769364Z",
     "iopub.status.idle": "2023-07-23T06:34:36.773555Z",
     "shell.execute_reply": "2023-07-23T06:34:36.772975Z"
    },
    "papermill": {
     "duration": 0.011531,
     "end_time": "2023-07-23T06:34:36.775259",
     "exception": false,
     "start_time": "2023-07-23T06:34:36.763728",
     "status": "completed"
    },
    "tags": []
   },
   "outputs": [],
   "source": [
    "from common.io import read_onnx, get_onnx_inputs, get_onnx_outputs, read_numpy"
   ]
  },
  {
   "cell_type": "code",
   "execution_count": 7,
   "id": "e1e5452f",
   "metadata": {
    "execution": {
     "iopub.execute_input": "2023-07-23T06:34:36.785208Z",
     "iopub.status.busy": "2023-07-23T06:34:36.784966Z",
     "iopub.status.idle": "2023-07-23T06:34:36.794203Z",
     "shell.execute_reply": "2023-07-23T06:34:36.793601Z"
    },
    "lines_to_next_cell": 0,
    "papermill": {
     "duration": 0.016429,
     "end_time": "2023-07-23T06:34:36.796086",
     "exception": false,
     "start_time": "2023-07-23T06:34:36.779657",
     "status": "completed"
    },
    "tags": []
   },
   "outputs": [],
   "source": [
    "onnx_inference_session = read_onnx(\n",
    "    datalake_root(ctx)\n",
    "    / \"models\"\n",
    "    / f\"nr_train_images={ctx.parameters['task.nr_train_images']}\"\n",
    "    / \"model.onnx\"\n",
    ")"
   ]
  },
  {
   "cell_type": "markdown",
   "id": "3b984f14",
   "metadata": {
    "papermill": {
     "duration": 0.004303,
     "end_time": "2023-07-23T06:34:36.804711",
     "exception": false,
     "start_time": "2023-07-23T06:34:36.800408",
     "status": "completed"
    },
    "tags": []
   },
   "source": [
    "### Record structure of inputs and outputs for ONNX model\n",
    "\n",
    "(this should likely be done in training notebook)"
   ]
  },
  {
   "cell_type": "code",
   "execution_count": 8,
   "id": "67861f68",
   "metadata": {
    "execution": {
     "iopub.execute_input": "2023-07-23T06:34:36.814791Z",
     "iopub.status.busy": "2023-07-23T06:34:36.814516Z",
     "iopub.status.idle": "2023-07-23T06:34:36.820902Z",
     "shell.execute_reply": "2023-07-23T06:34:36.820263Z"
    },
    "papermill": {
     "duration": 0.028092,
     "end_time": "2023-07-23T06:34:36.837050",
     "exception": false,
     "start_time": "2023-07-23T06:34:36.808958",
     "status": "completed"
    },
    "tags": []
   },
   "outputs": [
    {
     "name": "stdout",
     "output_type": "stream",
     "text": [
      "{\n",
      "  \"inputs\": [\n",
      "    {\n",
      "      \"name\": \"float_input_8x8_image\",\n",
      "      \"shape\": [\n",
      "        null,\n",
      "        64\n",
      "      ],\n",
      "      \"type\": \"tensor(float)\"\n",
      "    }\n",
      "  ],\n",
      "  \"outputs\": [\n",
      "    {\n",
      "      \"name\": \"output_label\",\n",
      "      \"shape\": [\n",
      "        null\n",
      "      ],\n",
      "      \"type\": \"tensor(int64)\"\n",
      "    },\n",
      "    {\n",
      "      \"name\": \"output_probability\",\n",
      "      \"shape\": [],\n",
      "      \"type\": \"seq(map(int64,tensor(float)))\"\n",
      "    }\n",
      "  ]\n",
      "}\n"
     ]
    }
   ],
   "source": [
    "import json\n",
    "\n",
    "onnx_io = json.dumps(\n",
    "    {\n",
    "        \"inputs\": get_onnx_inputs(onnx_inference_session),\n",
    "        \"outputs\": get_onnx_outputs(onnx_inference_session),\n",
    "    },\n",
    "    indent=2,\n",
    ")\n",
    "\n",
    "\n",
    "ctx.log_artefact(\"onnx_io_structure.json\", onnx_io)\n",
    "print(onnx_io)"
   ]
  },
  {
   "cell_type": "markdown",
   "id": "2001b5ea",
   "metadata": {
    "papermill": {
     "duration": 0.004243,
     "end_time": "2023-07-23T06:34:36.845715",
     "exception": false,
     "start_time": "2023-07-23T06:34:36.841472",
     "status": "completed"
    },
    "tags": []
   },
   "source": [
    "### Evaluate model performance on evaluation data set"
   ]
  },
  {
   "cell_type": "code",
   "execution_count": 9,
   "id": "22582245",
   "metadata": {
    "execution": {
     "iopub.execute_input": "2023-07-23T06:34:36.856060Z",
     "iopub.status.busy": "2023-07-23T06:34:36.855780Z",
     "iopub.status.idle": "2023-07-23T06:34:36.862041Z",
     "shell.execute_reply": "2023-07-23T06:34:36.861342Z"
    },
    "papermill": {
     "duration": 0.013544,
     "end_time": "2023-07-23T06:34:36.863599",
     "exception": false,
     "start_time": "2023-07-23T06:34:36.850055",
     "status": "completed"
    },
    "tags": []
   },
   "outputs": [],
   "source": [
    "# load evaluation data\n",
    "X_test = read_numpy(datalake_root(ctx) / \"test-data\" / \"digits.numpy\")\n",
    "y_test = read_numpy(datalake_root(ctx) / \"test-data\" / \"labels.numpy\")"
   ]
  },
  {
   "cell_type": "code",
   "execution_count": 10,
   "id": "45b816f3",
   "metadata": {
    "execution": {
     "iopub.execute_input": "2023-07-23T06:34:36.874118Z",
     "iopub.status.busy": "2023-07-23T06:34:36.873738Z",
     "iopub.status.idle": "2023-07-23T06:34:36.887823Z",
     "shell.execute_reply": "2023-07-23T06:34:36.887144Z"
    },
    "papermill": {
     "duration": 0.024223,
     "end_time": "2023-07-23T06:34:36.892442",
     "exception": false,
     "start_time": "2023-07-23T06:34:36.868219",
     "status": "completed"
    },
    "tags": []
   },
   "outputs": [],
   "source": [
    "def get_model_outputs(X, onnx_inference_session):\n",
    "    y_pred_labels, y_pred_map = onnx_inference_session.run(\n",
    "        [\"output_label\", \"output_probability\"],\n",
    "        {\"float_input_8x8_image\": X.astype(np.float32)},\n",
    "    )\n",
    "    y_pred_probs = np.array(\n",
    "        [[probabilities[digit] for digit in range(10)] for probabilities in y_pred_map]\n",
    "    )\n",
    "\n",
    "    assert y_pred_labels.shape == (X.shape[0],)\n",
    "    assert y_pred_probs.shape == (X.shape[0], 10)\n",
    "\n",
    "    return y_pred_labels, y_pred_probs\n",
    "\n",
    "\n",
    "# Note: as shown in the training notebook, the predicted labels and probabilities\n",
    "# computed below need not be compatible.\n",
    "y_pred_labels_test, y_pred_probs_test = get_model_outputs(\n",
    "    X_test, onnx_inference_session\n",
    ")"
   ]
  },
  {
   "cell_type": "markdown",
   "id": "15d4fd79",
   "metadata": {
    "papermill": {
     "duration": 0.004358,
     "end_time": "2023-07-23T06:34:36.901458",
     "exception": false,
     "start_time": "2023-07-23T06:34:36.897100",
     "status": "completed"
    },
    "tags": []
   },
   "source": [
    "### Confusion matrix"
   ]
  },
  {
   "cell_type": "code",
   "execution_count": 11,
   "id": "740123ef",
   "metadata": {
    "execution": {
     "iopub.execute_input": "2023-07-23T06:34:36.911741Z",
     "iopub.status.busy": "2023-07-23T06:34:36.911468Z",
     "iopub.status.idle": "2023-07-23T06:34:36.915610Z",
     "shell.execute_reply": "2023-07-23T06:34:36.915040Z"
    },
    "papermill": {
     "duration": 0.011569,
     "end_time": "2023-07-23T06:34:36.917397",
     "exception": false,
     "start_time": "2023-07-23T06:34:36.905828",
     "status": "completed"
    },
    "tags": []
   },
   "outputs": [],
   "source": [
    "# TODO"
   ]
  },
  {
   "cell_type": "markdown",
   "id": "70ddb714",
   "metadata": {
    "papermill": {
     "duration": 0.004354,
     "end_time": "2023-07-23T06:34:36.926247",
     "exception": false,
     "start_time": "2023-07-23T06:34:36.921893",
     "status": "completed"
    },
    "tags": []
   },
   "source": [
    "### Plot predicted probabilities for each classifier over all evaluation digit images"
   ]
  },
  {
   "cell_type": "code",
   "execution_count": 12,
   "id": "91cdb03d",
   "metadata": {
    "execution": {
     "iopub.execute_input": "2023-07-23T06:34:36.943192Z",
     "iopub.status.busy": "2023-07-23T06:34:36.942916Z",
     "iopub.status.idle": "2023-07-23T06:34:40.806283Z",
     "shell.execute_reply": "2023-07-23T06:34:40.805134Z"
    },
    "papermill": {
     "duration": 3.871295,
     "end_time": "2023-07-23T06:34:40.808354",
     "exception": false,
     "start_time": "2023-07-23T06:34:36.937059",
     "status": "completed"
    },
    "tags": []
   },
   "outputs": [
    {
     "data": {
      "image/png": "[encoded data removed]",
      "text/plain": [
       "<Figure size 1600x600 with 10 Axes>"
      ]
     },
     "metadata": {},
     "output_type": "display_data"
    }
   ],
   "source": [
    "def plot_per_digit_probabilities(y_pred_probs):\n",
    "    fig, axs = plt.subplots(nrows=2, ncols=5, figsize=(16, 6))\n",
    "\n",
    "    for (r, c), digit, ax in zip(\n",
    "        it.product(range(2), range(5)), range(10), axs.reshape(-1)\n",
    "    ):\n",
    "        ax.hist(y_pred_probs_test[:, digit], bins=20)\n",
    "\n",
    "        ax.set_title(f\"Digit {digit}\")\n",
    "        if r == 1 and c == 2:\n",
    "            ax.set_xlabel(\"probability\", fontsize=16)\n",
    "\n",
    "        if c == 0:\n",
    "            ax.set_ylabel(\"counts\", fontsize=16)\n",
    "        ax.set_yscale(\"log\")\n",
    "\n",
    "    fig.tight_layout()\n",
    "    fig.suptitle(\n",
    "        f\"Distributions of prediction probabilities for each digit \"\n",
    "        f\"(on evaluation data, n={y_pred_probs.shape[0]})\",\n",
    "        fontsize=20,\n",
    "    )\n",
    "    fig.tight_layout()\n",
    "    fig.show()\n",
    "\n",
    "    return fig\n",
    "\n",
    "\n",
    "fig = plot_per_digit_probabilities(y_pred_probs_test)"
   ]
  },
  {
   "cell_type": "markdown",
   "id": "ab3beb36",
   "metadata": {
    "papermill": {
     "duration": 0.005504,
     "end_time": "2023-07-23T06:34:40.819497",
     "exception": false,
     "start_time": "2023-07-23T06:34:40.813993",
     "status": "completed"
    },
    "tags": []
   },
   "source": [
    "From the above distributions we see that most digits have clear separation between\n",
    "high and lower probabilities. Morover, in each case there is roughly an order of\n",
    "magnitude more of digits with low probabilities. This is compatible with digits\n",
    "being roughly evenly distributed in the data."
   ]
  },
  {
   "cell_type": "code",
   "execution_count": 13,
   "id": "4701d9b1",
   "metadata": {
    "execution": {
     "iopub.execute_input": "2023-07-23T06:34:40.831530Z",
     "iopub.status.busy": "2023-07-23T06:34:40.831252Z",
     "iopub.status.idle": "2023-07-23T06:34:41.453257Z",
     "shell.execute_reply": "2023-07-23T06:34:41.452608Z"
    },
    "papermill": {
     "duration": 0.630844,
     "end_time": "2023-07-23T06:34:41.455584",
     "exception": false,
     "start_time": "2023-07-23T06:34:40.824740",
     "status": "completed"
    },
    "tags": []
   },
   "outputs": [],
   "source": [
    "ctx.log_figure(\"per-digit-probabilities.png\", fig)"
   ]
  },
  {
   "cell_type": "markdown",
   "id": "0d41753a",
   "metadata": {
    "papermill": {
     "duration": 0.011843,
     "end_time": "2023-07-23T06:34:41.473574",
     "exception": false,
     "start_time": "2023-07-23T06:34:41.461731",
     "status": "completed"
    },
    "tags": []
   },
   "source": [
    "### Plot ROC curves for individual one-vs-rest classifiers"
   ]
  },
  {
   "cell_type": "code",
   "execution_count": 14,
   "id": "93cf09eb",
   "metadata": {
    "execution": {
     "iopub.execute_input": "2023-07-23T06:34:41.486495Z",
     "iopub.status.busy": "2023-07-23T06:34:41.486216Z",
     "iopub.status.idle": "2023-07-23T06:34:41.803870Z",
     "shell.execute_reply": "2023-07-23T06:34:41.803153Z"
    },
    "papermill": {
     "duration": 0.326813,
     "end_time": "2023-07-23T06:34:41.805794",
     "exception": false,
     "start_time": "2023-07-23T06:34:41.478981",
     "status": "completed"
    },
    "tags": []
   },
   "outputs": [],
   "source": [
    "from sklearn import metrics"
   ]
  },
  {
   "cell_type": "code",
   "execution_count": 15,
   "id": "91d7b0fe",
   "metadata": {
    "execution": {
     "iopub.execute_input": "2023-07-23T06:34:41.818546Z",
     "iopub.status.busy": "2023-07-23T06:34:41.818277Z",
     "iopub.status.idle": "2023-07-23T06:34:43.618090Z",
     "shell.execute_reply": "2023-07-23T06:34:43.613202Z"
    },
    "papermill": {
     "duration": 1.813123,
     "end_time": "2023-07-23T06:34:43.624693",
     "exception": false,
     "start_time": "2023-07-23T06:34:41.811570",
     "status": "completed"
    },
    "tags": []
   },
   "outputs": [
    {
     "data": {
      "image/png": "[encoded data removed]",
      "text/plain": [
       "<Figure size 1600x800 with 10 Axes>"
      ]
     },
     "metadata": {},
     "output_type": "display_data"
    }
   ],
   "source": [
    "def plot_roc_curves(y, y_pred_probs):\n",
    "    # based on example code\n",
    "    # https://scikit-learn.org/stable/auto_examples/model_selection/plot_roc.html\n",
    "\n",
    "    fig, axs = plt.subplots(nrows=2, ncols=5, figsize=(16, 8))\n",
    "\n",
    "    roc_auc_dict = {}\n",
    "\n",
    "    for (r, c), digit, ax in zip(\n",
    "        it.product(range(2), range(5)), range(10), axs.reshape(-1)\n",
    "    ):\n",
    "        fpr, tpr, _ = metrics.roc_curve(y == digit, y_pred_probs[:, digit])\n",
    "        auc = metrics.auc(fpr, tpr)\n",
    "        roc_auc_dict[str(digit)] = auc\n",
    "\n",
    "        ax.plot(fpr, tpr, label=f\"ROC AUC={round(auc, 3)}\")\n",
    "\n",
    "        ax.set_title(f\"\\nDigit {digit}\", fontsize=16)\n",
    "        if r == 1:\n",
    "            ax.set_xlabel(\"FPR\", fontsize=18)\n",
    "\n",
    "        if c == 0:\n",
    "            ax.set_ylabel(\"TPR\", fontsize=18)\n",
    "\n",
    "        ax.set_xlim([-0.05, 1.05])\n",
    "        ax.set_ylim([-0.05, 1.05])\n",
    "        ax.legend(loc=\"lower right\", frameon=False, fontsize=14)\n",
    "\n",
    "    fig.tight_layout()\n",
    "    fig.suptitle(\n",
    "        f\"ROC plots for one-vs-rest performances \"\n",
    "        f\"(on evaluation data, n={y_pred_probs_test.shape[1]}\",\n",
    "        fontsize=22,\n",
    "    )\n",
    "    fig.tight_layout()\n",
    "    fig.show()\n",
    "\n",
    "    return roc_auc_dict, fig\n",
    "\n",
    "\n",
    "roc_auc_dict, fig = plot_roc_curves(y_test, y_pred_probs_test)"
   ]
  },
  {
   "cell_type": "code",
   "execution_count": 16,
   "id": "cf123a82",
   "metadata": {
    "execution": {
     "iopub.execute_input": "2023-07-23T06:34:43.645107Z",
     "iopub.status.busy": "2023-07-23T06:34:43.644684Z",
     "iopub.status.idle": "2023-07-23T06:34:44.027824Z",
     "shell.execute_reply": "2023-07-23T06:34:44.025134Z"
    },
    "papermill": {
     "duration": 0.396269,
     "end_time": "2023-07-23T06:34:44.029958",
     "exception": false,
     "start_time": "2023-07-23T06:34:43.633689",
     "status": "completed"
    },
    "tags": []
   },
   "outputs": [],
   "source": [
    "ctx.log_figure(\"per-digit-roc-curves.png\", fig)"
   ]
  },
  {
   "cell_type": "code",
   "execution_count": 17,
   "id": "cd46cf6a",
   "metadata": {
    "execution": {
     "iopub.execute_input": "2023-07-23T06:34:44.044115Z",
     "iopub.status.busy": "2023-07-23T06:34:44.043852Z",
     "iopub.status.idle": "2023-07-23T06:34:44.050226Z",
     "shell.execute_reply": "2023-07-23T06:34:44.049621Z"
    },
    "papermill": {
     "duration": 0.015388,
     "end_time": "2023-07-23T06:34:44.051859",
     "exception": false,
     "start_time": "2023-07-23T06:34:44.036471",
     "status": "completed"
    },
    "tags": []
   },
   "outputs": [
    {
     "data": {
      "text/plain": [
       "{'0': 1.0,\n",
       " '1': 0.9992877225866916,\n",
       " '2': 1.0,\n",
       " '3': 0.9998500468603562,\n",
       " '4': 0.9990855052583447,\n",
       " '5': 0.998950328022493,\n",
       " '6': 0.999923792104862,\n",
       " '7': 0.9998475842097241,\n",
       " '8': 0.9949952711223203,\n",
       " '9': 0.9987425697302241}"
      ]
     },
     "execution_count": 17,
     "metadata": {},
     "output_type": "execute_result"
    }
   ],
   "source": [
    "roc_auc_dict"
   ]
  },
  {
   "cell_type": "code",
   "execution_count": 18,
   "id": "12e8875e",
   "metadata": {
    "execution": {
     "iopub.execute_input": "2023-07-23T06:34:44.066300Z",
     "iopub.status.busy": "2023-07-23T06:34:44.066030Z",
     "iopub.status.idle": "2023-07-23T06:34:44.071891Z",
     "shell.execute_reply": "2023-07-23T06:34:44.071230Z"
    },
    "papermill": {
     "duration": 0.014965,
     "end_time": "2023-07-23T06:34:44.073437",
     "exception": false,
     "start_time": "2023-07-23T06:34:44.058472",
     "status": "completed"
    },
    "tags": []
   },
   "outputs": [
    {
     "name": "stdout",
     "output_type": "stream",
     "text": [
      " - Logging roc_auc_per_digit (json) : {'0': 1.0, '1': 0.9992877225866916, '2': 1.0, '3': 0.9998500468603562, '4': 0.9990855052583447, '5': 0.998950328022493, '6': 0.999923792104862, '7': 0.9998475842097241, '8': 0.9949952711223203, '9': 0.9987425697302241}\n"
     ]
    }
   ],
   "source": [
    "ctx.log_value(\"roc_auc_per_digit\", roc_auc_dict)"
   ]
  },
  {
   "cell_type": "markdown",
   "id": "619b3e0e",
   "metadata": {
    "papermill": {
     "duration": 0.006534,
     "end_time": "2023-07-23T06:34:44.086380",
     "exception": false,
     "start_time": "2023-07-23T06:34:44.079846",
     "status": "completed"
    },
    "tags": []
   },
   "source": [
    "### Compute and log mean ROC AUC score averaged over all digits"
   ]
  },
  {
   "cell_type": "code",
   "execution_count": 19,
   "id": "96e8a28c",
   "metadata": {
    "execution": {
     "iopub.execute_input": "2023-07-23T06:34:44.101772Z",
     "iopub.status.busy": "2023-07-23T06:34:44.101064Z",
     "iopub.status.idle": "2023-07-23T06:34:44.114421Z",
     "shell.execute_reply": "2023-07-23T06:34:44.113893Z"
    },
    "papermill": {
     "duration": 0.022669,
     "end_time": "2023-07-23T06:34:44.116004",
     "exception": false,
     "start_time": "2023-07-23T06:34:44.093335",
     "status": "completed"
    },
    "tags": []
   },
   "outputs": [
    {
     "name": "stdout",
     "output_type": "stream",
     "text": [
      " - Logging roc_auc_class_mean (float) : 0.9990682819895016\n"
     ]
    }
   ],
   "source": [
    "roc_auc_macro = np.mean(list(roc_auc_dict.values()))\n",
    "\n",
    "ctx.log_float(\"roc_auc_class_mean\", roc_auc_macro)\n",
    "\n",
    "# assert that the same value can be computed directly using sklearn\n",
    "assert roc_auc_macro == metrics.roc_auc_score(\n",
    "    y_test, y_pred_probs_test, average=\"macro\", multi_class=\"ovr\"\n",
    ")"
   ]
  },
  {
   "cell_type": "code",
   "execution_count": 20,
   "id": "58e651fe",
   "metadata": {
    "execution": {
     "iopub.execute_input": "2023-07-23T06:34:44.137331Z",
     "iopub.status.busy": "2023-07-23T06:34:44.137061Z",
     "iopub.status.idle": "2023-07-23T06:34:44.141347Z",
     "shell.execute_reply": "2023-07-23T06:34:44.140740Z"
    },
    "lines_to_next_cell": 0,
    "papermill": {
     "duration": 0.020344,
     "end_time": "2023-07-23T06:34:44.143564",
     "exception": false,
     "start_time": "2023-07-23T06:34:44.123220",
     "status": "completed"
    },
    "tags": []
   },
   "outputs": [],
   "source": [
    "# ---"
   ]
  },
  {
   "cell_type": "code",
   "execution_count": null,
   "id": "683f6009",
   "metadata": {
    "papermill": {
     "duration": 0.006579,
     "end_time": "2023-07-23T06:34:44.156977",
     "exception": false,
     "start_time": "2023-07-23T06:34:44.150398",
     "status": "completed"
    },
    "tags": []
   },
   "outputs": [],
   "source": []
  }
 ],
 "metadata": {
  "jupytext": {
   "cell_metadata_filter": "tags,-all",
   "main_language": "python",
   "notebook_metadata_filter": "-all"
  },
  "language_info": {
   "codemirror_mode": {
    "name": "ipython",
    "version": 3
   },
   "file_extension": ".py",
   "mimetype": "text/x-python",
   "name": "python",
   "nbconvert_exporter": "python",
   "pygments_lexer": "ipython3",
   "version": "3.8.10"
  },
  "papermill": {
   "default_parameters": {},
   "duration": 11.773837,
   "end_time": "2023-07-23T06:34:46.110848",
   "environment_variables": {},
   "exception": null,
   "input_path": "/tmp/temp-notebook-3et87sgu.ipynb",
   "output_path": "/tmp/temp-notebook-3et87sgu.ipynb",
   "parameters": {
    "P": {
     "_parameters_actor_name": "parameter_for_task_0x6875ff34246d91e6",
     "task.nr_train_images": 600
    }
   },
   "start_time": "2023-07-23T06:34:34.337011",
   "version": "2.4.0"
  }
 },
 "nbformat": 4,
 "nbformat_minor": 5
}