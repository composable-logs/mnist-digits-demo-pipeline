{
 "cells": [
  {
   "cell_type": "markdown",
   "id": "19b25709",
   "metadata": {
    "papermill": {
     "duration": 0.005248,
     "end_time": "2023-07-25T06:36:00.874722",
     "exception": false,
     "start_time": "2023-07-25T06:36:00.869474",
     "status": "completed"
    },
    "tags": []
   },
   "source": [
    "# Benchmark model\n",
    "\n",
    "The purpose of this notebook is to benchmark persisted onnx-model (trained in the\n",
    "previous step) against evaluation set."
   ]
  },
  {
   "cell_type": "markdown",
   "id": "2dd3386a",
   "metadata": {
    "papermill": {
     "duration": 0.004078,
     "end_time": "2023-07-25T06:36:00.885343",
     "exception": false,
     "start_time": "2023-07-25T06:36:00.881265",
     "status": "completed"
    },
    "tags": []
   },
   "source": [
    "### Determine run parameters"
   ]
  },
  {
   "cell_type": "code",
   "execution_count": 1,
   "id": "d2de67dc",
   "metadata": {
    "execution": {
     "iopub.execute_input": "2023-07-25T06:36:00.896550Z",
     "iopub.status.busy": "2023-07-25T06:36:00.896274Z",
     "iopub.status.idle": "2023-07-25T06:36:00.905848Z",
     "shell.execute_reply": "2023-07-25T06:36:00.905192Z"
    },
    "lines_to_next_cell": 0,
    "papermill": {
     "duration": 0.018376,
     "end_time": "2023-07-25T06:36:00.907614",
     "exception": false,
     "start_time": "2023-07-25T06:36:00.889238",
     "status": "completed"
    },
    "tags": []
   },
   "outputs": [],
   "source": [
    "# ----------------- Parameters for interactive development --------------\n",
    "P = {\n",
    "    \"workflow.data_lake_root\": \"/pipeline-outputs/data-lake\",\n",
    "    \"task.nr_train_images\": 600,\n",
    "}"
   ]
  },
  {
   "cell_type": "code",
   "execution_count": 2,
   "id": "62ec2381",
   "metadata": {
    "execution": {
     "iopub.execute_input": "2023-07-25T06:36:00.918891Z",
     "iopub.status.busy": "2023-07-25T06:36:00.917894Z",
     "iopub.status.idle": "2023-07-25T06:36:00.922790Z",
     "shell.execute_reply": "2023-07-25T06:36:00.922238Z"
    },
    "lines_to_next_cell": 0,
    "papermill": {
     "duration": 0.012747,
     "end_time": "2023-07-25T06:36:00.924397",
     "exception": false,
     "start_time": "2023-07-25T06:36:00.911650",
     "status": "completed"
    },
    "tags": [
     "parameters"
    ]
   },
   "outputs": [],
   "source": [
    "# - During automated runs parameters will be injected in the below cell -"
   ]
  },
  {
   "cell_type": "code",
   "execution_count": 3,
   "id": "ad434bdd",
   "metadata": {
    "execution": {
     "iopub.execute_input": "2023-07-25T06:36:00.934285Z",
     "iopub.status.busy": "2023-07-25T06:36:00.934004Z",
     "iopub.status.idle": "2023-07-25T06:36:00.938750Z",
     "shell.execute_reply": "2023-07-25T06:36:00.938191Z"
    },
    "papermill": {
     "duration": 0.012069,
     "end_time": "2023-07-25T06:36:00.940605",
     "exception": false,
     "start_time": "2023-07-25T06:36:00.928536",
     "status": "completed"
    },
    "tags": [
     "injected-parameters"
    ]
   },
   "outputs": [],
   "source": [
    "# Parameters\n",
    "P = {\n",
    "    \"task.nr_train_images\": 600,\n",
    "    \"_parameters_actor_name\": \"parameter_for_task_0xbca07ae4c6903055\",\n",
    "}\n"
   ]
  },
  {
   "cell_type": "code",
   "execution_count": 4,
   "id": "13a46845",
   "metadata": {
    "execution": {
     "iopub.execute_input": "2023-07-25T06:36:00.950723Z",
     "iopub.status.busy": "2023-07-25T06:36:00.950460Z",
     "iopub.status.idle": "2023-07-25T06:36:00.954666Z",
     "shell.execute_reply": "2023-07-25T06:36:00.954095Z"
    },
    "lines_to_next_cell": 0,
    "papermill": {
     "duration": 0.023204,
     "end_time": "2023-07-25T06:36:00.967945",
     "exception": false,
     "start_time": "2023-07-25T06:36:00.944741",
     "status": "completed"
    },
    "tags": []
   },
   "outputs": [],
   "source": [
    "# -----------------------------------------------------------------------"
   ]
  },
  {
   "cell_type": "markdown",
   "id": "c9b71f03",
   "metadata": {
    "papermill": {
     "duration": 0.005548,
     "end_time": "2023-07-25T06:36:00.978631",
     "exception": false,
     "start_time": "2023-07-25T06:36:00.973083",
     "status": "completed"
    },
    "tags": []
   },
   "source": [
    "---"
   ]
  },
  {
   "cell_type": "markdown",
   "id": "d4fc4cea",
   "metadata": {
    "lines_to_next_cell": 2,
    "papermill": {
     "duration": 0.031392,
     "end_time": "2023-07-25T06:36:01.046710",
     "exception": false,
     "start_time": "2023-07-25T06:36:01.015318",
     "status": "completed"
    },
    "tags": []
   },
   "source": [
    "### Notebook code"
   ]
  },
  {
   "cell_type": "code",
   "execution_count": 5,
   "id": "f774da1d",
   "metadata": {
    "execution": {
     "iopub.execute_input": "2023-07-25T06:36:01.056880Z",
     "iopub.status.busy": "2023-07-25T06:36:01.056611Z",
     "iopub.status.idle": "2023-07-25T06:36:01.969919Z",
     "shell.execute_reply": "2023-07-25T06:36:01.968266Z"
    },
    "papermill": {
     "duration": 0.920248,
     "end_time": "2023-07-25T06:36:01.971657",
     "exception": false,
     "start_time": "2023-07-25T06:36:01.051409",
     "status": "completed"
    },
    "tags": []
   },
   "outputs": [
    {
     "name": "stderr",
     "output_type": "stream",
     "text": [
      "2023-07-25 06:36:01,880\tINFO worker.py:1364 -- Connecting to existing Ray cluster at address: 172.17.0.2:63822...\n"
     ]
    },
    {
     "name": "stderr",
     "output_type": "stream",
     "text": [
      "2023-07-25 06:36:01,893\tINFO worker.py:1544 -- Connected to Ray cluster. View the dashboard at \u001b[1m\u001b[32mhttp://127.0.0.1:8265 \u001b[39m\u001b[22m\n"
     ]
    },
    {
     "name": "stderr",
     "output_type": "stream",
     "text": [
      "/home/host_user/.local/lib/python3.8/site-packages/ray/runtime_context.py:27: RayDeprecationWarning: This API is deprecated and may be removed in future Ray releases. You could suppress this warning by setting env variable PYTHONWARNINGS=\"ignore::DeprecationWarning\"\n",
      "Use get_job_id() instead\n",
      "  \"job_id\": self.job_id,\n",
      "/home/host_user/.local/lib/python3.8/site-packages/ray/runtime_context.py:28: RayDeprecationWarning: This API is deprecated and may be removed in future Ray releases. You could suppress this warning by setting env variable PYTHONWARNINGS=\"ignore::DeprecationWarning\"\n",
      "Use get_node_id() instead\n",
      "  \"node_id\": self.node_id,\n"
     ]
    }
   ],
   "source": [
    "import itertools as it\n",
    "\n",
    "#\n",
    "import numpy as np\n",
    "import matplotlib.pyplot as plt\n",
    "\n",
    "#\n",
    "from composable_logs.tasks.task_opentelemetry_logging import get_task_context\n",
    "\n",
    "#\n",
    "from common.io import datalake_root\n",
    "\n",
    "ctx = get_task_context(P)"
   ]
  },
  {
   "cell_type": "markdown",
   "id": "2cac7f69",
   "metadata": {
    "papermill": {
     "duration": 0.004099,
     "end_time": "2023-07-25T06:36:01.980145",
     "exception": false,
     "start_time": "2023-07-25T06:36:01.976046",
     "status": "completed"
    },
    "tags": []
   },
   "source": [
    "## Load persisted onnx-model and evaluation data"
   ]
  },
  {
   "cell_type": "code",
   "execution_count": 6,
   "id": "6687968b",
   "metadata": {
    "execution": {
     "iopub.execute_input": "2023-07-25T06:36:01.989804Z",
     "iopub.status.busy": "2023-07-25T06:36:01.989521Z",
     "iopub.status.idle": "2023-07-25T06:36:01.993684Z",
     "shell.execute_reply": "2023-07-25T06:36:01.993103Z"
    },
    "papermill": {
     "duration": 0.011123,
     "end_time": "2023-07-25T06:36:01.995422",
     "exception": false,
     "start_time": "2023-07-25T06:36:01.984299",
     "status": "completed"
    },
    "tags": []
   },
   "outputs": [],
   "source": [
    "from common.io import read_onnx, get_onnx_inputs, get_onnx_outputs, read_numpy"
   ]
  },
  {
   "cell_type": "code",
   "execution_count": 7,
   "id": "29c981cc",
   "metadata": {
    "execution": {
     "iopub.execute_input": "2023-07-25T06:36:02.014070Z",
     "iopub.status.busy": "2023-07-25T06:36:02.013799Z",
     "iopub.status.idle": "2023-07-25T06:36:02.022867Z",
     "shell.execute_reply": "2023-07-25T06:36:02.021813Z"
    },
    "lines_to_next_cell": 0,
    "papermill": {
     "duration": 0.025651,
     "end_time": "2023-07-25T06:36:02.025268",
     "exception": false,
     "start_time": "2023-07-25T06:36:01.999617",
     "status": "completed"
    },
    "tags": []
   },
   "outputs": [],
   "source": [
    "onnx_inference_session = read_onnx(\n",
    "    datalake_root(ctx)\n",
    "    / \"models\"\n",
    "    / f\"nr_train_images={ctx.parameters['task.nr_train_images']}\"\n",
    "    / \"model.onnx\"\n",
    ")"
   ]
  },
  {
   "cell_type": "markdown",
   "id": "e5f5c927",
   "metadata": {
    "papermill": {
     "duration": 0.004898,
     "end_time": "2023-07-25T06:36:02.034789",
     "exception": false,
     "start_time": "2023-07-25T06:36:02.029891",
     "status": "completed"
    },
    "tags": []
   },
   "source": [
    "### Record structure of inputs and outputs for ONNX model\n",
    "\n",
    "(this should likely be done in training notebook)"
   ]
  },
  {
   "cell_type": "code",
   "execution_count": 8,
   "id": "2f6402a8",
   "metadata": {
    "execution": {
     "iopub.execute_input": "2023-07-25T06:36:02.047678Z",
     "iopub.status.busy": "2023-07-25T06:36:02.045870Z",
     "iopub.status.idle": "2023-07-25T06:36:02.056829Z",
     "shell.execute_reply": "2023-07-25T06:36:02.056253Z"
    },
    "papermill": {
     "duration": 0.018936,
     "end_time": "2023-07-25T06:36:02.058666",
     "exception": false,
     "start_time": "2023-07-25T06:36:02.039730",
     "status": "completed"
    },
    "tags": []
   },
   "outputs": [
    {
     "name": "stdout",
     "output_type": "stream",
     "text": [
      "{\n",
      "  \"inputs\": [\n",
      "    {\n",
      "      \"name\": \"float_input_8x8_image\",\n",
      "      \"shape\": [\n",
      "        null,\n",
      "        64\n",
      "      ],\n",
      "      \"type\": \"tensor(float)\"\n",
      "    }\n",
      "  ],\n",
      "  \"outputs\": [\n",
      "    {\n",
      "      \"name\": \"output_label\",\n",
      "      \"shape\": [\n",
      "        null\n",
      "      ],\n",
      "      \"type\": \"tensor(int64)\"\n",
      "    },\n",
      "    {\n",
      "      \"name\": \"output_probability\",\n",
      "      \"shape\": [],\n",
      "      \"type\": \"seq(map(int64,tensor(float)))\"\n",
      "    }\n",
      "  ]\n",
      "}\n"
     ]
    }
   ],
   "source": [
    "import json\n",
    "\n",
    "onnx_io = json.dumps(\n",
    "    {\n",
    "        \"inputs\": get_onnx_inputs(onnx_inference_session),\n",
    "        \"outputs\": get_onnx_outputs(onnx_inference_session),\n",
    "    },\n",
    "    indent=2,\n",
    ")\n",
    "\n",
    "\n",
    "ctx.log_artefact(\"onnx_io_structure.json\", onnx_io)\n",
    "print(onnx_io)"
   ]
  },
  {
   "cell_type": "markdown",
   "id": "5d8ced49",
   "metadata": {
    "papermill": {
     "duration": 0.004216,
     "end_time": "2023-07-25T06:36:02.067166",
     "exception": false,
     "start_time": "2023-07-25T06:36:02.062950",
     "status": "completed"
    },
    "tags": []
   },
   "source": [
    "### Evaluate model performance on evaluation data set"
   ]
  },
  {
   "cell_type": "code",
   "execution_count": 9,
   "id": "bbe0b5af",
   "metadata": {
    "execution": {
     "iopub.execute_input": "2023-07-25T06:36:02.077269Z",
     "iopub.status.busy": "2023-07-25T06:36:02.076950Z",
     "iopub.status.idle": "2023-07-25T06:36:02.082864Z",
     "shell.execute_reply": "2023-07-25T06:36:02.082286Z"
    },
    "papermill": {
     "duration": 0.012991,
     "end_time": "2023-07-25T06:36:02.084605",
     "exception": false,
     "start_time": "2023-07-25T06:36:02.071614",
     "status": "completed"
    },
    "tags": []
   },
   "outputs": [],
   "source": [
    "# load evaluation data\n",
    "X_test = read_numpy(datalake_root(ctx) / \"test-data\" / \"digits.numpy\")\n",
    "y_test = read_numpy(datalake_root(ctx) / \"test-data\" / \"labels.numpy\")"
   ]
  },
  {
   "cell_type": "code",
   "execution_count": 10,
   "id": "95667680",
   "metadata": {
    "execution": {
     "iopub.execute_input": "2023-07-25T06:36:02.094997Z",
     "iopub.status.busy": "2023-07-25T06:36:02.094731Z",
     "iopub.status.idle": "2023-07-25T06:36:02.105406Z",
     "shell.execute_reply": "2023-07-25T06:36:02.104773Z"
    },
    "papermill": {
     "duration": 0.017811,
     "end_time": "2023-07-25T06:36:02.107056",
     "exception": false,
     "start_time": "2023-07-25T06:36:02.089245",
     "status": "completed"
    },
    "tags": []
   },
   "outputs": [],
   "source": [
    "def get_model_outputs(X, onnx_inference_session):\n",
    "    y_pred_labels, y_pred_map = onnx_inference_session.run(\n",
    "        [\"output_label\", \"output_probability\"],\n",
    "        {\"float_input_8x8_image\": X.astype(np.float32)},\n",
    "    )\n",
    "    y_pred_probs = np.array(\n",
    "        [[probabilities[digit] for digit in range(10)] for probabilities in y_pred_map]\n",
    "    )\n",
    "\n",
    "    assert y_pred_labels.shape == (X.shape[0],)\n",
    "    assert y_pred_probs.shape == (X.shape[0], 10)\n",
    "\n",
    "    return y_pred_labels, y_pred_probs\n",
    "\n",
    "\n",
    "# Note: as shown in the training notebook, the predicted labels and probabilities\n",
    "# computed below need not be compatible.\n",
    "y_pred_labels_test, y_pred_probs_test = get_model_outputs(\n",
    "    X_test, onnx_inference_session\n",
    ")"
   ]
  },
  {
   "cell_type": "markdown",
   "id": "3bf236f5",
   "metadata": {
    "papermill": {
     "duration": 0.004533,
     "end_time": "2023-07-25T06:36:02.124032",
     "exception": false,
     "start_time": "2023-07-25T06:36:02.119499",
     "status": "completed"
    },
    "tags": []
   },
   "source": [
    "### Confusion matrix"
   ]
  },
  {
   "cell_type": "code",
   "execution_count": 11,
   "id": "8bd21d9a",
   "metadata": {
    "execution": {
     "iopub.execute_input": "2023-07-25T06:36:02.136245Z",
     "iopub.status.busy": "2023-07-25T06:36:02.135955Z",
     "iopub.status.idle": "2023-07-25T06:36:02.140430Z",
     "shell.execute_reply": "2023-07-25T06:36:02.139818Z"
    },
    "papermill": {
     "duration": 0.012141,
     "end_time": "2023-07-25T06:36:02.142240",
     "exception": false,
     "start_time": "2023-07-25T06:36:02.130099",
     "status": "completed"
    },
    "tags": []
   },
   "outputs": [],
   "source": [
    "# TODO"
   ]
  },
  {
   "cell_type": "markdown",
   "id": "c568e445",
   "metadata": {
    "papermill": {
     "duration": 0.004357,
     "end_time": "2023-07-25T06:36:02.151125",
     "exception": false,
     "start_time": "2023-07-25T06:36:02.146768",
     "status": "completed"
    },
    "tags": []
   },
   "source": [
    "### Plot predicted probabilities for each classifier over all evaluation digit images"
   ]
  },
  {
   "cell_type": "code",
   "execution_count": 12,
   "id": "39b08892",
   "metadata": {
    "execution": {
     "iopub.execute_input": "2023-07-25T06:36:02.162465Z",
     "iopub.status.busy": "2023-07-25T06:36:02.161006Z",
     "iopub.status.idle": "2023-07-25T06:36:05.845619Z",
     "shell.execute_reply": "2023-07-25T06:36:05.844910Z"
    },
    "papermill": {
     "duration": 3.691885,
     "end_time": "2023-07-25T06:36:05.847304",
     "exception": false,
     "start_time": "2023-07-25T06:36:02.155419",
     "status": "completed"
    },
    "tags": []
   },
   "outputs": [
    {
     "data": {
      "image/png": "[encoded data removed]",
      "text/plain": [
       "<Figure size 1600x600 with 10 Axes>"
      ]
     },
     "metadata": {},
     "output_type": "display_data"
    }
   ],
   "source": [
    "def plot_per_digit_probabilities(y_pred_probs):\n",
    "    fig, axs = plt.subplots(nrows=2, ncols=5, figsize=(16, 6))\n",
    "\n",
    "    for (r, c), digit, ax in zip(\n",
    "        it.product(range(2), range(5)), range(10), axs.reshape(-1)\n",
    "    ):\n",
    "        ax.hist(y_pred_probs_test[:, digit], bins=20)\n",
    "\n",
    "        ax.set_title(f\"Digit {digit}\")\n",
    "        if r == 1 and c == 2:\n",
    "            ax.set_xlabel(\"probability\", fontsize=16)\n",
    "\n",
    "        if c == 0:\n",
    "            ax.set_ylabel(\"counts\", fontsize=16)\n",
    "        ax.set_yscale(\"log\")\n",
    "\n",
    "    fig.tight_layout()\n",
    "    fig.suptitle(\n",
    "        f\"Distributions of prediction probabilities for each digit \"\n",
    "        f\"(on evaluation data, n={y_pred_probs.shape[0]})\",\n",
    "        fontsize=20,\n",
    "    )\n",
    "    fig.tight_layout()\n",
    "    fig.show()\n",
    "\n",
    "    return fig\n",
    "\n",
    "\n",
    "fig = plot_per_digit_probabilities(y_pred_probs_test)"
   ]
  },
  {
   "cell_type": "markdown",
   "id": "98317805",
   "metadata": {
    "papermill": {
     "duration": 0.005196,
     "end_time": "2023-07-25T06:36:05.858132",
     "exception": false,
     "start_time": "2023-07-25T06:36:05.852936",
     "status": "completed"
    },
    "tags": []
   },
   "source": [
    "From the above distributions we see that most digits have clear separation between\n",
    "high and lower probabilities. Morover, in each case there is roughly an order of\n",
    "magnitude more of digits with low probabilities. This is compatible with digits\n",
    "being roughly evenly distributed in the data."
   ]
  },
  {
   "cell_type": "code",
   "execution_count": 13,
   "id": "0f6f45f7",
   "metadata": {
    "execution": {
     "iopub.execute_input": "2023-07-25T06:36:05.870119Z",
     "iopub.status.busy": "2023-07-25T06:36:05.869514Z",
     "iopub.status.idle": "2023-07-25T06:36:06.457120Z",
     "shell.execute_reply": "2023-07-25T06:36:06.456474Z"
    },
    "papermill": {
     "duration": 0.595777,
     "end_time": "2023-07-25T06:36:06.459101",
     "exception": false,
     "start_time": "2023-07-25T06:36:05.863324",
     "status": "completed"
    },
    "tags": []
   },
   "outputs": [],
   "source": [
    "ctx.log_figure(\"per-digit-probabilities.png\", fig)"
   ]
  },
  {
   "cell_type": "markdown",
   "id": "0ea557dc",
   "metadata": {
    "papermill": {
     "duration": 0.00542,
     "end_time": "2023-07-25T06:36:06.470396",
     "exception": false,
     "start_time": "2023-07-25T06:36:06.464976",
     "status": "completed"
    },
    "tags": []
   },
   "source": [
    "### Plot ROC curves for individual one-vs-rest classifiers"
   ]
  },
  {
   "cell_type": "code",
   "execution_count": 14,
   "id": "98328d5d",
   "metadata": {
    "execution": {
     "iopub.execute_input": "2023-07-25T06:36:06.482657Z",
     "iopub.status.busy": "2023-07-25T06:36:06.482385Z",
     "iopub.status.idle": "2023-07-25T06:36:06.771567Z",
     "shell.execute_reply": "2023-07-25T06:36:06.770749Z"
    },
    "papermill": {
     "duration": 0.297484,
     "end_time": "2023-07-25T06:36:06.773668",
     "exception": false,
     "start_time": "2023-07-25T06:36:06.476184",
     "status": "completed"
    },
    "tags": []
   },
   "outputs": [],
   "source": [
    "from sklearn import metrics"
   ]
  },
  {
   "cell_type": "code",
   "execution_count": 15,
   "id": "5c44fc25",
   "metadata": {
    "execution": {
     "iopub.execute_input": "2023-07-25T06:36:06.786331Z",
     "iopub.status.busy": "2023-07-25T06:36:06.786050Z",
     "iopub.status.idle": "2023-07-25T06:36:08.626599Z",
     "shell.execute_reply": "2023-07-25T06:36:08.625951Z"
    },
    "papermill": {
     "duration": 1.849221,
     "end_time": "2023-07-25T06:36:08.628499",
     "exception": false,
     "start_time": "2023-07-25T06:36:06.779278",
     "status": "completed"
    },
    "tags": []
   },
   "outputs": [
    {
     "data": {
      "image/png": "[encoded data removed]",
      "text/plain": [
       "<Figure size 1600x800 with 10 Axes>"
      ]
     },
     "metadata": {},
     "output_type": "display_data"
    }
   ],
   "source": [
    "def plot_roc_curves(y, y_pred_probs):\n",
    "    # based on example code\n",
    "    # https://scikit-learn.org/stable/auto_examples/model_selection/plot_roc.html\n",
    "\n",
    "    fig, axs = plt.subplots(nrows=2, ncols=5, figsize=(16, 8))\n",
    "\n",
    "    roc_auc_dict = {}\n",
    "\n",
    "    for (r, c), digit, ax in zip(\n",
    "        it.product(range(2), range(5)), range(10), axs.reshape(-1)\n",
    "    ):\n",
    "        fpr, tpr, _ = metrics.roc_curve(y == digit, y_pred_probs[:, digit])\n",
    "        auc = metrics.auc(fpr, tpr)\n",
    "        roc_auc_dict[str(digit)] = auc\n",
    "\n",
    "        ax.plot(fpr, tpr, label=f\"ROC AUC={round(auc, 3)}\")\n",
    "\n",
    "        ax.set_title(f\"\\nDigit {digit}\", fontsize=16)\n",
    "        if r == 1:\n",
    "            ax.set_xlabel(\"FPR\", fontsize=18)\n",
    "\n",
    "        if c == 0:\n",
    "            ax.set_ylabel(\"TPR\", fontsize=18)\n",
    "\n",
    "        ax.set_xlim([-0.05, 1.05])\n",
    "        ax.set_ylim([-0.05, 1.05])\n",
    "        ax.legend(loc=\"lower right\", frameon=False, fontsize=14)\n",
    "\n",
    "    fig.tight_layout()\n",
    "    fig.suptitle(\n",
    "        f\"ROC plots for one-vs-rest performances \"\n",
    "        f\"(on evaluation data, n={y_pred_probs_test.shape[1]}\",\n",
    "        fontsize=22,\n",
    "    )\n",
    "    fig.tight_layout()\n",
    "    fig.show()\n",
    "\n",
    "    return roc_auc_dict, fig\n",
    "\n",
    "\n",
    "roc_auc_dict, fig = plot_roc_curves(y_test, y_pred_probs_test)"
   ]
  },
  {
   "cell_type": "code",
   "execution_count": 16,
   "id": "8125720d",
   "metadata": {
    "execution": {
     "iopub.execute_input": "2023-07-25T06:36:08.643242Z",
     "iopub.status.busy": "2023-07-25T06:36:08.642875Z",
     "iopub.status.idle": "2023-07-25T06:36:09.013221Z",
     "shell.execute_reply": "2023-07-25T06:36:09.009199Z"
    },
    "papermill": {
     "duration": 0.380029,
     "end_time": "2023-07-25T06:36:09.015135",
     "exception": false,
     "start_time": "2023-07-25T06:36:08.635106",
     "status": "completed"
    },
    "tags": []
   },
   "outputs": [],
   "source": [
    "ctx.log_figure(\"per-digit-roc-curves.png\", fig)"
   ]
  },
  {
   "cell_type": "code",
   "execution_count": 17,
   "id": "a8ee02c8",
   "metadata": {
    "execution": {
     "iopub.execute_input": "2023-07-25T06:36:09.029287Z",
     "iopub.status.busy": "2023-07-25T06:36:09.028987Z",
     "iopub.status.idle": "2023-07-25T06:36:09.035498Z",
     "shell.execute_reply": "2023-07-25T06:36:09.034922Z"
    },
    "papermill": {
     "duration": 0.015724,
     "end_time": "2023-07-25T06:36:09.037212",
     "exception": false,
     "start_time": "2023-07-25T06:36:09.021488",
     "status": "completed"
    },
    "tags": []
   },
   "outputs": [
    {
     "data": {
      "text/plain": [
       "{'0': 1.0,\n",
       " '1': 0.9992127460168697,\n",
       " '2': 1.0,\n",
       " '3': 0.9997375820056232,\n",
       " '4': 0.9990855052583447,\n",
       " '5': 0.998912839737582,\n",
       " '6': 0.999923792104862,\n",
       " '7': 0.9998475842097241,\n",
       " '8': 0.9947588272383354,\n",
       " '9': 0.9989330894680689}"
      ]
     },
     "execution_count": 17,
     "metadata": {},
     "output_type": "execute_result"
    }
   ],
   "source": [
    "roc_auc_dict"
   ]
  },
  {
   "cell_type": "code",
   "execution_count": 18,
   "id": "fbc5817c",
   "metadata": {
    "execution": {
     "iopub.execute_input": "2023-07-25T06:36:09.052743Z",
     "iopub.status.busy": "2023-07-25T06:36:09.052458Z",
     "iopub.status.idle": "2023-07-25T06:36:09.058608Z",
     "shell.execute_reply": "2023-07-25T06:36:09.058024Z"
    },
    "papermill": {
     "duration": 0.016252,
     "end_time": "2023-07-25T06:36:09.060367",
     "exception": false,
     "start_time": "2023-07-25T06:36:09.044115",
     "status": "completed"
    },
    "tags": []
   },
   "outputs": [
    {
     "name": "stdout",
     "output_type": "stream",
     "text": [
      " - Logging roc_auc_per_digit (json) : {'0': 1.0, '1': 0.9992127460168697, '2': 1.0, '3': 0.9997375820056232, '4': 0.9990855052583447, '5': 0.998912839737582, '6': 0.999923792104862, '7': 0.9998475842097241, '8': 0.9947588272383354, '9': 0.9989330894680689}\n"
     ]
    }
   ],
   "source": [
    "ctx.log_value(\"roc_auc_per_digit\", roc_auc_dict)"
   ]
  },
  {
   "cell_type": "markdown",
   "id": "345d6636",
   "metadata": {
    "papermill": {
     "duration": 0.007128,
     "end_time": "2023-07-25T06:36:09.074190",
     "exception": false,
     "start_time": "2023-07-25T06:36:09.067062",
     "status": "completed"
    },
    "tags": []
   },
   "source": [
    "### Compute and log mean ROC AUC score averaged over all digits"
   ]
  },
  {
   "cell_type": "code",
   "execution_count": 19,
   "id": "86a33e86",
   "metadata": {
    "execution": {
     "iopub.execute_input": "2023-07-25T06:36:09.091576Z",
     "iopub.status.busy": "2023-07-25T06:36:09.091299Z",
     "iopub.status.idle": "2023-07-25T06:36:09.103203Z",
     "shell.execute_reply": "2023-07-25T06:36:09.102592Z"
    },
    "papermill": {
     "duration": 0.022104,
     "end_time": "2023-07-25T06:36:09.105094",
     "exception": false,
     "start_time": "2023-07-25T06:36:09.082990",
     "status": "completed"
    },
    "tags": []
   },
   "outputs": [
    {
     "name": "stdout",
     "output_type": "stream",
     "text": [
      " - Logging roc_auc_class_mean (float) : 0.999041196603941\n"
     ]
    }
   ],
   "source": [
    "roc_auc_macro = np.mean(list(roc_auc_dict.values()))\n",
    "\n",
    "ctx.log_float(\"roc_auc_class_mean\", roc_auc_macro)\n",
    "\n",
    "# assert that the same value can be computed directly using sklearn\n",
    "assert roc_auc_macro == metrics.roc_auc_score(\n",
    "    y_test, y_pred_probs_test, average=\"macro\", multi_class=\"ovr\"\n",
    ")"
   ]
  },
  {
   "cell_type": "code",
   "execution_count": 20,
   "id": "1a48fd57",
   "metadata": {
    "execution": {
     "iopub.execute_input": "2023-07-25T06:36:09.119951Z",
     "iopub.status.busy": "2023-07-25T06:36:09.119674Z",
     "iopub.status.idle": "2023-07-25T06:36:09.123697Z",
     "shell.execute_reply": "2023-07-25T06:36:09.123160Z"
    },
    "lines_to_next_cell": 0,
    "papermill": {
     "duration": 0.013527,
     "end_time": "2023-07-25T06:36:09.125421",
     "exception": false,
     "start_time": "2023-07-25T06:36:09.111894",
     "status": "completed"
    },
    "tags": []
   },
   "outputs": [],
   "source": [
    "# ---"
   ]
  },
  {
   "cell_type": "code",
   "execution_count": null,
   "id": "400bb9e4",
   "metadata": {
    "papermill": {
     "duration": 0.007713,
     "end_time": "2023-07-25T06:36:09.139769",
     "exception": false,
     "start_time": "2023-07-25T06:36:09.132056",
     "status": "completed"
    },
    "tags": []
   },
   "outputs": [],
   "source": []
  }
 ],
 "metadata": {
  "jupytext": {
   "cell_metadata_filter": "tags,-all",
   "main_language": "python",
   "notebook_metadata_filter": "-all"
  },
  "language_info": {
   "codemirror_mode": {
    "name": "ipython",
    "version": 3
   },
   "file_extension": ".py",
   "mimetype": "text/x-python",
   "name": "python",
   "nbconvert_exporter": "python",
   "pygments_lexer": "ipython3",
   "version": "3.8.10"
  },
  "papermill": {
   "default_parameters": {},
   "duration": 11.642561,
   "end_time": "2023-07-25T06:36:11.198031",
   "environment_variables": {},
   "exception": null,
   "input_path": "/tmp/temp-notebook-k68ijfbc.ipynb",
   "output_path": "/tmp/temp-notebook-k68ijfbc.ipynb",
   "parameters": {
    "P": {
     "_parameters_actor_name": "parameter_for_task_0xbca07ae4c6903055",
     "task.nr_train_images": 600
    }
   },
   "start_time": "2023-07-25T06:35:59.555470",
   "version": "2.4.0"
  }
 },
 "nbformat": 4,
 "nbformat_minor": 5
}