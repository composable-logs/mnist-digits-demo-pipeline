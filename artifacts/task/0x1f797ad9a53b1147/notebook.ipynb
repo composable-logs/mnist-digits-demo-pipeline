{
 "cells": [
  {
   "cell_type": "markdown",
   "id": "34f6a04b",
   "metadata": {
    "papermill": {
     "duration": 0.005187,
     "end_time": "2023-07-23T06:34:39.523376",
     "exception": false,
     "start_time": "2023-07-23T06:34:39.518189",
     "status": "completed"
    },
    "tags": []
   },
   "source": [
    "# Benchmark model\n",
    "\n",
    "The purpose of this notebook is to benchmark persisted onnx-model (trained in the\n",
    "previous step) against evaluation set."
   ]
  },
  {
   "cell_type": "markdown",
   "id": "928089ab",
   "metadata": {
    "papermill": {
     "duration": 0.003716,
     "end_time": "2023-07-23T06:34:39.533110",
     "exception": false,
     "start_time": "2023-07-23T06:34:39.529394",
     "status": "completed"
    },
    "tags": []
   },
   "source": [
    "### Determine run parameters"
   ]
  },
  {
   "cell_type": "code",
   "execution_count": 1,
   "id": "e5114459",
   "metadata": {
    "execution": {
     "iopub.execute_input": "2023-07-23T06:34:39.542404Z",
     "iopub.status.busy": "2023-07-23T06:34:39.542131Z",
     "iopub.status.idle": "2023-07-23T06:34:39.550594Z",
     "shell.execute_reply": "2023-07-23T06:34:39.549978Z"
    },
    "lines_to_next_cell": 0,
    "papermill": {
     "duration": 0.015545,
     "end_time": "2023-07-23T06:34:39.552562",
     "exception": false,
     "start_time": "2023-07-23T06:34:39.537017",
     "status": "completed"
    },
    "tags": []
   },
   "outputs": [],
   "source": [
    "# ----------------- Parameters for interactive development --------------\n",
    "P = {\n",
    "    \"workflow.data_lake_root\": \"/pipeline-outputs/data-lake\",\n",
    "    \"task.nr_train_images\": 600,\n",
    "}"
   ]
  },
  {
   "cell_type": "code",
   "execution_count": 2,
   "id": "2254a275",
   "metadata": {
    "execution": {
     "iopub.execute_input": "2023-07-23T06:34:39.561822Z",
     "iopub.status.busy": "2023-07-23T06:34:39.561580Z",
     "iopub.status.idle": "2023-07-23T06:34:39.565374Z",
     "shell.execute_reply": "2023-07-23T06:34:39.564754Z"
    },
    "lines_to_next_cell": 0,
    "papermill": {
     "duration": 0.010456,
     "end_time": "2023-07-23T06:34:39.566926",
     "exception": false,
     "start_time": "2023-07-23T06:34:39.556470",
     "status": "completed"
    },
    "tags": [
     "parameters"
    ]
   },
   "outputs": [],
   "source": [
    "# - During automated runs parameters will be injected in the below cell -"
   ]
  },
  {
   "cell_type": "code",
   "execution_count": 3,
   "id": "5afa4070",
   "metadata": {
    "execution": {
     "iopub.execute_input": "2023-07-23T06:34:39.575738Z",
     "iopub.status.busy": "2023-07-23T06:34:39.575507Z",
     "iopub.status.idle": "2023-07-23T06:34:39.579949Z",
     "shell.execute_reply": "2023-07-23T06:34:39.579418Z"
    },
    "papermill": {
     "duration": 0.011104,
     "end_time": "2023-07-23T06:34:39.581901",
     "exception": false,
     "start_time": "2023-07-23T06:34:39.570797",
     "status": "completed"
    },
    "tags": [
     "injected-parameters"
    ]
   },
   "outputs": [],
   "source": [
    "# Parameters\n",
    "P = {\n",
    "    \"task.nr_train_images\": 1000,\n",
    "    \"_parameters_actor_name\": \"parameter_for_task_0x1f797ad9a53b1147\",\n",
    "}\n"
   ]
  },
  {
   "cell_type": "code",
   "execution_count": 4,
   "id": "ccff7020",
   "metadata": {
    "execution": {
     "iopub.execute_input": "2023-07-23T06:34:39.591888Z",
     "iopub.status.busy": "2023-07-23T06:34:39.591591Z",
     "iopub.status.idle": "2023-07-23T06:34:39.595641Z",
     "shell.execute_reply": "2023-07-23T06:34:39.595120Z"
    },
    "lines_to_next_cell": 0,
    "papermill": {
     "duration": 0.01071,
     "end_time": "2023-07-23T06:34:39.597444",
     "exception": false,
     "start_time": "2023-07-23T06:34:39.586734",
     "status": "completed"
    },
    "tags": []
   },
   "outputs": [],
   "source": [
    "# -----------------------------------------------------------------------"
   ]
  },
  {
   "cell_type": "markdown",
   "id": "e4fc68ae",
   "metadata": {
    "papermill": {
     "duration": 0.004012,
     "end_time": "2023-07-23T06:34:39.605385",
     "exception": false,
     "start_time": "2023-07-23T06:34:39.601373",
     "status": "completed"
    },
    "tags": []
   },
   "source": [
    "---"
   ]
  },
  {
   "cell_type": "markdown",
   "id": "106320fc",
   "metadata": {
    "lines_to_next_cell": 2,
    "papermill": {
     "duration": 0.0047,
     "end_time": "2023-07-23T06:34:39.619601",
     "exception": false,
     "start_time": "2023-07-23T06:34:39.614901",
     "status": "completed"
    },
    "tags": []
   },
   "source": [
    "### Notebook code"
   ]
  },
  {
   "cell_type": "code",
   "execution_count": 5,
   "id": "e24bc6c3",
   "metadata": {
    "execution": {
     "iopub.execute_input": "2023-07-23T06:34:39.628877Z",
     "iopub.status.busy": "2023-07-23T06:34:39.628615Z",
     "iopub.status.idle": "2023-07-23T06:34:40.514363Z",
     "shell.execute_reply": "2023-07-23T06:34:40.513705Z"
    },
    "papermill": {
     "duration": 0.892766,
     "end_time": "2023-07-23T06:34:40.516307",
     "exception": false,
     "start_time": "2023-07-23T06:34:39.623541",
     "status": "completed"
    },
    "tags": []
   },
   "outputs": [
    {
     "name": "stderr",
     "output_type": "stream",
     "text": [
      "2023-07-23 06:34:40,436\tINFO worker.py:1364 -- Connecting to existing Ray cluster at address: 172.17.0.2:39285...\n"
     ]
    },
    {
     "name": "stderr",
     "output_type": "stream",
     "text": [
      "2023-07-23 06:34:40,445\tINFO worker.py:1544 -- Connected to Ray cluster. View the dashboard at \u001b[1m\u001b[32mhttp://127.0.0.1:8265 \u001b[39m\u001b[22m\n"
     ]
    },
    {
     "name": "stderr",
     "output_type": "stream",
     "text": [
      "/home/host_user/.local/lib/python3.8/site-packages/ray/runtime_context.py:27: RayDeprecationWarning: This API is deprecated and may be removed in future Ray releases. You could suppress this warning by setting env variable PYTHONWARNINGS=\"ignore::DeprecationWarning\"\n",
      "Use get_job_id() instead\n",
      "  \"job_id\": self.job_id,\n",
      "/home/host_user/.local/lib/python3.8/site-packages/ray/runtime_context.py:28: RayDeprecationWarning: This API is deprecated and may be removed in future Ray releases. You could suppress this warning by setting env variable PYTHONWARNINGS=\"ignore::DeprecationWarning\"\n",
      "Use get_node_id() instead\n",
      "  \"node_id\": self.node_id,\n"
     ]
    }
   ],
   "source": [
    "import itertools as it\n",
    "\n",
    "#\n",
    "import numpy as np\n",
    "import matplotlib.pyplot as plt\n",
    "\n",
    "#\n",
    "from composable_logs.tasks.task_opentelemetry_logging import get_task_context\n",
    "\n",
    "#\n",
    "from common.io import datalake_root\n",
    "\n",
    "ctx = get_task_context(P)"
   ]
  },
  {
   "cell_type": "markdown",
   "id": "a1894e77",
   "metadata": {
    "papermill": {
     "duration": 0.004088,
     "end_time": "2023-07-23T06:34:40.525044",
     "exception": false,
     "start_time": "2023-07-23T06:34:40.520956",
     "status": "completed"
    },
    "tags": []
   },
   "source": [
    "## Load persisted onnx-model and evaluation data"
   ]
  },
  {
   "cell_type": "code",
   "execution_count": 6,
   "id": "c1d1eccc",
   "metadata": {
    "execution": {
     "iopub.execute_input": "2023-07-23T06:34:40.541498Z",
     "iopub.status.busy": "2023-07-23T06:34:40.534618Z",
     "iopub.status.idle": "2023-07-23T06:34:40.550329Z",
     "shell.execute_reply": "2023-07-23T06:34:40.549662Z"
    },
    "papermill": {
     "duration": 0.022764,
     "end_time": "2023-07-23T06:34:40.552082",
     "exception": false,
     "start_time": "2023-07-23T06:34:40.529318",
     "status": "completed"
    },
    "tags": []
   },
   "outputs": [],
   "source": [
    "from common.io import read_onnx, get_onnx_inputs, get_onnx_outputs, read_numpy"
   ]
  },
  {
   "cell_type": "code",
   "execution_count": 7,
   "id": "84bcc0a8",
   "metadata": {
    "execution": {
     "iopub.execute_input": "2023-07-23T06:34:40.561912Z",
     "iopub.status.busy": "2023-07-23T06:34:40.561664Z",
     "iopub.status.idle": "2023-07-23T06:34:40.570552Z",
     "shell.execute_reply": "2023-07-23T06:34:40.569978Z"
    },
    "lines_to_next_cell": 0,
    "papermill": {
     "duration": 0.015635,
     "end_time": "2023-07-23T06:34:40.572136",
     "exception": false,
     "start_time": "2023-07-23T06:34:40.556501",
     "status": "completed"
    },
    "tags": []
   },
   "outputs": [],
   "source": [
    "onnx_inference_session = read_onnx(\n",
    "    datalake_root(ctx)\n",
    "    / \"models\"\n",
    "    / f\"nr_train_images={ctx.parameters['task.nr_train_images']}\"\n",
    "    / \"model.onnx\"\n",
    ")"
   ]
  },
  {
   "cell_type": "markdown",
   "id": "a911d127",
   "metadata": {
    "papermill": {
     "duration": 0.00408,
     "end_time": "2023-07-23T06:34:40.580394",
     "exception": false,
     "start_time": "2023-07-23T06:34:40.576314",
     "status": "completed"
    },
    "tags": []
   },
   "source": [
    "### Record structure of inputs and outputs for ONNX model\n",
    "\n",
    "(this should likely be done in training notebook)"
   ]
  },
  {
   "cell_type": "code",
   "execution_count": 8,
   "id": "3335c235",
   "metadata": {
    "execution": {
     "iopub.execute_input": "2023-07-23T06:34:40.590160Z",
     "iopub.status.busy": "2023-07-23T06:34:40.589875Z",
     "iopub.status.idle": "2023-07-23T06:34:40.596951Z",
     "shell.execute_reply": "2023-07-23T06:34:40.596380Z"
    },
    "papermill": {
     "duration": 0.013864,
     "end_time": "2023-07-23T06:34:40.598530",
     "exception": false,
     "start_time": "2023-07-23T06:34:40.584666",
     "status": "completed"
    },
    "tags": []
   },
   "outputs": [
    {
     "name": "stdout",
     "output_type": "stream",
     "text": [
      "{\n",
      "  \"inputs\": [\n",
      "    {\n",
      "      \"name\": \"float_input_8x8_image\",\n",
      "      \"shape\": [\n",
      "        null,\n",
      "        64\n",
      "      ],\n",
      "      \"type\": \"tensor(float)\"\n",
      "    }\n",
      "  ],\n",
      "  \"outputs\": [\n",
      "    {\n",
      "      \"name\": \"output_label\",\n",
      "      \"shape\": [\n",
      "        null\n",
      "      ],\n",
      "      \"type\": \"tensor(int64)\"\n",
      "    },\n",
      "    {\n",
      "      \"name\": \"output_probability\",\n",
      "      \"shape\": [],\n",
      "      \"type\": \"seq(map(int64,tensor(float)))\"\n",
      "    }\n",
      "  ]\n",
      "}\n"
     ]
    }
   ],
   "source": [
    "import json\n",
    "\n",
    "onnx_io = json.dumps(\n",
    "    {\n",
    "        \"inputs\": get_onnx_inputs(onnx_inference_session),\n",
    "        \"outputs\": get_onnx_outputs(onnx_inference_session),\n",
    "    },\n",
    "    indent=2,\n",
    ")\n",
    "\n",
    "\n",
    "ctx.log_artefact(\"onnx_io_structure.json\", onnx_io)\n",
    "print(onnx_io)"
   ]
  },
  {
   "cell_type": "markdown",
   "id": "92bffb46",
   "metadata": {
    "papermill": {
     "duration": 0.004346,
     "end_time": "2023-07-23T06:34:40.607106",
     "exception": false,
     "start_time": "2023-07-23T06:34:40.602760",
     "status": "completed"
    },
    "tags": []
   },
   "source": [
    "### Evaluate model performance on evaluation data set"
   ]
  },
  {
   "cell_type": "code",
   "execution_count": 9,
   "id": "9ffb46c1",
   "metadata": {
    "execution": {
     "iopub.execute_input": "2023-07-23T06:34:40.618949Z",
     "iopub.status.busy": "2023-07-23T06:34:40.618680Z",
     "iopub.status.idle": "2023-07-23T06:34:40.624508Z",
     "shell.execute_reply": "2023-07-23T06:34:40.623949Z"
    },
    "papermill": {
     "duration": 0.012921,
     "end_time": "2023-07-23T06:34:40.626175",
     "exception": false,
     "start_time": "2023-07-23T06:34:40.613254",
     "status": "completed"
    },
    "tags": []
   },
   "outputs": [],
   "source": [
    "# load evaluation data\n",
    "X_test = read_numpy(datalake_root(ctx) / \"test-data\" / \"digits.numpy\")\n",
    "y_test = read_numpy(datalake_root(ctx) / \"test-data\" / \"labels.numpy\")"
   ]
  },
  {
   "cell_type": "code",
   "execution_count": 10,
   "id": "82131b19",
   "metadata": {
    "execution": {
     "iopub.execute_input": "2023-07-23T06:34:40.636166Z",
     "iopub.status.busy": "2023-07-23T06:34:40.635912Z",
     "iopub.status.idle": "2023-07-23T06:34:40.650486Z",
     "shell.execute_reply": "2023-07-23T06:34:40.649893Z"
    },
    "papermill": {
     "duration": 0.021793,
     "end_time": "2023-07-23T06:34:40.652364",
     "exception": false,
     "start_time": "2023-07-23T06:34:40.630571",
     "status": "completed"
    },
    "tags": []
   },
   "outputs": [],
   "source": [
    "def get_model_outputs(X, onnx_inference_session):\n",
    "    y_pred_labels, y_pred_map = onnx_inference_session.run(\n",
    "        [\"output_label\", \"output_probability\"],\n",
    "        {\"float_input_8x8_image\": X.astype(np.float32)},\n",
    "    )\n",
    "    y_pred_probs = np.array(\n",
    "        [[probabilities[digit] for digit in range(10)] for probabilities in y_pred_map]\n",
    "    )\n",
    "\n",
    "    assert y_pred_labels.shape == (X.shape[0],)\n",
    "    assert y_pred_probs.shape == (X.shape[0], 10)\n",
    "\n",
    "    return y_pred_labels, y_pred_probs\n",
    "\n",
    "\n",
    "# Note: as shown in the training notebook, the predicted labels and probabilities\n",
    "# computed below need not be compatible.\n",
    "y_pred_labels_test, y_pred_probs_test = get_model_outputs(\n",
    "    X_test, onnx_inference_session\n",
    ")"
   ]
  },
  {
   "cell_type": "markdown",
   "id": "1a46c10d",
   "metadata": {
    "papermill": {
     "duration": 0.004227,
     "end_time": "2023-07-23T06:34:40.660980",
     "exception": false,
     "start_time": "2023-07-23T06:34:40.656753",
     "status": "completed"
    },
    "tags": []
   },
   "source": [
    "### Confusion matrix"
   ]
  },
  {
   "cell_type": "code",
   "execution_count": 11,
   "id": "9aa24061",
   "metadata": {
    "execution": {
     "iopub.execute_input": "2023-07-23T06:34:40.670866Z",
     "iopub.status.busy": "2023-07-23T06:34:40.670596Z",
     "iopub.status.idle": "2023-07-23T06:34:40.674660Z",
     "shell.execute_reply": "2023-07-23T06:34:40.674120Z"
    },
    "papermill": {
     "duration": 0.011151,
     "end_time": "2023-07-23T06:34:40.676391",
     "exception": false,
     "start_time": "2023-07-23T06:34:40.665240",
     "status": "completed"
    },
    "tags": []
   },
   "outputs": [],
   "source": [
    "# TODO"
   ]
  },
  {
   "cell_type": "markdown",
   "id": "5be2c021",
   "metadata": {
    "papermill": {
     "duration": 0.004209,
     "end_time": "2023-07-23T06:34:40.685007",
     "exception": false,
     "start_time": "2023-07-23T06:34:40.680798",
     "status": "completed"
    },
    "tags": []
   },
   "source": [
    "### Plot predicted probabilities for each classifier over all evaluation digit images"
   ]
  },
  {
   "cell_type": "code",
   "execution_count": 12,
   "id": "9eb44b90",
   "metadata": {
    "execution": {
     "iopub.execute_input": "2023-07-23T06:34:40.694893Z",
     "iopub.status.busy": "2023-07-23T06:34:40.694630Z",
     "iopub.status.idle": "2023-07-23T06:34:44.400444Z",
     "shell.execute_reply": "2023-07-23T06:34:44.399718Z"
    },
    "papermill": {
     "duration": 3.712906,
     "end_time": "2023-07-23T06:34:44.402176",
     "exception": false,
     "start_time": "2023-07-23T06:34:40.689270",
     "status": "completed"
    },
    "tags": []
   },
   "outputs": [
    {
     "data": {
      "image/png": "[encoded data removed]",
      "text/plain": [
       "<Figure size 1600x600 with 10 Axes>"
      ]
     },
     "metadata": {},
     "output_type": "display_data"
    }
   ],
   "source": [
    "def plot_per_digit_probabilities(y_pred_probs):\n",
    "    fig, axs = plt.subplots(nrows=2, ncols=5, figsize=(16, 6))\n",
    "\n",
    "    for (r, c), digit, ax in zip(\n",
    "        it.product(range(2), range(5)), range(10), axs.reshape(-1)\n",
    "    ):\n",
    "        ax.hist(y_pred_probs_test[:, digit], bins=20)\n",
    "\n",
    "        ax.set_title(f\"Digit {digit}\")\n",
    "        if r == 1 and c == 2:\n",
    "            ax.set_xlabel(\"probability\", fontsize=16)\n",
    "\n",
    "        if c == 0:\n",
    "            ax.set_ylabel(\"counts\", fontsize=16)\n",
    "        ax.set_yscale(\"log\")\n",
    "\n",
    "    fig.tight_layout()\n",
    "    fig.suptitle(\n",
    "        f\"Distributions of prediction probabilities for each digit \"\n",
    "        f\"(on evaluation data, n={y_pred_probs.shape[0]})\",\n",
    "        fontsize=20,\n",
    "    )\n",
    "    fig.tight_layout()\n",
    "    fig.show()\n",
    "\n",
    "    return fig\n",
    "\n",
    "\n",
    "fig = plot_per_digit_probabilities(y_pred_probs_test)"
   ]
  },
  {
   "cell_type": "markdown",
   "id": "94faa9e5",
   "metadata": {
    "papermill": {
     "duration": 0.005022,
     "end_time": "2023-07-23T06:34:44.412699",
     "exception": false,
     "start_time": "2023-07-23T06:34:44.407677",
     "status": "completed"
    },
    "tags": []
   },
   "source": [
    "From the above distributions we see that most digits have clear separation between\n",
    "high and lower probabilities. Morover, in each case there is roughly an order of\n",
    "magnitude more of digits with low probabilities. This is compatible with digits\n",
    "being roughly evenly distributed in the data."
   ]
  },
  {
   "cell_type": "code",
   "execution_count": 13,
   "id": "9937b031",
   "metadata": {
    "execution": {
     "iopub.execute_input": "2023-07-23T06:34:44.424428Z",
     "iopub.status.busy": "2023-07-23T06:34:44.423728Z",
     "iopub.status.idle": "2023-07-23T06:34:44.983163Z",
     "shell.execute_reply": "2023-07-23T06:34:44.982445Z"
    },
    "papermill": {
     "duration": 0.56742,
     "end_time": "2023-07-23T06:34:44.985131",
     "exception": false,
     "start_time": "2023-07-23T06:34:44.417711",
     "status": "completed"
    },
    "tags": []
   },
   "outputs": [],
   "source": [
    "ctx.log_figure(\"per-digit-probabilities.png\", fig)"
   ]
  },
  {
   "cell_type": "markdown",
   "id": "f5645348",
   "metadata": {
    "papermill": {
     "duration": 0.005369,
     "end_time": "2023-07-23T06:34:44.996708",
     "exception": false,
     "start_time": "2023-07-23T06:34:44.991339",
     "status": "completed"
    },
    "tags": []
   },
   "source": [
    "### Plot ROC curves for individual one-vs-rest classifiers"
   ]
  },
  {
   "cell_type": "code",
   "execution_count": 14,
   "id": "91826b0c",
   "metadata": {
    "execution": {
     "iopub.execute_input": "2023-07-23T06:34:45.008741Z",
     "iopub.status.busy": "2023-07-23T06:34:45.008292Z",
     "iopub.status.idle": "2023-07-23T06:34:45.295992Z",
     "shell.execute_reply": "2023-07-23T06:34:45.295321Z"
    },
    "papermill": {
     "duration": 0.295904,
     "end_time": "2023-07-23T06:34:45.297817",
     "exception": false,
     "start_time": "2023-07-23T06:34:45.001913",
     "status": "completed"
    },
    "tags": []
   },
   "outputs": [],
   "source": [
    "from sklearn import metrics"
   ]
  },
  {
   "cell_type": "code",
   "execution_count": 15,
   "id": "3b962778",
   "metadata": {
    "execution": {
     "iopub.execute_input": "2023-07-23T06:34:45.310302Z",
     "iopub.status.busy": "2023-07-23T06:34:45.309626Z",
     "iopub.status.idle": "2023-07-23T06:34:47.100707Z",
     "shell.execute_reply": "2023-07-23T06:34:47.100083Z"
    },
    "papermill": {
     "duration": 1.800238,
     "end_time": "2023-07-23T06:34:47.103635",
     "exception": false,
     "start_time": "2023-07-23T06:34:45.303397",
     "status": "completed"
    },
    "tags": []
   },
   "outputs": [
    {
     "data": {
      "image/png": "[encoded data removed]",
      "text/plain": [
       "<Figure size 1600x800 with 10 Axes>"
      ]
     },
     "metadata": {},
     "output_type": "display_data"
    }
   ],
   "source": [
    "def plot_roc_curves(y, y_pred_probs):\n",
    "    # based on example code\n",
    "    # https://scikit-learn.org/stable/auto_examples/model_selection/plot_roc.html\n",
    "\n",
    "    fig, axs = plt.subplots(nrows=2, ncols=5, figsize=(16, 8))\n",
    "\n",
    "    roc_auc_dict = {}\n",
    "\n",
    "    for (r, c), digit, ax in zip(\n",
    "        it.product(range(2), range(5)), range(10), axs.reshape(-1)\n",
    "    ):\n",
    "        fpr, tpr, _ = metrics.roc_curve(y == digit, y_pred_probs[:, digit])\n",
    "        auc = metrics.auc(fpr, tpr)\n",
    "        roc_auc_dict[str(digit)] = auc\n",
    "\n",
    "        ax.plot(fpr, tpr, label=f\"ROC AUC={round(auc, 3)}\")\n",
    "\n",
    "        ax.set_title(f\"\\nDigit {digit}\", fontsize=16)\n",
    "        if r == 1:\n",
    "            ax.set_xlabel(\"FPR\", fontsize=18)\n",
    "\n",
    "        if c == 0:\n",
    "            ax.set_ylabel(\"TPR\", fontsize=18)\n",
    "\n",
    "        ax.set_xlim([-0.05, 1.05])\n",
    "        ax.set_ylim([-0.05, 1.05])\n",
    "        ax.legend(loc=\"lower right\", frameon=False, fontsize=14)\n",
    "\n",
    "    fig.tight_layout()\n",
    "    fig.suptitle(\n",
    "        f\"ROC plots for one-vs-rest performances \"\n",
    "        f\"(on evaluation data, n={y_pred_probs_test.shape[1]}\",\n",
    "        fontsize=22,\n",
    "    )\n",
    "    fig.tight_layout()\n",
    "    fig.show()\n",
    "\n",
    "    return roc_auc_dict, fig\n",
    "\n",
    "\n",
    "roc_auc_dict, fig = plot_roc_curves(y_test, y_pred_probs_test)"
   ]
  },
  {
   "cell_type": "code",
   "execution_count": 16,
   "id": "b4e92108",
   "metadata": {
    "execution": {
     "iopub.execute_input": "2023-07-23T06:34:47.118069Z",
     "iopub.status.busy": "2023-07-23T06:34:47.117561Z",
     "iopub.status.idle": "2023-07-23T06:34:47.564225Z",
     "shell.execute_reply": "2023-07-23T06:34:47.563560Z"
    },
    "papermill": {
     "duration": 0.456251,
     "end_time": "2023-07-23T06:34:47.566375",
     "exception": false,
     "start_time": "2023-07-23T06:34:47.110124",
     "status": "completed"
    },
    "tags": []
   },
   "outputs": [],
   "source": [
    "ctx.log_figure(\"per-digit-roc-curves.png\", fig)"
   ]
  },
  {
   "cell_type": "code",
   "execution_count": 17,
   "id": "3a0b6fb6",
   "metadata": {
    "execution": {
     "iopub.execute_input": "2023-07-23T06:34:47.581018Z",
     "iopub.status.busy": "2023-07-23T06:34:47.580742Z",
     "iopub.status.idle": "2023-07-23T06:34:47.587372Z",
     "shell.execute_reply": "2023-07-23T06:34:47.586756Z"
    },
    "papermill": {
     "duration": 0.015767,
     "end_time": "2023-07-23T06:34:47.589137",
     "exception": false,
     "start_time": "2023-07-23T06:34:47.573370",
     "status": "completed"
    },
    "tags": []
   },
   "outputs": [
    {
     "data": {
      "text/plain": [
       "{'0': 1.0,\n",
       " '1': 0.998912839737582,\n",
       " '2': 1.0,\n",
       " '3': 0.9998500468603562,\n",
       " '4': 0.9996570644718793,\n",
       " '5': 0.9994001874414246,\n",
       " '6': 0.999923792104862,\n",
       " '7': 0.9997713763145862,\n",
       " '8': 0.994798234552333,\n",
       " '9': 0.9995046486816034}"
      ]
     },
     "execution_count": 17,
     "metadata": {},
     "output_type": "execute_result"
    }
   ],
   "source": [
    "roc_auc_dict"
   ]
  },
  {
   "cell_type": "code",
   "execution_count": 18,
   "id": "cf7db927",
   "metadata": {
    "execution": {
     "iopub.execute_input": "2023-07-23T06:34:47.605517Z",
     "iopub.status.busy": "2023-07-23T06:34:47.605241Z",
     "iopub.status.idle": "2023-07-23T06:34:47.613155Z",
     "shell.execute_reply": "2023-07-23T06:34:47.612196Z"
    },
    "papermill": {
     "duration": 0.01853,
     "end_time": "2023-07-23T06:34:47.614790",
     "exception": false,
     "start_time": "2023-07-23T06:34:47.596260",
     "status": "completed"
    },
    "tags": []
   },
   "outputs": [
    {
     "name": "stdout",
     "output_type": "stream",
     "text": [
      " - Logging roc_auc_per_digit (json) : {'0': 1.0, '1': 0.998912839737582, '2': 1.0, '3': 0.9998500468603562, '4': 0.9996570644718793, '5': 0.9994001874414246, '6': 0.999923792104862, '7': 0.9997713763145862, '8': 0.994798234552333, '9': 0.9995046486816034}\n"
     ]
    }
   ],
   "source": [
    "ctx.log_value(\"roc_auc_per_digit\", roc_auc_dict)"
   ]
  },
  {
   "cell_type": "markdown",
   "id": "35aca7a3",
   "metadata": {
    "papermill": {
     "duration": 0.00678,
     "end_time": "2023-07-23T06:34:47.628233",
     "exception": false,
     "start_time": "2023-07-23T06:34:47.621453",
     "status": "completed"
    },
    "tags": []
   },
   "source": [
    "### Compute and log mean ROC AUC score averaged over all digits"
   ]
  },
  {
   "cell_type": "code",
   "execution_count": 19,
   "id": "b8aef2de",
   "metadata": {
    "execution": {
     "iopub.execute_input": "2023-07-23T06:34:47.643114Z",
     "iopub.status.busy": "2023-07-23T06:34:47.642838Z",
     "iopub.status.idle": "2023-07-23T06:34:47.662352Z",
     "shell.execute_reply": "2023-07-23T06:34:47.661775Z"
    },
    "papermill": {
     "duration": 0.028885,
     "end_time": "2023-07-23T06:34:47.664184",
     "exception": false,
     "start_time": "2023-07-23T06:34:47.635299",
     "status": "completed"
    },
    "tags": []
   },
   "outputs": [
    {
     "name": "stdout",
     "output_type": "stream",
     "text": [
      " - Logging roc_auc_class_mean (float) : 0.9991818190164625\n"
     ]
    }
   ],
   "source": [
    "roc_auc_macro = np.mean(list(roc_auc_dict.values()))\n",
    "\n",
    "ctx.log_float(\"roc_auc_class_mean\", roc_auc_macro)\n",
    "\n",
    "# assert that the same value can be computed directly using sklearn\n",
    "assert roc_auc_macro == metrics.roc_auc_score(\n",
    "    y_test, y_pred_probs_test, average=\"macro\", multi_class=\"ovr\"\n",
    ")"
   ]
  },
  {
   "cell_type": "code",
   "execution_count": 20,
   "id": "82f38338",
   "metadata": {
    "execution": {
     "iopub.execute_input": "2023-07-23T06:34:47.679240Z",
     "iopub.status.busy": "2023-07-23T06:34:47.678967Z",
     "iopub.status.idle": "2023-07-23T06:34:47.683005Z",
     "shell.execute_reply": "2023-07-23T06:34:47.682416Z"
    },
    "lines_to_next_cell": 0,
    "papermill": {
     "duration": 0.013263,
     "end_time": "2023-07-23T06:34:47.684641",
     "exception": false,
     "start_time": "2023-07-23T06:34:47.671378",
     "status": "completed"
    },
    "tags": []
   },
   "outputs": [],
   "source": [
    "# ---"
   ]
  },
  {
   "cell_type": "code",
   "execution_count": null,
   "id": "7c02ed61",
   "metadata": {
    "papermill": {
     "duration": 0.006491,
     "end_time": "2023-07-23T06:34:47.698394",
     "exception": false,
     "start_time": "2023-07-23T06:34:47.691903",
     "status": "completed"
    },
    "tags": []
   },
   "outputs": [],
   "source": []
  }
 ],
 "metadata": {
  "jupytext": {
   "cell_metadata_filter": "tags,-all",
   "main_language": "python",
   "notebook_metadata_filter": "-all"
  },
  "language_info": {
   "codemirror_mode": {
    "name": "ipython",
    "version": 3
   },
   "file_extension": ".py",
   "mimetype": "text/x-python",
   "name": "python",
   "nbconvert_exporter": "python",
   "pygments_lexer": "ipython3",
   "version": "3.8.10"
  },
  "papermill": {
   "default_parameters": {},
   "duration": 11.679055,
   "end_time": "2023-07-23T06:34:49.844769",
   "environment_variables": {},
   "exception": null,
   "input_path": "/tmp/temp-notebook-1sg1iak9.ipynb",
   "output_path": "/tmp/temp-notebook-1sg1iak9.ipynb",
   "parameters": {
    "P": {
     "_parameters_actor_name": "parameter_for_task_0x1f797ad9a53b1147",
     "task.nr_train_images": 1000
    }
   },
   "start_time": "2023-07-23T06:34:38.165714",
   "version": "2.4.0"
  }
 },
 "nbformat": 4,
 "nbformat_minor": 5
}