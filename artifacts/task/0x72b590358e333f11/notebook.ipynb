{
 "cells": [
  {
   "cell_type": "markdown",
   "id": "9f3f14ca",
   "metadata": {
    "papermill": {
     "duration": 0.006622,
     "end_time": "2023-07-21T06:35:57.303681",
     "exception": false,
     "start_time": "2023-07-21T06:35:57.297059",
     "status": "completed"
    },
    "tags": []
   },
   "source": [
    "# Benchmark model\n",
    "\n",
    "The purpose of this notebook is to benchmark persisted onnx-model (trained in the\n",
    "previous step) against evaluation set."
   ]
  },
  {
   "cell_type": "markdown",
   "id": "a5abf8f2",
   "metadata": {
    "papermill": {
     "duration": 0.003803,
     "end_time": "2023-07-21T06:35:57.313829",
     "exception": false,
     "start_time": "2023-07-21T06:35:57.310026",
     "status": "completed"
    },
    "tags": []
   },
   "source": [
    "### Determine run parameters"
   ]
  },
  {
   "cell_type": "code",
   "execution_count": 1,
   "id": "3c3b62a2",
   "metadata": {
    "execution": {
     "iopub.execute_input": "2023-07-21T06:35:57.323703Z",
     "iopub.status.busy": "2023-07-21T06:35:57.323367Z",
     "iopub.status.idle": "2023-07-21T06:35:57.331856Z",
     "shell.execute_reply": "2023-07-21T06:35:57.331200Z"
    },
    "lines_to_next_cell": 0,
    "papermill": {
     "duration": 0.016173,
     "end_time": "2023-07-21T06:35:57.333857",
     "exception": false,
     "start_time": "2023-07-21T06:35:57.317684",
     "status": "completed"
    },
    "tags": []
   },
   "outputs": [],
   "source": [
    "# ----------------- Parameters for interactive development --------------\n",
    "P = {\n",
    "    \"workflow.data_lake_root\": \"/pipeline-outputs/data-lake\",\n",
    "    \"task.nr_train_images\": 600,\n",
    "}"
   ]
  },
  {
   "cell_type": "code",
   "execution_count": 2,
   "id": "3ff62f46",
   "metadata": {
    "execution": {
     "iopub.execute_input": "2023-07-21T06:35:57.344682Z",
     "iopub.status.busy": "2023-07-21T06:35:57.344429Z",
     "iopub.status.idle": "2023-07-21T06:35:57.348238Z",
     "shell.execute_reply": "2023-07-21T06:35:57.347669Z"
    },
    "lines_to_next_cell": 0,
    "papermill": {
     "duration": 0.010893,
     "end_time": "2023-07-21T06:35:57.350045",
     "exception": false,
     "start_time": "2023-07-21T06:35:57.339152",
     "status": "completed"
    },
    "tags": [
     "parameters"
    ]
   },
   "outputs": [],
   "source": [
    "# - During automated runs parameters will be injected in the below cell -"
   ]
  },
  {
   "cell_type": "code",
   "execution_count": 3,
   "id": "05c63904",
   "metadata": {
    "execution": {
     "iopub.execute_input": "2023-07-21T06:35:57.365863Z",
     "iopub.status.busy": "2023-07-21T06:35:57.365604Z",
     "iopub.status.idle": "2023-07-21T06:35:57.370135Z",
     "shell.execute_reply": "2023-07-21T06:35:57.369525Z"
    },
    "papermill": {
     "duration": 0.012203,
     "end_time": "2023-07-21T06:35:57.371971",
     "exception": false,
     "start_time": "2023-07-21T06:35:57.359768",
     "status": "completed"
    },
    "tags": [
     "injected-parameters"
    ]
   },
   "outputs": [],
   "source": [
    "# Parameters\n",
    "P = {\n",
    "    \"task.nr_train_images\": 1200,\n",
    "    \"_parameters_actor_name\": \"parameter_for_task_0x72b590358e333f11\",\n",
    "}\n"
   ]
  },
  {
   "cell_type": "code",
   "execution_count": 4,
   "id": "36f1e5c1",
   "metadata": {
    "execution": {
     "iopub.execute_input": "2023-07-21T06:35:57.381165Z",
     "iopub.status.busy": "2023-07-21T06:35:57.380948Z",
     "iopub.status.idle": "2023-07-21T06:35:57.384916Z",
     "shell.execute_reply": "2023-07-21T06:35:57.384374Z"
    },
    "lines_to_next_cell": 0,
    "papermill": {
     "duration": 0.010643,
     "end_time": "2023-07-21T06:35:57.386697",
     "exception": false,
     "start_time": "2023-07-21T06:35:57.376054",
     "status": "completed"
    },
    "tags": []
   },
   "outputs": [],
   "source": [
    "# -----------------------------------------------------------------------"
   ]
  },
  {
   "cell_type": "markdown",
   "id": "a737fd91",
   "metadata": {
    "papermill": {
     "duration": 0.003913,
     "end_time": "2023-07-21T06:35:57.394499",
     "exception": false,
     "start_time": "2023-07-21T06:35:57.390586",
     "status": "completed"
    },
    "tags": []
   },
   "source": [
    "---"
   ]
  },
  {
   "cell_type": "markdown",
   "id": "9ea4f41a",
   "metadata": {
    "lines_to_next_cell": 2,
    "papermill": {
     "duration": 0.004115,
     "end_time": "2023-07-21T06:35:57.402629",
     "exception": false,
     "start_time": "2023-07-21T06:35:57.398514",
     "status": "completed"
    },
    "tags": []
   },
   "source": [
    "### Notebook code"
   ]
  },
  {
   "cell_type": "code",
   "execution_count": 5,
   "id": "a6a121e1",
   "metadata": {
    "execution": {
     "iopub.execute_input": "2023-07-21T06:35:57.412958Z",
     "iopub.status.busy": "2023-07-21T06:35:57.412706Z",
     "iopub.status.idle": "2023-07-21T06:35:58.357240Z",
     "shell.execute_reply": "2023-07-21T06:35:58.355778Z"
    },
    "papermill": {
     "duration": 0.951852,
     "end_time": "2023-07-21T06:35:58.359146",
     "exception": false,
     "start_time": "2023-07-21T06:35:57.407294",
     "status": "completed"
    },
    "tags": []
   },
   "outputs": [
    {
     "name": "stderr",
     "output_type": "stream",
     "text": [
      "2023-07-21 06:35:58,282\tINFO worker.py:1364 -- Connecting to existing Ray cluster at address: 172.17.0.2:34450...\n"
     ]
    },
    {
     "name": "stderr",
     "output_type": "stream",
     "text": [
      "2023-07-21 06:35:58,290\tINFO worker.py:1544 -- Connected to Ray cluster. View the dashboard at \u001b[1m\u001b[32mhttp://127.0.0.1:8265 \u001b[39m\u001b[22m\n"
     ]
    },
    {
     "name": "stderr",
     "output_type": "stream",
     "text": [
      "/home/host_user/.local/lib/python3.8/site-packages/ray/runtime_context.py:27: RayDeprecationWarning: This API is deprecated and may be removed in future Ray releases. You could suppress this warning by setting env variable PYTHONWARNINGS=\"ignore::DeprecationWarning\"\n",
      "Use get_job_id() instead\n",
      "  \"job_id\": self.job_id,\n",
      "/home/host_user/.local/lib/python3.8/site-packages/ray/runtime_context.py:28: RayDeprecationWarning: This API is deprecated and may be removed in future Ray releases. You could suppress this warning by setting env variable PYTHONWARNINGS=\"ignore::DeprecationWarning\"\n",
      "Use get_node_id() instead\n",
      "  \"node_id\": self.node_id,\n"
     ]
    }
   ],
   "source": [
    "import itertools as it\n",
    "\n",
    "#\n",
    "import numpy as np\n",
    "import matplotlib.pyplot as plt\n",
    "\n",
    "#\n",
    "from composable_logs.tasks.task_opentelemetry_logging import get_task_context\n",
    "\n",
    "#\n",
    "from common.io import datalake_root\n",
    "\n",
    "ctx = get_task_context(P)"
   ]
  },
  {
   "cell_type": "markdown",
   "id": "5e7d432d",
   "metadata": {
    "papermill": {
     "duration": 0.004277,
     "end_time": "2023-07-21T06:35:58.368145",
     "exception": false,
     "start_time": "2023-07-21T06:35:58.363868",
     "status": "completed"
    },
    "tags": []
   },
   "source": [
    "## Load persisted onnx-model and evaluation data"
   ]
  },
  {
   "cell_type": "code",
   "execution_count": 6,
   "id": "945d45e7",
   "metadata": {
    "execution": {
     "iopub.execute_input": "2023-07-21T06:35:58.386128Z",
     "iopub.status.busy": "2023-07-21T06:35:58.385819Z",
     "iopub.status.idle": "2023-07-21T06:35:58.395151Z",
     "shell.execute_reply": "2023-07-21T06:35:58.394433Z"
    },
    "papermill": {
     "duration": 0.023548,
     "end_time": "2023-07-21T06:35:58.396780",
     "exception": false,
     "start_time": "2023-07-21T06:35:58.373232",
     "status": "completed"
    },
    "tags": []
   },
   "outputs": [],
   "source": [
    "from common.io import read_onnx, get_onnx_inputs, get_onnx_outputs, read_numpy"
   ]
  },
  {
   "cell_type": "code",
   "execution_count": 7,
   "id": "d6aae986",
   "metadata": {
    "execution": {
     "iopub.execute_input": "2023-07-21T06:35:58.406581Z",
     "iopub.status.busy": "2023-07-21T06:35:58.406345Z",
     "iopub.status.idle": "2023-07-21T06:35:58.419425Z",
     "shell.execute_reply": "2023-07-21T06:35:58.417316Z"
    },
    "lines_to_next_cell": 0,
    "papermill": {
     "duration": 0.020388,
     "end_time": "2023-07-21T06:35:58.421488",
     "exception": false,
     "start_time": "2023-07-21T06:35:58.401100",
     "status": "completed"
    },
    "tags": []
   },
   "outputs": [],
   "source": [
    "onnx_inference_session = read_onnx(\n",
    "    datalake_root(ctx)\n",
    "    / \"models\"\n",
    "    / f\"nr_train_images={ctx.parameters['task.nr_train_images']}\"\n",
    "    / \"model.onnx\"\n",
    ")"
   ]
  },
  {
   "cell_type": "markdown",
   "id": "f4286e4b",
   "metadata": {
    "papermill": {
     "duration": 0.004127,
     "end_time": "2023-07-21T06:35:58.429865",
     "exception": false,
     "start_time": "2023-07-21T06:35:58.425738",
     "status": "completed"
    },
    "tags": []
   },
   "source": [
    "### Record structure of inputs and outputs for ONNX model\n",
    "\n",
    "(this should likely be done in training notebook)"
   ]
  },
  {
   "cell_type": "code",
   "execution_count": 8,
   "id": "52da24a9",
   "metadata": {
    "execution": {
     "iopub.execute_input": "2023-07-21T06:35:58.439727Z",
     "iopub.status.busy": "2023-07-21T06:35:58.439475Z",
     "iopub.status.idle": "2023-07-21T06:35:58.449388Z",
     "shell.execute_reply": "2023-07-21T06:35:58.448789Z"
    },
    "papermill": {
     "duration": 0.0169,
     "end_time": "2023-07-21T06:35:58.451049",
     "exception": false,
     "start_time": "2023-07-21T06:35:58.434149",
     "status": "completed"
    },
    "tags": []
   },
   "outputs": [
    {
     "name": "stdout",
     "output_type": "stream",
     "text": [
      "{\n",
      "  \"inputs\": [\n",
      "    {\n",
      "      \"name\": \"float_input_8x8_image\",\n",
      "      \"shape\": [\n",
      "        null,\n",
      "        64\n",
      "      ],\n",
      "      \"type\": \"tensor(float)\"\n",
      "    }\n",
      "  ],\n",
      "  \"outputs\": [\n",
      "    {\n",
      "      \"name\": \"output_label\",\n",
      "      \"shape\": [\n",
      "        null\n",
      "      ],\n",
      "      \"type\": \"tensor(int64)\"\n",
      "    },\n",
      "    {\n",
      "      \"name\": \"output_probability\",\n",
      "      \"shape\": [],\n",
      "      \"type\": \"seq(map(int64,tensor(float)))\"\n",
      "    }\n",
      "  ]\n",
      "}\n"
     ]
    }
   ],
   "source": [
    "import json\n",
    "\n",
    "onnx_io = json.dumps(\n",
    "    {\n",
    "        \"inputs\": get_onnx_inputs(onnx_inference_session),\n",
    "        \"outputs\": get_onnx_outputs(onnx_inference_session),\n",
    "    },\n",
    "    indent=2,\n",
    ")\n",
    "\n",
    "\n",
    "ctx.log_artefact(\"onnx_io_structure.json\", onnx_io)\n",
    "print(onnx_io)"
   ]
  },
  {
   "cell_type": "markdown",
   "id": "56355f57",
   "metadata": {
    "papermill": {
     "duration": 0.004098,
     "end_time": "2023-07-21T06:35:58.459376",
     "exception": false,
     "start_time": "2023-07-21T06:35:58.455278",
     "status": "completed"
    },
    "tags": []
   },
   "source": [
    "### Evaluate model performance on evaluation data set"
   ]
  },
  {
   "cell_type": "code",
   "execution_count": 9,
   "id": "34c42b6f",
   "metadata": {
    "execution": {
     "iopub.execute_input": "2023-07-21T06:35:58.469209Z",
     "iopub.status.busy": "2023-07-21T06:35:58.468970Z",
     "iopub.status.idle": "2023-07-21T06:35:58.474806Z",
     "shell.execute_reply": "2023-07-21T06:35:58.474252Z"
    },
    "papermill": {
     "duration": 0.012676,
     "end_time": "2023-07-21T06:35:58.476584",
     "exception": false,
     "start_time": "2023-07-21T06:35:58.463908",
     "status": "completed"
    },
    "tags": []
   },
   "outputs": [],
   "source": [
    "# load evaluation data\n",
    "X_test = read_numpy(datalake_root(ctx) / \"test-data\" / \"digits.numpy\")\n",
    "y_test = read_numpy(datalake_root(ctx) / \"test-data\" / \"labels.numpy\")"
   ]
  },
  {
   "cell_type": "code",
   "execution_count": 10,
   "id": "a052b2d3",
   "metadata": {
    "execution": {
     "iopub.execute_input": "2023-07-21T06:35:58.486084Z",
     "iopub.status.busy": "2023-07-21T06:35:58.485838Z",
     "iopub.status.idle": "2023-07-21T06:35:58.502894Z",
     "shell.execute_reply": "2023-07-21T06:35:58.502312Z"
    },
    "papermill": {
     "duration": 0.023953,
     "end_time": "2023-07-21T06:35:58.504791",
     "exception": false,
     "start_time": "2023-07-21T06:35:58.480838",
     "status": "completed"
    },
    "tags": []
   },
   "outputs": [],
   "source": [
    "def get_model_outputs(X, onnx_inference_session):\n",
    "    y_pred_labels, y_pred_map = onnx_inference_session.run(\n",
    "        [\"output_label\", \"output_probability\"],\n",
    "        {\"float_input_8x8_image\": X.astype(np.float32)},\n",
    "    )\n",
    "    y_pred_probs = np.array(\n",
    "        [[probabilities[digit] for digit in range(10)] for probabilities in y_pred_map]\n",
    "    )\n",
    "\n",
    "    assert y_pred_labels.shape == (X.shape[0],)\n",
    "    assert y_pred_probs.shape == (X.shape[0], 10)\n",
    "\n",
    "    return y_pred_labels, y_pred_probs\n",
    "\n",
    "\n",
    "# Note: as shown in the training notebook, the predicted labels and probabilities\n",
    "# computed below need not be compatible.\n",
    "y_pred_labels_test, y_pred_probs_test = get_model_outputs(\n",
    "    X_test, onnx_inference_session\n",
    ")"
   ]
  },
  {
   "cell_type": "markdown",
   "id": "db26004c",
   "metadata": {
    "papermill": {
     "duration": 0.004352,
     "end_time": "2023-07-21T06:35:58.513609",
     "exception": false,
     "start_time": "2023-07-21T06:35:58.509257",
     "status": "completed"
    },
    "tags": []
   },
   "source": [
    "### Confusion matrix"
   ]
  },
  {
   "cell_type": "code",
   "execution_count": 11,
   "id": "6fc06a7c",
   "metadata": {
    "execution": {
     "iopub.execute_input": "2023-07-21T06:35:58.525758Z",
     "iopub.status.busy": "2023-07-21T06:35:58.525377Z",
     "iopub.status.idle": "2023-07-21T06:35:58.531523Z",
     "shell.execute_reply": "2023-07-21T06:35:58.530900Z"
    },
    "papermill": {
     "duration": 0.014326,
     "end_time": "2023-07-21T06:35:58.533321",
     "exception": false,
     "start_time": "2023-07-21T06:35:58.518995",
     "status": "completed"
    },
    "tags": []
   },
   "outputs": [],
   "source": [
    "# TODO"
   ]
  },
  {
   "cell_type": "markdown",
   "id": "23d809be",
   "metadata": {
    "papermill": {
     "duration": 0.004452,
     "end_time": "2023-07-21T06:35:58.542741",
     "exception": false,
     "start_time": "2023-07-21T06:35:58.538289",
     "status": "completed"
    },
    "tags": []
   },
   "source": [
    "### Plot predicted probabilities for each classifier over all evaluation digit images"
   ]
  },
  {
   "cell_type": "code",
   "execution_count": 12,
   "id": "b807d2c6",
   "metadata": {
    "execution": {
     "iopub.execute_input": "2023-07-21T06:35:58.552665Z",
     "iopub.status.busy": "2023-07-21T06:35:58.552421Z",
     "iopub.status.idle": "2023-07-21T06:36:02.534745Z",
     "shell.execute_reply": "2023-07-21T06:36:02.534007Z"
    },
    "papermill": {
     "duration": 3.989505,
     "end_time": "2023-07-21T06:36:02.536511",
     "exception": false,
     "start_time": "2023-07-21T06:35:58.547006",
     "status": "completed"
    },
    "tags": []
   },
   "outputs": [
    {
     "data": {
      "image/png": "[encoded data removed]",
      "text/plain": [
       "<Figure size 1600x600 with 10 Axes>"
      ]
     },
     "metadata": {},
     "output_type": "display_data"
    }
   ],
   "source": [
    "def plot_per_digit_probabilities(y_pred_probs):\n",
    "    fig, axs = plt.subplots(nrows=2, ncols=5, figsize=(16, 6))\n",
    "\n",
    "    for (r, c), digit, ax in zip(\n",
    "        it.product(range(2), range(5)), range(10), axs.reshape(-1)\n",
    "    ):\n",
    "        ax.hist(y_pred_probs_test[:, digit], bins=20)\n",
    "\n",
    "        ax.set_title(f\"Digit {digit}\")\n",
    "        if r == 1 and c == 2:\n",
    "            ax.set_xlabel(\"probability\", fontsize=16)\n",
    "\n",
    "        if c == 0:\n",
    "            ax.set_ylabel(\"counts\", fontsize=16)\n",
    "        ax.set_yscale(\"log\")\n",
    "\n",
    "    fig.tight_layout()\n",
    "    fig.suptitle(\n",
    "        f\"Distributions of prediction probabilities for each digit \"\n",
    "        f\"(on evaluation data, n={y_pred_probs.shape[0]})\",\n",
    "        fontsize=20,\n",
    "    )\n",
    "    fig.tight_layout()\n",
    "    fig.show()\n",
    "\n",
    "    return fig\n",
    "\n",
    "\n",
    "fig = plot_per_digit_probabilities(y_pred_probs_test)"
   ]
  },
  {
   "cell_type": "markdown",
   "id": "8e2ac120",
   "metadata": {
    "papermill": {
     "duration": 0.00509,
     "end_time": "2023-07-21T06:36:02.547595",
     "exception": false,
     "start_time": "2023-07-21T06:36:02.542505",
     "status": "completed"
    },
    "tags": []
   },
   "source": [
    "From the above distributions we see that most digits have clear separation between\n",
    "high and lower probabilities. Morover, in each case there is roughly an order of\n",
    "magnitude more of digits with low probabilities. This is compatible with digits\n",
    "being roughly evenly distributed in the data."
   ]
  },
  {
   "cell_type": "code",
   "execution_count": 13,
   "id": "dffafc6a",
   "metadata": {
    "execution": {
     "iopub.execute_input": "2023-07-21T06:36:02.559788Z",
     "iopub.status.busy": "2023-07-21T06:36:02.559485Z",
     "iopub.status.idle": "2023-07-21T06:36:03.220914Z",
     "shell.execute_reply": "2023-07-21T06:36:03.220220Z"
    },
    "papermill": {
     "duration": 0.672433,
     "end_time": "2023-07-21T06:36:03.225367",
     "exception": false,
     "start_time": "2023-07-21T06:36:02.552934",
     "status": "completed"
    },
    "tags": []
   },
   "outputs": [],
   "source": [
    "ctx.log_figure(\"per-digit-probabilities.png\", fig)"
   ]
  },
  {
   "cell_type": "markdown",
   "id": "633fdac0",
   "metadata": {
    "papermill": {
     "duration": 0.005335,
     "end_time": "2023-07-21T06:36:03.236500",
     "exception": false,
     "start_time": "2023-07-21T06:36:03.231165",
     "status": "completed"
    },
    "tags": []
   },
   "source": [
    "### Plot ROC curves for individual one-vs-rest classifiers"
   ]
  },
  {
   "cell_type": "code",
   "execution_count": 14,
   "id": "a8466f97",
   "metadata": {
    "execution": {
     "iopub.execute_input": "2023-07-21T06:36:03.248972Z",
     "iopub.status.busy": "2023-07-21T06:36:03.248675Z",
     "iopub.status.idle": "2023-07-21T06:36:03.592284Z",
     "shell.execute_reply": "2023-07-21T06:36:03.590333Z"
    },
    "papermill": {
     "duration": 0.353914,
     "end_time": "2023-07-21T06:36:03.595820",
     "exception": false,
     "start_time": "2023-07-21T06:36:03.241906",
     "status": "completed"
    },
    "tags": []
   },
   "outputs": [],
   "source": [
    "from sklearn import metrics"
   ]
  },
  {
   "cell_type": "code",
   "execution_count": 15,
   "id": "eea9fe7f",
   "metadata": {
    "execution": {
     "iopub.execute_input": "2023-07-21T06:36:03.614137Z",
     "iopub.status.busy": "2023-07-21T06:36:03.609737Z",
     "iopub.status.idle": "2023-07-21T06:36:05.564551Z",
     "shell.execute_reply": "2023-07-21T06:36:05.562145Z"
    },
    "papermill": {
     "duration": 1.965011,
     "end_time": "2023-07-21T06:36:05.566561",
     "exception": false,
     "start_time": "2023-07-21T06:36:03.601550",
     "status": "completed"
    },
    "tags": []
   },
   "outputs": [
    {
     "data": {
      "image/png": "[encoded data removed]",
      "text/plain": [
       "<Figure size 1600x800 with 10 Axes>"
      ]
     },
     "metadata": {},
     "output_type": "display_data"
    }
   ],
   "source": [
    "def plot_roc_curves(y, y_pred_probs):\n",
    "    # based on example code\n",
    "    # https://scikit-learn.org/stable/auto_examples/model_selection/plot_roc.html\n",
    "\n",
    "    fig, axs = plt.subplots(nrows=2, ncols=5, figsize=(16, 8))\n",
    "\n",
    "    roc_auc_dict = {}\n",
    "\n",
    "    for (r, c), digit, ax in zip(\n",
    "        it.product(range(2), range(5)), range(10), axs.reshape(-1)\n",
    "    ):\n",
    "        fpr, tpr, _ = metrics.roc_curve(y == digit, y_pred_probs[:, digit])\n",
    "        auc = metrics.auc(fpr, tpr)\n",
    "        roc_auc_dict[str(digit)] = auc\n",
    "\n",
    "        ax.plot(fpr, tpr, label=f\"ROC AUC={round(auc, 3)}\")\n",
    "\n",
    "        ax.set_title(f\"\\nDigit {digit}\", fontsize=16)\n",
    "        if r == 1:\n",
    "            ax.set_xlabel(\"FPR\", fontsize=18)\n",
    "\n",
    "        if c == 0:\n",
    "            ax.set_ylabel(\"TPR\", fontsize=18)\n",
    "\n",
    "        ax.set_xlim([-0.05, 1.05])\n",
    "        ax.set_ylim([-0.05, 1.05])\n",
    "        ax.legend(loc=\"lower right\", frameon=False, fontsize=14)\n",
    "\n",
    "    fig.tight_layout()\n",
    "    fig.suptitle(\n",
    "        f\"ROC plots for one-vs-rest performances \"\n",
    "        f\"(on evaluation data, n={y_pred_probs_test.shape[1]}\",\n",
    "        fontsize=22,\n",
    "    )\n",
    "    fig.tight_layout()\n",
    "    fig.show()\n",
    "\n",
    "    return roc_auc_dict, fig\n",
    "\n",
    "\n",
    "roc_auc_dict, fig = plot_roc_curves(y_test, y_pred_probs_test)"
   ]
  },
  {
   "cell_type": "code",
   "execution_count": 16,
   "id": "ff89604e",
   "metadata": {
    "execution": {
     "iopub.execute_input": "2023-07-21T06:36:05.581154Z",
     "iopub.status.busy": "2023-07-21T06:36:05.580881Z",
     "iopub.status.idle": "2023-07-21T06:36:05.948123Z",
     "shell.execute_reply": "2023-07-21T06:36:05.947286Z"
    },
    "papermill": {
     "duration": 0.377468,
     "end_time": "2023-07-21T06:36:05.950617",
     "exception": false,
     "start_time": "2023-07-21T06:36:05.573149",
     "status": "completed"
    },
    "tags": []
   },
   "outputs": [],
   "source": [
    "ctx.log_figure(\"per-digit-roc-curves.png\", fig)"
   ]
  },
  {
   "cell_type": "code",
   "execution_count": 17,
   "id": "5de92ce0",
   "metadata": {
    "execution": {
     "iopub.execute_input": "2023-07-21T06:36:05.966674Z",
     "iopub.status.busy": "2023-07-21T06:36:05.966339Z",
     "iopub.status.idle": "2023-07-21T06:36:05.973475Z",
     "shell.execute_reply": "2023-07-21T06:36:05.972864Z"
    },
    "papermill": {
     "duration": 0.01799,
     "end_time": "2023-07-21T06:36:05.975248",
     "exception": false,
     "start_time": "2023-07-21T06:36:05.957258",
     "status": "completed"
    },
    "tags": []
   },
   "outputs": [
    {
     "data": {
      "text/plain": [
       "{'0': 1.0,\n",
       " '1': 0.9990627928772259,\n",
       " '2': 1.0,\n",
       " '3': 0.9998500468603562,\n",
       " '4': 0.9997332723670173,\n",
       " '5': 0.9997000937207123,\n",
       " '6': 0.999923792104862,\n",
       " '7': 0.9998475842097242,\n",
       " '8': 0.9958228247162673,\n",
       " '9': 0.9997332723670171}"
      ]
     },
     "execution_count": 17,
     "metadata": {},
     "output_type": "execute_result"
    }
   ],
   "source": [
    "roc_auc_dict"
   ]
  },
  {
   "cell_type": "code",
   "execution_count": 18,
   "id": "8d645beb",
   "metadata": {
    "execution": {
     "iopub.execute_input": "2023-07-21T06:36:05.990714Z",
     "iopub.status.busy": "2023-07-21T06:36:05.990401Z",
     "iopub.status.idle": "2023-07-21T06:36:05.997074Z",
     "shell.execute_reply": "2023-07-21T06:36:05.996466Z"
    },
    "papermill": {
     "duration": 0.016652,
     "end_time": "2023-07-21T06:36:05.999022",
     "exception": false,
     "start_time": "2023-07-21T06:36:05.982370",
     "status": "completed"
    },
    "tags": []
   },
   "outputs": [
    {
     "name": "stdout",
     "output_type": "stream",
     "text": [
      " - Logging roc_auc_per_digit (json) : {'0': 1.0, '1': 0.9990627928772259, '2': 1.0, '3': 0.9998500468603562, '4': 0.9997332723670173, '5': 0.9997000937207123, '6': 0.999923792104862, '7': 0.9998475842097242, '8': 0.9958228247162673, '9': 0.9997332723670171}\n"
     ]
    }
   ],
   "source": [
    "ctx.log_value(\"roc_auc_per_digit\", roc_auc_dict)"
   ]
  },
  {
   "cell_type": "markdown",
   "id": "cd56900e",
   "metadata": {
    "papermill": {
     "duration": 0.006779,
     "end_time": "2023-07-21T06:36:06.016072",
     "exception": false,
     "start_time": "2023-07-21T06:36:06.009293",
     "status": "completed"
    },
    "tags": []
   },
   "source": [
    "### Compute and log mean ROC AUC score averaged over all digits"
   ]
  },
  {
   "cell_type": "code",
   "execution_count": 19,
   "id": "61ae872b",
   "metadata": {
    "execution": {
     "iopub.execute_input": "2023-07-21T06:36:06.032376Z",
     "iopub.status.busy": "2023-07-21T06:36:06.032064Z",
     "iopub.status.idle": "2023-07-21T06:36:06.047735Z",
     "shell.execute_reply": "2023-07-21T06:36:06.047057Z"
    },
    "papermill": {
     "duration": 0.02697,
     "end_time": "2023-07-21T06:36:06.050297",
     "exception": false,
     "start_time": "2023-07-21T06:36:06.023327",
     "status": "completed"
    },
    "tags": []
   },
   "outputs": [
    {
     "name": "stdout",
     "output_type": "stream",
     "text": [
      " - Logging roc_auc_class_mean (float) : 0.9993673679223182\n"
     ]
    }
   ],
   "source": [
    "roc_auc_macro = np.mean(list(roc_auc_dict.values()))\n",
    "\n",
    "ctx.log_float(\"roc_auc_class_mean\", roc_auc_macro)\n",
    "\n",
    "# assert that the same value can be computed directly using sklearn\n",
    "assert roc_auc_macro == metrics.roc_auc_score(\n",
    "    y_test, y_pred_probs_test, average=\"macro\", multi_class=\"ovr\"\n",
    ")"
   ]
  },
  {
   "cell_type": "code",
   "execution_count": 20,
   "id": "04020f40",
   "metadata": {
    "execution": {
     "iopub.execute_input": "2023-07-21T06:36:06.065879Z",
     "iopub.status.busy": "2023-07-21T06:36:06.065560Z",
     "iopub.status.idle": "2023-07-21T06:36:06.069392Z",
     "shell.execute_reply": "2023-07-21T06:36:06.068555Z"
    },
    "lines_to_next_cell": 0,
    "papermill": {
     "duration": 0.014684,
     "end_time": "2023-07-21T06:36:06.072068",
     "exception": false,
     "start_time": "2023-07-21T06:36:06.057384",
     "status": "completed"
    },
    "tags": []
   },
   "outputs": [],
   "source": [
    "# ---"
   ]
  },
  {
   "cell_type": "code",
   "execution_count": null,
   "id": "e56fafa4",
   "metadata": {
    "papermill": {
     "duration": 0.007089,
     "end_time": "2023-07-21T06:36:06.086299",
     "exception": false,
     "start_time": "2023-07-21T06:36:06.079210",
     "status": "completed"
    },
    "tags": []
   },
   "outputs": [],
   "source": []
  }
 ],
 "metadata": {
  "jupytext": {
   "cell_metadata_filter": "tags,-all",
   "main_language": "python",
   "notebook_metadata_filter": "-all"
  },
  "language_info": {
   "codemirror_mode": {
    "name": "ipython",
    "version": 3
   },
   "file_extension": ".py",
   "mimetype": "text/x-python",
   "name": "python",
   "nbconvert_exporter": "python",
   "pygments_lexer": "ipython3",
   "version": "3.8.10"
  },
  "papermill": {
   "default_parameters": {},
   "duration": 12.090591,
   "end_time": "2023-07-21T06:36:07.824600",
   "environment_variables": {},
   "exception": null,
   "input_path": "/tmp/temp-notebook-vvgxtird.ipynb",
   "output_path": "/tmp/temp-notebook-vvgxtird.ipynb",
   "parameters": {
    "P": {
     "_parameters_actor_name": "parameter_for_task_0x72b590358e333f11",
     "task.nr_train_images": 1200
    }
   },
   "start_time": "2023-07-21T06:35:55.734009",
   "version": "2.4.0"
  }
 },
 "nbformat": 4,
 "nbformat_minor": 5
}