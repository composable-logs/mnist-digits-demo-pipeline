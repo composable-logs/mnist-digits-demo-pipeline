{
 "cells": [
  {
   "cell_type": "markdown",
   "id": "e01e1f42",
   "metadata": {
    "papermill": {
     "duration": 0.006107,
     "end_time": "2023-07-29T06:32:59.239350",
     "exception": false,
     "start_time": "2023-07-29T06:32:59.233243",
     "status": "completed"
    },
    "tags": []
   },
   "source": [
    "# Benchmark model\n",
    "\n",
    "The purpose of this notebook is to benchmark persisted onnx-model (trained in the\n",
    "previous step) against evaluation set."
   ]
  },
  {
   "cell_type": "markdown",
   "id": "cd3aa9f3",
   "metadata": {
    "papermill": {
     "duration": 0.003857,
     "end_time": "2023-07-29T06:32:59.249313",
     "exception": false,
     "start_time": "2023-07-29T06:32:59.245456",
     "status": "completed"
    },
    "tags": []
   },
   "source": [
    "### Determine run parameters"
   ]
  },
  {
   "cell_type": "code",
   "execution_count": 1,
   "id": "f2ba3476",
   "metadata": {
    "execution": {
     "iopub.execute_input": "2023-07-29T06:32:59.258476Z",
     "iopub.status.busy": "2023-07-29T06:32:59.258198Z",
     "iopub.status.idle": "2023-07-29T06:32:59.272216Z",
     "shell.execute_reply": "2023-07-29T06:32:59.271649Z"
    },
    "lines_to_next_cell": 0,
    "papermill": {
     "duration": 0.020976,
     "end_time": "2023-07-29T06:32:59.274041",
     "exception": false,
     "start_time": "2023-07-29T06:32:59.253065",
     "status": "completed"
    },
    "tags": []
   },
   "outputs": [],
   "source": [
    "# ----------------- Parameters for interactive development --------------\n",
    "P = {\n",
    "    \"workflow.data_lake_root\": \"/pipeline-outputs/data-lake\",\n",
    "    \"task.nr_train_images\": 600,\n",
    "}"
   ]
  },
  {
   "cell_type": "code",
   "execution_count": 2,
   "id": "ac8fbeef",
   "metadata": {
    "execution": {
     "iopub.execute_input": "2023-07-29T06:32:59.283297Z",
     "iopub.status.busy": "2023-07-29T06:32:59.283064Z",
     "iopub.status.idle": "2023-07-29T06:32:59.287146Z",
     "shell.execute_reply": "2023-07-29T06:32:59.286551Z"
    },
    "lines_to_next_cell": 0,
    "papermill": {
     "duration": 0.010862,
     "end_time": "2023-07-29T06:32:59.288736",
     "exception": false,
     "start_time": "2023-07-29T06:32:59.277874",
     "status": "completed"
    },
    "tags": [
     "parameters"
    ]
   },
   "outputs": [],
   "source": [
    "# - During automated runs parameters will be injected in the below cell -"
   ]
  },
  {
   "cell_type": "code",
   "execution_count": 3,
   "id": "2ae79470",
   "metadata": {
    "execution": {
     "iopub.execute_input": "2023-07-29T06:32:59.298023Z",
     "iopub.status.busy": "2023-07-29T06:32:59.297813Z",
     "iopub.status.idle": "2023-07-29T06:32:59.301824Z",
     "shell.execute_reply": "2023-07-29T06:32:59.301312Z"
    },
    "papermill": {
     "duration": 0.011002,
     "end_time": "2023-07-29T06:32:59.303512",
     "exception": false,
     "start_time": "2023-07-29T06:32:59.292510",
     "status": "completed"
    },
    "tags": [
     "injected-parameters"
    ]
   },
   "outputs": [],
   "source": [
    "# Parameters\n",
    "P = {\n",
    "    \"task.nr_train_images\": 1000,\n",
    "    \"_parameters_actor_name\": \"parameter_for_task_0xeac255946fdd977c\",\n",
    "}\n"
   ]
  },
  {
   "cell_type": "code",
   "execution_count": 4,
   "id": "67124fb2",
   "metadata": {
    "execution": {
     "iopub.execute_input": "2023-07-29T06:32:59.312755Z",
     "iopub.status.busy": "2023-07-29T06:32:59.312549Z",
     "iopub.status.idle": "2023-07-29T06:32:59.317545Z",
     "shell.execute_reply": "2023-07-29T06:32:59.316781Z"
    },
    "lines_to_next_cell": 0,
    "papermill": {
     "duration": 0.011713,
     "end_time": "2023-07-29T06:32:59.319265",
     "exception": false,
     "start_time": "2023-07-29T06:32:59.307552",
     "status": "completed"
    },
    "tags": []
   },
   "outputs": [],
   "source": [
    "# -----------------------------------------------------------------------"
   ]
  },
  {
   "cell_type": "markdown",
   "id": "e0211b2b",
   "metadata": {
    "papermill": {
     "duration": 0.004537,
     "end_time": "2023-07-29T06:32:59.328298",
     "exception": false,
     "start_time": "2023-07-29T06:32:59.323761",
     "status": "completed"
    },
    "tags": []
   },
   "source": [
    "---"
   ]
  },
  {
   "cell_type": "markdown",
   "id": "8544025a",
   "metadata": {
    "lines_to_next_cell": 2,
    "papermill": {
     "duration": 0.004674,
     "end_time": "2023-07-29T06:32:59.338802",
     "exception": false,
     "start_time": "2023-07-29T06:32:59.334128",
     "status": "completed"
    },
    "tags": []
   },
   "source": [
    "### Notebook code"
   ]
  },
  {
   "cell_type": "code",
   "execution_count": 5,
   "id": "9e0cbce0",
   "metadata": {
    "execution": {
     "iopub.execute_input": "2023-07-29T06:32:59.351644Z",
     "iopub.status.busy": "2023-07-29T06:32:59.351413Z",
     "iopub.status.idle": "2023-07-29T06:33:00.266236Z",
     "shell.execute_reply": "2023-07-29T06:33:00.261018Z"
    },
    "papermill": {
     "duration": 0.922166,
     "end_time": "2023-07-29T06:33:00.268100",
     "exception": false,
     "start_time": "2023-07-29T06:32:59.345934",
     "status": "completed"
    },
    "tags": []
   },
   "outputs": [
    {
     "name": "stderr",
     "output_type": "stream",
     "text": [
      "2023-07-29 06:33:00,170\tINFO worker.py:1364 -- Connecting to existing Ray cluster at address: 172.17.0.2:60386...\n"
     ]
    },
    {
     "name": "stderr",
     "output_type": "stream",
     "text": [
      "2023-07-29 06:33:00,186\tINFO worker.py:1544 -- Connected to Ray cluster. View the dashboard at \u001b[1m\u001b[32mhttp://127.0.0.1:8265 \u001b[39m\u001b[22m\n"
     ]
    },
    {
     "name": "stderr",
     "output_type": "stream",
     "text": [
      "/home/host_user/.local/lib/python3.8/site-packages/ray/runtime_context.py:27: RayDeprecationWarning: This API is deprecated and may be removed in future Ray releases. You could suppress this warning by setting env variable PYTHONWARNINGS=\"ignore::DeprecationWarning\"\n",
      "Use get_job_id() instead\n",
      "  \"job_id\": self.job_id,\n",
      "/home/host_user/.local/lib/python3.8/site-packages/ray/runtime_context.py:28: RayDeprecationWarning: This API is deprecated and may be removed in future Ray releases. You could suppress this warning by setting env variable PYTHONWARNINGS=\"ignore::DeprecationWarning\"\n",
      "Use get_node_id() instead\n",
      "  \"node_id\": self.node_id,\n"
     ]
    }
   ],
   "source": [
    "import itertools as it\n",
    "\n",
    "#\n",
    "import numpy as np\n",
    "import matplotlib.pyplot as plt\n",
    "\n",
    "#\n",
    "from composable_logs.tasks.task_opentelemetry_logging import get_task_context\n",
    "\n",
    "#\n",
    "from common.io import datalake_root\n",
    "\n",
    "ctx = get_task_context(P)"
   ]
  },
  {
   "cell_type": "markdown",
   "id": "c3490b97",
   "metadata": {
    "papermill": {
     "duration": 0.004142,
     "end_time": "2023-07-29T06:33:00.276711",
     "exception": false,
     "start_time": "2023-07-29T06:33:00.272569",
     "status": "completed"
    },
    "tags": []
   },
   "source": [
    "## Load persisted onnx-model and evaluation data"
   ]
  },
  {
   "cell_type": "code",
   "execution_count": 6,
   "id": "b79dd425",
   "metadata": {
    "execution": {
     "iopub.execute_input": "2023-07-29T06:33:00.290592Z",
     "iopub.status.busy": "2023-07-29T06:33:00.288110Z",
     "iopub.status.idle": "2023-07-29T06:33:00.302670Z",
     "shell.execute_reply": "2023-07-29T06:33:00.295822Z"
    },
    "papermill": {
     "duration": 0.023386,
     "end_time": "2023-07-29T06:33:00.304611",
     "exception": false,
     "start_time": "2023-07-29T06:33:00.281225",
     "status": "completed"
    },
    "tags": []
   },
   "outputs": [],
   "source": [
    "from common.io import read_onnx, get_onnx_inputs, get_onnx_outputs, read_numpy"
   ]
  },
  {
   "cell_type": "code",
   "execution_count": 7,
   "id": "51ce3295",
   "metadata": {
    "execution": {
     "iopub.execute_input": "2023-07-29T06:33:00.329391Z",
     "iopub.status.busy": "2023-07-29T06:33:00.329114Z",
     "iopub.status.idle": "2023-07-29T06:33:00.338611Z",
     "shell.execute_reply": "2023-07-29T06:33:00.337915Z"
    },
    "lines_to_next_cell": 0,
    "papermill": {
     "duration": 0.030233,
     "end_time": "2023-07-29T06:33:00.340268",
     "exception": false,
     "start_time": "2023-07-29T06:33:00.310035",
     "status": "completed"
    },
    "tags": []
   },
   "outputs": [],
   "source": [
    "onnx_inference_session = read_onnx(\n",
    "    datalake_root(ctx)\n",
    "    / \"models\"\n",
    "    / f\"nr_train_images={ctx.parameters['task.nr_train_images']}\"\n",
    "    / \"model.onnx\"\n",
    ")"
   ]
  },
  {
   "cell_type": "markdown",
   "id": "c0723a81",
   "metadata": {
    "papermill": {
     "duration": 0.004383,
     "end_time": "2023-07-29T06:33:00.349822",
     "exception": false,
     "start_time": "2023-07-29T06:33:00.345439",
     "status": "completed"
    },
    "tags": []
   },
   "source": [
    "### Record structure of inputs and outputs for ONNX model\n",
    "\n",
    "(this should likely be done in training notebook)"
   ]
  },
  {
   "cell_type": "code",
   "execution_count": 8,
   "id": "31f03f37",
   "metadata": {
    "execution": {
     "iopub.execute_input": "2023-07-29T06:33:00.359907Z",
     "iopub.status.busy": "2023-07-29T06:33:00.359621Z",
     "iopub.status.idle": "2023-07-29T06:33:00.367055Z",
     "shell.execute_reply": "2023-07-29T06:33:00.365831Z"
    },
    "papermill": {
     "duration": 0.014643,
     "end_time": "2023-07-29T06:33:00.368865",
     "exception": false,
     "start_time": "2023-07-29T06:33:00.354222",
     "status": "completed"
    },
    "tags": []
   },
   "outputs": [
    {
     "name": "stdout",
     "output_type": "stream",
     "text": [
      "{\n",
      "  \"inputs\": [\n",
      "    {\n",
      "      \"name\": \"float_input_8x8_image\",\n",
      "      \"shape\": [\n",
      "        null,\n",
      "        64\n",
      "      ],\n",
      "      \"type\": \"tensor(float)\"\n",
      "    }\n",
      "  ],\n",
      "  \"outputs\": [\n",
      "    {\n",
      "      \"name\": \"output_label\",\n",
      "      \"shape\": [\n",
      "        null\n",
      "      ],\n",
      "      \"type\": \"tensor(int64)\"\n",
      "    },\n",
      "    {\n",
      "      \"name\": \"output_probability\",\n",
      "      \"shape\": [],\n",
      "      \"type\": \"seq(map(int64,tensor(float)))\"\n",
      "    }\n",
      "  ]\n",
      "}\n"
     ]
    }
   ],
   "source": [
    "import json\n",
    "\n",
    "onnx_io = json.dumps(\n",
    "    {\n",
    "        \"inputs\": get_onnx_inputs(onnx_inference_session),\n",
    "        \"outputs\": get_onnx_outputs(onnx_inference_session),\n",
    "    },\n",
    "    indent=2,\n",
    ")\n",
    "\n",
    "\n",
    "ctx.log_artefact(\"onnx_io_structure.json\", onnx_io)\n",
    "print(onnx_io)"
   ]
  },
  {
   "cell_type": "markdown",
   "id": "2878ef7b",
   "metadata": {
    "papermill": {
     "duration": 0.00421,
     "end_time": "2023-07-29T06:33:00.377454",
     "exception": false,
     "start_time": "2023-07-29T06:33:00.373244",
     "status": "completed"
    },
    "tags": []
   },
   "source": [
    "### Evaluate model performance on evaluation data set"
   ]
  },
  {
   "cell_type": "code",
   "execution_count": 9,
   "id": "44dc2036",
   "metadata": {
    "execution": {
     "iopub.execute_input": "2023-07-29T06:33:00.387947Z",
     "iopub.status.busy": "2023-07-29T06:33:00.387690Z",
     "iopub.status.idle": "2023-07-29T06:33:00.393961Z",
     "shell.execute_reply": "2023-07-29T06:33:00.393192Z"
    },
    "papermill": {
     "duration": 0.014022,
     "end_time": "2023-07-29T06:33:00.395957",
     "exception": false,
     "start_time": "2023-07-29T06:33:00.381935",
     "status": "completed"
    },
    "tags": []
   },
   "outputs": [],
   "source": [
    "# load evaluation data\n",
    "X_test = read_numpy(datalake_root(ctx) / \"test-data\" / \"digits.numpy\")\n",
    "y_test = read_numpy(datalake_root(ctx) / \"test-data\" / \"labels.numpy\")"
   ]
  },
  {
   "cell_type": "code",
   "execution_count": 10,
   "id": "a7d37913",
   "metadata": {
    "execution": {
     "iopub.execute_input": "2023-07-29T06:33:00.407347Z",
     "iopub.status.busy": "2023-07-29T06:33:00.407118Z",
     "iopub.status.idle": "2023-07-29T06:33:00.420962Z",
     "shell.execute_reply": "2023-07-29T06:33:00.420425Z"
    },
    "papermill": {
     "duration": 0.021378,
     "end_time": "2023-07-29T06:33:00.422802",
     "exception": false,
     "start_time": "2023-07-29T06:33:00.401424",
     "status": "completed"
    },
    "tags": []
   },
   "outputs": [],
   "source": [
    "def get_model_outputs(X, onnx_inference_session):\n",
    "    y_pred_labels, y_pred_map = onnx_inference_session.run(\n",
    "        [\"output_label\", \"output_probability\"],\n",
    "        {\"float_input_8x8_image\": X.astype(np.float32)},\n",
    "    )\n",
    "    y_pred_probs = np.array(\n",
    "        [[probabilities[digit] for digit in range(10)] for probabilities in y_pred_map]\n",
    "    )\n",
    "\n",
    "    assert y_pred_labels.shape == (X.shape[0],)\n",
    "    assert y_pred_probs.shape == (X.shape[0], 10)\n",
    "\n",
    "    return y_pred_labels, y_pred_probs\n",
    "\n",
    "\n",
    "# Note: as shown in the training notebook, the predicted labels and probabilities\n",
    "# computed below need not be compatible.\n",
    "y_pred_labels_test, y_pred_probs_test = get_model_outputs(\n",
    "    X_test, onnx_inference_session\n",
    ")"
   ]
  },
  {
   "cell_type": "markdown",
   "id": "6a7da713",
   "metadata": {
    "papermill": {
     "duration": 0.004388,
     "end_time": "2023-07-29T06:33:00.433205",
     "exception": false,
     "start_time": "2023-07-29T06:33:00.428817",
     "status": "completed"
    },
    "tags": []
   },
   "source": [
    "### Confusion matrix"
   ]
  },
  {
   "cell_type": "code",
   "execution_count": 11,
   "id": "e877018e",
   "metadata": {
    "execution": {
     "iopub.execute_input": "2023-07-29T06:33:00.443631Z",
     "iopub.status.busy": "2023-07-29T06:33:00.443244Z",
     "iopub.status.idle": "2023-07-29T06:33:00.447417Z",
     "shell.execute_reply": "2023-07-29T06:33:00.446839Z"
    },
    "papermill": {
     "duration": 0.011596,
     "end_time": "2023-07-29T06:33:00.449209",
     "exception": false,
     "start_time": "2023-07-29T06:33:00.437613",
     "status": "completed"
    },
    "tags": []
   },
   "outputs": [],
   "source": [
    "# TODO"
   ]
  },
  {
   "cell_type": "markdown",
   "id": "73e1a11d",
   "metadata": {
    "papermill": {
     "duration": 0.004377,
     "end_time": "2023-07-29T06:33:00.458140",
     "exception": false,
     "start_time": "2023-07-29T06:33:00.453763",
     "status": "completed"
    },
    "tags": []
   },
   "source": [
    "### Plot predicted probabilities for each classifier over all evaluation digit images"
   ]
  },
  {
   "cell_type": "code",
   "execution_count": 12,
   "id": "ad2a434b",
   "metadata": {
    "execution": {
     "iopub.execute_input": "2023-07-29T06:33:00.468938Z",
     "iopub.status.busy": "2023-07-29T06:33:00.468702Z",
     "iopub.status.idle": "2023-07-29T06:33:04.375013Z",
     "shell.execute_reply": "2023-07-29T06:33:04.374305Z"
    },
    "papermill": {
     "duration": 3.913617,
     "end_time": "2023-07-29T06:33:04.376731",
     "exception": false,
     "start_time": "2023-07-29T06:33:00.463114",
     "status": "completed"
    },
    "tags": []
   },
   "outputs": [
    {
     "data": {
      "image/png": "[encoded data removed]",
      "text/plain": [
       "<Figure size 1600x600 with 10 Axes>"
      ]
     },
     "metadata": {},
     "output_type": "display_data"
    }
   ],
   "source": [
    "def plot_per_digit_probabilities(y_pred_probs):\n",
    "    fig, axs = plt.subplots(nrows=2, ncols=5, figsize=(16, 6))\n",
    "\n",
    "    for (r, c), digit, ax in zip(\n",
    "        it.product(range(2), range(5)), range(10), axs.reshape(-1)\n",
    "    ):\n",
    "        ax.hist(y_pred_probs_test[:, digit], bins=20)\n",
    "\n",
    "        ax.set_title(f\"Digit {digit}\")\n",
    "        if r == 1 and c == 2:\n",
    "            ax.set_xlabel(\"probability\", fontsize=16)\n",
    "\n",
    "        if c == 0:\n",
    "            ax.set_ylabel(\"counts\", fontsize=16)\n",
    "        ax.set_yscale(\"log\")\n",
    "\n",
    "    fig.tight_layout()\n",
    "    fig.suptitle(\n",
    "        f\"Distributions of prediction probabilities for each digit \"\n",
    "        f\"(on evaluation data, n={y_pred_probs.shape[0]})\",\n",
    "        fontsize=20,\n",
    "    )\n",
    "    fig.tight_layout()\n",
    "    fig.show()\n",
    "\n",
    "    return fig\n",
    "\n",
    "\n",
    "fig = plot_per_digit_probabilities(y_pred_probs_test)"
   ]
  },
  {
   "cell_type": "markdown",
   "id": "34e2a8b1",
   "metadata": {
    "papermill": {
     "duration": 0.005268,
     "end_time": "2023-07-29T06:33:04.387453",
     "exception": false,
     "start_time": "2023-07-29T06:33:04.382185",
     "status": "completed"
    },
    "tags": []
   },
   "source": [
    "From the above distributions we see that most digits have clear separation between\n",
    "high and lower probabilities. Morover, in each case there is roughly an order of\n",
    "magnitude more of digits with low probabilities. This is compatible with digits\n",
    "being roughly evenly distributed in the data."
   ]
  },
  {
   "cell_type": "code",
   "execution_count": 13,
   "id": "8a5ddac3",
   "metadata": {
    "execution": {
     "iopub.execute_input": "2023-07-29T06:33:04.399603Z",
     "iopub.status.busy": "2023-07-29T06:33:04.399354Z",
     "iopub.status.idle": "2023-07-29T06:33:05.035021Z",
     "shell.execute_reply": "2023-07-29T06:33:05.034236Z"
    },
    "papermill": {
     "duration": 0.646697,
     "end_time": "2023-07-29T06:33:05.039431",
     "exception": false,
     "start_time": "2023-07-29T06:33:04.392734",
     "status": "completed"
    },
    "tags": []
   },
   "outputs": [],
   "source": [
    "ctx.log_figure(\"per-digit-probabilities.png\", fig)"
   ]
  },
  {
   "cell_type": "markdown",
   "id": "0b9edc05",
   "metadata": {
    "papermill": {
     "duration": 0.005119,
     "end_time": "2023-07-29T06:33:05.050149",
     "exception": false,
     "start_time": "2023-07-29T06:33:05.045030",
     "status": "completed"
    },
    "tags": []
   },
   "source": [
    "### Plot ROC curves for individual one-vs-rest classifiers"
   ]
  },
  {
   "cell_type": "code",
   "execution_count": 14,
   "id": "461e8d23",
   "metadata": {
    "execution": {
     "iopub.execute_input": "2023-07-29T06:33:05.061777Z",
     "iopub.status.busy": "2023-07-29T06:33:05.061514Z",
     "iopub.status.idle": "2023-07-29T06:33:05.379347Z",
     "shell.execute_reply": "2023-07-29T06:33:05.378597Z"
    },
    "papermill": {
     "duration": 0.326376,
     "end_time": "2023-07-29T06:33:05.381658",
     "exception": false,
     "start_time": "2023-07-29T06:33:05.055282",
     "status": "completed"
    },
    "tags": []
   },
   "outputs": [],
   "source": [
    "from sklearn import metrics"
   ]
  },
  {
   "cell_type": "code",
   "execution_count": 15,
   "id": "3cd16529",
   "metadata": {
    "execution": {
     "iopub.execute_input": "2023-07-29T06:33:05.394758Z",
     "iopub.status.busy": "2023-07-29T06:33:05.394474Z",
     "iopub.status.idle": "2023-07-29T06:33:07.282798Z",
     "shell.execute_reply": "2023-07-29T06:33:07.281976Z"
    },
    "papermill": {
     "duration": 1.896539,
     "end_time": "2023-07-29T06:33:07.284653",
     "exception": false,
     "start_time": "2023-07-29T06:33:05.388114",
     "status": "completed"
    },
    "tags": []
   },
   "outputs": [
    {
     "data": {
      "image/png": "[encoded data removed]",
      "text/plain": [
       "<Figure size 1600x800 with 10 Axes>"
      ]
     },
     "metadata": {},
     "output_type": "display_data"
    }
   ],
   "source": [
    "def plot_roc_curves(y, y_pred_probs):\n",
    "    # based on example code\n",
    "    # https://scikit-learn.org/stable/auto_examples/model_selection/plot_roc.html\n",
    "\n",
    "    fig, axs = plt.subplots(nrows=2, ncols=5, figsize=(16, 8))\n",
    "\n",
    "    roc_auc_dict = {}\n",
    "\n",
    "    for (r, c), digit, ax in zip(\n",
    "        it.product(range(2), range(5)), range(10), axs.reshape(-1)\n",
    "    ):\n",
    "        fpr, tpr, _ = metrics.roc_curve(y == digit, y_pred_probs[:, digit])\n",
    "        auc = metrics.auc(fpr, tpr)\n",
    "        roc_auc_dict[str(digit)] = auc\n",
    "\n",
    "        ax.plot(fpr, tpr, label=f\"ROC AUC={round(auc, 3)}\")\n",
    "\n",
    "        ax.set_title(f\"\\nDigit {digit}\", fontsize=16)\n",
    "        if r == 1:\n",
    "            ax.set_xlabel(\"FPR\", fontsize=18)\n",
    "\n",
    "        if c == 0:\n",
    "            ax.set_ylabel(\"TPR\", fontsize=18)\n",
    "\n",
    "        ax.set_xlim([-0.05, 1.05])\n",
    "        ax.set_ylim([-0.05, 1.05])\n",
    "        ax.legend(loc=\"lower right\", frameon=False, fontsize=14)\n",
    "\n",
    "    fig.tight_layout()\n",
    "    fig.suptitle(\n",
    "        f\"ROC plots for one-vs-rest performances \"\n",
    "        f\"(on evaluation data, n={y_pred_probs_test.shape[1]}\",\n",
    "        fontsize=22,\n",
    "    )\n",
    "    fig.tight_layout()\n",
    "    fig.show()\n",
    "\n",
    "    return roc_auc_dict, fig\n",
    "\n",
    "\n",
    "roc_auc_dict, fig = plot_roc_curves(y_test, y_pred_probs_test)"
   ]
  },
  {
   "cell_type": "code",
   "execution_count": 16,
   "id": "9424ffa6",
   "metadata": {
    "execution": {
     "iopub.execute_input": "2023-07-29T06:33:07.298550Z",
     "iopub.status.busy": "2023-07-29T06:33:07.298304Z",
     "iopub.status.idle": "2023-07-29T06:33:07.613600Z",
     "shell.execute_reply": "2023-07-29T06:33:07.612933Z"
    },
    "papermill": {
     "duration": 0.324615,
     "end_time": "2023-07-29T06:33:07.615746",
     "exception": false,
     "start_time": "2023-07-29T06:33:07.291131",
     "status": "completed"
    },
    "tags": []
   },
   "outputs": [],
   "source": [
    "ctx.log_figure(\"per-digit-roc-curves.png\", fig)"
   ]
  },
  {
   "cell_type": "code",
   "execution_count": 17,
   "id": "2c026316",
   "metadata": {
    "execution": {
     "iopub.execute_input": "2023-07-29T06:33:07.630357Z",
     "iopub.status.busy": "2023-07-29T06:33:07.629878Z",
     "iopub.status.idle": "2023-07-29T06:33:07.636065Z",
     "shell.execute_reply": "2023-07-29T06:33:07.635149Z"
    },
    "papermill": {
     "duration": 0.015238,
     "end_time": "2023-07-29T06:33:07.637714",
     "exception": false,
     "start_time": "2023-07-29T06:33:07.622476",
     "status": "completed"
    },
    "tags": []
   },
   "outputs": [
    {
     "data": {
      "text/plain": [
       "{'0': 1.0,\n",
       " '1': 0.998950328022493,\n",
       " '2': 1.0,\n",
       " '3': 0.9999250234301781,\n",
       " '4': 0.9996570644718793,\n",
       " '5': 0.9994001874414246,\n",
       " '6': 0.999923792104862,\n",
       " '7': 0.9997713763145862,\n",
       " '8': 0.9949952711223203,\n",
       " '9': 0.9995427526291724}"
      ]
     },
     "execution_count": 17,
     "metadata": {},
     "output_type": "execute_result"
    }
   ],
   "source": [
    "roc_auc_dict"
   ]
  },
  {
   "cell_type": "code",
   "execution_count": 18,
   "id": "8a8934e9",
   "metadata": {
    "execution": {
     "iopub.execute_input": "2023-07-29T06:33:07.653236Z",
     "iopub.status.busy": "2023-07-29T06:33:07.652593Z",
     "iopub.status.idle": "2023-07-29T06:33:07.658644Z",
     "shell.execute_reply": "2023-07-29T06:33:07.658025Z"
    },
    "papermill": {
     "duration": 0.015346,
     "end_time": "2023-07-29T06:33:07.660293",
     "exception": false,
     "start_time": "2023-07-29T06:33:07.644947",
     "status": "completed"
    },
    "tags": []
   },
   "outputs": [
    {
     "name": "stdout",
     "output_type": "stream",
     "text": [
      " - Logging roc_auc_per_digit (json) : {'0': 1.0, '1': 0.998950328022493, '2': 1.0, '3': 0.9999250234301781, '4': 0.9996570644718793, '5': 0.9994001874414246, '6': 0.999923792104862, '7': 0.9997713763145862, '8': 0.9949952711223203, '9': 0.9995427526291724}\n"
     ]
    }
   ],
   "source": [
    "ctx.log_value(\"roc_auc_per_digit\", roc_auc_dict)"
   ]
  },
  {
   "cell_type": "markdown",
   "id": "10a8eff7",
   "metadata": {
    "papermill": {
     "duration": 0.006377,
     "end_time": "2023-07-29T06:33:07.673328",
     "exception": false,
     "start_time": "2023-07-29T06:33:07.666951",
     "status": "completed"
    },
    "tags": []
   },
   "source": [
    "### Compute and log mean ROC AUC score averaged over all digits"
   ]
  },
  {
   "cell_type": "code",
   "execution_count": 19,
   "id": "6982860c",
   "metadata": {
    "execution": {
     "iopub.execute_input": "2023-07-29T06:33:07.687725Z",
     "iopub.status.busy": "2023-07-29T06:33:07.686972Z",
     "iopub.status.idle": "2023-07-29T06:33:07.704421Z",
     "shell.execute_reply": "2023-07-29T06:33:07.702742Z"
    },
    "papermill": {
     "duration": 0.026624,
     "end_time": "2023-07-29T06:33:07.706275",
     "exception": false,
     "start_time": "2023-07-29T06:33:07.679651",
     "status": "completed"
    },
    "tags": []
   },
   "outputs": [
    {
     "name": "stdout",
     "output_type": "stream",
     "text": [
      " - Logging roc_auc_class_mean (float) : 0.9992165795536916\n"
     ]
    }
   ],
   "source": [
    "roc_auc_macro = np.mean(list(roc_auc_dict.values()))\n",
    "\n",
    "ctx.log_float(\"roc_auc_class_mean\", roc_auc_macro)\n",
    "\n",
    "# assert that the same value can be computed directly using sklearn\n",
    "assert roc_auc_macro == metrics.roc_auc_score(\n",
    "    y_test, y_pred_probs_test, average=\"macro\", multi_class=\"ovr\"\n",
    ")"
   ]
  },
  {
   "cell_type": "code",
   "execution_count": 20,
   "id": "f129bdb2",
   "metadata": {
    "execution": {
     "iopub.execute_input": "2023-07-29T06:33:07.721750Z",
     "iopub.status.busy": "2023-07-29T06:33:07.721467Z",
     "iopub.status.idle": "2023-07-29T06:33:07.724419Z",
     "shell.execute_reply": "2023-07-29T06:33:07.723880Z"
    },
    "lines_to_next_cell": 0,
    "papermill": {
     "duration": 0.012637,
     "end_time": "2023-07-29T06:33:07.726026",
     "exception": false,
     "start_time": "2023-07-29T06:33:07.713389",
     "status": "completed"
    },
    "tags": []
   },
   "outputs": [],
   "source": [
    "# ---"
   ]
  },
  {
   "cell_type": "code",
   "execution_count": null,
   "id": "d4ff0039",
   "metadata": {
    "papermill": {
     "duration": 0.006502,
     "end_time": "2023-07-29T06:33:07.739111",
     "exception": false,
     "start_time": "2023-07-29T06:33:07.732609",
     "status": "completed"
    },
    "tags": []
   },
   "outputs": [],
   "source": []
  }
 ],
 "metadata": {
  "jupytext": {
   "cell_metadata_filter": "tags,-all",
   "main_language": "python",
   "notebook_metadata_filter": "-all"
  },
  "language_info": {
   "codemirror_mode": {
    "name": "ipython",
    "version": 3
   },
   "file_extension": ".py",
   "mimetype": "text/x-python",
   "name": "python",
   "nbconvert_exporter": "python",
   "pygments_lexer": "ipython3",
   "version": "3.8.10"
  },
  "papermill": {
   "default_parameters": {},
   "duration": 11.563767,
   "end_time": "2023-07-29T06:33:09.584026",
   "environment_variables": {},
   "exception": null,
   "input_path": "/tmp/temp-notebook-93xst8jd.ipynb",
   "output_path": "/tmp/temp-notebook-93xst8jd.ipynb",
   "parameters": {
    "P": {
     "_parameters_actor_name": "parameter_for_task_0xeac255946fdd977c",
     "task.nr_train_images": 1000
    }
   },
   "start_time": "2023-07-29T06:32:58.020259",
   "version": "2.4.0"
  }
 },
 "nbformat": 4,
 "nbformat_minor": 5
}