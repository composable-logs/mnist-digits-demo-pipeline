{
 "cells": [
  {
   "cell_type": "markdown",
   "id": "7208e2c2",
   "metadata": {
    "papermill": {
     "duration": 0.005809,
     "end_time": "2023-07-18T06:37:42.132138",
     "exception": false,
     "start_time": "2023-07-18T06:37:42.126329",
     "status": "completed"
    },
    "tags": []
   },
   "source": [
    "# Benchmark model\n",
    "\n",
    "The purpose of this notebook is to benchmark persisted onnx-model (trained in the\n",
    "previous step) against evaluation set."
   ]
  },
  {
   "cell_type": "markdown",
   "id": "66ceebc7",
   "metadata": {
    "papermill": {
     "duration": 0.004829,
     "end_time": "2023-07-18T06:37:42.143405",
     "exception": false,
     "start_time": "2023-07-18T06:37:42.138576",
     "status": "completed"
    },
    "tags": []
   },
   "source": [
    "### Determine run parameters"
   ]
  },
  {
   "cell_type": "code",
   "execution_count": 1,
   "id": "f2bcd988",
   "metadata": {
    "execution": {
     "iopub.execute_input": "2023-07-18T06:37:42.154095Z",
     "iopub.status.busy": "2023-07-18T06:37:42.153791Z",
     "iopub.status.idle": "2023-07-18T06:37:42.162715Z",
     "shell.execute_reply": "2023-07-18T06:37:42.162066Z"
    },
    "lines_to_next_cell": 0,
    "papermill": {
     "duration": 0.017384,
     "end_time": "2023-07-18T06:37:42.164826",
     "exception": false,
     "start_time": "2023-07-18T06:37:42.147442",
     "status": "completed"
    },
    "tags": []
   },
   "outputs": [],
   "source": [
    "# ----------------- Parameters for interactive development --------------\n",
    "P = {\n",
    "    \"workflow.data_lake_root\": \"/pipeline-outputs/data-lake\",\n",
    "    \"task.nr_train_images\": 600,\n",
    "}"
   ]
  },
  {
   "cell_type": "code",
   "execution_count": 2,
   "id": "58780dc9",
   "metadata": {
    "execution": {
     "iopub.execute_input": "2023-07-18T06:37:42.175270Z",
     "iopub.status.busy": "2023-07-18T06:37:42.174903Z",
     "iopub.status.idle": "2023-07-18T06:37:42.179664Z",
     "shell.execute_reply": "2023-07-18T06:37:42.179081Z"
    },
    "lines_to_next_cell": 0,
    "papermill": {
     "duration": 0.012403,
     "end_time": "2023-07-18T06:37:42.181639",
     "exception": false,
     "start_time": "2023-07-18T06:37:42.169236",
     "status": "completed"
    },
    "tags": [
     "parameters"
    ]
   },
   "outputs": [],
   "source": [
    "# - During automated runs parameters will be injected in the below cell -"
   ]
  },
  {
   "cell_type": "code",
   "execution_count": 3,
   "id": "0abac27d",
   "metadata": {
    "execution": {
     "iopub.execute_input": "2023-07-18T06:37:42.192149Z",
     "iopub.status.busy": "2023-07-18T06:37:42.191831Z",
     "iopub.status.idle": "2023-07-18T06:37:42.197135Z",
     "shell.execute_reply": "2023-07-18T06:37:42.196542Z"
    },
    "papermill": {
     "duration": 0.018315,
     "end_time": "2023-07-18T06:37:42.204236",
     "exception": false,
     "start_time": "2023-07-18T06:37:42.185921",
     "status": "completed"
    },
    "tags": [
     "injected-parameters"
    ]
   },
   "outputs": [],
   "source": [
    "# Parameters\n",
    "P = {\n",
    "    \"task.nr_train_images\": 1200,\n",
    "    \"_parameters_actor_name\": \"parameter_for_task_0x8a58c428bd27ba24\",\n",
    "}\n"
   ]
  },
  {
   "cell_type": "code",
   "execution_count": 4,
   "id": "3e2158a6",
   "metadata": {
    "execution": {
     "iopub.execute_input": "2023-07-18T06:37:42.214352Z",
     "iopub.status.busy": "2023-07-18T06:37:42.214058Z",
     "iopub.status.idle": "2023-07-18T06:37:42.218658Z",
     "shell.execute_reply": "2023-07-18T06:37:42.218028Z"
    },
    "lines_to_next_cell": 0,
    "papermill": {
     "duration": 0.012295,
     "end_time": "2023-07-18T06:37:42.220726",
     "exception": false,
     "start_time": "2023-07-18T06:37:42.208431",
     "status": "completed"
    },
    "tags": []
   },
   "outputs": [],
   "source": [
    "# -----------------------------------------------------------------------"
   ]
  },
  {
   "cell_type": "markdown",
   "id": "5b4fa8f5",
   "metadata": {
    "papermill": {
     "duration": 0.00422,
     "end_time": "2023-07-18T06:37:42.229148",
     "exception": false,
     "start_time": "2023-07-18T06:37:42.224928",
     "status": "completed"
    },
    "tags": []
   },
   "source": [
    "---"
   ]
  },
  {
   "cell_type": "markdown",
   "id": "ba141e85",
   "metadata": {
    "lines_to_next_cell": 2,
    "papermill": {
     "duration": 0.00428,
     "end_time": "2023-07-18T06:37:42.237662",
     "exception": false,
     "start_time": "2023-07-18T06:37:42.233382",
     "status": "completed"
    },
    "tags": []
   },
   "source": [
    "### Notebook code"
   ]
  },
  {
   "cell_type": "code",
   "execution_count": 5,
   "id": "6f16dd32",
   "metadata": {
    "execution": {
     "iopub.execute_input": "2023-07-18T06:37:42.248934Z",
     "iopub.status.busy": "2023-07-18T06:37:42.248653Z",
     "iopub.status.idle": "2023-07-18T06:37:43.267325Z",
     "shell.execute_reply": "2023-07-18T06:37:43.266580Z"
    },
    "papermill": {
     "duration": 1.026447,
     "end_time": "2023-07-18T06:37:43.269587",
     "exception": false,
     "start_time": "2023-07-18T06:37:42.243140",
     "status": "completed"
    },
    "tags": []
   },
   "outputs": [
    {
     "name": "stderr",
     "output_type": "stream",
     "text": [
      "2023-07-18 06:37:43,164\tINFO worker.py:1364 -- Connecting to existing Ray cluster at address: 172.17.0.2:50938...\n"
     ]
    },
    {
     "name": "stderr",
     "output_type": "stream",
     "text": [
      "2023-07-18 06:37:43,177\tINFO worker.py:1544 -- Connected to Ray cluster. View the dashboard at \u001b[1m\u001b[32mhttp://127.0.0.1:8265 \u001b[39m\u001b[22m\n"
     ]
    },
    {
     "name": "stderr",
     "output_type": "stream",
     "text": [
      "/home/host_user/.local/lib/python3.8/site-packages/ray/runtime_context.py:27: RayDeprecationWarning: This API is deprecated and may be removed in future Ray releases. You could suppress this warning by setting env variable PYTHONWARNINGS=\"ignore::DeprecationWarning\"\n",
      "Use get_job_id() instead\n",
      "  \"job_id\": self.job_id,\n",
      "/home/host_user/.local/lib/python3.8/site-packages/ray/runtime_context.py:28: RayDeprecationWarning: This API is deprecated and may be removed in future Ray releases. You could suppress this warning by setting env variable PYTHONWARNINGS=\"ignore::DeprecationWarning\"\n",
      "Use get_node_id() instead\n",
      "  \"node_id\": self.node_id,\n"
     ]
    }
   ],
   "source": [
    "import itertools as it\n",
    "\n",
    "#\n",
    "import numpy as np\n",
    "import matplotlib.pyplot as plt\n",
    "\n",
    "#\n",
    "from composable_logs.tasks.task_opentelemetry_logging import get_task_context\n",
    "\n",
    "#\n",
    "from common.io import datalake_root\n",
    "\n",
    "ctx = get_task_context(P)"
   ]
  },
  {
   "cell_type": "markdown",
   "id": "48a8f1eb",
   "metadata": {
    "papermill": {
     "duration": 0.004313,
     "end_time": "2023-07-18T06:37:43.278670",
     "exception": false,
     "start_time": "2023-07-18T06:37:43.274357",
     "status": "completed"
    },
    "tags": []
   },
   "source": [
    "## Load persisted onnx-model and evaluation data"
   ]
  },
  {
   "cell_type": "code",
   "execution_count": 6,
   "id": "0f66df87",
   "metadata": {
    "execution": {
     "iopub.execute_input": "2023-07-18T06:37:43.289464Z",
     "iopub.status.busy": "2023-07-18T06:37:43.289169Z",
     "iopub.status.idle": "2023-07-18T06:37:43.293889Z",
     "shell.execute_reply": "2023-07-18T06:37:43.293258Z"
    },
    "papermill": {
     "duration": 0.012667,
     "end_time": "2023-07-18T06:37:43.295623",
     "exception": false,
     "start_time": "2023-07-18T06:37:43.282956",
     "status": "completed"
    },
    "tags": []
   },
   "outputs": [],
   "source": [
    "from common.io import read_onnx, get_onnx_inputs, get_onnx_outputs, read_numpy"
   ]
  },
  {
   "cell_type": "code",
   "execution_count": 7,
   "id": "9d6e84e3",
   "metadata": {
    "execution": {
     "iopub.execute_input": "2023-07-18T06:37:43.306379Z",
     "iopub.status.busy": "2023-07-18T06:37:43.306086Z",
     "iopub.status.idle": "2023-07-18T06:37:43.316245Z",
     "shell.execute_reply": "2023-07-18T06:37:43.315517Z"
    },
    "lines_to_next_cell": 0,
    "papermill": {
     "duration": 0.018048,
     "end_time": "2023-07-18T06:37:43.318283",
     "exception": false,
     "start_time": "2023-07-18T06:37:43.300235",
     "status": "completed"
    },
    "tags": []
   },
   "outputs": [],
   "source": [
    "onnx_inference_session = read_onnx(\n",
    "    datalake_root(ctx)\n",
    "    / \"models\"\n",
    "    / f\"nr_train_images={ctx.parameters['task.nr_train_images']}\"\n",
    "    / \"model.onnx\"\n",
    ")"
   ]
  },
  {
   "cell_type": "markdown",
   "id": "f1f25d9c",
   "metadata": {
    "papermill": {
     "duration": 0.004462,
     "end_time": "2023-07-18T06:37:43.327598",
     "exception": false,
     "start_time": "2023-07-18T06:37:43.323136",
     "status": "completed"
    },
    "tags": []
   },
   "source": [
    "### Record structure of inputs and outputs for ONNX model\n",
    "\n",
    "(this should likely be done in training notebook)"
   ]
  },
  {
   "cell_type": "code",
   "execution_count": 8,
   "id": "cf3a7adf",
   "metadata": {
    "execution": {
     "iopub.execute_input": "2023-07-18T06:37:43.338238Z",
     "iopub.status.busy": "2023-07-18T06:37:43.337944Z",
     "iopub.status.idle": "2023-07-18T06:37:43.363184Z",
     "shell.execute_reply": "2023-07-18T06:37:43.362516Z"
    },
    "papermill": {
     "duration": 0.034137,
     "end_time": "2023-07-18T06:37:43.366121",
     "exception": false,
     "start_time": "2023-07-18T06:37:43.331984",
     "status": "completed"
    },
    "tags": []
   },
   "outputs": [
    {
     "name": "stdout",
     "output_type": "stream",
     "text": [
      "{\n",
      "  \"inputs\": [\n",
      "    {\n",
      "      \"name\": \"float_input_8x8_image\",\n",
      "      \"shape\": [\n",
      "        null,\n",
      "        64\n",
      "      ],\n",
      "      \"type\": \"tensor(float)\"\n",
      "    }\n",
      "  ],\n",
      "  \"outputs\": [\n",
      "    {\n",
      "      \"name\": \"output_label\",\n",
      "      \"shape\": [\n",
      "        null\n",
      "      ],\n",
      "      \"type\": \"tensor(int64)\"\n",
      "    },\n",
      "    {\n",
      "      \"name\": \"output_probability\",\n",
      "      \"shape\": [],\n",
      "      \"type\": \"seq(map(int64,tensor(float)))\"\n",
      "    }\n",
      "  ]\n",
      "}\n"
     ]
    }
   ],
   "source": [
    "import json\n",
    "\n",
    "onnx_io = json.dumps(\n",
    "    {\n",
    "        \"inputs\": get_onnx_inputs(onnx_inference_session),\n",
    "        \"outputs\": get_onnx_outputs(onnx_inference_session),\n",
    "    },\n",
    "    indent=2,\n",
    ")\n",
    "\n",
    "\n",
    "ctx.log_artefact(\"onnx_io_structure.json\", onnx_io)\n",
    "print(onnx_io)"
   ]
  },
  {
   "cell_type": "markdown",
   "id": "a472f1bb",
   "metadata": {
    "papermill": {
     "duration": 0.004805,
     "end_time": "2023-07-18T06:37:43.375816",
     "exception": false,
     "start_time": "2023-07-18T06:37:43.371011",
     "status": "completed"
    },
    "tags": []
   },
   "source": [
    "### Evaluate model performance on evaluation data set"
   ]
  },
  {
   "cell_type": "code",
   "execution_count": 9,
   "id": "57af9111",
   "metadata": {
    "execution": {
     "iopub.execute_input": "2023-07-18T06:37:43.388041Z",
     "iopub.status.busy": "2023-07-18T06:37:43.387703Z",
     "iopub.status.idle": "2023-07-18T06:37:43.393850Z",
     "shell.execute_reply": "2023-07-18T06:37:43.393226Z"
    },
    "papermill": {
     "duration": 0.014379,
     "end_time": "2023-07-18T06:37:43.395743",
     "exception": false,
     "start_time": "2023-07-18T06:37:43.381364",
     "status": "completed"
    },
    "tags": []
   },
   "outputs": [],
   "source": [
    "# load evaluation data\n",
    "X_test = read_numpy(datalake_root(ctx) / \"test-data\" / \"digits.numpy\")\n",
    "y_test = read_numpy(datalake_root(ctx) / \"test-data\" / \"labels.numpy\")"
   ]
  },
  {
   "cell_type": "code",
   "execution_count": 10,
   "id": "3f485c9c",
   "metadata": {
    "execution": {
     "iopub.execute_input": "2023-07-18T06:37:43.406558Z",
     "iopub.status.busy": "2023-07-18T06:37:43.406300Z",
     "iopub.status.idle": "2023-07-18T06:37:43.420898Z",
     "shell.execute_reply": "2023-07-18T06:37:43.420206Z"
    },
    "papermill": {
     "duration": 0.022487,
     "end_time": "2023-07-18T06:37:43.422820",
     "exception": false,
     "start_time": "2023-07-18T06:37:43.400333",
     "status": "completed"
    },
    "tags": []
   },
   "outputs": [],
   "source": [
    "def get_model_outputs(X, onnx_inference_session):\n",
    "    y_pred_labels, y_pred_map = onnx_inference_session.run(\n",
    "        [\"output_label\", \"output_probability\"],\n",
    "        {\"float_input_8x8_image\": X.astype(np.float32)},\n",
    "    )\n",
    "    y_pred_probs = np.array(\n",
    "        [[probabilities[digit] for digit in range(10)] for probabilities in y_pred_map]\n",
    "    )\n",
    "\n",
    "    assert y_pred_labels.shape == (X.shape[0],)\n",
    "    assert y_pred_probs.shape == (X.shape[0], 10)\n",
    "\n",
    "    return y_pred_labels, y_pred_probs\n",
    "\n",
    "\n",
    "# Note: as shown in the training notebook, the predicted labels and probabilities\n",
    "# computed below need not be compatible.\n",
    "y_pred_labels_test, y_pred_probs_test = get_model_outputs(\n",
    "    X_test, onnx_inference_session\n",
    ")"
   ]
  },
  {
   "cell_type": "markdown",
   "id": "6458aa69",
   "metadata": {
    "papermill": {
     "duration": 0.004357,
     "end_time": "2023-07-18T06:37:43.432077",
     "exception": false,
     "start_time": "2023-07-18T06:37:43.427720",
     "status": "completed"
    },
    "tags": []
   },
   "source": [
    "### Confusion matrix"
   ]
  },
  {
   "cell_type": "code",
   "execution_count": 11,
   "id": "5bfde095",
   "metadata": {
    "execution": {
     "iopub.execute_input": "2023-07-18T06:37:43.443117Z",
     "iopub.status.busy": "2023-07-18T06:37:43.442827Z",
     "iopub.status.idle": "2023-07-18T06:37:43.447622Z",
     "shell.execute_reply": "2023-07-18T06:37:43.447006Z"
    },
    "papermill": {
     "duration": 0.012624,
     "end_time": "2023-07-18T06:37:43.449382",
     "exception": false,
     "start_time": "2023-07-18T06:37:43.436758",
     "status": "completed"
    },
    "tags": []
   },
   "outputs": [],
   "source": [
    "# TODO"
   ]
  },
  {
   "cell_type": "markdown",
   "id": "6ebef217",
   "metadata": {
    "papermill": {
     "duration": 0.005565,
     "end_time": "2023-07-18T06:37:43.466875",
     "exception": false,
     "start_time": "2023-07-18T06:37:43.461310",
     "status": "completed"
    },
    "tags": []
   },
   "source": [
    "### Plot predicted probabilities for each classifier over all evaluation digit images"
   ]
  },
  {
   "cell_type": "code",
   "execution_count": 12,
   "id": "277a5c60",
   "metadata": {
    "execution": {
     "iopub.execute_input": "2023-07-18T06:37:43.478215Z",
     "iopub.status.busy": "2023-07-18T06:37:43.477918Z",
     "iopub.status.idle": "2023-07-18T06:37:47.593459Z",
     "shell.execute_reply": "2023-07-18T06:37:47.591829Z"
    },
    "papermill": {
     "duration": 4.124792,
     "end_time": "2023-07-18T06:37:47.596468",
     "exception": false,
     "start_time": "2023-07-18T06:37:43.471676",
     "status": "completed"
    },
    "tags": []
   },
   "outputs": [
    {
     "data": {
      "image/png": "[encoded data removed]",
      "text/plain": [
       "<Figure size 1600x600 with 10 Axes>"
      ]
     },
     "metadata": {},
     "output_type": "display_data"
    }
   ],
   "source": [
    "def plot_per_digit_probabilities(y_pred_probs):\n",
    "    fig, axs = plt.subplots(nrows=2, ncols=5, figsize=(16, 6))\n",
    "\n",
    "    for (r, c), digit, ax in zip(\n",
    "        it.product(range(2), range(5)), range(10), axs.reshape(-1)\n",
    "    ):\n",
    "        ax.hist(y_pred_probs_test[:, digit], bins=20)\n",
    "\n",
    "        ax.set_title(f\"Digit {digit}\")\n",
    "        if r == 1 and c == 2:\n",
    "            ax.set_xlabel(\"probability\", fontsize=16)\n",
    "\n",
    "        if c == 0:\n",
    "            ax.set_ylabel(\"counts\", fontsize=16)\n",
    "        ax.set_yscale(\"log\")\n",
    "\n",
    "    fig.tight_layout()\n",
    "    fig.suptitle(\n",
    "        f\"Distributions of prediction probabilities for each digit \"\n",
    "        f\"(on evaluation data, n={y_pred_probs.shape[0]})\",\n",
    "        fontsize=20,\n",
    "    )\n",
    "    fig.tight_layout()\n",
    "    fig.show()\n",
    "\n",
    "    return fig\n",
    "\n",
    "\n",
    "fig = plot_per_digit_probabilities(y_pred_probs_test)"
   ]
  },
  {
   "cell_type": "markdown",
   "id": "f6f613f1",
   "metadata": {
    "papermill": {
     "duration": 0.005293,
     "end_time": "2023-07-18T06:37:47.607533",
     "exception": false,
     "start_time": "2023-07-18T06:37:47.602240",
     "status": "completed"
    },
    "tags": []
   },
   "source": [
    "From the above distributions we see that most digits have clear separation between\n",
    "high and lower probabilities. Morover, in each case there is roughly an order of\n",
    "magnitude more of digits with low probabilities. This is compatible with digits\n",
    "being roughly evenly distributed in the data."
   ]
  },
  {
   "cell_type": "code",
   "execution_count": 13,
   "id": "31225a5a",
   "metadata": {
    "execution": {
     "iopub.execute_input": "2023-07-18T06:37:47.619453Z",
     "iopub.status.busy": "2023-07-18T06:37:47.619189Z",
     "iopub.status.idle": "2023-07-18T06:37:48.319908Z",
     "shell.execute_reply": "2023-07-18T06:37:48.319225Z"
    },
    "papermill": {
     "duration": 0.709805,
     "end_time": "2023-07-18T06:37:48.322557",
     "exception": false,
     "start_time": "2023-07-18T06:37:47.612752",
     "status": "completed"
    },
    "tags": []
   },
   "outputs": [],
   "source": [
    "ctx.log_figure(\"per-digit-probabilities.png\", fig)"
   ]
  },
  {
   "cell_type": "markdown",
   "id": "bad08bed",
   "metadata": {
    "papermill": {
     "duration": 0.005612,
     "end_time": "2023-07-18T06:37:48.334442",
     "exception": false,
     "start_time": "2023-07-18T06:37:48.328830",
     "status": "completed"
    },
    "tags": []
   },
   "source": [
    "### Plot ROC curves for individual one-vs-rest classifiers"
   ]
  },
  {
   "cell_type": "code",
   "execution_count": 14,
   "id": "6f9a1df5",
   "metadata": {
    "execution": {
     "iopub.execute_input": "2023-07-18T06:37:48.347600Z",
     "iopub.status.busy": "2023-07-18T06:37:48.347302Z",
     "iopub.status.idle": "2023-07-18T06:37:48.716869Z",
     "shell.execute_reply": "2023-07-18T06:37:48.716075Z"
    },
    "papermill": {
     "duration": 0.378863,
     "end_time": "2023-07-18T06:37:48.718993",
     "exception": false,
     "start_time": "2023-07-18T06:37:48.340130",
     "status": "completed"
    },
    "tags": []
   },
   "outputs": [],
   "source": [
    "from sklearn import metrics"
   ]
  },
  {
   "cell_type": "code",
   "execution_count": 15,
   "id": "e56abf39",
   "metadata": {
    "execution": {
     "iopub.execute_input": "2023-07-18T06:37:48.732502Z",
     "iopub.status.busy": "2023-07-18T06:37:48.732196Z",
     "iopub.status.idle": "2023-07-18T06:37:50.784283Z",
     "shell.execute_reply": "2023-07-18T06:37:50.783536Z"
    },
    "papermill": {
     "duration": 2.064592,
     "end_time": "2023-07-18T06:37:50.789559",
     "exception": false,
     "start_time": "2023-07-18T06:37:48.724967",
     "status": "completed"
    },
    "tags": []
   },
   "outputs": [
    {
     "data": {
      "image/png": "[encoded data removed]",
      "text/plain": [
       "<Figure size 1600x800 with 10 Axes>"
      ]
     },
     "metadata": {},
     "output_type": "display_data"
    }
   ],
   "source": [
    "def plot_roc_curves(y, y_pred_probs):\n",
    "    # based on example code\n",
    "    # https://scikit-learn.org/stable/auto_examples/model_selection/plot_roc.html\n",
    "\n",
    "    fig, axs = plt.subplots(nrows=2, ncols=5, figsize=(16, 8))\n",
    "\n",
    "    roc_auc_dict = {}\n",
    "\n",
    "    for (r, c), digit, ax in zip(\n",
    "        it.product(range(2), range(5)), range(10), axs.reshape(-1)\n",
    "    ):\n",
    "        fpr, tpr, _ = metrics.roc_curve(y == digit, y_pred_probs[:, digit])\n",
    "        auc = metrics.auc(fpr, tpr)\n",
    "        roc_auc_dict[str(digit)] = auc\n",
    "\n",
    "        ax.plot(fpr, tpr, label=f\"ROC AUC={round(auc, 3)}\")\n",
    "\n",
    "        ax.set_title(f\"\\nDigit {digit}\", fontsize=16)\n",
    "        if r == 1:\n",
    "            ax.set_xlabel(\"FPR\", fontsize=18)\n",
    "\n",
    "        if c == 0:\n",
    "            ax.set_ylabel(\"TPR\", fontsize=18)\n",
    "\n",
    "        ax.set_xlim([-0.05, 1.05])\n",
    "        ax.set_ylim([-0.05, 1.05])\n",
    "        ax.legend(loc=\"lower right\", frameon=False, fontsize=14)\n",
    "\n",
    "    fig.tight_layout()\n",
    "    fig.suptitle(\n",
    "        f\"ROC plots for one-vs-rest performances \"\n",
    "        f\"(on evaluation data, n={y_pred_probs_test.shape[1]}\",\n",
    "        fontsize=22,\n",
    "    )\n",
    "    fig.tight_layout()\n",
    "    fig.show()\n",
    "\n",
    "    return roc_auc_dict, fig\n",
    "\n",
    "\n",
    "roc_auc_dict, fig = plot_roc_curves(y_test, y_pred_probs_test)"
   ]
  },
  {
   "cell_type": "code",
   "execution_count": 16,
   "id": "e640001e",
   "metadata": {
    "execution": {
     "iopub.execute_input": "2023-07-18T06:37:50.804724Z",
     "iopub.status.busy": "2023-07-18T06:37:50.804424Z",
     "iopub.status.idle": "2023-07-18T06:37:51.220513Z",
     "shell.execute_reply": "2023-07-18T06:37:51.219638Z"
    },
    "papermill": {
     "duration": 0.426368,
     "end_time": "2023-07-18T06:37:51.222750",
     "exception": false,
     "start_time": "2023-07-18T06:37:50.796382",
     "status": "completed"
    },
    "tags": []
   },
   "outputs": [],
   "source": [
    "ctx.log_figure(\"per-digit-roc-curves.png\", fig)"
   ]
  },
  {
   "cell_type": "code",
   "execution_count": 17,
   "id": "d3a62ec8",
   "metadata": {
    "execution": {
     "iopub.execute_input": "2023-07-18T06:37:51.238666Z",
     "iopub.status.busy": "2023-07-18T06:37:51.238020Z",
     "iopub.status.idle": "2023-07-18T06:37:51.246628Z",
     "shell.execute_reply": "2023-07-18T06:37:51.245382Z"
    },
    "papermill": {
     "duration": 0.018524,
     "end_time": "2023-07-18T06:37:51.248814",
     "exception": false,
     "start_time": "2023-07-18T06:37:51.230290",
     "status": "completed"
    },
    "tags": []
   },
   "outputs": [
    {
     "data": {
      "text/plain": [
       "{'0': 1.0,\n",
       " '1': 0.998950328022493,\n",
       " '2': 1.0,\n",
       " '3': 0.9998500468603562,\n",
       " '4': 0.9997713763145861,\n",
       " '5': 0.9997000937207123,\n",
       " '6': 0.999923792104862,\n",
       " '7': 0.9998475842097242,\n",
       " '8': 0.9955863808322826,\n",
       " '9': 0.9997713763145862}"
      ]
     },
     "execution_count": 17,
     "metadata": {},
     "output_type": "execute_result"
    }
   ],
   "source": [
    "roc_auc_dict"
   ]
  },
  {
   "cell_type": "code",
   "execution_count": 18,
   "id": "00157cdb",
   "metadata": {
    "execution": {
     "iopub.execute_input": "2023-07-18T06:37:51.266135Z",
     "iopub.status.busy": "2023-07-18T06:37:51.265724Z",
     "iopub.status.idle": "2023-07-18T06:37:51.270772Z",
     "shell.execute_reply": "2023-07-18T06:37:51.270079Z"
    },
    "papermill": {
     "duration": 0.016243,
     "end_time": "2023-07-18T06:37:51.272755",
     "exception": false,
     "start_time": "2023-07-18T06:37:51.256512",
     "status": "completed"
    },
    "tags": []
   },
   "outputs": [
    {
     "name": "stdout",
     "output_type": "stream",
     "text": [
      " - Logging roc_auc_per_digit (json) : {'0': 1.0, '1': 0.998950328022493, '2': 1.0, '3': 0.9998500468603562, '4': 0.9997713763145861, '5': 0.9997000937207123, '6': 0.999923792104862, '7': 0.9998475842097242, '8': 0.9955863808322826, '9': 0.9997713763145862}\n"
     ]
    }
   ],
   "source": [
    "ctx.log_value(\"roc_auc_per_digit\", roc_auc_dict)"
   ]
  },
  {
   "cell_type": "markdown",
   "id": "c6fb9b14",
   "metadata": {
    "papermill": {
     "duration": 0.007337,
     "end_time": "2023-07-18T06:37:51.287289",
     "exception": false,
     "start_time": "2023-07-18T06:37:51.279952",
     "status": "completed"
    },
    "tags": []
   },
   "source": [
    "### Compute and log mean ROC AUC score averaged over all digits"
   ]
  },
  {
   "cell_type": "code",
   "execution_count": 19,
   "id": "19e47fe5",
   "metadata": {
    "execution": {
     "iopub.execute_input": "2023-07-18T06:37:51.303144Z",
     "iopub.status.busy": "2023-07-18T06:37:51.302443Z",
     "iopub.status.idle": "2023-07-18T06:37:51.315660Z",
     "shell.execute_reply": "2023-07-18T06:37:51.314620Z"
    },
    "papermill": {
     "duration": 0.022881,
     "end_time": "2023-07-18T06:37:51.317358",
     "exception": false,
     "start_time": "2023-07-18T06:37:51.294477",
     "status": "completed"
    },
    "tags": []
   },
   "outputs": [
    {
     "name": "stdout",
     "output_type": "stream",
     "text": [
      " - Logging roc_auc_class_mean (float) : 0.9993400978379603\n"
     ]
    }
   ],
   "source": [
    "roc_auc_macro = np.mean(list(roc_auc_dict.values()))\n",
    "\n",
    "ctx.log_float(\"roc_auc_class_mean\", roc_auc_macro)\n",
    "\n",
    "# assert that the same value can be computed directly using sklearn\n",
    "assert roc_auc_macro == metrics.roc_auc_score(\n",
    "    y_test, y_pred_probs_test, average=\"macro\", multi_class=\"ovr\"\n",
    ")"
   ]
  },
  {
   "cell_type": "code",
   "execution_count": 20,
   "id": "f6344a7a",
   "metadata": {
    "execution": {
     "iopub.execute_input": "2023-07-18T06:37:51.333918Z",
     "iopub.status.busy": "2023-07-18T06:37:51.333022Z",
     "iopub.status.idle": "2023-07-18T06:37:51.336697Z",
     "shell.execute_reply": "2023-07-18T06:37:51.335888Z"
    },
    "lines_to_next_cell": 0,
    "papermill": {
     "duration": 0.014227,
     "end_time": "2023-07-18T06:37:51.339133",
     "exception": false,
     "start_time": "2023-07-18T06:37:51.324906",
     "status": "completed"
    },
    "tags": []
   },
   "outputs": [],
   "source": [
    "# ---"
   ]
  },
  {
   "cell_type": "code",
   "execution_count": null,
   "id": "460b8f4e",
   "metadata": {
    "papermill": {
     "duration": 0.007664,
     "end_time": "2023-07-18T06:37:51.353936",
     "exception": false,
     "start_time": "2023-07-18T06:37:51.346272",
     "status": "completed"
    },
    "tags": []
   },
   "outputs": [],
   "source": []
  }
 ],
 "metadata": {
  "jupytext": {
   "cell_metadata_filter": "tags,-all",
   "main_language": "python",
   "notebook_metadata_filter": "-all"
  },
  "language_info": {
   "codemirror_mode": {
    "name": "ipython",
    "version": 3
   },
   "file_extension": ".py",
   "mimetype": "text/x-python",
   "name": "python",
   "nbconvert_exporter": "python",
   "pygments_lexer": "ipython3",
   "version": "3.8.10"
  },
  "papermill": {
   "default_parameters": {},
   "duration": 12.447471,
   "end_time": "2023-07-18T06:37:53.336409",
   "environment_variables": {},
   "exception": null,
   "input_path": "/tmp/temp-notebook-_44ijghf.ipynb",
   "output_path": "/tmp/temp-notebook-_44ijghf.ipynb",
   "parameters": {
    "P": {
     "_parameters_actor_name": "parameter_for_task_0x8a58c428bd27ba24",
     "task.nr_train_images": 1200
    }
   },
   "start_time": "2023-07-18T06:37:40.888938",
   "version": "2.4.0"
  }
 },
 "nbformat": 4,
 "nbformat_minor": 5
}