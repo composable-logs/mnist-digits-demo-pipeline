{
 "cells": [
  {
   "cell_type": "markdown",
   "id": "92dbbebd",
   "metadata": {
    "papermill": {
     "duration": 0.006093,
     "end_time": "2023-07-29T06:32:58.433151",
     "exception": false,
     "start_time": "2023-07-29T06:32:58.427058",
     "status": "completed"
    },
    "tags": []
   },
   "source": [
    "# Benchmark model\n",
    "\n",
    "The purpose of this notebook is to benchmark persisted onnx-model (trained in the\n",
    "previous step) against evaluation set."
   ]
  },
  {
   "cell_type": "markdown",
   "id": "7ba98275",
   "metadata": {
    "papermill": {
     "duration": 0.008783,
     "end_time": "2023-07-29T06:32:58.447922",
     "exception": false,
     "start_time": "2023-07-29T06:32:58.439139",
     "status": "completed"
    },
    "tags": []
   },
   "source": [
    "### Determine run parameters"
   ]
  },
  {
   "cell_type": "code",
   "execution_count": 1,
   "id": "a66ff601",
   "metadata": {
    "execution": {
     "iopub.execute_input": "2023-07-29T06:32:58.457596Z",
     "iopub.status.busy": "2023-07-29T06:32:58.457302Z",
     "iopub.status.idle": "2023-07-29T06:32:58.465880Z",
     "shell.execute_reply": "2023-07-29T06:32:58.465211Z"
    },
    "lines_to_next_cell": 0,
    "papermill": {
     "duration": 0.01598,
     "end_time": "2023-07-29T06:32:58.467734",
     "exception": false,
     "start_time": "2023-07-29T06:32:58.451754",
     "status": "completed"
    },
    "tags": []
   },
   "outputs": [],
   "source": [
    "# ----------------- Parameters for interactive development --------------\n",
    "P = {\n",
    "    \"workflow.data_lake_root\": \"/pipeline-outputs/data-lake\",\n",
    "    \"task.nr_train_images\": 600,\n",
    "}"
   ]
  },
  {
   "cell_type": "code",
   "execution_count": 2,
   "id": "0acaf7f3",
   "metadata": {
    "execution": {
     "iopub.execute_input": "2023-07-29T06:32:58.476701Z",
     "iopub.status.busy": "2023-07-29T06:32:58.476485Z",
     "iopub.status.idle": "2023-07-29T06:32:58.480449Z",
     "shell.execute_reply": "2023-07-29T06:32:58.479905Z"
    },
    "lines_to_next_cell": 0,
    "papermill": {
     "duration": 0.010589,
     "end_time": "2023-07-29T06:32:58.482151",
     "exception": false,
     "start_time": "2023-07-29T06:32:58.471562",
     "status": "completed"
    },
    "tags": [
     "parameters"
    ]
   },
   "outputs": [],
   "source": [
    "# - During automated runs parameters will be injected in the below cell -"
   ]
  },
  {
   "cell_type": "code",
   "execution_count": 3,
   "id": "fe5f8a0f",
   "metadata": {
    "execution": {
     "iopub.execute_input": "2023-07-29T06:32:58.490967Z",
     "iopub.status.busy": "2023-07-29T06:32:58.490692Z",
     "iopub.status.idle": "2023-07-29T06:32:58.494925Z",
     "shell.execute_reply": "2023-07-29T06:32:58.494214Z"
    },
    "papermill": {
     "duration": 0.010689,
     "end_time": "2023-07-29T06:32:58.496682",
     "exception": false,
     "start_time": "2023-07-29T06:32:58.485993",
     "status": "completed"
    },
    "tags": [
     "injected-parameters"
    ]
   },
   "outputs": [],
   "source": [
    "# Parameters\n",
    "P = {\n",
    "    \"task.nr_train_images\": 800,\n",
    "    \"_parameters_actor_name\": \"parameter_for_task_0x5f4277ab3d901870\",\n",
    "}\n"
   ]
  },
  {
   "cell_type": "code",
   "execution_count": 4,
   "id": "acda729c",
   "metadata": {
    "execution": {
     "iopub.execute_input": "2023-07-29T06:32:58.505604Z",
     "iopub.status.busy": "2023-07-29T06:32:58.505396Z",
     "iopub.status.idle": "2023-07-29T06:32:58.509337Z",
     "shell.execute_reply": "2023-07-29T06:32:58.508819Z"
    },
    "lines_to_next_cell": 0,
    "papermill": {
     "duration": 0.010251,
     "end_time": "2023-07-29T06:32:58.510934",
     "exception": false,
     "start_time": "2023-07-29T06:32:58.500683",
     "status": "completed"
    },
    "tags": []
   },
   "outputs": [],
   "source": [
    "# -----------------------------------------------------------------------"
   ]
  },
  {
   "cell_type": "markdown",
   "id": "d9c0eb8f",
   "metadata": {
    "papermill": {
     "duration": 0.004235,
     "end_time": "2023-07-29T06:32:58.519127",
     "exception": false,
     "start_time": "2023-07-29T06:32:58.514892",
     "status": "completed"
    },
    "tags": []
   },
   "source": [
    "---"
   ]
  },
  {
   "cell_type": "markdown",
   "id": "6bd3fedb",
   "metadata": {
    "lines_to_next_cell": 2,
    "papermill": {
     "duration": 0.003843,
     "end_time": "2023-07-29T06:32:58.526945",
     "exception": false,
     "start_time": "2023-07-29T06:32:58.523102",
     "status": "completed"
    },
    "tags": []
   },
   "source": [
    "### Notebook code"
   ]
  },
  {
   "cell_type": "code",
   "execution_count": 5,
   "id": "62b2cd31",
   "metadata": {
    "execution": {
     "iopub.execute_input": "2023-07-29T06:32:58.536284Z",
     "iopub.status.busy": "2023-07-29T06:32:58.536062Z",
     "iopub.status.idle": "2023-07-29T06:32:59.394208Z",
     "shell.execute_reply": "2023-07-29T06:32:59.393557Z"
    },
    "papermill": {
     "duration": 0.865162,
     "end_time": "2023-07-29T06:32:59.396229",
     "exception": false,
     "start_time": "2023-07-29T06:32:58.531067",
     "status": "completed"
    },
    "tags": []
   },
   "outputs": [
    {
     "name": "stderr",
     "output_type": "stream",
     "text": [
      "2023-07-29 06:32:59,309\tINFO worker.py:1364 -- Connecting to existing Ray cluster at address: 172.17.0.2:60386...\n"
     ]
    },
    {
     "name": "stderr",
     "output_type": "stream",
     "text": [
      "2023-07-29 06:32:59,324\tINFO worker.py:1544 -- Connected to Ray cluster. View the dashboard at \u001b[1m\u001b[32mhttp://127.0.0.1:8265 \u001b[39m\u001b[22m\n"
     ]
    },
    {
     "name": "stderr",
     "output_type": "stream",
     "text": [
      "/home/host_user/.local/lib/python3.8/site-packages/ray/runtime_context.py:27: RayDeprecationWarning: This API is deprecated and may be removed in future Ray releases. You could suppress this warning by setting env variable PYTHONWARNINGS=\"ignore::DeprecationWarning\"\n",
      "Use get_job_id() instead\n",
      "  \"job_id\": self.job_id,\n",
      "/home/host_user/.local/lib/python3.8/site-packages/ray/runtime_context.py:28: RayDeprecationWarning: This API is deprecated and may be removed in future Ray releases. You could suppress this warning by setting env variable PYTHONWARNINGS=\"ignore::DeprecationWarning\"\n",
      "Use get_node_id() instead\n",
      "  \"node_id\": self.node_id,\n"
     ]
    }
   ],
   "source": [
    "import itertools as it\n",
    "\n",
    "#\n",
    "import numpy as np\n",
    "import matplotlib.pyplot as plt\n",
    "\n",
    "#\n",
    "from composable_logs.tasks.task_opentelemetry_logging import get_task_context\n",
    "\n",
    "#\n",
    "from common.io import datalake_root\n",
    "\n",
    "ctx = get_task_context(P)"
   ]
  },
  {
   "cell_type": "markdown",
   "id": "d2f8b567",
   "metadata": {
    "papermill": {
     "duration": 0.004129,
     "end_time": "2023-07-29T06:32:59.404838",
     "exception": false,
     "start_time": "2023-07-29T06:32:59.400709",
     "status": "completed"
    },
    "tags": []
   },
   "source": [
    "## Load persisted onnx-model and evaluation data"
   ]
  },
  {
   "cell_type": "code",
   "execution_count": 6,
   "id": "e8a26dab",
   "metadata": {
    "execution": {
     "iopub.execute_input": "2023-07-29T06:32:59.414394Z",
     "iopub.status.busy": "2023-07-29T06:32:59.414133Z",
     "iopub.status.idle": "2023-07-29T06:32:59.418850Z",
     "shell.execute_reply": "2023-07-29T06:32:59.418122Z"
    },
    "papermill": {
     "duration": 0.011507,
     "end_time": "2023-07-29T06:32:59.420440",
     "exception": false,
     "start_time": "2023-07-29T06:32:59.408933",
     "status": "completed"
    },
    "tags": []
   },
   "outputs": [],
   "source": [
    "from common.io import read_onnx, get_onnx_inputs, get_onnx_outputs, read_numpy"
   ]
  },
  {
   "cell_type": "code",
   "execution_count": 7,
   "id": "b5b901c0",
   "metadata": {
    "execution": {
     "iopub.execute_input": "2023-07-29T06:32:59.430117Z",
     "iopub.status.busy": "2023-07-29T06:32:59.429895Z",
     "iopub.status.idle": "2023-07-29T06:32:59.438471Z",
     "shell.execute_reply": "2023-07-29T06:32:59.437934Z"
    },
    "lines_to_next_cell": 0,
    "papermill": {
     "duration": 0.015419,
     "end_time": "2023-07-29T06:32:59.440101",
     "exception": false,
     "start_time": "2023-07-29T06:32:59.424682",
     "status": "completed"
    },
    "tags": []
   },
   "outputs": [],
   "source": [
    "onnx_inference_session = read_onnx(\n",
    "    datalake_root(ctx)\n",
    "    / \"models\"\n",
    "    / f\"nr_train_images={ctx.parameters['task.nr_train_images']}\"\n",
    "    / \"model.onnx\"\n",
    ")"
   ]
  },
  {
   "cell_type": "markdown",
   "id": "d4c7aaaf",
   "metadata": {
    "papermill": {
     "duration": 0.004238,
     "end_time": "2023-07-29T06:32:59.448525",
     "exception": false,
     "start_time": "2023-07-29T06:32:59.444287",
     "status": "completed"
    },
    "tags": []
   },
   "source": [
    "### Record structure of inputs and outputs for ONNX model\n",
    "\n",
    "(this should likely be done in training notebook)"
   ]
  },
  {
   "cell_type": "code",
   "execution_count": 8,
   "id": "e5349d79",
   "metadata": {
    "execution": {
     "iopub.execute_input": "2023-07-29T06:32:59.458109Z",
     "iopub.status.busy": "2023-07-29T06:32:59.457889Z",
     "iopub.status.idle": "2023-07-29T06:32:59.464149Z",
     "shell.execute_reply": "2023-07-29T06:32:59.463541Z"
    },
    "papermill": {
     "duration": 0.013444,
     "end_time": "2023-07-29T06:32:59.466214",
     "exception": false,
     "start_time": "2023-07-29T06:32:59.452770",
     "status": "completed"
    },
    "tags": []
   },
   "outputs": [
    {
     "name": "stdout",
     "output_type": "stream",
     "text": [
      "{\n",
      "  \"inputs\": [\n",
      "    {\n",
      "      \"name\": \"float_input_8x8_image\",\n",
      "      \"shape\": [\n",
      "        null,\n",
      "        64\n",
      "      ],\n",
      "      \"type\": \"tensor(float)\"\n",
      "    }\n",
      "  ],\n",
      "  \"outputs\": [\n",
      "    {\n",
      "      \"name\": \"output_label\",\n",
      "      \"shape\": [\n",
      "        null\n",
      "      ],\n",
      "      \"type\": \"tensor(int64)\"\n",
      "    },\n",
      "    {\n",
      "      \"name\": \"output_probability\",\n",
      "      \"shape\": [],\n",
      "      \"type\": \"seq(map(int64,tensor(float)))\"\n",
      "    }\n",
      "  ]\n",
      "}\n"
     ]
    }
   ],
   "source": [
    "import json\n",
    "\n",
    "onnx_io = json.dumps(\n",
    "    {\n",
    "        \"inputs\": get_onnx_inputs(onnx_inference_session),\n",
    "        \"outputs\": get_onnx_outputs(onnx_inference_session),\n",
    "    },\n",
    "    indent=2,\n",
    ")\n",
    "\n",
    "\n",
    "ctx.log_artefact(\"onnx_io_structure.json\", onnx_io)\n",
    "print(onnx_io)"
   ]
  },
  {
   "cell_type": "markdown",
   "id": "f4fbdbdc",
   "metadata": {
    "papermill": {
     "duration": 0.004238,
     "end_time": "2023-07-29T06:32:59.474777",
     "exception": false,
     "start_time": "2023-07-29T06:32:59.470539",
     "status": "completed"
    },
    "tags": []
   },
   "source": [
    "### Evaluate model performance on evaluation data set"
   ]
  },
  {
   "cell_type": "code",
   "execution_count": 9,
   "id": "4ba8b33b",
   "metadata": {
    "execution": {
     "iopub.execute_input": "2023-07-29T06:32:59.498482Z",
     "iopub.status.busy": "2023-07-29T06:32:59.498206Z",
     "iopub.status.idle": "2023-07-29T06:32:59.503692Z",
     "shell.execute_reply": "2023-07-29T06:32:59.503118Z"
    },
    "papermill": {
     "duration": 0.019091,
     "end_time": "2023-07-29T06:32:59.505438",
     "exception": false,
     "start_time": "2023-07-29T06:32:59.486347",
     "status": "completed"
    },
    "tags": []
   },
   "outputs": [],
   "source": [
    "# load evaluation data\n",
    "X_test = read_numpy(datalake_root(ctx) / \"test-data\" / \"digits.numpy\")\n",
    "y_test = read_numpy(datalake_root(ctx) / \"test-data\" / \"labels.numpy\")"
   ]
  },
  {
   "cell_type": "code",
   "execution_count": 10,
   "id": "2c0f7551",
   "metadata": {
    "execution": {
     "iopub.execute_input": "2023-07-29T06:32:59.515964Z",
     "iopub.status.busy": "2023-07-29T06:32:59.515743Z",
     "iopub.status.idle": "2023-07-29T06:32:59.528997Z",
     "shell.execute_reply": "2023-07-29T06:32:59.528460Z"
    },
    "papermill": {
     "duration": 0.020434,
     "end_time": "2023-07-29T06:32:59.530724",
     "exception": false,
     "start_time": "2023-07-29T06:32:59.510290",
     "status": "completed"
    },
    "tags": []
   },
   "outputs": [],
   "source": [
    "def get_model_outputs(X, onnx_inference_session):\n",
    "    y_pred_labels, y_pred_map = onnx_inference_session.run(\n",
    "        [\"output_label\", \"output_probability\"],\n",
    "        {\"float_input_8x8_image\": X.astype(np.float32)},\n",
    "    )\n",
    "    y_pred_probs = np.array(\n",
    "        [[probabilities[digit] for digit in range(10)] for probabilities in y_pred_map]\n",
    "    )\n",
    "\n",
    "    assert y_pred_labels.shape == (X.shape[0],)\n",
    "    assert y_pred_probs.shape == (X.shape[0], 10)\n",
    "\n",
    "    return y_pred_labels, y_pred_probs\n",
    "\n",
    "\n",
    "# Note: as shown in the training notebook, the predicted labels and probabilities\n",
    "# computed below need not be compatible.\n",
    "y_pred_labels_test, y_pred_probs_test = get_model_outputs(\n",
    "    X_test, onnx_inference_session\n",
    ")"
   ]
  },
  {
   "cell_type": "markdown",
   "id": "5af0d3bd",
   "metadata": {
    "papermill": {
     "duration": 0.004427,
     "end_time": "2023-07-29T06:32:59.539636",
     "exception": false,
     "start_time": "2023-07-29T06:32:59.535209",
     "status": "completed"
    },
    "tags": []
   },
   "source": [
    "### Confusion matrix"
   ]
  },
  {
   "cell_type": "code",
   "execution_count": 11,
   "id": "86bbf590",
   "metadata": {
    "execution": {
     "iopub.execute_input": "2023-07-29T06:32:59.549958Z",
     "iopub.status.busy": "2023-07-29T06:32:59.549739Z",
     "iopub.status.idle": "2023-07-29T06:32:59.553605Z",
     "shell.execute_reply": "2023-07-29T06:32:59.553084Z"
    },
    "papermill": {
     "duration": 0.011184,
     "end_time": "2023-07-29T06:32:59.555281",
     "exception": false,
     "start_time": "2023-07-29T06:32:59.544097",
     "status": "completed"
    },
    "tags": []
   },
   "outputs": [],
   "source": [
    "# TODO"
   ]
  },
  {
   "cell_type": "markdown",
   "id": "39a7bf6a",
   "metadata": {
    "papermill": {
     "duration": 0.00438,
     "end_time": "2023-07-29T06:32:59.564116",
     "exception": false,
     "start_time": "2023-07-29T06:32:59.559736",
     "status": "completed"
    },
    "tags": []
   },
   "source": [
    "### Plot predicted probabilities for each classifier over all evaluation digit images"
   ]
  },
  {
   "cell_type": "code",
   "execution_count": 12,
   "id": "2fbcd1e2",
   "metadata": {
    "execution": {
     "iopub.execute_input": "2023-07-29T06:32:59.574470Z",
     "iopub.status.busy": "2023-07-29T06:32:59.574256Z",
     "iopub.status.idle": "2023-07-29T06:33:03.494165Z",
     "shell.execute_reply": "2023-07-29T06:33:03.493574Z"
    },
    "papermill": {
     "duration": 3.927356,
     "end_time": "2023-07-29T06:33:03.496026",
     "exception": false,
     "start_time": "2023-07-29T06:32:59.568670",
     "status": "completed"
    },
    "tags": []
   },
   "outputs": [
    {
     "data": {
      "image/png": "[encoded data removed]",
      "text/plain": [
       "<Figure size 1600x600 with 10 Axes>"
      ]
     },
     "metadata": {},
     "output_type": "display_data"
    }
   ],
   "source": [
    "def plot_per_digit_probabilities(y_pred_probs):\n",
    "    fig, axs = plt.subplots(nrows=2, ncols=5, figsize=(16, 6))\n",
    "\n",
    "    for (r, c), digit, ax in zip(\n",
    "        it.product(range(2), range(5)), range(10), axs.reshape(-1)\n",
    "    ):\n",
    "        ax.hist(y_pred_probs_test[:, digit], bins=20)\n",
    "\n",
    "        ax.set_title(f\"Digit {digit}\")\n",
    "        if r == 1 and c == 2:\n",
    "            ax.set_xlabel(\"probability\", fontsize=16)\n",
    "\n",
    "        if c == 0:\n",
    "            ax.set_ylabel(\"counts\", fontsize=16)\n",
    "        ax.set_yscale(\"log\")\n",
    "\n",
    "    fig.tight_layout()\n",
    "    fig.suptitle(\n",
    "        f\"Distributions of prediction probabilities for each digit \"\n",
    "        f\"(on evaluation data, n={y_pred_probs.shape[0]})\",\n",
    "        fontsize=20,\n",
    "    )\n",
    "    fig.tight_layout()\n",
    "    fig.show()\n",
    "\n",
    "    return fig\n",
    "\n",
    "\n",
    "fig = plot_per_digit_probabilities(y_pred_probs_test)"
   ]
  },
  {
   "cell_type": "markdown",
   "id": "90d5ad63",
   "metadata": {
    "papermill": {
     "duration": 0.005267,
     "end_time": "2023-07-29T06:33:03.506938",
     "exception": false,
     "start_time": "2023-07-29T06:33:03.501671",
     "status": "completed"
    },
    "tags": []
   },
   "source": [
    "From the above distributions we see that most digits have clear separation between\n",
    "high and lower probabilities. Morover, in each case there is roughly an order of\n",
    "magnitude more of digits with low probabilities. This is compatible with digits\n",
    "being roughly evenly distributed in the data."
   ]
  },
  {
   "cell_type": "code",
   "execution_count": 13,
   "id": "f5248258",
   "metadata": {
    "execution": {
     "iopub.execute_input": "2023-07-29T06:33:03.519688Z",
     "iopub.status.busy": "2023-07-29T06:33:03.519216Z",
     "iopub.status.idle": "2023-07-29T06:33:04.135554Z",
     "shell.execute_reply": "2023-07-29T06:33:04.134908Z"
    },
    "papermill": {
     "duration": 0.625126,
     "end_time": "2023-07-29T06:33:04.137756",
     "exception": false,
     "start_time": "2023-07-29T06:33:03.512630",
     "status": "completed"
    },
    "tags": []
   },
   "outputs": [],
   "source": [
    "ctx.log_figure(\"per-digit-probabilities.png\", fig)"
   ]
  },
  {
   "cell_type": "markdown",
   "id": "745e5940",
   "metadata": {
    "papermill": {
     "duration": 0.005375,
     "end_time": "2023-07-29T06:33:04.149007",
     "exception": false,
     "start_time": "2023-07-29T06:33:04.143632",
     "status": "completed"
    },
    "tags": []
   },
   "source": [
    "### Plot ROC curves for individual one-vs-rest classifiers"
   ]
  },
  {
   "cell_type": "code",
   "execution_count": 14,
   "id": "088012e5",
   "metadata": {
    "execution": {
     "iopub.execute_input": "2023-07-29T06:33:04.160752Z",
     "iopub.status.busy": "2023-07-29T06:33:04.160494Z",
     "iopub.status.idle": "2023-07-29T06:33:04.475277Z",
     "shell.execute_reply": "2023-07-29T06:33:04.474577Z"
    },
    "papermill": {
     "duration": 0.32323,
     "end_time": "2023-07-29T06:33:04.477508",
     "exception": false,
     "start_time": "2023-07-29T06:33:04.154278",
     "status": "completed"
    },
    "tags": []
   },
   "outputs": [],
   "source": [
    "from sklearn import metrics"
   ]
  },
  {
   "cell_type": "code",
   "execution_count": 15,
   "id": "6b1262a2",
   "metadata": {
    "execution": {
     "iopub.execute_input": "2023-07-29T06:33:04.490043Z",
     "iopub.status.busy": "2023-07-29T06:33:04.489780Z",
     "iopub.status.idle": "2023-07-29T06:33:06.369336Z",
     "shell.execute_reply": "2023-07-29T06:33:06.368546Z"
    },
    "papermill": {
     "duration": 1.888875,
     "end_time": "2023-07-29T06:33:06.372218",
     "exception": false,
     "start_time": "2023-07-29T06:33:04.483343",
     "status": "completed"
    },
    "tags": []
   },
   "outputs": [
    {
     "data": {
      "image/png": "[encoded data removed]",
      "text/plain": [
       "<Figure size 1600x800 with 10 Axes>"
      ]
     },
     "metadata": {},
     "output_type": "display_data"
    }
   ],
   "source": [
    "def plot_roc_curves(y, y_pred_probs):\n",
    "    # based on example code\n",
    "    # https://scikit-learn.org/stable/auto_examples/model_selection/plot_roc.html\n",
    "\n",
    "    fig, axs = plt.subplots(nrows=2, ncols=5, figsize=(16, 8))\n",
    "\n",
    "    roc_auc_dict = {}\n",
    "\n",
    "    for (r, c), digit, ax in zip(\n",
    "        it.product(range(2), range(5)), range(10), axs.reshape(-1)\n",
    "    ):\n",
    "        fpr, tpr, _ = metrics.roc_curve(y == digit, y_pred_probs[:, digit])\n",
    "        auc = metrics.auc(fpr, tpr)\n",
    "        roc_auc_dict[str(digit)] = auc\n",
    "\n",
    "        ax.plot(fpr, tpr, label=f\"ROC AUC={round(auc, 3)}\")\n",
    "\n",
    "        ax.set_title(f\"\\nDigit {digit}\", fontsize=16)\n",
    "        if r == 1:\n",
    "            ax.set_xlabel(\"FPR\", fontsize=18)\n",
    "\n",
    "        if c == 0:\n",
    "            ax.set_ylabel(\"TPR\", fontsize=18)\n",
    "\n",
    "        ax.set_xlim([-0.05, 1.05])\n",
    "        ax.set_ylim([-0.05, 1.05])\n",
    "        ax.legend(loc=\"lower right\", frameon=False, fontsize=14)\n",
    "\n",
    "    fig.tight_layout()\n",
    "    fig.suptitle(\n",
    "        f\"ROC plots for one-vs-rest performances \"\n",
    "        f\"(on evaluation data, n={y_pred_probs_test.shape[1]}\",\n",
    "        fontsize=22,\n",
    "    )\n",
    "    fig.tight_layout()\n",
    "    fig.show()\n",
    "\n",
    "    return roc_auc_dict, fig\n",
    "\n",
    "\n",
    "roc_auc_dict, fig = plot_roc_curves(y_test, y_pred_probs_test)"
   ]
  },
  {
   "cell_type": "code",
   "execution_count": 16,
   "id": "2c39c620",
   "metadata": {
    "execution": {
     "iopub.execute_input": "2023-07-29T06:33:06.386662Z",
     "iopub.status.busy": "2023-07-29T06:33:06.386388Z",
     "iopub.status.idle": "2023-07-29T06:33:06.739301Z",
     "shell.execute_reply": "2023-07-29T06:33:06.735074Z"
    },
    "papermill": {
     "duration": 0.362564,
     "end_time": "2023-07-29T06:33:06.741380",
     "exception": false,
     "start_time": "2023-07-29T06:33:06.378816",
     "status": "completed"
    },
    "tags": []
   },
   "outputs": [],
   "source": [
    "ctx.log_figure(\"per-digit-roc-curves.png\", fig)"
   ]
  },
  {
   "cell_type": "code",
   "execution_count": 17,
   "id": "667771de",
   "metadata": {
    "execution": {
     "iopub.execute_input": "2023-07-29T06:33:06.755700Z",
     "iopub.status.busy": "2023-07-29T06:33:06.755446Z",
     "iopub.status.idle": "2023-07-29T06:33:06.764189Z",
     "shell.execute_reply": "2023-07-29T06:33:06.763619Z"
    },
    "papermill": {
     "duration": 0.017763,
     "end_time": "2023-07-29T06:33:06.765778",
     "exception": false,
     "start_time": "2023-07-29T06:33:06.748015",
     "status": "completed"
    },
    "tags": []
   },
   "outputs": [
    {
     "data": {
      "text/plain": [
       "{'0': 1.0,\n",
       " '1': 0.9988378631677601,\n",
       " '2': 1.0,\n",
       " '3': 0.9998125585754452,\n",
       " '4': 0.9995427526291724,\n",
       " '5': 0.999025304592315,\n",
       " '6': 0.999961896052431,\n",
       " '7': 0.9998856881572931,\n",
       " '8': 0.993655422446406,\n",
       " '9': 0.9994665447340344}"
      ]
     },
     "execution_count": 17,
     "metadata": {},
     "output_type": "execute_result"
    }
   ],
   "source": [
    "roc_auc_dict"
   ]
  },
  {
   "cell_type": "code",
   "execution_count": 18,
   "id": "134a5617",
   "metadata": {
    "execution": {
     "iopub.execute_input": "2023-07-29T06:33:06.784524Z",
     "iopub.status.busy": "2023-07-29T06:33:06.783016Z",
     "iopub.status.idle": "2023-07-29T06:33:06.792443Z",
     "shell.execute_reply": "2023-07-29T06:33:06.791634Z"
    },
    "papermill": {
     "duration": 0.021904,
     "end_time": "2023-07-29T06:33:06.794230",
     "exception": false,
     "start_time": "2023-07-29T06:33:06.772326",
     "status": "completed"
    },
    "tags": []
   },
   "outputs": [
    {
     "name": "stdout",
     "output_type": "stream",
     "text": [
      " - Logging roc_auc_per_digit (json) : {'0': 1.0, '1': 0.9988378631677601, '2': 1.0, '3': 0.9998125585754452, '4': 0.9995427526291724, '5': 0.999025304592315, '6': 0.999961896052431, '7': 0.9998856881572931, '8': 0.993655422446406, '9': 0.9994665447340344}\n"
     ]
    }
   ],
   "source": [
    "ctx.log_value(\"roc_auc_per_digit\", roc_auc_dict)"
   ]
  },
  {
   "cell_type": "markdown",
   "id": "b4be0279",
   "metadata": {
    "papermill": {
     "duration": 0.006483,
     "end_time": "2023-07-29T06:33:06.808138",
     "exception": false,
     "start_time": "2023-07-29T06:33:06.801655",
     "status": "completed"
    },
    "tags": []
   },
   "source": [
    "### Compute and log mean ROC AUC score averaged over all digits"
   ]
  },
  {
   "cell_type": "code",
   "execution_count": 19,
   "id": "3b9e0621",
   "metadata": {
    "execution": {
     "iopub.execute_input": "2023-07-29T06:33:06.822808Z",
     "iopub.status.busy": "2023-07-29T06:33:06.822490Z",
     "iopub.status.idle": "2023-07-29T06:33:06.835679Z",
     "shell.execute_reply": "2023-07-29T06:33:06.835098Z"
    },
    "papermill": {
     "duration": 0.022983,
     "end_time": "2023-07-29T06:33:06.837527",
     "exception": false,
     "start_time": "2023-07-29T06:33:06.814544",
     "status": "completed"
    },
    "tags": []
   },
   "outputs": [
    {
     "name": "stdout",
     "output_type": "stream",
     "text": [
      " - Logging roc_auc_class_mean (float) : 0.9990188030354856\n"
     ]
    }
   ],
   "source": [
    "roc_auc_macro = np.mean(list(roc_auc_dict.values()))\n",
    "\n",
    "ctx.log_float(\"roc_auc_class_mean\", roc_auc_macro)\n",
    "\n",
    "# assert that the same value can be computed directly using sklearn\n",
    "assert roc_auc_macro == metrics.roc_auc_score(\n",
    "    y_test, y_pred_probs_test, average=\"macro\", multi_class=\"ovr\"\n",
    ")"
   ]
  },
  {
   "cell_type": "code",
   "execution_count": 20,
   "id": "ab4bc93c",
   "metadata": {
    "execution": {
     "iopub.execute_input": "2023-07-29T06:33:06.851806Z",
     "iopub.status.busy": "2023-07-29T06:33:06.851578Z",
     "iopub.status.idle": "2023-07-29T06:33:06.855505Z",
     "shell.execute_reply": "2023-07-29T06:33:06.854917Z"
    },
    "lines_to_next_cell": 0,
    "papermill": {
     "duration": 0.013208,
     "end_time": "2023-07-29T06:33:06.857244",
     "exception": false,
     "start_time": "2023-07-29T06:33:06.844036",
     "status": "completed"
    },
    "tags": []
   },
   "outputs": [],
   "source": [
    "# ---"
   ]
  },
  {
   "cell_type": "code",
   "execution_count": null,
   "id": "19c49774",
   "metadata": {
    "papermill": {
     "duration": 0.006944,
     "end_time": "2023-07-29T06:33:06.870629",
     "exception": false,
     "start_time": "2023-07-29T06:33:06.863685",
     "status": "completed"
    },
    "tags": []
   },
   "outputs": [],
   "source": []
  }
 ],
 "metadata": {
  "jupytext": {
   "cell_metadata_filter": "tags,-all",
   "main_language": "python",
   "notebook_metadata_filter": "-all"
  },
  "language_info": {
   "codemirror_mode": {
    "name": "ipython",
    "version": 3
   },
   "file_extension": ".py",
   "mimetype": "text/x-python",
   "name": "python",
   "nbconvert_exporter": "python",
   "pygments_lexer": "ipython3",
   "version": "3.8.10"
  },
  "papermill": {
   "default_parameters": {},
   "duration": 11.576549,
   "end_time": "2023-07-29T06:33:08.408580",
   "environment_variables": {},
   "exception": null,
   "input_path": "/tmp/temp-notebook-vk25wnn7.ipynb",
   "output_path": "/tmp/temp-notebook-vk25wnn7.ipynb",
   "parameters": {
    "P": {
     "_parameters_actor_name": "parameter_for_task_0x5f4277ab3d901870",
     "task.nr_train_images": 800
    }
   },
   "start_time": "2023-07-29T06:32:56.832031",
   "version": "2.4.0"
  }
 },
 "nbformat": 4,
 "nbformat_minor": 5
}