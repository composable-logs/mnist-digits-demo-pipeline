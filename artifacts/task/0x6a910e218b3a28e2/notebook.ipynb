{
 "cells": [
  {
   "cell_type": "markdown",
   "id": "714c854a",
   "metadata": {
    "papermill": {
     "duration": 0.005357,
     "end_time": "2023-07-23T06:34:25.826474",
     "exception": false,
     "start_time": "2023-07-23T06:34:25.821117",
     "status": "completed"
    },
    "tags": []
   },
   "source": [
    "# Benchmark model\n",
    "\n",
    "The purpose of this notebook is to benchmark persisted onnx-model (trained in the\n",
    "previous step) against evaluation set."
   ]
  },
  {
   "cell_type": "markdown",
   "id": "32403d23",
   "metadata": {
    "papermill": {
     "duration": 0.00414,
     "end_time": "2023-07-23T06:34:25.837574",
     "exception": false,
     "start_time": "2023-07-23T06:34:25.833434",
     "status": "completed"
    },
    "tags": []
   },
   "source": [
    "### Determine run parameters"
   ]
  },
  {
   "cell_type": "code",
   "execution_count": 1,
   "id": "854bbddf",
   "metadata": {
    "execution": {
     "iopub.execute_input": "2023-07-23T06:34:25.852736Z",
     "iopub.status.busy": "2023-07-23T06:34:25.852461Z",
     "iopub.status.idle": "2023-07-23T06:34:25.861512Z",
     "shell.execute_reply": "2023-07-23T06:34:25.860891Z"
    },
    "lines_to_next_cell": 0,
    "papermill": {
     "duration": 0.021791,
     "end_time": "2023-07-23T06:34:25.863437",
     "exception": false,
     "start_time": "2023-07-23T06:34:25.841646",
     "status": "completed"
    },
    "tags": []
   },
   "outputs": [],
   "source": [
    "# ----------------- Parameters for interactive development --------------\n",
    "P = {\n",
    "    \"workflow.data_lake_root\": \"/pipeline-outputs/data-lake\",\n",
    "    \"task.nr_train_images\": 600,\n",
    "}"
   ]
  },
  {
   "cell_type": "code",
   "execution_count": 2,
   "id": "905d40cf",
   "metadata": {
    "execution": {
     "iopub.execute_input": "2023-07-23T06:34:25.873079Z",
     "iopub.status.busy": "2023-07-23T06:34:25.872766Z",
     "iopub.status.idle": "2023-07-23T06:34:25.876919Z",
     "shell.execute_reply": "2023-07-23T06:34:25.875945Z"
    },
    "lines_to_next_cell": 0,
    "papermill": {
     "duration": 0.010895,
     "end_time": "2023-07-23T06:34:25.878436",
     "exception": false,
     "start_time": "2023-07-23T06:34:25.867541",
     "status": "completed"
    },
    "tags": [
     "parameters"
    ]
   },
   "outputs": [],
   "source": [
    "# - During automated runs parameters will be injected in the below cell -"
   ]
  },
  {
   "cell_type": "code",
   "execution_count": 3,
   "id": "6a6f9173",
   "metadata": {
    "execution": {
     "iopub.execute_input": "2023-07-23T06:34:25.887805Z",
     "iopub.status.busy": "2023-07-23T06:34:25.887558Z",
     "iopub.status.idle": "2023-07-23T06:34:25.891898Z",
     "shell.execute_reply": "2023-07-23T06:34:25.891301Z"
    },
    "papermill": {
     "duration": 0.011206,
     "end_time": "2023-07-23T06:34:25.893633",
     "exception": false,
     "start_time": "2023-07-23T06:34:25.882427",
     "status": "completed"
    },
    "tags": [
     "injected-parameters"
    ]
   },
   "outputs": [],
   "source": [
    "# Parameters\n",
    "P = {\n",
    "    \"task.nr_train_images\": 1200,\n",
    "    \"_parameters_actor_name\": \"parameter_for_task_0x6a910e218b3a28e2\",\n",
    "}\n"
   ]
  },
  {
   "cell_type": "code",
   "execution_count": 4,
   "id": "ed83d673",
   "metadata": {
    "execution": {
     "iopub.execute_input": "2023-07-23T06:34:25.903110Z",
     "iopub.status.busy": "2023-07-23T06:34:25.902844Z",
     "iopub.status.idle": "2023-07-23T06:34:25.906540Z",
     "shell.execute_reply": "2023-07-23T06:34:25.906020Z"
    },
    "lines_to_next_cell": 0,
    "papermill": {
     "duration": 0.010516,
     "end_time": "2023-07-23T06:34:25.908237",
     "exception": false,
     "start_time": "2023-07-23T06:34:25.897721",
     "status": "completed"
    },
    "tags": []
   },
   "outputs": [],
   "source": [
    "# -----------------------------------------------------------------------"
   ]
  },
  {
   "cell_type": "markdown",
   "id": "6f2098ae",
   "metadata": {
    "papermill": {
     "duration": 0.004135,
     "end_time": "2023-07-23T06:34:25.916396",
     "exception": false,
     "start_time": "2023-07-23T06:34:25.912261",
     "status": "completed"
    },
    "tags": []
   },
   "source": [
    "---"
   ]
  },
  {
   "cell_type": "markdown",
   "id": "3392a180",
   "metadata": {
    "lines_to_next_cell": 2,
    "papermill": {
     "duration": 0.003793,
     "end_time": "2023-07-23T06:34:25.924147",
     "exception": false,
     "start_time": "2023-07-23T06:34:25.920354",
     "status": "completed"
    },
    "tags": []
   },
   "source": [
    "### Notebook code"
   ]
  },
  {
   "cell_type": "code",
   "execution_count": 5,
   "id": "a4f0a809",
   "metadata": {
    "execution": {
     "iopub.execute_input": "2023-07-23T06:34:25.934503Z",
     "iopub.status.busy": "2023-07-23T06:34:25.934049Z",
     "iopub.status.idle": "2023-07-23T06:34:26.860361Z",
     "shell.execute_reply": "2023-07-23T06:34:26.859672Z"
    },
    "papermill": {
     "duration": 0.933531,
     "end_time": "2023-07-23T06:34:26.862139",
     "exception": false,
     "start_time": "2023-07-23T06:34:25.928608",
     "status": "completed"
    },
    "tags": []
   },
   "outputs": [
    {
     "name": "stderr",
     "output_type": "stream",
     "text": [
      "2023-07-23 06:34:26,759\tINFO worker.py:1364 -- Connecting to existing Ray cluster at address: 172.17.0.2:39285...\n"
     ]
    },
    {
     "name": "stderr",
     "output_type": "stream",
     "text": [
      "2023-07-23 06:34:26,773\tINFO worker.py:1544 -- Connected to Ray cluster. View the dashboard at \u001b[1m\u001b[32mhttp://127.0.0.1:8265 \u001b[39m\u001b[22m\n"
     ]
    },
    {
     "name": "stderr",
     "output_type": "stream",
     "text": [
      "/home/host_user/.local/lib/python3.8/site-packages/ray/runtime_context.py:27: RayDeprecationWarning: This API is deprecated and may be removed in future Ray releases. You could suppress this warning by setting env variable PYTHONWARNINGS=\"ignore::DeprecationWarning\"\n",
      "Use get_job_id() instead\n",
      "  \"job_id\": self.job_id,\n",
      "/home/host_user/.local/lib/python3.8/site-packages/ray/runtime_context.py:28: RayDeprecationWarning: This API is deprecated and may be removed in future Ray releases. You could suppress this warning by setting env variable PYTHONWARNINGS=\"ignore::DeprecationWarning\"\n",
      "Use get_node_id() instead\n",
      "  \"node_id\": self.node_id,\n"
     ]
    }
   ],
   "source": [
    "import itertools as it\n",
    "\n",
    "#\n",
    "import numpy as np\n",
    "import matplotlib.pyplot as plt\n",
    "\n",
    "#\n",
    "from composable_logs.tasks.task_opentelemetry_logging import get_task_context\n",
    "\n",
    "#\n",
    "from common.io import datalake_root\n",
    "\n",
    "ctx = get_task_context(P)"
   ]
  },
  {
   "cell_type": "markdown",
   "id": "43e06409",
   "metadata": {
    "papermill": {
     "duration": 0.005463,
     "end_time": "2023-07-23T06:34:26.880080",
     "exception": false,
     "start_time": "2023-07-23T06:34:26.874617",
     "status": "completed"
    },
    "tags": []
   },
   "source": [
    "## Load persisted onnx-model and evaluation data"
   ]
  },
  {
   "cell_type": "code",
   "execution_count": 6,
   "id": "8a052f76",
   "metadata": {
    "execution": {
     "iopub.execute_input": "2023-07-23T06:34:26.891290Z",
     "iopub.status.busy": "2023-07-23T06:34:26.890988Z",
     "iopub.status.idle": "2023-07-23T06:34:26.895662Z",
     "shell.execute_reply": "2023-07-23T06:34:26.894842Z"
    },
    "papermill": {
     "duration": 0.012969,
     "end_time": "2023-07-23T06:34:26.897654",
     "exception": false,
     "start_time": "2023-07-23T06:34:26.884685",
     "status": "completed"
    },
    "tags": []
   },
   "outputs": [],
   "source": [
    "from common.io import read_onnx, get_onnx_inputs, get_onnx_outputs, read_numpy"
   ]
  },
  {
   "cell_type": "code",
   "execution_count": 7,
   "id": "4fc76072",
   "metadata": {
    "execution": {
     "iopub.execute_input": "2023-07-23T06:34:26.908510Z",
     "iopub.status.busy": "2023-07-23T06:34:26.908138Z",
     "iopub.status.idle": "2023-07-23T06:34:26.917983Z",
     "shell.execute_reply": "2023-07-23T06:34:26.917393Z"
    },
    "lines_to_next_cell": 0,
    "papermill": {
     "duration": 0.017654,
     "end_time": "2023-07-23T06:34:26.919964",
     "exception": false,
     "start_time": "2023-07-23T06:34:26.902310",
     "status": "completed"
    },
    "tags": []
   },
   "outputs": [],
   "source": [
    "onnx_inference_session = read_onnx(\n",
    "    datalake_root(ctx)\n",
    "    / \"models\"\n",
    "    / f\"nr_train_images={ctx.parameters['task.nr_train_images']}\"\n",
    "    / \"model.onnx\"\n",
    ")"
   ]
  },
  {
   "cell_type": "markdown",
   "id": "73411e07",
   "metadata": {
    "papermill": {
     "duration": 0.004334,
     "end_time": "2023-07-23T06:34:26.928627",
     "exception": false,
     "start_time": "2023-07-23T06:34:26.924293",
     "status": "completed"
    },
    "tags": []
   },
   "source": [
    "### Record structure of inputs and outputs for ONNX model\n",
    "\n",
    "(this should likely be done in training notebook)"
   ]
  },
  {
   "cell_type": "code",
   "execution_count": 8,
   "id": "6412c2f5",
   "metadata": {
    "execution": {
     "iopub.execute_input": "2023-07-23T06:34:26.938762Z",
     "iopub.status.busy": "2023-07-23T06:34:26.938479Z",
     "iopub.status.idle": "2023-07-23T06:34:26.945271Z",
     "shell.execute_reply": "2023-07-23T06:34:26.944698Z"
    },
    "papermill": {
     "duration": 0.014086,
     "end_time": "2023-07-23T06:34:26.947108",
     "exception": false,
     "start_time": "2023-07-23T06:34:26.933022",
     "status": "completed"
    },
    "tags": []
   },
   "outputs": [
    {
     "name": "stdout",
     "output_type": "stream",
     "text": [
      "{\n",
      "  \"inputs\": [\n",
      "    {\n",
      "      \"name\": \"float_input_8x8_image\",\n",
      "      \"shape\": [\n",
      "        null,\n",
      "        64\n",
      "      ],\n",
      "      \"type\": \"tensor(float)\"\n",
      "    }\n",
      "  ],\n",
      "  \"outputs\": [\n",
      "    {\n",
      "      \"name\": \"output_label\",\n",
      "      \"shape\": [\n",
      "        null\n",
      "      ],\n",
      "      \"type\": \"tensor(int64)\"\n",
      "    },\n",
      "    {\n",
      "      \"name\": \"output_probability\",\n",
      "      \"shape\": [],\n",
      "      \"type\": \"seq(map(int64,tensor(float)))\"\n",
      "    }\n",
      "  ]\n",
      "}\n"
     ]
    }
   ],
   "source": [
    "import json\n",
    "\n",
    "onnx_io = json.dumps(\n",
    "    {\n",
    "        \"inputs\": get_onnx_inputs(onnx_inference_session),\n",
    "        \"outputs\": get_onnx_outputs(onnx_inference_session),\n",
    "    },\n",
    "    indent=2,\n",
    ")\n",
    "\n",
    "\n",
    "ctx.log_artefact(\"onnx_io_structure.json\", onnx_io)\n",
    "print(onnx_io)"
   ]
  },
  {
   "cell_type": "markdown",
   "id": "8030e7b4",
   "metadata": {
    "papermill": {
     "duration": 0.004287,
     "end_time": "2023-07-23T06:34:26.955841",
     "exception": false,
     "start_time": "2023-07-23T06:34:26.951554",
     "status": "completed"
    },
    "tags": []
   },
   "source": [
    "### Evaluate model performance on evaluation data set"
   ]
  },
  {
   "cell_type": "code",
   "execution_count": 9,
   "id": "634ce526",
   "metadata": {
    "execution": {
     "iopub.execute_input": "2023-07-23T06:34:26.966432Z",
     "iopub.status.busy": "2023-07-23T06:34:26.966162Z",
     "iopub.status.idle": "2023-07-23T06:34:26.980387Z",
     "shell.execute_reply": "2023-07-23T06:34:26.979802Z"
    },
    "papermill": {
     "duration": 0.021909,
     "end_time": "2023-07-23T06:34:26.982380",
     "exception": false,
     "start_time": "2023-07-23T06:34:26.960471",
     "status": "completed"
    },
    "tags": []
   },
   "outputs": [],
   "source": [
    "# load evaluation data\n",
    "X_test = read_numpy(datalake_root(ctx) / \"test-data\" / \"digits.numpy\")\n",
    "y_test = read_numpy(datalake_root(ctx) / \"test-data\" / \"labels.numpy\")"
   ]
  },
  {
   "cell_type": "code",
   "execution_count": 10,
   "id": "007ada52",
   "metadata": {
    "execution": {
     "iopub.execute_input": "2023-07-23T06:34:26.993358Z",
     "iopub.status.busy": "2023-07-23T06:34:26.993088Z",
     "iopub.status.idle": "2023-07-23T06:34:27.009001Z",
     "shell.execute_reply": "2023-07-23T06:34:27.008333Z"
    },
    "papermill": {
     "duration": 0.023699,
     "end_time": "2023-07-23T06:34:27.010929",
     "exception": false,
     "start_time": "2023-07-23T06:34:26.987230",
     "status": "completed"
    },
    "tags": []
   },
   "outputs": [],
   "source": [
    "def get_model_outputs(X, onnx_inference_session):\n",
    "    y_pred_labels, y_pred_map = onnx_inference_session.run(\n",
    "        [\"output_label\", \"output_probability\"],\n",
    "        {\"float_input_8x8_image\": X.astype(np.float32)},\n",
    "    )\n",
    "    y_pred_probs = np.array(\n",
    "        [[probabilities[digit] for digit in range(10)] for probabilities in y_pred_map]\n",
    "    )\n",
    "\n",
    "    assert y_pred_labels.shape == (X.shape[0],)\n",
    "    assert y_pred_probs.shape == (X.shape[0], 10)\n",
    "\n",
    "    return y_pred_labels, y_pred_probs\n",
    "\n",
    "\n",
    "# Note: as shown in the training notebook, the predicted labels and probabilities\n",
    "# computed below need not be compatible.\n",
    "y_pred_labels_test, y_pred_probs_test = get_model_outputs(\n",
    "    X_test, onnx_inference_session\n",
    ")"
   ]
  },
  {
   "cell_type": "markdown",
   "id": "e00ffd8e",
   "metadata": {
    "papermill": {
     "duration": 0.004519,
     "end_time": "2023-07-23T06:34:27.019958",
     "exception": false,
     "start_time": "2023-07-23T06:34:27.015439",
     "status": "completed"
    },
    "tags": []
   },
   "source": [
    "### Confusion matrix"
   ]
  },
  {
   "cell_type": "code",
   "execution_count": 11,
   "id": "502bbc1e",
   "metadata": {
    "execution": {
     "iopub.execute_input": "2023-07-23T06:34:27.030574Z",
     "iopub.status.busy": "2023-07-23T06:34:27.030302Z",
     "iopub.status.idle": "2023-07-23T06:34:27.034855Z",
     "shell.execute_reply": "2023-07-23T06:34:27.034245Z"
    },
    "papermill": {
     "duration": 0.012267,
     "end_time": "2023-07-23T06:34:27.036680",
     "exception": false,
     "start_time": "2023-07-23T06:34:27.024413",
     "status": "completed"
    },
    "tags": []
   },
   "outputs": [],
   "source": [
    "# TODO"
   ]
  },
  {
   "cell_type": "markdown",
   "id": "43039131",
   "metadata": {
    "papermill": {
     "duration": 0.004397,
     "end_time": "2023-07-23T06:34:27.045667",
     "exception": false,
     "start_time": "2023-07-23T06:34:27.041270",
     "status": "completed"
    },
    "tags": []
   },
   "source": [
    "### Plot predicted probabilities for each classifier over all evaluation digit images"
   ]
  },
  {
   "cell_type": "code",
   "execution_count": 12,
   "id": "cb977321",
   "metadata": {
    "execution": {
     "iopub.execute_input": "2023-07-23T06:34:27.056307Z",
     "iopub.status.busy": "2023-07-23T06:34:27.056001Z",
     "iopub.status.idle": "2023-07-23T06:34:30.667743Z",
     "shell.execute_reply": "2023-07-23T06:34:30.665701Z"
    },
    "papermill": {
     "duration": 3.619393,
     "end_time": "2023-07-23T06:34:30.669451",
     "exception": false,
     "start_time": "2023-07-23T06:34:27.050058",
     "status": "completed"
    },
    "tags": []
   },
   "outputs": [
    {
     "data": {
      "image/png": "[encoded data removed]",
      "text/plain": [
       "<Figure size 1600x600 with 10 Axes>"
      ]
     },
     "metadata": {},
     "output_type": "display_data"
    }
   ],
   "source": [
    "def plot_per_digit_probabilities(y_pred_probs):\n",
    "    fig, axs = plt.subplots(nrows=2, ncols=5, figsize=(16, 6))\n",
    "\n",
    "    for (r, c), digit, ax in zip(\n",
    "        it.product(range(2), range(5)), range(10), axs.reshape(-1)\n",
    "    ):\n",
    "        ax.hist(y_pred_probs_test[:, digit], bins=20)\n",
    "\n",
    "        ax.set_title(f\"Digit {digit}\")\n",
    "        if r == 1 and c == 2:\n",
    "            ax.set_xlabel(\"probability\", fontsize=16)\n",
    "\n",
    "        if c == 0:\n",
    "            ax.set_ylabel(\"counts\", fontsize=16)\n",
    "        ax.set_yscale(\"log\")\n",
    "\n",
    "    fig.tight_layout()\n",
    "    fig.suptitle(\n",
    "        f\"Distributions of prediction probabilities for each digit \"\n",
    "        f\"(on evaluation data, n={y_pred_probs.shape[0]})\",\n",
    "        fontsize=20,\n",
    "    )\n",
    "    fig.tight_layout()\n",
    "    fig.show()\n",
    "\n",
    "    return fig\n",
    "\n",
    "\n",
    "fig = plot_per_digit_probabilities(y_pred_probs_test)"
   ]
  },
  {
   "cell_type": "markdown",
   "id": "5eda1781",
   "metadata": {
    "papermill": {
     "duration": 0.005627,
     "end_time": "2023-07-23T06:34:30.680539",
     "exception": false,
     "start_time": "2023-07-23T06:34:30.674912",
     "status": "completed"
    },
    "tags": []
   },
   "source": [
    "From the above distributions we see that most digits have clear separation between\n",
    "high and lower probabilities. Morover, in each case there is roughly an order of\n",
    "magnitude more of digits with low probabilities. This is compatible with digits\n",
    "being roughly evenly distributed in the data."
   ]
  },
  {
   "cell_type": "code",
   "execution_count": 13,
   "id": "584313f6",
   "metadata": {
    "execution": {
     "iopub.execute_input": "2023-07-23T06:34:30.692382Z",
     "iopub.status.busy": "2023-07-23T06:34:30.692105Z",
     "iopub.status.idle": "2023-07-23T06:34:31.606433Z",
     "shell.execute_reply": "2023-07-23T06:34:31.605842Z"
    },
    "papermill": {
     "duration": 0.922905,
     "end_time": "2023-07-23T06:34:31.608584",
     "exception": false,
     "start_time": "2023-07-23T06:34:30.685679",
     "status": "completed"
    },
    "tags": []
   },
   "outputs": [],
   "source": [
    "ctx.log_figure(\"per-digit-probabilities.png\", fig)"
   ]
  },
  {
   "cell_type": "markdown",
   "id": "7197eaa9",
   "metadata": {
    "papermill": {
     "duration": 0.005095,
     "end_time": "2023-07-23T06:34:31.619371",
     "exception": false,
     "start_time": "2023-07-23T06:34:31.614276",
     "status": "completed"
    },
    "tags": []
   },
   "source": [
    "### Plot ROC curves for individual one-vs-rest classifiers"
   ]
  },
  {
   "cell_type": "code",
   "execution_count": 14,
   "id": "62585d5c",
   "metadata": {
    "execution": {
     "iopub.execute_input": "2023-07-23T06:34:31.631452Z",
     "iopub.status.busy": "2023-07-23T06:34:31.631177Z",
     "iopub.status.idle": "2023-07-23T06:34:31.942166Z",
     "shell.execute_reply": "2023-07-23T06:34:31.941554Z"
    },
    "papermill": {
     "duration": 0.320652,
     "end_time": "2023-07-23T06:34:31.945193",
     "exception": false,
     "start_time": "2023-07-23T06:34:31.624541",
     "status": "completed"
    },
    "tags": []
   },
   "outputs": [],
   "source": [
    "from sklearn import metrics"
   ]
  },
  {
   "cell_type": "code",
   "execution_count": 15,
   "id": "3103ba59",
   "metadata": {
    "execution": {
     "iopub.execute_input": "2023-07-23T06:34:31.957824Z",
     "iopub.status.busy": "2023-07-23T06:34:31.957548Z",
     "iopub.status.idle": "2023-07-23T06:34:33.942535Z",
     "shell.execute_reply": "2023-07-23T06:34:33.941932Z"
    },
    "papermill": {
     "duration": 1.995239,
     "end_time": "2023-07-23T06:34:33.946162",
     "exception": false,
     "start_time": "2023-07-23T06:34:31.950923",
     "status": "completed"
    },
    "tags": []
   },
   "outputs": [
    {
     "data": {
      "image/png": "[encoded data removed]",
      "text/plain": [
       "<Figure size 1600x800 with 10 Axes>"
      ]
     },
     "metadata": {},
     "output_type": "display_data"
    }
   ],
   "source": [
    "def plot_roc_curves(y, y_pred_probs):\n",
    "    # based on example code\n",
    "    # https://scikit-learn.org/stable/auto_examples/model_selection/plot_roc.html\n",
    "\n",
    "    fig, axs = plt.subplots(nrows=2, ncols=5, figsize=(16, 8))\n",
    "\n",
    "    roc_auc_dict = {}\n",
    "\n",
    "    for (r, c), digit, ax in zip(\n",
    "        it.product(range(2), range(5)), range(10), axs.reshape(-1)\n",
    "    ):\n",
    "        fpr, tpr, _ = metrics.roc_curve(y == digit, y_pred_probs[:, digit])\n",
    "        auc = metrics.auc(fpr, tpr)\n",
    "        roc_auc_dict[str(digit)] = auc\n",
    "\n",
    "        ax.plot(fpr, tpr, label=f\"ROC AUC={round(auc, 3)}\")\n",
    "\n",
    "        ax.set_title(f\"\\nDigit {digit}\", fontsize=16)\n",
    "        if r == 1:\n",
    "            ax.set_xlabel(\"FPR\", fontsize=18)\n",
    "\n",
    "        if c == 0:\n",
    "            ax.set_ylabel(\"TPR\", fontsize=18)\n",
    "\n",
    "        ax.set_xlim([-0.05, 1.05])\n",
    "        ax.set_ylim([-0.05, 1.05])\n",
    "        ax.legend(loc=\"lower right\", frameon=False, fontsize=14)\n",
    "\n",
    "    fig.tight_layout()\n",
    "    fig.suptitle(\n",
    "        f\"ROC plots for one-vs-rest performances \"\n",
    "        f\"(on evaluation data, n={y_pred_probs_test.shape[1]}\",\n",
    "        fontsize=22,\n",
    "    )\n",
    "    fig.tight_layout()\n",
    "    fig.show()\n",
    "\n",
    "    return roc_auc_dict, fig\n",
    "\n",
    "\n",
    "roc_auc_dict, fig = plot_roc_curves(y_test, y_pred_probs_test)"
   ]
  },
  {
   "cell_type": "code",
   "execution_count": 16,
   "id": "f76c318d",
   "metadata": {
    "execution": {
     "iopub.execute_input": "2023-07-23T06:34:33.960518Z",
     "iopub.status.busy": "2023-07-23T06:34:33.960254Z",
     "iopub.status.idle": "2023-07-23T06:34:34.314726Z",
     "shell.execute_reply": "2023-07-23T06:34:34.314132Z"
    },
    "papermill": {
     "duration": 0.364002,
     "end_time": "2023-07-23T06:34:34.316675",
     "exception": false,
     "start_time": "2023-07-23T06:34:33.952673",
     "status": "completed"
    },
    "tags": []
   },
   "outputs": [],
   "source": [
    "ctx.log_figure(\"per-digit-roc-curves.png\", fig)"
   ]
  },
  {
   "cell_type": "code",
   "execution_count": 17,
   "id": "f050f250",
   "metadata": {
    "execution": {
     "iopub.execute_input": "2023-07-23T06:34:34.330861Z",
     "iopub.status.busy": "2023-07-23T06:34:34.330608Z",
     "iopub.status.idle": "2023-07-23T06:34:34.336412Z",
     "shell.execute_reply": "2023-07-23T06:34:34.335805Z"
    },
    "papermill": {
     "duration": 0.015197,
     "end_time": "2023-07-23T06:34:34.338312",
     "exception": false,
     "start_time": "2023-07-23T06:34:34.323115",
     "status": "completed"
    },
    "tags": []
   },
   "outputs": [
    {
     "data": {
      "text/plain": [
       "{'0': 1.0,\n",
       " '1': 0.998950328022493,\n",
       " '2': 1.0,\n",
       " '3': 0.9998500468603562,\n",
       " '4': 0.9997713763145861,\n",
       " '5': 0.9997000937207123,\n",
       " '6': 0.999923792104862,\n",
       " '7': 0.9998856881572931,\n",
       " '8': 0.995546973518285,\n",
       " '9': 0.9998094802621552}"
      ]
     },
     "execution_count": 17,
     "metadata": {},
     "output_type": "execute_result"
    }
   ],
   "source": [
    "roc_auc_dict"
   ]
  },
  {
   "cell_type": "code",
   "execution_count": 18,
   "id": "0079535e",
   "metadata": {
    "execution": {
     "iopub.execute_input": "2023-07-23T06:34:34.352459Z",
     "iopub.status.busy": "2023-07-23T06:34:34.352231Z",
     "iopub.status.idle": "2023-07-23T06:34:34.364826Z",
     "shell.execute_reply": "2023-07-23T06:34:34.364241Z"
    },
    "papermill": {
     "duration": 0.021644,
     "end_time": "2023-07-23T06:34:34.366596",
     "exception": false,
     "start_time": "2023-07-23T06:34:34.344952",
     "status": "completed"
    },
    "tags": []
   },
   "outputs": [
    {
     "name": "stdout",
     "output_type": "stream",
     "text": [
      " - Logging roc_auc_per_digit (json) : {'0': 1.0, '1': 0.998950328022493, '2': 1.0, '3': 0.9998500468603562, '4': 0.9997713763145861, '5': 0.9997000937207123, '6': 0.999923792104862, '7': 0.9998856881572931, '8': 0.995546973518285, '9': 0.9998094802621552}\n"
     ]
    }
   ],
   "source": [
    "ctx.log_value(\"roc_auc_per_digit\", roc_auc_dict)"
   ]
  },
  {
   "cell_type": "markdown",
   "id": "95c63de2",
   "metadata": {
    "papermill": {
     "duration": 0.007056,
     "end_time": "2023-07-23T06:34:34.380175",
     "exception": false,
     "start_time": "2023-07-23T06:34:34.373119",
     "status": "completed"
    },
    "tags": []
   },
   "source": [
    "### Compute and log mean ROC AUC score averaged over all digits"
   ]
  },
  {
   "cell_type": "code",
   "execution_count": 19,
   "id": "3347032d",
   "metadata": {
    "execution": {
     "iopub.execute_input": "2023-07-23T06:34:34.394487Z",
     "iopub.status.busy": "2023-07-23T06:34:34.394226Z",
     "iopub.status.idle": "2023-07-23T06:34:34.406392Z",
     "shell.execute_reply": "2023-07-23T06:34:34.405780Z"
    },
    "papermill": {
     "duration": 0.021415,
     "end_time": "2023-07-23T06:34:34.407958",
     "exception": false,
     "start_time": "2023-07-23T06:34:34.386543",
     "status": "completed"
    },
    "tags": []
   },
   "outputs": [
    {
     "name": "stdout",
     "output_type": "stream",
     "text": [
      " - Logging roc_auc_class_mean (float) : 0.9993437778960743\n"
     ]
    }
   ],
   "source": [
    "roc_auc_macro = np.mean(list(roc_auc_dict.values()))\n",
    "\n",
    "ctx.log_float(\"roc_auc_class_mean\", roc_auc_macro)\n",
    "\n",
    "# assert that the same value can be computed directly using sklearn\n",
    "assert roc_auc_macro == metrics.roc_auc_score(\n",
    "    y_test, y_pred_probs_test, average=\"macro\", multi_class=\"ovr\"\n",
    ")"
   ]
  },
  {
   "cell_type": "code",
   "execution_count": 20,
   "id": "6244adf4",
   "metadata": {
    "execution": {
     "iopub.execute_input": "2023-07-23T06:34:34.422356Z",
     "iopub.status.busy": "2023-07-23T06:34:34.422108Z",
     "iopub.status.idle": "2023-07-23T06:34:34.426064Z",
     "shell.execute_reply": "2023-07-23T06:34:34.425547Z"
    },
    "lines_to_next_cell": 0,
    "papermill": {
     "duration": 0.013231,
     "end_time": "2023-07-23T06:34:34.427781",
     "exception": false,
     "start_time": "2023-07-23T06:34:34.414550",
     "status": "completed"
    },
    "tags": []
   },
   "outputs": [],
   "source": [
    "# ---"
   ]
  },
  {
   "cell_type": "code",
   "execution_count": null,
   "id": "e8f3ecb7",
   "metadata": {
    "papermill": {
     "duration": 0.00645,
     "end_time": "2023-07-23T06:34:34.440871",
     "exception": false,
     "start_time": "2023-07-23T06:34:34.434421",
     "status": "completed"
    },
    "tags": []
   },
   "outputs": [],
   "source": []
  }
 ],
 "metadata": {
  "jupytext": {
   "cell_metadata_filter": "tags,-all",
   "main_language": "python",
   "notebook_metadata_filter": "-all"
  },
  "language_info": {
   "codemirror_mode": {
    "name": "ipython",
    "version": 3
   },
   "file_extension": ".py",
   "mimetype": "text/x-python",
   "name": "python",
   "nbconvert_exporter": "python",
   "pygments_lexer": "ipython3",
   "version": "3.8.10"
  },
  "papermill": {
   "default_parameters": {},
   "duration": 11.822283,
   "end_time": "2023-07-23T06:34:36.278334",
   "environment_variables": {},
   "exception": null,
   "input_path": "/tmp/temp-notebook-6_b2u5k8.ipynb",
   "output_path": "/tmp/temp-notebook-6_b2u5k8.ipynb",
   "parameters": {
    "P": {
     "_parameters_actor_name": "parameter_for_task_0x6a910e218b3a28e2",
     "task.nr_train_images": 1200
    }
   },
   "start_time": "2023-07-23T06:34:24.456051",
   "version": "2.4.0"
  }
 },
 "nbformat": 4,
 "nbformat_minor": 5
}