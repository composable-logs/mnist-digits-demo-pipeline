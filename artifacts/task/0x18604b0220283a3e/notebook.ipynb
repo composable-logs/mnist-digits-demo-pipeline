{
 "cells": [
  {
   "cell_type": "markdown",
   "id": "0ee09427",
   "metadata": {
    "papermill": {
     "duration": 0.006858,
     "end_time": "2023-07-22T06:35:46.082511",
     "exception": false,
     "start_time": "2023-07-22T06:35:46.075653",
     "status": "completed"
    },
    "tags": []
   },
   "source": [
    "# Benchmark model\n",
    "\n",
    "The purpose of this notebook is to benchmark persisted onnx-model (trained in the\n",
    "previous step) against evaluation set."
   ]
  },
  {
   "cell_type": "markdown",
   "id": "e92c6992",
   "metadata": {
    "papermill": {
     "duration": 0.005055,
     "end_time": "2023-07-22T06:35:46.094836",
     "exception": false,
     "start_time": "2023-07-22T06:35:46.089781",
     "status": "completed"
    },
    "tags": []
   },
   "source": [
    "### Determine run parameters"
   ]
  },
  {
   "cell_type": "code",
   "execution_count": 1,
   "id": "f484f86e",
   "metadata": {
    "execution": {
     "iopub.execute_input": "2023-07-22T06:35:46.110763Z",
     "iopub.status.busy": "2023-07-22T06:35:46.110348Z",
     "iopub.status.idle": "2023-07-22T06:35:46.119088Z",
     "shell.execute_reply": "2023-07-22T06:35:46.118296Z"
    },
    "lines_to_next_cell": 0,
    "papermill": {
     "duration": 0.023268,
     "end_time": "2023-07-22T06:35:46.123692",
     "exception": false,
     "start_time": "2023-07-22T06:35:46.100424",
     "status": "completed"
    },
    "tags": []
   },
   "outputs": [],
   "source": [
    "# ----------------- Parameters for interactive development --------------\n",
    "P = {\n",
    "    \"workflow.data_lake_root\": \"/pipeline-outputs/data-lake\",\n",
    "    \"task.nr_train_images\": 600,\n",
    "}"
   ]
  },
  {
   "cell_type": "code",
   "execution_count": 2,
   "id": "52cd6550",
   "metadata": {
    "execution": {
     "iopub.execute_input": "2023-07-22T06:35:46.138437Z",
     "iopub.status.busy": "2023-07-22T06:35:46.138036Z",
     "iopub.status.idle": "2023-07-22T06:35:46.148469Z",
     "shell.execute_reply": "2023-07-22T06:35:46.147040Z"
    },
    "lines_to_next_cell": 0,
    "papermill": {
     "duration": 0.0217,
     "end_time": "2023-07-22T06:35:46.151040",
     "exception": false,
     "start_time": "2023-07-22T06:35:46.129340",
     "status": "completed"
    },
    "tags": [
     "parameters"
    ]
   },
   "outputs": [],
   "source": [
    "# - During automated runs parameters will be injected in the below cell -"
   ]
  },
  {
   "cell_type": "code",
   "execution_count": 3,
   "id": "9fffa006",
   "metadata": {
    "execution": {
     "iopub.execute_input": "2023-07-22T06:35:46.163942Z",
     "iopub.status.busy": "2023-07-22T06:35:46.163529Z",
     "iopub.status.idle": "2023-07-22T06:35:46.169303Z",
     "shell.execute_reply": "2023-07-22T06:35:46.168506Z"
    },
    "papermill": {
     "duration": 0.015185,
     "end_time": "2023-07-22T06:35:46.171812",
     "exception": false,
     "start_time": "2023-07-22T06:35:46.156627",
     "status": "completed"
    },
    "tags": [
     "injected-parameters"
    ]
   },
   "outputs": [],
   "source": [
    "# Parameters\n",
    "P = {\n",
    "    \"task.nr_train_images\": 800,\n",
    "    \"_parameters_actor_name\": \"parameter_for_task_0x18604b0220283a3e\",\n",
    "}\n"
   ]
  },
  {
   "cell_type": "code",
   "execution_count": 4,
   "id": "ebe566ae",
   "metadata": {
    "execution": {
     "iopub.execute_input": "2023-07-22T06:35:46.188938Z",
     "iopub.status.busy": "2023-07-22T06:35:46.188596Z",
     "iopub.status.idle": "2023-07-22T06:35:46.194123Z",
     "shell.execute_reply": "2023-07-22T06:35:46.193342Z"
    },
    "lines_to_next_cell": 0,
    "papermill": {
     "duration": 0.018992,
     "end_time": "2023-07-22T06:35:46.196849",
     "exception": false,
     "start_time": "2023-07-22T06:35:46.177857",
     "status": "completed"
    },
    "tags": []
   },
   "outputs": [],
   "source": [
    "# -----------------------------------------------------------------------"
   ]
  },
  {
   "cell_type": "markdown",
   "id": "0e9a5cf7",
   "metadata": {
    "papermill": {
     "duration": 0.005134,
     "end_time": "2023-07-22T06:35:46.207400",
     "exception": false,
     "start_time": "2023-07-22T06:35:46.202266",
     "status": "completed"
    },
    "tags": []
   },
   "source": [
    "---"
   ]
  },
  {
   "cell_type": "markdown",
   "id": "5c0750b0",
   "metadata": {
    "lines_to_next_cell": 2,
    "papermill": {
     "duration": 0.005403,
     "end_time": "2023-07-22T06:35:46.217809",
     "exception": false,
     "start_time": "2023-07-22T06:35:46.212406",
     "status": "completed"
    },
    "tags": []
   },
   "source": [
    "### Notebook code"
   ]
  },
  {
   "cell_type": "code",
   "execution_count": 5,
   "id": "c5d61902",
   "metadata": {
    "execution": {
     "iopub.execute_input": "2023-07-22T06:35:46.230336Z",
     "iopub.status.busy": "2023-07-22T06:35:46.229997Z",
     "iopub.status.idle": "2023-07-22T06:35:47.397012Z",
     "shell.execute_reply": "2023-07-22T06:35:47.394639Z"
    },
    "papermill": {
     "duration": 1.176012,
     "end_time": "2023-07-22T06:35:47.399299",
     "exception": false,
     "start_time": "2023-07-22T06:35:46.223287",
     "status": "completed"
    },
    "tags": []
   },
   "outputs": [
    {
     "name": "stderr",
     "output_type": "stream",
     "text": [
      "2023-07-22 06:35:47,271\tINFO worker.py:1364 -- Connecting to existing Ray cluster at address: 172.17.0.2:57687...\n"
     ]
    },
    {
     "name": "stderr",
     "output_type": "stream",
     "text": [
      "2023-07-22 06:35:47,291\tINFO worker.py:1544 -- Connected to Ray cluster. View the dashboard at \u001b[1m\u001b[32mhttp://127.0.0.1:8265 \u001b[39m\u001b[22m\n"
     ]
    },
    {
     "name": "stderr",
     "output_type": "stream",
     "text": [
      "/home/host_user/.local/lib/python3.8/site-packages/ray/runtime_context.py:27: RayDeprecationWarning: This API is deprecated and may be removed in future Ray releases. You could suppress this warning by setting env variable PYTHONWARNINGS=\"ignore::DeprecationWarning\"\n",
      "Use get_job_id() instead\n",
      "  \"job_id\": self.job_id,\n",
      "/home/host_user/.local/lib/python3.8/site-packages/ray/runtime_context.py:28: RayDeprecationWarning: This API is deprecated and may be removed in future Ray releases. You could suppress this warning by setting env variable PYTHONWARNINGS=\"ignore::DeprecationWarning\"\n",
      "Use get_node_id() instead\n",
      "  \"node_id\": self.node_id,\n"
     ]
    }
   ],
   "source": [
    "import itertools as it\n",
    "\n",
    "#\n",
    "import numpy as np\n",
    "import matplotlib.pyplot as plt\n",
    "\n",
    "#\n",
    "from composable_logs.tasks.task_opentelemetry_logging import get_task_context\n",
    "\n",
    "#\n",
    "from common.io import datalake_root\n",
    "\n",
    "ctx = get_task_context(P)"
   ]
  },
  {
   "cell_type": "markdown",
   "id": "c48734ea",
   "metadata": {
    "papermill": {
     "duration": 0.005069,
     "end_time": "2023-07-22T06:35:47.410240",
     "exception": false,
     "start_time": "2023-07-22T06:35:47.405171",
     "status": "completed"
    },
    "tags": []
   },
   "source": [
    "## Load persisted onnx-model and evaluation data"
   ]
  },
  {
   "cell_type": "code",
   "execution_count": 6,
   "id": "a7889011",
   "metadata": {
    "execution": {
     "iopub.execute_input": "2023-07-22T06:35:47.423368Z",
     "iopub.status.busy": "2023-07-22T06:35:47.423016Z",
     "iopub.status.idle": "2023-07-22T06:35:47.432571Z",
     "shell.execute_reply": "2023-07-22T06:35:47.431709Z"
    },
    "papermill": {
     "duration": 0.018679,
     "end_time": "2023-07-22T06:35:47.434773",
     "exception": false,
     "start_time": "2023-07-22T06:35:47.416094",
     "status": "completed"
    },
    "tags": []
   },
   "outputs": [],
   "source": [
    "from common.io import read_onnx, get_onnx_inputs, get_onnx_outputs, read_numpy"
   ]
  },
  {
   "cell_type": "code",
   "execution_count": 7,
   "id": "39398085",
   "metadata": {
    "execution": {
     "iopub.execute_input": "2023-07-22T06:35:47.448344Z",
     "iopub.status.busy": "2023-07-22T06:35:47.447882Z",
     "iopub.status.idle": "2023-07-22T06:35:47.461118Z",
     "shell.execute_reply": "2023-07-22T06:35:47.460260Z"
    },
    "lines_to_next_cell": 0,
    "papermill": {
     "duration": 0.022546,
     "end_time": "2023-07-22T06:35:47.463078",
     "exception": false,
     "start_time": "2023-07-22T06:35:47.440532",
     "status": "completed"
    },
    "tags": []
   },
   "outputs": [],
   "source": [
    "onnx_inference_session = read_onnx(\n",
    "    datalake_root(ctx)\n",
    "    / \"models\"\n",
    "    / f\"nr_train_images={ctx.parameters['task.nr_train_images']}\"\n",
    "    / \"model.onnx\"\n",
    ")"
   ]
  },
  {
   "cell_type": "markdown",
   "id": "1485b8db",
   "metadata": {
    "papermill": {
     "duration": 0.006829,
     "end_time": "2023-07-22T06:35:47.475174",
     "exception": false,
     "start_time": "2023-07-22T06:35:47.468345",
     "status": "completed"
    },
    "tags": []
   },
   "source": [
    "### Record structure of inputs and outputs for ONNX model\n",
    "\n",
    "(this should likely be done in training notebook)"
   ]
  },
  {
   "cell_type": "code",
   "execution_count": 8,
   "id": "9334b96a",
   "metadata": {
    "execution": {
     "iopub.execute_input": "2023-07-22T06:35:47.506856Z",
     "iopub.status.busy": "2023-07-22T06:35:47.506421Z",
     "iopub.status.idle": "2023-07-22T06:35:47.514917Z",
     "shell.execute_reply": "2023-07-22T06:35:47.514129Z"
    },
    "papermill": {
     "duration": 0.036274,
     "end_time": "2023-07-22T06:35:47.517304",
     "exception": false,
     "start_time": "2023-07-22T06:35:47.481030",
     "status": "completed"
    },
    "tags": []
   },
   "outputs": [
    {
     "name": "stdout",
     "output_type": "stream",
     "text": [
      "{\n",
      "  \"inputs\": [\n",
      "    {\n",
      "      \"name\": \"float_input_8x8_image\",\n",
      "      \"shape\": [\n",
      "        null,\n",
      "        64\n",
      "      ],\n",
      "      \"type\": \"tensor(float)\"\n",
      "    }\n",
      "  ],\n",
      "  \"outputs\": [\n",
      "    {\n",
      "      \"name\": \"output_label\",\n",
      "      \"shape\": [\n",
      "        null\n",
      "      ],\n",
      "      \"type\": \"tensor(int64)\"\n",
      "    },\n",
      "    {\n",
      "      \"name\": \"output_probability\",\n",
      "      \"shape\": [],\n",
      "      \"type\": \"seq(map(int64,tensor(float)))\"\n",
      "    }\n",
      "  ]\n",
      "}\n"
     ]
    }
   ],
   "source": [
    "import json\n",
    "\n",
    "onnx_io = json.dumps(\n",
    "    {\n",
    "        \"inputs\": get_onnx_inputs(onnx_inference_session),\n",
    "        \"outputs\": get_onnx_outputs(onnx_inference_session),\n",
    "    },\n",
    "    indent=2,\n",
    ")\n",
    "\n",
    "\n",
    "ctx.log_artefact(\"onnx_io_structure.json\", onnx_io)\n",
    "print(onnx_io)"
   ]
  },
  {
   "cell_type": "markdown",
   "id": "7dae958c",
   "metadata": {
    "papermill": {
     "duration": 0.005473,
     "end_time": "2023-07-22T06:35:47.529760",
     "exception": false,
     "start_time": "2023-07-22T06:35:47.524287",
     "status": "completed"
    },
    "tags": []
   },
   "source": [
    "### Evaluate model performance on evaluation data set"
   ]
  },
  {
   "cell_type": "code",
   "execution_count": 9,
   "id": "1416e3d4",
   "metadata": {
    "execution": {
     "iopub.execute_input": "2023-07-22T06:35:47.543158Z",
     "iopub.status.busy": "2023-07-22T06:35:47.542805Z",
     "iopub.status.idle": "2023-07-22T06:35:47.550184Z",
     "shell.execute_reply": "2023-07-22T06:35:47.549403Z"
    },
    "papermill": {
     "duration": 0.017481,
     "end_time": "2023-07-22T06:35:47.552894",
     "exception": false,
     "start_time": "2023-07-22T06:35:47.535413",
     "status": "completed"
    },
    "tags": []
   },
   "outputs": [],
   "source": [
    "# load evaluation data\n",
    "X_test = read_numpy(datalake_root(ctx) / \"test-data\" / \"digits.numpy\")\n",
    "y_test = read_numpy(datalake_root(ctx) / \"test-data\" / \"labels.numpy\")"
   ]
  },
  {
   "cell_type": "code",
   "execution_count": 10,
   "id": "965cdbd6",
   "metadata": {
    "execution": {
     "iopub.execute_input": "2023-07-22T06:35:47.565922Z",
     "iopub.status.busy": "2023-07-22T06:35:47.565583Z",
     "iopub.status.idle": "2023-07-22T06:35:47.581235Z",
     "shell.execute_reply": "2023-07-22T06:35:47.580413Z"
    },
    "papermill": {
     "duration": 0.025483,
     "end_time": "2023-07-22T06:35:47.584036",
     "exception": false,
     "start_time": "2023-07-22T06:35:47.558553",
     "status": "completed"
    },
    "tags": []
   },
   "outputs": [],
   "source": [
    "def get_model_outputs(X, onnx_inference_session):\n",
    "    y_pred_labels, y_pred_map = onnx_inference_session.run(\n",
    "        [\"output_label\", \"output_probability\"],\n",
    "        {\"float_input_8x8_image\": X.astype(np.float32)},\n",
    "    )\n",
    "    y_pred_probs = np.array(\n",
    "        [[probabilities[digit] for digit in range(10)] for probabilities in y_pred_map]\n",
    "    )\n",
    "\n",
    "    assert y_pred_labels.shape == (X.shape[0],)\n",
    "    assert y_pred_probs.shape == (X.shape[0], 10)\n",
    "\n",
    "    return y_pred_labels, y_pred_probs\n",
    "\n",
    "\n",
    "# Note: as shown in the training notebook, the predicted labels and probabilities\n",
    "# computed below need not be compatible.\n",
    "y_pred_labels_test, y_pred_probs_test = get_model_outputs(\n",
    "    X_test, onnx_inference_session\n",
    ")"
   ]
  },
  {
   "cell_type": "markdown",
   "id": "f89ec73c",
   "metadata": {
    "papermill": {
     "duration": 0.005355,
     "end_time": "2023-07-22T06:35:47.595307",
     "exception": false,
     "start_time": "2023-07-22T06:35:47.589952",
     "status": "completed"
    },
    "tags": []
   },
   "source": [
    "### Confusion matrix"
   ]
  },
  {
   "cell_type": "code",
   "execution_count": 11,
   "id": "5eac7184",
   "metadata": {
    "execution": {
     "iopub.execute_input": "2023-07-22T06:35:47.612809Z",
     "iopub.status.busy": "2023-07-22T06:35:47.612461Z",
     "iopub.status.idle": "2023-07-22T06:35:47.617845Z",
     "shell.execute_reply": "2023-07-22T06:35:47.617031Z"
    },
    "papermill": {
     "duration": 0.01937,
     "end_time": "2023-07-22T06:35:47.620180",
     "exception": false,
     "start_time": "2023-07-22T06:35:47.600810",
     "status": "completed"
    },
    "tags": []
   },
   "outputs": [],
   "source": [
    "# TODO"
   ]
  },
  {
   "cell_type": "markdown",
   "id": "8bbd1fe0",
   "metadata": {
    "papermill": {
     "duration": 0.005569,
     "end_time": "2023-07-22T06:35:47.632016",
     "exception": false,
     "start_time": "2023-07-22T06:35:47.626447",
     "status": "completed"
    },
    "tags": []
   },
   "source": [
    "### Plot predicted probabilities for each classifier over all evaluation digit images"
   ]
  },
  {
   "cell_type": "code",
   "execution_count": 12,
   "id": "d0a8617c",
   "metadata": {
    "execution": {
     "iopub.execute_input": "2023-07-22T06:35:47.645216Z",
     "iopub.status.busy": "2023-07-22T06:35:47.644872Z",
     "iopub.status.idle": "2023-07-22T06:35:53.700518Z",
     "shell.execute_reply": "2023-07-22T06:35:53.699618Z"
    },
    "papermill": {
     "duration": 6.065162,
     "end_time": "2023-07-22T06:35:53.702829",
     "exception": false,
     "start_time": "2023-07-22T06:35:47.637667",
     "status": "completed"
    },
    "tags": []
   },
   "outputs": [
    {
     "data": {
      "image/png": "[encoded data removed]",
      "text/plain": [
       "<Figure size 1600x600 with 10 Axes>"
      ]
     },
     "metadata": {},
     "output_type": "display_data"
    }
   ],
   "source": [
    "def plot_per_digit_probabilities(y_pred_probs):\n",
    "    fig, axs = plt.subplots(nrows=2, ncols=5, figsize=(16, 6))\n",
    "\n",
    "    for (r, c), digit, ax in zip(\n",
    "        it.product(range(2), range(5)), range(10), axs.reshape(-1)\n",
    "    ):\n",
    "        ax.hist(y_pred_probs_test[:, digit], bins=20)\n",
    "\n",
    "        ax.set_title(f\"Digit {digit}\")\n",
    "        if r == 1 and c == 2:\n",
    "            ax.set_xlabel(\"probability\", fontsize=16)\n",
    "\n",
    "        if c == 0:\n",
    "            ax.set_ylabel(\"counts\", fontsize=16)\n",
    "        ax.set_yscale(\"log\")\n",
    "\n",
    "    fig.tight_layout()\n",
    "    fig.suptitle(\n",
    "        f\"Distributions of prediction probabilities for each digit \"\n",
    "        f\"(on evaluation data, n={y_pred_probs.shape[0]})\",\n",
    "        fontsize=20,\n",
    "    )\n",
    "    fig.tight_layout()\n",
    "    fig.show()\n",
    "\n",
    "    return fig\n",
    "\n",
    "\n",
    "fig = plot_per_digit_probabilities(y_pred_probs_test)"
   ]
  },
  {
   "cell_type": "markdown",
   "id": "d8861f17",
   "metadata": {
    "papermill": {
     "duration": 0.006613,
     "end_time": "2023-07-22T06:35:53.716612",
     "exception": false,
     "start_time": "2023-07-22T06:35:53.709999",
     "status": "completed"
    },
    "tags": []
   },
   "source": [
    "From the above distributions we see that most digits have clear separation between\n",
    "high and lower probabilities. Morover, in each case there is roughly an order of\n",
    "magnitude more of digits with low probabilities. This is compatible with digits\n",
    "being roughly evenly distributed in the data."
   ]
  },
  {
   "cell_type": "code",
   "execution_count": 13,
   "id": "c97dca6f",
   "metadata": {
    "execution": {
     "iopub.execute_input": "2023-07-22T06:35:53.731219Z",
     "iopub.status.busy": "2023-07-22T06:35:53.730862Z",
     "iopub.status.idle": "2023-07-22T06:35:54.788656Z",
     "shell.execute_reply": "2023-07-22T06:35:54.786411Z"
    },
    "papermill": {
     "duration": 1.071931,
     "end_time": "2023-07-22T06:35:54.794802",
     "exception": false,
     "start_time": "2023-07-22T06:35:53.722871",
     "status": "completed"
    },
    "tags": []
   },
   "outputs": [],
   "source": [
    "ctx.log_figure(\"per-digit-probabilities.png\", fig)"
   ]
  },
  {
   "cell_type": "markdown",
   "id": "31bf0d8f",
   "metadata": {
    "papermill": {
     "duration": 0.006411,
     "end_time": "2023-07-22T06:35:54.808387",
     "exception": false,
     "start_time": "2023-07-22T06:35:54.801976",
     "status": "completed"
    },
    "tags": []
   },
   "source": [
    "### Plot ROC curves for individual one-vs-rest classifiers"
   ]
  },
  {
   "cell_type": "code",
   "execution_count": 14,
   "id": "a293f136",
   "metadata": {
    "execution": {
     "iopub.execute_input": "2023-07-22T06:35:54.824346Z",
     "iopub.status.busy": "2023-07-22T06:35:54.823890Z",
     "iopub.status.idle": "2023-07-22T06:35:55.290066Z",
     "shell.execute_reply": "2023-07-22T06:35:55.289190Z"
    },
    "papermill": {
     "duration": 0.477535,
     "end_time": "2023-07-22T06:35:55.292712",
     "exception": false,
     "start_time": "2023-07-22T06:35:54.815177",
     "status": "completed"
    },
    "tags": []
   },
   "outputs": [],
   "source": [
    "from sklearn import metrics"
   ]
  },
  {
   "cell_type": "code",
   "execution_count": 15,
   "id": "b0776f9e",
   "metadata": {
    "execution": {
     "iopub.execute_input": "2023-07-22T06:35:55.308536Z",
     "iopub.status.busy": "2023-07-22T06:35:55.308106Z",
     "iopub.status.idle": "2023-07-22T06:35:58.658882Z",
     "shell.execute_reply": "2023-07-22T06:35:58.658056Z"
    },
    "papermill": {
     "duration": 3.36156,
     "end_time": "2023-07-22T06:35:58.661160",
     "exception": false,
     "start_time": "2023-07-22T06:35:55.299600",
     "status": "completed"
    },
    "tags": []
   },
   "outputs": [
    {
     "data": {
      "image/png": "[encoded data removed]",
      "text/plain": [
       "<Figure size 1600x800 with 10 Axes>"
      ]
     },
     "metadata": {},
     "output_type": "display_data"
    }
   ],
   "source": [
    "def plot_roc_curves(y, y_pred_probs):\n",
    "    # based on example code\n",
    "    # https://scikit-learn.org/stable/auto_examples/model_selection/plot_roc.html\n",
    "\n",
    "    fig, axs = plt.subplots(nrows=2, ncols=5, figsize=(16, 8))\n",
    "\n",
    "    roc_auc_dict = {}\n",
    "\n",
    "    for (r, c), digit, ax in zip(\n",
    "        it.product(range(2), range(5)), range(10), axs.reshape(-1)\n",
    "    ):\n",
    "        fpr, tpr, _ = metrics.roc_curve(y == digit, y_pred_probs[:, digit])\n",
    "        auc = metrics.auc(fpr, tpr)\n",
    "        roc_auc_dict[str(digit)] = auc\n",
    "\n",
    "        ax.plot(fpr, tpr, label=f\"ROC AUC={round(auc, 3)}\")\n",
    "\n",
    "        ax.set_title(f\"\\nDigit {digit}\", fontsize=16)\n",
    "        if r == 1:\n",
    "            ax.set_xlabel(\"FPR\", fontsize=18)\n",
    "\n",
    "        if c == 0:\n",
    "            ax.set_ylabel(\"TPR\", fontsize=18)\n",
    "\n",
    "        ax.set_xlim([-0.05, 1.05])\n",
    "        ax.set_ylim([-0.05, 1.05])\n",
    "        ax.legend(loc=\"lower right\", frameon=False, fontsize=14)\n",
    "\n",
    "    fig.tight_layout()\n",
    "    fig.suptitle(\n",
    "        f\"ROC plots for one-vs-rest performances \"\n",
    "        f\"(on evaluation data, n={y_pred_probs_test.shape[1]}\",\n",
    "        fontsize=22,\n",
    "    )\n",
    "    fig.tight_layout()\n",
    "    fig.show()\n",
    "\n",
    "    return roc_auc_dict, fig\n",
    "\n",
    "\n",
    "roc_auc_dict, fig = plot_roc_curves(y_test, y_pred_probs_test)"
   ]
  },
  {
   "cell_type": "code",
   "execution_count": 16,
   "id": "29e4d080",
   "metadata": {
    "execution": {
     "iopub.execute_input": "2023-07-22T06:35:58.680715Z",
     "iopub.status.busy": "2023-07-22T06:35:58.680092Z",
     "iopub.status.idle": "2023-07-22T06:35:59.175822Z",
     "shell.execute_reply": "2023-07-22T06:35:59.174844Z"
    },
    "papermill": {
     "duration": 0.512214,
     "end_time": "2023-07-22T06:35:59.182539",
     "exception": false,
     "start_time": "2023-07-22T06:35:58.670325",
     "status": "completed"
    },
    "tags": []
   },
   "outputs": [],
   "source": [
    "ctx.log_figure(\"per-digit-roc-curves.png\", fig)"
   ]
  },
  {
   "cell_type": "code",
   "execution_count": 17,
   "id": "d1f9e2b6",
   "metadata": {
    "execution": {
     "iopub.execute_input": "2023-07-22T06:35:59.205560Z",
     "iopub.status.busy": "2023-07-22T06:35:59.205214Z",
     "iopub.status.idle": "2023-07-22T06:35:59.214728Z",
     "shell.execute_reply": "2023-07-22T06:35:59.213461Z"
    },
    "papermill": {
     "duration": 0.02638,
     "end_time": "2023-07-22T06:35:59.216989",
     "exception": false,
     "start_time": "2023-07-22T06:35:59.190609",
     "status": "completed"
    },
    "tags": []
   },
   "outputs": [
    {
     "data": {
      "text/plain": [
       "{'0': 1.0,\n",
       " '1': 0.9988003748828491,\n",
       " '2': 1.0,\n",
       " '3': 0.9998125585754452,\n",
       " '4': 0.9995046486816034,\n",
       " '5': 0.998950328022493,\n",
       " '6': 0.999923792104862,\n",
       " '7': 0.9998856881572931,\n",
       " '8': 0.9930249054224464,\n",
       " '9': 0.9994284407864655}"
      ]
     },
     "execution_count": 17,
     "metadata": {},
     "output_type": "execute_result"
    }
   ],
   "source": [
    "roc_auc_dict"
   ]
  },
  {
   "cell_type": "code",
   "execution_count": 18,
   "id": "e5aa8888",
   "metadata": {
    "execution": {
     "iopub.execute_input": "2023-07-22T06:35:59.234869Z",
     "iopub.status.busy": "2023-07-22T06:35:59.234520Z",
     "iopub.status.idle": "2023-07-22T06:35:59.241885Z",
     "shell.execute_reply": "2023-07-22T06:35:59.241059Z"
    },
    "papermill": {
     "duration": 0.019284,
     "end_time": "2023-07-22T06:35:59.244377",
     "exception": false,
     "start_time": "2023-07-22T06:35:59.225093",
     "status": "completed"
    },
    "tags": []
   },
   "outputs": [
    {
     "name": "stdout",
     "output_type": "stream",
     "text": [
      " - Logging roc_auc_per_digit (json) : {'0': 1.0, '1': 0.9988003748828491, '2': 1.0, '3': 0.9998125585754452, '4': 0.9995046486816034, '5': 0.998950328022493, '6': 0.999923792104862, '7': 0.9998856881572931, '8': 0.9930249054224464, '9': 0.9994284407864655}\n"
     ]
    }
   ],
   "source": [
    "ctx.log_value(\"roc_auc_per_digit\", roc_auc_dict)"
   ]
  },
  {
   "cell_type": "markdown",
   "id": "0a9469fb",
   "metadata": {
    "papermill": {
     "duration": 0.007632,
     "end_time": "2023-07-22T06:35:59.260070",
     "exception": false,
     "start_time": "2023-07-22T06:35:59.252438",
     "status": "completed"
    },
    "tags": []
   },
   "source": [
    "### Compute and log mean ROC AUC score averaged over all digits"
   ]
  },
  {
   "cell_type": "code",
   "execution_count": 19,
   "id": "1fc93ae2",
   "metadata": {
    "execution": {
     "iopub.execute_input": "2023-07-22T06:35:59.277615Z",
     "iopub.status.busy": "2023-07-22T06:35:59.277264Z",
     "iopub.status.idle": "2023-07-22T06:35:59.296116Z",
     "shell.execute_reply": "2023-07-22T06:35:59.295218Z"
    },
    "papermill": {
     "duration": 0.030865,
     "end_time": "2023-07-22T06:35:59.298604",
     "exception": false,
     "start_time": "2023-07-22T06:35:59.267739",
     "status": "completed"
    },
    "tags": []
   },
   "outputs": [
    {
     "name": "stdout",
     "output_type": "stream",
     "text": [
      " - Logging roc_auc_class_mean (float) : 0.9989330736633457\n"
     ]
    }
   ],
   "source": [
    "roc_auc_macro = np.mean(list(roc_auc_dict.values()))\n",
    "\n",
    "ctx.log_float(\"roc_auc_class_mean\", roc_auc_macro)\n",
    "\n",
    "# assert that the same value can be computed directly using sklearn\n",
    "assert roc_auc_macro == metrics.roc_auc_score(\n",
    "    y_test, y_pred_probs_test, average=\"macro\", multi_class=\"ovr\"\n",
    ")"
   ]
  },
  {
   "cell_type": "code",
   "execution_count": 20,
   "id": "afbee00c",
   "metadata": {
    "execution": {
     "iopub.execute_input": "2023-07-22T06:35:59.319986Z",
     "iopub.status.busy": "2023-07-22T06:35:59.319637Z",
     "iopub.status.idle": "2023-07-22T06:35:59.325204Z",
     "shell.execute_reply": "2023-07-22T06:35:59.324390Z"
    },
    "lines_to_next_cell": 0,
    "papermill": {
     "duration": 0.017949,
     "end_time": "2023-07-22T06:35:59.327825",
     "exception": false,
     "start_time": "2023-07-22T06:35:59.309876",
     "status": "completed"
    },
    "tags": []
   },
   "outputs": [],
   "source": [
    "# ---"
   ]
  },
  {
   "cell_type": "code",
   "execution_count": null,
   "id": "9d8234bb",
   "metadata": {
    "papermill": {
     "duration": 0.008249,
     "end_time": "2023-07-22T06:35:59.344623",
     "exception": false,
     "start_time": "2023-07-22T06:35:59.336374",
     "status": "completed"
    },
    "tags": []
   },
   "outputs": [],
   "source": []
  }
 ],
 "metadata": {
  "jupytext": {
   "cell_metadata_filter": "tags,-all",
   "main_language": "python",
   "notebook_metadata_filter": "-all"
  },
  "language_info": {
   "codemirror_mode": {
    "name": "ipython",
    "version": 3
   },
   "file_extension": ".py",
   "mimetype": "text/x-python",
   "name": "python",
   "nbconvert_exporter": "python",
   "pygments_lexer": "ipython3",
   "version": "3.8.10"
  },
  "papermill": {
   "default_parameters": {},
   "duration": 17.285161,
   "end_time": "2023-07-22T06:36:01.701925",
   "environment_variables": {},
   "exception": null,
   "input_path": "/tmp/temp-notebook-yyaetvgj.ipynb",
   "output_path": "/tmp/temp-notebook-yyaetvgj.ipynb",
   "parameters": {
    "P": {
     "_parameters_actor_name": "parameter_for_task_0x18604b0220283a3e",
     "task.nr_train_images": 800
    }
   },
   "start_time": "2023-07-22T06:35:44.416764",
   "version": "2.4.0"
  }
 },
 "nbformat": 4,
 "nbformat_minor": 5
}