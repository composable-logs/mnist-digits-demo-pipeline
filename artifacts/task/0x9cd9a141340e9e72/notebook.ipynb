{
 "cells": [
  {
   "cell_type": "markdown",
   "id": "8114d522",
   "metadata": {
    "papermill": {
     "duration": 0.005542,
     "end_time": "2023-07-18T06:37:26.977848",
     "exception": false,
     "start_time": "2023-07-18T06:37:26.972306",
     "status": "completed"
    },
    "tags": []
   },
   "source": [
    "# Benchmark model\n",
    "\n",
    "The purpose of this notebook is to benchmark persisted onnx-model (trained in the\n",
    "previous step) against evaluation set."
   ]
  },
  {
   "cell_type": "markdown",
   "id": "75813cde",
   "metadata": {
    "papermill": {
     "duration": 0.004059,
     "end_time": "2023-07-18T06:37:26.988257",
     "exception": false,
     "start_time": "2023-07-18T06:37:26.984198",
     "status": "completed"
    },
    "tags": []
   },
   "source": [
    "### Determine run parameters"
   ]
  },
  {
   "cell_type": "code",
   "execution_count": 1,
   "id": "f5fdaaaf",
   "metadata": {
    "execution": {
     "iopub.execute_input": "2023-07-18T06:37:26.998539Z",
     "iopub.status.busy": "2023-07-18T06:37:26.998245Z",
     "iopub.status.idle": "2023-07-18T06:37:27.014724Z",
     "shell.execute_reply": "2023-07-18T06:37:27.014028Z"
    },
    "lines_to_next_cell": 0,
    "papermill": {
     "duration": 0.024453,
     "end_time": "2023-07-18T06:37:27.017063",
     "exception": false,
     "start_time": "2023-07-18T06:37:26.992610",
     "status": "completed"
    },
    "tags": []
   },
   "outputs": [],
   "source": [
    "# ----------------- Parameters for interactive development --------------\n",
    "P = {\n",
    "    \"workflow.data_lake_root\": \"/pipeline-outputs/data-lake\",\n",
    "    \"task.nr_train_images\": 600,\n",
    "}"
   ]
  },
  {
   "cell_type": "code",
   "execution_count": 2,
   "id": "b82d5ce1",
   "metadata": {
    "execution": {
     "iopub.execute_input": "2023-07-18T06:37:27.026887Z",
     "iopub.status.busy": "2023-07-18T06:37:27.026630Z",
     "iopub.status.idle": "2023-07-18T06:37:27.030880Z",
     "shell.execute_reply": "2023-07-18T06:37:27.030285Z"
    },
    "lines_to_next_cell": 0,
    "papermill": {
     "duration": 0.011596,
     "end_time": "2023-07-18T06:37:27.032794",
     "exception": false,
     "start_time": "2023-07-18T06:37:27.021198",
     "status": "completed"
    },
    "tags": [
     "parameters"
    ]
   },
   "outputs": [],
   "source": [
    "# - During automated runs parameters will be injected in the below cell -"
   ]
  },
  {
   "cell_type": "code",
   "execution_count": 3,
   "id": "38c97e4f",
   "metadata": {
    "execution": {
     "iopub.execute_input": "2023-07-18T06:37:27.043258Z",
     "iopub.status.busy": "2023-07-18T06:37:27.042690Z",
     "iopub.status.idle": "2023-07-18T06:37:27.047645Z",
     "shell.execute_reply": "2023-07-18T06:37:27.047081Z"
    },
    "papermill": {
     "duration": 0.012765,
     "end_time": "2023-07-18T06:37:27.049542",
     "exception": false,
     "start_time": "2023-07-18T06:37:27.036777",
     "status": "completed"
    },
    "tags": [
     "injected-parameters"
    ]
   },
   "outputs": [],
   "source": [
    "# Parameters\n",
    "P = {\n",
    "    \"task.nr_train_images\": 600,\n",
    "    \"_parameters_actor_name\": \"parameter_for_task_0x9cd9a141340e9e72\",\n",
    "}\n"
   ]
  },
  {
   "cell_type": "code",
   "execution_count": 4,
   "id": "03bf3e6a",
   "metadata": {
    "execution": {
     "iopub.execute_input": "2023-07-18T06:37:27.059528Z",
     "iopub.status.busy": "2023-07-18T06:37:27.059262Z",
     "iopub.status.idle": "2023-07-18T06:37:27.064032Z",
     "shell.execute_reply": "2023-07-18T06:37:27.063354Z"
    },
    "lines_to_next_cell": 0,
    "papermill": {
     "duration": 0.012641,
     "end_time": "2023-07-18T06:37:27.066498",
     "exception": false,
     "start_time": "2023-07-18T06:37:27.053857",
     "status": "completed"
    },
    "tags": []
   },
   "outputs": [],
   "source": [
    "# -----------------------------------------------------------------------"
   ]
  },
  {
   "cell_type": "markdown",
   "id": "6eebe835",
   "metadata": {
    "papermill": {
     "duration": 0.004715,
     "end_time": "2023-07-18T06:37:27.075439",
     "exception": false,
     "start_time": "2023-07-18T06:37:27.070724",
     "status": "completed"
    },
    "tags": []
   },
   "source": [
    "---"
   ]
  },
  {
   "cell_type": "markdown",
   "id": "273fae59",
   "metadata": {
    "lines_to_next_cell": 2,
    "papermill": {
     "duration": 0.005372,
     "end_time": "2023-07-18T06:37:27.084963",
     "exception": false,
     "start_time": "2023-07-18T06:37:27.079591",
     "status": "completed"
    },
    "tags": []
   },
   "source": [
    "### Notebook code"
   ]
  },
  {
   "cell_type": "code",
   "execution_count": 5,
   "id": "230c7ddf",
   "metadata": {
    "execution": {
     "iopub.execute_input": "2023-07-18T06:37:27.095701Z",
     "iopub.status.busy": "2023-07-18T06:37:27.095417Z",
     "iopub.status.idle": "2023-07-18T06:37:28.195939Z",
     "shell.execute_reply": "2023-07-18T06:37:28.191928Z"
    },
    "papermill": {
     "duration": 1.108018,
     "end_time": "2023-07-18T06:37:28.198001",
     "exception": false,
     "start_time": "2023-07-18T06:37:27.089983",
     "status": "completed"
    },
    "tags": []
   },
   "outputs": [
    {
     "name": "stderr",
     "output_type": "stream",
     "text": [
      "2023-07-18 06:37:28,084\tINFO worker.py:1364 -- Connecting to existing Ray cluster at address: 172.17.0.2:50938...\n"
     ]
    },
    {
     "name": "stderr",
     "output_type": "stream",
     "text": [
      "2023-07-18 06:37:28,100\tINFO worker.py:1544 -- Connected to Ray cluster. View the dashboard at \u001b[1m\u001b[32mhttp://127.0.0.1:8265 \u001b[39m\u001b[22m\n"
     ]
    },
    {
     "name": "stderr",
     "output_type": "stream",
     "text": [
      "/home/host_user/.local/lib/python3.8/site-packages/ray/runtime_context.py:27: RayDeprecationWarning: This API is deprecated and may be removed in future Ray releases. You could suppress this warning by setting env variable PYTHONWARNINGS=\"ignore::DeprecationWarning\"\n",
      "Use get_job_id() instead\n",
      "  \"job_id\": self.job_id,\n",
      "/home/host_user/.local/lib/python3.8/site-packages/ray/runtime_context.py:28: RayDeprecationWarning: This API is deprecated and may be removed in future Ray releases. You could suppress this warning by setting env variable PYTHONWARNINGS=\"ignore::DeprecationWarning\"\n",
      "Use get_node_id() instead\n",
      "  \"node_id\": self.node_id,\n"
     ]
    }
   ],
   "source": [
    "import itertools as it\n",
    "\n",
    "#\n",
    "import numpy as np\n",
    "import matplotlib.pyplot as plt\n",
    "\n",
    "#\n",
    "from composable_logs.tasks.task_opentelemetry_logging import get_task_context\n",
    "\n",
    "#\n",
    "from common.io import datalake_root\n",
    "\n",
    "ctx = get_task_context(P)"
   ]
  },
  {
   "cell_type": "markdown",
   "id": "8ddfb649",
   "metadata": {
    "papermill": {
     "duration": 0.004668,
     "end_time": "2023-07-18T06:37:28.207320",
     "exception": false,
     "start_time": "2023-07-18T06:37:28.202652",
     "status": "completed"
    },
    "tags": []
   },
   "source": [
    "## Load persisted onnx-model and evaluation data"
   ]
  },
  {
   "cell_type": "code",
   "execution_count": 6,
   "id": "83a09e2c",
   "metadata": {
    "execution": {
     "iopub.execute_input": "2023-07-18T06:37:28.218493Z",
     "iopub.status.busy": "2023-07-18T06:37:28.218178Z",
     "iopub.status.idle": "2023-07-18T06:37:28.223258Z",
     "shell.execute_reply": "2023-07-18T06:37:28.222483Z"
    },
    "papermill": {
     "duration": 0.01336,
     "end_time": "2023-07-18T06:37:28.225182",
     "exception": false,
     "start_time": "2023-07-18T06:37:28.211822",
     "status": "completed"
    },
    "tags": []
   },
   "outputs": [],
   "source": [
    "from common.io import read_onnx, get_onnx_inputs, get_onnx_outputs, read_numpy"
   ]
  },
  {
   "cell_type": "code",
   "execution_count": 7,
   "id": "e2e4d07f",
   "metadata": {
    "execution": {
     "iopub.execute_input": "2023-07-18T06:37:28.236862Z",
     "iopub.status.busy": "2023-07-18T06:37:28.236577Z",
     "iopub.status.idle": "2023-07-18T06:37:28.246989Z",
     "shell.execute_reply": "2023-07-18T06:37:28.246188Z"
    },
    "lines_to_next_cell": 0,
    "papermill": {
     "duration": 0.018072,
     "end_time": "2023-07-18T06:37:28.248758",
     "exception": false,
     "start_time": "2023-07-18T06:37:28.230686",
     "status": "completed"
    },
    "tags": []
   },
   "outputs": [],
   "source": [
    "onnx_inference_session = read_onnx(\n",
    "    datalake_root(ctx)\n",
    "    / \"models\"\n",
    "    / f\"nr_train_images={ctx.parameters['task.nr_train_images']}\"\n",
    "    / \"model.onnx\"\n",
    ")"
   ]
  },
  {
   "cell_type": "markdown",
   "id": "9d8f3533",
   "metadata": {
    "papermill": {
     "duration": 0.015535,
     "end_time": "2023-07-18T06:37:28.269032",
     "exception": false,
     "start_time": "2023-07-18T06:37:28.253497",
     "status": "completed"
    },
    "tags": []
   },
   "source": [
    "### Record structure of inputs and outputs for ONNX model\n",
    "\n",
    "(this should likely be done in training notebook)"
   ]
  },
  {
   "cell_type": "code",
   "execution_count": 8,
   "id": "eada34b1",
   "metadata": {
    "execution": {
     "iopub.execute_input": "2023-07-18T06:37:28.280128Z",
     "iopub.status.busy": "2023-07-18T06:37:28.279479Z",
     "iopub.status.idle": "2023-07-18T06:37:28.286667Z",
     "shell.execute_reply": "2023-07-18T06:37:28.286049Z"
    },
    "papermill": {
     "duration": 0.014545,
     "end_time": "2023-07-18T06:37:28.288413",
     "exception": false,
     "start_time": "2023-07-18T06:37:28.273868",
     "status": "completed"
    },
    "tags": []
   },
   "outputs": [
    {
     "name": "stdout",
     "output_type": "stream",
     "text": [
      "{\n",
      "  \"inputs\": [\n",
      "    {\n",
      "      \"name\": \"float_input_8x8_image\",\n",
      "      \"shape\": [\n",
      "        null,\n",
      "        64\n",
      "      ],\n",
      "      \"type\": \"tensor(float)\"\n",
      "    }\n",
      "  ],\n",
      "  \"outputs\": [\n",
      "    {\n",
      "      \"name\": \"output_label\",\n",
      "      \"shape\": [\n",
      "        null\n",
      "      ],\n",
      "      \"type\": \"tensor(int64)\"\n",
      "    },\n",
      "    {\n",
      "      \"name\": \"output_probability\",\n",
      "      \"shape\": [],\n",
      "      \"type\": \"seq(map(int64,tensor(float)))\"\n",
      "    }\n",
      "  ]\n",
      "}\n"
     ]
    }
   ],
   "source": [
    "import json\n",
    "\n",
    "onnx_io = json.dumps(\n",
    "    {\n",
    "        \"inputs\": get_onnx_inputs(onnx_inference_session),\n",
    "        \"outputs\": get_onnx_outputs(onnx_inference_session),\n",
    "    },\n",
    "    indent=2,\n",
    ")\n",
    "\n",
    "\n",
    "ctx.log_artefact(\"onnx_io_structure.json\", onnx_io)\n",
    "print(onnx_io)"
   ]
  },
  {
   "cell_type": "markdown",
   "id": "b2ffb8d0",
   "metadata": {
    "papermill": {
     "duration": 0.004351,
     "end_time": "2023-07-18T06:37:28.298004",
     "exception": false,
     "start_time": "2023-07-18T06:37:28.293653",
     "status": "completed"
    },
    "tags": []
   },
   "source": [
    "### Evaluate model performance on evaluation data set"
   ]
  },
  {
   "cell_type": "code",
   "execution_count": 9,
   "id": "7a85b83a",
   "metadata": {
    "execution": {
     "iopub.execute_input": "2023-07-18T06:37:28.308993Z",
     "iopub.status.busy": "2023-07-18T06:37:28.308709Z",
     "iopub.status.idle": "2023-07-18T06:37:28.315442Z",
     "shell.execute_reply": "2023-07-18T06:37:28.314076Z"
    },
    "papermill": {
     "duration": 0.015356,
     "end_time": "2023-07-18T06:37:28.317818",
     "exception": false,
     "start_time": "2023-07-18T06:37:28.302462",
     "status": "completed"
    },
    "tags": []
   },
   "outputs": [],
   "source": [
    "# load evaluation data\n",
    "X_test = read_numpy(datalake_root(ctx) / \"test-data\" / \"digits.numpy\")\n",
    "y_test = read_numpy(datalake_root(ctx) / \"test-data\" / \"labels.numpy\")"
   ]
  },
  {
   "cell_type": "code",
   "execution_count": 10,
   "id": "6dbb3aae",
   "metadata": {
    "execution": {
     "iopub.execute_input": "2023-07-18T06:37:28.329185Z",
     "iopub.status.busy": "2023-07-18T06:37:28.328889Z",
     "iopub.status.idle": "2023-07-18T06:37:28.343077Z",
     "shell.execute_reply": "2023-07-18T06:37:28.342437Z"
    },
    "papermill": {
     "duration": 0.022902,
     "end_time": "2023-07-18T06:37:28.345286",
     "exception": false,
     "start_time": "2023-07-18T06:37:28.322384",
     "status": "completed"
    },
    "tags": []
   },
   "outputs": [],
   "source": [
    "def get_model_outputs(X, onnx_inference_session):\n",
    "    y_pred_labels, y_pred_map = onnx_inference_session.run(\n",
    "        [\"output_label\", \"output_probability\"],\n",
    "        {\"float_input_8x8_image\": X.astype(np.float32)},\n",
    "    )\n",
    "    y_pred_probs = np.array(\n",
    "        [[probabilities[digit] for digit in range(10)] for probabilities in y_pred_map]\n",
    "    )\n",
    "\n",
    "    assert y_pred_labels.shape == (X.shape[0],)\n",
    "    assert y_pred_probs.shape == (X.shape[0], 10)\n",
    "\n",
    "    return y_pred_labels, y_pred_probs\n",
    "\n",
    "\n",
    "# Note: as shown in the training notebook, the predicted labels and probabilities\n",
    "# computed below need not be compatible.\n",
    "y_pred_labels_test, y_pred_probs_test = get_model_outputs(\n",
    "    X_test, onnx_inference_session\n",
    ")"
   ]
  },
  {
   "cell_type": "markdown",
   "id": "efd1474e",
   "metadata": {
    "papermill": {
     "duration": 0.004704,
     "end_time": "2023-07-18T06:37:28.355242",
     "exception": false,
     "start_time": "2023-07-18T06:37:28.350538",
     "status": "completed"
    },
    "tags": []
   },
   "source": [
    "### Confusion matrix"
   ]
  },
  {
   "cell_type": "code",
   "execution_count": 11,
   "id": "3adc7edf",
   "metadata": {
    "execution": {
     "iopub.execute_input": "2023-07-18T06:37:28.374061Z",
     "iopub.status.busy": "2023-07-18T06:37:28.372398Z",
     "iopub.status.idle": "2023-07-18T06:37:28.379360Z",
     "shell.execute_reply": "2023-07-18T06:37:28.378690Z"
    },
    "papermill": {
     "duration": 0.021,
     "end_time": "2023-07-18T06:37:28.381163",
     "exception": false,
     "start_time": "2023-07-18T06:37:28.360163",
     "status": "completed"
    },
    "tags": []
   },
   "outputs": [],
   "source": [
    "# TODO"
   ]
  },
  {
   "cell_type": "markdown",
   "id": "22197303",
   "metadata": {
    "papermill": {
     "duration": 0.005032,
     "end_time": "2023-07-18T06:37:28.391185",
     "exception": false,
     "start_time": "2023-07-18T06:37:28.386153",
     "status": "completed"
    },
    "tags": []
   },
   "source": [
    "### Plot predicted probabilities for each classifier over all evaluation digit images"
   ]
  },
  {
   "cell_type": "code",
   "execution_count": 12,
   "id": "ed572159",
   "metadata": {
    "execution": {
     "iopub.execute_input": "2023-07-18T06:37:28.401519Z",
     "iopub.status.busy": "2023-07-18T06:37:28.401251Z",
     "iopub.status.idle": "2023-07-18T06:37:32.611423Z",
     "shell.execute_reply": "2023-07-18T06:37:32.610636Z"
    },
    "papermill": {
     "duration": 4.21764,
     "end_time": "2023-07-18T06:37:32.613325",
     "exception": false,
     "start_time": "2023-07-18T06:37:28.395685",
     "status": "completed"
    },
    "tags": []
   },
   "outputs": [
    {
     "data": {
      "image/png": "[encoded data removed]",
      "text/plain": [
       "<Figure size 1600x600 with 10 Axes>"
      ]
     },
     "metadata": {},
     "output_type": "display_data"
    }
   ],
   "source": [
    "def plot_per_digit_probabilities(y_pred_probs):\n",
    "    fig, axs = plt.subplots(nrows=2, ncols=5, figsize=(16, 6))\n",
    "\n",
    "    for (r, c), digit, ax in zip(\n",
    "        it.product(range(2), range(5)), range(10), axs.reshape(-1)\n",
    "    ):\n",
    "        ax.hist(y_pred_probs_test[:, digit], bins=20)\n",
    "\n",
    "        ax.set_title(f\"Digit {digit}\")\n",
    "        if r == 1 and c == 2:\n",
    "            ax.set_xlabel(\"probability\", fontsize=16)\n",
    "\n",
    "        if c == 0:\n",
    "            ax.set_ylabel(\"counts\", fontsize=16)\n",
    "        ax.set_yscale(\"log\")\n",
    "\n",
    "    fig.tight_layout()\n",
    "    fig.suptitle(\n",
    "        f\"Distributions of prediction probabilities for each digit \"\n",
    "        f\"(on evaluation data, n={y_pred_probs.shape[0]})\",\n",
    "        fontsize=20,\n",
    "    )\n",
    "    fig.tight_layout()\n",
    "    fig.show()\n",
    "\n",
    "    return fig\n",
    "\n",
    "\n",
    "fig = plot_per_digit_probabilities(y_pred_probs_test)"
   ]
  },
  {
   "cell_type": "markdown",
   "id": "82235245",
   "metadata": {
    "papermill": {
     "duration": 0.005577,
     "end_time": "2023-07-18T06:37:32.627046",
     "exception": false,
     "start_time": "2023-07-18T06:37:32.621469",
     "status": "completed"
    },
    "tags": []
   },
   "source": [
    "From the above distributions we see that most digits have clear separation between\n",
    "high and lower probabilities. Morover, in each case there is roughly an order of\n",
    "magnitude more of digits with low probabilities. This is compatible with digits\n",
    "being roughly evenly distributed in the data."
   ]
  },
  {
   "cell_type": "code",
   "execution_count": 13,
   "id": "d0b6ba46",
   "metadata": {
    "execution": {
     "iopub.execute_input": "2023-07-18T06:37:32.639970Z",
     "iopub.status.busy": "2023-07-18T06:37:32.639523Z",
     "iopub.status.idle": "2023-07-18T06:37:33.271661Z",
     "shell.execute_reply": "2023-07-18T06:37:33.270942Z"
    },
    "papermill": {
     "duration": 0.640938,
     "end_time": "2023-07-18T06:37:33.273543",
     "exception": false,
     "start_time": "2023-07-18T06:37:32.632605",
     "status": "completed"
    },
    "tags": []
   },
   "outputs": [],
   "source": [
    "ctx.log_figure(\"per-digit-probabilities.png\", fig)"
   ]
  },
  {
   "cell_type": "markdown",
   "id": "61059c7b",
   "metadata": {
    "papermill": {
     "duration": 0.005449,
     "end_time": "2023-07-18T06:37:33.284596",
     "exception": false,
     "start_time": "2023-07-18T06:37:33.279147",
     "status": "completed"
    },
    "tags": []
   },
   "source": [
    "### Plot ROC curves for individual one-vs-rest classifiers"
   ]
  },
  {
   "cell_type": "code",
   "execution_count": 14,
   "id": "1c62216f",
   "metadata": {
    "execution": {
     "iopub.execute_input": "2023-07-18T06:37:33.297080Z",
     "iopub.status.busy": "2023-07-18T06:37:33.296686Z",
     "iopub.status.idle": "2023-07-18T06:37:33.648796Z",
     "shell.execute_reply": "2023-07-18T06:37:33.647659Z"
    },
    "papermill": {
     "duration": 0.360753,
     "end_time": "2023-07-18T06:37:33.650759",
     "exception": false,
     "start_time": "2023-07-18T06:37:33.290006",
     "status": "completed"
    },
    "tags": []
   },
   "outputs": [],
   "source": [
    "from sklearn import metrics"
   ]
  },
  {
   "cell_type": "code",
   "execution_count": 15,
   "id": "9bf4247a",
   "metadata": {
    "execution": {
     "iopub.execute_input": "2023-07-18T06:37:33.664968Z",
     "iopub.status.busy": "2023-07-18T06:37:33.664112Z",
     "iopub.status.idle": "2023-07-18T06:37:35.843795Z",
     "shell.execute_reply": "2023-07-18T06:37:35.843034Z"
    },
    "papermill": {
     "duration": 2.188819,
     "end_time": "2023-07-18T06:37:35.846043",
     "exception": false,
     "start_time": "2023-07-18T06:37:33.657224",
     "status": "completed"
    },
    "tags": []
   },
   "outputs": [
    {
     "data": {
      "image/png": "[encoded data removed]",
      "text/plain": [
       "<Figure size 1600x800 with 10 Axes>"
      ]
     },
     "metadata": {},
     "output_type": "display_data"
    }
   ],
   "source": [
    "def plot_roc_curves(y, y_pred_probs):\n",
    "    # based on example code\n",
    "    # https://scikit-learn.org/stable/auto_examples/model_selection/plot_roc.html\n",
    "\n",
    "    fig, axs = plt.subplots(nrows=2, ncols=5, figsize=(16, 8))\n",
    "\n",
    "    roc_auc_dict = {}\n",
    "\n",
    "    for (r, c), digit, ax in zip(\n",
    "        it.product(range(2), range(5)), range(10), axs.reshape(-1)\n",
    "    ):\n",
    "        fpr, tpr, _ = metrics.roc_curve(y == digit, y_pred_probs[:, digit])\n",
    "        auc = metrics.auc(fpr, tpr)\n",
    "        roc_auc_dict[str(digit)] = auc\n",
    "\n",
    "        ax.plot(fpr, tpr, label=f\"ROC AUC={round(auc, 3)}\")\n",
    "\n",
    "        ax.set_title(f\"\\nDigit {digit}\", fontsize=16)\n",
    "        if r == 1:\n",
    "            ax.set_xlabel(\"FPR\", fontsize=18)\n",
    "\n",
    "        if c == 0:\n",
    "            ax.set_ylabel(\"TPR\", fontsize=18)\n",
    "\n",
    "        ax.set_xlim([-0.05, 1.05])\n",
    "        ax.set_ylim([-0.05, 1.05])\n",
    "        ax.legend(loc=\"lower right\", frameon=False, fontsize=14)\n",
    "\n",
    "    fig.tight_layout()\n",
    "    fig.suptitle(\n",
    "        f\"ROC plots for one-vs-rest performances \"\n",
    "        f\"(on evaluation data, n={y_pred_probs_test.shape[1]}\",\n",
    "        fontsize=22,\n",
    "    )\n",
    "    fig.tight_layout()\n",
    "    fig.show()\n",
    "\n",
    "    return roc_auc_dict, fig\n",
    "\n",
    "\n",
    "roc_auc_dict, fig = plot_roc_curves(y_test, y_pred_probs_test)"
   ]
  },
  {
   "cell_type": "code",
   "execution_count": 16,
   "id": "9123d2b4",
   "metadata": {
    "execution": {
     "iopub.execute_input": "2023-07-18T06:37:35.864429Z",
     "iopub.status.busy": "2023-07-18T06:37:35.864109Z",
     "iopub.status.idle": "2023-07-18T06:37:36.241740Z",
     "shell.execute_reply": "2023-07-18T06:37:36.240428Z"
    },
    "papermill": {
     "duration": 0.391814,
     "end_time": "2023-07-18T06:37:36.245448",
     "exception": false,
     "start_time": "2023-07-18T06:37:35.853634",
     "status": "completed"
    },
    "tags": []
   },
   "outputs": [],
   "source": [
    "ctx.log_figure(\"per-digit-roc-curves.png\", fig)"
   ]
  },
  {
   "cell_type": "code",
   "execution_count": 17,
   "id": "b7316d4c",
   "metadata": {
    "execution": {
     "iopub.execute_input": "2023-07-18T06:37:36.292527Z",
     "iopub.status.busy": "2023-07-18T06:37:36.290891Z",
     "iopub.status.idle": "2023-07-18T06:37:36.331077Z",
     "shell.execute_reply": "2023-07-18T06:37:36.323913Z"
    },
    "papermill": {
     "duration": 0.080597,
     "end_time": "2023-07-18T06:37:36.340667",
     "exception": false,
     "start_time": "2023-07-18T06:37:36.260070",
     "status": "completed"
    },
    "tags": []
   },
   "outputs": [
    {
     "data": {
      "text/plain": [
       "{'0': 1.0,\n",
       " '1': 0.9992127460168697,\n",
       " '2': 1.0,\n",
       " '3': 0.9997000937207123,\n",
       " '4': 0.9991617131534827,\n",
       " '5': 0.998950328022493,\n",
       " '6': 0.999923792104862,\n",
       " '7': 0.9998475842097241,\n",
       " '8': 0.9939312736443884,\n",
       " '9': 0.9987044657826551}"
      ]
     },
     "execution_count": 17,
     "metadata": {},
     "output_type": "execute_result"
    }
   ],
   "source": [
    "roc_auc_dict"
   ]
  },
  {
   "cell_type": "code",
   "execution_count": 18,
   "id": "583ab17a",
   "metadata": {
    "execution": {
     "iopub.execute_input": "2023-07-18T06:37:36.409055Z",
     "iopub.status.busy": "2023-07-18T06:37:36.408747Z",
     "iopub.status.idle": "2023-07-18T06:37:36.443917Z",
     "shell.execute_reply": "2023-07-18T06:37:36.435258Z"
    },
    "papermill": {
     "duration": 0.062969,
     "end_time": "2023-07-18T06:37:36.449705",
     "exception": false,
     "start_time": "2023-07-18T06:37:36.386736",
     "status": "completed"
    },
    "tags": []
   },
   "outputs": [
    {
     "name": "stdout",
     "output_type": "stream",
     "text": [
      " - Logging roc_auc_per_digit (json) : {'0': 1.0, '1': 0.9992127460168697, '2': 1.0, '3': 0.9997000937207123, '4': 0.9991617131534827, '5': 0.998950328022493, '6': 0.999923792104862, '7': 0.9998475842097241, '8': 0.9939312736443884, '9': 0.9987044657826551}\n"
     ]
    }
   ],
   "source": [
    "ctx.log_value(\"roc_auc_per_digit\", roc_auc_dict)"
   ]
  },
  {
   "cell_type": "markdown",
   "id": "b7fd81ce",
   "metadata": {
    "papermill": {
     "duration": 0.016824,
     "end_time": "2023-07-18T06:37:36.479710",
     "exception": false,
     "start_time": "2023-07-18T06:37:36.462886",
     "status": "completed"
    },
    "tags": []
   },
   "source": [
    "### Compute and log mean ROC AUC score averaged over all digits"
   ]
  },
  {
   "cell_type": "code",
   "execution_count": 19,
   "id": "ccfe4de0",
   "metadata": {
    "execution": {
     "iopub.execute_input": "2023-07-18T06:37:36.609043Z",
     "iopub.status.busy": "2023-07-18T06:37:36.608732Z",
     "iopub.status.idle": "2023-07-18T06:37:36.647343Z",
     "shell.execute_reply": "2023-07-18T06:37:36.645212Z"
    },
    "papermill": {
     "duration": 0.05978,
     "end_time": "2023-07-18T06:37:36.649564",
     "exception": false,
     "start_time": "2023-07-18T06:37:36.589784",
     "status": "completed"
    },
    "tags": []
   },
   "outputs": [
    {
     "name": "stdout",
     "output_type": "stream",
     "text": [
      " - Logging roc_auc_class_mean (float) : 0.9989431996655188\n"
     ]
    }
   ],
   "source": [
    "roc_auc_macro = np.mean(list(roc_auc_dict.values()))\n",
    "\n",
    "ctx.log_float(\"roc_auc_class_mean\", roc_auc_macro)\n",
    "\n",
    "# assert that the same value can be computed directly using sklearn\n",
    "assert roc_auc_macro == metrics.roc_auc_score(\n",
    "    y_test, y_pred_probs_test, average=\"macro\", multi_class=\"ovr\"\n",
    ")"
   ]
  },
  {
   "cell_type": "code",
   "execution_count": 20,
   "id": "77633d5b",
   "metadata": {
    "execution": {
     "iopub.execute_input": "2023-07-18T06:37:36.671121Z",
     "iopub.status.busy": "2023-07-18T06:37:36.670809Z",
     "iopub.status.idle": "2023-07-18T06:37:36.675597Z",
     "shell.execute_reply": "2023-07-18T06:37:36.674918Z"
    },
    "lines_to_next_cell": 0,
    "papermill": {
     "duration": 0.015352,
     "end_time": "2023-07-18T06:37:36.677546",
     "exception": false,
     "start_time": "2023-07-18T06:37:36.662194",
     "status": "completed"
    },
    "tags": []
   },
   "outputs": [],
   "source": [
    "# ---"
   ]
  },
  {
   "cell_type": "code",
   "execution_count": null,
   "id": "bfb3223e",
   "metadata": {
    "papermill": {
     "duration": 0.007019,
     "end_time": "2023-07-18T06:37:36.691697",
     "exception": false,
     "start_time": "2023-07-18T06:37:36.684678",
     "status": "completed"
    },
    "tags": []
   },
   "outputs": [],
   "source": []
  }
 ],
 "metadata": {
  "jupytext": {
   "cell_metadata_filter": "tags,-all",
   "main_language": "python",
   "notebook_metadata_filter": "-all"
  },
  "language_info": {
   "codemirror_mode": {
    "name": "ipython",
    "version": 3
   },
   "file_extension": ".py",
   "mimetype": "text/x-python",
   "name": "python",
   "nbconvert_exporter": "python",
   "pygments_lexer": "ipython3",
   "version": "3.8.10"
  },
  "papermill": {
   "default_parameters": {},
   "duration": 12.73998,
   "end_time": "2023-07-18T06:37:38.440162",
   "environment_variables": {},
   "exception": null,
   "input_path": "/tmp/temp-notebook-z0r4yvw2.ipynb",
   "output_path": "/tmp/temp-notebook-z0r4yvw2.ipynb",
   "parameters": {
    "P": {
     "_parameters_actor_name": "parameter_for_task_0x9cd9a141340e9e72",
     "task.nr_train_images": 600
    }
   },
   "start_time": "2023-07-18T06:37:25.700182",
   "version": "2.4.0"
  }
 },
 "nbformat": 4,
 "nbformat_minor": 5
}