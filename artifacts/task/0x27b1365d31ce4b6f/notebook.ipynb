{
 "cells": [
  {
   "cell_type": "markdown",
   "id": "83b04718",
   "metadata": {
    "papermill": {
     "duration": 0.005381,
     "end_time": "2023-07-25T06:36:17.836889",
     "exception": false,
     "start_time": "2023-07-25T06:36:17.831508",
     "status": "completed"
    },
    "tags": []
   },
   "source": [
    "# Benchmark model\n",
    "\n",
    "The purpose of this notebook is to benchmark persisted onnx-model (trained in the\n",
    "previous step) against evaluation set."
   ]
  },
  {
   "cell_type": "markdown",
   "id": "29fce422",
   "metadata": {
    "papermill": {
     "duration": 0.00495,
     "end_time": "2023-07-25T06:36:17.848888",
     "exception": false,
     "start_time": "2023-07-25T06:36:17.843938",
     "status": "completed"
    },
    "tags": []
   },
   "source": [
    "### Determine run parameters"
   ]
  },
  {
   "cell_type": "code",
   "execution_count": 1,
   "id": "7b9a6d23",
   "metadata": {
    "execution": {
     "iopub.execute_input": "2023-07-25T06:36:17.858646Z",
     "iopub.status.busy": "2023-07-25T06:36:17.858371Z",
     "iopub.status.idle": "2023-07-25T06:36:17.866180Z",
     "shell.execute_reply": "2023-07-25T06:36:17.865568Z"
    },
    "lines_to_next_cell": 0,
    "papermill": {
     "duration": 0.014998,
     "end_time": "2023-07-25T06:36:17.868072",
     "exception": false,
     "start_time": "2023-07-25T06:36:17.853074",
     "status": "completed"
    },
    "tags": []
   },
   "outputs": [],
   "source": [
    "# ----------------- Parameters for interactive development --------------\n",
    "P = {\n",
    "    \"workflow.data_lake_root\": \"/pipeline-outputs/data-lake\",\n",
    "    \"task.nr_train_images\": 600,\n",
    "}"
   ]
  },
  {
   "cell_type": "code",
   "execution_count": 2,
   "id": "9556fbe5",
   "metadata": {
    "execution": {
     "iopub.execute_input": "2023-07-25T06:36:17.877451Z",
     "iopub.status.busy": "2023-07-25T06:36:17.877117Z",
     "iopub.status.idle": "2023-07-25T06:36:17.883614Z",
     "shell.execute_reply": "2023-07-25T06:36:17.883059Z"
    },
    "lines_to_next_cell": 0,
    "papermill": {
     "duration": 0.013384,
     "end_time": "2023-07-25T06:36:17.885404",
     "exception": false,
     "start_time": "2023-07-25T06:36:17.872020",
     "status": "completed"
    },
    "tags": [
     "parameters"
    ]
   },
   "outputs": [],
   "source": [
    "# - During automated runs parameters will be injected in the below cell -"
   ]
  },
  {
   "cell_type": "code",
   "execution_count": 3,
   "id": "9c01d3e8",
   "metadata": {
    "execution": {
     "iopub.execute_input": "2023-07-25T06:36:17.894418Z",
     "iopub.status.busy": "2023-07-25T06:36:17.894177Z",
     "iopub.status.idle": "2023-07-25T06:36:17.898422Z",
     "shell.execute_reply": "2023-07-25T06:36:17.897849Z"
    },
    "papermill": {
     "duration": 0.010837,
     "end_time": "2023-07-25T06:36:17.900143",
     "exception": false,
     "start_time": "2023-07-25T06:36:17.889306",
     "status": "completed"
    },
    "tags": [
     "injected-parameters"
    ]
   },
   "outputs": [],
   "source": [
    "# Parameters\n",
    "P = {\n",
    "    \"task.nr_train_images\": 1000,\n",
    "    \"_parameters_actor_name\": \"parameter_for_task_0x27b1365d31ce4b6f\",\n",
    "}\n"
   ]
  },
  {
   "cell_type": "code",
   "execution_count": 4,
   "id": "1b26cf56",
   "metadata": {
    "execution": {
     "iopub.execute_input": "2023-07-25T06:36:17.909710Z",
     "iopub.status.busy": "2023-07-25T06:36:17.909473Z",
     "iopub.status.idle": "2023-07-25T06:36:17.913915Z",
     "shell.execute_reply": "2023-07-25T06:36:17.913182Z"
    },
    "lines_to_next_cell": 0,
    "papermill": {
     "duration": 0.011735,
     "end_time": "2023-07-25T06:36:17.916177",
     "exception": false,
     "start_time": "2023-07-25T06:36:17.904442",
     "status": "completed"
    },
    "tags": []
   },
   "outputs": [],
   "source": [
    "# -----------------------------------------------------------------------"
   ]
  },
  {
   "cell_type": "markdown",
   "id": "7b74c900",
   "metadata": {
    "papermill": {
     "duration": 0.004092,
     "end_time": "2023-07-25T06:36:17.924397",
     "exception": false,
     "start_time": "2023-07-25T06:36:17.920305",
     "status": "completed"
    },
    "tags": []
   },
   "source": [
    "---"
   ]
  },
  {
   "cell_type": "markdown",
   "id": "705c0ea6",
   "metadata": {
    "lines_to_next_cell": 2,
    "papermill": {
     "duration": 0.004011,
     "end_time": "2023-07-25T06:36:17.932239",
     "exception": false,
     "start_time": "2023-07-25T06:36:17.928228",
     "status": "completed"
    },
    "tags": []
   },
   "source": [
    "### Notebook code"
   ]
  },
  {
   "cell_type": "code",
   "execution_count": 5,
   "id": "95f9c821",
   "metadata": {
    "execution": {
     "iopub.execute_input": "2023-07-25T06:36:17.942391Z",
     "iopub.status.busy": "2023-07-25T06:36:17.942072Z",
     "iopub.status.idle": "2023-07-25T06:36:18.830042Z",
     "shell.execute_reply": "2023-07-25T06:36:18.829415Z"
    },
    "papermill": {
     "duration": 0.895567,
     "end_time": "2023-07-25T06:36:18.831952",
     "exception": false,
     "start_time": "2023-07-25T06:36:17.936385",
     "status": "completed"
    },
    "tags": []
   },
   "outputs": [
    {
     "name": "stderr",
     "output_type": "stream",
     "text": [
      "2023-07-25 06:36:18,738\tINFO worker.py:1364 -- Connecting to existing Ray cluster at address: 172.17.0.2:63822...\n"
     ]
    },
    {
     "name": "stderr",
     "output_type": "stream",
     "text": [
      "2023-07-25 06:36:18,755\tINFO worker.py:1544 -- Connected to Ray cluster. View the dashboard at \u001b[1m\u001b[32mhttp://127.0.0.1:8265 \u001b[39m\u001b[22m\n"
     ]
    },
    {
     "name": "stderr",
     "output_type": "stream",
     "text": [
      "/home/host_user/.local/lib/python3.8/site-packages/ray/runtime_context.py:27: RayDeprecationWarning: This API is deprecated and may be removed in future Ray releases. You could suppress this warning by setting env variable PYTHONWARNINGS=\"ignore::DeprecationWarning\"\n",
      "Use get_job_id() instead\n",
      "  \"job_id\": self.job_id,\n",
      "/home/host_user/.local/lib/python3.8/site-packages/ray/runtime_context.py:28: RayDeprecationWarning: This API is deprecated and may be removed in future Ray releases. You could suppress this warning by setting env variable PYTHONWARNINGS=\"ignore::DeprecationWarning\"\n",
      "Use get_node_id() instead\n",
      "  \"node_id\": self.node_id,\n"
     ]
    }
   ],
   "source": [
    "import itertools as it\n",
    "\n",
    "#\n",
    "import numpy as np\n",
    "import matplotlib.pyplot as plt\n",
    "\n",
    "#\n",
    "from composable_logs.tasks.task_opentelemetry_logging import get_task_context\n",
    "\n",
    "#\n",
    "from common.io import datalake_root\n",
    "\n",
    "ctx = get_task_context(P)"
   ]
  },
  {
   "cell_type": "markdown",
   "id": "8cd23a90",
   "metadata": {
    "papermill": {
     "duration": 0.004199,
     "end_time": "2023-07-25T06:36:18.840702",
     "exception": false,
     "start_time": "2023-07-25T06:36:18.836503",
     "status": "completed"
    },
    "tags": []
   },
   "source": [
    "## Load persisted onnx-model and evaluation data"
   ]
  },
  {
   "cell_type": "code",
   "execution_count": 6,
   "id": "a63ccde4",
   "metadata": {
    "execution": {
     "iopub.execute_input": "2023-07-25T06:36:18.851279Z",
     "iopub.status.busy": "2023-07-25T06:36:18.851009Z",
     "iopub.status.idle": "2023-07-25T06:36:18.862317Z",
     "shell.execute_reply": "2023-07-25T06:36:18.856832Z"
    },
    "papermill": {
     "duration": 0.018721,
     "end_time": "2023-07-25T06:36:18.864080",
     "exception": false,
     "start_time": "2023-07-25T06:36:18.845359",
     "status": "completed"
    },
    "tags": []
   },
   "outputs": [],
   "source": [
    "from common.io import read_onnx, get_onnx_inputs, get_onnx_outputs, read_numpy"
   ]
  },
  {
   "cell_type": "code",
   "execution_count": 7,
   "id": "1c870922",
   "metadata": {
    "execution": {
     "iopub.execute_input": "2023-07-25T06:36:18.896294Z",
     "iopub.status.busy": "2023-07-25T06:36:18.896021Z",
     "iopub.status.idle": "2023-07-25T06:36:18.924644Z",
     "shell.execute_reply": "2023-07-25T06:36:18.921384Z"
    },
    "lines_to_next_cell": 0,
    "papermill": {
     "duration": 0.040509,
     "end_time": "2023-07-25T06:36:18.926638",
     "exception": false,
     "start_time": "2023-07-25T06:36:18.886129",
     "status": "completed"
    },
    "tags": []
   },
   "outputs": [],
   "source": [
    "onnx_inference_session = read_onnx(\n",
    "    datalake_root(ctx)\n",
    "    / \"models\"\n",
    "    / f\"nr_train_images={ctx.parameters['task.nr_train_images']}\"\n",
    "    / \"model.onnx\"\n",
    ")"
   ]
  },
  {
   "cell_type": "markdown",
   "id": "e5b7abb2",
   "metadata": {
    "papermill": {
     "duration": 0.004147,
     "end_time": "2023-07-25T06:36:18.935108",
     "exception": false,
     "start_time": "2023-07-25T06:36:18.930961",
     "status": "completed"
    },
    "tags": []
   },
   "source": [
    "### Record structure of inputs and outputs for ONNX model\n",
    "\n",
    "(this should likely be done in training notebook)"
   ]
  },
  {
   "cell_type": "code",
   "execution_count": 8,
   "id": "64ce682b",
   "metadata": {
    "execution": {
     "iopub.execute_input": "2023-07-25T06:36:18.945063Z",
     "iopub.status.busy": "2023-07-25T06:36:18.944788Z",
     "iopub.status.idle": "2023-07-25T06:36:18.953357Z",
     "shell.execute_reply": "2023-07-25T06:36:18.950987Z"
    },
    "papermill": {
     "duration": 0.015544,
     "end_time": "2023-07-25T06:36:18.955132",
     "exception": false,
     "start_time": "2023-07-25T06:36:18.939588",
     "status": "completed"
    },
    "tags": []
   },
   "outputs": [
    {
     "name": "stdout",
     "output_type": "stream",
     "text": [
      "{\n",
      "  \"inputs\": [\n",
      "    {\n",
      "      \"name\": \"float_input_8x8_image\",\n",
      "      \"shape\": [\n",
      "        null,\n",
      "        64\n",
      "      ],\n",
      "      \"type\": \"tensor(float)\"\n",
      "    }\n",
      "  ],\n",
      "  \"outputs\": [\n",
      "    {\n",
      "      \"name\": \"output_label\",\n",
      "      \"shape\": [\n",
      "        null\n",
      "      ],\n",
      "      \"type\": \"tensor(int64)\"\n",
      "    },\n",
      "    {\n",
      "      \"name\": \"output_probability\",\n",
      "      \"shape\": [],\n",
      "      \"type\": \"seq(map(int64,tensor(float)))\"\n",
      "    }\n",
      "  ]\n",
      "}\n"
     ]
    }
   ],
   "source": [
    "import json\n",
    "\n",
    "onnx_io = json.dumps(\n",
    "    {\n",
    "        \"inputs\": get_onnx_inputs(onnx_inference_session),\n",
    "        \"outputs\": get_onnx_outputs(onnx_inference_session),\n",
    "    },\n",
    "    indent=2,\n",
    ")\n",
    "\n",
    "\n",
    "ctx.log_artefact(\"onnx_io_structure.json\", onnx_io)\n",
    "print(onnx_io)"
   ]
  },
  {
   "cell_type": "markdown",
   "id": "3c5f1039",
   "metadata": {
    "papermill": {
     "duration": 0.004113,
     "end_time": "2023-07-25T06:36:18.963925",
     "exception": false,
     "start_time": "2023-07-25T06:36:18.959812",
     "status": "completed"
    },
    "tags": []
   },
   "source": [
    "### Evaluate model performance on evaluation data set"
   ]
  },
  {
   "cell_type": "code",
   "execution_count": 9,
   "id": "64f6b766",
   "metadata": {
    "execution": {
     "iopub.execute_input": "2023-07-25T06:36:18.973769Z",
     "iopub.status.busy": "2023-07-25T06:36:18.973490Z",
     "iopub.status.idle": "2023-07-25T06:36:18.979084Z",
     "shell.execute_reply": "2023-07-25T06:36:18.978548Z"
    },
    "papermill": {
     "duration": 0.012621,
     "end_time": "2023-07-25T06:36:18.980803",
     "exception": false,
     "start_time": "2023-07-25T06:36:18.968182",
     "status": "completed"
    },
    "tags": []
   },
   "outputs": [],
   "source": [
    "# load evaluation data\n",
    "X_test = read_numpy(datalake_root(ctx) / \"test-data\" / \"digits.numpy\")\n",
    "y_test = read_numpy(datalake_root(ctx) / \"test-data\" / \"labels.numpy\")"
   ]
  },
  {
   "cell_type": "code",
   "execution_count": 10,
   "id": "6b32c404",
   "metadata": {
    "execution": {
     "iopub.execute_input": "2023-07-25T06:36:18.990783Z",
     "iopub.status.busy": "2023-07-25T06:36:18.990537Z",
     "iopub.status.idle": "2023-07-25T06:36:19.003557Z",
     "shell.execute_reply": "2023-07-25T06:36:19.003014Z"
    },
    "papermill": {
     "duration": 0.019998,
     "end_time": "2023-07-25T06:36:19.005346",
     "exception": false,
     "start_time": "2023-07-25T06:36:18.985348",
     "status": "completed"
    },
    "tags": []
   },
   "outputs": [],
   "source": [
    "def get_model_outputs(X, onnx_inference_session):\n",
    "    y_pred_labels, y_pred_map = onnx_inference_session.run(\n",
    "        [\"output_label\", \"output_probability\"],\n",
    "        {\"float_input_8x8_image\": X.astype(np.float32)},\n",
    "    )\n",
    "    y_pred_probs = np.array(\n",
    "        [[probabilities[digit] for digit in range(10)] for probabilities in y_pred_map]\n",
    "    )\n",
    "\n",
    "    assert y_pred_labels.shape == (X.shape[0],)\n",
    "    assert y_pred_probs.shape == (X.shape[0], 10)\n",
    "\n",
    "    return y_pred_labels, y_pred_probs\n",
    "\n",
    "\n",
    "# Note: as shown in the training notebook, the predicted labels and probabilities\n",
    "# computed below need not be compatible.\n",
    "y_pred_labels_test, y_pred_probs_test = get_model_outputs(\n",
    "    X_test, onnx_inference_session\n",
    ")"
   ]
  },
  {
   "cell_type": "markdown",
   "id": "2c8df62e",
   "metadata": {
    "papermill": {
     "duration": 0.004222,
     "end_time": "2023-07-25T06:36:19.013997",
     "exception": false,
     "start_time": "2023-07-25T06:36:19.009775",
     "status": "completed"
    },
    "tags": []
   },
   "source": [
    "### Confusion matrix"
   ]
  },
  {
   "cell_type": "code",
   "execution_count": 11,
   "id": "fb66b8f3",
   "metadata": {
    "execution": {
     "iopub.execute_input": "2023-07-25T06:36:19.026583Z",
     "iopub.status.busy": "2023-07-25T06:36:19.026312Z",
     "iopub.status.idle": "2023-07-25T06:36:19.029860Z",
     "shell.execute_reply": "2023-07-25T06:36:19.028562Z"
    },
    "papermill": {
     "duration": 0.012489,
     "end_time": "2023-07-25T06:36:19.033198",
     "exception": false,
     "start_time": "2023-07-25T06:36:19.020709",
     "status": "completed"
    },
    "tags": []
   },
   "outputs": [],
   "source": [
    "# TODO"
   ]
  },
  {
   "cell_type": "markdown",
   "id": "1cdc8de6",
   "metadata": {
    "papermill": {
     "duration": 0.0042,
     "end_time": "2023-07-25T06:36:19.041839",
     "exception": false,
     "start_time": "2023-07-25T06:36:19.037639",
     "status": "completed"
    },
    "tags": []
   },
   "source": [
    "### Plot predicted probabilities for each classifier over all evaluation digit images"
   ]
  },
  {
   "cell_type": "code",
   "execution_count": 12,
   "id": "f725b0e7",
   "metadata": {
    "execution": {
     "iopub.execute_input": "2023-07-25T06:36:19.052195Z",
     "iopub.status.busy": "2023-07-25T06:36:19.051931Z",
     "iopub.status.idle": "2023-07-25T06:36:22.784455Z",
     "shell.execute_reply": "2023-07-25T06:36:22.782876Z"
    },
    "papermill": {
     "duration": 3.740067,
     "end_time": "2023-07-25T06:36:22.786349",
     "exception": false,
     "start_time": "2023-07-25T06:36:19.046282",
     "status": "completed"
    },
    "tags": []
   },
   "outputs": [
    {
     "data": {
      "image/png": "[encoded data removed]",
      "text/plain": [
       "<Figure size 1600x600 with 10 Axes>"
      ]
     },
     "metadata": {},
     "output_type": "display_data"
    }
   ],
   "source": [
    "def plot_per_digit_probabilities(y_pred_probs):\n",
    "    fig, axs = plt.subplots(nrows=2, ncols=5, figsize=(16, 6))\n",
    "\n",
    "    for (r, c), digit, ax in zip(\n",
    "        it.product(range(2), range(5)), range(10), axs.reshape(-1)\n",
    "    ):\n",
    "        ax.hist(y_pred_probs_test[:, digit], bins=20)\n",
    "\n",
    "        ax.set_title(f\"Digit {digit}\")\n",
    "        if r == 1 and c == 2:\n",
    "            ax.set_xlabel(\"probability\", fontsize=16)\n",
    "\n",
    "        if c == 0:\n",
    "            ax.set_ylabel(\"counts\", fontsize=16)\n",
    "        ax.set_yscale(\"log\")\n",
    "\n",
    "    fig.tight_layout()\n",
    "    fig.suptitle(\n",
    "        f\"Distributions of prediction probabilities for each digit \"\n",
    "        f\"(on evaluation data, n={y_pred_probs.shape[0]})\",\n",
    "        fontsize=20,\n",
    "    )\n",
    "    fig.tight_layout()\n",
    "    fig.show()\n",
    "\n",
    "    return fig\n",
    "\n",
    "\n",
    "fig = plot_per_digit_probabilities(y_pred_probs_test)"
   ]
  },
  {
   "cell_type": "markdown",
   "id": "1a681d2c",
   "metadata": {
    "papermill": {
     "duration": 0.005345,
     "end_time": "2023-07-25T06:36:22.797388",
     "exception": false,
     "start_time": "2023-07-25T06:36:22.792043",
     "status": "completed"
    },
    "tags": []
   },
   "source": [
    "From the above distributions we see that most digits have clear separation between\n",
    "high and lower probabilities. Morover, in each case there is roughly an order of\n",
    "magnitude more of digits with low probabilities. This is compatible with digits\n",
    "being roughly evenly distributed in the data."
   ]
  },
  {
   "cell_type": "code",
   "execution_count": 13,
   "id": "b0a3acb5",
   "metadata": {
    "execution": {
     "iopub.execute_input": "2023-07-25T06:36:22.812208Z",
     "iopub.status.busy": "2023-07-25T06:36:22.811931Z",
     "iopub.status.idle": "2023-07-25T06:36:23.387597Z",
     "shell.execute_reply": "2023-07-25T06:36:23.386947Z"
    },
    "papermill": {
     "duration": 0.586676,
     "end_time": "2023-07-25T06:36:23.389375",
     "exception": false,
     "start_time": "2023-07-25T06:36:22.802699",
     "status": "completed"
    },
    "tags": []
   },
   "outputs": [],
   "source": [
    "ctx.log_figure(\"per-digit-probabilities.png\", fig)"
   ]
  },
  {
   "cell_type": "markdown",
   "id": "9257d5c6",
   "metadata": {
    "papermill": {
     "duration": 0.005046,
     "end_time": "2023-07-25T06:36:23.399813",
     "exception": false,
     "start_time": "2023-07-25T06:36:23.394767",
     "status": "completed"
    },
    "tags": []
   },
   "source": [
    "### Plot ROC curves for individual one-vs-rest classifiers"
   ]
  },
  {
   "cell_type": "code",
   "execution_count": 14,
   "id": "cb1a9408",
   "metadata": {
    "execution": {
     "iopub.execute_input": "2023-07-25T06:36:23.411866Z",
     "iopub.status.busy": "2023-07-25T06:36:23.411202Z",
     "iopub.status.idle": "2023-07-25T06:36:23.704683Z",
     "shell.execute_reply": "2023-07-25T06:36:23.703973Z"
    },
    "papermill": {
     "duration": 0.301349,
     "end_time": "2023-07-25T06:36:23.706465",
     "exception": false,
     "start_time": "2023-07-25T06:36:23.405116",
     "status": "completed"
    },
    "tags": []
   },
   "outputs": [],
   "source": [
    "from sklearn import metrics"
   ]
  },
  {
   "cell_type": "code",
   "execution_count": 15,
   "id": "936a5d8a",
   "metadata": {
    "execution": {
     "iopub.execute_input": "2023-07-25T06:36:23.718923Z",
     "iopub.status.busy": "2023-07-25T06:36:23.718256Z",
     "iopub.status.idle": "2023-07-25T06:36:25.603936Z",
     "shell.execute_reply": "2023-07-25T06:36:25.603251Z"
    },
    "papermill": {
     "duration": 1.893773,
     "end_time": "2023-07-25T06:36:25.605651",
     "exception": false,
     "start_time": "2023-07-25T06:36:23.711878",
     "status": "completed"
    },
    "tags": []
   },
   "outputs": [
    {
     "data": {
      "image/png": "[encoded data removed]",
      "text/plain": [
       "<Figure size 1600x800 with 10 Axes>"
      ]
     },
     "metadata": {},
     "output_type": "display_data"
    }
   ],
   "source": [
    "def plot_roc_curves(y, y_pred_probs):\n",
    "    # based on example code\n",
    "    # https://scikit-learn.org/stable/auto_examples/model_selection/plot_roc.html\n",
    "\n",
    "    fig, axs = plt.subplots(nrows=2, ncols=5, figsize=(16, 8))\n",
    "\n",
    "    roc_auc_dict = {}\n",
    "\n",
    "    for (r, c), digit, ax in zip(\n",
    "        it.product(range(2), range(5)), range(10), axs.reshape(-1)\n",
    "    ):\n",
    "        fpr, tpr, _ = metrics.roc_curve(y == digit, y_pred_probs[:, digit])\n",
    "        auc = metrics.auc(fpr, tpr)\n",
    "        roc_auc_dict[str(digit)] = auc\n",
    "\n",
    "        ax.plot(fpr, tpr, label=f\"ROC AUC={round(auc, 3)}\")\n",
    "\n",
    "        ax.set_title(f\"\\nDigit {digit}\", fontsize=16)\n",
    "        if r == 1:\n",
    "            ax.set_xlabel(\"FPR\", fontsize=18)\n",
    "\n",
    "        if c == 0:\n",
    "            ax.set_ylabel(\"TPR\", fontsize=18)\n",
    "\n",
    "        ax.set_xlim([-0.05, 1.05])\n",
    "        ax.set_ylim([-0.05, 1.05])\n",
    "        ax.legend(loc=\"lower right\", frameon=False, fontsize=14)\n",
    "\n",
    "    fig.tight_layout()\n",
    "    fig.suptitle(\n",
    "        f\"ROC plots for one-vs-rest performances \"\n",
    "        f\"(on evaluation data, n={y_pred_probs_test.shape[1]}\",\n",
    "        fontsize=22,\n",
    "    )\n",
    "    fig.tight_layout()\n",
    "    fig.show()\n",
    "\n",
    "    return roc_auc_dict, fig\n",
    "\n",
    "\n",
    "roc_auc_dict, fig = plot_roc_curves(y_test, y_pred_probs_test)"
   ]
  },
  {
   "cell_type": "code",
   "execution_count": 16,
   "id": "b4172362",
   "metadata": {
    "execution": {
     "iopub.execute_input": "2023-07-25T06:36:25.619653Z",
     "iopub.status.busy": "2023-07-25T06:36:25.619391Z",
     "iopub.status.idle": "2023-07-25T06:36:25.996546Z",
     "shell.execute_reply": "2023-07-25T06:36:25.995679Z"
    },
    "papermill": {
     "duration": 0.386708,
     "end_time": "2023-07-25T06:36:25.998683",
     "exception": false,
     "start_time": "2023-07-25T06:36:25.611975",
     "status": "completed"
    },
    "tags": []
   },
   "outputs": [],
   "source": [
    "ctx.log_figure(\"per-digit-roc-curves.png\", fig)"
   ]
  },
  {
   "cell_type": "code",
   "execution_count": 17,
   "id": "8824fb9b",
   "metadata": {
    "execution": {
     "iopub.execute_input": "2023-07-25T06:36:26.013009Z",
     "iopub.status.busy": "2023-07-25T06:36:26.012734Z",
     "iopub.status.idle": "2023-07-25T06:36:26.025898Z",
     "shell.execute_reply": "2023-07-25T06:36:26.021203Z"
    },
    "papermill": {
     "duration": 0.024876,
     "end_time": "2023-07-25T06:36:26.030367",
     "exception": false,
     "start_time": "2023-07-25T06:36:26.005491",
     "status": "completed"
    },
    "tags": []
   },
   "outputs": [
    {
     "data": {
      "text/plain": [
       "{'0': 1.0,\n",
       " '1': 0.999025304592315,\n",
       " '2': 1.0,\n",
       " '3': 0.9998500468603562,\n",
       " '4': 0.9995808565767413,\n",
       " '5': 0.9994376757263355,\n",
       " '6': 0.999923792104862,\n",
       " '7': 0.9997713763145862,\n",
       " '8': 0.9948770491803278,\n",
       " '9': 0.9995427526291725}"
      ]
     },
     "execution_count": 17,
     "metadata": {},
     "output_type": "execute_result"
    }
   ],
   "source": [
    "roc_auc_dict"
   ]
  },
  {
   "cell_type": "code",
   "execution_count": 18,
   "id": "17001610",
   "metadata": {
    "execution": {
     "iopub.execute_input": "2023-07-25T06:36:26.044960Z",
     "iopub.status.busy": "2023-07-25T06:36:26.044680Z",
     "iopub.status.idle": "2023-07-25T06:36:26.051208Z",
     "shell.execute_reply": "2023-07-25T06:36:26.050622Z"
    },
    "papermill": {
     "duration": 0.016579,
     "end_time": "2023-07-25T06:36:26.053569",
     "exception": false,
     "start_time": "2023-07-25T06:36:26.036990",
     "status": "completed"
    },
    "tags": []
   },
   "outputs": [
    {
     "name": "stdout",
     "output_type": "stream",
     "text": [
      " - Logging roc_auc_per_digit (json) : {'0': 1.0, '1': 0.999025304592315, '2': 1.0, '3': 0.9998500468603562, '4': 0.9995808565767413, '5': 0.9994376757263355, '6': 0.999923792104862, '7': 0.9997713763145862, '8': 0.9948770491803278, '9': 0.9995427526291725}\n"
     ]
    }
   ],
   "source": [
    "ctx.log_value(\"roc_auc_per_digit\", roc_auc_dict)"
   ]
  },
  {
   "cell_type": "markdown",
   "id": "f3049029",
   "metadata": {
    "papermill": {
     "duration": 0.006938,
     "end_time": "2023-07-25T06:36:26.066907",
     "exception": false,
     "start_time": "2023-07-25T06:36:26.059969",
     "status": "completed"
    },
    "tags": []
   },
   "source": [
    "### Compute and log mean ROC AUC score averaged over all digits"
   ]
  },
  {
   "cell_type": "code",
   "execution_count": 19,
   "id": "0048521c",
   "metadata": {
    "execution": {
     "iopub.execute_input": "2023-07-25T06:36:26.082103Z",
     "iopub.status.busy": "2023-07-25T06:36:26.081821Z",
     "iopub.status.idle": "2023-07-25T06:36:26.096138Z",
     "shell.execute_reply": "2023-07-25T06:36:26.095580Z"
    },
    "papermill": {
     "duration": 0.024354,
     "end_time": "2023-07-25T06:36:26.097783",
     "exception": false,
     "start_time": "2023-07-25T06:36:26.073429",
     "status": "completed"
    },
    "tags": []
   },
   "outputs": [
    {
     "name": "stdout",
     "output_type": "stream",
     "text": [
      " - Logging roc_auc_class_mean (float) : 0.9992008853984696\n"
     ]
    }
   ],
   "source": [
    "roc_auc_macro = np.mean(list(roc_auc_dict.values()))\n",
    "\n",
    "ctx.log_float(\"roc_auc_class_mean\", roc_auc_macro)\n",
    "\n",
    "# assert that the same value can be computed directly using sklearn\n",
    "assert roc_auc_macro == metrics.roc_auc_score(\n",
    "    y_test, y_pred_probs_test, average=\"macro\", multi_class=\"ovr\"\n",
    ")"
   ]
  },
  {
   "cell_type": "code",
   "execution_count": 20,
   "id": "2422b91e",
   "metadata": {
    "execution": {
     "iopub.execute_input": "2023-07-25T06:36:26.112788Z",
     "iopub.status.busy": "2023-07-25T06:36:26.112523Z",
     "iopub.status.idle": "2023-07-25T06:36:26.116747Z",
     "shell.execute_reply": "2023-07-25T06:36:26.116215Z"
    },
    "lines_to_next_cell": 0,
    "papermill": {
     "duration": 0.013677,
     "end_time": "2023-07-25T06:36:26.118517",
     "exception": false,
     "start_time": "2023-07-25T06:36:26.104840",
     "status": "completed"
    },
    "tags": []
   },
   "outputs": [],
   "source": [
    "# ---"
   ]
  },
  {
   "cell_type": "code",
   "execution_count": null,
   "id": "440b60fd",
   "metadata": {
    "papermill": {
     "duration": 0.012966,
     "end_time": "2023-07-25T06:36:26.138260",
     "exception": false,
     "start_time": "2023-07-25T06:36:26.125294",
     "status": "completed"
    },
    "tags": []
   },
   "outputs": [],
   "source": []
  }
 ],
 "metadata": {
  "jupytext": {
   "cell_metadata_filter": "tags,-all",
   "main_language": "python",
   "notebook_metadata_filter": "-all"
  },
  "language_info": {
   "codemirror_mode": {
    "name": "ipython",
    "version": 3
   },
   "file_extension": ".py",
   "mimetype": "text/x-python",
   "name": "python",
   "nbconvert_exporter": "python",
   "pygments_lexer": "ipython3",
   "version": "3.8.10"
  },
  "papermill": {
   "default_parameters": {},
   "duration": 11.657532,
   "end_time": "2023-07-25T06:36:28.285302",
   "environment_variables": {},
   "exception": null,
   "input_path": "/tmp/temp-notebook-lwx0u1i6.ipynb",
   "output_path": "/tmp/temp-notebook-lwx0u1i6.ipynb",
   "parameters": {
    "P": {
     "_parameters_actor_name": "parameter_for_task_0x27b1365d31ce4b6f",
     "task.nr_train_images": 1000
    }
   },
   "start_time": "2023-07-25T06:36:16.627770",
   "version": "2.4.0"
  }
 },
 "nbformat": 4,
 "nbformat_minor": 5
}