{
 "cells": [
  {
   "cell_type": "markdown",
   "id": "a5c30539",
   "metadata": {
    "papermill": {
     "duration": 0.005465,
     "end_time": "2023-07-24T06:36:40.186588",
     "exception": false,
     "start_time": "2023-07-24T06:36:40.181123",
     "status": "completed"
    },
    "tags": []
   },
   "source": [
    "# Benchmark model\n",
    "\n",
    "The purpose of this notebook is to benchmark persisted onnx-model (trained in the\n",
    "previous step) against evaluation set."
   ]
  },
  {
   "cell_type": "markdown",
   "id": "b2ba9741",
   "metadata": {
    "papermill": {
     "duration": 0.006472,
     "end_time": "2023-07-24T06:36:40.217365",
     "exception": false,
     "start_time": "2023-07-24T06:36:40.210893",
     "status": "completed"
    },
    "tags": []
   },
   "source": [
    "### Determine run parameters"
   ]
  },
  {
   "cell_type": "code",
   "execution_count": 1,
   "id": "51f5b168",
   "metadata": {
    "execution": {
     "iopub.execute_input": "2023-07-24T06:36:40.227813Z",
     "iopub.status.busy": "2023-07-24T06:36:40.227521Z",
     "iopub.status.idle": "2023-07-24T06:36:40.236166Z",
     "shell.execute_reply": "2023-07-24T06:36:40.235399Z"
    },
    "lines_to_next_cell": 0,
    "papermill": {
     "duration": 0.016697,
     "end_time": "2023-07-24T06:36:40.238352",
     "exception": false,
     "start_time": "2023-07-24T06:36:40.221655",
     "status": "completed"
    },
    "tags": []
   },
   "outputs": [],
   "source": [
    "# ----------------- Parameters for interactive development --------------\n",
    "P = {\n",
    "    \"workflow.data_lake_root\": \"/pipeline-outputs/data-lake\",\n",
    "    \"task.nr_train_images\": 600,\n",
    "}"
   ]
  },
  {
   "cell_type": "code",
   "execution_count": 2,
   "id": "59181cc9",
   "metadata": {
    "execution": {
     "iopub.execute_input": "2023-07-24T06:36:40.257624Z",
     "iopub.status.busy": "2023-07-24T06:36:40.257338Z",
     "iopub.status.idle": "2023-07-24T06:36:40.261926Z",
     "shell.execute_reply": "2023-07-24T06:36:40.260778Z"
    },
    "lines_to_next_cell": 0,
    "papermill": {
     "duration": 0.021564,
     "end_time": "2023-07-24T06:36:40.264326",
     "exception": false,
     "start_time": "2023-07-24T06:36:40.242762",
     "status": "completed"
    },
    "tags": [
     "parameters"
    ]
   },
   "outputs": [],
   "source": [
    "# - During automated runs parameters will be injected in the below cell -"
   ]
  },
  {
   "cell_type": "code",
   "execution_count": 3,
   "id": "d3eda898",
   "metadata": {
    "execution": {
     "iopub.execute_input": "2023-07-24T06:36:40.275619Z",
     "iopub.status.busy": "2023-07-24T06:36:40.275275Z",
     "iopub.status.idle": "2023-07-24T06:36:40.280341Z",
     "shell.execute_reply": "2023-07-24T06:36:40.279741Z"
    },
    "papermill": {
     "duration": 0.013209,
     "end_time": "2023-07-24T06:36:40.282320",
     "exception": false,
     "start_time": "2023-07-24T06:36:40.269111",
     "status": "completed"
    },
    "tags": [
     "injected-parameters"
    ]
   },
   "outputs": [],
   "source": [
    "# Parameters\n",
    "P = {\n",
    "    \"task.nr_train_images\": 1000,\n",
    "    \"_parameters_actor_name\": \"parameter_for_task_0x30c536077516be7e\",\n",
    "}\n"
   ]
  },
  {
   "cell_type": "code",
   "execution_count": 4,
   "id": "9623a0ab",
   "metadata": {
    "execution": {
     "iopub.execute_input": "2023-07-24T06:36:40.292677Z",
     "iopub.status.busy": "2023-07-24T06:36:40.292390Z",
     "iopub.status.idle": "2023-07-24T06:36:40.298893Z",
     "shell.execute_reply": "2023-07-24T06:36:40.297061Z"
    },
    "lines_to_next_cell": 0,
    "papermill": {
     "duration": 0.014262,
     "end_time": "2023-07-24T06:36:40.300907",
     "exception": false,
     "start_time": "2023-07-24T06:36:40.286645",
     "status": "completed"
    },
    "tags": []
   },
   "outputs": [],
   "source": [
    "# -----------------------------------------------------------------------"
   ]
  },
  {
   "cell_type": "markdown",
   "id": "8fb50f41",
   "metadata": {
    "papermill": {
     "duration": 0.004764,
     "end_time": "2023-07-24T06:36:40.309907",
     "exception": false,
     "start_time": "2023-07-24T06:36:40.305143",
     "status": "completed"
    },
    "tags": []
   },
   "source": [
    "---"
   ]
  },
  {
   "cell_type": "markdown",
   "id": "97ec5f0e",
   "metadata": {
    "lines_to_next_cell": 2,
    "papermill": {
     "duration": 0.004346,
     "end_time": "2023-07-24T06:36:40.318903",
     "exception": false,
     "start_time": "2023-07-24T06:36:40.314557",
     "status": "completed"
    },
    "tags": []
   },
   "source": [
    "### Notebook code"
   ]
  },
  {
   "cell_type": "code",
   "execution_count": 5,
   "id": "30438b60",
   "metadata": {
    "execution": {
     "iopub.execute_input": "2023-07-24T06:36:40.330282Z",
     "iopub.status.busy": "2023-07-24T06:36:40.329998Z",
     "iopub.status.idle": "2023-07-24T06:36:41.295331Z",
     "shell.execute_reply": "2023-07-24T06:36:41.293045Z"
    },
    "papermill": {
     "duration": 0.974841,
     "end_time": "2023-07-24T06:36:41.298327",
     "exception": false,
     "start_time": "2023-07-24T06:36:40.323486",
     "status": "completed"
    },
    "tags": []
   },
   "outputs": [
    {
     "name": "stderr",
     "output_type": "stream",
     "text": [
      "2023-07-24 06:36:41,192\tINFO worker.py:1364 -- Connecting to existing Ray cluster at address: 172.17.0.2:55561...\n"
     ]
    },
    {
     "name": "stderr",
     "output_type": "stream",
     "text": [
      "2023-07-24 06:36:41,207\tINFO worker.py:1544 -- Connected to Ray cluster. View the dashboard at \u001b[1m\u001b[32mhttp://127.0.0.1:8265 \u001b[39m\u001b[22m\n"
     ]
    },
    {
     "name": "stderr",
     "output_type": "stream",
     "text": [
      "/home/host_user/.local/lib/python3.8/site-packages/ray/runtime_context.py:27: RayDeprecationWarning: This API is deprecated and may be removed in future Ray releases. You could suppress this warning by setting env variable PYTHONWARNINGS=\"ignore::DeprecationWarning\"\n",
      "Use get_job_id() instead\n",
      "  \"job_id\": self.job_id,\n",
      "/home/host_user/.local/lib/python3.8/site-packages/ray/runtime_context.py:28: RayDeprecationWarning: This API is deprecated and may be removed in future Ray releases. You could suppress this warning by setting env variable PYTHONWARNINGS=\"ignore::DeprecationWarning\"\n",
      "Use get_node_id() instead\n",
      "  \"node_id\": self.node_id,\n"
     ]
    }
   ],
   "source": [
    "import itertools as it\n",
    "\n",
    "#\n",
    "import numpy as np\n",
    "import matplotlib.pyplot as plt\n",
    "\n",
    "#\n",
    "from composable_logs.tasks.task_opentelemetry_logging import get_task_context\n",
    "\n",
    "#\n",
    "from common.io import datalake_root\n",
    "\n",
    "ctx = get_task_context(P)"
   ]
  },
  {
   "cell_type": "markdown",
   "id": "55c8687e",
   "metadata": {
    "papermill": {
     "duration": 0.004503,
     "end_time": "2023-07-24T06:36:41.309484",
     "exception": false,
     "start_time": "2023-07-24T06:36:41.304981",
     "status": "completed"
    },
    "tags": []
   },
   "source": [
    "## Load persisted onnx-model and evaluation data"
   ]
  },
  {
   "cell_type": "code",
   "execution_count": 6,
   "id": "a366f953",
   "metadata": {
    "execution": {
     "iopub.execute_input": "2023-07-24T06:36:41.320980Z",
     "iopub.status.busy": "2023-07-24T06:36:41.320657Z",
     "iopub.status.idle": "2023-07-24T06:36:41.330344Z",
     "shell.execute_reply": "2023-07-24T06:36:41.328389Z"
    },
    "papermill": {
     "duration": 0.019007,
     "end_time": "2023-07-24T06:36:41.333327",
     "exception": false,
     "start_time": "2023-07-24T06:36:41.314320",
     "status": "completed"
    },
    "tags": []
   },
   "outputs": [],
   "source": [
    "from common.io import read_onnx, get_onnx_inputs, get_onnx_outputs, read_numpy"
   ]
  },
  {
   "cell_type": "code",
   "execution_count": 7,
   "id": "26264f6c",
   "metadata": {
    "execution": {
     "iopub.execute_input": "2023-07-24T06:36:41.344923Z",
     "iopub.status.busy": "2023-07-24T06:36:41.344553Z",
     "iopub.status.idle": "2023-07-24T06:36:41.361185Z",
     "shell.execute_reply": "2023-07-24T06:36:41.357576Z"
    },
    "lines_to_next_cell": 0,
    "papermill": {
     "duration": 0.024912,
     "end_time": "2023-07-24T06:36:41.363199",
     "exception": false,
     "start_time": "2023-07-24T06:36:41.338287",
     "status": "completed"
    },
    "tags": []
   },
   "outputs": [],
   "source": [
    "onnx_inference_session = read_onnx(\n",
    "    datalake_root(ctx)\n",
    "    / \"models\"\n",
    "    / f\"nr_train_images={ctx.parameters['task.nr_train_images']}\"\n",
    "    / \"model.onnx\"\n",
    ")"
   ]
  },
  {
   "cell_type": "markdown",
   "id": "2faa3b0d",
   "metadata": {
    "papermill": {
     "duration": 0.004659,
     "end_time": "2023-07-24T06:36:41.372321",
     "exception": false,
     "start_time": "2023-07-24T06:36:41.367662",
     "status": "completed"
    },
    "tags": []
   },
   "source": [
    "### Record structure of inputs and outputs for ONNX model\n",
    "\n",
    "(this should likely be done in training notebook)"
   ]
  },
  {
   "cell_type": "code",
   "execution_count": 8,
   "id": "2887f002",
   "metadata": {
    "execution": {
     "iopub.execute_input": "2023-07-24T06:36:41.399590Z",
     "iopub.status.busy": "2023-07-24T06:36:41.399286Z",
     "iopub.status.idle": "2023-07-24T06:36:41.408352Z",
     "shell.execute_reply": "2023-07-24T06:36:41.407626Z"
    },
    "papermill": {
     "duration": 0.033378,
     "end_time": "2023-07-24T06:36:41.410527",
     "exception": false,
     "start_time": "2023-07-24T06:36:41.377149",
     "status": "completed"
    },
    "tags": []
   },
   "outputs": [
    {
     "name": "stdout",
     "output_type": "stream",
     "text": [
      "{\n",
      "  \"inputs\": [\n",
      "    {\n",
      "      \"name\": \"float_input_8x8_image\",\n",
      "      \"shape\": [\n",
      "        null,\n",
      "        64\n",
      "      ],\n",
      "      \"type\": \"tensor(float)\"\n",
      "    }\n",
      "  ],\n",
      "  \"outputs\": [\n",
      "    {\n",
      "      \"name\": \"output_label\",\n",
      "      \"shape\": [\n",
      "        null\n",
      "      ],\n",
      "      \"type\": \"tensor(int64)\"\n",
      "    },\n",
      "    {\n",
      "      \"name\": \"output_probability\",\n",
      "      \"shape\": [],\n",
      "      \"type\": \"seq(map(int64,tensor(float)))\"\n",
      "    }\n",
      "  ]\n",
      "}\n"
     ]
    }
   ],
   "source": [
    "import json\n",
    "\n",
    "onnx_io = json.dumps(\n",
    "    {\n",
    "        \"inputs\": get_onnx_inputs(onnx_inference_session),\n",
    "        \"outputs\": get_onnx_outputs(onnx_inference_session),\n",
    "    },\n",
    "    indent=2,\n",
    ")\n",
    "\n",
    "\n",
    "ctx.log_artefact(\"onnx_io_structure.json\", onnx_io)\n",
    "print(onnx_io)"
   ]
  },
  {
   "cell_type": "markdown",
   "id": "4246f957",
   "metadata": {
    "papermill": {
     "duration": 0.006867,
     "end_time": "2023-07-24T06:36:41.422000",
     "exception": false,
     "start_time": "2023-07-24T06:36:41.415133",
     "status": "completed"
    },
    "tags": []
   },
   "source": [
    "### Evaluate model performance on evaluation data set"
   ]
  },
  {
   "cell_type": "code",
   "execution_count": 9,
   "id": "ed7a033e",
   "metadata": {
    "execution": {
     "iopub.execute_input": "2023-07-24T06:36:41.433349Z",
     "iopub.status.busy": "2023-07-24T06:36:41.432981Z",
     "iopub.status.idle": "2023-07-24T06:36:41.440072Z",
     "shell.execute_reply": "2023-07-24T06:36:41.438574Z"
    },
    "papermill": {
     "duration": 0.015361,
     "end_time": "2023-07-24T06:36:41.442078",
     "exception": false,
     "start_time": "2023-07-24T06:36:41.426717",
     "status": "completed"
    },
    "tags": []
   },
   "outputs": [],
   "source": [
    "# load evaluation data\n",
    "X_test = read_numpy(datalake_root(ctx) / \"test-data\" / \"digits.numpy\")\n",
    "y_test = read_numpy(datalake_root(ctx) / \"test-data\" / \"labels.numpy\")"
   ]
  },
  {
   "cell_type": "code",
   "execution_count": 10,
   "id": "161621b1",
   "metadata": {
    "execution": {
     "iopub.execute_input": "2023-07-24T06:36:41.453806Z",
     "iopub.status.busy": "2023-07-24T06:36:41.453511Z",
     "iopub.status.idle": "2023-07-24T06:36:41.468560Z",
     "shell.execute_reply": "2023-07-24T06:36:41.467856Z"
    },
    "papermill": {
     "duration": 0.023839,
     "end_time": "2023-07-24T06:36:41.470850",
     "exception": false,
     "start_time": "2023-07-24T06:36:41.447011",
     "status": "completed"
    },
    "tags": []
   },
   "outputs": [],
   "source": [
    "def get_model_outputs(X, onnx_inference_session):\n",
    "    y_pred_labels, y_pred_map = onnx_inference_session.run(\n",
    "        [\"output_label\", \"output_probability\"],\n",
    "        {\"float_input_8x8_image\": X.astype(np.float32)},\n",
    "    )\n",
    "    y_pred_probs = np.array(\n",
    "        [[probabilities[digit] for digit in range(10)] for probabilities in y_pred_map]\n",
    "    )\n",
    "\n",
    "    assert y_pred_labels.shape == (X.shape[0],)\n",
    "    assert y_pred_probs.shape == (X.shape[0], 10)\n",
    "\n",
    "    return y_pred_labels, y_pred_probs\n",
    "\n",
    "\n",
    "# Note: as shown in the training notebook, the predicted labels and probabilities\n",
    "# computed below need not be compatible.\n",
    "y_pred_labels_test, y_pred_probs_test = get_model_outputs(\n",
    "    X_test, onnx_inference_session\n",
    ")"
   ]
  },
  {
   "cell_type": "markdown",
   "id": "57dfcf5d",
   "metadata": {
    "papermill": {
     "duration": 0.004643,
     "end_time": "2023-07-24T06:36:41.480593",
     "exception": false,
     "start_time": "2023-07-24T06:36:41.475950",
     "status": "completed"
    },
    "tags": []
   },
   "source": [
    "### Confusion matrix"
   ]
  },
  {
   "cell_type": "code",
   "execution_count": 11,
   "id": "eb99a2d5",
   "metadata": {
    "execution": {
     "iopub.execute_input": "2023-07-24T06:36:41.495453Z",
     "iopub.status.busy": "2023-07-24T06:36:41.495154Z",
     "iopub.status.idle": "2023-07-24T06:36:41.500754Z",
     "shell.execute_reply": "2023-07-24T06:36:41.500046Z"
    },
    "papermill": {
     "duration": 0.017271,
     "end_time": "2023-07-24T06:36:41.502899",
     "exception": false,
     "start_time": "2023-07-24T06:36:41.485628",
     "status": "completed"
    },
    "tags": []
   },
   "outputs": [],
   "source": [
    "# TODO"
   ]
  },
  {
   "cell_type": "markdown",
   "id": "980eaff9",
   "metadata": {
    "papermill": {
     "duration": 0.00496,
     "end_time": "2023-07-24T06:36:41.512671",
     "exception": false,
     "start_time": "2023-07-24T06:36:41.507711",
     "status": "completed"
    },
    "tags": []
   },
   "source": [
    "### Plot predicted probabilities for each classifier over all evaluation digit images"
   ]
  },
  {
   "cell_type": "code",
   "execution_count": 12,
   "id": "938d934d",
   "metadata": {
    "execution": {
     "iopub.execute_input": "2023-07-24T06:36:41.523941Z",
     "iopub.status.busy": "2023-07-24T06:36:41.523644Z",
     "iopub.status.idle": "2023-07-24T06:36:45.834482Z",
     "shell.execute_reply": "2023-07-24T06:36:45.833824Z"
    },
    "papermill": {
     "duration": 4.319115,
     "end_time": "2023-07-24T06:36:45.836607",
     "exception": false,
     "start_time": "2023-07-24T06:36:41.517492",
     "status": "completed"
    },
    "tags": []
   },
   "outputs": [
    {
     "data": {
      "image/png": "[encoded data removed]",
      "text/plain": [
       "<Figure size 1600x600 with 10 Axes>"
      ]
     },
     "metadata": {},
     "output_type": "display_data"
    }
   ],
   "source": [
    "def plot_per_digit_probabilities(y_pred_probs):\n",
    "    fig, axs = plt.subplots(nrows=2, ncols=5, figsize=(16, 6))\n",
    "\n",
    "    for (r, c), digit, ax in zip(\n",
    "        it.product(range(2), range(5)), range(10), axs.reshape(-1)\n",
    "    ):\n",
    "        ax.hist(y_pred_probs_test[:, digit], bins=20)\n",
    "\n",
    "        ax.set_title(f\"Digit {digit}\")\n",
    "        if r == 1 and c == 2:\n",
    "            ax.set_xlabel(\"probability\", fontsize=16)\n",
    "\n",
    "        if c == 0:\n",
    "            ax.set_ylabel(\"counts\", fontsize=16)\n",
    "        ax.set_yscale(\"log\")\n",
    "\n",
    "    fig.tight_layout()\n",
    "    fig.suptitle(\n",
    "        f\"Distributions of prediction probabilities for each digit \"\n",
    "        f\"(on evaluation data, n={y_pred_probs.shape[0]})\",\n",
    "        fontsize=20,\n",
    "    )\n",
    "    fig.tight_layout()\n",
    "    fig.show()\n",
    "\n",
    "    return fig\n",
    "\n",
    "\n",
    "fig = plot_per_digit_probabilities(y_pred_probs_test)"
   ]
  },
  {
   "cell_type": "markdown",
   "id": "50aee984",
   "metadata": {
    "papermill": {
     "duration": 0.005935,
     "end_time": "2023-07-24T06:36:45.848204",
     "exception": false,
     "start_time": "2023-07-24T06:36:45.842269",
     "status": "completed"
    },
    "tags": []
   },
   "source": [
    "From the above distributions we see that most digits have clear separation between\n",
    "high and lower probabilities. Morover, in each case there is roughly an order of\n",
    "magnitude more of digits with low probabilities. This is compatible with digits\n",
    "being roughly evenly distributed in the data."
   ]
  },
  {
   "cell_type": "code",
   "execution_count": 13,
   "id": "040a7957",
   "metadata": {
    "execution": {
     "iopub.execute_input": "2023-07-24T06:36:45.860757Z",
     "iopub.status.busy": "2023-07-24T06:36:45.860434Z",
     "iopub.status.idle": "2023-07-24T06:36:46.732110Z",
     "shell.execute_reply": "2023-07-24T06:36:46.720796Z"
    },
    "papermill": {
     "duration": 0.884015,
     "end_time": "2023-07-24T06:36:46.737619",
     "exception": false,
     "start_time": "2023-07-24T06:36:45.853604",
     "status": "completed"
    },
    "tags": []
   },
   "outputs": [],
   "source": [
    "ctx.log_figure(\"per-digit-probabilities.png\", fig)"
   ]
  },
  {
   "cell_type": "markdown",
   "id": "c67f2222",
   "metadata": {
    "papermill": {
     "duration": 0.013338,
     "end_time": "2023-07-24T06:36:46.759909",
     "exception": false,
     "start_time": "2023-07-24T06:36:46.746571",
     "status": "completed"
    },
    "tags": []
   },
   "source": [
    "### Plot ROC curves for individual one-vs-rest classifiers"
   ]
  },
  {
   "cell_type": "code",
   "execution_count": 14,
   "id": "d4e4a998",
   "metadata": {
    "execution": {
     "iopub.execute_input": "2023-07-24T06:36:46.785919Z",
     "iopub.status.busy": "2023-07-24T06:36:46.785556Z",
     "iopub.status.idle": "2023-07-24T06:36:47.175447Z",
     "shell.execute_reply": "2023-07-24T06:36:47.174762Z"
    },
    "papermill": {
     "duration": 0.407855,
     "end_time": "2023-07-24T06:36:47.179185",
     "exception": false,
     "start_time": "2023-07-24T06:36:46.771330",
     "status": "completed"
    },
    "tags": []
   },
   "outputs": [],
   "source": [
    "from sklearn import metrics"
   ]
  },
  {
   "cell_type": "code",
   "execution_count": 15,
   "id": "608aa5dd",
   "metadata": {
    "execution": {
     "iopub.execute_input": "2023-07-24T06:36:47.194902Z",
     "iopub.status.busy": "2023-07-24T06:36:47.194393Z",
     "iopub.status.idle": "2023-07-24T06:36:49.153058Z",
     "shell.execute_reply": "2023-07-24T06:36:49.152306Z"
    },
    "papermill": {
     "duration": 1.969234,
     "end_time": "2023-07-24T06:36:49.156375",
     "exception": false,
     "start_time": "2023-07-24T06:36:47.187141",
     "status": "completed"
    },
    "tags": []
   },
   "outputs": [
    {
     "data": {
      "image/png": "[encoded data removed]",
      "text/plain": [
       "<Figure size 1600x800 with 10 Axes>"
      ]
     },
     "metadata": {},
     "output_type": "display_data"
    }
   ],
   "source": [
    "def plot_roc_curves(y, y_pred_probs):\n",
    "    # based on example code\n",
    "    # https://scikit-learn.org/stable/auto_examples/model_selection/plot_roc.html\n",
    "\n",
    "    fig, axs = plt.subplots(nrows=2, ncols=5, figsize=(16, 8))\n",
    "\n",
    "    roc_auc_dict = {}\n",
    "\n",
    "    for (r, c), digit, ax in zip(\n",
    "        it.product(range(2), range(5)), range(10), axs.reshape(-1)\n",
    "    ):\n",
    "        fpr, tpr, _ = metrics.roc_curve(y == digit, y_pred_probs[:, digit])\n",
    "        auc = metrics.auc(fpr, tpr)\n",
    "        roc_auc_dict[str(digit)] = auc\n",
    "\n",
    "        ax.plot(fpr, tpr, label=f\"ROC AUC={round(auc, 3)}\")\n",
    "\n",
    "        ax.set_title(f\"\\nDigit {digit}\", fontsize=16)\n",
    "        if r == 1:\n",
    "            ax.set_xlabel(\"FPR\", fontsize=18)\n",
    "\n",
    "        if c == 0:\n",
    "            ax.set_ylabel(\"TPR\", fontsize=18)\n",
    "\n",
    "        ax.set_xlim([-0.05, 1.05])\n",
    "        ax.set_ylim([-0.05, 1.05])\n",
    "        ax.legend(loc=\"lower right\", frameon=False, fontsize=14)\n",
    "\n",
    "    fig.tight_layout()\n",
    "    fig.suptitle(\n",
    "        f\"ROC plots for one-vs-rest performances \"\n",
    "        f\"(on evaluation data, n={y_pred_probs_test.shape[1]}\",\n",
    "        fontsize=22,\n",
    "    )\n",
    "    fig.tight_layout()\n",
    "    fig.show()\n",
    "\n",
    "    return roc_auc_dict, fig\n",
    "\n",
    "\n",
    "roc_auc_dict, fig = plot_roc_curves(y_test, y_pred_probs_test)"
   ]
  },
  {
   "cell_type": "code",
   "execution_count": 16,
   "id": "72e15ee0",
   "metadata": {
    "execution": {
     "iopub.execute_input": "2023-07-24T06:36:49.171645Z",
     "iopub.status.busy": "2023-07-24T06:36:49.171348Z",
     "iopub.status.idle": "2023-07-24T06:36:49.550277Z",
     "shell.execute_reply": "2023-07-24T06:36:49.549606Z"
    },
    "papermill": {
     "duration": 0.390994,
     "end_time": "2023-07-24T06:36:49.554393",
     "exception": false,
     "start_time": "2023-07-24T06:36:49.163399",
     "status": "completed"
    },
    "tags": []
   },
   "outputs": [],
   "source": [
    "ctx.log_figure(\"per-digit-roc-curves.png\", fig)"
   ]
  },
  {
   "cell_type": "code",
   "execution_count": 17,
   "id": "10cfb899",
   "metadata": {
    "execution": {
     "iopub.execute_input": "2023-07-24T06:36:49.569986Z",
     "iopub.status.busy": "2023-07-24T06:36:49.569690Z",
     "iopub.status.idle": "2023-07-24T06:36:49.575936Z",
     "shell.execute_reply": "2023-07-24T06:36:49.575279Z"
    },
    "papermill": {
     "duration": 0.01845,
     "end_time": "2023-07-24T06:36:49.579552",
     "exception": false,
     "start_time": "2023-07-24T06:36:49.561102",
     "status": "completed"
    },
    "tags": []
   },
   "outputs": [
    {
     "data": {
      "text/plain": [
       "{'0': 1.0,\n",
       " '1': 0.998987816307404,\n",
       " '2': 1.0,\n",
       " '3': 0.9998500468603562,\n",
       " '4': 0.9996189605243103,\n",
       " '5': 0.9994001874414246,\n",
       " '6': 0.999923792104862,\n",
       " '7': 0.9997713763145862,\n",
       " '8': 0.9947588272383354,\n",
       " '9': 0.9995808565767414}"
      ]
     },
     "execution_count": 17,
     "metadata": {},
     "output_type": "execute_result"
    }
   ],
   "source": [
    "roc_auc_dict"
   ]
  },
  {
   "cell_type": "code",
   "execution_count": 18,
   "id": "e934ab70",
   "metadata": {
    "execution": {
     "iopub.execute_input": "2023-07-24T06:36:49.601881Z",
     "iopub.status.busy": "2023-07-24T06:36:49.601587Z",
     "iopub.status.idle": "2023-07-24T06:36:49.605821Z",
     "shell.execute_reply": "2023-07-24T06:36:49.605165Z"
    },
    "papermill": {
     "duration": 0.021275,
     "end_time": "2023-07-24T06:36:49.607934",
     "exception": false,
     "start_time": "2023-07-24T06:36:49.586659",
     "status": "completed"
    },
    "tags": []
   },
   "outputs": [
    {
     "name": "stdout",
     "output_type": "stream",
     "text": [
      " - Logging roc_auc_per_digit (json) : {'0': 1.0, '1': 0.998987816307404, '2': 1.0, '3': 0.9998500468603562, '4': 0.9996189605243103, '5': 0.9994001874414246, '6': 0.999923792104862, '7': 0.9997713763145862, '8': 0.9947588272383354, '9': 0.9995808565767414}\n"
     ]
    }
   ],
   "source": [
    "ctx.log_value(\"roc_auc_per_digit\", roc_auc_dict)"
   ]
  },
  {
   "cell_type": "markdown",
   "id": "c04e7d0a",
   "metadata": {
    "papermill": {
     "duration": 0.007251,
     "end_time": "2023-07-24T06:36:49.624537",
     "exception": false,
     "start_time": "2023-07-24T06:36:49.617286",
     "status": "completed"
    },
    "tags": []
   },
   "source": [
    "### Compute and log mean ROC AUC score averaged over all digits"
   ]
  },
  {
   "cell_type": "code",
   "execution_count": 19,
   "id": "ec8aa472",
   "metadata": {
    "execution": {
     "iopub.execute_input": "2023-07-24T06:36:49.641619Z",
     "iopub.status.busy": "2023-07-24T06:36:49.641324Z",
     "iopub.status.idle": "2023-07-24T06:36:49.656934Z",
     "shell.execute_reply": "2023-07-24T06:36:49.656251Z"
    },
    "papermill": {
     "duration": 0.026327,
     "end_time": "2023-07-24T06:36:49.658708",
     "exception": false,
     "start_time": "2023-07-24T06:36:49.632381",
     "status": "completed"
    },
    "tags": []
   },
   "outputs": [
    {
     "name": "stdout",
     "output_type": "stream",
     "text": [
      " - Logging roc_auc_class_mean (float) : 0.9991891863368021\n"
     ]
    }
   ],
   "source": [
    "roc_auc_macro = np.mean(list(roc_auc_dict.values()))\n",
    "\n",
    "ctx.log_float(\"roc_auc_class_mean\", roc_auc_macro)\n",
    "\n",
    "# assert that the same value can be computed directly using sklearn\n",
    "assert roc_auc_macro == metrics.roc_auc_score(\n",
    "    y_test, y_pred_probs_test, average=\"macro\", multi_class=\"ovr\"\n",
    ")"
   ]
  },
  {
   "cell_type": "code",
   "execution_count": 20,
   "id": "1105b861",
   "metadata": {
    "execution": {
     "iopub.execute_input": "2023-07-24T06:36:49.675552Z",
     "iopub.status.busy": "2023-07-24T06:36:49.675184Z",
     "iopub.status.idle": "2023-07-24T06:36:49.679622Z",
     "shell.execute_reply": "2023-07-24T06:36:49.678972Z"
    },
    "lines_to_next_cell": 0,
    "papermill": {
     "duration": 0.014803,
     "end_time": "2023-07-24T06:36:49.681704",
     "exception": false,
     "start_time": "2023-07-24T06:36:49.666901",
     "status": "completed"
    },
    "tags": []
   },
   "outputs": [],
   "source": [
    "# ---"
   ]
  },
  {
   "cell_type": "code",
   "execution_count": null,
   "id": "7bc307b8",
   "metadata": {
    "papermill": {
     "duration": 0.006827,
     "end_time": "2023-07-24T06:36:49.695826",
     "exception": false,
     "start_time": "2023-07-24T06:36:49.688999",
     "status": "completed"
    },
    "tags": []
   },
   "outputs": [],
   "source": []
  }
 ],
 "metadata": {
  "jupytext": {
   "cell_metadata_filter": "tags,-all",
   "main_language": "python",
   "notebook_metadata_filter": "-all"
  },
  "language_info": {
   "codemirror_mode": {
    "name": "ipython",
    "version": 3
   },
   "file_extension": ".py",
   "mimetype": "text/x-python",
   "name": "python",
   "nbconvert_exporter": "python",
   "pygments_lexer": "ipython3",
   "version": "3.8.10"
  },
  "papermill": {
   "default_parameters": {},
   "duration": 12.704998,
   "end_time": "2023-07-24T06:36:51.551047",
   "environment_variables": {},
   "exception": null,
   "input_path": "/tmp/temp-notebook-f7x35lxs.ipynb",
   "output_path": "/tmp/temp-notebook-f7x35lxs.ipynb",
   "parameters": {
    "P": {
     "_parameters_actor_name": "parameter_for_task_0x30c536077516be7e",
     "task.nr_train_images": 1000
    }
   },
   "start_time": "2023-07-24T06:36:38.846049",
   "version": "2.4.0"
  }
 },
 "nbformat": 4,
 "nbformat_minor": 5
}