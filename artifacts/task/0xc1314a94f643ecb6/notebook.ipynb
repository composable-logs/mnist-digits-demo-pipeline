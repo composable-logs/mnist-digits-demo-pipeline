{
 "cells": [
  {
   "cell_type": "markdown",
   "id": "5478fd1b",
   "metadata": {
    "papermill": {
     "duration": 0.008808,
     "end_time": "2023-07-28T06:34:46.021147",
     "exception": false,
     "start_time": "2023-07-28T06:34:46.012339",
     "status": "completed"
    },
    "tags": []
   },
   "source": [
    "# Benchmark model\n",
    "\n",
    "The purpose of this notebook is to benchmark persisted onnx-model (trained in the\n",
    "previous step) against evaluation set."
   ]
  },
  {
   "cell_type": "markdown",
   "id": "363fa358",
   "metadata": {
    "papermill": {
     "duration": 0.004125,
     "end_time": "2023-07-28T06:34:46.032916",
     "exception": false,
     "start_time": "2023-07-28T06:34:46.028791",
     "status": "completed"
    },
    "tags": []
   },
   "source": [
    "### Determine run parameters"
   ]
  },
  {
   "cell_type": "code",
   "execution_count": 1,
   "id": "956c69ac",
   "metadata": {
    "execution": {
     "iopub.execute_input": "2023-07-28T06:34:46.043510Z",
     "iopub.status.busy": "2023-07-28T06:34:46.042822Z",
     "iopub.status.idle": "2023-07-28T06:34:46.051986Z",
     "shell.execute_reply": "2023-07-28T06:34:46.051300Z"
    },
    "lines_to_next_cell": 0,
    "papermill": {
     "duration": 0.016646,
     "end_time": "2023-07-28T06:34:46.053903",
     "exception": false,
     "start_time": "2023-07-28T06:34:46.037257",
     "status": "completed"
    },
    "tags": []
   },
   "outputs": [],
   "source": [
    "# ----------------- Parameters for interactive development --------------\n",
    "P = {\n",
    "    \"workflow.data_lake_root\": \"/pipeline-outputs/data-lake\",\n",
    "    \"task.nr_train_images\": 600,\n",
    "}"
   ]
  },
  {
   "cell_type": "code",
   "execution_count": 2,
   "id": "90aca47f",
   "metadata": {
    "execution": {
     "iopub.execute_input": "2023-07-28T06:34:46.064842Z",
     "iopub.status.busy": "2023-07-28T06:34:46.064558Z",
     "iopub.status.idle": "2023-07-28T06:34:46.071690Z",
     "shell.execute_reply": "2023-07-28T06:34:46.070964Z"
    },
    "lines_to_next_cell": 0,
    "papermill": {
     "duration": 0.015351,
     "end_time": "2023-07-28T06:34:46.073957",
     "exception": false,
     "start_time": "2023-07-28T06:34:46.058606",
     "status": "completed"
    },
    "tags": [
     "parameters"
    ]
   },
   "outputs": [],
   "source": [
    "# - During automated runs parameters will be injected in the below cell -"
   ]
  },
  {
   "cell_type": "code",
   "execution_count": 3,
   "id": "63b4695c",
   "metadata": {
    "execution": {
     "iopub.execute_input": "2023-07-28T06:34:46.084398Z",
     "iopub.status.busy": "2023-07-28T06:34:46.084124Z",
     "iopub.status.idle": "2023-07-28T06:34:46.089281Z",
     "shell.execute_reply": "2023-07-28T06:34:46.088696Z"
    },
    "papermill": {
     "duration": 0.012974,
     "end_time": "2023-07-28T06:34:46.091258",
     "exception": false,
     "start_time": "2023-07-28T06:34:46.078284",
     "status": "completed"
    },
    "tags": [
     "injected-parameters"
    ]
   },
   "outputs": [],
   "source": [
    "# Parameters\n",
    "P = {\n",
    "    \"task.nr_train_images\": 1000,\n",
    "    \"_parameters_actor_name\": \"parameter_for_task_0xc1314a94f643ecb6\",\n",
    "}\n"
   ]
  },
  {
   "cell_type": "code",
   "execution_count": 4,
   "id": "a1738c9f",
   "metadata": {
    "execution": {
     "iopub.execute_input": "2023-07-28T06:34:46.101397Z",
     "iopub.status.busy": "2023-07-28T06:34:46.101129Z",
     "iopub.status.idle": "2023-07-28T06:34:46.106164Z",
     "shell.execute_reply": "2023-07-28T06:34:46.105367Z"
    },
    "lines_to_next_cell": 0,
    "papermill": {
     "duration": 0.012359,
     "end_time": "2023-07-28T06:34:46.108000",
     "exception": false,
     "start_time": "2023-07-28T06:34:46.095641",
     "status": "completed"
    },
    "tags": []
   },
   "outputs": [],
   "source": [
    "# -----------------------------------------------------------------------"
   ]
  },
  {
   "cell_type": "markdown",
   "id": "a65f2de1",
   "metadata": {
    "papermill": {
     "duration": 0.004509,
     "end_time": "2023-07-28T06:34:46.123878",
     "exception": false,
     "start_time": "2023-07-28T06:34:46.119369",
     "status": "completed"
    },
    "tags": []
   },
   "source": [
    "---"
   ]
  },
  {
   "cell_type": "markdown",
   "id": "31d29b1e",
   "metadata": {
    "lines_to_next_cell": 2,
    "papermill": {
     "duration": 0.005448,
     "end_time": "2023-07-28T06:34:46.134308",
     "exception": false,
     "start_time": "2023-07-28T06:34:46.128860",
     "status": "completed"
    },
    "tags": []
   },
   "source": [
    "### Notebook code"
   ]
  },
  {
   "cell_type": "code",
   "execution_count": 5,
   "id": "7ee20cdd",
   "metadata": {
    "execution": {
     "iopub.execute_input": "2023-07-28T06:34:46.144914Z",
     "iopub.status.busy": "2023-07-28T06:34:46.144635Z",
     "iopub.status.idle": "2023-07-28T06:34:47.185668Z",
     "shell.execute_reply": "2023-07-28T06:34:47.184292Z"
    },
    "papermill": {
     "duration": 1.04859,
     "end_time": "2023-07-28T06:34:47.187393",
     "exception": false,
     "start_time": "2023-07-28T06:34:46.138803",
     "status": "completed"
    },
    "tags": []
   },
   "outputs": [
    {
     "name": "stderr",
     "output_type": "stream",
     "text": [
      "2023-07-28 06:34:47,104\tINFO worker.py:1364 -- Connecting to existing Ray cluster at address: 172.17.0.2:54600...\n"
     ]
    },
    {
     "name": "stderr",
     "output_type": "stream",
     "text": [
      "2023-07-28 06:34:47,116\tINFO worker.py:1544 -- Connected to Ray cluster. View the dashboard at \u001b[1m\u001b[32mhttp://127.0.0.1:8265 \u001b[39m\u001b[22m\n"
     ]
    },
    {
     "name": "stderr",
     "output_type": "stream",
     "text": [
      "/home/host_user/.local/lib/python3.8/site-packages/ray/runtime_context.py:27: RayDeprecationWarning: This API is deprecated and may be removed in future Ray releases. You could suppress this warning by setting env variable PYTHONWARNINGS=\"ignore::DeprecationWarning\"\n",
      "Use get_job_id() instead\n",
      "  \"job_id\": self.job_id,\n",
      "/home/host_user/.local/lib/python3.8/site-packages/ray/runtime_context.py:28: RayDeprecationWarning: This API is deprecated and may be removed in future Ray releases. You could suppress this warning by setting env variable PYTHONWARNINGS=\"ignore::DeprecationWarning\"\n",
      "Use get_node_id() instead\n",
      "  \"node_id\": self.node_id,\n"
     ]
    }
   ],
   "source": [
    "import itertools as it\n",
    "\n",
    "#\n",
    "import numpy as np\n",
    "import matplotlib.pyplot as plt\n",
    "\n",
    "#\n",
    "from composable_logs.tasks.task_opentelemetry_logging import get_task_context\n",
    "\n",
    "#\n",
    "from common.io import datalake_root\n",
    "\n",
    "ctx = get_task_context(P)"
   ]
  },
  {
   "cell_type": "markdown",
   "id": "37d56084",
   "metadata": {
    "papermill": {
     "duration": 0.004585,
     "end_time": "2023-07-28T06:34:47.197914",
     "exception": false,
     "start_time": "2023-07-28T06:34:47.193329",
     "status": "completed"
    },
    "tags": []
   },
   "source": [
    "## Load persisted onnx-model and evaluation data"
   ]
  },
  {
   "cell_type": "code",
   "execution_count": 6,
   "id": "79865222",
   "metadata": {
    "execution": {
     "iopub.execute_input": "2023-07-28T06:34:47.209406Z",
     "iopub.status.busy": "2023-07-28T06:34:47.208609Z",
     "iopub.status.idle": "2023-07-28T06:34:47.212512Z",
     "shell.execute_reply": "2023-07-28T06:34:47.211841Z"
    },
    "papermill": {
     "duration": 0.011878,
     "end_time": "2023-07-28T06:34:47.214240",
     "exception": false,
     "start_time": "2023-07-28T06:34:47.202362",
     "status": "completed"
    },
    "tags": []
   },
   "outputs": [],
   "source": [
    "from common.io import read_onnx, get_onnx_inputs, get_onnx_outputs, read_numpy"
   ]
  },
  {
   "cell_type": "code",
   "execution_count": 7,
   "id": "5432415f",
   "metadata": {
    "execution": {
     "iopub.execute_input": "2023-07-28T06:34:47.225980Z",
     "iopub.status.busy": "2023-07-28T06:34:47.225129Z",
     "iopub.status.idle": "2023-07-28T06:34:47.234453Z",
     "shell.execute_reply": "2023-07-28T06:34:47.233747Z"
    },
    "lines_to_next_cell": 0,
    "papermill": {
     "duration": 0.017131,
     "end_time": "2023-07-28T06:34:47.236450",
     "exception": false,
     "start_time": "2023-07-28T06:34:47.219319",
     "status": "completed"
    },
    "tags": []
   },
   "outputs": [],
   "source": [
    "onnx_inference_session = read_onnx(\n",
    "    datalake_root(ctx)\n",
    "    / \"models\"\n",
    "    / f\"nr_train_images={ctx.parameters['task.nr_train_images']}\"\n",
    "    / \"model.onnx\"\n",
    ")"
   ]
  },
  {
   "cell_type": "markdown",
   "id": "82bcea17",
   "metadata": {
    "papermill": {
     "duration": 0.004405,
     "end_time": "2023-07-28T06:34:47.246003",
     "exception": false,
     "start_time": "2023-07-28T06:34:47.241598",
     "status": "completed"
    },
    "tags": []
   },
   "source": [
    "### Record structure of inputs and outputs for ONNX model\n",
    "\n",
    "(this should likely be done in training notebook)"
   ]
  },
  {
   "cell_type": "code",
   "execution_count": 8,
   "id": "b2f9f769",
   "metadata": {
    "execution": {
     "iopub.execute_input": "2023-07-28T06:34:47.265060Z",
     "iopub.status.busy": "2023-07-28T06:34:47.264587Z",
     "iopub.status.idle": "2023-07-28T06:34:47.271923Z",
     "shell.execute_reply": "2023-07-28T06:34:47.270317Z"
    },
    "papermill": {
     "duration": 0.015823,
     "end_time": "2023-07-28T06:34:47.273563",
     "exception": false,
     "start_time": "2023-07-28T06:34:47.257740",
     "status": "completed"
    },
    "tags": []
   },
   "outputs": [
    {
     "name": "stdout",
     "output_type": "stream",
     "text": [
      "{\n",
      "  \"inputs\": [\n",
      "    {\n",
      "      \"name\": \"float_input_8x8_image\",\n",
      "      \"shape\": [\n",
      "        null,\n",
      "        64\n",
      "      ],\n",
      "      \"type\": \"tensor(float)\"\n",
      "    }\n",
      "  ],\n",
      "  \"outputs\": [\n",
      "    {\n",
      "      \"name\": \"output_label\",\n",
      "      \"shape\": [\n",
      "        null\n",
      "      ],\n",
      "      \"type\": \"tensor(int64)\"\n",
      "    },\n",
      "    {\n",
      "      \"name\": \"output_probability\",\n",
      "      \"shape\": [],\n",
      "      \"type\": \"seq(map(int64,tensor(float)))\"\n",
      "    }\n",
      "  ]\n",
      "}\n"
     ]
    }
   ],
   "source": [
    "import json\n",
    "\n",
    "onnx_io = json.dumps(\n",
    "    {\n",
    "        \"inputs\": get_onnx_inputs(onnx_inference_session),\n",
    "        \"outputs\": get_onnx_outputs(onnx_inference_session),\n",
    "    },\n",
    "    indent=2,\n",
    ")\n",
    "\n",
    "\n",
    "ctx.log_artefact(\"onnx_io_structure.json\", onnx_io)\n",
    "print(onnx_io)"
   ]
  },
  {
   "cell_type": "markdown",
   "id": "3d3a4cd6",
   "metadata": {
    "papermill": {
     "duration": 0.004572,
     "end_time": "2023-07-28T06:34:47.282765",
     "exception": false,
     "start_time": "2023-07-28T06:34:47.278193",
     "status": "completed"
    },
    "tags": []
   },
   "source": [
    "### Evaluate model performance on evaluation data set"
   ]
  },
  {
   "cell_type": "code",
   "execution_count": 9,
   "id": "294000d2",
   "metadata": {
    "execution": {
     "iopub.execute_input": "2023-07-28T06:34:47.294354Z",
     "iopub.status.busy": "2023-07-28T06:34:47.294029Z",
     "iopub.status.idle": "2023-07-28T06:34:47.299743Z",
     "shell.execute_reply": "2023-07-28T06:34:47.299013Z"
    },
    "papermill": {
     "duration": 0.01409,
     "end_time": "2023-07-28T06:34:47.301518",
     "exception": false,
     "start_time": "2023-07-28T06:34:47.287428",
     "status": "completed"
    },
    "tags": []
   },
   "outputs": [],
   "source": [
    "# load evaluation data\n",
    "X_test = read_numpy(datalake_root(ctx) / \"test-data\" / \"digits.numpy\")\n",
    "y_test = read_numpy(datalake_root(ctx) / \"test-data\" / \"labels.numpy\")"
   ]
  },
  {
   "cell_type": "code",
   "execution_count": 10,
   "id": "0acf0816",
   "metadata": {
    "execution": {
     "iopub.execute_input": "2023-07-28T06:34:47.313521Z",
     "iopub.status.busy": "2023-07-28T06:34:47.313231Z",
     "iopub.status.idle": "2023-07-28T06:34:47.325260Z",
     "shell.execute_reply": "2023-07-28T06:34:47.324553Z"
    },
    "papermill": {
     "duration": 0.020311,
     "end_time": "2023-07-28T06:34:47.326936",
     "exception": false,
     "start_time": "2023-07-28T06:34:47.306625",
     "status": "completed"
    },
    "tags": []
   },
   "outputs": [],
   "source": [
    "def get_model_outputs(X, onnx_inference_session):\n",
    "    y_pred_labels, y_pred_map = onnx_inference_session.run(\n",
    "        [\"output_label\", \"output_probability\"],\n",
    "        {\"float_input_8x8_image\": X.astype(np.float32)},\n",
    "    )\n",
    "    y_pred_probs = np.array(\n",
    "        [[probabilities[digit] for digit in range(10)] for probabilities in y_pred_map]\n",
    "    )\n",
    "\n",
    "    assert y_pred_labels.shape == (X.shape[0],)\n",
    "    assert y_pred_probs.shape == (X.shape[0], 10)\n",
    "\n",
    "    return y_pred_labels, y_pred_probs\n",
    "\n",
    "\n",
    "# Note: as shown in the training notebook, the predicted labels and probabilities\n",
    "# computed below need not be compatible.\n",
    "y_pred_labels_test, y_pred_probs_test = get_model_outputs(\n",
    "    X_test, onnx_inference_session\n",
    ")"
   ]
  },
  {
   "cell_type": "markdown",
   "id": "43c6810c",
   "metadata": {
    "papermill": {
     "duration": 0.004805,
     "end_time": "2023-07-28T06:34:47.336873",
     "exception": false,
     "start_time": "2023-07-28T06:34:47.332068",
     "status": "completed"
    },
    "tags": []
   },
   "source": [
    "### Confusion matrix"
   ]
  },
  {
   "cell_type": "code",
   "execution_count": 11,
   "id": "c17518bd",
   "metadata": {
    "execution": {
     "iopub.execute_input": "2023-07-28T06:34:47.348670Z",
     "iopub.status.busy": "2023-07-28T06:34:47.347976Z",
     "iopub.status.idle": "2023-07-28T06:34:47.352586Z",
     "shell.execute_reply": "2023-07-28T06:34:47.351822Z"
    },
    "papermill": {
     "duration": 0.011968,
     "end_time": "2023-07-28T06:34:47.354178",
     "exception": false,
     "start_time": "2023-07-28T06:34:47.342210",
     "status": "completed"
    },
    "tags": []
   },
   "outputs": [],
   "source": [
    "# TODO"
   ]
  },
  {
   "cell_type": "markdown",
   "id": "c154d577",
   "metadata": {
    "papermill": {
     "duration": 0.005535,
     "end_time": "2023-07-28T06:34:47.366163",
     "exception": false,
     "start_time": "2023-07-28T06:34:47.360628",
     "status": "completed"
    },
    "tags": []
   },
   "source": [
    "### Plot predicted probabilities for each classifier over all evaluation digit images"
   ]
  },
  {
   "cell_type": "code",
   "execution_count": 12,
   "id": "80739fa5",
   "metadata": {
    "execution": {
     "iopub.execute_input": "2023-07-28T06:34:47.377712Z",
     "iopub.status.busy": "2023-07-28T06:34:47.377008Z",
     "iopub.status.idle": "2023-07-28T06:34:51.566669Z",
     "shell.execute_reply": "2023-07-28T06:34:51.565697Z"
    },
    "papermill": {
     "duration": 4.200478,
     "end_time": "2023-07-28T06:34:51.571653",
     "exception": false,
     "start_time": "2023-07-28T06:34:47.371175",
     "status": "completed"
    },
    "tags": []
   },
   "outputs": [
    {
     "data": {
      "image/png": "[encoded data removed]",
      "text/plain": [
       "<Figure size 1600x600 with 10 Axes>"
      ]
     },
     "metadata": {},
     "output_type": "display_data"
    }
   ],
   "source": [
    "def plot_per_digit_probabilities(y_pred_probs):\n",
    "    fig, axs = plt.subplots(nrows=2, ncols=5, figsize=(16, 6))\n",
    "\n",
    "    for (r, c), digit, ax in zip(\n",
    "        it.product(range(2), range(5)), range(10), axs.reshape(-1)\n",
    "    ):\n",
    "        ax.hist(y_pred_probs_test[:, digit], bins=20)\n",
    "\n",
    "        ax.set_title(f\"Digit {digit}\")\n",
    "        if r == 1 and c == 2:\n",
    "            ax.set_xlabel(\"probability\", fontsize=16)\n",
    "\n",
    "        if c == 0:\n",
    "            ax.set_ylabel(\"counts\", fontsize=16)\n",
    "        ax.set_yscale(\"log\")\n",
    "\n",
    "    fig.tight_layout()\n",
    "    fig.suptitle(\n",
    "        f\"Distributions of prediction probabilities for each digit \"\n",
    "        f\"(on evaluation data, n={y_pred_probs.shape[0]})\",\n",
    "        fontsize=20,\n",
    "    )\n",
    "    fig.tight_layout()\n",
    "    fig.show()\n",
    "\n",
    "    return fig\n",
    "\n",
    "\n",
    "fig = plot_per_digit_probabilities(y_pred_probs_test)"
   ]
  },
  {
   "cell_type": "markdown",
   "id": "048e0b35",
   "metadata": {
    "papermill": {
     "duration": 0.005259,
     "end_time": "2023-07-28T06:34:51.582870",
     "exception": false,
     "start_time": "2023-07-28T06:34:51.577611",
     "status": "completed"
    },
    "tags": []
   },
   "source": [
    "From the above distributions we see that most digits have clear separation between\n",
    "high and lower probabilities. Morover, in each case there is roughly an order of\n",
    "magnitude more of digits with low probabilities. This is compatible with digits\n",
    "being roughly evenly distributed in the data."
   ]
  },
  {
   "cell_type": "code",
   "execution_count": 13,
   "id": "1aa9c589",
   "metadata": {
    "execution": {
     "iopub.execute_input": "2023-07-28T06:34:51.596220Z",
     "iopub.status.busy": "2023-07-28T06:34:51.595910Z",
     "iopub.status.idle": "2023-07-28T06:34:52.535388Z",
     "shell.execute_reply": "2023-07-28T06:34:52.534720Z"
    },
    "papermill": {
     "duration": 0.949056,
     "end_time": "2023-07-28T06:34:52.537383",
     "exception": false,
     "start_time": "2023-07-28T06:34:51.588327",
     "status": "completed"
    },
    "tags": []
   },
   "outputs": [],
   "source": [
    "ctx.log_figure(\"per-digit-probabilities.png\", fig)"
   ]
  },
  {
   "cell_type": "markdown",
   "id": "ef845c90",
   "metadata": {
    "papermill": {
     "duration": 0.005359,
     "end_time": "2023-07-28T06:34:52.548571",
     "exception": false,
     "start_time": "2023-07-28T06:34:52.543212",
     "status": "completed"
    },
    "tags": []
   },
   "source": [
    "### Plot ROC curves for individual one-vs-rest classifiers"
   ]
  },
  {
   "cell_type": "code",
   "execution_count": 14,
   "id": "e27eb3d5",
   "metadata": {
    "execution": {
     "iopub.execute_input": "2023-07-28T06:34:52.561282Z",
     "iopub.status.busy": "2023-07-28T06:34:52.560985Z",
     "iopub.status.idle": "2023-07-28T06:34:52.899697Z",
     "shell.execute_reply": "2023-07-28T06:34:52.898891Z"
    },
    "papermill": {
     "duration": 0.347666,
     "end_time": "2023-07-28T06:34:52.901822",
     "exception": false,
     "start_time": "2023-07-28T06:34:52.554156",
     "status": "completed"
    },
    "tags": []
   },
   "outputs": [],
   "source": [
    "from sklearn import metrics"
   ]
  },
  {
   "cell_type": "code",
   "execution_count": 15,
   "id": "90a33790",
   "metadata": {
    "execution": {
     "iopub.execute_input": "2023-07-28T06:34:52.915778Z",
     "iopub.status.busy": "2023-07-28T06:34:52.914794Z",
     "iopub.status.idle": "2023-07-28T06:34:54.942678Z",
     "shell.execute_reply": "2023-07-28T06:34:54.941173Z"
    },
    "papermill": {
     "duration": 2.037239,
     "end_time": "2023-07-28T06:34:54.944838",
     "exception": false,
     "start_time": "2023-07-28T06:34:52.907599",
     "status": "completed"
    },
    "tags": []
   },
   "outputs": [
    {
     "data": {
      "image/png": "[encoded data removed]",
      "text/plain": [
       "<Figure size 1600x800 with 10 Axes>"
      ]
     },
     "metadata": {},
     "output_type": "display_data"
    }
   ],
   "source": [
    "def plot_roc_curves(y, y_pred_probs):\n",
    "    # based on example code\n",
    "    # https://scikit-learn.org/stable/auto_examples/model_selection/plot_roc.html\n",
    "\n",
    "    fig, axs = plt.subplots(nrows=2, ncols=5, figsize=(16, 8))\n",
    "\n",
    "    roc_auc_dict = {}\n",
    "\n",
    "    for (r, c), digit, ax in zip(\n",
    "        it.product(range(2), range(5)), range(10), axs.reshape(-1)\n",
    "    ):\n",
    "        fpr, tpr, _ = metrics.roc_curve(y == digit, y_pred_probs[:, digit])\n",
    "        auc = metrics.auc(fpr, tpr)\n",
    "        roc_auc_dict[str(digit)] = auc\n",
    "\n",
    "        ax.plot(fpr, tpr, label=f\"ROC AUC={round(auc, 3)}\")\n",
    "\n",
    "        ax.set_title(f\"\\nDigit {digit}\", fontsize=16)\n",
    "        if r == 1:\n",
    "            ax.set_xlabel(\"FPR\", fontsize=18)\n",
    "\n",
    "        if c == 0:\n",
    "            ax.set_ylabel(\"TPR\", fontsize=18)\n",
    "\n",
    "        ax.set_xlim([-0.05, 1.05])\n",
    "        ax.set_ylim([-0.05, 1.05])\n",
    "        ax.legend(loc=\"lower right\", frameon=False, fontsize=14)\n",
    "\n",
    "    fig.tight_layout()\n",
    "    fig.suptitle(\n",
    "        f\"ROC plots for one-vs-rest performances \"\n",
    "        f\"(on evaluation data, n={y_pred_probs_test.shape[1]}\",\n",
    "        fontsize=22,\n",
    "    )\n",
    "    fig.tight_layout()\n",
    "    fig.show()\n",
    "\n",
    "    return roc_auc_dict, fig\n",
    "\n",
    "\n",
    "roc_auc_dict, fig = plot_roc_curves(y_test, y_pred_probs_test)"
   ]
  },
  {
   "cell_type": "code",
   "execution_count": 16,
   "id": "1a33714b",
   "metadata": {
    "execution": {
     "iopub.execute_input": "2023-07-28T06:34:54.968163Z",
     "iopub.status.busy": "2023-07-28T06:34:54.966144Z",
     "iopub.status.idle": "2023-07-28T06:34:55.325880Z",
     "shell.execute_reply": "2023-07-28T06:34:55.325213Z"
    },
    "papermill": {
     "duration": 0.379287,
     "end_time": "2023-07-28T06:34:55.330864",
     "exception": false,
     "start_time": "2023-07-28T06:34:54.951577",
     "status": "completed"
    },
    "tags": []
   },
   "outputs": [],
   "source": [
    "ctx.log_figure(\"per-digit-roc-curves.png\", fig)"
   ]
  },
  {
   "cell_type": "code",
   "execution_count": 17,
   "id": "434b5979",
   "metadata": {
    "execution": {
     "iopub.execute_input": "2023-07-28T06:34:55.346413Z",
     "iopub.status.busy": "2023-07-28T06:34:55.345343Z",
     "iopub.status.idle": "2023-07-28T06:34:55.354650Z",
     "shell.execute_reply": "2023-07-28T06:34:55.353992Z"
    },
    "papermill": {
     "duration": 0.019446,
     "end_time": "2023-07-28T06:34:55.356836",
     "exception": false,
     "start_time": "2023-07-28T06:34:55.337390",
     "status": "completed"
    },
    "tags": []
   },
   "outputs": [
    {
     "data": {
      "text/plain": [
       "{'0': 1.0,\n",
       " '1': 0.998987816307404,\n",
       " '2': 1.0,\n",
       " '3': 0.9999250234301781,\n",
       " '4': 0.9996189605243103,\n",
       " '5': 0.9994001874414246,\n",
       " '6': 0.999923792104862,\n",
       " '7': 0.9997713763145862,\n",
       " '8': 0.9948376418663304,\n",
       " '9': 0.9995427526291724}"
      ]
     },
     "execution_count": 17,
     "metadata": {},
     "output_type": "execute_result"
    }
   ],
   "source": [
    "roc_auc_dict"
   ]
  },
  {
   "cell_type": "code",
   "execution_count": 18,
   "id": "c1d8763c",
   "metadata": {
    "execution": {
     "iopub.execute_input": "2023-07-28T06:34:55.374810Z",
     "iopub.status.busy": "2023-07-28T06:34:55.373920Z",
     "iopub.status.idle": "2023-07-28T06:34:55.381865Z",
     "shell.execute_reply": "2023-07-28T06:34:55.381222Z"
    },
    "papermill": {
     "duration": 0.020505,
     "end_time": "2023-07-28T06:34:55.384406",
     "exception": false,
     "start_time": "2023-07-28T06:34:55.363901",
     "status": "completed"
    },
    "tags": []
   },
   "outputs": [
    {
     "name": "stdout",
     "output_type": "stream",
     "text": [
      " - Logging roc_auc_per_digit (json) : {'0': 1.0, '1': 0.998987816307404, '2': 1.0, '3': 0.9999250234301781, '4': 0.9996189605243103, '5': 0.9994001874414246, '6': 0.999923792104862, '7': 0.9997713763145862, '8': 0.9948376418663304, '9': 0.9995427526291724}\n"
     ]
    }
   ],
   "source": [
    "ctx.log_value(\"roc_auc_per_digit\", roc_auc_dict)"
   ]
  },
  {
   "cell_type": "markdown",
   "id": "ee3e12e6",
   "metadata": {
    "papermill": {
     "duration": 0.006882,
     "end_time": "2023-07-28T06:34:55.397915",
     "exception": false,
     "start_time": "2023-07-28T06:34:55.391033",
     "status": "completed"
    },
    "tags": []
   },
   "source": [
    "### Compute and log mean ROC AUC score averaged over all digits"
   ]
  },
  {
   "cell_type": "code",
   "execution_count": 19,
   "id": "033f3105",
   "metadata": {
    "execution": {
     "iopub.execute_input": "2023-07-28T06:34:55.413984Z",
     "iopub.status.busy": "2023-07-28T06:34:55.413681Z",
     "iopub.status.idle": "2023-07-28T06:34:55.428557Z",
     "shell.execute_reply": "2023-07-28T06:34:55.427722Z"
    },
    "papermill": {
     "duration": 0.025294,
     "end_time": "2023-07-28T06:34:55.430494",
     "exception": false,
     "start_time": "2023-07-28T06:34:55.405200",
     "status": "completed"
    },
    "tags": []
   },
   "outputs": [
    {
     "name": "stdout",
     "output_type": "stream",
     "text": [
      " - Logging roc_auc_class_mean (float) : 0.9992007550618268\n"
     ]
    }
   ],
   "source": [
    "roc_auc_macro = np.mean(list(roc_auc_dict.values()))\n",
    "\n",
    "ctx.log_float(\"roc_auc_class_mean\", roc_auc_macro)\n",
    "\n",
    "# assert that the same value can be computed directly using sklearn\n",
    "assert roc_auc_macro == metrics.roc_auc_score(\n",
    "    y_test, y_pred_probs_test, average=\"macro\", multi_class=\"ovr\"\n",
    ")"
   ]
  },
  {
   "cell_type": "code",
   "execution_count": 20,
   "id": "581dc3c1",
   "metadata": {
    "execution": {
     "iopub.execute_input": "2023-07-28T06:34:55.446643Z",
     "iopub.status.busy": "2023-07-28T06:34:55.446335Z",
     "iopub.status.idle": "2023-07-28T06:34:55.451158Z",
     "shell.execute_reply": "2023-07-28T06:34:55.450482Z"
    },
    "lines_to_next_cell": 0,
    "papermill": {
     "duration": 0.015113,
     "end_time": "2023-07-28T06:34:55.453006",
     "exception": false,
     "start_time": "2023-07-28T06:34:55.437893",
     "status": "completed"
    },
    "tags": []
   },
   "outputs": [],
   "source": [
    "# ---"
   ]
  },
  {
   "cell_type": "code",
   "execution_count": null,
   "id": "e04424b5",
   "metadata": {
    "papermill": {
     "duration": 0.007283,
     "end_time": "2023-07-28T06:34:55.467389",
     "exception": false,
     "start_time": "2023-07-28T06:34:55.460106",
     "status": "completed"
    },
    "tags": []
   },
   "outputs": [],
   "source": []
  }
 ],
 "metadata": {
  "jupytext": {
   "cell_metadata_filter": "tags,-all",
   "main_language": "python",
   "notebook_metadata_filter": "-all"
  },
  "language_info": {
   "codemirror_mode": {
    "name": "ipython",
    "version": 3
   },
   "file_extension": ".py",
   "mimetype": "text/x-python",
   "name": "python",
   "nbconvert_exporter": "python",
   "pygments_lexer": "ipython3",
   "version": "3.8.10"
  },
  "papermill": {
   "default_parameters": {},
   "duration": 12.730073,
   "end_time": "2023-07-28T06:34:57.408309",
   "environment_variables": {},
   "exception": null,
   "input_path": "/tmp/temp-notebook-_w_kg_of.ipynb",
   "output_path": "/tmp/temp-notebook-_w_kg_of.ipynb",
   "parameters": {
    "P": {
     "_parameters_actor_name": "parameter_for_task_0xc1314a94f643ecb6",
     "task.nr_train_images": 1000
    }
   },
   "start_time": "2023-07-28T06:34:44.678236",
   "version": "2.4.0"
  }
 },
 "nbformat": 4,
 "nbformat_minor": 5
}