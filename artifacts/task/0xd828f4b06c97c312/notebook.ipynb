{
 "cells": [
  {
   "cell_type": "markdown",
   "id": "9e26aa46",
   "metadata": {
    "papermill": {
     "duration": 0.010579,
     "end_time": "2023-07-26T06:35:36.891007",
     "exception": false,
     "start_time": "2023-07-26T06:35:36.880428",
     "status": "completed"
    },
    "tags": []
   },
   "source": [
    "# Benchmark model\n",
    "\n",
    "The purpose of this notebook is to benchmark persisted onnx-model (trained in the\n",
    "previous step) against evaluation set."
   ]
  },
  {
   "cell_type": "markdown",
   "id": "773007e9",
   "metadata": {
    "papermill": {
     "duration": 0.004493,
     "end_time": "2023-07-26T06:35:36.904447",
     "exception": false,
     "start_time": "2023-07-26T06:35:36.899954",
     "status": "completed"
    },
    "tags": []
   },
   "source": [
    "### Determine run parameters"
   ]
  },
  {
   "cell_type": "code",
   "execution_count": 1,
   "id": "52c3d3fa",
   "metadata": {
    "execution": {
     "iopub.execute_input": "2023-07-26T06:35:36.916600Z",
     "iopub.status.busy": "2023-07-26T06:35:36.916285Z",
     "iopub.status.idle": "2023-07-26T06:35:36.926369Z",
     "shell.execute_reply": "2023-07-26T06:35:36.925633Z"
    },
    "lines_to_next_cell": 0,
    "papermill": {
     "duration": 0.019245,
     "end_time": "2023-07-26T06:35:36.928430",
     "exception": false,
     "start_time": "2023-07-26T06:35:36.909185",
     "status": "completed"
    },
    "tags": []
   },
   "outputs": [],
   "source": [
    "# ----------------- Parameters for interactive development --------------\n",
    "P = {\n",
    "    \"workflow.data_lake_root\": \"/pipeline-outputs/data-lake\",\n",
    "    \"task.nr_train_images\": 600,\n",
    "}"
   ]
  },
  {
   "cell_type": "code",
   "execution_count": 2,
   "id": "090d538f",
   "metadata": {
    "execution": {
     "iopub.execute_input": "2023-07-26T06:35:36.939758Z",
     "iopub.status.busy": "2023-07-26T06:35:36.939463Z",
     "iopub.status.idle": "2023-07-26T06:35:36.946766Z",
     "shell.execute_reply": "2023-07-26T06:35:36.945938Z"
    },
    "lines_to_next_cell": 0,
    "papermill": {
     "duration": 0.015488,
     "end_time": "2023-07-26T06:35:36.948920",
     "exception": false,
     "start_time": "2023-07-26T06:35:36.933432",
     "status": "completed"
    },
    "tags": [
     "parameters"
    ]
   },
   "outputs": [],
   "source": [
    "# - During automated runs parameters will be injected in the below cell -"
   ]
  },
  {
   "cell_type": "code",
   "execution_count": 3,
   "id": "2f259bcd",
   "metadata": {
    "execution": {
     "iopub.execute_input": "2023-07-26T06:35:36.962694Z",
     "iopub.status.busy": "2023-07-26T06:35:36.962309Z",
     "iopub.status.idle": "2023-07-26T06:35:36.974747Z",
     "shell.execute_reply": "2023-07-26T06:35:36.973216Z"
    },
    "papermill": {
     "duration": 0.023191,
     "end_time": "2023-07-26T06:35:36.976798",
     "exception": false,
     "start_time": "2023-07-26T06:35:36.953607",
     "status": "completed"
    },
    "tags": [
     "injected-parameters"
    ]
   },
   "outputs": [],
   "source": [
    "# Parameters\n",
    "P = {\n",
    "    \"task.nr_train_images\": 1000,\n",
    "    \"_parameters_actor_name\": \"parameter_for_task_0xd828f4b06c97c312\",\n",
    "}\n"
   ]
  },
  {
   "cell_type": "code",
   "execution_count": 4,
   "id": "c906ca53",
   "metadata": {
    "execution": {
     "iopub.execute_input": "2023-07-26T06:35:36.991514Z",
     "iopub.status.busy": "2023-07-26T06:35:36.991186Z",
     "iopub.status.idle": "2023-07-26T06:35:36.999621Z",
     "shell.execute_reply": "2023-07-26T06:35:36.995488Z"
    },
    "lines_to_next_cell": 0,
    "papermill": {
     "duration": 0.018743,
     "end_time": "2023-07-26T06:35:37.002077",
     "exception": false,
     "start_time": "2023-07-26T06:35:36.983334",
     "status": "completed"
    },
    "tags": []
   },
   "outputs": [],
   "source": [
    "# -----------------------------------------------------------------------"
   ]
  },
  {
   "cell_type": "markdown",
   "id": "68f48e81",
   "metadata": {
    "papermill": {
     "duration": 0.005101,
     "end_time": "2023-07-26T06:35:37.012323",
     "exception": false,
     "start_time": "2023-07-26T06:35:37.007222",
     "status": "completed"
    },
    "tags": []
   },
   "source": [
    "---"
   ]
  },
  {
   "cell_type": "markdown",
   "id": "cdc9905a",
   "metadata": {
    "lines_to_next_cell": 2,
    "papermill": {
     "duration": 0.004597,
     "end_time": "2023-07-26T06:35:37.021733",
     "exception": false,
     "start_time": "2023-07-26T06:35:37.017136",
     "status": "completed"
    },
    "tags": []
   },
   "source": [
    "### Notebook code"
   ]
  },
  {
   "cell_type": "code",
   "execution_count": 5,
   "id": "a9741bd7",
   "metadata": {
    "execution": {
     "iopub.execute_input": "2023-07-26T06:35:37.033223Z",
     "iopub.status.busy": "2023-07-26T06:35:37.032900Z",
     "iopub.status.idle": "2023-07-26T06:35:38.155397Z",
     "shell.execute_reply": "2023-07-26T06:35:38.154527Z"
    },
    "papermill": {
     "duration": 1.130933,
     "end_time": "2023-07-26T06:35:38.157617",
     "exception": false,
     "start_time": "2023-07-26T06:35:37.026684",
     "status": "completed"
    },
    "tags": []
   },
   "outputs": [
    {
     "name": "stderr",
     "output_type": "stream",
     "text": [
      "2023-07-26 06:35:38,053\tINFO worker.py:1364 -- Connecting to existing Ray cluster at address: 172.17.0.2:62462...\n"
     ]
    },
    {
     "name": "stderr",
     "output_type": "stream",
     "text": [
      "2023-07-26 06:35:38,065\tINFO worker.py:1544 -- Connected to Ray cluster. View the dashboard at \u001b[1m\u001b[32mhttp://127.0.0.1:8265 \u001b[39m\u001b[22m\n"
     ]
    },
    {
     "name": "stderr",
     "output_type": "stream",
     "text": [
      "/home/host_user/.local/lib/python3.8/site-packages/ray/runtime_context.py:27: RayDeprecationWarning: This API is deprecated and may be removed in future Ray releases. You could suppress this warning by setting env variable PYTHONWARNINGS=\"ignore::DeprecationWarning\"\n",
      "Use get_job_id() instead\n",
      "  \"job_id\": self.job_id,\n",
      "/home/host_user/.local/lib/python3.8/site-packages/ray/runtime_context.py:28: RayDeprecationWarning: This API is deprecated and may be removed in future Ray releases. You could suppress this warning by setting env variable PYTHONWARNINGS=\"ignore::DeprecationWarning\"\n",
      "Use get_node_id() instead\n",
      "  \"node_id\": self.node_id,\n"
     ]
    }
   ],
   "source": [
    "import itertools as it\n",
    "\n",
    "#\n",
    "import numpy as np\n",
    "import matplotlib.pyplot as plt\n",
    "\n",
    "#\n",
    "from composable_logs.tasks.task_opentelemetry_logging import get_task_context\n",
    "\n",
    "#\n",
    "from common.io import datalake_root\n",
    "\n",
    "ctx = get_task_context(P)"
   ]
  },
  {
   "cell_type": "markdown",
   "id": "c80020ce",
   "metadata": {
    "papermill": {
     "duration": 0.005215,
     "end_time": "2023-07-26T06:35:38.168437",
     "exception": false,
     "start_time": "2023-07-26T06:35:38.163222",
     "status": "completed"
    },
    "tags": []
   },
   "source": [
    "## Load persisted onnx-model and evaluation data"
   ]
  },
  {
   "cell_type": "code",
   "execution_count": 6,
   "id": "9bf3b510",
   "metadata": {
    "execution": {
     "iopub.execute_input": "2023-07-26T06:35:38.181001Z",
     "iopub.status.busy": "2023-07-26T06:35:38.180665Z",
     "iopub.status.idle": "2023-07-26T06:35:38.186270Z",
     "shell.execute_reply": "2023-07-26T06:35:38.185585Z"
    },
    "papermill": {
     "duration": 0.018399,
     "end_time": "2023-07-26T06:35:38.192465",
     "exception": false,
     "start_time": "2023-07-26T06:35:38.174066",
     "status": "completed"
    },
    "tags": []
   },
   "outputs": [],
   "source": [
    "from common.io import read_onnx, get_onnx_inputs, get_onnx_outputs, read_numpy"
   ]
  },
  {
   "cell_type": "code",
   "execution_count": 7,
   "id": "303cae41",
   "metadata": {
    "execution": {
     "iopub.execute_input": "2023-07-26T06:35:38.212499Z",
     "iopub.status.busy": "2023-07-26T06:35:38.212173Z",
     "iopub.status.idle": "2023-07-26T06:35:38.224894Z",
     "shell.execute_reply": "2023-07-26T06:35:38.224020Z"
    },
    "lines_to_next_cell": 0,
    "papermill": {
     "duration": 0.021761,
     "end_time": "2023-07-26T06:35:38.226983",
     "exception": false,
     "start_time": "2023-07-26T06:35:38.205222",
     "status": "completed"
    },
    "tags": []
   },
   "outputs": [],
   "source": [
    "onnx_inference_session = read_onnx(\n",
    "    datalake_root(ctx)\n",
    "    / \"models\"\n",
    "    / f\"nr_train_images={ctx.parameters['task.nr_train_images']}\"\n",
    "    / \"model.onnx\"\n",
    ")"
   ]
  },
  {
   "cell_type": "markdown",
   "id": "7295e8d6",
   "metadata": {
    "papermill": {
     "duration": 0.005087,
     "end_time": "2023-07-26T06:35:38.237259",
     "exception": false,
     "start_time": "2023-07-26T06:35:38.232172",
     "status": "completed"
    },
    "tags": []
   },
   "source": [
    "### Record structure of inputs and outputs for ONNX model\n",
    "\n",
    "(this should likely be done in training notebook)"
   ]
  },
  {
   "cell_type": "code",
   "execution_count": 8,
   "id": "fe603fa2",
   "metadata": {
    "execution": {
     "iopub.execute_input": "2023-07-26T06:35:38.249315Z",
     "iopub.status.busy": "2023-07-26T06:35:38.248986Z",
     "iopub.status.idle": "2023-07-26T06:35:38.256693Z",
     "shell.execute_reply": "2023-07-26T06:35:38.256013Z"
    },
    "papermill": {
     "duration": 0.016314,
     "end_time": "2023-07-26T06:35:38.258651",
     "exception": false,
     "start_time": "2023-07-26T06:35:38.242337",
     "status": "completed"
    },
    "tags": []
   },
   "outputs": [
    {
     "name": "stdout",
     "output_type": "stream",
     "text": [
      "{\n",
      "  \"inputs\": [\n",
      "    {\n",
      "      \"name\": \"float_input_8x8_image\",\n",
      "      \"shape\": [\n",
      "        null,\n",
      "        64\n",
      "      ],\n",
      "      \"type\": \"tensor(float)\"\n",
      "    }\n",
      "  ],\n",
      "  \"outputs\": [\n",
      "    {\n",
      "      \"name\": \"output_label\",\n",
      "      \"shape\": [\n",
      "        null\n",
      "      ],\n",
      "      \"type\": \"tensor(int64)\"\n",
      "    },\n",
      "    {\n",
      "      \"name\": \"output_probability\",\n",
      "      \"shape\": [],\n",
      "      \"type\": \"seq(map(int64,tensor(float)))\"\n",
      "    }\n",
      "  ]\n",
      "}\n"
     ]
    }
   ],
   "source": [
    "import json\n",
    "\n",
    "onnx_io = json.dumps(\n",
    "    {\n",
    "        \"inputs\": get_onnx_inputs(onnx_inference_session),\n",
    "        \"outputs\": get_onnx_outputs(onnx_inference_session),\n",
    "    },\n",
    "    indent=2,\n",
    ")\n",
    "\n",
    "\n",
    "ctx.log_artefact(\"onnx_io_structure.json\", onnx_io)\n",
    "print(onnx_io)"
   ]
  },
  {
   "cell_type": "markdown",
   "id": "7cddbabc",
   "metadata": {
    "papermill": {
     "duration": 0.005025,
     "end_time": "2023-07-26T06:35:38.269341",
     "exception": false,
     "start_time": "2023-07-26T06:35:38.264316",
     "status": "completed"
    },
    "tags": []
   },
   "source": [
    "### Evaluate model performance on evaluation data set"
   ]
  },
  {
   "cell_type": "code",
   "execution_count": 9,
   "id": "ee669f79",
   "metadata": {
    "execution": {
     "iopub.execute_input": "2023-07-26T06:35:38.281625Z",
     "iopub.status.busy": "2023-07-26T06:35:38.281291Z",
     "iopub.status.idle": "2023-07-26T06:35:38.288143Z",
     "shell.execute_reply": "2023-07-26T06:35:38.287480Z"
    },
    "papermill": {
     "duration": 0.0154,
     "end_time": "2023-07-26T06:35:38.290208",
     "exception": false,
     "start_time": "2023-07-26T06:35:38.274808",
     "status": "completed"
    },
    "tags": []
   },
   "outputs": [],
   "source": [
    "# load evaluation data\n",
    "X_test = read_numpy(datalake_root(ctx) / \"test-data\" / \"digits.numpy\")\n",
    "y_test = read_numpy(datalake_root(ctx) / \"test-data\" / \"labels.numpy\")"
   ]
  },
  {
   "cell_type": "code",
   "execution_count": 10,
   "id": "457fed65",
   "metadata": {
    "execution": {
     "iopub.execute_input": "2023-07-26T06:35:38.302550Z",
     "iopub.status.busy": "2023-07-26T06:35:38.302261Z",
     "iopub.status.idle": "2023-07-26T06:35:38.320755Z",
     "shell.execute_reply": "2023-07-26T06:35:38.320033Z"
    },
    "papermill": {
     "duration": 0.02748,
     "end_time": "2023-07-26T06:35:38.323182",
     "exception": false,
     "start_time": "2023-07-26T06:35:38.295702",
     "status": "completed"
    },
    "tags": []
   },
   "outputs": [],
   "source": [
    "def get_model_outputs(X, onnx_inference_session):\n",
    "    y_pred_labels, y_pred_map = onnx_inference_session.run(\n",
    "        [\"output_label\", \"output_probability\"],\n",
    "        {\"float_input_8x8_image\": X.astype(np.float32)},\n",
    "    )\n",
    "    y_pred_probs = np.array(\n",
    "        [[probabilities[digit] for digit in range(10)] for probabilities in y_pred_map]\n",
    "    )\n",
    "\n",
    "    assert y_pred_labels.shape == (X.shape[0],)\n",
    "    assert y_pred_probs.shape == (X.shape[0], 10)\n",
    "\n",
    "    return y_pred_labels, y_pred_probs\n",
    "\n",
    "\n",
    "# Note: as shown in the training notebook, the predicted labels and probabilities\n",
    "# computed below need not be compatible.\n",
    "y_pred_labels_test, y_pred_probs_test = get_model_outputs(\n",
    "    X_test, onnx_inference_session\n",
    ")"
   ]
  },
  {
   "cell_type": "markdown",
   "id": "cf0a322b",
   "metadata": {
    "papermill": {
     "duration": 0.005151,
     "end_time": "2023-07-26T06:35:38.333960",
     "exception": false,
     "start_time": "2023-07-26T06:35:38.328809",
     "status": "completed"
    },
    "tags": []
   },
   "source": [
    "### Confusion matrix"
   ]
  },
  {
   "cell_type": "code",
   "execution_count": 11,
   "id": "a024616b",
   "metadata": {
    "execution": {
     "iopub.execute_input": "2023-07-26T06:35:38.346025Z",
     "iopub.status.busy": "2023-07-26T06:35:38.345705Z",
     "iopub.status.idle": "2023-07-26T06:35:38.350606Z",
     "shell.execute_reply": "2023-07-26T06:35:38.349940Z"
    },
    "papermill": {
     "duration": 0.013519,
     "end_time": "2023-07-26T06:35:38.352654",
     "exception": false,
     "start_time": "2023-07-26T06:35:38.339135",
     "status": "completed"
    },
    "tags": []
   },
   "outputs": [],
   "source": [
    "# TODO"
   ]
  },
  {
   "cell_type": "markdown",
   "id": "660f332f",
   "metadata": {
    "papermill": {
     "duration": 0.005286,
     "end_time": "2023-07-26T06:35:38.363400",
     "exception": false,
     "start_time": "2023-07-26T06:35:38.358114",
     "status": "completed"
    },
    "tags": []
   },
   "source": [
    "### Plot predicted probabilities for each classifier over all evaluation digit images"
   ]
  },
  {
   "cell_type": "code",
   "execution_count": 12,
   "id": "c0345137",
   "metadata": {
    "execution": {
     "iopub.execute_input": "2023-07-26T06:35:38.376305Z",
     "iopub.status.busy": "2023-07-26T06:35:38.375975Z",
     "iopub.status.idle": "2023-07-26T06:35:43.372875Z",
     "shell.execute_reply": "2023-07-26T06:35:43.372098Z"
    },
    "papermill": {
     "duration": 5.007606,
     "end_time": "2023-07-26T06:35:43.376648",
     "exception": false,
     "start_time": "2023-07-26T06:35:38.369042",
     "status": "completed"
    },
    "tags": []
   },
   "outputs": [
    {
     "data": {
      "image/png": "[encoded data removed]",
      "text/plain": [
       "<Figure size 1600x600 with 10 Axes>"
      ]
     },
     "metadata": {},
     "output_type": "display_data"
    }
   ],
   "source": [
    "def plot_per_digit_probabilities(y_pred_probs):\n",
    "    fig, axs = plt.subplots(nrows=2, ncols=5, figsize=(16, 6))\n",
    "\n",
    "    for (r, c), digit, ax in zip(\n",
    "        it.product(range(2), range(5)), range(10), axs.reshape(-1)\n",
    "    ):\n",
    "        ax.hist(y_pred_probs_test[:, digit], bins=20)\n",
    "\n",
    "        ax.set_title(f\"Digit {digit}\")\n",
    "        if r == 1 and c == 2:\n",
    "            ax.set_xlabel(\"probability\", fontsize=16)\n",
    "\n",
    "        if c == 0:\n",
    "            ax.set_ylabel(\"counts\", fontsize=16)\n",
    "        ax.set_yscale(\"log\")\n",
    "\n",
    "    fig.tight_layout()\n",
    "    fig.suptitle(\n",
    "        f\"Distributions of prediction probabilities for each digit \"\n",
    "        f\"(on evaluation data, n={y_pred_probs.shape[0]})\",\n",
    "        fontsize=20,\n",
    "    )\n",
    "    fig.tight_layout()\n",
    "    fig.show()\n",
    "\n",
    "    return fig\n",
    "\n",
    "\n",
    "fig = plot_per_digit_probabilities(y_pred_probs_test)"
   ]
  },
  {
   "cell_type": "markdown",
   "id": "8ba5fc6a",
   "metadata": {
    "papermill": {
     "duration": 0.006205,
     "end_time": "2023-07-26T06:35:43.389433",
     "exception": false,
     "start_time": "2023-07-26T06:35:43.383228",
     "status": "completed"
    },
    "tags": []
   },
   "source": [
    "From the above distributions we see that most digits have clear separation between\n",
    "high and lower probabilities. Morover, in each case there is roughly an order of\n",
    "magnitude more of digits with low probabilities. This is compatible with digits\n",
    "being roughly evenly distributed in the data."
   ]
  },
  {
   "cell_type": "code",
   "execution_count": 13,
   "id": "251d49f3",
   "metadata": {
    "execution": {
     "iopub.execute_input": "2023-07-26T06:35:43.404103Z",
     "iopub.status.busy": "2023-07-26T06:35:43.403768Z",
     "iopub.status.idle": "2023-07-26T06:35:44.196677Z",
     "shell.execute_reply": "2023-07-26T06:35:44.195889Z"
    },
    "papermill": {
     "duration": 0.808302,
     "end_time": "2023-07-26T06:35:44.203884",
     "exception": false,
     "start_time": "2023-07-26T06:35:43.395582",
     "status": "completed"
    },
    "tags": []
   },
   "outputs": [],
   "source": [
    "ctx.log_figure(\"per-digit-probabilities.png\", fig)"
   ]
  },
  {
   "cell_type": "markdown",
   "id": "18253c79",
   "metadata": {
    "papermill": {
     "duration": 0.006529,
     "end_time": "2023-07-26T06:35:44.216984",
     "exception": false,
     "start_time": "2023-07-26T06:35:44.210455",
     "status": "completed"
    },
    "tags": []
   },
   "source": [
    "### Plot ROC curves for individual one-vs-rest classifiers"
   ]
  },
  {
   "cell_type": "code",
   "execution_count": 14,
   "id": "8e04d511",
   "metadata": {
    "execution": {
     "iopub.execute_input": "2023-07-26T06:35:44.231811Z",
     "iopub.status.busy": "2023-07-26T06:35:44.231477Z",
     "iopub.status.idle": "2023-07-26T06:35:44.636821Z",
     "shell.execute_reply": "2023-07-26T06:35:44.636063Z"
    },
    "papermill": {
     "duration": 0.41599,
     "end_time": "2023-07-26T06:35:44.639493",
     "exception": false,
     "start_time": "2023-07-26T06:35:44.223503",
     "status": "completed"
    },
    "tags": []
   },
   "outputs": [],
   "source": [
    "from sklearn import metrics"
   ]
  },
  {
   "cell_type": "code",
   "execution_count": 15,
   "id": "54330209",
   "metadata": {
    "execution": {
     "iopub.execute_input": "2023-07-26T06:35:44.654450Z",
     "iopub.status.busy": "2023-07-26T06:35:44.654123Z",
     "iopub.status.idle": "2023-07-26T06:35:46.901839Z",
     "shell.execute_reply": "2023-07-26T06:35:46.901056Z"
    },
    "papermill": {
     "duration": 2.258693,
     "end_time": "2023-07-26T06:35:46.904836",
     "exception": false,
     "start_time": "2023-07-26T06:35:44.646143",
     "status": "completed"
    },
    "tags": []
   },
   "outputs": [
    {
     "data": {
      "image/png": "[encoded data removed]",
      "text/plain": [
       "<Figure size 1600x800 with 10 Axes>"
      ]
     },
     "metadata": {},
     "output_type": "display_data"
    }
   ],
   "source": [
    "def plot_roc_curves(y, y_pred_probs):\n",
    "    # based on example code\n",
    "    # https://scikit-learn.org/stable/auto_examples/model_selection/plot_roc.html\n",
    "\n",
    "    fig, axs = plt.subplots(nrows=2, ncols=5, figsize=(16, 8))\n",
    "\n",
    "    roc_auc_dict = {}\n",
    "\n",
    "    for (r, c), digit, ax in zip(\n",
    "        it.product(range(2), range(5)), range(10), axs.reshape(-1)\n",
    "    ):\n",
    "        fpr, tpr, _ = metrics.roc_curve(y == digit, y_pred_probs[:, digit])\n",
    "        auc = metrics.auc(fpr, tpr)\n",
    "        roc_auc_dict[str(digit)] = auc\n",
    "\n",
    "        ax.plot(fpr, tpr, label=f\"ROC AUC={round(auc, 3)}\")\n",
    "\n",
    "        ax.set_title(f\"\\nDigit {digit}\", fontsize=16)\n",
    "        if r == 1:\n",
    "            ax.set_xlabel(\"FPR\", fontsize=18)\n",
    "\n",
    "        if c == 0:\n",
    "            ax.set_ylabel(\"TPR\", fontsize=18)\n",
    "\n",
    "        ax.set_xlim([-0.05, 1.05])\n",
    "        ax.set_ylim([-0.05, 1.05])\n",
    "        ax.legend(loc=\"lower right\", frameon=False, fontsize=14)\n",
    "\n",
    "    fig.tight_layout()\n",
    "    fig.suptitle(\n",
    "        f\"ROC plots for one-vs-rest performances \"\n",
    "        f\"(on evaluation data, n={y_pred_probs_test.shape[1]}\",\n",
    "        fontsize=22,\n",
    "    )\n",
    "    fig.tight_layout()\n",
    "    fig.show()\n",
    "\n",
    "    return roc_auc_dict, fig\n",
    "\n",
    "\n",
    "roc_auc_dict, fig = plot_roc_curves(y_test, y_pred_probs_test)"
   ]
  },
  {
   "cell_type": "code",
   "execution_count": 16,
   "id": "8b9d5fd2",
   "metadata": {
    "execution": {
     "iopub.execute_input": "2023-07-26T06:35:46.924437Z",
     "iopub.status.busy": "2023-07-26T06:35:46.924007Z",
     "iopub.status.idle": "2023-07-26T06:35:47.383611Z",
     "shell.execute_reply": "2023-07-26T06:35:47.382847Z"
    },
    "papermill": {
     "duration": 0.472904,
     "end_time": "2023-07-26T06:35:47.386591",
     "exception": false,
     "start_time": "2023-07-26T06:35:46.913687",
     "status": "completed"
    },
    "tags": []
   },
   "outputs": [],
   "source": [
    "ctx.log_figure(\"per-digit-roc-curves.png\", fig)"
   ]
  },
  {
   "cell_type": "code",
   "execution_count": 17,
   "id": "cb7160b1",
   "metadata": {
    "execution": {
     "iopub.execute_input": "2023-07-26T06:35:47.404562Z",
     "iopub.status.busy": "2023-07-26T06:35:47.404160Z",
     "iopub.status.idle": "2023-07-26T06:35:47.412124Z",
     "shell.execute_reply": "2023-07-26T06:35:47.411390Z"
    },
    "papermill": {
     "duration": 0.019752,
     "end_time": "2023-07-26T06:35:47.414079",
     "exception": false,
     "start_time": "2023-07-26T06:35:47.394327",
     "status": "completed"
    },
    "tags": []
   },
   "outputs": [
    {
     "data": {
      "text/plain": [
       "{'0': 1.0,\n",
       " '1': 0.998875351452671,\n",
       " '2': 1.0,\n",
       " '3': 0.9998500468603562,\n",
       " '4': 0.9996189605243103,\n",
       " '5': 0.9994001874414246,\n",
       " '6': 0.999923792104862,\n",
       " '7': 0.9997332723670171,\n",
       " '8': 0.994798234552333,\n",
       " '9': 0.9996189605243103}"
      ]
     },
     "execution_count": 17,
     "metadata": {},
     "output_type": "execute_result"
    }
   ],
   "source": [
    "roc_auc_dict"
   ]
  },
  {
   "cell_type": "code",
   "execution_count": 18,
   "id": "f162bb63",
   "metadata": {
    "execution": {
     "iopub.execute_input": "2023-07-26T06:35:47.552016Z",
     "iopub.status.busy": "2023-07-26T06:35:47.551675Z",
     "iopub.status.idle": "2023-07-26T06:35:47.559372Z",
     "shell.execute_reply": "2023-07-26T06:35:47.558567Z"
    },
    "papermill": {
     "duration": 0.10352,
     "end_time": "2023-07-26T06:35:47.562176",
     "exception": false,
     "start_time": "2023-07-26T06:35:47.458656",
     "status": "completed"
    },
    "tags": []
   },
   "outputs": [
    {
     "name": "stdout",
     "output_type": "stream",
     "text": [
      " - Logging roc_auc_per_digit (json) : {'0': 1.0, '1': 0.998875351452671, '2': 1.0, '3': 0.9998500468603562, '4': 0.9996189605243103, '5': 0.9994001874414246, '6': 0.999923792104862, '7': 0.9997332723670171, '8': 0.994798234552333, '9': 0.9996189605243103}\n"
     ]
    }
   ],
   "source": [
    "ctx.log_value(\"roc_auc_per_digit\", roc_auc_dict)"
   ]
  },
  {
   "cell_type": "markdown",
   "id": "bada631e",
   "metadata": {
    "papermill": {
     "duration": 0.007845,
     "end_time": "2023-07-26T06:35:47.578161",
     "exception": false,
     "start_time": "2023-07-26T06:35:47.570316",
     "status": "completed"
    },
    "tags": []
   },
   "source": [
    "### Compute and log mean ROC AUC score averaged over all digits"
   ]
  },
  {
   "cell_type": "code",
   "execution_count": 19,
   "id": "bf99a2bc",
   "metadata": {
    "execution": {
     "iopub.execute_input": "2023-07-26T06:35:47.605691Z",
     "iopub.status.busy": "2023-07-26T06:35:47.605360Z",
     "iopub.status.idle": "2023-07-26T06:35:47.623103Z",
     "shell.execute_reply": "2023-07-26T06:35:47.622340Z"
    },
    "papermill": {
     "duration": 0.038218,
     "end_time": "2023-07-26T06:35:47.625159",
     "exception": false,
     "start_time": "2023-07-26T06:35:47.586941",
     "status": "completed"
    },
    "tags": []
   },
   "outputs": [
    {
     "name": "stdout",
     "output_type": "stream",
     "text": [
      " - Logging roc_auc_class_mean (float) : 0.9991818805827284\n"
     ]
    }
   ],
   "source": [
    "roc_auc_macro = np.mean(list(roc_auc_dict.values()))\n",
    "\n",
    "ctx.log_float(\"roc_auc_class_mean\", roc_auc_macro)\n",
    "\n",
    "# assert that the same value can be computed directly using sklearn\n",
    "assert roc_auc_macro == metrics.roc_auc_score(\n",
    "    y_test, y_pred_probs_test, average=\"macro\", multi_class=\"ovr\"\n",
    ")"
   ]
  },
  {
   "cell_type": "code",
   "execution_count": 20,
   "id": "3bec8519",
   "metadata": {
    "execution": {
     "iopub.execute_input": "2023-07-26T06:35:47.643318Z",
     "iopub.status.busy": "2023-07-26T06:35:47.642964Z",
     "iopub.status.idle": "2023-07-26T06:35:47.648081Z",
     "shell.execute_reply": "2023-07-26T06:35:47.647385Z"
    },
    "lines_to_next_cell": 0,
    "papermill": {
     "duration": 0.017049,
     "end_time": "2023-07-26T06:35:47.650253",
     "exception": false,
     "start_time": "2023-07-26T06:35:47.633204",
     "status": "completed"
    },
    "tags": []
   },
   "outputs": [],
   "source": [
    "# ---"
   ]
  },
  {
   "cell_type": "code",
   "execution_count": null,
   "id": "c4b77419",
   "metadata": {
    "papermill": {
     "duration": 0.007932,
     "end_time": "2023-07-26T06:35:47.666093",
     "exception": false,
     "start_time": "2023-07-26T06:35:47.658161",
     "status": "completed"
    },
    "tags": []
   },
   "outputs": [],
   "source": []
  }
 ],
 "metadata": {
  "jupytext": {
   "cell_metadata_filter": "tags,-all",
   "main_language": "python",
   "notebook_metadata_filter": "-all"
  },
  "language_info": {
   "codemirror_mode": {
    "name": "ipython",
    "version": 3
   },
   "file_extension": ".py",
   "mimetype": "text/x-python",
   "name": "python",
   "nbconvert_exporter": "python",
   "pygments_lexer": "ipython3",
   "version": "3.8.10"
  },
  "papermill": {
   "default_parameters": {},
   "duration": 14.841131,
   "end_time": "2023-07-26T06:35:50.123547",
   "environment_variables": {},
   "exception": null,
   "input_path": "/tmp/temp-notebook-tjv2g7q7.ipynb",
   "output_path": "/tmp/temp-notebook-tjv2g7q7.ipynb",
   "parameters": {
    "P": {
     "_parameters_actor_name": "parameter_for_task_0xd828f4b06c97c312",
     "task.nr_train_images": 1000
    }
   },
   "start_time": "2023-07-26T06:35:35.282416",
   "version": "2.4.0"
  }
 },
 "nbformat": 4,
 "nbformat_minor": 5
}