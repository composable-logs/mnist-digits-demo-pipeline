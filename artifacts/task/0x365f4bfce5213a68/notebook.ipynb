{
 "cells": [
  {
   "cell_type": "markdown",
   "id": "ab64c983",
   "metadata": {
    "papermill": {
     "duration": 0.005928,
     "end_time": "2023-07-21T06:36:11.253999",
     "exception": false,
     "start_time": "2023-07-21T06:36:11.248071",
     "status": "completed"
    },
    "tags": []
   },
   "source": [
    "# Benchmark model\n",
    "\n",
    "The purpose of this notebook is to benchmark persisted onnx-model (trained in the\n",
    "previous step) against evaluation set."
   ]
  },
  {
   "cell_type": "markdown",
   "id": "0b4d7275",
   "metadata": {
    "papermill": {
     "duration": 0.003863,
     "end_time": "2023-07-21T06:36:11.264288",
     "exception": false,
     "start_time": "2023-07-21T06:36:11.260425",
     "status": "completed"
    },
    "tags": []
   },
   "source": [
    "### Determine run parameters"
   ]
  },
  {
   "cell_type": "code",
   "execution_count": 1,
   "id": "611edd60",
   "metadata": {
    "execution": {
     "iopub.execute_input": "2023-07-21T06:36:11.274194Z",
     "iopub.status.busy": "2023-07-21T06:36:11.273434Z",
     "iopub.status.idle": "2023-07-21T06:36:11.280974Z",
     "shell.execute_reply": "2023-07-21T06:36:11.280202Z"
    },
    "lines_to_next_cell": 0,
    "papermill": {
     "duration": 0.014464,
     "end_time": "2023-07-21T06:36:11.282648",
     "exception": false,
     "start_time": "2023-07-21T06:36:11.268184",
     "status": "completed"
    },
    "tags": []
   },
   "outputs": [],
   "source": [
    "# ----------------- Parameters for interactive development --------------\n",
    "P = {\n",
    "    \"workflow.data_lake_root\": \"/pipeline-outputs/data-lake\",\n",
    "    \"task.nr_train_images\": 600,\n",
    "}"
   ]
  },
  {
   "cell_type": "code",
   "execution_count": 2,
   "id": "d136ce5b",
   "metadata": {
    "execution": {
     "iopub.execute_input": "2023-07-21T06:36:11.292692Z",
     "iopub.status.busy": "2023-07-21T06:36:11.292016Z",
     "iopub.status.idle": "2023-07-21T06:36:11.295535Z",
     "shell.execute_reply": "2023-07-21T06:36:11.294921Z"
    },
    "lines_to_next_cell": 0,
    "papermill": {
     "duration": 0.010286,
     "end_time": "2023-07-21T06:36:11.297031",
     "exception": false,
     "start_time": "2023-07-21T06:36:11.286745",
     "status": "completed"
    },
    "tags": [
     "parameters"
    ]
   },
   "outputs": [],
   "source": [
    "# - During automated runs parameters will be injected in the below cell -"
   ]
  },
  {
   "cell_type": "code",
   "execution_count": 3,
   "id": "5a4b6769",
   "metadata": {
    "execution": {
     "iopub.execute_input": "2023-07-21T06:36:11.309029Z",
     "iopub.status.busy": "2023-07-21T06:36:11.308626Z",
     "iopub.status.idle": "2023-07-21T06:36:11.312154Z",
     "shell.execute_reply": "2023-07-21T06:36:11.311582Z"
    },
    "papermill": {
     "duration": 0.012571,
     "end_time": "2023-07-21T06:36:11.313709",
     "exception": false,
     "start_time": "2023-07-21T06:36:11.301138",
     "status": "completed"
    },
    "tags": [
     "injected-parameters"
    ]
   },
   "outputs": [],
   "source": [
    "# Parameters\n",
    "P = {\n",
    "    \"task.nr_train_images\": 1000,\n",
    "    \"_parameters_actor_name\": \"parameter_for_task_0x365f4bfce5213a68\",\n",
    "}\n"
   ]
  },
  {
   "cell_type": "code",
   "execution_count": 4,
   "id": "8dfc2945",
   "metadata": {
    "execution": {
     "iopub.execute_input": "2023-07-21T06:36:11.323657Z",
     "iopub.status.busy": "2023-07-21T06:36:11.322865Z",
     "iopub.status.idle": "2023-07-21T06:36:11.326276Z",
     "shell.execute_reply": "2023-07-21T06:36:11.325609Z"
    },
    "lines_to_next_cell": 0,
    "papermill": {
     "duration": 0.00992,
     "end_time": "2023-07-21T06:36:11.327758",
     "exception": false,
     "start_time": "2023-07-21T06:36:11.317838",
     "status": "completed"
    },
    "tags": []
   },
   "outputs": [],
   "source": [
    "# -----------------------------------------------------------------------"
   ]
  },
  {
   "cell_type": "markdown",
   "id": "cd1c3c71",
   "metadata": {
    "papermill": {
     "duration": 0.004149,
     "end_time": "2023-07-21T06:36:11.335966",
     "exception": false,
     "start_time": "2023-07-21T06:36:11.331817",
     "status": "completed"
    },
    "tags": []
   },
   "source": [
    "---"
   ]
  },
  {
   "cell_type": "markdown",
   "id": "eea8bc61",
   "metadata": {
    "lines_to_next_cell": 2,
    "papermill": {
     "duration": 0.004015,
     "end_time": "2023-07-21T06:36:11.344050",
     "exception": false,
     "start_time": "2023-07-21T06:36:11.340035",
     "status": "completed"
    },
    "tags": []
   },
   "source": [
    "### Notebook code"
   ]
  },
  {
   "cell_type": "code",
   "execution_count": 5,
   "id": "65e562ba",
   "metadata": {
    "execution": {
     "iopub.execute_input": "2023-07-21T06:36:11.354190Z",
     "iopub.status.busy": "2023-07-21T06:36:11.353597Z",
     "iopub.status.idle": "2023-07-21T06:36:12.286015Z",
     "shell.execute_reply": "2023-07-21T06:36:12.284239Z"
    },
    "papermill": {
     "duration": 0.939678,
     "end_time": "2023-07-21T06:36:12.288101",
     "exception": false,
     "start_time": "2023-07-21T06:36:11.348423",
     "status": "completed"
    },
    "tags": []
   },
   "outputs": [
    {
     "name": "stderr",
     "output_type": "stream",
     "text": [
      "2023-07-21 06:36:12,203\tINFO worker.py:1364 -- Connecting to existing Ray cluster at address: 172.17.0.2:34450...\n"
     ]
    },
    {
     "name": "stderr",
     "output_type": "stream",
     "text": [
      "2023-07-21 06:36:12,213\tINFO worker.py:1544 -- Connected to Ray cluster. View the dashboard at \u001b[1m\u001b[32mhttp://127.0.0.1:8265 \u001b[39m\u001b[22m\n"
     ]
    },
    {
     "name": "stderr",
     "output_type": "stream",
     "text": [
      "/home/host_user/.local/lib/python3.8/site-packages/ray/runtime_context.py:27: RayDeprecationWarning: This API is deprecated and may be removed in future Ray releases. You could suppress this warning by setting env variable PYTHONWARNINGS=\"ignore::DeprecationWarning\"\n",
      "Use get_job_id() instead\n",
      "  \"job_id\": self.job_id,\n",
      "/home/host_user/.local/lib/python3.8/site-packages/ray/runtime_context.py:28: RayDeprecationWarning: This API is deprecated and may be removed in future Ray releases. You could suppress this warning by setting env variable PYTHONWARNINGS=\"ignore::DeprecationWarning\"\n",
      "Use get_node_id() instead\n",
      "  \"node_id\": self.node_id,\n"
     ]
    }
   ],
   "source": [
    "import itertools as it\n",
    "\n",
    "#\n",
    "import numpy as np\n",
    "import matplotlib.pyplot as plt\n",
    "\n",
    "#\n",
    "from composable_logs.tasks.task_opentelemetry_logging import get_task_context\n",
    "\n",
    "#\n",
    "from common.io import datalake_root\n",
    "\n",
    "ctx = get_task_context(P)"
   ]
  },
  {
   "cell_type": "markdown",
   "id": "320875ee",
   "metadata": {
    "papermill": {
     "duration": 0.004742,
     "end_time": "2023-07-21T06:36:12.297613",
     "exception": false,
     "start_time": "2023-07-21T06:36:12.292871",
     "status": "completed"
    },
    "tags": []
   },
   "source": [
    "## Load persisted onnx-model and evaluation data"
   ]
  },
  {
   "cell_type": "code",
   "execution_count": 6,
   "id": "e95ff89e",
   "metadata": {
    "execution": {
     "iopub.execute_input": "2023-07-21T06:36:12.308550Z",
     "iopub.status.busy": "2023-07-21T06:36:12.307659Z",
     "iopub.status.idle": "2023-07-21T06:36:12.312579Z",
     "shell.execute_reply": "2023-07-21T06:36:12.311862Z"
    },
    "papermill": {
     "duration": 0.01228,
     "end_time": "2023-07-21T06:36:12.314424",
     "exception": false,
     "start_time": "2023-07-21T06:36:12.302144",
     "status": "completed"
    },
    "tags": []
   },
   "outputs": [],
   "source": [
    "from common.io import read_onnx, get_onnx_inputs, get_onnx_outputs, read_numpy"
   ]
  },
  {
   "cell_type": "code",
   "execution_count": 7,
   "id": "f84802e3",
   "metadata": {
    "execution": {
     "iopub.execute_input": "2023-07-21T06:36:12.325302Z",
     "iopub.status.busy": "2023-07-21T06:36:12.324889Z",
     "iopub.status.idle": "2023-07-21T06:36:12.333479Z",
     "shell.execute_reply": "2023-07-21T06:36:12.332799Z"
    },
    "lines_to_next_cell": 0,
    "papermill": {
     "duration": 0.01606,
     "end_time": "2023-07-21T06:36:12.335246",
     "exception": false,
     "start_time": "2023-07-21T06:36:12.319186",
     "status": "completed"
    },
    "tags": []
   },
   "outputs": [],
   "source": [
    "onnx_inference_session = read_onnx(\n",
    "    datalake_root(ctx)\n",
    "    / \"models\"\n",
    "    / f\"nr_train_images={ctx.parameters['task.nr_train_images']}\"\n",
    "    / \"model.onnx\"\n",
    ")"
   ]
  },
  {
   "cell_type": "markdown",
   "id": "2ac32465",
   "metadata": {
    "papermill": {
     "duration": 0.010938,
     "end_time": "2023-07-21T06:36:12.350802",
     "exception": false,
     "start_time": "2023-07-21T06:36:12.339864",
     "status": "completed"
    },
    "tags": []
   },
   "source": [
    "### Record structure of inputs and outputs for ONNX model\n",
    "\n",
    "(this should likely be done in training notebook)"
   ]
  },
  {
   "cell_type": "code",
   "execution_count": 8,
   "id": "4d897f85",
   "metadata": {
    "execution": {
     "iopub.execute_input": "2023-07-21T06:36:12.367058Z",
     "iopub.status.busy": "2023-07-21T06:36:12.366647Z",
     "iopub.status.idle": "2023-07-21T06:36:12.373682Z",
     "shell.execute_reply": "2023-07-21T06:36:12.372976Z"
    },
    "papermill": {
     "duration": 0.015986,
     "end_time": "2023-07-21T06:36:12.375361",
     "exception": false,
     "start_time": "2023-07-21T06:36:12.359375",
     "status": "completed"
    },
    "tags": []
   },
   "outputs": [
    {
     "name": "stdout",
     "output_type": "stream",
     "text": [
      "{\n",
      "  \"inputs\": [\n",
      "    {\n",
      "      \"name\": \"float_input_8x8_image\",\n",
      "      \"shape\": [\n",
      "        null,\n",
      "        64\n",
      "      ],\n",
      "      \"type\": \"tensor(float)\"\n",
      "    }\n",
      "  ],\n",
      "  \"outputs\": [\n",
      "    {\n",
      "      \"name\": \"output_label\",\n",
      "      \"shape\": [\n",
      "        null\n",
      "      ],\n",
      "      \"type\": \"tensor(int64)\"\n",
      "    },\n",
      "    {\n",
      "      \"name\": \"output_probability\",\n",
      "      \"shape\": [],\n",
      "      \"type\": \"seq(map(int64,tensor(float)))\"\n",
      "    }\n",
      "  ]\n",
      "}\n"
     ]
    }
   ],
   "source": [
    "import json\n",
    "\n",
    "onnx_io = json.dumps(\n",
    "    {\n",
    "        \"inputs\": get_onnx_inputs(onnx_inference_session),\n",
    "        \"outputs\": get_onnx_outputs(onnx_inference_session),\n",
    "    },\n",
    "    indent=2,\n",
    ")\n",
    "\n",
    "\n",
    "ctx.log_artefact(\"onnx_io_structure.json\", onnx_io)\n",
    "print(onnx_io)"
   ]
  },
  {
   "cell_type": "markdown",
   "id": "b8e8a039",
   "metadata": {
    "papermill": {
     "duration": 0.004374,
     "end_time": "2023-07-21T06:36:12.384317",
     "exception": false,
     "start_time": "2023-07-21T06:36:12.379943",
     "status": "completed"
    },
    "tags": []
   },
   "source": [
    "### Evaluate model performance on evaluation data set"
   ]
  },
  {
   "cell_type": "code",
   "execution_count": 9,
   "id": "7ef82cf5",
   "metadata": {
    "execution": {
     "iopub.execute_input": "2023-07-21T06:36:12.395033Z",
     "iopub.status.busy": "2023-07-21T06:36:12.394712Z",
     "iopub.status.idle": "2023-07-21T06:36:12.401247Z",
     "shell.execute_reply": "2023-07-21T06:36:12.400490Z"
    },
    "papermill": {
     "duration": 0.013902,
     "end_time": "2023-07-21T06:36:12.403049",
     "exception": false,
     "start_time": "2023-07-21T06:36:12.389147",
     "status": "completed"
    },
    "tags": []
   },
   "outputs": [],
   "source": [
    "# load evaluation data\n",
    "X_test = read_numpy(datalake_root(ctx) / \"test-data\" / \"digits.numpy\")\n",
    "y_test = read_numpy(datalake_root(ctx) / \"test-data\" / \"labels.numpy\")"
   ]
  },
  {
   "cell_type": "code",
   "execution_count": 10,
   "id": "156a413e",
   "metadata": {
    "execution": {
     "iopub.execute_input": "2023-07-21T06:36:12.418287Z",
     "iopub.status.busy": "2023-07-21T06:36:12.413713Z",
     "iopub.status.idle": "2023-07-21T06:36:12.430814Z",
     "shell.execute_reply": "2023-07-21T06:36:12.430112Z"
    },
    "papermill": {
     "duration": 0.024883,
     "end_time": "2023-07-21T06:36:12.432739",
     "exception": false,
     "start_time": "2023-07-21T06:36:12.407856",
     "status": "completed"
    },
    "tags": []
   },
   "outputs": [],
   "source": [
    "def get_model_outputs(X, onnx_inference_session):\n",
    "    y_pred_labels, y_pred_map = onnx_inference_session.run(\n",
    "        [\"output_label\", \"output_probability\"],\n",
    "        {\"float_input_8x8_image\": X.astype(np.float32)},\n",
    "    )\n",
    "    y_pred_probs = np.array(\n",
    "        [[probabilities[digit] for digit in range(10)] for probabilities in y_pred_map]\n",
    "    )\n",
    "\n",
    "    assert y_pred_labels.shape == (X.shape[0],)\n",
    "    assert y_pred_probs.shape == (X.shape[0], 10)\n",
    "\n",
    "    return y_pred_labels, y_pred_probs\n",
    "\n",
    "\n",
    "# Note: as shown in the training notebook, the predicted labels and probabilities\n",
    "# computed below need not be compatible.\n",
    "y_pred_labels_test, y_pred_probs_test = get_model_outputs(\n",
    "    X_test, onnx_inference_session\n",
    ")"
   ]
  },
  {
   "cell_type": "markdown",
   "id": "15edd40e",
   "metadata": {
    "papermill": {
     "duration": 0.004675,
     "end_time": "2023-07-21T06:36:12.442598",
     "exception": false,
     "start_time": "2023-07-21T06:36:12.437923",
     "status": "completed"
    },
    "tags": []
   },
   "source": [
    "### Confusion matrix"
   ]
  },
  {
   "cell_type": "code",
   "execution_count": 11,
   "id": "a59e4e69",
   "metadata": {
    "execution": {
     "iopub.execute_input": "2023-07-21T06:36:12.459265Z",
     "iopub.status.busy": "2023-07-21T06:36:12.458315Z",
     "iopub.status.idle": "2023-07-21T06:36:12.463095Z",
     "shell.execute_reply": "2023-07-21T06:36:12.462447Z"
    },
    "papermill": {
     "duration": 0.01756,
     "end_time": "2023-07-21T06:36:12.464680",
     "exception": false,
     "start_time": "2023-07-21T06:36:12.447120",
     "status": "completed"
    },
    "tags": []
   },
   "outputs": [],
   "source": [
    "# TODO"
   ]
  },
  {
   "cell_type": "markdown",
   "id": "e2f32452",
   "metadata": {
    "papermill": {
     "duration": 0.004799,
     "end_time": "2023-07-21T06:36:12.474874",
     "exception": false,
     "start_time": "2023-07-21T06:36:12.470075",
     "status": "completed"
    },
    "tags": []
   },
   "source": [
    "### Plot predicted probabilities for each classifier over all evaluation digit images"
   ]
  },
  {
   "cell_type": "code",
   "execution_count": 12,
   "id": "adb97922",
   "metadata": {
    "execution": {
     "iopub.execute_input": "2023-07-21T06:36:12.489459Z",
     "iopub.status.busy": "2023-07-21T06:36:12.485271Z",
     "iopub.status.idle": "2023-07-21T06:36:16.331467Z",
     "shell.execute_reply": "2023-07-21T06:36:16.330483Z"
    },
    "papermill": {
     "duration": 3.853771,
     "end_time": "2023-07-21T06:36:16.333232",
     "exception": false,
     "start_time": "2023-07-21T06:36:12.479461",
     "status": "completed"
    },
    "tags": []
   },
   "outputs": [
    {
     "data": {
      "image/png": "[encoded data removed]",
      "text/plain": [
       "<Figure size 1600x600 with 10 Axes>"
      ]
     },
     "metadata": {},
     "output_type": "display_data"
    }
   ],
   "source": [
    "def plot_per_digit_probabilities(y_pred_probs):\n",
    "    fig, axs = plt.subplots(nrows=2, ncols=5, figsize=(16, 6))\n",
    "\n",
    "    for (r, c), digit, ax in zip(\n",
    "        it.product(range(2), range(5)), range(10), axs.reshape(-1)\n",
    "    ):\n",
    "        ax.hist(y_pred_probs_test[:, digit], bins=20)\n",
    "\n",
    "        ax.set_title(f\"Digit {digit}\")\n",
    "        if r == 1 and c == 2:\n",
    "            ax.set_xlabel(\"probability\", fontsize=16)\n",
    "\n",
    "        if c == 0:\n",
    "            ax.set_ylabel(\"counts\", fontsize=16)\n",
    "        ax.set_yscale(\"log\")\n",
    "\n",
    "    fig.tight_layout()\n",
    "    fig.suptitle(\n",
    "        f\"Distributions of prediction probabilities for each digit \"\n",
    "        f\"(on evaluation data, n={y_pred_probs.shape[0]})\",\n",
    "        fontsize=20,\n",
    "    )\n",
    "    fig.tight_layout()\n",
    "    fig.show()\n",
    "\n",
    "    return fig\n",
    "\n",
    "\n",
    "fig = plot_per_digit_probabilities(y_pred_probs_test)"
   ]
  },
  {
   "cell_type": "markdown",
   "id": "d3e8c5a0",
   "metadata": {
    "papermill": {
     "duration": 0.0053,
     "end_time": "2023-07-21T06:36:16.344489",
     "exception": false,
     "start_time": "2023-07-21T06:36:16.339189",
     "status": "completed"
    },
    "tags": []
   },
   "source": [
    "From the above distributions we see that most digits have clear separation between\n",
    "high and lower probabilities. Morover, in each case there is roughly an order of\n",
    "magnitude more of digits with low probabilities. This is compatible with digits\n",
    "being roughly evenly distributed in the data."
   ]
  },
  {
   "cell_type": "code",
   "execution_count": 13,
   "id": "62800dfd",
   "metadata": {
    "execution": {
     "iopub.execute_input": "2023-07-21T06:36:16.357255Z",
     "iopub.status.busy": "2023-07-21T06:36:16.356929Z",
     "iopub.status.idle": "2023-07-21T06:36:16.999965Z",
     "shell.execute_reply": "2023-07-21T06:36:16.999194Z"
    },
    "papermill": {
     "duration": 0.652404,
     "end_time": "2023-07-21T06:36:17.002171",
     "exception": false,
     "start_time": "2023-07-21T06:36:16.349767",
     "status": "completed"
    },
    "tags": []
   },
   "outputs": [],
   "source": [
    "ctx.log_figure(\"per-digit-probabilities.png\", fig)"
   ]
  },
  {
   "cell_type": "markdown",
   "id": "1aefaa65",
   "metadata": {
    "papermill": {
     "duration": 0.005544,
     "end_time": "2023-07-21T06:36:17.014683",
     "exception": false,
     "start_time": "2023-07-21T06:36:17.009139",
     "status": "completed"
    },
    "tags": []
   },
   "source": [
    "### Plot ROC curves for individual one-vs-rest classifiers"
   ]
  },
  {
   "cell_type": "code",
   "execution_count": 14,
   "id": "a95a2931",
   "metadata": {
    "execution": {
     "iopub.execute_input": "2023-07-21T06:36:17.027371Z",
     "iopub.status.busy": "2023-07-21T06:36:17.026639Z",
     "iopub.status.idle": "2023-07-21T06:36:17.353478Z",
     "shell.execute_reply": "2023-07-21T06:36:17.352549Z"
    },
    "papermill": {
     "duration": 0.335628,
     "end_time": "2023-07-21T06:36:17.355626",
     "exception": false,
     "start_time": "2023-07-21T06:36:17.019998",
     "status": "completed"
    },
    "tags": []
   },
   "outputs": [],
   "source": [
    "from sklearn import metrics"
   ]
  },
  {
   "cell_type": "code",
   "execution_count": 15,
   "id": "44aa9922",
   "metadata": {
    "execution": {
     "iopub.execute_input": "2023-07-21T06:36:17.368377Z",
     "iopub.status.busy": "2023-07-21T06:36:17.368067Z",
     "iopub.status.idle": "2023-07-21T06:36:19.232718Z",
     "shell.execute_reply": "2023-07-21T06:36:19.232014Z"
    },
    "papermill": {
     "duration": 1.873401,
     "end_time": "2023-07-21T06:36:19.234763",
     "exception": false,
     "start_time": "2023-07-21T06:36:17.361362",
     "status": "completed"
    },
    "tags": []
   },
   "outputs": [
    {
     "data": {
      "image/png": "[encoded data removed]",
      "text/plain": [
       "<Figure size 1600x800 with 10 Axes>"
      ]
     },
     "metadata": {},
     "output_type": "display_data"
    }
   ],
   "source": [
    "def plot_roc_curves(y, y_pred_probs):\n",
    "    # based on example code\n",
    "    # https://scikit-learn.org/stable/auto_examples/model_selection/plot_roc.html\n",
    "\n",
    "    fig, axs = plt.subplots(nrows=2, ncols=5, figsize=(16, 8))\n",
    "\n",
    "    roc_auc_dict = {}\n",
    "\n",
    "    for (r, c), digit, ax in zip(\n",
    "        it.product(range(2), range(5)), range(10), axs.reshape(-1)\n",
    "    ):\n",
    "        fpr, tpr, _ = metrics.roc_curve(y == digit, y_pred_probs[:, digit])\n",
    "        auc = metrics.auc(fpr, tpr)\n",
    "        roc_auc_dict[str(digit)] = auc\n",
    "\n",
    "        ax.plot(fpr, tpr, label=f\"ROC AUC={round(auc, 3)}\")\n",
    "\n",
    "        ax.set_title(f\"\\nDigit {digit}\", fontsize=16)\n",
    "        if r == 1:\n",
    "            ax.set_xlabel(\"FPR\", fontsize=18)\n",
    "\n",
    "        if c == 0:\n",
    "            ax.set_ylabel(\"TPR\", fontsize=18)\n",
    "\n",
    "        ax.set_xlim([-0.05, 1.05])\n",
    "        ax.set_ylim([-0.05, 1.05])\n",
    "        ax.legend(loc=\"lower right\", frameon=False, fontsize=14)\n",
    "\n",
    "    fig.tight_layout()\n",
    "    fig.suptitle(\n",
    "        f\"ROC plots for one-vs-rest performances \"\n",
    "        f\"(on evaluation data, n={y_pred_probs_test.shape[1]}\",\n",
    "        fontsize=22,\n",
    "    )\n",
    "    fig.tight_layout()\n",
    "    fig.show()\n",
    "\n",
    "    return roc_auc_dict, fig\n",
    "\n",
    "\n",
    "roc_auc_dict, fig = plot_roc_curves(y_test, y_pred_probs_test)"
   ]
  },
  {
   "cell_type": "code",
   "execution_count": 16,
   "id": "608e2d9f",
   "metadata": {
    "execution": {
     "iopub.execute_input": "2023-07-21T06:36:19.250404Z",
     "iopub.status.busy": "2023-07-21T06:36:19.250076Z",
     "iopub.status.idle": "2023-07-21T06:36:19.582495Z",
     "shell.execute_reply": "2023-07-21T06:36:19.581549Z"
    },
    "papermill": {
     "duration": 0.342581,
     "end_time": "2023-07-21T06:36:19.584829",
     "exception": false,
     "start_time": "2023-07-21T06:36:19.242248",
     "status": "completed"
    },
    "tags": []
   },
   "outputs": [],
   "source": [
    "ctx.log_figure(\"per-digit-roc-curves.png\", fig)"
   ]
  },
  {
   "cell_type": "code",
   "execution_count": 17,
   "id": "ee36baff",
   "metadata": {
    "execution": {
     "iopub.execute_input": "2023-07-21T06:36:19.599801Z",
     "iopub.status.busy": "2023-07-21T06:36:19.599370Z",
     "iopub.status.idle": "2023-07-21T06:36:19.607043Z",
     "shell.execute_reply": "2023-07-21T06:36:19.606389Z"
    },
    "papermill": {
     "duration": 0.016905,
     "end_time": "2023-07-21T06:36:19.608525",
     "exception": false,
     "start_time": "2023-07-21T06:36:19.591620",
     "status": "completed"
    },
    "tags": []
   },
   "outputs": [
    {
     "data": {
      "text/plain": [
       "{'0': 1.0,\n",
       " '1': 0.999025304592315,\n",
       " '2': 1.0,\n",
       " '3': 0.9999250234301781,\n",
       " '4': 0.9995808565767413,\n",
       " '5': 0.9994001874414246,\n",
       " '6': 0.999923792104862,\n",
       " '7': 0.9998094802621552,\n",
       " '8': 0.9949558638083229,\n",
       " '9': 0.9995808565767414}"
      ]
     },
     "execution_count": 17,
     "metadata": {},
     "output_type": "execute_result"
    }
   ],
   "source": [
    "roc_auc_dict"
   ]
  },
  {
   "cell_type": "code",
   "execution_count": 18,
   "id": "e05fe214",
   "metadata": {
    "execution": {
     "iopub.execute_input": "2023-07-21T06:36:19.624354Z",
     "iopub.status.busy": "2023-07-21T06:36:19.623578Z",
     "iopub.status.idle": "2023-07-21T06:36:19.629923Z",
     "shell.execute_reply": "2023-07-21T06:36:19.629128Z"
    },
    "papermill": {
     "duration": 0.015719,
     "end_time": "2023-07-21T06:36:19.631454",
     "exception": false,
     "start_time": "2023-07-21T06:36:19.615735",
     "status": "completed"
    },
    "tags": []
   },
   "outputs": [
    {
     "name": "stdout",
     "output_type": "stream",
     "text": [
      " - Logging roc_auc_per_digit (json) : {'0': 1.0, '1': 0.999025304592315, '2': 1.0, '3': 0.9999250234301781, '4': 0.9995808565767413, '5': 0.9994001874414246, '6': 0.999923792104862, '7': 0.9998094802621552, '8': 0.9949558638083229, '9': 0.9995808565767414}\n"
     ]
    }
   ],
   "source": [
    "ctx.log_value(\"roc_auc_per_digit\", roc_auc_dict)"
   ]
  },
  {
   "cell_type": "markdown",
   "id": "e6977271",
   "metadata": {
    "papermill": {
     "duration": 0.006843,
     "end_time": "2023-07-21T06:36:19.644989",
     "exception": false,
     "start_time": "2023-07-21T06:36:19.638146",
     "status": "completed"
    },
    "tags": []
   },
   "source": [
    "### Compute and log mean ROC AUC score averaged over all digits"
   ]
  },
  {
   "cell_type": "code",
   "execution_count": 19,
   "id": "09ac6abe",
   "metadata": {
    "execution": {
     "iopub.execute_input": "2023-07-21T06:36:19.663403Z",
     "iopub.status.busy": "2023-07-21T06:36:19.663078Z",
     "iopub.status.idle": "2023-07-21T06:36:19.675754Z",
     "shell.execute_reply": "2023-07-21T06:36:19.674918Z"
    },
    "papermill": {
     "duration": 0.023829,
     "end_time": "2023-07-21T06:36:19.677462",
     "exception": false,
     "start_time": "2023-07-21T06:36:19.653633",
     "status": "completed"
    },
    "tags": []
   },
   "outputs": [
    {
     "name": "stdout",
     "output_type": "stream",
     "text": [
      " - Logging roc_auc_class_mean (float) : 0.9992201364792741\n"
     ]
    }
   ],
   "source": [
    "roc_auc_macro = np.mean(list(roc_auc_dict.values()))\n",
    "\n",
    "ctx.log_float(\"roc_auc_class_mean\", roc_auc_macro)\n",
    "\n",
    "# assert that the same value can be computed directly using sklearn\n",
    "assert roc_auc_macro == metrics.roc_auc_score(\n",
    "    y_test, y_pred_probs_test, average=\"macro\", multi_class=\"ovr\"\n",
    ")"
   ]
  },
  {
   "cell_type": "code",
   "execution_count": 20,
   "id": "dcfad903",
   "metadata": {
    "execution": {
     "iopub.execute_input": "2023-07-21T06:36:19.692674Z",
     "iopub.status.busy": "2023-07-21T06:36:19.692362Z",
     "iopub.status.idle": "2023-07-21T06:36:19.697069Z",
     "shell.execute_reply": "2023-07-21T06:36:19.696411Z"
    },
    "lines_to_next_cell": 0,
    "papermill": {
     "duration": 0.014369,
     "end_time": "2023-07-21T06:36:19.698872",
     "exception": false,
     "start_time": "2023-07-21T06:36:19.684503",
     "status": "completed"
    },
    "tags": []
   },
   "outputs": [],
   "source": [
    "# ---"
   ]
  },
  {
   "cell_type": "code",
   "execution_count": null,
   "id": "dc519647",
   "metadata": {
    "papermill": {
     "duration": 0.007559,
     "end_time": "2023-07-21T06:36:19.713237",
     "exception": false,
     "start_time": "2023-07-21T06:36:19.705678",
     "status": "completed"
    },
    "tags": []
   },
   "outputs": [],
   "source": []
  }
 ],
 "metadata": {
  "jupytext": {
   "cell_metadata_filter": "tags,-all",
   "main_language": "python",
   "notebook_metadata_filter": "-all"
  },
  "language_info": {
   "codemirror_mode": {
    "name": "ipython",
    "version": 3
   },
   "file_extension": ".py",
   "mimetype": "text/x-python",
   "name": "python",
   "nbconvert_exporter": "python",
   "pygments_lexer": "ipython3",
   "version": "3.8.10"
  },
  "papermill": {
   "default_parameters": {},
   "duration": 11.591312,
   "end_time": "2023-07-21T06:36:21.449861",
   "environment_variables": {},
   "exception": null,
   "input_path": "/tmp/temp-notebook-omk6k_5b.ipynb",
   "output_path": "/tmp/temp-notebook-omk6k_5b.ipynb",
   "parameters": {
    "P": {
     "_parameters_actor_name": "parameter_for_task_0x365f4bfce5213a68",
     "task.nr_train_images": 1000
    }
   },
   "start_time": "2023-07-21T06:36:09.858549",
   "version": "2.4.0"
  }
 },
 "nbformat": 4,
 "nbformat_minor": 5
}