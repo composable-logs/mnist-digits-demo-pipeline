{
 "cells": [
  {
   "cell_type": "markdown",
   "id": "75a0ec10",
   "metadata": {
    "papermill": {
     "duration": 0.003736,
     "end_time": "2023-07-28T06:35:22.658955",
     "exception": false,
     "start_time": "2023-07-28T06:35:22.655219",
     "status": "completed"
    },
    "tags": []
   },
   "source": [
    "# Summarize model performances\n",
    "\n",
    "This notebooks plots the performances (using averaged ROC AUC scores) for models\n",
    "trained with different training sets."
   ]
  },
  {
   "cell_type": "markdown",
   "id": "df88d025",
   "metadata": {
    "papermill": {
     "duration": 0.002447,
     "end_time": "2023-07-28T06:35:22.664451",
     "exception": false,
     "start_time": "2023-07-28T06:35:22.662004",
     "status": "completed"
    },
    "tags": []
   },
   "source": [
    "### Determine run parameters"
   ]
  },
  {
   "cell_type": "code",
   "execution_count": 1,
   "id": "e0abf92e",
   "metadata": {
    "execution": {
     "iopub.execute_input": "2023-07-28T06:35:22.671256Z",
     "iopub.status.busy": "2023-07-28T06:35:22.670689Z",
     "iopub.status.idle": "2023-07-28T06:35:22.678517Z",
     "shell.execute_reply": "2023-07-28T06:35:22.677537Z"
    },
    "lines_to_next_cell": 0,
    "papermill": {
     "duration": 0.013204,
     "end_time": "2023-07-28T06:35:22.680117",
     "exception": false,
     "start_time": "2023-07-28T06:35:22.666913",
     "status": "completed"
    },
    "tags": []
   },
   "outputs": [],
   "source": [
    "# ----------------- Parameters for interactive development --------------\n",
    "P = {\n",
    "    \"workflow.run_environment\": \"dev\",\n",
    "}"
   ]
  },
  {
   "cell_type": "code",
   "execution_count": 2,
   "id": "8b4c30af",
   "metadata": {
    "execution": {
     "iopub.execute_input": "2023-07-28T06:35:22.688338Z",
     "iopub.status.busy": "2023-07-28T06:35:22.687793Z",
     "iopub.status.idle": "2023-07-28T06:35:22.691055Z",
     "shell.execute_reply": "2023-07-28T06:35:22.690434Z"
    },
    "lines_to_next_cell": 0,
    "papermill": {
     "duration": 0.008257,
     "end_time": "2023-07-28T06:35:22.692542",
     "exception": false,
     "start_time": "2023-07-28T06:35:22.684285",
     "status": "completed"
    },
    "tags": [
     "parameters"
    ]
   },
   "outputs": [],
   "source": [
    "# - During automated runs parameters will be injected in the below cell -"
   ]
  },
  {
   "cell_type": "code",
   "execution_count": 3,
   "id": "5d3b809f",
   "metadata": {
    "execution": {
     "iopub.execute_input": "2023-07-28T06:35:22.699494Z",
     "iopub.status.busy": "2023-07-28T06:35:22.698690Z",
     "iopub.status.idle": "2023-07-28T06:35:22.702071Z",
     "shell.execute_reply": "2023-07-28T06:35:22.701441Z"
    },
    "papermill": {
     "duration": 0.008522,
     "end_time": "2023-07-28T06:35:22.703674",
     "exception": false,
     "start_time": "2023-07-28T06:35:22.695152",
     "status": "completed"
    },
    "tags": [
     "injected-parameters"
    ]
   },
   "outputs": [],
   "source": [
    "# Parameters\n",
    "P = {\"_parameters_actor_name\": \"parameter_for_task_0x228d95bfacbcc329\"}\n"
   ]
  },
  {
   "cell_type": "code",
   "execution_count": 4,
   "id": "f2e0709e",
   "metadata": {
    "execution": {
     "iopub.execute_input": "2023-07-28T06:35:22.710416Z",
     "iopub.status.busy": "2023-07-28T06:35:22.709926Z",
     "iopub.status.idle": "2023-07-28T06:35:22.713133Z",
     "shell.execute_reply": "2023-07-28T06:35:22.712443Z"
    },
    "lines_to_next_cell": 0,
    "papermill": {
     "duration": 0.008471,
     "end_time": "2023-07-28T06:35:22.714739",
     "exception": false,
     "start_time": "2023-07-28T06:35:22.706268",
     "status": "completed"
    },
    "tags": []
   },
   "outputs": [],
   "source": [
    "# -----------------------------------------------------------------------"
   ]
  },
  {
   "cell_type": "markdown",
   "id": "394e0fd5",
   "metadata": {
    "papermill": {
     "duration": 0.002545,
     "end_time": "2023-07-28T06:35:22.719950",
     "exception": false,
     "start_time": "2023-07-28T06:35:22.717405",
     "status": "completed"
    },
    "tags": []
   },
   "source": [
    "---"
   ]
  },
  {
   "cell_type": "markdown",
   "id": "11b14672",
   "metadata": {
    "lines_to_next_cell": 2,
    "papermill": {
     "duration": 0.002483,
     "end_time": "2023-07-28T06:35:22.725008",
     "exception": false,
     "start_time": "2023-07-28T06:35:22.722525",
     "status": "completed"
    },
    "tags": []
   },
   "source": [
    "### Notebook code"
   ]
  },
  {
   "cell_type": "code",
   "execution_count": 5,
   "id": "6835e6dd",
   "metadata": {
    "execution": {
     "iopub.execute_input": "2023-07-28T06:35:22.732405Z",
     "iopub.status.busy": "2023-07-28T06:35:22.732130Z",
     "iopub.status.idle": "2023-07-28T06:35:23.787310Z",
     "shell.execute_reply": "2023-07-28T06:35:23.786565Z"
    },
    "papermill": {
     "duration": 1.061755,
     "end_time": "2023-07-28T06:35:23.789436",
     "exception": false,
     "start_time": "2023-07-28T06:35:22.727681",
     "status": "completed"
    },
    "tags": []
   },
   "outputs": [],
   "source": [
    "#\n",
    "import pandas as pd\n",
    "import matplotlib.pyplot as plt\n",
    "\n",
    "#\n",
    "from composable_logs.tasks.task_opentelemetry_logging import get_task_context"
   ]
  },
  {
   "cell_type": "code",
   "execution_count": 6,
   "id": "6b24533c",
   "metadata": {
    "execution": {
     "iopub.execute_input": "2023-07-28T06:35:23.796777Z",
     "iopub.status.busy": "2023-07-28T06:35:23.796165Z",
     "iopub.status.idle": "2023-07-28T06:35:23.877173Z",
     "shell.execute_reply": "2023-07-28T06:35:23.875465Z"
    },
    "papermill": {
     "duration": 0.086928,
     "end_time": "2023-07-28T06:35:23.879310",
     "exception": false,
     "start_time": "2023-07-28T06:35:23.792382",
     "status": "completed"
    },
    "tags": []
   },
   "outputs": [
    {
     "name": "stderr",
     "output_type": "stream",
     "text": [
      "2023-07-28 06:35:23,799\tINFO worker.py:1364 -- Connecting to existing Ray cluster at address: 172.17.0.2:54600...\n"
     ]
    },
    {
     "name": "stderr",
     "output_type": "stream",
     "text": [
      "2023-07-28 06:35:23,807\tINFO worker.py:1544 -- Connected to Ray cluster. View the dashboard at \u001b[1m\u001b[32mhttp://127.0.0.1:8265 \u001b[39m\u001b[22m\n"
     ]
    },
    {
     "name": "stderr",
     "output_type": "stream",
     "text": [
      "/home/host_user/.local/lib/python3.8/site-packages/ray/runtime_context.py:27: RayDeprecationWarning: This API is deprecated and may be removed in future Ray releases. You could suppress this warning by setting env variable PYTHONWARNINGS=\"ignore::DeprecationWarning\"\n",
      "Use get_job_id() instead\n",
      "  \"job_id\": self.job_id,\n",
      "/home/host_user/.local/lib/python3.8/site-packages/ray/runtime_context.py:28: RayDeprecationWarning: This API is deprecated and may be removed in future Ray releases. You could suppress this warning by setting env variable PYTHONWARNINGS=\"ignore::DeprecationWarning\"\n",
      "Use get_node_id() instead\n",
      "  \"node_id\": self.node_id,\n"
     ]
    }
   ],
   "source": [
    "logger = get_task_context(P)"
   ]
  },
  {
   "cell_type": "code",
   "execution_count": 7,
   "id": "6d443620",
   "metadata": {
    "execution": {
     "iopub.execute_input": "2023-07-28T06:35:23.888563Z",
     "iopub.status.busy": "2023-07-28T06:35:23.887921Z",
     "iopub.status.idle": "2023-07-28T06:35:23.892546Z",
     "shell.execute_reply": "2023-07-28T06:35:23.891848Z"
    },
    "papermill": {
     "duration": 0.010489,
     "end_time": "2023-07-28T06:35:23.894181",
     "exception": false,
     "start_time": "2023-07-28T06:35:23.883692",
     "status": "completed"
    },
    "tags": []
   },
   "outputs": [],
   "source": [
    "from composable_logs.tasks.task_opentelemetry_logging import get_logged_values\n",
    "from composable_logs.opentelemetry_helpers import _get_all_spans, Spans"
   ]
  },
  {
   "cell_type": "code",
   "execution_count": 8,
   "id": "3c85f974",
   "metadata": {
    "execution": {
     "iopub.execute_input": "2023-07-28T06:35:23.903222Z",
     "iopub.status.busy": "2023-07-28T06:35:23.902161Z",
     "iopub.status.idle": "2023-07-28T06:35:23.909546Z",
     "shell.execute_reply": "2023-07-28T06:35:23.908967Z"
    },
    "papermill": {
     "duration": 0.013915,
     "end_time": "2023-07-28T06:35:23.911308",
     "exception": false,
     "start_time": "2023-07-28T06:35:23.897393",
     "status": "completed"
    },
    "tags": []
   },
   "outputs": [],
   "source": [
    "def get_model_benchmarks():\n",
    "    \"\"\"\n",
    "    Query the OpenTelemetry logs for *this pipeline run* and return\n",
    "    all key-values logged from all runs of the benchmark-model.py task\n",
    "\n",
    "    For testing a json file with OpenTelemetry spans (as an array)\n",
    "    can be used as follows:\n",
    "\n",
    "    - Create output directory `mkdir /tmp/spans`\n",
    "    - Run unit tests. This will create pipeline-outputs/opentelemetry-spans.json\n",
    "    - Convert this json-array into jsonl format as follows\n",
    "\n",
    "    jq -c '.[]' /pipeline-outputs/opentelemetry-spans.json > /tmp/spans/data.txt\n",
    "\n",
    "    \"\"\"\n",
    "    spans: Spans = Spans(_get_all_spans())\n",
    "    print(f\" - Found {len(spans)} spans\")\n",
    "\n",
    "    benchmark_spans = (\n",
    "        spans\n",
    "        # -\n",
    "        .filter([\"name\"], \"execute-task\")\n",
    "        # -\n",
    "        .filter([\"attributes\", \"task.id\"], \"benchmark-model\")\n",
    "    )\n",
    "\n",
    "    result = []\n",
    "    for s in benchmark_spans:\n",
    "        result.append(\n",
    "            {\n",
    "                \"span_id\": s[\"context\"][\"span_id\"],\n",
    "                \"nr_train_images\": s[\"attributes\"][\"task.nr_train_images\"],\n",
    "                \"data\": get_logged_values(spans.bound_under(s)),\n",
    "            }\n",
    "        )\n",
    "\n",
    "    return result\n",
    "\n",
    "\n",
    "def adjust_pandas(df):\n",
    "    def column_renamer(col_name: str) -> str:\n",
    "        return (\n",
    "            col_name\n",
    "            # -- 'data.roc_auc_per_digit.4' -> 'roc_auc.4'\n",
    "            .replace(\"data.roc_auc_per_digit\", \"roc_auc\")\n",
    "            # -- 'data.roc_auc_class_mean' -> 'roc_auc_mean'\n",
    "            .replace(\"data.roc_auc_class_mean\", \"roc_auc_mean\")\n",
    "        )\n",
    "\n",
    "    return df.rename(column_renamer, axis=\"columns\").sort_values(by=\"nr_train_images\")"
   ]
  },
  {
   "cell_type": "code",
   "execution_count": 9,
   "id": "83ba60ea",
   "metadata": {
    "execution": {
     "iopub.execute_input": "2023-07-28T06:35:23.918868Z",
     "iopub.status.busy": "2023-07-28T06:35:23.918363Z",
     "iopub.status.idle": "2023-07-28T06:35:24.038128Z",
     "shell.execute_reply": "2023-07-28T06:35:24.037262Z"
    },
    "papermill": {
     "duration": 0.1255,
     "end_time": "2023-07-28T06:35:24.039911",
     "exception": false,
     "start_time": "2023-07-28T06:35:23.914411",
     "status": "completed"
    },
    "tags": []
   },
   "outputs": [
    {
     "name": "stdout",
     "output_type": "stream",
     "text": [
      " - Found 250 spans\n"
     ]
    }
   ],
   "source": [
    "\n",
    "df_data = adjust_pandas(pd.json_normalize(get_model_benchmarks()))"
   ]
  },
  {
   "cell_type": "code",
   "execution_count": 10,
   "id": "07c1b417",
   "metadata": {
    "execution": {
     "iopub.execute_input": "2023-07-28T06:35:24.048628Z",
     "iopub.status.busy": "2023-07-28T06:35:24.047993Z",
     "iopub.status.idle": "2023-07-28T06:35:24.076601Z",
     "shell.execute_reply": "2023-07-28T06:35:24.075876Z"
    },
    "papermill": {
     "duration": 0.035187,
     "end_time": "2023-07-28T06:35:24.078494",
     "exception": false,
     "start_time": "2023-07-28T06:35:24.043307",
     "status": "completed"
    },
    "tags": []
   },
   "outputs": [
    {
     "data": {
      "text/html": [
       "<div>\n",
       "<style scoped>\n",
       "    .dataframe tbody tr th:only-of-type {\n",
       "        vertical-align: middle;\n",
       "    }\n",
       "\n",
       "    .dataframe tbody tr th {\n",
       "        vertical-align: top;\n",
       "    }\n",
       "\n",
       "    .dataframe thead th {\n",
       "        text-align: right;\n",
       "    }\n",
       "</style>\n",
       "<table border=\"1\" class=\"dataframe\">\n",
       "  <thead>\n",
       "    <tr style=\"text-align: right;\">\n",
       "      <th></th>\n",
       "      <th>span_id</th>\n",
       "      <th>nr_train_images</th>\n",
       "      <th>roc_auc_mean</th>\n",
       "      <th>roc_auc.0</th>\n",
       "      <th>roc_auc.1</th>\n",
       "      <th>roc_auc.2</th>\n",
       "      <th>roc_auc.3</th>\n",
       "      <th>roc_auc.4</th>\n",
       "      <th>roc_auc.5</th>\n",
       "      <th>roc_auc.6</th>\n",
       "      <th>roc_auc.7</th>\n",
       "      <th>roc_auc.8</th>\n",
       "      <th>roc_auc.9</th>\n",
       "    </tr>\n",
       "  </thead>\n",
       "  <tbody>\n",
       "    <tr>\n",
       "      <th>1</th>\n",
       "      <td>0x12842354466a475b</td>\n",
       "      <td>600</td>\n",
       "      <td>0.9990</td>\n",
       "      <td>1.0</td>\n",
       "      <td>0.9992</td>\n",
       "      <td>1.0</td>\n",
       "      <td>0.9998</td>\n",
       "      <td>0.9990</td>\n",
       "      <td>0.9988</td>\n",
       "      <td>0.9999</td>\n",
       "      <td>0.9998</td>\n",
       "      <td>0.9943</td>\n",
       "      <td>0.9987</td>\n",
       "    </tr>\n",
       "    <tr>\n",
       "      <th>0</th>\n",
       "      <td>0x99c19974cab1e8fb</td>\n",
       "      <td>800</td>\n",
       "      <td>0.9989</td>\n",
       "      <td>1.0</td>\n",
       "      <td>0.9988</td>\n",
       "      <td>1.0</td>\n",
       "      <td>0.9998</td>\n",
       "      <td>0.9996</td>\n",
       "      <td>0.9994</td>\n",
       "      <td>0.9999</td>\n",
       "      <td>0.9999</td>\n",
       "      <td>0.9921</td>\n",
       "      <td>0.9995</td>\n",
       "    </tr>\n",
       "    <tr>\n",
       "      <th>2</th>\n",
       "      <td>0xc1314a94f643ecb6</td>\n",
       "      <td>1000</td>\n",
       "      <td>0.9992</td>\n",
       "      <td>1.0</td>\n",
       "      <td>0.9990</td>\n",
       "      <td>1.0</td>\n",
       "      <td>0.9999</td>\n",
       "      <td>0.9996</td>\n",
       "      <td>0.9994</td>\n",
       "      <td>0.9999</td>\n",
       "      <td>0.9998</td>\n",
       "      <td>0.9948</td>\n",
       "      <td>0.9995</td>\n",
       "    </tr>\n",
       "    <tr>\n",
       "      <th>3</th>\n",
       "      <td>0x15057ded3e191eb7</td>\n",
       "      <td>1200</td>\n",
       "      <td>0.9994</td>\n",
       "      <td>1.0</td>\n",
       "      <td>0.9991</td>\n",
       "      <td>1.0</td>\n",
       "      <td>0.9999</td>\n",
       "      <td>0.9997</td>\n",
       "      <td>0.9997</td>\n",
       "      <td>0.9999</td>\n",
       "      <td>0.9998</td>\n",
       "      <td>0.9958</td>\n",
       "      <td>0.9998</td>\n",
       "    </tr>\n",
       "  </tbody>\n",
       "</table>\n",
       "</div>"
      ],
      "text/plain": [
       "              span_id  nr_train_images  roc_auc_mean  roc_auc.0  roc_auc.1  \\\n",
       "1  0x12842354466a475b              600        0.9990        1.0     0.9992   \n",
       "0  0x99c19974cab1e8fb              800        0.9989        1.0     0.9988   \n",
       "2  0xc1314a94f643ecb6             1000        0.9992        1.0     0.9990   \n",
       "3  0x15057ded3e191eb7             1200        0.9994        1.0     0.9991   \n",
       "\n",
       "   roc_auc.2  roc_auc.3  roc_auc.4  roc_auc.5  roc_auc.6  roc_auc.7  \\\n",
       "1        1.0     0.9998     0.9990     0.9988     0.9999     0.9998   \n",
       "0        1.0     0.9998     0.9996     0.9994     0.9999     0.9999   \n",
       "2        1.0     0.9999     0.9996     0.9994     0.9999     0.9998   \n",
       "3        1.0     0.9999     0.9997     0.9997     0.9999     0.9998   \n",
       "\n",
       "   roc_auc.8  roc_auc.9  \n",
       "1     0.9943     0.9987  \n",
       "0     0.9921     0.9995  \n",
       "2     0.9948     0.9995  \n",
       "3     0.9958     0.9998  "
      ]
     },
     "execution_count": 10,
     "metadata": {},
     "output_type": "execute_result"
    }
   ],
   "source": [
    "df_data.round(4)"
   ]
  },
  {
   "cell_type": "code",
   "execution_count": 11,
   "id": "36355380",
   "metadata": {
    "execution": {
     "iopub.execute_input": "2023-07-28T06:35:24.090046Z",
     "iopub.status.busy": "2023-07-28T06:35:24.089115Z",
     "iopub.status.idle": "2023-07-28T06:35:24.307574Z",
     "shell.execute_reply": "2023-07-28T06:35:24.306700Z"
    },
    "papermill": {
     "duration": 0.227448,
     "end_time": "2023-07-28T06:35:24.309588",
     "exception": false,
     "start_time": "2023-07-28T06:35:24.082140",
     "status": "completed"
    },
    "tags": []
   },
   "outputs": [
    {
     "data": {
      "image/png": "[encoded data removed]",
      "text/plain": [
       "<Figure size 1600x400 with 1 Axes>"
      ]
     },
     "metadata": {},
     "output_type": "display_data"
    }
   ],
   "source": [
    "def plot_classifier_performance_summary(df_data):\n",
    "    fig, ax = plt.subplots(nrows=1, ncols=1, figsize=(16, 4), sharex=True)\n",
    "\n",
    "    #\n",
    "    ax.plot(\n",
    "        df_data[\"nr_train_images\"], df_data[\"roc_auc_mean\"], marker=\"o\", linestyle=\"--\"\n",
    "    )\n",
    "    ax.set_title(\n",
    "        f\"ROC AUC digit classifier performance on evaluation digits\", fontsize=17\n",
    "    )\n",
    "    ax.set_xlabel(\"Total number of digits in training set\", fontsize=14)\n",
    "    ax.set_ylabel(\"Mean ROC AUC\", fontsize=14)\n",
    "\n",
    "    fig.tight_layout()\n",
    "    fig.show()\n",
    "\n",
    "    return fig\n",
    "\n",
    "\n",
    "fig = plot_classifier_performance_summary(df_data)"
   ]
  },
  {
   "cell_type": "code",
   "execution_count": 12,
   "id": "c6f34ee9",
   "metadata": {
    "execution": {
     "iopub.execute_input": "2023-07-28T06:35:24.319863Z",
     "iopub.status.busy": "2023-07-28T06:35:24.319292Z",
     "iopub.status.idle": "2023-07-28T06:35:24.399720Z",
     "shell.execute_reply": "2023-07-28T06:35:24.398741Z"
    },
    "papermill": {
     "duration": 0.089228,
     "end_time": "2023-07-28T06:35:24.403082",
     "exception": false,
     "start_time": "2023-07-28T06:35:24.313854",
     "status": "completed"
    },
    "tags": []
   },
   "outputs": [],
   "source": [
    "logger.log_figure(\"auc-roc-model-performances.png\", fig)"
   ]
  },
  {
   "cell_type": "code",
   "execution_count": 13,
   "id": "93ea0daa",
   "metadata": {
    "execution": {
     "iopub.execute_input": "2023-07-28T06:35:24.413831Z",
     "iopub.status.busy": "2023-07-28T06:35:24.413534Z",
     "iopub.status.idle": "2023-07-28T06:35:24.417909Z",
     "shell.execute_reply": "2023-07-28T06:35:24.417249Z"
    },
    "papermill": {
     "duration": 0.011755,
     "end_time": "2023-07-28T06:35:24.419822",
     "exception": false,
     "start_time": "2023-07-28T06:35:24.408067",
     "status": "completed"
    },
    "tags": []
   },
   "outputs": [],
   "source": [
    "###"
   ]
  },
  {
   "cell_type": "code",
   "execution_count": null,
   "id": "88e01891",
   "metadata": {
    "papermill": {
     "duration": 0.004169,
     "end_time": "2023-07-28T06:35:24.428480",
     "exception": false,
     "start_time": "2023-07-28T06:35:24.424311",
     "status": "completed"
    },
    "tags": []
   },
   "outputs": [],
   "source": []
  }
 ],
 "metadata": {
  "jupytext": {
   "cell_metadata_filter": "tags,-all",
   "main_language": "python",
   "notebook_metadata_filter": "-all"
  },
  "language_info": {
   "codemirror_mode": {
    "name": "ipython",
    "version": 3
   },
   "file_extension": ".py",
   "mimetype": "text/x-python",
   "name": "python",
   "nbconvert_exporter": "python",
   "pygments_lexer": "ipython3",
   "version": "3.8.10"
  },
  "papermill": {
   "default_parameters": {},
   "duration": 5.154871,
   "end_time": "2023-07-28T06:35:26.466937",
   "environment_variables": {},
   "exception": null,
   "input_path": "/tmp/temp-notebook-yusmb4c8.ipynb",
   "output_path": "/tmp/temp-notebook-yusmb4c8.ipynb",
   "parameters": {
    "P": {
     "_parameters_actor_name": "parameter_for_task_0x228d95bfacbcc329"
    }
   },
   "start_time": "2023-07-28T06:35:21.312066",
   "version": "2.4.0"
  }
 },
 "nbformat": 4,
 "nbformat_minor": 5
}