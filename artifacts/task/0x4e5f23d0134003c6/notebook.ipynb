{
 "cells": [
  {
   "cell_type": "markdown",
   "id": "6638db0f",
   "metadata": {
    "papermill": {
     "duration": 0.008074,
     "end_time": "2023-07-22T06:35:37.483708",
     "exception": false,
     "start_time": "2023-07-22T06:35:37.475634",
     "status": "completed"
    },
    "tags": []
   },
   "source": [
    "# Benchmark model\n",
    "\n",
    "The purpose of this notebook is to benchmark persisted onnx-model (trained in the\n",
    "previous step) against evaluation set."
   ]
  },
  {
   "cell_type": "markdown",
   "id": "92b911ab",
   "metadata": {
    "papermill": {
     "duration": 0.007986,
     "end_time": "2023-07-22T06:35:37.499535",
     "exception": false,
     "start_time": "2023-07-22T06:35:37.491549",
     "status": "completed"
    },
    "tags": []
   },
   "source": [
    "### Determine run parameters"
   ]
  },
  {
   "cell_type": "code",
   "execution_count": 1,
   "id": "cb2b8334",
   "metadata": {
    "execution": {
     "iopub.execute_input": "2023-07-22T06:35:37.511424Z",
     "iopub.status.busy": "2023-07-22T06:35:37.511091Z",
     "iopub.status.idle": "2023-07-22T06:35:37.523636Z",
     "shell.execute_reply": "2023-07-22T06:35:37.522857Z"
    },
    "lines_to_next_cell": 0,
    "papermill": {
     "duration": 0.021637,
     "end_time": "2023-07-22T06:35:37.526223",
     "exception": false,
     "start_time": "2023-07-22T06:35:37.504586",
     "status": "completed"
    },
    "tags": []
   },
   "outputs": [],
   "source": [
    "# ----------------- Parameters for interactive development --------------\n",
    "P = {\n",
    "    \"workflow.data_lake_root\": \"/pipeline-outputs/data-lake\",\n",
    "    \"task.nr_train_images\": 600,\n",
    "}"
   ]
  },
  {
   "cell_type": "code",
   "execution_count": 2,
   "id": "d4a259ec",
   "metadata": {
    "execution": {
     "iopub.execute_input": "2023-07-22T06:35:37.538222Z",
     "iopub.status.busy": "2023-07-22T06:35:37.537898Z",
     "iopub.status.idle": "2023-07-22T06:35:37.543205Z",
     "shell.execute_reply": "2023-07-22T06:35:37.542469Z"
    },
    "lines_to_next_cell": 0,
    "papermill": {
     "duration": 0.014249,
     "end_time": "2023-07-22T06:35:37.545496",
     "exception": false,
     "start_time": "2023-07-22T06:35:37.531247",
     "status": "completed"
    },
    "tags": [
     "parameters"
    ]
   },
   "outputs": [],
   "source": [
    "# - During automated runs parameters will be injected in the below cell -"
   ]
  },
  {
   "cell_type": "code",
   "execution_count": 3,
   "id": "ea9013ef",
   "metadata": {
    "execution": {
     "iopub.execute_input": "2023-07-22T06:35:37.557382Z",
     "iopub.status.busy": "2023-07-22T06:35:37.557064Z",
     "iopub.status.idle": "2023-07-22T06:35:37.562455Z",
     "shell.execute_reply": "2023-07-22T06:35:37.561738Z"
    },
    "papermill": {
     "duration": 0.014093,
     "end_time": "2023-07-22T06:35:37.564877",
     "exception": false,
     "start_time": "2023-07-22T06:35:37.550784",
     "status": "completed"
    },
    "tags": [
     "injected-parameters"
    ]
   },
   "outputs": [],
   "source": [
    "# Parameters\n",
    "P = {\n",
    "    \"task.nr_train_images\": 1200,\n",
    "    \"_parameters_actor_name\": \"parameter_for_task_0x4e5f23d0134003c6\",\n",
    "}\n"
   ]
  },
  {
   "cell_type": "code",
   "execution_count": 4,
   "id": "94467148",
   "metadata": {
    "execution": {
     "iopub.execute_input": "2023-07-22T06:35:37.576965Z",
     "iopub.status.busy": "2023-07-22T06:35:37.576638Z",
     "iopub.status.idle": "2023-07-22T06:35:37.586325Z",
     "shell.execute_reply": "2023-07-22T06:35:37.581116Z"
    },
    "lines_to_next_cell": 0,
    "papermill": {
     "duration": 0.06113,
     "end_time": "2023-07-22T06:35:37.631211",
     "exception": false,
     "start_time": "2023-07-22T06:35:37.570081",
     "status": "completed"
    },
    "tags": []
   },
   "outputs": [],
   "source": [
    "# -----------------------------------------------------------------------"
   ]
  },
  {
   "cell_type": "markdown",
   "id": "3b34cde8",
   "metadata": {
    "papermill": {
     "duration": 0.009305,
     "end_time": "2023-07-22T06:35:37.710242",
     "exception": false,
     "start_time": "2023-07-22T06:35:37.700937",
     "status": "completed"
    },
    "tags": []
   },
   "source": [
    "---"
   ]
  },
  {
   "cell_type": "markdown",
   "id": "8da58a13",
   "metadata": {
    "lines_to_next_cell": 2,
    "papermill": {
     "duration": 0.006045,
     "end_time": "2023-07-22T06:35:37.723563",
     "exception": false,
     "start_time": "2023-07-22T06:35:37.717518",
     "status": "completed"
    },
    "tags": []
   },
   "source": [
    "### Notebook code"
   ]
  },
  {
   "cell_type": "code",
   "execution_count": 5,
   "id": "2c07cad1",
   "metadata": {
    "execution": {
     "iopub.execute_input": "2023-07-22T06:35:37.737826Z",
     "iopub.status.busy": "2023-07-22T06:35:37.737411Z",
     "iopub.status.idle": "2023-07-22T06:35:39.070394Z",
     "shell.execute_reply": "2023-07-22T06:35:39.069402Z"
    },
    "papermill": {
     "duration": 1.343308,
     "end_time": "2023-07-22T06:35:39.072774",
     "exception": false,
     "start_time": "2023-07-22T06:35:37.729466",
     "status": "completed"
    },
    "tags": []
   },
   "outputs": [
    {
     "name": "stderr",
     "output_type": "stream",
     "text": [
      "2023-07-22 06:35:38,946\tINFO worker.py:1364 -- Connecting to existing Ray cluster at address: 172.17.0.2:57687...\n"
     ]
    },
    {
     "name": "stderr",
     "output_type": "stream",
     "text": [
      "2023-07-22 06:35:38,959\tINFO worker.py:1544 -- Connected to Ray cluster. View the dashboard at \u001b[1m\u001b[32mhttp://127.0.0.1:8265 \u001b[39m\u001b[22m\n"
     ]
    },
    {
     "name": "stderr",
     "output_type": "stream",
     "text": [
      "/home/host_user/.local/lib/python3.8/site-packages/ray/runtime_context.py:27: RayDeprecationWarning: This API is deprecated and may be removed in future Ray releases. You could suppress this warning by setting env variable PYTHONWARNINGS=\"ignore::DeprecationWarning\"\n",
      "Use get_job_id() instead\n",
      "  \"job_id\": self.job_id,\n",
      "/home/host_user/.local/lib/python3.8/site-packages/ray/runtime_context.py:28: RayDeprecationWarning: This API is deprecated and may be removed in future Ray releases. You could suppress this warning by setting env variable PYTHONWARNINGS=\"ignore::DeprecationWarning\"\n",
      "Use get_node_id() instead\n",
      "  \"node_id\": self.node_id,\n"
     ]
    }
   ],
   "source": [
    "import itertools as it\n",
    "\n",
    "#\n",
    "import numpy as np\n",
    "import matplotlib.pyplot as plt\n",
    "\n",
    "#\n",
    "from composable_logs.tasks.task_opentelemetry_logging import get_task_context\n",
    "\n",
    "#\n",
    "from common.io import datalake_root\n",
    "\n",
    "ctx = get_task_context(P)"
   ]
  },
  {
   "cell_type": "markdown",
   "id": "8e8f32ac",
   "metadata": {
    "papermill": {
     "duration": 0.005697,
     "end_time": "2023-07-22T06:35:39.084931",
     "exception": false,
     "start_time": "2023-07-22T06:35:39.079234",
     "status": "completed"
    },
    "tags": []
   },
   "source": [
    "## Load persisted onnx-model and evaluation data"
   ]
  },
  {
   "cell_type": "code",
   "execution_count": 6,
   "id": "135b2de2",
   "metadata": {
    "execution": {
     "iopub.execute_input": "2023-07-22T06:35:39.097969Z",
     "iopub.status.busy": "2023-07-22T06:35:39.097516Z",
     "iopub.status.idle": "2023-07-22T06:35:39.103630Z",
     "shell.execute_reply": "2023-07-22T06:35:39.102746Z"
    },
    "papermill": {
     "duration": 0.015534,
     "end_time": "2023-07-22T06:35:39.105965",
     "exception": false,
     "start_time": "2023-07-22T06:35:39.090431",
     "status": "completed"
    },
    "tags": []
   },
   "outputs": [],
   "source": [
    "from common.io import read_onnx, get_onnx_inputs, get_onnx_outputs, read_numpy"
   ]
  },
  {
   "cell_type": "code",
   "execution_count": 7,
   "id": "71e23631",
   "metadata": {
    "execution": {
     "iopub.execute_input": "2023-07-22T06:35:39.118897Z",
     "iopub.status.busy": "2023-07-22T06:35:39.118547Z",
     "iopub.status.idle": "2023-07-22T06:35:39.129976Z",
     "shell.execute_reply": "2023-07-22T06:35:39.129177Z"
    },
    "lines_to_next_cell": 0,
    "papermill": {
     "duration": 0.020624,
     "end_time": "2023-07-22T06:35:39.132074",
     "exception": false,
     "start_time": "2023-07-22T06:35:39.111450",
     "status": "completed"
    },
    "tags": []
   },
   "outputs": [],
   "source": [
    "onnx_inference_session = read_onnx(\n",
    "    datalake_root(ctx)\n",
    "    / \"models\"\n",
    "    / f\"nr_train_images={ctx.parameters['task.nr_train_images']}\"\n",
    "    / \"model.onnx\"\n",
    ")"
   ]
  },
  {
   "cell_type": "markdown",
   "id": "7221d2c0",
   "metadata": {
    "papermill": {
     "duration": 0.0139,
     "end_time": "2023-07-22T06:35:39.151356",
     "exception": false,
     "start_time": "2023-07-22T06:35:39.137456",
     "status": "completed"
    },
    "tags": []
   },
   "source": [
    "### Record structure of inputs and outputs for ONNX model\n",
    "\n",
    "(this should likely be done in training notebook)"
   ]
  },
  {
   "cell_type": "code",
   "execution_count": 8,
   "id": "6b7e5201",
   "metadata": {
    "execution": {
     "iopub.execute_input": "2023-07-22T06:35:39.167535Z",
     "iopub.status.busy": "2023-07-22T06:35:39.166907Z",
     "iopub.status.idle": "2023-07-22T06:35:39.176962Z",
     "shell.execute_reply": "2023-07-22T06:35:39.176168Z"
    },
    "papermill": {
     "duration": 0.020763,
     "end_time": "2023-07-22T06:35:39.179309",
     "exception": false,
     "start_time": "2023-07-22T06:35:39.158546",
     "status": "completed"
    },
    "tags": []
   },
   "outputs": [
    {
     "name": "stdout",
     "output_type": "stream",
     "text": [
      "{\n",
      "  \"inputs\": [\n",
      "    {\n",
      "      \"name\": \"float_input_8x8_image\",\n",
      "      \"shape\": [\n",
      "        null,\n",
      "        64\n",
      "      ],\n",
      "      \"type\": \"tensor(float)\"\n",
      "    }\n",
      "  ],\n",
      "  \"outputs\": [\n",
      "    {\n",
      "      \"name\": \"output_label\",\n",
      "      \"shape\": [\n",
      "        null\n",
      "      ],\n",
      "      \"type\": \"tensor(int64)\"\n",
      "    },\n",
      "    {\n",
      "      \"name\": \"output_probability\",\n",
      "      \"shape\": [],\n",
      "      \"type\": \"seq(map(int64,tensor(float)))\"\n",
      "    }\n",
      "  ]\n",
      "}\n"
     ]
    }
   ],
   "source": [
    "import json\n",
    "\n",
    "onnx_io = json.dumps(\n",
    "    {\n",
    "        \"inputs\": get_onnx_inputs(onnx_inference_session),\n",
    "        \"outputs\": get_onnx_outputs(onnx_inference_session),\n",
    "    },\n",
    "    indent=2,\n",
    ")\n",
    "\n",
    "\n",
    "ctx.log_artefact(\"onnx_io_structure.json\", onnx_io)\n",
    "print(onnx_io)"
   ]
  },
  {
   "cell_type": "markdown",
   "id": "70b5648c",
   "metadata": {
    "papermill": {
     "duration": 0.005623,
     "end_time": "2023-07-22T06:35:39.191090",
     "exception": false,
     "start_time": "2023-07-22T06:35:39.185467",
     "status": "completed"
    },
    "tags": []
   },
   "source": [
    "### Evaluate model performance on evaluation data set"
   ]
  },
  {
   "cell_type": "code",
   "execution_count": 9,
   "id": "4c1b3aab",
   "metadata": {
    "execution": {
     "iopub.execute_input": "2023-07-22T06:35:39.204933Z",
     "iopub.status.busy": "2023-07-22T06:35:39.204581Z",
     "iopub.status.idle": "2023-07-22T06:35:39.212239Z",
     "shell.execute_reply": "2023-07-22T06:35:39.211408Z"
    },
    "papermill": {
     "duration": 0.017615,
     "end_time": "2023-07-22T06:35:39.214812",
     "exception": false,
     "start_time": "2023-07-22T06:35:39.197197",
     "status": "completed"
    },
    "tags": []
   },
   "outputs": [],
   "source": [
    "# load evaluation data\n",
    "X_test = read_numpy(datalake_root(ctx) / \"test-data\" / \"digits.numpy\")\n",
    "y_test = read_numpy(datalake_root(ctx) / \"test-data\" / \"labels.numpy\")"
   ]
  },
  {
   "cell_type": "code",
   "execution_count": 10,
   "id": "490276c8",
   "metadata": {
    "execution": {
     "iopub.execute_input": "2023-07-22T06:35:39.228068Z",
     "iopub.status.busy": "2023-07-22T06:35:39.227725Z",
     "iopub.status.idle": "2023-07-22T06:35:39.244790Z",
     "shell.execute_reply": "2023-07-22T06:35:39.243911Z"
    },
    "papermill": {
     "duration": 0.03499,
     "end_time": "2023-07-22T06:35:39.255586",
     "exception": false,
     "start_time": "2023-07-22T06:35:39.220596",
     "status": "completed"
    },
    "tags": []
   },
   "outputs": [],
   "source": [
    "def get_model_outputs(X, onnx_inference_session):\n",
    "    y_pred_labels, y_pred_map = onnx_inference_session.run(\n",
    "        [\"output_label\", \"output_probability\"],\n",
    "        {\"float_input_8x8_image\": X.astype(np.float32)},\n",
    "    )\n",
    "    y_pred_probs = np.array(\n",
    "        [[probabilities[digit] for digit in range(10)] for probabilities in y_pred_map]\n",
    "    )\n",
    "\n",
    "    assert y_pred_labels.shape == (X.shape[0],)\n",
    "    assert y_pred_probs.shape == (X.shape[0], 10)\n",
    "\n",
    "    return y_pred_labels, y_pred_probs\n",
    "\n",
    "\n",
    "# Note: as shown in the training notebook, the predicted labels and probabilities\n",
    "# computed below need not be compatible.\n",
    "y_pred_labels_test, y_pred_probs_test = get_model_outputs(\n",
    "    X_test, onnx_inference_session\n",
    ")"
   ]
  },
  {
   "cell_type": "markdown",
   "id": "ddd6af49",
   "metadata": {
    "papermill": {
     "duration": 0.005653,
     "end_time": "2023-07-22T06:35:39.266823",
     "exception": false,
     "start_time": "2023-07-22T06:35:39.261170",
     "status": "completed"
    },
    "tags": []
   },
   "source": [
    "### Confusion matrix"
   ]
  },
  {
   "cell_type": "code",
   "execution_count": 11,
   "id": "20abb806",
   "metadata": {
    "execution": {
     "iopub.execute_input": "2023-07-22T06:35:39.280066Z",
     "iopub.status.busy": "2023-07-22T06:35:39.279714Z",
     "iopub.status.idle": "2023-07-22T06:35:39.285768Z",
     "shell.execute_reply": "2023-07-22T06:35:39.284848Z"
    },
    "papermill": {
     "duration": 0.015824,
     "end_time": "2023-07-22T06:35:39.287871",
     "exception": false,
     "start_time": "2023-07-22T06:35:39.272047",
     "status": "completed"
    },
    "tags": []
   },
   "outputs": [],
   "source": [
    "# TODO"
   ]
  },
  {
   "cell_type": "markdown",
   "id": "b5639a33",
   "metadata": {
    "papermill": {
     "duration": 0.005487,
     "end_time": "2023-07-22T06:35:39.300846",
     "exception": false,
     "start_time": "2023-07-22T06:35:39.295359",
     "status": "completed"
    },
    "tags": []
   },
   "source": [
    "### Plot predicted probabilities for each classifier over all evaluation digit images"
   ]
  },
  {
   "cell_type": "code",
   "execution_count": 12,
   "id": "1cd3b62e",
   "metadata": {
    "execution": {
     "iopub.execute_input": "2023-07-22T06:35:39.314288Z",
     "iopub.status.busy": "2023-07-22T06:35:39.313733Z",
     "iopub.status.idle": "2023-07-22T06:35:46.072116Z",
     "shell.execute_reply": "2023-07-22T06:35:46.071055Z"
    },
    "papermill": {
     "duration": 6.768076,
     "end_time": "2023-07-22T06:35:46.074586",
     "exception": false,
     "start_time": "2023-07-22T06:35:39.306510",
     "status": "completed"
    },
    "tags": []
   },
   "outputs": [
    {
     "data": {
      "image/png": "[encoded data removed]",
      "text/plain": [
       "<Figure size 1600x600 with 10 Axes>"
      ]
     },
     "metadata": {},
     "output_type": "display_data"
    }
   ],
   "source": [
    "def plot_per_digit_probabilities(y_pred_probs):\n",
    "    fig, axs = plt.subplots(nrows=2, ncols=5, figsize=(16, 6))\n",
    "\n",
    "    for (r, c), digit, ax in zip(\n",
    "        it.product(range(2), range(5)), range(10), axs.reshape(-1)\n",
    "    ):\n",
    "        ax.hist(y_pred_probs_test[:, digit], bins=20)\n",
    "\n",
    "        ax.set_title(f\"Digit {digit}\")\n",
    "        if r == 1 and c == 2:\n",
    "            ax.set_xlabel(\"probability\", fontsize=16)\n",
    "\n",
    "        if c == 0:\n",
    "            ax.set_ylabel(\"counts\", fontsize=16)\n",
    "        ax.set_yscale(\"log\")\n",
    "\n",
    "    fig.tight_layout()\n",
    "    fig.suptitle(\n",
    "        f\"Distributions of prediction probabilities for each digit \"\n",
    "        f\"(on evaluation data, n={y_pred_probs.shape[0]})\",\n",
    "        fontsize=20,\n",
    "    )\n",
    "    fig.tight_layout()\n",
    "    fig.show()\n",
    "\n",
    "    return fig\n",
    "\n",
    "\n",
    "fig = plot_per_digit_probabilities(y_pred_probs_test)"
   ]
  },
  {
   "cell_type": "markdown",
   "id": "e6c29635",
   "metadata": {
    "papermill": {
     "duration": 0.006765,
     "end_time": "2023-07-22T06:35:46.088938",
     "exception": false,
     "start_time": "2023-07-22T06:35:46.082173",
     "status": "completed"
    },
    "tags": []
   },
   "source": [
    "From the above distributions we see that most digits have clear separation between\n",
    "high and lower probabilities. Morover, in each case there is roughly an order of\n",
    "magnitude more of digits with low probabilities. This is compatible with digits\n",
    "being roughly evenly distributed in the data."
   ]
  },
  {
   "cell_type": "code",
   "execution_count": 13,
   "id": "0117b4a0",
   "metadata": {
    "execution": {
     "iopub.execute_input": "2023-07-22T06:35:46.107335Z",
     "iopub.status.busy": "2023-07-22T06:35:46.106969Z",
     "iopub.status.idle": "2023-07-22T06:35:47.117652Z",
     "shell.execute_reply": "2023-07-22T06:35:47.116824Z"
    },
    "papermill": {
     "duration": 1.025692,
     "end_time": "2023-07-22T06:35:47.121908",
     "exception": false,
     "start_time": "2023-07-22T06:35:46.096216",
     "status": "completed"
    },
    "tags": []
   },
   "outputs": [],
   "source": [
    "ctx.log_figure(\"per-digit-probabilities.png\", fig)"
   ]
  },
  {
   "cell_type": "markdown",
   "id": "71836901",
   "metadata": {
    "papermill": {
     "duration": 0.006284,
     "end_time": "2023-07-22T06:35:47.135619",
     "exception": false,
     "start_time": "2023-07-22T06:35:47.129335",
     "status": "completed"
    },
    "tags": []
   },
   "source": [
    "### Plot ROC curves for individual one-vs-rest classifiers"
   ]
  },
  {
   "cell_type": "code",
   "execution_count": 14,
   "id": "b4110276",
   "metadata": {
    "execution": {
     "iopub.execute_input": "2023-07-22T06:35:47.150961Z",
     "iopub.status.busy": "2023-07-22T06:35:47.150614Z",
     "iopub.status.idle": "2023-07-22T06:35:47.648054Z",
     "shell.execute_reply": "2023-07-22T06:35:47.647142Z"
    },
    "papermill": {
     "duration": 0.510604,
     "end_time": "2023-07-22T06:35:47.652756",
     "exception": false,
     "start_time": "2023-07-22T06:35:47.142152",
     "status": "completed"
    },
    "tags": []
   },
   "outputs": [],
   "source": [
    "from sklearn import metrics"
   ]
  },
  {
   "cell_type": "code",
   "execution_count": 15,
   "id": "bb6d6944",
   "metadata": {
    "execution": {
     "iopub.execute_input": "2023-07-22T06:35:47.670266Z",
     "iopub.status.busy": "2023-07-22T06:35:47.669843Z",
     "iopub.status.idle": "2023-07-22T06:35:50.625502Z",
     "shell.execute_reply": "2023-07-22T06:35:50.624537Z"
    },
    "papermill": {
     "duration": 2.968637,
     "end_time": "2023-07-22T06:35:50.629886",
     "exception": false,
     "start_time": "2023-07-22T06:35:47.661249",
     "status": "completed"
    },
    "tags": []
   },
   "outputs": [
    {
     "data": {
      "image/png": "[encoded data removed]",
      "text/plain": [
       "<Figure size 1600x800 with 10 Axes>"
      ]
     },
     "metadata": {},
     "output_type": "display_data"
    }
   ],
   "source": [
    "def plot_roc_curves(y, y_pred_probs):\n",
    "    # based on example code\n",
    "    # https://scikit-learn.org/stable/auto_examples/model_selection/plot_roc.html\n",
    "\n",
    "    fig, axs = plt.subplots(nrows=2, ncols=5, figsize=(16, 8))\n",
    "\n",
    "    roc_auc_dict = {}\n",
    "\n",
    "    for (r, c), digit, ax in zip(\n",
    "        it.product(range(2), range(5)), range(10), axs.reshape(-1)\n",
    "    ):\n",
    "        fpr, tpr, _ = metrics.roc_curve(y == digit, y_pred_probs[:, digit])\n",
    "        auc = metrics.auc(fpr, tpr)\n",
    "        roc_auc_dict[str(digit)] = auc\n",
    "\n",
    "        ax.plot(fpr, tpr, label=f\"ROC AUC={round(auc, 3)}\")\n",
    "\n",
    "        ax.set_title(f\"\\nDigit {digit}\", fontsize=16)\n",
    "        if r == 1:\n",
    "            ax.set_xlabel(\"FPR\", fontsize=18)\n",
    "\n",
    "        if c == 0:\n",
    "            ax.set_ylabel(\"TPR\", fontsize=18)\n",
    "\n",
    "        ax.set_xlim([-0.05, 1.05])\n",
    "        ax.set_ylim([-0.05, 1.05])\n",
    "        ax.legend(loc=\"lower right\", frameon=False, fontsize=14)\n",
    "\n",
    "    fig.tight_layout()\n",
    "    fig.suptitle(\n",
    "        f\"ROC plots for one-vs-rest performances \"\n",
    "        f\"(on evaluation data, n={y_pred_probs_test.shape[1]}\",\n",
    "        fontsize=22,\n",
    "    )\n",
    "    fig.tight_layout()\n",
    "    fig.show()\n",
    "\n",
    "    return roc_auc_dict, fig\n",
    "\n",
    "\n",
    "roc_auc_dict, fig = plot_roc_curves(y_test, y_pred_probs_test)"
   ]
  },
  {
   "cell_type": "code",
   "execution_count": 16,
   "id": "012ba38f",
   "metadata": {
    "execution": {
     "iopub.execute_input": "2023-07-22T06:35:50.650150Z",
     "iopub.status.busy": "2023-07-22T06:35:50.649793Z",
     "iopub.status.idle": "2023-07-22T06:35:51.197019Z",
     "shell.execute_reply": "2023-07-22T06:35:51.196195Z"
    },
    "papermill": {
     "duration": 0.559535,
     "end_time": "2023-07-22T06:35:51.199759",
     "exception": false,
     "start_time": "2023-07-22T06:35:50.640224",
     "status": "completed"
    },
    "tags": []
   },
   "outputs": [],
   "source": [
    "ctx.log_figure(\"per-digit-roc-curves.png\", fig)"
   ]
  },
  {
   "cell_type": "code",
   "execution_count": 17,
   "id": "46ad8901",
   "metadata": {
    "execution": {
     "iopub.execute_input": "2023-07-22T06:35:51.216525Z",
     "iopub.status.busy": "2023-07-22T06:35:51.216086Z",
     "iopub.status.idle": "2023-07-22T06:35:51.225638Z",
     "shell.execute_reply": "2023-07-22T06:35:51.223747Z"
    },
    "papermill": {
     "duration": 0.020717,
     "end_time": "2023-07-22T06:35:51.227802",
     "exception": false,
     "start_time": "2023-07-22T06:35:51.207085",
     "status": "completed"
    },
    "tags": []
   },
   "outputs": [
    {
     "data": {
      "text/plain": [
       "{'0': 1.0,\n",
       " '1': 0.998987816307404,\n",
       " '2': 1.0,\n",
       " '3': 0.9998500468603562,\n",
       " '4': 0.9997332723670173,\n",
       " '5': 0.9996626054358013,\n",
       " '6': 0.999923792104862,\n",
       " '7': 0.9998475842097242,\n",
       " '8': 0.9958228247162673,\n",
       " '9': 0.9997713763145862}"
      ]
     },
     "execution_count": 17,
     "metadata": {},
     "output_type": "execute_result"
    }
   ],
   "source": [
    "roc_auc_dict"
   ]
  },
  {
   "cell_type": "code",
   "execution_count": 18,
   "id": "02243546",
   "metadata": {
    "execution": {
     "iopub.execute_input": "2023-07-22T06:35:51.246365Z",
     "iopub.status.busy": "2023-07-22T06:35:51.245968Z",
     "iopub.status.idle": "2023-07-22T06:35:51.253987Z",
     "shell.execute_reply": "2023-07-22T06:35:51.253169Z"
    },
    "papermill": {
     "duration": 0.01959,
     "end_time": "2023-07-22T06:35:51.256118",
     "exception": false,
     "start_time": "2023-07-22T06:35:51.236528",
     "status": "completed"
    },
    "tags": []
   },
   "outputs": [
    {
     "name": "stdout",
     "output_type": "stream",
     "text": [
      " - Logging roc_auc_per_digit (json) : {'0': 1.0, '1': 0.998987816307404, '2': 1.0, '3': 0.9998500468603562, '4': 0.9997332723670173, '5': 0.9996626054358013, '6': 0.999923792104862, '7': 0.9998475842097242, '8': 0.9958228247162673, '9': 0.9997713763145862}\n"
     ]
    }
   ],
   "source": [
    "ctx.log_value(\"roc_auc_per_digit\", roc_auc_dict)"
   ]
  },
  {
   "cell_type": "markdown",
   "id": "d7ade0f3",
   "metadata": {
    "papermill": {
     "duration": 0.007905,
     "end_time": "2023-07-22T06:35:51.272358",
     "exception": false,
     "start_time": "2023-07-22T06:35:51.264453",
     "status": "completed"
    },
    "tags": []
   },
   "source": [
    "### Compute and log mean ROC AUC score averaged over all digits"
   ]
  },
  {
   "cell_type": "code",
   "execution_count": 19,
   "id": "77ae64f5",
   "metadata": {
    "execution": {
     "iopub.execute_input": "2023-07-22T06:35:51.290885Z",
     "iopub.status.busy": "2023-07-22T06:35:51.290538Z",
     "iopub.status.idle": "2023-07-22T06:35:51.309585Z",
     "shell.execute_reply": "2023-07-22T06:35:51.308768Z"
    },
    "papermill": {
     "duration": 0.034385,
     "end_time": "2023-07-22T06:35:51.314729",
     "exception": false,
     "start_time": "2023-07-22T06:35:51.280344",
     "status": "completed"
    },
    "tags": []
   },
   "outputs": [
    {
     "name": "stdout",
     "output_type": "stream",
     "text": [
      " - Logging roc_auc_class_mean (float) : 0.9993599318316019\n"
     ]
    }
   ],
   "source": [
    "roc_auc_macro = np.mean(list(roc_auc_dict.values()))\n",
    "\n",
    "ctx.log_float(\"roc_auc_class_mean\", roc_auc_macro)\n",
    "\n",
    "# assert that the same value can be computed directly using sklearn\n",
    "assert roc_auc_macro == metrics.roc_auc_score(\n",
    "    y_test, y_pred_probs_test, average=\"macro\", multi_class=\"ovr\"\n",
    ")"
   ]
  },
  {
   "cell_type": "code",
   "execution_count": 20,
   "id": "7e17a8e8",
   "metadata": {
    "execution": {
     "iopub.execute_input": "2023-07-22T06:35:51.333568Z",
     "iopub.status.busy": "2023-07-22T06:35:51.333221Z",
     "iopub.status.idle": "2023-07-22T06:35:51.339385Z",
     "shell.execute_reply": "2023-07-22T06:35:51.338590Z"
    },
    "lines_to_next_cell": 0,
    "papermill": {
     "duration": 0.018443,
     "end_time": "2023-07-22T06:35:51.341985",
     "exception": false,
     "start_time": "2023-07-22T06:35:51.323542",
     "status": "completed"
    },
    "tags": []
   },
   "outputs": [],
   "source": [
    "# ---"
   ]
  },
  {
   "cell_type": "code",
   "execution_count": null,
   "id": "bc8be02d",
   "metadata": {
    "papermill": {
     "duration": 0.007798,
     "end_time": "2023-07-22T06:35:51.357673",
     "exception": false,
     "start_time": "2023-07-22T06:35:51.349875",
     "status": "completed"
    },
    "tags": []
   },
   "outputs": [],
   "source": []
  }
 ],
 "metadata": {
  "jupytext": {
   "cell_metadata_filter": "tags,-all",
   "main_language": "python",
   "notebook_metadata_filter": "-all"
  },
  "language_info": {
   "codemirror_mode": {
    "name": "ipython",
    "version": 3
   },
   "file_extension": ".py",
   "mimetype": "text/x-python",
   "name": "python",
   "nbconvert_exporter": "python",
   "pygments_lexer": "ipython3",
   "version": "3.8.10"
  },
  "papermill": {
   "default_parameters": {},
   "duration": 17.551848,
   "end_time": "2023-07-22T06:35:53.605347",
   "environment_variables": {},
   "exception": null,
   "input_path": "/tmp/temp-notebook-urlll7on.ipynb",
   "output_path": "/tmp/temp-notebook-urlll7on.ipynb",
   "parameters": {
    "P": {
     "_parameters_actor_name": "parameter_for_task_0x4e5f23d0134003c6",
     "task.nr_train_images": 1200
    }
   },
   "start_time": "2023-07-22T06:35:36.053499",
   "version": "2.4.0"
  }
 },
 "nbformat": 4,
 "nbformat_minor": 5
}