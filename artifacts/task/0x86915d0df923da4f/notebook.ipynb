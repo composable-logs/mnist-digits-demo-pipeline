{
 "cells": [
  {
   "cell_type": "markdown",
   "id": "f02e9b5a",
   "metadata": {
    "papermill": {
     "duration": 0.006369,
     "end_time": "2023-07-30T06:33:30.578296",
     "exception": false,
     "start_time": "2023-07-30T06:33:30.571927",
     "status": "completed"
    },
    "tags": []
   },
   "source": [
    "# Benchmark model\n",
    "\n",
    "The purpose of this notebook is to benchmark persisted onnx-model (trained in the\n",
    "previous step) against evaluation set."
   ]
  },
  {
   "cell_type": "markdown",
   "id": "b85c65de",
   "metadata": {
    "papermill": {
     "duration": 0.003832,
     "end_time": "2023-07-30T06:33:30.588711",
     "exception": false,
     "start_time": "2023-07-30T06:33:30.584879",
     "status": "completed"
    },
    "tags": []
   },
   "source": [
    "### Determine run parameters"
   ]
  },
  {
   "cell_type": "code",
   "execution_count": 1,
   "id": "fe0dcc0b",
   "metadata": {
    "execution": {
     "iopub.execute_input": "2023-07-30T06:33:30.598402Z",
     "iopub.status.busy": "2023-07-30T06:33:30.597857Z",
     "iopub.status.idle": "2023-07-30T06:33:30.604854Z",
     "shell.execute_reply": "2023-07-30T06:33:30.604208Z"
    },
    "lines_to_next_cell": 0,
    "papermill": {
     "duration": 0.013966,
     "end_time": "2023-07-30T06:33:30.606578",
     "exception": false,
     "start_time": "2023-07-30T06:33:30.592612",
     "status": "completed"
    },
    "tags": []
   },
   "outputs": [],
   "source": [
    "# ----------------- Parameters for interactive development --------------\n",
    "P = {\n",
    "    \"workflow.data_lake_root\": \"/pipeline-outputs/data-lake\",\n",
    "    \"task.nr_train_images\": 600,\n",
    "}"
   ]
  },
  {
   "cell_type": "code",
   "execution_count": 2,
   "id": "624ded3c",
   "metadata": {
    "execution": {
     "iopub.execute_input": "2023-07-30T06:33:30.615995Z",
     "iopub.status.busy": "2023-07-30T06:33:30.615269Z",
     "iopub.status.idle": "2023-07-30T06:33:30.618490Z",
     "shell.execute_reply": "2023-07-30T06:33:30.617836Z"
    },
    "lines_to_next_cell": 0,
    "papermill": {
     "duration": 0.009529,
     "end_time": "2023-07-30T06:33:30.619957",
     "exception": false,
     "start_time": "2023-07-30T06:33:30.610428",
     "status": "completed"
    },
    "tags": [
     "parameters"
    ]
   },
   "outputs": [],
   "source": [
    "# - During automated runs parameters will be injected in the below cell -"
   ]
  },
  {
   "cell_type": "code",
   "execution_count": 3,
   "id": "4f66863c",
   "metadata": {
    "execution": {
     "iopub.execute_input": "2023-07-30T06:33:30.629609Z",
     "iopub.status.busy": "2023-07-30T06:33:30.629001Z",
     "iopub.status.idle": "2023-07-30T06:33:30.632454Z",
     "shell.execute_reply": "2023-07-30T06:33:30.631834Z"
    },
    "papermill": {
     "duration": 0.009965,
     "end_time": "2023-07-30T06:33:30.633860",
     "exception": false,
     "start_time": "2023-07-30T06:33:30.623895",
     "status": "completed"
    },
    "tags": [
     "injected-parameters"
    ]
   },
   "outputs": [],
   "source": [
    "# Parameters\n",
    "P = {\n",
    "    \"task.nr_train_images\": 1000,\n",
    "    \"_parameters_actor_name\": \"parameter_for_task_0x86915d0df923da4f\",\n",
    "}\n"
   ]
  },
  {
   "cell_type": "code",
   "execution_count": 4,
   "id": "85506748",
   "metadata": {
    "execution": {
     "iopub.execute_input": "2023-07-30T06:33:30.643445Z",
     "iopub.status.busy": "2023-07-30T06:33:30.643214Z",
     "iopub.status.idle": "2023-07-30T06:33:30.647263Z",
     "shell.execute_reply": "2023-07-30T06:33:30.646661Z"
    },
    "lines_to_next_cell": 0,
    "papermill": {
     "duration": 0.010949,
     "end_time": "2023-07-30T06:33:30.648731",
     "exception": false,
     "start_time": "2023-07-30T06:33:30.637782",
     "status": "completed"
    },
    "tags": []
   },
   "outputs": [],
   "source": [
    "# -----------------------------------------------------------------------"
   ]
  },
  {
   "cell_type": "markdown",
   "id": "5ab3009c",
   "metadata": {
    "papermill": {
     "duration": 0.003995,
     "end_time": "2023-07-30T06:33:30.656824",
     "exception": false,
     "start_time": "2023-07-30T06:33:30.652829",
     "status": "completed"
    },
    "tags": []
   },
   "source": [
    "---"
   ]
  },
  {
   "cell_type": "markdown",
   "id": "aaa22d9e",
   "metadata": {
    "lines_to_next_cell": 2,
    "papermill": {
     "duration": 0.00383,
     "end_time": "2023-07-30T06:33:30.664681",
     "exception": false,
     "start_time": "2023-07-30T06:33:30.660851",
     "status": "completed"
    },
    "tags": []
   },
   "source": [
    "### Notebook code"
   ]
  },
  {
   "cell_type": "code",
   "execution_count": 5,
   "id": "78649500",
   "metadata": {
    "execution": {
     "iopub.execute_input": "2023-07-30T06:33:30.674790Z",
     "iopub.status.busy": "2023-07-30T06:33:30.674009Z",
     "iopub.status.idle": "2023-07-30T06:33:31.534967Z",
     "shell.execute_reply": "2023-07-30T06:33:31.534260Z"
    },
    "papermill": {
     "duration": 0.868008,
     "end_time": "2023-07-30T06:33:31.536627",
     "exception": false,
     "start_time": "2023-07-30T06:33:30.668619",
     "status": "completed"
    },
    "tags": []
   },
   "outputs": [
    {
     "name": "stderr",
     "output_type": "stream",
     "text": [
      "2023-07-30 06:33:31,461\tINFO worker.py:1364 -- Connecting to existing Ray cluster at address: 172.17.0.2:60649...\n"
     ]
    },
    {
     "name": "stderr",
     "output_type": "stream",
     "text": [
      "2023-07-30 06:33:31,470\tINFO worker.py:1544 -- Connected to Ray cluster. View the dashboard at \u001b[1m\u001b[32mhttp://127.0.0.1:8265 \u001b[39m\u001b[22m\n"
     ]
    },
    {
     "name": "stderr",
     "output_type": "stream",
     "text": [
      "/home/host_user/.local/lib/python3.8/site-packages/ray/runtime_context.py:27: RayDeprecationWarning: This API is deprecated and may be removed in future Ray releases. You could suppress this warning by setting env variable PYTHONWARNINGS=\"ignore::DeprecationWarning\"\n",
      "Use get_job_id() instead\n",
      "  \"job_id\": self.job_id,\n",
      "/home/host_user/.local/lib/python3.8/site-packages/ray/runtime_context.py:28: RayDeprecationWarning: This API is deprecated and may be removed in future Ray releases. You could suppress this warning by setting env variable PYTHONWARNINGS=\"ignore::DeprecationWarning\"\n",
      "Use get_node_id() instead\n",
      "  \"node_id\": self.node_id,\n"
     ]
    }
   ],
   "source": [
    "import itertools as it\n",
    "\n",
    "#\n",
    "import numpy as np\n",
    "import matplotlib.pyplot as plt\n",
    "\n",
    "#\n",
    "from composable_logs.tasks.task_opentelemetry_logging import get_task_context\n",
    "\n",
    "#\n",
    "from common.io import datalake_root\n",
    "\n",
    "ctx = get_task_context(P)"
   ]
  },
  {
   "cell_type": "markdown",
   "id": "8d7af360",
   "metadata": {
    "papermill": {
     "duration": 0.004147,
     "end_time": "2023-07-30T06:33:31.545330",
     "exception": false,
     "start_time": "2023-07-30T06:33:31.541183",
     "status": "completed"
    },
    "tags": []
   },
   "source": [
    "## Load persisted onnx-model and evaluation data"
   ]
  },
  {
   "cell_type": "code",
   "execution_count": 6,
   "id": "77e3bbc8",
   "metadata": {
    "execution": {
     "iopub.execute_input": "2023-07-30T06:33:31.555224Z",
     "iopub.status.busy": "2023-07-30T06:33:31.554932Z",
     "iopub.status.idle": "2023-07-30T06:33:31.559552Z",
     "shell.execute_reply": "2023-07-30T06:33:31.558984Z"
    },
    "papermill": {
     "duration": 0.011639,
     "end_time": "2023-07-30T06:33:31.561129",
     "exception": false,
     "start_time": "2023-07-30T06:33:31.549490",
     "status": "completed"
    },
    "tags": []
   },
   "outputs": [],
   "source": [
    "from common.io import read_onnx, get_onnx_inputs, get_onnx_outputs, read_numpy"
   ]
  },
  {
   "cell_type": "code",
   "execution_count": 7,
   "id": "497e07bf",
   "metadata": {
    "execution": {
     "iopub.execute_input": "2023-07-30T06:33:31.579723Z",
     "iopub.status.busy": "2023-07-30T06:33:31.579052Z",
     "iopub.status.idle": "2023-07-30T06:33:31.588122Z",
     "shell.execute_reply": "2023-07-30T06:33:31.587429Z"
    },
    "lines_to_next_cell": 0,
    "papermill": {
     "duration": 0.024606,
     "end_time": "2023-07-30T06:33:31.589951",
     "exception": false,
     "start_time": "2023-07-30T06:33:31.565345",
     "status": "completed"
    },
    "tags": []
   },
   "outputs": [],
   "source": [
    "onnx_inference_session = read_onnx(\n",
    "    datalake_root(ctx)\n",
    "    / \"models\"\n",
    "    / f\"nr_train_images={ctx.parameters['task.nr_train_images']}\"\n",
    "    / \"model.onnx\"\n",
    ")"
   ]
  },
  {
   "cell_type": "markdown",
   "id": "f9be0779",
   "metadata": {
    "papermill": {
     "duration": 0.004262,
     "end_time": "2023-07-30T06:33:31.598812",
     "exception": false,
     "start_time": "2023-07-30T06:33:31.594550",
     "status": "completed"
    },
    "tags": []
   },
   "source": [
    "### Record structure of inputs and outputs for ONNX model\n",
    "\n",
    "(this should likely be done in training notebook)"
   ]
  },
  {
   "cell_type": "code",
   "execution_count": 8,
   "id": "5e99479b",
   "metadata": {
    "execution": {
     "iopub.execute_input": "2023-07-30T06:33:31.609215Z",
     "iopub.status.busy": "2023-07-30T06:33:31.608683Z",
     "iopub.status.idle": "2023-07-30T06:33:31.615536Z",
     "shell.execute_reply": "2023-07-30T06:33:31.614851Z"
    },
    "papermill": {
     "duration": 0.01412,
     "end_time": "2023-07-30T06:33:31.617339",
     "exception": false,
     "start_time": "2023-07-30T06:33:31.603219",
     "status": "completed"
    },
    "tags": []
   },
   "outputs": [
    {
     "name": "stdout",
     "output_type": "stream",
     "text": [
      "{\n",
      "  \"inputs\": [\n",
      "    {\n",
      "      \"name\": \"float_input_8x8_image\",\n",
      "      \"shape\": [\n",
      "        null,\n",
      "        64\n",
      "      ],\n",
      "      \"type\": \"tensor(float)\"\n",
      "    }\n",
      "  ],\n",
      "  \"outputs\": [\n",
      "    {\n",
      "      \"name\": \"output_label\",\n",
      "      \"shape\": [\n",
      "        null\n",
      "      ],\n",
      "      \"type\": \"tensor(int64)\"\n",
      "    },\n",
      "    {\n",
      "      \"name\": \"output_probability\",\n",
      "      \"shape\": [],\n",
      "      \"type\": \"seq(map(int64,tensor(float)))\"\n",
      "    }\n",
      "  ]\n",
      "}\n"
     ]
    }
   ],
   "source": [
    "import json\n",
    "\n",
    "onnx_io = json.dumps(\n",
    "    {\n",
    "        \"inputs\": get_onnx_inputs(onnx_inference_session),\n",
    "        \"outputs\": get_onnx_outputs(onnx_inference_session),\n",
    "    },\n",
    "    indent=2,\n",
    ")\n",
    "\n",
    "\n",
    "ctx.log_artefact(\"onnx_io_structure.json\", onnx_io)\n",
    "print(onnx_io)"
   ]
  },
  {
   "cell_type": "markdown",
   "id": "4cab4bb7",
   "metadata": {
    "papermill": {
     "duration": 0.004503,
     "end_time": "2023-07-30T06:33:31.626361",
     "exception": false,
     "start_time": "2023-07-30T06:33:31.621858",
     "status": "completed"
    },
    "tags": []
   },
   "source": [
    "### Evaluate model performance on evaluation data set"
   ]
  },
  {
   "cell_type": "code",
   "execution_count": 9,
   "id": "bd8613ba",
   "metadata": {
    "execution": {
     "iopub.execute_input": "2023-07-30T06:33:31.636990Z",
     "iopub.status.busy": "2023-07-30T06:33:31.636335Z",
     "iopub.status.idle": "2023-07-30T06:33:31.641343Z",
     "shell.execute_reply": "2023-07-30T06:33:31.640758Z"
    },
    "papermill": {
     "duration": 0.012017,
     "end_time": "2023-07-30T06:33:31.642794",
     "exception": false,
     "start_time": "2023-07-30T06:33:31.630777",
     "status": "completed"
    },
    "tags": []
   },
   "outputs": [],
   "source": [
    "# load evaluation data\n",
    "X_test = read_numpy(datalake_root(ctx) / \"test-data\" / \"digits.numpy\")\n",
    "y_test = read_numpy(datalake_root(ctx) / \"test-data\" / \"labels.numpy\")"
   ]
  },
  {
   "cell_type": "code",
   "execution_count": 10,
   "id": "5ca67648",
   "metadata": {
    "execution": {
     "iopub.execute_input": "2023-07-30T06:33:31.653388Z",
     "iopub.status.busy": "2023-07-30T06:33:31.652661Z",
     "iopub.status.idle": "2023-07-30T06:33:31.665102Z",
     "shell.execute_reply": "2023-07-30T06:33:31.664521Z"
    },
    "papermill": {
     "duration": 0.019413,
     "end_time": "2023-07-30T06:33:31.666792",
     "exception": false,
     "start_time": "2023-07-30T06:33:31.647379",
     "status": "completed"
    },
    "tags": []
   },
   "outputs": [],
   "source": [
    "def get_model_outputs(X, onnx_inference_session):\n",
    "    y_pred_labels, y_pred_map = onnx_inference_session.run(\n",
    "        [\"output_label\", \"output_probability\"],\n",
    "        {\"float_input_8x8_image\": X.astype(np.float32)},\n",
    "    )\n",
    "    y_pred_probs = np.array(\n",
    "        [[probabilities[digit] for digit in range(10)] for probabilities in y_pred_map]\n",
    "    )\n",
    "\n",
    "    assert y_pred_labels.shape == (X.shape[0],)\n",
    "    assert y_pred_probs.shape == (X.shape[0], 10)\n",
    "\n",
    "    return y_pred_labels, y_pred_probs\n",
    "\n",
    "\n",
    "# Note: as shown in the training notebook, the predicted labels and probabilities\n",
    "# computed below need not be compatible.\n",
    "y_pred_labels_test, y_pred_probs_test = get_model_outputs(\n",
    "    X_test, onnx_inference_session\n",
    ")"
   ]
  },
  {
   "cell_type": "markdown",
   "id": "0a1eaf74",
   "metadata": {
    "papermill": {
     "duration": 0.005732,
     "end_time": "2023-07-30T06:33:31.677225",
     "exception": false,
     "start_time": "2023-07-30T06:33:31.671493",
     "status": "completed"
    },
    "tags": []
   },
   "source": [
    "### Confusion matrix"
   ]
  },
  {
   "cell_type": "code",
   "execution_count": 11,
   "id": "9f57f262",
   "metadata": {
    "execution": {
     "iopub.execute_input": "2023-07-30T06:33:31.689006Z",
     "iopub.status.busy": "2023-07-30T06:33:31.688712Z",
     "iopub.status.idle": "2023-07-30T06:33:31.691792Z",
     "shell.execute_reply": "2023-07-30T06:33:31.691216Z"
    },
    "papermill": {
     "duration": 0.010297,
     "end_time": "2023-07-30T06:33:31.693393",
     "exception": false,
     "start_time": "2023-07-30T06:33:31.683096",
     "status": "completed"
    },
    "tags": []
   },
   "outputs": [],
   "source": [
    "# TODO"
   ]
  },
  {
   "cell_type": "markdown",
   "id": "5b4951da",
   "metadata": {
    "papermill": {
     "duration": 0.004449,
     "end_time": "2023-07-30T06:33:31.702636",
     "exception": false,
     "start_time": "2023-07-30T06:33:31.698187",
     "status": "completed"
    },
    "tags": []
   },
   "source": [
    "### Plot predicted probabilities for each classifier over all evaluation digit images"
   ]
  },
  {
   "cell_type": "code",
   "execution_count": 12,
   "id": "939bf803",
   "metadata": {
    "execution": {
     "iopub.execute_input": "2023-07-30T06:33:31.713443Z",
     "iopub.status.busy": "2023-07-30T06:33:31.712931Z",
     "iopub.status.idle": "2023-07-30T06:33:35.347590Z",
     "shell.execute_reply": "2023-07-30T06:33:35.346588Z"
    },
    "papermill": {
     "duration": 3.642048,
     "end_time": "2023-07-30T06:33:35.349207",
     "exception": false,
     "start_time": "2023-07-30T06:33:31.707159",
     "status": "completed"
    },
    "tags": []
   },
   "outputs": [
    {
     "data": {
      "image/png": "[encoded data removed]",
      "text/plain": [
       "<Figure size 1600x600 with 10 Axes>"
      ]
     },
     "metadata": {},
     "output_type": "display_data"
    }
   ],
   "source": [
    "def plot_per_digit_probabilities(y_pred_probs):\n",
    "    fig, axs = plt.subplots(nrows=2, ncols=5, figsize=(16, 6))\n",
    "\n",
    "    for (r, c), digit, ax in zip(\n",
    "        it.product(range(2), range(5)), range(10), axs.reshape(-1)\n",
    "    ):\n",
    "        ax.hist(y_pred_probs_test[:, digit], bins=20)\n",
    "\n",
    "        ax.set_title(f\"Digit {digit}\")\n",
    "        if r == 1 and c == 2:\n",
    "            ax.set_xlabel(\"probability\", fontsize=16)\n",
    "\n",
    "        if c == 0:\n",
    "            ax.set_ylabel(\"counts\", fontsize=16)\n",
    "        ax.set_yscale(\"log\")\n",
    "\n",
    "    fig.tight_layout()\n",
    "    fig.suptitle(\n",
    "        f\"Distributions of prediction probabilities for each digit \"\n",
    "        f\"(on evaluation data, n={y_pred_probs.shape[0]})\",\n",
    "        fontsize=20,\n",
    "    )\n",
    "    fig.tight_layout()\n",
    "    fig.show()\n",
    "\n",
    "    return fig\n",
    "\n",
    "\n",
    "fig = plot_per_digit_probabilities(y_pred_probs_test)"
   ]
  },
  {
   "cell_type": "markdown",
   "id": "83d053a8",
   "metadata": {
    "papermill": {
     "duration": 0.005243,
     "end_time": "2023-07-30T06:33:35.360301",
     "exception": false,
     "start_time": "2023-07-30T06:33:35.355058",
     "status": "completed"
    },
    "tags": []
   },
   "source": [
    "From the above distributions we see that most digits have clear separation between\n",
    "high and lower probabilities. Morover, in each case there is roughly an order of\n",
    "magnitude more of digits with low probabilities. This is compatible with digits\n",
    "being roughly evenly distributed in the data."
   ]
  },
  {
   "cell_type": "code",
   "execution_count": 13,
   "id": "130344c9",
   "metadata": {
    "execution": {
     "iopub.execute_input": "2023-07-30T06:33:35.373434Z",
     "iopub.status.busy": "2023-07-30T06:33:35.372049Z",
     "iopub.status.idle": "2023-07-30T06:33:35.977942Z",
     "shell.execute_reply": "2023-07-30T06:33:35.977212Z"
    },
    "papermill": {
     "duration": 0.614411,
     "end_time": "2023-07-30T06:33:35.979963",
     "exception": false,
     "start_time": "2023-07-30T06:33:35.365552",
     "status": "completed"
    },
    "tags": []
   },
   "outputs": [],
   "source": [
    "ctx.log_figure(\"per-digit-probabilities.png\", fig)"
   ]
  },
  {
   "cell_type": "markdown",
   "id": "aeb77cfc",
   "metadata": {
    "papermill": {
     "duration": 0.007609,
     "end_time": "2023-07-30T06:33:35.993786",
     "exception": false,
     "start_time": "2023-07-30T06:33:35.986177",
     "status": "completed"
    },
    "tags": []
   },
   "source": [
    "### Plot ROC curves for individual one-vs-rest classifiers"
   ]
  },
  {
   "cell_type": "code",
   "execution_count": 14,
   "id": "0e5a72be",
   "metadata": {
    "execution": {
     "iopub.execute_input": "2023-07-30T06:33:36.006557Z",
     "iopub.status.busy": "2023-07-30T06:33:36.005929Z",
     "iopub.status.idle": "2023-07-30T06:33:36.317610Z",
     "shell.execute_reply": "2023-07-30T06:33:36.316609Z"
    },
    "papermill": {
     "duration": 0.320106,
     "end_time": "2023-07-30T06:33:36.319466",
     "exception": false,
     "start_time": "2023-07-30T06:33:35.999360",
     "status": "completed"
    },
    "tags": []
   },
   "outputs": [],
   "source": [
    "from sklearn import metrics"
   ]
  },
  {
   "cell_type": "code",
   "execution_count": 15,
   "id": "6db6b4af",
   "metadata": {
    "execution": {
     "iopub.execute_input": "2023-07-30T06:33:36.332568Z",
     "iopub.status.busy": "2023-07-30T06:33:36.331933Z",
     "iopub.status.idle": "2023-07-30T06:33:38.110596Z",
     "shell.execute_reply": "2023-07-30T06:33:38.109858Z"
    },
    "papermill": {
     "duration": 1.787482,
     "end_time": "2023-07-30T06:33:38.112424",
     "exception": false,
     "start_time": "2023-07-30T06:33:36.324942",
     "status": "completed"
    },
    "tags": []
   },
   "outputs": [
    {
     "data": {
      "image/png": "[encoded data removed]",
      "text/plain": [
       "<Figure size 1600x800 with 10 Axes>"
      ]
     },
     "metadata": {},
     "output_type": "display_data"
    }
   ],
   "source": [
    "def plot_roc_curves(y, y_pred_probs):\n",
    "    # based on example code\n",
    "    # https://scikit-learn.org/stable/auto_examples/model_selection/plot_roc.html\n",
    "\n",
    "    fig, axs = plt.subplots(nrows=2, ncols=5, figsize=(16, 8))\n",
    "\n",
    "    roc_auc_dict = {}\n",
    "\n",
    "    for (r, c), digit, ax in zip(\n",
    "        it.product(range(2), range(5)), range(10), axs.reshape(-1)\n",
    "    ):\n",
    "        fpr, tpr, _ = metrics.roc_curve(y == digit, y_pred_probs[:, digit])\n",
    "        auc = metrics.auc(fpr, tpr)\n",
    "        roc_auc_dict[str(digit)] = auc\n",
    "\n",
    "        ax.plot(fpr, tpr, label=f\"ROC AUC={round(auc, 3)}\")\n",
    "\n",
    "        ax.set_title(f\"\\nDigit {digit}\", fontsize=16)\n",
    "        if r == 1:\n",
    "            ax.set_xlabel(\"FPR\", fontsize=18)\n",
    "\n",
    "        if c == 0:\n",
    "            ax.set_ylabel(\"TPR\", fontsize=18)\n",
    "\n",
    "        ax.set_xlim([-0.05, 1.05])\n",
    "        ax.set_ylim([-0.05, 1.05])\n",
    "        ax.legend(loc=\"lower right\", frameon=False, fontsize=14)\n",
    "\n",
    "    fig.tight_layout()\n",
    "    fig.suptitle(\n",
    "        f\"ROC plots for one-vs-rest performances \"\n",
    "        f\"(on evaluation data, n={y_pred_probs_test.shape[1]}\",\n",
    "        fontsize=22,\n",
    "    )\n",
    "    fig.tight_layout()\n",
    "    fig.show()\n",
    "\n",
    "    return roc_auc_dict, fig\n",
    "\n",
    "\n",
    "roc_auc_dict, fig = plot_roc_curves(y_test, y_pred_probs_test)"
   ]
  },
  {
   "cell_type": "code",
   "execution_count": 16,
   "id": "bb4f1d76",
   "metadata": {
    "execution": {
     "iopub.execute_input": "2023-07-30T06:33:38.127581Z",
     "iopub.status.busy": "2023-07-30T06:33:38.127043Z",
     "iopub.status.idle": "2023-07-30T06:33:38.451288Z",
     "shell.execute_reply": "2023-07-30T06:33:38.450599Z"
    },
    "papermill": {
     "duration": 0.334152,
     "end_time": "2023-07-30T06:33:38.453625",
     "exception": false,
     "start_time": "2023-07-30T06:33:38.119473",
     "status": "completed"
    },
    "tags": []
   },
   "outputs": [],
   "source": [
    "ctx.log_figure(\"per-digit-roc-curves.png\", fig)"
   ]
  },
  {
   "cell_type": "code",
   "execution_count": 17,
   "id": "d00b7c15",
   "metadata": {
    "execution": {
     "iopub.execute_input": "2023-07-30T06:33:38.468994Z",
     "iopub.status.busy": "2023-07-30T06:33:38.468329Z",
     "iopub.status.idle": "2023-07-30T06:33:38.475495Z",
     "shell.execute_reply": "2023-07-30T06:33:38.474810Z"
    },
    "papermill": {
     "duration": 0.016257,
     "end_time": "2023-07-30T06:33:38.477047",
     "exception": false,
     "start_time": "2023-07-30T06:33:38.460790",
     "status": "completed"
    },
    "tags": []
   },
   "outputs": [
    {
     "data": {
      "text/plain": [
       "{'0': 1.0,\n",
       " '1': 0.999025304592315,\n",
       " '2': 1.0,\n",
       " '3': 0.9998875351452671,\n",
       " '4': 0.9996570644718793,\n",
       " '5': 0.9994001874414246,\n",
       " '6': 0.999923792104862,\n",
       " '7': 0.9997713763145862,\n",
       " '8': 0.9953893442622951,\n",
       " '9': 0.9996189605243103}"
      ]
     },
     "execution_count": 17,
     "metadata": {},
     "output_type": "execute_result"
    }
   ],
   "source": [
    "roc_auc_dict"
   ]
  },
  {
   "cell_type": "code",
   "execution_count": 18,
   "id": "6806b890",
   "metadata": {
    "execution": {
     "iopub.execute_input": "2023-07-30T06:33:38.492162Z",
     "iopub.status.busy": "2023-07-30T06:33:38.491379Z",
     "iopub.status.idle": "2023-07-30T06:33:38.496014Z",
     "shell.execute_reply": "2023-07-30T06:33:38.495312Z"
    },
    "papermill": {
     "duration": 0.013721,
     "end_time": "2023-07-30T06:33:38.497521",
     "exception": false,
     "start_time": "2023-07-30T06:33:38.483800",
     "status": "completed"
    },
    "tags": []
   },
   "outputs": [
    {
     "name": "stdout",
     "output_type": "stream",
     "text": [
      " - Logging roc_auc_per_digit (json) : {'0': 1.0, '1': 0.999025304592315, '2': 1.0, '3': 0.9998875351452671, '4': 0.9996570644718793, '5': 0.9994001874414246, '6': 0.999923792104862, '7': 0.9997713763145862, '8': 0.9953893442622951, '9': 0.9996189605243103}\n"
     ]
    }
   ],
   "source": [
    "ctx.log_value(\"roc_auc_per_digit\", roc_auc_dict)"
   ]
  },
  {
   "cell_type": "markdown",
   "id": "23b2cd15",
   "metadata": {
    "papermill": {
     "duration": 0.006631,
     "end_time": "2023-07-30T06:33:38.510719",
     "exception": false,
     "start_time": "2023-07-30T06:33:38.504088",
     "status": "completed"
    },
    "tags": []
   },
   "source": [
    "### Compute and log mean ROC AUC score averaged over all digits"
   ]
  },
  {
   "cell_type": "code",
   "execution_count": 19,
   "id": "c2499474",
   "metadata": {
    "execution": {
     "iopub.execute_input": "2023-07-30T06:33:38.525775Z",
     "iopub.status.busy": "2023-07-30T06:33:38.525068Z",
     "iopub.status.idle": "2023-07-30T06:33:38.537819Z",
     "shell.execute_reply": "2023-07-30T06:33:38.537184Z"
    },
    "papermill": {
     "duration": 0.022339,
     "end_time": "2023-07-30T06:33:38.539614",
     "exception": false,
     "start_time": "2023-07-30T06:33:38.517275",
     "status": "completed"
    },
    "tags": []
   },
   "outputs": [
    {
     "name": "stdout",
     "output_type": "stream",
     "text": [
      " - Logging roc_auc_class_mean (float) : 0.999267356485694\n"
     ]
    }
   ],
   "source": [
    "roc_auc_macro = np.mean(list(roc_auc_dict.values()))\n",
    "\n",
    "ctx.log_float(\"roc_auc_class_mean\", roc_auc_macro)\n",
    "\n",
    "# assert that the same value can be computed directly using sklearn\n",
    "assert roc_auc_macro == metrics.roc_auc_score(\n",
    "    y_test, y_pred_probs_test, average=\"macro\", multi_class=\"ovr\"\n",
    ")"
   ]
  },
  {
   "cell_type": "code",
   "execution_count": 20,
   "id": "c2b35d49",
   "metadata": {
    "execution": {
     "iopub.execute_input": "2023-07-30T06:33:38.554900Z",
     "iopub.status.busy": "2023-07-30T06:33:38.554252Z",
     "iopub.status.idle": "2023-07-30T06:33:38.558811Z",
     "shell.execute_reply": "2023-07-30T06:33:38.558080Z"
    },
    "lines_to_next_cell": 0,
    "papermill": {
     "duration": 0.016593,
     "end_time": "2023-07-30T06:33:38.563024",
     "exception": false,
     "start_time": "2023-07-30T06:33:38.546431",
     "status": "completed"
    },
    "tags": []
   },
   "outputs": [],
   "source": [
    "# ---"
   ]
  },
  {
   "cell_type": "code",
   "execution_count": null,
   "id": "4671f8b2",
   "metadata": {
    "papermill": {
     "duration": 0.006723,
     "end_time": "2023-07-30T06:33:38.576973",
     "exception": false,
     "start_time": "2023-07-30T06:33:38.570250",
     "status": "completed"
    },
    "tags": []
   },
   "outputs": [],
   "source": []
  }
 ],
 "metadata": {
  "jupytext": {
   "cell_metadata_filter": "tags,-all",
   "main_language": "python",
   "notebook_metadata_filter": "-all"
  },
  "language_info": {
   "codemirror_mode": {
    "name": "ipython",
    "version": 3
   },
   "file_extension": ".py",
   "mimetype": "text/x-python",
   "name": "python",
   "nbconvert_exporter": "python",
   "pygments_lexer": "ipython3",
   "version": "3.8.10"
  },
  "papermill": {
   "default_parameters": {},
   "duration": 11.037394,
   "end_time": "2023-07-30T06:33:40.419015",
   "environment_variables": {},
   "exception": null,
   "input_path": "/tmp/temp-notebook-sons5_sn.ipynb",
   "output_path": "/tmp/temp-notebook-sons5_sn.ipynb",
   "parameters": {
    "P": {
     "_parameters_actor_name": "parameter_for_task_0x86915d0df923da4f",
     "task.nr_train_images": 1000
    }
   },
   "start_time": "2023-07-30T06:33:29.381621",
   "version": "2.4.0"
  }
 },
 "nbformat": 4,
 "nbformat_minor": 5
}