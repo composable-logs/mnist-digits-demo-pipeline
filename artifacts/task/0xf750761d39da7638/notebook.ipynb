{
 "cells": [
  {
   "cell_type": "markdown",
   "id": "feb410ef",
   "metadata": {
    "papermill": {
     "duration": 0.005979,
     "end_time": "2023-07-20T06:35:44.105502",
     "exception": false,
     "start_time": "2023-07-20T06:35:44.099523",
     "status": "completed"
    },
    "tags": []
   },
   "source": [
    "# Benchmark model\n",
    "\n",
    "The purpose of this notebook is to benchmark persisted onnx-model (trained in the\n",
    "previous step) against evaluation set."
   ]
  },
  {
   "cell_type": "markdown",
   "id": "ece834e2",
   "metadata": {
    "papermill": {
     "duration": 0.00462,
     "end_time": "2023-07-20T06:35:44.116879",
     "exception": false,
     "start_time": "2023-07-20T06:35:44.112259",
     "status": "completed"
    },
    "tags": []
   },
   "source": [
    "### Determine run parameters"
   ]
  },
  {
   "cell_type": "code",
   "execution_count": 1,
   "id": "ad5fb12d",
   "metadata": {
    "execution": {
     "iopub.execute_input": "2023-07-20T06:35:44.229207Z",
     "iopub.status.busy": "2023-07-20T06:35:44.228890Z",
     "iopub.status.idle": "2023-07-20T06:35:44.237673Z",
     "shell.execute_reply": "2023-07-20T06:35:44.237042Z"
    },
    "lines_to_next_cell": 0,
    "papermill": {
     "duration": 0.03461,
     "end_time": "2023-07-20T06:35:44.239527",
     "exception": false,
     "start_time": "2023-07-20T06:35:44.204917",
     "status": "completed"
    },
    "tags": []
   },
   "outputs": [],
   "source": [
    "# ----------------- Parameters for interactive development --------------\n",
    "P = {\n",
    "    \"workflow.data_lake_root\": \"/pipeline-outputs/data-lake\",\n",
    "    \"task.nr_train_images\": 600,\n",
    "}"
   ]
  },
  {
   "cell_type": "code",
   "execution_count": 2,
   "id": "278d1f9e",
   "metadata": {
    "execution": {
     "iopub.execute_input": "2023-07-20T06:35:44.256062Z",
     "iopub.status.busy": "2023-07-20T06:35:44.255746Z",
     "iopub.status.idle": "2023-07-20T06:35:44.260362Z",
     "shell.execute_reply": "2023-07-20T06:35:44.259748Z"
    },
    "lines_to_next_cell": 0,
    "papermill": {
     "duration": 0.01828,
     "end_time": "2023-07-20T06:35:44.262113",
     "exception": false,
     "start_time": "2023-07-20T06:35:44.243833",
     "status": "completed"
    },
    "tags": [
     "parameters"
    ]
   },
   "outputs": [],
   "source": [
    "# - During automated runs parameters will be injected in the below cell -"
   ]
  },
  {
   "cell_type": "code",
   "execution_count": 3,
   "id": "9cf92195",
   "metadata": {
    "execution": {
     "iopub.execute_input": "2023-07-20T06:35:44.271718Z",
     "iopub.status.busy": "2023-07-20T06:35:44.271406Z",
     "iopub.status.idle": "2023-07-20T06:35:44.275924Z",
     "shell.execute_reply": "2023-07-20T06:35:44.275350Z"
    },
    "papermill": {
     "duration": 0.011483,
     "end_time": "2023-07-20T06:35:44.277705",
     "exception": false,
     "start_time": "2023-07-20T06:35:44.266222",
     "status": "completed"
    },
    "tags": [
     "injected-parameters"
    ]
   },
   "outputs": [],
   "source": [
    "# Parameters\n",
    "P = {\n",
    "    \"task.nr_train_images\": 1200,\n",
    "    \"_parameters_actor_name\": \"parameter_for_task_0xf750761d39da7638\",\n",
    "}\n"
   ]
  },
  {
   "cell_type": "code",
   "execution_count": 4,
   "id": "f7a8bd47",
   "metadata": {
    "execution": {
     "iopub.execute_input": "2023-07-20T06:35:44.287507Z",
     "iopub.status.busy": "2023-07-20T06:35:44.287218Z",
     "iopub.status.idle": "2023-07-20T06:35:44.292596Z",
     "shell.execute_reply": "2023-07-20T06:35:44.291976Z"
    },
    "lines_to_next_cell": 0,
    "papermill": {
     "duration": 0.012625,
     "end_time": "2023-07-20T06:35:44.294569",
     "exception": false,
     "start_time": "2023-07-20T06:35:44.281944",
     "status": "completed"
    },
    "tags": []
   },
   "outputs": [],
   "source": [
    "# -----------------------------------------------------------------------"
   ]
  },
  {
   "cell_type": "markdown",
   "id": "274d1439",
   "metadata": {
    "papermill": {
     "duration": 0.004066,
     "end_time": "2023-07-20T06:35:44.302956",
     "exception": false,
     "start_time": "2023-07-20T06:35:44.298890",
     "status": "completed"
    },
    "tags": []
   },
   "source": [
    "---"
   ]
  },
  {
   "cell_type": "markdown",
   "id": "677dcd06",
   "metadata": {
    "lines_to_next_cell": 2,
    "papermill": {
     "duration": 0.003947,
     "end_time": "2023-07-20T06:35:44.311045",
     "exception": false,
     "start_time": "2023-07-20T06:35:44.307098",
     "status": "completed"
    },
    "tags": []
   },
   "source": [
    "### Notebook code"
   ]
  },
  {
   "cell_type": "code",
   "execution_count": 5,
   "id": "8453cc58",
   "metadata": {
    "execution": {
     "iopub.execute_input": "2023-07-20T06:35:44.321725Z",
     "iopub.status.busy": "2023-07-20T06:35:44.321417Z",
     "iopub.status.idle": "2023-07-20T06:35:45.398699Z",
     "shell.execute_reply": "2023-07-20T06:35:45.398014Z"
    },
    "papermill": {
     "duration": 1.085511,
     "end_time": "2023-07-20T06:35:45.400638",
     "exception": false,
     "start_time": "2023-07-20T06:35:44.315127",
     "status": "completed"
    },
    "tags": []
   },
   "outputs": [
    {
     "name": "stderr",
     "output_type": "stream",
     "text": [
      "2023-07-20 06:35:45,309\tINFO worker.py:1364 -- Connecting to existing Ray cluster at address: 172.17.0.2:65120...\n"
     ]
    },
    {
     "name": "stderr",
     "output_type": "stream",
     "text": [
      "2023-07-20 06:35:45,323\tINFO worker.py:1544 -- Connected to Ray cluster. View the dashboard at \u001b[1m\u001b[32mhttp://127.0.0.1:8265 \u001b[39m\u001b[22m\n"
     ]
    },
    {
     "name": "stderr",
     "output_type": "stream",
     "text": [
      "/home/host_user/.local/lib/python3.8/site-packages/ray/runtime_context.py:27: RayDeprecationWarning: This API is deprecated and may be removed in future Ray releases. You could suppress this warning by setting env variable PYTHONWARNINGS=\"ignore::DeprecationWarning\"\n",
      "Use get_job_id() instead\n",
      "  \"job_id\": self.job_id,\n",
      "/home/host_user/.local/lib/python3.8/site-packages/ray/runtime_context.py:28: RayDeprecationWarning: This API is deprecated and may be removed in future Ray releases. You could suppress this warning by setting env variable PYTHONWARNINGS=\"ignore::DeprecationWarning\"\n",
      "Use get_node_id() instead\n",
      "  \"node_id\": self.node_id,\n"
     ]
    }
   ],
   "source": [
    "import itertools as it\n",
    "\n",
    "#\n",
    "import numpy as np\n",
    "import matplotlib.pyplot as plt\n",
    "\n",
    "#\n",
    "from composable_logs.tasks.task_opentelemetry_logging import get_task_context\n",
    "\n",
    "#\n",
    "from common.io import datalake_root\n",
    "\n",
    "ctx = get_task_context(P)"
   ]
  },
  {
   "cell_type": "markdown",
   "id": "d5849bb1",
   "metadata": {
    "papermill": {
     "duration": 0.004224,
     "end_time": "2023-07-20T06:35:45.409682",
     "exception": false,
     "start_time": "2023-07-20T06:35:45.405458",
     "status": "completed"
    },
    "tags": []
   },
   "source": [
    "## Load persisted onnx-model and evaluation data"
   ]
  },
  {
   "cell_type": "code",
   "execution_count": 6,
   "id": "63d2de4d",
   "metadata": {
    "execution": {
     "iopub.execute_input": "2023-07-20T06:35:45.442255Z",
     "iopub.status.busy": "2023-07-20T06:35:45.441824Z",
     "iopub.status.idle": "2023-07-20T06:35:45.447155Z",
     "shell.execute_reply": "2023-07-20T06:35:45.446376Z"
    },
    "papermill": {
     "duration": 0.034502,
     "end_time": "2023-07-20T06:35:45.448918",
     "exception": false,
     "start_time": "2023-07-20T06:35:45.414416",
     "status": "completed"
    },
    "tags": []
   },
   "outputs": [],
   "source": [
    "from common.io import read_onnx, get_onnx_inputs, get_onnx_outputs, read_numpy"
   ]
  },
  {
   "cell_type": "code",
   "execution_count": 7,
   "id": "c72a00e3",
   "metadata": {
    "execution": {
     "iopub.execute_input": "2023-07-20T06:35:45.461123Z",
     "iopub.status.busy": "2023-07-20T06:35:45.460791Z",
     "iopub.status.idle": "2023-07-20T06:35:45.484417Z",
     "shell.execute_reply": "2023-07-20T06:35:45.483718Z"
    },
    "lines_to_next_cell": 0,
    "papermill": {
     "duration": 0.033056,
     "end_time": "2023-07-20T06:35:45.486815",
     "exception": false,
     "start_time": "2023-07-20T06:35:45.453759",
     "status": "completed"
    },
    "tags": []
   },
   "outputs": [],
   "source": [
    "onnx_inference_session = read_onnx(\n",
    "    datalake_root(ctx)\n",
    "    / \"models\"\n",
    "    / f\"nr_train_images={ctx.parameters['task.nr_train_images']}\"\n",
    "    / \"model.onnx\"\n",
    ")"
   ]
  },
  {
   "cell_type": "markdown",
   "id": "acfcda7e",
   "metadata": {
    "papermill": {
     "duration": 0.005092,
     "end_time": "2023-07-20T06:35:45.496755",
     "exception": false,
     "start_time": "2023-07-20T06:35:45.491663",
     "status": "completed"
    },
    "tags": []
   },
   "source": [
    "### Record structure of inputs and outputs for ONNX model\n",
    "\n",
    "(this should likely be done in training notebook)"
   ]
  },
  {
   "cell_type": "code",
   "execution_count": 8,
   "id": "09ca8ecf",
   "metadata": {
    "execution": {
     "iopub.execute_input": "2023-07-20T06:35:45.508485Z",
     "iopub.status.busy": "2023-07-20T06:35:45.508170Z",
     "iopub.status.idle": "2023-07-20T06:35:45.516163Z",
     "shell.execute_reply": "2023-07-20T06:35:45.515477Z"
    },
    "papermill": {
     "duration": 0.01588,
     "end_time": "2023-07-20T06:35:45.518060",
     "exception": false,
     "start_time": "2023-07-20T06:35:45.502180",
     "status": "completed"
    },
    "tags": []
   },
   "outputs": [
    {
     "name": "stdout",
     "output_type": "stream",
     "text": [
      "{\n",
      "  \"inputs\": [\n",
      "    {\n",
      "      \"name\": \"float_input_8x8_image\",\n",
      "      \"shape\": [\n",
      "        null,\n",
      "        64\n",
      "      ],\n",
      "      \"type\": \"tensor(float)\"\n",
      "    }\n",
      "  ],\n",
      "  \"outputs\": [\n",
      "    {\n",
      "      \"name\": \"output_label\",\n",
      "      \"shape\": [\n",
      "        null\n",
      "      ],\n",
      "      \"type\": \"tensor(int64)\"\n",
      "    },\n",
      "    {\n",
      "      \"name\": \"output_probability\",\n",
      "      \"shape\": [],\n",
      "      \"type\": \"seq(map(int64,tensor(float)))\"\n",
      "    }\n",
      "  ]\n",
      "}\n"
     ]
    }
   ],
   "source": [
    "import json\n",
    "\n",
    "onnx_io = json.dumps(\n",
    "    {\n",
    "        \"inputs\": get_onnx_inputs(onnx_inference_session),\n",
    "        \"outputs\": get_onnx_outputs(onnx_inference_session),\n",
    "    },\n",
    "    indent=2,\n",
    ")\n",
    "\n",
    "\n",
    "ctx.log_artefact(\"onnx_io_structure.json\", onnx_io)\n",
    "print(onnx_io)"
   ]
  },
  {
   "cell_type": "markdown",
   "id": "75d0edff",
   "metadata": {
    "papermill": {
     "duration": 0.01301,
     "end_time": "2023-07-20T06:35:45.535900",
     "exception": false,
     "start_time": "2023-07-20T06:35:45.522890",
     "status": "completed"
    },
    "tags": []
   },
   "source": [
    "### Evaluate model performance on evaluation data set"
   ]
  },
  {
   "cell_type": "code",
   "execution_count": 9,
   "id": "fc5440b2",
   "metadata": {
    "execution": {
     "iopub.execute_input": "2023-07-20T06:35:45.549246Z",
     "iopub.status.busy": "2023-07-20T06:35:45.548920Z",
     "iopub.status.idle": "2023-07-20T06:35:45.555795Z",
     "shell.execute_reply": "2023-07-20T06:35:45.554974Z"
    },
    "papermill": {
     "duration": 0.016407,
     "end_time": "2023-07-20T06:35:45.557686",
     "exception": false,
     "start_time": "2023-07-20T06:35:45.541279",
     "status": "completed"
    },
    "tags": []
   },
   "outputs": [],
   "source": [
    "# load evaluation data\n",
    "X_test = read_numpy(datalake_root(ctx) / \"test-data\" / \"digits.numpy\")\n",
    "y_test = read_numpy(datalake_root(ctx) / \"test-data\" / \"labels.numpy\")"
   ]
  },
  {
   "cell_type": "code",
   "execution_count": 10,
   "id": "28178be8",
   "metadata": {
    "execution": {
     "iopub.execute_input": "2023-07-20T06:35:45.569722Z",
     "iopub.status.busy": "2023-07-20T06:35:45.569399Z",
     "iopub.status.idle": "2023-07-20T06:35:45.586345Z",
     "shell.execute_reply": "2023-07-20T06:35:45.585621Z"
    },
    "papermill": {
     "duration": 0.026147,
     "end_time": "2023-07-20T06:35:45.588732",
     "exception": false,
     "start_time": "2023-07-20T06:35:45.562585",
     "status": "completed"
    },
    "tags": []
   },
   "outputs": [],
   "source": [
    "def get_model_outputs(X, onnx_inference_session):\n",
    "    y_pred_labels, y_pred_map = onnx_inference_session.run(\n",
    "        [\"output_label\", \"output_probability\"],\n",
    "        {\"float_input_8x8_image\": X.astype(np.float32)},\n",
    "    )\n",
    "    y_pred_probs = np.array(\n",
    "        [[probabilities[digit] for digit in range(10)] for probabilities in y_pred_map]\n",
    "    )\n",
    "\n",
    "    assert y_pred_labels.shape == (X.shape[0],)\n",
    "    assert y_pred_probs.shape == (X.shape[0], 10)\n",
    "\n",
    "    return y_pred_labels, y_pred_probs\n",
    "\n",
    "\n",
    "# Note: as shown in the training notebook, the predicted labels and probabilities\n",
    "# computed below need not be compatible.\n",
    "y_pred_labels_test, y_pred_probs_test = get_model_outputs(\n",
    "    X_test, onnx_inference_session\n",
    ")"
   ]
  },
  {
   "cell_type": "markdown",
   "id": "6a5a12ca",
   "metadata": {
    "papermill": {
     "duration": 0.004887,
     "end_time": "2023-07-20T06:35:45.598415",
     "exception": false,
     "start_time": "2023-07-20T06:35:45.593528",
     "status": "completed"
    },
    "tags": []
   },
   "source": [
    "### Confusion matrix"
   ]
  },
  {
   "cell_type": "code",
   "execution_count": 11,
   "id": "69c5bf90",
   "metadata": {
    "execution": {
     "iopub.execute_input": "2023-07-20T06:35:45.609368Z",
     "iopub.status.busy": "2023-07-20T06:35:45.608976Z",
     "iopub.status.idle": "2023-07-20T06:35:45.613887Z",
     "shell.execute_reply": "2023-07-20T06:35:45.613249Z"
    },
    "papermill": {
     "duration": 0.01314,
     "end_time": "2023-07-20T06:35:45.616040",
     "exception": false,
     "start_time": "2023-07-20T06:35:45.602900",
     "status": "completed"
    },
    "tags": []
   },
   "outputs": [],
   "source": [
    "# TODO"
   ]
  },
  {
   "cell_type": "markdown",
   "id": "0c23c1b1",
   "metadata": {
    "papermill": {
     "duration": 0.004922,
     "end_time": "2023-07-20T06:35:45.625669",
     "exception": false,
     "start_time": "2023-07-20T06:35:45.620747",
     "status": "completed"
    },
    "tags": []
   },
   "source": [
    "### Plot predicted probabilities for each classifier over all evaluation digit images"
   ]
  },
  {
   "cell_type": "code",
   "execution_count": 12,
   "id": "60769308",
   "metadata": {
    "execution": {
     "iopub.execute_input": "2023-07-20T06:35:45.644932Z",
     "iopub.status.busy": "2023-07-20T06:35:45.644590Z",
     "iopub.status.idle": "2023-07-20T06:35:49.953185Z",
     "shell.execute_reply": "2023-07-20T06:35:49.952491Z"
    },
    "papermill": {
     "duration": 4.324906,
     "end_time": "2023-07-20T06:35:49.955321",
     "exception": false,
     "start_time": "2023-07-20T06:35:45.630415",
     "status": "completed"
    },
    "tags": []
   },
   "outputs": [
    {
     "data": {
      "image/png": "[encoded data removed]",
      "text/plain": [
       "<Figure size 1600x600 with 10 Axes>"
      ]
     },
     "metadata": {},
     "output_type": "display_data"
    }
   ],
   "source": [
    "def plot_per_digit_probabilities(y_pred_probs):\n",
    "    fig, axs = plt.subplots(nrows=2, ncols=5, figsize=(16, 6))\n",
    "\n",
    "    for (r, c), digit, ax in zip(\n",
    "        it.product(range(2), range(5)), range(10), axs.reshape(-1)\n",
    "    ):\n",
    "        ax.hist(y_pred_probs_test[:, digit], bins=20)\n",
    "\n",
    "        ax.set_title(f\"Digit {digit}\")\n",
    "        if r == 1 and c == 2:\n",
    "            ax.set_xlabel(\"probability\", fontsize=16)\n",
    "\n",
    "        if c == 0:\n",
    "            ax.set_ylabel(\"counts\", fontsize=16)\n",
    "        ax.set_yscale(\"log\")\n",
    "\n",
    "    fig.tight_layout()\n",
    "    fig.suptitle(\n",
    "        f\"Distributions of prediction probabilities for each digit \"\n",
    "        f\"(on evaluation data, n={y_pred_probs.shape[0]})\",\n",
    "        fontsize=20,\n",
    "    )\n",
    "    fig.tight_layout()\n",
    "    fig.show()\n",
    "\n",
    "    return fig\n",
    "\n",
    "\n",
    "fig = plot_per_digit_probabilities(y_pred_probs_test)"
   ]
  },
  {
   "cell_type": "markdown",
   "id": "ce824315",
   "metadata": {
    "papermill": {
     "duration": 0.00551,
     "end_time": "2023-07-20T06:35:49.966556",
     "exception": false,
     "start_time": "2023-07-20T06:35:49.961046",
     "status": "completed"
    },
    "tags": []
   },
   "source": [
    "From the above distributions we see that most digits have clear separation between\n",
    "high and lower probabilities. Morover, in each case there is roughly an order of\n",
    "magnitude more of digits with low probabilities. This is compatible with digits\n",
    "being roughly evenly distributed in the data."
   ]
  },
  {
   "cell_type": "code",
   "execution_count": 13,
   "id": "6d2d0083",
   "metadata": {
    "execution": {
     "iopub.execute_input": "2023-07-20T06:35:49.980015Z",
     "iopub.status.busy": "2023-07-20T06:35:49.979679Z",
     "iopub.status.idle": "2023-07-20T06:35:50.682272Z",
     "shell.execute_reply": "2023-07-20T06:35:50.681579Z"
    },
    "papermill": {
     "duration": 0.712002,
     "end_time": "2023-07-20T06:35:50.684782",
     "exception": false,
     "start_time": "2023-07-20T06:35:49.972780",
     "status": "completed"
    },
    "tags": []
   },
   "outputs": [],
   "source": [
    "ctx.log_figure(\"per-digit-probabilities.png\", fig)"
   ]
  },
  {
   "cell_type": "markdown",
   "id": "a17c418d",
   "metadata": {
    "papermill": {
     "duration": 0.00558,
     "end_time": "2023-07-20T06:35:50.696217",
     "exception": false,
     "start_time": "2023-07-20T06:35:50.690637",
     "status": "completed"
    },
    "tags": []
   },
   "source": [
    "### Plot ROC curves for individual one-vs-rest classifiers"
   ]
  },
  {
   "cell_type": "code",
   "execution_count": 14,
   "id": "d3fe9b16",
   "metadata": {
    "execution": {
     "iopub.execute_input": "2023-07-20T06:35:50.715874Z",
     "iopub.status.busy": "2023-07-20T06:35:50.715548Z",
     "iopub.status.idle": "2023-07-20T06:35:51.061083Z",
     "shell.execute_reply": "2023-07-20T06:35:51.060289Z"
    },
    "papermill": {
     "duration": 0.36172,
     "end_time": "2023-07-20T06:35:51.063531",
     "exception": false,
     "start_time": "2023-07-20T06:35:50.701811",
     "status": "completed"
    },
    "tags": []
   },
   "outputs": [],
   "source": [
    "from sklearn import metrics"
   ]
  },
  {
   "cell_type": "code",
   "execution_count": 15,
   "id": "74290eda",
   "metadata": {
    "execution": {
     "iopub.execute_input": "2023-07-20T06:35:51.077028Z",
     "iopub.status.busy": "2023-07-20T06:35:51.076700Z",
     "iopub.status.idle": "2023-07-20T06:35:53.103707Z",
     "shell.execute_reply": "2023-07-20T06:35:53.101375Z"
    },
    "papermill": {
     "duration": 2.036031,
     "end_time": "2023-07-20T06:35:53.105765",
     "exception": false,
     "start_time": "2023-07-20T06:35:51.069734",
     "status": "completed"
    },
    "tags": []
   },
   "outputs": [
    {
     "data": {
      "image/png": "[encoded data removed]",
      "text/plain": [
       "<Figure size 1600x800 with 10 Axes>"
      ]
     },
     "metadata": {},
     "output_type": "display_data"
    }
   ],
   "source": [
    "def plot_roc_curves(y, y_pred_probs):\n",
    "    # based on example code\n",
    "    # https://scikit-learn.org/stable/auto_examples/model_selection/plot_roc.html\n",
    "\n",
    "    fig, axs = plt.subplots(nrows=2, ncols=5, figsize=(16, 8))\n",
    "\n",
    "    roc_auc_dict = {}\n",
    "\n",
    "    for (r, c), digit, ax in zip(\n",
    "        it.product(range(2), range(5)), range(10), axs.reshape(-1)\n",
    "    ):\n",
    "        fpr, tpr, _ = metrics.roc_curve(y == digit, y_pred_probs[:, digit])\n",
    "        auc = metrics.auc(fpr, tpr)\n",
    "        roc_auc_dict[str(digit)] = auc\n",
    "\n",
    "        ax.plot(fpr, tpr, label=f\"ROC AUC={round(auc, 3)}\")\n",
    "\n",
    "        ax.set_title(f\"\\nDigit {digit}\", fontsize=16)\n",
    "        if r == 1:\n",
    "            ax.set_xlabel(\"FPR\", fontsize=18)\n",
    "\n",
    "        if c == 0:\n",
    "            ax.set_ylabel(\"TPR\", fontsize=18)\n",
    "\n",
    "        ax.set_xlim([-0.05, 1.05])\n",
    "        ax.set_ylim([-0.05, 1.05])\n",
    "        ax.legend(loc=\"lower right\", frameon=False, fontsize=14)\n",
    "\n",
    "    fig.tight_layout()\n",
    "    fig.suptitle(\n",
    "        f\"ROC plots for one-vs-rest performances \"\n",
    "        f\"(on evaluation data, n={y_pred_probs_test.shape[1]}\",\n",
    "        fontsize=22,\n",
    "    )\n",
    "    fig.tight_layout()\n",
    "    fig.show()\n",
    "\n",
    "    return roc_auc_dict, fig\n",
    "\n",
    "\n",
    "roc_auc_dict, fig = plot_roc_curves(y_test, y_pred_probs_test)"
   ]
  },
  {
   "cell_type": "code",
   "execution_count": 16,
   "id": "c03d7408",
   "metadata": {
    "execution": {
     "iopub.execute_input": "2023-07-20T06:35:53.121143Z",
     "iopub.status.busy": "2023-07-20T06:35:53.120446Z",
     "iopub.status.idle": "2023-07-20T06:35:53.466870Z",
     "shell.execute_reply": "2023-07-20T06:35:53.466127Z"
    },
    "papermill": {
     "duration": 0.357264,
     "end_time": "2023-07-20T06:35:53.469976",
     "exception": false,
     "start_time": "2023-07-20T06:35:53.112712",
     "status": "completed"
    },
    "tags": []
   },
   "outputs": [],
   "source": [
    "ctx.log_figure(\"per-digit-roc-curves.png\", fig)"
   ]
  },
  {
   "cell_type": "code",
   "execution_count": 17,
   "id": "9ecb7266",
   "metadata": {
    "execution": {
     "iopub.execute_input": "2023-07-20T06:35:53.488603Z",
     "iopub.status.busy": "2023-07-20T06:35:53.488272Z",
     "iopub.status.idle": "2023-07-20T06:35:53.497598Z",
     "shell.execute_reply": "2023-07-20T06:35:53.496508Z"
    },
    "papermill": {
     "duration": 0.022782,
     "end_time": "2023-07-20T06:35:53.499487",
     "exception": false,
     "start_time": "2023-07-20T06:35:53.476705",
     "status": "completed"
    },
    "tags": []
   },
   "outputs": [
    {
     "data": {
      "text/plain": [
       "{'0': 1.0,\n",
       " '1': 0.998987816307404,\n",
       " '2': 1.0,\n",
       " '3': 0.9998500468603562,\n",
       " '4': 0.9997713763145861,\n",
       " '5': 0.9996626054358013,\n",
       " '6': 0.999923792104862,\n",
       " '7': 0.9998475842097242,\n",
       " '8': 0.9955863808322825,\n",
       " '9': 0.9997713763145862}"
      ]
     },
     "execution_count": 17,
     "metadata": {},
     "output_type": "execute_result"
    }
   ],
   "source": [
    "roc_auc_dict"
   ]
  },
  {
   "cell_type": "code",
   "execution_count": 18,
   "id": "f142f3c9",
   "metadata": {
    "execution": {
     "iopub.execute_input": "2023-07-20T06:35:53.516002Z",
     "iopub.status.busy": "2023-07-20T06:35:53.515678Z",
     "iopub.status.idle": "2023-07-20T06:35:53.527909Z",
     "shell.execute_reply": "2023-07-20T06:35:53.523838Z"
    },
    "papermill": {
     "duration": 0.022744,
     "end_time": "2023-07-20T06:35:53.530066",
     "exception": false,
     "start_time": "2023-07-20T06:35:53.507322",
     "status": "completed"
    },
    "tags": []
   },
   "outputs": [
    {
     "name": "stdout",
     "output_type": "stream",
     "text": [
      " - Logging roc_auc_per_digit (json) : {'0': 1.0, '1': 0.998987816307404, '2': 1.0, '3': 0.9998500468603562, '4': 0.9997713763145861, '5': 0.9996626054358013, '6': 0.999923792104862, '7': 0.9998475842097242, '8': 0.9955863808322825, '9': 0.9997713763145862}\n"
     ]
    }
   ],
   "source": [
    "ctx.log_value(\"roc_auc_per_digit\", roc_auc_dict)"
   ]
  },
  {
   "cell_type": "markdown",
   "id": "89f3b018",
   "metadata": {
    "papermill": {
     "duration": 0.00681,
     "end_time": "2023-07-20T06:35:53.543715",
     "exception": false,
     "start_time": "2023-07-20T06:35:53.536905",
     "status": "completed"
    },
    "tags": []
   },
   "source": [
    "### Compute and log mean ROC AUC score averaged over all digits"
   ]
  },
  {
   "cell_type": "code",
   "execution_count": 19,
   "id": "c17e6117",
   "metadata": {
    "execution": {
     "iopub.execute_input": "2023-07-20T06:35:53.559357Z",
     "iopub.status.busy": "2023-07-20T06:35:53.558946Z",
     "iopub.status.idle": "2023-07-20T06:35:53.573013Z",
     "shell.execute_reply": "2023-07-20T06:35:53.572355Z"
    },
    "papermill": {
     "duration": 0.024267,
     "end_time": "2023-07-20T06:35:53.575035",
     "exception": false,
     "start_time": "2023-07-20T06:35:53.550768",
     "status": "completed"
    },
    "tags": []
   },
   "outputs": [
    {
     "name": "stdout",
     "output_type": "stream",
     "text": [
      " - Logging roc_auc_class_mean (float) : 0.9993400978379603\n"
     ]
    }
   ],
   "source": [
    "roc_auc_macro = np.mean(list(roc_auc_dict.values()))\n",
    "\n",
    "ctx.log_float(\"roc_auc_class_mean\", roc_auc_macro)\n",
    "\n",
    "# assert that the same value can be computed directly using sklearn\n",
    "assert roc_auc_macro == metrics.roc_auc_score(\n",
    "    y_test, y_pred_probs_test, average=\"macro\", multi_class=\"ovr\"\n",
    ")"
   ]
  },
  {
   "cell_type": "code",
   "execution_count": 20,
   "id": "4715d28a",
   "metadata": {
    "execution": {
     "iopub.execute_input": "2023-07-20T06:35:53.594187Z",
     "iopub.status.busy": "2023-07-20T06:35:53.593885Z",
     "iopub.status.idle": "2023-07-20T06:35:53.598349Z",
     "shell.execute_reply": "2023-07-20T06:35:53.597765Z"
    },
    "lines_to_next_cell": 0,
    "papermill": {
     "duration": 0.017644,
     "end_time": "2023-07-20T06:35:53.600139",
     "exception": false,
     "start_time": "2023-07-20T06:35:53.582495",
     "status": "completed"
    },
    "tags": []
   },
   "outputs": [],
   "source": [
    "# ---"
   ]
  },
  {
   "cell_type": "code",
   "execution_count": null,
   "id": "282026ca",
   "metadata": {
    "papermill": {
     "duration": 0.006916,
     "end_time": "2023-07-20T06:35:53.613834",
     "exception": false,
     "start_time": "2023-07-20T06:35:53.606918",
     "status": "completed"
    },
    "tags": []
   },
   "outputs": [],
   "source": []
  }
 ],
 "metadata": {
  "jupytext": {
   "cell_metadata_filter": "tags,-all",
   "main_language": "python",
   "notebook_metadata_filter": "-all"
  },
  "language_info": {
   "codemirror_mode": {
    "name": "ipython",
    "version": 3
   },
   "file_extension": ".py",
   "mimetype": "text/x-python",
   "name": "python",
   "nbconvert_exporter": "python",
   "pygments_lexer": "ipython3",
   "version": "3.8.10"
  },
  "papermill": {
   "default_parameters": {},
   "duration": 13.023128,
   "end_time": "2023-07-20T06:35:55.759226",
   "environment_variables": {},
   "exception": null,
   "input_path": "/tmp/temp-notebook-7rabnyog.ipynb",
   "output_path": "/tmp/temp-notebook-7rabnyog.ipynb",
   "parameters": {
    "P": {
     "_parameters_actor_name": "parameter_for_task_0xf750761d39da7638",
     "task.nr_train_images": 1200
    }
   },
   "start_time": "2023-07-20T06:35:42.736098",
   "version": "2.4.0"
  }
 },
 "nbformat": 4,
 "nbformat_minor": 5
}