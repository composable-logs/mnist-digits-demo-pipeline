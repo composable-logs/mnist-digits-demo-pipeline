{
 "cells": [
  {
   "cell_type": "markdown",
   "id": "f851ad17",
   "metadata": {
    "papermill": {
     "duration": 0.008473,
     "end_time": "2023-07-26T06:35:55.011616",
     "exception": false,
     "start_time": "2023-07-26T06:35:55.003143",
     "status": "completed"
    },
    "tags": []
   },
   "source": [
    "# Benchmark model\n",
    "\n",
    "The purpose of this notebook is to benchmark persisted onnx-model (trained in the\n",
    "previous step) against evaluation set."
   ]
  },
  {
   "cell_type": "markdown",
   "id": "74ac3dcb",
   "metadata": {
    "papermill": {
     "duration": 0.004496,
     "end_time": "2023-07-26T06:35:55.023281",
     "exception": false,
     "start_time": "2023-07-26T06:35:55.018785",
     "status": "completed"
    },
    "tags": []
   },
   "source": [
    "### Determine run parameters"
   ]
  },
  {
   "cell_type": "code",
   "execution_count": 1,
   "id": "01b61180",
   "metadata": {
    "execution": {
     "iopub.execute_input": "2023-07-26T06:35:55.035070Z",
     "iopub.status.busy": "2023-07-26T06:35:55.034302Z",
     "iopub.status.idle": "2023-07-26T06:35:55.042528Z",
     "shell.execute_reply": "2023-07-26T06:35:55.041776Z"
    },
    "lines_to_next_cell": 0,
    "papermill": {
     "duration": 0.016013,
     "end_time": "2023-07-26T06:35:55.044440",
     "exception": false,
     "start_time": "2023-07-26T06:35:55.028427",
     "status": "completed"
    },
    "tags": []
   },
   "outputs": [],
   "source": [
    "# ----------------- Parameters for interactive development --------------\n",
    "P = {\n",
    "    \"workflow.data_lake_root\": \"/pipeline-outputs/data-lake\",\n",
    "    \"task.nr_train_images\": 600,\n",
    "}"
   ]
  },
  {
   "cell_type": "code",
   "execution_count": 2,
   "id": "b58ade89",
   "metadata": {
    "execution": {
     "iopub.execute_input": "2023-07-26T06:35:55.058420Z",
     "iopub.status.busy": "2023-07-26T06:35:55.057845Z",
     "iopub.status.idle": "2023-07-26T06:35:55.061355Z",
     "shell.execute_reply": "2023-07-26T06:35:55.060732Z"
    },
    "lines_to_next_cell": 0,
    "papermill": {
     "duration": 0.014477,
     "end_time": "2023-07-26T06:35:55.063523",
     "exception": false,
     "start_time": "2023-07-26T06:35:55.049046",
     "status": "completed"
    },
    "tags": [
     "parameters"
    ]
   },
   "outputs": [],
   "source": [
    "# - During automated runs parameters will be injected in the below cell -"
   ]
  },
  {
   "cell_type": "code",
   "execution_count": 3,
   "id": "69ce4097",
   "metadata": {
    "execution": {
     "iopub.execute_input": "2023-07-26T06:35:55.074983Z",
     "iopub.status.busy": "2023-07-26T06:35:55.074330Z",
     "iopub.status.idle": "2023-07-26T06:35:55.080003Z",
     "shell.execute_reply": "2023-07-26T06:35:55.079320Z"
    },
    "papermill": {
     "duration": 0.013472,
     "end_time": "2023-07-26T06:35:55.081715",
     "exception": false,
     "start_time": "2023-07-26T06:35:55.068243",
     "status": "completed"
    },
    "tags": [
     "injected-parameters"
    ]
   },
   "outputs": [],
   "source": [
    "# Parameters\n",
    "P = {\n",
    "    \"task.nr_train_images\": 1200,\n",
    "    \"_parameters_actor_name\": \"parameter_for_task_0x088bb70861e2d6d6\",\n",
    "}\n"
   ]
  },
  {
   "cell_type": "code",
   "execution_count": 4,
   "id": "b1c81f00",
   "metadata": {
    "execution": {
     "iopub.execute_input": "2023-07-26T06:35:55.093191Z",
     "iopub.status.busy": "2023-07-26T06:35:55.092501Z",
     "iopub.status.idle": "2023-07-26T06:35:55.098970Z",
     "shell.execute_reply": "2023-07-26T06:35:55.098262Z"
    },
    "lines_to_next_cell": 0,
    "papermill": {
     "duration": 0.014029,
     "end_time": "2023-07-26T06:35:55.100848",
     "exception": false,
     "start_time": "2023-07-26T06:35:55.086819",
     "status": "completed"
    },
    "tags": []
   },
   "outputs": [],
   "source": [
    "# -----------------------------------------------------------------------"
   ]
  },
  {
   "cell_type": "markdown",
   "id": "4940b966",
   "metadata": {
    "papermill": {
     "duration": 0.007628,
     "end_time": "2023-07-26T06:35:55.114307",
     "exception": false,
     "start_time": "2023-07-26T06:35:55.106679",
     "status": "completed"
    },
    "tags": []
   },
   "source": [
    "---"
   ]
  },
  {
   "cell_type": "markdown",
   "id": "36472553",
   "metadata": {
    "lines_to_next_cell": 2,
    "papermill": {
     "duration": 0.004873,
     "end_time": "2023-07-26T06:35:55.124379",
     "exception": false,
     "start_time": "2023-07-26T06:35:55.119506",
     "status": "completed"
    },
    "tags": []
   },
   "source": [
    "### Notebook code"
   ]
  },
  {
   "cell_type": "code",
   "execution_count": 5,
   "id": "0565db7c",
   "metadata": {
    "execution": {
     "iopub.execute_input": "2023-07-26T06:35:55.138034Z",
     "iopub.status.busy": "2023-07-26T06:35:55.137424Z",
     "iopub.status.idle": "2023-07-26T06:35:56.159619Z",
     "shell.execute_reply": "2023-07-26T06:35:56.158795Z"
    },
    "papermill": {
     "duration": 1.031915,
     "end_time": "2023-07-26T06:35:56.161529",
     "exception": false,
     "start_time": "2023-07-26T06:35:55.129614",
     "status": "completed"
    },
    "tags": []
   },
   "outputs": [
    {
     "name": "stderr",
     "output_type": "stream",
     "text": [
      "2023-07-26 06:35:56,061\tINFO worker.py:1364 -- Connecting to existing Ray cluster at address: 172.17.0.2:62462...\n"
     ]
    },
    {
     "name": "stderr",
     "output_type": "stream",
     "text": [
      "2023-07-26 06:35:56,078\tINFO worker.py:1544 -- Connected to Ray cluster. View the dashboard at \u001b[1m\u001b[32mhttp://127.0.0.1:8265 \u001b[39m\u001b[22m\n"
     ]
    },
    {
     "name": "stderr",
     "output_type": "stream",
     "text": [
      "/home/host_user/.local/lib/python3.8/site-packages/ray/runtime_context.py:27: RayDeprecationWarning: This API is deprecated and may be removed in future Ray releases. You could suppress this warning by setting env variable PYTHONWARNINGS=\"ignore::DeprecationWarning\"\n",
      "Use get_job_id() instead\n",
      "  \"job_id\": self.job_id,\n",
      "/home/host_user/.local/lib/python3.8/site-packages/ray/runtime_context.py:28: RayDeprecationWarning: This API is deprecated and may be removed in future Ray releases. You could suppress this warning by setting env variable PYTHONWARNINGS=\"ignore::DeprecationWarning\"\n",
      "Use get_node_id() instead\n",
      "  \"node_id\": self.node_id,\n"
     ]
    }
   ],
   "source": [
    "import itertools as it\n",
    "\n",
    "#\n",
    "import numpy as np\n",
    "import matplotlib.pyplot as plt\n",
    "\n",
    "#\n",
    "from composable_logs.tasks.task_opentelemetry_logging import get_task_context\n",
    "\n",
    "#\n",
    "from common.io import datalake_root\n",
    "\n",
    "ctx = get_task_context(P)"
   ]
  },
  {
   "cell_type": "markdown",
   "id": "ff261779",
   "metadata": {
    "papermill": {
     "duration": 0.004967,
     "end_time": "2023-07-26T06:35:56.171803",
     "exception": false,
     "start_time": "2023-07-26T06:35:56.166836",
     "status": "completed"
    },
    "tags": []
   },
   "source": [
    "## Load persisted onnx-model and evaluation data"
   ]
  },
  {
   "cell_type": "code",
   "execution_count": 6,
   "id": "6e4f16de",
   "metadata": {
    "execution": {
     "iopub.execute_input": "2023-07-26T06:35:56.191698Z",
     "iopub.status.busy": "2023-07-26T06:35:56.191088Z",
     "iopub.status.idle": "2023-07-26T06:35:56.195526Z",
     "shell.execute_reply": "2023-07-26T06:35:56.194825Z"
    },
    "papermill": {
     "duration": 0.020674,
     "end_time": "2023-07-26T06:35:56.197293",
     "exception": false,
     "start_time": "2023-07-26T06:35:56.176619",
     "status": "completed"
    },
    "tags": []
   },
   "outputs": [],
   "source": [
    "from common.io import read_onnx, get_onnx_inputs, get_onnx_outputs, read_numpy"
   ]
  },
  {
   "cell_type": "code",
   "execution_count": 7,
   "id": "2ebe3842",
   "metadata": {
    "execution": {
     "iopub.execute_input": "2023-07-26T06:35:56.213093Z",
     "iopub.status.busy": "2023-07-26T06:35:56.212547Z",
     "iopub.status.idle": "2023-07-26T06:35:56.222219Z",
     "shell.execute_reply": "2023-07-26T06:35:56.221529Z"
    },
    "lines_to_next_cell": 0,
    "papermill": {
     "duration": 0.018487,
     "end_time": "2023-07-26T06:35:56.224025",
     "exception": false,
     "start_time": "2023-07-26T06:35:56.205538",
     "status": "completed"
    },
    "tags": []
   },
   "outputs": [],
   "source": [
    "onnx_inference_session = read_onnx(\n",
    "    datalake_root(ctx)\n",
    "    / \"models\"\n",
    "    / f\"nr_train_images={ctx.parameters['task.nr_train_images']}\"\n",
    "    / \"model.onnx\"\n",
    ")"
   ]
  },
  {
   "cell_type": "markdown",
   "id": "a46cb6c5",
   "metadata": {
    "papermill": {
     "duration": 0.004962,
     "end_time": "2023-07-26T06:35:56.234416",
     "exception": false,
     "start_time": "2023-07-26T06:35:56.229454",
     "status": "completed"
    },
    "tags": []
   },
   "source": [
    "### Record structure of inputs and outputs for ONNX model\n",
    "\n",
    "(this should likely be done in training notebook)"
   ]
  },
  {
   "cell_type": "code",
   "execution_count": 8,
   "id": "42eaccef",
   "metadata": {
    "execution": {
     "iopub.execute_input": "2023-07-26T06:35:56.247189Z",
     "iopub.status.busy": "2023-07-26T06:35:56.246553Z",
     "iopub.status.idle": "2023-07-26T06:35:56.254523Z",
     "shell.execute_reply": "2023-07-26T06:35:56.253698Z"
    },
    "papermill": {
     "duration": 0.016815,
     "end_time": "2023-07-26T06:35:56.256352",
     "exception": false,
     "start_time": "2023-07-26T06:35:56.239537",
     "status": "completed"
    },
    "tags": []
   },
   "outputs": [
    {
     "name": "stdout",
     "output_type": "stream",
     "text": [
      "{\n",
      "  \"inputs\": [\n",
      "    {\n",
      "      \"name\": \"float_input_8x8_image\",\n",
      "      \"shape\": [\n",
      "        null,\n",
      "        64\n",
      "      ],\n",
      "      \"type\": \"tensor(float)\"\n",
      "    }\n",
      "  ],\n",
      "  \"outputs\": [\n",
      "    {\n",
      "      \"name\": \"output_label\",\n",
      "      \"shape\": [\n",
      "        null\n",
      "      ],\n",
      "      \"type\": \"tensor(int64)\"\n",
      "    },\n",
      "    {\n",
      "      \"name\": \"output_probability\",\n",
      "      \"shape\": [],\n",
      "      \"type\": \"seq(map(int64,tensor(float)))\"\n",
      "    }\n",
      "  ]\n",
      "}\n"
     ]
    }
   ],
   "source": [
    "import json\n",
    "\n",
    "onnx_io = json.dumps(\n",
    "    {\n",
    "        \"inputs\": get_onnx_inputs(onnx_inference_session),\n",
    "        \"outputs\": get_onnx_outputs(onnx_inference_session),\n",
    "    },\n",
    "    indent=2,\n",
    ")\n",
    "\n",
    "\n",
    "ctx.log_artefact(\"onnx_io_structure.json\", onnx_io)\n",
    "print(onnx_io)"
   ]
  },
  {
   "cell_type": "markdown",
   "id": "05e66f04",
   "metadata": {
    "papermill": {
     "duration": 0.005058,
     "end_time": "2023-07-26T06:35:56.266566",
     "exception": false,
     "start_time": "2023-07-26T06:35:56.261508",
     "status": "completed"
    },
    "tags": []
   },
   "source": [
    "### Evaluate model performance on evaluation data set"
   ]
  },
  {
   "cell_type": "code",
   "execution_count": 9,
   "id": "c7665887",
   "metadata": {
    "execution": {
     "iopub.execute_input": "2023-07-26T06:35:56.279132Z",
     "iopub.status.busy": "2023-07-26T06:35:56.278296Z",
     "iopub.status.idle": "2023-07-26T06:35:56.284001Z",
     "shell.execute_reply": "2023-07-26T06:35:56.283237Z"
    },
    "papermill": {
     "duration": 0.018764,
     "end_time": "2023-07-26T06:35:56.290500",
     "exception": false,
     "start_time": "2023-07-26T06:35:56.271736",
     "status": "completed"
    },
    "tags": []
   },
   "outputs": [],
   "source": [
    "# load evaluation data\n",
    "X_test = read_numpy(datalake_root(ctx) / \"test-data\" / \"digits.numpy\")\n",
    "y_test = read_numpy(datalake_root(ctx) / \"test-data\" / \"labels.numpy\")"
   ]
  },
  {
   "cell_type": "code",
   "execution_count": 10,
   "id": "7455b5f3",
   "metadata": {
    "execution": {
     "iopub.execute_input": "2023-07-26T06:35:56.308229Z",
     "iopub.status.busy": "2023-07-26T06:35:56.307372Z",
     "iopub.status.idle": "2023-07-26T06:35:56.323083Z",
     "shell.execute_reply": "2023-07-26T06:35:56.322295Z"
    },
    "papermill": {
     "duration": 0.024017,
     "end_time": "2023-07-26T06:35:56.324852",
     "exception": false,
     "start_time": "2023-07-26T06:35:56.300835",
     "status": "completed"
    },
    "tags": []
   },
   "outputs": [],
   "source": [
    "def get_model_outputs(X, onnx_inference_session):\n",
    "    y_pred_labels, y_pred_map = onnx_inference_session.run(\n",
    "        [\"output_label\", \"output_probability\"],\n",
    "        {\"float_input_8x8_image\": X.astype(np.float32)},\n",
    "    )\n",
    "    y_pred_probs = np.array(\n",
    "        [[probabilities[digit] for digit in range(10)] for probabilities in y_pred_map]\n",
    "    )\n",
    "\n",
    "    assert y_pred_labels.shape == (X.shape[0],)\n",
    "    assert y_pred_probs.shape == (X.shape[0], 10)\n",
    "\n",
    "    return y_pred_labels, y_pred_probs\n",
    "\n",
    "\n",
    "# Note: as shown in the training notebook, the predicted labels and probabilities\n",
    "# computed below need not be compatible.\n",
    "y_pred_labels_test, y_pred_probs_test = get_model_outputs(\n",
    "    X_test, onnx_inference_session\n",
    ")"
   ]
  },
  {
   "cell_type": "markdown",
   "id": "e68baf87",
   "metadata": {
    "papermill": {
     "duration": 0.005101,
     "end_time": "2023-07-26T06:35:56.335444",
     "exception": false,
     "start_time": "2023-07-26T06:35:56.330343",
     "status": "completed"
    },
    "tags": []
   },
   "source": [
    "### Confusion matrix"
   ]
  },
  {
   "cell_type": "code",
   "execution_count": 11,
   "id": "55f1769f",
   "metadata": {
    "execution": {
     "iopub.execute_input": "2023-07-26T06:35:56.347705Z",
     "iopub.status.busy": "2023-07-26T06:35:56.346906Z",
     "iopub.status.idle": "2023-07-26T06:35:56.350505Z",
     "shell.execute_reply": "2023-07-26T06:35:56.349823Z"
    },
    "papermill": {
     "duration": 0.011704,
     "end_time": "2023-07-26T06:35:56.352200",
     "exception": false,
     "start_time": "2023-07-26T06:35:56.340496",
     "status": "completed"
    },
    "tags": []
   },
   "outputs": [],
   "source": [
    "# TODO"
   ]
  },
  {
   "cell_type": "markdown",
   "id": "486bcc09",
   "metadata": {
    "papermill": {
     "duration": 0.005089,
     "end_time": "2023-07-26T06:35:56.362557",
     "exception": false,
     "start_time": "2023-07-26T06:35:56.357468",
     "status": "completed"
    },
    "tags": []
   },
   "source": [
    "### Plot predicted probabilities for each classifier over all evaluation digit images"
   ]
  },
  {
   "cell_type": "code",
   "execution_count": 12,
   "id": "6b00d5af",
   "metadata": {
    "execution": {
     "iopub.execute_input": "2023-07-26T06:35:56.375248Z",
     "iopub.status.busy": "2023-07-26T06:35:56.374142Z",
     "iopub.status.idle": "2023-07-26T06:36:00.699186Z",
     "shell.execute_reply": "2023-07-26T06:36:00.698278Z"
    },
    "papermill": {
     "duration": 4.333879,
     "end_time": "2023-07-26T06:36:00.701564",
     "exception": false,
     "start_time": "2023-07-26T06:35:56.367685",
     "status": "completed"
    },
    "tags": []
   },
   "outputs": [
    {
     "data": {
      "image/png": "[encoded data removed]",
      "text/plain": [
       "<Figure size 1600x600 with 10 Axes>"
      ]
     },
     "metadata": {},
     "output_type": "display_data"
    }
   ],
   "source": [
    "def plot_per_digit_probabilities(y_pred_probs):\n",
    "    fig, axs = plt.subplots(nrows=2, ncols=5, figsize=(16, 6))\n",
    "\n",
    "    for (r, c), digit, ax in zip(\n",
    "        it.product(range(2), range(5)), range(10), axs.reshape(-1)\n",
    "    ):\n",
    "        ax.hist(y_pred_probs_test[:, digit], bins=20)\n",
    "\n",
    "        ax.set_title(f\"Digit {digit}\")\n",
    "        if r == 1 and c == 2:\n",
    "            ax.set_xlabel(\"probability\", fontsize=16)\n",
    "\n",
    "        if c == 0:\n",
    "            ax.set_ylabel(\"counts\", fontsize=16)\n",
    "        ax.set_yscale(\"log\")\n",
    "\n",
    "    fig.tight_layout()\n",
    "    fig.suptitle(\n",
    "        f\"Distributions of prediction probabilities for each digit \"\n",
    "        f\"(on evaluation data, n={y_pred_probs.shape[0]})\",\n",
    "        fontsize=20,\n",
    "    )\n",
    "    fig.tight_layout()\n",
    "    fig.show()\n",
    "\n",
    "    return fig\n",
    "\n",
    "\n",
    "fig = plot_per_digit_probabilities(y_pred_probs_test)"
   ]
  },
  {
   "cell_type": "markdown",
   "id": "d28e90b3",
   "metadata": {
    "papermill": {
     "duration": 0.006173,
     "end_time": "2023-07-26T06:36:00.714367",
     "exception": false,
     "start_time": "2023-07-26T06:36:00.708194",
     "status": "completed"
    },
    "tags": []
   },
   "source": [
    "From the above distributions we see that most digits have clear separation between\n",
    "high and lower probabilities. Morover, in each case there is roughly an order of\n",
    "magnitude more of digits with low probabilities. This is compatible with digits\n",
    "being roughly evenly distributed in the data."
   ]
  },
  {
   "cell_type": "code",
   "execution_count": 13,
   "id": "800cfa0d",
   "metadata": {
    "execution": {
     "iopub.execute_input": "2023-07-26T06:36:00.729056Z",
     "iopub.status.busy": "2023-07-26T06:36:00.728221Z",
     "iopub.status.idle": "2023-07-26T06:36:01.431408Z",
     "shell.execute_reply": "2023-07-26T06:36:01.430577Z"
    },
    "papermill": {
     "duration": 0.713009,
     "end_time": "2023-07-26T06:36:01.433606",
     "exception": false,
     "start_time": "2023-07-26T06:36:00.720597",
     "status": "completed"
    },
    "tags": []
   },
   "outputs": [],
   "source": [
    "ctx.log_figure(\"per-digit-probabilities.png\", fig)"
   ]
  },
  {
   "cell_type": "markdown",
   "id": "ea4b6305",
   "metadata": {
    "papermill": {
     "duration": 0.006172,
     "end_time": "2023-07-26T06:36:01.446348",
     "exception": false,
     "start_time": "2023-07-26T06:36:01.440176",
     "status": "completed"
    },
    "tags": []
   },
   "source": [
    "### Plot ROC curves for individual one-vs-rest classifiers"
   ]
  },
  {
   "cell_type": "code",
   "execution_count": 14,
   "id": "124269ad",
   "metadata": {
    "execution": {
     "iopub.execute_input": "2023-07-26T06:36:01.460911Z",
     "iopub.status.busy": "2023-07-26T06:36:01.460092Z",
     "iopub.status.idle": "2023-07-26T06:36:01.821559Z",
     "shell.execute_reply": "2023-07-26T06:36:01.820756Z"
    },
    "papermill": {
     "duration": 0.370953,
     "end_time": "2023-07-26T06:36:01.823651",
     "exception": false,
     "start_time": "2023-07-26T06:36:01.452698",
     "status": "completed"
    },
    "tags": []
   },
   "outputs": [],
   "source": [
    "from sklearn import metrics"
   ]
  },
  {
   "cell_type": "code",
   "execution_count": 15,
   "id": "2a04cca3",
   "metadata": {
    "execution": {
     "iopub.execute_input": "2023-07-26T06:36:01.838785Z",
     "iopub.status.busy": "2023-07-26T06:36:01.837812Z",
     "iopub.status.idle": "2023-07-26T06:36:03.900368Z",
     "shell.execute_reply": "2023-07-26T06:36:03.899540Z"
    },
    "papermill": {
     "duration": 2.072485,
     "end_time": "2023-07-26T06:36:03.902648",
     "exception": false,
     "start_time": "2023-07-26T06:36:01.830163",
     "status": "completed"
    },
    "tags": []
   },
   "outputs": [
    {
     "data": {
      "image/png": "[encoded data removed]",
      "text/plain": [
       "<Figure size 1600x800 with 10 Axes>"
      ]
     },
     "metadata": {},
     "output_type": "display_data"
    }
   ],
   "source": [
    "def plot_roc_curves(y, y_pred_probs):\n",
    "    # based on example code\n",
    "    # https://scikit-learn.org/stable/auto_examples/model_selection/plot_roc.html\n",
    "\n",
    "    fig, axs = plt.subplots(nrows=2, ncols=5, figsize=(16, 8))\n",
    "\n",
    "    roc_auc_dict = {}\n",
    "\n",
    "    for (r, c), digit, ax in zip(\n",
    "        it.product(range(2), range(5)), range(10), axs.reshape(-1)\n",
    "    ):\n",
    "        fpr, tpr, _ = metrics.roc_curve(y == digit, y_pred_probs[:, digit])\n",
    "        auc = metrics.auc(fpr, tpr)\n",
    "        roc_auc_dict[str(digit)] = auc\n",
    "\n",
    "        ax.plot(fpr, tpr, label=f\"ROC AUC={round(auc, 3)}\")\n",
    "\n",
    "        ax.set_title(f\"\\nDigit {digit}\", fontsize=16)\n",
    "        if r == 1:\n",
    "            ax.set_xlabel(\"FPR\", fontsize=18)\n",
    "\n",
    "        if c == 0:\n",
    "            ax.set_ylabel(\"TPR\", fontsize=18)\n",
    "\n",
    "        ax.set_xlim([-0.05, 1.05])\n",
    "        ax.set_ylim([-0.05, 1.05])\n",
    "        ax.legend(loc=\"lower right\", frameon=False, fontsize=14)\n",
    "\n",
    "    fig.tight_layout()\n",
    "    fig.suptitle(\n",
    "        f\"ROC plots for one-vs-rest performances \"\n",
    "        f\"(on evaluation data, n={y_pred_probs_test.shape[1]}\",\n",
    "        fontsize=22,\n",
    "    )\n",
    "    fig.tight_layout()\n",
    "    fig.show()\n",
    "\n",
    "    return roc_auc_dict, fig\n",
    "\n",
    "\n",
    "roc_auc_dict, fig = plot_roc_curves(y_test, y_pred_probs_test)"
   ]
  },
  {
   "cell_type": "code",
   "execution_count": 16,
   "id": "07200aeb",
   "metadata": {
    "execution": {
     "iopub.execute_input": "2023-07-26T06:36:03.922488Z",
     "iopub.status.busy": "2023-07-26T06:36:03.922053Z",
     "iopub.status.idle": "2023-07-26T06:36:04.300879Z",
     "shell.execute_reply": "2023-07-26T06:36:04.300036Z"
    },
    "papermill": {
     "duration": 0.392278,
     "end_time": "2023-07-26T06:36:04.303654",
     "exception": false,
     "start_time": "2023-07-26T06:36:03.911376",
     "status": "completed"
    },
    "tags": []
   },
   "outputs": [],
   "source": [
    "ctx.log_figure(\"per-digit-roc-curves.png\", fig)"
   ]
  },
  {
   "cell_type": "code",
   "execution_count": 17,
   "id": "5a4f2d69",
   "metadata": {
    "execution": {
     "iopub.execute_input": "2023-07-26T06:36:04.322130Z",
     "iopub.status.busy": "2023-07-26T06:36:04.321311Z",
     "iopub.status.idle": "2023-07-26T06:36:04.329367Z",
     "shell.execute_reply": "2023-07-26T06:36:04.328505Z"
    },
    "papermill": {
     "duration": 0.018829,
     "end_time": "2023-07-26T06:36:04.331402",
     "exception": false,
     "start_time": "2023-07-26T06:36:04.312573",
     "status": "completed"
    },
    "tags": []
   },
   "outputs": [
    {
     "data": {
      "text/plain": [
       "{'0': 1.0,\n",
       " '1': 0.9991002811621369,\n",
       " '2': 1.0,\n",
       " '3': 0.9999250234301781,\n",
       " '4': 0.9997332723670173,\n",
       " '5': 0.9997000937207123,\n",
       " '6': 0.999923792104862,\n",
       " '7': 0.9998475842097242,\n",
       " '8': 0.9956651954602774,\n",
       " '9': 0.9997713763145862}"
      ]
     },
     "execution_count": 17,
     "metadata": {},
     "output_type": "execute_result"
    }
   ],
   "source": [
    "roc_auc_dict"
   ]
  },
  {
   "cell_type": "code",
   "execution_count": 18,
   "id": "959f9320",
   "metadata": {
    "execution": {
     "iopub.execute_input": "2023-07-26T06:36:04.348232Z",
     "iopub.status.busy": "2023-07-26T06:36:04.347683Z",
     "iopub.status.idle": "2023-07-26T06:36:04.354416Z",
     "shell.execute_reply": "2023-07-26T06:36:04.353598Z"
    },
    "papermill": {
     "duration": 0.017388,
     "end_time": "2023-07-26T06:36:04.356543",
     "exception": false,
     "start_time": "2023-07-26T06:36:04.339155",
     "status": "completed"
    },
    "tags": []
   },
   "outputs": [
    {
     "name": "stdout",
     "output_type": "stream",
     "text": [
      " - Logging roc_auc_per_digit (json) : {'0': 1.0, '1': 0.9991002811621369, '2': 1.0, '3': 0.9999250234301781, '4': 0.9997332723670173, '5': 0.9997000937207123, '6': 0.999923792104862, '7': 0.9998475842097242, '8': 0.9956651954602774, '9': 0.9997713763145862}\n"
     ]
    }
   ],
   "source": [
    "ctx.log_value(\"roc_auc_per_digit\", roc_auc_dict)"
   ]
  },
  {
   "cell_type": "markdown",
   "id": "925c441c",
   "metadata": {
    "papermill": {
     "duration": 0.007568,
     "end_time": "2023-07-26T06:36:04.371655",
     "exception": false,
     "start_time": "2023-07-26T06:36:04.364087",
     "status": "completed"
    },
    "tags": []
   },
   "source": [
    "### Compute and log mean ROC AUC score averaged over all digits"
   ]
  },
  {
   "cell_type": "code",
   "execution_count": 19,
   "id": "ecc8076f",
   "metadata": {
    "execution": {
     "iopub.execute_input": "2023-07-26T06:36:04.389019Z",
     "iopub.status.busy": "2023-07-26T06:36:04.388683Z",
     "iopub.status.idle": "2023-07-26T06:36:04.403138Z",
     "shell.execute_reply": "2023-07-26T06:36:04.402190Z"
    },
    "papermill": {
     "duration": 0.02515,
     "end_time": "2023-07-26T06:36:04.405117",
     "exception": false,
     "start_time": "2023-07-26T06:36:04.379967",
     "status": "completed"
    },
    "tags": []
   },
   "outputs": [
    {
     "name": "stdout",
     "output_type": "stream",
     "text": [
      " - Logging roc_auc_class_mean (float) : 0.9993666618769493\n"
     ]
    }
   ],
   "source": [
    "roc_auc_macro = np.mean(list(roc_auc_dict.values()))\n",
    "\n",
    "ctx.log_float(\"roc_auc_class_mean\", roc_auc_macro)\n",
    "\n",
    "# assert that the same value can be computed directly using sklearn\n",
    "assert roc_auc_macro == metrics.roc_auc_score(\n",
    "    y_test, y_pred_probs_test, average=\"macro\", multi_class=\"ovr\"\n",
    ")"
   ]
  },
  {
   "cell_type": "code",
   "execution_count": 20,
   "id": "728f6322",
   "metadata": {
    "execution": {
     "iopub.execute_input": "2023-07-26T06:36:04.423395Z",
     "iopub.status.busy": "2023-07-26T06:36:04.422895Z",
     "iopub.status.idle": "2023-07-26T06:36:04.428130Z",
     "shell.execute_reply": "2023-07-26T06:36:04.427300Z"
    },
    "lines_to_next_cell": 0,
    "papermill": {
     "duration": 0.016737,
     "end_time": "2023-07-26T06:36:04.430131",
     "exception": false,
     "start_time": "2023-07-26T06:36:04.413394",
     "status": "completed"
    },
    "tags": []
   },
   "outputs": [],
   "source": [
    "# ---"
   ]
  },
  {
   "cell_type": "code",
   "execution_count": null,
   "id": "d20d1944",
   "metadata": {
    "papermill": {
     "duration": 0.008194,
     "end_time": "2023-07-26T06:36:04.446113",
     "exception": false,
     "start_time": "2023-07-26T06:36:04.437919",
     "status": "completed"
    },
    "tags": []
   },
   "outputs": [],
   "source": []
  }
 ],
 "metadata": {
  "jupytext": {
   "cell_metadata_filter": "tags,-all",
   "main_language": "python",
   "notebook_metadata_filter": "-all"
  },
  "language_info": {
   "codemirror_mode": {
    "name": "ipython",
    "version": 3
   },
   "file_extension": ".py",
   "mimetype": "text/x-python",
   "name": "python",
   "nbconvert_exporter": "python",
   "pygments_lexer": "ipython3",
   "version": "3.8.10"
  },
  "papermill": {
   "default_parameters": {},
   "duration": 12.738828,
   "end_time": "2023-07-26T06:36:06.185809",
   "environment_variables": {},
   "exception": null,
   "input_path": "/tmp/temp-notebook-96bmnt13.ipynb",
   "output_path": "/tmp/temp-notebook-96bmnt13.ipynb",
   "parameters": {
    "P": {
     "_parameters_actor_name": "parameter_for_task_0x088bb70861e2d6d6",
     "task.nr_train_images": 1200
    }
   },
   "start_time": "2023-07-26T06:35:53.446981",
   "version": "2.4.0"
  }
 },
 "nbformat": 4,
 "nbformat_minor": 5
}