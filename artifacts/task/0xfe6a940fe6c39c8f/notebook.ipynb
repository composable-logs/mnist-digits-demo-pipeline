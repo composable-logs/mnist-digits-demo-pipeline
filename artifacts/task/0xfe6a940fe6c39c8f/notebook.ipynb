{
 "cells": [
  {
   "cell_type": "markdown",
   "id": "6c21b606",
   "metadata": {
    "papermill": {
     "duration": 0.00698,
     "end_time": "2023-07-20T06:35:47.545863",
     "exception": false,
     "start_time": "2023-07-20T06:35:47.538883",
     "status": "completed"
    },
    "tags": []
   },
   "source": [
    "# Benchmark model\n",
    "\n",
    "The purpose of this notebook is to benchmark persisted onnx-model (trained in the\n",
    "previous step) against evaluation set."
   ]
  },
  {
   "cell_type": "markdown",
   "id": "4f0e3f40",
   "metadata": {
    "papermill": {
     "duration": 0.00415,
     "end_time": "2023-07-20T06:35:47.556745",
     "exception": false,
     "start_time": "2023-07-20T06:35:47.552595",
     "status": "completed"
    },
    "tags": []
   },
   "source": [
    "### Determine run parameters"
   ]
  },
  {
   "cell_type": "code",
   "execution_count": 1,
   "id": "9addba64",
   "metadata": {
    "execution": {
     "iopub.execute_input": "2023-07-20T06:35:47.566933Z",
     "iopub.status.busy": "2023-07-20T06:35:47.566538Z",
     "iopub.status.idle": "2023-07-20T06:35:47.574697Z",
     "shell.execute_reply": "2023-07-20T06:35:47.574036Z"
    },
    "lines_to_next_cell": 0,
    "papermill": {
     "duration": 0.015507,
     "end_time": "2023-07-20T06:35:47.576374",
     "exception": false,
     "start_time": "2023-07-20T06:35:47.560867",
     "status": "completed"
    },
    "tags": []
   },
   "outputs": [],
   "source": [
    "# ----------------- Parameters for interactive development --------------\n",
    "P = {\n",
    "    \"workflow.data_lake_root\": \"/pipeline-outputs/data-lake\",\n",
    "    \"task.nr_train_images\": 600,\n",
    "}"
   ]
  },
  {
   "cell_type": "code",
   "execution_count": 2,
   "id": "5455cf7e",
   "metadata": {
    "execution": {
     "iopub.execute_input": "2023-07-20T06:35:47.588531Z",
     "iopub.status.busy": "2023-07-20T06:35:47.588210Z",
     "iopub.status.idle": "2023-07-20T06:35:47.593099Z",
     "shell.execute_reply": "2023-07-20T06:35:47.592429Z"
    },
    "lines_to_next_cell": 0,
    "papermill": {
     "duration": 0.014418,
     "end_time": "2023-07-20T06:35:47.595022",
     "exception": false,
     "start_time": "2023-07-20T06:35:47.580604",
     "status": "completed"
    },
    "tags": [
     "parameters"
    ]
   },
   "outputs": [],
   "source": [
    "# - During automated runs parameters will be injected in the below cell -"
   ]
  },
  {
   "cell_type": "code",
   "execution_count": 3,
   "id": "7391e439",
   "metadata": {
    "execution": {
     "iopub.execute_input": "2023-07-20T06:35:47.604993Z",
     "iopub.status.busy": "2023-07-20T06:35:47.604699Z",
     "iopub.status.idle": "2023-07-20T06:35:47.613216Z",
     "shell.execute_reply": "2023-07-20T06:35:47.612592Z"
    },
    "papermill": {
     "duration": 0.018435,
     "end_time": "2023-07-20T06:35:47.617765",
     "exception": false,
     "start_time": "2023-07-20T06:35:47.599330",
     "status": "completed"
    },
    "tags": [
     "injected-parameters"
    ]
   },
   "outputs": [],
   "source": [
    "# Parameters\n",
    "P = {\n",
    "    \"task.nr_train_images\": 800,\n",
    "    \"_parameters_actor_name\": \"parameter_for_task_0xfe6a940fe6c39c8f\",\n",
    "}\n"
   ]
  },
  {
   "cell_type": "code",
   "execution_count": 4,
   "id": "12f49718",
   "metadata": {
    "execution": {
     "iopub.execute_input": "2023-07-20T06:35:47.627957Z",
     "iopub.status.busy": "2023-07-20T06:35:47.627669Z",
     "iopub.status.idle": "2023-07-20T06:35:47.632091Z",
     "shell.execute_reply": "2023-07-20T06:35:47.631444Z"
    },
    "lines_to_next_cell": 0,
    "papermill": {
     "duration": 0.011776,
     "end_time": "2023-07-20T06:35:47.633997",
     "exception": false,
     "start_time": "2023-07-20T06:35:47.622221",
     "status": "completed"
    },
    "tags": []
   },
   "outputs": [],
   "source": [
    "# -----------------------------------------------------------------------"
   ]
  },
  {
   "cell_type": "markdown",
   "id": "9e0c5be1",
   "metadata": {
    "papermill": {
     "duration": 0.004092,
     "end_time": "2023-07-20T06:35:47.642226",
     "exception": false,
     "start_time": "2023-07-20T06:35:47.638134",
     "status": "completed"
    },
    "tags": []
   },
   "source": [
    "---"
   ]
  },
  {
   "cell_type": "markdown",
   "id": "5c862cac",
   "metadata": {
    "lines_to_next_cell": 2,
    "papermill": {
     "duration": 0.004323,
     "end_time": "2023-07-20T06:35:47.650656",
     "exception": false,
     "start_time": "2023-07-20T06:35:47.646333",
     "status": "completed"
    },
    "tags": []
   },
   "source": [
    "### Notebook code"
   ]
  },
  {
   "cell_type": "code",
   "execution_count": 5,
   "id": "d103904b",
   "metadata": {
    "execution": {
     "iopub.execute_input": "2023-07-20T06:35:47.661021Z",
     "iopub.status.busy": "2023-07-20T06:35:47.660713Z",
     "iopub.status.idle": "2023-07-20T06:35:48.698679Z",
     "shell.execute_reply": "2023-07-20T06:35:48.697986Z"
    },
    "papermill": {
     "duration": 1.045608,
     "end_time": "2023-07-20T06:35:48.700570",
     "exception": false,
     "start_time": "2023-07-20T06:35:47.654962",
     "status": "completed"
    },
    "tags": []
   },
   "outputs": [
    {
     "name": "stderr",
     "output_type": "stream",
     "text": [
      "2023-07-20 06:35:48,601\tINFO worker.py:1364 -- Connecting to existing Ray cluster at address: 172.17.0.2:65120...\n"
     ]
    },
    {
     "name": "stderr",
     "output_type": "stream",
     "text": [
      "2023-07-20 06:35:48,620\tINFO worker.py:1544 -- Connected to Ray cluster. View the dashboard at \u001b[1m\u001b[32mhttp://127.0.0.1:8265 \u001b[39m\u001b[22m\n"
     ]
    },
    {
     "name": "stderr",
     "output_type": "stream",
     "text": [
      "/home/host_user/.local/lib/python3.8/site-packages/ray/runtime_context.py:27: RayDeprecationWarning: This API is deprecated and may be removed in future Ray releases. You could suppress this warning by setting env variable PYTHONWARNINGS=\"ignore::DeprecationWarning\"\n",
      "Use get_job_id() instead\n",
      "  \"job_id\": self.job_id,\n",
      "/home/host_user/.local/lib/python3.8/site-packages/ray/runtime_context.py:28: RayDeprecationWarning: This API is deprecated and may be removed in future Ray releases. You could suppress this warning by setting env variable PYTHONWARNINGS=\"ignore::DeprecationWarning\"\n",
      "Use get_node_id() instead\n",
      "  \"node_id\": self.node_id,\n"
     ]
    }
   ],
   "source": [
    "import itertools as it\n",
    "\n",
    "#\n",
    "import numpy as np\n",
    "import matplotlib.pyplot as plt\n",
    "\n",
    "#\n",
    "from composable_logs.tasks.task_opentelemetry_logging import get_task_context\n",
    "\n",
    "#\n",
    "from common.io import datalake_root\n",
    "\n",
    "ctx = get_task_context(P)"
   ]
  },
  {
   "cell_type": "markdown",
   "id": "de5c35b5",
   "metadata": {
    "papermill": {
     "duration": 0.004647,
     "end_time": "2023-07-20T06:35:48.709907",
     "exception": false,
     "start_time": "2023-07-20T06:35:48.705260",
     "status": "completed"
    },
    "tags": []
   },
   "source": [
    "## Load persisted onnx-model and evaluation data"
   ]
  },
  {
   "cell_type": "code",
   "execution_count": 6,
   "id": "9f27586d",
   "metadata": {
    "execution": {
     "iopub.execute_input": "2023-07-20T06:35:48.720691Z",
     "iopub.status.busy": "2023-07-20T06:35:48.720363Z",
     "iopub.status.idle": "2023-07-20T06:35:48.725470Z",
     "shell.execute_reply": "2023-07-20T06:35:48.724833Z"
    },
    "papermill": {
     "duration": 0.01312,
     "end_time": "2023-07-20T06:35:48.727403",
     "exception": false,
     "start_time": "2023-07-20T06:35:48.714283",
     "status": "completed"
    },
    "tags": []
   },
   "outputs": [],
   "source": [
    "from common.io import read_onnx, get_onnx_inputs, get_onnx_outputs, read_numpy"
   ]
  },
  {
   "cell_type": "code",
   "execution_count": 7,
   "id": "c43283b0",
   "metadata": {
    "execution": {
     "iopub.execute_input": "2023-07-20T06:35:48.738775Z",
     "iopub.status.busy": "2023-07-20T06:35:48.738452Z",
     "iopub.status.idle": "2023-07-20T06:35:48.759759Z",
     "shell.execute_reply": "2023-07-20T06:35:48.757637Z"
    },
    "lines_to_next_cell": 0,
    "papermill": {
     "duration": 0.029751,
     "end_time": "2023-07-20T06:35:48.762025",
     "exception": false,
     "start_time": "2023-07-20T06:35:48.732274",
     "status": "completed"
    },
    "tags": []
   },
   "outputs": [],
   "source": [
    "onnx_inference_session = read_onnx(\n",
    "    datalake_root(ctx)\n",
    "    / \"models\"\n",
    "    / f\"nr_train_images={ctx.parameters['task.nr_train_images']}\"\n",
    "    / \"model.onnx\"\n",
    ")"
   ]
  },
  {
   "cell_type": "markdown",
   "id": "0f9a1fe5",
   "metadata": {
    "papermill": {
     "duration": 0.004521,
     "end_time": "2023-07-20T06:35:48.771175",
     "exception": false,
     "start_time": "2023-07-20T06:35:48.766654",
     "status": "completed"
    },
    "tags": []
   },
   "source": [
    "### Record structure of inputs and outputs for ONNX model\n",
    "\n",
    "(this should likely be done in training notebook)"
   ]
  },
  {
   "cell_type": "code",
   "execution_count": 8,
   "id": "d5e3158c",
   "metadata": {
    "execution": {
     "iopub.execute_input": "2023-07-20T06:35:48.782262Z",
     "iopub.status.busy": "2023-07-20T06:35:48.781936Z",
     "iopub.status.idle": "2023-07-20T06:35:48.790077Z",
     "shell.execute_reply": "2023-07-20T06:35:48.789203Z"
    },
    "papermill": {
     "duration": 0.016334,
     "end_time": "2023-07-20T06:35:48.792327",
     "exception": false,
     "start_time": "2023-07-20T06:35:48.775993",
     "status": "completed"
    },
    "tags": []
   },
   "outputs": [
    {
     "name": "stdout",
     "output_type": "stream",
     "text": [
      "{\n",
      "  \"inputs\": [\n",
      "    {\n",
      "      \"name\": \"float_input_8x8_image\",\n",
      "      \"shape\": [\n",
      "        null,\n",
      "        64\n",
      "      ],\n",
      "      \"type\": \"tensor(float)\"\n",
      "    }\n",
      "  ],\n",
      "  \"outputs\": [\n",
      "    {\n",
      "      \"name\": \"output_label\",\n",
      "      \"shape\": [\n",
      "        null\n",
      "      ],\n",
      "      \"type\": \"tensor(int64)\"\n",
      "    },\n",
      "    {\n",
      "      \"name\": \"output_probability\",\n",
      "      \"shape\": [],\n",
      "      \"type\": \"seq(map(int64,tensor(float)))\"\n",
      "    }\n",
      "  ]\n",
      "}\n"
     ]
    }
   ],
   "source": [
    "import json\n",
    "\n",
    "onnx_io = json.dumps(\n",
    "    {\n",
    "        \"inputs\": get_onnx_inputs(onnx_inference_session),\n",
    "        \"outputs\": get_onnx_outputs(onnx_inference_session),\n",
    "    },\n",
    "    indent=2,\n",
    ")\n",
    "\n",
    "\n",
    "ctx.log_artefact(\"onnx_io_structure.json\", onnx_io)\n",
    "print(onnx_io)"
   ]
  },
  {
   "cell_type": "markdown",
   "id": "68255c37",
   "metadata": {
    "papermill": {
     "duration": 0.004459,
     "end_time": "2023-07-20T06:35:48.801486",
     "exception": false,
     "start_time": "2023-07-20T06:35:48.797027",
     "status": "completed"
    },
    "tags": []
   },
   "source": [
    "### Evaluate model performance on evaluation data set"
   ]
  },
  {
   "cell_type": "code",
   "execution_count": 9,
   "id": "554b0756",
   "metadata": {
    "execution": {
     "iopub.execute_input": "2023-07-20T06:35:48.812730Z",
     "iopub.status.busy": "2023-07-20T06:35:48.812409Z",
     "iopub.status.idle": "2023-07-20T06:35:48.818653Z",
     "shell.execute_reply": "2023-07-20T06:35:48.818016Z"
    },
    "papermill": {
     "duration": 0.014368,
     "end_time": "2023-07-20T06:35:48.820687",
     "exception": false,
     "start_time": "2023-07-20T06:35:48.806319",
     "status": "completed"
    },
    "tags": []
   },
   "outputs": [],
   "source": [
    "# load evaluation data\n",
    "X_test = read_numpy(datalake_root(ctx) / \"test-data\" / \"digits.numpy\")\n",
    "y_test = read_numpy(datalake_root(ctx) / \"test-data\" / \"labels.numpy\")"
   ]
  },
  {
   "cell_type": "code",
   "execution_count": 10,
   "id": "5cd812ee",
   "metadata": {
    "execution": {
     "iopub.execute_input": "2023-07-20T06:35:48.831798Z",
     "iopub.status.busy": "2023-07-20T06:35:48.831426Z",
     "iopub.status.idle": "2023-07-20T06:35:48.845252Z",
     "shell.execute_reply": "2023-07-20T06:35:48.844537Z"
    },
    "papermill": {
     "duration": 0.022204,
     "end_time": "2023-07-20T06:35:48.847588",
     "exception": false,
     "start_time": "2023-07-20T06:35:48.825384",
     "status": "completed"
    },
    "tags": []
   },
   "outputs": [],
   "source": [
    "def get_model_outputs(X, onnx_inference_session):\n",
    "    y_pred_labels, y_pred_map = onnx_inference_session.run(\n",
    "        [\"output_label\", \"output_probability\"],\n",
    "        {\"float_input_8x8_image\": X.astype(np.float32)},\n",
    "    )\n",
    "    y_pred_probs = np.array(\n",
    "        [[probabilities[digit] for digit in range(10)] for probabilities in y_pred_map]\n",
    "    )\n",
    "\n",
    "    assert y_pred_labels.shape == (X.shape[0],)\n",
    "    assert y_pred_probs.shape == (X.shape[0], 10)\n",
    "\n",
    "    return y_pred_labels, y_pred_probs\n",
    "\n",
    "\n",
    "# Note: as shown in the training notebook, the predicted labels and probabilities\n",
    "# computed below need not be compatible.\n",
    "y_pred_labels_test, y_pred_probs_test = get_model_outputs(\n",
    "    X_test, onnx_inference_session\n",
    ")"
   ]
  },
  {
   "cell_type": "markdown",
   "id": "1d2668a7",
   "metadata": {
    "papermill": {
     "duration": 0.013429,
     "end_time": "2023-07-20T06:35:48.866060",
     "exception": false,
     "start_time": "2023-07-20T06:35:48.852631",
     "status": "completed"
    },
    "tags": []
   },
   "source": [
    "### Confusion matrix"
   ]
  },
  {
   "cell_type": "code",
   "execution_count": 11,
   "id": "591a28a5",
   "metadata": {
    "execution": {
     "iopub.execute_input": "2023-07-20T06:35:48.878911Z",
     "iopub.status.busy": "2023-07-20T06:35:48.878581Z",
     "iopub.status.idle": "2023-07-20T06:35:48.883183Z",
     "shell.execute_reply": "2023-07-20T06:35:48.882553Z"
    },
    "papermill": {
     "duration": 0.012608,
     "end_time": "2023-07-20T06:35:48.885006",
     "exception": false,
     "start_time": "2023-07-20T06:35:48.872398",
     "status": "completed"
    },
    "tags": []
   },
   "outputs": [],
   "source": [
    "# TODO"
   ]
  },
  {
   "cell_type": "markdown",
   "id": "eb8f1a39",
   "metadata": {
    "papermill": {
     "duration": 0.004548,
     "end_time": "2023-07-20T06:35:48.894650",
     "exception": false,
     "start_time": "2023-07-20T06:35:48.890102",
     "status": "completed"
    },
    "tags": []
   },
   "source": [
    "### Plot predicted probabilities for each classifier over all evaluation digit images"
   ]
  },
  {
   "cell_type": "code",
   "execution_count": 12,
   "id": "c0f21315",
   "metadata": {
    "execution": {
     "iopub.execute_input": "2023-07-20T06:35:48.905687Z",
     "iopub.status.busy": "2023-07-20T06:35:48.905372Z",
     "iopub.status.idle": "2023-07-20T06:35:52.977822Z",
     "shell.execute_reply": "2023-07-20T06:35:52.974376Z"
    },
    "papermill": {
     "duration": 4.081847,
     "end_time": "2023-07-20T06:35:52.981103",
     "exception": false,
     "start_time": "2023-07-20T06:35:48.899256",
     "status": "completed"
    },
    "tags": []
   },
   "outputs": [
    {
     "data": {
      "image/png": "[encoded data removed]",
      "text/plain": [
       "<Figure size 1600x600 with 10 Axes>"
      ]
     },
     "metadata": {},
     "output_type": "display_data"
    }
   ],
   "source": [
    "def plot_per_digit_probabilities(y_pred_probs):\n",
    "    fig, axs = plt.subplots(nrows=2, ncols=5, figsize=(16, 6))\n",
    "\n",
    "    for (r, c), digit, ax in zip(\n",
    "        it.product(range(2), range(5)), range(10), axs.reshape(-1)\n",
    "    ):\n",
    "        ax.hist(y_pred_probs_test[:, digit], bins=20)\n",
    "\n",
    "        ax.set_title(f\"Digit {digit}\")\n",
    "        if r == 1 and c == 2:\n",
    "            ax.set_xlabel(\"probability\", fontsize=16)\n",
    "\n",
    "        if c == 0:\n",
    "            ax.set_ylabel(\"counts\", fontsize=16)\n",
    "        ax.set_yscale(\"log\")\n",
    "\n",
    "    fig.tight_layout()\n",
    "    fig.suptitle(\n",
    "        f\"Distributions of prediction probabilities for each digit \"\n",
    "        f\"(on evaluation data, n={y_pred_probs.shape[0]})\",\n",
    "        fontsize=20,\n",
    "    )\n",
    "    fig.tight_layout()\n",
    "    fig.show()\n",
    "\n",
    "    return fig\n",
    "\n",
    "\n",
    "fig = plot_per_digit_probabilities(y_pred_probs_test)"
   ]
  },
  {
   "cell_type": "markdown",
   "id": "3a6b54f2",
   "metadata": {
    "papermill": {
     "duration": 0.005609,
     "end_time": "2023-07-20T06:35:52.992417",
     "exception": false,
     "start_time": "2023-07-20T06:35:52.986808",
     "status": "completed"
    },
    "tags": []
   },
   "source": [
    "From the above distributions we see that most digits have clear separation between\n",
    "high and lower probabilities. Morover, in each case there is roughly an order of\n",
    "magnitude more of digits with low probabilities. This is compatible with digits\n",
    "being roughly evenly distributed in the data."
   ]
  },
  {
   "cell_type": "code",
   "execution_count": 13,
   "id": "ab831ada",
   "metadata": {
    "execution": {
     "iopub.execute_input": "2023-07-20T06:35:53.006451Z",
     "iopub.status.busy": "2023-07-20T06:35:53.006118Z",
     "iopub.status.idle": "2023-07-20T06:35:53.725734Z",
     "shell.execute_reply": "2023-07-20T06:35:53.724993Z"
    },
    "papermill": {
     "duration": 0.730203,
     "end_time": "2023-07-20T06:35:53.728122",
     "exception": false,
     "start_time": "2023-07-20T06:35:52.997919",
     "status": "completed"
    },
    "tags": []
   },
   "outputs": [],
   "source": [
    "ctx.log_figure(\"per-digit-probabilities.png\", fig)"
   ]
  },
  {
   "cell_type": "markdown",
   "id": "7fedc3df",
   "metadata": {
    "papermill": {
     "duration": 0.005346,
     "end_time": "2023-07-20T06:35:53.739312",
     "exception": false,
     "start_time": "2023-07-20T06:35:53.733966",
     "status": "completed"
    },
    "tags": []
   },
   "source": [
    "### Plot ROC curves for individual one-vs-rest classifiers"
   ]
  },
  {
   "cell_type": "code",
   "execution_count": 14,
   "id": "c8a0d47d",
   "metadata": {
    "execution": {
     "iopub.execute_input": "2023-07-20T06:35:53.752048Z",
     "iopub.status.busy": "2023-07-20T06:35:53.751621Z",
     "iopub.status.idle": "2023-07-20T06:35:54.081713Z",
     "shell.execute_reply": "2023-07-20T06:35:54.080971Z"
    },
    "papermill": {
     "duration": 0.338738,
     "end_time": "2023-07-20T06:35:54.083670",
     "exception": false,
     "start_time": "2023-07-20T06:35:53.744932",
     "status": "completed"
    },
    "tags": []
   },
   "outputs": [],
   "source": [
    "from sklearn import metrics"
   ]
  },
  {
   "cell_type": "code",
   "execution_count": 15,
   "id": "957e385a",
   "metadata": {
    "execution": {
     "iopub.execute_input": "2023-07-20T06:35:54.096785Z",
     "iopub.status.busy": "2023-07-20T06:35:54.096071Z",
     "iopub.status.idle": "2023-07-20T06:35:56.007684Z",
     "shell.execute_reply": "2023-07-20T06:35:56.006760Z"
    },
    "papermill": {
     "duration": 1.920212,
     "end_time": "2023-07-20T06:35:56.009712",
     "exception": false,
     "start_time": "2023-07-20T06:35:54.089500",
     "status": "completed"
    },
    "tags": []
   },
   "outputs": [
    {
     "data": {
      "image/png": "[encoded data removed]",
      "text/plain": [
       "<Figure size 1600x800 with 10 Axes>"
      ]
     },
     "metadata": {},
     "output_type": "display_data"
    }
   ],
   "source": [
    "def plot_roc_curves(y, y_pred_probs):\n",
    "    # based on example code\n",
    "    # https://scikit-learn.org/stable/auto_examples/model_selection/plot_roc.html\n",
    "\n",
    "    fig, axs = plt.subplots(nrows=2, ncols=5, figsize=(16, 8))\n",
    "\n",
    "    roc_auc_dict = {}\n",
    "\n",
    "    for (r, c), digit, ax in zip(\n",
    "        it.product(range(2), range(5)), range(10), axs.reshape(-1)\n",
    "    ):\n",
    "        fpr, tpr, _ = metrics.roc_curve(y == digit, y_pred_probs[:, digit])\n",
    "        auc = metrics.auc(fpr, tpr)\n",
    "        roc_auc_dict[str(digit)] = auc\n",
    "\n",
    "        ax.plot(fpr, tpr, label=f\"ROC AUC={round(auc, 3)}\")\n",
    "\n",
    "        ax.set_title(f\"\\nDigit {digit}\", fontsize=16)\n",
    "        if r == 1:\n",
    "            ax.set_xlabel(\"FPR\", fontsize=18)\n",
    "\n",
    "        if c == 0:\n",
    "            ax.set_ylabel(\"TPR\", fontsize=18)\n",
    "\n",
    "        ax.set_xlim([-0.05, 1.05])\n",
    "        ax.set_ylim([-0.05, 1.05])\n",
    "        ax.legend(loc=\"lower right\", frameon=False, fontsize=14)\n",
    "\n",
    "    fig.tight_layout()\n",
    "    fig.suptitle(\n",
    "        f\"ROC plots for one-vs-rest performances \"\n",
    "        f\"(on evaluation data, n={y_pred_probs_test.shape[1]}\",\n",
    "        fontsize=22,\n",
    "    )\n",
    "    fig.tight_layout()\n",
    "    fig.show()\n",
    "\n",
    "    return roc_auc_dict, fig\n",
    "\n",
    "\n",
    "roc_auc_dict, fig = plot_roc_curves(y_test, y_pred_probs_test)"
   ]
  },
  {
   "cell_type": "code",
   "execution_count": 16,
   "id": "f06df498",
   "metadata": {
    "execution": {
     "iopub.execute_input": "2023-07-20T06:35:56.025884Z",
     "iopub.status.busy": "2023-07-20T06:35:56.024467Z",
     "iopub.status.idle": "2023-07-20T06:35:56.357558Z",
     "shell.execute_reply": "2023-07-20T06:35:56.356816Z"
    },
    "papermill": {
     "duration": 0.343141,
     "end_time": "2023-07-20T06:35:56.359614",
     "exception": false,
     "start_time": "2023-07-20T06:35:56.016473",
     "status": "completed"
    },
    "tags": []
   },
   "outputs": [],
   "source": [
    "ctx.log_figure(\"per-digit-roc-curves.png\", fig)"
   ]
  },
  {
   "cell_type": "code",
   "execution_count": 17,
   "id": "b0cd0ad6",
   "metadata": {
    "execution": {
     "iopub.execute_input": "2023-07-20T06:35:56.374441Z",
     "iopub.status.busy": "2023-07-20T06:35:56.373776Z",
     "iopub.status.idle": "2023-07-20T06:35:56.379742Z",
     "shell.execute_reply": "2023-07-20T06:35:56.377985Z"
    },
    "papermill": {
     "duration": 0.015375,
     "end_time": "2023-07-20T06:35:56.381346",
     "exception": false,
     "start_time": "2023-07-20T06:35:56.365971",
     "status": "completed"
    },
    "tags": []
   },
   "outputs": [
    {
     "data": {
      "text/plain": [
       "{'0': 1.0,\n",
       " '1': 0.9988378631677601,\n",
       " '2': 1.0,\n",
       " '3': 0.9998125585754452,\n",
       " '4': 0.9995427526291724,\n",
       " '5': 0.999025304592315,\n",
       " '6': 0.999961896052431,\n",
       " '7': 0.9998856881572931,\n",
       " '8': 0.9935372005044136,\n",
       " '9': 0.9993903368388964}"
      ]
     },
     "execution_count": 17,
     "metadata": {},
     "output_type": "execute_result"
    }
   ],
   "source": [
    "roc_auc_dict"
   ]
  },
  {
   "cell_type": "code",
   "execution_count": 18,
   "id": "e1e3338f",
   "metadata": {
    "execution": {
     "iopub.execute_input": "2023-07-20T06:35:56.396425Z",
     "iopub.status.busy": "2023-07-20T06:35:56.395735Z",
     "iopub.status.idle": "2023-07-20T06:35:56.402580Z",
     "shell.execute_reply": "2023-07-20T06:35:56.401950Z"
    },
    "papermill": {
     "duration": 0.016135,
     "end_time": "2023-07-20T06:35:56.404263",
     "exception": false,
     "start_time": "2023-07-20T06:35:56.388128",
     "status": "completed"
    },
    "tags": []
   },
   "outputs": [
    {
     "name": "stdout",
     "output_type": "stream",
     "text": [
      " - Logging roc_auc_per_digit (json) : {'0': 1.0, '1': 0.9988378631677601, '2': 1.0, '3': 0.9998125585754452, '4': 0.9995427526291724, '5': 0.999025304592315, '6': 0.999961896052431, '7': 0.9998856881572931, '8': 0.9935372005044136, '9': 0.9993903368388964}\n"
     ]
    }
   ],
   "source": [
    "ctx.log_value(\"roc_auc_per_digit\", roc_auc_dict)"
   ]
  },
  {
   "cell_type": "markdown",
   "id": "a65087b3",
   "metadata": {
    "papermill": {
     "duration": 0.006681,
     "end_time": "2023-07-20T06:35:56.417518",
     "exception": false,
     "start_time": "2023-07-20T06:35:56.410837",
     "status": "completed"
    },
    "tags": []
   },
   "source": [
    "### Compute and log mean ROC AUC score averaged over all digits"
   ]
  },
  {
   "cell_type": "code",
   "execution_count": 19,
   "id": "211f804d",
   "metadata": {
    "execution": {
     "iopub.execute_input": "2023-07-20T06:35:56.432864Z",
     "iopub.status.busy": "2023-07-20T06:35:56.432085Z",
     "iopub.status.idle": "2023-07-20T06:35:56.444421Z",
     "shell.execute_reply": "2023-07-20T06:35:56.443534Z"
    },
    "papermill": {
     "duration": 0.021822,
     "end_time": "2023-07-20T06:35:56.445927",
     "exception": false,
     "start_time": "2023-07-20T06:35:56.424105",
     "status": "completed"
    },
    "tags": []
   },
   "outputs": [
    {
     "name": "stdout",
     "output_type": "stream",
     "text": [
      " - Logging roc_auc_class_mean (float) : 0.9989993600517726\n"
     ]
    }
   ],
   "source": [
    "roc_auc_macro = np.mean(list(roc_auc_dict.values()))\n",
    "\n",
    "ctx.log_float(\"roc_auc_class_mean\", roc_auc_macro)\n",
    "\n",
    "# assert that the same value can be computed directly using sklearn\n",
    "assert roc_auc_macro == metrics.roc_auc_score(\n",
    "    y_test, y_pred_probs_test, average=\"macro\", multi_class=\"ovr\"\n",
    ")"
   ]
  },
  {
   "cell_type": "code",
   "execution_count": 20,
   "id": "a41a60b2",
   "metadata": {
    "execution": {
     "iopub.execute_input": "2023-07-20T06:35:56.461576Z",
     "iopub.status.busy": "2023-07-20T06:35:56.460771Z",
     "iopub.status.idle": "2023-07-20T06:35:56.464878Z",
     "shell.execute_reply": "2023-07-20T06:35:56.464255Z"
    },
    "lines_to_next_cell": 0,
    "papermill": {
     "duration": 0.013854,
     "end_time": "2023-07-20T06:35:56.466539",
     "exception": false,
     "start_time": "2023-07-20T06:35:56.452685",
     "status": "completed"
    },
    "tags": []
   },
   "outputs": [],
   "source": [
    "# ---"
   ]
  },
  {
   "cell_type": "code",
   "execution_count": null,
   "id": "5478f8b7",
   "metadata": {
    "papermill": {
     "duration": 0.007088,
     "end_time": "2023-07-20T06:35:56.480428",
     "exception": false,
     "start_time": "2023-07-20T06:35:56.473340",
     "status": "completed"
    },
    "tags": []
   },
   "outputs": [],
   "source": []
  }
 ],
 "metadata": {
  "jupytext": {
   "cell_metadata_filter": "tags,-all",
   "main_language": "python",
   "notebook_metadata_filter": "-all"
  },
  "language_info": {
   "codemirror_mode": {
    "name": "ipython",
    "version": 3
   },
   "file_extension": ".py",
   "mimetype": "text/x-python",
   "name": "python",
   "nbconvert_exporter": "python",
   "pygments_lexer": "ipython3",
   "version": "3.8.10"
  },
  "papermill": {
   "default_parameters": {},
   "duration": 12.437129,
   "end_time": "2023-07-20T06:35:58.521493",
   "environment_variables": {},
   "exception": null,
   "input_path": "/tmp/temp-notebook-ooz31p9b.ipynb",
   "output_path": "/tmp/temp-notebook-ooz31p9b.ipynb",
   "parameters": {
    "P": {
     "_parameters_actor_name": "parameter_for_task_0xfe6a940fe6c39c8f",
     "task.nr_train_images": 800
    }
   },
   "start_time": "2023-07-20T06:35:46.084364",
   "version": "2.4.0"
  }
 },
 "nbformat": 4,
 "nbformat_minor": 5
}