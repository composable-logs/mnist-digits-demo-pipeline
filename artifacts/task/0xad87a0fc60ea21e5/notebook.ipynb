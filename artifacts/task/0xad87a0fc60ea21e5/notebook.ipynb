{
 "cells": [
  {
   "cell_type": "markdown",
   "id": "c6c5b0f7",
   "metadata": {
    "papermill": {
     "duration": 0.058008,
     "end_time": "2023-07-26T06:35:34.513016",
     "exception": false,
     "start_time": "2023-07-26T06:35:34.455008",
     "status": "completed"
    },
    "tags": []
   },
   "source": [
    "# Benchmark model\n",
    "\n",
    "The purpose of this notebook is to benchmark persisted onnx-model (trained in the\n",
    "previous step) against evaluation set."
   ]
  },
  {
   "cell_type": "markdown",
   "id": "a03bdb26",
   "metadata": {
    "papermill": {
     "duration": 0.007429,
     "end_time": "2023-07-26T06:35:34.537679",
     "exception": false,
     "start_time": "2023-07-26T06:35:34.530250",
     "status": "completed"
    },
    "tags": []
   },
   "source": [
    "### Determine run parameters"
   ]
  },
  {
   "cell_type": "code",
   "execution_count": 1,
   "id": "0a8e8ea0",
   "metadata": {
    "execution": {
     "iopub.execute_input": "2023-07-26T06:35:34.570888Z",
     "iopub.status.busy": "2023-07-26T06:35:34.569573Z",
     "iopub.status.idle": "2023-07-26T06:35:34.591263Z",
     "shell.execute_reply": "2023-07-26T06:35:34.589986Z"
    },
    "lines_to_next_cell": 0,
    "papermill": {
     "duration": 0.03993,
     "end_time": "2023-07-26T06:35:34.593568",
     "exception": false,
     "start_time": "2023-07-26T06:35:34.553638",
     "status": "completed"
    },
    "tags": []
   },
   "outputs": [],
   "source": [
    "# ----------------- Parameters for interactive development --------------\n",
    "P = {\n",
    "    \"workflow.data_lake_root\": \"/pipeline-outputs/data-lake\",\n",
    "    \"task.nr_train_images\": 600,\n",
    "}"
   ]
  },
  {
   "cell_type": "code",
   "execution_count": 2,
   "id": "64697652",
   "metadata": {
    "execution": {
     "iopub.execute_input": "2023-07-26T06:35:34.614016Z",
     "iopub.status.busy": "2023-07-26T06:35:34.613706Z",
     "iopub.status.idle": "2023-07-26T06:35:34.623477Z",
     "shell.execute_reply": "2023-07-26T06:35:34.622677Z"
    },
    "lines_to_next_cell": 0,
    "papermill": {
     "duration": 0.024858,
     "end_time": "2023-07-26T06:35:34.627462",
     "exception": false,
     "start_time": "2023-07-26T06:35:34.602604",
     "status": "completed"
    },
    "tags": [
     "parameters"
    ]
   },
   "outputs": [],
   "source": [
    "# - During automated runs parameters will be injected in the below cell -"
   ]
  },
  {
   "cell_type": "code",
   "execution_count": 3,
   "id": "12f400e7",
   "metadata": {
    "execution": {
     "iopub.execute_input": "2023-07-26T06:35:34.659167Z",
     "iopub.status.busy": "2023-07-26T06:35:34.658822Z",
     "iopub.status.idle": "2023-07-26T06:35:34.667339Z",
     "shell.execute_reply": "2023-07-26T06:35:34.666591Z"
    },
    "papermill": {
     "duration": 0.030149,
     "end_time": "2023-07-26T06:35:34.669767",
     "exception": false,
     "start_time": "2023-07-26T06:35:34.639618",
     "status": "completed"
    },
    "tags": [
     "injected-parameters"
    ]
   },
   "outputs": [],
   "source": [
    "# Parameters\n",
    "P = {\n",
    "    \"task.nr_train_images\": 800,\n",
    "    \"_parameters_actor_name\": \"parameter_for_task_0xad87a0fc60ea21e5\",\n",
    "}\n"
   ]
  },
  {
   "cell_type": "code",
   "execution_count": 4,
   "id": "8c9b9222",
   "metadata": {
    "execution": {
     "iopub.execute_input": "2023-07-26T06:35:34.693831Z",
     "iopub.status.busy": "2023-07-26T06:35:34.693518Z",
     "iopub.status.idle": "2023-07-26T06:35:34.715441Z",
     "shell.execute_reply": "2023-07-26T06:35:34.714705Z"
    },
    "lines_to_next_cell": 0,
    "papermill": {
     "duration": 0.038638,
     "end_time": "2023-07-26T06:35:34.719530",
     "exception": false,
     "start_time": "2023-07-26T06:35:34.680892",
     "status": "completed"
    },
    "tags": []
   },
   "outputs": [],
   "source": [
    "# -----------------------------------------------------------------------"
   ]
  },
  {
   "cell_type": "markdown",
   "id": "7fc16787",
   "metadata": {
    "papermill": {
     "duration": 0.009045,
     "end_time": "2023-07-26T06:35:34.740369",
     "exception": false,
     "start_time": "2023-07-26T06:35:34.731324",
     "status": "completed"
    },
    "tags": []
   },
   "source": [
    "---"
   ]
  },
  {
   "cell_type": "markdown",
   "id": "bb72627e",
   "metadata": {
    "lines_to_next_cell": 2,
    "papermill": {
     "duration": 0.021197,
     "end_time": "2023-07-26T06:35:34.770691",
     "exception": false,
     "start_time": "2023-07-26T06:35:34.749494",
     "status": "completed"
    },
    "tags": []
   },
   "source": [
    "### Notebook code"
   ]
  },
  {
   "cell_type": "code",
   "execution_count": 5,
   "id": "516cd31e",
   "metadata": {
    "execution": {
     "iopub.execute_input": "2023-07-26T06:35:34.792487Z",
     "iopub.status.busy": "2023-07-26T06:35:34.792169Z",
     "iopub.status.idle": "2023-07-26T06:35:36.024868Z",
     "shell.execute_reply": "2023-07-26T06:35:36.019756Z"
    },
    "papermill": {
     "duration": 1.251285,
     "end_time": "2023-07-26T06:35:36.027544",
     "exception": false,
     "start_time": "2023-07-26T06:35:34.776259",
     "status": "completed"
    },
    "tags": []
   },
   "outputs": [
    {
     "name": "stderr",
     "output_type": "stream",
     "text": [
      "2023-07-26 06:35:35,920\tINFO worker.py:1364 -- Connecting to existing Ray cluster at address: 172.17.0.2:62462...\n"
     ]
    },
    {
     "name": "stderr",
     "output_type": "stream",
     "text": [
      "2023-07-26 06:35:35,932\tINFO worker.py:1544 -- Connected to Ray cluster. View the dashboard at \u001b[1m\u001b[32mhttp://127.0.0.1:8265 \u001b[39m\u001b[22m\n"
     ]
    },
    {
     "name": "stderr",
     "output_type": "stream",
     "text": [
      "/home/host_user/.local/lib/python3.8/site-packages/ray/runtime_context.py:27: RayDeprecationWarning: This API is deprecated and may be removed in future Ray releases. You could suppress this warning by setting env variable PYTHONWARNINGS=\"ignore::DeprecationWarning\"\n",
      "Use get_job_id() instead\n",
      "  \"job_id\": self.job_id,\n",
      "/home/host_user/.local/lib/python3.8/site-packages/ray/runtime_context.py:28: RayDeprecationWarning: This API is deprecated and may be removed in future Ray releases. You could suppress this warning by setting env variable PYTHONWARNINGS=\"ignore::DeprecationWarning\"\n",
      "Use get_node_id() instead\n",
      "  \"node_id\": self.node_id,\n"
     ]
    }
   ],
   "source": [
    "import itertools as it\n",
    "\n",
    "#\n",
    "import numpy as np\n",
    "import matplotlib.pyplot as plt\n",
    "\n",
    "#\n",
    "from composable_logs.tasks.task_opentelemetry_logging import get_task_context\n",
    "\n",
    "#\n",
    "from common.io import datalake_root\n",
    "\n",
    "ctx = get_task_context(P)"
   ]
  },
  {
   "cell_type": "markdown",
   "id": "dbda9e6b",
   "metadata": {
    "papermill": {
     "duration": 0.005364,
     "end_time": "2023-07-26T06:35:36.038428",
     "exception": false,
     "start_time": "2023-07-26T06:35:36.033064",
     "status": "completed"
    },
    "tags": []
   },
   "source": [
    "## Load persisted onnx-model and evaluation data"
   ]
  },
  {
   "cell_type": "code",
   "execution_count": 6,
   "id": "36849475",
   "metadata": {
    "execution": {
     "iopub.execute_input": "2023-07-26T06:35:36.050753Z",
     "iopub.status.busy": "2023-07-26T06:35:36.050394Z",
     "iopub.status.idle": "2023-07-26T06:35:36.055842Z",
     "shell.execute_reply": "2023-07-26T06:35:36.055156Z"
    },
    "papermill": {
     "duration": 0.014393,
     "end_time": "2023-07-26T06:35:36.057942",
     "exception": false,
     "start_time": "2023-07-26T06:35:36.043549",
     "status": "completed"
    },
    "tags": []
   },
   "outputs": [],
   "source": [
    "from common.io import read_onnx, get_onnx_inputs, get_onnx_outputs, read_numpy"
   ]
  },
  {
   "cell_type": "code",
   "execution_count": 7,
   "id": "0167fa5f",
   "metadata": {
    "execution": {
     "iopub.execute_input": "2023-07-26T06:35:36.070737Z",
     "iopub.status.busy": "2023-07-26T06:35:36.070382Z",
     "iopub.status.idle": "2023-07-26T06:35:36.081062Z",
     "shell.execute_reply": "2023-07-26T06:35:36.080308Z"
    },
    "lines_to_next_cell": 0,
    "papermill": {
     "duration": 0.019691,
     "end_time": "2023-07-26T06:35:36.083262",
     "exception": false,
     "start_time": "2023-07-26T06:35:36.063571",
     "status": "completed"
    },
    "tags": []
   },
   "outputs": [],
   "source": [
    "onnx_inference_session = read_onnx(\n",
    "    datalake_root(ctx)\n",
    "    / \"models\"\n",
    "    / f\"nr_train_images={ctx.parameters['task.nr_train_images']}\"\n",
    "    / \"model.onnx\"\n",
    ")"
   ]
  },
  {
   "cell_type": "markdown",
   "id": "c48fb954",
   "metadata": {
    "papermill": {
     "duration": 0.005671,
     "end_time": "2023-07-26T06:35:36.094565",
     "exception": false,
     "start_time": "2023-07-26T06:35:36.088894",
     "status": "completed"
    },
    "tags": []
   },
   "source": [
    "### Record structure of inputs and outputs for ONNX model\n",
    "\n",
    "(this should likely be done in training notebook)"
   ]
  },
  {
   "cell_type": "code",
   "execution_count": 8,
   "id": "da89b541",
   "metadata": {
    "execution": {
     "iopub.execute_input": "2023-07-26T06:35:36.106853Z",
     "iopub.status.busy": "2023-07-26T06:35:36.106504Z",
     "iopub.status.idle": "2023-07-26T06:35:36.122084Z",
     "shell.execute_reply": "2023-07-26T06:35:36.121320Z"
    },
    "papermill": {
     "duration": 0.024439,
     "end_time": "2023-07-26T06:35:36.124267",
     "exception": false,
     "start_time": "2023-07-26T06:35:36.099828",
     "status": "completed"
    },
    "tags": []
   },
   "outputs": [
    {
     "name": "stdout",
     "output_type": "stream",
     "text": [
      "{\n",
      "  \"inputs\": [\n",
      "    {\n",
      "      \"name\": \"float_input_8x8_image\",\n",
      "      \"shape\": [\n",
      "        null,\n",
      "        64\n",
      "      ],\n",
      "      \"type\": \"tensor(float)\"\n",
      "    }\n",
      "  ],\n",
      "  \"outputs\": [\n",
      "    {\n",
      "      \"name\": \"output_label\",\n",
      "      \"shape\": [\n",
      "        null\n",
      "      ],\n",
      "      \"type\": \"tensor(int64)\"\n",
      "    },\n",
      "    {\n",
      "      \"name\": \"output_probability\",\n",
      "      \"shape\": [],\n",
      "      \"type\": \"seq(map(int64,tensor(float)))\"\n",
      "    }\n",
      "  ]\n",
      "}\n"
     ]
    }
   ],
   "source": [
    "import json\n",
    "\n",
    "onnx_io = json.dumps(\n",
    "    {\n",
    "        \"inputs\": get_onnx_inputs(onnx_inference_session),\n",
    "        \"outputs\": get_onnx_outputs(onnx_inference_session),\n",
    "    },\n",
    "    indent=2,\n",
    ")\n",
    "\n",
    "\n",
    "ctx.log_artefact(\"onnx_io_structure.json\", onnx_io)\n",
    "print(onnx_io)"
   ]
  },
  {
   "cell_type": "markdown",
   "id": "0747ca42",
   "metadata": {
    "papermill": {
     "duration": 0.006049,
     "end_time": "2023-07-26T06:35:36.135795",
     "exception": false,
     "start_time": "2023-07-26T06:35:36.129746",
     "status": "completed"
    },
    "tags": []
   },
   "source": [
    "### Evaluate model performance on evaluation data set"
   ]
  },
  {
   "cell_type": "code",
   "execution_count": 9,
   "id": "db96d432",
   "metadata": {
    "execution": {
     "iopub.execute_input": "2023-07-26T06:35:36.153794Z",
     "iopub.status.busy": "2023-07-26T06:35:36.153457Z",
     "iopub.status.idle": "2023-07-26T06:35:36.161160Z",
     "shell.execute_reply": "2023-07-26T06:35:36.160438Z"
    },
    "papermill": {
     "duration": 0.022287,
     "end_time": "2023-07-26T06:35:36.163486",
     "exception": false,
     "start_time": "2023-07-26T06:35:36.141199",
     "status": "completed"
    },
    "tags": []
   },
   "outputs": [],
   "source": [
    "# load evaluation data\n",
    "X_test = read_numpy(datalake_root(ctx) / \"test-data\" / \"digits.numpy\")\n",
    "y_test = read_numpy(datalake_root(ctx) / \"test-data\" / \"labels.numpy\")"
   ]
  },
  {
   "cell_type": "code",
   "execution_count": 10,
   "id": "48e9ee8b",
   "metadata": {
    "execution": {
     "iopub.execute_input": "2023-07-26T06:35:36.177536Z",
     "iopub.status.busy": "2023-07-26T06:35:36.177188Z",
     "iopub.status.idle": "2023-07-26T06:35:36.196847Z",
     "shell.execute_reply": "2023-07-26T06:35:36.196105Z"
    },
    "papermill": {
     "duration": 0.030317,
     "end_time": "2023-07-26T06:35:36.199271",
     "exception": false,
     "start_time": "2023-07-26T06:35:36.168954",
     "status": "completed"
    },
    "tags": []
   },
   "outputs": [],
   "source": [
    "def get_model_outputs(X, onnx_inference_session):\n",
    "    y_pred_labels, y_pred_map = onnx_inference_session.run(\n",
    "        [\"output_label\", \"output_probability\"],\n",
    "        {\"float_input_8x8_image\": X.astype(np.float32)},\n",
    "    )\n",
    "    y_pred_probs = np.array(\n",
    "        [[probabilities[digit] for digit in range(10)] for probabilities in y_pred_map]\n",
    "    )\n",
    "\n",
    "    assert y_pred_labels.shape == (X.shape[0],)\n",
    "    assert y_pred_probs.shape == (X.shape[0], 10)\n",
    "\n",
    "    return y_pred_labels, y_pred_probs\n",
    "\n",
    "\n",
    "# Note: as shown in the training notebook, the predicted labels and probabilities\n",
    "# computed below need not be compatible.\n",
    "y_pred_labels_test, y_pred_probs_test = get_model_outputs(\n",
    "    X_test, onnx_inference_session\n",
    ")"
   ]
  },
  {
   "cell_type": "markdown",
   "id": "c11fccdb",
   "metadata": {
    "papermill": {
     "duration": 0.005336,
     "end_time": "2023-07-26T06:35:36.210031",
     "exception": false,
     "start_time": "2023-07-26T06:35:36.204695",
     "status": "completed"
    },
    "tags": []
   },
   "source": [
    "### Confusion matrix"
   ]
  },
  {
   "cell_type": "code",
   "execution_count": 11,
   "id": "6878e9e4",
   "metadata": {
    "execution": {
     "iopub.execute_input": "2023-07-26T06:35:36.229353Z",
     "iopub.status.busy": "2023-07-26T06:35:36.227854Z",
     "iopub.status.idle": "2023-07-26T06:35:36.234078Z",
     "shell.execute_reply": "2023-07-26T06:35:36.233430Z"
    },
    "papermill": {
     "duration": 0.020702,
     "end_time": "2023-07-26T06:35:36.236142",
     "exception": false,
     "start_time": "2023-07-26T06:35:36.215440",
     "status": "completed"
    },
    "tags": []
   },
   "outputs": [],
   "source": [
    "# TODO"
   ]
  },
  {
   "cell_type": "markdown",
   "id": "334ad5e2",
   "metadata": {
    "papermill": {
     "duration": 0.007525,
     "end_time": "2023-07-26T06:35:36.254121",
     "exception": false,
     "start_time": "2023-07-26T06:35:36.246596",
     "status": "completed"
    },
    "tags": []
   },
   "source": [
    "### Plot predicted probabilities for each classifier over all evaluation digit images"
   ]
  },
  {
   "cell_type": "code",
   "execution_count": 12,
   "id": "2bb0bcea",
   "metadata": {
    "execution": {
     "iopub.execute_input": "2023-07-26T06:35:36.268064Z",
     "iopub.status.busy": "2023-07-26T06:35:36.267735Z",
     "iopub.status.idle": "2023-07-26T06:35:41.045606Z",
     "shell.execute_reply": "2023-07-26T06:35:41.044851Z"
    },
    "papermill": {
     "duration": 4.790539,
     "end_time": "2023-07-26T06:35:41.050292",
     "exception": false,
     "start_time": "2023-07-26T06:35:36.259753",
     "status": "completed"
    },
    "tags": []
   },
   "outputs": [
    {
     "data": {
      "image/png": "[encoded data removed]",
      "text/plain": [
       "<Figure size 1600x600 with 10 Axes>"
      ]
     },
     "metadata": {},
     "output_type": "display_data"
    }
   ],
   "source": [
    "def plot_per_digit_probabilities(y_pred_probs):\n",
    "    fig, axs = plt.subplots(nrows=2, ncols=5, figsize=(16, 6))\n",
    "\n",
    "    for (r, c), digit, ax in zip(\n",
    "        it.product(range(2), range(5)), range(10), axs.reshape(-1)\n",
    "    ):\n",
    "        ax.hist(y_pred_probs_test[:, digit], bins=20)\n",
    "\n",
    "        ax.set_title(f\"Digit {digit}\")\n",
    "        if r == 1 and c == 2:\n",
    "            ax.set_xlabel(\"probability\", fontsize=16)\n",
    "\n",
    "        if c == 0:\n",
    "            ax.set_ylabel(\"counts\", fontsize=16)\n",
    "        ax.set_yscale(\"log\")\n",
    "\n",
    "    fig.tight_layout()\n",
    "    fig.suptitle(\n",
    "        f\"Distributions of prediction probabilities for each digit \"\n",
    "        f\"(on evaluation data, n={y_pred_probs.shape[0]})\",\n",
    "        fontsize=20,\n",
    "    )\n",
    "    fig.tight_layout()\n",
    "    fig.show()\n",
    "\n",
    "    return fig\n",
    "\n",
    "\n",
    "fig = plot_per_digit_probabilities(y_pred_probs_test)"
   ]
  },
  {
   "cell_type": "markdown",
   "id": "c27a975f",
   "metadata": {
    "papermill": {
     "duration": 0.006355,
     "end_time": "2023-07-26T06:35:41.063397",
     "exception": false,
     "start_time": "2023-07-26T06:35:41.057042",
     "status": "completed"
    },
    "tags": []
   },
   "source": [
    "From the above distributions we see that most digits have clear separation between\n",
    "high and lower probabilities. Morover, in each case there is roughly an order of\n",
    "magnitude more of digits with low probabilities. This is compatible with digits\n",
    "being roughly evenly distributed in the data."
   ]
  },
  {
   "cell_type": "code",
   "execution_count": 13,
   "id": "94e3a9f7",
   "metadata": {
    "execution": {
     "iopub.execute_input": "2023-07-26T06:35:41.078882Z",
     "iopub.status.busy": "2023-07-26T06:35:41.078506Z",
     "iopub.status.idle": "2023-07-26T06:35:41.873546Z",
     "shell.execute_reply": "2023-07-26T06:35:41.872714Z"
    },
    "papermill": {
     "duration": 0.808288,
     "end_time": "2023-07-26T06:35:41.878491",
     "exception": false,
     "start_time": "2023-07-26T06:35:41.070203",
     "status": "completed"
    },
    "tags": []
   },
   "outputs": [],
   "source": [
    "ctx.log_figure(\"per-digit-probabilities.png\", fig)"
   ]
  },
  {
   "cell_type": "markdown",
   "id": "70ec1ade",
   "metadata": {
    "papermill": {
     "duration": 0.008312,
     "end_time": "2023-07-26T06:35:41.893749",
     "exception": false,
     "start_time": "2023-07-26T06:35:41.885437",
     "status": "completed"
    },
    "tags": []
   },
   "source": [
    "### Plot ROC curves for individual one-vs-rest classifiers"
   ]
  },
  {
   "cell_type": "code",
   "execution_count": 14,
   "id": "3733170e",
   "metadata": {
    "execution": {
     "iopub.execute_input": "2023-07-26T06:35:41.911807Z",
     "iopub.status.busy": "2023-07-26T06:35:41.911478Z",
     "iopub.status.idle": "2023-07-26T06:35:42.290068Z",
     "shell.execute_reply": "2023-07-26T06:35:42.289290Z"
    },
    "papermill": {
     "duration": 0.392727,
     "end_time": "2023-07-26T06:35:42.293686",
     "exception": false,
     "start_time": "2023-07-26T06:35:41.900959",
     "status": "completed"
    },
    "tags": []
   },
   "outputs": [],
   "source": [
    "from sklearn import metrics"
   ]
  },
  {
   "cell_type": "code",
   "execution_count": 15,
   "id": "57095b7c",
   "metadata": {
    "execution": {
     "iopub.execute_input": "2023-07-26T06:35:42.310311Z",
     "iopub.status.busy": "2023-07-26T06:35:42.309975Z",
     "iopub.status.idle": "2023-07-26T06:35:44.562659Z",
     "shell.execute_reply": "2023-07-26T06:35:44.561147Z"
    },
    "papermill": {
     "duration": 2.263922,
     "end_time": "2023-07-26T06:35:44.565933",
     "exception": false,
     "start_time": "2023-07-26T06:35:42.302011",
     "status": "completed"
    },
    "tags": []
   },
   "outputs": [
    {
     "data": {
      "image/png": "[encoded data removed]",
      "text/plain": [
       "<Figure size 1600x800 with 10 Axes>"
      ]
     },
     "metadata": {},
     "output_type": "display_data"
    }
   ],
   "source": [
    "def plot_roc_curves(y, y_pred_probs):\n",
    "    # based on example code\n",
    "    # https://scikit-learn.org/stable/auto_examples/model_selection/plot_roc.html\n",
    "\n",
    "    fig, axs = plt.subplots(nrows=2, ncols=5, figsize=(16, 8))\n",
    "\n",
    "    roc_auc_dict = {}\n",
    "\n",
    "    for (r, c), digit, ax in zip(\n",
    "        it.product(range(2), range(5)), range(10), axs.reshape(-1)\n",
    "    ):\n",
    "        fpr, tpr, _ = metrics.roc_curve(y == digit, y_pred_probs[:, digit])\n",
    "        auc = metrics.auc(fpr, tpr)\n",
    "        roc_auc_dict[str(digit)] = auc\n",
    "\n",
    "        ax.plot(fpr, tpr, label=f\"ROC AUC={round(auc, 3)}\")\n",
    "\n",
    "        ax.set_title(f\"\\nDigit {digit}\", fontsize=16)\n",
    "        if r == 1:\n",
    "            ax.set_xlabel(\"FPR\", fontsize=18)\n",
    "\n",
    "        if c == 0:\n",
    "            ax.set_ylabel(\"TPR\", fontsize=18)\n",
    "\n",
    "        ax.set_xlim([-0.05, 1.05])\n",
    "        ax.set_ylim([-0.05, 1.05])\n",
    "        ax.legend(loc=\"lower right\", frameon=False, fontsize=14)\n",
    "\n",
    "    fig.tight_layout()\n",
    "    fig.suptitle(\n",
    "        f\"ROC plots for one-vs-rest performances \"\n",
    "        f\"(on evaluation data, n={y_pred_probs_test.shape[1]}\",\n",
    "        fontsize=22,\n",
    "    )\n",
    "    fig.tight_layout()\n",
    "    fig.show()\n",
    "\n",
    "    return roc_auc_dict, fig\n",
    "\n",
    "\n",
    "roc_auc_dict, fig = plot_roc_curves(y_test, y_pred_probs_test)"
   ]
  },
  {
   "cell_type": "code",
   "execution_count": 16,
   "id": "bccb4199",
   "metadata": {
    "execution": {
     "iopub.execute_input": "2023-07-26T06:35:44.584110Z",
     "iopub.status.busy": "2023-07-26T06:35:44.583710Z",
     "iopub.status.idle": "2023-07-26T06:35:45.051324Z",
     "shell.execute_reply": "2023-07-26T06:35:45.050569Z"
    },
    "papermill": {
     "duration": 0.48118,
     "end_time": "2023-07-26T06:35:45.055557",
     "exception": false,
     "start_time": "2023-07-26T06:35:44.574377",
     "status": "completed"
    },
    "tags": []
   },
   "outputs": [],
   "source": [
    "ctx.log_figure(\"per-digit-roc-curves.png\", fig)"
   ]
  },
  {
   "cell_type": "code",
   "execution_count": 17,
   "id": "f0965cc4",
   "metadata": {
    "execution": {
     "iopub.execute_input": "2023-07-26T06:35:45.073426Z",
     "iopub.status.busy": "2023-07-26T06:35:45.072807Z",
     "iopub.status.idle": "2023-07-26T06:35:45.081311Z",
     "shell.execute_reply": "2023-07-26T06:35:45.080539Z"
    },
    "papermill": {
     "duration": 0.01967,
     "end_time": "2023-07-26T06:35:45.083366",
     "exception": false,
     "start_time": "2023-07-26T06:35:45.063696",
     "status": "completed"
    },
    "tags": []
   },
   "outputs": [
    {
     "data": {
      "text/plain": [
       "{'0': 1.0,\n",
       " '1': 0.9987628865979382,\n",
       " '2': 1.0,\n",
       " '3': 0.9998125585754452,\n",
       " '4': 0.9994665447340345,\n",
       " '5': 0.9992877225866916,\n",
       " '6': 0.999961896052431,\n",
       " '7': 0.9998856881572931,\n",
       " '8': 0.9925520176544766,\n",
       " '9': 0.9994284407864654}"
      ]
     },
     "execution_count": 17,
     "metadata": {},
     "output_type": "execute_result"
    }
   ],
   "source": [
    "roc_auc_dict"
   ]
  },
  {
   "cell_type": "code",
   "execution_count": 18,
   "id": "328dca4f",
   "metadata": {
    "execution": {
     "iopub.execute_input": "2023-07-26T06:35:45.102334Z",
     "iopub.status.busy": "2023-07-26T06:35:45.102004Z",
     "iopub.status.idle": "2023-07-26T06:35:45.112182Z",
     "shell.execute_reply": "2023-07-26T06:35:45.109457Z"
    },
    "papermill": {
     "duration": 0.022668,
     "end_time": "2023-07-26T06:35:45.114230",
     "exception": false,
     "start_time": "2023-07-26T06:35:45.091562",
     "status": "completed"
    },
    "tags": []
   },
   "outputs": [
    {
     "name": "stdout",
     "output_type": "stream",
     "text": [
      " - Logging roc_auc_per_digit (json) : {'0': 1.0, '1': 0.9987628865979382, '2': 1.0, '3': 0.9998125585754452, '4': 0.9994665447340345, '5': 0.9992877225866916, '6': 0.999961896052431, '7': 0.9998856881572931, '8': 0.9925520176544766, '9': 0.9994284407864654}\n"
     ]
    }
   ],
   "source": [
    "ctx.log_value(\"roc_auc_per_digit\", roc_auc_dict)"
   ]
  },
  {
   "cell_type": "markdown",
   "id": "0f8ec39d",
   "metadata": {
    "papermill": {
     "duration": 0.008281,
     "end_time": "2023-07-26T06:35:45.130671",
     "exception": false,
     "start_time": "2023-07-26T06:35:45.122390",
     "status": "completed"
    },
    "tags": []
   },
   "source": [
    "### Compute and log mean ROC AUC score averaged over all digits"
   ]
  },
  {
   "cell_type": "code",
   "execution_count": 19,
   "id": "e13ee90b",
   "metadata": {
    "execution": {
     "iopub.execute_input": "2023-07-26T06:35:45.149479Z",
     "iopub.status.busy": "2023-07-26T06:35:45.149152Z",
     "iopub.status.idle": "2023-07-26T06:35:45.164829Z",
     "shell.execute_reply": "2023-07-26T06:35:45.164088Z"
    },
    "papermill": {
     "duration": 0.027642,
     "end_time": "2023-07-26T06:35:45.166873",
     "exception": false,
     "start_time": "2023-07-26T06:35:45.139231",
     "status": "completed"
    },
    "tags": []
   },
   "outputs": [
    {
     "name": "stdout",
     "output_type": "stream",
     "text": [
      " - Logging roc_auc_class_mean (float) : 0.9989157755144775\n"
     ]
    }
   ],
   "source": [
    "roc_auc_macro = np.mean(list(roc_auc_dict.values()))\n",
    "\n",
    "ctx.log_float(\"roc_auc_class_mean\", roc_auc_macro)\n",
    "\n",
    "# assert that the same value can be computed directly using sklearn\n",
    "assert roc_auc_macro == metrics.roc_auc_score(\n",
    "    y_test, y_pred_probs_test, average=\"macro\", multi_class=\"ovr\"\n",
    ")"
   ]
  },
  {
   "cell_type": "code",
   "execution_count": 20,
   "id": "d401544b",
   "metadata": {
    "execution": {
     "iopub.execute_input": "2023-07-26T06:35:45.186274Z",
     "iopub.status.busy": "2023-07-26T06:35:45.185948Z",
     "iopub.status.idle": "2023-07-26T06:35:45.191747Z",
     "shell.execute_reply": "2023-07-26T06:35:45.190972Z"
    },
    "lines_to_next_cell": 0,
    "papermill": {
     "duration": 0.017681,
     "end_time": "2023-07-26T06:35:45.193765",
     "exception": false,
     "start_time": "2023-07-26T06:35:45.176084",
     "status": "completed"
    },
    "tags": []
   },
   "outputs": [],
   "source": [
    "# ---"
   ]
  },
  {
   "cell_type": "code",
   "execution_count": null,
   "id": "655c00b5",
   "metadata": {
    "papermill": {
     "duration": 0.011294,
     "end_time": "2023-07-26T06:35:45.214215",
     "exception": false,
     "start_time": "2023-07-26T06:35:45.202921",
     "status": "completed"
    },
    "tags": []
   },
   "outputs": [],
   "source": []
  }
 ],
 "metadata": {
  "jupytext": {
   "cell_metadata_filter": "tags,-all",
   "main_language": "python",
   "notebook_metadata_filter": "-all"
  },
  "language_info": {
   "codemirror_mode": {
    "name": "ipython",
    "version": 3
   },
   "file_extension": ".py",
   "mimetype": "text/x-python",
   "name": "python",
   "nbconvert_exporter": "python",
   "pygments_lexer": "ipython3",
   "version": "3.8.10"
  },
  "papermill": {
   "default_parameters": {},
   "duration": 14.441095,
   "end_time": "2023-07-26T06:35:47.163448",
   "environment_variables": {},
   "exception": null,
   "input_path": "/tmp/temp-notebook-is1_6mpi.ipynb",
   "output_path": "/tmp/temp-notebook-is1_6mpi.ipynb",
   "parameters": {
    "P": {
     "_parameters_actor_name": "parameter_for_task_0xad87a0fc60ea21e5",
     "task.nr_train_images": 800
    }
   },
   "start_time": "2023-07-26T06:35:32.722353",
   "version": "2.4.0"
  }
 },
 "nbformat": 4,
 "nbformat_minor": 5
}