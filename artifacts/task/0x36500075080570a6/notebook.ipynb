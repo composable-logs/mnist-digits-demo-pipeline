{
 "cells": [
  {
   "cell_type": "markdown",
   "id": "04058ffc",
   "metadata": {
    "papermill": {
     "duration": 0.005346,
     "end_time": "2023-07-30T06:33:14.301719",
     "exception": false,
     "start_time": "2023-07-30T06:33:14.296373",
     "status": "completed"
    },
    "tags": []
   },
   "source": [
    "# Benchmark model\n",
    "\n",
    "The purpose of this notebook is to benchmark persisted onnx-model (trained in the\n",
    "previous step) against evaluation set."
   ]
  },
  {
   "cell_type": "markdown",
   "id": "03a33934",
   "metadata": {
    "papermill": {
     "duration": 0.004494,
     "end_time": "2023-07-30T06:33:14.312522",
     "exception": false,
     "start_time": "2023-07-30T06:33:14.308028",
     "status": "completed"
    },
    "tags": []
   },
   "source": [
    "### Determine run parameters"
   ]
  },
  {
   "cell_type": "code",
   "execution_count": 1,
   "id": "6b6c3908",
   "metadata": {
    "execution": {
     "iopub.execute_input": "2023-07-30T06:33:14.323133Z",
     "iopub.status.busy": "2023-07-30T06:33:14.322839Z",
     "iopub.status.idle": "2023-07-30T06:33:14.330828Z",
     "shell.execute_reply": "2023-07-30T06:33:14.329989Z"
    },
    "lines_to_next_cell": 0,
    "papermill": {
     "duration": 0.01609,
     "end_time": "2023-07-30T06:33:14.332547",
     "exception": false,
     "start_time": "2023-07-30T06:33:14.316457",
     "status": "completed"
    },
    "tags": []
   },
   "outputs": [],
   "source": [
    "# ----------------- Parameters for interactive development --------------\n",
    "P = {\n",
    "    \"workflow.data_lake_root\": \"/pipeline-outputs/data-lake\",\n",
    "    \"task.nr_train_images\": 600,\n",
    "}"
   ]
  },
  {
   "cell_type": "code",
   "execution_count": 2,
   "id": "268945f8",
   "metadata": {
    "execution": {
     "iopub.execute_input": "2023-07-30T06:33:14.342331Z",
     "iopub.status.busy": "2023-07-30T06:33:14.342052Z",
     "iopub.status.idle": "2023-07-30T06:33:14.352415Z",
     "shell.execute_reply": "2023-07-30T06:33:14.351825Z"
    },
    "lines_to_next_cell": 0,
    "papermill": {
     "duration": 0.017849,
     "end_time": "2023-07-30T06:33:14.354346",
     "exception": false,
     "start_time": "2023-07-30T06:33:14.336497",
     "status": "completed"
    },
    "tags": [
     "parameters"
    ]
   },
   "outputs": [],
   "source": [
    "# - During automated runs parameters will be injected in the below cell -"
   ]
  },
  {
   "cell_type": "code",
   "execution_count": 3,
   "id": "33a2094c",
   "metadata": {
    "execution": {
     "iopub.execute_input": "2023-07-30T06:33:14.364018Z",
     "iopub.status.busy": "2023-07-30T06:33:14.363690Z",
     "iopub.status.idle": "2023-07-30T06:33:14.368549Z",
     "shell.execute_reply": "2023-07-30T06:33:14.367974Z"
    },
    "papermill": {
     "duration": 0.011781,
     "end_time": "2023-07-30T06:33:14.370311",
     "exception": false,
     "start_time": "2023-07-30T06:33:14.358530",
     "status": "completed"
    },
    "tags": [
     "injected-parameters"
    ]
   },
   "outputs": [],
   "source": [
    "# Parameters\n",
    "P = {\n",
    "    \"task.nr_train_images\": 1200,\n",
    "    \"_parameters_actor_name\": \"parameter_for_task_0x36500075080570a6\",\n",
    "}\n"
   ]
  },
  {
   "cell_type": "code",
   "execution_count": 4,
   "id": "4058171d",
   "metadata": {
    "execution": {
     "iopub.execute_input": "2023-07-30T06:33:14.380544Z",
     "iopub.status.busy": "2023-07-30T06:33:14.380267Z",
     "iopub.status.idle": "2023-07-30T06:33:14.385338Z",
     "shell.execute_reply": "2023-07-30T06:33:14.384694Z"
    },
    "lines_to_next_cell": 0,
    "papermill": {
     "duration": 0.012634,
     "end_time": "2023-07-30T06:33:14.387200",
     "exception": false,
     "start_time": "2023-07-30T06:33:14.374566",
     "status": "completed"
    },
    "tags": []
   },
   "outputs": [],
   "source": [
    "# -----------------------------------------------------------------------"
   ]
  },
  {
   "cell_type": "markdown",
   "id": "552a7dba",
   "metadata": {
    "papermill": {
     "duration": 0.003999,
     "end_time": "2023-07-30T06:33:14.395870",
     "exception": false,
     "start_time": "2023-07-30T06:33:14.391871",
     "status": "completed"
    },
    "tags": []
   },
   "source": [
    "---"
   ]
  },
  {
   "cell_type": "markdown",
   "id": "9dae4f4b",
   "metadata": {
    "lines_to_next_cell": 2,
    "papermill": {
     "duration": 0.003913,
     "end_time": "2023-07-30T06:33:14.404020",
     "exception": false,
     "start_time": "2023-07-30T06:33:14.400107",
     "status": "completed"
    },
    "tags": []
   },
   "source": [
    "### Notebook code"
   ]
  },
  {
   "cell_type": "code",
   "execution_count": 5,
   "id": "f576c2d4",
   "metadata": {
    "execution": {
     "iopub.execute_input": "2023-07-30T06:33:14.421748Z",
     "iopub.status.busy": "2023-07-30T06:33:14.421455Z",
     "iopub.status.idle": "2023-07-30T06:33:15.403895Z",
     "shell.execute_reply": "2023-07-30T06:33:15.403182Z"
    },
    "papermill": {
     "duration": 0.997482,
     "end_time": "2023-07-30T06:33:15.405698",
     "exception": false,
     "start_time": "2023-07-30T06:33:14.408216",
     "status": "completed"
    },
    "tags": []
   },
   "outputs": [
    {
     "name": "stderr",
     "output_type": "stream",
     "text": [
      "2023-07-30 06:33:15,325\tINFO worker.py:1364 -- Connecting to existing Ray cluster at address: 172.17.0.2:60649...\n"
     ]
    },
    {
     "name": "stderr",
     "output_type": "stream",
     "text": [
      "2023-07-30 06:33:15,336\tINFO worker.py:1544 -- Connected to Ray cluster. View the dashboard at \u001b[1m\u001b[32mhttp://127.0.0.1:8265 \u001b[39m\u001b[22m\n"
     ]
    },
    {
     "name": "stderr",
     "output_type": "stream",
     "text": [
      "/home/host_user/.local/lib/python3.8/site-packages/ray/runtime_context.py:27: RayDeprecationWarning: This API is deprecated and may be removed in future Ray releases. You could suppress this warning by setting env variable PYTHONWARNINGS=\"ignore::DeprecationWarning\"\n",
      "Use get_job_id() instead\n",
      "  \"job_id\": self.job_id,\n",
      "/home/host_user/.local/lib/python3.8/site-packages/ray/runtime_context.py:28: RayDeprecationWarning: This API is deprecated and may be removed in future Ray releases. You could suppress this warning by setting env variable PYTHONWARNINGS=\"ignore::DeprecationWarning\"\n",
      "Use get_node_id() instead\n",
      "  \"node_id\": self.node_id,\n"
     ]
    }
   ],
   "source": [
    "import itertools as it\n",
    "\n",
    "#\n",
    "import numpy as np\n",
    "import matplotlib.pyplot as plt\n",
    "\n",
    "#\n",
    "from composable_logs.tasks.task_opentelemetry_logging import get_task_context\n",
    "\n",
    "#\n",
    "from common.io import datalake_root\n",
    "\n",
    "ctx = get_task_context(P)"
   ]
  },
  {
   "cell_type": "markdown",
   "id": "ee93dd7b",
   "metadata": {
    "papermill": {
     "duration": 0.004241,
     "end_time": "2023-07-30T06:33:15.415139",
     "exception": false,
     "start_time": "2023-07-30T06:33:15.410898",
     "status": "completed"
    },
    "tags": []
   },
   "source": [
    "## Load persisted onnx-model and evaluation data"
   ]
  },
  {
   "cell_type": "code",
   "execution_count": 6,
   "id": "eb9d9340",
   "metadata": {
    "execution": {
     "iopub.execute_input": "2023-07-30T06:33:15.425398Z",
     "iopub.status.busy": "2023-07-30T06:33:15.425126Z",
     "iopub.status.idle": "2023-07-30T06:33:15.429799Z",
     "shell.execute_reply": "2023-07-30T06:33:15.429199Z"
    },
    "papermill": {
     "duration": 0.012268,
     "end_time": "2023-07-30T06:33:15.431814",
     "exception": false,
     "start_time": "2023-07-30T06:33:15.419546",
     "status": "completed"
    },
    "tags": []
   },
   "outputs": [],
   "source": [
    "from common.io import read_onnx, get_onnx_inputs, get_onnx_outputs, read_numpy"
   ]
  },
  {
   "cell_type": "code",
   "execution_count": 7,
   "id": "e85cb953",
   "metadata": {
    "execution": {
     "iopub.execute_input": "2023-07-30T06:33:15.442832Z",
     "iopub.status.busy": "2023-07-30T06:33:15.442475Z",
     "iopub.status.idle": "2023-07-30T06:33:15.452644Z",
     "shell.execute_reply": "2023-07-30T06:33:15.451986Z"
    },
    "lines_to_next_cell": 0,
    "papermill": {
     "duration": 0.018248,
     "end_time": "2023-07-30T06:33:15.454660",
     "exception": false,
     "start_time": "2023-07-30T06:33:15.436412",
     "status": "completed"
    },
    "tags": []
   },
   "outputs": [],
   "source": [
    "onnx_inference_session = read_onnx(\n",
    "    datalake_root(ctx)\n",
    "    / \"models\"\n",
    "    / f\"nr_train_images={ctx.parameters['task.nr_train_images']}\"\n",
    "    / \"model.onnx\"\n",
    ")"
   ]
  },
  {
   "cell_type": "markdown",
   "id": "c70cb841",
   "metadata": {
    "papermill": {
     "duration": 0.004393,
     "end_time": "2023-07-30T06:33:15.463638",
     "exception": false,
     "start_time": "2023-07-30T06:33:15.459245",
     "status": "completed"
    },
    "tags": []
   },
   "source": [
    "### Record structure of inputs and outputs for ONNX model\n",
    "\n",
    "(this should likely be done in training notebook)"
   ]
  },
  {
   "cell_type": "code",
   "execution_count": 8,
   "id": "7f2fb651",
   "metadata": {
    "execution": {
     "iopub.execute_input": "2023-07-30T06:33:15.474588Z",
     "iopub.status.busy": "2023-07-30T06:33:15.474278Z",
     "iopub.status.idle": "2023-07-30T06:33:15.481514Z",
     "shell.execute_reply": "2023-07-30T06:33:15.480903Z"
    },
    "papermill": {
     "duration": 0.014918,
     "end_time": "2023-07-30T06:33:15.483378",
     "exception": false,
     "start_time": "2023-07-30T06:33:15.468460",
     "status": "completed"
    },
    "tags": []
   },
   "outputs": [
    {
     "name": "stdout",
     "output_type": "stream",
     "text": [
      "{\n",
      "  \"inputs\": [\n",
      "    {\n",
      "      \"name\": \"float_input_8x8_image\",\n",
      "      \"shape\": [\n",
      "        null,\n",
      "        64\n",
      "      ],\n",
      "      \"type\": \"tensor(float)\"\n",
      "    }\n",
      "  ],\n",
      "  \"outputs\": [\n",
      "    {\n",
      "      \"name\": \"output_label\",\n",
      "      \"shape\": [\n",
      "        null\n",
      "      ],\n",
      "      \"type\": \"tensor(int64)\"\n",
      "    },\n",
      "    {\n",
      "      \"name\": \"output_probability\",\n",
      "      \"shape\": [],\n",
      "      \"type\": \"seq(map(int64,tensor(float)))\"\n",
      "    }\n",
      "  ]\n",
      "}\n"
     ]
    }
   ],
   "source": [
    "import json\n",
    "\n",
    "onnx_io = json.dumps(\n",
    "    {\n",
    "        \"inputs\": get_onnx_inputs(onnx_inference_session),\n",
    "        \"outputs\": get_onnx_outputs(onnx_inference_session),\n",
    "    },\n",
    "    indent=2,\n",
    ")\n",
    "\n",
    "\n",
    "ctx.log_artefact(\"onnx_io_structure.json\", onnx_io)\n",
    "print(onnx_io)"
   ]
  },
  {
   "cell_type": "markdown",
   "id": "6571b8cb",
   "metadata": {
    "papermill": {
     "duration": 0.010076,
     "end_time": "2023-07-30T06:33:15.506852",
     "exception": false,
     "start_time": "2023-07-30T06:33:15.496776",
     "status": "completed"
    },
    "tags": []
   },
   "source": [
    "### Evaluate model performance on evaluation data set"
   ]
  },
  {
   "cell_type": "code",
   "execution_count": 9,
   "id": "8cdad3c0",
   "metadata": {
    "execution": {
     "iopub.execute_input": "2023-07-30T06:33:15.518307Z",
     "iopub.status.busy": "2023-07-30T06:33:15.517987Z",
     "iopub.status.idle": "2023-07-30T06:33:15.533184Z",
     "shell.execute_reply": "2023-07-30T06:33:15.526693Z"
    },
    "papermill": {
     "duration": 0.022985,
     "end_time": "2023-07-30T06:33:15.535068",
     "exception": false,
     "start_time": "2023-07-30T06:33:15.512083",
     "status": "completed"
    },
    "tags": []
   },
   "outputs": [],
   "source": [
    "# load evaluation data\n",
    "X_test = read_numpy(datalake_root(ctx) / \"test-data\" / \"digits.numpy\")\n",
    "y_test = read_numpy(datalake_root(ctx) / \"test-data\" / \"labels.numpy\")"
   ]
  },
  {
   "cell_type": "code",
   "execution_count": 10,
   "id": "53fa7119",
   "metadata": {
    "execution": {
     "iopub.execute_input": "2023-07-30T06:33:15.545658Z",
     "iopub.status.busy": "2023-07-30T06:33:15.545388Z",
     "iopub.status.idle": "2023-07-30T06:33:15.560380Z",
     "shell.execute_reply": "2023-07-30T06:33:15.558315Z"
    },
    "papermill": {
     "duration": 0.023906,
     "end_time": "2023-07-30T06:33:15.563695",
     "exception": false,
     "start_time": "2023-07-30T06:33:15.539789",
     "status": "completed"
    },
    "tags": []
   },
   "outputs": [],
   "source": [
    "def get_model_outputs(X, onnx_inference_session):\n",
    "    y_pred_labels, y_pred_map = onnx_inference_session.run(\n",
    "        [\"output_label\", \"output_probability\"],\n",
    "        {\"float_input_8x8_image\": X.astype(np.float32)},\n",
    "    )\n",
    "    y_pred_probs = np.array(\n",
    "        [[probabilities[digit] for digit in range(10)] for probabilities in y_pred_map]\n",
    "    )\n",
    "\n",
    "    assert y_pred_labels.shape == (X.shape[0],)\n",
    "    assert y_pred_probs.shape == (X.shape[0], 10)\n",
    "\n",
    "    return y_pred_labels, y_pred_probs\n",
    "\n",
    "\n",
    "# Note: as shown in the training notebook, the predicted labels and probabilities\n",
    "# computed below need not be compatible.\n",
    "y_pred_labels_test, y_pred_probs_test = get_model_outputs(\n",
    "    X_test, onnx_inference_session\n",
    ")"
   ]
  },
  {
   "cell_type": "markdown",
   "id": "112aeb35",
   "metadata": {
    "papermill": {
     "duration": 0.004615,
     "end_time": "2023-07-30T06:33:15.573347",
     "exception": false,
     "start_time": "2023-07-30T06:33:15.568732",
     "status": "completed"
    },
    "tags": []
   },
   "source": [
    "### Confusion matrix"
   ]
  },
  {
   "cell_type": "code",
   "execution_count": 11,
   "id": "2e39830e",
   "metadata": {
    "execution": {
     "iopub.execute_input": "2023-07-30T06:33:15.585092Z",
     "iopub.status.busy": "2023-07-30T06:33:15.584149Z",
     "iopub.status.idle": "2023-07-30T06:33:15.591251Z",
     "shell.execute_reply": "2023-07-30T06:33:15.590600Z"
    },
    "papermill": {
     "duration": 0.015218,
     "end_time": "2023-07-30T06:33:15.592915",
     "exception": false,
     "start_time": "2023-07-30T06:33:15.577697",
     "status": "completed"
    },
    "tags": []
   },
   "outputs": [],
   "source": [
    "# TODO"
   ]
  },
  {
   "cell_type": "markdown",
   "id": "0513e0fb",
   "metadata": {
    "papermill": {
     "duration": 0.006145,
     "end_time": "2023-07-30T06:33:15.603852",
     "exception": false,
     "start_time": "2023-07-30T06:33:15.597707",
     "status": "completed"
    },
    "tags": []
   },
   "source": [
    "### Plot predicted probabilities for each classifier over all evaluation digit images"
   ]
  },
  {
   "cell_type": "code",
   "execution_count": 12,
   "id": "c22f509b",
   "metadata": {
    "execution": {
     "iopub.execute_input": "2023-07-30T06:33:15.614256Z",
     "iopub.status.busy": "2023-07-30T06:33:15.613927Z",
     "iopub.status.idle": "2023-07-30T06:33:19.562807Z",
     "shell.execute_reply": "2023-07-30T06:33:19.562120Z"
    },
    "papermill": {
     "duration": 3.959844,
     "end_time": "2023-07-30T06:33:19.568178",
     "exception": false,
     "start_time": "2023-07-30T06:33:15.608334",
     "status": "completed"
    },
    "tags": []
   },
   "outputs": [
    {
     "data": {
      "image/png": "[encoded data removed]",
      "text/plain": [
       "<Figure size 1600x600 with 10 Axes>"
      ]
     },
     "metadata": {},
     "output_type": "display_data"
    }
   ],
   "source": [
    "def plot_per_digit_probabilities(y_pred_probs):\n",
    "    fig, axs = plt.subplots(nrows=2, ncols=5, figsize=(16, 6))\n",
    "\n",
    "    for (r, c), digit, ax in zip(\n",
    "        it.product(range(2), range(5)), range(10), axs.reshape(-1)\n",
    "    ):\n",
    "        ax.hist(y_pred_probs_test[:, digit], bins=20)\n",
    "\n",
    "        ax.set_title(f\"Digit {digit}\")\n",
    "        if r == 1 and c == 2:\n",
    "            ax.set_xlabel(\"probability\", fontsize=16)\n",
    "\n",
    "        if c == 0:\n",
    "            ax.set_ylabel(\"counts\", fontsize=16)\n",
    "        ax.set_yscale(\"log\")\n",
    "\n",
    "    fig.tight_layout()\n",
    "    fig.suptitle(\n",
    "        f\"Distributions of prediction probabilities for each digit \"\n",
    "        f\"(on evaluation data, n={y_pred_probs.shape[0]})\",\n",
    "        fontsize=20,\n",
    "    )\n",
    "    fig.tight_layout()\n",
    "    fig.show()\n",
    "\n",
    "    return fig\n",
    "\n",
    "\n",
    "fig = plot_per_digit_probabilities(y_pred_probs_test)"
   ]
  },
  {
   "cell_type": "markdown",
   "id": "53d11569",
   "metadata": {
    "papermill": {
     "duration": 0.005493,
     "end_time": "2023-07-30T06:33:19.579850",
     "exception": false,
     "start_time": "2023-07-30T06:33:19.574357",
     "status": "completed"
    },
    "tags": []
   },
   "source": [
    "From the above distributions we see that most digits have clear separation between\n",
    "high and lower probabilities. Morover, in each case there is roughly an order of\n",
    "magnitude more of digits with low probabilities. This is compatible with digits\n",
    "being roughly evenly distributed in the data."
   ]
  },
  {
   "cell_type": "code",
   "execution_count": 13,
   "id": "f33bb179",
   "metadata": {
    "execution": {
     "iopub.execute_input": "2023-07-30T06:33:19.596642Z",
     "iopub.status.busy": "2023-07-30T06:33:19.596356Z",
     "iopub.status.idle": "2023-07-30T06:33:20.243378Z",
     "shell.execute_reply": "2023-07-30T06:33:20.242660Z"
    },
    "papermill": {
     "duration": 0.662684,
     "end_time": "2023-07-30T06:33:20.247674",
     "exception": false,
     "start_time": "2023-07-30T06:33:19.584990",
     "status": "completed"
    },
    "tags": []
   },
   "outputs": [],
   "source": [
    "ctx.log_figure(\"per-digit-probabilities.png\", fig)"
   ]
  },
  {
   "cell_type": "markdown",
   "id": "450efe98",
   "metadata": {
    "papermill": {
     "duration": 0.005306,
     "end_time": "2023-07-30T06:33:20.258900",
     "exception": false,
     "start_time": "2023-07-30T06:33:20.253594",
     "status": "completed"
    },
    "tags": []
   },
   "source": [
    "### Plot ROC curves for individual one-vs-rest classifiers"
   ]
  },
  {
   "cell_type": "code",
   "execution_count": 14,
   "id": "612ffa19",
   "metadata": {
    "execution": {
     "iopub.execute_input": "2023-07-30T06:33:20.271342Z",
     "iopub.status.busy": "2023-07-30T06:33:20.271037Z",
     "iopub.status.idle": "2023-07-30T06:33:20.586810Z",
     "shell.execute_reply": "2023-07-30T06:33:20.586097Z"
    },
    "papermill": {
     "duration": 0.325632,
     "end_time": "2023-07-30T06:33:20.589861",
     "exception": false,
     "start_time": "2023-07-30T06:33:20.264229",
     "status": "completed"
    },
    "tags": []
   },
   "outputs": [],
   "source": [
    "from sklearn import metrics"
   ]
  },
  {
   "cell_type": "code",
   "execution_count": 15,
   "id": "d2e1f27d",
   "metadata": {
    "execution": {
     "iopub.execute_input": "2023-07-30T06:33:20.603304Z",
     "iopub.status.busy": "2023-07-30T06:33:20.602886Z",
     "iopub.status.idle": "2023-07-30T06:33:22.635151Z",
     "shell.execute_reply": "2023-07-30T06:33:22.634505Z"
    },
    "papermill": {
     "duration": 2.041443,
     "end_time": "2023-07-30T06:33:22.637183",
     "exception": false,
     "start_time": "2023-07-30T06:33:20.595740",
     "status": "completed"
    },
    "tags": []
   },
   "outputs": [
    {
     "data": {
      "image/png": "[encoded data removed]",
      "text/plain": [
       "<Figure size 1600x800 with 10 Axes>"
      ]
     },
     "metadata": {},
     "output_type": "display_data"
    }
   ],
   "source": [
    "def plot_roc_curves(y, y_pred_probs):\n",
    "    # based on example code\n",
    "    # https://scikit-learn.org/stable/auto_examples/model_selection/plot_roc.html\n",
    "\n",
    "    fig, axs = plt.subplots(nrows=2, ncols=5, figsize=(16, 8))\n",
    "\n",
    "    roc_auc_dict = {}\n",
    "\n",
    "    for (r, c), digit, ax in zip(\n",
    "        it.product(range(2), range(5)), range(10), axs.reshape(-1)\n",
    "    ):\n",
    "        fpr, tpr, _ = metrics.roc_curve(y == digit, y_pred_probs[:, digit])\n",
    "        auc = metrics.auc(fpr, tpr)\n",
    "        roc_auc_dict[str(digit)] = auc\n",
    "\n",
    "        ax.plot(fpr, tpr, label=f\"ROC AUC={round(auc, 3)}\")\n",
    "\n",
    "        ax.set_title(f\"\\nDigit {digit}\", fontsize=16)\n",
    "        if r == 1:\n",
    "            ax.set_xlabel(\"FPR\", fontsize=18)\n",
    "\n",
    "        if c == 0:\n",
    "            ax.set_ylabel(\"TPR\", fontsize=18)\n",
    "\n",
    "        ax.set_xlim([-0.05, 1.05])\n",
    "        ax.set_ylim([-0.05, 1.05])\n",
    "        ax.legend(loc=\"lower right\", frameon=False, fontsize=14)\n",
    "\n",
    "    fig.tight_layout()\n",
    "    fig.suptitle(\n",
    "        f\"ROC plots for one-vs-rest performances \"\n",
    "        f\"(on evaluation data, n={y_pred_probs_test.shape[1]}\",\n",
    "        fontsize=22,\n",
    "    )\n",
    "    fig.tight_layout()\n",
    "    fig.show()\n",
    "\n",
    "    return roc_auc_dict, fig\n",
    "\n",
    "\n",
    "roc_auc_dict, fig = plot_roc_curves(y_test, y_pred_probs_test)"
   ]
  },
  {
   "cell_type": "code",
   "execution_count": 16,
   "id": "35326be7",
   "metadata": {
    "execution": {
     "iopub.execute_input": "2023-07-30T06:33:22.653010Z",
     "iopub.status.busy": "2023-07-30T06:33:22.652513Z",
     "iopub.status.idle": "2023-07-30T06:33:22.978619Z",
     "shell.execute_reply": "2023-07-30T06:33:22.977903Z"
    },
    "papermill": {
     "duration": 0.337979,
     "end_time": "2023-07-30T06:33:22.982184",
     "exception": false,
     "start_time": "2023-07-30T06:33:22.644205",
     "status": "completed"
    },
    "tags": []
   },
   "outputs": [],
   "source": [
    "ctx.log_figure(\"per-digit-roc-curves.png\", fig)"
   ]
  },
  {
   "cell_type": "code",
   "execution_count": 17,
   "id": "c7ce4192",
   "metadata": {
    "execution": {
     "iopub.execute_input": "2023-07-30T06:33:22.996441Z",
     "iopub.status.busy": "2023-07-30T06:33:22.995933Z",
     "iopub.status.idle": "2023-07-30T06:33:23.003288Z",
     "shell.execute_reply": "2023-07-30T06:33:23.002623Z"
    },
    "papermill": {
     "duration": 0.016374,
     "end_time": "2023-07-30T06:33:23.005035",
     "exception": false,
     "start_time": "2023-07-30T06:33:22.988661",
     "status": "completed"
    },
    "tags": []
   },
   "outputs": [
    {
     "data": {
      "text/plain": [
       "{'0': 1.0,\n",
       " '1': 0.998987816307404,\n",
       " '2': 1.0,\n",
       " '3': 0.9998500468603562,\n",
       " '4': 0.9997332723670173,\n",
       " '5': 0.9996626054358013,\n",
       " '6': 0.999923792104862,\n",
       " '7': 0.9998475842097242,\n",
       " '8': 0.9957440100882724,\n",
       " '9': 0.9997713763145862}"
      ]
     },
     "execution_count": 17,
     "metadata": {},
     "output_type": "execute_result"
    }
   ],
   "source": [
    "roc_auc_dict"
   ]
  },
  {
   "cell_type": "code",
   "execution_count": 18,
   "id": "fe947a12",
   "metadata": {
    "execution": {
     "iopub.execute_input": "2023-07-30T06:33:23.019815Z",
     "iopub.status.busy": "2023-07-30T06:33:23.019282Z",
     "iopub.status.idle": "2023-07-30T06:33:23.025294Z",
     "shell.execute_reply": "2023-07-30T06:33:23.024554Z"
    },
    "papermill": {
     "duration": 0.015247,
     "end_time": "2023-07-30T06:33:23.026913",
     "exception": false,
     "start_time": "2023-07-30T06:33:23.011666",
     "status": "completed"
    },
    "tags": []
   },
   "outputs": [
    {
     "name": "stdout",
     "output_type": "stream",
     "text": [
      " - Logging roc_auc_per_digit (json) : {'0': 1.0, '1': 0.998987816307404, '2': 1.0, '3': 0.9998500468603562, '4': 0.9997332723670173, '5': 0.9996626054358013, '6': 0.999923792104862, '7': 0.9998475842097242, '8': 0.9957440100882724, '9': 0.9997713763145862}\n"
     ]
    }
   ],
   "source": [
    "ctx.log_value(\"roc_auc_per_digit\", roc_auc_dict)"
   ]
  },
  {
   "cell_type": "markdown",
   "id": "9cecbc12",
   "metadata": {
    "papermill": {
     "duration": 0.006816,
     "end_time": "2023-07-30T06:33:23.040641",
     "exception": false,
     "start_time": "2023-07-30T06:33:23.033825",
     "status": "completed"
    },
    "tags": []
   },
   "source": [
    "### Compute and log mean ROC AUC score averaged over all digits"
   ]
  },
  {
   "cell_type": "code",
   "execution_count": 19,
   "id": "c507f8e7",
   "metadata": {
    "execution": {
     "iopub.execute_input": "2023-07-30T06:33:23.055823Z",
     "iopub.status.busy": "2023-07-30T06:33:23.055176Z",
     "iopub.status.idle": "2023-07-30T06:33:23.066668Z",
     "shell.execute_reply": "2023-07-30T06:33:23.065826Z"
    },
    "papermill": {
     "duration": 0.020673,
     "end_time": "2023-07-30T06:33:23.068390",
     "exception": false,
     "start_time": "2023-07-30T06:33:23.047717",
     "status": "completed"
    },
    "tags": []
   },
   "outputs": [
    {
     "name": "stdout",
     "output_type": "stream",
     "text": [
      " - Logging roc_auc_class_mean (float) : 0.9993520503688023\n"
     ]
    }
   ],
   "source": [
    "roc_auc_macro = np.mean(list(roc_auc_dict.values()))\n",
    "\n",
    "ctx.log_float(\"roc_auc_class_mean\", roc_auc_macro)\n",
    "\n",
    "# assert that the same value can be computed directly using sklearn\n",
    "assert roc_auc_macro == metrics.roc_auc_score(\n",
    "    y_test, y_pred_probs_test, average=\"macro\", multi_class=\"ovr\"\n",
    ")"
   ]
  },
  {
   "cell_type": "code",
   "execution_count": 20,
   "id": "5a22502d",
   "metadata": {
    "execution": {
     "iopub.execute_input": "2023-07-30T06:33:23.088630Z",
     "iopub.status.busy": "2023-07-30T06:33:23.087753Z",
     "iopub.status.idle": "2023-07-30T06:33:23.092985Z",
     "shell.execute_reply": "2023-07-30T06:33:23.092331Z"
    },
    "lines_to_next_cell": 0,
    "papermill": {
     "duration": 0.019545,
     "end_time": "2023-07-30T06:33:23.094829",
     "exception": false,
     "start_time": "2023-07-30T06:33:23.075284",
     "status": "completed"
    },
    "tags": []
   },
   "outputs": [],
   "source": [
    "# ---"
   ]
  },
  {
   "cell_type": "code",
   "execution_count": null,
   "id": "ad0e4e3f",
   "metadata": {
    "papermill": {
     "duration": 0.006565,
     "end_time": "2023-07-30T06:33:23.108248",
     "exception": false,
     "start_time": "2023-07-30T06:33:23.101683",
     "status": "completed"
    },
    "tags": []
   },
   "outputs": [],
   "source": []
  }
 ],
 "metadata": {
  "jupytext": {
   "cell_metadata_filter": "tags,-all",
   "main_language": "python",
   "notebook_metadata_filter": "-all"
  },
  "language_info": {
   "codemirror_mode": {
    "name": "ipython",
    "version": 3
   },
   "file_extension": ".py",
   "mimetype": "text/x-python",
   "name": "python",
   "nbconvert_exporter": "python",
   "pygments_lexer": "ipython3",
   "version": "3.8.10"
  },
  "papermill": {
   "default_parameters": {},
   "duration": 12.427988,
   "end_time": "2023-07-30T06:33:25.353386",
   "environment_variables": {},
   "exception": null,
   "input_path": "/tmp/temp-notebook-0xjy8fj2.ipynb",
   "output_path": "/tmp/temp-notebook-0xjy8fj2.ipynb",
   "parameters": {
    "P": {
     "_parameters_actor_name": "parameter_for_task_0x36500075080570a6",
     "task.nr_train_images": 1200
    }
   },
   "start_time": "2023-07-30T06:33:12.925398",
   "version": "2.4.0"
  }
 },
 "nbformat": 4,
 "nbformat_minor": 5
}