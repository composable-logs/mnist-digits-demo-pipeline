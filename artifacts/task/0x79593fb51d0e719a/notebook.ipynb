{
 "cells": [
  {
   "cell_type": "markdown",
   "id": "b6b95b5e",
   "metadata": {
    "papermill": {
     "duration": 0.00661,
     "end_time": "2023-07-30T06:33:13.812885",
     "exception": false,
     "start_time": "2023-07-30T06:33:13.806275",
     "status": "completed"
    },
    "tags": []
   },
   "source": [
    "# Benchmark model\n",
    "\n",
    "The purpose of this notebook is to benchmark persisted onnx-model (trained in the\n",
    "previous step) against evaluation set."
   ]
  },
  {
   "cell_type": "markdown",
   "id": "ae771dd4",
   "metadata": {
    "papermill": {
     "duration": 0.003984,
     "end_time": "2023-07-30T06:33:13.823380",
     "exception": false,
     "start_time": "2023-07-30T06:33:13.819396",
     "status": "completed"
    },
    "tags": []
   },
   "source": [
    "### Determine run parameters"
   ]
  },
  {
   "cell_type": "code",
   "execution_count": 1,
   "id": "2b7d9a80",
   "metadata": {
    "execution": {
     "iopub.execute_input": "2023-07-30T06:33:13.839359Z",
     "iopub.status.busy": "2023-07-30T06:33:13.839069Z",
     "iopub.status.idle": "2023-07-30T06:33:13.848382Z",
     "shell.execute_reply": "2023-07-30T06:33:13.847719Z"
    },
    "lines_to_next_cell": 0,
    "papermill": {
     "duration": 0.021942,
     "end_time": "2023-07-30T06:33:13.850174",
     "exception": false,
     "start_time": "2023-07-30T06:33:13.828232",
     "status": "completed"
    },
    "tags": []
   },
   "outputs": [],
   "source": [
    "# ----------------- Parameters for interactive development --------------\n",
    "P = {\n",
    "    \"workflow.data_lake_root\": \"/pipeline-outputs/data-lake\",\n",
    "    \"task.nr_train_images\": 600,\n",
    "}"
   ]
  },
  {
   "cell_type": "code",
   "execution_count": 2,
   "id": "af1504c6",
   "metadata": {
    "execution": {
     "iopub.execute_input": "2023-07-30T06:33:13.860124Z",
     "iopub.status.busy": "2023-07-30T06:33:13.859865Z",
     "iopub.status.idle": "2023-07-30T06:33:13.864847Z",
     "shell.execute_reply": "2023-07-30T06:33:13.864139Z"
    },
    "lines_to_next_cell": 0,
    "papermill": {
     "duration": 0.012571,
     "end_time": "2023-07-30T06:33:13.866691",
     "exception": false,
     "start_time": "2023-07-30T06:33:13.854120",
     "status": "completed"
    },
    "tags": [
     "parameters"
    ]
   },
   "outputs": [],
   "source": [
    "# - During automated runs parameters will be injected in the below cell -"
   ]
  },
  {
   "cell_type": "code",
   "execution_count": 3,
   "id": "7b48cfa7",
   "metadata": {
    "execution": {
     "iopub.execute_input": "2023-07-30T06:33:13.877678Z",
     "iopub.status.busy": "2023-07-30T06:33:13.877444Z",
     "iopub.status.idle": "2023-07-30T06:33:13.881713Z",
     "shell.execute_reply": "2023-07-30T06:33:13.881188Z"
    },
    "papermill": {
     "duration": 0.01179,
     "end_time": "2023-07-30T06:33:13.883524",
     "exception": false,
     "start_time": "2023-07-30T06:33:13.871734",
     "status": "completed"
    },
    "tags": [
     "injected-parameters"
    ]
   },
   "outputs": [],
   "source": [
    "# Parameters\n",
    "P = {\n",
    "    \"task.nr_train_images\": 800,\n",
    "    \"_parameters_actor_name\": \"parameter_for_task_0x79593fb51d0e719a\",\n",
    "}\n"
   ]
  },
  {
   "cell_type": "code",
   "execution_count": 4,
   "id": "d2b04c6e",
   "metadata": {
    "execution": {
     "iopub.execute_input": "2023-07-30T06:33:13.892649Z",
     "iopub.status.busy": "2023-07-30T06:33:13.892433Z",
     "iopub.status.idle": "2023-07-30T06:33:13.896683Z",
     "shell.execute_reply": "2023-07-30T06:33:13.895814Z"
    },
    "lines_to_next_cell": 0,
    "papermill": {
     "duration": 0.010742,
     "end_time": "2023-07-30T06:33:13.898387",
     "exception": false,
     "start_time": "2023-07-30T06:33:13.887645",
     "status": "completed"
    },
    "tags": []
   },
   "outputs": [],
   "source": [
    "# -----------------------------------------------------------------------"
   ]
  },
  {
   "cell_type": "markdown",
   "id": "7156b21f",
   "metadata": {
    "papermill": {
     "duration": 0.003818,
     "end_time": "2023-07-30T06:33:13.906084",
     "exception": false,
     "start_time": "2023-07-30T06:33:13.902266",
     "status": "completed"
    },
    "tags": []
   },
   "source": [
    "---"
   ]
  },
  {
   "cell_type": "markdown",
   "id": "7df86ca5",
   "metadata": {
    "lines_to_next_cell": 2,
    "papermill": {
     "duration": 0.003759,
     "end_time": "2023-07-30T06:33:13.913702",
     "exception": false,
     "start_time": "2023-07-30T06:33:13.909943",
     "status": "completed"
    },
    "tags": []
   },
   "source": [
    "### Notebook code"
   ]
  },
  {
   "cell_type": "code",
   "execution_count": 5,
   "id": "58b44d00",
   "metadata": {
    "execution": {
     "iopub.execute_input": "2023-07-30T06:33:13.922923Z",
     "iopub.status.busy": "2023-07-30T06:33:13.922471Z",
     "iopub.status.idle": "2023-07-30T06:33:14.810892Z",
     "shell.execute_reply": "2023-07-30T06:33:14.810237Z"
    },
    "papermill": {
     "duration": 0.895236,
     "end_time": "2023-07-30T06:33:14.812821",
     "exception": false,
     "start_time": "2023-07-30T06:33:13.917585",
     "status": "completed"
    },
    "tags": []
   },
   "outputs": [
    {
     "name": "stderr",
     "output_type": "stream",
     "text": [
      "2023-07-30 06:33:14,723\tINFO worker.py:1364 -- Connecting to existing Ray cluster at address: 172.17.0.2:60649...\n"
     ]
    },
    {
     "name": "stderr",
     "output_type": "stream",
     "text": [
      "2023-07-30 06:33:14,733\tINFO worker.py:1544 -- Connected to Ray cluster. View the dashboard at \u001b[1m\u001b[32mhttp://127.0.0.1:8265 \u001b[39m\u001b[22m\n"
     ]
    },
    {
     "name": "stderr",
     "output_type": "stream",
     "text": [
      "/home/host_user/.local/lib/python3.8/site-packages/ray/runtime_context.py:27: RayDeprecationWarning: This API is deprecated and may be removed in future Ray releases. You could suppress this warning by setting env variable PYTHONWARNINGS=\"ignore::DeprecationWarning\"\n",
      "Use get_job_id() instead\n",
      "  \"job_id\": self.job_id,\n",
      "/home/host_user/.local/lib/python3.8/site-packages/ray/runtime_context.py:28: RayDeprecationWarning: This API is deprecated and may be removed in future Ray releases. You could suppress this warning by setting env variable PYTHONWARNINGS=\"ignore::DeprecationWarning\"\n",
      "Use get_node_id() instead\n",
      "  \"node_id\": self.node_id,\n"
     ]
    }
   ],
   "source": [
    "import itertools as it\n",
    "\n",
    "#\n",
    "import numpy as np\n",
    "import matplotlib.pyplot as plt\n",
    "\n",
    "#\n",
    "from composable_logs.tasks.task_opentelemetry_logging import get_task_context\n",
    "\n",
    "#\n",
    "from common.io import datalake_root\n",
    "\n",
    "ctx = get_task_context(P)"
   ]
  },
  {
   "cell_type": "markdown",
   "id": "f87e3252",
   "metadata": {
    "papermill": {
     "duration": 0.004115,
     "end_time": "2023-07-30T06:33:14.821441",
     "exception": false,
     "start_time": "2023-07-30T06:33:14.817326",
     "status": "completed"
    },
    "tags": []
   },
   "source": [
    "## Load persisted onnx-model and evaluation data"
   ]
  },
  {
   "cell_type": "code",
   "execution_count": 6,
   "id": "6ffec7bd",
   "metadata": {
    "execution": {
     "iopub.execute_input": "2023-07-30T06:33:14.831622Z",
     "iopub.status.busy": "2023-07-30T06:33:14.831345Z",
     "iopub.status.idle": "2023-07-30T06:33:14.835992Z",
     "shell.execute_reply": "2023-07-30T06:33:14.835426Z"
    },
    "papermill": {
     "duration": 0.012164,
     "end_time": "2023-07-30T06:33:14.837763",
     "exception": false,
     "start_time": "2023-07-30T06:33:14.825599",
     "status": "completed"
    },
    "tags": []
   },
   "outputs": [],
   "source": [
    "from common.io import read_onnx, get_onnx_inputs, get_onnx_outputs, read_numpy"
   ]
  },
  {
   "cell_type": "code",
   "execution_count": 7,
   "id": "3341b0f8",
   "metadata": {
    "execution": {
     "iopub.execute_input": "2023-07-30T06:33:14.847888Z",
     "iopub.status.busy": "2023-07-30T06:33:14.847642Z",
     "iopub.status.idle": "2023-07-30T06:33:14.856604Z",
     "shell.execute_reply": "2023-07-30T06:33:14.856033Z"
    },
    "lines_to_next_cell": 0,
    "papermill": {
     "duration": 0.015894,
     "end_time": "2023-07-30T06:33:14.858270",
     "exception": false,
     "start_time": "2023-07-30T06:33:14.842376",
     "status": "completed"
    },
    "tags": []
   },
   "outputs": [],
   "source": [
    "onnx_inference_session = read_onnx(\n",
    "    datalake_root(ctx)\n",
    "    / \"models\"\n",
    "    / f\"nr_train_images={ctx.parameters['task.nr_train_images']}\"\n",
    "    / \"model.onnx\"\n",
    ")"
   ]
  },
  {
   "cell_type": "markdown",
   "id": "266a62d2",
   "metadata": {
    "papermill": {
     "duration": 0.021933,
     "end_time": "2023-07-30T06:33:14.884400",
     "exception": false,
     "start_time": "2023-07-30T06:33:14.862467",
     "status": "completed"
    },
    "tags": []
   },
   "source": [
    "### Record structure of inputs and outputs for ONNX model\n",
    "\n",
    "(this should likely be done in training notebook)"
   ]
  },
  {
   "cell_type": "code",
   "execution_count": 8,
   "id": "ce81b2f7",
   "metadata": {
    "execution": {
     "iopub.execute_input": "2023-07-30T06:33:14.895090Z",
     "iopub.status.busy": "2023-07-30T06:33:14.894808Z",
     "iopub.status.idle": "2023-07-30T06:33:14.901568Z",
     "shell.execute_reply": "2023-07-30T06:33:14.901012Z"
    },
    "papermill": {
     "duration": 0.014469,
     "end_time": "2023-07-30T06:33:14.903343",
     "exception": false,
     "start_time": "2023-07-30T06:33:14.888874",
     "status": "completed"
    },
    "tags": []
   },
   "outputs": [
    {
     "name": "stdout",
     "output_type": "stream",
     "text": [
      "{\n",
      "  \"inputs\": [\n",
      "    {\n",
      "      \"name\": \"float_input_8x8_image\",\n",
      "      \"shape\": [\n",
      "        null,\n",
      "        64\n",
      "      ],\n",
      "      \"type\": \"tensor(float)\"\n",
      "    }\n",
      "  ],\n",
      "  \"outputs\": [\n",
      "    {\n",
      "      \"name\": \"output_label\",\n",
      "      \"shape\": [\n",
      "        null\n",
      "      ],\n",
      "      \"type\": \"tensor(int64)\"\n",
      "    },\n",
      "    {\n",
      "      \"name\": \"output_probability\",\n",
      "      \"shape\": [],\n",
      "      \"type\": \"seq(map(int64,tensor(float)))\"\n",
      "    }\n",
      "  ]\n",
      "}\n"
     ]
    }
   ],
   "source": [
    "import json\n",
    "\n",
    "onnx_io = json.dumps(\n",
    "    {\n",
    "        \"inputs\": get_onnx_inputs(onnx_inference_session),\n",
    "        \"outputs\": get_onnx_outputs(onnx_inference_session),\n",
    "    },\n",
    "    indent=2,\n",
    ")\n",
    "\n",
    "\n",
    "ctx.log_artefact(\"onnx_io_structure.json\", onnx_io)\n",
    "print(onnx_io)"
   ]
  },
  {
   "cell_type": "markdown",
   "id": "5e6ed039",
   "metadata": {
    "papermill": {
     "duration": 0.007602,
     "end_time": "2023-07-30T06:33:14.915268",
     "exception": false,
     "start_time": "2023-07-30T06:33:14.907666",
     "status": "completed"
    },
    "tags": []
   },
   "source": [
    "### Evaluate model performance on evaluation data set"
   ]
  },
  {
   "cell_type": "code",
   "execution_count": 9,
   "id": "a45a88ae",
   "metadata": {
    "execution": {
     "iopub.execute_input": "2023-07-30T06:33:14.925425Z",
     "iopub.status.busy": "2023-07-30T06:33:14.925159Z",
     "iopub.status.idle": "2023-07-30T06:33:14.930888Z",
     "shell.execute_reply": "2023-07-30T06:33:14.930299Z"
    },
    "papermill": {
     "duration": 0.012952,
     "end_time": "2023-07-30T06:33:14.932680",
     "exception": false,
     "start_time": "2023-07-30T06:33:14.919728",
     "status": "completed"
    },
    "tags": []
   },
   "outputs": [],
   "source": [
    "# load evaluation data\n",
    "X_test = read_numpy(datalake_root(ctx) / \"test-data\" / \"digits.numpy\")\n",
    "y_test = read_numpy(datalake_root(ctx) / \"test-data\" / \"labels.numpy\")"
   ]
  },
  {
   "cell_type": "code",
   "execution_count": 10,
   "id": "de5da05b",
   "metadata": {
    "execution": {
     "iopub.execute_input": "2023-07-30T06:33:14.942740Z",
     "iopub.status.busy": "2023-07-30T06:33:14.942484Z",
     "iopub.status.idle": "2023-07-30T06:33:14.955284Z",
     "shell.execute_reply": "2023-07-30T06:33:14.954714Z"
    },
    "papermill": {
     "duration": 0.020009,
     "end_time": "2023-07-30T06:33:14.957079",
     "exception": false,
     "start_time": "2023-07-30T06:33:14.937070",
     "status": "completed"
    },
    "tags": []
   },
   "outputs": [],
   "source": [
    "def get_model_outputs(X, onnx_inference_session):\n",
    "    y_pred_labels, y_pred_map = onnx_inference_session.run(\n",
    "        [\"output_label\", \"output_probability\"],\n",
    "        {\"float_input_8x8_image\": X.astype(np.float32)},\n",
    "    )\n",
    "    y_pred_probs = np.array(\n",
    "        [[probabilities[digit] for digit in range(10)] for probabilities in y_pred_map]\n",
    "    )\n",
    "\n",
    "    assert y_pred_labels.shape == (X.shape[0],)\n",
    "    assert y_pred_probs.shape == (X.shape[0], 10)\n",
    "\n",
    "    return y_pred_labels, y_pred_probs\n",
    "\n",
    "\n",
    "# Note: as shown in the training notebook, the predicted labels and probabilities\n",
    "# computed below need not be compatible.\n",
    "y_pred_labels_test, y_pred_probs_test = get_model_outputs(\n",
    "    X_test, onnx_inference_session\n",
    ")"
   ]
  },
  {
   "cell_type": "markdown",
   "id": "0c5766a2",
   "metadata": {
    "papermill": {
     "duration": 0.004219,
     "end_time": "2023-07-30T06:33:14.965685",
     "exception": false,
     "start_time": "2023-07-30T06:33:14.961466",
     "status": "completed"
    },
    "tags": []
   },
   "source": [
    "### Confusion matrix"
   ]
  },
  {
   "cell_type": "code",
   "execution_count": 11,
   "id": "ccebe33b",
   "metadata": {
    "execution": {
     "iopub.execute_input": "2023-07-30T06:33:14.977718Z",
     "iopub.status.busy": "2023-07-30T06:33:14.977459Z",
     "iopub.status.idle": "2023-07-30T06:33:14.981642Z",
     "shell.execute_reply": "2023-07-30T06:33:14.981085Z"
    },
    "papermill": {
     "duration": 0.01326,
     "end_time": "2023-07-30T06:33:14.983266",
     "exception": false,
     "start_time": "2023-07-30T06:33:14.970006",
     "status": "completed"
    },
    "tags": []
   },
   "outputs": [],
   "source": [
    "# TODO"
   ]
  },
  {
   "cell_type": "markdown",
   "id": "f99d35f1",
   "metadata": {
    "papermill": {
     "duration": 0.004303,
     "end_time": "2023-07-30T06:33:14.991996",
     "exception": false,
     "start_time": "2023-07-30T06:33:14.987693",
     "status": "completed"
    },
    "tags": []
   },
   "source": [
    "### Plot predicted probabilities for each classifier over all evaluation digit images"
   ]
  },
  {
   "cell_type": "code",
   "execution_count": 12,
   "id": "d44d329d",
   "metadata": {
    "execution": {
     "iopub.execute_input": "2023-07-30T06:33:15.001895Z",
     "iopub.status.busy": "2023-07-30T06:33:15.001647Z",
     "iopub.status.idle": "2023-07-30T06:33:19.023699Z",
     "shell.execute_reply": "2023-07-30T06:33:19.023064Z"
    },
    "papermill": {
     "duration": 4.029232,
     "end_time": "2023-07-30T06:33:19.025505",
     "exception": false,
     "start_time": "2023-07-30T06:33:14.996273",
     "status": "completed"
    },
    "tags": []
   },
   "outputs": [
    {
     "data": {
      "image/png": "[encoded data removed]",
      "text/plain": [
       "<Figure size 1600x600 with 10 Axes>"
      ]
     },
     "metadata": {},
     "output_type": "display_data"
    }
   ],
   "source": [
    "def plot_per_digit_probabilities(y_pred_probs):\n",
    "    fig, axs = plt.subplots(nrows=2, ncols=5, figsize=(16, 6))\n",
    "\n",
    "    for (r, c), digit, ax in zip(\n",
    "        it.product(range(2), range(5)), range(10), axs.reshape(-1)\n",
    "    ):\n",
    "        ax.hist(y_pred_probs_test[:, digit], bins=20)\n",
    "\n",
    "        ax.set_title(f\"Digit {digit}\")\n",
    "        if r == 1 and c == 2:\n",
    "            ax.set_xlabel(\"probability\", fontsize=16)\n",
    "\n",
    "        if c == 0:\n",
    "            ax.set_ylabel(\"counts\", fontsize=16)\n",
    "        ax.set_yscale(\"log\")\n",
    "\n",
    "    fig.tight_layout()\n",
    "    fig.suptitle(\n",
    "        f\"Distributions of prediction probabilities for each digit \"\n",
    "        f\"(on evaluation data, n={y_pred_probs.shape[0]})\",\n",
    "        fontsize=20,\n",
    "    )\n",
    "    fig.tight_layout()\n",
    "    fig.show()\n",
    "\n",
    "    return fig\n",
    "\n",
    "\n",
    "fig = plot_per_digit_probabilities(y_pred_probs_test)"
   ]
  },
  {
   "cell_type": "markdown",
   "id": "781ca530",
   "metadata": {
    "papermill": {
     "duration": 0.005701,
     "end_time": "2023-07-30T06:33:19.038294",
     "exception": false,
     "start_time": "2023-07-30T06:33:19.032593",
     "status": "completed"
    },
    "tags": []
   },
   "source": [
    "From the above distributions we see that most digits have clear separation between\n",
    "high and lower probabilities. Morover, in each case there is roughly an order of\n",
    "magnitude more of digits with low probabilities. This is compatible with digits\n",
    "being roughly evenly distributed in the data."
   ]
  },
  {
   "cell_type": "code",
   "execution_count": 13,
   "id": "0325b4d4",
   "metadata": {
    "execution": {
     "iopub.execute_input": "2023-07-30T06:33:19.050481Z",
     "iopub.status.busy": "2023-07-30T06:33:19.050164Z",
     "iopub.status.idle": "2023-07-30T06:33:19.740772Z",
     "shell.execute_reply": "2023-07-30T06:33:19.740021Z"
    },
    "papermill": {
     "duration": 0.699616,
     "end_time": "2023-07-30T06:33:19.743209",
     "exception": false,
     "start_time": "2023-07-30T06:33:19.043593",
     "status": "completed"
    },
    "tags": []
   },
   "outputs": [],
   "source": [
    "ctx.log_figure(\"per-digit-probabilities.png\", fig)"
   ]
  },
  {
   "cell_type": "markdown",
   "id": "5540f3d7",
   "metadata": {
    "papermill": {
     "duration": 0.005563,
     "end_time": "2023-07-30T06:33:19.754510",
     "exception": false,
     "start_time": "2023-07-30T06:33:19.748947",
     "status": "completed"
    },
    "tags": []
   },
   "source": [
    "### Plot ROC curves for individual one-vs-rest classifiers"
   ]
  },
  {
   "cell_type": "code",
   "execution_count": 14,
   "id": "2d624af3",
   "metadata": {
    "execution": {
     "iopub.execute_input": "2023-07-30T06:33:19.767202Z",
     "iopub.status.busy": "2023-07-30T06:33:19.766916Z",
     "iopub.status.idle": "2023-07-30T06:33:20.095946Z",
     "shell.execute_reply": "2023-07-30T06:33:20.095279Z"
    },
    "papermill": {
     "duration": 0.337942,
     "end_time": "2023-07-30T06:33:20.098259",
     "exception": false,
     "start_time": "2023-07-30T06:33:19.760317",
     "status": "completed"
    },
    "tags": []
   },
   "outputs": [],
   "source": [
    "from sklearn import metrics"
   ]
  },
  {
   "cell_type": "code",
   "execution_count": 15,
   "id": "a7876ddd",
   "metadata": {
    "execution": {
     "iopub.execute_input": "2023-07-30T06:33:20.116433Z",
     "iopub.status.busy": "2023-07-30T06:33:20.115819Z",
     "iopub.status.idle": "2023-07-30T06:33:22.008302Z",
     "shell.execute_reply": "2023-07-30T06:33:22.007623Z"
    },
    "papermill": {
     "duration": 1.907489,
     "end_time": "2023-07-30T06:33:22.011593",
     "exception": false,
     "start_time": "2023-07-30T06:33:20.104104",
     "status": "completed"
    },
    "tags": []
   },
   "outputs": [
    {
     "data": {
      "image/png": "[encoded data removed]",
      "text/plain": [
       "<Figure size 1600x800 with 10 Axes>"
      ]
     },
     "metadata": {},
     "output_type": "display_data"
    }
   ],
   "source": [
    "def plot_roc_curves(y, y_pred_probs):\n",
    "    # based on example code\n",
    "    # https://scikit-learn.org/stable/auto_examples/model_selection/plot_roc.html\n",
    "\n",
    "    fig, axs = plt.subplots(nrows=2, ncols=5, figsize=(16, 8))\n",
    "\n",
    "    roc_auc_dict = {}\n",
    "\n",
    "    for (r, c), digit, ax in zip(\n",
    "        it.product(range(2), range(5)), range(10), axs.reshape(-1)\n",
    "    ):\n",
    "        fpr, tpr, _ = metrics.roc_curve(y == digit, y_pred_probs[:, digit])\n",
    "        auc = metrics.auc(fpr, tpr)\n",
    "        roc_auc_dict[str(digit)] = auc\n",
    "\n",
    "        ax.plot(fpr, tpr, label=f\"ROC AUC={round(auc, 3)}\")\n",
    "\n",
    "        ax.set_title(f\"\\nDigit {digit}\", fontsize=16)\n",
    "        if r == 1:\n",
    "            ax.set_xlabel(\"FPR\", fontsize=18)\n",
    "\n",
    "        if c == 0:\n",
    "            ax.set_ylabel(\"TPR\", fontsize=18)\n",
    "\n",
    "        ax.set_xlim([-0.05, 1.05])\n",
    "        ax.set_ylim([-0.05, 1.05])\n",
    "        ax.legend(loc=\"lower right\", frameon=False, fontsize=14)\n",
    "\n",
    "    fig.tight_layout()\n",
    "    fig.suptitle(\n",
    "        f\"ROC plots for one-vs-rest performances \"\n",
    "        f\"(on evaluation data, n={y_pred_probs_test.shape[1]}\",\n",
    "        fontsize=22,\n",
    "    )\n",
    "    fig.tight_layout()\n",
    "    fig.show()\n",
    "\n",
    "    return roc_auc_dict, fig\n",
    "\n",
    "\n",
    "roc_auc_dict, fig = plot_roc_curves(y_test, y_pred_probs_test)"
   ]
  },
  {
   "cell_type": "code",
   "execution_count": 16,
   "id": "143e403a",
   "metadata": {
    "execution": {
     "iopub.execute_input": "2023-07-30T06:33:22.026554Z",
     "iopub.status.busy": "2023-07-30T06:33:22.026247Z",
     "iopub.status.idle": "2023-07-30T06:33:22.385986Z",
     "shell.execute_reply": "2023-07-30T06:33:22.385342Z"
    },
    "papermill": {
     "duration": 0.370621,
     "end_time": "2023-07-30T06:33:22.388745",
     "exception": false,
     "start_time": "2023-07-30T06:33:22.018124",
     "status": "completed"
    },
    "tags": []
   },
   "outputs": [],
   "source": [
    "ctx.log_figure(\"per-digit-roc-curves.png\", fig)"
   ]
  },
  {
   "cell_type": "code",
   "execution_count": 17,
   "id": "3864f1c6",
   "metadata": {
    "execution": {
     "iopub.execute_input": "2023-07-30T06:33:22.407397Z",
     "iopub.status.busy": "2023-07-30T06:33:22.407067Z",
     "iopub.status.idle": "2023-07-30T06:33:22.414475Z",
     "shell.execute_reply": "2023-07-30T06:33:22.413820Z"
    },
    "papermill": {
     "duration": 0.020678,
     "end_time": "2023-07-30T06:33:22.416178",
     "exception": false,
     "start_time": "2023-07-30T06:33:22.395500",
     "status": "completed"
    },
    "tags": []
   },
   "outputs": [
    {
     "data": {
      "text/plain": [
       "{'0': 1.0,\n",
       " '1': 0.9987628865979382,\n",
       " '2': 1.0,\n",
       " '3': 0.9997750702905343,\n",
       " '4': 0.9994665447340345,\n",
       " '5': 0.998950328022493,\n",
       " '6': 0.999961896052431,\n",
       " '7': 0.9998856881572931,\n",
       " '8': 0.992827868852459,\n",
       " '9': 0.9993522328913276}"
      ]
     },
     "execution_count": 17,
     "metadata": {},
     "output_type": "execute_result"
    }
   ],
   "source": [
    "roc_auc_dict"
   ]
  },
  {
   "cell_type": "code",
   "execution_count": 18,
   "id": "5363501a",
   "metadata": {
    "execution": {
     "iopub.execute_input": "2023-07-30T06:33:22.431872Z",
     "iopub.status.busy": "2023-07-30T06:33:22.431577Z",
     "iopub.status.idle": "2023-07-30T06:33:22.437968Z",
     "shell.execute_reply": "2023-07-30T06:33:22.437381Z"
    },
    "papermill": {
     "duration": 0.017037,
     "end_time": "2023-07-30T06:33:22.440461",
     "exception": false,
     "start_time": "2023-07-30T06:33:22.423424",
     "status": "completed"
    },
    "tags": []
   },
   "outputs": [
    {
     "name": "stdout",
     "output_type": "stream",
     "text": [
      " - Logging roc_auc_per_digit (json) : {'0': 1.0, '1': 0.9987628865979382, '2': 1.0, '3': 0.9997750702905343, '4': 0.9994665447340345, '5': 0.998950328022493, '6': 0.999961896052431, '7': 0.9998856881572931, '8': 0.992827868852459, '9': 0.9993522328913276}\n"
     ]
    }
   ],
   "source": [
    "ctx.log_value(\"roc_auc_per_digit\", roc_auc_dict)"
   ]
  },
  {
   "cell_type": "markdown",
   "id": "73f2544c",
   "metadata": {
    "papermill": {
     "duration": 0.007168,
     "end_time": "2023-07-30T06:33:22.454468",
     "exception": false,
     "start_time": "2023-07-30T06:33:22.447300",
     "status": "completed"
    },
    "tags": []
   },
   "source": [
    "### Compute and log mean ROC AUC score averaged over all digits"
   ]
  },
  {
   "cell_type": "code",
   "execution_count": 19,
   "id": "d0838373",
   "metadata": {
    "execution": {
     "iopub.execute_input": "2023-07-30T06:33:22.472978Z",
     "iopub.status.busy": "2023-07-30T06:33:22.472675Z",
     "iopub.status.idle": "2023-07-30T06:33:22.486129Z",
     "shell.execute_reply": "2023-07-30T06:33:22.485493Z"
    },
    "papermill": {
     "duration": 0.026774,
     "end_time": "2023-07-30T06:33:22.487990",
     "exception": false,
     "start_time": "2023-07-30T06:33:22.461216",
     "status": "completed"
    },
    "tags": []
   },
   "outputs": [
    {
     "name": "stdout",
     "output_type": "stream",
     "text": [
      " - Logging roc_auc_class_mean (float) : 0.998898251559851\n"
     ]
    }
   ],
   "source": [
    "roc_auc_macro = np.mean(list(roc_auc_dict.values()))\n",
    "\n",
    "ctx.log_float(\"roc_auc_class_mean\", roc_auc_macro)\n",
    "\n",
    "# assert that the same value can be computed directly using sklearn\n",
    "assert roc_auc_macro == metrics.roc_auc_score(\n",
    "    y_test, y_pred_probs_test, average=\"macro\", multi_class=\"ovr\"\n",
    ")"
   ]
  },
  {
   "cell_type": "code",
   "execution_count": 20,
   "id": "fcfbe45e",
   "metadata": {
    "execution": {
     "iopub.execute_input": "2023-07-30T06:33:22.503417Z",
     "iopub.status.busy": "2023-07-30T06:33:22.503115Z",
     "iopub.status.idle": "2023-07-30T06:33:22.507649Z",
     "shell.execute_reply": "2023-07-30T06:33:22.507052Z"
    },
    "lines_to_next_cell": 0,
    "papermill": {
     "duration": 0.014251,
     "end_time": "2023-07-30T06:33:22.509405",
     "exception": false,
     "start_time": "2023-07-30T06:33:22.495154",
     "status": "completed"
    },
    "tags": []
   },
   "outputs": [],
   "source": [
    "# ---"
   ]
  },
  {
   "cell_type": "code",
   "execution_count": null,
   "id": "ea65f1b8",
   "metadata": {
    "papermill": {
     "duration": 0.007277,
     "end_time": "2023-07-30T06:33:22.524084",
     "exception": false,
     "start_time": "2023-07-30T06:33:22.516807",
     "status": "completed"
    },
    "tags": []
   },
   "outputs": [],
   "source": []
  }
 ],
 "metadata": {
  "jupytext": {
   "cell_metadata_filter": "tags,-all",
   "main_language": "python",
   "notebook_metadata_filter": "-all"
  },
  "language_info": {
   "codemirror_mode": {
    "name": "ipython",
    "version": 3
   },
   "file_extension": ".py",
   "mimetype": "text/x-python",
   "name": "python",
   "nbconvert_exporter": "python",
   "pygments_lexer": "ipython3",
   "version": "3.8.10"
  },
  "papermill": {
   "default_parameters": {},
   "duration": 11.933708,
   "end_time": "2023-07-30T06:33:24.259447",
   "environment_variables": {},
   "exception": null,
   "input_path": "/tmp/temp-notebook-en4skxrz.ipynb",
   "output_path": "/tmp/temp-notebook-en4skxrz.ipynb",
   "parameters": {
    "P": {
     "_parameters_actor_name": "parameter_for_task_0x79593fb51d0e719a",
     "task.nr_train_images": 800
    }
   },
   "start_time": "2023-07-30T06:33:12.325739",
   "version": "2.4.0"
  }
 },
 "nbformat": 4,
 "nbformat_minor": 5
}