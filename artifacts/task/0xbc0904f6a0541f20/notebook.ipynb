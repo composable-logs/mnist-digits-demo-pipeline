{
 "cells": [
  {
   "cell_type": "markdown",
   "id": "8397d848",
   "metadata": {
    "papermill": {
     "duration": 0.003972,
     "end_time": "2023-07-20T06:36:01.949665",
     "exception": false,
     "start_time": "2023-07-20T06:36:01.945693",
     "status": "completed"
    },
    "tags": []
   },
   "source": [
    "# Summarize model performances\n",
    "\n",
    "This notebooks plots the performances (using averaged ROC AUC scores) for models\n",
    "trained with different training sets."
   ]
  },
  {
   "cell_type": "markdown",
   "id": "a2b61e9a",
   "metadata": {
    "papermill": {
     "duration": 0.002428,
     "end_time": "2023-07-20T06:36:01.955282",
     "exception": false,
     "start_time": "2023-07-20T06:36:01.952854",
     "status": "completed"
    },
    "tags": []
   },
   "source": [
    "### Determine run parameters"
   ]
  },
  {
   "cell_type": "code",
   "execution_count": 1,
   "id": "a05aebde",
   "metadata": {
    "execution": {
     "iopub.execute_input": "2023-07-20T06:36:01.962102Z",
     "iopub.status.busy": "2023-07-20T06:36:01.961505Z",
     "iopub.status.idle": "2023-07-20T06:36:01.969331Z",
     "shell.execute_reply": "2023-07-20T06:36:01.968622Z"
    },
    "lines_to_next_cell": 0,
    "papermill": {
     "duration": 0.015221,
     "end_time": "2023-07-20T06:36:01.972968",
     "exception": false,
     "start_time": "2023-07-20T06:36:01.957747",
     "status": "completed"
    },
    "tags": []
   },
   "outputs": [],
   "source": [
    "# ----------------- Parameters for interactive development --------------\n",
    "P = {\n",
    "    \"workflow.run_environment\": \"dev\",\n",
    "}"
   ]
  },
  {
   "cell_type": "code",
   "execution_count": 2,
   "id": "5214cee4",
   "metadata": {
    "execution": {
     "iopub.execute_input": "2023-07-20T06:36:01.982527Z",
     "iopub.status.busy": "2023-07-20T06:36:01.982057Z",
     "iopub.status.idle": "2023-07-20T06:36:01.986895Z",
     "shell.execute_reply": "2023-07-20T06:36:01.986235Z"
    },
    "lines_to_next_cell": 0,
    "papermill": {
     "duration": 0.010482,
     "end_time": "2023-07-20T06:36:01.988559",
     "exception": false,
     "start_time": "2023-07-20T06:36:01.978077",
     "status": "completed"
    },
    "tags": [
     "parameters"
    ]
   },
   "outputs": [],
   "source": [
    "# - During automated runs parameters will be injected in the below cell -"
   ]
  },
  {
   "cell_type": "code",
   "execution_count": 3,
   "id": "cf672d4b",
   "metadata": {
    "execution": {
     "iopub.execute_input": "2023-07-20T06:36:01.995577Z",
     "iopub.status.busy": "2023-07-20T06:36:01.995068Z",
     "iopub.status.idle": "2023-07-20T06:36:01.999629Z",
     "shell.execute_reply": "2023-07-20T06:36:01.998941Z"
    },
    "papermill": {
     "duration": 0.010217,
     "end_time": "2023-07-20T06:36:02.001517",
     "exception": false,
     "start_time": "2023-07-20T06:36:01.991300",
     "status": "completed"
    },
    "tags": [
     "injected-parameters"
    ]
   },
   "outputs": [],
   "source": [
    "# Parameters\n",
    "P = {\"_parameters_actor_name\": \"parameter_for_task_0xbc0904f6a0541f20\"}\n"
   ]
  },
  {
   "cell_type": "code",
   "execution_count": 4,
   "id": "6788cd80",
   "metadata": {
    "execution": {
     "iopub.execute_input": "2023-07-20T06:36:02.008780Z",
     "iopub.status.busy": "2023-07-20T06:36:02.008077Z",
     "iopub.status.idle": "2023-07-20T06:36:02.012159Z",
     "shell.execute_reply": "2023-07-20T06:36:02.011529Z"
    },
    "lines_to_next_cell": 0,
    "papermill": {
     "duration": 0.009635,
     "end_time": "2023-07-20T06:36:02.013933",
     "exception": false,
     "start_time": "2023-07-20T06:36:02.004298",
     "status": "completed"
    },
    "tags": []
   },
   "outputs": [],
   "source": [
    "# -----------------------------------------------------------------------"
   ]
  },
  {
   "cell_type": "markdown",
   "id": "8cf0ed8e",
   "metadata": {
    "papermill": {
     "duration": 0.002584,
     "end_time": "2023-07-20T06:36:02.019260",
     "exception": false,
     "start_time": "2023-07-20T06:36:02.016676",
     "status": "completed"
    },
    "tags": []
   },
   "source": [
    "---"
   ]
  },
  {
   "cell_type": "markdown",
   "id": "c4500295",
   "metadata": {
    "lines_to_next_cell": 2,
    "papermill": {
     "duration": 0.002613,
     "end_time": "2023-07-20T06:36:02.024508",
     "exception": false,
     "start_time": "2023-07-20T06:36:02.021895",
     "status": "completed"
    },
    "tags": []
   },
   "source": [
    "### Notebook code"
   ]
  },
  {
   "cell_type": "code",
   "execution_count": 5,
   "id": "7b4e0a8f",
   "metadata": {
    "execution": {
     "iopub.execute_input": "2023-07-20T06:36:02.031708Z",
     "iopub.status.busy": "2023-07-20T06:36:02.030956Z",
     "iopub.status.idle": "2023-07-20T06:36:03.133479Z",
     "shell.execute_reply": "2023-07-20T06:36:03.132692Z"
    },
    "papermill": {
     "duration": 1.108474,
     "end_time": "2023-07-20T06:36:03.135624",
     "exception": false,
     "start_time": "2023-07-20T06:36:02.027150",
     "status": "completed"
    },
    "tags": []
   },
   "outputs": [],
   "source": [
    "#\n",
    "import pandas as pd\n",
    "import matplotlib.pyplot as plt\n",
    "\n",
    "#\n",
    "from composable_logs.tasks.task_opentelemetry_logging import get_task_context"
   ]
  },
  {
   "cell_type": "code",
   "execution_count": 6,
   "id": "6f4022d6",
   "metadata": {
    "execution": {
     "iopub.execute_input": "2023-07-20T06:36:03.144735Z",
     "iopub.status.busy": "2023-07-20T06:36:03.143901Z",
     "iopub.status.idle": "2023-07-20T06:36:03.227736Z",
     "shell.execute_reply": "2023-07-20T06:36:03.226694Z"
    },
    "papermill": {
     "duration": 0.089824,
     "end_time": "2023-07-20T06:36:03.229448",
     "exception": false,
     "start_time": "2023-07-20T06:36:03.139624",
     "status": "completed"
    },
    "tags": []
   },
   "outputs": [
    {
     "name": "stderr",
     "output_type": "stream",
     "text": [
      "2023-07-20 06:36:03,147\tINFO worker.py:1364 -- Connecting to existing Ray cluster at address: 172.17.0.2:65120...\n"
     ]
    },
    {
     "name": "stderr",
     "output_type": "stream",
     "text": [
      "2023-07-20 06:36:03,156\tINFO worker.py:1544 -- Connected to Ray cluster. View the dashboard at \u001b[1m\u001b[32mhttp://127.0.0.1:8265 \u001b[39m\u001b[22m\n"
     ]
    },
    {
     "name": "stderr",
     "output_type": "stream",
     "text": [
      "/home/host_user/.local/lib/python3.8/site-packages/ray/runtime_context.py:27: RayDeprecationWarning: This API is deprecated and may be removed in future Ray releases. You could suppress this warning by setting env variable PYTHONWARNINGS=\"ignore::DeprecationWarning\"\n",
      "Use get_job_id() instead\n",
      "  \"job_id\": self.job_id,\n",
      "/home/host_user/.local/lib/python3.8/site-packages/ray/runtime_context.py:28: RayDeprecationWarning: This API is deprecated and may be removed in future Ray releases. You could suppress this warning by setting env variable PYTHONWARNINGS=\"ignore::DeprecationWarning\"\n",
      "Use get_node_id() instead\n",
      "  \"node_id\": self.node_id,\n"
     ]
    }
   ],
   "source": [
    "logger = get_task_context(P)"
   ]
  },
  {
   "cell_type": "code",
   "execution_count": 7,
   "id": "723731c1",
   "metadata": {
    "execution": {
     "iopub.execute_input": "2023-07-20T06:36:03.237842Z",
     "iopub.status.busy": "2023-07-20T06:36:03.237082Z",
     "iopub.status.idle": "2023-07-20T06:36:03.241091Z",
     "shell.execute_reply": "2023-07-20T06:36:03.240368Z"
    },
    "papermill": {
     "duration": 0.010059,
     "end_time": "2023-07-20T06:36:03.242720",
     "exception": false,
     "start_time": "2023-07-20T06:36:03.232661",
     "status": "completed"
    },
    "tags": []
   },
   "outputs": [],
   "source": [
    "from composable_logs.tasks.task_opentelemetry_logging import get_logged_values\n",
    "from composable_logs.opentelemetry_helpers import _get_all_spans, Spans"
   ]
  },
  {
   "cell_type": "code",
   "execution_count": 8,
   "id": "1eae601f",
   "metadata": {
    "execution": {
     "iopub.execute_input": "2023-07-20T06:36:03.250951Z",
     "iopub.status.busy": "2023-07-20T06:36:03.250288Z",
     "iopub.status.idle": "2023-07-20T06:36:03.259404Z",
     "shell.execute_reply": "2023-07-20T06:36:03.258727Z"
    },
    "papermill": {
     "duration": 0.015394,
     "end_time": "2023-07-20T06:36:03.261368",
     "exception": false,
     "start_time": "2023-07-20T06:36:03.245974",
     "status": "completed"
    },
    "tags": []
   },
   "outputs": [],
   "source": [
    "def get_model_benchmarks():\n",
    "    \"\"\"\n",
    "    Query the OpenTelemetry logs for *this pipeline run* and return\n",
    "    all key-values logged from all runs of the benchmark-model.py task\n",
    "\n",
    "    For testing a json file with OpenTelemetry spans (as an array)\n",
    "    can be used as follows:\n",
    "\n",
    "    - Create output directory `mkdir /tmp/spans`\n",
    "    - Run unit tests. This will create pipeline-outputs/opentelemetry-spans.json\n",
    "    - Convert this json-array into jsonl format as follows\n",
    "\n",
    "    jq -c '.[]' /pipeline-outputs/opentelemetry-spans.json > /tmp/spans/data.txt\n",
    "\n",
    "    \"\"\"\n",
    "    spans: Spans = Spans(_get_all_spans())\n",
    "    print(f\" - Found {len(spans)} spans\")\n",
    "\n",
    "    benchmark_spans = (\n",
    "        spans\n",
    "        # -\n",
    "        .filter([\"name\"], \"execute-task\")\n",
    "        # -\n",
    "        .filter([\"attributes\", \"task.id\"], \"benchmark-model\")\n",
    "    )\n",
    "\n",
    "    result = []\n",
    "    for s in benchmark_spans:\n",
    "        result.append(\n",
    "            {\n",
    "                \"span_id\": s[\"context\"][\"span_id\"],\n",
    "                \"nr_train_images\": s[\"attributes\"][\"task.nr_train_images\"],\n",
    "                \"data\": get_logged_values(spans.bound_under(s)),\n",
    "            }\n",
    "        )\n",
    "\n",
    "    return result\n",
    "\n",
    "\n",
    "def adjust_pandas(df):\n",
    "    def column_renamer(col_name: str) -> str:\n",
    "        return (\n",
    "            col_name\n",
    "            # -- 'data.roc_auc_per_digit.4' -> 'roc_auc.4'\n",
    "            .replace(\"data.roc_auc_per_digit\", \"roc_auc\")\n",
    "            # -- 'data.roc_auc_class_mean' -> 'roc_auc_mean'\n",
    "            .replace(\"data.roc_auc_class_mean\", \"roc_auc_mean\")\n",
    "        )\n",
    "\n",
    "    return df.rename(column_renamer, axis=\"columns\").sort_values(by=\"nr_train_images\")"
   ]
  },
  {
   "cell_type": "code",
   "execution_count": 9,
   "id": "d879d681",
   "metadata": {
    "execution": {
     "iopub.execute_input": "2023-07-20T06:36:03.269536Z",
     "iopub.status.busy": "2023-07-20T06:36:03.269225Z",
     "iopub.status.idle": "2023-07-20T06:36:03.396921Z",
     "shell.execute_reply": "2023-07-20T06:36:03.396129Z"
    },
    "papermill": {
     "duration": 0.134369,
     "end_time": "2023-07-20T06:36:03.398993",
     "exception": false,
     "start_time": "2023-07-20T06:36:03.264624",
     "status": "completed"
    },
    "tags": []
   },
   "outputs": [
    {
     "name": "stdout",
     "output_type": "stream",
     "text": [
      " - Found 250 spans\n"
     ]
    }
   ],
   "source": [
    "\n",
    "df_data = adjust_pandas(pd.json_normalize(get_model_benchmarks()))"
   ]
  },
  {
   "cell_type": "code",
   "execution_count": 10,
   "id": "8541540c",
   "metadata": {
    "execution": {
     "iopub.execute_input": "2023-07-20T06:36:03.407152Z",
     "iopub.status.busy": "2023-07-20T06:36:03.406867Z",
     "iopub.status.idle": "2023-07-20T06:36:03.433158Z",
     "shell.execute_reply": "2023-07-20T06:36:03.432527Z"
    },
    "papermill": {
     "duration": 0.03231,
     "end_time": "2023-07-20T06:36:03.434876",
     "exception": false,
     "start_time": "2023-07-20T06:36:03.402566",
     "status": "completed"
    },
    "tags": []
   },
   "outputs": [
    {
     "data": {
      "text/html": [
       "<div>\n",
       "<style scoped>\n",
       "    .dataframe tbody tr th:only-of-type {\n",
       "        vertical-align: middle;\n",
       "    }\n",
       "\n",
       "    .dataframe tbody tr th {\n",
       "        vertical-align: top;\n",
       "    }\n",
       "\n",
       "    .dataframe thead th {\n",
       "        text-align: right;\n",
       "    }\n",
       "</style>\n",
       "<table border=\"1\" class=\"dataframe\">\n",
       "  <thead>\n",
       "    <tr style=\"text-align: right;\">\n",
       "      <th></th>\n",
       "      <th>span_id</th>\n",
       "      <th>nr_train_images</th>\n",
       "      <th>roc_auc_mean</th>\n",
       "      <th>roc_auc.0</th>\n",
       "      <th>roc_auc.1</th>\n",
       "      <th>roc_auc.2</th>\n",
       "      <th>roc_auc.3</th>\n",
       "      <th>roc_auc.4</th>\n",
       "      <th>roc_auc.5</th>\n",
       "      <th>roc_auc.6</th>\n",
       "      <th>roc_auc.7</th>\n",
       "      <th>roc_auc.8</th>\n",
       "      <th>roc_auc.9</th>\n",
       "    </tr>\n",
       "  </thead>\n",
       "  <tbody>\n",
       "    <tr>\n",
       "      <th>3</th>\n",
       "      <td>0xed9dc8d376283bf5</td>\n",
       "      <td>600</td>\n",
       "      <td>0.9990</td>\n",
       "      <td>1.0</td>\n",
       "      <td>0.9992</td>\n",
       "      <td>1.0</td>\n",
       "      <td>0.9997</td>\n",
       "      <td>0.9992</td>\n",
       "      <td>0.9988</td>\n",
       "      <td>0.9999</td>\n",
       "      <td>0.9998</td>\n",
       "      <td>0.9942</td>\n",
       "      <td>0.9989</td>\n",
       "    </tr>\n",
       "    <tr>\n",
       "      <th>0</th>\n",
       "      <td>0xfe6a940fe6c39c8f</td>\n",
       "      <td>800</td>\n",
       "      <td>0.9990</td>\n",
       "      <td>1.0</td>\n",
       "      <td>0.9988</td>\n",
       "      <td>1.0</td>\n",
       "      <td>0.9998</td>\n",
       "      <td>0.9995</td>\n",
       "      <td>0.9990</td>\n",
       "      <td>1.0000</td>\n",
       "      <td>0.9999</td>\n",
       "      <td>0.9935</td>\n",
       "      <td>0.9994</td>\n",
       "    </tr>\n",
       "    <tr>\n",
       "      <th>2</th>\n",
       "      <td>0x0564d3e970cb637a</td>\n",
       "      <td>1000</td>\n",
       "      <td>0.9992</td>\n",
       "      <td>1.0</td>\n",
       "      <td>0.9990</td>\n",
       "      <td>1.0</td>\n",
       "      <td>0.9999</td>\n",
       "      <td>0.9997</td>\n",
       "      <td>0.9994</td>\n",
       "      <td>0.9999</td>\n",
       "      <td>0.9998</td>\n",
       "      <td>0.9948</td>\n",
       "      <td>0.9997</td>\n",
       "    </tr>\n",
       "    <tr>\n",
       "      <th>1</th>\n",
       "      <td>0xf750761d39da7638</td>\n",
       "      <td>1200</td>\n",
       "      <td>0.9993</td>\n",
       "      <td>1.0</td>\n",
       "      <td>0.9990</td>\n",
       "      <td>1.0</td>\n",
       "      <td>0.9999</td>\n",
       "      <td>0.9998</td>\n",
       "      <td>0.9997</td>\n",
       "      <td>0.9999</td>\n",
       "      <td>0.9998</td>\n",
       "      <td>0.9956</td>\n",
       "      <td>0.9998</td>\n",
       "    </tr>\n",
       "  </tbody>\n",
       "</table>\n",
       "</div>"
      ],
      "text/plain": [
       "              span_id  nr_train_images  roc_auc_mean  roc_auc.0  roc_auc.1  \\\n",
       "3  0xed9dc8d376283bf5              600        0.9990        1.0     0.9992   \n",
       "0  0xfe6a940fe6c39c8f              800        0.9990        1.0     0.9988   \n",
       "2  0x0564d3e970cb637a             1000        0.9992        1.0     0.9990   \n",
       "1  0xf750761d39da7638             1200        0.9993        1.0     0.9990   \n",
       "\n",
       "   roc_auc.2  roc_auc.3  roc_auc.4  roc_auc.5  roc_auc.6  roc_auc.7  \\\n",
       "3        1.0     0.9997     0.9992     0.9988     0.9999     0.9998   \n",
       "0        1.0     0.9998     0.9995     0.9990     1.0000     0.9999   \n",
       "2        1.0     0.9999     0.9997     0.9994     0.9999     0.9998   \n",
       "1        1.0     0.9999     0.9998     0.9997     0.9999     0.9998   \n",
       "\n",
       "   roc_auc.8  roc_auc.9  \n",
       "3     0.9942     0.9989  \n",
       "0     0.9935     0.9994  \n",
       "2     0.9948     0.9997  \n",
       "1     0.9956     0.9998  "
      ]
     },
     "execution_count": 10,
     "metadata": {},
     "output_type": "execute_result"
    }
   ],
   "source": [
    "df_data.round(4)"
   ]
  },
  {
   "cell_type": "code",
   "execution_count": 11,
   "id": "1ac00172",
   "metadata": {
    "execution": {
     "iopub.execute_input": "2023-07-20T06:36:03.448895Z",
     "iopub.status.busy": "2023-07-20T06:36:03.448318Z",
     "iopub.status.idle": "2023-07-20T06:36:03.697758Z",
     "shell.execute_reply": "2023-07-20T06:36:03.697004Z"
    },
    "papermill": {
     "duration": 0.256354,
     "end_time": "2023-07-20T06:36:03.699825",
     "exception": false,
     "start_time": "2023-07-20T06:36:03.443471",
     "status": "completed"
    },
    "tags": []
   },
   "outputs": [
    {
     "data": {
      "image/png": "[encoded data removed]",
      "text/plain": [
       "<Figure size 1600x400 with 1 Axes>"
      ]
     },
     "metadata": {},
     "output_type": "display_data"
    }
   ],
   "source": [
    "def plot_classifier_performance_summary(df_data):\n",
    "    fig, ax = plt.subplots(nrows=1, ncols=1, figsize=(16, 4), sharex=True)\n",
    "\n",
    "    #\n",
    "    ax.plot(\n",
    "        df_data[\"nr_train_images\"], df_data[\"roc_auc_mean\"], marker=\"o\", linestyle=\"--\"\n",
    "    )\n",
    "    ax.set_title(\n",
    "        f\"ROC AUC digit classifier performance on evaluation digits\", fontsize=17\n",
    "    )\n",
    "    ax.set_xlabel(\"Total number of digits in training set\", fontsize=14)\n",
    "    ax.set_ylabel(\"Mean ROC AUC\", fontsize=14)\n",
    "\n",
    "    fig.tight_layout()\n",
    "    fig.show()\n",
    "\n",
    "    return fig\n",
    "\n",
    "\n",
    "fig = plot_classifier_performance_summary(df_data)"
   ]
  },
  {
   "cell_type": "code",
   "execution_count": 12,
   "id": "5c5c1d66",
   "metadata": {
    "execution": {
     "iopub.execute_input": "2023-07-20T06:36:03.710338Z",
     "iopub.status.busy": "2023-07-20T06:36:03.709981Z",
     "iopub.status.idle": "2023-07-20T06:36:03.803068Z",
     "shell.execute_reply": "2023-07-20T06:36:03.802256Z"
    },
    "papermill": {
     "duration": 0.10136,
     "end_time": "2023-07-20T06:36:03.805601",
     "exception": false,
     "start_time": "2023-07-20T06:36:03.704241",
     "status": "completed"
    },
    "tags": []
   },
   "outputs": [],
   "source": [
    "logger.log_figure(\"auc-roc-model-performances.png\", fig)"
   ]
  },
  {
   "cell_type": "code",
   "execution_count": 13,
   "id": "5872645d",
   "metadata": {
    "execution": {
     "iopub.execute_input": "2023-07-20T06:36:03.817220Z",
     "iopub.status.busy": "2023-07-20T06:36:03.816908Z",
     "iopub.status.idle": "2023-07-20T06:36:03.820961Z",
     "shell.execute_reply": "2023-07-20T06:36:03.820238Z"
    },
    "papermill": {
     "duration": 0.012637,
     "end_time": "2023-07-20T06:36:03.822782",
     "exception": false,
     "start_time": "2023-07-20T06:36:03.810145",
     "status": "completed"
    },
    "tags": []
   },
   "outputs": [],
   "source": [
    "###"
   ]
  },
  {
   "cell_type": "code",
   "execution_count": null,
   "id": "705ca589",
   "metadata": {
    "papermill": {
     "duration": 0.004296,
     "end_time": "2023-07-20T06:36:03.831474",
     "exception": false,
     "start_time": "2023-07-20T06:36:03.827178",
     "status": "completed"
    },
    "tags": []
   },
   "outputs": [],
   "source": []
  }
 ],
 "metadata": {
  "jupytext": {
   "cell_metadata_filter": "tags,-all",
   "main_language": "python",
   "notebook_metadata_filter": "-all"
  },
  "language_info": {
   "codemirror_mode": {
    "name": "ipython",
    "version": 3
   },
   "file_extension": ".py",
   "mimetype": "text/x-python",
   "name": "python",
   "nbconvert_exporter": "python",
   "pygments_lexer": "ipython3",
   "version": "3.8.10"
  },
  "papermill": {
   "default_parameters": {},
   "duration": 5.35694,
   "end_time": "2023-07-20T06:36:05.867553",
   "environment_variables": {},
   "exception": null,
   "input_path": "/tmp/temp-notebook-e6asls1i.ipynb",
   "output_path": "/tmp/temp-notebook-e6asls1i.ipynb",
   "parameters": {
    "P": {
     "_parameters_actor_name": "parameter_for_task_0xbc0904f6a0541f20"
    }
   },
   "start_time": "2023-07-20T06:36:00.510613",
   "version": "2.4.0"
  }
 },
 "nbformat": 4,
 "nbformat_minor": 5
}