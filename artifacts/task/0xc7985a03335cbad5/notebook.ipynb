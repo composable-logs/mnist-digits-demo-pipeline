{
 "cells": [
  {
   "cell_type": "markdown",
   "id": "fd5d4d26",
   "metadata": {
    "papermill": {
     "duration": 0.006898,
     "end_time": "2023-07-22T06:35:58.155483",
     "exception": false,
     "start_time": "2023-07-22T06:35:58.148585",
     "status": "completed"
    },
    "tags": []
   },
   "source": [
    "# Benchmark model\n",
    "\n",
    "The purpose of this notebook is to benchmark persisted onnx-model (trained in the\n",
    "previous step) against evaluation set."
   ]
  },
  {
   "cell_type": "markdown",
   "id": "18d93312",
   "metadata": {
    "papermill": {
     "duration": 0.004868,
     "end_time": "2023-07-22T06:35:58.168027",
     "exception": false,
     "start_time": "2023-07-22T06:35:58.163159",
     "status": "completed"
    },
    "tags": []
   },
   "source": [
    "### Determine run parameters"
   ]
  },
  {
   "cell_type": "code",
   "execution_count": 1,
   "id": "55063f6a",
   "metadata": {
    "execution": {
     "iopub.execute_input": "2023-07-22T06:35:58.181863Z",
     "iopub.status.busy": "2023-07-22T06:35:58.181163Z",
     "iopub.status.idle": "2023-07-22T06:35:58.191868Z",
     "shell.execute_reply": "2023-07-22T06:35:58.190913Z"
    },
    "lines_to_next_cell": 0,
    "papermill": {
     "duration": 0.020596,
     "end_time": "2023-07-22T06:35:58.194312",
     "exception": false,
     "start_time": "2023-07-22T06:35:58.173716",
     "status": "completed"
    },
    "tags": []
   },
   "outputs": [],
   "source": [
    "# ----------------- Parameters for interactive development --------------\n",
    "P = {\n",
    "    \"workflow.data_lake_root\": \"/pipeline-outputs/data-lake\",\n",
    "    \"task.nr_train_images\": 600,\n",
    "}"
   ]
  },
  {
   "cell_type": "code",
   "execution_count": 2,
   "id": "bfd98a23",
   "metadata": {
    "execution": {
     "iopub.execute_input": "2023-07-22T06:35:58.206498Z",
     "iopub.status.busy": "2023-07-22T06:35:58.206177Z",
     "iopub.status.idle": "2023-07-22T06:35:58.211857Z",
     "shell.execute_reply": "2023-07-22T06:35:58.211058Z"
    },
    "lines_to_next_cell": 0,
    "papermill": {
     "duration": 0.014973,
     "end_time": "2023-07-22T06:35:58.214248",
     "exception": false,
     "start_time": "2023-07-22T06:35:58.199275",
     "status": "completed"
    },
    "tags": [
     "parameters"
    ]
   },
   "outputs": [],
   "source": [
    "# - During automated runs parameters will be injected in the below cell -"
   ]
  },
  {
   "cell_type": "code",
   "execution_count": 3,
   "id": "2d09abe2",
   "metadata": {
    "execution": {
     "iopub.execute_input": "2023-07-22T06:35:58.226173Z",
     "iopub.status.busy": "2023-07-22T06:35:58.225864Z",
     "iopub.status.idle": "2023-07-22T06:35:58.231894Z",
     "shell.execute_reply": "2023-07-22T06:35:58.230316Z"
    },
    "papermill": {
     "duration": 0.014554,
     "end_time": "2023-07-22T06:35:58.233977",
     "exception": false,
     "start_time": "2023-07-22T06:35:58.219423",
     "status": "completed"
    },
    "tags": [
     "injected-parameters"
    ]
   },
   "outputs": [],
   "source": [
    "# Parameters\n",
    "P = {\n",
    "    \"task.nr_train_images\": 1000,\n",
    "    \"_parameters_actor_name\": \"parameter_for_task_0xc7985a03335cbad5\",\n",
    "}\n"
   ]
  },
  {
   "cell_type": "code",
   "execution_count": 4,
   "id": "242e10a7",
   "metadata": {
    "execution": {
     "iopub.execute_input": "2023-07-22T06:35:58.246484Z",
     "iopub.status.busy": "2023-07-22T06:35:58.246159Z",
     "iopub.status.idle": "2023-07-22T06:35:58.251604Z",
     "shell.execute_reply": "2023-07-22T06:35:58.250486Z"
    },
    "lines_to_next_cell": 0,
    "papermill": {
     "duration": 0.014879,
     "end_time": "2023-07-22T06:35:58.253961",
     "exception": false,
     "start_time": "2023-07-22T06:35:58.239082",
     "status": "completed"
    },
    "tags": []
   },
   "outputs": [],
   "source": [
    "# -----------------------------------------------------------------------"
   ]
  },
  {
   "cell_type": "markdown",
   "id": "5b477c6c",
   "metadata": {
    "papermill": {
     "duration": 0.006967,
     "end_time": "2023-07-22T06:35:58.265911",
     "exception": false,
     "start_time": "2023-07-22T06:35:58.258944",
     "status": "completed"
    },
    "tags": []
   },
   "source": [
    "---"
   ]
  },
  {
   "cell_type": "markdown",
   "id": "0f4e1044",
   "metadata": {
    "lines_to_next_cell": 2,
    "papermill": {
     "duration": 0.005445,
     "end_time": "2023-07-22T06:35:58.276413",
     "exception": false,
     "start_time": "2023-07-22T06:35:58.270968",
     "status": "completed"
    },
    "tags": []
   },
   "source": [
    "### Notebook code"
   ]
  },
  {
   "cell_type": "code",
   "execution_count": 5,
   "id": "b505b0df",
   "metadata": {
    "execution": {
     "iopub.execute_input": "2023-07-22T06:35:58.288164Z",
     "iopub.status.busy": "2023-07-22T06:35:58.287811Z",
     "iopub.status.idle": "2023-07-22T06:35:59.525318Z",
     "shell.execute_reply": "2023-07-22T06:35:59.519909Z"
    },
    "papermill": {
     "duration": 1.250309,
     "end_time": "2023-07-22T06:35:59.531517",
     "exception": false,
     "start_time": "2023-07-22T06:35:58.281208",
     "status": "completed"
    },
    "tags": []
   },
   "outputs": [
    {
     "name": "stderr",
     "output_type": "stream",
     "text": [
      "2023-07-22 06:35:59,418\tINFO worker.py:1364 -- Connecting to existing Ray cluster at address: 172.17.0.2:57687...\n"
     ]
    },
    {
     "name": "stderr",
     "output_type": "stream",
     "text": [
      "2023-07-22 06:35:59,432\tINFO worker.py:1544 -- Connected to Ray cluster. View the dashboard at \u001b[1m\u001b[32mhttp://127.0.0.1:8265 \u001b[39m\u001b[22m\n"
     ]
    },
    {
     "name": "stderr",
     "output_type": "stream",
     "text": [
      "/home/host_user/.local/lib/python3.8/site-packages/ray/runtime_context.py:27: RayDeprecationWarning: This API is deprecated and may be removed in future Ray releases. You could suppress this warning by setting env variable PYTHONWARNINGS=\"ignore::DeprecationWarning\"\n",
      "Use get_job_id() instead\n",
      "  \"job_id\": self.job_id,\n",
      "/home/host_user/.local/lib/python3.8/site-packages/ray/runtime_context.py:28: RayDeprecationWarning: This API is deprecated and may be removed in future Ray releases. You could suppress this warning by setting env variable PYTHONWARNINGS=\"ignore::DeprecationWarning\"\n",
      "Use get_node_id() instead\n",
      "  \"node_id\": self.node_id,\n"
     ]
    }
   ],
   "source": [
    "import itertools as it\n",
    "\n",
    "#\n",
    "import numpy as np\n",
    "import matplotlib.pyplot as plt\n",
    "\n",
    "#\n",
    "from composable_logs.tasks.task_opentelemetry_logging import get_task_context\n",
    "\n",
    "#\n",
    "from common.io import datalake_root\n",
    "\n",
    "ctx = get_task_context(P)"
   ]
  },
  {
   "cell_type": "markdown",
   "id": "2280b63d",
   "metadata": {
    "papermill": {
     "duration": 0.005421,
     "end_time": "2023-07-22T06:35:59.544191",
     "exception": false,
     "start_time": "2023-07-22T06:35:59.538770",
     "status": "completed"
    },
    "tags": []
   },
   "source": [
    "## Load persisted onnx-model and evaluation data"
   ]
  },
  {
   "cell_type": "code",
   "execution_count": 6,
   "id": "9a97613a",
   "metadata": {
    "execution": {
     "iopub.execute_input": "2023-07-22T06:35:59.557375Z",
     "iopub.status.busy": "2023-07-22T06:35:59.556094Z",
     "iopub.status.idle": "2023-07-22T06:35:59.561681Z",
     "shell.execute_reply": "2023-07-22T06:35:59.560869Z"
    },
    "papermill": {
     "duration": 0.014482,
     "end_time": "2023-07-22T06:35:59.563697",
     "exception": false,
     "start_time": "2023-07-22T06:35:59.549215",
     "status": "completed"
    },
    "tags": []
   },
   "outputs": [],
   "source": [
    "from common.io import read_onnx, get_onnx_inputs, get_onnx_outputs, read_numpy"
   ]
  },
  {
   "cell_type": "code",
   "execution_count": 7,
   "id": "d603826b",
   "metadata": {
    "execution": {
     "iopub.execute_input": "2023-07-22T06:35:59.577453Z",
     "iopub.status.busy": "2023-07-22T06:35:59.576537Z",
     "iopub.status.idle": "2023-07-22T06:35:59.586619Z",
     "shell.execute_reply": "2023-07-22T06:35:59.585789Z"
    },
    "lines_to_next_cell": 0,
    "papermill": {
     "duration": 0.019246,
     "end_time": "2023-07-22T06:35:59.588747",
     "exception": false,
     "start_time": "2023-07-22T06:35:59.569501",
     "status": "completed"
    },
    "tags": []
   },
   "outputs": [],
   "source": [
    "onnx_inference_session = read_onnx(\n",
    "    datalake_root(ctx)\n",
    "    / \"models\"\n",
    "    / f\"nr_train_images={ctx.parameters['task.nr_train_images']}\"\n",
    "    / \"model.onnx\"\n",
    ")"
   ]
  },
  {
   "cell_type": "markdown",
   "id": "5c88d89a",
   "metadata": {
    "papermill": {
     "duration": 0.005133,
     "end_time": "2023-07-22T06:35:59.599604",
     "exception": false,
     "start_time": "2023-07-22T06:35:59.594471",
     "status": "completed"
    },
    "tags": []
   },
   "source": [
    "### Record structure of inputs and outputs for ONNX model\n",
    "\n",
    "(this should likely be done in training notebook)"
   ]
  },
  {
   "cell_type": "code",
   "execution_count": 8,
   "id": "4c71a431",
   "metadata": {
    "execution": {
     "iopub.execute_input": "2023-07-22T06:35:59.616630Z",
     "iopub.status.busy": "2023-07-22T06:35:59.615649Z",
     "iopub.status.idle": "2023-07-22T06:35:59.622434Z",
     "shell.execute_reply": "2023-07-22T06:35:59.621652Z"
    },
    "papermill": {
     "duration": 0.03088,
     "end_time": "2023-07-22T06:35:59.636007",
     "exception": false,
     "start_time": "2023-07-22T06:35:59.605127",
     "status": "completed"
    },
    "tags": []
   },
   "outputs": [
    {
     "name": "stdout",
     "output_type": "stream",
     "text": [
      "{\n",
      "  \"inputs\": [\n",
      "    {\n",
      "      \"name\": \"float_input_8x8_image\",\n",
      "      \"shape\": [\n",
      "        null,\n",
      "        64\n",
      "      ],\n",
      "      \"type\": \"tensor(float)\"\n",
      "    }\n",
      "  ],\n",
      "  \"outputs\": [\n",
      "    {\n",
      "      \"name\": \"output_label\",\n",
      "      \"shape\": [\n",
      "        null\n",
      "      ],\n",
      "      \"type\": \"tensor(int64)\"\n",
      "    },\n",
      "    {\n",
      "      \"name\": \"output_probability\",\n",
      "      \"shape\": [],\n",
      "      \"type\": \"seq(map(int64,tensor(float)))\"\n",
      "    }\n",
      "  ]\n",
      "}\n"
     ]
    }
   ],
   "source": [
    "import json\n",
    "\n",
    "onnx_io = json.dumps(\n",
    "    {\n",
    "        \"inputs\": get_onnx_inputs(onnx_inference_session),\n",
    "        \"outputs\": get_onnx_outputs(onnx_inference_session),\n",
    "    },\n",
    "    indent=2,\n",
    ")\n",
    "\n",
    "\n",
    "ctx.log_artefact(\"onnx_io_structure.json\", onnx_io)\n",
    "print(onnx_io)"
   ]
  },
  {
   "cell_type": "markdown",
   "id": "f2b7e927",
   "metadata": {
    "papermill": {
     "duration": 0.00562,
     "end_time": "2023-07-22T06:35:59.648511",
     "exception": false,
     "start_time": "2023-07-22T06:35:59.642891",
     "status": "completed"
    },
    "tags": []
   },
   "source": [
    "### Evaluate model performance on evaluation data set"
   ]
  },
  {
   "cell_type": "code",
   "execution_count": 9,
   "id": "873d5058",
   "metadata": {
    "execution": {
     "iopub.execute_input": "2023-07-22T06:35:59.661226Z",
     "iopub.status.busy": "2023-07-22T06:35:59.660773Z",
     "iopub.status.idle": "2023-07-22T06:35:59.668935Z",
     "shell.execute_reply": "2023-07-22T06:35:59.668099Z"
    },
    "papermill": {
     "duration": 0.017041,
     "end_time": "2023-07-22T06:35:59.671013",
     "exception": false,
     "start_time": "2023-07-22T06:35:59.653972",
     "status": "completed"
    },
    "tags": []
   },
   "outputs": [],
   "source": [
    "# load evaluation data\n",
    "X_test = read_numpy(datalake_root(ctx) / \"test-data\" / \"digits.numpy\")\n",
    "y_test = read_numpy(datalake_root(ctx) / \"test-data\" / \"labels.numpy\")"
   ]
  },
  {
   "cell_type": "code",
   "execution_count": 10,
   "id": "3a540076",
   "metadata": {
    "execution": {
     "iopub.execute_input": "2023-07-22T06:35:59.686923Z",
     "iopub.status.busy": "2023-07-22T06:35:59.686145Z",
     "iopub.status.idle": "2023-07-22T06:35:59.701768Z",
     "shell.execute_reply": "2023-07-22T06:35:59.700261Z"
    },
    "papermill": {
     "duration": 0.026929,
     "end_time": "2023-07-22T06:35:59.704710",
     "exception": false,
     "start_time": "2023-07-22T06:35:59.677781",
     "status": "completed"
    },
    "tags": []
   },
   "outputs": [],
   "source": [
    "def get_model_outputs(X, onnx_inference_session):\n",
    "    y_pred_labels, y_pred_map = onnx_inference_session.run(\n",
    "        [\"output_label\", \"output_probability\"],\n",
    "        {\"float_input_8x8_image\": X.astype(np.float32)},\n",
    "    )\n",
    "    y_pred_probs = np.array(\n",
    "        [[probabilities[digit] for digit in range(10)] for probabilities in y_pred_map]\n",
    "    )\n",
    "\n",
    "    assert y_pred_labels.shape == (X.shape[0],)\n",
    "    assert y_pred_probs.shape == (X.shape[0], 10)\n",
    "\n",
    "    return y_pred_labels, y_pred_probs\n",
    "\n",
    "\n",
    "# Note: as shown in the training notebook, the predicted labels and probabilities\n",
    "# computed below need not be compatible.\n",
    "y_pred_labels_test, y_pred_probs_test = get_model_outputs(\n",
    "    X_test, onnx_inference_session\n",
    ")"
   ]
  },
  {
   "cell_type": "markdown",
   "id": "9cd4d7a4",
   "metadata": {
    "papermill": {
     "duration": 0.007322,
     "end_time": "2023-07-22T06:35:59.719085",
     "exception": false,
     "start_time": "2023-07-22T06:35:59.711763",
     "status": "completed"
    },
    "tags": []
   },
   "source": [
    "### Confusion matrix"
   ]
  },
  {
   "cell_type": "code",
   "execution_count": 11,
   "id": "7285443b",
   "metadata": {
    "execution": {
     "iopub.execute_input": "2023-07-22T06:35:59.739303Z",
     "iopub.status.busy": "2023-07-22T06:35:59.738882Z",
     "iopub.status.idle": "2023-07-22T06:35:59.745408Z",
     "shell.execute_reply": "2023-07-22T06:35:59.744580Z"
    },
    "papermill": {
     "duration": 0.021898,
     "end_time": "2023-07-22T06:35:59.748040",
     "exception": false,
     "start_time": "2023-07-22T06:35:59.726142",
     "status": "completed"
    },
    "tags": []
   },
   "outputs": [],
   "source": [
    "# TODO"
   ]
  },
  {
   "cell_type": "markdown",
   "id": "cdb5cf41",
   "metadata": {
    "papermill": {
     "duration": 0.00614,
     "end_time": "2023-07-22T06:35:59.761040",
     "exception": false,
     "start_time": "2023-07-22T06:35:59.754900",
     "status": "completed"
    },
    "tags": []
   },
   "source": [
    "### Plot predicted probabilities for each classifier over all evaluation digit images"
   ]
  },
  {
   "cell_type": "code",
   "execution_count": 12,
   "id": "16d578e0",
   "metadata": {
    "execution": {
     "iopub.execute_input": "2023-07-22T06:35:59.776636Z",
     "iopub.status.busy": "2023-07-22T06:35:59.775766Z",
     "iopub.status.idle": "2023-07-22T06:36:05.486684Z",
     "shell.execute_reply": "2023-07-22T06:36:05.485749Z"
    },
    "papermill": {
     "duration": 5.720732,
     "end_time": "2023-07-22T06:36:05.488792",
     "exception": false,
     "start_time": "2023-07-22T06:35:59.768060",
     "status": "completed"
    },
    "tags": []
   },
   "outputs": [
    {
     "data": {
      "image/png": "[encoded data removed]",
      "text/plain": [
       "<Figure size 1600x600 with 10 Axes>"
      ]
     },
     "metadata": {},
     "output_type": "display_data"
    }
   ],
   "source": [
    "def plot_per_digit_probabilities(y_pred_probs):\n",
    "    fig, axs = plt.subplots(nrows=2, ncols=5, figsize=(16, 6))\n",
    "\n",
    "    for (r, c), digit, ax in zip(\n",
    "        it.product(range(2), range(5)), range(10), axs.reshape(-1)\n",
    "    ):\n",
    "        ax.hist(y_pred_probs_test[:, digit], bins=20)\n",
    "\n",
    "        ax.set_title(f\"Digit {digit}\")\n",
    "        if r == 1 and c == 2:\n",
    "            ax.set_xlabel(\"probability\", fontsize=16)\n",
    "\n",
    "        if c == 0:\n",
    "            ax.set_ylabel(\"counts\", fontsize=16)\n",
    "        ax.set_yscale(\"log\")\n",
    "\n",
    "    fig.tight_layout()\n",
    "    fig.suptitle(\n",
    "        f\"Distributions of prediction probabilities for each digit \"\n",
    "        f\"(on evaluation data, n={y_pred_probs.shape[0]})\",\n",
    "        fontsize=20,\n",
    "    )\n",
    "    fig.tight_layout()\n",
    "    fig.show()\n",
    "\n",
    "    return fig\n",
    "\n",
    "\n",
    "fig = plot_per_digit_probabilities(y_pred_probs_test)"
   ]
  },
  {
   "cell_type": "markdown",
   "id": "b62c9a1f",
   "metadata": {
    "papermill": {
     "duration": 0.006687,
     "end_time": "2023-07-22T06:36:05.502126",
     "exception": false,
     "start_time": "2023-07-22T06:36:05.495439",
     "status": "completed"
    },
    "tags": []
   },
   "source": [
    "From the above distributions we see that most digits have clear separation between\n",
    "high and lower probabilities. Morover, in each case there is roughly an order of\n",
    "magnitude more of digits with low probabilities. This is compatible with digits\n",
    "being roughly evenly distributed in the data."
   ]
  },
  {
   "cell_type": "code",
   "execution_count": 13,
   "id": "085301e8",
   "metadata": {
    "execution": {
     "iopub.execute_input": "2023-07-22T06:36:05.519796Z",
     "iopub.status.busy": "2023-07-22T06:36:05.519413Z",
     "iopub.status.idle": "2023-07-22T06:36:06.420605Z",
     "shell.execute_reply": "2023-07-22T06:36:06.419534Z"
    },
    "papermill": {
     "duration": 0.912187,
     "end_time": "2023-07-22T06:36:06.423039",
     "exception": false,
     "start_time": "2023-07-22T06:36:05.510852",
     "status": "completed"
    },
    "tags": []
   },
   "outputs": [],
   "source": [
    "ctx.log_figure(\"per-digit-probabilities.png\", fig)"
   ]
  },
  {
   "cell_type": "markdown",
   "id": "ceaa7850",
   "metadata": {
    "papermill": {
     "duration": 0.006732,
     "end_time": "2023-07-22T06:36:06.437555",
     "exception": false,
     "start_time": "2023-07-22T06:36:06.430823",
     "status": "completed"
    },
    "tags": []
   },
   "source": [
    "### Plot ROC curves for individual one-vs-rest classifiers"
   ]
  },
  {
   "cell_type": "code",
   "execution_count": 14,
   "id": "b2b1dd06",
   "metadata": {
    "execution": {
     "iopub.execute_input": "2023-07-22T06:36:06.456164Z",
     "iopub.status.busy": "2023-07-22T06:36:06.455409Z",
     "iopub.status.idle": "2023-07-22T06:36:06.850840Z",
     "shell.execute_reply": "2023-07-22T06:36:06.849883Z"
    },
    "papermill": {
     "duration": 0.407131,
     "end_time": "2023-07-22T06:36:06.854215",
     "exception": false,
     "start_time": "2023-07-22T06:36:06.447084",
     "status": "completed"
    },
    "tags": []
   },
   "outputs": [],
   "source": [
    "from sklearn import metrics"
   ]
  },
  {
   "cell_type": "code",
   "execution_count": 15,
   "id": "4e10b55b",
   "metadata": {
    "execution": {
     "iopub.execute_input": "2023-07-22T06:36:06.870426Z",
     "iopub.status.busy": "2023-07-22T06:36:06.870014Z",
     "iopub.status.idle": "2023-07-22T06:36:09.574150Z",
     "shell.execute_reply": "2023-07-22T06:36:09.573215Z"
    },
    "papermill": {
     "duration": 2.714435,
     "end_time": "2023-07-22T06:36:09.576267",
     "exception": false,
     "start_time": "2023-07-22T06:36:06.861832",
     "status": "completed"
    },
    "tags": []
   },
   "outputs": [
    {
     "data": {
      "image/png": "[encoded data removed]",
      "text/plain": [
       "<Figure size 1600x800 with 10 Axes>"
      ]
     },
     "metadata": {},
     "output_type": "display_data"
    }
   ],
   "source": [
    "def plot_roc_curves(y, y_pred_probs):\n",
    "    # based on example code\n",
    "    # https://scikit-learn.org/stable/auto_examples/model_selection/plot_roc.html\n",
    "\n",
    "    fig, axs = plt.subplots(nrows=2, ncols=5, figsize=(16, 8))\n",
    "\n",
    "    roc_auc_dict = {}\n",
    "\n",
    "    for (r, c), digit, ax in zip(\n",
    "        it.product(range(2), range(5)), range(10), axs.reshape(-1)\n",
    "    ):\n",
    "        fpr, tpr, _ = metrics.roc_curve(y == digit, y_pred_probs[:, digit])\n",
    "        auc = metrics.auc(fpr, tpr)\n",
    "        roc_auc_dict[str(digit)] = auc\n",
    "\n",
    "        ax.plot(fpr, tpr, label=f\"ROC AUC={round(auc, 3)}\")\n",
    "\n",
    "        ax.set_title(f\"\\nDigit {digit}\", fontsize=16)\n",
    "        if r == 1:\n",
    "            ax.set_xlabel(\"FPR\", fontsize=18)\n",
    "\n",
    "        if c == 0:\n",
    "            ax.set_ylabel(\"TPR\", fontsize=18)\n",
    "\n",
    "        ax.set_xlim([-0.05, 1.05])\n",
    "        ax.set_ylim([-0.05, 1.05])\n",
    "        ax.legend(loc=\"lower right\", frameon=False, fontsize=14)\n",
    "\n",
    "    fig.tight_layout()\n",
    "    fig.suptitle(\n",
    "        f\"ROC plots for one-vs-rest performances \"\n",
    "        f\"(on evaluation data, n={y_pred_probs_test.shape[1]}\",\n",
    "        fontsize=22,\n",
    "    )\n",
    "    fig.tight_layout()\n",
    "    fig.show()\n",
    "\n",
    "    return roc_auc_dict, fig\n",
    "\n",
    "\n",
    "roc_auc_dict, fig = plot_roc_curves(y_test, y_pred_probs_test)"
   ]
  },
  {
   "cell_type": "code",
   "execution_count": 16,
   "id": "b9efd6a6",
   "metadata": {
    "execution": {
     "iopub.execute_input": "2023-07-22T06:36:09.594516Z",
     "iopub.status.busy": "2023-07-22T06:36:09.593636Z",
     "iopub.status.idle": "2023-07-22T06:36:10.061763Z",
     "shell.execute_reply": "2023-07-22T06:36:10.060485Z"
    },
    "papermill": {
     "duration": 0.479829,
     "end_time": "2023-07-22T06:36:10.064623",
     "exception": false,
     "start_time": "2023-07-22T06:36:09.584794",
     "status": "completed"
    },
    "tags": []
   },
   "outputs": [],
   "source": [
    "ctx.log_figure(\"per-digit-roc-curves.png\", fig)"
   ]
  },
  {
   "cell_type": "code",
   "execution_count": 17,
   "id": "814a24d3",
   "metadata": {
    "execution": {
     "iopub.execute_input": "2023-07-22T06:36:10.082090Z",
     "iopub.status.busy": "2023-07-22T06:36:10.081342Z",
     "iopub.status.idle": "2023-07-22T06:36:10.088905Z",
     "shell.execute_reply": "2023-07-22T06:36:10.086739Z"
    },
    "papermill": {
     "duration": 0.018666,
     "end_time": "2023-07-22T06:36:10.091145",
     "exception": false,
     "start_time": "2023-07-22T06:36:10.072479",
     "status": "completed"
    },
    "tags": []
   },
   "outputs": [
    {
     "data": {
      "text/plain": [
       "{'0': 1.0,\n",
       " '1': 0.999025304592315,\n",
       " '2': 1.0,\n",
       " '3': 0.9998875351452671,\n",
       " '4': 0.9996570644718793,\n",
       " '5': 0.9994376757263355,\n",
       " '6': 0.999923792104862,\n",
       " '7': 0.9997713763145862,\n",
       " '8': 0.994640605296343,\n",
       " '9': 0.9995427526291724}"
      ]
     },
     "execution_count": 17,
     "metadata": {},
     "output_type": "execute_result"
    }
   ],
   "source": [
    "roc_auc_dict"
   ]
  },
  {
   "cell_type": "code",
   "execution_count": 18,
   "id": "5c809c30",
   "metadata": {
    "execution": {
     "iopub.execute_input": "2023-07-22T06:36:10.108383Z",
     "iopub.status.busy": "2023-07-22T06:36:10.107979Z",
     "iopub.status.idle": "2023-07-22T06:36:10.115437Z",
     "shell.execute_reply": "2023-07-22T06:36:10.114531Z"
    },
    "papermill": {
     "duration": 0.018164,
     "end_time": "2023-07-22T06:36:10.117416",
     "exception": false,
     "start_time": "2023-07-22T06:36:10.099252",
     "status": "completed"
    },
    "tags": []
   },
   "outputs": [
    {
     "name": "stdout",
     "output_type": "stream",
     "text": [
      " - Logging roc_auc_per_digit (json) : {'0': 1.0, '1': 0.999025304592315, '2': 1.0, '3': 0.9998875351452671, '4': 0.9996570644718793, '5': 0.9994376757263355, '6': 0.999923792104862, '7': 0.9997713763145862, '8': 0.994640605296343, '9': 0.9995427526291724}\n"
     ]
    }
   ],
   "source": [
    "ctx.log_value(\"roc_auc_per_digit\", roc_auc_dict)"
   ]
  },
  {
   "cell_type": "markdown",
   "id": "5c1cc0ad",
   "metadata": {
    "papermill": {
     "duration": 0.007401,
     "end_time": "2023-07-22T06:36:10.132621",
     "exception": false,
     "start_time": "2023-07-22T06:36:10.125220",
     "status": "completed"
    },
    "tags": []
   },
   "source": [
    "### Compute and log mean ROC AUC score averaged over all digits"
   ]
  },
  {
   "cell_type": "code",
   "execution_count": 19,
   "id": "5a66776d",
   "metadata": {
    "execution": {
     "iopub.execute_input": "2023-07-22T06:36:10.151440Z",
     "iopub.status.busy": "2023-07-22T06:36:10.151073Z",
     "iopub.status.idle": "2023-07-22T06:36:10.170486Z",
     "shell.execute_reply": "2023-07-22T06:36:10.169499Z"
    },
    "papermill": {
     "duration": 0.032519,
     "end_time": "2023-07-22T06:36:10.172746",
     "exception": false,
     "start_time": "2023-07-22T06:36:10.140227",
     "status": "completed"
    },
    "tags": []
   },
   "outputs": [
    {
     "name": "stdout",
     "output_type": "stream",
     "text": [
      " - Logging roc_auc_class_mean (float) : 0.9991886106280761\n"
     ]
    }
   ],
   "source": [
    "roc_auc_macro = np.mean(list(roc_auc_dict.values()))\n",
    "\n",
    "ctx.log_float(\"roc_auc_class_mean\", roc_auc_macro)\n",
    "\n",
    "# assert that the same value can be computed directly using sklearn\n",
    "assert roc_auc_macro == metrics.roc_auc_score(\n",
    "    y_test, y_pred_probs_test, average=\"macro\", multi_class=\"ovr\"\n",
    ")"
   ]
  },
  {
   "cell_type": "code",
   "execution_count": 20,
   "id": "15daac3d",
   "metadata": {
    "execution": {
     "iopub.execute_input": "2023-07-22T06:36:10.191788Z",
     "iopub.status.busy": "2023-07-22T06:36:10.191408Z",
     "iopub.status.idle": "2023-07-22T06:36:10.197095Z",
     "shell.execute_reply": "2023-07-22T06:36:10.196089Z"
    },
    "lines_to_next_cell": 0,
    "papermill": {
     "duration": 0.017656,
     "end_time": "2023-07-22T06:36:10.199036",
     "exception": false,
     "start_time": "2023-07-22T06:36:10.181380",
     "status": "completed"
    },
    "tags": []
   },
   "outputs": [],
   "source": [
    "# ---"
   ]
  },
  {
   "cell_type": "code",
   "execution_count": null,
   "id": "c5a5b9c7",
   "metadata": {
    "papermill": {
     "duration": 0.007588,
     "end_time": "2023-07-22T06:36:10.216147",
     "exception": false,
     "start_time": "2023-07-22T06:36:10.208559",
     "status": "completed"
    },
    "tags": []
   },
   "outputs": [],
   "source": []
  }
 ],
 "metadata": {
  "jupytext": {
   "cell_metadata_filter": "tags,-all",
   "main_language": "python",
   "notebook_metadata_filter": "-all"
  },
  "language_info": {
   "codemirror_mode": {
    "name": "ipython",
    "version": 3
   },
   "file_extension": ".py",
   "mimetype": "text/x-python",
   "name": "python",
   "nbconvert_exporter": "python",
   "pygments_lexer": "ipython3",
   "version": "3.8.10"
  },
  "papermill": {
   "default_parameters": {},
   "duration": 16.035779,
   "end_time": "2023-07-22T06:36:12.460454",
   "environment_variables": {},
   "exception": null,
   "input_path": "/tmp/temp-notebook-t45o7vq5.ipynb",
   "output_path": "/tmp/temp-notebook-t45o7vq5.ipynb",
   "parameters": {
    "P": {
     "_parameters_actor_name": "parameter_for_task_0xc7985a03335cbad5",
     "task.nr_train_images": 1000
    }
   },
   "start_time": "2023-07-22T06:35:56.424675",
   "version": "2.4.0"
  }
 },
 "nbformat": 4,
 "nbformat_minor": 5
}