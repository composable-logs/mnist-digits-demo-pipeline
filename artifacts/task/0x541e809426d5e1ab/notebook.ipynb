{
 "cells": [
  {
   "cell_type": "markdown",
   "id": "ce0058a6",
   "metadata": {
    "papermill": {
     "duration": 0.0039,
     "end_time": "2023-07-30T06:33:43.685812",
     "exception": false,
     "start_time": "2023-07-30T06:33:43.681912",
     "status": "completed"
    },
    "tags": []
   },
   "source": [
    "# Summarize model performances\n",
    "\n",
    "This notebooks plots the performances (using averaged ROC AUC scores) for models\n",
    "trained with different training sets."
   ]
  },
  {
   "cell_type": "markdown",
   "id": "eb1e7ff2",
   "metadata": {
    "papermill": {
     "duration": 0.002525,
     "end_time": "2023-07-30T06:33:43.691638",
     "exception": false,
     "start_time": "2023-07-30T06:33:43.689113",
     "status": "completed"
    },
    "tags": []
   },
   "source": [
    "### Determine run parameters"
   ]
  },
  {
   "cell_type": "code",
   "execution_count": 1,
   "id": "41bbba97",
   "metadata": {
    "execution": {
     "iopub.execute_input": "2023-07-30T06:33:43.699197Z",
     "iopub.status.busy": "2023-07-30T06:33:43.697659Z",
     "iopub.status.idle": "2023-07-30T06:33:43.705805Z",
     "shell.execute_reply": "2023-07-30T06:33:43.705108Z"
    },
    "lines_to_next_cell": 0,
    "papermill": {
     "duration": 0.013784,
     "end_time": "2023-07-30T06:33:43.707848",
     "exception": false,
     "start_time": "2023-07-30T06:33:43.694064",
     "status": "completed"
    },
    "tags": []
   },
   "outputs": [],
   "source": [
    "# ----------------- Parameters for interactive development --------------\n",
    "P = {\n",
    "    \"workflow.run_environment\": \"dev\",\n",
    "}"
   ]
  },
  {
   "cell_type": "code",
   "execution_count": 2,
   "id": "6fd29d02",
   "metadata": {
    "execution": {
     "iopub.execute_input": "2023-07-30T06:33:43.715867Z",
     "iopub.status.busy": "2023-07-30T06:33:43.715591Z",
     "iopub.status.idle": "2023-07-30T06:33:43.720075Z",
     "shell.execute_reply": "2023-07-30T06:33:43.718166Z"
    },
    "lines_to_next_cell": 0,
    "papermill": {
     "duration": 0.009605,
     "end_time": "2023-07-30T06:33:43.721748",
     "exception": false,
     "start_time": "2023-07-30T06:33:43.712143",
     "status": "completed"
    },
    "tags": [
     "parameters"
    ]
   },
   "outputs": [],
   "source": [
    "# - During automated runs parameters will be injected in the below cell -"
   ]
  },
  {
   "cell_type": "code",
   "execution_count": 3,
   "id": "33acf9a7",
   "metadata": {
    "execution": {
     "iopub.execute_input": "2023-07-30T06:33:43.728607Z",
     "iopub.status.busy": "2023-07-30T06:33:43.727969Z",
     "iopub.status.idle": "2023-07-30T06:33:43.732376Z",
     "shell.execute_reply": "2023-07-30T06:33:43.731744Z"
    },
    "papermill": {
     "duration": 0.009756,
     "end_time": "2023-07-30T06:33:43.734131",
     "exception": false,
     "start_time": "2023-07-30T06:33:43.724375",
     "status": "completed"
    },
    "tags": [
     "injected-parameters"
    ]
   },
   "outputs": [],
   "source": [
    "# Parameters\n",
    "P = {\"_parameters_actor_name\": \"parameter_for_task_0x541e809426d5e1ab\"}\n"
   ]
  },
  {
   "cell_type": "code",
   "execution_count": 4,
   "id": "302a08dd",
   "metadata": {
    "execution": {
     "iopub.execute_input": "2023-07-30T06:33:43.741548Z",
     "iopub.status.busy": "2023-07-30T06:33:43.740847Z",
     "iopub.status.idle": "2023-07-30T06:33:43.745358Z",
     "shell.execute_reply": "2023-07-30T06:33:43.744619Z"
    },
    "lines_to_next_cell": 0,
    "papermill": {
     "duration": 0.010348,
     "end_time": "2023-07-30T06:33:43.747172",
     "exception": false,
     "start_time": "2023-07-30T06:33:43.736824",
     "status": "completed"
    },
    "tags": []
   },
   "outputs": [],
   "source": [
    "# -----------------------------------------------------------------------"
   ]
  },
  {
   "cell_type": "markdown",
   "id": "42cf1630",
   "metadata": {
    "papermill": {
     "duration": 0.002639,
     "end_time": "2023-07-30T06:33:43.752572",
     "exception": false,
     "start_time": "2023-07-30T06:33:43.749933",
     "status": "completed"
    },
    "tags": []
   },
   "source": [
    "---"
   ]
  },
  {
   "cell_type": "markdown",
   "id": "bed86beb",
   "metadata": {
    "lines_to_next_cell": 2,
    "papermill": {
     "duration": 0.002544,
     "end_time": "2023-07-30T06:33:43.757761",
     "exception": false,
     "start_time": "2023-07-30T06:33:43.755217",
     "status": "completed"
    },
    "tags": []
   },
   "source": [
    "### Notebook code"
   ]
  },
  {
   "cell_type": "code",
   "execution_count": 5,
   "id": "e37e3a73",
   "metadata": {
    "execution": {
     "iopub.execute_input": "2023-07-30T06:33:43.764814Z",
     "iopub.status.busy": "2023-07-30T06:33:43.764217Z",
     "iopub.status.idle": "2023-07-30T06:33:44.810152Z",
     "shell.execute_reply": "2023-07-30T06:33:44.809421Z"
    },
    "papermill": {
     "duration": 1.051961,
     "end_time": "2023-07-30T06:33:44.812471",
     "exception": false,
     "start_time": "2023-07-30T06:33:43.760510",
     "status": "completed"
    },
    "tags": []
   },
   "outputs": [],
   "source": [
    "#\n",
    "import pandas as pd\n",
    "import matplotlib.pyplot as plt\n",
    "\n",
    "#\n",
    "from composable_logs.tasks.task_opentelemetry_logging import get_task_context"
   ]
  },
  {
   "cell_type": "code",
   "execution_count": 6,
   "id": "46fb4791",
   "metadata": {
    "execution": {
     "iopub.execute_input": "2023-07-30T06:33:44.820120Z",
     "iopub.status.busy": "2023-07-30T06:33:44.819266Z",
     "iopub.status.idle": "2023-07-30T06:33:44.897256Z",
     "shell.execute_reply": "2023-07-30T06:33:44.895925Z"
    },
    "papermill": {
     "duration": 0.083515,
     "end_time": "2023-07-30T06:33:44.898950",
     "exception": false,
     "start_time": "2023-07-30T06:33:44.815435",
     "status": "completed"
    },
    "tags": []
   },
   "outputs": [
    {
     "name": "stderr",
     "output_type": "stream",
     "text": [
      "2023-07-30 06:33:44,823\tINFO worker.py:1364 -- Connecting to existing Ray cluster at address: 172.17.0.2:60649...\n"
     ]
    },
    {
     "name": "stderr",
     "output_type": "stream",
     "text": [
      "2023-07-30 06:33:44,830\tINFO worker.py:1544 -- Connected to Ray cluster. View the dashboard at \u001b[1m\u001b[32mhttp://127.0.0.1:8265 \u001b[39m\u001b[22m\n"
     ]
    },
    {
     "name": "stderr",
     "output_type": "stream",
     "text": [
      "/home/host_user/.local/lib/python3.8/site-packages/ray/runtime_context.py:27: RayDeprecationWarning: This API is deprecated and may be removed in future Ray releases. You could suppress this warning by setting env variable PYTHONWARNINGS=\"ignore::DeprecationWarning\"\n",
      "Use get_job_id() instead\n",
      "  \"job_id\": self.job_id,\n",
      "/home/host_user/.local/lib/python3.8/site-packages/ray/runtime_context.py:28: RayDeprecationWarning: This API is deprecated and may be removed in future Ray releases. You could suppress this warning by setting env variable PYTHONWARNINGS=\"ignore::DeprecationWarning\"\n",
      "Use get_node_id() instead\n",
      "  \"node_id\": self.node_id,\n"
     ]
    }
   ],
   "source": [
    "logger = get_task_context(P)"
   ]
  },
  {
   "cell_type": "code",
   "execution_count": 7,
   "id": "eb1d7c14",
   "metadata": {
    "execution": {
     "iopub.execute_input": "2023-07-30T06:33:44.906755Z",
     "iopub.status.busy": "2023-07-30T06:33:44.906246Z",
     "iopub.status.idle": "2023-07-30T06:33:44.909569Z",
     "shell.execute_reply": "2023-07-30T06:33:44.909010Z"
    },
    "papermill": {
     "duration": 0.009036,
     "end_time": "2023-07-30T06:33:44.911108",
     "exception": false,
     "start_time": "2023-07-30T06:33:44.902072",
     "status": "completed"
    },
    "tags": []
   },
   "outputs": [],
   "source": [
    "from composable_logs.tasks.task_opentelemetry_logging import get_logged_values\n",
    "from composable_logs.opentelemetry_helpers import _get_all_spans, Spans"
   ]
  },
  {
   "cell_type": "code",
   "execution_count": 8,
   "id": "8b19db63",
   "metadata": {
    "execution": {
     "iopub.execute_input": "2023-07-30T06:33:44.918477Z",
     "iopub.status.busy": "2023-07-30T06:33:44.917971Z",
     "iopub.status.idle": "2023-07-30T06:33:44.924589Z",
     "shell.execute_reply": "2023-07-30T06:33:44.924025Z"
    },
    "papermill": {
     "duration": 0.012263,
     "end_time": "2023-07-30T06:33:44.926243",
     "exception": false,
     "start_time": "2023-07-30T06:33:44.913980",
     "status": "completed"
    },
    "tags": []
   },
   "outputs": [],
   "source": [
    "def get_model_benchmarks():\n",
    "    \"\"\"\n",
    "    Query the OpenTelemetry logs for *this pipeline run* and return\n",
    "    all key-values logged from all runs of the benchmark-model.py task\n",
    "\n",
    "    For testing a json file with OpenTelemetry spans (as an array)\n",
    "    can be used as follows:\n",
    "\n",
    "    - Create output directory `mkdir /tmp/spans`\n",
    "    - Run unit tests. This will create pipeline-outputs/opentelemetry-spans.json\n",
    "    - Convert this json-array into jsonl format as follows\n",
    "\n",
    "    jq -c '.[]' /pipeline-outputs/opentelemetry-spans.json > /tmp/spans/data.txt\n",
    "\n",
    "    \"\"\"\n",
    "    spans: Spans = Spans(_get_all_spans())\n",
    "    print(f\" - Found {len(spans)} spans\")\n",
    "\n",
    "    benchmark_spans = (\n",
    "        spans\n",
    "        # -\n",
    "        .filter([\"name\"], \"execute-task\")\n",
    "        # -\n",
    "        .filter([\"attributes\", \"task.id\"], \"benchmark-model\")\n",
    "    )\n",
    "\n",
    "    result = []\n",
    "    for s in benchmark_spans:\n",
    "        result.append(\n",
    "            {\n",
    "                \"span_id\": s[\"context\"][\"span_id\"],\n",
    "                \"nr_train_images\": s[\"attributes\"][\"task.nr_train_images\"],\n",
    "                \"data\": get_logged_values(spans.bound_under(s)),\n",
    "            }\n",
    "        )\n",
    "\n",
    "    return result\n",
    "\n",
    "\n",
    "def adjust_pandas(df):\n",
    "    def column_renamer(col_name: str) -> str:\n",
    "        return (\n",
    "            col_name\n",
    "            # -- 'data.roc_auc_per_digit.4' -> 'roc_auc.4'\n",
    "            .replace(\"data.roc_auc_per_digit\", \"roc_auc\")\n",
    "            # -- 'data.roc_auc_class_mean' -> 'roc_auc_mean'\n",
    "            .replace(\"data.roc_auc_class_mean\", \"roc_auc_mean\")\n",
    "        )\n",
    "\n",
    "    return df.rename(column_renamer, axis=\"columns\").sort_values(by=\"nr_train_images\")"
   ]
  },
  {
   "cell_type": "code",
   "execution_count": 9,
   "id": "9776c20a",
   "metadata": {
    "execution": {
     "iopub.execute_input": "2023-07-30T06:33:44.938448Z",
     "iopub.status.busy": "2023-07-30T06:33:44.938139Z",
     "iopub.status.idle": "2023-07-30T06:33:45.059767Z",
     "shell.execute_reply": "2023-07-30T06:33:45.058775Z"
    },
    "papermill": {
     "duration": 0.12764,
     "end_time": "2023-07-30T06:33:45.061520",
     "exception": false,
     "start_time": "2023-07-30T06:33:44.933880",
     "status": "completed"
    },
    "tags": []
   },
   "outputs": [
    {
     "name": "stdout",
     "output_type": "stream",
     "text": [
      " - Found 250 spans\n"
     ]
    }
   ],
   "source": [
    "\n",
    "df_data = adjust_pandas(pd.json_normalize(get_model_benchmarks()))"
   ]
  },
  {
   "cell_type": "code",
   "execution_count": 10,
   "id": "27e01097",
   "metadata": {
    "execution": {
     "iopub.execute_input": "2023-07-30T06:33:45.068858Z",
     "iopub.status.busy": "2023-07-30T06:33:45.068593Z",
     "iopub.status.idle": "2023-07-30T06:33:45.096723Z",
     "shell.execute_reply": "2023-07-30T06:33:45.096019Z"
    },
    "papermill": {
     "duration": 0.034054,
     "end_time": "2023-07-30T06:33:45.098696",
     "exception": false,
     "start_time": "2023-07-30T06:33:45.064642",
     "status": "completed"
    },
    "tags": []
   },
   "outputs": [
    {
     "data": {
      "text/html": [
       "<div>\n",
       "<style scoped>\n",
       "    .dataframe tbody tr th:only-of-type {\n",
       "        vertical-align: middle;\n",
       "    }\n",
       "\n",
       "    .dataframe tbody tr th {\n",
       "        vertical-align: top;\n",
       "    }\n",
       "\n",
       "    .dataframe thead th {\n",
       "        text-align: right;\n",
       "    }\n",
       "</style>\n",
       "<table border=\"1\" class=\"dataframe\">\n",
       "  <thead>\n",
       "    <tr style=\"text-align: right;\">\n",
       "      <th></th>\n",
       "      <th>span_id</th>\n",
       "      <th>nr_train_images</th>\n",
       "      <th>roc_auc_mean</th>\n",
       "      <th>roc_auc.0</th>\n",
       "      <th>roc_auc.1</th>\n",
       "      <th>roc_auc.2</th>\n",
       "      <th>roc_auc.3</th>\n",
       "      <th>roc_auc.4</th>\n",
       "      <th>roc_auc.5</th>\n",
       "      <th>roc_auc.6</th>\n",
       "      <th>roc_auc.7</th>\n",
       "      <th>roc_auc.8</th>\n",
       "      <th>roc_auc.9</th>\n",
       "    </tr>\n",
       "  </thead>\n",
       "  <tbody>\n",
       "    <tr>\n",
       "      <th>2</th>\n",
       "      <td>0x49d162553b3c4bfb</td>\n",
       "      <td>600</td>\n",
       "      <td>0.9990</td>\n",
       "      <td>1.0</td>\n",
       "      <td>0.9992</td>\n",
       "      <td>1.0</td>\n",
       "      <td>0.9998</td>\n",
       "      <td>0.9991</td>\n",
       "      <td>0.9989</td>\n",
       "      <td>0.9999</td>\n",
       "      <td>0.9998</td>\n",
       "      <td>0.9943</td>\n",
       "      <td>0.9987</td>\n",
       "    </tr>\n",
       "    <tr>\n",
       "      <th>3</th>\n",
       "      <td>0x79593fb51d0e719a</td>\n",
       "      <td>800</td>\n",
       "      <td>0.9989</td>\n",
       "      <td>1.0</td>\n",
       "      <td>0.9988</td>\n",
       "      <td>1.0</td>\n",
       "      <td>0.9998</td>\n",
       "      <td>0.9995</td>\n",
       "      <td>0.9990</td>\n",
       "      <td>1.0000</td>\n",
       "      <td>0.9999</td>\n",
       "      <td>0.9928</td>\n",
       "      <td>0.9994</td>\n",
       "    </tr>\n",
       "    <tr>\n",
       "      <th>0</th>\n",
       "      <td>0x86915d0df923da4f</td>\n",
       "      <td>1000</td>\n",
       "      <td>0.9993</td>\n",
       "      <td>1.0</td>\n",
       "      <td>0.9990</td>\n",
       "      <td>1.0</td>\n",
       "      <td>0.9999</td>\n",
       "      <td>0.9997</td>\n",
       "      <td>0.9994</td>\n",
       "      <td>0.9999</td>\n",
       "      <td>0.9998</td>\n",
       "      <td>0.9954</td>\n",
       "      <td>0.9996</td>\n",
       "    </tr>\n",
       "    <tr>\n",
       "      <th>1</th>\n",
       "      <td>0x36500075080570a6</td>\n",
       "      <td>1200</td>\n",
       "      <td>0.9994</td>\n",
       "      <td>1.0</td>\n",
       "      <td>0.9990</td>\n",
       "      <td>1.0</td>\n",
       "      <td>0.9999</td>\n",
       "      <td>0.9997</td>\n",
       "      <td>0.9997</td>\n",
       "      <td>0.9999</td>\n",
       "      <td>0.9998</td>\n",
       "      <td>0.9957</td>\n",
       "      <td>0.9998</td>\n",
       "    </tr>\n",
       "  </tbody>\n",
       "</table>\n",
       "</div>"
      ],
      "text/plain": [
       "              span_id  nr_train_images  roc_auc_mean  roc_auc.0  roc_auc.1  \\\n",
       "2  0x49d162553b3c4bfb              600        0.9990        1.0     0.9992   \n",
       "3  0x79593fb51d0e719a              800        0.9989        1.0     0.9988   \n",
       "0  0x86915d0df923da4f             1000        0.9993        1.0     0.9990   \n",
       "1  0x36500075080570a6             1200        0.9994        1.0     0.9990   \n",
       "\n",
       "   roc_auc.2  roc_auc.3  roc_auc.4  roc_auc.5  roc_auc.6  roc_auc.7  \\\n",
       "2        1.0     0.9998     0.9991     0.9989     0.9999     0.9998   \n",
       "3        1.0     0.9998     0.9995     0.9990     1.0000     0.9999   \n",
       "0        1.0     0.9999     0.9997     0.9994     0.9999     0.9998   \n",
       "1        1.0     0.9999     0.9997     0.9997     0.9999     0.9998   \n",
       "\n",
       "   roc_auc.8  roc_auc.9  \n",
       "2     0.9943     0.9987  \n",
       "3     0.9928     0.9994  \n",
       "0     0.9954     0.9996  \n",
       "1     0.9957     0.9998  "
      ]
     },
     "execution_count": 10,
     "metadata": {},
     "output_type": "execute_result"
    }
   ],
   "source": [
    "df_data.round(4)"
   ]
  },
  {
   "cell_type": "code",
   "execution_count": 11,
   "id": "a7bdc2b0",
   "metadata": {
    "execution": {
     "iopub.execute_input": "2023-07-30T06:33:45.107839Z",
     "iopub.status.busy": "2023-07-30T06:33:45.106424Z",
     "iopub.status.idle": "2023-07-30T06:33:45.323844Z",
     "shell.execute_reply": "2023-07-30T06:33:45.323136Z"
    },
    "papermill": {
     "duration": 0.223658,
     "end_time": "2023-07-30T06:33:45.325934",
     "exception": false,
     "start_time": "2023-07-30T06:33:45.102276",
     "status": "completed"
    },
    "tags": []
   },
   "outputs": [
    {
     "data": {
      "image/png": "[encoded data removed]",
      "text/plain": [
       "<Figure size 1600x400 with 1 Axes>"
      ]
     },
     "metadata": {},
     "output_type": "display_data"
    }
   ],
   "source": [
    "def plot_classifier_performance_summary(df_data):\n",
    "    fig, ax = plt.subplots(nrows=1, ncols=1, figsize=(16, 4), sharex=True)\n",
    "\n",
    "    #\n",
    "    ax.plot(\n",
    "        df_data[\"nr_train_images\"], df_data[\"roc_auc_mean\"], marker=\"o\", linestyle=\"--\"\n",
    "    )\n",
    "    ax.set_title(\n",
    "        f\"ROC AUC digit classifier performance on evaluation digits\", fontsize=17\n",
    "    )\n",
    "    ax.set_xlabel(\"Total number of digits in training set\", fontsize=14)\n",
    "    ax.set_ylabel(\"Mean ROC AUC\", fontsize=14)\n",
    "\n",
    "    fig.tight_layout()\n",
    "    fig.show()\n",
    "\n",
    "    return fig\n",
    "\n",
    "\n",
    "fig = plot_classifier_performance_summary(df_data)"
   ]
  },
  {
   "cell_type": "code",
   "execution_count": 12,
   "id": "6e14860f",
   "metadata": {
    "execution": {
     "iopub.execute_input": "2023-07-30T06:33:45.335656Z",
     "iopub.status.busy": "2023-07-30T06:33:45.335162Z",
     "iopub.status.idle": "2023-07-30T06:33:45.412836Z",
     "shell.execute_reply": "2023-07-30T06:33:45.412033Z"
    },
    "papermill": {
     "duration": 0.084819,
     "end_time": "2023-07-30T06:33:45.414930",
     "exception": false,
     "start_time": "2023-07-30T06:33:45.330111",
     "status": "completed"
    },
    "tags": []
   },
   "outputs": [],
   "source": [
    "logger.log_figure(\"auc-roc-model-performances.png\", fig)"
   ]
  },
  {
   "cell_type": "code",
   "execution_count": 13,
   "id": "7b6cc7ff",
   "metadata": {
    "execution": {
     "iopub.execute_input": "2023-07-30T06:33:45.426135Z",
     "iopub.status.busy": "2023-07-30T06:33:45.425468Z",
     "iopub.status.idle": "2023-07-30T06:33:45.428827Z",
     "shell.execute_reply": "2023-07-30T06:33:45.428208Z"
    },
    "papermill": {
     "duration": 0.010736,
     "end_time": "2023-07-30T06:33:45.430521",
     "exception": false,
     "start_time": "2023-07-30T06:33:45.419785",
     "status": "completed"
    },
    "tags": []
   },
   "outputs": [],
   "source": [
    "###"
   ]
  },
  {
   "cell_type": "code",
   "execution_count": null,
   "id": "c0b91259",
   "metadata": {
    "papermill": {
     "duration": 0.004014,
     "end_time": "2023-07-30T06:33:45.438696",
     "exception": false,
     "start_time": "2023-07-30T06:33:45.434682",
     "status": "completed"
    },
    "tags": []
   },
   "outputs": [],
   "source": []
  }
 ],
 "metadata": {
  "jupytext": {
   "cell_metadata_filter": "tags,-all",
   "main_language": "python",
   "notebook_metadata_filter": "-all"
  },
  "language_info": {
   "codemirror_mode": {
    "name": "ipython",
    "version": 3
   },
   "file_extension": ".py",
   "mimetype": "text/x-python",
   "name": "python",
   "nbconvert_exporter": "python",
   "pygments_lexer": "ipython3",
   "version": "3.8.10"
  },
  "papermill": {
   "default_parameters": {},
   "duration": 5.126178,
   "end_time": "2023-07-30T06:33:47.474465",
   "environment_variables": {},
   "exception": null,
   "input_path": "/tmp/temp-notebook-i6a8geda.ipynb",
   "output_path": "/tmp/temp-notebook-i6a8geda.ipynb",
   "parameters": {
    "P": {
     "_parameters_actor_name": "parameter_for_task_0x541e809426d5e1ab"
    }
   },
   "start_time": "2023-07-30T06:33:42.348287",
   "version": "2.4.0"
  }
 },
 "nbformat": 4,
 "nbformat_minor": 5
}