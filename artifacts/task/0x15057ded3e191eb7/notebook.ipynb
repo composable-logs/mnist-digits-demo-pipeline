{
 "cells": [
  {
   "cell_type": "markdown",
   "id": "ee066bf9",
   "metadata": {
    "papermill": {
     "duration": 0.00539,
     "end_time": "2023-07-28T06:35:08.602768",
     "exception": false,
     "start_time": "2023-07-28T06:35:08.597378",
     "status": "completed"
    },
    "tags": []
   },
   "source": [
    "# Benchmark model\n",
    "\n",
    "The purpose of this notebook is to benchmark persisted onnx-model (trained in the\n",
    "previous step) against evaluation set."
   ]
  },
  {
   "cell_type": "markdown",
   "id": "f72ccbd6",
   "metadata": {
    "papermill": {
     "duration": 0.004409,
     "end_time": "2023-07-28T06:35:08.613729",
     "exception": false,
     "start_time": "2023-07-28T06:35:08.609320",
     "status": "completed"
    },
    "tags": []
   },
   "source": [
    "### Determine run parameters"
   ]
  },
  {
   "cell_type": "code",
   "execution_count": 1,
   "id": "09c663be",
   "metadata": {
    "execution": {
     "iopub.execute_input": "2023-07-28T06:35:08.624006Z",
     "iopub.status.busy": "2023-07-28T06:35:08.623715Z",
     "iopub.status.idle": "2023-07-28T06:35:08.633379Z",
     "shell.execute_reply": "2023-07-28T06:35:08.632686Z"
    },
    "lines_to_next_cell": 0,
    "papermill": {
     "duration": 0.017727,
     "end_time": "2023-07-28T06:35:08.635779",
     "exception": false,
     "start_time": "2023-07-28T06:35:08.618052",
     "status": "completed"
    },
    "tags": []
   },
   "outputs": [],
   "source": [
    "# ----------------- Parameters for interactive development --------------\n",
    "P = {\n",
    "    \"workflow.data_lake_root\": \"/pipeline-outputs/data-lake\",\n",
    "    \"task.nr_train_images\": 600,\n",
    "}"
   ]
  },
  {
   "cell_type": "code",
   "execution_count": 2,
   "id": "19b343d8",
   "metadata": {
    "execution": {
     "iopub.execute_input": "2023-07-28T06:35:08.646533Z",
     "iopub.status.busy": "2023-07-28T06:35:08.646240Z",
     "iopub.status.idle": "2023-07-28T06:35:08.654540Z",
     "shell.execute_reply": "2023-07-28T06:35:08.653931Z"
    },
    "lines_to_next_cell": 0,
    "papermill": {
     "duration": 0.01626,
     "end_time": "2023-07-28T06:35:08.656403",
     "exception": false,
     "start_time": "2023-07-28T06:35:08.640143",
     "status": "completed"
    },
    "tags": [
     "parameters"
    ]
   },
   "outputs": [],
   "source": [
    "# - During automated runs parameters will be injected in the below cell -"
   ]
  },
  {
   "cell_type": "code",
   "execution_count": 3,
   "id": "4fef889d",
   "metadata": {
    "execution": {
     "iopub.execute_input": "2023-07-28T06:35:08.666703Z",
     "iopub.status.busy": "2023-07-28T06:35:08.666420Z",
     "iopub.status.idle": "2023-07-28T06:35:08.671361Z",
     "shell.execute_reply": "2023-07-28T06:35:08.670685Z"
    },
    "papermill": {
     "duration": 0.012599,
     "end_time": "2023-07-28T06:35:08.673291",
     "exception": false,
     "start_time": "2023-07-28T06:35:08.660692",
     "status": "completed"
    },
    "tags": [
     "injected-parameters"
    ]
   },
   "outputs": [],
   "source": [
    "# Parameters\n",
    "P = {\n",
    "    \"task.nr_train_images\": 1200,\n",
    "    \"_parameters_actor_name\": \"parameter_for_task_0x15057ded3e191eb7\",\n",
    "}\n"
   ]
  },
  {
   "cell_type": "code",
   "execution_count": 4,
   "id": "9a511276",
   "metadata": {
    "execution": {
     "iopub.execute_input": "2023-07-28T06:35:08.683909Z",
     "iopub.status.busy": "2023-07-28T06:35:08.683630Z",
     "iopub.status.idle": "2023-07-28T06:35:08.696049Z",
     "shell.execute_reply": "2023-07-28T06:35:08.695343Z"
    },
    "lines_to_next_cell": 0,
    "papermill": {
     "duration": 0.020484,
     "end_time": "2023-07-28T06:35:08.698253",
     "exception": false,
     "start_time": "2023-07-28T06:35:08.677769",
     "status": "completed"
    },
    "tags": []
   },
   "outputs": [],
   "source": [
    "# -----------------------------------------------------------------------"
   ]
  },
  {
   "cell_type": "markdown",
   "id": "d30a11c3",
   "metadata": {
    "papermill": {
     "duration": 0.004275,
     "end_time": "2023-07-28T06:35:08.706687",
     "exception": false,
     "start_time": "2023-07-28T06:35:08.702412",
     "status": "completed"
    },
    "tags": []
   },
   "source": [
    "---"
   ]
  },
  {
   "cell_type": "markdown",
   "id": "d03a728e",
   "metadata": {
    "lines_to_next_cell": 2,
    "papermill": {
     "duration": 0.00418,
     "end_time": "2023-07-28T06:35:08.715487",
     "exception": false,
     "start_time": "2023-07-28T06:35:08.711307",
     "status": "completed"
    },
    "tags": []
   },
   "source": [
    "### Notebook code"
   ]
  },
  {
   "cell_type": "code",
   "execution_count": 5,
   "id": "1fbe6c98",
   "metadata": {
    "execution": {
     "iopub.execute_input": "2023-07-28T06:35:08.725877Z",
     "iopub.status.busy": "2023-07-28T06:35:08.725592Z",
     "iopub.status.idle": "2023-07-28T06:35:09.733584Z",
     "shell.execute_reply": "2023-07-28T06:35:09.732808Z"
    },
    "papermill": {
     "duration": 1.016107,
     "end_time": "2023-07-28T06:35:09.735889",
     "exception": false,
     "start_time": "2023-07-28T06:35:08.719782",
     "status": "completed"
    },
    "tags": []
   },
   "outputs": [
    {
     "name": "stderr",
     "output_type": "stream",
     "text": [
      "2023-07-28 06:35:09,637\tINFO worker.py:1364 -- Connecting to existing Ray cluster at address: 172.17.0.2:54600...\n"
     ]
    },
    {
     "name": "stderr",
     "output_type": "stream",
     "text": [
      "2023-07-28 06:35:09,650\tINFO worker.py:1544 -- Connected to Ray cluster. View the dashboard at \u001b[1m\u001b[32mhttp://127.0.0.1:8265 \u001b[39m\u001b[22m\n"
     ]
    },
    {
     "name": "stderr",
     "output_type": "stream",
     "text": [
      "/home/host_user/.local/lib/python3.8/site-packages/ray/runtime_context.py:27: RayDeprecationWarning: This API is deprecated and may be removed in future Ray releases. You could suppress this warning by setting env variable PYTHONWARNINGS=\"ignore::DeprecationWarning\"\n",
      "Use get_job_id() instead\n",
      "  \"job_id\": self.job_id,\n",
      "/home/host_user/.local/lib/python3.8/site-packages/ray/runtime_context.py:28: RayDeprecationWarning: This API is deprecated and may be removed in future Ray releases. You could suppress this warning by setting env variable PYTHONWARNINGS=\"ignore::DeprecationWarning\"\n",
      "Use get_node_id() instead\n",
      "  \"node_id\": self.node_id,\n"
     ]
    }
   ],
   "source": [
    "import itertools as it\n",
    "\n",
    "#\n",
    "import numpy as np\n",
    "import matplotlib.pyplot as plt\n",
    "\n",
    "#\n",
    "from composable_logs.tasks.task_opentelemetry_logging import get_task_context\n",
    "\n",
    "#\n",
    "from common.io import datalake_root\n",
    "\n",
    "ctx = get_task_context(P)"
   ]
  },
  {
   "cell_type": "markdown",
   "id": "c2682c4c",
   "metadata": {
    "papermill": {
     "duration": 0.005965,
     "end_time": "2023-07-28T06:35:09.746891",
     "exception": false,
     "start_time": "2023-07-28T06:35:09.740926",
     "status": "completed"
    },
    "tags": []
   },
   "source": [
    "## Load persisted onnx-model and evaluation data"
   ]
  },
  {
   "cell_type": "code",
   "execution_count": 6,
   "id": "653dfe7f",
   "metadata": {
    "execution": {
     "iopub.execute_input": "2023-07-28T06:35:09.757825Z",
     "iopub.status.busy": "2023-07-28T06:35:09.757518Z",
     "iopub.status.idle": "2023-07-28T06:35:09.764459Z",
     "shell.execute_reply": "2023-07-28T06:35:09.763677Z"
    },
    "papermill": {
     "duration": 0.015101,
     "end_time": "2023-07-28T06:35:09.766475",
     "exception": false,
     "start_time": "2023-07-28T06:35:09.751374",
     "status": "completed"
    },
    "tags": []
   },
   "outputs": [],
   "source": [
    "from common.io import read_onnx, get_onnx_inputs, get_onnx_outputs, read_numpy"
   ]
  },
  {
   "cell_type": "code",
   "execution_count": 7,
   "id": "0a796f32",
   "metadata": {
    "execution": {
     "iopub.execute_input": "2023-07-28T06:35:09.778293Z",
     "iopub.status.busy": "2023-07-28T06:35:09.777986Z",
     "iopub.status.idle": "2023-07-28T06:35:09.788534Z",
     "shell.execute_reply": "2023-07-28T06:35:09.787826Z"
    },
    "lines_to_next_cell": 0,
    "papermill": {
     "duration": 0.019039,
     "end_time": "2023-07-28T06:35:09.790506",
     "exception": false,
     "start_time": "2023-07-28T06:35:09.771467",
     "status": "completed"
    },
    "tags": []
   },
   "outputs": [],
   "source": [
    "onnx_inference_session = read_onnx(\n",
    "    datalake_root(ctx)\n",
    "    / \"models\"\n",
    "    / f\"nr_train_images={ctx.parameters['task.nr_train_images']}\"\n",
    "    / \"model.onnx\"\n",
    ")"
   ]
  },
  {
   "cell_type": "markdown",
   "id": "ce38d8fe",
   "metadata": {
    "papermill": {
     "duration": 0.005306,
     "end_time": "2023-07-28T06:35:09.800545",
     "exception": false,
     "start_time": "2023-07-28T06:35:09.795239",
     "status": "completed"
    },
    "tags": []
   },
   "source": [
    "### Record structure of inputs and outputs for ONNX model\n",
    "\n",
    "(this should likely be done in training notebook)"
   ]
  },
  {
   "cell_type": "code",
   "execution_count": 8,
   "id": "93dba58b",
   "metadata": {
    "execution": {
     "iopub.execute_input": "2023-07-28T06:35:09.816717Z",
     "iopub.status.busy": "2023-07-28T06:35:09.816413Z",
     "iopub.status.idle": "2023-07-28T06:35:09.823981Z",
     "shell.execute_reply": "2023-07-28T06:35:09.823382Z"
    },
    "papermill": {
     "duration": 0.019558,
     "end_time": "2023-07-28T06:35:09.825852",
     "exception": false,
     "start_time": "2023-07-28T06:35:09.806294",
     "status": "completed"
    },
    "tags": []
   },
   "outputs": [
    {
     "name": "stdout",
     "output_type": "stream",
     "text": [
      "{\n",
      "  \"inputs\": [\n",
      "    {\n",
      "      \"name\": \"float_input_8x8_image\",\n",
      "      \"shape\": [\n",
      "        null,\n",
      "        64\n",
      "      ],\n",
      "      \"type\": \"tensor(float)\"\n",
      "    }\n",
      "  ],\n",
      "  \"outputs\": [\n",
      "    {\n",
      "      \"name\": \"output_label\",\n",
      "      \"shape\": [\n",
      "        null\n",
      "      ],\n",
      "      \"type\": \"tensor(int64)\"\n",
      "    },\n",
      "    {\n",
      "      \"name\": \"output_probability\",\n",
      "      \"shape\": [],\n",
      "      \"type\": \"seq(map(int64,tensor(float)))\"\n",
      "    }\n",
      "  ]\n",
      "}\n"
     ]
    }
   ],
   "source": [
    "import json\n",
    "\n",
    "onnx_io = json.dumps(\n",
    "    {\n",
    "        \"inputs\": get_onnx_inputs(onnx_inference_session),\n",
    "        \"outputs\": get_onnx_outputs(onnx_inference_session),\n",
    "    },\n",
    "    indent=2,\n",
    ")\n",
    "\n",
    "\n",
    "ctx.log_artefact(\"onnx_io_structure.json\", onnx_io)\n",
    "print(onnx_io)"
   ]
  },
  {
   "cell_type": "markdown",
   "id": "27a5f4a4",
   "metadata": {
    "papermill": {
     "duration": 0.0123,
     "end_time": "2023-07-28T06:35:09.842849",
     "exception": false,
     "start_time": "2023-07-28T06:35:09.830549",
     "status": "completed"
    },
    "tags": []
   },
   "source": [
    "### Evaluate model performance on evaluation data set"
   ]
  },
  {
   "cell_type": "code",
   "execution_count": 9,
   "id": "5410fe6c",
   "metadata": {
    "execution": {
     "iopub.execute_input": "2023-07-28T06:35:09.854383Z",
     "iopub.status.busy": "2023-07-28T06:35:09.854067Z",
     "iopub.status.idle": "2023-07-28T06:35:09.861129Z",
     "shell.execute_reply": "2023-07-28T06:35:09.860436Z"
    },
    "papermill": {
     "duration": 0.015997,
     "end_time": "2023-07-28T06:35:09.863958",
     "exception": false,
     "start_time": "2023-07-28T06:35:09.847961",
     "status": "completed"
    },
    "tags": []
   },
   "outputs": [],
   "source": [
    "# load evaluation data\n",
    "X_test = read_numpy(datalake_root(ctx) / \"test-data\" / \"digits.numpy\")\n",
    "y_test = read_numpy(datalake_root(ctx) / \"test-data\" / \"labels.numpy\")"
   ]
  },
  {
   "cell_type": "code",
   "execution_count": 10,
   "id": "0f0490ab",
   "metadata": {
    "execution": {
     "iopub.execute_input": "2023-07-28T06:35:09.875174Z",
     "iopub.status.busy": "2023-07-28T06:35:09.874825Z",
     "iopub.status.idle": "2023-07-28T06:35:09.891159Z",
     "shell.execute_reply": "2023-07-28T06:35:09.890226Z"
    },
    "papermill": {
     "duration": 0.025218,
     "end_time": "2023-07-28T06:35:09.893993",
     "exception": false,
     "start_time": "2023-07-28T06:35:09.868775",
     "status": "completed"
    },
    "tags": []
   },
   "outputs": [],
   "source": [
    "def get_model_outputs(X, onnx_inference_session):\n",
    "    y_pred_labels, y_pred_map = onnx_inference_session.run(\n",
    "        [\"output_label\", \"output_probability\"],\n",
    "        {\"float_input_8x8_image\": X.astype(np.float32)},\n",
    "    )\n",
    "    y_pred_probs = np.array(\n",
    "        [[probabilities[digit] for digit in range(10)] for probabilities in y_pred_map]\n",
    "    )\n",
    "\n",
    "    assert y_pred_labels.shape == (X.shape[0],)\n",
    "    assert y_pred_probs.shape == (X.shape[0], 10)\n",
    "\n",
    "    return y_pred_labels, y_pred_probs\n",
    "\n",
    "\n",
    "# Note: as shown in the training notebook, the predicted labels and probabilities\n",
    "# computed below need not be compatible.\n",
    "y_pred_labels_test, y_pred_probs_test = get_model_outputs(\n",
    "    X_test, onnx_inference_session\n",
    ")"
   ]
  },
  {
   "cell_type": "markdown",
   "id": "6f5e2963",
   "metadata": {
    "papermill": {
     "duration": 0.004738,
     "end_time": "2023-07-28T06:35:09.904270",
     "exception": false,
     "start_time": "2023-07-28T06:35:09.899532",
     "status": "completed"
    },
    "tags": []
   },
   "source": [
    "### Confusion matrix"
   ]
  },
  {
   "cell_type": "code",
   "execution_count": 11,
   "id": "3b4b520f",
   "metadata": {
    "execution": {
     "iopub.execute_input": "2023-07-28T06:35:09.915613Z",
     "iopub.status.busy": "2023-07-28T06:35:09.915312Z",
     "iopub.status.idle": "2023-07-28T06:35:09.920775Z",
     "shell.execute_reply": "2023-07-28T06:35:09.919272Z"
    },
    "papermill": {
     "duration": 0.014241,
     "end_time": "2023-07-28T06:35:09.923241",
     "exception": false,
     "start_time": "2023-07-28T06:35:09.909000",
     "status": "completed"
    },
    "tags": []
   },
   "outputs": [],
   "source": [
    "# TODO"
   ]
  },
  {
   "cell_type": "markdown",
   "id": "a6a2cec9",
   "metadata": {
    "papermill": {
     "duration": 0.005213,
     "end_time": "2023-07-28T06:35:09.933273",
     "exception": false,
     "start_time": "2023-07-28T06:35:09.928060",
     "status": "completed"
    },
    "tags": []
   },
   "source": [
    "### Plot predicted probabilities for each classifier over all evaluation digit images"
   ]
  },
  {
   "cell_type": "code",
   "execution_count": 12,
   "id": "6fb7cdc4",
   "metadata": {
    "execution": {
     "iopub.execute_input": "2023-07-28T06:35:09.947707Z",
     "iopub.status.busy": "2023-07-28T06:35:09.947401Z",
     "iopub.status.idle": "2023-07-28T06:35:14.024180Z",
     "shell.execute_reply": "2023-07-28T06:35:14.023297Z"
    },
    "papermill": {
     "duration": 4.086767,
     "end_time": "2023-07-28T06:35:14.026083",
     "exception": false,
     "start_time": "2023-07-28T06:35:09.939316",
     "status": "completed"
    },
    "tags": []
   },
   "outputs": [
    {
     "data": {
      "image/png": "[encoded data removed]",
      "text/plain": [
       "<Figure size 1600x600 with 10 Axes>"
      ]
     },
     "metadata": {},
     "output_type": "display_data"
    }
   ],
   "source": [
    "def plot_per_digit_probabilities(y_pred_probs):\n",
    "    fig, axs = plt.subplots(nrows=2, ncols=5, figsize=(16, 6))\n",
    "\n",
    "    for (r, c), digit, ax in zip(\n",
    "        it.product(range(2), range(5)), range(10), axs.reshape(-1)\n",
    "    ):\n",
    "        ax.hist(y_pred_probs_test[:, digit], bins=20)\n",
    "\n",
    "        ax.set_title(f\"Digit {digit}\")\n",
    "        if r == 1 and c == 2:\n",
    "            ax.set_xlabel(\"probability\", fontsize=16)\n",
    "\n",
    "        if c == 0:\n",
    "            ax.set_ylabel(\"counts\", fontsize=16)\n",
    "        ax.set_yscale(\"log\")\n",
    "\n",
    "    fig.tight_layout()\n",
    "    fig.suptitle(\n",
    "        f\"Distributions of prediction probabilities for each digit \"\n",
    "        f\"(on evaluation data, n={y_pred_probs.shape[0]})\",\n",
    "        fontsize=20,\n",
    "    )\n",
    "    fig.tight_layout()\n",
    "    fig.show()\n",
    "\n",
    "    return fig\n",
    "\n",
    "\n",
    "fig = plot_per_digit_probabilities(y_pred_probs_test)"
   ]
  },
  {
   "cell_type": "markdown",
   "id": "405ae596",
   "metadata": {
    "papermill": {
     "duration": 0.005594,
     "end_time": "2023-07-28T06:35:14.037399",
     "exception": false,
     "start_time": "2023-07-28T06:35:14.031805",
     "status": "completed"
    },
    "tags": []
   },
   "source": [
    "From the above distributions we see that most digits have clear separation between\n",
    "high and lower probabilities. Morover, in each case there is roughly an order of\n",
    "magnitude more of digits with low probabilities. This is compatible with digits\n",
    "being roughly evenly distributed in the data."
   ]
  },
  {
   "cell_type": "code",
   "execution_count": 13,
   "id": "7282332f",
   "metadata": {
    "execution": {
     "iopub.execute_input": "2023-07-28T06:35:14.050222Z",
     "iopub.status.busy": "2023-07-28T06:35:14.049532Z",
     "iopub.status.idle": "2023-07-28T06:35:14.706385Z",
     "shell.execute_reply": "2023-07-28T06:35:14.705130Z"
    },
    "papermill": {
     "duration": 0.665492,
     "end_time": "2023-07-28T06:35:14.708553",
     "exception": false,
     "start_time": "2023-07-28T06:35:14.043061",
     "status": "completed"
    },
    "tags": []
   },
   "outputs": [],
   "source": [
    "ctx.log_figure(\"per-digit-probabilities.png\", fig)"
   ]
  },
  {
   "cell_type": "markdown",
   "id": "a871ce5f",
   "metadata": {
    "papermill": {
     "duration": 0.005696,
     "end_time": "2023-07-28T06:35:14.719849",
     "exception": false,
     "start_time": "2023-07-28T06:35:14.714153",
     "status": "completed"
    },
    "tags": []
   },
   "source": [
    "### Plot ROC curves for individual one-vs-rest classifiers"
   ]
  },
  {
   "cell_type": "code",
   "execution_count": 14,
   "id": "8a94dd2c",
   "metadata": {
    "execution": {
     "iopub.execute_input": "2023-07-28T06:35:14.732793Z",
     "iopub.status.busy": "2023-07-28T06:35:14.732096Z",
     "iopub.status.idle": "2023-07-28T06:35:15.052128Z",
     "shell.execute_reply": "2023-07-28T06:35:15.051349Z"
    },
    "papermill": {
     "duration": 0.328631,
     "end_time": "2023-07-28T06:35:15.054094",
     "exception": false,
     "start_time": "2023-07-28T06:35:14.725463",
     "status": "completed"
    },
    "tags": []
   },
   "outputs": [],
   "source": [
    "from sklearn import metrics"
   ]
  },
  {
   "cell_type": "code",
   "execution_count": 15,
   "id": "b8cb857e",
   "metadata": {
    "execution": {
     "iopub.execute_input": "2023-07-28T06:35:15.069385Z",
     "iopub.status.busy": "2023-07-28T06:35:15.068664Z",
     "iopub.status.idle": "2023-07-28T06:35:16.939393Z",
     "shell.execute_reply": "2023-07-28T06:35:16.938537Z"
    },
    "papermill": {
     "duration": 1.881387,
     "end_time": "2023-07-28T06:35:16.941308",
     "exception": false,
     "start_time": "2023-07-28T06:35:15.059921",
     "status": "completed"
    },
    "tags": []
   },
   "outputs": [
    {
     "data": {
      "image/png": "[encoded data removed]",
      "text/plain": [
       "<Figure size 1600x800 with 10 Axes>"
      ]
     },
     "metadata": {},
     "output_type": "display_data"
    }
   ],
   "source": [
    "def plot_roc_curves(y, y_pred_probs):\n",
    "    # based on example code\n",
    "    # https://scikit-learn.org/stable/auto_examples/model_selection/plot_roc.html\n",
    "\n",
    "    fig, axs = plt.subplots(nrows=2, ncols=5, figsize=(16, 8))\n",
    "\n",
    "    roc_auc_dict = {}\n",
    "\n",
    "    for (r, c), digit, ax in zip(\n",
    "        it.product(range(2), range(5)), range(10), axs.reshape(-1)\n",
    "    ):\n",
    "        fpr, tpr, _ = metrics.roc_curve(y == digit, y_pred_probs[:, digit])\n",
    "        auc = metrics.auc(fpr, tpr)\n",
    "        roc_auc_dict[str(digit)] = auc\n",
    "\n",
    "        ax.plot(fpr, tpr, label=f\"ROC AUC={round(auc, 3)}\")\n",
    "\n",
    "        ax.set_title(f\"\\nDigit {digit}\", fontsize=16)\n",
    "        if r == 1:\n",
    "            ax.set_xlabel(\"FPR\", fontsize=18)\n",
    "\n",
    "        if c == 0:\n",
    "            ax.set_ylabel(\"TPR\", fontsize=18)\n",
    "\n",
    "        ax.set_xlim([-0.05, 1.05])\n",
    "        ax.set_ylim([-0.05, 1.05])\n",
    "        ax.legend(loc=\"lower right\", frameon=False, fontsize=14)\n",
    "\n",
    "    fig.tight_layout()\n",
    "    fig.suptitle(\n",
    "        f\"ROC plots for one-vs-rest performances \"\n",
    "        f\"(on evaluation data, n={y_pred_probs_test.shape[1]}\",\n",
    "        fontsize=22,\n",
    "    )\n",
    "    fig.tight_layout()\n",
    "    fig.show()\n",
    "\n",
    "    return roc_auc_dict, fig\n",
    "\n",
    "\n",
    "roc_auc_dict, fig = plot_roc_curves(y_test, y_pred_probs_test)"
   ]
  },
  {
   "cell_type": "code",
   "execution_count": 16,
   "id": "f755bdde",
   "metadata": {
    "execution": {
     "iopub.execute_input": "2023-07-28T06:35:16.956566Z",
     "iopub.status.busy": "2023-07-28T06:35:16.955902Z",
     "iopub.status.idle": "2023-07-28T06:35:17.298460Z",
     "shell.execute_reply": "2023-07-28T06:35:17.297753Z"
    },
    "papermill": {
     "duration": 0.352414,
     "end_time": "2023-07-28T06:35:17.300419",
     "exception": false,
     "start_time": "2023-07-28T06:35:16.948005",
     "status": "completed"
    },
    "tags": []
   },
   "outputs": [],
   "source": [
    "ctx.log_figure(\"per-digit-roc-curves.png\", fig)"
   ]
  },
  {
   "cell_type": "code",
   "execution_count": 17,
   "id": "cc969420",
   "metadata": {
    "execution": {
     "iopub.execute_input": "2023-07-28T06:35:17.315208Z",
     "iopub.status.busy": "2023-07-28T06:35:17.314488Z",
     "iopub.status.idle": "2023-07-28T06:35:17.319348Z",
     "shell.execute_reply": "2023-07-28T06:35:17.318752Z"
    },
    "papermill": {
     "duration": 0.014189,
     "end_time": "2023-07-28T06:35:17.321117",
     "exception": false,
     "start_time": "2023-07-28T06:35:17.306928",
     "status": "completed"
    },
    "tags": []
   },
   "outputs": [
    {
     "data": {
      "text/plain": [
       "{'0': 1.0,\n",
       " '1': 0.9990627928772259,\n",
       " '2': 1.0,\n",
       " '3': 0.9998500468603562,\n",
       " '4': 0.9996951684194482,\n",
       " '5': 0.9996626054358013,\n",
       " '6': 0.999923792104862,\n",
       " '7': 0.9998475842097242,\n",
       " '8': 0.9958228247162673,\n",
       " '9': 0.9998094802621552}"
      ]
     },
     "execution_count": 17,
     "metadata": {},
     "output_type": "execute_result"
    }
   ],
   "source": [
    "roc_auc_dict"
   ]
  },
  {
   "cell_type": "code",
   "execution_count": 18,
   "id": "de730580",
   "metadata": {
    "execution": {
     "iopub.execute_input": "2023-07-28T06:35:17.336518Z",
     "iopub.status.busy": "2023-07-28T06:35:17.335623Z",
     "iopub.status.idle": "2023-07-28T06:35:17.342858Z",
     "shell.execute_reply": "2023-07-28T06:35:17.342225Z"
    },
    "papermill": {
     "duration": 0.016583,
     "end_time": "2023-07-28T06:35:17.344501",
     "exception": false,
     "start_time": "2023-07-28T06:35:17.327918",
     "status": "completed"
    },
    "tags": []
   },
   "outputs": [
    {
     "name": "stdout",
     "output_type": "stream",
     "text": [
      " - Logging roc_auc_per_digit (json) : {'0': 1.0, '1': 0.9990627928772259, '2': 1.0, '3': 0.9998500468603562, '4': 0.9996951684194482, '5': 0.9996626054358013, '6': 0.999923792104862, '7': 0.9998475842097242, '8': 0.9958228247162673, '9': 0.9998094802621552}\n"
     ]
    }
   ],
   "source": [
    "ctx.log_value(\"roc_auc_per_digit\", roc_auc_dict)"
   ]
  },
  {
   "cell_type": "markdown",
   "id": "b358395c",
   "metadata": {
    "papermill": {
     "duration": 0.007781,
     "end_time": "2023-07-28T06:35:17.358851",
     "exception": false,
     "start_time": "2023-07-28T06:35:17.351070",
     "status": "completed"
    },
    "tags": []
   },
   "source": [
    "### Compute and log mean ROC AUC score averaged over all digits"
   ]
  },
  {
   "cell_type": "code",
   "execution_count": 19,
   "id": "b31ee329",
   "metadata": {
    "execution": {
     "iopub.execute_input": "2023-07-28T06:35:17.373605Z",
     "iopub.status.busy": "2023-07-28T06:35:17.372977Z",
     "iopub.status.idle": "2023-07-28T06:35:17.385017Z",
     "shell.execute_reply": "2023-07-28T06:35:17.384286Z"
    },
    "papermill": {
     "duration": 0.021488,
     "end_time": "2023-07-28T06:35:17.386793",
     "exception": false,
     "start_time": "2023-07-28T06:35:17.365305",
     "status": "completed"
    },
    "tags": []
   },
   "outputs": [
    {
     "name": "stdout",
     "output_type": "stream",
     "text": [
      " - Logging roc_auc_class_mean (float) : 0.9993674294885839\n"
     ]
    }
   ],
   "source": [
    "roc_auc_macro = np.mean(list(roc_auc_dict.values()))\n",
    "\n",
    "ctx.log_float(\"roc_auc_class_mean\", roc_auc_macro)\n",
    "\n",
    "# assert that the same value can be computed directly using sklearn\n",
    "assert roc_auc_macro == metrics.roc_auc_score(\n",
    "    y_test, y_pred_probs_test, average=\"macro\", multi_class=\"ovr\"\n",
    ")"
   ]
  },
  {
   "cell_type": "code",
   "execution_count": 20,
   "id": "77aff9e8",
   "metadata": {
    "execution": {
     "iopub.execute_input": "2023-07-28T06:35:17.401668Z",
     "iopub.status.busy": "2023-07-28T06:35:17.401289Z",
     "iopub.status.idle": "2023-07-28T06:35:17.406082Z",
     "shell.execute_reply": "2023-07-28T06:35:17.405388Z"
    },
    "lines_to_next_cell": 0,
    "papermill": {
     "duration": 0.014126,
     "end_time": "2023-07-28T06:35:17.407699",
     "exception": false,
     "start_time": "2023-07-28T06:35:17.393573",
     "status": "completed"
    },
    "tags": []
   },
   "outputs": [],
   "source": [
    "# ---"
   ]
  },
  {
   "cell_type": "code",
   "execution_count": null,
   "id": "1860551d",
   "metadata": {
    "papermill": {
     "duration": 0.006677,
     "end_time": "2023-07-28T06:35:17.421005",
     "exception": false,
     "start_time": "2023-07-28T06:35:17.414328",
     "status": "completed"
    },
    "tags": []
   },
   "outputs": [],
   "source": []
  }
 ],
 "metadata": {
  "jupytext": {
   "cell_metadata_filter": "tags,-all",
   "main_language": "python",
   "notebook_metadata_filter": "-all"
  },
  "language_info": {
   "codemirror_mode": {
    "name": "ipython",
    "version": 3
   },
   "file_extension": ".py",
   "mimetype": "text/x-python",
   "name": "python",
   "nbconvert_exporter": "python",
   "pygments_lexer": "ipython3",
   "version": "3.8.10"
  },
  "papermill": {
   "default_parameters": {},
   "duration": 12.365546,
   "end_time": "2023-07-28T06:35:19.359664",
   "environment_variables": {},
   "exception": null,
   "input_path": "/tmp/temp-notebook-xponuf5n.ipynb",
   "output_path": "/tmp/temp-notebook-xponuf5n.ipynb",
   "parameters": {
    "P": {
     "_parameters_actor_name": "parameter_for_task_0x15057ded3e191eb7",
     "task.nr_train_images": 1200
    }
   },
   "start_time": "2023-07-28T06:35:06.994118",
   "version": "2.4.0"
  }
 },
 "nbformat": 4,
 "nbformat_minor": 5
}