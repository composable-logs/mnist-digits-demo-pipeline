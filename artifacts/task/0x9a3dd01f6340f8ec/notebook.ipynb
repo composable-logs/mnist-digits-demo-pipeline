{
 "cells": [
  {
   "cell_type": "markdown",
   "id": "7d57da59",
   "metadata": {
    "papermill": {
     "duration": 0.004292,
     "end_time": "2023-07-27T06:35:25.858939",
     "exception": false,
     "start_time": "2023-07-27T06:35:25.854647",
     "status": "completed"
    },
    "tags": []
   },
   "source": [
    "# Summarize model performances\n",
    "\n",
    "This notebooks plots the performances (using averaged ROC AUC scores) for models\n",
    "trained with different training sets."
   ]
  },
  {
   "cell_type": "markdown",
   "id": "42d95ba4",
   "metadata": {
    "papermill": {
     "duration": 0.002538,
     "end_time": "2023-07-27T06:35:25.864910",
     "exception": false,
     "start_time": "2023-07-27T06:35:25.862372",
     "status": "completed"
    },
    "tags": []
   },
   "source": [
    "### Determine run parameters"
   ]
  },
  {
   "cell_type": "code",
   "execution_count": 1,
   "id": "47911090",
   "metadata": {
    "execution": {
     "iopub.execute_input": "2023-07-27T06:35:25.872887Z",
     "iopub.status.busy": "2023-07-27T06:35:25.872209Z",
     "iopub.status.idle": "2023-07-27T06:35:25.879751Z",
     "shell.execute_reply": "2023-07-27T06:35:25.879062Z"
    },
    "lines_to_next_cell": 0,
    "papermill": {
     "duration": 0.012913,
     "end_time": "2023-07-27T06:35:25.881496",
     "exception": false,
     "start_time": "2023-07-27T06:35:25.868583",
     "status": "completed"
    },
    "tags": []
   },
   "outputs": [],
   "source": [
    "# ----------------- Parameters for interactive development --------------\n",
    "P = {\n",
    "    \"workflow.run_environment\": \"dev\",\n",
    "}"
   ]
  },
  {
   "cell_type": "code",
   "execution_count": 2,
   "id": "ff5c15d4",
   "metadata": {
    "execution": {
     "iopub.execute_input": "2023-07-27T06:35:25.889416Z",
     "iopub.status.busy": "2023-07-27T06:35:25.888952Z",
     "iopub.status.idle": "2023-07-27T06:35:25.891919Z",
     "shell.execute_reply": "2023-07-27T06:35:25.891348Z"
    },
    "lines_to_next_cell": 0,
    "papermill": {
     "duration": 0.007881,
     "end_time": "2023-07-27T06:35:25.893620",
     "exception": false,
     "start_time": "2023-07-27T06:35:25.885739",
     "status": "completed"
    },
    "tags": [
     "parameters"
    ]
   },
   "outputs": [],
   "source": [
    "# - During automated runs parameters will be injected in the below cell -"
   ]
  },
  {
   "cell_type": "code",
   "execution_count": 3,
   "id": "fdbf0a6e",
   "metadata": {
    "execution": {
     "iopub.execute_input": "2023-07-27T06:35:25.900140Z",
     "iopub.status.busy": "2023-07-27T06:35:25.899593Z",
     "iopub.status.idle": "2023-07-27T06:35:25.903697Z",
     "shell.execute_reply": "2023-07-27T06:35:25.903095Z"
    },
    "papermill": {
     "duration": 0.009118,
     "end_time": "2023-07-27T06:35:25.905234",
     "exception": false,
     "start_time": "2023-07-27T06:35:25.896116",
     "status": "completed"
    },
    "tags": [
     "injected-parameters"
    ]
   },
   "outputs": [],
   "source": [
    "# Parameters\n",
    "P = {\"_parameters_actor_name\": \"parameter_for_task_0x9a3dd01f6340f8ec\"}\n"
   ]
  },
  {
   "cell_type": "code",
   "execution_count": 4,
   "id": "65a7cf95",
   "metadata": {
    "execution": {
     "iopub.execute_input": "2023-07-27T06:35:25.911339Z",
     "iopub.status.busy": "2023-07-27T06:35:25.911107Z",
     "iopub.status.idle": "2023-07-27T06:35:25.913861Z",
     "shell.execute_reply": "2023-07-27T06:35:25.913333Z"
    },
    "lines_to_next_cell": 0,
    "papermill": {
     "duration": 0.007668,
     "end_time": "2023-07-27T06:35:25.915344",
     "exception": false,
     "start_time": "2023-07-27T06:35:25.907676",
     "status": "completed"
    },
    "tags": []
   },
   "outputs": [],
   "source": [
    "# -----------------------------------------------------------------------"
   ]
  },
  {
   "cell_type": "markdown",
   "id": "d67ba862",
   "metadata": {
    "papermill": {
     "duration": 0.002721,
     "end_time": "2023-07-27T06:35:25.920496",
     "exception": false,
     "start_time": "2023-07-27T06:35:25.917775",
     "status": "completed"
    },
    "tags": []
   },
   "source": [
    "---"
   ]
  },
  {
   "cell_type": "markdown",
   "id": "cc4407af",
   "metadata": {
    "lines_to_next_cell": 2,
    "papermill": {
     "duration": 0.002426,
     "end_time": "2023-07-27T06:35:25.925437",
     "exception": false,
     "start_time": "2023-07-27T06:35:25.923011",
     "status": "completed"
    },
    "tags": []
   },
   "source": [
    "### Notebook code"
   ]
  },
  {
   "cell_type": "code",
   "execution_count": 5,
   "id": "056010b4",
   "metadata": {
    "execution": {
     "iopub.execute_input": "2023-07-27T06:35:25.931944Z",
     "iopub.status.busy": "2023-07-27T06:35:25.931291Z",
     "iopub.status.idle": "2023-07-27T06:35:26.971984Z",
     "shell.execute_reply": "2023-07-27T06:35:26.971254Z"
    },
    "papermill": {
     "duration": 1.04642,
     "end_time": "2023-07-27T06:35:26.974392",
     "exception": false,
     "start_time": "2023-07-27T06:35:25.927972",
     "status": "completed"
    },
    "tags": []
   },
   "outputs": [],
   "source": [
    "#\n",
    "import pandas as pd\n",
    "import matplotlib.pyplot as plt\n",
    "\n",
    "#\n",
    "from composable_logs.tasks.task_opentelemetry_logging import get_task_context"
   ]
  },
  {
   "cell_type": "code",
   "execution_count": 6,
   "id": "b9101aea",
   "metadata": {
    "execution": {
     "iopub.execute_input": "2023-07-27T06:35:26.988915Z",
     "iopub.status.busy": "2023-07-27T06:35:26.988506Z",
     "iopub.status.idle": "2023-07-27T06:35:27.081311Z",
     "shell.execute_reply": "2023-07-27T06:35:27.080586Z"
    },
    "papermill": {
     "duration": 0.105775,
     "end_time": "2023-07-27T06:35:27.083175",
     "exception": false,
     "start_time": "2023-07-27T06:35:26.977400",
     "status": "completed"
    },
    "tags": []
   },
   "outputs": [
    {
     "name": "stderr",
     "output_type": "stream",
     "text": [
      "2023-07-27 06:35:26,991\tINFO worker.py:1364 -- Connecting to existing Ray cluster at address: 172.17.0.2:46840...\n"
     ]
    },
    {
     "name": "stderr",
     "output_type": "stream",
     "text": [
      "2023-07-27 06:35:27,014\tINFO worker.py:1544 -- Connected to Ray cluster. View the dashboard at \u001b[1m\u001b[32mhttp://127.0.0.1:8265 \u001b[39m\u001b[22m\n"
     ]
    },
    {
     "name": "stderr",
     "output_type": "stream",
     "text": [
      "/home/host_user/.local/lib/python3.8/site-packages/ray/runtime_context.py:27: RayDeprecationWarning: This API is deprecated and may be removed in future Ray releases. You could suppress this warning by setting env variable PYTHONWARNINGS=\"ignore::DeprecationWarning\"\n",
      "Use get_job_id() instead\n",
      "  \"job_id\": self.job_id,\n",
      "/home/host_user/.local/lib/python3.8/site-packages/ray/runtime_context.py:28: RayDeprecationWarning: This API is deprecated and may be removed in future Ray releases. You could suppress this warning by setting env variable PYTHONWARNINGS=\"ignore::DeprecationWarning\"\n",
      "Use get_node_id() instead\n",
      "  \"node_id\": self.node_id,\n"
     ]
    }
   ],
   "source": [
    "logger = get_task_context(P)"
   ]
  },
  {
   "cell_type": "code",
   "execution_count": 7,
   "id": "bb032ffa",
   "metadata": {
    "execution": {
     "iopub.execute_input": "2023-07-27T06:35:27.090881Z",
     "iopub.status.busy": "2023-07-27T06:35:27.090405Z",
     "iopub.status.idle": "2023-07-27T06:35:27.094783Z",
     "shell.execute_reply": "2023-07-27T06:35:27.094211Z"
    },
    "papermill": {
     "duration": 0.010103,
     "end_time": "2023-07-27T06:35:27.096493",
     "exception": false,
     "start_time": "2023-07-27T06:35:27.086390",
     "status": "completed"
    },
    "tags": []
   },
   "outputs": [],
   "source": [
    "from composable_logs.tasks.task_opentelemetry_logging import get_logged_values\n",
    "from composable_logs.opentelemetry_helpers import _get_all_spans, Spans"
   ]
  },
  {
   "cell_type": "code",
   "execution_count": 8,
   "id": "2e6dd3c8",
   "metadata": {
    "execution": {
     "iopub.execute_input": "2023-07-27T06:35:27.103654Z",
     "iopub.status.busy": "2023-07-27T06:35:27.103087Z",
     "iopub.status.idle": "2023-07-27T06:35:27.118062Z",
     "shell.execute_reply": "2023-07-27T06:35:27.117310Z"
    },
    "papermill": {
     "duration": 0.020514,
     "end_time": "2023-07-27T06:35:27.119922",
     "exception": false,
     "start_time": "2023-07-27T06:35:27.099408",
     "status": "completed"
    },
    "tags": []
   },
   "outputs": [],
   "source": [
    "def get_model_benchmarks():\n",
    "    \"\"\"\n",
    "    Query the OpenTelemetry logs for *this pipeline run* and return\n",
    "    all key-values logged from all runs of the benchmark-model.py task\n",
    "\n",
    "    For testing a json file with OpenTelemetry spans (as an array)\n",
    "    can be used as follows:\n",
    "\n",
    "    - Create output directory `mkdir /tmp/spans`\n",
    "    - Run unit tests. This will create pipeline-outputs/opentelemetry-spans.json\n",
    "    - Convert this json-array into jsonl format as follows\n",
    "\n",
    "    jq -c '.[]' /pipeline-outputs/opentelemetry-spans.json > /tmp/spans/data.txt\n",
    "\n",
    "    \"\"\"\n",
    "    spans: Spans = Spans(_get_all_spans())\n",
    "    print(f\" - Found {len(spans)} spans\")\n",
    "\n",
    "    benchmark_spans = (\n",
    "        spans\n",
    "        # -\n",
    "        .filter([\"name\"], \"execute-task\")\n",
    "        # -\n",
    "        .filter([\"attributes\", \"task.id\"], \"benchmark-model\")\n",
    "    )\n",
    "\n",
    "    result = []\n",
    "    for s in benchmark_spans:\n",
    "        result.append(\n",
    "            {\n",
    "                \"span_id\": s[\"context\"][\"span_id\"],\n",
    "                \"nr_train_images\": s[\"attributes\"][\"task.nr_train_images\"],\n",
    "                \"data\": get_logged_values(spans.bound_under(s)),\n",
    "            }\n",
    "        )\n",
    "\n",
    "    return result\n",
    "\n",
    "\n",
    "def adjust_pandas(df):\n",
    "    def column_renamer(col_name: str) -> str:\n",
    "        return (\n",
    "            col_name\n",
    "            # -- 'data.roc_auc_per_digit.4' -> 'roc_auc.4'\n",
    "            .replace(\"data.roc_auc_per_digit\", \"roc_auc\")\n",
    "            # -- 'data.roc_auc_class_mean' -> 'roc_auc_mean'\n",
    "            .replace(\"data.roc_auc_class_mean\", \"roc_auc_mean\")\n",
    "        )\n",
    "\n",
    "    return df.rename(column_renamer, axis=\"columns\").sort_values(by=\"nr_train_images\")"
   ]
  },
  {
   "cell_type": "code",
   "execution_count": 9,
   "id": "0b2a04f4",
   "metadata": {
    "execution": {
     "iopub.execute_input": "2023-07-27T06:35:27.126895Z",
     "iopub.status.busy": "2023-07-27T06:35:27.126613Z",
     "iopub.status.idle": "2023-07-27T06:35:27.243835Z",
     "shell.execute_reply": "2023-07-27T06:35:27.243152Z"
    },
    "papermill": {
     "duration": 0.122507,
     "end_time": "2023-07-27T06:35:27.245423",
     "exception": false,
     "start_time": "2023-07-27T06:35:27.122916",
     "status": "completed"
    },
    "tags": []
   },
   "outputs": [
    {
     "name": "stdout",
     "output_type": "stream",
     "text": [
      " - Found 250 spans\n"
     ]
    }
   ],
   "source": [
    "\n",
    "df_data = adjust_pandas(pd.json_normalize(get_model_benchmarks()))"
   ]
  },
  {
   "cell_type": "code",
   "execution_count": 10,
   "id": "f845179a",
   "metadata": {
    "execution": {
     "iopub.execute_input": "2023-07-27T06:35:27.253488Z",
     "iopub.status.busy": "2023-07-27T06:35:27.253029Z",
     "iopub.status.idle": "2023-07-27T06:35:27.279593Z",
     "shell.execute_reply": "2023-07-27T06:35:27.278853Z"
    },
    "papermill": {
     "duration": 0.032491,
     "end_time": "2023-07-27T06:35:27.281311",
     "exception": false,
     "start_time": "2023-07-27T06:35:27.248820",
     "status": "completed"
    },
    "tags": []
   },
   "outputs": [
    {
     "data": {
      "text/html": [
       "<div>\n",
       "<style scoped>\n",
       "    .dataframe tbody tr th:only-of-type {\n",
       "        vertical-align: middle;\n",
       "    }\n",
       "\n",
       "    .dataframe tbody tr th {\n",
       "        vertical-align: top;\n",
       "    }\n",
       "\n",
       "    .dataframe thead th {\n",
       "        text-align: right;\n",
       "    }\n",
       "</style>\n",
       "<table border=\"1\" class=\"dataframe\">\n",
       "  <thead>\n",
       "    <tr style=\"text-align: right;\">\n",
       "      <th></th>\n",
       "      <th>span_id</th>\n",
       "      <th>nr_train_images</th>\n",
       "      <th>roc_auc_mean</th>\n",
       "      <th>roc_auc.0</th>\n",
       "      <th>roc_auc.1</th>\n",
       "      <th>roc_auc.2</th>\n",
       "      <th>roc_auc.3</th>\n",
       "      <th>roc_auc.4</th>\n",
       "      <th>roc_auc.5</th>\n",
       "      <th>roc_auc.6</th>\n",
       "      <th>roc_auc.7</th>\n",
       "      <th>roc_auc.8</th>\n",
       "      <th>roc_auc.9</th>\n",
       "    </tr>\n",
       "  </thead>\n",
       "  <tbody>\n",
       "    <tr>\n",
       "      <th>3</th>\n",
       "      <td>0x66542819cbfcc5de</td>\n",
       "      <td>600</td>\n",
       "      <td>0.9990</td>\n",
       "      <td>1.0</td>\n",
       "      <td>0.9993</td>\n",
       "      <td>1.0</td>\n",
       "      <td>0.9999</td>\n",
       "      <td>0.9992</td>\n",
       "      <td>0.9988</td>\n",
       "      <td>0.9999</td>\n",
       "      <td>0.9998</td>\n",
       "      <td>0.9944</td>\n",
       "      <td>0.9987</td>\n",
       "    </tr>\n",
       "    <tr>\n",
       "      <th>2</th>\n",
       "      <td>0x62d86d6116eb9a83</td>\n",
       "      <td>800</td>\n",
       "      <td>0.9990</td>\n",
       "      <td>1.0</td>\n",
       "      <td>0.9988</td>\n",
       "      <td>1.0</td>\n",
       "      <td>0.9998</td>\n",
       "      <td>0.9995</td>\n",
       "      <td>0.9990</td>\n",
       "      <td>1.0000</td>\n",
       "      <td>0.9999</td>\n",
       "      <td>0.9935</td>\n",
       "      <td>0.9994</td>\n",
       "    </tr>\n",
       "    <tr>\n",
       "      <th>0</th>\n",
       "      <td>0x5e63589d2bd41797</td>\n",
       "      <td>1000</td>\n",
       "      <td>0.9992</td>\n",
       "      <td>1.0</td>\n",
       "      <td>0.9989</td>\n",
       "      <td>1.0</td>\n",
       "      <td>0.9999</td>\n",
       "      <td>0.9996</td>\n",
       "      <td>0.9994</td>\n",
       "      <td>0.9999</td>\n",
       "      <td>0.9998</td>\n",
       "      <td>0.9949</td>\n",
       "      <td>0.9995</td>\n",
       "    </tr>\n",
       "    <tr>\n",
       "      <th>1</th>\n",
       "      <td>0xbcffa6526d9c9c3d</td>\n",
       "      <td>1200</td>\n",
       "      <td>0.9994</td>\n",
       "      <td>1.0</td>\n",
       "      <td>0.9991</td>\n",
       "      <td>1.0</td>\n",
       "      <td>0.9999</td>\n",
       "      <td>0.9997</td>\n",
       "      <td>0.9997</td>\n",
       "      <td>0.9999</td>\n",
       "      <td>0.9998</td>\n",
       "      <td>0.9957</td>\n",
       "      <td>0.9997</td>\n",
       "    </tr>\n",
       "  </tbody>\n",
       "</table>\n",
       "</div>"
      ],
      "text/plain": [
       "              span_id  nr_train_images  roc_auc_mean  roc_auc.0  roc_auc.1  \\\n",
       "3  0x66542819cbfcc5de              600        0.9990        1.0     0.9993   \n",
       "2  0x62d86d6116eb9a83              800        0.9990        1.0     0.9988   \n",
       "0  0x5e63589d2bd41797             1000        0.9992        1.0     0.9989   \n",
       "1  0xbcffa6526d9c9c3d             1200        0.9994        1.0     0.9991   \n",
       "\n",
       "   roc_auc.2  roc_auc.3  roc_auc.4  roc_auc.5  roc_auc.6  roc_auc.7  \\\n",
       "3        1.0     0.9999     0.9992     0.9988     0.9999     0.9998   \n",
       "2        1.0     0.9998     0.9995     0.9990     1.0000     0.9999   \n",
       "0        1.0     0.9999     0.9996     0.9994     0.9999     0.9998   \n",
       "1        1.0     0.9999     0.9997     0.9997     0.9999     0.9998   \n",
       "\n",
       "   roc_auc.8  roc_auc.9  \n",
       "3     0.9944     0.9987  \n",
       "2     0.9935     0.9994  \n",
       "0     0.9949     0.9995  \n",
       "1     0.9957     0.9997  "
      ]
     },
     "execution_count": 10,
     "metadata": {},
     "output_type": "execute_result"
    }
   ],
   "source": [
    "df_data.round(4)"
   ]
  },
  {
   "cell_type": "code",
   "execution_count": 11,
   "id": "f41ddf6a",
   "metadata": {
    "execution": {
     "iopub.execute_input": "2023-07-27T06:35:27.288943Z",
     "iopub.status.busy": "2023-07-27T06:35:27.288514Z",
     "iopub.status.idle": "2023-07-27T06:35:27.526950Z",
     "shell.execute_reply": "2023-07-27T06:35:27.526251Z"
    },
    "papermill": {
     "duration": 0.244154,
     "end_time": "2023-07-27T06:35:27.528722",
     "exception": false,
     "start_time": "2023-07-27T06:35:27.284568",
     "status": "completed"
    },
    "tags": []
   },
   "outputs": [
    {
     "data": {
      "image/png": "[encoded data removed]",
      "text/plain": [
       "<Figure size 1600x400 with 1 Axes>"
      ]
     },
     "metadata": {},
     "output_type": "display_data"
    }
   ],
   "source": [
    "def plot_classifier_performance_summary(df_data):\n",
    "    fig, ax = plt.subplots(nrows=1, ncols=1, figsize=(16, 4), sharex=True)\n",
    "\n",
    "    #\n",
    "    ax.plot(\n",
    "        df_data[\"nr_train_images\"], df_data[\"roc_auc_mean\"], marker=\"o\", linestyle=\"--\"\n",
    "    )\n",
    "    ax.set_title(\n",
    "        f\"ROC AUC digit classifier performance on evaluation digits\", fontsize=17\n",
    "    )\n",
    "    ax.set_xlabel(\"Total number of digits in training set\", fontsize=14)\n",
    "    ax.set_ylabel(\"Mean ROC AUC\", fontsize=14)\n",
    "\n",
    "    fig.tight_layout()\n",
    "    fig.show()\n",
    "\n",
    "    return fig\n",
    "\n",
    "\n",
    "fig = plot_classifier_performance_summary(df_data)"
   ]
  },
  {
   "cell_type": "code",
   "execution_count": 12,
   "id": "f030b3f4",
   "metadata": {
    "execution": {
     "iopub.execute_input": "2023-07-27T06:35:27.538544Z",
     "iopub.status.busy": "2023-07-27T06:35:27.538291Z",
     "iopub.status.idle": "2023-07-27T06:35:27.622449Z",
     "shell.execute_reply": "2023-07-27T06:35:27.621739Z"
    },
    "papermill": {
     "duration": 0.091715,
     "end_time": "2023-07-27T06:35:27.624878",
     "exception": false,
     "start_time": "2023-07-27T06:35:27.533163",
     "status": "completed"
    },
    "tags": []
   },
   "outputs": [],
   "source": [
    "logger.log_figure(\"auc-roc-model-performances.png\", fig)"
   ]
  },
  {
   "cell_type": "code",
   "execution_count": 13,
   "id": "38f50af0",
   "metadata": {
    "execution": {
     "iopub.execute_input": "2023-07-27T06:35:27.637698Z",
     "iopub.status.busy": "2023-07-27T06:35:27.637422Z",
     "iopub.status.idle": "2023-07-27T06:35:27.641204Z",
     "shell.execute_reply": "2023-07-27T06:35:27.640634Z"
    },
    "papermill": {
     "duration": 0.013167,
     "end_time": "2023-07-27T06:35:27.642932",
     "exception": false,
     "start_time": "2023-07-27T06:35:27.629765",
     "status": "completed"
    },
    "tags": []
   },
   "outputs": [],
   "source": [
    "###"
   ]
  },
  {
   "cell_type": "code",
   "execution_count": null,
   "id": "d5fe72aa",
   "metadata": {
    "papermill": {
     "duration": 0.003988,
     "end_time": "2023-07-27T06:35:27.651233",
     "exception": false,
     "start_time": "2023-07-27T06:35:27.647245",
     "status": "completed"
    },
    "tags": []
   },
   "outputs": [],
   "source": []
  }
 ],
 "metadata": {
  "jupytext": {
   "cell_metadata_filter": "tags,-all",
   "main_language": "python",
   "notebook_metadata_filter": "-all"
  },
  "language_info": {
   "codemirror_mode": {
    "name": "ipython",
    "version": 3
   },
   "file_extension": ".py",
   "mimetype": "text/x-python",
   "name": "python",
   "nbconvert_exporter": "python",
   "pygments_lexer": "ipython3",
   "version": "3.8.10"
  },
  "papermill": {
   "default_parameters": {},
   "duration": 5.16437,
   "end_time": "2023-07-27T06:35:29.684924",
   "environment_variables": {},
   "exception": null,
   "input_path": "/tmp/temp-notebook-gjo0wssu.ipynb",
   "output_path": "/tmp/temp-notebook-gjo0wssu.ipynb",
   "parameters": {
    "P": {
     "_parameters_actor_name": "parameter_for_task_0x9a3dd01f6340f8ec"
    }
   },
   "start_time": "2023-07-27T06:35:24.520554",
   "version": "2.4.0"
  }
 },
 "nbformat": 4,
 "nbformat_minor": 5
}