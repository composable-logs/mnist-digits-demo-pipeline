{
 "cells": [
  {
   "cell_type": "markdown",
   "id": "707d40dc",
   "metadata": {
    "papermill": {
     "duration": 0.005438,
     "end_time": "2023-07-24T06:36:55.028581",
     "exception": false,
     "start_time": "2023-07-24T06:36:55.023143",
     "status": "completed"
    },
    "tags": []
   },
   "source": [
    "# Benchmark model\n",
    "\n",
    "The purpose of this notebook is to benchmark persisted onnx-model (trained in the\n",
    "previous step) against evaluation set."
   ]
  },
  {
   "cell_type": "markdown",
   "id": "431ef0e4",
   "metadata": {
    "papermill": {
     "duration": 0.004243,
     "end_time": "2023-07-24T06:36:55.039175",
     "exception": false,
     "start_time": "2023-07-24T06:36:55.034932",
     "status": "completed"
    },
    "tags": []
   },
   "source": [
    "### Determine run parameters"
   ]
  },
  {
   "cell_type": "code",
   "execution_count": 1,
   "id": "6b927f27",
   "metadata": {
    "execution": {
     "iopub.execute_input": "2023-07-24T06:36:55.049894Z",
     "iopub.status.busy": "2023-07-24T06:36:55.049595Z",
     "iopub.status.idle": "2023-07-24T06:36:55.059289Z",
     "shell.execute_reply": "2023-07-24T06:36:55.058651Z"
    },
    "lines_to_next_cell": 0,
    "papermill": {
     "duration": 0.018082,
     "end_time": "2023-07-24T06:36:55.061337",
     "exception": false,
     "start_time": "2023-07-24T06:36:55.043255",
     "status": "completed"
    },
    "tags": []
   },
   "outputs": [],
   "source": [
    "# ----------------- Parameters for interactive development --------------\n",
    "P = {\n",
    "    \"workflow.data_lake_root\": \"/pipeline-outputs/data-lake\",\n",
    "    \"task.nr_train_images\": 600,\n",
    "}"
   ]
  },
  {
   "cell_type": "code",
   "execution_count": 2,
   "id": "cefeb369",
   "metadata": {
    "execution": {
     "iopub.execute_input": "2023-07-24T06:36:55.071184Z",
     "iopub.status.busy": "2023-07-24T06:36:55.070901Z",
     "iopub.status.idle": "2023-07-24T06:36:55.075341Z",
     "shell.execute_reply": "2023-07-24T06:36:55.074769Z"
    },
    "lines_to_next_cell": 0,
    "papermill": {
     "duration": 0.011884,
     "end_time": "2023-07-24T06:36:55.077362",
     "exception": false,
     "start_time": "2023-07-24T06:36:55.065478",
     "status": "completed"
    },
    "tags": [
     "parameters"
    ]
   },
   "outputs": [],
   "source": [
    "# - During automated runs parameters will be injected in the below cell -"
   ]
  },
  {
   "cell_type": "code",
   "execution_count": 3,
   "id": "2d18cc01",
   "metadata": {
    "execution": {
     "iopub.execute_input": "2023-07-24T06:36:55.086861Z",
     "iopub.status.busy": "2023-07-24T06:36:55.086587Z",
     "iopub.status.idle": "2023-07-24T06:36:55.091135Z",
     "shell.execute_reply": "2023-07-24T06:36:55.090560Z"
    },
    "papermill": {
     "duration": 0.011738,
     "end_time": "2023-07-24T06:36:55.093174",
     "exception": false,
     "start_time": "2023-07-24T06:36:55.081436",
     "status": "completed"
    },
    "tags": [
     "injected-parameters"
    ]
   },
   "outputs": [],
   "source": [
    "# Parameters\n",
    "P = {\n",
    "    \"task.nr_train_images\": 600,\n",
    "    \"_parameters_actor_name\": \"parameter_for_task_0xe041a4c9b4e4bde1\",\n",
    "}\n"
   ]
  },
  {
   "cell_type": "code",
   "execution_count": 4,
   "id": "2e2e32c3",
   "metadata": {
    "execution": {
     "iopub.execute_input": "2023-07-24T06:36:55.103140Z",
     "iopub.status.busy": "2023-07-24T06:36:55.102862Z",
     "iopub.status.idle": "2023-07-24T06:36:55.107549Z",
     "shell.execute_reply": "2023-07-24T06:36:55.106974Z"
    },
    "lines_to_next_cell": 0,
    "papermill": {
     "duration": 0.01206,
     "end_time": "2023-07-24T06:36:55.109498",
     "exception": false,
     "start_time": "2023-07-24T06:36:55.097438",
     "status": "completed"
    },
    "tags": []
   },
   "outputs": [],
   "source": [
    "# -----------------------------------------------------------------------"
   ]
  },
  {
   "cell_type": "markdown",
   "id": "7fbaae96",
   "metadata": {
    "papermill": {
     "duration": 0.004135,
     "end_time": "2023-07-24T06:36:55.117742",
     "exception": false,
     "start_time": "2023-07-24T06:36:55.113607",
     "status": "completed"
    },
    "tags": []
   },
   "source": [
    "---"
   ]
  },
  {
   "cell_type": "markdown",
   "id": "2fb29fd4",
   "metadata": {
    "lines_to_next_cell": 2,
    "papermill": {
     "duration": 0.004144,
     "end_time": "2023-07-24T06:36:55.125970",
     "exception": false,
     "start_time": "2023-07-24T06:36:55.121826",
     "status": "completed"
    },
    "tags": []
   },
   "source": [
    "### Notebook code"
   ]
  },
  {
   "cell_type": "code",
   "execution_count": 5,
   "id": "30d9a079",
   "metadata": {
    "execution": {
     "iopub.execute_input": "2023-07-24T06:36:55.136024Z",
     "iopub.status.busy": "2023-07-24T06:36:55.135656Z",
     "iopub.status.idle": "2023-07-24T06:36:56.056294Z",
     "shell.execute_reply": "2023-07-24T06:36:56.055609Z"
    },
    "papermill": {
     "duration": 0.928083,
     "end_time": "2023-07-24T06:36:56.058201",
     "exception": false,
     "start_time": "2023-07-24T06:36:55.130118",
     "status": "completed"
    },
    "tags": []
   },
   "outputs": [
    {
     "name": "stderr",
     "output_type": "stream",
     "text": [
      "2023-07-24 06:36:55,968\tINFO worker.py:1364 -- Connecting to existing Ray cluster at address: 172.17.0.2:55561...\n"
     ]
    },
    {
     "name": "stderr",
     "output_type": "stream",
     "text": [
      "2023-07-24 06:36:55,982\tINFO worker.py:1544 -- Connected to Ray cluster. View the dashboard at \u001b[1m\u001b[32mhttp://127.0.0.1:8265 \u001b[39m\u001b[22m\n"
     ]
    },
    {
     "name": "stderr",
     "output_type": "stream",
     "text": [
      "/home/host_user/.local/lib/python3.8/site-packages/ray/runtime_context.py:27: RayDeprecationWarning: This API is deprecated and may be removed in future Ray releases. You could suppress this warning by setting env variable PYTHONWARNINGS=\"ignore::DeprecationWarning\"\n",
      "Use get_job_id() instead\n",
      "  \"job_id\": self.job_id,\n",
      "/home/host_user/.local/lib/python3.8/site-packages/ray/runtime_context.py:28: RayDeprecationWarning: This API is deprecated and may be removed in future Ray releases. You could suppress this warning by setting env variable PYTHONWARNINGS=\"ignore::DeprecationWarning\"\n",
      "Use get_node_id() instead\n",
      "  \"node_id\": self.node_id,\n"
     ]
    }
   ],
   "source": [
    "import itertools as it\n",
    "\n",
    "#\n",
    "import numpy as np\n",
    "import matplotlib.pyplot as plt\n",
    "\n",
    "#\n",
    "from composable_logs.tasks.task_opentelemetry_logging import get_task_context\n",
    "\n",
    "#\n",
    "from common.io import datalake_root\n",
    "\n",
    "ctx = get_task_context(P)"
   ]
  },
  {
   "cell_type": "markdown",
   "id": "1e323b4d",
   "metadata": {
    "papermill": {
     "duration": 0.004341,
     "end_time": "2023-07-24T06:36:56.067338",
     "exception": false,
     "start_time": "2023-07-24T06:36:56.062997",
     "status": "completed"
    },
    "tags": []
   },
   "source": [
    "## Load persisted onnx-model and evaluation data"
   ]
  },
  {
   "cell_type": "code",
   "execution_count": 6,
   "id": "8f541108",
   "metadata": {
    "execution": {
     "iopub.execute_input": "2023-07-24T06:36:56.083812Z",
     "iopub.status.busy": "2023-07-24T06:36:56.083165Z",
     "iopub.status.idle": "2023-07-24T06:36:56.089357Z",
     "shell.execute_reply": "2023-07-24T06:36:56.088692Z"
    },
    "papermill": {
     "duration": 0.019544,
     "end_time": "2023-07-24T06:36:56.091138",
     "exception": false,
     "start_time": "2023-07-24T06:36:56.071594",
     "status": "completed"
    },
    "tags": []
   },
   "outputs": [],
   "source": [
    "from common.io import read_onnx, get_onnx_inputs, get_onnx_outputs, read_numpy"
   ]
  },
  {
   "cell_type": "code",
   "execution_count": 7,
   "id": "f4ec658b",
   "metadata": {
    "execution": {
     "iopub.execute_input": "2023-07-24T06:36:56.101775Z",
     "iopub.status.busy": "2023-07-24T06:36:56.101480Z",
     "iopub.status.idle": "2023-07-24T06:36:56.111220Z",
     "shell.execute_reply": "2023-07-24T06:36:56.110585Z"
    },
    "lines_to_next_cell": 0,
    "papermill": {
     "duration": 0.017619,
     "end_time": "2023-07-24T06:36:56.113234",
     "exception": false,
     "start_time": "2023-07-24T06:36:56.095615",
     "status": "completed"
    },
    "tags": []
   },
   "outputs": [],
   "source": [
    "onnx_inference_session = read_onnx(\n",
    "    datalake_root(ctx)\n",
    "    / \"models\"\n",
    "    / f\"nr_train_images={ctx.parameters['task.nr_train_images']}\"\n",
    "    / \"model.onnx\"\n",
    ")"
   ]
  },
  {
   "cell_type": "markdown",
   "id": "386b95a3",
   "metadata": {
    "papermill": {
     "duration": 0.004385,
     "end_time": "2023-07-24T06:36:56.121999",
     "exception": false,
     "start_time": "2023-07-24T06:36:56.117614",
     "status": "completed"
    },
    "tags": []
   },
   "source": [
    "### Record structure of inputs and outputs for ONNX model\n",
    "\n",
    "(this should likely be done in training notebook)"
   ]
  },
  {
   "cell_type": "code",
   "execution_count": 8,
   "id": "e61fb13d",
   "metadata": {
    "execution": {
     "iopub.execute_input": "2023-07-24T06:36:56.132458Z",
     "iopub.status.busy": "2023-07-24T06:36:56.132141Z",
     "iopub.status.idle": "2023-07-24T06:36:56.139384Z",
     "shell.execute_reply": "2023-07-24T06:36:56.138815Z"
    },
    "papermill": {
     "duration": 0.01465,
     "end_time": "2023-07-24T06:36:56.141142",
     "exception": false,
     "start_time": "2023-07-24T06:36:56.126492",
     "status": "completed"
    },
    "tags": []
   },
   "outputs": [
    {
     "name": "stdout",
     "output_type": "stream",
     "text": [
      "{\n",
      "  \"inputs\": [\n",
      "    {\n",
      "      \"name\": \"float_input_8x8_image\",\n",
      "      \"shape\": [\n",
      "        null,\n",
      "        64\n",
      "      ],\n",
      "      \"type\": \"tensor(float)\"\n",
      "    }\n",
      "  ],\n",
      "  \"outputs\": [\n",
      "    {\n",
      "      \"name\": \"output_label\",\n",
      "      \"shape\": [\n",
      "        null\n",
      "      ],\n",
      "      \"type\": \"tensor(int64)\"\n",
      "    },\n",
      "    {\n",
      "      \"name\": \"output_probability\",\n",
      "      \"shape\": [],\n",
      "      \"type\": \"seq(map(int64,tensor(float)))\"\n",
      "    }\n",
      "  ]\n",
      "}\n"
     ]
    }
   ],
   "source": [
    "import json\n",
    "\n",
    "onnx_io = json.dumps(\n",
    "    {\n",
    "        \"inputs\": get_onnx_inputs(onnx_inference_session),\n",
    "        \"outputs\": get_onnx_outputs(onnx_inference_session),\n",
    "    },\n",
    "    indent=2,\n",
    ")\n",
    "\n",
    "\n",
    "ctx.log_artefact(\"onnx_io_structure.json\", onnx_io)\n",
    "print(onnx_io)"
   ]
  },
  {
   "cell_type": "markdown",
   "id": "57eacfa2",
   "metadata": {
    "papermill": {
     "duration": 0.004489,
     "end_time": "2023-07-24T06:36:56.150227",
     "exception": false,
     "start_time": "2023-07-24T06:36:56.145738",
     "status": "completed"
    },
    "tags": []
   },
   "source": [
    "### Evaluate model performance on evaluation data set"
   ]
  },
  {
   "cell_type": "code",
   "execution_count": 9,
   "id": "c6a7de80",
   "metadata": {
    "execution": {
     "iopub.execute_input": "2023-07-24T06:36:56.161232Z",
     "iopub.status.busy": "2023-07-24T06:36:56.160851Z",
     "iopub.status.idle": "2023-07-24T06:36:56.167320Z",
     "shell.execute_reply": "2023-07-24T06:36:56.166692Z"
    },
    "papermill": {
     "duration": 0.014378,
     "end_time": "2023-07-24T06:36:56.169319",
     "exception": false,
     "start_time": "2023-07-24T06:36:56.154941",
     "status": "completed"
    },
    "tags": []
   },
   "outputs": [],
   "source": [
    "# load evaluation data\n",
    "X_test = read_numpy(datalake_root(ctx) / \"test-data\" / \"digits.numpy\")\n",
    "y_test = read_numpy(datalake_root(ctx) / \"test-data\" / \"labels.numpy\")"
   ]
  },
  {
   "cell_type": "code",
   "execution_count": 10,
   "id": "2a0f0ee2",
   "metadata": {
    "execution": {
     "iopub.execute_input": "2023-07-24T06:36:56.180346Z",
     "iopub.status.busy": "2023-07-24T06:36:56.180055Z",
     "iopub.status.idle": "2023-07-24T06:36:56.197744Z",
     "shell.execute_reply": "2023-07-24T06:36:56.196954Z"
    },
    "papermill": {
     "duration": 0.025947,
     "end_time": "2023-07-24T06:36:56.200054",
     "exception": false,
     "start_time": "2023-07-24T06:36:56.174107",
     "status": "completed"
    },
    "tags": []
   },
   "outputs": [],
   "source": [
    "def get_model_outputs(X, onnx_inference_session):\n",
    "    y_pred_labels, y_pred_map = onnx_inference_session.run(\n",
    "        [\"output_label\", \"output_probability\"],\n",
    "        {\"float_input_8x8_image\": X.astype(np.float32)},\n",
    "    )\n",
    "    y_pred_probs = np.array(\n",
    "        [[probabilities[digit] for digit in range(10)] for probabilities in y_pred_map]\n",
    "    )\n",
    "\n",
    "    assert y_pred_labels.shape == (X.shape[0],)\n",
    "    assert y_pred_probs.shape == (X.shape[0], 10)\n",
    "\n",
    "    return y_pred_labels, y_pred_probs\n",
    "\n",
    "\n",
    "# Note: as shown in the training notebook, the predicted labels and probabilities\n",
    "# computed below need not be compatible.\n",
    "y_pred_labels_test, y_pred_probs_test = get_model_outputs(\n",
    "    X_test, onnx_inference_session\n",
    ")"
   ]
  },
  {
   "cell_type": "markdown",
   "id": "c792ec14",
   "metadata": {
    "papermill": {
     "duration": 0.00464,
     "end_time": "2023-07-24T06:36:56.209860",
     "exception": false,
     "start_time": "2023-07-24T06:36:56.205220",
     "status": "completed"
    },
    "tags": []
   },
   "source": [
    "### Confusion matrix"
   ]
  },
  {
   "cell_type": "code",
   "execution_count": 11,
   "id": "9f182828",
   "metadata": {
    "execution": {
     "iopub.execute_input": "2023-07-24T06:36:56.220760Z",
     "iopub.status.busy": "2023-07-24T06:36:56.220445Z",
     "iopub.status.idle": "2023-07-24T06:36:56.225033Z",
     "shell.execute_reply": "2023-07-24T06:36:56.224356Z"
    },
    "papermill": {
     "duration": 0.012339,
     "end_time": "2023-07-24T06:36:56.226726",
     "exception": false,
     "start_time": "2023-07-24T06:36:56.214387",
     "status": "completed"
    },
    "tags": []
   },
   "outputs": [],
   "source": [
    "# TODO"
   ]
  },
  {
   "cell_type": "markdown",
   "id": "fa378cf5",
   "metadata": {
    "papermill": {
     "duration": 0.004558,
     "end_time": "2023-07-24T06:36:56.236166",
     "exception": false,
     "start_time": "2023-07-24T06:36:56.231608",
     "status": "completed"
    },
    "tags": []
   },
   "source": [
    "### Plot predicted probabilities for each classifier over all evaluation digit images"
   ]
  },
  {
   "cell_type": "code",
   "execution_count": 12,
   "id": "35643247",
   "metadata": {
    "execution": {
     "iopub.execute_input": "2023-07-24T06:36:56.247687Z",
     "iopub.status.busy": "2023-07-24T06:36:56.247396Z",
     "iopub.status.idle": "2023-07-24T06:37:00.227530Z",
     "shell.execute_reply": "2023-07-24T06:37:00.226855Z"
    },
    "papermill": {
     "duration": 3.98907,
     "end_time": "2023-07-24T06:37:00.229958",
     "exception": false,
     "start_time": "2023-07-24T06:36:56.240888",
     "status": "completed"
    },
    "tags": []
   },
   "outputs": [
    {
     "data": {
      "image/png": "[encoded data removed]",
      "text/plain": [
       "<Figure size 1600x600 with 10 Axes>"
      ]
     },
     "metadata": {},
     "output_type": "display_data"
    }
   ],
   "source": [
    "def plot_per_digit_probabilities(y_pred_probs):\n",
    "    fig, axs = plt.subplots(nrows=2, ncols=5, figsize=(16, 6))\n",
    "\n",
    "    for (r, c), digit, ax in zip(\n",
    "        it.product(range(2), range(5)), range(10), axs.reshape(-1)\n",
    "    ):\n",
    "        ax.hist(y_pred_probs_test[:, digit], bins=20)\n",
    "\n",
    "        ax.set_title(f\"Digit {digit}\")\n",
    "        if r == 1 and c == 2:\n",
    "            ax.set_xlabel(\"probability\", fontsize=16)\n",
    "\n",
    "        if c == 0:\n",
    "            ax.set_ylabel(\"counts\", fontsize=16)\n",
    "        ax.set_yscale(\"log\")\n",
    "\n",
    "    fig.tight_layout()\n",
    "    fig.suptitle(\n",
    "        f\"Distributions of prediction probabilities for each digit \"\n",
    "        f\"(on evaluation data, n={y_pred_probs.shape[0]})\",\n",
    "        fontsize=20,\n",
    "    )\n",
    "    fig.tight_layout()\n",
    "    fig.show()\n",
    "\n",
    "    return fig\n",
    "\n",
    "\n",
    "fig = plot_per_digit_probabilities(y_pred_probs_test)"
   ]
  },
  {
   "cell_type": "markdown",
   "id": "c26c78f4",
   "metadata": {
    "papermill": {
     "duration": 0.005494,
     "end_time": "2023-07-24T06:37:00.241200",
     "exception": false,
     "start_time": "2023-07-24T06:37:00.235706",
     "status": "completed"
    },
    "tags": []
   },
   "source": [
    "From the above distributions we see that most digits have clear separation between\n",
    "high and lower probabilities. Morover, in each case there is roughly an order of\n",
    "magnitude more of digits with low probabilities. This is compatible with digits\n",
    "being roughly evenly distributed in the data."
   ]
  },
  {
   "cell_type": "code",
   "execution_count": 13,
   "id": "d6d0ccc1",
   "metadata": {
    "execution": {
     "iopub.execute_input": "2023-07-24T06:37:00.254172Z",
     "iopub.status.busy": "2023-07-24T06:37:00.253868Z",
     "iopub.status.idle": "2023-07-24T06:37:01.314303Z",
     "shell.execute_reply": "2023-07-24T06:37:01.313612Z"
    },
    "papermill": {
     "duration": 1.069696,
     "end_time": "2023-07-24T06:37:01.316509",
     "exception": false,
     "start_time": "2023-07-24T06:37:00.246813",
     "status": "completed"
    },
    "tags": []
   },
   "outputs": [],
   "source": [
    "ctx.log_figure(\"per-digit-probabilities.png\", fig)"
   ]
  },
  {
   "cell_type": "markdown",
   "id": "04e4413c",
   "metadata": {
    "papermill": {
     "duration": 0.012217,
     "end_time": "2023-07-24T06:37:01.334758",
     "exception": false,
     "start_time": "2023-07-24T06:37:01.322541",
     "status": "completed"
    },
    "tags": []
   },
   "source": [
    "### Plot ROC curves for individual one-vs-rest classifiers"
   ]
  },
  {
   "cell_type": "code",
   "execution_count": 14,
   "id": "c525b7fc",
   "metadata": {
    "execution": {
     "iopub.execute_input": "2023-07-24T06:37:01.352999Z",
     "iopub.status.busy": "2023-07-24T06:37:01.349577Z",
     "iopub.status.idle": "2023-07-24T06:37:01.750271Z",
     "shell.execute_reply": "2023-07-24T06:37:01.749584Z"
    },
    "papermill": {
     "duration": 0.412749,
     "end_time": "2023-07-24T06:37:01.753540",
     "exception": false,
     "start_time": "2023-07-24T06:37:01.340791",
     "status": "completed"
    },
    "tags": []
   },
   "outputs": [],
   "source": [
    "from sklearn import metrics"
   ]
  },
  {
   "cell_type": "code",
   "execution_count": 15,
   "id": "3af1472e",
   "metadata": {
    "execution": {
     "iopub.execute_input": "2023-07-24T06:37:01.770105Z",
     "iopub.status.busy": "2023-07-24T06:37:01.768625Z",
     "iopub.status.idle": "2023-07-24T06:37:04.042834Z",
     "shell.execute_reply": "2023-07-24T06:37:04.040807Z"
    },
    "papermill": {
     "duration": 2.283522,
     "end_time": "2023-07-24T06:37:04.044880",
     "exception": false,
     "start_time": "2023-07-24T06:37:01.761358",
     "status": "completed"
    },
    "tags": []
   },
   "outputs": [
    {
     "data": {
      "image/png": "[encoded data removed]",
      "text/plain": [
       "<Figure size 1600x800 with 10 Axes>"
      ]
     },
     "metadata": {},
     "output_type": "display_data"
    }
   ],
   "source": [
    "def plot_roc_curves(y, y_pred_probs):\n",
    "    # based on example code\n",
    "    # https://scikit-learn.org/stable/auto_examples/model_selection/plot_roc.html\n",
    "\n",
    "    fig, axs = plt.subplots(nrows=2, ncols=5, figsize=(16, 8))\n",
    "\n",
    "    roc_auc_dict = {}\n",
    "\n",
    "    for (r, c), digit, ax in zip(\n",
    "        it.product(range(2), range(5)), range(10), axs.reshape(-1)\n",
    "    ):\n",
    "        fpr, tpr, _ = metrics.roc_curve(y == digit, y_pred_probs[:, digit])\n",
    "        auc = metrics.auc(fpr, tpr)\n",
    "        roc_auc_dict[str(digit)] = auc\n",
    "\n",
    "        ax.plot(fpr, tpr, label=f\"ROC AUC={round(auc, 3)}\")\n",
    "\n",
    "        ax.set_title(f\"\\nDigit {digit}\", fontsize=16)\n",
    "        if r == 1:\n",
    "            ax.set_xlabel(\"FPR\", fontsize=18)\n",
    "\n",
    "        if c == 0:\n",
    "            ax.set_ylabel(\"TPR\", fontsize=18)\n",
    "\n",
    "        ax.set_xlim([-0.05, 1.05])\n",
    "        ax.set_ylim([-0.05, 1.05])\n",
    "        ax.legend(loc=\"lower right\", frameon=False, fontsize=14)\n",
    "\n",
    "    fig.tight_layout()\n",
    "    fig.suptitle(\n",
    "        f\"ROC plots for one-vs-rest performances \"\n",
    "        f\"(on evaluation data, n={y_pred_probs_test.shape[1]}\",\n",
    "        fontsize=22,\n",
    "    )\n",
    "    fig.tight_layout()\n",
    "    fig.show()\n",
    "\n",
    "    return roc_auc_dict, fig\n",
    "\n",
    "\n",
    "roc_auc_dict, fig = plot_roc_curves(y_test, y_pred_probs_test)"
   ]
  },
  {
   "cell_type": "code",
   "execution_count": 16,
   "id": "81f2ddef",
   "metadata": {
    "execution": {
     "iopub.execute_input": "2023-07-24T06:37:04.064425Z",
     "iopub.status.busy": "2023-07-24T06:37:04.064110Z",
     "iopub.status.idle": "2023-07-24T06:37:04.432481Z",
     "shell.execute_reply": "2023-07-24T06:37:04.431745Z"
    },
    "papermill": {
     "duration": 0.381416,
     "end_time": "2023-07-24T06:37:04.434612",
     "exception": false,
     "start_time": "2023-07-24T06:37:04.053196",
     "status": "completed"
    },
    "tags": []
   },
   "outputs": [],
   "source": [
    "ctx.log_figure(\"per-digit-roc-curves.png\", fig)"
   ]
  },
  {
   "cell_type": "code",
   "execution_count": 17,
   "id": "7ccfdc3f",
   "metadata": {
    "execution": {
     "iopub.execute_input": "2023-07-24T06:37:04.451285Z",
     "iopub.status.busy": "2023-07-24T06:37:04.450681Z",
     "iopub.status.idle": "2023-07-24T06:37:04.458262Z",
     "shell.execute_reply": "2023-07-24T06:37:04.457589Z"
    },
    "papermill": {
     "duration": 0.018139,
     "end_time": "2023-07-24T06:37:04.460070",
     "exception": false,
     "start_time": "2023-07-24T06:37:04.441931",
     "status": "completed"
    },
    "tags": []
   },
   "outputs": [
    {
     "data": {
      "text/plain": [
       "{'0': 1.0,\n",
       " '1': 0.9991377694470478,\n",
       " '2': 1.0,\n",
       " '3': 0.9998500468603562,\n",
       " '4': 0.9991617131534827,\n",
       " '5': 0.998987816307404,\n",
       " '6': 0.999923792104862,\n",
       " '7': 0.9998475842097241,\n",
       " '8': 0.994640605296343,\n",
       " '9': 0.9987806736777931}"
      ]
     },
     "execution_count": 17,
     "metadata": {},
     "output_type": "execute_result"
    }
   ],
   "source": [
    "roc_auc_dict"
   ]
  },
  {
   "cell_type": "code",
   "execution_count": 18,
   "id": "8b5a3310",
   "metadata": {
    "execution": {
     "iopub.execute_input": "2023-07-24T06:37:04.488780Z",
     "iopub.status.busy": "2023-07-24T06:37:04.488427Z",
     "iopub.status.idle": "2023-07-24T06:37:04.495112Z",
     "shell.execute_reply": "2023-07-24T06:37:04.494526Z"
    },
    "papermill": {
     "duration": 0.016775,
     "end_time": "2023-07-24T06:37:04.496987",
     "exception": false,
     "start_time": "2023-07-24T06:37:04.480212",
     "status": "completed"
    },
    "tags": []
   },
   "outputs": [
    {
     "name": "stdout",
     "output_type": "stream",
     "text": [
      " - Logging roc_auc_per_digit (json) : {'0': 1.0, '1': 0.9991377694470478, '2': 1.0, '3': 0.9998500468603562, '4': 0.9991617131534827, '5': 0.998987816307404, '6': 0.999923792104862, '7': 0.9998475842097241, '8': 0.994640605296343, '9': 0.9987806736777931}\n"
     ]
    }
   ],
   "source": [
    "ctx.log_value(\"roc_auc_per_digit\", roc_auc_dict)"
   ]
  },
  {
   "cell_type": "markdown",
   "id": "b604a22c",
   "metadata": {
    "papermill": {
     "duration": 0.00741,
     "end_time": "2023-07-24T06:37:04.511107",
     "exception": false,
     "start_time": "2023-07-24T06:37:04.503697",
     "status": "completed"
    },
    "tags": []
   },
   "source": [
    "### Compute and log mean ROC AUC score averaged over all digits"
   ]
  },
  {
   "cell_type": "code",
   "execution_count": 19,
   "id": "e495b493",
   "metadata": {
    "execution": {
     "iopub.execute_input": "2023-07-24T06:37:04.526351Z",
     "iopub.status.busy": "2023-07-24T06:37:04.526052Z",
     "iopub.status.idle": "2023-07-24T06:37:04.541412Z",
     "shell.execute_reply": "2023-07-24T06:37:04.540780Z"
    },
    "papermill": {
     "duration": 0.025704,
     "end_time": "2023-07-24T06:37:04.543520",
     "exception": false,
     "start_time": "2023-07-24T06:37:04.517816",
     "status": "completed"
    },
    "tags": []
   },
   "outputs": [
    {
     "name": "stdout",
     "output_type": "stream",
     "text": [
      " - Logging roc_auc_class_mean (float) : 0.9990330001057013\n"
     ]
    }
   ],
   "source": [
    "roc_auc_macro = np.mean(list(roc_auc_dict.values()))\n",
    "\n",
    "ctx.log_float(\"roc_auc_class_mean\", roc_auc_macro)\n",
    "\n",
    "# assert that the same value can be computed directly using sklearn\n",
    "assert roc_auc_macro == metrics.roc_auc_score(\n",
    "    y_test, y_pred_probs_test, average=\"macro\", multi_class=\"ovr\"\n",
    ")"
   ]
  },
  {
   "cell_type": "code",
   "execution_count": 20,
   "id": "a3c38733",
   "metadata": {
    "execution": {
     "iopub.execute_input": "2023-07-24T06:37:04.560922Z",
     "iopub.status.busy": "2023-07-24T06:37:04.560603Z",
     "iopub.status.idle": "2023-07-24T06:37:04.565009Z",
     "shell.execute_reply": "2023-07-24T06:37:04.564406Z"
    },
    "lines_to_next_cell": 0,
    "papermill": {
     "duration": 0.016333,
     "end_time": "2023-07-24T06:37:04.566904",
     "exception": false,
     "start_time": "2023-07-24T06:37:04.550571",
     "status": "completed"
    },
    "tags": []
   },
   "outputs": [],
   "source": [
    "# ---"
   ]
  },
  {
   "cell_type": "code",
   "execution_count": null,
   "id": "92892596",
   "metadata": {
    "papermill": {
     "duration": 0.01626,
     "end_time": "2023-07-24T06:37:04.590090",
     "exception": false,
     "start_time": "2023-07-24T06:37:04.573830",
     "status": "completed"
    },
    "tags": []
   },
   "outputs": [],
   "source": []
  }
 ],
 "metadata": {
  "jupytext": {
   "cell_metadata_filter": "tags,-all",
   "main_language": "python",
   "notebook_metadata_filter": "-all"
  },
  "language_info": {
   "codemirror_mode": {
    "name": "ipython",
    "version": 3
   },
   "file_extension": ".py",
   "mimetype": "text/x-python",
   "name": "python",
   "nbconvert_exporter": "python",
   "pygments_lexer": "ipython3",
   "version": "3.8.10"
  },
  "papermill": {
   "default_parameters": {},
   "duration": 12.599848,
   "end_time": "2023-07-24T06:37:06.229794",
   "environment_variables": {},
   "exception": null,
   "input_path": "/tmp/temp-notebook-_nkpm0zb.ipynb",
   "output_path": "/tmp/temp-notebook-_nkpm0zb.ipynb",
   "parameters": {
    "P": {
     "_parameters_actor_name": "parameter_for_task_0xe041a4c9b4e4bde1",
     "task.nr_train_images": 600
    }
   },
   "start_time": "2023-07-24T06:36:53.629946",
   "version": "2.4.0"
  }
 },
 "nbformat": 4,
 "nbformat_minor": 5
}