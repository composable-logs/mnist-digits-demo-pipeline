{
 "cells": [
  {
   "cell_type": "markdown",
   "id": "81b39851",
   "metadata": {
    "papermill": {
     "duration": 0.012613,
     "end_time": "2023-07-29T06:32:45.254160",
     "exception": false,
     "start_time": "2023-07-29T06:32:45.241547",
     "status": "completed"
    },
    "tags": []
   },
   "source": [
    "# Benchmark model\n",
    "\n",
    "The purpose of this notebook is to benchmark persisted onnx-model (trained in the\n",
    "previous step) against evaluation set."
   ]
  },
  {
   "cell_type": "markdown",
   "id": "f4c31c3a",
   "metadata": {
    "papermill": {
     "duration": 0.007394,
     "end_time": "2023-07-29T06:32:45.305926",
     "exception": false,
     "start_time": "2023-07-29T06:32:45.298532",
     "status": "completed"
    },
    "tags": []
   },
   "source": [
    "### Determine run parameters"
   ]
  },
  {
   "cell_type": "code",
   "execution_count": 1,
   "id": "7239cc8b",
   "metadata": {
    "execution": {
     "iopub.execute_input": "2023-07-29T06:32:45.317400Z",
     "iopub.status.busy": "2023-07-29T06:32:45.317114Z",
     "iopub.status.idle": "2023-07-29T06:32:45.325028Z",
     "shell.execute_reply": "2023-07-29T06:32:45.324476Z"
    },
    "lines_to_next_cell": 0,
    "papermill": {
     "duration": 0.014882,
     "end_time": "2023-07-29T06:32:45.326730",
     "exception": false,
     "start_time": "2023-07-29T06:32:45.311848",
     "status": "completed"
    },
    "tags": []
   },
   "outputs": [],
   "source": [
    "# ----------------- Parameters for interactive development --------------\n",
    "P = {\n",
    "    \"workflow.data_lake_root\": \"/pipeline-outputs/data-lake\",\n",
    "    \"task.nr_train_images\": 600,\n",
    "}"
   ]
  },
  {
   "cell_type": "code",
   "execution_count": 2,
   "id": "3f3f2fd6",
   "metadata": {
    "execution": {
     "iopub.execute_input": "2023-07-29T06:32:45.335556Z",
     "iopub.status.busy": "2023-07-29T06:32:45.335327Z",
     "iopub.status.idle": "2023-07-29T06:32:45.339341Z",
     "shell.execute_reply": "2023-07-29T06:32:45.338802Z"
    },
    "lines_to_next_cell": 0,
    "papermill": {
     "duration": 0.010451,
     "end_time": "2023-07-29T06:32:45.341050",
     "exception": false,
     "start_time": "2023-07-29T06:32:45.330599",
     "status": "completed"
    },
    "tags": [
     "parameters"
    ]
   },
   "outputs": [],
   "source": [
    "# - During automated runs parameters will be injected in the below cell -"
   ]
  },
  {
   "cell_type": "code",
   "execution_count": 3,
   "id": "38ea8e32",
   "metadata": {
    "execution": {
     "iopub.execute_input": "2023-07-29T06:32:45.349767Z",
     "iopub.status.busy": "2023-07-29T06:32:45.349553Z",
     "iopub.status.idle": "2023-07-29T06:32:45.353641Z",
     "shell.execute_reply": "2023-07-29T06:32:45.353075Z"
    },
    "papermill": {
     "duration": 0.010507,
     "end_time": "2023-07-29T06:32:45.355355",
     "exception": false,
     "start_time": "2023-07-29T06:32:45.344848",
     "status": "completed"
    },
    "tags": [
     "injected-parameters"
    ]
   },
   "outputs": [],
   "source": [
    "# Parameters\n",
    "P = {\n",
    "    \"task.nr_train_images\": 600,\n",
    "    \"_parameters_actor_name\": \"parameter_for_task_0xe8c65d44a2a9bb3b\",\n",
    "}\n"
   ]
  },
  {
   "cell_type": "code",
   "execution_count": 4,
   "id": "33b75df9",
   "metadata": {
    "execution": {
     "iopub.execute_input": "2023-07-29T06:32:45.364241Z",
     "iopub.status.busy": "2023-07-29T06:32:45.364023Z",
     "iopub.status.idle": "2023-07-29T06:32:45.367852Z",
     "shell.execute_reply": "2023-07-29T06:32:45.367331Z"
    },
    "lines_to_next_cell": 0,
    "papermill": {
     "duration": 0.010524,
     "end_time": "2023-07-29T06:32:45.369809",
     "exception": false,
     "start_time": "2023-07-29T06:32:45.359285",
     "status": "completed"
    },
    "tags": []
   },
   "outputs": [],
   "source": [
    "# -----------------------------------------------------------------------"
   ]
  },
  {
   "cell_type": "markdown",
   "id": "7f774d7f",
   "metadata": {
    "papermill": {
     "duration": 0.00385,
     "end_time": "2023-07-29T06:32:45.377533",
     "exception": false,
     "start_time": "2023-07-29T06:32:45.373683",
     "status": "completed"
    },
    "tags": []
   },
   "source": [
    "---"
   ]
  },
  {
   "cell_type": "markdown",
   "id": "571a6189",
   "metadata": {
    "lines_to_next_cell": 2,
    "papermill": {
     "duration": 0.003747,
     "end_time": "2023-07-29T06:32:45.385088",
     "exception": false,
     "start_time": "2023-07-29T06:32:45.381341",
     "status": "completed"
    },
    "tags": []
   },
   "source": [
    "### Notebook code"
   ]
  },
  {
   "cell_type": "code",
   "execution_count": 5,
   "id": "0ffdba66",
   "metadata": {
    "execution": {
     "iopub.execute_input": "2023-07-29T06:32:45.394179Z",
     "iopub.status.busy": "2023-07-29T06:32:45.393931Z",
     "iopub.status.idle": "2023-07-29T06:32:46.345462Z",
     "shell.execute_reply": "2023-07-29T06:32:46.344665Z"
    },
    "papermill": {
     "duration": 0.958792,
     "end_time": "2023-07-29T06:32:46.347766",
     "exception": false,
     "start_time": "2023-07-29T06:32:45.388974",
     "status": "completed"
    },
    "tags": []
   },
   "outputs": [
    {
     "name": "stderr",
     "output_type": "stream",
     "text": [
      "2023-07-29 06:32:46,255\tINFO worker.py:1364 -- Connecting to existing Ray cluster at address: 172.17.0.2:60386...\n"
     ]
    },
    {
     "name": "stderr",
     "output_type": "stream",
     "text": [
      "2023-07-29 06:32:46,265\tINFO worker.py:1544 -- Connected to Ray cluster. View the dashboard at \u001b[1m\u001b[32mhttp://127.0.0.1:8265 \u001b[39m\u001b[22m\n"
     ]
    },
    {
     "name": "stderr",
     "output_type": "stream",
     "text": [
      "/home/host_user/.local/lib/python3.8/site-packages/ray/runtime_context.py:27: RayDeprecationWarning: This API is deprecated and may be removed in future Ray releases. You could suppress this warning by setting env variable PYTHONWARNINGS=\"ignore::DeprecationWarning\"\n",
      "Use get_job_id() instead\n",
      "  \"job_id\": self.job_id,\n",
      "/home/host_user/.local/lib/python3.8/site-packages/ray/runtime_context.py:28: RayDeprecationWarning: This API is deprecated and may be removed in future Ray releases. You could suppress this warning by setting env variable PYTHONWARNINGS=\"ignore::DeprecationWarning\"\n",
      "Use get_node_id() instead\n",
      "  \"node_id\": self.node_id,\n"
     ]
    }
   ],
   "source": [
    "import itertools as it\n",
    "\n",
    "#\n",
    "import numpy as np\n",
    "import matplotlib.pyplot as plt\n",
    "\n",
    "#\n",
    "from composable_logs.tasks.task_opentelemetry_logging import get_task_context\n",
    "\n",
    "#\n",
    "from common.io import datalake_root\n",
    "\n",
    "ctx = get_task_context(P)"
   ]
  },
  {
   "cell_type": "markdown",
   "id": "eb826ef9",
   "metadata": {
    "papermill": {
     "duration": 0.00402,
     "end_time": "2023-07-29T06:32:46.356515",
     "exception": false,
     "start_time": "2023-07-29T06:32:46.352495",
     "status": "completed"
    },
    "tags": []
   },
   "source": [
    "## Load persisted onnx-model and evaluation data"
   ]
  },
  {
   "cell_type": "code",
   "execution_count": 6,
   "id": "975bf051",
   "metadata": {
    "execution": {
     "iopub.execute_input": "2023-07-29T06:32:46.370532Z",
     "iopub.status.busy": "2023-07-29T06:32:46.366991Z",
     "iopub.status.idle": "2023-07-29T06:32:46.378155Z",
     "shell.execute_reply": "2023-07-29T06:32:46.376322Z"
    },
    "papermill": {
     "duration": 0.019132,
     "end_time": "2023-07-29T06:32:46.379730",
     "exception": false,
     "start_time": "2023-07-29T06:32:46.360598",
     "status": "completed"
    },
    "tags": []
   },
   "outputs": [],
   "source": [
    "from common.io import read_onnx, get_onnx_inputs, get_onnx_outputs, read_numpy"
   ]
  },
  {
   "cell_type": "code",
   "execution_count": 7,
   "id": "fea773ef",
   "metadata": {
    "execution": {
     "iopub.execute_input": "2023-07-29T06:32:46.391545Z",
     "iopub.status.busy": "2023-07-29T06:32:46.391308Z",
     "iopub.status.idle": "2023-07-29T06:32:46.399827Z",
     "shell.execute_reply": "2023-07-29T06:32:46.399266Z"
    },
    "lines_to_next_cell": 0,
    "papermill": {
     "duration": 0.017493,
     "end_time": "2023-07-29T06:32:46.401561",
     "exception": false,
     "start_time": "2023-07-29T06:32:46.384068",
     "status": "completed"
    },
    "tags": []
   },
   "outputs": [],
   "source": [
    "onnx_inference_session = read_onnx(\n",
    "    datalake_root(ctx)\n",
    "    / \"models\"\n",
    "    / f\"nr_train_images={ctx.parameters['task.nr_train_images']}\"\n",
    "    / \"model.onnx\"\n",
    ")"
   ]
  },
  {
   "cell_type": "markdown",
   "id": "feb6a446",
   "metadata": {
    "papermill": {
     "duration": 0.004111,
     "end_time": "2023-07-29T06:32:46.409878",
     "exception": false,
     "start_time": "2023-07-29T06:32:46.405767",
     "status": "completed"
    },
    "tags": []
   },
   "source": [
    "### Record structure of inputs and outputs for ONNX model\n",
    "\n",
    "(this should likely be done in training notebook)"
   ]
  },
  {
   "cell_type": "code",
   "execution_count": 8,
   "id": "daf34bcf",
   "metadata": {
    "execution": {
     "iopub.execute_input": "2023-07-29T06:32:46.419705Z",
     "iopub.status.busy": "2023-07-29T06:32:46.419439Z",
     "iopub.status.idle": "2023-07-29T06:32:46.435320Z",
     "shell.execute_reply": "2023-07-29T06:32:46.434569Z"
    },
    "papermill": {
     "duration": 0.023348,
     "end_time": "2023-07-29T06:32:46.437533",
     "exception": false,
     "start_time": "2023-07-29T06:32:46.414185",
     "status": "completed"
    },
    "tags": []
   },
   "outputs": [
    {
     "name": "stdout",
     "output_type": "stream",
     "text": [
      "{\n",
      "  \"inputs\": [\n",
      "    {\n",
      "      \"name\": \"float_input_8x8_image\",\n",
      "      \"shape\": [\n",
      "        null,\n",
      "        64\n",
      "      ],\n",
      "      \"type\": \"tensor(float)\"\n",
      "    }\n",
      "  ],\n",
      "  \"outputs\": [\n",
      "    {\n",
      "      \"name\": \"output_label\",\n",
      "      \"shape\": [\n",
      "        null\n",
      "      ],\n",
      "      \"type\": \"tensor(int64)\"\n",
      "    },\n",
      "    {\n",
      "      \"name\": \"output_probability\",\n",
      "      \"shape\": [],\n",
      "      \"type\": \"seq(map(int64,tensor(float)))\"\n",
      "    }\n",
      "  ]\n",
      "}\n"
     ]
    }
   ],
   "source": [
    "import json\n",
    "\n",
    "onnx_io = json.dumps(\n",
    "    {\n",
    "        \"inputs\": get_onnx_inputs(onnx_inference_session),\n",
    "        \"outputs\": get_onnx_outputs(onnx_inference_session),\n",
    "    },\n",
    "    indent=2,\n",
    ")\n",
    "\n",
    "\n",
    "ctx.log_artefact(\"onnx_io_structure.json\", onnx_io)\n",
    "print(onnx_io)"
   ]
  },
  {
   "cell_type": "markdown",
   "id": "00c90852",
   "metadata": {
    "papermill": {
     "duration": 0.004282,
     "end_time": "2023-07-29T06:32:46.446227",
     "exception": false,
     "start_time": "2023-07-29T06:32:46.441945",
     "status": "completed"
    },
    "tags": []
   },
   "source": [
    "### Evaluate model performance on evaluation data set"
   ]
  },
  {
   "cell_type": "code",
   "execution_count": 9,
   "id": "167b1fc9",
   "metadata": {
    "execution": {
     "iopub.execute_input": "2023-07-29T06:32:46.456392Z",
     "iopub.status.busy": "2023-07-29T06:32:46.456110Z",
     "iopub.status.idle": "2023-07-29T06:32:46.462185Z",
     "shell.execute_reply": "2023-07-29T06:32:46.461609Z"
    },
    "papermill": {
     "duration": 0.013482,
     "end_time": "2023-07-29T06:32:46.464078",
     "exception": false,
     "start_time": "2023-07-29T06:32:46.450596",
     "status": "completed"
    },
    "tags": []
   },
   "outputs": [],
   "source": [
    "# load evaluation data\n",
    "X_test = read_numpy(datalake_root(ctx) / \"test-data\" / \"digits.numpy\")\n",
    "y_test = read_numpy(datalake_root(ctx) / \"test-data\" / \"labels.numpy\")"
   ]
  },
  {
   "cell_type": "code",
   "execution_count": 10,
   "id": "6e4eaba8",
   "metadata": {
    "execution": {
     "iopub.execute_input": "2023-07-29T06:32:46.474755Z",
     "iopub.status.busy": "2023-07-29T06:32:46.474446Z",
     "iopub.status.idle": "2023-07-29T06:32:46.487249Z",
     "shell.execute_reply": "2023-07-29T06:32:46.486675Z"
    },
    "papermill": {
     "duration": 0.020121,
     "end_time": "2023-07-29T06:32:46.488990",
     "exception": false,
     "start_time": "2023-07-29T06:32:46.468869",
     "status": "completed"
    },
    "tags": []
   },
   "outputs": [],
   "source": [
    "def get_model_outputs(X, onnx_inference_session):\n",
    "    y_pred_labels, y_pred_map = onnx_inference_session.run(\n",
    "        [\"output_label\", \"output_probability\"],\n",
    "        {\"float_input_8x8_image\": X.astype(np.float32)},\n",
    "    )\n",
    "    y_pred_probs = np.array(\n",
    "        [[probabilities[digit] for digit in range(10)] for probabilities in y_pred_map]\n",
    "    )\n",
    "\n",
    "    assert y_pred_labels.shape == (X.shape[0],)\n",
    "    assert y_pred_probs.shape == (X.shape[0], 10)\n",
    "\n",
    "    return y_pred_labels, y_pred_probs\n",
    "\n",
    "\n",
    "# Note: as shown in the training notebook, the predicted labels and probabilities\n",
    "# computed below need not be compatible.\n",
    "y_pred_labels_test, y_pred_probs_test = get_model_outputs(\n",
    "    X_test, onnx_inference_session\n",
    ")"
   ]
  },
  {
   "cell_type": "markdown",
   "id": "c91f355b",
   "metadata": {
    "papermill": {
     "duration": 0.004297,
     "end_time": "2023-07-29T06:32:46.497790",
     "exception": false,
     "start_time": "2023-07-29T06:32:46.493493",
     "status": "completed"
    },
    "tags": []
   },
   "source": [
    "### Confusion matrix"
   ]
  },
  {
   "cell_type": "code",
   "execution_count": 11,
   "id": "2f374752",
   "metadata": {
    "execution": {
     "iopub.execute_input": "2023-07-29T06:32:46.507955Z",
     "iopub.status.busy": "2023-07-29T06:32:46.507721Z",
     "iopub.status.idle": "2023-07-29T06:32:46.511637Z",
     "shell.execute_reply": "2023-07-29T06:32:46.511103Z"
    },
    "papermill": {
     "duration": 0.010923,
     "end_time": "2023-07-29T06:32:46.513326",
     "exception": false,
     "start_time": "2023-07-29T06:32:46.502403",
     "status": "completed"
    },
    "tags": []
   },
   "outputs": [],
   "source": [
    "# TODO"
   ]
  },
  {
   "cell_type": "markdown",
   "id": "0f61c62e",
   "metadata": {
    "papermill": {
     "duration": 0.004278,
     "end_time": "2023-07-29T06:32:46.522160",
     "exception": false,
     "start_time": "2023-07-29T06:32:46.517882",
     "status": "completed"
    },
    "tags": []
   },
   "source": [
    "### Plot predicted probabilities for each classifier over all evaluation digit images"
   ]
  },
  {
   "cell_type": "code",
   "execution_count": 12,
   "id": "3a94148a",
   "metadata": {
    "execution": {
     "iopub.execute_input": "2023-07-29T06:32:46.537600Z",
     "iopub.status.busy": "2023-07-29T06:32:46.531987Z",
     "iopub.status.idle": "2023-07-29T06:32:50.394031Z",
     "shell.execute_reply": "2023-07-29T06:32:50.393413Z"
    },
    "papermill": {
     "duration": 3.869159,
     "end_time": "2023-07-29T06:32:50.395822",
     "exception": false,
     "start_time": "2023-07-29T06:32:46.526663",
     "status": "completed"
    },
    "tags": []
   },
   "outputs": [
    {
     "data": {
      "image/png": "[encoded data removed]",
      "text/plain": [
       "<Figure size 1600x600 with 10 Axes>"
      ]
     },
     "metadata": {},
     "output_type": "display_data"
    }
   ],
   "source": [
    "def plot_per_digit_probabilities(y_pred_probs):\n",
    "    fig, axs = plt.subplots(nrows=2, ncols=5, figsize=(16, 6))\n",
    "\n",
    "    for (r, c), digit, ax in zip(\n",
    "        it.product(range(2), range(5)), range(10), axs.reshape(-1)\n",
    "    ):\n",
    "        ax.hist(y_pred_probs_test[:, digit], bins=20)\n",
    "\n",
    "        ax.set_title(f\"Digit {digit}\")\n",
    "        if r == 1 and c == 2:\n",
    "            ax.set_xlabel(\"probability\", fontsize=16)\n",
    "\n",
    "        if c == 0:\n",
    "            ax.set_ylabel(\"counts\", fontsize=16)\n",
    "        ax.set_yscale(\"log\")\n",
    "\n",
    "    fig.tight_layout()\n",
    "    fig.suptitle(\n",
    "        f\"Distributions of prediction probabilities for each digit \"\n",
    "        f\"(on evaluation data, n={y_pred_probs.shape[0]})\",\n",
    "        fontsize=20,\n",
    "    )\n",
    "    fig.tight_layout()\n",
    "    fig.show()\n",
    "\n",
    "    return fig\n",
    "\n",
    "\n",
    "fig = plot_per_digit_probabilities(y_pred_probs_test)"
   ]
  },
  {
   "cell_type": "markdown",
   "id": "e255c6b6",
   "metadata": {
    "papermill": {
     "duration": 0.005102,
     "end_time": "2023-07-29T06:32:50.406442",
     "exception": false,
     "start_time": "2023-07-29T06:32:50.401340",
     "status": "completed"
    },
    "tags": []
   },
   "source": [
    "From the above distributions we see that most digits have clear separation between\n",
    "high and lower probabilities. Morover, in each case there is roughly an order of\n",
    "magnitude more of digits with low probabilities. This is compatible with digits\n",
    "being roughly evenly distributed in the data."
   ]
  },
  {
   "cell_type": "code",
   "execution_count": 13,
   "id": "bdcaa61e",
   "metadata": {
    "execution": {
     "iopub.execute_input": "2023-07-29T06:32:50.418024Z",
     "iopub.status.busy": "2023-07-29T06:32:50.417759Z",
     "iopub.status.idle": "2023-07-29T06:32:50.996571Z",
     "shell.execute_reply": "2023-07-29T06:32:50.995899Z"
    },
    "papermill": {
     "duration": 0.587734,
     "end_time": "2023-07-29T06:32:50.999310",
     "exception": false,
     "start_time": "2023-07-29T06:32:50.411576",
     "status": "completed"
    },
    "tags": []
   },
   "outputs": [],
   "source": [
    "ctx.log_figure(\"per-digit-probabilities.png\", fig)"
   ]
  },
  {
   "cell_type": "markdown",
   "id": "1e367a0f",
   "metadata": {
    "papermill": {
     "duration": 0.005276,
     "end_time": "2023-07-29T06:32:51.012003",
     "exception": false,
     "start_time": "2023-07-29T06:32:51.006727",
     "status": "completed"
    },
    "tags": []
   },
   "source": [
    "### Plot ROC curves for individual one-vs-rest classifiers"
   ]
  },
  {
   "cell_type": "code",
   "execution_count": 14,
   "id": "1198feae",
   "metadata": {
    "execution": {
     "iopub.execute_input": "2023-07-29T06:32:51.023786Z",
     "iopub.status.busy": "2023-07-29T06:32:51.023340Z",
     "iopub.status.idle": "2023-07-29T06:32:51.345705Z",
     "shell.execute_reply": "2023-07-29T06:32:51.342609Z"
    },
    "papermill": {
     "duration": 0.330579,
     "end_time": "2023-07-29T06:32:51.347955",
     "exception": false,
     "start_time": "2023-07-29T06:32:51.017376",
     "status": "completed"
    },
    "tags": []
   },
   "outputs": [],
   "source": [
    "from sklearn import metrics"
   ]
  },
  {
   "cell_type": "code",
   "execution_count": 15,
   "id": "60460ac7",
   "metadata": {
    "execution": {
     "iopub.execute_input": "2023-07-29T06:32:51.360676Z",
     "iopub.status.busy": "2023-07-29T06:32:51.360411Z",
     "iopub.status.idle": "2023-07-29T06:32:53.310184Z",
     "shell.execute_reply": "2023-07-29T06:32:53.309496Z"
    },
    "papermill": {
     "duration": 1.964888,
     "end_time": "2023-07-29T06:32:53.318636",
     "exception": false,
     "start_time": "2023-07-29T06:32:51.353748",
     "status": "completed"
    },
    "tags": []
   },
   "outputs": [
    {
     "data": {
      "image/png": "[encoded data removed]",
      "text/plain": [
       "<Figure size 1600x800 with 10 Axes>"
      ]
     },
     "metadata": {},
     "output_type": "display_data"
    }
   ],
   "source": [
    "def plot_roc_curves(y, y_pred_probs):\n",
    "    # based on example code\n",
    "    # https://scikit-learn.org/stable/auto_examples/model_selection/plot_roc.html\n",
    "\n",
    "    fig, axs = plt.subplots(nrows=2, ncols=5, figsize=(16, 8))\n",
    "\n",
    "    roc_auc_dict = {}\n",
    "\n",
    "    for (r, c), digit, ax in zip(\n",
    "        it.product(range(2), range(5)), range(10), axs.reshape(-1)\n",
    "    ):\n",
    "        fpr, tpr, _ = metrics.roc_curve(y == digit, y_pred_probs[:, digit])\n",
    "        auc = metrics.auc(fpr, tpr)\n",
    "        roc_auc_dict[str(digit)] = auc\n",
    "\n",
    "        ax.plot(fpr, tpr, label=f\"ROC AUC={round(auc, 3)}\")\n",
    "\n",
    "        ax.set_title(f\"\\nDigit {digit}\", fontsize=16)\n",
    "        if r == 1:\n",
    "            ax.set_xlabel(\"FPR\", fontsize=18)\n",
    "\n",
    "        if c == 0:\n",
    "            ax.set_ylabel(\"TPR\", fontsize=18)\n",
    "\n",
    "        ax.set_xlim([-0.05, 1.05])\n",
    "        ax.set_ylim([-0.05, 1.05])\n",
    "        ax.legend(loc=\"lower right\", frameon=False, fontsize=14)\n",
    "\n",
    "    fig.tight_layout()\n",
    "    fig.suptitle(\n",
    "        f\"ROC plots for one-vs-rest performances \"\n",
    "        f\"(on evaluation data, n={y_pred_probs_test.shape[1]}\",\n",
    "        fontsize=22,\n",
    "    )\n",
    "    fig.tight_layout()\n",
    "    fig.show()\n",
    "\n",
    "    return roc_auc_dict, fig\n",
    "\n",
    "\n",
    "roc_auc_dict, fig = plot_roc_curves(y_test, y_pred_probs_test)"
   ]
  },
  {
   "cell_type": "code",
   "execution_count": 16,
   "id": "37e4036d",
   "metadata": {
    "execution": {
     "iopub.execute_input": "2023-07-29T06:32:53.338180Z",
     "iopub.status.busy": "2023-07-29T06:32:53.334953Z",
     "iopub.status.idle": "2023-07-29T06:32:53.787647Z",
     "shell.execute_reply": "2023-07-29T06:32:53.786998Z"
    },
    "papermill": {
     "duration": 0.463681,
     "end_time": "2023-07-29T06:32:53.790282",
     "exception": false,
     "start_time": "2023-07-29T06:32:53.326601",
     "status": "completed"
    },
    "tags": []
   },
   "outputs": [],
   "source": [
    "ctx.log_figure(\"per-digit-roc-curves.png\", fig)"
   ]
  },
  {
   "cell_type": "code",
   "execution_count": 17,
   "id": "acf6f1f3",
   "metadata": {
    "execution": {
     "iopub.execute_input": "2023-07-29T06:32:53.804739Z",
     "iopub.status.busy": "2023-07-29T06:32:53.804420Z",
     "iopub.status.idle": "2023-07-29T06:32:53.811164Z",
     "shell.execute_reply": "2023-07-29T06:32:53.810481Z"
    },
    "papermill": {
     "duration": 0.015798,
     "end_time": "2023-07-29T06:32:53.812692",
     "exception": false,
     "start_time": "2023-07-29T06:32:53.796894",
     "status": "completed"
    },
    "tags": []
   },
   "outputs": [
    {
     "data": {
      "text/plain": [
       "{'0': 1.0,\n",
       " '1': 0.9992877225866916,\n",
       " '2': 1.0,\n",
       " '3': 0.9998125585754452,\n",
       " '4': 0.9991236092059138,\n",
       " '5': 0.998912839737582,\n",
       " '6': 0.999923792104862,\n",
       " '7': 0.9998475842097241,\n",
       " '8': 0.9947588272383354,\n",
       " '9': 0.998780673677793}"
      ]
     },
     "execution_count": 17,
     "metadata": {},
     "output_type": "execute_result"
    }
   ],
   "source": [
    "roc_auc_dict"
   ]
  },
  {
   "cell_type": "code",
   "execution_count": 18,
   "id": "7a7dfe24",
   "metadata": {
    "execution": {
     "iopub.execute_input": "2023-07-29T06:32:53.827104Z",
     "iopub.status.busy": "2023-07-29T06:32:53.826827Z",
     "iopub.status.idle": "2023-07-29T06:32:53.832440Z",
     "shell.execute_reply": "2023-07-29T06:32:53.831891Z"
    },
    "papermill": {
     "duration": 0.014588,
     "end_time": "2023-07-29T06:32:53.834140",
     "exception": false,
     "start_time": "2023-07-29T06:32:53.819552",
     "status": "completed"
    },
    "tags": []
   },
   "outputs": [
    {
     "name": "stdout",
     "output_type": "stream",
     "text": [
      " - Logging roc_auc_per_digit (json) : {'0': 1.0, '1': 0.9992877225866916, '2': 1.0, '3': 0.9998125585754452, '4': 0.9991236092059138, '5': 0.998912839737582, '6': 0.999923792104862, '7': 0.9998475842097241, '8': 0.9947588272383354, '9': 0.998780673677793}\n"
     ]
    }
   ],
   "source": [
    "ctx.log_value(\"roc_auc_per_digit\", roc_auc_dict)"
   ]
  },
  {
   "cell_type": "markdown",
   "id": "491aaf52",
   "metadata": {
    "papermill": {
     "duration": 0.006372,
     "end_time": "2023-07-29T06:32:53.846831",
     "exception": false,
     "start_time": "2023-07-29T06:32:53.840459",
     "status": "completed"
    },
    "tags": []
   },
   "source": [
    "### Compute and log mean ROC AUC score averaged over all digits"
   ]
  },
  {
   "cell_type": "code",
   "execution_count": 19,
   "id": "b759c8de",
   "metadata": {
    "execution": {
     "iopub.execute_input": "2023-07-29T06:32:53.860747Z",
     "iopub.status.busy": "2023-07-29T06:32:53.860510Z",
     "iopub.status.idle": "2023-07-29T06:32:53.873307Z",
     "shell.execute_reply": "2023-07-29T06:32:53.872769Z"
    },
    "papermill": {
     "duration": 0.021833,
     "end_time": "2023-07-29T06:32:53.875044",
     "exception": false,
     "start_time": "2023-07-29T06:32:53.853211",
     "status": "completed"
    },
    "tags": []
   },
   "outputs": [
    {
     "name": "stdout",
     "output_type": "stream",
     "text": [
      " - Logging roc_auc_class_mean (float) : 0.9990447607336346\n"
     ]
    }
   ],
   "source": [
    "roc_auc_macro = np.mean(list(roc_auc_dict.values()))\n",
    "\n",
    "ctx.log_float(\"roc_auc_class_mean\", roc_auc_macro)\n",
    "\n",
    "# assert that the same value can be computed directly using sklearn\n",
    "assert roc_auc_macro == metrics.roc_auc_score(\n",
    "    y_test, y_pred_probs_test, average=\"macro\", multi_class=\"ovr\"\n",
    ")"
   ]
  },
  {
   "cell_type": "code",
   "execution_count": 20,
   "id": "5781afce",
   "metadata": {
    "execution": {
     "iopub.execute_input": "2023-07-29T06:32:53.905229Z",
     "iopub.status.busy": "2023-07-29T06:32:53.904979Z",
     "iopub.status.idle": "2023-07-29T06:32:53.924086Z",
     "shell.execute_reply": "2023-07-29T06:32:53.922189Z"
    },
    "lines_to_next_cell": 0,
    "papermill": {
     "duration": 0.040768,
     "end_time": "2023-07-29T06:32:53.926198",
     "exception": false,
     "start_time": "2023-07-29T06:32:53.885430",
     "status": "completed"
    },
    "tags": []
   },
   "outputs": [],
   "source": [
    "# ---"
   ]
  },
  {
   "cell_type": "code",
   "execution_count": null,
   "id": "0a34d042",
   "metadata": {
    "papermill": {
     "duration": 0.006632,
     "end_time": "2023-07-29T06:32:53.939620",
     "exception": false,
     "start_time": "2023-07-29T06:32:53.932988",
     "status": "completed"
    },
    "tags": []
   },
   "outputs": [],
   "source": []
  }
 ],
 "metadata": {
  "jupytext": {
   "cell_metadata_filter": "tags,-all",
   "main_language": "python",
   "notebook_metadata_filter": "-all"
  },
  "language_info": {
   "codemirror_mode": {
    "name": "ipython",
    "version": 3
   },
   "file_extension": ".py",
   "mimetype": "text/x-python",
   "name": "python",
   "nbconvert_exporter": "python",
   "pygments_lexer": "ipython3",
   "version": "3.8.10"
  },
  "papermill": {
   "default_parameters": {},
   "duration": 12.191504,
   "end_time": "2023-07-29T06:32:55.995149",
   "environment_variables": {},
   "exception": null,
   "input_path": "/tmp/temp-notebook-a3c4gqon.ipynb",
   "output_path": "/tmp/temp-notebook-a3c4gqon.ipynb",
   "parameters": {
    "P": {
     "_parameters_actor_name": "parameter_for_task_0xe8c65d44a2a9bb3b",
     "task.nr_train_images": 600
    }
   },
   "start_time": "2023-07-29T06:32:43.803645",
   "version": "2.4.0"
  }
 },
 "nbformat": 4,
 "nbformat_minor": 5
}