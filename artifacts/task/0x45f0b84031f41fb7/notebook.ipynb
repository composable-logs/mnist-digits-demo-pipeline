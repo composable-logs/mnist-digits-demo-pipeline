{
 "cells": [
  {
   "cell_type": "markdown",
   "id": "9bb27fb9",
   "metadata": {
    "papermill": {
     "duration": 0.004882,
     "end_time": "2023-07-24T06:37:19.228169",
     "exception": false,
     "start_time": "2023-07-24T06:37:19.223287",
     "status": "completed"
    },
    "tags": []
   },
   "source": [
    "# Summarize model performances\n",
    "\n",
    "This notebooks plots the performances (using averaged ROC AUC scores) for models\n",
    "trained with different training sets."
   ]
  },
  {
   "cell_type": "markdown",
   "id": "b22db4af",
   "metadata": {
    "papermill": {
     "duration": 0.002841,
     "end_time": "2023-07-24T06:37:19.234595",
     "exception": false,
     "start_time": "2023-07-24T06:37:19.231754",
     "status": "completed"
    },
    "tags": []
   },
   "source": [
    "### Determine run parameters"
   ]
  },
  {
   "cell_type": "code",
   "execution_count": 1,
   "id": "8023d89a",
   "metadata": {
    "execution": {
     "iopub.execute_input": "2023-07-24T06:37:19.243390Z",
     "iopub.status.busy": "2023-07-24T06:37:19.242862Z",
     "iopub.status.idle": "2023-07-24T06:37:19.250839Z",
     "shell.execute_reply": "2023-07-24T06:37:19.250206Z"
    },
    "lines_to_next_cell": 0,
    "papermill": {
     "duration": 0.015322,
     "end_time": "2023-07-24T06:37:19.252467",
     "exception": false,
     "start_time": "2023-07-24T06:37:19.237145",
     "status": "completed"
    },
    "tags": []
   },
   "outputs": [],
   "source": [
    "# ----------------- Parameters for interactive development --------------\n",
    "P = {\n",
    "    \"workflow.run_environment\": \"dev\",\n",
    "}"
   ]
  },
  {
   "cell_type": "code",
   "execution_count": 2,
   "id": "d3b59d61",
   "metadata": {
    "execution": {
     "iopub.execute_input": "2023-07-24T06:37:19.260934Z",
     "iopub.status.busy": "2023-07-24T06:37:19.260341Z",
     "iopub.status.idle": "2023-07-24T06:37:19.263627Z",
     "shell.execute_reply": "2023-07-24T06:37:19.263070Z"
    },
    "lines_to_next_cell": 0,
    "papermill": {
     "duration": 0.008422,
     "end_time": "2023-07-24T06:37:19.265174",
     "exception": false,
     "start_time": "2023-07-24T06:37:19.256752",
     "status": "completed"
    },
    "tags": [
     "parameters"
    ]
   },
   "outputs": [],
   "source": [
    "# - During automated runs parameters will be injected in the below cell -"
   ]
  },
  {
   "cell_type": "code",
   "execution_count": 3,
   "id": "e89555d1",
   "metadata": {
    "execution": {
     "iopub.execute_input": "2023-07-24T06:37:19.271867Z",
     "iopub.status.busy": "2023-07-24T06:37:19.271314Z",
     "iopub.status.idle": "2023-07-24T06:37:19.274701Z",
     "shell.execute_reply": "2023-07-24T06:37:19.274075Z"
    },
    "papermill": {
     "duration": 0.008483,
     "end_time": "2023-07-24T06:37:19.276259",
     "exception": false,
     "start_time": "2023-07-24T06:37:19.267776",
     "status": "completed"
    },
    "tags": [
     "injected-parameters"
    ]
   },
   "outputs": [],
   "source": [
    "# Parameters\n",
    "P = {\"_parameters_actor_name\": \"parameter_for_task_0x45f0b84031f41fb7\"}\n"
   ]
  },
  {
   "cell_type": "code",
   "execution_count": 4,
   "id": "2440c584",
   "metadata": {
    "execution": {
     "iopub.execute_input": "2023-07-24T06:37:19.283455Z",
     "iopub.status.busy": "2023-07-24T06:37:19.282767Z",
     "iopub.status.idle": "2023-07-24T06:37:19.286008Z",
     "shell.execute_reply": "2023-07-24T06:37:19.285345Z"
    },
    "lines_to_next_cell": 0,
    "papermill": {
     "duration": 0.008608,
     "end_time": "2023-07-24T06:37:19.287633",
     "exception": false,
     "start_time": "2023-07-24T06:37:19.279025",
     "status": "completed"
    },
    "tags": []
   },
   "outputs": [],
   "source": [
    "# -----------------------------------------------------------------------"
   ]
  },
  {
   "cell_type": "markdown",
   "id": "41d7834d",
   "metadata": {
    "papermill": {
     "duration": 0.002604,
     "end_time": "2023-07-24T06:37:19.292941",
     "exception": false,
     "start_time": "2023-07-24T06:37:19.290337",
     "status": "completed"
    },
    "tags": []
   },
   "source": [
    "---"
   ]
  },
  {
   "cell_type": "markdown",
   "id": "88d05a2d",
   "metadata": {
    "lines_to_next_cell": 2,
    "papermill": {
     "duration": 0.002607,
     "end_time": "2023-07-24T06:37:19.298363",
     "exception": false,
     "start_time": "2023-07-24T06:37:19.295756",
     "status": "completed"
    },
    "tags": []
   },
   "source": [
    "### Notebook code"
   ]
  },
  {
   "cell_type": "code",
   "execution_count": 5,
   "id": "54402893",
   "metadata": {
    "execution": {
     "iopub.execute_input": "2023-07-24T06:37:19.306486Z",
     "iopub.status.busy": "2023-07-24T06:37:19.305827Z",
     "iopub.status.idle": "2023-07-24T06:37:20.361718Z",
     "shell.execute_reply": "2023-07-24T06:37:20.360940Z"
    },
    "papermill": {
     "duration": 1.062043,
     "end_time": "2023-07-24T06:37:20.363995",
     "exception": false,
     "start_time": "2023-07-24T06:37:19.301952",
     "status": "completed"
    },
    "tags": []
   },
   "outputs": [],
   "source": [
    "#\n",
    "import pandas as pd\n",
    "import matplotlib.pyplot as plt\n",
    "\n",
    "#\n",
    "from composable_logs.tasks.task_opentelemetry_logging import get_task_context"
   ]
  },
  {
   "cell_type": "code",
   "execution_count": 6,
   "id": "74c82fe2",
   "metadata": {
    "execution": {
     "iopub.execute_input": "2023-07-24T06:37:20.372880Z",
     "iopub.status.busy": "2023-07-24T06:37:20.372324Z",
     "iopub.status.idle": "2023-07-24T06:37:20.451971Z",
     "shell.execute_reply": "2023-07-24T06:37:20.451213Z"
    },
    "papermill": {
     "duration": 0.086991,
     "end_time": "2023-07-24T06:37:20.453974",
     "exception": false,
     "start_time": "2023-07-24T06:37:20.366983",
     "status": "completed"
    },
    "tags": []
   },
   "outputs": [
    {
     "name": "stderr",
     "output_type": "stream",
     "text": [
      "2023-07-24 06:37:20,376\tINFO worker.py:1364 -- Connecting to existing Ray cluster at address: 172.17.0.2:55561...\n"
     ]
    },
    {
     "name": "stderr",
     "output_type": "stream",
     "text": [
      "2023-07-24 06:37:20,384\tINFO worker.py:1544 -- Connected to Ray cluster. View the dashboard at \u001b[1m\u001b[32mhttp://127.0.0.1:8265 \u001b[39m\u001b[22m\n"
     ]
    },
    {
     "name": "stderr",
     "output_type": "stream",
     "text": [
      "/home/host_user/.local/lib/python3.8/site-packages/ray/runtime_context.py:27: RayDeprecationWarning: This API is deprecated and may be removed in future Ray releases. You could suppress this warning by setting env variable PYTHONWARNINGS=\"ignore::DeprecationWarning\"\n",
      "Use get_job_id() instead\n",
      "  \"job_id\": self.job_id,\n",
      "/home/host_user/.local/lib/python3.8/site-packages/ray/runtime_context.py:28: RayDeprecationWarning: This API is deprecated and may be removed in future Ray releases. You could suppress this warning by setting env variable PYTHONWARNINGS=\"ignore::DeprecationWarning\"\n",
      "Use get_node_id() instead\n",
      "  \"node_id\": self.node_id,\n"
     ]
    }
   ],
   "source": [
    "logger = get_task_context(P)"
   ]
  },
  {
   "cell_type": "code",
   "execution_count": 7,
   "id": "09c429bf",
   "metadata": {
    "execution": {
     "iopub.execute_input": "2023-07-24T06:37:20.461856Z",
     "iopub.status.busy": "2023-07-24T06:37:20.461153Z",
     "iopub.status.idle": "2023-07-24T06:37:20.464551Z",
     "shell.execute_reply": "2023-07-24T06:37:20.463951Z"
    },
    "papermill": {
     "duration": 0.008784,
     "end_time": "2023-07-24T06:37:20.465999",
     "exception": false,
     "start_time": "2023-07-24T06:37:20.457215",
     "status": "completed"
    },
    "tags": []
   },
   "outputs": [],
   "source": [
    "from composable_logs.tasks.task_opentelemetry_logging import get_logged_values\n",
    "from composable_logs.opentelemetry_helpers import _get_all_spans, Spans"
   ]
  },
  {
   "cell_type": "code",
   "execution_count": 8,
   "id": "e7e87538",
   "metadata": {
    "execution": {
     "iopub.execute_input": "2023-07-24T06:37:20.476342Z",
     "iopub.status.busy": "2023-07-24T06:37:20.473090Z",
     "iopub.status.idle": "2023-07-24T06:37:20.493434Z",
     "shell.execute_reply": "2023-07-24T06:37:20.492717Z"
    },
    "papermill": {
     "duration": 0.026421,
     "end_time": "2023-07-24T06:37:20.495485",
     "exception": false,
     "start_time": "2023-07-24T06:37:20.469064",
     "status": "completed"
    },
    "tags": []
   },
   "outputs": [],
   "source": [
    "def get_model_benchmarks():\n",
    "    \"\"\"\n",
    "    Query the OpenTelemetry logs for *this pipeline run* and return\n",
    "    all key-values logged from all runs of the benchmark-model.py task\n",
    "\n",
    "    For testing a json file with OpenTelemetry spans (as an array)\n",
    "    can be used as follows:\n",
    "\n",
    "    - Create output directory `mkdir /tmp/spans`\n",
    "    - Run unit tests. This will create pipeline-outputs/opentelemetry-spans.json\n",
    "    - Convert this json-array into jsonl format as follows\n",
    "\n",
    "    jq -c '.[]' /pipeline-outputs/opentelemetry-spans.json > /tmp/spans/data.txt\n",
    "\n",
    "    \"\"\"\n",
    "    spans: Spans = Spans(_get_all_spans())\n",
    "    print(f\" - Found {len(spans)} spans\")\n",
    "\n",
    "    benchmark_spans = (\n",
    "        spans\n",
    "        # -\n",
    "        .filter([\"name\"], \"execute-task\")\n",
    "        # -\n",
    "        .filter([\"attributes\", \"task.id\"], \"benchmark-model\")\n",
    "    )\n",
    "\n",
    "    result = []\n",
    "    for s in benchmark_spans:\n",
    "        result.append(\n",
    "            {\n",
    "                \"span_id\": s[\"context\"][\"span_id\"],\n",
    "                \"nr_train_images\": s[\"attributes\"][\"task.nr_train_images\"],\n",
    "                \"data\": get_logged_values(spans.bound_under(s)),\n",
    "            }\n",
    "        )\n",
    "\n",
    "    return result\n",
    "\n",
    "\n",
    "def adjust_pandas(df):\n",
    "    def column_renamer(col_name: str) -> str:\n",
    "        return (\n",
    "            col_name\n",
    "            # -- 'data.roc_auc_per_digit.4' -> 'roc_auc.4'\n",
    "            .replace(\"data.roc_auc_per_digit\", \"roc_auc\")\n",
    "            # -- 'data.roc_auc_class_mean' -> 'roc_auc_mean'\n",
    "            .replace(\"data.roc_auc_class_mean\", \"roc_auc_mean\")\n",
    "        )\n",
    "\n",
    "    return df.rename(column_renamer, axis=\"columns\").sort_values(by=\"nr_train_images\")"
   ]
  },
  {
   "cell_type": "code",
   "execution_count": 9,
   "id": "4dabb3f8",
   "metadata": {
    "execution": {
     "iopub.execute_input": "2023-07-24T06:37:20.504140Z",
     "iopub.status.busy": "2023-07-24T06:37:20.503392Z",
     "iopub.status.idle": "2023-07-24T06:37:20.613255Z",
     "shell.execute_reply": "2023-07-24T06:37:20.612462Z"
    },
    "papermill": {
     "duration": 0.116312,
     "end_time": "2023-07-24T06:37:20.615027",
     "exception": false,
     "start_time": "2023-07-24T06:37:20.498715",
     "status": "completed"
    },
    "tags": []
   },
   "outputs": [
    {
     "name": "stdout",
     "output_type": "stream",
     "text": [
      " - Found 250 spans\n"
     ]
    }
   ],
   "source": [
    "\n",
    "df_data = adjust_pandas(pd.json_normalize(get_model_benchmarks()))"
   ]
  },
  {
   "cell_type": "code",
   "execution_count": 10,
   "id": "5b1b18f9",
   "metadata": {
    "execution": {
     "iopub.execute_input": "2023-07-24T06:37:20.623394Z",
     "iopub.status.busy": "2023-07-24T06:37:20.622671Z",
     "iopub.status.idle": "2023-07-24T06:37:20.649110Z",
     "shell.execute_reply": "2023-07-24T06:37:20.648403Z"
    },
    "papermill": {
     "duration": 0.032553,
     "end_time": "2023-07-24T06:37:20.650940",
     "exception": false,
     "start_time": "2023-07-24T06:37:20.618387",
     "status": "completed"
    },
    "tags": []
   },
   "outputs": [
    {
     "data": {
      "text/html": [
       "<div>\n",
       "<style scoped>\n",
       "    .dataframe tbody tr th:only-of-type {\n",
       "        vertical-align: middle;\n",
       "    }\n",
       "\n",
       "    .dataframe tbody tr th {\n",
       "        vertical-align: top;\n",
       "    }\n",
       "\n",
       "    .dataframe thead th {\n",
       "        text-align: right;\n",
       "    }\n",
       "</style>\n",
       "<table border=\"1\" class=\"dataframe\">\n",
       "  <thead>\n",
       "    <tr style=\"text-align: right;\">\n",
       "      <th></th>\n",
       "      <th>span_id</th>\n",
       "      <th>nr_train_images</th>\n",
       "      <th>roc_auc_mean</th>\n",
       "      <th>roc_auc.0</th>\n",
       "      <th>roc_auc.1</th>\n",
       "      <th>roc_auc.2</th>\n",
       "      <th>roc_auc.3</th>\n",
       "      <th>roc_auc.4</th>\n",
       "      <th>roc_auc.5</th>\n",
       "      <th>roc_auc.6</th>\n",
       "      <th>roc_auc.7</th>\n",
       "      <th>roc_auc.8</th>\n",
       "      <th>roc_auc.9</th>\n",
       "    </tr>\n",
       "  </thead>\n",
       "  <tbody>\n",
       "    <tr>\n",
       "      <th>2</th>\n",
       "      <td>0xe041a4c9b4e4bde1</td>\n",
       "      <td>600</td>\n",
       "      <td>0.9990</td>\n",
       "      <td>1.0</td>\n",
       "      <td>0.9991</td>\n",
       "      <td>1.0</td>\n",
       "      <td>0.9999</td>\n",
       "      <td>0.9992</td>\n",
       "      <td>0.9990</td>\n",
       "      <td>0.9999</td>\n",
       "      <td>0.9998</td>\n",
       "      <td>0.9946</td>\n",
       "      <td>0.9988</td>\n",
       "    </tr>\n",
       "    <tr>\n",
       "      <th>1</th>\n",
       "      <td>0x6152ce8b75c74171</td>\n",
       "      <td>800</td>\n",
       "      <td>0.9989</td>\n",
       "      <td>1.0</td>\n",
       "      <td>0.9988</td>\n",
       "      <td>1.0</td>\n",
       "      <td>0.9999</td>\n",
       "      <td>0.9995</td>\n",
       "      <td>0.9990</td>\n",
       "      <td>1.0000</td>\n",
       "      <td>0.9999</td>\n",
       "      <td>0.9924</td>\n",
       "      <td>0.9994</td>\n",
       "    </tr>\n",
       "    <tr>\n",
       "      <th>0</th>\n",
       "      <td>0x30c536077516be7e</td>\n",
       "      <td>1000</td>\n",
       "      <td>0.9992</td>\n",
       "      <td>1.0</td>\n",
       "      <td>0.9990</td>\n",
       "      <td>1.0</td>\n",
       "      <td>0.9999</td>\n",
       "      <td>0.9996</td>\n",
       "      <td>0.9994</td>\n",
       "      <td>0.9999</td>\n",
       "      <td>0.9998</td>\n",
       "      <td>0.9948</td>\n",
       "      <td>0.9996</td>\n",
       "    </tr>\n",
       "    <tr>\n",
       "      <th>3</th>\n",
       "      <td>0x384d4bd558db978c</td>\n",
       "      <td>1200</td>\n",
       "      <td>0.9994</td>\n",
       "      <td>1.0</td>\n",
       "      <td>0.9990</td>\n",
       "      <td>1.0</td>\n",
       "      <td>0.9999</td>\n",
       "      <td>0.9997</td>\n",
       "      <td>0.9997</td>\n",
       "      <td>0.9999</td>\n",
       "      <td>0.9998</td>\n",
       "      <td>0.9957</td>\n",
       "      <td>0.9998</td>\n",
       "    </tr>\n",
       "  </tbody>\n",
       "</table>\n",
       "</div>"
      ],
      "text/plain": [
       "              span_id  nr_train_images  roc_auc_mean  roc_auc.0  roc_auc.1  \\\n",
       "2  0xe041a4c9b4e4bde1              600        0.9990        1.0     0.9991   \n",
       "1  0x6152ce8b75c74171              800        0.9989        1.0     0.9988   \n",
       "0  0x30c536077516be7e             1000        0.9992        1.0     0.9990   \n",
       "3  0x384d4bd558db978c             1200        0.9994        1.0     0.9990   \n",
       "\n",
       "   roc_auc.2  roc_auc.3  roc_auc.4  roc_auc.5  roc_auc.6  roc_auc.7  \\\n",
       "2        1.0     0.9999     0.9992     0.9990     0.9999     0.9998   \n",
       "1        1.0     0.9999     0.9995     0.9990     1.0000     0.9999   \n",
       "0        1.0     0.9999     0.9996     0.9994     0.9999     0.9998   \n",
       "3        1.0     0.9999     0.9997     0.9997     0.9999     0.9998   \n",
       "\n",
       "   roc_auc.8  roc_auc.9  \n",
       "2     0.9946     0.9988  \n",
       "1     0.9924     0.9994  \n",
       "0     0.9948     0.9996  \n",
       "3     0.9957     0.9998  "
      ]
     },
     "execution_count": 10,
     "metadata": {},
     "output_type": "execute_result"
    }
   ],
   "source": [
    "df_data.round(4)"
   ]
  },
  {
   "cell_type": "code",
   "execution_count": 11,
   "id": "5778c185",
   "metadata": {
    "execution": {
     "iopub.execute_input": "2023-07-24T06:37:20.659497Z",
     "iopub.status.busy": "2023-07-24T06:37:20.658818Z",
     "iopub.status.idle": "2023-07-24T06:37:20.881473Z",
     "shell.execute_reply": "2023-07-24T06:37:20.880706Z"
    },
    "papermill": {
     "duration": 0.228999,
     "end_time": "2023-07-24T06:37:20.883507",
     "exception": false,
     "start_time": "2023-07-24T06:37:20.654508",
     "status": "completed"
    },
    "tags": []
   },
   "outputs": [
    {
     "data": {
      "image/png": "[encoded data removed]",
      "text/plain": [
       "<Figure size 1600x400 with 1 Axes>"
      ]
     },
     "metadata": {},
     "output_type": "display_data"
    }
   ],
   "source": [
    "def plot_classifier_performance_summary(df_data):\n",
    "    fig, ax = plt.subplots(nrows=1, ncols=1, figsize=(16, 4), sharex=True)\n",
    "\n",
    "    #\n",
    "    ax.plot(\n",
    "        df_data[\"nr_train_images\"], df_data[\"roc_auc_mean\"], marker=\"o\", linestyle=\"--\"\n",
    "    )\n",
    "    ax.set_title(\n",
    "        f\"ROC AUC digit classifier performance on evaluation digits\", fontsize=17\n",
    "    )\n",
    "    ax.set_xlabel(\"Total number of digits in training set\", fontsize=14)\n",
    "    ax.set_ylabel(\"Mean ROC AUC\", fontsize=14)\n",
    "\n",
    "    fig.tight_layout()\n",
    "    fig.show()\n",
    "\n",
    "    return fig\n",
    "\n",
    "\n",
    "fig = plot_classifier_performance_summary(df_data)"
   ]
  },
  {
   "cell_type": "code",
   "execution_count": 12,
   "id": "2a89cfe6",
   "metadata": {
    "execution": {
     "iopub.execute_input": "2023-07-24T06:37:20.893927Z",
     "iopub.status.busy": "2023-07-24T06:37:20.893352Z",
     "iopub.status.idle": "2023-07-24T06:37:20.977301Z",
     "shell.execute_reply": "2023-07-24T06:37:20.976511Z"
    },
    "papermill": {
     "duration": 0.091844,
     "end_time": "2023-07-24T06:37:20.979724",
     "exception": false,
     "start_time": "2023-07-24T06:37:20.887880",
     "status": "completed"
    },
    "tags": []
   },
   "outputs": [],
   "source": [
    "logger.log_figure(\"auc-roc-model-performances.png\", fig)"
   ]
  },
  {
   "cell_type": "code",
   "execution_count": 13,
   "id": "5a156f38",
   "metadata": {
    "execution": {
     "iopub.execute_input": "2023-07-24T06:37:20.990788Z",
     "iopub.status.busy": "2023-07-24T06:37:20.990088Z",
     "iopub.status.idle": "2023-07-24T06:37:20.993373Z",
     "shell.execute_reply": "2023-07-24T06:37:20.992770Z"
    },
    "papermill": {
     "duration": 0.010386,
     "end_time": "2023-07-24T06:37:20.994870",
     "exception": false,
     "start_time": "2023-07-24T06:37:20.984484",
     "status": "completed"
    },
    "tags": []
   },
   "outputs": [],
   "source": [
    "###"
   ]
  },
  {
   "cell_type": "code",
   "execution_count": null,
   "id": "4cfff8eb",
   "metadata": {
    "papermill": {
     "duration": 0.00447,
     "end_time": "2023-07-24T06:37:21.003783",
     "exception": false,
     "start_time": "2023-07-24T06:37:20.999313",
     "status": "completed"
    },
    "tags": []
   },
   "outputs": [],
   "source": []
  }
 ],
 "metadata": {
  "jupytext": {
   "cell_metadata_filter": "tags,-all",
   "main_language": "python",
   "notebook_metadata_filter": "-all"
  },
  "language_info": {
   "codemirror_mode": {
    "name": "ipython",
    "version": 3
   },
   "file_extension": ".py",
   "mimetype": "text/x-python",
   "name": "python",
   "nbconvert_exporter": "python",
   "pygments_lexer": "ipython3",
   "version": "3.8.10"
  },
  "papermill": {
   "default_parameters": {},
   "duration": 5.173671,
   "end_time": "2023-07-24T06:37:23.042800",
   "environment_variables": {},
   "exception": null,
   "input_path": "/tmp/temp-notebook-bcqtqv0v.ipynb",
   "output_path": "/tmp/temp-notebook-bcqtqv0v.ipynb",
   "parameters": {
    "P": {
     "_parameters_actor_name": "parameter_for_task_0x45f0b84031f41fb7"
    }
   },
   "start_time": "2023-07-24T06:37:17.869129",
   "version": "2.4.0"
  }
 },
 "nbformat": 4,
 "nbformat_minor": 5
}