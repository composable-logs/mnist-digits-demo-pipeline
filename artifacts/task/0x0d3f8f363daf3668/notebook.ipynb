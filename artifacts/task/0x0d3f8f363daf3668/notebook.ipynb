{
 "cells": [
  {
   "cell_type": "markdown",
   "id": "a93b6259",
   "metadata": {
    "papermill": {
     "duration": 0.006055,
     "end_time": "2023-07-18T06:37:41.887304",
     "exception": false,
     "start_time": "2023-07-18T06:37:41.881249",
     "status": "completed"
    },
    "tags": []
   },
   "source": [
    "# Benchmark model\n",
    "\n",
    "The purpose of this notebook is to benchmark persisted onnx-model (trained in the\n",
    "previous step) against evaluation set."
   ]
  },
  {
   "cell_type": "markdown",
   "id": "fa0949bb",
   "metadata": {
    "papermill": {
     "duration": 0.004533,
     "end_time": "2023-07-18T06:37:41.902992",
     "exception": false,
     "start_time": "2023-07-18T06:37:41.898459",
     "status": "completed"
    },
    "tags": []
   },
   "source": [
    "### Determine run parameters"
   ]
  },
  {
   "cell_type": "code",
   "execution_count": 1,
   "id": "a0e34b15",
   "metadata": {
    "execution": {
     "iopub.execute_input": "2023-07-18T06:37:41.913240Z",
     "iopub.status.busy": "2023-07-18T06:37:41.912724Z",
     "iopub.status.idle": "2023-07-18T06:37:41.921833Z",
     "shell.execute_reply": "2023-07-18T06:37:41.921115Z"
    },
    "lines_to_next_cell": 0,
    "papermill": {
     "duration": 0.018072,
     "end_time": "2023-07-18T06:37:41.925309",
     "exception": false,
     "start_time": "2023-07-18T06:37:41.907237",
     "status": "completed"
    },
    "tags": []
   },
   "outputs": [],
   "source": [
    "# ----------------- Parameters for interactive development --------------\n",
    "P = {\n",
    "    \"workflow.data_lake_root\": \"/pipeline-outputs/data-lake\",\n",
    "    \"task.nr_train_images\": 600,\n",
    "}"
   ]
  },
  {
   "cell_type": "code",
   "execution_count": 2,
   "id": "c05e5a0d",
   "metadata": {
    "execution": {
     "iopub.execute_input": "2023-07-18T06:37:41.935113Z",
     "iopub.status.busy": "2023-07-18T06:37:41.934827Z",
     "iopub.status.idle": "2023-07-18T06:37:41.939368Z",
     "shell.execute_reply": "2023-07-18T06:37:41.938742Z"
    },
    "lines_to_next_cell": 0,
    "papermill": {
     "duration": 0.011565,
     "end_time": "2023-07-18T06:37:41.941008",
     "exception": false,
     "start_time": "2023-07-18T06:37:41.929443",
     "status": "completed"
    },
    "tags": [
     "parameters"
    ]
   },
   "outputs": [],
   "source": [
    "# - During automated runs parameters will be injected in the below cell -"
   ]
  },
  {
   "cell_type": "code",
   "execution_count": 3,
   "id": "e2f792ed",
   "metadata": {
    "execution": {
     "iopub.execute_input": "2023-07-18T06:37:41.951433Z",
     "iopub.status.busy": "2023-07-18T06:37:41.950937Z",
     "iopub.status.idle": "2023-07-18T06:37:41.954255Z",
     "shell.execute_reply": "2023-07-18T06:37:41.953719Z"
    },
    "papermill": {
     "duration": 0.010619,
     "end_time": "2023-07-18T06:37:41.955771",
     "exception": false,
     "start_time": "2023-07-18T06:37:41.945152",
     "status": "completed"
    },
    "tags": [
     "injected-parameters"
    ]
   },
   "outputs": [],
   "source": [
    "# Parameters\n",
    "P = {\n",
    "    \"task.nr_train_images\": 1000,\n",
    "    \"_parameters_actor_name\": \"parameter_for_task_0x0d3f8f363daf3668\",\n",
    "}\n"
   ]
  },
  {
   "cell_type": "code",
   "execution_count": 4,
   "id": "572bf23e",
   "metadata": {
    "execution": {
     "iopub.execute_input": "2023-07-18T06:37:41.966097Z",
     "iopub.status.busy": "2023-07-18T06:37:41.965351Z",
     "iopub.status.idle": "2023-07-18T06:37:41.968529Z",
     "shell.execute_reply": "2023-07-18T06:37:41.967982Z"
    },
    "lines_to_next_cell": 0,
    "papermill": {
     "duration": 0.010075,
     "end_time": "2023-07-18T06:37:41.970172",
     "exception": false,
     "start_time": "2023-07-18T06:37:41.960097",
     "status": "completed"
    },
    "tags": []
   },
   "outputs": [],
   "source": [
    "# -----------------------------------------------------------------------"
   ]
  },
  {
   "cell_type": "markdown",
   "id": "84232d87",
   "metadata": {
    "papermill": {
     "duration": 0.004333,
     "end_time": "2023-07-18T06:37:41.978864",
     "exception": false,
     "start_time": "2023-07-18T06:37:41.974531",
     "status": "completed"
    },
    "tags": []
   },
   "source": [
    "---"
   ]
  },
  {
   "cell_type": "markdown",
   "id": "49509d41",
   "metadata": {
    "lines_to_next_cell": 2,
    "papermill": {
     "duration": 0.004331,
     "end_time": "2023-07-18T06:37:41.987371",
     "exception": false,
     "start_time": "2023-07-18T06:37:41.983040",
     "status": "completed"
    },
    "tags": []
   },
   "source": [
    "### Notebook code"
   ]
  },
  {
   "cell_type": "code",
   "execution_count": 5,
   "id": "cb350d13",
   "metadata": {
    "execution": {
     "iopub.execute_input": "2023-07-18T06:37:42.003170Z",
     "iopub.status.busy": "2023-07-18T06:37:42.002623Z",
     "iopub.status.idle": "2023-07-18T06:37:42.923323Z",
     "shell.execute_reply": "2023-07-18T06:37:42.920263Z"
    },
    "papermill": {
     "duration": 0.940225,
     "end_time": "2023-07-18T06:37:42.931802",
     "exception": false,
     "start_time": "2023-07-18T06:37:41.991577",
     "status": "completed"
    },
    "tags": []
   },
   "outputs": [
    {
     "name": "stderr",
     "output_type": "stream",
     "text": [
      "2023-07-18 06:37:42,828\tINFO worker.py:1364 -- Connecting to existing Ray cluster at address: 172.17.0.2:50938...\n"
     ]
    },
    {
     "name": "stderr",
     "output_type": "stream",
     "text": [
      "2023-07-18 06:37:42,839\tINFO worker.py:1544 -- Connected to Ray cluster. View the dashboard at \u001b[1m\u001b[32mhttp://127.0.0.1:8265 \u001b[39m\u001b[22m\n"
     ]
    },
    {
     "name": "stderr",
     "output_type": "stream",
     "text": [
      "/home/host_user/.local/lib/python3.8/site-packages/ray/runtime_context.py:27: RayDeprecationWarning: This API is deprecated and may be removed in future Ray releases. You could suppress this warning by setting env variable PYTHONWARNINGS=\"ignore::DeprecationWarning\"\n",
      "Use get_job_id() instead\n",
      "  \"job_id\": self.job_id,\n",
      "/home/host_user/.local/lib/python3.8/site-packages/ray/runtime_context.py:28: RayDeprecationWarning: This API is deprecated and may be removed in future Ray releases. You could suppress this warning by setting env variable PYTHONWARNINGS=\"ignore::DeprecationWarning\"\n",
      "Use get_node_id() instead\n",
      "  \"node_id\": self.node_id,\n"
     ]
    }
   ],
   "source": [
    "import itertools as it\n",
    "\n",
    "#\n",
    "import numpy as np\n",
    "import matplotlib.pyplot as plt\n",
    "\n",
    "#\n",
    "from composable_logs.tasks.task_opentelemetry_logging import get_task_context\n",
    "\n",
    "#\n",
    "from common.io import datalake_root\n",
    "\n",
    "ctx = get_task_context(P)"
   ]
  },
  {
   "cell_type": "markdown",
   "id": "0126ba9d",
   "metadata": {
    "papermill": {
     "duration": 0.004639,
     "end_time": "2023-07-18T06:37:42.941553",
     "exception": false,
     "start_time": "2023-07-18T06:37:42.936914",
     "status": "completed"
    },
    "tags": []
   },
   "source": [
    "## Load persisted onnx-model and evaluation data"
   ]
  },
  {
   "cell_type": "code",
   "execution_count": 6,
   "id": "6c0332a4",
   "metadata": {
    "execution": {
     "iopub.execute_input": "2023-07-18T06:37:42.952624Z",
     "iopub.status.busy": "2023-07-18T06:37:42.952318Z",
     "iopub.status.idle": "2023-07-18T06:37:42.957308Z",
     "shell.execute_reply": "2023-07-18T06:37:42.956664Z"
    },
    "papermill": {
     "duration": 0.013321,
     "end_time": "2023-07-18T06:37:42.959277",
     "exception": false,
     "start_time": "2023-07-18T06:37:42.945956",
     "status": "completed"
    },
    "tags": []
   },
   "outputs": [],
   "source": [
    "from common.io import read_onnx, get_onnx_inputs, get_onnx_outputs, read_numpy"
   ]
  },
  {
   "cell_type": "code",
   "execution_count": 7,
   "id": "a84d3758",
   "metadata": {
    "execution": {
     "iopub.execute_input": "2023-07-18T06:37:42.970445Z",
     "iopub.status.busy": "2023-07-18T06:37:42.970146Z",
     "iopub.status.idle": "2023-07-18T06:37:42.979646Z",
     "shell.execute_reply": "2023-07-18T06:37:42.978989Z"
    },
    "lines_to_next_cell": 0,
    "papermill": {
     "duration": 0.017406,
     "end_time": "2023-07-18T06:37:42.981572",
     "exception": false,
     "start_time": "2023-07-18T06:37:42.964166",
     "status": "completed"
    },
    "tags": []
   },
   "outputs": [],
   "source": [
    "onnx_inference_session = read_onnx(\n",
    "    datalake_root(ctx)\n",
    "    / \"models\"\n",
    "    / f\"nr_train_images={ctx.parameters['task.nr_train_images']}\"\n",
    "    / \"model.onnx\"\n",
    ")"
   ]
  },
  {
   "cell_type": "markdown",
   "id": "acfb336e",
   "metadata": {
    "papermill": {
     "duration": 0.004425,
     "end_time": "2023-07-18T06:37:42.990431",
     "exception": false,
     "start_time": "2023-07-18T06:37:42.986006",
     "status": "completed"
    },
    "tags": []
   },
   "source": [
    "### Record structure of inputs and outputs for ONNX model\n",
    "\n",
    "(this should likely be done in training notebook)"
   ]
  },
  {
   "cell_type": "code",
   "execution_count": 8,
   "id": "0fa0ba3b",
   "metadata": {
    "execution": {
     "iopub.execute_input": "2023-07-18T06:37:43.001232Z",
     "iopub.status.busy": "2023-07-18T06:37:43.000930Z",
     "iopub.status.idle": "2023-07-18T06:37:43.008368Z",
     "shell.execute_reply": "2023-07-18T06:37:43.007729Z"
    },
    "papermill": {
     "duration": 0.015257,
     "end_time": "2023-07-18T06:37:43.010317",
     "exception": false,
     "start_time": "2023-07-18T06:37:42.995060",
     "status": "completed"
    },
    "tags": []
   },
   "outputs": [
    {
     "name": "stdout",
     "output_type": "stream",
     "text": [
      "{\n",
      "  \"inputs\": [\n",
      "    {\n",
      "      \"name\": \"float_input_8x8_image\",\n",
      "      \"shape\": [\n",
      "        null,\n",
      "        64\n",
      "      ],\n",
      "      \"type\": \"tensor(float)\"\n",
      "    }\n",
      "  ],\n",
      "  \"outputs\": [\n",
      "    {\n",
      "      \"name\": \"output_label\",\n",
      "      \"shape\": [\n",
      "        null\n",
      "      ],\n",
      "      \"type\": \"tensor(int64)\"\n",
      "    },\n",
      "    {\n",
      "      \"name\": \"output_probability\",\n",
      "      \"shape\": [],\n",
      "      \"type\": \"seq(map(int64,tensor(float)))\"\n",
      "    }\n",
      "  ]\n",
      "}\n"
     ]
    }
   ],
   "source": [
    "import json\n",
    "\n",
    "onnx_io = json.dumps(\n",
    "    {\n",
    "        \"inputs\": get_onnx_inputs(onnx_inference_session),\n",
    "        \"outputs\": get_onnx_outputs(onnx_inference_session),\n",
    "    },\n",
    "    indent=2,\n",
    ")\n",
    "\n",
    "\n",
    "ctx.log_artefact(\"onnx_io_structure.json\", onnx_io)\n",
    "print(onnx_io)"
   ]
  },
  {
   "cell_type": "markdown",
   "id": "e1073a43",
   "metadata": {
    "papermill": {
     "duration": 0.004443,
     "end_time": "2023-07-18T06:37:43.019375",
     "exception": false,
     "start_time": "2023-07-18T06:37:43.014932",
     "status": "completed"
    },
    "tags": []
   },
   "source": [
    "### Evaluate model performance on evaluation data set"
   ]
  },
  {
   "cell_type": "code",
   "execution_count": 9,
   "id": "f3254c71",
   "metadata": {
    "execution": {
     "iopub.execute_input": "2023-07-18T06:37:43.033193Z",
     "iopub.status.busy": "2023-07-18T06:37:43.032890Z",
     "iopub.status.idle": "2023-07-18T06:37:43.039276Z",
     "shell.execute_reply": "2023-07-18T06:37:43.038668Z"
    },
    "papermill": {
     "duration": 0.017711,
     "end_time": "2023-07-18T06:37:43.041639",
     "exception": false,
     "start_time": "2023-07-18T06:37:43.023928",
     "status": "completed"
    },
    "tags": []
   },
   "outputs": [],
   "source": [
    "# load evaluation data\n",
    "X_test = read_numpy(datalake_root(ctx) / \"test-data\" / \"digits.numpy\")\n",
    "y_test = read_numpy(datalake_root(ctx) / \"test-data\" / \"labels.numpy\")"
   ]
  },
  {
   "cell_type": "code",
   "execution_count": 10,
   "id": "b9e4cb08",
   "metadata": {
    "execution": {
     "iopub.execute_input": "2023-07-18T06:37:43.052660Z",
     "iopub.status.busy": "2023-07-18T06:37:43.052368Z",
     "iopub.status.idle": "2023-07-18T06:37:43.068706Z",
     "shell.execute_reply": "2023-07-18T06:37:43.067981Z"
    },
    "papermill": {
     "duration": 0.024166,
     "end_time": "2023-07-18T06:37:43.070546",
     "exception": false,
     "start_time": "2023-07-18T06:37:43.046380",
     "status": "completed"
    },
    "tags": []
   },
   "outputs": [],
   "source": [
    "def get_model_outputs(X, onnx_inference_session):\n",
    "    y_pred_labels, y_pred_map = onnx_inference_session.run(\n",
    "        [\"output_label\", \"output_probability\"],\n",
    "        {\"float_input_8x8_image\": X.astype(np.float32)},\n",
    "    )\n",
    "    y_pred_probs = np.array(\n",
    "        [[probabilities[digit] for digit in range(10)] for probabilities in y_pred_map]\n",
    "    )\n",
    "\n",
    "    assert y_pred_labels.shape == (X.shape[0],)\n",
    "    assert y_pred_probs.shape == (X.shape[0], 10)\n",
    "\n",
    "    return y_pred_labels, y_pred_probs\n",
    "\n",
    "\n",
    "# Note: as shown in the training notebook, the predicted labels and probabilities\n",
    "# computed below need not be compatible.\n",
    "y_pred_labels_test, y_pred_probs_test = get_model_outputs(\n",
    "    X_test, onnx_inference_session\n",
    ")"
   ]
  },
  {
   "cell_type": "markdown",
   "id": "fd925bf4",
   "metadata": {
    "papermill": {
     "duration": 0.004721,
     "end_time": "2023-07-18T06:37:43.080032",
     "exception": false,
     "start_time": "2023-07-18T06:37:43.075311",
     "status": "completed"
    },
    "tags": []
   },
   "source": [
    "### Confusion matrix"
   ]
  },
  {
   "cell_type": "code",
   "execution_count": 11,
   "id": "878d64c6",
   "metadata": {
    "execution": {
     "iopub.execute_input": "2023-07-18T06:37:43.091170Z",
     "iopub.status.busy": "2023-07-18T06:37:43.090810Z",
     "iopub.status.idle": "2023-07-18T06:37:43.095341Z",
     "shell.execute_reply": "2023-07-18T06:37:43.094731Z"
    },
    "papermill": {
     "duration": 0.012564,
     "end_time": "2023-07-18T06:37:43.097174",
     "exception": false,
     "start_time": "2023-07-18T06:37:43.084610",
     "status": "completed"
    },
    "tags": []
   },
   "outputs": [],
   "source": [
    "# TODO"
   ]
  },
  {
   "cell_type": "markdown",
   "id": "5d366da9",
   "metadata": {
    "papermill": {
     "duration": 0.004545,
     "end_time": "2023-07-18T06:37:43.106471",
     "exception": false,
     "start_time": "2023-07-18T06:37:43.101926",
     "status": "completed"
    },
    "tags": []
   },
   "source": [
    "### Plot predicted probabilities for each classifier over all evaluation digit images"
   ]
  },
  {
   "cell_type": "code",
   "execution_count": 12,
   "id": "a39b940d",
   "metadata": {
    "execution": {
     "iopub.execute_input": "2023-07-18T06:37:43.117402Z",
     "iopub.status.busy": "2023-07-18T06:37:43.117108Z",
     "iopub.status.idle": "2023-07-18T06:37:47.342285Z",
     "shell.execute_reply": "2023-07-18T06:37:47.341627Z"
    },
    "papermill": {
     "duration": 4.234612,
     "end_time": "2023-07-18T06:37:47.345607",
     "exception": false,
     "start_time": "2023-07-18T06:37:43.110995",
     "status": "completed"
    },
    "tags": []
   },
   "outputs": [
    {
     "data": {
      "image/png": "[encoded data removed]",
      "text/plain": [
       "<Figure size 1600x600 with 10 Axes>"
      ]
     },
     "metadata": {},
     "output_type": "display_data"
    }
   ],
   "source": [
    "def plot_per_digit_probabilities(y_pred_probs):\n",
    "    fig, axs = plt.subplots(nrows=2, ncols=5, figsize=(16, 6))\n",
    "\n",
    "    for (r, c), digit, ax in zip(\n",
    "        it.product(range(2), range(5)), range(10), axs.reshape(-1)\n",
    "    ):\n",
    "        ax.hist(y_pred_probs_test[:, digit], bins=20)\n",
    "\n",
    "        ax.set_title(f\"Digit {digit}\")\n",
    "        if r == 1 and c == 2:\n",
    "            ax.set_xlabel(\"probability\", fontsize=16)\n",
    "\n",
    "        if c == 0:\n",
    "            ax.set_ylabel(\"counts\", fontsize=16)\n",
    "        ax.set_yscale(\"log\")\n",
    "\n",
    "    fig.tight_layout()\n",
    "    fig.suptitle(\n",
    "        f\"Distributions of prediction probabilities for each digit \"\n",
    "        f\"(on evaluation data, n={y_pred_probs.shape[0]})\",\n",
    "        fontsize=20,\n",
    "    )\n",
    "    fig.tight_layout()\n",
    "    fig.show()\n",
    "\n",
    "    return fig\n",
    "\n",
    "\n",
    "fig = plot_per_digit_probabilities(y_pred_probs_test)"
   ]
  },
  {
   "cell_type": "markdown",
   "id": "51e7902f",
   "metadata": {
    "papermill": {
     "duration": 0.006038,
     "end_time": "2023-07-18T06:37:47.359766",
     "exception": false,
     "start_time": "2023-07-18T06:37:47.353728",
     "status": "completed"
    },
    "tags": []
   },
   "source": [
    "From the above distributions we see that most digits have clear separation between\n",
    "high and lower probabilities. Morover, in each case there is roughly an order of\n",
    "magnitude more of digits with low probabilities. This is compatible with digits\n",
    "being roughly evenly distributed in the data."
   ]
  },
  {
   "cell_type": "code",
   "execution_count": 13,
   "id": "48963799",
   "metadata": {
    "execution": {
     "iopub.execute_input": "2023-07-18T06:37:47.372274Z",
     "iopub.status.busy": "2023-07-18T06:37:47.371969Z",
     "iopub.status.idle": "2023-07-18T06:37:48.041564Z",
     "shell.execute_reply": "2023-07-18T06:37:48.040914Z"
    },
    "papermill": {
     "duration": 0.680254,
     "end_time": "2023-07-18T06:37:48.045470",
     "exception": false,
     "start_time": "2023-07-18T06:37:47.365216",
     "status": "completed"
    },
    "tags": []
   },
   "outputs": [],
   "source": [
    "ctx.log_figure(\"per-digit-probabilities.png\", fig)"
   ]
  },
  {
   "cell_type": "markdown",
   "id": "b7f1968b",
   "metadata": {
    "papermill": {
     "duration": 0.005681,
     "end_time": "2023-07-18T06:37:48.056988",
     "exception": false,
     "start_time": "2023-07-18T06:37:48.051307",
     "status": "completed"
    },
    "tags": []
   },
   "source": [
    "### Plot ROC curves for individual one-vs-rest classifiers"
   ]
  },
  {
   "cell_type": "code",
   "execution_count": 14,
   "id": "983d2940",
   "metadata": {
    "execution": {
     "iopub.execute_input": "2023-07-18T06:37:48.074247Z",
     "iopub.status.busy": "2023-07-18T06:37:48.073932Z",
     "iopub.status.idle": "2023-07-18T06:37:48.405118Z",
     "shell.execute_reply": "2023-07-18T06:37:48.404437Z"
    },
    "papermill": {
     "duration": 0.344057,
     "end_time": "2023-07-18T06:37:48.409378",
     "exception": false,
     "start_time": "2023-07-18T06:37:48.065321",
     "status": "completed"
    },
    "tags": []
   },
   "outputs": [],
   "source": [
    "from sklearn import metrics"
   ]
  },
  {
   "cell_type": "code",
   "execution_count": 15,
   "id": "68f9a00d",
   "metadata": {
    "execution": {
     "iopub.execute_input": "2023-07-18T06:37:48.423099Z",
     "iopub.status.busy": "2023-07-18T06:37:48.422813Z",
     "iopub.status.idle": "2023-07-18T06:37:50.525093Z",
     "shell.execute_reply": "2023-07-18T06:37:50.524372Z"
    },
    "papermill": {
     "duration": 2.114883,
     "end_time": "2023-07-18T06:37:50.530170",
     "exception": false,
     "start_time": "2023-07-18T06:37:48.415287",
     "status": "completed"
    },
    "tags": []
   },
   "outputs": [
    {
     "data": {
      "image/png": "[encoded data removed]",
      "text/plain": [
       "<Figure size 1600x800 with 10 Axes>"
      ]
     },
     "metadata": {},
     "output_type": "display_data"
    }
   ],
   "source": [
    "def plot_roc_curves(y, y_pred_probs):\n",
    "    # based on example code\n",
    "    # https://scikit-learn.org/stable/auto_examples/model_selection/plot_roc.html\n",
    "\n",
    "    fig, axs = plt.subplots(nrows=2, ncols=5, figsize=(16, 8))\n",
    "\n",
    "    roc_auc_dict = {}\n",
    "\n",
    "    for (r, c), digit, ax in zip(\n",
    "        it.product(range(2), range(5)), range(10), axs.reshape(-1)\n",
    "    ):\n",
    "        fpr, tpr, _ = metrics.roc_curve(y == digit, y_pred_probs[:, digit])\n",
    "        auc = metrics.auc(fpr, tpr)\n",
    "        roc_auc_dict[str(digit)] = auc\n",
    "\n",
    "        ax.plot(fpr, tpr, label=f\"ROC AUC={round(auc, 3)}\")\n",
    "\n",
    "        ax.set_title(f\"\\nDigit {digit}\", fontsize=16)\n",
    "        if r == 1:\n",
    "            ax.set_xlabel(\"FPR\", fontsize=18)\n",
    "\n",
    "        if c == 0:\n",
    "            ax.set_ylabel(\"TPR\", fontsize=18)\n",
    "\n",
    "        ax.set_xlim([-0.05, 1.05])\n",
    "        ax.set_ylim([-0.05, 1.05])\n",
    "        ax.legend(loc=\"lower right\", frameon=False, fontsize=14)\n",
    "\n",
    "    fig.tight_layout()\n",
    "    fig.suptitle(\n",
    "        f\"ROC plots for one-vs-rest performances \"\n",
    "        f\"(on evaluation data, n={y_pred_probs_test.shape[1]}\",\n",
    "        fontsize=22,\n",
    "    )\n",
    "    fig.tight_layout()\n",
    "    fig.show()\n",
    "\n",
    "    return roc_auc_dict, fig\n",
    "\n",
    "\n",
    "roc_auc_dict, fig = plot_roc_curves(y_test, y_pred_probs_test)"
   ]
  },
  {
   "cell_type": "code",
   "execution_count": 16,
   "id": "8672d460",
   "metadata": {
    "execution": {
     "iopub.execute_input": "2023-07-18T06:37:50.547749Z",
     "iopub.status.busy": "2023-07-18T06:37:50.546930Z",
     "iopub.status.idle": "2023-07-18T06:37:50.928460Z",
     "shell.execute_reply": "2023-07-18T06:37:50.927658Z"
    },
    "papermill": {
     "duration": 0.393703,
     "end_time": "2023-07-18T06:37:50.930906",
     "exception": false,
     "start_time": "2023-07-18T06:37:50.537203",
     "status": "completed"
    },
    "tags": []
   },
   "outputs": [],
   "source": [
    "ctx.log_figure(\"per-digit-roc-curves.png\", fig)"
   ]
  },
  {
   "cell_type": "code",
   "execution_count": 17,
   "id": "af29c876",
   "metadata": {
    "execution": {
     "iopub.execute_input": "2023-07-18T06:37:50.948987Z",
     "iopub.status.busy": "2023-07-18T06:37:50.948684Z",
     "iopub.status.idle": "2023-07-18T06:37:50.956316Z",
     "shell.execute_reply": "2023-07-18T06:37:50.955586Z"
    },
    "papermill": {
     "duration": 0.018261,
     "end_time": "2023-07-18T06:37:50.958238",
     "exception": false,
     "start_time": "2023-07-18T06:37:50.939977",
     "status": "completed"
    },
    "tags": []
   },
   "outputs": [
    {
     "data": {
      "text/plain": [
       "{'0': 1.0,\n",
       " '1': 0.998987816307404,\n",
       " '2': 1.0,\n",
       " '3': 0.9999250234301781,\n",
       " '4': 0.9996189605243103,\n",
       " '5': 0.9994001874414246,\n",
       " '6': 0.999923792104862,\n",
       " '7': 0.9997713763145862,\n",
       " '8': 0.9951134930643127,\n",
       " '9': 0.9996189605243103}"
      ]
     },
     "execution_count": 17,
     "metadata": {},
     "output_type": "execute_result"
    }
   ],
   "source": [
    "roc_auc_dict"
   ]
  },
  {
   "cell_type": "code",
   "execution_count": 18,
   "id": "e38be1f6",
   "metadata": {
    "execution": {
     "iopub.execute_input": "2023-07-18T06:37:50.973952Z",
     "iopub.status.busy": "2023-07-18T06:37:50.973652Z",
     "iopub.status.idle": "2023-07-18T06:37:50.981042Z",
     "shell.execute_reply": "2023-07-18T06:37:50.979782Z"
    },
    "papermill": {
     "duration": 0.017948,
     "end_time": "2023-07-18T06:37:50.983276",
     "exception": false,
     "start_time": "2023-07-18T06:37:50.965328",
     "status": "completed"
    },
    "tags": []
   },
   "outputs": [
    {
     "name": "stdout",
     "output_type": "stream",
     "text": [
      " - Logging roc_auc_per_digit (json) : {'0': 1.0, '1': 0.998987816307404, '2': 1.0, '3': 0.9999250234301781, '4': 0.9996189605243103, '5': 0.9994001874414246, '6': 0.999923792104862, '7': 0.9997713763145862, '8': 0.9951134930643127, '9': 0.9996189605243103}\n"
     ]
    }
   ],
   "source": [
    "ctx.log_value(\"roc_auc_per_digit\", roc_auc_dict)"
   ]
  },
  {
   "cell_type": "markdown",
   "id": "f3905995",
   "metadata": {
    "papermill": {
     "duration": 0.007165,
     "end_time": "2023-07-18T06:37:50.997901",
     "exception": false,
     "start_time": "2023-07-18T06:37:50.990736",
     "status": "completed"
    },
    "tags": []
   },
   "source": [
    "### Compute and log mean ROC AUC score averaged over all digits"
   ]
  },
  {
   "cell_type": "code",
   "execution_count": 19,
   "id": "c48e2b38",
   "metadata": {
    "execution": {
     "iopub.execute_input": "2023-07-18T06:37:51.013140Z",
     "iopub.status.busy": "2023-07-18T06:37:51.012840Z",
     "iopub.status.idle": "2023-07-18T06:37:51.030148Z",
     "shell.execute_reply": "2023-07-18T06:37:51.029363Z"
    },
    "papermill": {
     "duration": 0.028692,
     "end_time": "2023-07-18T06:37:51.033431",
     "exception": false,
     "start_time": "2023-07-18T06:37:51.004739",
     "status": "completed"
    },
    "tags": []
   },
   "outputs": [
    {
     "name": "stdout",
     "output_type": "stream",
     "text": [
      " - Logging roc_auc_class_mean (float) : 0.9992359609711388\n"
     ]
    }
   ],
   "source": [
    "roc_auc_macro = np.mean(list(roc_auc_dict.values()))\n",
    "\n",
    "ctx.log_float(\"roc_auc_class_mean\", roc_auc_macro)\n",
    "\n",
    "# assert that the same value can be computed directly using sklearn\n",
    "assert roc_auc_macro == metrics.roc_auc_score(\n",
    "    y_test, y_pred_probs_test, average=\"macro\", multi_class=\"ovr\"\n",
    ")"
   ]
  },
  {
   "cell_type": "code",
   "execution_count": 20,
   "id": "63cde815",
   "metadata": {
    "execution": {
     "iopub.execute_input": "2023-07-18T06:37:51.060505Z",
     "iopub.status.busy": "2023-07-18T06:37:51.059932Z",
     "iopub.status.idle": "2023-07-18T06:37:51.064813Z",
     "shell.execute_reply": "2023-07-18T06:37:51.064234Z"
    },
    "lines_to_next_cell": 0,
    "papermill": {
     "duration": 0.014936,
     "end_time": "2023-07-18T06:37:51.066583",
     "exception": false,
     "start_time": "2023-07-18T06:37:51.051647",
     "status": "completed"
    },
    "tags": []
   },
   "outputs": [],
   "source": [
    "# ---"
   ]
  },
  {
   "cell_type": "code",
   "execution_count": null,
   "id": "5c51bfdd",
   "metadata": {
    "papermill": {
     "duration": 0.009557,
     "end_time": "2023-07-18T06:37:51.083298",
     "exception": false,
     "start_time": "2023-07-18T06:37:51.073741",
     "status": "completed"
    },
    "tags": []
   },
   "outputs": [],
   "source": []
  }
 ],
 "metadata": {
  "jupytext": {
   "cell_metadata_filter": "tags,-all",
   "main_language": "python",
   "notebook_metadata_filter": "-all"
  },
  "language_info": {
   "codemirror_mode": {
    "name": "ipython",
    "version": 3
   },
   "file_extension": ".py",
   "mimetype": "text/x-python",
   "name": "python",
   "nbconvert_exporter": "python",
   "pygments_lexer": "ipython3",
   "version": "3.8.10"
  },
  "papermill": {
   "default_parameters": {},
   "duration": 12.503445,
   "end_time": "2023-07-18T06:37:53.037261",
   "environment_variables": {},
   "exception": null,
   "input_path": "/tmp/temp-notebook-smfid_h9.ipynb",
   "output_path": "/tmp/temp-notebook-smfid_h9.ipynb",
   "parameters": {
    "P": {
     "_parameters_actor_name": "parameter_for_task_0x0d3f8f363daf3668",
     "task.nr_train_images": 1000
    }
   },
   "start_time": "2023-07-18T06:37:40.533816",
   "version": "2.4.0"
  }
 },
 "nbformat": 4,
 "nbformat_minor": 5
}