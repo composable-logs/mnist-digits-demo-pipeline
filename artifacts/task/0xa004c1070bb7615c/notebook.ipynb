{
 "cells": [
  {
   "cell_type": "markdown",
   "id": "30b6c87c",
   "metadata": {
    "papermill": {
     "duration": 0.005172,
     "end_time": "2023-07-19T06:35:56.187932",
     "exception": false,
     "start_time": "2023-07-19T06:35:56.182760",
     "status": "completed"
    },
    "tags": []
   },
   "source": [
    "# Benchmark model\n",
    "\n",
    "The purpose of this notebook is to benchmark persisted onnx-model (trained in the\n",
    "previous step) against evaluation set."
   ]
  },
  {
   "cell_type": "markdown",
   "id": "8794c966",
   "metadata": {
    "papermill": {
     "duration": 0.003639,
     "end_time": "2023-07-19T06:35:56.197614",
     "exception": false,
     "start_time": "2023-07-19T06:35:56.193975",
     "status": "completed"
    },
    "tags": []
   },
   "source": [
    "### Determine run parameters"
   ]
  },
  {
   "cell_type": "code",
   "execution_count": 1,
   "id": "676a46fd",
   "metadata": {
    "execution": {
     "iopub.execute_input": "2023-07-19T06:35:56.206872Z",
     "iopub.status.busy": "2023-07-19T06:35:56.206596Z",
     "iopub.status.idle": "2023-07-19T06:35:56.214597Z",
     "shell.execute_reply": "2023-07-19T06:35:56.214024Z"
    },
    "lines_to_next_cell": 0,
    "papermill": {
     "duration": 0.014855,
     "end_time": "2023-07-19T06:35:56.216191",
     "exception": false,
     "start_time": "2023-07-19T06:35:56.201336",
     "status": "completed"
    },
    "tags": []
   },
   "outputs": [],
   "source": [
    "# ----------------- Parameters for interactive development --------------\n",
    "P = {\n",
    "    \"workflow.data_lake_root\": \"/pipeline-outputs/data-lake\",\n",
    "    \"task.nr_train_images\": 600,\n",
    "}"
   ]
  },
  {
   "cell_type": "code",
   "execution_count": 2,
   "id": "c98a4e6d",
   "metadata": {
    "execution": {
     "iopub.execute_input": "2023-07-19T06:35:56.224996Z",
     "iopub.status.busy": "2023-07-19T06:35:56.224762Z",
     "iopub.status.idle": "2023-07-19T06:35:56.228650Z",
     "shell.execute_reply": "2023-07-19T06:35:56.228151Z"
    },
    "lines_to_next_cell": 0,
    "papermill": {
     "duration": 0.010275,
     "end_time": "2023-07-19T06:35:56.230260",
     "exception": false,
     "start_time": "2023-07-19T06:35:56.219985",
     "status": "completed"
    },
    "tags": [
     "parameters"
    ]
   },
   "outputs": [],
   "source": [
    "# - During automated runs parameters will be injected in the below cell -"
   ]
  },
  {
   "cell_type": "code",
   "execution_count": 3,
   "id": "1c50529c",
   "metadata": {
    "execution": {
     "iopub.execute_input": "2023-07-19T06:35:56.240550Z",
     "iopub.status.busy": "2023-07-19T06:35:56.240235Z",
     "iopub.status.idle": "2023-07-19T06:35:56.244530Z",
     "shell.execute_reply": "2023-07-19T06:35:56.243917Z"
    },
    "papermill": {
     "duration": 0.011601,
     "end_time": "2023-07-19T06:35:56.246123",
     "exception": false,
     "start_time": "2023-07-19T06:35:56.234522",
     "status": "completed"
    },
    "tags": [
     "injected-parameters"
    ]
   },
   "outputs": [],
   "source": [
    "# Parameters\n",
    "P = {\n",
    "    \"task.nr_train_images\": 1200,\n",
    "    \"_parameters_actor_name\": \"parameter_for_task_0xa004c1070bb7615c\",\n",
    "}\n"
   ]
  },
  {
   "cell_type": "code",
   "execution_count": 4,
   "id": "bde6c727",
   "metadata": {
    "execution": {
     "iopub.execute_input": "2023-07-19T06:35:56.255295Z",
     "iopub.status.busy": "2023-07-19T06:35:56.255059Z",
     "iopub.status.idle": "2023-07-19T06:35:56.259694Z",
     "shell.execute_reply": "2023-07-19T06:35:56.259156Z"
    },
    "lines_to_next_cell": 0,
    "papermill": {
     "duration": 0.011527,
     "end_time": "2023-07-19T06:35:56.261569",
     "exception": false,
     "start_time": "2023-07-19T06:35:56.250042",
     "status": "completed"
    },
    "tags": []
   },
   "outputs": [],
   "source": [
    "# -----------------------------------------------------------------------"
   ]
  },
  {
   "cell_type": "markdown",
   "id": "15450b16",
   "metadata": {
    "papermill": {
     "duration": 0.003862,
     "end_time": "2023-07-19T06:35:56.269288",
     "exception": false,
     "start_time": "2023-07-19T06:35:56.265426",
     "status": "completed"
    },
    "tags": []
   },
   "source": [
    "---"
   ]
  },
  {
   "cell_type": "markdown",
   "id": "74fd5faf",
   "metadata": {
    "lines_to_next_cell": 2,
    "papermill": {
     "duration": 0.00552,
     "end_time": "2023-07-19T06:35:56.278986",
     "exception": false,
     "start_time": "2023-07-19T06:35:56.273466",
     "status": "completed"
    },
    "tags": []
   },
   "source": [
    "### Notebook code"
   ]
  },
  {
   "cell_type": "code",
   "execution_count": 5,
   "id": "650176bd",
   "metadata": {
    "execution": {
     "iopub.execute_input": "2023-07-19T06:35:56.289526Z",
     "iopub.status.busy": "2023-07-19T06:35:56.288011Z",
     "iopub.status.idle": "2023-07-19T06:35:57.274735Z",
     "shell.execute_reply": "2023-07-19T06:35:57.266910Z"
    },
    "papermill": {
     "duration": 0.995823,
     "end_time": "2023-07-19T06:35:57.278744",
     "exception": false,
     "start_time": "2023-07-19T06:35:56.282921",
     "status": "completed"
    },
    "tags": []
   },
   "outputs": [
    {
     "name": "stderr",
     "output_type": "stream",
     "text": [
      "2023-07-19 06:35:57,190\tINFO worker.py:1364 -- Connecting to existing Ray cluster at address: 172.17.0.2:56162...\n"
     ]
    },
    {
     "name": "stderr",
     "output_type": "stream",
     "text": [
      "2023-07-19 06:35:57,198\tINFO worker.py:1544 -- Connected to Ray cluster. View the dashboard at \u001b[1m\u001b[32mhttp://127.0.0.1:8265 \u001b[39m\u001b[22m\n"
     ]
    },
    {
     "name": "stderr",
     "output_type": "stream",
     "text": [
      "/home/host_user/.local/lib/python3.8/site-packages/ray/runtime_context.py:27: RayDeprecationWarning: This API is deprecated and may be removed in future Ray releases. You could suppress this warning by setting env variable PYTHONWARNINGS=\"ignore::DeprecationWarning\"\n",
      "Use get_job_id() instead\n",
      "  \"job_id\": self.job_id,\n",
      "/home/host_user/.local/lib/python3.8/site-packages/ray/runtime_context.py:28: RayDeprecationWarning: This API is deprecated and may be removed in future Ray releases. You could suppress this warning by setting env variable PYTHONWARNINGS=\"ignore::DeprecationWarning\"\n",
      "Use get_node_id() instead\n",
      "  \"node_id\": self.node_id,\n"
     ]
    }
   ],
   "source": [
    "import itertools as it\n",
    "\n",
    "#\n",
    "import numpy as np\n",
    "import matplotlib.pyplot as plt\n",
    "\n",
    "#\n",
    "from composable_logs.tasks.task_opentelemetry_logging import get_task_context\n",
    "\n",
    "#\n",
    "from common.io import datalake_root\n",
    "\n",
    "ctx = get_task_context(P)"
   ]
  },
  {
   "cell_type": "markdown",
   "id": "df4e8025",
   "metadata": {
    "papermill": {
     "duration": 0.00843,
     "end_time": "2023-07-19T06:35:57.296145",
     "exception": false,
     "start_time": "2023-07-19T06:35:57.287715",
     "status": "completed"
    },
    "tags": []
   },
   "source": [
    "## Load persisted onnx-model and evaluation data"
   ]
  },
  {
   "cell_type": "code",
   "execution_count": 6,
   "id": "737d8118",
   "metadata": {
    "execution": {
     "iopub.execute_input": "2023-07-19T06:35:57.306134Z",
     "iopub.status.busy": "2023-07-19T06:35:57.305857Z",
     "iopub.status.idle": "2023-07-19T06:35:57.310605Z",
     "shell.execute_reply": "2023-07-19T06:35:57.310006Z"
    },
    "papermill": {
     "duration": 0.011795,
     "end_time": "2023-07-19T06:35:57.312195",
     "exception": false,
     "start_time": "2023-07-19T06:35:57.300400",
     "status": "completed"
    },
    "tags": []
   },
   "outputs": [],
   "source": [
    "from common.io import read_onnx, get_onnx_inputs, get_onnx_outputs, read_numpy"
   ]
  },
  {
   "cell_type": "code",
   "execution_count": 7,
   "id": "e95d7b03",
   "metadata": {
    "execution": {
     "iopub.execute_input": "2023-07-19T06:35:57.322176Z",
     "iopub.status.busy": "2023-07-19T06:35:57.321935Z",
     "iopub.status.idle": "2023-07-19T06:35:57.331819Z",
     "shell.execute_reply": "2023-07-19T06:35:57.331277Z"
    },
    "lines_to_next_cell": 0,
    "papermill": {
     "duration": 0.016807,
     "end_time": "2023-07-19T06:35:57.333523",
     "exception": false,
     "start_time": "2023-07-19T06:35:57.316716",
     "status": "completed"
    },
    "tags": []
   },
   "outputs": [],
   "source": [
    "onnx_inference_session = read_onnx(\n",
    "    datalake_root(ctx)\n",
    "    / \"models\"\n",
    "    / f\"nr_train_images={ctx.parameters['task.nr_train_images']}\"\n",
    "    / \"model.onnx\"\n",
    ")"
   ]
  },
  {
   "cell_type": "markdown",
   "id": "4e64cabd",
   "metadata": {
    "papermill": {
     "duration": 0.004001,
     "end_time": "2023-07-19T06:35:57.341683",
     "exception": false,
     "start_time": "2023-07-19T06:35:57.337682",
     "status": "completed"
    },
    "tags": []
   },
   "source": [
    "### Record structure of inputs and outputs for ONNX model\n",
    "\n",
    "(this should likely be done in training notebook)"
   ]
  },
  {
   "cell_type": "code",
   "execution_count": 8,
   "id": "276950e7",
   "metadata": {
    "execution": {
     "iopub.execute_input": "2023-07-19T06:35:57.351287Z",
     "iopub.status.busy": "2023-07-19T06:35:57.351038Z",
     "iopub.status.idle": "2023-07-19T06:35:57.358070Z",
     "shell.execute_reply": "2023-07-19T06:35:57.357345Z"
    },
    "papermill": {
     "duration": 0.014222,
     "end_time": "2023-07-19T06:35:57.360024",
     "exception": false,
     "start_time": "2023-07-19T06:35:57.345802",
     "status": "completed"
    },
    "tags": []
   },
   "outputs": [
    {
     "name": "stdout",
     "output_type": "stream",
     "text": [
      "{\n",
      "  \"inputs\": [\n",
      "    {\n",
      "      \"name\": \"float_input_8x8_image\",\n",
      "      \"shape\": [\n",
      "        null,\n",
      "        64\n",
      "      ],\n",
      "      \"type\": \"tensor(float)\"\n",
      "    }\n",
      "  ],\n",
      "  \"outputs\": [\n",
      "    {\n",
      "      \"name\": \"output_label\",\n",
      "      \"shape\": [\n",
      "        null\n",
      "      ],\n",
      "      \"type\": \"tensor(int64)\"\n",
      "    },\n",
      "    {\n",
      "      \"name\": \"output_probability\",\n",
      "      \"shape\": [],\n",
      "      \"type\": \"seq(map(int64,tensor(float)))\"\n",
      "    }\n",
      "  ]\n",
      "}\n"
     ]
    }
   ],
   "source": [
    "import json\n",
    "\n",
    "onnx_io = json.dumps(\n",
    "    {\n",
    "        \"inputs\": get_onnx_inputs(onnx_inference_session),\n",
    "        \"outputs\": get_onnx_outputs(onnx_inference_session),\n",
    "    },\n",
    "    indent=2,\n",
    ")\n",
    "\n",
    "\n",
    "ctx.log_artefact(\"onnx_io_structure.json\", onnx_io)\n",
    "print(onnx_io)"
   ]
  },
  {
   "cell_type": "markdown",
   "id": "12c349f5",
   "metadata": {
    "papermill": {
     "duration": 0.004211,
     "end_time": "2023-07-19T06:35:57.369220",
     "exception": false,
     "start_time": "2023-07-19T06:35:57.365009",
     "status": "completed"
    },
    "tags": []
   },
   "source": [
    "### Evaluate model performance on evaluation data set"
   ]
  },
  {
   "cell_type": "code",
   "execution_count": 9,
   "id": "f4d006ba",
   "metadata": {
    "execution": {
     "iopub.execute_input": "2023-07-19T06:35:57.394895Z",
     "iopub.status.busy": "2023-07-19T06:35:57.394598Z",
     "iopub.status.idle": "2023-07-19T06:35:57.399404Z",
     "shell.execute_reply": "2023-07-19T06:35:57.398764Z"
    },
    "papermill": {
     "duration": 0.02779,
     "end_time": "2023-07-19T06:35:57.401470",
     "exception": false,
     "start_time": "2023-07-19T06:35:57.373680",
     "status": "completed"
    },
    "tags": []
   },
   "outputs": [],
   "source": [
    "# load evaluation data\n",
    "X_test = read_numpy(datalake_root(ctx) / \"test-data\" / \"digits.numpy\")\n",
    "y_test = read_numpy(datalake_root(ctx) / \"test-data\" / \"labels.numpy\")"
   ]
  },
  {
   "cell_type": "code",
   "execution_count": 10,
   "id": "91b76517",
   "metadata": {
    "execution": {
     "iopub.execute_input": "2023-07-19T06:35:57.411743Z",
     "iopub.status.busy": "2023-07-19T06:35:57.411480Z",
     "iopub.status.idle": "2023-07-19T06:35:57.425268Z",
     "shell.execute_reply": "2023-07-19T06:35:57.424729Z"
    },
    "papermill": {
     "duration": 0.021091,
     "end_time": "2023-07-19T06:35:57.427094",
     "exception": false,
     "start_time": "2023-07-19T06:35:57.406003",
     "status": "completed"
    },
    "tags": []
   },
   "outputs": [],
   "source": [
    "def get_model_outputs(X, onnx_inference_session):\n",
    "    y_pred_labels, y_pred_map = onnx_inference_session.run(\n",
    "        [\"output_label\", \"output_probability\"],\n",
    "        {\"float_input_8x8_image\": X.astype(np.float32)},\n",
    "    )\n",
    "    y_pred_probs = np.array(\n",
    "        [[probabilities[digit] for digit in range(10)] for probabilities in y_pred_map]\n",
    "    )\n",
    "\n",
    "    assert y_pred_labels.shape == (X.shape[0],)\n",
    "    assert y_pred_probs.shape == (X.shape[0], 10)\n",
    "\n",
    "    return y_pred_labels, y_pred_probs\n",
    "\n",
    "\n",
    "# Note: as shown in the training notebook, the predicted labels and probabilities\n",
    "# computed below need not be compatible.\n",
    "y_pred_labels_test, y_pred_probs_test = get_model_outputs(\n",
    "    X_test, onnx_inference_session\n",
    ")"
   ]
  },
  {
   "cell_type": "markdown",
   "id": "b311ae30",
   "metadata": {
    "papermill": {
     "duration": 0.004214,
     "end_time": "2023-07-19T06:35:57.436005",
     "exception": false,
     "start_time": "2023-07-19T06:35:57.431791",
     "status": "completed"
    },
    "tags": []
   },
   "source": [
    "### Confusion matrix"
   ]
  },
  {
   "cell_type": "code",
   "execution_count": 11,
   "id": "f14f847f",
   "metadata": {
    "execution": {
     "iopub.execute_input": "2023-07-19T06:35:57.445916Z",
     "iopub.status.busy": "2023-07-19T06:35:57.445638Z",
     "iopub.status.idle": "2023-07-19T06:35:57.449864Z",
     "shell.execute_reply": "2023-07-19T06:35:57.449306Z"
    },
    "papermill": {
     "duration": 0.011216,
     "end_time": "2023-07-19T06:35:57.451497",
     "exception": false,
     "start_time": "2023-07-19T06:35:57.440281",
     "status": "completed"
    },
    "tags": []
   },
   "outputs": [],
   "source": [
    "# TODO"
   ]
  },
  {
   "cell_type": "markdown",
   "id": "bfda8767",
   "metadata": {
    "papermill": {
     "duration": 0.004274,
     "end_time": "2023-07-19T06:35:57.460358",
     "exception": false,
     "start_time": "2023-07-19T06:35:57.456084",
     "status": "completed"
    },
    "tags": []
   },
   "source": [
    "### Plot predicted probabilities for each classifier over all evaluation digit images"
   ]
  },
  {
   "cell_type": "code",
   "execution_count": 12,
   "id": "eea007f6",
   "metadata": {
    "execution": {
     "iopub.execute_input": "2023-07-19T06:35:57.471215Z",
     "iopub.status.busy": "2023-07-19T06:35:57.470946Z",
     "iopub.status.idle": "2023-07-19T06:36:01.090480Z",
     "shell.execute_reply": "2023-07-19T06:36:01.089644Z"
    },
    "papermill": {
     "duration": 3.627607,
     "end_time": "2023-07-19T06:36:01.092235",
     "exception": false,
     "start_time": "2023-07-19T06:35:57.464628",
     "status": "completed"
    },
    "tags": []
   },
   "outputs": [
    {
     "data": {
      "image/png": "[encoded data removed]",
      "text/plain": [
       "<Figure size 1600x600 with 10 Axes>"
      ]
     },
     "metadata": {},
     "output_type": "display_data"
    }
   ],
   "source": [
    "def plot_per_digit_probabilities(y_pred_probs):\n",
    "    fig, axs = plt.subplots(nrows=2, ncols=5, figsize=(16, 6))\n",
    "\n",
    "    for (r, c), digit, ax in zip(\n",
    "        it.product(range(2), range(5)), range(10), axs.reshape(-1)\n",
    "    ):\n",
    "        ax.hist(y_pred_probs_test[:, digit], bins=20)\n",
    "\n",
    "        ax.set_title(f\"Digit {digit}\")\n",
    "        if r == 1 and c == 2:\n",
    "            ax.set_xlabel(\"probability\", fontsize=16)\n",
    "\n",
    "        if c == 0:\n",
    "            ax.set_ylabel(\"counts\", fontsize=16)\n",
    "        ax.set_yscale(\"log\")\n",
    "\n",
    "    fig.tight_layout()\n",
    "    fig.suptitle(\n",
    "        f\"Distributions of prediction probabilities for each digit \"\n",
    "        f\"(on evaluation data, n={y_pred_probs.shape[0]})\",\n",
    "        fontsize=20,\n",
    "    )\n",
    "    fig.tight_layout()\n",
    "    fig.show()\n",
    "\n",
    "    return fig\n",
    "\n",
    "\n",
    "fig = plot_per_digit_probabilities(y_pred_probs_test)"
   ]
  },
  {
   "cell_type": "markdown",
   "id": "00486188",
   "metadata": {
    "papermill": {
     "duration": 0.005032,
     "end_time": "2023-07-19T06:36:01.104666",
     "exception": false,
     "start_time": "2023-07-19T06:36:01.099634",
     "status": "completed"
    },
    "tags": []
   },
   "source": [
    "From the above distributions we see that most digits have clear separation between\n",
    "high and lower probabilities. Morover, in each case there is roughly an order of\n",
    "magnitude more of digits with low probabilities. This is compatible with digits\n",
    "being roughly evenly distributed in the data."
   ]
  },
  {
   "cell_type": "code",
   "execution_count": 13,
   "id": "39dc0741",
   "metadata": {
    "execution": {
     "iopub.execute_input": "2023-07-19T06:36:01.116262Z",
     "iopub.status.busy": "2023-07-19T06:36:01.115990Z",
     "iopub.status.idle": "2023-07-19T06:36:01.745913Z",
     "shell.execute_reply": "2023-07-19T06:36:01.745326Z"
    },
    "papermill": {
     "duration": 0.638361,
     "end_time": "2023-07-19T06:36:01.748099",
     "exception": false,
     "start_time": "2023-07-19T06:36:01.109738",
     "status": "completed"
    },
    "tags": []
   },
   "outputs": [],
   "source": [
    "ctx.log_figure(\"per-digit-probabilities.png\", fig)"
   ]
  },
  {
   "cell_type": "markdown",
   "id": "ff1e16a8",
   "metadata": {
    "papermill": {
     "duration": 0.00546,
     "end_time": "2023-07-19T06:36:01.759075",
     "exception": false,
     "start_time": "2023-07-19T06:36:01.753615",
     "status": "completed"
    },
    "tags": []
   },
   "source": [
    "### Plot ROC curves for individual one-vs-rest classifiers"
   ]
  },
  {
   "cell_type": "code",
   "execution_count": 14,
   "id": "c32cc17c",
   "metadata": {
    "execution": {
     "iopub.execute_input": "2023-07-19T06:36:01.772694Z",
     "iopub.status.busy": "2023-07-19T06:36:01.770972Z",
     "iopub.status.idle": "2023-07-19T06:36:02.077431Z",
     "shell.execute_reply": "2023-07-19T06:36:02.076815Z"
    },
    "papermill": {
     "duration": 0.31503,
     "end_time": "2023-07-19T06:36:02.079574",
     "exception": false,
     "start_time": "2023-07-19T06:36:01.764544",
     "status": "completed"
    },
    "tags": []
   },
   "outputs": [],
   "source": [
    "from sklearn import metrics"
   ]
  },
  {
   "cell_type": "code",
   "execution_count": 15,
   "id": "dec06d87",
   "metadata": {
    "execution": {
     "iopub.execute_input": "2023-07-19T06:36:02.091713Z",
     "iopub.status.busy": "2023-07-19T06:36:02.091443Z",
     "iopub.status.idle": "2023-07-19T06:36:03.899167Z",
     "shell.execute_reply": "2023-07-19T06:36:03.898568Z"
    },
    "papermill": {
     "duration": 1.817389,
     "end_time": "2023-07-19T06:36:03.902617",
     "exception": false,
     "start_time": "2023-07-19T06:36:02.085228",
     "status": "completed"
    },
    "tags": []
   },
   "outputs": [
    {
     "data": {
      "image/png": "[encoded data removed]",
      "text/plain": [
       "<Figure size 1600x800 with 10 Axes>"
      ]
     },
     "metadata": {},
     "output_type": "display_data"
    }
   ],
   "source": [
    "def plot_roc_curves(y, y_pred_probs):\n",
    "    # based on example code\n",
    "    # https://scikit-learn.org/stable/auto_examples/model_selection/plot_roc.html\n",
    "\n",
    "    fig, axs = plt.subplots(nrows=2, ncols=5, figsize=(16, 8))\n",
    "\n",
    "    roc_auc_dict = {}\n",
    "\n",
    "    for (r, c), digit, ax in zip(\n",
    "        it.product(range(2), range(5)), range(10), axs.reshape(-1)\n",
    "    ):\n",
    "        fpr, tpr, _ = metrics.roc_curve(y == digit, y_pred_probs[:, digit])\n",
    "        auc = metrics.auc(fpr, tpr)\n",
    "        roc_auc_dict[str(digit)] = auc\n",
    "\n",
    "        ax.plot(fpr, tpr, label=f\"ROC AUC={round(auc, 3)}\")\n",
    "\n",
    "        ax.set_title(f\"\\nDigit {digit}\", fontsize=16)\n",
    "        if r == 1:\n",
    "            ax.set_xlabel(\"FPR\", fontsize=18)\n",
    "\n",
    "        if c == 0:\n",
    "            ax.set_ylabel(\"TPR\", fontsize=18)\n",
    "\n",
    "        ax.set_xlim([-0.05, 1.05])\n",
    "        ax.set_ylim([-0.05, 1.05])\n",
    "        ax.legend(loc=\"lower right\", frameon=False, fontsize=14)\n",
    "\n",
    "    fig.tight_layout()\n",
    "    fig.suptitle(\n",
    "        f\"ROC plots for one-vs-rest performances \"\n",
    "        f\"(on evaluation data, n={y_pred_probs_test.shape[1]}\",\n",
    "        fontsize=22,\n",
    "    )\n",
    "    fig.tight_layout()\n",
    "    fig.show()\n",
    "\n",
    "    return roc_auc_dict, fig\n",
    "\n",
    "\n",
    "roc_auc_dict, fig = plot_roc_curves(y_test, y_pred_probs_test)"
   ]
  },
  {
   "cell_type": "code",
   "execution_count": 16,
   "id": "9efd8457",
   "metadata": {
    "execution": {
     "iopub.execute_input": "2023-07-19T06:36:03.916987Z",
     "iopub.status.busy": "2023-07-19T06:36:03.916706Z",
     "iopub.status.idle": "2023-07-19T06:36:04.250800Z",
     "shell.execute_reply": "2023-07-19T06:36:04.247754Z"
    },
    "papermill": {
     "duration": 0.343578,
     "end_time": "2023-07-19T06:36:04.252664",
     "exception": false,
     "start_time": "2023-07-19T06:36:03.909086",
     "status": "completed"
    },
    "tags": []
   },
   "outputs": [],
   "source": [
    "ctx.log_figure(\"per-digit-roc-curves.png\", fig)"
   ]
  },
  {
   "cell_type": "code",
   "execution_count": 17,
   "id": "9d1fc39a",
   "metadata": {
    "execution": {
     "iopub.execute_input": "2023-07-19T06:36:04.268284Z",
     "iopub.status.busy": "2023-07-19T06:36:04.268003Z",
     "iopub.status.idle": "2023-07-19T06:36:04.274743Z",
     "shell.execute_reply": "2023-07-19T06:36:04.274158Z"
    },
    "papermill": {
     "duration": 0.016918,
     "end_time": "2023-07-19T06:36:04.276345",
     "exception": false,
     "start_time": "2023-07-19T06:36:04.259427",
     "status": "completed"
    },
    "tags": []
   },
   "outputs": [
    {
     "data": {
      "text/plain": [
       "{'0': 1.0,\n",
       " '1': 0.9990627928772259,\n",
       " '2': 1.0,\n",
       " '3': 0.9998500468603562,\n",
       " '4': 0.9997713763145861,\n",
       " '5': 0.9996626054358013,\n",
       " '6': 0.999923792104862,\n",
       " '7': 0.9998475842097242,\n",
       " '8': 0.99562578814628,\n",
       " '9': 0.9997713763145862}"
      ]
     },
     "execution_count": 17,
     "metadata": {},
     "output_type": "execute_result"
    }
   ],
   "source": [
    "roc_auc_dict"
   ]
  },
  {
   "cell_type": "code",
   "execution_count": 18,
   "id": "ac6c86ed",
   "metadata": {
    "execution": {
     "iopub.execute_input": "2023-07-19T06:36:04.291427Z",
     "iopub.status.busy": "2023-07-19T06:36:04.291149Z",
     "iopub.status.idle": "2023-07-19T06:36:04.298513Z",
     "shell.execute_reply": "2023-07-19T06:36:04.297895Z"
    },
    "papermill": {
     "duration": 0.017078,
     "end_time": "2023-07-19T06:36:04.300046",
     "exception": false,
     "start_time": "2023-07-19T06:36:04.282968",
     "status": "completed"
    },
    "tags": []
   },
   "outputs": [
    {
     "name": "stdout",
     "output_type": "stream",
     "text": [
      " - Logging roc_auc_per_digit (json) : {'0': 1.0, '1': 0.9990627928772259, '2': 1.0, '3': 0.9998500468603562, '4': 0.9997713763145861, '5': 0.9996626054358013, '6': 0.999923792104862, '7': 0.9998475842097242, '8': 0.99562578814628, '9': 0.9997713763145862}\n"
     ]
    }
   ],
   "source": [
    "ctx.log_value(\"roc_auc_per_digit\", roc_auc_dict)"
   ]
  },
  {
   "cell_type": "markdown",
   "id": "9eab0369",
   "metadata": {
    "papermill": {
     "duration": 0.006599,
     "end_time": "2023-07-19T06:36:04.312951",
     "exception": false,
     "start_time": "2023-07-19T06:36:04.306352",
     "status": "completed"
    },
    "tags": []
   },
   "source": [
    "### Compute and log mean ROC AUC score averaged over all digits"
   ]
  },
  {
   "cell_type": "code",
   "execution_count": 19,
   "id": "9774ba05",
   "metadata": {
    "execution": {
     "iopub.execute_input": "2023-07-19T06:36:04.327124Z",
     "iopub.status.busy": "2023-07-19T06:36:04.326849Z",
     "iopub.status.idle": "2023-07-19T06:36:04.339774Z",
     "shell.execute_reply": "2023-07-19T06:36:04.339200Z"
    },
    "papermill": {
     "duration": 0.02213,
     "end_time": "2023-07-19T06:36:04.341404",
     "exception": false,
     "start_time": "2023-07-19T06:36:04.319274",
     "status": "completed"
    },
    "tags": []
   },
   "outputs": [
    {
     "name": "stdout",
     "output_type": "stream",
     "text": [
      " - Logging roc_auc_class_mean (float) : 0.9993515362263421\n"
     ]
    }
   ],
   "source": [
    "roc_auc_macro = np.mean(list(roc_auc_dict.values()))\n",
    "\n",
    "ctx.log_float(\"roc_auc_class_mean\", roc_auc_macro)\n",
    "\n",
    "# assert that the same value can be computed directly using sklearn\n",
    "assert roc_auc_macro == metrics.roc_auc_score(\n",
    "    y_test, y_pred_probs_test, average=\"macro\", multi_class=\"ovr\"\n",
    ")"
   ]
  },
  {
   "cell_type": "code",
   "execution_count": 20,
   "id": "802ad289",
   "metadata": {
    "execution": {
     "iopub.execute_input": "2023-07-19T06:36:04.357972Z",
     "iopub.status.busy": "2023-07-19T06:36:04.357658Z",
     "iopub.status.idle": "2023-07-19T06:36:04.365356Z",
     "shell.execute_reply": "2023-07-19T06:36:04.364775Z"
    },
    "lines_to_next_cell": 0,
    "papermill": {
     "duration": 0.01906,
     "end_time": "2023-07-19T06:36:04.367055",
     "exception": false,
     "start_time": "2023-07-19T06:36:04.347995",
     "status": "completed"
    },
    "tags": []
   },
   "outputs": [],
   "source": [
    "# ---"
   ]
  },
  {
   "cell_type": "code",
   "execution_count": null,
   "id": "a6fdf0c9",
   "metadata": {
    "papermill": {
     "duration": 0.006644,
     "end_time": "2023-07-19T06:36:04.380243",
     "exception": false,
     "start_time": "2023-07-19T06:36:04.373599",
     "status": "completed"
    },
    "tags": []
   },
   "outputs": [],
   "source": []
  }
 ],
 "metadata": {
  "jupytext": {
   "cell_metadata_filter": "tags,-all",
   "main_language": "python",
   "notebook_metadata_filter": "-all"
  },
  "language_info": {
   "codemirror_mode": {
    "name": "ipython",
    "version": 3
   },
   "file_extension": ".py",
   "mimetype": "text/x-python",
   "name": "python",
   "nbconvert_exporter": "python",
   "pygments_lexer": "ipython3",
   "version": "3.8.10"
  },
  "papermill": {
   "default_parameters": {},
   "duration": 11.59156,
   "end_time": "2023-07-19T06:36:06.427655",
   "environment_variables": {},
   "exception": null,
   "input_path": "/tmp/temp-notebook-qh43lm1y.ipynb",
   "output_path": "/tmp/temp-notebook-qh43lm1y.ipynb",
   "parameters": {
    "P": {
     "_parameters_actor_name": "parameter_for_task_0xa004c1070bb7615c",
     "task.nr_train_images": 1200
    }
   },
   "start_time": "2023-07-19T06:35:54.836095",
   "version": "2.4.0"
  }
 },
 "nbformat": 4,
 "nbformat_minor": 5
}