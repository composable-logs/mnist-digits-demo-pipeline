{
 "cells": [
  {
   "cell_type": "markdown",
   "id": "3b7b9615",
   "metadata": {
    "papermill": {
     "duration": 0.007189,
     "end_time": "2023-07-20T06:35:28.918327",
     "exception": false,
     "start_time": "2023-07-20T06:35:28.911138",
     "status": "completed"
    },
    "tags": []
   },
   "source": [
    "# Benchmark model\n",
    "\n",
    "The purpose of this notebook is to benchmark persisted onnx-model (trained in the\n",
    "previous step) against evaluation set."
   ]
  },
  {
   "cell_type": "markdown",
   "id": "b025dd1e",
   "metadata": {
    "papermill": {
     "duration": 0.00398,
     "end_time": "2023-07-20T06:35:28.928867",
     "exception": false,
     "start_time": "2023-07-20T06:35:28.924887",
     "status": "completed"
    },
    "tags": []
   },
   "source": [
    "### Determine run parameters"
   ]
  },
  {
   "cell_type": "code",
   "execution_count": 1,
   "id": "310f24f8",
   "metadata": {
    "execution": {
     "iopub.execute_input": "2023-07-20T06:35:28.938871Z",
     "iopub.status.busy": "2023-07-20T06:35:28.938569Z",
     "iopub.status.idle": "2023-07-20T06:35:28.948406Z",
     "shell.execute_reply": "2023-07-20T06:35:28.947751Z"
    },
    "lines_to_next_cell": 0,
    "papermill": {
     "duration": 0.017896,
     "end_time": "2023-07-20T06:35:28.950731",
     "exception": false,
     "start_time": "2023-07-20T06:35:28.932835",
     "status": "completed"
    },
    "tags": []
   },
   "outputs": [],
   "source": [
    "# ----------------- Parameters for interactive development --------------\n",
    "P = {\n",
    "    \"workflow.data_lake_root\": \"/pipeline-outputs/data-lake\",\n",
    "    \"task.nr_train_images\": 600,\n",
    "}"
   ]
  },
  {
   "cell_type": "code",
   "execution_count": 2,
   "id": "44cbfef1",
   "metadata": {
    "execution": {
     "iopub.execute_input": "2023-07-20T06:35:28.960590Z",
     "iopub.status.busy": "2023-07-20T06:35:28.960320Z",
     "iopub.status.idle": "2023-07-20T06:35:28.965096Z",
     "shell.execute_reply": "2023-07-20T06:35:28.964506Z"
    },
    "lines_to_next_cell": 0,
    "papermill": {
     "duration": 0.012016,
     "end_time": "2023-07-20T06:35:28.966912",
     "exception": false,
     "start_time": "2023-07-20T06:35:28.954896",
     "status": "completed"
    },
    "tags": [
     "parameters"
    ]
   },
   "outputs": [],
   "source": [
    "# - During automated runs parameters will be injected in the below cell -"
   ]
  },
  {
   "cell_type": "code",
   "execution_count": 3,
   "id": "50aad372",
   "metadata": {
    "execution": {
     "iopub.execute_input": "2023-07-20T06:35:28.976307Z",
     "iopub.status.busy": "2023-07-20T06:35:28.976072Z",
     "iopub.status.idle": "2023-07-20T06:35:28.980504Z",
     "shell.execute_reply": "2023-07-20T06:35:28.979972Z"
    },
    "papermill": {
     "duration": 0.011427,
     "end_time": "2023-07-20T06:35:28.982295",
     "exception": false,
     "start_time": "2023-07-20T06:35:28.970868",
     "status": "completed"
    },
    "tags": [
     "injected-parameters"
    ]
   },
   "outputs": [],
   "source": [
    "# Parameters\n",
    "P = {\n",
    "    \"task.nr_train_images\": 600,\n",
    "    \"_parameters_actor_name\": \"parameter_for_task_0xed9dc8d376283bf5\",\n",
    "}\n"
   ]
  },
  {
   "cell_type": "code",
   "execution_count": 4,
   "id": "0d6e1926",
   "metadata": {
    "execution": {
     "iopub.execute_input": "2023-07-20T06:35:28.991752Z",
     "iopub.status.busy": "2023-07-20T06:35:28.991518Z",
     "iopub.status.idle": "2023-07-20T06:35:28.995207Z",
     "shell.execute_reply": "2023-07-20T06:35:28.994660Z"
    },
    "lines_to_next_cell": 0,
    "papermill": {
     "duration": 0.010443,
     "end_time": "2023-07-20T06:35:28.996869",
     "exception": false,
     "start_time": "2023-07-20T06:35:28.986426",
     "status": "completed"
    },
    "tags": []
   },
   "outputs": [],
   "source": [
    "# -----------------------------------------------------------------------"
   ]
  },
  {
   "cell_type": "markdown",
   "id": "ba2cf324",
   "metadata": {
    "papermill": {
     "duration": 0.004293,
     "end_time": "2023-07-20T06:35:29.005528",
     "exception": false,
     "start_time": "2023-07-20T06:35:29.001235",
     "status": "completed"
    },
    "tags": []
   },
   "source": [
    "---"
   ]
  },
  {
   "cell_type": "markdown",
   "id": "45f66343",
   "metadata": {
    "lines_to_next_cell": 2,
    "papermill": {
     "duration": 0.010607,
     "end_time": "2023-07-20T06:35:29.020260",
     "exception": false,
     "start_time": "2023-07-20T06:35:29.009653",
     "status": "completed"
    },
    "tags": []
   },
   "source": [
    "### Notebook code"
   ]
  },
  {
   "cell_type": "code",
   "execution_count": 5,
   "id": "b5ccd1e5",
   "metadata": {
    "execution": {
     "iopub.execute_input": "2023-07-20T06:35:29.030892Z",
     "iopub.status.busy": "2023-07-20T06:35:29.030597Z",
     "iopub.status.idle": "2023-07-20T06:35:30.143842Z",
     "shell.execute_reply": "2023-07-20T06:35:30.143119Z"
    },
    "papermill": {
     "duration": 1.129933,
     "end_time": "2023-07-20T06:35:30.154747",
     "exception": false,
     "start_time": "2023-07-20T06:35:29.024814",
     "status": "completed"
    },
    "tags": []
   },
   "outputs": [
    {
     "name": "stderr",
     "output_type": "stream",
     "text": [
      "2023-07-20 06:35:30,062\tINFO worker.py:1364 -- Connecting to existing Ray cluster at address: 172.17.0.2:65120...\n"
     ]
    },
    {
     "name": "stderr",
     "output_type": "stream",
     "text": [
      "2023-07-20 06:35:30,074\tINFO worker.py:1544 -- Connected to Ray cluster. View the dashboard at \u001b[1m\u001b[32mhttp://127.0.0.1:8265 \u001b[39m\u001b[22m\n"
     ]
    },
    {
     "name": "stderr",
     "output_type": "stream",
     "text": [
      "/home/host_user/.local/lib/python3.8/site-packages/ray/runtime_context.py:27: RayDeprecationWarning: This API is deprecated and may be removed in future Ray releases. You could suppress this warning by setting env variable PYTHONWARNINGS=\"ignore::DeprecationWarning\"\n",
      "Use get_job_id() instead\n",
      "  \"job_id\": self.job_id,\n",
      "/home/host_user/.local/lib/python3.8/site-packages/ray/runtime_context.py:28: RayDeprecationWarning: This API is deprecated and may be removed in future Ray releases. You could suppress this warning by setting env variable PYTHONWARNINGS=\"ignore::DeprecationWarning\"\n",
      "Use get_node_id() instead\n",
      "  \"node_id\": self.node_id,\n"
     ]
    }
   ],
   "source": [
    "import itertools as it\n",
    "\n",
    "#\n",
    "import numpy as np\n",
    "import matplotlib.pyplot as plt\n",
    "\n",
    "#\n",
    "from composable_logs.tasks.task_opentelemetry_logging import get_task_context\n",
    "\n",
    "#\n",
    "from common.io import datalake_root\n",
    "\n",
    "ctx = get_task_context(P)"
   ]
  },
  {
   "cell_type": "markdown",
   "id": "443e1e07",
   "metadata": {
    "papermill": {
     "duration": 0.004353,
     "end_time": "2023-07-20T06:35:30.164225",
     "exception": false,
     "start_time": "2023-07-20T06:35:30.159872",
     "status": "completed"
    },
    "tags": []
   },
   "source": [
    "## Load persisted onnx-model and evaluation data"
   ]
  },
  {
   "cell_type": "code",
   "execution_count": 6,
   "id": "50b800ea",
   "metadata": {
    "execution": {
     "iopub.execute_input": "2023-07-20T06:35:30.174703Z",
     "iopub.status.busy": "2023-07-20T06:35:30.174398Z",
     "iopub.status.idle": "2023-07-20T06:35:30.179390Z",
     "shell.execute_reply": "2023-07-20T06:35:30.178566Z"
    },
    "papermill": {
     "duration": 0.012641,
     "end_time": "2023-07-20T06:35:30.181146",
     "exception": false,
     "start_time": "2023-07-20T06:35:30.168505",
     "status": "completed"
    },
    "tags": []
   },
   "outputs": [],
   "source": [
    "from common.io import read_onnx, get_onnx_inputs, get_onnx_outputs, read_numpy"
   ]
  },
  {
   "cell_type": "code",
   "execution_count": 7,
   "id": "1b8c7f63",
   "metadata": {
    "execution": {
     "iopub.execute_input": "2023-07-20T06:35:30.190816Z",
     "iopub.status.busy": "2023-07-20T06:35:30.190575Z",
     "iopub.status.idle": "2023-07-20T06:35:30.199667Z",
     "shell.execute_reply": "2023-07-20T06:35:30.199074Z"
    },
    "lines_to_next_cell": 0,
    "papermill": {
     "duration": 0.01596,
     "end_time": "2023-07-20T06:35:30.201335",
     "exception": false,
     "start_time": "2023-07-20T06:35:30.185375",
     "status": "completed"
    },
    "tags": []
   },
   "outputs": [],
   "source": [
    "onnx_inference_session = read_onnx(\n",
    "    datalake_root(ctx)\n",
    "    / \"models\"\n",
    "    / f\"nr_train_images={ctx.parameters['task.nr_train_images']}\"\n",
    "    / \"model.onnx\"\n",
    ")"
   ]
  },
  {
   "cell_type": "markdown",
   "id": "cd49d0df",
   "metadata": {
    "papermill": {
     "duration": 0.004276,
     "end_time": "2023-07-20T06:35:30.209877",
     "exception": false,
     "start_time": "2023-07-20T06:35:30.205601",
     "status": "completed"
    },
    "tags": []
   },
   "source": [
    "### Record structure of inputs and outputs for ONNX model\n",
    "\n",
    "(this should likely be done in training notebook)"
   ]
  },
  {
   "cell_type": "code",
   "execution_count": 8,
   "id": "81af7aaa",
   "metadata": {
    "execution": {
     "iopub.execute_input": "2023-07-20T06:35:30.220191Z",
     "iopub.status.busy": "2023-07-20T06:35:30.219853Z",
     "iopub.status.idle": "2023-07-20T06:35:30.226732Z",
     "shell.execute_reply": "2023-07-20T06:35:30.226175Z"
    },
    "papermill": {
     "duration": 0.01412,
     "end_time": "2023-07-20T06:35:30.228397",
     "exception": false,
     "start_time": "2023-07-20T06:35:30.214277",
     "status": "completed"
    },
    "tags": []
   },
   "outputs": [
    {
     "name": "stdout",
     "output_type": "stream",
     "text": [
      "{\n",
      "  \"inputs\": [\n",
      "    {\n",
      "      \"name\": \"float_input_8x8_image\",\n",
      "      \"shape\": [\n",
      "        null,\n",
      "        64\n",
      "      ],\n",
      "      \"type\": \"tensor(float)\"\n",
      "    }\n",
      "  ],\n",
      "  \"outputs\": [\n",
      "    {\n",
      "      \"name\": \"output_label\",\n",
      "      \"shape\": [\n",
      "        null\n",
      "      ],\n",
      "      \"type\": \"tensor(int64)\"\n",
      "    },\n",
      "    {\n",
      "      \"name\": \"output_probability\",\n",
      "      \"shape\": [],\n",
      "      \"type\": \"seq(map(int64,tensor(float)))\"\n",
      "    }\n",
      "  ]\n",
      "}\n"
     ]
    }
   ],
   "source": [
    "import json\n",
    "\n",
    "onnx_io = json.dumps(\n",
    "    {\n",
    "        \"inputs\": get_onnx_inputs(onnx_inference_session),\n",
    "        \"outputs\": get_onnx_outputs(onnx_inference_session),\n",
    "    },\n",
    "    indent=2,\n",
    ")\n",
    "\n",
    "\n",
    "ctx.log_artefact(\"onnx_io_structure.json\", onnx_io)\n",
    "print(onnx_io)"
   ]
  },
  {
   "cell_type": "markdown",
   "id": "8293fca5",
   "metadata": {
    "papermill": {
     "duration": 0.004206,
     "end_time": "2023-07-20T06:35:30.236929",
     "exception": false,
     "start_time": "2023-07-20T06:35:30.232723",
     "status": "completed"
    },
    "tags": []
   },
   "source": [
    "### Evaluate model performance on evaluation data set"
   ]
  },
  {
   "cell_type": "code",
   "execution_count": 9,
   "id": "084ae90f",
   "metadata": {
    "execution": {
     "iopub.execute_input": "2023-07-20T06:35:30.247531Z",
     "iopub.status.busy": "2023-07-20T06:35:30.247248Z",
     "iopub.status.idle": "2023-07-20T06:35:30.253393Z",
     "shell.execute_reply": "2023-07-20T06:35:30.252815Z"
    },
    "papermill": {
     "duration": 0.016817,
     "end_time": "2023-07-20T06:35:30.258471",
     "exception": false,
     "start_time": "2023-07-20T06:35:30.241654",
     "status": "completed"
    },
    "tags": []
   },
   "outputs": [],
   "source": [
    "# load evaluation data\n",
    "X_test = read_numpy(datalake_root(ctx) / \"test-data\" / \"digits.numpy\")\n",
    "y_test = read_numpy(datalake_root(ctx) / \"test-data\" / \"labels.numpy\")"
   ]
  },
  {
   "cell_type": "code",
   "execution_count": 10,
   "id": "21a1fb65",
   "metadata": {
    "execution": {
     "iopub.execute_input": "2023-07-20T06:35:30.269743Z",
     "iopub.status.busy": "2023-07-20T06:35:30.269341Z",
     "iopub.status.idle": "2023-07-20T06:35:30.282823Z",
     "shell.execute_reply": "2023-07-20T06:35:30.282231Z"
    },
    "papermill": {
     "duration": 0.021449,
     "end_time": "2023-07-20T06:35:30.284730",
     "exception": false,
     "start_time": "2023-07-20T06:35:30.263281",
     "status": "completed"
    },
    "tags": []
   },
   "outputs": [],
   "source": [
    "def get_model_outputs(X, onnx_inference_session):\n",
    "    y_pred_labels, y_pred_map = onnx_inference_session.run(\n",
    "        [\"output_label\", \"output_probability\"],\n",
    "        {\"float_input_8x8_image\": X.astype(np.float32)},\n",
    "    )\n",
    "    y_pred_probs = np.array(\n",
    "        [[probabilities[digit] for digit in range(10)] for probabilities in y_pred_map]\n",
    "    )\n",
    "\n",
    "    assert y_pred_labels.shape == (X.shape[0],)\n",
    "    assert y_pred_probs.shape == (X.shape[0], 10)\n",
    "\n",
    "    return y_pred_labels, y_pred_probs\n",
    "\n",
    "\n",
    "# Note: as shown in the training notebook, the predicted labels and probabilities\n",
    "# computed below need not be compatible.\n",
    "y_pred_labels_test, y_pred_probs_test = get_model_outputs(\n",
    "    X_test, onnx_inference_session\n",
    ")"
   ]
  },
  {
   "cell_type": "markdown",
   "id": "44f4725f",
   "metadata": {
    "papermill": {
     "duration": 0.004412,
     "end_time": "2023-07-20T06:35:30.293760",
     "exception": false,
     "start_time": "2023-07-20T06:35:30.289348",
     "status": "completed"
    },
    "tags": []
   },
   "source": [
    "### Confusion matrix"
   ]
  },
  {
   "cell_type": "code",
   "execution_count": 11,
   "id": "15d407c4",
   "metadata": {
    "execution": {
     "iopub.execute_input": "2023-07-20T06:35:30.304381Z",
     "iopub.status.busy": "2023-07-20T06:35:30.304100Z",
     "iopub.status.idle": "2023-07-20T06:35:30.308421Z",
     "shell.execute_reply": "2023-07-20T06:35:30.307869Z"
    },
    "papermill": {
     "duration": 0.012,
     "end_time": "2023-07-20T06:35:30.310166",
     "exception": false,
     "start_time": "2023-07-20T06:35:30.298166",
     "status": "completed"
    },
    "tags": []
   },
   "outputs": [],
   "source": [
    "# TODO"
   ]
  },
  {
   "cell_type": "markdown",
   "id": "a734bb6d",
   "metadata": {
    "papermill": {
     "duration": 0.004456,
     "end_time": "2023-07-20T06:35:30.320632",
     "exception": false,
     "start_time": "2023-07-20T06:35:30.316176",
     "status": "completed"
    },
    "tags": []
   },
   "source": [
    "### Plot predicted probabilities for each classifier over all evaluation digit images"
   ]
  },
  {
   "cell_type": "code",
   "execution_count": 12,
   "id": "c33d998e",
   "metadata": {
    "execution": {
     "iopub.execute_input": "2023-07-20T06:35:30.330894Z",
     "iopub.status.busy": "2023-07-20T06:35:30.330616Z",
     "iopub.status.idle": "2023-07-20T06:35:34.684231Z",
     "shell.execute_reply": "2023-07-20T06:35:34.683549Z"
    },
    "papermill": {
     "duration": 4.364384,
     "end_time": "2023-07-20T06:35:34.689276",
     "exception": false,
     "start_time": "2023-07-20T06:35:30.324892",
     "status": "completed"
    },
    "tags": []
   },
   "outputs": [
    {
     "data": {
      "image/png": "[encoded data removed]",
      "text/plain": [
       "<Figure size 1600x600 with 10 Axes>"
      ]
     },
     "metadata": {},
     "output_type": "display_data"
    }
   ],
   "source": [
    "def plot_per_digit_probabilities(y_pred_probs):\n",
    "    fig, axs = plt.subplots(nrows=2, ncols=5, figsize=(16, 6))\n",
    "\n",
    "    for (r, c), digit, ax in zip(\n",
    "        it.product(range(2), range(5)), range(10), axs.reshape(-1)\n",
    "    ):\n",
    "        ax.hist(y_pred_probs_test[:, digit], bins=20)\n",
    "\n",
    "        ax.set_title(f\"Digit {digit}\")\n",
    "        if r == 1 and c == 2:\n",
    "            ax.set_xlabel(\"probability\", fontsize=16)\n",
    "\n",
    "        if c == 0:\n",
    "            ax.set_ylabel(\"counts\", fontsize=16)\n",
    "        ax.set_yscale(\"log\")\n",
    "\n",
    "    fig.tight_layout()\n",
    "    fig.suptitle(\n",
    "        f\"Distributions of prediction probabilities for each digit \"\n",
    "        f\"(on evaluation data, n={y_pred_probs.shape[0]})\",\n",
    "        fontsize=20,\n",
    "    )\n",
    "    fig.tight_layout()\n",
    "    fig.show()\n",
    "\n",
    "    return fig\n",
    "\n",
    "\n",
    "fig = plot_per_digit_probabilities(y_pred_probs_test)"
   ]
  },
  {
   "cell_type": "markdown",
   "id": "0308374b",
   "metadata": {
    "papermill": {
     "duration": 0.005448,
     "end_time": "2023-07-20T06:35:34.700245",
     "exception": false,
     "start_time": "2023-07-20T06:35:34.694797",
     "status": "completed"
    },
    "tags": []
   },
   "source": [
    "From the above distributions we see that most digits have clear separation between\n",
    "high and lower probabilities. Morover, in each case there is roughly an order of\n",
    "magnitude more of digits with low probabilities. This is compatible with digits\n",
    "being roughly evenly distributed in the data."
   ]
  },
  {
   "cell_type": "code",
   "execution_count": 13,
   "id": "8bf967c9",
   "metadata": {
    "execution": {
     "iopub.execute_input": "2023-07-20T06:35:34.712845Z",
     "iopub.status.busy": "2023-07-20T06:35:34.712527Z",
     "iopub.status.idle": "2023-07-20T06:35:35.397467Z",
     "shell.execute_reply": "2023-07-20T06:35:35.396827Z"
    },
    "papermill": {
     "duration": 0.694094,
     "end_time": "2023-07-20T06:35:35.399638",
     "exception": false,
     "start_time": "2023-07-20T06:35:34.705544",
     "status": "completed"
    },
    "tags": []
   },
   "outputs": [],
   "source": [
    "ctx.log_figure(\"per-digit-probabilities.png\", fig)"
   ]
  },
  {
   "cell_type": "markdown",
   "id": "1817f507",
   "metadata": {
    "papermill": {
     "duration": 0.005604,
     "end_time": "2023-07-20T06:35:35.411659",
     "exception": false,
     "start_time": "2023-07-20T06:35:35.406055",
     "status": "completed"
    },
    "tags": []
   },
   "source": [
    "### Plot ROC curves for individual one-vs-rest classifiers"
   ]
  },
  {
   "cell_type": "code",
   "execution_count": 14,
   "id": "edd8f902",
   "metadata": {
    "execution": {
     "iopub.execute_input": "2023-07-20T06:35:35.428346Z",
     "iopub.status.busy": "2023-07-20T06:35:35.428023Z",
     "iopub.status.idle": "2023-07-20T06:35:35.771911Z",
     "shell.execute_reply": "2023-07-20T06:35:35.769379Z"
    },
    "papermill": {
     "duration": 0.357264,
     "end_time": "2023-07-20T06:35:35.774806",
     "exception": false,
     "start_time": "2023-07-20T06:35:35.417542",
     "status": "completed"
    },
    "tags": []
   },
   "outputs": [],
   "source": [
    "from sklearn import metrics"
   ]
  },
  {
   "cell_type": "code",
   "execution_count": 15,
   "id": "3e554bc9",
   "metadata": {
    "execution": {
     "iopub.execute_input": "2023-07-20T06:35:35.788647Z",
     "iopub.status.busy": "2023-07-20T06:35:35.788345Z",
     "iopub.status.idle": "2023-07-20T06:35:37.845836Z",
     "shell.execute_reply": "2023-07-20T06:35:37.840326Z"
    },
    "papermill": {
     "duration": 2.068491,
     "end_time": "2023-07-20T06:35:37.849328",
     "exception": false,
     "start_time": "2023-07-20T06:35:35.780837",
     "status": "completed"
    },
    "tags": []
   },
   "outputs": [
    {
     "data": {
      "image/png": "[encoded data removed]",
      "text/plain": [
       "<Figure size 1600x800 with 10 Axes>"
      ]
     },
     "metadata": {},
     "output_type": "display_data"
    }
   ],
   "source": [
    "def plot_roc_curves(y, y_pred_probs):\n",
    "    # based on example code\n",
    "    # https://scikit-learn.org/stable/auto_examples/model_selection/plot_roc.html\n",
    "\n",
    "    fig, axs = plt.subplots(nrows=2, ncols=5, figsize=(16, 8))\n",
    "\n",
    "    roc_auc_dict = {}\n",
    "\n",
    "    for (r, c), digit, ax in zip(\n",
    "        it.product(range(2), range(5)), range(10), axs.reshape(-1)\n",
    "    ):\n",
    "        fpr, tpr, _ = metrics.roc_curve(y == digit, y_pred_probs[:, digit])\n",
    "        auc = metrics.auc(fpr, tpr)\n",
    "        roc_auc_dict[str(digit)] = auc\n",
    "\n",
    "        ax.plot(fpr, tpr, label=f\"ROC AUC={round(auc, 3)}\")\n",
    "\n",
    "        ax.set_title(f\"\\nDigit {digit}\", fontsize=16)\n",
    "        if r == 1:\n",
    "            ax.set_xlabel(\"FPR\", fontsize=18)\n",
    "\n",
    "        if c == 0:\n",
    "            ax.set_ylabel(\"TPR\", fontsize=18)\n",
    "\n",
    "        ax.set_xlim([-0.05, 1.05])\n",
    "        ax.set_ylim([-0.05, 1.05])\n",
    "        ax.legend(loc=\"lower right\", frameon=False, fontsize=14)\n",
    "\n",
    "    fig.tight_layout()\n",
    "    fig.suptitle(\n",
    "        f\"ROC plots for one-vs-rest performances \"\n",
    "        f\"(on evaluation data, n={y_pred_probs_test.shape[1]}\",\n",
    "        fontsize=22,\n",
    "    )\n",
    "    fig.tight_layout()\n",
    "    fig.show()\n",
    "\n",
    "    return roc_auc_dict, fig\n",
    "\n",
    "\n",
    "roc_auc_dict, fig = plot_roc_curves(y_test, y_pred_probs_test)"
   ]
  },
  {
   "cell_type": "code",
   "execution_count": 16,
   "id": "412bebfe",
   "metadata": {
    "execution": {
     "iopub.execute_input": "2023-07-20T06:35:37.869593Z",
     "iopub.status.busy": "2023-07-20T06:35:37.869297Z",
     "iopub.status.idle": "2023-07-20T06:35:38.207971Z",
     "shell.execute_reply": "2023-07-20T06:35:38.207216Z"
    },
    "papermill": {
     "duration": 0.35392,
     "end_time": "2023-07-20T06:35:38.210687",
     "exception": false,
     "start_time": "2023-07-20T06:35:37.856767",
     "status": "completed"
    },
    "tags": []
   },
   "outputs": [],
   "source": [
    "ctx.log_figure(\"per-digit-roc-curves.png\", fig)"
   ]
  },
  {
   "cell_type": "code",
   "execution_count": 17,
   "id": "85eb4006",
   "metadata": {
    "execution": {
     "iopub.execute_input": "2023-07-20T06:35:38.225064Z",
     "iopub.status.busy": "2023-07-20T06:35:38.224787Z",
     "iopub.status.idle": "2023-07-20T06:35:38.231546Z",
     "shell.execute_reply": "2023-07-20T06:35:38.230937Z"
    },
    "papermill": {
     "duration": 0.016041,
     "end_time": "2023-07-20T06:35:38.233150",
     "exception": false,
     "start_time": "2023-07-20T06:35:38.217109",
     "status": "completed"
    },
    "tags": []
   },
   "outputs": [
    {
     "data": {
      "text/plain": [
       "{'0': 1.0,\n",
       " '1': 0.9992127460168697,\n",
       " '2': 1.0,\n",
       " '3': 0.9997000937207123,\n",
       " '4': 0.9991617131534827,\n",
       " '5': 0.9987628865979382,\n",
       " '6': 0.999923792104862,\n",
       " '7': 0.9998475842097241,\n",
       " '8': 0.9941677175283733,\n",
       " '9': 0.9988568815729311}"
      ]
     },
     "execution_count": 17,
     "metadata": {},
     "output_type": "execute_result"
    }
   ],
   "source": [
    "roc_auc_dict"
   ]
  },
  {
   "cell_type": "code",
   "execution_count": 18,
   "id": "3dc9911f",
   "metadata": {
    "execution": {
     "iopub.execute_input": "2023-07-20T06:35:38.247197Z",
     "iopub.status.busy": "2023-07-20T06:35:38.246945Z",
     "iopub.status.idle": "2023-07-20T06:35:38.253967Z",
     "shell.execute_reply": "2023-07-20T06:35:38.252881Z"
    },
    "papermill": {
     "duration": 0.016532,
     "end_time": "2023-07-20T06:35:38.256257",
     "exception": false,
     "start_time": "2023-07-20T06:35:38.239725",
     "status": "completed"
    },
    "tags": []
   },
   "outputs": [
    {
     "name": "stdout",
     "output_type": "stream",
     "text": [
      " - Logging roc_auc_per_digit (json) : {'0': 1.0, '1': 0.9992127460168697, '2': 1.0, '3': 0.9997000937207123, '4': 0.9991617131534827, '5': 0.9987628865979382, '6': 0.999923792104862, '7': 0.9998475842097241, '8': 0.9941677175283733, '9': 0.9988568815729311}\n"
     ]
    }
   ],
   "source": [
    "ctx.log_value(\"roc_auc_per_digit\", roc_auc_dict)"
   ]
  },
  {
   "cell_type": "markdown",
   "id": "d367f1e9",
   "metadata": {
    "papermill": {
     "duration": 0.006508,
     "end_time": "2023-07-20T06:35:38.269733",
     "exception": false,
     "start_time": "2023-07-20T06:35:38.263225",
     "status": "completed"
    },
    "tags": []
   },
   "source": [
    "### Compute and log mean ROC AUC score averaged over all digits"
   ]
  },
  {
   "cell_type": "code",
   "execution_count": 19,
   "id": "298a283b",
   "metadata": {
    "execution": {
     "iopub.execute_input": "2023-07-20T06:35:38.287897Z",
     "iopub.status.busy": "2023-07-20T06:35:38.287598Z",
     "iopub.status.idle": "2023-07-20T06:35:38.301246Z",
     "shell.execute_reply": "2023-07-20T06:35:38.300670Z"
    },
    "papermill": {
     "duration": 0.023802,
     "end_time": "2023-07-20T06:35:38.303119",
     "exception": false,
     "start_time": "2023-07-20T06:35:38.279317",
     "status": "completed"
    },
    "tags": []
   },
   "outputs": [
    {
     "name": "stdout",
     "output_type": "stream",
     "text": [
      " - Logging roc_auc_class_mean (float) : 0.9989633414904894\n"
     ]
    }
   ],
   "source": [
    "roc_auc_macro = np.mean(list(roc_auc_dict.values()))\n",
    "\n",
    "ctx.log_float(\"roc_auc_class_mean\", roc_auc_macro)\n",
    "\n",
    "# assert that the same value can be computed directly using sklearn\n",
    "assert roc_auc_macro == metrics.roc_auc_score(\n",
    "    y_test, y_pred_probs_test, average=\"macro\", multi_class=\"ovr\"\n",
    ")"
   ]
  },
  {
   "cell_type": "code",
   "execution_count": 20,
   "id": "d714c301",
   "metadata": {
    "execution": {
     "iopub.execute_input": "2023-07-20T06:35:38.318540Z",
     "iopub.status.busy": "2023-07-20T06:35:38.318278Z",
     "iopub.status.idle": "2023-07-20T06:35:38.322725Z",
     "shell.execute_reply": "2023-07-20T06:35:38.322108Z"
    },
    "lines_to_next_cell": 0,
    "papermill": {
     "duration": 0.014467,
     "end_time": "2023-07-20T06:35:38.324586",
     "exception": false,
     "start_time": "2023-07-20T06:35:38.310119",
     "status": "completed"
    },
    "tags": []
   },
   "outputs": [],
   "source": [
    "# ---"
   ]
  },
  {
   "cell_type": "code",
   "execution_count": null,
   "id": "db1bf98e",
   "metadata": {
    "papermill": {
     "duration": 0.006514,
     "end_time": "2023-07-20T06:35:38.337786",
     "exception": false,
     "start_time": "2023-07-20T06:35:38.331272",
     "status": "completed"
    },
    "tags": []
   },
   "outputs": [],
   "source": []
  }
 ],
 "metadata": {
  "jupytext": {
   "cell_metadata_filter": "tags,-all",
   "main_language": "python",
   "notebook_metadata_filter": "-all"
  },
  "language_info": {
   "codemirror_mode": {
    "name": "ipython",
    "version": 3
   },
   "file_extension": ".py",
   "mimetype": "text/x-python",
   "name": "python",
   "nbconvert_exporter": "python",
   "pygments_lexer": "ipython3",
   "version": "3.8.10"
  },
  "papermill": {
   "default_parameters": {},
   "duration": 13.053588,
   "end_time": "2023-07-20T06:35:40.584197",
   "environment_variables": {},
   "exception": null,
   "input_path": "/tmp/temp-notebook-l7ykwl34.ipynb",
   "output_path": "/tmp/temp-notebook-l7ykwl34.ipynb",
   "parameters": {
    "P": {
     "_parameters_actor_name": "parameter_for_task_0xed9dc8d376283bf5",
     "task.nr_train_images": 600
    }
   },
   "start_time": "2023-07-20T06:35:27.530609",
   "version": "2.4.0"
  }
 },
 "nbformat": 4,
 "nbformat_minor": 5
}