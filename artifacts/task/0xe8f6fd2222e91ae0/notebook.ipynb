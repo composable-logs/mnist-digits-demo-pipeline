{
 "cells": [
  {
   "cell_type": "markdown",
   "id": "2c71bcf5",
   "metadata": {
    "papermill": {
     "duration": 0.005283,
     "end_time": "2023-07-19T06:35:42.669557",
     "exception": false,
     "start_time": "2023-07-19T06:35:42.664274",
     "status": "completed"
    },
    "tags": []
   },
   "source": [
    "# Benchmark model\n",
    "\n",
    "The purpose of this notebook is to benchmark persisted onnx-model (trained in the\n",
    "previous step) against evaluation set."
   ]
  },
  {
   "cell_type": "markdown",
   "id": "23674bac",
   "metadata": {
    "papermill": {
     "duration": 0.003803,
     "end_time": "2023-07-19T06:35:42.680795",
     "exception": false,
     "start_time": "2023-07-19T06:35:42.676992",
     "status": "completed"
    },
    "tags": []
   },
   "source": [
    "### Determine run parameters"
   ]
  },
  {
   "cell_type": "code",
   "execution_count": 1,
   "id": "7498389e",
   "metadata": {
    "execution": {
     "iopub.execute_input": "2023-07-19T06:35:42.690416Z",
     "iopub.status.busy": "2023-07-19T06:35:42.690147Z",
     "iopub.status.idle": "2023-07-19T06:35:42.698194Z",
     "shell.execute_reply": "2023-07-19T06:35:42.697621Z"
    },
    "lines_to_next_cell": 0,
    "papermill": {
     "duration": 0.015672,
     "end_time": "2023-07-19T06:35:42.700369",
     "exception": false,
     "start_time": "2023-07-19T06:35:42.684697",
     "status": "completed"
    },
    "tags": []
   },
   "outputs": [],
   "source": [
    "# ----------------- Parameters for interactive development --------------\n",
    "P = {\n",
    "    \"workflow.data_lake_root\": \"/pipeline-outputs/data-lake\",\n",
    "    \"task.nr_train_images\": 600,\n",
    "}"
   ]
  },
  {
   "cell_type": "code",
   "execution_count": 2,
   "id": "0f6bf808",
   "metadata": {
    "execution": {
     "iopub.execute_input": "2023-07-19T06:35:42.709296Z",
     "iopub.status.busy": "2023-07-19T06:35:42.709025Z",
     "iopub.status.idle": "2023-07-19T06:35:42.720394Z",
     "shell.execute_reply": "2023-07-19T06:35:42.712441Z"
    },
    "lines_to_next_cell": 0,
    "papermill": {
     "duration": 0.018121,
     "end_time": "2023-07-19T06:35:42.722220",
     "exception": false,
     "start_time": "2023-07-19T06:35:42.704099",
     "status": "completed"
    },
    "tags": [
     "parameters"
    ]
   },
   "outputs": [],
   "source": [
    "# - During automated runs parameters will be injected in the below cell -"
   ]
  },
  {
   "cell_type": "code",
   "execution_count": 3,
   "id": "adf1608a",
   "metadata": {
    "execution": {
     "iopub.execute_input": "2023-07-19T06:35:42.731727Z",
     "iopub.status.busy": "2023-07-19T06:35:42.731443Z",
     "iopub.status.idle": "2023-07-19T06:35:42.735718Z",
     "shell.execute_reply": "2023-07-19T06:35:42.735208Z"
    },
    "papermill": {
     "duration": 0.01124,
     "end_time": "2023-07-19T06:35:42.737421",
     "exception": false,
     "start_time": "2023-07-19T06:35:42.726181",
     "status": "completed"
    },
    "tags": [
     "injected-parameters"
    ]
   },
   "outputs": [],
   "source": [
    "# Parameters\n",
    "P = {\n",
    "    \"task.nr_train_images\": 600,\n",
    "    \"_parameters_actor_name\": \"parameter_for_task_0xe8f6fd2222e91ae0\",\n",
    "}\n"
   ]
  },
  {
   "cell_type": "code",
   "execution_count": 4,
   "id": "ae897319",
   "metadata": {
    "execution": {
     "iopub.execute_input": "2023-07-19T06:35:42.746681Z",
     "iopub.status.busy": "2023-07-19T06:35:42.746455Z",
     "iopub.status.idle": "2023-07-19T06:35:42.750198Z",
     "shell.execute_reply": "2023-07-19T06:35:42.749670Z"
    },
    "lines_to_next_cell": 0,
    "papermill": {
     "duration": 0.010521,
     "end_time": "2023-07-19T06:35:42.751919",
     "exception": false,
     "start_time": "2023-07-19T06:35:42.741398",
     "status": "completed"
    },
    "tags": []
   },
   "outputs": [],
   "source": [
    "# -----------------------------------------------------------------------"
   ]
  },
  {
   "cell_type": "markdown",
   "id": "20cb8853",
   "metadata": {
    "papermill": {
     "duration": 0.003995,
     "end_time": "2023-07-19T06:35:42.760293",
     "exception": false,
     "start_time": "2023-07-19T06:35:42.756298",
     "status": "completed"
    },
    "tags": []
   },
   "source": [
    "---"
   ]
  },
  {
   "cell_type": "markdown",
   "id": "2c22e8de",
   "metadata": {
    "lines_to_next_cell": 2,
    "papermill": {
     "duration": 0.004508,
     "end_time": "2023-07-19T06:35:42.768858",
     "exception": false,
     "start_time": "2023-07-19T06:35:42.764350",
     "status": "completed"
    },
    "tags": []
   },
   "source": [
    "### Notebook code"
   ]
  },
  {
   "cell_type": "code",
   "execution_count": 5,
   "id": "c1ef0f00",
   "metadata": {
    "execution": {
     "iopub.execute_input": "2023-07-19T06:35:42.778520Z",
     "iopub.status.busy": "2023-07-19T06:35:42.778208Z",
     "iopub.status.idle": "2023-07-19T06:35:43.634499Z",
     "shell.execute_reply": "2023-07-19T06:35:43.633837Z"
    },
    "papermill": {
     "duration": 0.863294,
     "end_time": "2023-07-19T06:35:43.636182",
     "exception": false,
     "start_time": "2023-07-19T06:35:42.772888",
     "status": "completed"
    },
    "tags": []
   },
   "outputs": [
    {
     "name": "stderr",
     "output_type": "stream",
     "text": [
      "2023-07-19 06:35:43,562\tINFO worker.py:1364 -- Connecting to existing Ray cluster at address: 172.17.0.2:56162...\n"
     ]
    },
    {
     "name": "stderr",
     "output_type": "stream",
     "text": [
      "2023-07-19 06:35:43,570\tINFO worker.py:1544 -- Connected to Ray cluster. View the dashboard at \u001b[1m\u001b[32mhttp://127.0.0.1:8265 \u001b[39m\u001b[22m\n"
     ]
    },
    {
     "name": "stderr",
     "output_type": "stream",
     "text": [
      "/home/host_user/.local/lib/python3.8/site-packages/ray/runtime_context.py:27: RayDeprecationWarning: This API is deprecated and may be removed in future Ray releases. You could suppress this warning by setting env variable PYTHONWARNINGS=\"ignore::DeprecationWarning\"\n",
      "Use get_job_id() instead\n",
      "  \"job_id\": self.job_id,\n",
      "/home/host_user/.local/lib/python3.8/site-packages/ray/runtime_context.py:28: RayDeprecationWarning: This API is deprecated and may be removed in future Ray releases. You could suppress this warning by setting env variable PYTHONWARNINGS=\"ignore::DeprecationWarning\"\n",
      "Use get_node_id() instead\n",
      "  \"node_id\": self.node_id,\n"
     ]
    }
   ],
   "source": [
    "import itertools as it\n",
    "\n",
    "#\n",
    "import numpy as np\n",
    "import matplotlib.pyplot as plt\n",
    "\n",
    "#\n",
    "from composable_logs.tasks.task_opentelemetry_logging import get_task_context\n",
    "\n",
    "#\n",
    "from common.io import datalake_root\n",
    "\n",
    "ctx = get_task_context(P)"
   ]
  },
  {
   "cell_type": "markdown",
   "id": "a2f12c66",
   "metadata": {
    "papermill": {
     "duration": 0.004072,
     "end_time": "2023-07-19T06:35:43.644624",
     "exception": false,
     "start_time": "2023-07-19T06:35:43.640552",
     "status": "completed"
    },
    "tags": []
   },
   "source": [
    "## Load persisted onnx-model and evaluation data"
   ]
  },
  {
   "cell_type": "code",
   "execution_count": 6,
   "id": "1543f7a2",
   "metadata": {
    "execution": {
     "iopub.execute_input": "2023-07-19T06:35:43.662461Z",
     "iopub.status.busy": "2023-07-19T06:35:43.662131Z",
     "iopub.status.idle": "2023-07-19T06:35:43.666791Z",
     "shell.execute_reply": "2023-07-19T06:35:43.666114Z"
    },
    "papermill": {
     "duration": 0.012802,
     "end_time": "2023-07-19T06:35:43.668677",
     "exception": false,
     "start_time": "2023-07-19T06:35:43.655875",
     "status": "completed"
    },
    "tags": []
   },
   "outputs": [],
   "source": [
    "from common.io import read_onnx, get_onnx_inputs, get_onnx_outputs, read_numpy"
   ]
  },
  {
   "cell_type": "code",
   "execution_count": 7,
   "id": "bd3c441e",
   "metadata": {
    "execution": {
     "iopub.execute_input": "2023-07-19T06:35:43.679327Z",
     "iopub.status.busy": "2023-07-19T06:35:43.679100Z",
     "iopub.status.idle": "2023-07-19T06:35:43.687525Z",
     "shell.execute_reply": "2023-07-19T06:35:43.687000Z"
    },
    "lines_to_next_cell": 0,
    "papermill": {
     "duration": 0.015571,
     "end_time": "2023-07-19T06:35:43.689291",
     "exception": false,
     "start_time": "2023-07-19T06:35:43.673720",
     "status": "completed"
    },
    "tags": []
   },
   "outputs": [],
   "source": [
    "onnx_inference_session = read_onnx(\n",
    "    datalake_root(ctx)\n",
    "    / \"models\"\n",
    "    / f\"nr_train_images={ctx.parameters['task.nr_train_images']}\"\n",
    "    / \"model.onnx\"\n",
    ")"
   ]
  },
  {
   "cell_type": "markdown",
   "id": "5387ae07",
   "metadata": {
    "papermill": {
     "duration": 0.004062,
     "end_time": "2023-07-19T06:35:43.697502",
     "exception": false,
     "start_time": "2023-07-19T06:35:43.693440",
     "status": "completed"
    },
    "tags": []
   },
   "source": [
    "### Record structure of inputs and outputs for ONNX model\n",
    "\n",
    "(this should likely be done in training notebook)"
   ]
  },
  {
   "cell_type": "code",
   "execution_count": 8,
   "id": "a3513f5e",
   "metadata": {
    "execution": {
     "iopub.execute_input": "2023-07-19T06:35:43.707193Z",
     "iopub.status.busy": "2023-07-19T06:35:43.706960Z",
     "iopub.status.idle": "2023-07-19T06:35:43.713826Z",
     "shell.execute_reply": "2023-07-19T06:35:43.713303Z"
    },
    "papermill": {
     "duration": 0.014007,
     "end_time": "2023-07-19T06:35:43.715681",
     "exception": false,
     "start_time": "2023-07-19T06:35:43.701674",
     "status": "completed"
    },
    "tags": []
   },
   "outputs": [
    {
     "name": "stdout",
     "output_type": "stream",
     "text": [
      "{\n",
      "  \"inputs\": [\n",
      "    {\n",
      "      \"name\": \"float_input_8x8_image\",\n",
      "      \"shape\": [\n",
      "        null,\n",
      "        64\n",
      "      ],\n",
      "      \"type\": \"tensor(float)\"\n",
      "    }\n",
      "  ],\n",
      "  \"outputs\": [\n",
      "    {\n",
      "      \"name\": \"output_label\",\n",
      "      \"shape\": [\n",
      "        null\n",
      "      ],\n",
      "      \"type\": \"tensor(int64)\"\n",
      "    },\n",
      "    {\n",
      "      \"name\": \"output_probability\",\n",
      "      \"shape\": [],\n",
      "      \"type\": \"seq(map(int64,tensor(float)))\"\n",
      "    }\n",
      "  ]\n",
      "}\n"
     ]
    }
   ],
   "source": [
    "import json\n",
    "\n",
    "onnx_io = json.dumps(\n",
    "    {\n",
    "        \"inputs\": get_onnx_inputs(onnx_inference_session),\n",
    "        \"outputs\": get_onnx_outputs(onnx_inference_session),\n",
    "    },\n",
    "    indent=2,\n",
    ")\n",
    "\n",
    "\n",
    "ctx.log_artefact(\"onnx_io_structure.json\", onnx_io)\n",
    "print(onnx_io)"
   ]
  },
  {
   "cell_type": "markdown",
   "id": "2217888a",
   "metadata": {
    "papermill": {
     "duration": 0.004132,
     "end_time": "2023-07-19T06:35:43.724163",
     "exception": false,
     "start_time": "2023-07-19T06:35:43.720031",
     "status": "completed"
    },
    "tags": []
   },
   "source": [
    "### Evaluate model performance on evaluation data set"
   ]
  },
  {
   "cell_type": "code",
   "execution_count": 9,
   "id": "e02c1b0c",
   "metadata": {
    "execution": {
     "iopub.execute_input": "2023-07-19T06:35:43.734443Z",
     "iopub.status.busy": "2023-07-19T06:35:43.734152Z",
     "iopub.status.idle": "2023-07-19T06:35:43.739766Z",
     "shell.execute_reply": "2023-07-19T06:35:43.739224Z"
    },
    "papermill": {
     "duration": 0.012926,
     "end_time": "2023-07-19T06:35:43.741515",
     "exception": false,
     "start_time": "2023-07-19T06:35:43.728589",
     "status": "completed"
    },
    "tags": []
   },
   "outputs": [],
   "source": [
    "# load evaluation data\n",
    "X_test = read_numpy(datalake_root(ctx) / \"test-data\" / \"digits.numpy\")\n",
    "y_test = read_numpy(datalake_root(ctx) / \"test-data\" / \"labels.numpy\")"
   ]
  },
  {
   "cell_type": "code",
   "execution_count": 10,
   "id": "88f081d9",
   "metadata": {
    "execution": {
     "iopub.execute_input": "2023-07-19T06:35:43.751320Z",
     "iopub.status.busy": "2023-07-19T06:35:43.751084Z",
     "iopub.status.idle": "2023-07-19T06:35:43.771340Z",
     "shell.execute_reply": "2023-07-19T06:35:43.770777Z"
    },
    "papermill": {
     "duration": 0.027299,
     "end_time": "2023-07-19T06:35:43.773161",
     "exception": false,
     "start_time": "2023-07-19T06:35:43.745862",
     "status": "completed"
    },
    "tags": []
   },
   "outputs": [],
   "source": [
    "def get_model_outputs(X, onnx_inference_session):\n",
    "    y_pred_labels, y_pred_map = onnx_inference_session.run(\n",
    "        [\"output_label\", \"output_probability\"],\n",
    "        {\"float_input_8x8_image\": X.astype(np.float32)},\n",
    "    )\n",
    "    y_pred_probs = np.array(\n",
    "        [[probabilities[digit] for digit in range(10)] for probabilities in y_pred_map]\n",
    "    )\n",
    "\n",
    "    assert y_pred_labels.shape == (X.shape[0],)\n",
    "    assert y_pred_probs.shape == (X.shape[0], 10)\n",
    "\n",
    "    return y_pred_labels, y_pred_probs\n",
    "\n",
    "\n",
    "# Note: as shown in the training notebook, the predicted labels and probabilities\n",
    "# computed below need not be compatible.\n",
    "y_pred_labels_test, y_pred_probs_test = get_model_outputs(\n",
    "    X_test, onnx_inference_session\n",
    ")"
   ]
  },
  {
   "cell_type": "markdown",
   "id": "84376712",
   "metadata": {
    "papermill": {
     "duration": 0.004167,
     "end_time": "2023-07-19T06:35:43.781869",
     "exception": false,
     "start_time": "2023-07-19T06:35:43.777702",
     "status": "completed"
    },
    "tags": []
   },
   "source": [
    "### Confusion matrix"
   ]
  },
  {
   "cell_type": "code",
   "execution_count": 11,
   "id": "36e03fb7",
   "metadata": {
    "execution": {
     "iopub.execute_input": "2023-07-19T06:35:43.791532Z",
     "iopub.status.busy": "2023-07-19T06:35:43.791155Z",
     "iopub.status.idle": "2023-07-19T06:35:43.794967Z",
     "shell.execute_reply": "2023-07-19T06:35:43.794299Z"
    },
    "papermill": {
     "duration": 0.010522,
     "end_time": "2023-07-19T06:35:43.796562",
     "exception": false,
     "start_time": "2023-07-19T06:35:43.786040",
     "status": "completed"
    },
    "tags": []
   },
   "outputs": [],
   "source": [
    "# TODO"
   ]
  },
  {
   "cell_type": "markdown",
   "id": "c841d91f",
   "metadata": {
    "papermill": {
     "duration": 0.004149,
     "end_time": "2023-07-19T06:35:43.805006",
     "exception": false,
     "start_time": "2023-07-19T06:35:43.800857",
     "status": "completed"
    },
    "tags": []
   },
   "source": [
    "### Plot predicted probabilities for each classifier over all evaluation digit images"
   ]
  },
  {
   "cell_type": "code",
   "execution_count": 12,
   "id": "05de7734",
   "metadata": {
    "execution": {
     "iopub.execute_input": "2023-07-19T06:35:43.815439Z",
     "iopub.status.busy": "2023-07-19T06:35:43.815090Z",
     "iopub.status.idle": "2023-07-19T06:35:47.456648Z",
     "shell.execute_reply": "2023-07-19T06:35:47.455370Z"
    },
    "papermill": {
     "duration": 3.64876,
     "end_time": "2023-07-19T06:35:47.458373",
     "exception": false,
     "start_time": "2023-07-19T06:35:43.809613",
     "status": "completed"
    },
    "tags": []
   },
   "outputs": [
    {
     "data": {
      "image/png": "[encoded data removed]",
      "text/plain": [
       "<Figure size 1600x600 with 10 Axes>"
      ]
     },
     "metadata": {},
     "output_type": "display_data"
    }
   ],
   "source": [
    "def plot_per_digit_probabilities(y_pred_probs):\n",
    "    fig, axs = plt.subplots(nrows=2, ncols=5, figsize=(16, 6))\n",
    "\n",
    "    for (r, c), digit, ax in zip(\n",
    "        it.product(range(2), range(5)), range(10), axs.reshape(-1)\n",
    "    ):\n",
    "        ax.hist(y_pred_probs_test[:, digit], bins=20)\n",
    "\n",
    "        ax.set_title(f\"Digit {digit}\")\n",
    "        if r == 1 and c == 2:\n",
    "            ax.set_xlabel(\"probability\", fontsize=16)\n",
    "\n",
    "        if c == 0:\n",
    "            ax.set_ylabel(\"counts\", fontsize=16)\n",
    "        ax.set_yscale(\"log\")\n",
    "\n",
    "    fig.tight_layout()\n",
    "    fig.suptitle(\n",
    "        f\"Distributions of prediction probabilities for each digit \"\n",
    "        f\"(on evaluation data, n={y_pred_probs.shape[0]})\",\n",
    "        fontsize=20,\n",
    "    )\n",
    "    fig.tight_layout()\n",
    "    fig.show()\n",
    "\n",
    "    return fig\n",
    "\n",
    "\n",
    "fig = plot_per_digit_probabilities(y_pred_probs_test)"
   ]
  },
  {
   "cell_type": "markdown",
   "id": "b5c4bf85",
   "metadata": {
    "papermill": {
     "duration": 0.005387,
     "end_time": "2023-07-19T06:35:47.469644",
     "exception": false,
     "start_time": "2023-07-19T06:35:47.464257",
     "status": "completed"
    },
    "tags": []
   },
   "source": [
    "From the above distributions we see that most digits have clear separation between\n",
    "high and lower probabilities. Morover, in each case there is roughly an order of\n",
    "magnitude more of digits with low probabilities. This is compatible with digits\n",
    "being roughly evenly distributed in the data."
   ]
  },
  {
   "cell_type": "code",
   "execution_count": 13,
   "id": "4ee1a8b8",
   "metadata": {
    "execution": {
     "iopub.execute_input": "2023-07-19T06:35:47.481169Z",
     "iopub.status.busy": "2023-07-19T06:35:47.480734Z",
     "iopub.status.idle": "2023-07-19T06:35:48.037036Z",
     "shell.execute_reply": "2023-07-19T06:35:48.035893Z"
    },
    "papermill": {
     "duration": 0.565202,
     "end_time": "2023-07-19T06:35:48.039846",
     "exception": false,
     "start_time": "2023-07-19T06:35:47.474644",
     "status": "completed"
    },
    "tags": []
   },
   "outputs": [],
   "source": [
    "ctx.log_figure(\"per-digit-probabilities.png\", fig)"
   ]
  },
  {
   "cell_type": "markdown",
   "id": "42fe4a01",
   "metadata": {
    "papermill": {
     "duration": 0.005018,
     "end_time": "2023-07-19T06:35:48.050199",
     "exception": false,
     "start_time": "2023-07-19T06:35:48.045181",
     "status": "completed"
    },
    "tags": []
   },
   "source": [
    "### Plot ROC curves for individual one-vs-rest classifiers"
   ]
  },
  {
   "cell_type": "code",
   "execution_count": 14,
   "id": "2c77ed27",
   "metadata": {
    "execution": {
     "iopub.execute_input": "2023-07-19T06:35:48.066372Z",
     "iopub.status.busy": "2023-07-19T06:35:48.066073Z",
     "iopub.status.idle": "2023-07-19T06:35:48.367055Z",
     "shell.execute_reply": "2023-07-19T06:35:48.366450Z"
    },
    "papermill": {
     "duration": 0.314948,
     "end_time": "2023-07-19T06:35:48.370710",
     "exception": false,
     "start_time": "2023-07-19T06:35:48.055762",
     "status": "completed"
    },
    "tags": []
   },
   "outputs": [],
   "source": [
    "from sklearn import metrics"
   ]
  },
  {
   "cell_type": "code",
   "execution_count": 15,
   "id": "9c5f0b2a",
   "metadata": {
    "execution": {
     "iopub.execute_input": "2023-07-19T06:35:48.383289Z",
     "iopub.status.busy": "2023-07-19T06:35:48.382815Z",
     "iopub.status.idle": "2023-07-19T06:35:50.207139Z",
     "shell.execute_reply": "2023-07-19T06:35:50.206479Z"
    },
    "papermill": {
     "duration": 1.832621,
     "end_time": "2023-07-19T06:35:50.209151",
     "exception": false,
     "start_time": "2023-07-19T06:35:48.376530",
     "status": "completed"
    },
    "tags": []
   },
   "outputs": [
    {
     "data": {
      "image/png": "[encoded data removed]",
      "text/plain": [
       "<Figure size 1600x800 with 10 Axes>"
      ]
     },
     "metadata": {},
     "output_type": "display_data"
    }
   ],
   "source": [
    "def plot_roc_curves(y, y_pred_probs):\n",
    "    # based on example code\n",
    "    # https://scikit-learn.org/stable/auto_examples/model_selection/plot_roc.html\n",
    "\n",
    "    fig, axs = plt.subplots(nrows=2, ncols=5, figsize=(16, 8))\n",
    "\n",
    "    roc_auc_dict = {}\n",
    "\n",
    "    for (r, c), digit, ax in zip(\n",
    "        it.product(range(2), range(5)), range(10), axs.reshape(-1)\n",
    "    ):\n",
    "        fpr, tpr, _ = metrics.roc_curve(y == digit, y_pred_probs[:, digit])\n",
    "        auc = metrics.auc(fpr, tpr)\n",
    "        roc_auc_dict[str(digit)] = auc\n",
    "\n",
    "        ax.plot(fpr, tpr, label=f\"ROC AUC={round(auc, 3)}\")\n",
    "\n",
    "        ax.set_title(f\"\\nDigit {digit}\", fontsize=16)\n",
    "        if r == 1:\n",
    "            ax.set_xlabel(\"FPR\", fontsize=18)\n",
    "\n",
    "        if c == 0:\n",
    "            ax.set_ylabel(\"TPR\", fontsize=18)\n",
    "\n",
    "        ax.set_xlim([-0.05, 1.05])\n",
    "        ax.set_ylim([-0.05, 1.05])\n",
    "        ax.legend(loc=\"lower right\", frameon=False, fontsize=14)\n",
    "\n",
    "    fig.tight_layout()\n",
    "    fig.suptitle(\n",
    "        f\"ROC plots for one-vs-rest performances \"\n",
    "        f\"(on evaluation data, n={y_pred_probs_test.shape[1]}\",\n",
    "        fontsize=22,\n",
    "    )\n",
    "    fig.tight_layout()\n",
    "    fig.show()\n",
    "\n",
    "    return roc_auc_dict, fig\n",
    "\n",
    "\n",
    "roc_auc_dict, fig = plot_roc_curves(y_test, y_pred_probs_test)"
   ]
  },
  {
   "cell_type": "code",
   "execution_count": 16,
   "id": "d1127eab",
   "metadata": {
    "execution": {
     "iopub.execute_input": "2023-07-19T06:35:50.225562Z",
     "iopub.status.busy": "2023-07-19T06:35:50.225287Z",
     "iopub.status.idle": "2023-07-19T06:35:50.575828Z",
     "shell.execute_reply": "2023-07-19T06:35:50.575117Z"
    },
    "papermill": {
     "duration": 0.360946,
     "end_time": "2023-07-19T06:35:50.578200",
     "exception": false,
     "start_time": "2023-07-19T06:35:50.217254",
     "status": "completed"
    },
    "tags": []
   },
   "outputs": [],
   "source": [
    "ctx.log_figure(\"per-digit-roc-curves.png\", fig)"
   ]
  },
  {
   "cell_type": "code",
   "execution_count": 17,
   "id": "1342dc3d",
   "metadata": {
    "execution": {
     "iopub.execute_input": "2023-07-19T06:35:50.592604Z",
     "iopub.status.busy": "2023-07-19T06:35:50.592322Z",
     "iopub.status.idle": "2023-07-19T06:35:50.599828Z",
     "shell.execute_reply": "2023-07-19T06:35:50.599236Z"
    },
    "papermill": {
     "duration": 0.01706,
     "end_time": "2023-07-19T06:35:50.601590",
     "exception": false,
     "start_time": "2023-07-19T06:35:50.584530",
     "status": "completed"
    },
    "tags": []
   },
   "outputs": [
    {
     "data": {
      "text/plain": [
       "{'0': 1.0,\n",
       " '1': 0.9992877225866916,\n",
       " '2': 1.0,\n",
       " '3': 0.9997000937207123,\n",
       " '4': 0.9991236092059138,\n",
       " '5': 0.998912839737582,\n",
       " '6': 0.999923792104862,\n",
       " '7': 0.9998475842097241,\n",
       " '8': 0.9946011979823456,\n",
       " '9': 0.9986663618350862}"
      ]
     },
     "execution_count": 17,
     "metadata": {},
     "output_type": "execute_result"
    }
   ],
   "source": [
    "roc_auc_dict"
   ]
  },
  {
   "cell_type": "code",
   "execution_count": 18,
   "id": "ec808ef3",
   "metadata": {
    "execution": {
     "iopub.execute_input": "2023-07-19T06:35:50.622005Z",
     "iopub.status.busy": "2023-07-19T06:35:50.621723Z",
     "iopub.status.idle": "2023-07-19T06:35:50.627428Z",
     "shell.execute_reply": "2023-07-19T06:35:50.626467Z"
    },
    "papermill": {
     "duration": 0.021344,
     "end_time": "2023-07-19T06:35:50.629749",
     "exception": false,
     "start_time": "2023-07-19T06:35:50.608405",
     "status": "completed"
    },
    "tags": []
   },
   "outputs": [
    {
     "name": "stdout",
     "output_type": "stream",
     "text": [
      " - Logging roc_auc_per_digit (json) : {'0': 1.0, '1': 0.9992877225866916, '2': 1.0, '3': 0.9997000937207123, '4': 0.9991236092059138, '5': 0.998912839737582, '6': 0.999923792104862, '7': 0.9998475842097241, '8': 0.9946011979823456, '9': 0.9986663618350862}\n"
     ]
    }
   ],
   "source": [
    "ctx.log_value(\"roc_auc_per_digit\", roc_auc_dict)"
   ]
  },
  {
   "cell_type": "markdown",
   "id": "d0a7c92f",
   "metadata": {
    "papermill": {
     "duration": 0.006815,
     "end_time": "2023-07-19T06:35:50.643368",
     "exception": false,
     "start_time": "2023-07-19T06:35:50.636553",
     "status": "completed"
    },
    "tags": []
   },
   "source": [
    "### Compute and log mean ROC AUC score averaged over all digits"
   ]
  },
  {
   "cell_type": "code",
   "execution_count": 19,
   "id": "980dabb5",
   "metadata": {
    "execution": {
     "iopub.execute_input": "2023-07-19T06:35:50.657900Z",
     "iopub.status.busy": "2023-07-19T06:35:50.657621Z",
     "iopub.status.idle": "2023-07-19T06:35:50.670906Z",
     "shell.execute_reply": "2023-07-19T06:35:50.670304Z"
    },
    "papermill": {
     "duration": 0.023445,
     "end_time": "2023-07-19T06:35:50.673343",
     "exception": false,
     "start_time": "2023-07-19T06:35:50.649898",
     "status": "completed"
    },
    "tags": []
   },
   "outputs": [
    {
     "name": "stdout",
     "output_type": "stream",
     "text": [
      " - Logging roc_auc_class_mean (float) : 0.9990063201382918\n"
     ]
    }
   ],
   "source": [
    "roc_auc_macro = np.mean(list(roc_auc_dict.values()))\n",
    "\n",
    "ctx.log_float(\"roc_auc_class_mean\", roc_auc_macro)\n",
    "\n",
    "# assert that the same value can be computed directly using sklearn\n",
    "assert roc_auc_macro == metrics.roc_auc_score(\n",
    "    y_test, y_pred_probs_test, average=\"macro\", multi_class=\"ovr\"\n",
    ")"
   ]
  },
  {
   "cell_type": "code",
   "execution_count": 20,
   "id": "803b2e17",
   "metadata": {
    "execution": {
     "iopub.execute_input": "2023-07-19T06:35:50.688219Z",
     "iopub.status.busy": "2023-07-19T06:35:50.687950Z",
     "iopub.status.idle": "2023-07-19T06:35:50.692064Z",
     "shell.execute_reply": "2023-07-19T06:35:50.691512Z"
    },
    "lines_to_next_cell": 0,
    "papermill": {
     "duration": 0.01372,
     "end_time": "2023-07-19T06:35:50.693794",
     "exception": false,
     "start_time": "2023-07-19T06:35:50.680074",
     "status": "completed"
    },
    "tags": []
   },
   "outputs": [],
   "source": [
    "# ---"
   ]
  },
  {
   "cell_type": "code",
   "execution_count": null,
   "id": "a77de521",
   "metadata": {
    "papermill": {
     "duration": 0.0072,
     "end_time": "2023-07-19T06:35:50.708578",
     "exception": false,
     "start_time": "2023-07-19T06:35:50.701378",
     "status": "completed"
    },
    "tags": []
   },
   "outputs": [],
   "source": []
  }
 ],
 "metadata": {
  "jupytext": {
   "cell_metadata_filter": "tags,-all",
   "main_language": "python",
   "notebook_metadata_filter": "-all"
  },
  "language_info": {
   "codemirror_mode": {
    "name": "ipython",
    "version": 3
   },
   "file_extension": ".py",
   "mimetype": "text/x-python",
   "name": "python",
   "nbconvert_exporter": "python",
   "pygments_lexer": "ipython3",
   "version": "3.8.10"
  },
  "papermill": {
   "default_parameters": {},
   "duration": 11.28498,
   "end_time": "2023-07-19T06:35:52.582914",
   "environment_variables": {},
   "exception": null,
   "input_path": "/tmp/temp-notebook-lt6oq_ls.ipynb",
   "output_path": "/tmp/temp-notebook-lt6oq_ls.ipynb",
   "parameters": {
    "P": {
     "_parameters_actor_name": "parameter_for_task_0xe8f6fd2222e91ae0",
     "task.nr_train_images": 600
    }
   },
   "start_time": "2023-07-19T06:35:41.297934",
   "version": "2.4.0"
  }
 },
 "nbformat": 4,
 "nbformat_minor": 5
}