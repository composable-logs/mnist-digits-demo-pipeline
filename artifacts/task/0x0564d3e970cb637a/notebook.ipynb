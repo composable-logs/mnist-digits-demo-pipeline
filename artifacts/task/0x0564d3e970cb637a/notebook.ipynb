{
 "cells": [
  {
   "cell_type": "markdown",
   "id": "abf44f35",
   "metadata": {
    "papermill": {
     "duration": 0.005686,
     "end_time": "2023-07-20T06:35:33.301677",
     "exception": false,
     "start_time": "2023-07-20T06:35:33.295991",
     "status": "completed"
    },
    "tags": []
   },
   "source": [
    "# Benchmark model\n",
    "\n",
    "The purpose of this notebook is to benchmark persisted onnx-model (trained in the\n",
    "previous step) against evaluation set."
   ]
  },
  {
   "cell_type": "markdown",
   "id": "7edb5995",
   "metadata": {
    "papermill": {
     "duration": 0.004153,
     "end_time": "2023-07-20T06:35:33.313340",
     "exception": false,
     "start_time": "2023-07-20T06:35:33.309187",
     "status": "completed"
    },
    "tags": []
   },
   "source": [
    "### Determine run parameters"
   ]
  },
  {
   "cell_type": "code",
   "execution_count": 1,
   "id": "18f01ebb",
   "metadata": {
    "execution": {
     "iopub.execute_input": "2023-07-20T06:35:33.324363Z",
     "iopub.status.busy": "2023-07-20T06:35:33.324056Z",
     "iopub.status.idle": "2023-07-20T06:35:33.333025Z",
     "shell.execute_reply": "2023-07-20T06:35:33.332386Z"
    },
    "lines_to_next_cell": 0,
    "papermill": {
     "duration": 0.016522,
     "end_time": "2023-07-20T06:35:33.334898",
     "exception": false,
     "start_time": "2023-07-20T06:35:33.318376",
     "status": "completed"
    },
    "tags": []
   },
   "outputs": [],
   "source": [
    "# ----------------- Parameters for interactive development --------------\n",
    "P = {\n",
    "    \"workflow.data_lake_root\": \"/pipeline-outputs/data-lake\",\n",
    "    \"task.nr_train_images\": 600,\n",
    "}"
   ]
  },
  {
   "cell_type": "code",
   "execution_count": 2,
   "id": "1b893385",
   "metadata": {
    "execution": {
     "iopub.execute_input": "2023-07-20T06:35:33.353212Z",
     "iopub.status.busy": "2023-07-20T06:35:33.352911Z",
     "iopub.status.idle": "2023-07-20T06:35:33.357633Z",
     "shell.execute_reply": "2023-07-20T06:35:33.356980Z"
    },
    "lines_to_next_cell": 0,
    "papermill": {
     "duration": 0.013941,
     "end_time": "2023-07-20T06:35:33.359691",
     "exception": false,
     "start_time": "2023-07-20T06:35:33.345750",
     "status": "completed"
    },
    "tags": [
     "parameters"
    ]
   },
   "outputs": [],
   "source": [
    "# - During automated runs parameters will be injected in the below cell -"
   ]
  },
  {
   "cell_type": "code",
   "execution_count": 3,
   "id": "ee3ef552",
   "metadata": {
    "execution": {
     "iopub.execute_input": "2023-07-20T06:35:33.369099Z",
     "iopub.status.busy": "2023-07-20T06:35:33.368869Z",
     "iopub.status.idle": "2023-07-20T06:35:33.373089Z",
     "shell.execute_reply": "2023-07-20T06:35:33.372521Z"
    },
    "papermill": {
     "duration": 0.011276,
     "end_time": "2023-07-20T06:35:33.374994",
     "exception": false,
     "start_time": "2023-07-20T06:35:33.363718",
     "status": "completed"
    },
    "tags": [
     "injected-parameters"
    ]
   },
   "outputs": [],
   "source": [
    "# Parameters\n",
    "P = {\n",
    "    \"task.nr_train_images\": 1000,\n",
    "    \"_parameters_actor_name\": \"parameter_for_task_0x0564d3e970cb637a\",\n",
    "}\n"
   ]
  },
  {
   "cell_type": "code",
   "execution_count": 4,
   "id": "4b8b21ba",
   "metadata": {
    "execution": {
     "iopub.execute_input": "2023-07-20T06:35:33.384485Z",
     "iopub.status.busy": "2023-07-20T06:35:33.384234Z",
     "iopub.status.idle": "2023-07-20T06:35:33.389505Z",
     "shell.execute_reply": "2023-07-20T06:35:33.388879Z"
    },
    "lines_to_next_cell": 0,
    "papermill": {
     "duration": 0.012622,
     "end_time": "2023-07-20T06:35:33.391684",
     "exception": false,
     "start_time": "2023-07-20T06:35:33.379062",
     "status": "completed"
    },
    "tags": []
   },
   "outputs": [],
   "source": [
    "# -----------------------------------------------------------------------"
   ]
  },
  {
   "cell_type": "markdown",
   "id": "4f3df1a9",
   "metadata": {
    "papermill": {
     "duration": 0.004488,
     "end_time": "2023-07-20T06:35:33.400510",
     "exception": false,
     "start_time": "2023-07-20T06:35:33.396022",
     "status": "completed"
    },
    "tags": []
   },
   "source": [
    "---"
   ]
  },
  {
   "cell_type": "markdown",
   "id": "0813b695",
   "metadata": {
    "lines_to_next_cell": 2,
    "papermill": {
     "duration": 0.0044,
     "end_time": "2023-07-20T06:35:33.410199",
     "exception": false,
     "start_time": "2023-07-20T06:35:33.405799",
     "status": "completed"
    },
    "tags": []
   },
   "source": [
    "### Notebook code"
   ]
  },
  {
   "cell_type": "code",
   "execution_count": 5,
   "id": "ea34dfbf",
   "metadata": {
    "execution": {
     "iopub.execute_input": "2023-07-20T06:35:33.420625Z",
     "iopub.status.busy": "2023-07-20T06:35:33.420308Z",
     "iopub.status.idle": "2023-07-20T06:35:34.491862Z",
     "shell.execute_reply": "2023-07-20T06:35:34.490892Z"
    },
    "papermill": {
     "duration": 1.08705,
     "end_time": "2023-07-20T06:35:34.501371",
     "exception": false,
     "start_time": "2023-07-20T06:35:33.414321",
     "status": "completed"
    },
    "tags": []
   },
   "outputs": [
    {
     "name": "stderr",
     "output_type": "stream",
     "text": [
      "2023-07-20 06:35:34,387\tINFO worker.py:1364 -- Connecting to existing Ray cluster at address: 172.17.0.2:65120...\n"
     ]
    },
    {
     "name": "stderr",
     "output_type": "stream",
     "text": [
      "2023-07-20 06:35:34,396\tINFO worker.py:1544 -- Connected to Ray cluster. View the dashboard at \u001b[1m\u001b[32mhttp://127.0.0.1:8265 \u001b[39m\u001b[22m\n"
     ]
    },
    {
     "name": "stderr",
     "output_type": "stream",
     "text": [
      "/home/host_user/.local/lib/python3.8/site-packages/ray/runtime_context.py:27: RayDeprecationWarning: This API is deprecated and may be removed in future Ray releases. You could suppress this warning by setting env variable PYTHONWARNINGS=\"ignore::DeprecationWarning\"\n",
      "Use get_job_id() instead\n",
      "  \"job_id\": self.job_id,\n",
      "/home/host_user/.local/lib/python3.8/site-packages/ray/runtime_context.py:28: RayDeprecationWarning: This API is deprecated and may be removed in future Ray releases. You could suppress this warning by setting env variable PYTHONWARNINGS=\"ignore::DeprecationWarning\"\n",
      "Use get_node_id() instead\n",
      "  \"node_id\": self.node_id,\n"
     ]
    }
   ],
   "source": [
    "import itertools as it\n",
    "\n",
    "#\n",
    "import numpy as np\n",
    "import matplotlib.pyplot as plt\n",
    "\n",
    "#\n",
    "from composable_logs.tasks.task_opentelemetry_logging import get_task_context\n",
    "\n",
    "#\n",
    "from common.io import datalake_root\n",
    "\n",
    "ctx = get_task_context(P)"
   ]
  },
  {
   "cell_type": "markdown",
   "id": "f3d28c75",
   "metadata": {
    "papermill": {
     "duration": 0.004618,
     "end_time": "2023-07-20T06:35:34.512158",
     "exception": false,
     "start_time": "2023-07-20T06:35:34.507540",
     "status": "completed"
    },
    "tags": []
   },
   "source": [
    "## Load persisted onnx-model and evaluation data"
   ]
  },
  {
   "cell_type": "code",
   "execution_count": 6,
   "id": "b8492e2d",
   "metadata": {
    "execution": {
     "iopub.execute_input": "2023-07-20T06:35:34.532301Z",
     "iopub.status.busy": "2023-07-20T06:35:34.531844Z",
     "iopub.status.idle": "2023-07-20T06:35:34.539765Z",
     "shell.execute_reply": "2023-07-20T06:35:34.536456Z"
    },
    "papermill": {
     "duration": 0.026135,
     "end_time": "2023-07-20T06:35:34.542486",
     "exception": false,
     "start_time": "2023-07-20T06:35:34.516351",
     "status": "completed"
    },
    "tags": []
   },
   "outputs": [],
   "source": [
    "from common.io import read_onnx, get_onnx_inputs, get_onnx_outputs, read_numpy"
   ]
  },
  {
   "cell_type": "code",
   "execution_count": 7,
   "id": "cd5c1a46",
   "metadata": {
    "execution": {
     "iopub.execute_input": "2023-07-20T06:35:34.552754Z",
     "iopub.status.busy": "2023-07-20T06:35:34.552501Z",
     "iopub.status.idle": "2023-07-20T06:35:34.564894Z",
     "shell.execute_reply": "2023-07-20T06:35:34.564283Z"
    },
    "lines_to_next_cell": 0,
    "papermill": {
     "duration": 0.019729,
     "end_time": "2023-07-20T06:35:34.566762",
     "exception": false,
     "start_time": "2023-07-20T06:35:34.547033",
     "status": "completed"
    },
    "tags": []
   },
   "outputs": [],
   "source": [
    "onnx_inference_session = read_onnx(\n",
    "    datalake_root(ctx)\n",
    "    / \"models\"\n",
    "    / f\"nr_train_images={ctx.parameters['task.nr_train_images']}\"\n",
    "    / \"model.onnx\"\n",
    ")"
   ]
  },
  {
   "cell_type": "markdown",
   "id": "2e19c7ff",
   "metadata": {
    "papermill": {
     "duration": 0.004237,
     "end_time": "2023-07-20T06:35:34.575534",
     "exception": false,
     "start_time": "2023-07-20T06:35:34.571297",
     "status": "completed"
    },
    "tags": []
   },
   "source": [
    "### Record structure of inputs and outputs for ONNX model\n",
    "\n",
    "(this should likely be done in training notebook)"
   ]
  },
  {
   "cell_type": "code",
   "execution_count": 8,
   "id": "0f9f2e0f",
   "metadata": {
    "execution": {
     "iopub.execute_input": "2023-07-20T06:35:34.597560Z",
     "iopub.status.busy": "2023-07-20T06:35:34.596645Z",
     "iopub.status.idle": "2023-07-20T06:35:34.606057Z",
     "shell.execute_reply": "2023-07-20T06:35:34.604139Z"
    },
    "papermill": {
     "duration": 0.020899,
     "end_time": "2023-07-20T06:35:34.608055",
     "exception": false,
     "start_time": "2023-07-20T06:35:34.587156",
     "status": "completed"
    },
    "tags": []
   },
   "outputs": [
    {
     "name": "stdout",
     "output_type": "stream",
     "text": [
      "{\n",
      "  \"inputs\": [\n",
      "    {\n",
      "      \"name\": \"float_input_8x8_image\",\n",
      "      \"shape\": [\n",
      "        null,\n",
      "        64\n",
      "      ],\n",
      "      \"type\": \"tensor(float)\"\n",
      "    }\n",
      "  ],\n",
      "  \"outputs\": [\n",
      "    {\n",
      "      \"name\": \"output_label\",\n",
      "      \"shape\": [\n",
      "        null\n",
      "      ],\n",
      "      \"type\": \"tensor(int64)\"\n",
      "    },\n",
      "    {\n",
      "      \"name\": \"output_probability\",\n",
      "      \"shape\": [],\n",
      "      \"type\": \"seq(map(int64,tensor(float)))\"\n",
      "    }\n",
      "  ]\n",
      "}\n"
     ]
    }
   ],
   "source": [
    "import json\n",
    "\n",
    "onnx_io = json.dumps(\n",
    "    {\n",
    "        \"inputs\": get_onnx_inputs(onnx_inference_session),\n",
    "        \"outputs\": get_onnx_outputs(onnx_inference_session),\n",
    "    },\n",
    "    indent=2,\n",
    ")\n",
    "\n",
    "\n",
    "ctx.log_artefact(\"onnx_io_structure.json\", onnx_io)\n",
    "print(onnx_io)"
   ]
  },
  {
   "cell_type": "markdown",
   "id": "b3080448",
   "metadata": {
    "papermill": {
     "duration": 0.004765,
     "end_time": "2023-07-20T06:35:34.617645",
     "exception": false,
     "start_time": "2023-07-20T06:35:34.612880",
     "status": "completed"
    },
    "tags": []
   },
   "source": [
    "### Evaluate model performance on evaluation data set"
   ]
  },
  {
   "cell_type": "code",
   "execution_count": 9,
   "id": "df2cd2d3",
   "metadata": {
    "execution": {
     "iopub.execute_input": "2023-07-20T06:35:34.631750Z",
     "iopub.status.busy": "2023-07-20T06:35:34.631394Z",
     "iopub.status.idle": "2023-07-20T06:35:34.638668Z",
     "shell.execute_reply": "2023-07-20T06:35:34.638073Z"
    },
    "papermill": {
     "duration": 0.015878,
     "end_time": "2023-07-20T06:35:34.640684",
     "exception": false,
     "start_time": "2023-07-20T06:35:34.624806",
     "status": "completed"
    },
    "tags": []
   },
   "outputs": [],
   "source": [
    "# load evaluation data\n",
    "X_test = read_numpy(datalake_root(ctx) / \"test-data\" / \"digits.numpy\")\n",
    "y_test = read_numpy(datalake_root(ctx) / \"test-data\" / \"labels.numpy\")"
   ]
  },
  {
   "cell_type": "code",
   "execution_count": 10,
   "id": "5348bbf7",
   "metadata": {
    "execution": {
     "iopub.execute_input": "2023-07-20T06:35:34.651848Z",
     "iopub.status.busy": "2023-07-20T06:35:34.651577Z",
     "iopub.status.idle": "2023-07-20T06:35:34.666108Z",
     "shell.execute_reply": "2023-07-20T06:35:34.665517Z"
    },
    "papermill": {
     "duration": 0.0227,
     "end_time": "2023-07-20T06:35:34.668073",
     "exception": false,
     "start_time": "2023-07-20T06:35:34.645373",
     "status": "completed"
    },
    "tags": []
   },
   "outputs": [],
   "source": [
    "def get_model_outputs(X, onnx_inference_session):\n",
    "    y_pred_labels, y_pred_map = onnx_inference_session.run(\n",
    "        [\"output_label\", \"output_probability\"],\n",
    "        {\"float_input_8x8_image\": X.astype(np.float32)},\n",
    "    )\n",
    "    y_pred_probs = np.array(\n",
    "        [[probabilities[digit] for digit in range(10)] for probabilities in y_pred_map]\n",
    "    )\n",
    "\n",
    "    assert y_pred_labels.shape == (X.shape[0],)\n",
    "    assert y_pred_probs.shape == (X.shape[0], 10)\n",
    "\n",
    "    return y_pred_labels, y_pred_probs\n",
    "\n",
    "\n",
    "# Note: as shown in the training notebook, the predicted labels and probabilities\n",
    "# computed below need not be compatible.\n",
    "y_pred_labels_test, y_pred_probs_test = get_model_outputs(\n",
    "    X_test, onnx_inference_session\n",
    ")"
   ]
  },
  {
   "cell_type": "markdown",
   "id": "d9b39ed4",
   "metadata": {
    "papermill": {
     "duration": 0.004361,
     "end_time": "2023-07-20T06:35:34.677173",
     "exception": false,
     "start_time": "2023-07-20T06:35:34.672812",
     "status": "completed"
    },
    "tags": []
   },
   "source": [
    "### Confusion matrix"
   ]
  },
  {
   "cell_type": "code",
   "execution_count": 11,
   "id": "d52fcb97",
   "metadata": {
    "execution": {
     "iopub.execute_input": "2023-07-20T06:35:34.694361Z",
     "iopub.status.busy": "2023-07-20T06:35:34.694062Z",
     "iopub.status.idle": "2023-07-20T06:35:34.697920Z",
     "shell.execute_reply": "2023-07-20T06:35:34.697301Z"
    },
    "papermill": {
     "duration": 0.018729,
     "end_time": "2023-07-20T06:35:34.700225",
     "exception": false,
     "start_time": "2023-07-20T06:35:34.681496",
     "status": "completed"
    },
    "tags": []
   },
   "outputs": [],
   "source": [
    "# TODO"
   ]
  },
  {
   "cell_type": "markdown",
   "id": "253d4066",
   "metadata": {
    "papermill": {
     "duration": 0.004732,
     "end_time": "2023-07-20T06:35:34.709741",
     "exception": false,
     "start_time": "2023-07-20T06:35:34.705009",
     "status": "completed"
    },
    "tags": []
   },
   "source": [
    "### Plot predicted probabilities for each classifier over all evaluation digit images"
   ]
  },
  {
   "cell_type": "code",
   "execution_count": 12,
   "id": "7221d5eb",
   "metadata": {
    "execution": {
     "iopub.execute_input": "2023-07-20T06:35:34.720799Z",
     "iopub.status.busy": "2023-07-20T06:35:34.720496Z",
     "iopub.status.idle": "2023-07-20T06:35:38.686328Z",
     "shell.execute_reply": "2023-07-20T06:35:38.683790Z"
    },
    "papermill": {
     "duration": 3.973927,
     "end_time": "2023-07-20T06:35:38.688177",
     "exception": false,
     "start_time": "2023-07-20T06:35:34.714250",
     "status": "completed"
    },
    "tags": []
   },
   "outputs": [
    {
     "data": {
      "image/png": "[encoded data removed]",
      "text/plain": [
       "<Figure size 1600x600 with 10 Axes>"
      ]
     },
     "metadata": {},
     "output_type": "display_data"
    }
   ],
   "source": [
    "def plot_per_digit_probabilities(y_pred_probs):\n",
    "    fig, axs = plt.subplots(nrows=2, ncols=5, figsize=(16, 6))\n",
    "\n",
    "    for (r, c), digit, ax in zip(\n",
    "        it.product(range(2), range(5)), range(10), axs.reshape(-1)\n",
    "    ):\n",
    "        ax.hist(y_pred_probs_test[:, digit], bins=20)\n",
    "\n",
    "        ax.set_title(f\"Digit {digit}\")\n",
    "        if r == 1 and c == 2:\n",
    "            ax.set_xlabel(\"probability\", fontsize=16)\n",
    "\n",
    "        if c == 0:\n",
    "            ax.set_ylabel(\"counts\", fontsize=16)\n",
    "        ax.set_yscale(\"log\")\n",
    "\n",
    "    fig.tight_layout()\n",
    "    fig.suptitle(\n",
    "        f\"Distributions of prediction probabilities for each digit \"\n",
    "        f\"(on evaluation data, n={y_pred_probs.shape[0]})\",\n",
    "        fontsize=20,\n",
    "    )\n",
    "    fig.tight_layout()\n",
    "    fig.show()\n",
    "\n",
    "    return fig\n",
    "\n",
    "\n",
    "fig = plot_per_digit_probabilities(y_pred_probs_test)"
   ]
  },
  {
   "cell_type": "markdown",
   "id": "f1b17e95",
   "metadata": {
    "papermill": {
     "duration": 0.005075,
     "end_time": "2023-07-20T06:35:38.698933",
     "exception": false,
     "start_time": "2023-07-20T06:35:38.693858",
     "status": "completed"
    },
    "tags": []
   },
   "source": [
    "From the above distributions we see that most digits have clear separation between\n",
    "high and lower probabilities. Morover, in each case there is roughly an order of\n",
    "magnitude more of digits with low probabilities. This is compatible with digits\n",
    "being roughly evenly distributed in the data."
   ]
  },
  {
   "cell_type": "code",
   "execution_count": 13,
   "id": "2de62e02",
   "metadata": {
    "execution": {
     "iopub.execute_input": "2023-07-20T06:35:38.710482Z",
     "iopub.status.busy": "2023-07-20T06:35:38.710075Z",
     "iopub.status.idle": "2023-07-20T06:35:39.329890Z",
     "shell.execute_reply": "2023-07-20T06:35:39.328850Z"
    },
    "papermill": {
     "duration": 0.627791,
     "end_time": "2023-07-20T06:35:39.331821",
     "exception": false,
     "start_time": "2023-07-20T06:35:38.704030",
     "status": "completed"
    },
    "tags": []
   },
   "outputs": [],
   "source": [
    "ctx.log_figure(\"per-digit-probabilities.png\", fig)"
   ]
  },
  {
   "cell_type": "markdown",
   "id": "66c28871",
   "metadata": {
    "papermill": {
     "duration": 0.005191,
     "end_time": "2023-07-20T06:35:39.342448",
     "exception": false,
     "start_time": "2023-07-20T06:35:39.337257",
     "status": "completed"
    },
    "tags": []
   },
   "source": [
    "### Plot ROC curves for individual one-vs-rest classifiers"
   ]
  },
  {
   "cell_type": "code",
   "execution_count": 14,
   "id": "14d4d47a",
   "metadata": {
    "execution": {
     "iopub.execute_input": "2023-07-20T06:35:39.354425Z",
     "iopub.status.busy": "2023-07-20T06:35:39.353829Z",
     "iopub.status.idle": "2023-07-20T06:35:39.669106Z",
     "shell.execute_reply": "2023-07-20T06:35:39.668343Z"
    },
    "papermill": {
     "duration": 0.32352,
     "end_time": "2023-07-20T06:35:39.671189",
     "exception": false,
     "start_time": "2023-07-20T06:35:39.347669",
     "status": "completed"
    },
    "tags": []
   },
   "outputs": [],
   "source": [
    "from sklearn import metrics"
   ]
  },
  {
   "cell_type": "code",
   "execution_count": 15,
   "id": "7ea6f836",
   "metadata": {
    "execution": {
     "iopub.execute_input": "2023-07-20T06:35:39.683753Z",
     "iopub.status.busy": "2023-07-20T06:35:39.683025Z",
     "iopub.status.idle": "2023-07-20T06:35:41.555299Z",
     "shell.execute_reply": "2023-07-20T06:35:41.553423Z"
    },
    "papermill": {
     "duration": 1.881411,
     "end_time": "2023-07-20T06:35:41.558081",
     "exception": false,
     "start_time": "2023-07-20T06:35:39.676670",
     "status": "completed"
    },
    "tags": []
   },
   "outputs": [
    {
     "data": {
      "image/png": "[encoded data removed]",
      "text/plain": [
       "<Figure size 1600x800 with 10 Axes>"
      ]
     },
     "metadata": {},
     "output_type": "display_data"
    }
   ],
   "source": [
    "def plot_roc_curves(y, y_pred_probs):\n",
    "    # based on example code\n",
    "    # https://scikit-learn.org/stable/auto_examples/model_selection/plot_roc.html\n",
    "\n",
    "    fig, axs = plt.subplots(nrows=2, ncols=5, figsize=(16, 8))\n",
    "\n",
    "    roc_auc_dict = {}\n",
    "\n",
    "    for (r, c), digit, ax in zip(\n",
    "        it.product(range(2), range(5)), range(10), axs.reshape(-1)\n",
    "    ):\n",
    "        fpr, tpr, _ = metrics.roc_curve(y == digit, y_pred_probs[:, digit])\n",
    "        auc = metrics.auc(fpr, tpr)\n",
    "        roc_auc_dict[str(digit)] = auc\n",
    "\n",
    "        ax.plot(fpr, tpr, label=f\"ROC AUC={round(auc, 3)}\")\n",
    "\n",
    "        ax.set_title(f\"\\nDigit {digit}\", fontsize=16)\n",
    "        if r == 1:\n",
    "            ax.set_xlabel(\"FPR\", fontsize=18)\n",
    "\n",
    "        if c == 0:\n",
    "            ax.set_ylabel(\"TPR\", fontsize=18)\n",
    "\n",
    "        ax.set_xlim([-0.05, 1.05])\n",
    "        ax.set_ylim([-0.05, 1.05])\n",
    "        ax.legend(loc=\"lower right\", frameon=False, fontsize=14)\n",
    "\n",
    "    fig.tight_layout()\n",
    "    fig.suptitle(\n",
    "        f\"ROC plots for one-vs-rest performances \"\n",
    "        f\"(on evaluation data, n={y_pred_probs_test.shape[1]}\",\n",
    "        fontsize=22,\n",
    "    )\n",
    "    fig.tight_layout()\n",
    "    fig.show()\n",
    "\n",
    "    return roc_auc_dict, fig\n",
    "\n",
    "\n",
    "roc_auc_dict, fig = plot_roc_curves(y_test, y_pred_probs_test)"
   ]
  },
  {
   "cell_type": "code",
   "execution_count": 16,
   "id": "793268f7",
   "metadata": {
    "execution": {
     "iopub.execute_input": "2023-07-20T06:35:41.573742Z",
     "iopub.status.busy": "2023-07-20T06:35:41.573425Z",
     "iopub.status.idle": "2023-07-20T06:35:41.945124Z",
     "shell.execute_reply": "2023-07-20T06:35:41.944371Z"
    },
    "papermill": {
     "duration": 0.38313,
     "end_time": "2023-07-20T06:35:41.948364",
     "exception": false,
     "start_time": "2023-07-20T06:35:41.565234",
     "status": "completed"
    },
    "tags": []
   },
   "outputs": [],
   "source": [
    "ctx.log_figure(\"per-digit-roc-curves.png\", fig)"
   ]
  },
  {
   "cell_type": "code",
   "execution_count": 17,
   "id": "552a4207",
   "metadata": {
    "execution": {
     "iopub.execute_input": "2023-07-20T06:35:41.962771Z",
     "iopub.status.busy": "2023-07-20T06:35:41.962490Z",
     "iopub.status.idle": "2023-07-20T06:35:41.968788Z",
     "shell.execute_reply": "2023-07-20T06:35:41.968218Z"
    },
    "papermill": {
     "duration": 0.020773,
     "end_time": "2023-07-20T06:35:41.975442",
     "exception": false,
     "start_time": "2023-07-20T06:35:41.954669",
     "status": "completed"
    },
    "tags": []
   },
   "outputs": [
    {
     "data": {
      "text/plain": [
       "{'0': 1.0,\n",
       " '1': 0.998950328022493,\n",
       " '2': 1.0,\n",
       " '3': 0.9998500468603562,\n",
       " '4': 0.9996570644718793,\n",
       " '5': 0.9994001874414246,\n",
       " '6': 0.999923792104862,\n",
       " '7': 0.9997713763145862,\n",
       " '8': 0.9948376418663303,\n",
       " '9': 0.9996570644718793}"
      ]
     },
     "execution_count": 17,
     "metadata": {},
     "output_type": "execute_result"
    }
   ],
   "source": [
    "roc_auc_dict"
   ]
  },
  {
   "cell_type": "code",
   "execution_count": 18,
   "id": "ebe3457e",
   "metadata": {
    "execution": {
     "iopub.execute_input": "2023-07-20T06:35:41.991364Z",
     "iopub.status.busy": "2023-07-20T06:35:41.991083Z",
     "iopub.status.idle": "2023-07-20T06:35:41.997475Z",
     "shell.execute_reply": "2023-07-20T06:35:41.996915Z"
    },
    "papermill": {
     "duration": 0.016089,
     "end_time": "2023-07-20T06:35:41.999217",
     "exception": false,
     "start_time": "2023-07-20T06:35:41.983128",
     "status": "completed"
    },
    "tags": []
   },
   "outputs": [
    {
     "name": "stdout",
     "output_type": "stream",
     "text": [
      " - Logging roc_auc_per_digit (json) : {'0': 1.0, '1': 0.998950328022493, '2': 1.0, '3': 0.9998500468603562, '4': 0.9996570644718793, '5': 0.9994001874414246, '6': 0.999923792104862, '7': 0.9997713763145862, '8': 0.9948376418663303, '9': 0.9996570644718793}\n"
     ]
    }
   ],
   "source": [
    "ctx.log_value(\"roc_auc_per_digit\", roc_auc_dict)"
   ]
  },
  {
   "cell_type": "markdown",
   "id": "d547d44d",
   "metadata": {
    "papermill": {
     "duration": 0.006332,
     "end_time": "2023-07-20T06:35:42.011821",
     "exception": false,
     "start_time": "2023-07-20T06:35:42.005489",
     "status": "completed"
    },
    "tags": []
   },
   "source": [
    "### Compute and log mean ROC AUC score averaged over all digits"
   ]
  },
  {
   "cell_type": "code",
   "execution_count": 19,
   "id": "2019b571",
   "metadata": {
    "execution": {
     "iopub.execute_input": "2023-07-20T06:35:42.025788Z",
     "iopub.status.busy": "2023-07-20T06:35:42.025521Z",
     "iopub.status.idle": "2023-07-20T06:35:42.038909Z",
     "shell.execute_reply": "2023-07-20T06:35:42.038338Z"
    },
    "papermill": {
     "duration": 0.022671,
     "end_time": "2023-07-20T06:35:42.040720",
     "exception": false,
     "start_time": "2023-07-20T06:35:42.018049",
     "status": "completed"
    },
    "tags": []
   },
   "outputs": [
    {
     "name": "stdout",
     "output_type": "stream",
     "text": [
      " - Logging roc_auc_class_mean (float) : 0.9992047501553811\n"
     ]
    }
   ],
   "source": [
    "roc_auc_macro = np.mean(list(roc_auc_dict.values()))\n",
    "\n",
    "ctx.log_float(\"roc_auc_class_mean\", roc_auc_macro)\n",
    "\n",
    "# assert that the same value can be computed directly using sklearn\n",
    "assert roc_auc_macro == metrics.roc_auc_score(\n",
    "    y_test, y_pred_probs_test, average=\"macro\", multi_class=\"ovr\"\n",
    ")"
   ]
  },
  {
   "cell_type": "code",
   "execution_count": 20,
   "id": "238e6c43",
   "metadata": {
    "execution": {
     "iopub.execute_input": "2023-07-20T06:35:42.054641Z",
     "iopub.status.busy": "2023-07-20T06:35:42.054405Z",
     "iopub.status.idle": "2023-07-20T06:35:42.058377Z",
     "shell.execute_reply": "2023-07-20T06:35:42.057835Z"
    },
    "lines_to_next_cell": 0,
    "papermill": {
     "duration": 0.013119,
     "end_time": "2023-07-20T06:35:42.060264",
     "exception": false,
     "start_time": "2023-07-20T06:35:42.047145",
     "status": "completed"
    },
    "tags": []
   },
   "outputs": [],
   "source": [
    "# ---"
   ]
  },
  {
   "cell_type": "code",
   "execution_count": null,
   "id": "c384ec81",
   "metadata": {
    "papermill": {
     "duration": 0.006411,
     "end_time": "2023-07-20T06:35:42.073551",
     "exception": false,
     "start_time": "2023-07-20T06:35:42.067140",
     "status": "completed"
    },
    "tags": []
   },
   "outputs": [],
   "source": []
  }
 ],
 "metadata": {
  "jupytext": {
   "cell_metadata_filter": "tags,-all",
   "main_language": "python",
   "notebook_metadata_filter": "-all"
  },
  "language_info": {
   "codemirror_mode": {
    "name": "ipython",
    "version": 3
   },
   "file_extension": ".py",
   "mimetype": "text/x-python",
   "name": "python",
   "nbconvert_exporter": "python",
   "pygments_lexer": "ipython3",
   "version": "3.8.10"
  },
  "papermill": {
   "default_parameters": {},
   "duration": 12.097522,
   "end_time": "2023-07-20T06:35:43.925037",
   "environment_variables": {},
   "exception": null,
   "input_path": "/tmp/temp-notebook-_tjmmd24.ipynb",
   "output_path": "/tmp/temp-notebook-_tjmmd24.ipynb",
   "parameters": {
    "P": {
     "_parameters_actor_name": "parameter_for_task_0x0564d3e970cb637a",
     "task.nr_train_images": 1000
    }
   },
   "start_time": "2023-07-20T06:35:31.827515",
   "version": "2.4.0"
  }
 },
 "nbformat": 4,
 "nbformat_minor": 5
}