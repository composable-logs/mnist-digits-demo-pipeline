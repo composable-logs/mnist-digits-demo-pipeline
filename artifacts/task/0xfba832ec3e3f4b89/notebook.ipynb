{
 "cells": [
  {
   "cell_type": "markdown",
   "id": "5684b0f0",
   "metadata": {
    "papermill": {
     "duration": 0.005399,
     "end_time": "2023-07-18T06:37:59.589733",
     "exception": false,
     "start_time": "2023-07-18T06:37:59.584334",
     "status": "completed"
    },
    "tags": []
   },
   "source": [
    "# Benchmark model\n",
    "\n",
    "The purpose of this notebook is to benchmark persisted onnx-model (trained in the\n",
    "previous step) against evaluation set."
   ]
  },
  {
   "cell_type": "markdown",
   "id": "4b1c4ce7",
   "metadata": {
    "papermill": {
     "duration": 0.003925,
     "end_time": "2023-07-18T06:37:59.599893",
     "exception": false,
     "start_time": "2023-07-18T06:37:59.595968",
     "status": "completed"
    },
    "tags": []
   },
   "source": [
    "### Determine run parameters"
   ]
  },
  {
   "cell_type": "code",
   "execution_count": 1,
   "id": "7bba8673",
   "metadata": {
    "execution": {
     "iopub.execute_input": "2023-07-18T06:37:59.609524Z",
     "iopub.status.busy": "2023-07-18T06:37:59.609005Z",
     "iopub.status.idle": "2023-07-18T06:37:59.616738Z",
     "shell.execute_reply": "2023-07-18T06:37:59.615904Z"
    },
    "lines_to_next_cell": 0,
    "papermill": {
     "duration": 0.014725,
     "end_time": "2023-07-18T06:37:59.618529",
     "exception": false,
     "start_time": "2023-07-18T06:37:59.603804",
     "status": "completed"
    },
    "tags": []
   },
   "outputs": [],
   "source": [
    "# ----------------- Parameters for interactive development --------------\n",
    "P = {\n",
    "    \"workflow.data_lake_root\": \"/pipeline-outputs/data-lake\",\n",
    "    \"task.nr_train_images\": 600,\n",
    "}"
   ]
  },
  {
   "cell_type": "code",
   "execution_count": 2,
   "id": "339a8c32",
   "metadata": {
    "execution": {
     "iopub.execute_input": "2023-07-18T06:37:59.628566Z",
     "iopub.status.busy": "2023-07-18T06:37:59.627937Z",
     "iopub.status.idle": "2023-07-18T06:37:59.631237Z",
     "shell.execute_reply": "2023-07-18T06:37:59.630713Z"
    },
    "lines_to_next_cell": 0,
    "papermill": {
     "duration": 0.010313,
     "end_time": "2023-07-18T06:37:59.632942",
     "exception": false,
     "start_time": "2023-07-18T06:37:59.622629",
     "status": "completed"
    },
    "tags": [
     "parameters"
    ]
   },
   "outputs": [],
   "source": [
    "# - During automated runs parameters will be injected in the below cell -"
   ]
  },
  {
   "cell_type": "code",
   "execution_count": 3,
   "id": "571bd4fe",
   "metadata": {
    "execution": {
     "iopub.execute_input": "2023-07-18T06:37:59.642833Z",
     "iopub.status.busy": "2023-07-18T06:37:59.642129Z",
     "iopub.status.idle": "2023-07-18T06:37:59.645695Z",
     "shell.execute_reply": "2023-07-18T06:37:59.645139Z"
    },
    "papermill": {
     "duration": 0.010185,
     "end_time": "2023-07-18T06:37:59.647168",
     "exception": false,
     "start_time": "2023-07-18T06:37:59.636983",
     "status": "completed"
    },
    "tags": [
     "injected-parameters"
    ]
   },
   "outputs": [],
   "source": [
    "# Parameters\n",
    "P = {\n",
    "    \"task.nr_train_images\": 800,\n",
    "    \"_parameters_actor_name\": \"parameter_for_task_0xfba832ec3e3f4b89\",\n",
    "}\n"
   ]
  },
  {
   "cell_type": "code",
   "execution_count": 4,
   "id": "f9c4db6e",
   "metadata": {
    "execution": {
     "iopub.execute_input": "2023-07-18T06:37:59.657522Z",
     "iopub.status.busy": "2023-07-18T06:37:59.656840Z",
     "iopub.status.idle": "2023-07-18T06:37:59.660392Z",
     "shell.execute_reply": "2023-07-18T06:37:59.659708Z"
    },
    "lines_to_next_cell": 0,
    "papermill": {
     "duration": 0.010606,
     "end_time": "2023-07-18T06:37:59.661878",
     "exception": false,
     "start_time": "2023-07-18T06:37:59.651272",
     "status": "completed"
    },
    "tags": []
   },
   "outputs": [],
   "source": [
    "# -----------------------------------------------------------------------"
   ]
  },
  {
   "cell_type": "markdown",
   "id": "1a588dfe",
   "metadata": {
    "papermill": {
     "duration": 0.00542,
     "end_time": "2023-07-18T06:37:59.671414",
     "exception": false,
     "start_time": "2023-07-18T06:37:59.665994",
     "status": "completed"
    },
    "tags": []
   },
   "source": [
    "---"
   ]
  },
  {
   "cell_type": "markdown",
   "id": "dcc2efa1",
   "metadata": {
    "lines_to_next_cell": 2,
    "papermill": {
     "duration": 0.00411,
     "end_time": "2023-07-18T06:37:59.679569",
     "exception": false,
     "start_time": "2023-07-18T06:37:59.675459",
     "status": "completed"
    },
    "tags": []
   },
   "source": [
    "### Notebook code"
   ]
  },
  {
   "cell_type": "code",
   "execution_count": 5,
   "id": "293cd680",
   "metadata": {
    "execution": {
     "iopub.execute_input": "2023-07-18T06:37:59.689262Z",
     "iopub.status.busy": "2023-07-18T06:37:59.688970Z",
     "iopub.status.idle": "2023-07-18T06:38:00.604507Z",
     "shell.execute_reply": "2023-07-18T06:38:00.603395Z"
    },
    "papermill": {
     "duration": 0.922717,
     "end_time": "2023-07-18T06:38:00.606408",
     "exception": false,
     "start_time": "2023-07-18T06:37:59.683691",
     "status": "completed"
    },
    "tags": []
   },
   "outputs": [
    {
     "name": "stderr",
     "output_type": "stream",
     "text": [
      "2023-07-18 06:38:00,514\tINFO worker.py:1364 -- Connecting to existing Ray cluster at address: 172.17.0.2:50938...\n"
     ]
    },
    {
     "name": "stderr",
     "output_type": "stream",
     "text": [
      "2023-07-18 06:38:00,524\tINFO worker.py:1544 -- Connected to Ray cluster. View the dashboard at \u001b[1m\u001b[32mhttp://127.0.0.1:8265 \u001b[39m\u001b[22m\n"
     ]
    },
    {
     "name": "stderr",
     "output_type": "stream",
     "text": [
      "/home/host_user/.local/lib/python3.8/site-packages/ray/runtime_context.py:27: RayDeprecationWarning: This API is deprecated and may be removed in future Ray releases. You could suppress this warning by setting env variable PYTHONWARNINGS=\"ignore::DeprecationWarning\"\n",
      "Use get_job_id() instead\n",
      "  \"job_id\": self.job_id,\n",
      "/home/host_user/.local/lib/python3.8/site-packages/ray/runtime_context.py:28: RayDeprecationWarning: This API is deprecated and may be removed in future Ray releases. You could suppress this warning by setting env variable PYTHONWARNINGS=\"ignore::DeprecationWarning\"\n",
      "Use get_node_id() instead\n",
      "  \"node_id\": self.node_id,\n"
     ]
    }
   ],
   "source": [
    "import itertools as it\n",
    "\n",
    "#\n",
    "import numpy as np\n",
    "import matplotlib.pyplot as plt\n",
    "\n",
    "#\n",
    "from composable_logs.tasks.task_opentelemetry_logging import get_task_context\n",
    "\n",
    "#\n",
    "from common.io import datalake_root\n",
    "\n",
    "ctx = get_task_context(P)"
   ]
  },
  {
   "cell_type": "markdown",
   "id": "bd807f71",
   "metadata": {
    "papermill": {
     "duration": 0.004294,
     "end_time": "2023-07-18T06:38:00.615753",
     "exception": false,
     "start_time": "2023-07-18T06:38:00.611459",
     "status": "completed"
    },
    "tags": []
   },
   "source": [
    "## Load persisted onnx-model and evaluation data"
   ]
  },
  {
   "cell_type": "code",
   "execution_count": 6,
   "id": "7b174fd4",
   "metadata": {
    "execution": {
     "iopub.execute_input": "2023-07-18T06:38:00.626028Z",
     "iopub.status.busy": "2023-07-18T06:38:00.625720Z",
     "iopub.status.idle": "2023-07-18T06:38:00.629222Z",
     "shell.execute_reply": "2023-07-18T06:38:00.628638Z"
    },
    "papermill": {
     "duration": 0.011059,
     "end_time": "2023-07-18T06:38:00.631109",
     "exception": false,
     "start_time": "2023-07-18T06:38:00.620050",
     "status": "completed"
    },
    "tags": []
   },
   "outputs": [],
   "source": [
    "from common.io import read_onnx, get_onnx_inputs, get_onnx_outputs, read_numpy"
   ]
  },
  {
   "cell_type": "code",
   "execution_count": 7,
   "id": "828063a5",
   "metadata": {
    "execution": {
     "iopub.execute_input": "2023-07-18T06:38:00.642095Z",
     "iopub.status.busy": "2023-07-18T06:38:00.641305Z",
     "iopub.status.idle": "2023-07-18T06:38:00.649386Z",
     "shell.execute_reply": "2023-07-18T06:38:00.648773Z"
    },
    "lines_to_next_cell": 0,
    "papermill": {
     "duration": 0.015242,
     "end_time": "2023-07-18T06:38:00.650895",
     "exception": false,
     "start_time": "2023-07-18T06:38:00.635653",
     "status": "completed"
    },
    "tags": []
   },
   "outputs": [],
   "source": [
    "onnx_inference_session = read_onnx(\n",
    "    datalake_root(ctx)\n",
    "    / \"models\"\n",
    "    / f\"nr_train_images={ctx.parameters['task.nr_train_images']}\"\n",
    "    / \"model.onnx\"\n",
    ")"
   ]
  },
  {
   "cell_type": "markdown",
   "id": "915292e5",
   "metadata": {
    "papermill": {
     "duration": 0.005448,
     "end_time": "2023-07-18T06:38:00.660861",
     "exception": false,
     "start_time": "2023-07-18T06:38:00.655413",
     "status": "completed"
    },
    "tags": []
   },
   "source": [
    "### Record structure of inputs and outputs for ONNX model\n",
    "\n",
    "(this should likely be done in training notebook)"
   ]
  },
  {
   "cell_type": "code",
   "execution_count": 8,
   "id": "b32f38f0",
   "metadata": {
    "execution": {
     "iopub.execute_input": "2023-07-18T06:38:00.672015Z",
     "iopub.status.busy": "2023-07-18T06:38:00.671114Z",
     "iopub.status.idle": "2023-07-18T06:38:00.676536Z",
     "shell.execute_reply": "2023-07-18T06:38:00.675905Z"
    },
    "papermill": {
     "duration": 0.012857,
     "end_time": "2023-07-18T06:38:00.678332",
     "exception": false,
     "start_time": "2023-07-18T06:38:00.665475",
     "status": "completed"
    },
    "tags": []
   },
   "outputs": [
    {
     "name": "stdout",
     "output_type": "stream",
     "text": [
      "{\n",
      "  \"inputs\": [\n",
      "    {\n",
      "      \"name\": \"float_input_8x8_image\",\n",
      "      \"shape\": [\n",
      "        null,\n",
      "        64\n",
      "      ],\n",
      "      \"type\": \"tensor(float)\"\n",
      "    }\n",
      "  ],\n",
      "  \"outputs\": [\n",
      "    {\n",
      "      \"name\": \"output_label\",\n",
      "      \"shape\": [\n",
      "        null\n",
      "      ],\n",
      "      \"type\": \"tensor(int64)\"\n",
      "    },\n",
      "    {\n",
      "      \"name\": \"output_probability\",\n",
      "      \"shape\": [],\n",
      "      \"type\": \"seq(map(int64,tensor(float)))\"\n",
      "    }\n",
      "  ]\n",
      "}\n"
     ]
    }
   ],
   "source": [
    "import json\n",
    "\n",
    "onnx_io = json.dumps(\n",
    "    {\n",
    "        \"inputs\": get_onnx_inputs(onnx_inference_session),\n",
    "        \"outputs\": get_onnx_outputs(onnx_inference_session),\n",
    "    },\n",
    "    indent=2,\n",
    ")\n",
    "\n",
    "\n",
    "ctx.log_artefact(\"onnx_io_structure.json\", onnx_io)\n",
    "print(onnx_io)"
   ]
  },
  {
   "cell_type": "markdown",
   "id": "039e489f",
   "metadata": {
    "papermill": {
     "duration": 0.004405,
     "end_time": "2023-07-18T06:38:00.687344",
     "exception": false,
     "start_time": "2023-07-18T06:38:00.682939",
     "status": "completed"
    },
    "tags": []
   },
   "source": [
    "### Evaluate model performance on evaluation data set"
   ]
  },
  {
   "cell_type": "code",
   "execution_count": 9,
   "id": "da7891f2",
   "metadata": {
    "execution": {
     "iopub.execute_input": "2023-07-18T06:38:00.698334Z",
     "iopub.status.busy": "2023-07-18T06:38:00.697473Z",
     "iopub.status.idle": "2023-07-18T06:38:00.703621Z",
     "shell.execute_reply": "2023-07-18T06:38:00.702195Z"
    },
    "papermill": {
     "duration": 0.016136,
     "end_time": "2023-07-18T06:38:00.708016",
     "exception": false,
     "start_time": "2023-07-18T06:38:00.691880",
     "status": "completed"
    },
    "tags": []
   },
   "outputs": [],
   "source": [
    "# load evaluation data\n",
    "X_test = read_numpy(datalake_root(ctx) / \"test-data\" / \"digits.numpy\")\n",
    "y_test = read_numpy(datalake_root(ctx) / \"test-data\" / \"labels.numpy\")"
   ]
  },
  {
   "cell_type": "code",
   "execution_count": 10,
   "id": "631a58cf",
   "metadata": {
    "execution": {
     "iopub.execute_input": "2023-07-18T06:38:00.719200Z",
     "iopub.status.busy": "2023-07-18T06:38:00.718327Z",
     "iopub.status.idle": "2023-07-18T06:38:00.731007Z",
     "shell.execute_reply": "2023-07-18T06:38:00.730308Z"
    },
    "papermill": {
     "duration": 0.020211,
     "end_time": "2023-07-18T06:38:00.732922",
     "exception": false,
     "start_time": "2023-07-18T06:38:00.712711",
     "status": "completed"
    },
    "tags": []
   },
   "outputs": [],
   "source": [
    "def get_model_outputs(X, onnx_inference_session):\n",
    "    y_pred_labels, y_pred_map = onnx_inference_session.run(\n",
    "        [\"output_label\", \"output_probability\"],\n",
    "        {\"float_input_8x8_image\": X.astype(np.float32)},\n",
    "    )\n",
    "    y_pred_probs = np.array(\n",
    "        [[probabilities[digit] for digit in range(10)] for probabilities in y_pred_map]\n",
    "    )\n",
    "\n",
    "    assert y_pred_labels.shape == (X.shape[0],)\n",
    "    assert y_pred_probs.shape == (X.shape[0], 10)\n",
    "\n",
    "    return y_pred_labels, y_pred_probs\n",
    "\n",
    "\n",
    "# Note: as shown in the training notebook, the predicted labels and probabilities\n",
    "# computed below need not be compatible.\n",
    "y_pred_labels_test, y_pred_probs_test = get_model_outputs(\n",
    "    X_test, onnx_inference_session\n",
    ")"
   ]
  },
  {
   "cell_type": "markdown",
   "id": "7b096a59",
   "metadata": {
    "papermill": {
     "duration": 0.004421,
     "end_time": "2023-07-18T06:38:00.742196",
     "exception": false,
     "start_time": "2023-07-18T06:38:00.737775",
     "status": "completed"
    },
    "tags": []
   },
   "source": [
    "### Confusion matrix"
   ]
  },
  {
   "cell_type": "code",
   "execution_count": 11,
   "id": "f6ae9327",
   "metadata": {
    "execution": {
     "iopub.execute_input": "2023-07-18T06:38:00.752789Z",
     "iopub.status.busy": "2023-07-18T06:38:00.752203Z",
     "iopub.status.idle": "2023-07-18T06:38:00.755644Z",
     "shell.execute_reply": "2023-07-18T06:38:00.755062Z"
    },
    "papermill": {
     "duration": 0.010585,
     "end_time": "2023-07-18T06:38:00.757211",
     "exception": false,
     "start_time": "2023-07-18T06:38:00.746626",
     "status": "completed"
    },
    "tags": []
   },
   "outputs": [],
   "source": [
    "# TODO"
   ]
  },
  {
   "cell_type": "markdown",
   "id": "8c3a5e5b",
   "metadata": {
    "papermill": {
     "duration": 0.004476,
     "end_time": "2023-07-18T06:38:00.766326",
     "exception": false,
     "start_time": "2023-07-18T06:38:00.761850",
     "status": "completed"
    },
    "tags": []
   },
   "source": [
    "### Plot predicted probabilities for each classifier over all evaluation digit images"
   ]
  },
  {
   "cell_type": "code",
   "execution_count": 12,
   "id": "64da750d",
   "metadata": {
    "execution": {
     "iopub.execute_input": "2023-07-18T06:38:00.777610Z",
     "iopub.status.busy": "2023-07-18T06:38:00.776670Z",
     "iopub.status.idle": "2023-07-18T06:38:04.491314Z",
     "shell.execute_reply": "2023-07-18T06:38:04.490359Z"
    },
    "papermill": {
     "duration": 3.722452,
     "end_time": "2023-07-18T06:38:04.493303",
     "exception": false,
     "start_time": "2023-07-18T06:38:00.770851",
     "status": "completed"
    },
    "tags": []
   },
   "outputs": [
    {
     "data": {
      "image/png": "[encoded data removed]",
      "text/plain": [
       "<Figure size 1600x600 with 10 Axes>"
      ]
     },
     "metadata": {},
     "output_type": "display_data"
    }
   ],
   "source": [
    "def plot_per_digit_probabilities(y_pred_probs):\n",
    "    fig, axs = plt.subplots(nrows=2, ncols=5, figsize=(16, 6))\n",
    "\n",
    "    for (r, c), digit, ax in zip(\n",
    "        it.product(range(2), range(5)), range(10), axs.reshape(-1)\n",
    "    ):\n",
    "        ax.hist(y_pred_probs_test[:, digit], bins=20)\n",
    "\n",
    "        ax.set_title(f\"Digit {digit}\")\n",
    "        if r == 1 and c == 2:\n",
    "            ax.set_xlabel(\"probability\", fontsize=16)\n",
    "\n",
    "        if c == 0:\n",
    "            ax.set_ylabel(\"counts\", fontsize=16)\n",
    "        ax.set_yscale(\"log\")\n",
    "\n",
    "    fig.tight_layout()\n",
    "    fig.suptitle(\n",
    "        f\"Distributions of prediction probabilities for each digit \"\n",
    "        f\"(on evaluation data, n={y_pred_probs.shape[0]})\",\n",
    "        fontsize=20,\n",
    "    )\n",
    "    fig.tight_layout()\n",
    "    fig.show()\n",
    "\n",
    "    return fig\n",
    "\n",
    "\n",
    "fig = plot_per_digit_probabilities(y_pred_probs_test)"
   ]
  },
  {
   "cell_type": "markdown",
   "id": "8148b9fe",
   "metadata": {
    "papermill": {
     "duration": 0.008296,
     "end_time": "2023-07-18T06:38:04.507617",
     "exception": false,
     "start_time": "2023-07-18T06:38:04.499321",
     "status": "completed"
    },
    "tags": []
   },
   "source": [
    "From the above distributions we see that most digits have clear separation between\n",
    "high and lower probabilities. Morover, in each case there is roughly an order of\n",
    "magnitude more of digits with low probabilities. This is compatible with digits\n",
    "being roughly evenly distributed in the data."
   ]
  },
  {
   "cell_type": "code",
   "execution_count": 13,
   "id": "41a17737",
   "metadata": {
    "execution": {
     "iopub.execute_input": "2023-07-18T06:38:04.520489Z",
     "iopub.status.busy": "2023-07-18T06:38:04.519740Z",
     "iopub.status.idle": "2023-07-18T06:38:05.145127Z",
     "shell.execute_reply": "2023-07-18T06:38:05.144358Z"
    },
    "papermill": {
     "duration": 0.633973,
     "end_time": "2023-07-18T06:38:05.147047",
     "exception": false,
     "start_time": "2023-07-18T06:38:04.513074",
     "status": "completed"
    },
    "tags": []
   },
   "outputs": [],
   "source": [
    "ctx.log_figure(\"per-digit-probabilities.png\", fig)"
   ]
  },
  {
   "cell_type": "markdown",
   "id": "22c04425",
   "metadata": {
    "papermill": {
     "duration": 0.005365,
     "end_time": "2023-07-18T06:38:05.158059",
     "exception": false,
     "start_time": "2023-07-18T06:38:05.152694",
     "status": "completed"
    },
    "tags": []
   },
   "source": [
    "### Plot ROC curves for individual one-vs-rest classifiers"
   ]
  },
  {
   "cell_type": "code",
   "execution_count": 14,
   "id": "c1c9933f",
   "metadata": {
    "execution": {
     "iopub.execute_input": "2023-07-18T06:38:05.170737Z",
     "iopub.status.busy": "2023-07-18T06:38:05.170429Z",
     "iopub.status.idle": "2023-07-18T06:38:05.490081Z",
     "shell.execute_reply": "2023-07-18T06:38:05.489315Z"
    },
    "papermill": {
     "duration": 0.328373,
     "end_time": "2023-07-18T06:38:05.492101",
     "exception": false,
     "start_time": "2023-07-18T06:38:05.163728",
     "status": "completed"
    },
    "tags": []
   },
   "outputs": [],
   "source": [
    "from sklearn import metrics"
   ]
  },
  {
   "cell_type": "code",
   "execution_count": 15,
   "id": "c22268ac",
   "metadata": {
    "execution": {
     "iopub.execute_input": "2023-07-18T06:38:05.505601Z",
     "iopub.status.busy": "2023-07-18T06:38:05.504898Z",
     "iopub.status.idle": "2023-07-18T06:38:07.343413Z",
     "shell.execute_reply": "2023-07-18T06:38:07.342718Z"
    },
    "papermill": {
     "duration": 1.847428,
     "end_time": "2023-07-18T06:38:07.345492",
     "exception": false,
     "start_time": "2023-07-18T06:38:05.498064",
     "status": "completed"
    },
    "tags": []
   },
   "outputs": [
    {
     "data": {
      "image/png": "[encoded data removed]",
      "text/plain": [
       "<Figure size 1600x800 with 10 Axes>"
      ]
     },
     "metadata": {},
     "output_type": "display_data"
    }
   ],
   "source": [
    "def plot_roc_curves(y, y_pred_probs):\n",
    "    # based on example code\n",
    "    # https://scikit-learn.org/stable/auto_examples/model_selection/plot_roc.html\n",
    "\n",
    "    fig, axs = plt.subplots(nrows=2, ncols=5, figsize=(16, 8))\n",
    "\n",
    "    roc_auc_dict = {}\n",
    "\n",
    "    for (r, c), digit, ax in zip(\n",
    "        it.product(range(2), range(5)), range(10), axs.reshape(-1)\n",
    "    ):\n",
    "        fpr, tpr, _ = metrics.roc_curve(y == digit, y_pred_probs[:, digit])\n",
    "        auc = metrics.auc(fpr, tpr)\n",
    "        roc_auc_dict[str(digit)] = auc\n",
    "\n",
    "        ax.plot(fpr, tpr, label=f\"ROC AUC={round(auc, 3)}\")\n",
    "\n",
    "        ax.set_title(f\"\\nDigit {digit}\", fontsize=16)\n",
    "        if r == 1:\n",
    "            ax.set_xlabel(\"FPR\", fontsize=18)\n",
    "\n",
    "        if c == 0:\n",
    "            ax.set_ylabel(\"TPR\", fontsize=18)\n",
    "\n",
    "        ax.set_xlim([-0.05, 1.05])\n",
    "        ax.set_ylim([-0.05, 1.05])\n",
    "        ax.legend(loc=\"lower right\", frameon=False, fontsize=14)\n",
    "\n",
    "    fig.tight_layout()\n",
    "    fig.suptitle(\n",
    "        f\"ROC plots for one-vs-rest performances \"\n",
    "        f\"(on evaluation data, n={y_pred_probs_test.shape[1]}\",\n",
    "        fontsize=22,\n",
    "    )\n",
    "    fig.tight_layout()\n",
    "    fig.show()\n",
    "\n",
    "    return roc_auc_dict, fig\n",
    "\n",
    "\n",
    "roc_auc_dict, fig = plot_roc_curves(y_test, y_pred_probs_test)"
   ]
  },
  {
   "cell_type": "code",
   "execution_count": 16,
   "id": "1e23acbb",
   "metadata": {
    "execution": {
     "iopub.execute_input": "2023-07-18T06:38:07.362232Z",
     "iopub.status.busy": "2023-07-18T06:38:07.361926Z",
     "iopub.status.idle": "2023-07-18T06:38:07.683290Z",
     "shell.execute_reply": "2023-07-18T06:38:07.682571Z"
    },
    "papermill": {
     "duration": 0.332363,
     "end_time": "2023-07-18T06:38:07.685184",
     "exception": false,
     "start_time": "2023-07-18T06:38:07.352821",
     "status": "completed"
    },
    "tags": []
   },
   "outputs": [],
   "source": [
    "ctx.log_figure(\"per-digit-roc-curves.png\", fig)"
   ]
  },
  {
   "cell_type": "code",
   "execution_count": 17,
   "id": "e3a9aa89",
   "metadata": {
    "execution": {
     "iopub.execute_input": "2023-07-18T06:38:07.701375Z",
     "iopub.status.busy": "2023-07-18T06:38:07.700612Z",
     "iopub.status.idle": "2023-07-18T06:38:07.708467Z",
     "shell.execute_reply": "2023-07-18T06:38:07.707715Z"
    },
    "papermill": {
     "duration": 0.018203,
     "end_time": "2023-07-18T06:38:07.710582",
     "exception": false,
     "start_time": "2023-07-18T06:38:07.692379",
     "status": "completed"
    },
    "tags": []
   },
   "outputs": [
    {
     "data": {
      "text/plain": [
       "{'0': 1.0,\n",
       " '1': 0.9988003748828491,\n",
       " '2': 1.0,\n",
       " '3': 0.9998125585754452,\n",
       " '4': 0.9994665447340345,\n",
       " '5': 0.9991377694470478,\n",
       " '6': 0.999961896052431,\n",
       " '7': 0.9998856881572931,\n",
       " '8': 0.9925520176544766,\n",
       " '9': 0.9994284407864655}"
      ]
     },
     "execution_count": 17,
     "metadata": {},
     "output_type": "execute_result"
    }
   ],
   "source": [
    "roc_auc_dict"
   ]
  },
  {
   "cell_type": "code",
   "execution_count": 18,
   "id": "ee95b6bd",
   "metadata": {
    "execution": {
     "iopub.execute_input": "2023-07-18T06:38:07.726436Z",
     "iopub.status.busy": "2023-07-18T06:38:07.725712Z",
     "iopub.status.idle": "2023-07-18T06:38:07.732366Z",
     "shell.execute_reply": "2023-07-18T06:38:07.731678Z"
    },
    "papermill": {
     "duration": 0.01645,
     "end_time": "2023-07-18T06:38:07.734083",
     "exception": false,
     "start_time": "2023-07-18T06:38:07.717633",
     "status": "completed"
    },
    "tags": []
   },
   "outputs": [
    {
     "name": "stdout",
     "output_type": "stream",
     "text": [
      " - Logging roc_auc_per_digit (json) : {'0': 1.0, '1': 0.9988003748828491, '2': 1.0, '3': 0.9998125585754452, '4': 0.9994665447340345, '5': 0.9991377694470478, '6': 0.999961896052431, '7': 0.9998856881572931, '8': 0.9925520176544766, '9': 0.9994284407864655}\n"
     ]
    }
   ],
   "source": [
    "ctx.log_value(\"roc_auc_per_digit\", roc_auc_dict)"
   ]
  },
  {
   "cell_type": "markdown",
   "id": "498a0bdf",
   "metadata": {
    "papermill": {
     "duration": 0.007218,
     "end_time": "2023-07-18T06:38:07.748435",
     "exception": false,
     "start_time": "2023-07-18T06:38:07.741217",
     "status": "completed"
    },
    "tags": []
   },
   "source": [
    "### Compute and log mean ROC AUC score averaged over all digits"
   ]
  },
  {
   "cell_type": "code",
   "execution_count": 19,
   "id": "62e09515",
   "metadata": {
    "execution": {
     "iopub.execute_input": "2023-07-18T06:38:07.765128Z",
     "iopub.status.busy": "2023-07-18T06:38:07.764458Z",
     "iopub.status.idle": "2023-07-18T06:38:07.779612Z",
     "shell.execute_reply": "2023-07-18T06:38:07.778993Z"
    },
    "papermill": {
     "duration": 0.026073,
     "end_time": "2023-07-18T06:38:07.781475",
     "exception": false,
     "start_time": "2023-07-18T06:38:07.755402",
     "status": "completed"
    },
    "tags": []
   },
   "outputs": [
    {
     "name": "stdout",
     "output_type": "stream",
     "text": [
      " - Logging roc_auc_class_mean (float) : 0.9989045290290042\n"
     ]
    }
   ],
   "source": [
    "roc_auc_macro = np.mean(list(roc_auc_dict.values()))\n",
    "\n",
    "ctx.log_float(\"roc_auc_class_mean\", roc_auc_macro)\n",
    "\n",
    "# assert that the same value can be computed directly using sklearn\n",
    "assert roc_auc_macro == metrics.roc_auc_score(\n",
    "    y_test, y_pred_probs_test, average=\"macro\", multi_class=\"ovr\"\n",
    ")"
   ]
  },
  {
   "cell_type": "code",
   "execution_count": 20,
   "id": "0e8e25a9",
   "metadata": {
    "execution": {
     "iopub.execute_input": "2023-07-18T06:38:07.800534Z",
     "iopub.status.busy": "2023-07-18T06:38:07.800172Z",
     "iopub.status.idle": "2023-07-18T06:38:07.803573Z",
     "shell.execute_reply": "2023-07-18T06:38:07.802929Z"
    },
    "lines_to_next_cell": 0,
    "papermill": {
     "duration": 0.01525,
     "end_time": "2023-07-18T06:38:07.805386",
     "exception": false,
     "start_time": "2023-07-18T06:38:07.790136",
     "status": "completed"
    },
    "tags": []
   },
   "outputs": [],
   "source": [
    "# ---"
   ]
  },
  {
   "cell_type": "code",
   "execution_count": null,
   "id": "2151c9fa",
   "metadata": {
    "papermill": {
     "duration": 0.006887,
     "end_time": "2023-07-18T06:38:07.819112",
     "exception": false,
     "start_time": "2023-07-18T06:38:07.812225",
     "status": "completed"
    },
    "tags": []
   },
   "outputs": [],
   "source": []
  }
 ],
 "metadata": {
  "jupytext": {
   "cell_metadata_filter": "tags,-all",
   "main_language": "python",
   "notebook_metadata_filter": "-all"
  },
  "language_info": {
   "codemirror_mode": {
    "name": "ipython",
    "version": 3
   },
   "file_extension": ".py",
   "mimetype": "text/x-python",
   "name": "python",
   "nbconvert_exporter": "python",
   "pygments_lexer": "ipython3",
   "version": "3.8.10"
  },
  "papermill": {
   "default_parameters": {},
   "duration": 11.420351,
   "end_time": "2023-07-18T06:38:09.763556",
   "environment_variables": {},
   "exception": null,
   "input_path": "/tmp/temp-notebook-pqu1kxq4.ipynb",
   "output_path": "/tmp/temp-notebook-pqu1kxq4.ipynb",
   "parameters": {
    "P": {
     "_parameters_actor_name": "parameter_for_task_0xfba832ec3e3f4b89",
     "task.nr_train_images": 800
    }
   },
   "start_time": "2023-07-18T06:37:58.343205",
   "version": "2.4.0"
  }
 },
 "nbformat": 4,
 "nbformat_minor": 5
}