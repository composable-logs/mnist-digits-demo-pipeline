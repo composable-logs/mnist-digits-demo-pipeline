{
 "cells": [
  {
   "cell_type": "markdown",
   "id": "4b36f292",
   "metadata": {
    "papermill": {
     "duration": 0.005854,
     "end_time": "2023-07-22T06:36:16.578648",
     "exception": false,
     "start_time": "2023-07-22T06:36:16.572794",
     "status": "completed"
    },
    "tags": []
   },
   "source": [
    "# Summarize model performances\n",
    "\n",
    "This notebooks plots the performances (using averaged ROC AUC scores) for models\n",
    "trained with different training sets."
   ]
  },
  {
   "cell_type": "markdown",
   "id": "375d710d",
   "metadata": {
    "papermill": {
     "duration": 0.003092,
     "end_time": "2023-07-22T06:36:16.585998",
     "exception": false,
     "start_time": "2023-07-22T06:36:16.582906",
     "status": "completed"
    },
    "tags": []
   },
   "source": [
    "### Determine run parameters"
   ]
  },
  {
   "cell_type": "code",
   "execution_count": 1,
   "id": "d7fe53c8",
   "metadata": {
    "execution": {
     "iopub.execute_input": "2023-07-22T06:36:16.593884Z",
     "iopub.status.busy": "2023-07-22T06:36:16.593516Z",
     "iopub.status.idle": "2023-07-22T06:36:16.605935Z",
     "shell.execute_reply": "2023-07-22T06:36:16.605045Z"
    },
    "lines_to_next_cell": 0,
    "papermill": {
     "duration": 0.019092,
     "end_time": "2023-07-22T06:36:16.608122",
     "exception": false,
     "start_time": "2023-07-22T06:36:16.589030",
     "status": "completed"
    },
    "tags": []
   },
   "outputs": [],
   "source": [
    "# ----------------- Parameters for interactive development --------------\n",
    "P = {\n",
    "    \"workflow.run_environment\": \"dev\",\n",
    "}"
   ]
  },
  {
   "cell_type": "code",
   "execution_count": 2,
   "id": "01283a56",
   "metadata": {
    "execution": {
     "iopub.execute_input": "2023-07-22T06:36:16.618438Z",
     "iopub.status.busy": "2023-07-22T06:36:16.618093Z",
     "iopub.status.idle": "2023-07-22T06:36:16.623845Z",
     "shell.execute_reply": "2023-07-22T06:36:16.622940Z"
    },
    "lines_to_next_cell": 0,
    "papermill": {
     "duration": 0.012649,
     "end_time": "2023-07-22T06:36:16.626022",
     "exception": false,
     "start_time": "2023-07-22T06:36:16.613373",
     "status": "completed"
    },
    "tags": [
     "parameters"
    ]
   },
   "outputs": [],
   "source": [
    "# - During automated runs parameters will be injected in the below cell -"
   ]
  },
  {
   "cell_type": "code",
   "execution_count": 3,
   "id": "a451f433",
   "metadata": {
    "execution": {
     "iopub.execute_input": "2023-07-22T06:36:16.634731Z",
     "iopub.status.busy": "2023-07-22T06:36:16.633954Z",
     "iopub.status.idle": "2023-07-22T06:36:16.640989Z",
     "shell.execute_reply": "2023-07-22T06:36:16.640143Z"
    },
    "papermill": {
     "duration": 0.013425,
     "end_time": "2023-07-22T06:36:16.643063",
     "exception": false,
     "start_time": "2023-07-22T06:36:16.629638",
     "status": "completed"
    },
    "tags": [
     "injected-parameters"
    ]
   },
   "outputs": [],
   "source": [
    "# Parameters\n",
    "P = {\"_parameters_actor_name\": \"parameter_for_task_0xf6e868121b8beb6b\"}\n"
   ]
  },
  {
   "cell_type": "code",
   "execution_count": 4,
   "id": "62b11625",
   "metadata": {
    "execution": {
     "iopub.execute_input": "2023-07-22T06:36:16.651002Z",
     "iopub.status.busy": "2023-07-22T06:36:16.650687Z",
     "iopub.status.idle": "2023-07-22T06:36:16.658976Z",
     "shell.execute_reply": "2023-07-22T06:36:16.655401Z"
    },
    "lines_to_next_cell": 0,
    "papermill": {
     "duration": 0.014648,
     "end_time": "2023-07-22T06:36:16.661030",
     "exception": false,
     "start_time": "2023-07-22T06:36:16.646382",
     "status": "completed"
    },
    "tags": []
   },
   "outputs": [],
   "source": [
    "# -----------------------------------------------------------------------"
   ]
  },
  {
   "cell_type": "markdown",
   "id": "3f57536d",
   "metadata": {
    "papermill": {
     "duration": 0.00332,
     "end_time": "2023-07-22T06:36:16.668021",
     "exception": false,
     "start_time": "2023-07-22T06:36:16.664701",
     "status": "completed"
    },
    "tags": []
   },
   "source": [
    "---"
   ]
  },
  {
   "cell_type": "markdown",
   "id": "a2b74c4f",
   "metadata": {
    "lines_to_next_cell": 2,
    "papermill": {
     "duration": 0.005631,
     "end_time": "2023-07-22T06:36:16.677061",
     "exception": false,
     "start_time": "2023-07-22T06:36:16.671430",
     "status": "completed"
    },
    "tags": []
   },
   "source": [
    "### Notebook code"
   ]
  },
  {
   "cell_type": "code",
   "execution_count": 5,
   "id": "b3dc9e45",
   "metadata": {
    "execution": {
     "iopub.execute_input": "2023-07-22T06:36:16.686078Z",
     "iopub.status.busy": "2023-07-22T06:36:16.685695Z",
     "iopub.status.idle": "2023-07-22T06:36:17.997459Z",
     "shell.execute_reply": "2023-07-22T06:36:17.996443Z"
    },
    "papermill": {
     "duration": 1.319457,
     "end_time": "2023-07-22T06:36:18.000078",
     "exception": false,
     "start_time": "2023-07-22T06:36:16.680621",
     "status": "completed"
    },
    "tags": []
   },
   "outputs": [],
   "source": [
    "#\n",
    "import pandas as pd\n",
    "import matplotlib.pyplot as plt\n",
    "\n",
    "#\n",
    "from composable_logs.tasks.task_opentelemetry_logging import get_task_context"
   ]
  },
  {
   "cell_type": "code",
   "execution_count": 6,
   "id": "e00e2488",
   "metadata": {
    "execution": {
     "iopub.execute_input": "2023-07-22T06:36:18.009362Z",
     "iopub.status.busy": "2023-07-22T06:36:18.008459Z",
     "iopub.status.idle": "2023-07-22T06:36:18.116874Z",
     "shell.execute_reply": "2023-07-22T06:36:18.115114Z"
    },
    "papermill": {
     "duration": 0.115106,
     "end_time": "2023-07-22T06:36:18.119130",
     "exception": false,
     "start_time": "2023-07-22T06:36:18.004024",
     "status": "completed"
    },
    "tags": []
   },
   "outputs": [
    {
     "name": "stderr",
     "output_type": "stream",
     "text": [
      "2023-07-22 06:36:18,013\tINFO worker.py:1364 -- Connecting to existing Ray cluster at address: 172.17.0.2:57687...\n"
     ]
    },
    {
     "name": "stderr",
     "output_type": "stream",
     "text": [
      "2023-07-22 06:36:18,023\tINFO worker.py:1544 -- Connected to Ray cluster. View the dashboard at \u001b[1m\u001b[32mhttp://127.0.0.1:8265 \u001b[39m\u001b[22m\n"
     ]
    },
    {
     "name": "stderr",
     "output_type": "stream",
     "text": [
      "/home/host_user/.local/lib/python3.8/site-packages/ray/runtime_context.py:27: RayDeprecationWarning: This API is deprecated and may be removed in future Ray releases. You could suppress this warning by setting env variable PYTHONWARNINGS=\"ignore::DeprecationWarning\"\n",
      "Use get_job_id() instead\n",
      "  \"job_id\": self.job_id,\n",
      "/home/host_user/.local/lib/python3.8/site-packages/ray/runtime_context.py:28: RayDeprecationWarning: This API is deprecated and may be removed in future Ray releases. You could suppress this warning by setting env variable PYTHONWARNINGS=\"ignore::DeprecationWarning\"\n",
      "Use get_node_id() instead\n",
      "  \"node_id\": self.node_id,\n"
     ]
    }
   ],
   "source": [
    "logger = get_task_context(P)"
   ]
  },
  {
   "cell_type": "code",
   "execution_count": 7,
   "id": "fe88b86d",
   "metadata": {
    "execution": {
     "iopub.execute_input": "2023-07-22T06:36:18.128939Z",
     "iopub.status.busy": "2023-07-22T06:36:18.128595Z",
     "iopub.status.idle": "2023-07-22T06:36:18.133771Z",
     "shell.execute_reply": "2023-07-22T06:36:18.132978Z"
    },
    "papermill": {
     "duration": 0.012572,
     "end_time": "2023-07-22T06:36:18.135876",
     "exception": false,
     "start_time": "2023-07-22T06:36:18.123304",
     "status": "completed"
    },
    "tags": []
   },
   "outputs": [],
   "source": [
    "from composable_logs.tasks.task_opentelemetry_logging import get_logged_values\n",
    "from composable_logs.opentelemetry_helpers import _get_all_spans, Spans"
   ]
  },
  {
   "cell_type": "code",
   "execution_count": 8,
   "id": "8e26f5bf",
   "metadata": {
    "execution": {
     "iopub.execute_input": "2023-07-22T06:36:18.144846Z",
     "iopub.status.busy": "2023-07-22T06:36:18.144498Z",
     "iopub.status.idle": "2023-07-22T06:36:18.153577Z",
     "shell.execute_reply": "2023-07-22T06:36:18.152755Z"
    },
    "papermill": {
     "duration": 0.016133,
     "end_time": "2023-07-22T06:36:18.155609",
     "exception": false,
     "start_time": "2023-07-22T06:36:18.139476",
     "status": "completed"
    },
    "tags": []
   },
   "outputs": [],
   "source": [
    "def get_model_benchmarks():\n",
    "    \"\"\"\n",
    "    Query the OpenTelemetry logs for *this pipeline run* and return\n",
    "    all key-values logged from all runs of the benchmark-model.py task\n",
    "\n",
    "    For testing a json file with OpenTelemetry spans (as an array)\n",
    "    can be used as follows:\n",
    "\n",
    "    - Create output directory `mkdir /tmp/spans`\n",
    "    - Run unit tests. This will create pipeline-outputs/opentelemetry-spans.json\n",
    "    - Convert this json-array into jsonl format as follows\n",
    "\n",
    "    jq -c '.[]' /pipeline-outputs/opentelemetry-spans.json > /tmp/spans/data.txt\n",
    "\n",
    "    \"\"\"\n",
    "    spans: Spans = Spans(_get_all_spans())\n",
    "    print(f\" - Found {len(spans)} spans\")\n",
    "\n",
    "    benchmark_spans = (\n",
    "        spans\n",
    "        # -\n",
    "        .filter([\"name\"], \"execute-task\")\n",
    "        # -\n",
    "        .filter([\"attributes\", \"task.id\"], \"benchmark-model\")\n",
    "    )\n",
    "\n",
    "    result = []\n",
    "    for s in benchmark_spans:\n",
    "        result.append(\n",
    "            {\n",
    "                \"span_id\": s[\"context\"][\"span_id\"],\n",
    "                \"nr_train_images\": s[\"attributes\"][\"task.nr_train_images\"],\n",
    "                \"data\": get_logged_values(spans.bound_under(s)),\n",
    "            }\n",
    "        )\n",
    "\n",
    "    return result\n",
    "\n",
    "\n",
    "def adjust_pandas(df):\n",
    "    def column_renamer(col_name: str) -> str:\n",
    "        return (\n",
    "            col_name\n",
    "            # -- 'data.roc_auc_per_digit.4' -> 'roc_auc.4'\n",
    "            .replace(\"data.roc_auc_per_digit\", \"roc_auc\")\n",
    "            # -- 'data.roc_auc_class_mean' -> 'roc_auc_mean'\n",
    "            .replace(\"data.roc_auc_class_mean\", \"roc_auc_mean\")\n",
    "        )\n",
    "\n",
    "    return df.rename(column_renamer, axis=\"columns\").sort_values(by=\"nr_train_images\")"
   ]
  },
  {
   "cell_type": "code",
   "execution_count": 9,
   "id": "fc219c6d",
   "metadata": {
    "execution": {
     "iopub.execute_input": "2023-07-22T06:36:18.178376Z",
     "iopub.status.busy": "2023-07-22T06:36:18.176364Z",
     "iopub.status.idle": "2023-07-22T06:36:18.306251Z",
     "shell.execute_reply": "2023-07-22T06:36:18.305244Z"
    },
    "papermill": {
     "duration": 0.149322,
     "end_time": "2023-07-22T06:36:18.308709",
     "exception": false,
     "start_time": "2023-07-22T06:36:18.159387",
     "status": "completed"
    },
    "tags": []
   },
   "outputs": [
    {
     "name": "stdout",
     "output_type": "stream",
     "text": [
      " - Found 250 spans\n"
     ]
    }
   ],
   "source": [
    "\n",
    "df_data = adjust_pandas(pd.json_normalize(get_model_benchmarks()))"
   ]
  },
  {
   "cell_type": "code",
   "execution_count": 10,
   "id": "45b98ae5",
   "metadata": {
    "execution": {
     "iopub.execute_input": "2023-07-22T06:36:18.318018Z",
     "iopub.status.busy": "2023-07-22T06:36:18.317693Z",
     "iopub.status.idle": "2023-07-22T06:36:18.354111Z",
     "shell.execute_reply": "2023-07-22T06:36:18.353238Z"
    },
    "papermill": {
     "duration": 0.043479,
     "end_time": "2023-07-22T06:36:18.356384",
     "exception": false,
     "start_time": "2023-07-22T06:36:18.312905",
     "status": "completed"
    },
    "tags": []
   },
   "outputs": [
    {
     "data": {
      "text/html": [
       "<div>\n",
       "<style scoped>\n",
       "    .dataframe tbody tr th:only-of-type {\n",
       "        vertical-align: middle;\n",
       "    }\n",
       "\n",
       "    .dataframe tbody tr th {\n",
       "        vertical-align: top;\n",
       "    }\n",
       "\n",
       "    .dataframe thead th {\n",
       "        text-align: right;\n",
       "    }\n",
       "</style>\n",
       "<table border=\"1\" class=\"dataframe\">\n",
       "  <thead>\n",
       "    <tr style=\"text-align: right;\">\n",
       "      <th></th>\n",
       "      <th>span_id</th>\n",
       "      <th>nr_train_images</th>\n",
       "      <th>roc_auc_mean</th>\n",
       "      <th>roc_auc.0</th>\n",
       "      <th>roc_auc.1</th>\n",
       "      <th>roc_auc.2</th>\n",
       "      <th>roc_auc.3</th>\n",
       "      <th>roc_auc.4</th>\n",
       "      <th>roc_auc.5</th>\n",
       "      <th>roc_auc.6</th>\n",
       "      <th>roc_auc.7</th>\n",
       "      <th>roc_auc.8</th>\n",
       "      <th>roc_auc.9</th>\n",
       "    </tr>\n",
       "  </thead>\n",
       "  <tbody>\n",
       "    <tr>\n",
       "      <th>3</th>\n",
       "      <td>0x0089968d1a84b72e</td>\n",
       "      <td>600</td>\n",
       "      <td>0.9990</td>\n",
       "      <td>1.0</td>\n",
       "      <td>0.9992</td>\n",
       "      <td>1.0</td>\n",
       "      <td>0.9999</td>\n",
       "      <td>0.9992</td>\n",
       "      <td>0.9990</td>\n",
       "      <td>0.9999</td>\n",
       "      <td>0.9998</td>\n",
       "      <td>0.9944</td>\n",
       "      <td>0.9987</td>\n",
       "    </tr>\n",
       "    <tr>\n",
       "      <th>2</th>\n",
       "      <td>0x18604b0220283a3e</td>\n",
       "      <td>800</td>\n",
       "      <td>0.9989</td>\n",
       "      <td>1.0</td>\n",
       "      <td>0.9988</td>\n",
       "      <td>1.0</td>\n",
       "      <td>0.9998</td>\n",
       "      <td>0.9995</td>\n",
       "      <td>0.9990</td>\n",
       "      <td>0.9999</td>\n",
       "      <td>0.9999</td>\n",
       "      <td>0.9930</td>\n",
       "      <td>0.9994</td>\n",
       "    </tr>\n",
       "    <tr>\n",
       "      <th>0</th>\n",
       "      <td>0xc7985a03335cbad5</td>\n",
       "      <td>1000</td>\n",
       "      <td>0.9992</td>\n",
       "      <td>1.0</td>\n",
       "      <td>0.9990</td>\n",
       "      <td>1.0</td>\n",
       "      <td>0.9999</td>\n",
       "      <td>0.9997</td>\n",
       "      <td>0.9994</td>\n",
       "      <td>0.9999</td>\n",
       "      <td>0.9998</td>\n",
       "      <td>0.9946</td>\n",
       "      <td>0.9995</td>\n",
       "    </tr>\n",
       "    <tr>\n",
       "      <th>1</th>\n",
       "      <td>0x4e5f23d0134003c6</td>\n",
       "      <td>1200</td>\n",
       "      <td>0.9994</td>\n",
       "      <td>1.0</td>\n",
       "      <td>0.9990</td>\n",
       "      <td>1.0</td>\n",
       "      <td>0.9999</td>\n",
       "      <td>0.9997</td>\n",
       "      <td>0.9997</td>\n",
       "      <td>0.9999</td>\n",
       "      <td>0.9998</td>\n",
       "      <td>0.9958</td>\n",
       "      <td>0.9998</td>\n",
       "    </tr>\n",
       "  </tbody>\n",
       "</table>\n",
       "</div>"
      ],
      "text/plain": [
       "              span_id  nr_train_images  roc_auc_mean  roc_auc.0  roc_auc.1  \\\n",
       "3  0x0089968d1a84b72e              600        0.9990        1.0     0.9992   \n",
       "2  0x18604b0220283a3e              800        0.9989        1.0     0.9988   \n",
       "0  0xc7985a03335cbad5             1000        0.9992        1.0     0.9990   \n",
       "1  0x4e5f23d0134003c6             1200        0.9994        1.0     0.9990   \n",
       "\n",
       "   roc_auc.2  roc_auc.3  roc_auc.4  roc_auc.5  roc_auc.6  roc_auc.7  \\\n",
       "3        1.0     0.9999     0.9992     0.9990     0.9999     0.9998   \n",
       "2        1.0     0.9998     0.9995     0.9990     0.9999     0.9999   \n",
       "0        1.0     0.9999     0.9997     0.9994     0.9999     0.9998   \n",
       "1        1.0     0.9999     0.9997     0.9997     0.9999     0.9998   \n",
       "\n",
       "   roc_auc.8  roc_auc.9  \n",
       "3     0.9944     0.9987  \n",
       "2     0.9930     0.9994  \n",
       "0     0.9946     0.9995  \n",
       "1     0.9958     0.9998  "
      ]
     },
     "execution_count": 10,
     "metadata": {},
     "output_type": "execute_result"
    }
   ],
   "source": [
    "df_data.round(4)"
   ]
  },
  {
   "cell_type": "code",
   "execution_count": 11,
   "id": "59319f85",
   "metadata": {
    "execution": {
     "iopub.execute_input": "2023-07-22T06:36:18.367033Z",
     "iopub.status.busy": "2023-07-22T06:36:18.366512Z",
     "iopub.status.idle": "2023-07-22T06:36:18.669933Z",
     "shell.execute_reply": "2023-07-22T06:36:18.668995Z"
    },
    "papermill": {
     "duration": 0.311748,
     "end_time": "2023-07-22T06:36:18.672499",
     "exception": false,
     "start_time": "2023-07-22T06:36:18.360751",
     "status": "completed"
    },
    "tags": []
   },
   "outputs": [
    {
     "data": {
      "image/png": "[encoded data removed]",
      "text/plain": [
       "<Figure size 1600x400 with 1 Axes>"
      ]
     },
     "metadata": {},
     "output_type": "display_data"
    }
   ],
   "source": [
    "def plot_classifier_performance_summary(df_data):\n",
    "    fig, ax = plt.subplots(nrows=1, ncols=1, figsize=(16, 4), sharex=True)\n",
    "\n",
    "    #\n",
    "    ax.plot(\n",
    "        df_data[\"nr_train_images\"], df_data[\"roc_auc_mean\"], marker=\"o\", linestyle=\"--\"\n",
    "    )\n",
    "    ax.set_title(\n",
    "        f\"ROC AUC digit classifier performance on evaluation digits\", fontsize=17\n",
    "    )\n",
    "    ax.set_xlabel(\"Total number of digits in training set\", fontsize=14)\n",
    "    ax.set_ylabel(\"Mean ROC AUC\", fontsize=14)\n",
    "\n",
    "    fig.tight_layout()\n",
    "    fig.show()\n",
    "\n",
    "    return fig\n",
    "\n",
    "\n",
    "fig = plot_classifier_performance_summary(df_data)"
   ]
  },
  {
   "cell_type": "code",
   "execution_count": 12,
   "id": "b5a4e084",
   "metadata": {
    "execution": {
     "iopub.execute_input": "2023-07-22T06:36:18.684324Z",
     "iopub.status.busy": "2023-07-22T06:36:18.683919Z",
     "iopub.status.idle": "2023-07-22T06:36:18.787156Z",
     "shell.execute_reply": "2023-07-22T06:36:18.786148Z"
    },
    "papermill": {
     "duration": 0.111897,
     "end_time": "2023-07-22T06:36:18.789659",
     "exception": false,
     "start_time": "2023-07-22T06:36:18.677762",
     "status": "completed"
    },
    "tags": []
   },
   "outputs": [],
   "source": [
    "logger.log_figure(\"auc-roc-model-performances.png\", fig)"
   ]
  },
  {
   "cell_type": "code",
   "execution_count": 13,
   "id": "90150894",
   "metadata": {
    "execution": {
     "iopub.execute_input": "2023-07-22T06:36:18.804677Z",
     "iopub.status.busy": "2023-07-22T06:36:18.804242Z",
     "iopub.status.idle": "2023-07-22T06:36:18.808347Z",
     "shell.execute_reply": "2023-07-22T06:36:18.807494Z"
    },
    "papermill": {
     "duration": 0.015125,
     "end_time": "2023-07-22T06:36:18.810365",
     "exception": false,
     "start_time": "2023-07-22T06:36:18.795240",
     "status": "completed"
    },
    "tags": []
   },
   "outputs": [],
   "source": [
    "###"
   ]
  },
  {
   "cell_type": "code",
   "execution_count": null,
   "id": "a81ffd5b",
   "metadata": {
    "papermill": {
     "duration": 0.005107,
     "end_time": "2023-07-22T06:36:18.820833",
     "exception": false,
     "start_time": "2023-07-22T06:36:18.815726",
     "status": "completed"
    },
    "tags": []
   },
   "outputs": [],
   "source": []
  }
 ],
 "metadata": {
  "jupytext": {
   "cell_metadata_filter": "tags,-all",
   "main_language": "python",
   "notebook_metadata_filter": "-all"
  },
  "language_info": {
   "codemirror_mode": {
    "name": "ipython",
    "version": 3
   },
   "file_extension": ".py",
   "mimetype": "text/x-python",
   "name": "python",
   "nbconvert_exporter": "python",
   "pygments_lexer": "ipython3",
   "version": "3.8.10"
  },
  "papermill": {
   "default_parameters": {},
   "duration": 5.785937,
   "end_time": "2023-07-22T06:36:20.759156",
   "environment_variables": {},
   "exception": null,
   "input_path": "/tmp/temp-notebook-h3uaexfq.ipynb",
   "output_path": "/tmp/temp-notebook-h3uaexfq.ipynb",
   "parameters": {
    "P": {
     "_parameters_actor_name": "parameter_for_task_0xf6e868121b8beb6b"
    }
   },
   "start_time": "2023-07-22T06:36:14.973219",
   "version": "2.4.0"
  }
 },
 "nbformat": 4,
 "nbformat_minor": 5
}