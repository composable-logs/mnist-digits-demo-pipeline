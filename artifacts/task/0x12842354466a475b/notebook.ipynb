{
 "cells": [
  {
   "cell_type": "markdown",
   "id": "9c9e199b",
   "metadata": {
    "papermill": {
     "duration": 0.005486,
     "end_time": "2023-07-28T06:35:04.351843",
     "exception": false,
     "start_time": "2023-07-28T06:35:04.346357",
     "status": "completed"
    },
    "tags": []
   },
   "source": [
    "# Benchmark model\n",
    "\n",
    "The purpose of this notebook is to benchmark persisted onnx-model (trained in the\n",
    "previous step) against evaluation set."
   ]
  },
  {
   "cell_type": "markdown",
   "id": "7cd4c653",
   "metadata": {
    "papermill": {
     "duration": 0.004101,
     "end_time": "2023-07-28T06:35:04.362365",
     "exception": false,
     "start_time": "2023-07-28T06:35:04.358264",
     "status": "completed"
    },
    "tags": []
   },
   "source": [
    "### Determine run parameters"
   ]
  },
  {
   "cell_type": "code",
   "execution_count": 1,
   "id": "f2c5079e",
   "metadata": {
    "execution": {
     "iopub.execute_input": "2023-07-28T06:35:04.372489Z",
     "iopub.status.busy": "2023-07-28T06:35:04.372197Z",
     "iopub.status.idle": "2023-07-28T06:35:04.380836Z",
     "shell.execute_reply": "2023-07-28T06:35:04.380204Z"
    },
    "lines_to_next_cell": 0,
    "papermill": {
     "duration": 0.016396,
     "end_time": "2023-07-28T06:35:04.382860",
     "exception": false,
     "start_time": "2023-07-28T06:35:04.366464",
     "status": "completed"
    },
    "tags": []
   },
   "outputs": [],
   "source": [
    "# ----------------- Parameters for interactive development --------------\n",
    "P = {\n",
    "    \"workflow.data_lake_root\": \"/pipeline-outputs/data-lake\",\n",
    "    \"task.nr_train_images\": 600,\n",
    "}"
   ]
  },
  {
   "cell_type": "code",
   "execution_count": 2,
   "id": "546de41e",
   "metadata": {
    "execution": {
     "iopub.execute_input": "2023-07-28T06:35:04.393015Z",
     "iopub.status.busy": "2023-07-28T06:35:04.392745Z",
     "iopub.status.idle": "2023-07-28T06:35:04.397242Z",
     "shell.execute_reply": "2023-07-28T06:35:04.396655Z"
    },
    "lines_to_next_cell": 0,
    "papermill": {
     "duration": 0.011823,
     "end_time": "2023-07-28T06:35:04.399253",
     "exception": false,
     "start_time": "2023-07-28T06:35:04.387430",
     "status": "completed"
    },
    "tags": [
     "parameters"
    ]
   },
   "outputs": [],
   "source": [
    "# - During automated runs parameters will be injected in the below cell -"
   ]
  },
  {
   "cell_type": "code",
   "execution_count": 3,
   "id": "f4b7d8e7",
   "metadata": {
    "execution": {
     "iopub.execute_input": "2023-07-28T06:35:04.409125Z",
     "iopub.status.busy": "2023-07-28T06:35:04.408853Z",
     "iopub.status.idle": "2023-07-28T06:35:04.413432Z",
     "shell.execute_reply": "2023-07-28T06:35:04.412854Z"
    },
    "papermill": {
     "duration": 0.012036,
     "end_time": "2023-07-28T06:35:04.415340",
     "exception": false,
     "start_time": "2023-07-28T06:35:04.403304",
     "status": "completed"
    },
    "tags": [
     "injected-parameters"
    ]
   },
   "outputs": [],
   "source": [
    "# Parameters\n",
    "P = {\n",
    "    \"task.nr_train_images\": 600,\n",
    "    \"_parameters_actor_name\": \"parameter_for_task_0x12842354466a475b\",\n",
    "}\n"
   ]
  },
  {
   "cell_type": "code",
   "execution_count": 4,
   "id": "5f4099a4",
   "metadata": {
    "execution": {
     "iopub.execute_input": "2023-07-28T06:35:04.425301Z",
     "iopub.status.busy": "2023-07-28T06:35:04.425036Z",
     "iopub.status.idle": "2023-07-28T06:35:04.429861Z",
     "shell.execute_reply": "2023-07-28T06:35:04.429234Z"
    },
    "lines_to_next_cell": 0,
    "papermill": {
     "duration": 0.012122,
     "end_time": "2023-07-28T06:35:04.431665",
     "exception": false,
     "start_time": "2023-07-28T06:35:04.419543",
     "status": "completed"
    },
    "tags": []
   },
   "outputs": [],
   "source": [
    "# -----------------------------------------------------------------------"
   ]
  },
  {
   "cell_type": "markdown",
   "id": "23bac935",
   "metadata": {
    "papermill": {
     "duration": 0.004104,
     "end_time": "2023-07-28T06:35:04.445628",
     "exception": false,
     "start_time": "2023-07-28T06:35:04.441524",
     "status": "completed"
    },
    "tags": []
   },
   "source": [
    "---"
   ]
  },
  {
   "cell_type": "markdown",
   "id": "abb6f5a0",
   "metadata": {
    "lines_to_next_cell": 2,
    "papermill": {
     "duration": 0.004095,
     "end_time": "2023-07-28T06:35:04.453844",
     "exception": false,
     "start_time": "2023-07-28T06:35:04.449749",
     "status": "completed"
    },
    "tags": []
   },
   "source": [
    "### Notebook code"
   ]
  },
  {
   "cell_type": "code",
   "execution_count": 5,
   "id": "717838af",
   "metadata": {
    "execution": {
     "iopub.execute_input": "2023-07-28T06:35:04.463987Z",
     "iopub.status.busy": "2023-07-28T06:35:04.463705Z",
     "iopub.status.idle": "2023-07-28T06:35:05.531770Z",
     "shell.execute_reply": "2023-07-28T06:35:05.530971Z"
    },
    "papermill": {
     "duration": 1.0753,
     "end_time": "2023-07-28T06:35:05.533590",
     "exception": false,
     "start_time": "2023-07-28T06:35:04.458290",
     "status": "completed"
    },
    "tags": []
   },
   "outputs": [
    {
     "name": "stderr",
     "output_type": "stream",
     "text": [
      "2023-07-28 06:35:05,441\tINFO worker.py:1364 -- Connecting to existing Ray cluster at address: 172.17.0.2:54600...\n"
     ]
    },
    {
     "name": "stderr",
     "output_type": "stream",
     "text": [
      "2023-07-28 06:35:05,450\tINFO worker.py:1544 -- Connected to Ray cluster. View the dashboard at \u001b[1m\u001b[32mhttp://127.0.0.1:8265 \u001b[39m\u001b[22m\n"
     ]
    },
    {
     "name": "stderr",
     "output_type": "stream",
     "text": [
      "/home/host_user/.local/lib/python3.8/site-packages/ray/runtime_context.py:27: RayDeprecationWarning: This API is deprecated and may be removed in future Ray releases. You could suppress this warning by setting env variable PYTHONWARNINGS=\"ignore::DeprecationWarning\"\n",
      "Use get_job_id() instead\n",
      "  \"job_id\": self.job_id,\n",
      "/home/host_user/.local/lib/python3.8/site-packages/ray/runtime_context.py:28: RayDeprecationWarning: This API is deprecated and may be removed in future Ray releases. You could suppress this warning by setting env variable PYTHONWARNINGS=\"ignore::DeprecationWarning\"\n",
      "Use get_node_id() instead\n",
      "  \"node_id\": self.node_id,\n"
     ]
    }
   ],
   "source": [
    "import itertools as it\n",
    "\n",
    "#\n",
    "import numpy as np\n",
    "import matplotlib.pyplot as plt\n",
    "\n",
    "#\n",
    "from composable_logs.tasks.task_opentelemetry_logging import get_task_context\n",
    "\n",
    "#\n",
    "from common.io import datalake_root\n",
    "\n",
    "ctx = get_task_context(P)"
   ]
  },
  {
   "cell_type": "markdown",
   "id": "cddb38a4",
   "metadata": {
    "papermill": {
     "duration": 0.00427,
     "end_time": "2023-07-28T06:35:05.542420",
     "exception": false,
     "start_time": "2023-07-28T06:35:05.538150",
     "status": "completed"
    },
    "tags": []
   },
   "source": [
    "## Load persisted onnx-model and evaluation data"
   ]
  },
  {
   "cell_type": "code",
   "execution_count": 6,
   "id": "e64b5605",
   "metadata": {
    "execution": {
     "iopub.execute_input": "2023-07-28T06:35:05.552536Z",
     "iopub.status.busy": "2023-07-28T06:35:05.552244Z",
     "iopub.status.idle": "2023-07-28T06:35:05.556791Z",
     "shell.execute_reply": "2023-07-28T06:35:05.556153Z"
    },
    "papermill": {
     "duration": 0.012055,
     "end_time": "2023-07-28T06:35:05.558687",
     "exception": false,
     "start_time": "2023-07-28T06:35:05.546632",
     "status": "completed"
    },
    "tags": []
   },
   "outputs": [],
   "source": [
    "from common.io import read_onnx, get_onnx_inputs, get_onnx_outputs, read_numpy"
   ]
  },
  {
   "cell_type": "code",
   "execution_count": 7,
   "id": "86530674",
   "metadata": {
    "execution": {
     "iopub.execute_input": "2023-07-28T06:35:05.568774Z",
     "iopub.status.busy": "2023-07-28T06:35:05.568497Z",
     "iopub.status.idle": "2023-07-28T06:35:05.580674Z",
     "shell.execute_reply": "2023-07-28T06:35:05.579909Z"
    },
    "lines_to_next_cell": 0,
    "papermill": {
     "duration": 0.019436,
     "end_time": "2023-07-28T06:35:05.582531",
     "exception": false,
     "start_time": "2023-07-28T06:35:05.563095",
     "status": "completed"
    },
    "tags": []
   },
   "outputs": [],
   "source": [
    "onnx_inference_session = read_onnx(\n",
    "    datalake_root(ctx)\n",
    "    / \"models\"\n",
    "    / f\"nr_train_images={ctx.parameters['task.nr_train_images']}\"\n",
    "    / \"model.onnx\"\n",
    ")"
   ]
  },
  {
   "cell_type": "markdown",
   "id": "c084fa93",
   "metadata": {
    "papermill": {
     "duration": 0.004571,
     "end_time": "2023-07-28T06:35:05.591739",
     "exception": false,
     "start_time": "2023-07-28T06:35:05.587168",
     "status": "completed"
    },
    "tags": []
   },
   "source": [
    "### Record structure of inputs and outputs for ONNX model\n",
    "\n",
    "(this should likely be done in training notebook)"
   ]
  },
  {
   "cell_type": "code",
   "execution_count": 8,
   "id": "22dbba4b",
   "metadata": {
    "execution": {
     "iopub.execute_input": "2023-07-28T06:35:05.605323Z",
     "iopub.status.busy": "2023-07-28T06:35:05.605027Z",
     "iopub.status.idle": "2023-07-28T06:35:05.612858Z",
     "shell.execute_reply": "2023-07-28T06:35:05.612157Z"
    },
    "papermill": {
     "duration": 0.017882,
     "end_time": "2023-07-28T06:35:05.614854",
     "exception": false,
     "start_time": "2023-07-28T06:35:05.596972",
     "status": "completed"
    },
    "tags": []
   },
   "outputs": [
    {
     "name": "stdout",
     "output_type": "stream",
     "text": [
      "{\n",
      "  \"inputs\": [\n",
      "    {\n",
      "      \"name\": \"float_input_8x8_image\",\n",
      "      \"shape\": [\n",
      "        null,\n",
      "        64\n",
      "      ],\n",
      "      \"type\": \"tensor(float)\"\n",
      "    }\n",
      "  ],\n",
      "  \"outputs\": [\n",
      "    {\n",
      "      \"name\": \"output_label\",\n",
      "      \"shape\": [\n",
      "        null\n",
      "      ],\n",
      "      \"type\": \"tensor(int64)\"\n",
      "    },\n",
      "    {\n",
      "      \"name\": \"output_probability\",\n",
      "      \"shape\": [],\n",
      "      \"type\": \"seq(map(int64,tensor(float)))\"\n",
      "    }\n",
      "  ]\n",
      "}\n"
     ]
    }
   ],
   "source": [
    "import json\n",
    "\n",
    "onnx_io = json.dumps(\n",
    "    {\n",
    "        \"inputs\": get_onnx_inputs(onnx_inference_session),\n",
    "        \"outputs\": get_onnx_outputs(onnx_inference_session),\n",
    "    },\n",
    "    indent=2,\n",
    ")\n",
    "\n",
    "\n",
    "ctx.log_artefact(\"onnx_io_structure.json\", onnx_io)\n",
    "print(onnx_io)"
   ]
  },
  {
   "cell_type": "markdown",
   "id": "1799f6d2",
   "metadata": {
    "papermill": {
     "duration": 0.004597,
     "end_time": "2023-07-28T06:35:05.624073",
     "exception": false,
     "start_time": "2023-07-28T06:35:05.619476",
     "status": "completed"
    },
    "tags": []
   },
   "source": [
    "### Evaluate model performance on evaluation data set"
   ]
  },
  {
   "cell_type": "code",
   "execution_count": 9,
   "id": "4f7b93f7",
   "metadata": {
    "execution": {
     "iopub.execute_input": "2023-07-28T06:35:05.637260Z",
     "iopub.status.busy": "2023-07-28T06:35:05.636642Z",
     "iopub.status.idle": "2023-07-28T06:35:05.642750Z",
     "shell.execute_reply": "2023-07-28T06:35:05.642114Z"
    },
    "papermill": {
     "duration": 0.015293,
     "end_time": "2023-07-28T06:35:05.644633",
     "exception": false,
     "start_time": "2023-07-28T06:35:05.629340",
     "status": "completed"
    },
    "tags": []
   },
   "outputs": [],
   "source": [
    "# load evaluation data\n",
    "X_test = read_numpy(datalake_root(ctx) / \"test-data\" / \"digits.numpy\")\n",
    "y_test = read_numpy(datalake_root(ctx) / \"test-data\" / \"labels.numpy\")"
   ]
  },
  {
   "cell_type": "code",
   "execution_count": 10,
   "id": "35e7f745",
   "metadata": {
    "execution": {
     "iopub.execute_input": "2023-07-28T06:35:05.655976Z",
     "iopub.status.busy": "2023-07-28T06:35:05.655626Z",
     "iopub.status.idle": "2023-07-28T06:35:05.670332Z",
     "shell.execute_reply": "2023-07-28T06:35:05.669489Z"
    },
    "papermill": {
     "duration": 0.022933,
     "end_time": "2023-07-28T06:35:05.672303",
     "exception": false,
     "start_time": "2023-07-28T06:35:05.649370",
     "status": "completed"
    },
    "tags": []
   },
   "outputs": [],
   "source": [
    "def get_model_outputs(X, onnx_inference_session):\n",
    "    y_pred_labels, y_pred_map = onnx_inference_session.run(\n",
    "        [\"output_label\", \"output_probability\"],\n",
    "        {\"float_input_8x8_image\": X.astype(np.float32)},\n",
    "    )\n",
    "    y_pred_probs = np.array(\n",
    "        [[probabilities[digit] for digit in range(10)] for probabilities in y_pred_map]\n",
    "    )\n",
    "\n",
    "    assert y_pred_labels.shape == (X.shape[0],)\n",
    "    assert y_pred_probs.shape == (X.shape[0], 10)\n",
    "\n",
    "    return y_pred_labels, y_pred_probs\n",
    "\n",
    "\n",
    "# Note: as shown in the training notebook, the predicted labels and probabilities\n",
    "# computed below need not be compatible.\n",
    "y_pred_labels_test, y_pred_probs_test = get_model_outputs(\n",
    "    X_test, onnx_inference_session\n",
    ")"
   ]
  },
  {
   "cell_type": "markdown",
   "id": "296cb109",
   "metadata": {
    "papermill": {
     "duration": 0.004982,
     "end_time": "2023-07-28T06:35:05.682263",
     "exception": false,
     "start_time": "2023-07-28T06:35:05.677281",
     "status": "completed"
    },
    "tags": []
   },
   "source": [
    "### Confusion matrix"
   ]
  },
  {
   "cell_type": "code",
   "execution_count": 11,
   "id": "ac6fdc44",
   "metadata": {
    "execution": {
     "iopub.execute_input": "2023-07-28T06:35:05.693566Z",
     "iopub.status.busy": "2023-07-28T06:35:05.693269Z",
     "iopub.status.idle": "2023-07-28T06:35:05.698555Z",
     "shell.execute_reply": "2023-07-28T06:35:05.697919Z"
    },
    "papermill": {
     "duration": 0.013332,
     "end_time": "2023-07-28T06:35:05.700490",
     "exception": false,
     "start_time": "2023-07-28T06:35:05.687158",
     "status": "completed"
    },
    "tags": []
   },
   "outputs": [],
   "source": [
    "# TODO"
   ]
  },
  {
   "cell_type": "markdown",
   "id": "669c5690",
   "metadata": {
    "papermill": {
     "duration": 0.004793,
     "end_time": "2023-07-28T06:35:05.710329",
     "exception": false,
     "start_time": "2023-07-28T06:35:05.705536",
     "status": "completed"
    },
    "tags": []
   },
   "source": [
    "### Plot predicted probabilities for each classifier over all evaluation digit images"
   ]
  },
  {
   "cell_type": "code",
   "execution_count": 12,
   "id": "5a036d0c",
   "metadata": {
    "execution": {
     "iopub.execute_input": "2023-07-28T06:35:05.721035Z",
     "iopub.status.busy": "2023-07-28T06:35:05.720748Z",
     "iopub.status.idle": "2023-07-28T06:35:10.056601Z",
     "shell.execute_reply": "2023-07-28T06:35:10.053656Z"
    },
    "papermill": {
     "duration": 4.347264,
     "end_time": "2023-07-28T06:35:10.062218",
     "exception": false,
     "start_time": "2023-07-28T06:35:05.714954",
     "status": "completed"
    },
    "tags": []
   },
   "outputs": [
    {
     "data": {
      "image/png": "[encoded data removed]",
      "text/plain": [
       "<Figure size 1600x600 with 10 Axes>"
      ]
     },
     "metadata": {},
     "output_type": "display_data"
    }
   ],
   "source": [
    "def plot_per_digit_probabilities(y_pred_probs):\n",
    "    fig, axs = plt.subplots(nrows=2, ncols=5, figsize=(16, 6))\n",
    "\n",
    "    for (r, c), digit, ax in zip(\n",
    "        it.product(range(2), range(5)), range(10), axs.reshape(-1)\n",
    "    ):\n",
    "        ax.hist(y_pred_probs_test[:, digit], bins=20)\n",
    "\n",
    "        ax.set_title(f\"Digit {digit}\")\n",
    "        if r == 1 and c == 2:\n",
    "            ax.set_xlabel(\"probability\", fontsize=16)\n",
    "\n",
    "        if c == 0:\n",
    "            ax.set_ylabel(\"counts\", fontsize=16)\n",
    "        ax.set_yscale(\"log\")\n",
    "\n",
    "    fig.tight_layout()\n",
    "    fig.suptitle(\n",
    "        f\"Distributions of prediction probabilities for each digit \"\n",
    "        f\"(on evaluation data, n={y_pred_probs.shape[0]})\",\n",
    "        fontsize=20,\n",
    "    )\n",
    "    fig.tight_layout()\n",
    "    fig.show()\n",
    "\n",
    "    return fig\n",
    "\n",
    "\n",
    "fig = plot_per_digit_probabilities(y_pred_probs_test)"
   ]
  },
  {
   "cell_type": "markdown",
   "id": "99c4551b",
   "metadata": {
    "papermill": {
     "duration": 0.005419,
     "end_time": "2023-07-28T06:35:10.073396",
     "exception": false,
     "start_time": "2023-07-28T06:35:10.067977",
     "status": "completed"
    },
    "tags": []
   },
   "source": [
    "From the above distributions we see that most digits have clear separation between\n",
    "high and lower probabilities. Morover, in each case there is roughly an order of\n",
    "magnitude more of digits with low probabilities. This is compatible with digits\n",
    "being roughly evenly distributed in the data."
   ]
  },
  {
   "cell_type": "code",
   "execution_count": 13,
   "id": "f1f62edf",
   "metadata": {
    "execution": {
     "iopub.execute_input": "2023-07-28T06:35:10.085883Z",
     "iopub.status.busy": "2023-07-28T06:35:10.085592Z",
     "iopub.status.idle": "2023-07-28T06:35:10.747255Z",
     "shell.execute_reply": "2023-07-28T06:35:10.745776Z"
    },
    "papermill": {
     "duration": 0.671068,
     "end_time": "2023-07-28T06:35:10.749819",
     "exception": false,
     "start_time": "2023-07-28T06:35:10.078751",
     "status": "completed"
    },
    "tags": []
   },
   "outputs": [],
   "source": [
    "ctx.log_figure(\"per-digit-probabilities.png\", fig)"
   ]
  },
  {
   "cell_type": "markdown",
   "id": "6eb2270a",
   "metadata": {
    "papermill": {
     "duration": 0.010398,
     "end_time": "2023-07-28T06:35:10.765954",
     "exception": false,
     "start_time": "2023-07-28T06:35:10.755556",
     "status": "completed"
    },
    "tags": []
   },
   "source": [
    "### Plot ROC curves for individual one-vs-rest classifiers"
   ]
  },
  {
   "cell_type": "code",
   "execution_count": 14,
   "id": "294544cd",
   "metadata": {
    "execution": {
     "iopub.execute_input": "2023-07-28T06:35:10.778141Z",
     "iopub.status.busy": "2023-07-28T06:35:10.777851Z",
     "iopub.status.idle": "2023-07-28T06:35:11.112665Z",
     "shell.execute_reply": "2023-07-28T06:35:11.110896Z"
    },
    "papermill": {
     "duration": 0.34774,
     "end_time": "2023-07-28T06:35:11.119131",
     "exception": false,
     "start_time": "2023-07-28T06:35:10.771391",
     "status": "completed"
    },
    "tags": []
   },
   "outputs": [],
   "source": [
    "from sklearn import metrics"
   ]
  },
  {
   "cell_type": "code",
   "execution_count": 15,
   "id": "d3a0ed25",
   "metadata": {
    "execution": {
     "iopub.execute_input": "2023-07-28T06:35:11.135004Z",
     "iopub.status.busy": "2023-07-28T06:35:11.134662Z",
     "iopub.status.idle": "2023-07-28T06:35:13.162137Z",
     "shell.execute_reply": "2023-07-28T06:35:13.161387Z"
    },
    "papermill": {
     "duration": 2.039133,
     "end_time": "2023-07-28T06:35:13.164061",
     "exception": false,
     "start_time": "2023-07-28T06:35:11.124928",
     "status": "completed"
    },
    "tags": []
   },
   "outputs": [
    {
     "data": {
      "image/png": "[encoded data removed]",
      "text/plain": [
       "<Figure size 1600x800 with 10 Axes>"
      ]
     },
     "metadata": {},
     "output_type": "display_data"
    }
   ],
   "source": [
    "def plot_roc_curves(y, y_pred_probs):\n",
    "    # based on example code\n",
    "    # https://scikit-learn.org/stable/auto_examples/model_selection/plot_roc.html\n",
    "\n",
    "    fig, axs = plt.subplots(nrows=2, ncols=5, figsize=(16, 8))\n",
    "\n",
    "    roc_auc_dict = {}\n",
    "\n",
    "    for (r, c), digit, ax in zip(\n",
    "        it.product(range(2), range(5)), range(10), axs.reshape(-1)\n",
    "    ):\n",
    "        fpr, tpr, _ = metrics.roc_curve(y == digit, y_pred_probs[:, digit])\n",
    "        auc = metrics.auc(fpr, tpr)\n",
    "        roc_auc_dict[str(digit)] = auc\n",
    "\n",
    "        ax.plot(fpr, tpr, label=f\"ROC AUC={round(auc, 3)}\")\n",
    "\n",
    "        ax.set_title(f\"\\nDigit {digit}\", fontsize=16)\n",
    "        if r == 1:\n",
    "            ax.set_xlabel(\"FPR\", fontsize=18)\n",
    "\n",
    "        if c == 0:\n",
    "            ax.set_ylabel(\"TPR\", fontsize=18)\n",
    "\n",
    "        ax.set_xlim([-0.05, 1.05])\n",
    "        ax.set_ylim([-0.05, 1.05])\n",
    "        ax.legend(loc=\"lower right\", frameon=False, fontsize=14)\n",
    "\n",
    "    fig.tight_layout()\n",
    "    fig.suptitle(\n",
    "        f\"ROC plots for one-vs-rest performances \"\n",
    "        f\"(on evaluation data, n={y_pred_probs_test.shape[1]}\",\n",
    "        fontsize=22,\n",
    "    )\n",
    "    fig.tight_layout()\n",
    "    fig.show()\n",
    "\n",
    "    return roc_auc_dict, fig\n",
    "\n",
    "\n",
    "roc_auc_dict, fig = plot_roc_curves(y_test, y_pred_probs_test)"
   ]
  },
  {
   "cell_type": "code",
   "execution_count": 16,
   "id": "d3bbea0f",
   "metadata": {
    "execution": {
     "iopub.execute_input": "2023-07-28T06:35:13.179364Z",
     "iopub.status.busy": "2023-07-28T06:35:13.179062Z",
     "iopub.status.idle": "2023-07-28T06:35:13.575997Z",
     "shell.execute_reply": "2023-07-28T06:35:13.574562Z"
    },
    "papermill": {
     "duration": 0.41236,
     "end_time": "2023-07-28T06:35:13.583552",
     "exception": false,
     "start_time": "2023-07-28T06:35:13.171192",
     "status": "completed"
    },
    "tags": []
   },
   "outputs": [],
   "source": [
    "ctx.log_figure(\"per-digit-roc-curves.png\", fig)"
   ]
  },
  {
   "cell_type": "code",
   "execution_count": 17,
   "id": "70977788",
   "metadata": {
    "execution": {
     "iopub.execute_input": "2023-07-28T06:35:13.598643Z",
     "iopub.status.busy": "2023-07-28T06:35:13.598349Z",
     "iopub.status.idle": "2023-07-28T06:35:13.605572Z",
     "shell.execute_reply": "2023-07-28T06:35:13.604886Z"
    },
    "papermill": {
     "duration": 0.017338,
     "end_time": "2023-07-28T06:35:13.607423",
     "exception": false,
     "start_time": "2023-07-28T06:35:13.590085",
     "status": "completed"
    },
    "tags": []
   },
   "outputs": [
    {
     "data": {
      "text/plain": [
       "{'0': 1.0,\n",
       " '1': 0.9992127460168697,\n",
       " '2': 1.0,\n",
       " '3': 0.9998125585754452,\n",
       " '4': 0.9990474013107759,\n",
       " '5': 0.9988378631677601,\n",
       " '6': 0.999923792104862,\n",
       " '7': 0.9998475842097241,\n",
       " '8': 0.9943253467843632,\n",
       " '9': 0.9987425697302241}"
      ]
     },
     "execution_count": 17,
     "metadata": {},
     "output_type": "execute_result"
    }
   ],
   "source": [
    "roc_auc_dict"
   ]
  },
  {
   "cell_type": "code",
   "execution_count": 18,
   "id": "3860a94c",
   "metadata": {
    "execution": {
     "iopub.execute_input": "2023-07-28T06:35:13.622774Z",
     "iopub.status.busy": "2023-07-28T06:35:13.622483Z",
     "iopub.status.idle": "2023-07-28T06:35:13.639662Z",
     "shell.execute_reply": "2023-07-28T06:35:13.632579Z"
    },
    "papermill": {
     "duration": 0.027557,
     "end_time": "2023-07-28T06:35:13.641971",
     "exception": false,
     "start_time": "2023-07-28T06:35:13.614414",
     "status": "completed"
    },
    "tags": []
   },
   "outputs": [
    {
     "name": "stdout",
     "output_type": "stream",
     "text": [
      " - Logging roc_auc_per_digit (json) : {'0': 1.0, '1': 0.9992127460168697, '2': 1.0, '3': 0.9998125585754452, '4': 0.9990474013107759, '5': 0.9988378631677601, '6': 0.999923792104862, '7': 0.9998475842097241, '8': 0.9943253467843632, '9': 0.9987425697302241}\n"
     ]
    }
   ],
   "source": [
    "ctx.log_value(\"roc_auc_per_digit\", roc_auc_dict)"
   ]
  },
  {
   "cell_type": "markdown",
   "id": "7a6ad3b3",
   "metadata": {
    "papermill": {
     "duration": 0.006886,
     "end_time": "2023-07-28T06:35:13.655770",
     "exception": false,
     "start_time": "2023-07-28T06:35:13.648884",
     "status": "completed"
    },
    "tags": []
   },
   "source": [
    "### Compute and log mean ROC AUC score averaged over all digits"
   ]
  },
  {
   "cell_type": "code",
   "execution_count": 19,
   "id": "25d48f61",
   "metadata": {
    "execution": {
     "iopub.execute_input": "2023-07-28T06:35:13.671485Z",
     "iopub.status.busy": "2023-07-28T06:35:13.671179Z",
     "iopub.status.idle": "2023-07-28T06:35:13.686597Z",
     "shell.execute_reply": "2023-07-28T06:35:13.685885Z"
    },
    "papermill": {
     "duration": 0.026104,
     "end_time": "2023-07-28T06:35:13.688709",
     "exception": false,
     "start_time": "2023-07-28T06:35:13.662605",
     "status": "completed"
    },
    "tags": []
   },
   "outputs": [
    {
     "name": "stdout",
     "output_type": "stream",
     "text": [
      " - Logging roc_auc_class_mean (float) : 0.9989749861900024\n"
     ]
    }
   ],
   "source": [
    "roc_auc_macro = np.mean(list(roc_auc_dict.values()))\n",
    "\n",
    "ctx.log_float(\"roc_auc_class_mean\", roc_auc_macro)\n",
    "\n",
    "# assert that the same value can be computed directly using sklearn\n",
    "assert roc_auc_macro == metrics.roc_auc_score(\n",
    "    y_test, y_pred_probs_test, average=\"macro\", multi_class=\"ovr\"\n",
    ")"
   ]
  },
  {
   "cell_type": "code",
   "execution_count": 20,
   "id": "ec9c084a",
   "metadata": {
    "execution": {
     "iopub.execute_input": "2023-07-28T06:35:13.704182Z",
     "iopub.status.busy": "2023-07-28T06:35:13.703891Z",
     "iopub.status.idle": "2023-07-28T06:35:13.707959Z",
     "shell.execute_reply": "2023-07-28T06:35:13.707319Z"
    },
    "lines_to_next_cell": 0,
    "papermill": {
     "duration": 0.014093,
     "end_time": "2023-07-28T06:35:13.709761",
     "exception": false,
     "start_time": "2023-07-28T06:35:13.695668",
     "status": "completed"
    },
    "tags": []
   },
   "outputs": [],
   "source": [
    "# ---"
   ]
  },
  {
   "cell_type": "code",
   "execution_count": null,
   "id": "cd1848c5",
   "metadata": {
    "papermill": {
     "duration": 0.006942,
     "end_time": "2023-07-28T06:35:13.723740",
     "exception": false,
     "start_time": "2023-07-28T06:35:13.716798",
     "status": "completed"
    },
    "tags": []
   },
   "outputs": [],
   "source": []
  }
 ],
 "metadata": {
  "jupytext": {
   "cell_metadata_filter": "tags,-all",
   "main_language": "python",
   "notebook_metadata_filter": "-all"
  },
  "language_info": {
   "codemirror_mode": {
    "name": "ipython",
    "version": 3
   },
   "file_extension": ".py",
   "mimetype": "text/x-python",
   "name": "python",
   "nbconvert_exporter": "python",
   "pygments_lexer": "ipython3",
   "version": "3.8.10"
  },
  "papermill": {
   "default_parameters": {},
   "duration": 12.679353,
   "end_time": "2023-07-28T06:35:15.668037",
   "environment_variables": {},
   "exception": null,
   "input_path": "/tmp/temp-notebook-9uy8l98z.ipynb",
   "output_path": "/tmp/temp-notebook-9uy8l98z.ipynb",
   "parameters": {
    "P": {
     "_parameters_actor_name": "parameter_for_task_0x12842354466a475b",
     "task.nr_train_images": 600
    }
   },
   "start_time": "2023-07-28T06:35:02.988684",
   "version": "2.4.0"
  }
 },
 "nbformat": 4,
 "nbformat_minor": 5
}