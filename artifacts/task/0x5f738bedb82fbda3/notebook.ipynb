{
 "cells": [
  {
   "cell_type": "markdown",
   "id": "e43f2a50",
   "metadata": {
    "papermill": {
     "duration": 0.004079,
     "end_time": "2023-07-29T06:33:27.597003",
     "exception": false,
     "start_time": "2023-07-29T06:33:27.592924",
     "status": "completed"
    },
    "tags": []
   },
   "source": [
    "# Summarize model performances\n",
    "\n",
    "This notebooks plots the performances (using averaged ROC AUC scores) for models\n",
    "trained with different training sets."
   ]
  },
  {
   "cell_type": "markdown",
   "id": "437e6a67",
   "metadata": {
    "papermill": {
     "duration": 0.00242,
     "end_time": "2023-07-29T06:33:27.602730",
     "exception": false,
     "start_time": "2023-07-29T06:33:27.600310",
     "status": "completed"
    },
    "tags": []
   },
   "source": [
    "### Determine run parameters"
   ]
  },
  {
   "cell_type": "code",
   "execution_count": 1,
   "id": "97142d5b",
   "metadata": {
    "execution": {
     "iopub.execute_input": "2023-07-29T06:33:27.609273Z",
     "iopub.status.busy": "2023-07-29T06:33:27.608599Z",
     "iopub.status.idle": "2023-07-29T06:33:27.616086Z",
     "shell.execute_reply": "2023-07-29T06:33:27.615442Z"
    },
    "lines_to_next_cell": 0,
    "papermill": {
     "duration": 0.012604,
     "end_time": "2023-07-29T06:33:27.617678",
     "exception": false,
     "start_time": "2023-07-29T06:33:27.605074",
     "status": "completed"
    },
    "tags": []
   },
   "outputs": [],
   "source": [
    "# ----------------- Parameters for interactive development --------------\n",
    "P = {\n",
    "    \"workflow.run_environment\": \"dev\",\n",
    "}"
   ]
  },
  {
   "cell_type": "code",
   "execution_count": 2,
   "id": "8db000bf",
   "metadata": {
    "execution": {
     "iopub.execute_input": "2023-07-29T06:33:27.625243Z",
     "iopub.status.busy": "2023-07-29T06:33:27.624709Z",
     "iopub.status.idle": "2023-07-29T06:33:27.628392Z",
     "shell.execute_reply": "2023-07-29T06:33:27.627103Z"
    },
    "lines_to_next_cell": 0,
    "papermill": {
     "duration": 0.008221,
     "end_time": "2023-07-29T06:33:27.629814",
     "exception": false,
     "start_time": "2023-07-29T06:33:27.621593",
     "status": "completed"
    },
    "tags": [
     "parameters"
    ]
   },
   "outputs": [],
   "source": [
    "# - During automated runs parameters will be injected in the below cell -"
   ]
  },
  {
   "cell_type": "code",
   "execution_count": 3,
   "id": "75facc9f",
   "metadata": {
    "execution": {
     "iopub.execute_input": "2023-07-29T06:33:27.635633Z",
     "iopub.status.busy": "2023-07-29T06:33:27.635423Z",
     "iopub.status.idle": "2023-07-29T06:33:27.639733Z",
     "shell.execute_reply": "2023-07-29T06:33:27.638972Z"
    },
    "papermill": {
     "duration": 0.008939,
     "end_time": "2023-07-29T06:33:27.641172",
     "exception": false,
     "start_time": "2023-07-29T06:33:27.632233",
     "status": "completed"
    },
    "tags": [
     "injected-parameters"
    ]
   },
   "outputs": [],
   "source": [
    "# Parameters\n",
    "P = {\"_parameters_actor_name\": \"parameter_for_task_0x5f738bedb82fbda3\"}\n"
   ]
  },
  {
   "cell_type": "code",
   "execution_count": 4,
   "id": "c8adcf05",
   "metadata": {
    "execution": {
     "iopub.execute_input": "2023-07-29T06:33:27.647524Z",
     "iopub.status.busy": "2023-07-29T06:33:27.647319Z",
     "iopub.status.idle": "2023-07-29T06:33:27.650155Z",
     "shell.execute_reply": "2023-07-29T06:33:27.649533Z"
    },
    "lines_to_next_cell": 0,
    "papermill": {
     "duration": 0.007621,
     "end_time": "2023-07-29T06:33:27.651622",
     "exception": false,
     "start_time": "2023-07-29T06:33:27.644001",
     "status": "completed"
    },
    "tags": []
   },
   "outputs": [],
   "source": [
    "# -----------------------------------------------------------------------"
   ]
  },
  {
   "cell_type": "markdown",
   "id": "035455d4",
   "metadata": {
    "papermill": {
     "duration": 0.002511,
     "end_time": "2023-07-29T06:33:27.656684",
     "exception": false,
     "start_time": "2023-07-29T06:33:27.654173",
     "status": "completed"
    },
    "tags": []
   },
   "source": [
    "---"
   ]
  },
  {
   "cell_type": "markdown",
   "id": "4006e81f",
   "metadata": {
    "lines_to_next_cell": 2,
    "papermill": {
     "duration": 0.002821,
     "end_time": "2023-07-29T06:33:27.662010",
     "exception": false,
     "start_time": "2023-07-29T06:33:27.659189",
     "status": "completed"
    },
    "tags": []
   },
   "source": [
    "### Notebook code"
   ]
  },
  {
   "cell_type": "code",
   "execution_count": 5,
   "id": "a7faa783",
   "metadata": {
    "execution": {
     "iopub.execute_input": "2023-07-29T06:33:27.668683Z",
     "iopub.status.busy": "2023-07-29T06:33:27.668466Z",
     "iopub.status.idle": "2023-07-29T06:33:28.662682Z",
     "shell.execute_reply": "2023-07-29T06:33:28.661256Z"
    },
    "papermill": {
     "duration": 0.99944,
     "end_time": "2023-07-29T06:33:28.664576",
     "exception": false,
     "start_time": "2023-07-29T06:33:27.665136",
     "status": "completed"
    },
    "tags": []
   },
   "outputs": [],
   "source": [
    "#\n",
    "import pandas as pd\n",
    "import matplotlib.pyplot as plt\n",
    "\n",
    "#\n",
    "from composable_logs.tasks.task_opentelemetry_logging import get_task_context"
   ]
  },
  {
   "cell_type": "code",
   "execution_count": 6,
   "id": "7c3470dc",
   "metadata": {
    "execution": {
     "iopub.execute_input": "2023-07-29T06:33:28.671688Z",
     "iopub.status.busy": "2023-07-29T06:33:28.671024Z",
     "iopub.status.idle": "2023-07-29T06:33:28.743180Z",
     "shell.execute_reply": "2023-07-29T06:33:28.741808Z"
    },
    "papermill": {
     "duration": 0.07734,
     "end_time": "2023-07-29T06:33:28.744811",
     "exception": false,
     "start_time": "2023-07-29T06:33:28.667471",
     "status": "completed"
    },
    "tags": []
   },
   "outputs": [
    {
     "name": "stderr",
     "output_type": "stream",
     "text": [
      "2023-07-29 06:33:28,674\tINFO worker.py:1364 -- Connecting to existing Ray cluster at address: 172.17.0.2:60386...\n"
     ]
    },
    {
     "name": "stderr",
     "output_type": "stream",
     "text": [
      "2023-07-29 06:33:28,681\tINFO worker.py:1544 -- Connected to Ray cluster. View the dashboard at \u001b[1m\u001b[32mhttp://127.0.0.1:8265 \u001b[39m\u001b[22m\n"
     ]
    },
    {
     "name": "stderr",
     "output_type": "stream",
     "text": [
      "/home/host_user/.local/lib/python3.8/site-packages/ray/runtime_context.py:27: RayDeprecationWarning: This API is deprecated and may be removed in future Ray releases. You could suppress this warning by setting env variable PYTHONWARNINGS=\"ignore::DeprecationWarning\"\n",
      "Use get_job_id() instead\n",
      "  \"job_id\": self.job_id,\n",
      "/home/host_user/.local/lib/python3.8/site-packages/ray/runtime_context.py:28: RayDeprecationWarning: This API is deprecated and may be removed in future Ray releases. You could suppress this warning by setting env variable PYTHONWARNINGS=\"ignore::DeprecationWarning\"\n",
      "Use get_node_id() instead\n",
      "  \"node_id\": self.node_id,\n"
     ]
    }
   ],
   "source": [
    "logger = get_task_context(P)"
   ]
  },
  {
   "cell_type": "code",
   "execution_count": 7,
   "id": "2edf08aa",
   "metadata": {
    "execution": {
     "iopub.execute_input": "2023-07-29T06:33:28.752258Z",
     "iopub.status.busy": "2023-07-29T06:33:28.751989Z",
     "iopub.status.idle": "2023-07-29T06:33:28.755339Z",
     "shell.execute_reply": "2023-07-29T06:33:28.754783Z"
    },
    "papermill": {
     "duration": 0.008945,
     "end_time": "2023-07-29T06:33:28.756818",
     "exception": false,
     "start_time": "2023-07-29T06:33:28.747873",
     "status": "completed"
    },
    "tags": []
   },
   "outputs": [],
   "source": [
    "from composable_logs.tasks.task_opentelemetry_logging import get_logged_values\n",
    "from composable_logs.opentelemetry_helpers import _get_all_spans, Spans"
   ]
  },
  {
   "cell_type": "code",
   "execution_count": 8,
   "id": "858e792c",
   "metadata": {
    "execution": {
     "iopub.execute_input": "2023-07-29T06:33:28.763629Z",
     "iopub.status.busy": "2023-07-29T06:33:28.763400Z",
     "iopub.status.idle": "2023-07-29T06:33:28.769578Z",
     "shell.execute_reply": "2023-07-29T06:33:28.769040Z"
    },
    "papermill": {
     "duration": 0.01143,
     "end_time": "2023-07-29T06:33:28.771075",
     "exception": false,
     "start_time": "2023-07-29T06:33:28.759645",
     "status": "completed"
    },
    "tags": []
   },
   "outputs": [],
   "source": [
    "def get_model_benchmarks():\n",
    "    \"\"\"\n",
    "    Query the OpenTelemetry logs for *this pipeline run* and return\n",
    "    all key-values logged from all runs of the benchmark-model.py task\n",
    "\n",
    "    For testing a json file with OpenTelemetry spans (as an array)\n",
    "    can be used as follows:\n",
    "\n",
    "    - Create output directory `mkdir /tmp/spans`\n",
    "    - Run unit tests. This will create pipeline-outputs/opentelemetry-spans.json\n",
    "    - Convert this json-array into jsonl format as follows\n",
    "\n",
    "    jq -c '.[]' /pipeline-outputs/opentelemetry-spans.json > /tmp/spans/data.txt\n",
    "\n",
    "    \"\"\"\n",
    "    spans: Spans = Spans(_get_all_spans())\n",
    "    print(f\" - Found {len(spans)} spans\")\n",
    "\n",
    "    benchmark_spans = (\n",
    "        spans\n",
    "        # -\n",
    "        .filter([\"name\"], \"execute-task\")\n",
    "        # -\n",
    "        .filter([\"attributes\", \"task.id\"], \"benchmark-model\")\n",
    "    )\n",
    "\n",
    "    result = []\n",
    "    for s in benchmark_spans:\n",
    "        result.append(\n",
    "            {\n",
    "                \"span_id\": s[\"context\"][\"span_id\"],\n",
    "                \"nr_train_images\": s[\"attributes\"][\"task.nr_train_images\"],\n",
    "                \"data\": get_logged_values(spans.bound_under(s)),\n",
    "            }\n",
    "        )\n",
    "\n",
    "    return result\n",
    "\n",
    "\n",
    "def adjust_pandas(df):\n",
    "    def column_renamer(col_name: str) -> str:\n",
    "        return (\n",
    "            col_name\n",
    "            # -- 'data.roc_auc_per_digit.4' -> 'roc_auc.4'\n",
    "            .replace(\"data.roc_auc_per_digit\", \"roc_auc\")\n",
    "            # -- 'data.roc_auc_class_mean' -> 'roc_auc_mean'\n",
    "            .replace(\"data.roc_auc_class_mean\", \"roc_auc_mean\")\n",
    "        )\n",
    "\n",
    "    return df.rename(column_renamer, axis=\"columns\").sort_values(by=\"nr_train_images\")"
   ]
  },
  {
   "cell_type": "code",
   "execution_count": 9,
   "id": "8a6e1f37",
   "metadata": {
    "execution": {
     "iopub.execute_input": "2023-07-29T06:33:28.778192Z",
     "iopub.status.busy": "2023-07-29T06:33:28.777979Z",
     "iopub.status.idle": "2023-07-29T06:33:28.876068Z",
     "shell.execute_reply": "2023-07-29T06:33:28.875411Z"
    },
    "papermill": {
     "duration": 0.103733,
     "end_time": "2023-07-29T06:33:28.877908",
     "exception": false,
     "start_time": "2023-07-29T06:33:28.774175",
     "status": "completed"
    },
    "tags": []
   },
   "outputs": [
    {
     "name": "stdout",
     "output_type": "stream",
     "text": [
      " - Found 250 spans\n"
     ]
    }
   ],
   "source": [
    "\n",
    "df_data = adjust_pandas(pd.json_normalize(get_model_benchmarks()))"
   ]
  },
  {
   "cell_type": "code",
   "execution_count": 10,
   "id": "45e78c99",
   "metadata": {
    "execution": {
     "iopub.execute_input": "2023-07-29T06:33:28.885730Z",
     "iopub.status.busy": "2023-07-29T06:33:28.885315Z",
     "iopub.status.idle": "2023-07-29T06:33:28.912140Z",
     "shell.execute_reply": "2023-07-29T06:33:28.911479Z"
    },
    "papermill": {
     "duration": 0.032813,
     "end_time": "2023-07-29T06:33:28.913861",
     "exception": false,
     "start_time": "2023-07-29T06:33:28.881048",
     "status": "completed"
    },
    "tags": []
   },
   "outputs": [
    {
     "data": {
      "text/html": [
       "<div>\n",
       "<style scoped>\n",
       "    .dataframe tbody tr th:only-of-type {\n",
       "        vertical-align: middle;\n",
       "    }\n",
       "\n",
       "    .dataframe tbody tr th {\n",
       "        vertical-align: top;\n",
       "    }\n",
       "\n",
       "    .dataframe thead th {\n",
       "        text-align: right;\n",
       "    }\n",
       "</style>\n",
       "<table border=\"1\" class=\"dataframe\">\n",
       "  <thead>\n",
       "    <tr style=\"text-align: right;\">\n",
       "      <th></th>\n",
       "      <th>span_id</th>\n",
       "      <th>nr_train_images</th>\n",
       "      <th>roc_auc_mean</th>\n",
       "      <th>roc_auc.0</th>\n",
       "      <th>roc_auc.1</th>\n",
       "      <th>roc_auc.2</th>\n",
       "      <th>roc_auc.3</th>\n",
       "      <th>roc_auc.4</th>\n",
       "      <th>roc_auc.5</th>\n",
       "      <th>roc_auc.6</th>\n",
       "      <th>roc_auc.7</th>\n",
       "      <th>roc_auc.8</th>\n",
       "      <th>roc_auc.9</th>\n",
       "    </tr>\n",
       "  </thead>\n",
       "  <tbody>\n",
       "    <tr>\n",
       "      <th>2</th>\n",
       "      <td>0xe8c65d44a2a9bb3b</td>\n",
       "      <td>600</td>\n",
       "      <td>0.9990</td>\n",
       "      <td>1.0</td>\n",
       "      <td>0.9993</td>\n",
       "      <td>1.0</td>\n",
       "      <td>0.9998</td>\n",
       "      <td>0.9991</td>\n",
       "      <td>0.9989</td>\n",
       "      <td>0.9999</td>\n",
       "      <td>0.9998</td>\n",
       "      <td>0.9948</td>\n",
       "      <td>0.9988</td>\n",
       "    </tr>\n",
       "    <tr>\n",
       "      <th>3</th>\n",
       "      <td>0x5f4277ab3d901870</td>\n",
       "      <td>800</td>\n",
       "      <td>0.9990</td>\n",
       "      <td>1.0</td>\n",
       "      <td>0.9988</td>\n",
       "      <td>1.0</td>\n",
       "      <td>0.9998</td>\n",
       "      <td>0.9995</td>\n",
       "      <td>0.9990</td>\n",
       "      <td>1.0000</td>\n",
       "      <td>0.9999</td>\n",
       "      <td>0.9937</td>\n",
       "      <td>0.9995</td>\n",
       "    </tr>\n",
       "    <tr>\n",
       "      <th>1</th>\n",
       "      <td>0xeac255946fdd977c</td>\n",
       "      <td>1000</td>\n",
       "      <td>0.9992</td>\n",
       "      <td>1.0</td>\n",
       "      <td>0.9990</td>\n",
       "      <td>1.0</td>\n",
       "      <td>0.9999</td>\n",
       "      <td>0.9997</td>\n",
       "      <td>0.9994</td>\n",
       "      <td>0.9999</td>\n",
       "      <td>0.9998</td>\n",
       "      <td>0.9950</td>\n",
       "      <td>0.9995</td>\n",
       "    </tr>\n",
       "    <tr>\n",
       "      <th>0</th>\n",
       "      <td>0x8a7d67c56d011f6b</td>\n",
       "      <td>1200</td>\n",
       "      <td>0.9994</td>\n",
       "      <td>1.0</td>\n",
       "      <td>0.9991</td>\n",
       "      <td>1.0</td>\n",
       "      <td>0.9999</td>\n",
       "      <td>0.9998</td>\n",
       "      <td>0.9997</td>\n",
       "      <td>0.9999</td>\n",
       "      <td>0.9998</td>\n",
       "      <td>0.9958</td>\n",
       "      <td>0.9997</td>\n",
       "    </tr>\n",
       "  </tbody>\n",
       "</table>\n",
       "</div>"
      ],
      "text/plain": [
       "              span_id  nr_train_images  roc_auc_mean  roc_auc.0  roc_auc.1  \\\n",
       "2  0xe8c65d44a2a9bb3b              600        0.9990        1.0     0.9993   \n",
       "3  0x5f4277ab3d901870              800        0.9990        1.0     0.9988   \n",
       "1  0xeac255946fdd977c             1000        0.9992        1.0     0.9990   \n",
       "0  0x8a7d67c56d011f6b             1200        0.9994        1.0     0.9991   \n",
       "\n",
       "   roc_auc.2  roc_auc.3  roc_auc.4  roc_auc.5  roc_auc.6  roc_auc.7  \\\n",
       "2        1.0     0.9998     0.9991     0.9989     0.9999     0.9998   \n",
       "3        1.0     0.9998     0.9995     0.9990     1.0000     0.9999   \n",
       "1        1.0     0.9999     0.9997     0.9994     0.9999     0.9998   \n",
       "0        1.0     0.9999     0.9998     0.9997     0.9999     0.9998   \n",
       "\n",
       "   roc_auc.8  roc_auc.9  \n",
       "2     0.9948     0.9988  \n",
       "3     0.9937     0.9995  \n",
       "1     0.9950     0.9995  \n",
       "0     0.9958     0.9997  "
      ]
     },
     "execution_count": 10,
     "metadata": {},
     "output_type": "execute_result"
    }
   ],
   "source": [
    "df_data.round(4)"
   ]
  },
  {
   "cell_type": "code",
   "execution_count": 11,
   "id": "d6a555ba",
   "metadata": {
    "execution": {
     "iopub.execute_input": "2023-07-29T06:33:28.921773Z",
     "iopub.status.busy": "2023-07-29T06:33:28.921097Z",
     "iopub.status.idle": "2023-07-29T06:33:29.142816Z",
     "shell.execute_reply": "2023-07-29T06:33:29.141669Z"
    },
    "papermill": {
     "duration": 0.227427,
     "end_time": "2023-07-29T06:33:29.144667",
     "exception": false,
     "start_time": "2023-07-29T06:33:28.917240",
     "status": "completed"
    },
    "tags": []
   },
   "outputs": [
    {
     "data": {
      "image/png": "[encoded data removed]",
      "text/plain": [
       "<Figure size 1600x400 with 1 Axes>"
      ]
     },
     "metadata": {},
     "output_type": "display_data"
    }
   ],
   "source": [
    "def plot_classifier_performance_summary(df_data):\n",
    "    fig, ax = plt.subplots(nrows=1, ncols=1, figsize=(16, 4), sharex=True)\n",
    "\n",
    "    #\n",
    "    ax.plot(\n",
    "        df_data[\"nr_train_images\"], df_data[\"roc_auc_mean\"], marker=\"o\", linestyle=\"--\"\n",
    "    )\n",
    "    ax.set_title(\n",
    "        f\"ROC AUC digit classifier performance on evaluation digits\", fontsize=17\n",
    "    )\n",
    "    ax.set_xlabel(\"Total number of digits in training set\", fontsize=14)\n",
    "    ax.set_ylabel(\"Mean ROC AUC\", fontsize=14)\n",
    "\n",
    "    fig.tight_layout()\n",
    "    fig.show()\n",
    "\n",
    "    return fig\n",
    "\n",
    "\n",
    "fig = plot_classifier_performance_summary(df_data)"
   ]
  },
  {
   "cell_type": "code",
   "execution_count": 12,
   "id": "a8f73e74",
   "metadata": {
    "execution": {
     "iopub.execute_input": "2023-07-29T06:33:29.153960Z",
     "iopub.status.busy": "2023-07-29T06:33:29.153728Z",
     "iopub.status.idle": "2023-07-29T06:33:29.232982Z",
     "shell.execute_reply": "2023-07-29T06:33:29.232232Z"
    },
    "papermill": {
     "duration": 0.086415,
     "end_time": "2023-07-29T06:33:29.235179",
     "exception": false,
     "start_time": "2023-07-29T06:33:29.148764",
     "status": "completed"
    },
    "tags": []
   },
   "outputs": [],
   "source": [
    "logger.log_figure(\"auc-roc-model-performances.png\", fig)"
   ]
  },
  {
   "cell_type": "code",
   "execution_count": 13,
   "id": "ca99745f",
   "metadata": {
    "execution": {
     "iopub.execute_input": "2023-07-29T06:33:29.245162Z",
     "iopub.status.busy": "2023-07-29T06:33:29.244707Z",
     "iopub.status.idle": "2023-07-29T06:33:29.247770Z",
     "shell.execute_reply": "2023-07-29T06:33:29.247121Z"
    },
    "papermill": {
     "duration": 0.009736,
     "end_time": "2023-07-29T06:33:29.249168",
     "exception": false,
     "start_time": "2023-07-29T06:33:29.239432",
     "status": "completed"
    },
    "tags": []
   },
   "outputs": [],
   "source": [
    "###"
   ]
  },
  {
   "cell_type": "code",
   "execution_count": null,
   "id": "c58c7d2b",
   "metadata": {
    "papermill": {
     "duration": 0.003869,
     "end_time": "2023-07-29T06:33:29.257203",
     "exception": false,
     "start_time": "2023-07-29T06:33:29.253334",
     "status": "completed"
    },
    "tags": []
   },
   "outputs": [],
   "source": []
  }
 ],
 "metadata": {
  "jupytext": {
   "cell_metadata_filter": "tags,-all",
   "main_language": "python",
   "notebook_metadata_filter": "-all"
  },
  "language_info": {
   "codemirror_mode": {
    "name": "ipython",
    "version": 3
   },
   "file_extension": ".py",
   "mimetype": "text/x-python",
   "name": "python",
   "nbconvert_exporter": "python",
   "pygments_lexer": "ipython3",
   "version": "3.8.10"
  },
  "papermill": {
   "default_parameters": {},
   "duration": 4.906746,
   "end_time": "2023-07-29T06:33:31.190135",
   "environment_variables": {},
   "exception": null,
   "input_path": "/tmp/temp-notebook-a8r366xa.ipynb",
   "output_path": "/tmp/temp-notebook-a8r366xa.ipynb",
   "parameters": {
    "P": {
     "_parameters_actor_name": "parameter_for_task_0x5f738bedb82fbda3"
    }
   },
   "start_time": "2023-07-29T06:33:26.283389",
   "version": "2.4.0"
  }
 },
 "nbformat": 4,
 "nbformat_minor": 5
}