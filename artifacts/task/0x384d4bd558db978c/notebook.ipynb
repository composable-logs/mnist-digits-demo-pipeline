{
 "cells": [
  {
   "cell_type": "markdown",
   "id": "b0bf7854",
   "metadata": {
    "papermill": {
     "duration": 0.005699,
     "end_time": "2023-07-24T06:36:47.936339",
     "exception": false,
     "start_time": "2023-07-24T06:36:47.930640",
     "status": "completed"
    },
    "tags": []
   },
   "source": [
    "# Benchmark model\n",
    "\n",
    "The purpose of this notebook is to benchmark persisted onnx-model (trained in the\n",
    "previous step) against evaluation set."
   ]
  },
  {
   "cell_type": "markdown",
   "id": "773d2e4d",
   "metadata": {
    "papermill": {
     "duration": 0.004003,
     "end_time": "2023-07-24T06:36:47.949012",
     "exception": false,
     "start_time": "2023-07-24T06:36:47.945009",
     "status": "completed"
    },
    "tags": []
   },
   "source": [
    "### Determine run parameters"
   ]
  },
  {
   "cell_type": "code",
   "execution_count": 1,
   "id": "6b486e94",
   "metadata": {
    "execution": {
     "iopub.execute_input": "2023-07-24T06:36:47.961377Z",
     "iopub.status.busy": "2023-07-24T06:36:47.961068Z",
     "iopub.status.idle": "2023-07-24T06:36:47.969794Z",
     "shell.execute_reply": "2023-07-24T06:36:47.969075Z"
    },
    "lines_to_next_cell": 0,
    "papermill": {
     "duration": 0.017402,
     "end_time": "2023-07-24T06:36:47.971797",
     "exception": false,
     "start_time": "2023-07-24T06:36:47.954395",
     "status": "completed"
    },
    "tags": []
   },
   "outputs": [],
   "source": [
    "# ----------------- Parameters for interactive development --------------\n",
    "P = {\n",
    "    \"workflow.data_lake_root\": \"/pipeline-outputs/data-lake\",\n",
    "    \"task.nr_train_images\": 600,\n",
    "}"
   ]
  },
  {
   "cell_type": "code",
   "execution_count": 2,
   "id": "3f750cdb",
   "metadata": {
    "execution": {
     "iopub.execute_input": "2023-07-24T06:36:47.982184Z",
     "iopub.status.busy": "2023-07-24T06:36:47.981897Z",
     "iopub.status.idle": "2023-07-24T06:36:47.986474Z",
     "shell.execute_reply": "2023-07-24T06:36:47.985871Z"
    },
    "lines_to_next_cell": 0,
    "papermill": {
     "duration": 0.012458,
     "end_time": "2023-07-24T06:36:47.988404",
     "exception": false,
     "start_time": "2023-07-24T06:36:47.975946",
     "status": "completed"
    },
    "tags": [
     "parameters"
    ]
   },
   "outputs": [],
   "source": [
    "# - During automated runs parameters will be injected in the below cell -"
   ]
  },
  {
   "cell_type": "code",
   "execution_count": 3,
   "id": "5fb6cf9d",
   "metadata": {
    "execution": {
     "iopub.execute_input": "2023-07-24T06:36:47.998743Z",
     "iopub.status.busy": "2023-07-24T06:36:47.998462Z",
     "iopub.status.idle": "2023-07-24T06:36:48.003945Z",
     "shell.execute_reply": "2023-07-24T06:36:48.003352Z"
    },
    "papermill": {
     "duration": 0.013627,
     "end_time": "2023-07-24T06:36:48.006187",
     "exception": false,
     "start_time": "2023-07-24T06:36:47.992560",
     "status": "completed"
    },
    "tags": [
     "injected-parameters"
    ]
   },
   "outputs": [],
   "source": [
    "# Parameters\n",
    "P = {\n",
    "    \"task.nr_train_images\": 1200,\n",
    "    \"_parameters_actor_name\": \"parameter_for_task_0x384d4bd558db978c\",\n",
    "}\n"
   ]
  },
  {
   "cell_type": "code",
   "execution_count": 4,
   "id": "311ded1d",
   "metadata": {
    "execution": {
     "iopub.execute_input": "2023-07-24T06:36:48.016489Z",
     "iopub.status.busy": "2023-07-24T06:36:48.016208Z",
     "iopub.status.idle": "2023-07-24T06:36:48.021156Z",
     "shell.execute_reply": "2023-07-24T06:36:48.020539Z"
    },
    "lines_to_next_cell": 0,
    "papermill": {
     "duration": 0.012393,
     "end_time": "2023-07-24T06:36:48.023109",
     "exception": false,
     "start_time": "2023-07-24T06:36:48.010716",
     "status": "completed"
    },
    "tags": []
   },
   "outputs": [],
   "source": [
    "# -----------------------------------------------------------------------"
   ]
  },
  {
   "cell_type": "markdown",
   "id": "3d1e7df8",
   "metadata": {
    "papermill": {
     "duration": 0.004469,
     "end_time": "2023-07-24T06:36:48.031951",
     "exception": false,
     "start_time": "2023-07-24T06:36:48.027482",
     "status": "completed"
    },
    "tags": []
   },
   "source": [
    "---"
   ]
  },
  {
   "cell_type": "markdown",
   "id": "b0450202",
   "metadata": {
    "lines_to_next_cell": 2,
    "papermill": {
     "duration": 0.010873,
     "end_time": "2023-07-24T06:36:48.047111",
     "exception": false,
     "start_time": "2023-07-24T06:36:48.036238",
     "status": "completed"
    },
    "tags": []
   },
   "source": [
    "### Notebook code"
   ]
  },
  {
   "cell_type": "code",
   "execution_count": 5,
   "id": "0f0eeae4",
   "metadata": {
    "execution": {
     "iopub.execute_input": "2023-07-24T06:36:48.057891Z",
     "iopub.status.busy": "2023-07-24T06:36:48.057593Z",
     "iopub.status.idle": "2023-07-24T06:36:49.097038Z",
     "shell.execute_reply": "2023-07-24T06:36:49.094774Z"
    },
    "papermill": {
     "duration": 1.04746,
     "end_time": "2023-07-24T06:36:49.099214",
     "exception": false,
     "start_time": "2023-07-24T06:36:48.051754",
     "status": "completed"
    },
    "tags": []
   },
   "outputs": [
    {
     "name": "stderr",
     "output_type": "stream",
     "text": [
      "2023-07-24 06:36:48,999\tINFO worker.py:1364 -- Connecting to existing Ray cluster at address: 172.17.0.2:55561...\n"
     ]
    },
    {
     "name": "stderr",
     "output_type": "stream",
     "text": [
      "2023-07-24 06:36:49,011\tINFO worker.py:1544 -- Connected to Ray cluster. View the dashboard at \u001b[1m\u001b[32mhttp://127.0.0.1:8265 \u001b[39m\u001b[22m\n"
     ]
    },
    {
     "name": "stderr",
     "output_type": "stream",
     "text": [
      "/home/host_user/.local/lib/python3.8/site-packages/ray/runtime_context.py:27: RayDeprecationWarning: This API is deprecated and may be removed in future Ray releases. You could suppress this warning by setting env variable PYTHONWARNINGS=\"ignore::DeprecationWarning\"\n",
      "Use get_job_id() instead\n",
      "  \"job_id\": self.job_id,\n",
      "/home/host_user/.local/lib/python3.8/site-packages/ray/runtime_context.py:28: RayDeprecationWarning: This API is deprecated and may be removed in future Ray releases. You could suppress this warning by setting env variable PYTHONWARNINGS=\"ignore::DeprecationWarning\"\n",
      "Use get_node_id() instead\n",
      "  \"node_id\": self.node_id,\n"
     ]
    }
   ],
   "source": [
    "import itertools as it\n",
    "\n",
    "#\n",
    "import numpy as np\n",
    "import matplotlib.pyplot as plt\n",
    "\n",
    "#\n",
    "from composable_logs.tasks.task_opentelemetry_logging import get_task_context\n",
    "\n",
    "#\n",
    "from common.io import datalake_root\n",
    "\n",
    "ctx = get_task_context(P)"
   ]
  },
  {
   "cell_type": "markdown",
   "id": "530bc821",
   "metadata": {
    "papermill": {
     "duration": 0.004552,
     "end_time": "2023-07-24T06:36:49.109135",
     "exception": false,
     "start_time": "2023-07-24T06:36:49.104583",
     "status": "completed"
    },
    "tags": []
   },
   "source": [
    "## Load persisted onnx-model and evaluation data"
   ]
  },
  {
   "cell_type": "code",
   "execution_count": 6,
   "id": "4cf7534c",
   "metadata": {
    "execution": {
     "iopub.execute_input": "2023-07-24T06:36:49.119795Z",
     "iopub.status.busy": "2023-07-24T06:36:49.119497Z",
     "iopub.status.idle": "2023-07-24T06:36:49.124348Z",
     "shell.execute_reply": "2023-07-24T06:36:49.123769Z"
    },
    "papermill": {
     "duration": 0.012359,
     "end_time": "2023-07-24T06:36:49.126084",
     "exception": false,
     "start_time": "2023-07-24T06:36:49.113725",
     "status": "completed"
    },
    "tags": []
   },
   "outputs": [],
   "source": [
    "from common.io import read_onnx, get_onnx_inputs, get_onnx_outputs, read_numpy"
   ]
  },
  {
   "cell_type": "code",
   "execution_count": 7,
   "id": "e886d233",
   "metadata": {
    "execution": {
     "iopub.execute_input": "2023-07-24T06:36:49.136386Z",
     "iopub.status.busy": "2023-07-24T06:36:49.136096Z",
     "iopub.status.idle": "2023-07-24T06:36:49.145918Z",
     "shell.execute_reply": "2023-07-24T06:36:49.145189Z"
    },
    "lines_to_next_cell": 0,
    "papermill": {
     "duration": 0.017718,
     "end_time": "2023-07-24T06:36:49.148224",
     "exception": false,
     "start_time": "2023-07-24T06:36:49.130506",
     "status": "completed"
    },
    "tags": []
   },
   "outputs": [],
   "source": [
    "onnx_inference_session = read_onnx(\n",
    "    datalake_root(ctx)\n",
    "    / \"models\"\n",
    "    / f\"nr_train_images={ctx.parameters['task.nr_train_images']}\"\n",
    "    / \"model.onnx\"\n",
    ")"
   ]
  },
  {
   "cell_type": "markdown",
   "id": "48c671bd",
   "metadata": {
    "papermill": {
     "duration": 0.004385,
     "end_time": "2023-07-24T06:36:49.159764",
     "exception": false,
     "start_time": "2023-07-24T06:36:49.155379",
     "status": "completed"
    },
    "tags": []
   },
   "source": [
    "### Record structure of inputs and outputs for ONNX model\n",
    "\n",
    "(this should likely be done in training notebook)"
   ]
  },
  {
   "cell_type": "code",
   "execution_count": 8,
   "id": "8ff4d838",
   "metadata": {
    "execution": {
     "iopub.execute_input": "2023-07-24T06:36:49.170599Z",
     "iopub.status.busy": "2023-07-24T06:36:49.170306Z",
     "iopub.status.idle": "2023-07-24T06:36:49.185058Z",
     "shell.execute_reply": "2023-07-24T06:36:49.182620Z"
    },
    "papermill": {
     "duration": 0.024383,
     "end_time": "2023-07-24T06:36:49.188884",
     "exception": false,
     "start_time": "2023-07-24T06:36:49.164501",
     "status": "completed"
    },
    "tags": []
   },
   "outputs": [
    {
     "name": "stdout",
     "output_type": "stream",
     "text": [
      "{\n",
      "  \"inputs\": [\n",
      "    {\n",
      "      \"name\": \"float_input_8x8_image\",\n",
      "      \"shape\": [\n",
      "        null,\n",
      "        64\n",
      "      ],\n",
      "      \"type\": \"tensor(float)\"\n",
      "    }\n",
      "  ],\n",
      "  \"outputs\": [\n",
      "    {\n",
      "      \"name\": \"output_label\",\n",
      "      \"shape\": [\n",
      "        null\n",
      "      ],\n",
      "      \"type\": \"tensor(int64)\"\n",
      "    },\n",
      "    {\n",
      "      \"name\": \"output_probability\",\n",
      "      \"shape\": [],\n",
      "      \"type\": \"seq(map(int64,tensor(float)))\"\n",
      "    }\n",
      "  ]\n",
      "}\n"
     ]
    }
   ],
   "source": [
    "import json\n",
    "\n",
    "onnx_io = json.dumps(\n",
    "    {\n",
    "        \"inputs\": get_onnx_inputs(onnx_inference_session),\n",
    "        \"outputs\": get_onnx_outputs(onnx_inference_session),\n",
    "    },\n",
    "    indent=2,\n",
    ")\n",
    "\n",
    "\n",
    "ctx.log_artefact(\"onnx_io_structure.json\", onnx_io)\n",
    "print(onnx_io)"
   ]
  },
  {
   "cell_type": "markdown",
   "id": "efbb3215",
   "metadata": {
    "papermill": {
     "duration": 0.004696,
     "end_time": "2023-07-24T06:36:49.202990",
     "exception": false,
     "start_time": "2023-07-24T06:36:49.198294",
     "status": "completed"
    },
    "tags": []
   },
   "source": [
    "### Evaluate model performance on evaluation data set"
   ]
  },
  {
   "cell_type": "code",
   "execution_count": 9,
   "id": "5323a499",
   "metadata": {
    "execution": {
     "iopub.execute_input": "2023-07-24T06:36:49.214002Z",
     "iopub.status.busy": "2023-07-24T06:36:49.213650Z",
     "iopub.status.idle": "2023-07-24T06:36:49.219911Z",
     "shell.execute_reply": "2023-07-24T06:36:49.219275Z"
    },
    "papermill": {
     "duration": 0.01433,
     "end_time": "2023-07-24T06:36:49.221890",
     "exception": false,
     "start_time": "2023-07-24T06:36:49.207560",
     "status": "completed"
    },
    "tags": []
   },
   "outputs": [],
   "source": [
    "# load evaluation data\n",
    "X_test = read_numpy(datalake_root(ctx) / \"test-data\" / \"digits.numpy\")\n",
    "y_test = read_numpy(datalake_root(ctx) / \"test-data\" / \"labels.numpy\")"
   ]
  },
  {
   "cell_type": "code",
   "execution_count": 10,
   "id": "2a39cfa5",
   "metadata": {
    "execution": {
     "iopub.execute_input": "2023-07-24T06:36:49.232594Z",
     "iopub.status.busy": "2023-07-24T06:36:49.232300Z",
     "iopub.status.idle": "2023-07-24T06:36:49.247236Z",
     "shell.execute_reply": "2023-07-24T06:36:49.246618Z"
    },
    "papermill": {
     "duration": 0.022848,
     "end_time": "2023-07-24T06:36:49.249316",
     "exception": false,
     "start_time": "2023-07-24T06:36:49.226468",
     "status": "completed"
    },
    "tags": []
   },
   "outputs": [],
   "source": [
    "def get_model_outputs(X, onnx_inference_session):\n",
    "    y_pred_labels, y_pred_map = onnx_inference_session.run(\n",
    "        [\"output_label\", \"output_probability\"],\n",
    "        {\"float_input_8x8_image\": X.astype(np.float32)},\n",
    "    )\n",
    "    y_pred_probs = np.array(\n",
    "        [[probabilities[digit] for digit in range(10)] for probabilities in y_pred_map]\n",
    "    )\n",
    "\n",
    "    assert y_pred_labels.shape == (X.shape[0],)\n",
    "    assert y_pred_probs.shape == (X.shape[0], 10)\n",
    "\n",
    "    return y_pred_labels, y_pred_probs\n",
    "\n",
    "\n",
    "# Note: as shown in the training notebook, the predicted labels and probabilities\n",
    "# computed below need not be compatible.\n",
    "y_pred_labels_test, y_pred_probs_test = get_model_outputs(\n",
    "    X_test, onnx_inference_session\n",
    ")"
   ]
  },
  {
   "cell_type": "markdown",
   "id": "538983d8",
   "metadata": {
    "papermill": {
     "duration": 0.004461,
     "end_time": "2023-07-24T06:36:49.258509",
     "exception": false,
     "start_time": "2023-07-24T06:36:49.254048",
     "status": "completed"
    },
    "tags": []
   },
   "source": [
    "### Confusion matrix"
   ]
  },
  {
   "cell_type": "code",
   "execution_count": 11,
   "id": "a5fa1c7b",
   "metadata": {
    "execution": {
     "iopub.execute_input": "2023-07-24T06:36:49.270746Z",
     "iopub.status.busy": "2023-07-24T06:36:49.270455Z",
     "iopub.status.idle": "2023-07-24T06:36:49.275021Z",
     "shell.execute_reply": "2023-07-24T06:36:49.274407Z"
    },
    "papermill": {
     "duration": 0.013475,
     "end_time": "2023-07-24T06:36:49.277065",
     "exception": false,
     "start_time": "2023-07-24T06:36:49.263590",
     "status": "completed"
    },
    "tags": []
   },
   "outputs": [],
   "source": [
    "# TODO"
   ]
  },
  {
   "cell_type": "markdown",
   "id": "bc2adcab",
   "metadata": {
    "papermill": {
     "duration": 0.006229,
     "end_time": "2023-07-24T06:36:49.287981",
     "exception": false,
     "start_time": "2023-07-24T06:36:49.281752",
     "status": "completed"
    },
    "tags": []
   },
   "source": [
    "### Plot predicted probabilities for each classifier over all evaluation digit images"
   ]
  },
  {
   "cell_type": "code",
   "execution_count": 12,
   "id": "ce5697a8",
   "metadata": {
    "execution": {
     "iopub.execute_input": "2023-07-24T06:36:49.298699Z",
     "iopub.status.busy": "2023-07-24T06:36:49.298400Z",
     "iopub.status.idle": "2023-07-24T06:36:53.660290Z",
     "shell.execute_reply": "2023-07-24T06:36:53.659570Z"
    },
    "papermill": {
     "duration": 4.369694,
     "end_time": "2023-07-24T06:36:53.662277",
     "exception": false,
     "start_time": "2023-07-24T06:36:49.292583",
     "status": "completed"
    },
    "tags": []
   },
   "outputs": [
    {
     "data": {
      "image/png": "[encoded data removed]",
      "text/plain": [
       "<Figure size 1600x600 with 10 Axes>"
      ]
     },
     "metadata": {},
     "output_type": "display_data"
    }
   ],
   "source": [
    "def plot_per_digit_probabilities(y_pred_probs):\n",
    "    fig, axs = plt.subplots(nrows=2, ncols=5, figsize=(16, 6))\n",
    "\n",
    "    for (r, c), digit, ax in zip(\n",
    "        it.product(range(2), range(5)), range(10), axs.reshape(-1)\n",
    "    ):\n",
    "        ax.hist(y_pred_probs_test[:, digit], bins=20)\n",
    "\n",
    "        ax.set_title(f\"Digit {digit}\")\n",
    "        if r == 1 and c == 2:\n",
    "            ax.set_xlabel(\"probability\", fontsize=16)\n",
    "\n",
    "        if c == 0:\n",
    "            ax.set_ylabel(\"counts\", fontsize=16)\n",
    "        ax.set_yscale(\"log\")\n",
    "\n",
    "    fig.tight_layout()\n",
    "    fig.suptitle(\n",
    "        f\"Distributions of prediction probabilities for each digit \"\n",
    "        f\"(on evaluation data, n={y_pred_probs.shape[0]})\",\n",
    "        fontsize=20,\n",
    "    )\n",
    "    fig.tight_layout()\n",
    "    fig.show()\n",
    "\n",
    "    return fig\n",
    "\n",
    "\n",
    "fig = plot_per_digit_probabilities(y_pred_probs_test)"
   ]
  },
  {
   "cell_type": "markdown",
   "id": "2deb5422",
   "metadata": {
    "papermill": {
     "duration": 0.005379,
     "end_time": "2023-07-24T06:36:53.673718",
     "exception": false,
     "start_time": "2023-07-24T06:36:53.668339",
     "status": "completed"
    },
    "tags": []
   },
   "source": [
    "From the above distributions we see that most digits have clear separation between\n",
    "high and lower probabilities. Morover, in each case there is roughly an order of\n",
    "magnitude more of digits with low probabilities. This is compatible with digits\n",
    "being roughly evenly distributed in the data."
   ]
  },
  {
   "cell_type": "code",
   "execution_count": 13,
   "id": "50b87b8a",
   "metadata": {
    "execution": {
     "iopub.execute_input": "2023-07-24T06:36:53.686745Z",
     "iopub.status.busy": "2023-07-24T06:36:53.686433Z",
     "iopub.status.idle": "2023-07-24T06:36:54.374281Z",
     "shell.execute_reply": "2023-07-24T06:36:54.373616Z"
    },
    "papermill": {
     "duration": 0.697169,
     "end_time": "2023-07-24T06:36:54.376472",
     "exception": false,
     "start_time": "2023-07-24T06:36:53.679303",
     "status": "completed"
    },
    "tags": []
   },
   "outputs": [],
   "source": [
    "ctx.log_figure(\"per-digit-probabilities.png\", fig)"
   ]
  },
  {
   "cell_type": "markdown",
   "id": "01b63b58",
   "metadata": {
    "papermill": {
     "duration": 0.005543,
     "end_time": "2023-07-24T06:36:54.388413",
     "exception": false,
     "start_time": "2023-07-24T06:36:54.382870",
     "status": "completed"
    },
    "tags": []
   },
   "source": [
    "### Plot ROC curves for individual one-vs-rest classifiers"
   ]
  },
  {
   "cell_type": "code",
   "execution_count": 14,
   "id": "8135fc21",
   "metadata": {
    "execution": {
     "iopub.execute_input": "2023-07-24T06:36:54.401269Z",
     "iopub.status.busy": "2023-07-24T06:36:54.400963Z",
     "iopub.status.idle": "2023-07-24T06:36:54.722636Z",
     "shell.execute_reply": "2023-07-24T06:36:54.721881Z"
    },
    "papermill": {
     "duration": 0.331014,
     "end_time": "2023-07-24T06:36:54.724938",
     "exception": false,
     "start_time": "2023-07-24T06:36:54.393924",
     "status": "completed"
    },
    "tags": []
   },
   "outputs": [],
   "source": [
    "from sklearn import metrics"
   ]
  },
  {
   "cell_type": "code",
   "execution_count": 15,
   "id": "a670e1b3",
   "metadata": {
    "execution": {
     "iopub.execute_input": "2023-07-24T06:36:54.739439Z",
     "iopub.status.busy": "2023-07-24T06:36:54.739125Z",
     "iopub.status.idle": "2023-07-24T06:36:56.777269Z",
     "shell.execute_reply": "2023-07-24T06:36:56.776497Z"
    },
    "papermill": {
     "duration": 2.04838,
     "end_time": "2023-07-24T06:36:56.779257",
     "exception": false,
     "start_time": "2023-07-24T06:36:54.730877",
     "status": "completed"
    },
    "tags": []
   },
   "outputs": [
    {
     "data": {
      "image/png": "[encoded data removed]",
      "text/plain": [
       "<Figure size 1600x800 with 10 Axes>"
      ]
     },
     "metadata": {},
     "output_type": "display_data"
    }
   ],
   "source": [
    "def plot_roc_curves(y, y_pred_probs):\n",
    "    # based on example code\n",
    "    # https://scikit-learn.org/stable/auto_examples/model_selection/plot_roc.html\n",
    "\n",
    "    fig, axs = plt.subplots(nrows=2, ncols=5, figsize=(16, 8))\n",
    "\n",
    "    roc_auc_dict = {}\n",
    "\n",
    "    for (r, c), digit, ax in zip(\n",
    "        it.product(range(2), range(5)), range(10), axs.reshape(-1)\n",
    "    ):\n",
    "        fpr, tpr, _ = metrics.roc_curve(y == digit, y_pred_probs[:, digit])\n",
    "        auc = metrics.auc(fpr, tpr)\n",
    "        roc_auc_dict[str(digit)] = auc\n",
    "\n",
    "        ax.plot(fpr, tpr, label=f\"ROC AUC={round(auc, 3)}\")\n",
    "\n",
    "        ax.set_title(f\"\\nDigit {digit}\", fontsize=16)\n",
    "        if r == 1:\n",
    "            ax.set_xlabel(\"FPR\", fontsize=18)\n",
    "\n",
    "        if c == 0:\n",
    "            ax.set_ylabel(\"TPR\", fontsize=18)\n",
    "\n",
    "        ax.set_xlim([-0.05, 1.05])\n",
    "        ax.set_ylim([-0.05, 1.05])\n",
    "        ax.legend(loc=\"lower right\", frameon=False, fontsize=14)\n",
    "\n",
    "    fig.tight_layout()\n",
    "    fig.suptitle(\n",
    "        f\"ROC plots for one-vs-rest performances \"\n",
    "        f\"(on evaluation data, n={y_pred_probs_test.shape[1]}\",\n",
    "        fontsize=22,\n",
    "    )\n",
    "    fig.tight_layout()\n",
    "    fig.show()\n",
    "\n",
    "    return roc_auc_dict, fig\n",
    "\n",
    "\n",
    "roc_auc_dict, fig = plot_roc_curves(y_test, y_pred_probs_test)"
   ]
  },
  {
   "cell_type": "code",
   "execution_count": 16,
   "id": "ecb54114",
   "metadata": {
    "execution": {
     "iopub.execute_input": "2023-07-24T06:36:56.795111Z",
     "iopub.status.busy": "2023-07-24T06:36:56.794708Z",
     "iopub.status.idle": "2023-07-24T06:36:57.134750Z",
     "shell.execute_reply": "2023-07-24T06:36:57.132782Z"
    },
    "papermill": {
     "duration": 0.350576,
     "end_time": "2023-07-24T06:36:57.137018",
     "exception": false,
     "start_time": "2023-07-24T06:36:56.786442",
     "status": "completed"
    },
    "tags": []
   },
   "outputs": [],
   "source": [
    "ctx.log_figure(\"per-digit-roc-curves.png\", fig)"
   ]
  },
  {
   "cell_type": "code",
   "execution_count": 17,
   "id": "117faf12",
   "metadata": {
    "execution": {
     "iopub.execute_input": "2023-07-24T06:36:57.155163Z",
     "iopub.status.busy": "2023-07-24T06:36:57.154852Z",
     "iopub.status.idle": "2023-07-24T06:36:57.161737Z",
     "shell.execute_reply": "2023-07-24T06:36:57.161106Z"
    },
    "papermill": {
     "duration": 0.01805,
     "end_time": "2023-07-24T06:36:57.163451",
     "exception": false,
     "start_time": "2023-07-24T06:36:57.145401",
     "status": "completed"
    },
    "tags": []
   },
   "outputs": [
    {
     "data": {
      "text/plain": [
       "{'0': 1.0,\n",
       " '1': 0.999025304592315,\n",
       " '2': 1.0,\n",
       " '3': 0.9998500468603562,\n",
       " '4': 0.9997332723670173,\n",
       " '5': 0.9997000937207123,\n",
       " '6': 0.999923792104862,\n",
       " '7': 0.9998475842097242,\n",
       " '8': 0.9956651954602775,\n",
       " '9': 0.9997713763145862}"
      ]
     },
     "execution_count": 17,
     "metadata": {},
     "output_type": "execute_result"
    }
   ],
   "source": [
    "roc_auc_dict"
   ]
  },
  {
   "cell_type": "code",
   "execution_count": 18,
   "id": "d58248f7",
   "metadata": {
    "execution": {
     "iopub.execute_input": "2023-07-24T06:36:57.178981Z",
     "iopub.status.busy": "2023-07-24T06:36:57.178692Z",
     "iopub.status.idle": "2023-07-24T06:36:57.185805Z",
     "shell.execute_reply": "2023-07-24T06:36:57.185207Z"
    },
    "papermill": {
     "duration": 0.016689,
     "end_time": "2023-07-24T06:36:57.187660",
     "exception": false,
     "start_time": "2023-07-24T06:36:57.170971",
     "status": "completed"
    },
    "tags": []
   },
   "outputs": [
    {
     "name": "stdout",
     "output_type": "stream",
     "text": [
      " - Logging roc_auc_per_digit (json) : {'0': 1.0, '1': 0.999025304592315, '2': 1.0, '3': 0.9998500468603562, '4': 0.9997332723670173, '5': 0.9997000937207123, '6': 0.999923792104862, '7': 0.9998475842097242, '8': 0.9956651954602775, '9': 0.9997713763145862}\n"
     ]
    }
   ],
   "source": [
    "ctx.log_value(\"roc_auc_per_digit\", roc_auc_dict)"
   ]
  },
  {
   "cell_type": "markdown",
   "id": "a5d65f20",
   "metadata": {
    "papermill": {
     "duration": 0.006964,
     "end_time": "2023-07-24T06:36:57.202093",
     "exception": false,
     "start_time": "2023-07-24T06:36:57.195129",
     "status": "completed"
    },
    "tags": []
   },
   "source": [
    "### Compute and log mean ROC AUC score averaged over all digits"
   ]
  },
  {
   "cell_type": "code",
   "execution_count": 19,
   "id": "36999be5",
   "metadata": {
    "execution": {
     "iopub.execute_input": "2023-07-24T06:36:57.222800Z",
     "iopub.status.busy": "2023-07-24T06:36:57.222502Z",
     "iopub.status.idle": "2023-07-24T06:36:57.238362Z",
     "shell.execute_reply": "2023-07-24T06:36:57.237691Z"
    },
    "papermill": {
     "duration": 0.031183,
     "end_time": "2023-07-24T06:36:57.240355",
     "exception": false,
     "start_time": "2023-07-24T06:36:57.209172",
     "status": "completed"
    },
    "tags": []
   },
   "outputs": [
    {
     "name": "stdout",
     "output_type": "stream",
     "text": [
      " - Logging roc_auc_class_mean (float) : 0.9993516665629851\n"
     ]
    }
   ],
   "source": [
    "roc_auc_macro = np.mean(list(roc_auc_dict.values()))\n",
    "\n",
    "ctx.log_float(\"roc_auc_class_mean\", roc_auc_macro)\n",
    "\n",
    "# assert that the same value can be computed directly using sklearn\n",
    "assert roc_auc_macro == metrics.roc_auc_score(\n",
    "    y_test, y_pred_probs_test, average=\"macro\", multi_class=\"ovr\"\n",
    ")"
   ]
  },
  {
   "cell_type": "code",
   "execution_count": 20,
   "id": "f1592796",
   "metadata": {
    "execution": {
     "iopub.execute_input": "2023-07-24T06:36:57.256512Z",
     "iopub.status.busy": "2023-07-24T06:36:57.256193Z",
     "iopub.status.idle": "2023-07-24T06:36:57.261070Z",
     "shell.execute_reply": "2023-07-24T06:36:57.260381Z"
    },
    "lines_to_next_cell": 0,
    "papermill": {
     "duration": 0.015268,
     "end_time": "2023-07-24T06:36:57.262829",
     "exception": false,
     "start_time": "2023-07-24T06:36:57.247561",
     "status": "completed"
    },
    "tags": []
   },
   "outputs": [],
   "source": [
    "# ---"
   ]
  },
  {
   "cell_type": "code",
   "execution_count": null,
   "id": "cdd48fac",
   "metadata": {
    "papermill": {
     "duration": 0.006931,
     "end_time": "2023-07-24T06:36:57.277463",
     "exception": false,
     "start_time": "2023-07-24T06:36:57.270532",
     "status": "completed"
    },
    "tags": []
   },
   "outputs": [],
   "source": []
  }
 ],
 "metadata": {
  "jupytext": {
   "cell_metadata_filter": "tags,-all",
   "main_language": "python",
   "notebook_metadata_filter": "-all"
  },
  "language_info": {
   "codemirror_mode": {
    "name": "ipython",
    "version": 3
   },
   "file_extension": ".py",
   "mimetype": "text/x-python",
   "name": "python",
   "nbconvert_exporter": "python",
   "pygments_lexer": "ipython3",
   "version": "3.8.10"
  },
  "papermill": {
   "default_parameters": {},
   "duration": 12.638716,
   "end_time": "2023-07-24T06:36:59.020956",
   "environment_variables": {},
   "exception": null,
   "input_path": "/tmp/temp-notebook-zmd08xhl.ipynb",
   "output_path": "/tmp/temp-notebook-zmd08xhl.ipynb",
   "parameters": {
    "P": {
     "_parameters_actor_name": "parameter_for_task_0x384d4bd558db978c",
     "task.nr_train_images": 1200
    }
   },
   "start_time": "2023-07-24T06:36:46.382240",
   "version": "2.4.0"
  }
 },
 "nbformat": 4,
 "nbformat_minor": 5
}