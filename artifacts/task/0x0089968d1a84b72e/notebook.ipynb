{
 "cells": [
  {
   "cell_type": "markdown",
   "id": "629e9206",
   "metadata": {
    "papermill": {
     "duration": 0.007116,
     "end_time": "2023-07-22T06:35:21.335758",
     "exception": false,
     "start_time": "2023-07-22T06:35:21.328642",
     "status": "completed"
    },
    "tags": []
   },
   "source": [
    "# Benchmark model\n",
    "\n",
    "The purpose of this notebook is to benchmark persisted onnx-model (trained in the\n",
    "previous step) against evaluation set."
   ]
  },
  {
   "cell_type": "markdown",
   "id": "15053cfc",
   "metadata": {
    "papermill": {
     "duration": 0.004773,
     "end_time": "2023-07-22T06:35:21.348798",
     "exception": false,
     "start_time": "2023-07-22T06:35:21.344025",
     "status": "completed"
    },
    "tags": []
   },
   "source": [
    "### Determine run parameters"
   ]
  },
  {
   "cell_type": "code",
   "execution_count": 1,
   "id": "21dd9d2b",
   "metadata": {
    "execution": {
     "iopub.execute_input": "2023-07-22T06:35:21.362252Z",
     "iopub.status.busy": "2023-07-22T06:35:21.361847Z",
     "iopub.status.idle": "2023-07-22T06:35:21.372172Z",
     "shell.execute_reply": "2023-07-22T06:35:21.371379Z"
    },
    "lines_to_next_cell": 0,
    "papermill": {
     "duration": 0.020691,
     "end_time": "2023-07-22T06:35:21.374735",
     "exception": false,
     "start_time": "2023-07-22T06:35:21.354044",
     "status": "completed"
    },
    "tags": []
   },
   "outputs": [],
   "source": [
    "# ----------------- Parameters for interactive development --------------\n",
    "P = {\n",
    "    \"workflow.data_lake_root\": \"/pipeline-outputs/data-lake\",\n",
    "    \"task.nr_train_images\": 600,\n",
    "}"
   ]
  },
  {
   "cell_type": "code",
   "execution_count": 2,
   "id": "e5955fa7",
   "metadata": {
    "execution": {
     "iopub.execute_input": "2023-07-22T06:35:21.395629Z",
     "iopub.status.busy": "2023-07-22T06:35:21.395211Z",
     "iopub.status.idle": "2023-07-22T06:35:21.400872Z",
     "shell.execute_reply": "2023-07-22T06:35:21.400048Z"
    },
    "lines_to_next_cell": 0,
    "papermill": {
     "duration": 0.023386,
     "end_time": "2023-07-22T06:35:21.403203",
     "exception": false,
     "start_time": "2023-07-22T06:35:21.379817",
     "status": "completed"
    },
    "tags": [
     "parameters"
    ]
   },
   "outputs": [],
   "source": [
    "# - During automated runs parameters will be injected in the below cell -"
   ]
  },
  {
   "cell_type": "code",
   "execution_count": 3,
   "id": "62811036",
   "metadata": {
    "execution": {
     "iopub.execute_input": "2023-07-22T06:35:21.415232Z",
     "iopub.status.busy": "2023-07-22T06:35:21.414932Z",
     "iopub.status.idle": "2023-07-22T06:35:21.420026Z",
     "shell.execute_reply": "2023-07-22T06:35:21.419294Z"
    },
    "papermill": {
     "duration": 0.013795,
     "end_time": "2023-07-22T06:35:21.422281",
     "exception": false,
     "start_time": "2023-07-22T06:35:21.408486",
     "status": "completed"
    },
    "tags": [
     "injected-parameters"
    ]
   },
   "outputs": [],
   "source": [
    "# Parameters\n",
    "P = {\n",
    "    \"task.nr_train_images\": 600,\n",
    "    \"_parameters_actor_name\": \"parameter_for_task_0x0089968d1a84b72e\",\n",
    "}\n"
   ]
  },
  {
   "cell_type": "code",
   "execution_count": 4,
   "id": "1b68b038",
   "metadata": {
    "execution": {
     "iopub.execute_input": "2023-07-22T06:35:21.436038Z",
     "iopub.status.busy": "2023-07-22T06:35:21.435718Z",
     "iopub.status.idle": "2023-07-22T06:35:21.441656Z",
     "shell.execute_reply": "2023-07-22T06:35:21.440840Z"
    },
    "lines_to_next_cell": 0,
    "papermill": {
     "duration": 0.016037,
     "end_time": "2023-07-22T06:35:21.444212",
     "exception": false,
     "start_time": "2023-07-22T06:35:21.428175",
     "status": "completed"
    },
    "tags": []
   },
   "outputs": [],
   "source": [
    "# -----------------------------------------------------------------------"
   ]
  },
  {
   "cell_type": "markdown",
   "id": "f0e267bf",
   "metadata": {
    "papermill": {
     "duration": 0.005126,
     "end_time": "2023-07-22T06:35:21.455762",
     "exception": false,
     "start_time": "2023-07-22T06:35:21.450636",
     "status": "completed"
    },
    "tags": []
   },
   "source": [
    "---"
   ]
  },
  {
   "cell_type": "markdown",
   "id": "ecd0b173",
   "metadata": {
    "lines_to_next_cell": 2,
    "papermill": {
     "duration": 0.005636,
     "end_time": "2023-07-22T06:35:21.466560",
     "exception": false,
     "start_time": "2023-07-22T06:35:21.460924",
     "status": "completed"
    },
    "tags": []
   },
   "source": [
    "### Notebook code"
   ]
  },
  {
   "cell_type": "code",
   "execution_count": 5,
   "id": "8ed2c244",
   "metadata": {
    "execution": {
     "iopub.execute_input": "2023-07-22T06:35:21.478985Z",
     "iopub.status.busy": "2023-07-22T06:35:21.478657Z",
     "iopub.status.idle": "2023-07-22T06:35:22.717540Z",
     "shell.execute_reply": "2023-07-22T06:35:22.716533Z"
    },
    "papermill": {
     "duration": 1.248201,
     "end_time": "2023-07-22T06:35:22.720248",
     "exception": false,
     "start_time": "2023-07-22T06:35:21.472047",
     "status": "completed"
    },
    "tags": []
   },
   "outputs": [
    {
     "name": "stderr",
     "output_type": "stream",
     "text": [
      "2023-07-22 06:35:22,591\tINFO worker.py:1364 -- Connecting to existing Ray cluster at address: 172.17.0.2:57687...\n"
     ]
    },
    {
     "name": "stderr",
     "output_type": "stream",
     "text": [
      "2023-07-22 06:35:22,620\tINFO worker.py:1544 -- Connected to Ray cluster. View the dashboard at \u001b[1m\u001b[32mhttp://127.0.0.1:8265 \u001b[39m\u001b[22m\n"
     ]
    },
    {
     "name": "stderr",
     "output_type": "stream",
     "text": [
      "/home/host_user/.local/lib/python3.8/site-packages/ray/runtime_context.py:27: RayDeprecationWarning: This API is deprecated and may be removed in future Ray releases. You could suppress this warning by setting env variable PYTHONWARNINGS=\"ignore::DeprecationWarning\"\n",
      "Use get_job_id() instead\n",
      "  \"job_id\": self.job_id,\n",
      "/home/host_user/.local/lib/python3.8/site-packages/ray/runtime_context.py:28: RayDeprecationWarning: This API is deprecated and may be removed in future Ray releases. You could suppress this warning by setting env variable PYTHONWARNINGS=\"ignore::DeprecationWarning\"\n",
      "Use get_node_id() instead\n",
      "  \"node_id\": self.node_id,\n"
     ]
    }
   ],
   "source": [
    "import itertools as it\n",
    "\n",
    "#\n",
    "import numpy as np\n",
    "import matplotlib.pyplot as plt\n",
    "\n",
    "#\n",
    "from composable_logs.tasks.task_opentelemetry_logging import get_task_context\n",
    "\n",
    "#\n",
    "from common.io import datalake_root\n",
    "\n",
    "ctx = get_task_context(P)"
   ]
  },
  {
   "cell_type": "markdown",
   "id": "736b01dd",
   "metadata": {
    "papermill": {
     "duration": 0.018948,
     "end_time": "2023-07-22T06:35:22.745256",
     "exception": false,
     "start_time": "2023-07-22T06:35:22.726308",
     "status": "completed"
    },
    "tags": []
   },
   "source": [
    "## Load persisted onnx-model and evaluation data"
   ]
  },
  {
   "cell_type": "code",
   "execution_count": 6,
   "id": "fc91122e",
   "metadata": {
    "execution": {
     "iopub.execute_input": "2023-07-22T06:35:22.761355Z",
     "iopub.status.busy": "2023-07-22T06:35:22.761002Z",
     "iopub.status.idle": "2023-07-22T06:35:22.767659Z",
     "shell.execute_reply": "2023-07-22T06:35:22.766780Z"
    },
    "papermill": {
     "duration": 0.017219,
     "end_time": "2023-07-22T06:35:22.769959",
     "exception": false,
     "start_time": "2023-07-22T06:35:22.752740",
     "status": "completed"
    },
    "tags": []
   },
   "outputs": [],
   "source": [
    "from common.io import read_onnx, get_onnx_inputs, get_onnx_outputs, read_numpy"
   ]
  },
  {
   "cell_type": "code",
   "execution_count": 7,
   "id": "2a5bf7bf",
   "metadata": {
    "execution": {
     "iopub.execute_input": "2023-07-22T06:35:22.783495Z",
     "iopub.status.busy": "2023-07-22T06:35:22.783157Z",
     "iopub.status.idle": "2023-07-22T06:35:22.795869Z",
     "shell.execute_reply": "2023-07-22T06:35:22.794976Z"
    },
    "lines_to_next_cell": 0,
    "papermill": {
     "duration": 0.022883,
     "end_time": "2023-07-22T06:35:22.798340",
     "exception": false,
     "start_time": "2023-07-22T06:35:22.775457",
     "status": "completed"
    },
    "tags": []
   },
   "outputs": [],
   "source": [
    "onnx_inference_session = read_onnx(\n",
    "    datalake_root(ctx)\n",
    "    / \"models\"\n",
    "    / f\"nr_train_images={ctx.parameters['task.nr_train_images']}\"\n",
    "    / \"model.onnx\"\n",
    ")"
   ]
  },
  {
   "cell_type": "markdown",
   "id": "ba8b6f7d",
   "metadata": {
    "papermill": {
     "duration": 0.005688,
     "end_time": "2023-07-22T06:35:22.809732",
     "exception": false,
     "start_time": "2023-07-22T06:35:22.804044",
     "status": "completed"
    },
    "tags": []
   },
   "source": [
    "### Record structure of inputs and outputs for ONNX model\n",
    "\n",
    "(this should likely be done in training notebook)"
   ]
  },
  {
   "cell_type": "code",
   "execution_count": 8,
   "id": "b842e44d",
   "metadata": {
    "execution": {
     "iopub.execute_input": "2023-07-22T06:35:22.823184Z",
     "iopub.status.busy": "2023-07-22T06:35:22.822835Z",
     "iopub.status.idle": "2023-07-22T06:35:22.833015Z",
     "shell.execute_reply": "2023-07-22T06:35:22.832178Z"
    },
    "papermill": {
     "duration": 0.021293,
     "end_time": "2023-07-22T06:35:22.836919",
     "exception": false,
     "start_time": "2023-07-22T06:35:22.815626",
     "status": "completed"
    },
    "tags": []
   },
   "outputs": [
    {
     "name": "stdout",
     "output_type": "stream",
     "text": [
      "{\n",
      "  \"inputs\": [\n",
      "    {\n",
      "      \"name\": \"float_input_8x8_image\",\n",
      "      \"shape\": [\n",
      "        null,\n",
      "        64\n",
      "      ],\n",
      "      \"type\": \"tensor(float)\"\n",
      "    }\n",
      "  ],\n",
      "  \"outputs\": [\n",
      "    {\n",
      "      \"name\": \"output_label\",\n",
      "      \"shape\": [\n",
      "        null\n",
      "      ],\n",
      "      \"type\": \"tensor(int64)\"\n",
      "    },\n",
      "    {\n",
      "      \"name\": \"output_probability\",\n",
      "      \"shape\": [],\n",
      "      \"type\": \"seq(map(int64,tensor(float)))\"\n",
      "    }\n",
      "  ]\n",
      "}\n"
     ]
    }
   ],
   "source": [
    "import json\n",
    "\n",
    "onnx_io = json.dumps(\n",
    "    {\n",
    "        \"inputs\": get_onnx_inputs(onnx_inference_session),\n",
    "        \"outputs\": get_onnx_outputs(onnx_inference_session),\n",
    "    },\n",
    "    indent=2,\n",
    ")\n",
    "\n",
    "\n",
    "ctx.log_artefact(\"onnx_io_structure.json\", onnx_io)\n",
    "print(onnx_io)"
   ]
  },
  {
   "cell_type": "markdown",
   "id": "3bb143ad",
   "metadata": {
    "papermill": {
     "duration": 0.010063,
     "end_time": "2023-07-22T06:35:22.854111",
     "exception": false,
     "start_time": "2023-07-22T06:35:22.844048",
     "status": "completed"
    },
    "tags": []
   },
   "source": [
    "### Evaluate model performance on evaluation data set"
   ]
  },
  {
   "cell_type": "code",
   "execution_count": 9,
   "id": "976aa2b4",
   "metadata": {
    "execution": {
     "iopub.execute_input": "2023-07-22T06:35:22.869764Z",
     "iopub.status.busy": "2023-07-22T06:35:22.868681Z",
     "iopub.status.idle": "2023-07-22T06:35:22.876337Z",
     "shell.execute_reply": "2023-07-22T06:35:22.875471Z"
    },
    "papermill": {
     "duration": 0.018901,
     "end_time": "2023-07-22T06:35:22.878868",
     "exception": false,
     "start_time": "2023-07-22T06:35:22.859967",
     "status": "completed"
    },
    "tags": []
   },
   "outputs": [],
   "source": [
    "# load evaluation data\n",
    "X_test = read_numpy(datalake_root(ctx) / \"test-data\" / \"digits.numpy\")\n",
    "y_test = read_numpy(datalake_root(ctx) / \"test-data\" / \"labels.numpy\")"
   ]
  },
  {
   "cell_type": "code",
   "execution_count": 10,
   "id": "1ed8b35b",
   "metadata": {
    "execution": {
     "iopub.execute_input": "2023-07-22T06:35:22.893239Z",
     "iopub.status.busy": "2023-07-22T06:35:22.892883Z",
     "iopub.status.idle": "2023-07-22T06:35:22.910366Z",
     "shell.execute_reply": "2023-07-22T06:35:22.909453Z"
    },
    "papermill": {
     "duration": 0.028344,
     "end_time": "2023-07-22T06:35:22.913395",
     "exception": false,
     "start_time": "2023-07-22T06:35:22.885051",
     "status": "completed"
    },
    "tags": []
   },
   "outputs": [],
   "source": [
    "def get_model_outputs(X, onnx_inference_session):\n",
    "    y_pred_labels, y_pred_map = onnx_inference_session.run(\n",
    "        [\"output_label\", \"output_probability\"],\n",
    "        {\"float_input_8x8_image\": X.astype(np.float32)},\n",
    "    )\n",
    "    y_pred_probs = np.array(\n",
    "        [[probabilities[digit] for digit in range(10)] for probabilities in y_pred_map]\n",
    "    )\n",
    "\n",
    "    assert y_pred_labels.shape == (X.shape[0],)\n",
    "    assert y_pred_probs.shape == (X.shape[0], 10)\n",
    "\n",
    "    return y_pred_labels, y_pred_probs\n",
    "\n",
    "\n",
    "# Note: as shown in the training notebook, the predicted labels and probabilities\n",
    "# computed below need not be compatible.\n",
    "y_pred_labels_test, y_pred_probs_test = get_model_outputs(\n",
    "    X_test, onnx_inference_session\n",
    ")"
   ]
  },
  {
   "cell_type": "markdown",
   "id": "65c24838",
   "metadata": {
    "papermill": {
     "duration": 0.006052,
     "end_time": "2023-07-22T06:35:22.927164",
     "exception": false,
     "start_time": "2023-07-22T06:35:22.921112",
     "status": "completed"
    },
    "tags": []
   },
   "source": [
    "### Confusion matrix"
   ]
  },
  {
   "cell_type": "code",
   "execution_count": 11,
   "id": "1b954fa7",
   "metadata": {
    "execution": {
     "iopub.execute_input": "2023-07-22T06:35:22.942424Z",
     "iopub.status.busy": "2023-07-22T06:35:22.942056Z",
     "iopub.status.idle": "2023-07-22T06:35:22.948361Z",
     "shell.execute_reply": "2023-07-22T06:35:22.947369Z"
    },
    "papermill": {
     "duration": 0.016734,
     "end_time": "2023-07-22T06:35:22.950930",
     "exception": false,
     "start_time": "2023-07-22T06:35:22.934196",
     "status": "completed"
    },
    "tags": []
   },
   "outputs": [],
   "source": [
    "# TODO"
   ]
  },
  {
   "cell_type": "markdown",
   "id": "6faeb5d4",
   "metadata": {
    "papermill": {
     "duration": 0.007319,
     "end_time": "2023-07-22T06:35:22.964264",
     "exception": false,
     "start_time": "2023-07-22T06:35:22.956945",
     "status": "completed"
    },
    "tags": []
   },
   "source": [
    "### Plot predicted probabilities for each classifier over all evaluation digit images"
   ]
  },
  {
   "cell_type": "code",
   "execution_count": 12,
   "id": "f7ee882e",
   "metadata": {
    "execution": {
     "iopub.execute_input": "2023-07-22T06:35:22.978334Z",
     "iopub.status.busy": "2023-07-22T06:35:22.977979Z",
     "iopub.status.idle": "2023-07-22T06:35:29.135167Z",
     "shell.execute_reply": "2023-07-22T06:35:29.133161Z"
    },
    "papermill": {
     "duration": 6.168384,
     "end_time": "2023-07-22T06:35:29.138476",
     "exception": false,
     "start_time": "2023-07-22T06:35:22.970092",
     "status": "completed"
    },
    "tags": []
   },
   "outputs": [
    {
     "data": {
      "image/png": "[encoded data removed]",
      "text/plain": [
       "<Figure size 1600x600 with 10 Axes>"
      ]
     },
     "metadata": {},
     "output_type": "display_data"
    }
   ],
   "source": [
    "def plot_per_digit_probabilities(y_pred_probs):\n",
    "    fig, axs = plt.subplots(nrows=2, ncols=5, figsize=(16, 6))\n",
    "\n",
    "    for (r, c), digit, ax in zip(\n",
    "        it.product(range(2), range(5)), range(10), axs.reshape(-1)\n",
    "    ):\n",
    "        ax.hist(y_pred_probs_test[:, digit], bins=20)\n",
    "\n",
    "        ax.set_title(f\"Digit {digit}\")\n",
    "        if r == 1 and c == 2:\n",
    "            ax.set_xlabel(\"probability\", fontsize=16)\n",
    "\n",
    "        if c == 0:\n",
    "            ax.set_ylabel(\"counts\", fontsize=16)\n",
    "        ax.set_yscale(\"log\")\n",
    "\n",
    "    fig.tight_layout()\n",
    "    fig.suptitle(\n",
    "        f\"Distributions of prediction probabilities for each digit \"\n",
    "        f\"(on evaluation data, n={y_pred_probs.shape[0]})\",\n",
    "        fontsize=20,\n",
    "    )\n",
    "    fig.tight_layout()\n",
    "    fig.show()\n",
    "\n",
    "    return fig\n",
    "\n",
    "\n",
    "fig = plot_per_digit_probabilities(y_pred_probs_test)"
   ]
  },
  {
   "cell_type": "markdown",
   "id": "0fa0bce7",
   "metadata": {
    "papermill": {
     "duration": 0.007861,
     "end_time": "2023-07-22T06:35:29.153063",
     "exception": false,
     "start_time": "2023-07-22T06:35:29.145202",
     "status": "completed"
    },
    "tags": []
   },
   "source": [
    "From the above distributions we see that most digits have clear separation between\n",
    "high and lower probabilities. Morover, in each case there is roughly an order of\n",
    "magnitude more of digits with low probabilities. This is compatible with digits\n",
    "being roughly evenly distributed in the data."
   ]
  },
  {
   "cell_type": "code",
   "execution_count": 13,
   "id": "de1f809d",
   "metadata": {
    "execution": {
     "iopub.execute_input": "2023-07-22T06:35:29.170101Z",
     "iopub.status.busy": "2023-07-22T06:35:29.169746Z",
     "iopub.status.idle": "2023-07-22T06:35:30.205393Z",
     "shell.execute_reply": "2023-07-22T06:35:30.204520Z"
    },
    "papermill": {
     "duration": 1.048218,
     "end_time": "2023-07-22T06:35:30.208043",
     "exception": false,
     "start_time": "2023-07-22T06:35:29.159825",
     "status": "completed"
    },
    "tags": []
   },
   "outputs": [],
   "source": [
    "ctx.log_figure(\"per-digit-probabilities.png\", fig)"
   ]
  },
  {
   "cell_type": "markdown",
   "id": "222e23d2",
   "metadata": {
    "papermill": {
     "duration": 0.006478,
     "end_time": "2023-07-22T06:35:30.221739",
     "exception": false,
     "start_time": "2023-07-22T06:35:30.215261",
     "status": "completed"
    },
    "tags": []
   },
   "source": [
    "### Plot ROC curves for individual one-vs-rest classifiers"
   ]
  },
  {
   "cell_type": "code",
   "execution_count": 14,
   "id": "d1d2a630",
   "metadata": {
    "execution": {
     "iopub.execute_input": "2023-07-22T06:35:30.240428Z",
     "iopub.status.busy": "2023-07-22T06:35:30.239688Z",
     "iopub.status.idle": "2023-07-22T06:35:30.741108Z",
     "shell.execute_reply": "2023-07-22T06:35:30.740254Z"
    },
    "papermill": {
     "duration": 0.513175,
     "end_time": "2023-07-22T06:35:30.743698",
     "exception": false,
     "start_time": "2023-07-22T06:35:30.230523",
     "status": "completed"
    },
    "tags": []
   },
   "outputs": [],
   "source": [
    "from sklearn import metrics"
   ]
  },
  {
   "cell_type": "code",
   "execution_count": 15,
   "id": "c337f119",
   "metadata": {
    "execution": {
     "iopub.execute_input": "2023-07-22T06:35:30.758548Z",
     "iopub.status.busy": "2023-07-22T06:35:30.758199Z",
     "iopub.status.idle": "2023-07-22T06:35:34.374839Z",
     "shell.execute_reply": "2023-07-22T06:35:34.373806Z"
    },
    "papermill": {
     "duration": 3.630761,
     "end_time": "2023-07-22T06:35:34.381090",
     "exception": false,
     "start_time": "2023-07-22T06:35:30.750329",
     "status": "completed"
    },
    "tags": []
   },
   "outputs": [
    {
     "data": {
      "image/png": "[encoded data removed]",
      "text/plain": [
       "<Figure size 1600x800 with 10 Axes>"
      ]
     },
     "metadata": {},
     "output_type": "display_data"
    }
   ],
   "source": [
    "def plot_roc_curves(y, y_pred_probs):\n",
    "    # based on example code\n",
    "    # https://scikit-learn.org/stable/auto_examples/model_selection/plot_roc.html\n",
    "\n",
    "    fig, axs = plt.subplots(nrows=2, ncols=5, figsize=(16, 8))\n",
    "\n",
    "    roc_auc_dict = {}\n",
    "\n",
    "    for (r, c), digit, ax in zip(\n",
    "        it.product(range(2), range(5)), range(10), axs.reshape(-1)\n",
    "    ):\n",
    "        fpr, tpr, _ = metrics.roc_curve(y == digit, y_pred_probs[:, digit])\n",
    "        auc = metrics.auc(fpr, tpr)\n",
    "        roc_auc_dict[str(digit)] = auc\n",
    "\n",
    "        ax.plot(fpr, tpr, label=f\"ROC AUC={round(auc, 3)}\")\n",
    "\n",
    "        ax.set_title(f\"\\nDigit {digit}\", fontsize=16)\n",
    "        if r == 1:\n",
    "            ax.set_xlabel(\"FPR\", fontsize=18)\n",
    "\n",
    "        if c == 0:\n",
    "            ax.set_ylabel(\"TPR\", fontsize=18)\n",
    "\n",
    "        ax.set_xlim([-0.05, 1.05])\n",
    "        ax.set_ylim([-0.05, 1.05])\n",
    "        ax.legend(loc=\"lower right\", frameon=False, fontsize=14)\n",
    "\n",
    "    fig.tight_layout()\n",
    "    fig.suptitle(\n",
    "        f\"ROC plots for one-vs-rest performances \"\n",
    "        f\"(on evaluation data, n={y_pred_probs_test.shape[1]}\",\n",
    "        fontsize=22,\n",
    "    )\n",
    "    fig.tight_layout()\n",
    "    fig.show()\n",
    "\n",
    "    return roc_auc_dict, fig\n",
    "\n",
    "\n",
    "roc_auc_dict, fig = plot_roc_curves(y_test, y_pred_probs_test)"
   ]
  },
  {
   "cell_type": "code",
   "execution_count": 16,
   "id": "a0c8dccf",
   "metadata": {
    "execution": {
     "iopub.execute_input": "2023-07-22T06:35:34.400380Z",
     "iopub.status.busy": "2023-07-22T06:35:34.399713Z",
     "iopub.status.idle": "2023-07-22T06:35:34.906614Z",
     "shell.execute_reply": "2023-07-22T06:35:34.904699Z"
    },
    "papermill": {
     "duration": 0.520033,
     "end_time": "2023-07-22T06:35:34.909142",
     "exception": false,
     "start_time": "2023-07-22T06:35:34.389109",
     "status": "completed"
    },
    "tags": []
   },
   "outputs": [],
   "source": [
    "ctx.log_figure(\"per-digit-roc-curves.png\", fig)"
   ]
  },
  {
   "cell_type": "code",
   "execution_count": 17,
   "id": "ddee2217",
   "metadata": {
    "execution": {
     "iopub.execute_input": "2023-07-22T06:35:34.925703Z",
     "iopub.status.busy": "2023-07-22T06:35:34.925273Z",
     "iopub.status.idle": "2023-07-22T06:35:34.932336Z",
     "shell.execute_reply": "2023-07-22T06:35:34.931397Z"
    },
    "papermill": {
     "duration": 0.01843,
     "end_time": "2023-07-22T06:35:34.934988",
     "exception": false,
     "start_time": "2023-07-22T06:35:34.916558",
     "status": "completed"
    },
    "tags": []
   },
   "outputs": [
    {
     "data": {
      "text/plain": [
       "{'0': 1.0,\n",
       " '1': 0.9992127460168697,\n",
       " '2': 1.0,\n",
       " '3': 0.9998875351452671,\n",
       " '4': 0.9991617131534827,\n",
       " '5': 0.998987816307404,\n",
       " '6': 0.999923792104862,\n",
       " '7': 0.9998475842097241,\n",
       " '8': 0.9943647540983607,\n",
       " '9': 0.9986663618350861}"
      ]
     },
     "execution_count": 17,
     "metadata": {},
     "output_type": "execute_result"
    }
   ],
   "source": [
    "roc_auc_dict"
   ]
  },
  {
   "cell_type": "code",
   "execution_count": 18,
   "id": "7900dc38",
   "metadata": {
    "execution": {
     "iopub.execute_input": "2023-07-22T06:35:34.953178Z",
     "iopub.status.busy": "2023-07-22T06:35:34.952744Z",
     "iopub.status.idle": "2023-07-22T06:35:34.961039Z",
     "shell.execute_reply": "2023-07-22T06:35:34.960177Z"
    },
    "papermill": {
     "duration": 0.019839,
     "end_time": "2023-07-22T06:35:34.963480",
     "exception": false,
     "start_time": "2023-07-22T06:35:34.943641",
     "status": "completed"
    },
    "tags": []
   },
   "outputs": [
    {
     "name": "stdout",
     "output_type": "stream",
     "text": [
      " - Logging roc_auc_per_digit (json) : {'0': 1.0, '1': 0.9992127460168697, '2': 1.0, '3': 0.9998875351452671, '4': 0.9991617131534827, '5': 0.998987816307404, '6': 0.999923792104862, '7': 0.9998475842097241, '8': 0.9943647540983607, '9': 0.9986663618350861}\n"
     ]
    }
   ],
   "source": [
    "ctx.log_value(\"roc_auc_per_digit\", roc_auc_dict)"
   ]
  },
  {
   "cell_type": "markdown",
   "id": "aeca8115",
   "metadata": {
    "papermill": {
     "duration": 0.007939,
     "end_time": "2023-07-22T06:35:34.979867",
     "exception": false,
     "start_time": "2023-07-22T06:35:34.971928",
     "status": "completed"
    },
    "tags": []
   },
   "source": [
    "### Compute and log mean ROC AUC score averaged over all digits"
   ]
  },
  {
   "cell_type": "code",
   "execution_count": 19,
   "id": "69e01785",
   "metadata": {
    "execution": {
     "iopub.execute_input": "2023-07-22T06:35:35.013150Z",
     "iopub.status.busy": "2023-07-22T06:35:35.000641Z",
     "iopub.status.idle": "2023-07-22T06:35:35.034133Z",
     "shell.execute_reply": "2023-07-22T06:35:35.033292Z"
    },
    "papermill": {
     "duration": 0.048608,
     "end_time": "2023-07-22T06:35:35.036385",
     "exception": false,
     "start_time": "2023-07-22T06:35:34.987777",
     "status": "completed"
    },
    "tags": []
   },
   "outputs": [
    {
     "name": "stdout",
     "output_type": "stream",
     "text": [
      " - Logging roc_auc_class_mean (float) : 0.9990052302871056\n"
     ]
    }
   ],
   "source": [
    "roc_auc_macro = np.mean(list(roc_auc_dict.values()))\n",
    "\n",
    "ctx.log_float(\"roc_auc_class_mean\", roc_auc_macro)\n",
    "\n",
    "# assert that the same value can be computed directly using sklearn\n",
    "assert roc_auc_macro == metrics.roc_auc_score(\n",
    "    y_test, y_pred_probs_test, average=\"macro\", multi_class=\"ovr\"\n",
    ")"
   ]
  },
  {
   "cell_type": "code",
   "execution_count": 20,
   "id": "75437c3a",
   "metadata": {
    "execution": {
     "iopub.execute_input": "2023-07-22T06:35:35.055052Z",
     "iopub.status.busy": "2023-07-22T06:35:35.054696Z",
     "iopub.status.idle": "2023-07-22T06:35:35.060226Z",
     "shell.execute_reply": "2023-07-22T06:35:35.059271Z"
    },
    "lines_to_next_cell": 0,
    "papermill": {
     "duration": 0.01742,
     "end_time": "2023-07-22T06:35:35.062648",
     "exception": false,
     "start_time": "2023-07-22T06:35:35.045228",
     "status": "completed"
    },
    "tags": []
   },
   "outputs": [],
   "source": [
    "# ---"
   ]
  },
  {
   "cell_type": "code",
   "execution_count": null,
   "id": "2f3cdc86",
   "metadata": {
    "papermill": {
     "duration": 0.008972,
     "end_time": "2023-07-22T06:35:35.080361",
     "exception": false,
     "start_time": "2023-07-22T06:35:35.071389",
     "status": "completed"
    },
    "tags": []
   },
   "outputs": [],
   "source": []
  }
 ],
 "metadata": {
  "jupytext": {
   "cell_metadata_filter": "tags,-all",
   "main_language": "python",
   "notebook_metadata_filter": "-all"
  },
  "language_info": {
   "codemirror_mode": {
    "name": "ipython",
    "version": 3
   },
   "file_extension": ".py",
   "mimetype": "text/x-python",
   "name": "python",
   "nbconvert_exporter": "python",
   "pygments_lexer": "ipython3",
   "version": "3.8.10"
  },
  "papermill": {
   "default_parameters": {},
   "duration": 17.532539,
   "end_time": "2023-07-22T06:35:37.328416",
   "environment_variables": {},
   "exception": null,
   "input_path": "/tmp/temp-notebook-9_0m39rk.ipynb",
   "output_path": "/tmp/temp-notebook-9_0m39rk.ipynb",
   "parameters": {
    "P": {
     "_parameters_actor_name": "parameter_for_task_0x0089968d1a84b72e",
     "task.nr_train_images": 600
    }
   },
   "start_time": "2023-07-22T06:35:19.795877",
   "version": "2.4.0"
  }
 },
 "nbformat": 4,
 "nbformat_minor": 5
}