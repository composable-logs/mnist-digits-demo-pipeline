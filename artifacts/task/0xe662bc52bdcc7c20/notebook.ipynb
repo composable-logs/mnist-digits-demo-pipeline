{
 "cells": [
  {
   "cell_type": "markdown",
   "id": "9bb699e3",
   "metadata": {
    "papermill": {
     "duration": 0.003679,
     "end_time": "2023-07-19T06:36:21.946487",
     "exception": false,
     "start_time": "2023-07-19T06:36:21.942808",
     "status": "completed"
    },
    "tags": []
   },
   "source": [
    "# Summarize model performances\n",
    "\n",
    "This notebooks plots the performances (using averaged ROC AUC scores) for models\n",
    "trained with different training sets."
   ]
  },
  {
   "cell_type": "markdown",
   "id": "7dd3fbab",
   "metadata": {
    "papermill": {
     "duration": 0.002357,
     "end_time": "2023-07-19T06:36:21.952130",
     "exception": false,
     "start_time": "2023-07-19T06:36:21.949773",
     "status": "completed"
    },
    "tags": []
   },
   "source": [
    "### Determine run parameters"
   ]
  },
  {
   "cell_type": "code",
   "execution_count": 1,
   "id": "7d784173",
   "metadata": {
    "execution": {
     "iopub.execute_input": "2023-07-19T06:36:21.958580Z",
     "iopub.status.busy": "2023-07-19T06:36:21.957871Z",
     "iopub.status.idle": "2023-07-19T06:36:21.967527Z",
     "shell.execute_reply": "2023-07-19T06:36:21.966914Z"
    },
    "lines_to_next_cell": 0,
    "papermill": {
     "duration": 0.014872,
     "end_time": "2023-07-19T06:36:21.969358",
     "exception": false,
     "start_time": "2023-07-19T06:36:21.954486",
     "status": "completed"
    },
    "tags": []
   },
   "outputs": [],
   "source": [
    "# ----------------- Parameters for interactive development --------------\n",
    "P = {\n",
    "    \"workflow.run_environment\": \"dev\",\n",
    "}"
   ]
  },
  {
   "cell_type": "code",
   "execution_count": 2,
   "id": "d2ad9c09",
   "metadata": {
    "execution": {
     "iopub.execute_input": "2023-07-19T06:36:21.977562Z",
     "iopub.status.busy": "2023-07-19T06:36:21.976789Z",
     "iopub.status.idle": "2023-07-19T06:36:21.980088Z",
     "shell.execute_reply": "2023-07-19T06:36:21.979464Z"
    },
    "lines_to_next_cell": 0,
    "papermill": {
     "duration": 0.008302,
     "end_time": "2023-07-19T06:36:21.981707",
     "exception": false,
     "start_time": "2023-07-19T06:36:21.973405",
     "status": "completed"
    },
    "tags": [
     "parameters"
    ]
   },
   "outputs": [],
   "source": [
    "# - During automated runs parameters will be injected in the below cell -"
   ]
  },
  {
   "cell_type": "code",
   "execution_count": 3,
   "id": "7a124836",
   "metadata": {
    "execution": {
     "iopub.execute_input": "2023-07-19T06:36:21.988181Z",
     "iopub.status.busy": "2023-07-19T06:36:21.987725Z",
     "iopub.status.idle": "2023-07-19T06:36:21.991833Z",
     "shell.execute_reply": "2023-07-19T06:36:21.991189Z"
    },
    "papermill": {
     "duration": 0.009131,
     "end_time": "2023-07-19T06:36:21.993396",
     "exception": false,
     "start_time": "2023-07-19T06:36:21.984265",
     "status": "completed"
    },
    "tags": [
     "injected-parameters"
    ]
   },
   "outputs": [],
   "source": [
    "# Parameters\n",
    "P = {\"_parameters_actor_name\": \"parameter_for_task_0xe662bc52bdcc7c20\"}\n"
   ]
  },
  {
   "cell_type": "code",
   "execution_count": 4,
   "id": "fb61eed4",
   "metadata": {
    "execution": {
     "iopub.execute_input": "2023-07-19T06:36:22.000012Z",
     "iopub.status.busy": "2023-07-19T06:36:21.999424Z",
     "iopub.status.idle": "2023-07-19T06:36:22.003932Z",
     "shell.execute_reply": "2023-07-19T06:36:22.003219Z"
    },
    "lines_to_next_cell": 0,
    "papermill": {
     "duration": 0.009535,
     "end_time": "2023-07-19T06:36:22.005564",
     "exception": false,
     "start_time": "2023-07-19T06:36:21.996029",
     "status": "completed"
    },
    "tags": []
   },
   "outputs": [],
   "source": [
    "# -----------------------------------------------------------------------"
   ]
  },
  {
   "cell_type": "markdown",
   "id": "c36a07ac",
   "metadata": {
    "papermill": {
     "duration": 0.002507,
     "end_time": "2023-07-19T06:36:22.010805",
     "exception": false,
     "start_time": "2023-07-19T06:36:22.008298",
     "status": "completed"
    },
    "tags": []
   },
   "source": [
    "---"
   ]
  },
  {
   "cell_type": "markdown",
   "id": "cf9142de",
   "metadata": {
    "lines_to_next_cell": 2,
    "papermill": {
     "duration": 0.002476,
     "end_time": "2023-07-19T06:36:22.015783",
     "exception": false,
     "start_time": "2023-07-19T06:36:22.013307",
     "status": "completed"
    },
    "tags": []
   },
   "source": [
    "### Notebook code"
   ]
  },
  {
   "cell_type": "code",
   "execution_count": 5,
   "id": "e1ea063d",
   "metadata": {
    "execution": {
     "iopub.execute_input": "2023-07-19T06:36:22.022418Z",
     "iopub.status.busy": "2023-07-19T06:36:22.021816Z",
     "iopub.status.idle": "2023-07-19T06:36:23.008404Z",
     "shell.execute_reply": "2023-07-19T06:36:23.007794Z"
    },
    "papermill": {
     "duration": 0.993597,
     "end_time": "2023-07-19T06:36:23.011921",
     "exception": false,
     "start_time": "2023-07-19T06:36:22.018324",
     "status": "completed"
    },
    "tags": []
   },
   "outputs": [],
   "source": [
    "#\n",
    "import pandas as pd\n",
    "import matplotlib.pyplot as plt\n",
    "\n",
    "#\n",
    "from composable_logs.tasks.task_opentelemetry_logging import get_task_context"
   ]
  },
  {
   "cell_type": "code",
   "execution_count": 6,
   "id": "30a82208",
   "metadata": {
    "execution": {
     "iopub.execute_input": "2023-07-19T06:36:23.019053Z",
     "iopub.status.busy": "2023-07-19T06:36:23.018684Z",
     "iopub.status.idle": "2023-07-19T06:36:23.096562Z",
     "shell.execute_reply": "2023-07-19T06:36:23.095824Z"
    },
    "papermill": {
     "duration": 0.083512,
     "end_time": "2023-07-19T06:36:23.098349",
     "exception": false,
     "start_time": "2023-07-19T06:36:23.014837",
     "status": "completed"
    },
    "tags": []
   },
   "outputs": [
    {
     "name": "stderr",
     "output_type": "stream",
     "text": [
      "2023-07-19 06:36:23,021\tINFO worker.py:1364 -- Connecting to existing Ray cluster at address: 172.17.0.2:56162...\n"
     ]
    },
    {
     "name": "stderr",
     "output_type": "stream",
     "text": [
      "2023-07-19 06:36:23,031\tINFO worker.py:1544 -- Connected to Ray cluster. View the dashboard at \u001b[1m\u001b[32mhttp://127.0.0.1:8265 \u001b[39m\u001b[22m\n"
     ]
    },
    {
     "name": "stderr",
     "output_type": "stream",
     "text": [
      "/home/host_user/.local/lib/python3.8/site-packages/ray/runtime_context.py:27: RayDeprecationWarning: This API is deprecated and may be removed in future Ray releases. You could suppress this warning by setting env variable PYTHONWARNINGS=\"ignore::DeprecationWarning\"\n",
      "Use get_job_id() instead\n",
      "  \"job_id\": self.job_id,\n",
      "/home/host_user/.local/lib/python3.8/site-packages/ray/runtime_context.py:28: RayDeprecationWarning: This API is deprecated and may be removed in future Ray releases. You could suppress this warning by setting env variable PYTHONWARNINGS=\"ignore::DeprecationWarning\"\n",
      "Use get_node_id() instead\n",
      "  \"node_id\": self.node_id,\n"
     ]
    }
   ],
   "source": [
    "logger = get_task_context(P)"
   ]
  },
  {
   "cell_type": "code",
   "execution_count": 7,
   "id": "cedd616a",
   "metadata": {
    "execution": {
     "iopub.execute_input": "2023-07-19T06:36:23.108575Z",
     "iopub.status.busy": "2023-07-19T06:36:23.108248Z",
     "iopub.status.idle": "2023-07-19T06:36:23.111532Z",
     "shell.execute_reply": "2023-07-19T06:36:23.110984Z"
    },
    "papermill": {
     "duration": 0.008516,
     "end_time": "2023-07-19T06:36:23.112882",
     "exception": false,
     "start_time": "2023-07-19T06:36:23.104366",
     "status": "completed"
    },
    "tags": []
   },
   "outputs": [],
   "source": [
    "from composable_logs.tasks.task_opentelemetry_logging import get_logged_values\n",
    "from composable_logs.opentelemetry_helpers import _get_all_spans, Spans"
   ]
  },
  {
   "cell_type": "code",
   "execution_count": 8,
   "id": "89469180",
   "metadata": {
    "execution": {
     "iopub.execute_input": "2023-07-19T06:36:23.119868Z",
     "iopub.status.busy": "2023-07-19T06:36:23.119636Z",
     "iopub.status.idle": "2023-07-19T06:36:23.125812Z",
     "shell.execute_reply": "2023-07-19T06:36:23.125292Z"
    },
    "papermill": {
     "duration": 0.011343,
     "end_time": "2023-07-19T06:36:23.127191",
     "exception": false,
     "start_time": "2023-07-19T06:36:23.115848",
     "status": "completed"
    },
    "tags": []
   },
   "outputs": [],
   "source": [
    "def get_model_benchmarks():\n",
    "    \"\"\"\n",
    "    Query the OpenTelemetry logs for *this pipeline run* and return\n",
    "    all key-values logged from all runs of the benchmark-model.py task\n",
    "\n",
    "    For testing a json file with OpenTelemetry spans (as an array)\n",
    "    can be used as follows:\n",
    "\n",
    "    - Create output directory `mkdir /tmp/spans`\n",
    "    - Run unit tests. This will create pipeline-outputs/opentelemetry-spans.json\n",
    "    - Convert this json-array into jsonl format as follows\n",
    "\n",
    "    jq -c '.[]' /pipeline-outputs/opentelemetry-spans.json > /tmp/spans/data.txt\n",
    "\n",
    "    \"\"\"\n",
    "    spans: Spans = Spans(_get_all_spans())\n",
    "    print(f\" - Found {len(spans)} spans\")\n",
    "\n",
    "    benchmark_spans = (\n",
    "        spans\n",
    "        # -\n",
    "        .filter([\"name\"], \"execute-task\")\n",
    "        # -\n",
    "        .filter([\"attributes\", \"task.id\"], \"benchmark-model\")\n",
    "    )\n",
    "\n",
    "    result = []\n",
    "    for s in benchmark_spans:\n",
    "        result.append(\n",
    "            {\n",
    "                \"span_id\": s[\"context\"][\"span_id\"],\n",
    "                \"nr_train_images\": s[\"attributes\"][\"task.nr_train_images\"],\n",
    "                \"data\": get_logged_values(spans.bound_under(s)),\n",
    "            }\n",
    "        )\n",
    "\n",
    "    return result\n",
    "\n",
    "\n",
    "def adjust_pandas(df):\n",
    "    def column_renamer(col_name: str) -> str:\n",
    "        return (\n",
    "            col_name\n",
    "            # -- 'data.roc_auc_per_digit.4' -> 'roc_auc.4'\n",
    "            .replace(\"data.roc_auc_per_digit\", \"roc_auc\")\n",
    "            # -- 'data.roc_auc_class_mean' -> 'roc_auc_mean'\n",
    "            .replace(\"data.roc_auc_class_mean\", \"roc_auc_mean\")\n",
    "        )\n",
    "\n",
    "    return df.rename(column_renamer, axis=\"columns\").sort_values(by=\"nr_train_images\")"
   ]
  },
  {
   "cell_type": "code",
   "execution_count": 9,
   "id": "002fd60f",
   "metadata": {
    "execution": {
     "iopub.execute_input": "2023-07-19T06:36:23.134007Z",
     "iopub.status.busy": "2023-07-19T06:36:23.133770Z",
     "iopub.status.idle": "2023-07-19T06:36:23.236919Z",
     "shell.execute_reply": "2023-07-19T06:36:23.236260Z"
    },
    "papermill": {
     "duration": 0.108555,
     "end_time": "2023-07-19T06:36:23.238637",
     "exception": false,
     "start_time": "2023-07-19T06:36:23.130082",
     "status": "completed"
    },
    "tags": []
   },
   "outputs": [
    {
     "name": "stdout",
     "output_type": "stream",
     "text": [
      " - Found 250 spans\n"
     ]
    }
   ],
   "source": [
    "\n",
    "df_data = adjust_pandas(pd.json_normalize(get_model_benchmarks()))"
   ]
  },
  {
   "cell_type": "code",
   "execution_count": 10,
   "id": "706b0fcd",
   "metadata": {
    "execution": {
     "iopub.execute_input": "2023-07-19T06:36:23.246443Z",
     "iopub.status.busy": "2023-07-19T06:36:23.246163Z",
     "iopub.status.idle": "2023-07-19T06:36:23.274067Z",
     "shell.execute_reply": "2023-07-19T06:36:23.273370Z"
    },
    "papermill": {
     "duration": 0.033801,
     "end_time": "2023-07-19T06:36:23.275823",
     "exception": false,
     "start_time": "2023-07-19T06:36:23.242022",
     "status": "completed"
    },
    "tags": []
   },
   "outputs": [
    {
     "data": {
      "text/html": [
       "<div>\n",
       "<style scoped>\n",
       "    .dataframe tbody tr th:only-of-type {\n",
       "        vertical-align: middle;\n",
       "    }\n",
       "\n",
       "    .dataframe tbody tr th {\n",
       "        vertical-align: top;\n",
       "    }\n",
       "\n",
       "    .dataframe thead th {\n",
       "        text-align: right;\n",
       "    }\n",
       "</style>\n",
       "<table border=\"1\" class=\"dataframe\">\n",
       "  <thead>\n",
       "    <tr style=\"text-align: right;\">\n",
       "      <th></th>\n",
       "      <th>span_id</th>\n",
       "      <th>nr_train_images</th>\n",
       "      <th>roc_auc_mean</th>\n",
       "      <th>roc_auc.0</th>\n",
       "      <th>roc_auc.1</th>\n",
       "      <th>roc_auc.2</th>\n",
       "      <th>roc_auc.3</th>\n",
       "      <th>roc_auc.4</th>\n",
       "      <th>roc_auc.5</th>\n",
       "      <th>roc_auc.6</th>\n",
       "      <th>roc_auc.7</th>\n",
       "      <th>roc_auc.8</th>\n",
       "      <th>roc_auc.9</th>\n",
       "    </tr>\n",
       "  </thead>\n",
       "  <tbody>\n",
       "    <tr>\n",
       "      <th>3</th>\n",
       "      <td>0xe8f6fd2222e91ae0</td>\n",
       "      <td>600</td>\n",
       "      <td>0.9990</td>\n",
       "      <td>1.0</td>\n",
       "      <td>0.9993</td>\n",
       "      <td>1.0</td>\n",
       "      <td>0.9997</td>\n",
       "      <td>0.9991</td>\n",
       "      <td>0.9989</td>\n",
       "      <td>0.9999</td>\n",
       "      <td>0.9998</td>\n",
       "      <td>0.9946</td>\n",
       "      <td>0.9987</td>\n",
       "    </tr>\n",
       "    <tr>\n",
       "      <th>2</th>\n",
       "      <td>0xcfe326fcdf6f96b6</td>\n",
       "      <td>800</td>\n",
       "      <td>0.9989</td>\n",
       "      <td>1.0</td>\n",
       "      <td>0.9988</td>\n",
       "      <td>1.0</td>\n",
       "      <td>0.9999</td>\n",
       "      <td>0.9995</td>\n",
       "      <td>0.9991</td>\n",
       "      <td>1.0000</td>\n",
       "      <td>0.9999</td>\n",
       "      <td>0.9924</td>\n",
       "      <td>0.9994</td>\n",
       "    </tr>\n",
       "    <tr>\n",
       "      <th>1</th>\n",
       "      <td>0x3fa0ad6c190222de</td>\n",
       "      <td>1000</td>\n",
       "      <td>0.9993</td>\n",
       "      <td>1.0</td>\n",
       "      <td>0.9990</td>\n",
       "      <td>1.0</td>\n",
       "      <td>0.9999</td>\n",
       "      <td>0.9996</td>\n",
       "      <td>0.9994</td>\n",
       "      <td>0.9999</td>\n",
       "      <td>0.9998</td>\n",
       "      <td>0.9955</td>\n",
       "      <td>0.9996</td>\n",
       "    </tr>\n",
       "    <tr>\n",
       "      <th>0</th>\n",
       "      <td>0xa004c1070bb7615c</td>\n",
       "      <td>1200</td>\n",
       "      <td>0.9994</td>\n",
       "      <td>1.0</td>\n",
       "      <td>0.9991</td>\n",
       "      <td>1.0</td>\n",
       "      <td>0.9999</td>\n",
       "      <td>0.9998</td>\n",
       "      <td>0.9997</td>\n",
       "      <td>0.9999</td>\n",
       "      <td>0.9998</td>\n",
       "      <td>0.9956</td>\n",
       "      <td>0.9998</td>\n",
       "    </tr>\n",
       "  </tbody>\n",
       "</table>\n",
       "</div>"
      ],
      "text/plain": [
       "              span_id  nr_train_images  roc_auc_mean  roc_auc.0  roc_auc.1  \\\n",
       "3  0xe8f6fd2222e91ae0              600        0.9990        1.0     0.9993   \n",
       "2  0xcfe326fcdf6f96b6              800        0.9989        1.0     0.9988   \n",
       "1  0x3fa0ad6c190222de             1000        0.9993        1.0     0.9990   \n",
       "0  0xa004c1070bb7615c             1200        0.9994        1.0     0.9991   \n",
       "\n",
       "   roc_auc.2  roc_auc.3  roc_auc.4  roc_auc.5  roc_auc.6  roc_auc.7  \\\n",
       "3        1.0     0.9997     0.9991     0.9989     0.9999     0.9998   \n",
       "2        1.0     0.9999     0.9995     0.9991     1.0000     0.9999   \n",
       "1        1.0     0.9999     0.9996     0.9994     0.9999     0.9998   \n",
       "0        1.0     0.9999     0.9998     0.9997     0.9999     0.9998   \n",
       "\n",
       "   roc_auc.8  roc_auc.9  \n",
       "3     0.9946     0.9987  \n",
       "2     0.9924     0.9994  \n",
       "1     0.9955     0.9996  \n",
       "0     0.9956     0.9998  "
      ]
     },
     "execution_count": 10,
     "metadata": {},
     "output_type": "execute_result"
    }
   ],
   "source": [
    "df_data.round(4)"
   ]
  },
  {
   "cell_type": "code",
   "execution_count": 11,
   "id": "1be80308",
   "metadata": {
    "execution": {
     "iopub.execute_input": "2023-07-19T06:36:23.283721Z",
     "iopub.status.busy": "2023-07-19T06:36:23.283119Z",
     "iopub.status.idle": "2023-07-19T06:36:23.493781Z",
     "shell.execute_reply": "2023-07-19T06:36:23.493134Z"
    },
    "papermill": {
     "duration": 0.216492,
     "end_time": "2023-07-19T06:36:23.495603",
     "exception": false,
     "start_time": "2023-07-19T06:36:23.279111",
     "status": "completed"
    },
    "tags": []
   },
   "outputs": [
    {
     "data": {
      "image/png": "[encoded data removed]",
      "text/plain": [
       "<Figure size 1600x400 with 1 Axes>"
      ]
     },
     "metadata": {},
     "output_type": "display_data"
    }
   ],
   "source": [
    "def plot_classifier_performance_summary(df_data):\n",
    "    fig, ax = plt.subplots(nrows=1, ncols=1, figsize=(16, 4), sharex=True)\n",
    "\n",
    "    #\n",
    "    ax.plot(\n",
    "        df_data[\"nr_train_images\"], df_data[\"roc_auc_mean\"], marker=\"o\", linestyle=\"--\"\n",
    "    )\n",
    "    ax.set_title(\n",
    "        f\"ROC AUC digit classifier performance on evaluation digits\", fontsize=17\n",
    "    )\n",
    "    ax.set_xlabel(\"Total number of digits in training set\", fontsize=14)\n",
    "    ax.set_ylabel(\"Mean ROC AUC\", fontsize=14)\n",
    "\n",
    "    fig.tight_layout()\n",
    "    fig.show()\n",
    "\n",
    "    return fig\n",
    "\n",
    "\n",
    "fig = plot_classifier_performance_summary(df_data)"
   ]
  },
  {
   "cell_type": "code",
   "execution_count": 12,
   "id": "e4d5f244",
   "metadata": {
    "execution": {
     "iopub.execute_input": "2023-07-19T06:36:23.506559Z",
     "iopub.status.busy": "2023-07-19T06:36:23.504981Z",
     "iopub.status.idle": "2023-07-19T06:36:23.584252Z",
     "shell.execute_reply": "2023-07-19T06:36:23.583602Z"
    },
    "papermill": {
     "duration": 0.086303,
     "end_time": "2023-07-19T06:36:23.586116",
     "exception": false,
     "start_time": "2023-07-19T06:36:23.499813",
     "status": "completed"
    },
    "tags": []
   },
   "outputs": [],
   "source": [
    "logger.log_figure(\"auc-roc-model-performances.png\", fig)"
   ]
  },
  {
   "cell_type": "code",
   "execution_count": 13,
   "id": "4352c6ac",
   "metadata": {
    "execution": {
     "iopub.execute_input": "2023-07-19T06:36:23.595999Z",
     "iopub.status.busy": "2023-07-19T06:36:23.595325Z",
     "iopub.status.idle": "2023-07-19T06:36:23.598475Z",
     "shell.execute_reply": "2023-07-19T06:36:23.597929Z"
    },
    "papermill": {
     "duration": 0.009793,
     "end_time": "2023-07-19T06:36:23.600029",
     "exception": false,
     "start_time": "2023-07-19T06:36:23.590236",
     "status": "completed"
    },
    "tags": []
   },
   "outputs": [],
   "source": [
    "###"
   ]
  },
  {
   "cell_type": "code",
   "execution_count": null,
   "id": "4539094a",
   "metadata": {
    "papermill": {
     "duration": 0.003942,
     "end_time": "2023-07-19T06:36:23.608422",
     "exception": false,
     "start_time": "2023-07-19T06:36:23.604480",
     "status": "completed"
    },
    "tags": []
   },
   "outputs": [],
   "source": []
  }
 ],
 "metadata": {
  "jupytext": {
   "cell_metadata_filter": "tags,-all",
   "main_language": "python",
   "notebook_metadata_filter": "-all"
  },
  "language_info": {
   "codemirror_mode": {
    "name": "ipython",
    "version": 3
   },
   "file_extension": ".py",
   "mimetype": "text/x-python",
   "name": "python",
   "nbconvert_exporter": "python",
   "pygments_lexer": "ipython3",
   "version": "3.8.10"
  },
  "papermill": {
   "default_parameters": {},
   "duration": 4.736277,
   "end_time": "2023-07-19T06:36:25.540559",
   "environment_variables": {},
   "exception": null,
   "input_path": "/tmp/temp-notebook-fd0l95np.ipynb",
   "output_path": "/tmp/temp-notebook-fd0l95np.ipynb",
   "parameters": {
    "P": {
     "_parameters_actor_name": "parameter_for_task_0xe662bc52bdcc7c20"
    }
   },
   "start_time": "2023-07-19T06:36:20.804282",
   "version": "2.4.0"
  }
 },
 "nbformat": 4,
 "nbformat_minor": 5
}