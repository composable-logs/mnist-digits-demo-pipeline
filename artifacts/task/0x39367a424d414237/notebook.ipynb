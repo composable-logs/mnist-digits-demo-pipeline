{
 "cells": [
  {
   "cell_type": "markdown",
   "id": "3d93714d",
   "metadata": {
    "papermill": {
     "duration": 0.006956,
     "end_time": "2023-07-26T06:35:19.127387",
     "exception": false,
     "start_time": "2023-07-26T06:35:19.120431",
     "status": "completed"
    },
    "tags": []
   },
   "source": [
    "# Benchmark model\n",
    "\n",
    "The purpose of this notebook is to benchmark persisted onnx-model (trained in the\n",
    "previous step) against evaluation set."
   ]
  },
  {
   "cell_type": "markdown",
   "id": "11f09dc3",
   "metadata": {
    "papermill": {
     "duration": 0.008738,
     "end_time": "2023-07-26T06:35:19.164621",
     "exception": false,
     "start_time": "2023-07-26T06:35:19.155883",
     "status": "completed"
    },
    "tags": []
   },
   "source": [
    "### Determine run parameters"
   ]
  },
  {
   "cell_type": "code",
   "execution_count": 1,
   "id": "663419ea",
   "metadata": {
    "execution": {
     "iopub.execute_input": "2023-07-26T06:35:19.198072Z",
     "iopub.status.busy": "2023-07-26T06:35:19.197761Z",
     "iopub.status.idle": "2023-07-26T06:35:19.214849Z",
     "shell.execute_reply": "2023-07-26T06:35:19.214055Z"
    },
    "lines_to_next_cell": 0,
    "papermill": {
     "duration": 0.042034,
     "end_time": "2023-07-26T06:35:19.221153",
     "exception": false,
     "start_time": "2023-07-26T06:35:19.179119",
     "status": "completed"
    },
    "tags": []
   },
   "outputs": [],
   "source": [
    "# ----------------- Parameters for interactive development --------------\n",
    "P = {\n",
    "    \"workflow.data_lake_root\": \"/pipeline-outputs/data-lake\",\n",
    "    \"task.nr_train_images\": 600,\n",
    "}"
   ]
  },
  {
   "cell_type": "code",
   "execution_count": 2,
   "id": "801697fd",
   "metadata": {
    "execution": {
     "iopub.execute_input": "2023-07-26T06:35:19.233679Z",
     "iopub.status.busy": "2023-07-26T06:35:19.233319Z",
     "iopub.status.idle": "2023-07-26T06:35:19.238771Z",
     "shell.execute_reply": "2023-07-26T06:35:19.238064Z"
    },
    "lines_to_next_cell": 0,
    "papermill": {
     "duration": 0.013857,
     "end_time": "2023-07-26T06:35:19.241026",
     "exception": false,
     "start_time": "2023-07-26T06:35:19.227169",
     "status": "completed"
    },
    "tags": [
     "parameters"
    ]
   },
   "outputs": [],
   "source": [
    "# - During automated runs parameters will be injected in the below cell -"
   ]
  },
  {
   "cell_type": "code",
   "execution_count": 3,
   "id": "c1689a32",
   "metadata": {
    "execution": {
     "iopub.execute_input": "2023-07-26T06:35:19.252776Z",
     "iopub.status.busy": "2023-07-26T06:35:19.252498Z",
     "iopub.status.idle": "2023-07-26T06:35:19.257728Z",
     "shell.execute_reply": "2023-07-26T06:35:19.257055Z"
    },
    "papermill": {
     "duration": 0.014178,
     "end_time": "2023-07-26T06:35:19.260066",
     "exception": false,
     "start_time": "2023-07-26T06:35:19.245888",
     "status": "completed"
    },
    "tags": [
     "injected-parameters"
    ]
   },
   "outputs": [],
   "source": [
    "# Parameters\n",
    "P = {\n",
    "    \"task.nr_train_images\": 600,\n",
    "    \"_parameters_actor_name\": \"parameter_for_task_0x39367a424d414237\",\n",
    "}\n"
   ]
  },
  {
   "cell_type": "code",
   "execution_count": 4,
   "id": "9d55ea85",
   "metadata": {
    "execution": {
     "iopub.execute_input": "2023-07-26T06:35:19.273748Z",
     "iopub.status.busy": "2023-07-26T06:35:19.273462Z",
     "iopub.status.idle": "2023-07-26T06:35:19.278658Z",
     "shell.execute_reply": "2023-07-26T06:35:19.278013Z"
    },
    "lines_to_next_cell": 0,
    "papermill": {
     "duration": 0.01481,
     "end_time": "2023-07-26T06:35:19.281047",
     "exception": false,
     "start_time": "2023-07-26T06:35:19.266237",
     "status": "completed"
    },
    "tags": []
   },
   "outputs": [],
   "source": [
    "# -----------------------------------------------------------------------"
   ]
  },
  {
   "cell_type": "markdown",
   "id": "35d94aa4",
   "metadata": {
    "papermill": {
     "duration": 0.005457,
     "end_time": "2023-07-26T06:35:19.291728",
     "exception": false,
     "start_time": "2023-07-26T06:35:19.286271",
     "status": "completed"
    },
    "tags": []
   },
   "source": [
    "---"
   ]
  },
  {
   "cell_type": "markdown",
   "id": "e8975808",
   "metadata": {
    "lines_to_next_cell": 2,
    "papermill": {
     "duration": 0.005659,
     "end_time": "2023-07-26T06:35:19.302110",
     "exception": false,
     "start_time": "2023-07-26T06:35:19.296451",
     "status": "completed"
    },
    "tags": []
   },
   "source": [
    "### Notebook code"
   ]
  },
  {
   "cell_type": "code",
   "execution_count": 5,
   "id": "141743e9",
   "metadata": {
    "execution": {
     "iopub.execute_input": "2023-07-26T06:35:19.314007Z",
     "iopub.status.busy": "2023-07-26T06:35:19.313693Z",
     "iopub.status.idle": "2023-07-26T06:35:20.450662Z",
     "shell.execute_reply": "2023-07-26T06:35:20.449679Z"
    },
    "papermill": {
     "duration": 1.145855,
     "end_time": "2023-07-26T06:35:20.452821",
     "exception": false,
     "start_time": "2023-07-26T06:35:19.306966",
     "status": "completed"
    },
    "tags": []
   },
   "outputs": [
    {
     "name": "stderr",
     "output_type": "stream",
     "text": [
      "2023-07-26 06:35:20,337\tINFO worker.py:1364 -- Connecting to existing Ray cluster at address: 172.17.0.2:62462...\n"
     ]
    },
    {
     "name": "stderr",
     "output_type": "stream",
     "text": [
      "2023-07-26 06:35:20,355\tINFO worker.py:1544 -- Connected to Ray cluster. View the dashboard at \u001b[1m\u001b[32mhttp://127.0.0.1:8265 \u001b[39m\u001b[22m\n"
     ]
    },
    {
     "name": "stderr",
     "output_type": "stream",
     "text": [
      "/home/host_user/.local/lib/python3.8/site-packages/ray/runtime_context.py:27: RayDeprecationWarning: This API is deprecated and may be removed in future Ray releases. You could suppress this warning by setting env variable PYTHONWARNINGS=\"ignore::DeprecationWarning\"\n",
      "Use get_job_id() instead\n",
      "  \"job_id\": self.job_id,\n",
      "/home/host_user/.local/lib/python3.8/site-packages/ray/runtime_context.py:28: RayDeprecationWarning: This API is deprecated and may be removed in future Ray releases. You could suppress this warning by setting env variable PYTHONWARNINGS=\"ignore::DeprecationWarning\"\n",
      "Use get_node_id() instead\n",
      "  \"node_id\": self.node_id,\n"
     ]
    }
   ],
   "source": [
    "import itertools as it\n",
    "\n",
    "#\n",
    "import numpy as np\n",
    "import matplotlib.pyplot as plt\n",
    "\n",
    "#\n",
    "from composable_logs.tasks.task_opentelemetry_logging import get_task_context\n",
    "\n",
    "#\n",
    "from common.io import datalake_root\n",
    "\n",
    "ctx = get_task_context(P)"
   ]
  },
  {
   "cell_type": "markdown",
   "id": "5fa91bab",
   "metadata": {
    "papermill": {
     "duration": 0.005637,
     "end_time": "2023-07-26T06:35:20.464154",
     "exception": false,
     "start_time": "2023-07-26T06:35:20.458517",
     "status": "completed"
    },
    "tags": []
   },
   "source": [
    "## Load persisted onnx-model and evaluation data"
   ]
  },
  {
   "cell_type": "code",
   "execution_count": 6,
   "id": "aa067718",
   "metadata": {
    "execution": {
     "iopub.execute_input": "2023-07-26T06:35:20.476600Z",
     "iopub.status.busy": "2023-07-26T06:35:20.476284Z",
     "iopub.status.idle": "2023-07-26T06:35:20.488518Z",
     "shell.execute_reply": "2023-07-26T06:35:20.480465Z"
    },
    "papermill": {
     "duration": 0.023148,
     "end_time": "2023-07-26T06:35:20.492279",
     "exception": false,
     "start_time": "2023-07-26T06:35:20.469131",
     "status": "completed"
    },
    "tags": []
   },
   "outputs": [],
   "source": [
    "from common.io import read_onnx, get_onnx_inputs, get_onnx_outputs, read_numpy"
   ]
  },
  {
   "cell_type": "code",
   "execution_count": 7,
   "id": "3ada152d",
   "metadata": {
    "execution": {
     "iopub.execute_input": "2023-07-26T06:35:20.506196Z",
     "iopub.status.busy": "2023-07-26T06:35:20.505888Z",
     "iopub.status.idle": "2023-07-26T06:35:20.516293Z",
     "shell.execute_reply": "2023-07-26T06:35:20.515615Z"
    },
    "lines_to_next_cell": 0,
    "papermill": {
     "duration": 0.019056,
     "end_time": "2023-07-26T06:35:20.518357",
     "exception": false,
     "start_time": "2023-07-26T06:35:20.499301",
     "status": "completed"
    },
    "tags": []
   },
   "outputs": [],
   "source": [
    "onnx_inference_session = read_onnx(\n",
    "    datalake_root(ctx)\n",
    "    / \"models\"\n",
    "    / f\"nr_train_images={ctx.parameters['task.nr_train_images']}\"\n",
    "    / \"model.onnx\"\n",
    ")"
   ]
  },
  {
   "cell_type": "markdown",
   "id": "2f940686",
   "metadata": {
    "papermill": {
     "duration": 0.004994,
     "end_time": "2023-07-26T06:35:20.528623",
     "exception": false,
     "start_time": "2023-07-26T06:35:20.523629",
     "status": "completed"
    },
    "tags": []
   },
   "source": [
    "### Record structure of inputs and outputs for ONNX model\n",
    "\n",
    "(this should likely be done in training notebook)"
   ]
  },
  {
   "cell_type": "code",
   "execution_count": 8,
   "id": "e963b105",
   "metadata": {
    "execution": {
     "iopub.execute_input": "2023-07-26T06:35:20.541100Z",
     "iopub.status.busy": "2023-07-26T06:35:20.540776Z",
     "iopub.status.idle": "2023-07-26T06:35:20.548446Z",
     "shell.execute_reply": "2023-07-26T06:35:20.546664Z"
    },
    "papermill": {
     "duration": 0.016531,
     "end_time": "2023-07-26T06:35:20.550386",
     "exception": false,
     "start_time": "2023-07-26T06:35:20.533855",
     "status": "completed"
    },
    "tags": []
   },
   "outputs": [
    {
     "name": "stdout",
     "output_type": "stream",
     "text": [
      "{\n",
      "  \"inputs\": [\n",
      "    {\n",
      "      \"name\": \"float_input_8x8_image\",\n",
      "      \"shape\": [\n",
      "        null,\n",
      "        64\n",
      "      ],\n",
      "      \"type\": \"tensor(float)\"\n",
      "    }\n",
      "  ],\n",
      "  \"outputs\": [\n",
      "    {\n",
      "      \"name\": \"output_label\",\n",
      "      \"shape\": [\n",
      "        null\n",
      "      ],\n",
      "      \"type\": \"tensor(int64)\"\n",
      "    },\n",
      "    {\n",
      "      \"name\": \"output_probability\",\n",
      "      \"shape\": [],\n",
      "      \"type\": \"seq(map(int64,tensor(float)))\"\n",
      "    }\n",
      "  ]\n",
      "}\n"
     ]
    }
   ],
   "source": [
    "import json\n",
    "\n",
    "onnx_io = json.dumps(\n",
    "    {\n",
    "        \"inputs\": get_onnx_inputs(onnx_inference_session),\n",
    "        \"outputs\": get_onnx_outputs(onnx_inference_session),\n",
    "    },\n",
    "    indent=2,\n",
    ")\n",
    "\n",
    "\n",
    "ctx.log_artefact(\"onnx_io_structure.json\", onnx_io)\n",
    "print(onnx_io)"
   ]
  },
  {
   "cell_type": "markdown",
   "id": "803eae1f",
   "metadata": {
    "papermill": {
     "duration": 0.005778,
     "end_time": "2023-07-26T06:35:20.562222",
     "exception": false,
     "start_time": "2023-07-26T06:35:20.556444",
     "status": "completed"
    },
    "tags": []
   },
   "source": [
    "### Evaluate model performance on evaluation data set"
   ]
  },
  {
   "cell_type": "code",
   "execution_count": 9,
   "id": "d8f08dfe",
   "metadata": {
    "execution": {
     "iopub.execute_input": "2023-07-26T06:35:20.574909Z",
     "iopub.status.busy": "2023-07-26T06:35:20.574535Z",
     "iopub.status.idle": "2023-07-26T06:35:20.583767Z",
     "shell.execute_reply": "2023-07-26T06:35:20.583058Z"
    },
    "papermill": {
     "duration": 0.018778,
     "end_time": "2023-07-26T06:35:20.586410",
     "exception": false,
     "start_time": "2023-07-26T06:35:20.567632",
     "status": "completed"
    },
    "tags": []
   },
   "outputs": [],
   "source": [
    "# load evaluation data\n",
    "X_test = read_numpy(datalake_root(ctx) / \"test-data\" / \"digits.numpy\")\n",
    "y_test = read_numpy(datalake_root(ctx) / \"test-data\" / \"labels.numpy\")"
   ]
  },
  {
   "cell_type": "code",
   "execution_count": 10,
   "id": "b43004eb",
   "metadata": {
    "execution": {
     "iopub.execute_input": "2023-07-26T06:35:20.609606Z",
     "iopub.status.busy": "2023-07-26T06:35:20.609213Z",
     "iopub.status.idle": "2023-07-26T06:35:20.624620Z",
     "shell.execute_reply": "2023-07-26T06:35:20.623927Z"
    },
    "papermill": {
     "duration": 0.024513,
     "end_time": "2023-07-26T06:35:20.626799",
     "exception": false,
     "start_time": "2023-07-26T06:35:20.602286",
     "status": "completed"
    },
    "tags": []
   },
   "outputs": [],
   "source": [
    "def get_model_outputs(X, onnx_inference_session):\n",
    "    y_pred_labels, y_pred_map = onnx_inference_session.run(\n",
    "        [\"output_label\", \"output_probability\"],\n",
    "        {\"float_input_8x8_image\": X.astype(np.float32)},\n",
    "    )\n",
    "    y_pred_probs = np.array(\n",
    "        [[probabilities[digit] for digit in range(10)] for probabilities in y_pred_map]\n",
    "    )\n",
    "\n",
    "    assert y_pred_labels.shape == (X.shape[0],)\n",
    "    assert y_pred_probs.shape == (X.shape[0], 10)\n",
    "\n",
    "    return y_pred_labels, y_pred_probs\n",
    "\n",
    "\n",
    "# Note: as shown in the training notebook, the predicted labels and probabilities\n",
    "# computed below need not be compatible.\n",
    "y_pred_labels_test, y_pred_probs_test = get_model_outputs(\n",
    "    X_test, onnx_inference_session\n",
    ")"
   ]
  },
  {
   "cell_type": "markdown",
   "id": "2e48c9ef",
   "metadata": {
    "papermill": {
     "duration": 0.005098,
     "end_time": "2023-07-26T06:35:20.637471",
     "exception": false,
     "start_time": "2023-07-26T06:35:20.632373",
     "status": "completed"
    },
    "tags": []
   },
   "source": [
    "### Confusion matrix"
   ]
  },
  {
   "cell_type": "code",
   "execution_count": 11,
   "id": "541d11de",
   "metadata": {
    "execution": {
     "iopub.execute_input": "2023-07-26T06:35:20.650023Z",
     "iopub.status.busy": "2023-07-26T06:35:20.649729Z",
     "iopub.status.idle": "2023-07-26T06:35:20.654582Z",
     "shell.execute_reply": "2023-07-26T06:35:20.653941Z"
    },
    "papermill": {
     "duration": 0.014022,
     "end_time": "2023-07-26T06:35:20.656810",
     "exception": false,
     "start_time": "2023-07-26T06:35:20.642788",
     "status": "completed"
    },
    "tags": []
   },
   "outputs": [],
   "source": [
    "# TODO"
   ]
  },
  {
   "cell_type": "markdown",
   "id": "dbcfed33",
   "metadata": {
    "papermill": {
     "duration": 0.005118,
     "end_time": "2023-07-26T06:35:20.667758",
     "exception": false,
     "start_time": "2023-07-26T06:35:20.662640",
     "status": "completed"
    },
    "tags": []
   },
   "source": [
    "### Plot predicted probabilities for each classifier over all evaluation digit images"
   ]
  },
  {
   "cell_type": "code",
   "execution_count": 12,
   "id": "5a9a30c7",
   "metadata": {
    "execution": {
     "iopub.execute_input": "2023-07-26T06:35:20.681167Z",
     "iopub.status.busy": "2023-07-26T06:35:20.680764Z",
     "iopub.status.idle": "2023-07-26T06:35:25.378656Z",
     "shell.execute_reply": "2023-07-26T06:35:25.377885Z"
    },
    "papermill": {
     "duration": 4.714619,
     "end_time": "2023-07-26T06:35:25.388453",
     "exception": false,
     "start_time": "2023-07-26T06:35:20.673834",
     "status": "completed"
    },
    "tags": []
   },
   "outputs": [
    {
     "data": {
      "image/png": "[encoded data removed]",
      "text/plain": [
       "<Figure size 1600x600 with 10 Axes>"
      ]
     },
     "metadata": {},
     "output_type": "display_data"
    }
   ],
   "source": [
    "def plot_per_digit_probabilities(y_pred_probs):\n",
    "    fig, axs = plt.subplots(nrows=2, ncols=5, figsize=(16, 6))\n",
    "\n",
    "    for (r, c), digit, ax in zip(\n",
    "        it.product(range(2), range(5)), range(10), axs.reshape(-1)\n",
    "    ):\n",
    "        ax.hist(y_pred_probs_test[:, digit], bins=20)\n",
    "\n",
    "        ax.set_title(f\"Digit {digit}\")\n",
    "        if r == 1 and c == 2:\n",
    "            ax.set_xlabel(\"probability\", fontsize=16)\n",
    "\n",
    "        if c == 0:\n",
    "            ax.set_ylabel(\"counts\", fontsize=16)\n",
    "        ax.set_yscale(\"log\")\n",
    "\n",
    "    fig.tight_layout()\n",
    "    fig.suptitle(\n",
    "        f\"Distributions of prediction probabilities for each digit \"\n",
    "        f\"(on evaluation data, n={y_pred_probs.shape[0]})\",\n",
    "        fontsize=20,\n",
    "    )\n",
    "    fig.tight_layout()\n",
    "    fig.show()\n",
    "\n",
    "    return fig\n",
    "\n",
    "\n",
    "fig = plot_per_digit_probabilities(y_pred_probs_test)"
   ]
  },
  {
   "cell_type": "markdown",
   "id": "7d032842",
   "metadata": {
    "papermill": {
     "duration": 0.00776,
     "end_time": "2023-07-26T06:35:25.408552",
     "exception": false,
     "start_time": "2023-07-26T06:35:25.400792",
     "status": "completed"
    },
    "tags": []
   },
   "source": [
    "From the above distributions we see that most digits have clear separation between\n",
    "high and lower probabilities. Morover, in each case there is roughly an order of\n",
    "magnitude more of digits with low probabilities. This is compatible with digits\n",
    "being roughly evenly distributed in the data."
   ]
  },
  {
   "cell_type": "code",
   "execution_count": 13,
   "id": "de18ecf3",
   "metadata": {
    "execution": {
     "iopub.execute_input": "2023-07-26T06:35:25.432332Z",
     "iopub.status.busy": "2023-07-26T06:35:25.431527Z",
     "iopub.status.idle": "2023-07-26T06:35:26.197869Z",
     "shell.execute_reply": "2023-07-26T06:35:26.197132Z"
    },
    "papermill": {
     "duration": 0.781105,
     "end_time": "2023-07-26T06:35:26.200224",
     "exception": false,
     "start_time": "2023-07-26T06:35:25.419119",
     "status": "completed"
    },
    "tags": []
   },
   "outputs": [],
   "source": [
    "ctx.log_figure(\"per-digit-probabilities.png\", fig)"
   ]
  },
  {
   "cell_type": "markdown",
   "id": "35d4d817",
   "metadata": {
    "papermill": {
     "duration": 0.00689,
     "end_time": "2023-07-26T06:35:26.213663",
     "exception": false,
     "start_time": "2023-07-26T06:35:26.206773",
     "status": "completed"
    },
    "tags": []
   },
   "source": [
    "### Plot ROC curves for individual one-vs-rest classifiers"
   ]
  },
  {
   "cell_type": "code",
   "execution_count": 14,
   "id": "4dc423cf",
   "metadata": {
    "execution": {
     "iopub.execute_input": "2023-07-26T06:35:26.227947Z",
     "iopub.status.busy": "2023-07-26T06:35:26.227619Z",
     "iopub.status.idle": "2023-07-26T06:35:26.659316Z",
     "shell.execute_reply": "2023-07-26T06:35:26.647616Z"
    },
    "papermill": {
     "duration": 0.463909,
     "end_time": "2023-07-26T06:35:26.684059",
     "exception": false,
     "start_time": "2023-07-26T06:35:26.220150",
     "status": "completed"
    },
    "tags": []
   },
   "outputs": [],
   "source": [
    "from sklearn import metrics"
   ]
  },
  {
   "cell_type": "code",
   "execution_count": 15,
   "id": "a54e3cc3",
   "metadata": {
    "execution": {
     "iopub.execute_input": "2023-07-26T06:35:26.782848Z",
     "iopub.status.busy": "2023-07-26T06:35:26.782475Z",
     "iopub.status.idle": "2023-07-26T06:35:29.524960Z",
     "shell.execute_reply": "2023-07-26T06:35:29.524245Z"
    },
    "papermill": {
     "duration": 2.75528,
     "end_time": "2023-07-26T06:35:29.528977",
     "exception": false,
     "start_time": "2023-07-26T06:35:26.773697",
     "status": "completed"
    },
    "tags": []
   },
   "outputs": [
    {
     "data": {
      "image/png": "[encoded data removed]",
      "text/plain": [
       "<Figure size 1600x800 with 10 Axes>"
      ]
     },
     "metadata": {},
     "output_type": "display_data"
    }
   ],
   "source": [
    "def plot_roc_curves(y, y_pred_probs):\n",
    "    # based on example code\n",
    "    # https://scikit-learn.org/stable/auto_examples/model_selection/plot_roc.html\n",
    "\n",
    "    fig, axs = plt.subplots(nrows=2, ncols=5, figsize=(16, 8))\n",
    "\n",
    "    roc_auc_dict = {}\n",
    "\n",
    "    for (r, c), digit, ax in zip(\n",
    "        it.product(range(2), range(5)), range(10), axs.reshape(-1)\n",
    "    ):\n",
    "        fpr, tpr, _ = metrics.roc_curve(y == digit, y_pred_probs[:, digit])\n",
    "        auc = metrics.auc(fpr, tpr)\n",
    "        roc_auc_dict[str(digit)] = auc\n",
    "\n",
    "        ax.plot(fpr, tpr, label=f\"ROC AUC={round(auc, 3)}\")\n",
    "\n",
    "        ax.set_title(f\"\\nDigit {digit}\", fontsize=16)\n",
    "        if r == 1:\n",
    "            ax.set_xlabel(\"FPR\", fontsize=18)\n",
    "\n",
    "        if c == 0:\n",
    "            ax.set_ylabel(\"TPR\", fontsize=18)\n",
    "\n",
    "        ax.set_xlim([-0.05, 1.05])\n",
    "        ax.set_ylim([-0.05, 1.05])\n",
    "        ax.legend(loc=\"lower right\", frameon=False, fontsize=14)\n",
    "\n",
    "    fig.tight_layout()\n",
    "    fig.suptitle(\n",
    "        f\"ROC plots for one-vs-rest performances \"\n",
    "        f\"(on evaluation data, n={y_pred_probs_test.shape[1]}\",\n",
    "        fontsize=22,\n",
    "    )\n",
    "    fig.tight_layout()\n",
    "    fig.show()\n",
    "\n",
    "    return roc_auc_dict, fig\n",
    "\n",
    "\n",
    "roc_auc_dict, fig = plot_roc_curves(y_test, y_pred_probs_test)"
   ]
  },
  {
   "cell_type": "code",
   "execution_count": 16,
   "id": "0ccf9bcd",
   "metadata": {
    "execution": {
     "iopub.execute_input": "2023-07-26T06:35:29.554682Z",
     "iopub.status.busy": "2023-07-26T06:35:29.554301Z",
     "iopub.status.idle": "2023-07-26T06:35:29.971819Z",
     "shell.execute_reply": "2023-07-26T06:35:29.971068Z"
    },
    "papermill": {
     "duration": 0.429248,
     "end_time": "2023-07-26T06:35:29.974202",
     "exception": false,
     "start_time": "2023-07-26T06:35:29.544954",
     "status": "completed"
    },
    "tags": []
   },
   "outputs": [],
   "source": [
    "ctx.log_figure(\"per-digit-roc-curves.png\", fig)"
   ]
  },
  {
   "cell_type": "code",
   "execution_count": 17,
   "id": "abb51a98",
   "metadata": {
    "execution": {
     "iopub.execute_input": "2023-07-26T06:35:29.991716Z",
     "iopub.status.busy": "2023-07-26T06:35:29.991374Z",
     "iopub.status.idle": "2023-07-26T06:35:29.999661Z",
     "shell.execute_reply": "2023-07-26T06:35:29.998964Z"
    },
    "papermill": {
     "duration": 0.019513,
     "end_time": "2023-07-26T06:35:30.001652",
     "exception": false,
     "start_time": "2023-07-26T06:35:29.982139",
     "status": "completed"
    },
    "tags": []
   },
   "outputs": [
    {
     "data": {
      "text/plain": [
       "{'0': 1.0,\n",
       " '1': 0.9991377694470478,\n",
       " '2': 1.0,\n",
       " '3': 0.9998125585754452,\n",
       " '4': 0.9991617131534827,\n",
       " '5': 0.998912839737582,\n",
       " '6': 0.999923792104862,\n",
       " '7': 0.9998475842097241,\n",
       " '8': 0.994640605296343,\n",
       " '9': 0.9989330894680689}"
      ]
     },
     "execution_count": 17,
     "metadata": {},
     "output_type": "execute_result"
    }
   ],
   "source": [
    "roc_auc_dict"
   ]
  },
  {
   "cell_type": "code",
   "execution_count": 18,
   "id": "0a4ce82f",
   "metadata": {
    "execution": {
     "iopub.execute_input": "2023-07-26T06:35:30.019141Z",
     "iopub.status.busy": "2023-07-26T06:35:30.018810Z",
     "iopub.status.idle": "2023-07-26T06:35:30.026376Z",
     "shell.execute_reply": "2023-07-26T06:35:30.025724Z"
    },
    "papermill": {
     "duration": 0.018588,
     "end_time": "2023-07-26T06:35:30.028346",
     "exception": false,
     "start_time": "2023-07-26T06:35:30.009758",
     "status": "completed"
    },
    "tags": []
   },
   "outputs": [
    {
     "name": "stdout",
     "output_type": "stream",
     "text": [
      " - Logging roc_auc_per_digit (json) : {'0': 1.0, '1': 0.9991377694470478, '2': 1.0, '3': 0.9998125585754452, '4': 0.9991617131534827, '5': 0.998912839737582, '6': 0.999923792104862, '7': 0.9998475842097241, '8': 0.994640605296343, '9': 0.9989330894680689}\n"
     ]
    }
   ],
   "source": [
    "ctx.log_value(\"roc_auc_per_digit\", roc_auc_dict)"
   ]
  },
  {
   "cell_type": "markdown",
   "id": "0b977b9b",
   "metadata": {
    "papermill": {
     "duration": 0.007979,
     "end_time": "2023-07-26T06:35:30.044096",
     "exception": false,
     "start_time": "2023-07-26T06:35:30.036117",
     "status": "completed"
    },
    "tags": []
   },
   "source": [
    "### Compute and log mean ROC AUC score averaged over all digits"
   ]
  },
  {
   "cell_type": "code",
   "execution_count": 19,
   "id": "369dfae9",
   "metadata": {
    "execution": {
     "iopub.execute_input": "2023-07-26T06:35:30.069408Z",
     "iopub.status.busy": "2023-07-26T06:35:30.069025Z",
     "iopub.status.idle": "2023-07-26T06:35:30.089247Z",
     "shell.execute_reply": "2023-07-26T06:35:30.088479Z"
    },
    "papermill": {
     "duration": 0.039522,
     "end_time": "2023-07-26T06:35:30.091363",
     "exception": false,
     "start_time": "2023-07-26T06:35:30.051841",
     "status": "completed"
    },
    "tags": []
   },
   "outputs": [
    {
     "name": "stdout",
     "output_type": "stream",
     "text": [
      " - Logging roc_auc_class_mean (float) : 0.9990369951992557\n"
     ]
    }
   ],
   "source": [
    "roc_auc_macro = np.mean(list(roc_auc_dict.values()))\n",
    "\n",
    "ctx.log_float(\"roc_auc_class_mean\", roc_auc_macro)\n",
    "\n",
    "# assert that the same value can be computed directly using sklearn\n",
    "assert roc_auc_macro == metrics.roc_auc_score(\n",
    "    y_test, y_pred_probs_test, average=\"macro\", multi_class=\"ovr\"\n",
    ")"
   ]
  },
  {
   "cell_type": "code",
   "execution_count": 20,
   "id": "e678b874",
   "metadata": {
    "execution": {
     "iopub.execute_input": "2023-07-26T06:35:30.109700Z",
     "iopub.status.busy": "2023-07-26T06:35:30.109361Z",
     "iopub.status.idle": "2023-07-26T06:35:30.114416Z",
     "shell.execute_reply": "2023-07-26T06:35:30.113740Z"
    },
    "lines_to_next_cell": 0,
    "papermill": {
     "duration": 0.016852,
     "end_time": "2023-07-26T06:35:30.116642",
     "exception": false,
     "start_time": "2023-07-26T06:35:30.099790",
     "status": "completed"
    },
    "tags": []
   },
   "outputs": [],
   "source": [
    "# ---"
   ]
  },
  {
   "cell_type": "code",
   "execution_count": null,
   "id": "1ca4f958",
   "metadata": {
    "papermill": {
     "duration": 0.00857,
     "end_time": "2023-07-26T06:35:30.133500",
     "exception": false,
     "start_time": "2023-07-26T06:35:30.124930",
     "status": "completed"
    },
    "tags": []
   },
   "outputs": [],
   "source": []
  }
 ],
 "metadata": {
  "jupytext": {
   "cell_metadata_filter": "tags,-all",
   "main_language": "python",
   "notebook_metadata_filter": "-all"
  },
  "language_info": {
   "codemirror_mode": {
    "name": "ipython",
    "version": 3
   },
   "file_extension": ".py",
   "mimetype": "text/x-python",
   "name": "python",
   "nbconvert_exporter": "python",
   "pygments_lexer": "ipython3",
   "version": "3.8.10"
  },
  "papermill": {
   "default_parameters": {},
   "duration": 15.338877,
   "end_time": "2023-07-26T06:35:32.678302",
   "environment_variables": {},
   "exception": null,
   "input_path": "/tmp/temp-notebook-rpr8smgv.ipynb",
   "output_path": "/tmp/temp-notebook-rpr8smgv.ipynb",
   "parameters": {
    "P": {
     "_parameters_actor_name": "parameter_for_task_0x39367a424d414237",
     "task.nr_train_images": 600
    }
   },
   "start_time": "2023-07-26T06:35:17.339425",
   "version": "2.4.0"
  }
 },
 "nbformat": 4,
 "nbformat_minor": 5
}